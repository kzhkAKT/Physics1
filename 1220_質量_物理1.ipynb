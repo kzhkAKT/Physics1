{
  "nbformat": 4,
  "nbformat_minor": 0,
  "metadata": {
    "colab": {
      "name": "1220_質量_物理1",
      "provenance": [],
      "authorship_tag": "ABX9TyOx/chF5nh05MQE/p1QzCA4",
      "include_colab_link": true
    },
    "kernelspec": {
      "name": "python3",
      "display_name": "Python 3"
    }
  },
  "cells": [
    {
      "cell_type": "markdown",
      "metadata": {
        "id": "view-in-github",
        "colab_type": "text"
      },
      "source": [
        "<a href=\"https://colab.research.google.com/github/kzhkAKT/Physics1/blob/draft/1220_%E8%B3%AA%E9%87%8F_%E7%89%A9%E7%90%861.ipynb\" target=\"_parent\"><img src=\"https://colab.research.google.com/assets/colab-badge.svg\" alt=\"Open In Colab\"/></a>"
      ]
    },
    {
      "cell_type": "markdown",
      "metadata": {
        "id": "EYIU-dYUOaeu",
        "colab_type": "text"
      },
      "source": [
        "### 質量\n",
        "\n",
        "mass: $m,\\ M$\n",
        "\n",
        "> 物体の動かしにくさの度合いを表す量.\n",
        "\n",
        "または, そこに留まろうとする慣性を表す量\n",
        "\n",
        ">> 質量の単位は, 国際単位系/SI単位で **kg**\n",
        "\n",
        "- [さよなら「キログラム原器」 - 130年ぶりに定義が変わる「質量」,2018/11/13](https://news.mynavi.jp/article/20181113-723327/)\n",
        "\n",
        "- [(Former) International Prototype of the Kilogram](https://www.bipm.org/en/bipm/mass/ipk/)"
      ]
    },
    {
      "cell_type": "code",
      "metadata": {
        "id": "tOTIMtwiOcaM",
        "colab_type": "code",
        "outputId": "02ce061d-5bbc-4ad5-de18-c7d89e2a0c57",
        "colab": {
          "base_uri": "https://localhost:8080/",
          "height": 336
        },
        "cellView": "form"
      },
      "source": [
        "#@title 質量は宇宙でも度合いとして存在\n",
        "%%html\n",
        "<iframe width=\"560\" height=\"315\" src=\"https://www.youtube-nocookie.com/embed/hYqx6084mq8\" frameborder=\"0\" allow=\"accelerometer; autoplay; encrypted-media; gyroscope; picture-in-picture\" allowfullscreen></iframe>"
      ],
      "execution_count": 0,
      "outputs": [
        {
          "output_type": "display_data",
          "data": {
            "text/html": [
              "<iframe width=\"560\" height=\"315\" src=\"https://www.youtube-nocookie.com/embed/hYqx6084mq8\" frameborder=\"0\" allow=\"accelerometer; autoplay; encrypted-media; gyroscope; picture-in-picture\" allowfullscreen></iframe>"
            ],
            "text/plain": [
              "<IPython.core.display.HTML object>"
            ]
          },
          "metadata": {
            "tags": []
          }
        }
      ]
    },
    {
      "cell_type": "code",
      "metadata": {
        "id": "BmScz1iTPtlx",
        "colab_type": "code",
        "outputId": "bb4584f8-f375-4626-c46a-e4735023cba7",
        "colab": {
          "base_uri": "https://localhost:8080/",
          "height": 336
        },
        "cellView": "form"
      },
      "source": [
        "#@title 物体の重さと質量\n",
        "%%html\n",
        "<iframe width=\"560\" height=\"315\" src=\"https://www.youtube-nocookie.com/embed/feiyKvfaP2o\" frameborder=\"0\" allow=\"accelerometer; autoplay; encrypted-media; gyroscope; picture-in-picture\" allowfullscreen></iframe>"
      ],
      "execution_count": 1,
      "outputs": [
        {
          "output_type": "display_data",
          "data": {
            "text/html": [
              "<iframe width=\"560\" height=\"315\" src=\"https://www.youtube-nocookie.com/embed/feiyKvfaP2o\" frameborder=\"0\" allow=\"accelerometer; autoplay; encrypted-media; gyroscope; picture-in-picture\" allowfullscreen></iframe>"
            ],
            "text/plain": [
              "<IPython.core.display.HTML object>"
            ]
          },
          "metadata": {
            "tags": []
          }
        }
      ]
    }
  ]
}