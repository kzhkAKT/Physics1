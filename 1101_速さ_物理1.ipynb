{
  "nbformat": 4,
  "nbformat_minor": 0,
  "metadata": {
    "colab": {
      "name": "1101_速さ_物理1",
      "provenance": [],
      "mount_file_id": "1ko3fj7Et3uUihh--l0FmQ631VQEkUGDP",
      "authorship_tag": "ABX9TyNOUYckkGwcs7TJLV4xikIv",
      "include_colab_link": true
    },
    "kernelspec": {
      "name": "python3",
      "display_name": "Python 3"
    },
    "widgets": {
      "application/vnd.jupyter.widget-state+json": {
        "2f5c686f6e424988a3206d1c85c367d6": {
          "model_module": "@jupyter-widgets/controls",
          "model_name": "VBoxModel",
          "model_module_version": "1.5.0",
          "state": {
            "_dom_classes": [
              "widget-interact"
            ],
            "_model_module": "@jupyter-widgets/controls",
            "_model_module_version": "1.5.0",
            "_model_name": "VBoxModel",
            "_view_count": null,
            "_view_module": "@jupyter-widgets/controls",
            "_view_module_version": "1.5.0",
            "_view_name": "VBoxView",
            "box_style": "",
            "children": [
              "IPY_MODEL_ae7e7167a151424d98d14bbc8aee3dd5",
              "IPY_MODEL_d2ce5790638c4cb9bbb0b3b227504f4a",
              "IPY_MODEL_79d540820bc74c54bce70a486a206903"
            ],
            "layout": "IPY_MODEL_5a29ab4eed7d4394adeccc0f85593684"
          }
        },
        "ae7e7167a151424d98d14bbc8aee3dd5": {
          "model_module": "@jupyter-widgets/controls",
          "model_name": "IntSliderModel",
          "model_module_version": "1.5.0",
          "state": {
            "_dom_classes": [],
            "_model_module": "@jupyter-widgets/controls",
            "_model_module_version": "1.5.0",
            "_model_name": "IntSliderModel",
            "_view_count": null,
            "_view_module": "@jupyter-widgets/controls",
            "_view_module_version": "1.5.0",
            "_view_name": "IntSliderView",
            "continuous_update": true,
            "description": "L",
            "description_tooltip": null,
            "disabled": false,
            "layout": "IPY_MODEL_ebd8724d1df844c681b6bda55eacdeac",
            "max": 7000,
            "min": 0,
            "orientation": "horizontal",
            "readout": true,
            "readout_format": "d",
            "step": 500,
            "style": "IPY_MODEL_01bf6915d7c24122b293576fb3488668",
            "value": 3500
          }
        },
        "d2ce5790638c4cb9bbb0b3b227504f4a": {
          "model_module": "@jupyter-widgets/controls",
          "model_name": "IntSliderModel",
          "model_module_version": "1.5.0",
          "state": {
            "_dom_classes": [],
            "_model_module": "@jupyter-widgets/controls",
            "_model_module_version": "1.5.0",
            "_model_name": "IntSliderModel",
            "_view_count": null,
            "_view_module": "@jupyter-widgets/controls",
            "_view_module_version": "1.5.0",
            "_view_name": "IntSliderView",
            "continuous_update": true,
            "description": "T",
            "description_tooltip": null,
            "disabled": false,
            "layout": "IPY_MODEL_3eff1ef0b4e64cf4a2796a1045a3faa2",
            "max": 450,
            "min": 0,
            "orientation": "horizontal",
            "readout": true,
            "readout_format": "d",
            "step": 50,
            "style": "IPY_MODEL_ab70fbb05e4f477cb493e212efe26cc2",
            "value": 200
          }
        },
        "79d540820bc74c54bce70a486a206903": {
          "model_module": "@jupyter-widgets/output",
          "model_name": "OutputModel",
          "model_module_version": "1.0.0",
          "state": {
            "_dom_classes": [],
            "_model_module": "@jupyter-widgets/output",
            "_model_module_version": "1.0.0",
            "_model_name": "OutputModel",
            "_view_count": null,
            "_view_module": "@jupyter-widgets/output",
            "_view_module_version": "1.0.0",
            "_view_name": "OutputView",
            "layout": "IPY_MODEL_c1695e812ecd42a2bd21cbe8a67f7f79",
            "msg_id": "",
            "outputs": [
              {
                "output_type": "display_data",
                "data": {
                  "text/plain": "<Figure size 500x300 with 1 Axes>",
                  "image/png": "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\n"
                },
                "metadata": {}
              }
            ]
          }
        },
        "5a29ab4eed7d4394adeccc0f85593684": {
          "model_module": "@jupyter-widgets/base",
          "model_name": "LayoutModel",
          "model_module_version": "1.2.0",
          "state": {
            "_model_module": "@jupyter-widgets/base",
            "_model_module_version": "1.2.0",
            "_model_name": "LayoutModel",
            "_view_count": null,
            "_view_module": "@jupyter-widgets/base",
            "_view_module_version": "1.2.0",
            "_view_name": "LayoutView",
            "align_content": null,
            "align_items": null,
            "align_self": null,
            "border": null,
            "bottom": null,
            "display": null,
            "flex": null,
            "flex_flow": null,
            "grid_area": null,
            "grid_auto_columns": null,
            "grid_auto_flow": null,
            "grid_auto_rows": null,
            "grid_column": null,
            "grid_gap": null,
            "grid_row": null,
            "grid_template_areas": null,
            "grid_template_columns": null,
            "grid_template_rows": null,
            "height": null,
            "justify_content": null,
            "justify_items": null,
            "left": null,
            "margin": null,
            "max_height": null,
            "max_width": null,
            "min_height": null,
            "min_width": null,
            "object_fit": null,
            "object_position": null,
            "order": null,
            "overflow": null,
            "overflow_x": null,
            "overflow_y": null,
            "padding": null,
            "right": null,
            "top": null,
            "visibility": null,
            "width": null
          }
        },
        "ebd8724d1df844c681b6bda55eacdeac": {
          "model_module": "@jupyter-widgets/base",
          "model_name": "LayoutModel",
          "model_module_version": "1.2.0",
          "state": {
            "_model_module": "@jupyter-widgets/base",
            "_model_module_version": "1.2.0",
            "_model_name": "LayoutModel",
            "_view_count": null,
            "_view_module": "@jupyter-widgets/base",
            "_view_module_version": "1.2.0",
            "_view_name": "LayoutView",
            "align_content": null,
            "align_items": null,
            "align_self": null,
            "border": null,
            "bottom": null,
            "display": null,
            "flex": null,
            "flex_flow": null,
            "grid_area": null,
            "grid_auto_columns": null,
            "grid_auto_flow": null,
            "grid_auto_rows": null,
            "grid_column": null,
            "grid_gap": null,
            "grid_row": null,
            "grid_template_areas": null,
            "grid_template_columns": null,
            "grid_template_rows": null,
            "height": null,
            "justify_content": null,
            "justify_items": null,
            "left": null,
            "margin": null,
            "max_height": null,
            "max_width": null,
            "min_height": null,
            "min_width": null,
            "object_fit": null,
            "object_position": null,
            "order": null,
            "overflow": null,
            "overflow_x": null,
            "overflow_y": null,
            "padding": null,
            "right": null,
            "top": null,
            "visibility": null,
            "width": null
          }
        },
        "01bf6915d7c24122b293576fb3488668": {
          "model_module": "@jupyter-widgets/controls",
          "model_name": "SliderStyleModel",
          "model_module_version": "1.5.0",
          "state": {
            "_model_module": "@jupyter-widgets/controls",
            "_model_module_version": "1.5.0",
            "_model_name": "SliderStyleModel",
            "_view_count": null,
            "_view_module": "@jupyter-widgets/base",
            "_view_module_version": "1.2.0",
            "_view_name": "StyleView",
            "description_width": "",
            "handle_color": null
          }
        },
        "3eff1ef0b4e64cf4a2796a1045a3faa2": {
          "model_module": "@jupyter-widgets/base",
          "model_name": "LayoutModel",
          "model_module_version": "1.2.0",
          "state": {
            "_model_module": "@jupyter-widgets/base",
            "_model_module_version": "1.2.0",
            "_model_name": "LayoutModel",
            "_view_count": null,
            "_view_module": "@jupyter-widgets/base",
            "_view_module_version": "1.2.0",
            "_view_name": "LayoutView",
            "align_content": null,
            "align_items": null,
            "align_self": null,
            "border": null,
            "bottom": null,
            "display": null,
            "flex": null,
            "flex_flow": null,
            "grid_area": null,
            "grid_auto_columns": null,
            "grid_auto_flow": null,
            "grid_auto_rows": null,
            "grid_column": null,
            "grid_gap": null,
            "grid_row": null,
            "grid_template_areas": null,
            "grid_template_columns": null,
            "grid_template_rows": null,
            "height": null,
            "justify_content": null,
            "justify_items": null,
            "left": null,
            "margin": null,
            "max_height": null,
            "max_width": null,
            "min_height": null,
            "min_width": null,
            "object_fit": null,
            "object_position": null,
            "order": null,
            "overflow": null,
            "overflow_x": null,
            "overflow_y": null,
            "padding": null,
            "right": null,
            "top": null,
            "visibility": null,
            "width": null
          }
        },
        "ab70fbb05e4f477cb493e212efe26cc2": {
          "model_module": "@jupyter-widgets/controls",
          "model_name": "SliderStyleModel",
          "model_module_version": "1.5.0",
          "state": {
            "_model_module": "@jupyter-widgets/controls",
            "_model_module_version": "1.5.0",
            "_model_name": "SliderStyleModel",
            "_view_count": null,
            "_view_module": "@jupyter-widgets/base",
            "_view_module_version": "1.2.0",
            "_view_name": "StyleView",
            "description_width": "",
            "handle_color": null
          }
        },
        "c1695e812ecd42a2bd21cbe8a67f7f79": {
          "model_module": "@jupyter-widgets/base",
          "model_name": "LayoutModel",
          "model_module_version": "1.2.0",
          "state": {
            "_model_module": "@jupyter-widgets/base",
            "_model_module_version": "1.2.0",
            "_model_name": "LayoutModel",
            "_view_count": null,
            "_view_module": "@jupyter-widgets/base",
            "_view_module_version": "1.2.0",
            "_view_name": "LayoutView",
            "align_content": null,
            "align_items": null,
            "align_self": null,
            "border": null,
            "bottom": null,
            "display": null,
            "flex": null,
            "flex_flow": null,
            "grid_area": null,
            "grid_auto_columns": null,
            "grid_auto_flow": null,
            "grid_auto_rows": null,
            "grid_column": null,
            "grid_gap": null,
            "grid_row": null,
            "grid_template_areas": null,
            "grid_template_columns": null,
            "grid_template_rows": null,
            "height": "350px",
            "justify_content": null,
            "justify_items": null,
            "left": null,
            "margin": null,
            "max_height": null,
            "max_width": null,
            "min_height": null,
            "min_width": null,
            "object_fit": null,
            "object_position": null,
            "order": null,
            "overflow": null,
            "overflow_x": null,
            "overflow_y": null,
            "padding": null,
            "right": null,
            "top": null,
            "visibility": null,
            "width": null
          }
        }
      }
    }
  },
  "cells": [
    {
      "cell_type": "markdown",
      "metadata": {
        "id": "view-in-github",
        "colab_type": "text"
      },
      "source": [
        "<a href=\"https://colab.research.google.com/github/kzhkAKT/Physics1/blob/draft/1101_%E9%80%9F%E3%81%95_%E7%89%A9%E7%90%861.ipynb\" target=\"_parent\"><img src=\"https://colab.research.google.com/assets/colab-badge.svg\" alt=\"Open In Colab\"/></a>"
      ]
    },
    {
      "cell_type": "markdown",
      "metadata": {
        "id": "f8l6xcPqG_Ej"
      },
      "source": [
        "# 運動の表し方\n"
      ]
    },
    {
      "cell_type": "markdown",
      "metadata": {
        "id": "hAnLubeA0IN6"
      },
      "source": [
        "## 長さ\n",
        "\n",
        "> 長さの単位は, 国際単位系で m\n",
        "\n",
        "m は meter\n",
        "## 時間\n",
        "\n",
        "> 時間の単位は, 国際単位系で s\n",
        "\n",
        "s は second. **\"1 s\"** のことを **単位時間** といいます."
      ]
    },
    {
      "cell_type": "markdown",
      "metadata": {
        "id": "6ZWqREi3uCXU"
      },
      "source": [
        "## 速さ\n",
        "\n",
        "\"速さ\"の定義  \n",
        "$$\n",
        "(1.1) \\qquad \\text{速さ} = \\frac{\\text{動いた距離}}{\\text{時間}}.\n",
        "$$\n",
        "\n",
        "ここで\n",
        "\n",
        "+ 動いた距離=移動距離= Length, \b$L$\n",
        "+ 時間= Time, $T$\n",
        "\n",
        "とすると,\n",
        "$$\n",
        "(1.1)' \\qquad \\text{速さ} = \\frac{L}{T}\n",
        "$$\n",
        "と表現できます. この定義から\n",
        "> 速さの単位は, 国際単位系では m/s\n",
        "\n",
        "と組み立てることができます. また速さの定義を文章で表現すると\n",
        "\n",
        "> 速さの定義は, 単位時間当たりの移動距離\n",
        "\n",
        "といえます."
      ]
    },
    {
      "cell_type": "markdown",
      "metadata": {
        "id": "pcB_Ye7uubwD"
      },
      "source": [
        "### 例\n",
        "\n",
        "$L = \b{\\rm 5\\ m}, T ={\\rm 2\\ s}$ として, この速さを求めよ.\n",
        "\n",
        "$\n",
        "(1.1)' \\qquad \\text{速さ}\n",
        "= \\frac{L}{T}\n",
        "=\\frac{\\rm 5\\ m}{\\rm\\ 2 s}\n",
        "=\\frac{\\rm 2.5\\ m}{\\rm\\ 1 s}\n",
        "={\\rm 2.5}{\\rm m/ s}\n",
        "$\n",
        "\n",
        "${\\rm 1\\ s}$ に注目すると、速さは単位時間( ${\\rm 1\\ s}$ ) に進む距離にあたります.\n",
        "\n",
        "> Q\n",
        "ある物体が ${\\rm 2\\ s}$ の間に、直線距離で\n",
        "$\b{\\rm 5\\ m}$ 進んだ. この物体の速さを求めよ."
      ]
    },
    {
      "cell_type": "markdown",
      "metadata": {
        "id": "_YBIfNfguK16"
      },
      "source": [
        "### 移動距離と時間のグラフ: $x-t$ グラフ\n",
        "\n",
        "一直線上を移動した距離が不明な場合には, 任意の移動距離を $x$ であらわします.   \n",
        "同様に時間が不明な場合は、任意の時間を $t$ であらわします.\n",
        "\n",
        "> Q. $x-t$ グラフ: 縦軸に移動距離 $x$, 横軸に時間 $t$ <!-- (例 教科書図1.1) -->\n",
        ">1. はじめに下の(左がねずみ色)枠をクリックしてください.\n",
        ">  1. 次に、枠内左側に表示された再生ボタンをクリック,\n",
        ">  2. $x-t$ グラフが作成されることを確認してください.\n",
        "> 2. グラフが作成されたら, $L,T$ のつまみを調整し, 教科書 p2 図1.1 と同じ傾きのグラフを作成してください.\n",
        "> 3. 原点から $t=100 {\\rm s}$ まで動いた距離を読み取り, 作成したグラフの傾きを計算してください.\n",
        "> 4. 傾きと等しい物理量を答えてください.\n"
      ]
    },
    {
      "cell_type": "code",
      "metadata": {
        "id": "PY4-ISLxgOjH",
        "cellView": "form",
        "outputId": "b1017e9e-6729-4800-9c9f-f346bc876166",
        "colab": {
          "base_uri": "https://localhost:8080/",
          "height": 431,
          "referenced_widgets": [
            "2f5c686f6e424988a3206d1c85c367d6",
            "ae7e7167a151424d98d14bbc8aee3dd5",
            "d2ce5790638c4cb9bbb0b3b227504f4a",
            "79d540820bc74c54bce70a486a206903",
            "5a29ab4eed7d4394adeccc0f85593684",
            "ebd8724d1df844c681b6bda55eacdeac",
            "01bf6915d7c24122b293576fb3488668",
            "3eff1ef0b4e64cf4a2796a1045a3faa2",
            "ab70fbb05e4f477cb493e212efe26cc2",
            "c1695e812ecd42a2bd21cbe8a67f7f79"
          ]
        }
      },
      "source": [
        "#@title 𝑥−𝑡グラフの作成(ここをクリック) { vertical-output: true }\n",
        "%matplotlib inline\n",
        "from ipywidgets import interactive\n",
        "import matplotlib.pyplot as plt\n",
        "plt.style.use('ggplot')\n",
        "import numpy as np\n",
        "\n",
        "def x(L, T):\n",
        "    plt.figure(figsize=(5, 3))\n",
        "    v=L/T\n",
        "    t = np.linspace(0, T)\n",
        "    plt.xlabel(\"$t$ [s]\")\n",
        "    plt.ylabel(\"$x$ [m]\")\n",
        "    plt.xlim(0, 450)\n",
        "    plt.ylim(0, 7000)\n",
        "    plt.plot(t, v * t)\n",
        "    plt.show()\n",
        "\n",
        "interactive_plot = interactive(x, L=(0, 7000,500), T=(0, 450,50))\n",
        "output = interactive_plot.children[-1]\n",
        "output.layout.height = '350px'\n",
        "interactive_plot"
      ],
      "execution_count": 7,
      "outputs": [
        {
          "output_type": "display_data",
          "data": {
            "text/plain": [
              "interactive(children=(IntSlider(value=3500, description='L', max=7000, step=500), IntSlider(value=200, descrip…"
            ],
            "application/vnd.jupyter.widget-view+json": {
              "version_major": 2,
              "version_minor": 0,
              "model_id": "2f5c686f6e424988a3206d1c85c367d6"
            }
          },
          "metadata": {}
        }
      ]
    }
  ]
}