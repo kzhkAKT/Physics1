{
  "nbformat": 4,
  "nbformat_minor": 0,
  "metadata": {
    "colab": {
      "name": "1101_速さ_物理1",
      "provenance": [],
      "mount_file_id": "1ko3fj7Et3uUihh--l0FmQ631VQEkUGDP",
      "authorship_tag": "ABX9TyNpuBLUbVj8X9RBcm38DTAO",
      "include_colab_link": true
    },
    "kernelspec": {
      "name": "python3",
      "display_name": "Python 3"
    }
  },
  "cells": [
    {
      "cell_type": "markdown",
      "metadata": {
        "id": "view-in-github",
        "colab_type": "text"
      },
      "source": [
        "<a href=\"https://colab.research.google.com/github/kzhkAKT/Physics1/blob/master/1101_%E9%80%9F%E3%81%95_%E7%89%A9%E7%90%861.ipynb\" target=\"_parent\"><img src=\"https://colab.research.google.com/assets/colab-badge.svg\" alt=\"Open In Colab\"/></a>"
      ]
    },
    {
      "cell_type": "markdown",
      "metadata": {
        "id": "f8l6xcPqG_Ej"
      },
      "source": [
        "# 運動の表し方\n"
      ]
    },
    {
      "cell_type": "markdown",
      "metadata": {
        "id": "hAnLubeA0IN6"
      },
      "source": [
        "## 長さ\n",
        "\n",
        "> 長さの単位は, 国際単位系で m\n",
        "\n",
        "m は meter\n",
        "## 時間\n",
        "\n",
        "> 時間の単位は, 国際単位系で s\n",
        "\n",
        "s は second. **\"1 s\"** のことを **単位時間** といいます."
      ]
    },
    {
      "cell_type": "markdown",
      "metadata": {
        "id": "6ZWqREi3uCXU"
      },
      "source": [
        "## 速さ\n",
        "\n",
        "\"速さ\"の定義  \n",
        "$$\n",
        "(1.1) \\qquad \\text{速さ} = \\frac{\\text{動いた距離}}{\\text{時間}}.\n",
        "$$\n",
        "\n",
        "ここで\n",
        "\n",
        "+ 動いた距離=移動距離= Length, \b$L$\n",
        "+ 時間= Time, $T$\n",
        "\n",
        "とすると,\n",
        "$$\n",
        "(1.1)' \\qquad \\text{速さ} = \\frac{L}{T}\n",
        "$$\n",
        "と表現できます. この定義から\n",
        "> 速さの単位は, 国際単位系では m/s\n",
        "\n",
        "と組み立てることができます. また速さの定義を文章で表現すると\n",
        "\n",
        "> 速さの定義は, 単位時間当たりの移動距離\n",
        "\n",
        "といえます."
      ]
    },
    {
      "cell_type": "markdown",
      "metadata": {
        "id": "pcB_Ye7uubwD"
      },
      "source": [
        "### 例\n",
        "\n",
        "$L = \b{\\rm 5\\ m}, T ={\\rm 2\\ s}$ として, この速さを求めよ.\n",
        "\n",
        "$\n",
        "(1.1)' \\qquad \\text{速さ}\n",
        "= \\frac{L}{T}\n",
        "=\\frac{\\rm 5\\ m}{\\rm\\ 2 s}\n",
        "=\\frac{\\rm 2.5\\ m}{\\rm\\ 1 s}\n",
        "={\\rm 2.5}{\\rm m/ s}\n",
        "$\n",
        "\n",
        "${\\rm 1\\ s}$ に注目すると、速さは単位時間( ${\\rm 1\\ s}$ ) に進む距離にあたります.\n",
        "\n",
        "> Q\n",
        "ある物体が ${\\rm 2\\ s}$ の間に、直線距離で\n",
        "$\b{\\rm 5\\ m}$ 進んだ. この物体の速さを求めよ."
      ]
    },
    {
      "cell_type": "markdown",
      "metadata": {
        "id": "_YBIfNfguK16"
      },
      "source": [
        "### 移動距離と時間のグラフ: $x-t$ グラフ\n",
        "\n",
        "一直線上を移動した距離が不明な場合には, 任意の移動距離を $x$ であらわします.   \n",
        "同様に時間が不明な場合は、任意の時間を $t$ であらわします.\n",
        "\n",
        "> Q. $x-t$ グラフ: 縦軸に移動距離 $x$, 横軸に時間 $t$ <!-- (例 教科書図1.1) -->\n",
        ">1. はじめに下の(左がねずみ色)枠をクリックしてください.\n",
        ">  1. 次に、枠内左側に表示された再生ボタンをクリック,\n",
        ">  2. $x-t$ グラフが作成されることを確認してください.\n",
        "> 2. グラフが作成されたら, $L,T$ のつまみを調整し, 教科書 p2 図1.1 と同じ傾きのグラフを作成してください.\n",
        "> 3. 原点から $t=100 {\\rm s}$ まで動いた距離を読み取り, 作成したグラフの傾きを計算してください.\n",
        "> 4. 傾きと等しい物理量を答えてください.\n"
      ]
    },
    {
      "cell_type": "code",
      "metadata": {
        "id": "PY4-ISLxgOjH",
        "cellView": "form"
      },
      "source": [
        "#@title 𝑥−𝑡グラフの作成(ここをクリック) { vertical-output: true }\n",
        "%matplotlib inline\n",
        "from ipywidgets import interactive\n",
        "import matplotlib.pyplot as plt\n",
        "plt.style.use('ggplot')\n",
        "import numpy as np\n",
        "\n",
        "def x(L, T):\n",
        "    plt.figure(2)\n",
        "    v=L/T\n",
        "    t = np.linspace(0, T)\n",
        "    plt.xlabel(\"$t$ [s]\")\n",
        "    plt.ylabel(\"$x$ [m]\")\n",
        "    plt.xlim(0, 450)\n",
        "    plt.ylim(0, 7000)\n",
        "    plt.plot(t, v * t)\n",
        "    plt.show()\n",
        "\n",
        "interactive_plot = interactive(x, L=(0, 7000,500), T=(0, 450,50))\n",
        "output = interactive_plot.children[-1]\n",
        "output.layout.height = '350px'\n",
        "interactive_plot"
      ],
      "execution_count": null,
      "outputs": []
    }
  ]
}