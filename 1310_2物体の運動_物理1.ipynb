{
  "nbformat": 4,
  "nbformat_minor": 0,
  "metadata": {
    "colab": {
      "name": "1310_2物体の運動_物理1",
      "provenance": [],
      "collapsed_sections": [],
      "authorship_tag": "ABX9TyORcLJKYjKwlMMRyGBZF7PH",
      "include_colab_link": true
    },
    "kernelspec": {
      "name": "python3",
      "display_name": "Python 3"
    }
  },
  "cells": [
    {
      "cell_type": "markdown",
      "metadata": {
        "id": "view-in-github",
        "colab_type": "text"
      },
      "source": [
        "<a href=\"https://colab.research.google.com/github/kzhkAKT/Physics1/blob/draft/1310_2%E7%89%A9%E4%BD%93%E3%81%AE%E9%81%8B%E5%8B%95_%E7%89%A9%E7%90%861.ipynb\" target=\"_parent\"><img src=\"https://colab.research.google.com/assets/colab-badge.svg\" alt=\"Open In Colab\"/></a>"
      ]
    },
    {
      "cell_type": "markdown",
      "metadata": {
        "id": "FAP5N-ljiXwK",
        "colab_type": "text"
      },
      "source": [
        "# いろいろな運動"
      ]
    },
    {
      "cell_type": "markdown",
      "metadata": {
        "id": "0BNO2ajzneeY",
        "colab_type": "text"
      },
      "source": [
        "## 2物体の運動\n",
        "\n",
        "\n"
      ]
    },
    {
      "cell_type": "markdown",
      "metadata": {
        "id": "iY0AUS4Sidhm",
        "colab_type": "text"
      },
      "source": [
        "\n",
        "### 運動方程式\n",
        "\n",
        "\\begin{align*}\n",
        "m a &= F&\n",
        "\\end{align*}\n",
        "\n",
        "1. 瞬間を捉える道具である加速度が含まれる: $\\quad a=\\dfrac{\\Delta v}{\\Delta t}, \\quad \\Delta t \\to 0$\n",
        "2. 力と質量から加速度を求めることができる: $\\quad a = \\dfrac{F}{m}$\n",
        "3. 加速度と質量から力を求めることができる: $\\quad F = m \\cdot a$\n",
        "\n",
        "\n"
      ]
    },
    {
      "cell_type": "markdown",
      "metadata": {
        "id": "ujwBNV6viiz0",
        "colab_type": "text"
      },
      "source": [
        "### 複数の物体を一つにまとめて考える"
      ]
    },
    {
      "cell_type": "markdown",
      "metadata": {
        "id": "RzraJl0WimUF",
        "colab_type": "text"
      },
      "source": [
        "### 複数の物体を個別に分けて考える\n"
      ]
    },
    {
      "cell_type": "markdown",
      "metadata": {
        "id": "rb7rncNUirdi",
        "colab_type": "text"
      },
      "source": [
        "運動方程式を個別に分けて考えることで, 今まで知りえなかった情報を取得することができる."
      ]
    }
  ]
}