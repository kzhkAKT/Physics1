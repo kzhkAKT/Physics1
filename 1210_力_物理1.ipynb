{
  "nbformat": 4,
  "nbformat_minor": 0,
  "metadata": {
    "colab": {
      "name": "1210_力_物理1",
      "provenance": [],
      "collapsed_sections": [],
      "authorship_tag": "ABX9TyNqckPxcPDZ7n9FeBPtFQjx",
      "include_colab_link": true
    },
    "kernelspec": {
      "name": "python3",
      "display_name": "Python 3"
    }
  },
  "cells": [
    {
      "cell_type": "markdown",
      "metadata": {
        "id": "view-in-github",
        "colab_type": "text"
      },
      "source": [
        "<a href=\"https://colab.research.google.com/github/kzhkAKT/Physics1/blob/draft/1210_%E5%8A%9B_%E7%89%A9%E7%90%861.ipynb\" target=\"_parent\"><img src=\"https://colab.research.google.com/assets/colab-badge.svg\" alt=\"Open In Colab\"/></a>"
      ]
    },
    {
      "cell_type": "markdown",
      "metadata": {
        "id": "jc-kCWTcOAFo",
        "colab_type": "text"
      },
      "source": [
        "# 力と運動\n",
        "## 力と運動の法則"
      ]
    },
    {
      "cell_type": "markdown",
      "metadata": {
        "id": "w8ep33kIOHFo",
        "colab_type": "text"
      },
      "source": [
        "### 力\n",
        "\n",
        "force: $f,\\ F$\n",
        "\n",
        "> (質量のある)物体の速度を変化させたり, 物体を変形させたりする作用\n",
        "\n",
        "- 接触して作用する力: 押す力, 摩擦力\n",
        "- 非接触でも/離れても作用する力: 重力, 電気力, 磁気力\n",
        "\n",
        "この章で学ぶ力: 重力, 万有引力, 垂直抗力, 弾性力\n",
        "\n",
        "> 力の単位 **N** (ニュートン)\n",
        "\n",
        "定義は *運動方程式* のところで説明します. \n",
        "(マンガン単1電池に働く重力が約 1 N)\n",
        "\n",
        "力の大きさによって物体の速度変化が変わることと,   \n",
        "力の方向によって物体の速度の方向が変わることを踏まえると\n",
        "\n",
        ">> 力は, **大きさ** と **方向** をもつ\n",
        "\n",
        "といえます."
      ]
    },
    {
      "cell_type": "code",
      "metadata": {
        "id": "ZZBdW33039_q",
        "colab_type": "code",
        "colab": {
          "base_uri": "https://localhost:8080/",
          "height": 565
        },
        "cellView": "form",
        "outputId": "8dbb34eb-a3d2-4808-b8ab-d808893aed64"
      },
      "source": [
        "#@title 合力: 教科書 p12 図1.12\n",
        "%%html\n",
        "<iframe src=\"https://phet.colorado.edu/sims/html/forces-and-motion-basics/latest/forces-and-motion-basics_en.html\" width=\"720\" height=\"540\" scrolling=\"no\" allowfullscreen></iframe>"
      ],
      "execution_count": 2,
      "outputs": [
        {
          "output_type": "display_data",
          "data": {
            "text/html": [
              "<iframe src=\"https://phet.colorado.edu/sims/html/forces-and-motion-basics/latest/forces-and-motion-basics_en.html\" width=\"720\" height=\"540\" scrolling=\"no\" allowfullscreen></iframe>"
            ],
            "text/plain": [
              "<IPython.core.display.HTML object>"
            ]
          },
          "metadata": {
            "tags": []
          }
        }
      ]
    }
  ]
}