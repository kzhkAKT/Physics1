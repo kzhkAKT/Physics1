{
  "nbformat": 4,
  "nbformat_minor": 0,
  "metadata": {
    "kernelspec": {
      "name": "python36",
      "display_name": "Python 3.6",
      "language": "python"
    },
    "language_info": {
      "mimetype": "text/x-python",
      "nbconvert_exporter": "python",
      "name": "python",
      "pygments_lexer": "ipython3",
      "version": "3.6.6",
      "file_extension": ".py",
      "codemirror_mode": {
        "version": 3,
        "name": "ipython"
      }
    },
    "hide_input": false,
    "toc": {
      "nav_menu": {},
      "number_sections": true,
      "sideBar": true,
      "skip_h1_title": true,
      "base_numbering": 1,
      "title_cell": "Table of Contents",
      "title_sidebar": "Contents",
      "toc_cell": false,
      "toc_position": {
        "height": "745px",
        "width": "246px",
        "left": "65px",
        "top": "343px"
      },
      "toc_section_display": true,
      "toc_window_display": true
    },
    "colab": {
      "name": "0001_Introduction_導入",
      "provenance": [],
      "collapsed_sections": [],
      "toc_visible": true,
      "include_colab_link": true
    }
  },
  "cells": [
    {
      "cell_type": "markdown",
      "metadata": {
        "id": "view-in-github",
        "colab_type": "text"
      },
      "source": [
        "<a href=\"https://colab.research.google.com/github/kzhkAKT/Physics1/blob/master/0001_Introduction_%E5%B0%8E%E5%85%A5.ipynb\" target=\"_parent\"><img src=\"https://colab.research.google.com/assets/colab-badge.svg\" alt=\"Open In Colab\"/></a>"
      ]
    },
    {
      "cell_type": "markdown",
      "metadata": {
        "id": "7PfoCmawlA5F",
        "colab_type": "text"
      },
      "source": [
        "<!--\n",
        "提案 \n",
        "+ です/ます調で統一\n",
        "+ Q: question (####)は分けて、Form などで解かせても良い\n",
        "\n",
        "必要な科目\n",
        "1. 物理I\n",
        "2. 物理II\n",
        "3. 応用物理I\n",
        "4. 物理III\n",
        "5. エネルギー材料科学\n",
        "6. 秋大_物理II\n",
        "\n",
        "考え方\n",
        "+ 書き散らかしてきたことをまとめる\n",
        "+ 将来の時間を作る\n",
        "+ ただし、**今の時間を無駄にしないこと**\n",
        "\n",
        "授業前アンケート\n",
        "0. 通信状況確認\n",
        "1. 受講者確認\n",
        "2. 教科書購入確認\n",
        "3. 通信環境確認\n",
        "4. 資料閲覧確認\n",
        "\n",
        "利用ツール\n",
        "+ https://colab.research.google.com/\n",
        "+ https://www.diagrams.net\n",
        "\n",
        "## 変数と定数\n",
        "\n",
        "## 方向と大きさ\n",
        "-->"
      ]
    },
    {
      "cell_type": "markdown",
      "metadata": {
        "id": "Mhn8Fc0vgGR2",
        "colab_type": "text"
      },
      "source": [
        "# 導入\n",
        "\n",
        "物理を学ぶ上で避けては通れない基本事項を紹介します.\n"
      ]
    },
    {
      "cell_type": "markdown",
      "metadata": {
        "collapsed": true,
        "id": "dTE04VzcfRHm",
        "colab_type": "text"
      },
      "source": [
        "## 単位\n",
        "\n",
        "5 kg = 5 $\\times$ 1 kg &ensp; \n",
        "\"1 kg\" の部分を単位(unit)と呼ばれます.   \n",
        "この場合, **1 kg** は **質量の単位** です.\n",
        "\n",
        "> Q. 棒の長さが 0.8 m であった. この長さの単位の名称を答えてください.\n",
        "\n",
        "\n",
        "\n",
        "### 単位への意識\n",
        "> Q. 次の計算から, 間違っているものをみつけてください.\n",
        ">1. $1+2=3$\n",
        ">1. $1\\ {\\rm kg}+2\\ {\\rm kg}=3 \\ {\\rm kg}$\n",
        ">1. $1\\ {\\rm kg}+2\\ {\\rm m}=3 \\ {\\rm kg}$\n",
        "\n",
        "### 量と数の違い\n",
        "* 量は、数と単位との積で成り立ちます. \n",
        "\n",
        "* 同じ量(単位)のものは, 足し算と引き算(加減)ができます.\n",
        "    * 異なる量(単位)のものは、単純に加減ができません.\n",
        "* 理工学系で利用する **(組立)単位** は, *(基本)単位* の掛け算と割り算(乗除)で組み立てられます.\n",
        "    * 例: m/s は 長さの単位 1 m と時間の単位 1 s の割り算で組まれています.\n",
        "* 理工学系では等式の両辺は同じ量/単位をもちます.\n",
        "    * $m\\cdot a = F$\n",
        "      &ensp; 前期中盤で紹介する **力の単位 N** の定義\n",
        "    * $W = F \\cdot x$\n",
        "      &ensp; 後期に紹介する **仕事の単位 J** の定義\n",
        "\n",
        "* 異なる単位は等式で結びつけることは *できません*.\n",
        "    * $5\\ {\\rm kg} \\neq 5\\ {\\rm m}$\n",
        "\n",
        "* 量(=数値$\\times$単位) を **物理量** と呼ぶことがあります.\n",
        "\n",
        "### 単位に含まれる \"1\"\n",
        "速さ$5\\ {\\rm m/s}$は,\n",
        "$5\\ {\\rm m/s}= \\dfrac{5\\ {\\rm m} }{\\rm s}= \\dfrac{5\\ {\\rm m} }{1\\ {\\rm s}}$\n",
        "と表現できます.  \n",
        "**「1 s に 5 m 進む」**ことを表していることを意識してください.\n",
        "&ensp;(\"1 s\" のことを単位時間と言います)\n",
        "\n",
        "> Q. 単位円 と 単位 に共通する要素は?\n",
        "\n",
        ">> ここでの議論のように，*単位に注目して* 物理量を比較することを **次元解析** といいます."
      ]
    },
    {
      "cell_type": "markdown",
      "metadata": {
        "id": "rfiusV2bfRHo",
        "colab_type": "text"
      },
      "source": [
        "## 変化量\n",
        "\n",
        "### 定義\n",
        "\n",
        "**変化量 = 後の状態 - 初めの状態**  \n",
        "変化量は単に \"変化\" とよく省略されます.\n",
        "\n",
        "+ 理工学系では時間経過を考慮することが多く, 変化量は上記の式で考えると理解しやすい.\n",
        "+ 変化量は正負(+,-)をとることができる.\n",
        "  * 正/プラス(+) はよく省略されます.\n",
        "\n",
        "> Q. 変化量について次の問いに答えなさい.\n",
        "> 1. 平行な一直線を歩いているアリが,7 cm の点から 3 cm の点へ移動した.アリの移動距離の変化を求めよ.\n",
        "> 2. ある植物を観察している. ある日に,この植物の 全長 を測定したところ 0.7 m であった. その二日後に改めてこの植物を測定すると 1.2 m であった. この植物の全長の変化を求めよ.\n",
        "> 3. 容量 500 ml の飲み物を購入し, 全て飲み干した. この飲み物の内容量の変化を求めよ."
      ]
    },
    {
      "cell_type": "markdown",
      "metadata": {
        "trusted": true,
        "id": "203ko1ltfRHp",
        "colab_type": "text"
      },
      "source": [
        "## 比例\n",
        "\n",
        "### 一般的な一次関数\n",
        "$$\n",
        "y = p \\cdot x+ q\n",
        "$$\n",
        "> Q. この場合の傾きは?\n",
        "\n",
        "### 二点を通る一次関数の傾き\n",
        "\n",
        "> Q. $x-y$ 平面上で, 始め$(x_1, y_1)$ にいた点が $(x_2, y_2)$ へ移動した. この二点を通る直線の傾きを求めよ.\n",
        "\n",
        "#### 変化~増加分\n",
        "> このとき $x$ の増加分を求めよ.\n",
        "\n",
        "> つぎに $y$ の増加分を求めよ.\n",
        "\n",
        ">> このとき, 始めの点から後の点の増加分を求めてください.\n",
        "\n",
        "### 傾き $p$ ~ 変化の割合 ~ 変化の比\n",
        "\n",
        "<!--\n",
        "> $p =\\dfrac{y_2-y_1}{x_2 - x_1}$\n",
        "-->\n"
      ]
    },
    {
      "cell_type": "markdown",
      "metadata": {
        "id": "49v03wyLfRHr",
        "colab_type": "text"
      },
      "source": [
        "## 記号~文字\n",
        "\n",
        "**物理量が出てきたら、適切な \"記号\" を利用してその量を表す.**    \n",
        "~~未知の量が出てきたときに, なんでも $x$ にするはやめてください.~~\n",
        "\n",
        "> 講義中に利用する記号を参考にして, 各自利用してください.\n",
        "\n",
        "### よく利用する文字群\n",
        "\n",
        "1. [英語アルファベット](https://ja.wikipedia.org/wiki/%E8%8B%B1%E8%AA%9E%E3%82%A2%E3%83%AB%E3%83%95%E3%82%A1%E3%83%99%E3%83%83%E3%83%88) : $a,b,c,...; A,B,C,...$\n",
        "2. [ギリシャ文字](https://ja.wikipedia.org/wiki/%E3%82%AE%E3%83%AA%E3%82%B7%E3%82%A2%E6%96%87%E5%AD%97): $\\alpha, \\beta, \\gamma, \\delta ...; .., \\Gamma, \\Delta, ...$\n",
        "\n",
        "  + 英語アルファベットは小文字と大文字\n",
        "  + ギリシャ文字は小文字と一部大文字がある\n",
        "\n",
        "上記の文字でカーソールが変化すればリンク先に移動します.\n",
        "\n",
        "- [数学・自然科学・工学分野で使われるギリシア文字](https://ja.wikipedia.org/wiki/%E6%95%B0%E5%AD%A6%E3%83%BB%E8%87%AA%E7%84%B6%E7%A7%91%E5%AD%A6%E3%83%BB%E5%B7%A5%E5%AD%A6%E5%88%86%E9%87%8E%E3%81%A7%E4%BD%BF%E3%82%8F%E3%82%8C%E3%82%8B%E3%82%AE%E3%83%AA%E3%82%B7%E3%82%A2%E6%96%87%E5%AD%97)\n",
        "\n",
        "### 記号の利用方法基本方針\n",
        "\n",
        "+ 英単語の頭文字\n",
        "  + 「長さ」は、英語で「length] と翻訳されるので, $\\ell, l, L$ を利用します.\n",
        "  + 「高さ」は英語で「height」と翻訳されるので, $h, H$ を利用します.\n",
        "+ 数学で習慣的に利用されている記号\n",
        "  + $x,y$ は変位(長さに正負を加えたもの)\n",
        "  + $\\theta, \\alpha, \\beta$ 弧度法に角度\n",
        "\n",
        "\n",
        "\n"
      ]
    },
    {
      "cell_type": "markdown",
      "metadata": {
        "id": "siByO6ryHGmp",
        "colab_type": "text"
      },
      "source": [
        "## 国際単位系\n",
        "\n",
        "**SI単位系** とも表現されます. 元はフランス語\n",
        "\n",
        "> SI units \n",
        "~ International System of Units\n",
        "\b~ Système international d'unités\n",
        "\n",
        "[去年(2019)にはより高精度の SI単位系 が再定義](https://unit.aist.go.jp/nmij/info/redefinition/)\n",
        "\n",
        "#### SI基本単位\n",
        "[SIパンフレット(日本語), 表-B](https://unit.aist.go.jp/nmij/public/report/pamphlet/si/SIdata202004.pdf)\n",
        "\n",
        "1. **s**\n",
        "1. **m**\n",
        "1. **kg**\n",
        "1. A\n",
        "1. K\n",
        "1. mol\n",
        "1. cd\n",
        "\n",
        "\n",
        "\n",
        "## 単位の接頭語\n",
        "\n",
        "1 km の *km* は一つの単位ではありません.\n",
        "\n",
        ">  1 km  = 1 k m = 1 $\\times$ 10<sup>3</sup>  m　= 1000 m\n",
        "\n",
        "であり \"k\" のような単位の前の文字を **SI接頭語** と呼ばれます.\n",
        "\n",
        "### SI接頭語\n",
        "+ https://www.dainippon-tosho.co.jp/unit/si_prefix.html"
      ]
    },
    {
      "cell_type": "markdown",
      "metadata": {
        "id": "UzHuzV8raw_W",
        "colab_type": "text"
      },
      "source": [
        "# 講義記録 2020-05-12 前期 1/16 "
      ]
    },
    {
      "cell_type": "markdown",
      "metadata": {
        "id": "a4qq6FTBYz3Y",
        "colab_type": "text"
      },
      "source": [
        "## 単位に気をつけよう\n",
        "\n",
        "単位を考慮して考察することを, $次元解析$ といいます.\n",
        "\n",
        "### 単位円\n",
        "\n",
        "\n"
      ]
    },
    {
      "cell_type": "code",
      "metadata": {
        "id": "dkat9NNjcHUV",
        "colab_type": "code",
        "colab": {}
      },
      "source": [
        "%%svg\n",
        "https://commons.wikimedia.org/wiki/File:Unit_circle.svg#/media/File:Unit_circle.svg"
      ],
      "execution_count": 0,
      "outputs": []
    },
    {
      "cell_type": "code",
      "metadata": {
        "id": "9foZ2_jPdHw0",
        "colab_type": "code",
        "colab": {}
      },
      "source": [
        "%%svg\n",
        "<svg>\n",
        "  <g transform=\"scale(-1,1)\">\n",
        "  <image xlink:href=\"https://upload.wikimedia.org/wikipedia/commons/9/99/Working_principle_of_a_hydraulic_jack.svg\" />\n",
        "  </g>\n",
        "</svg>"
      ],
      "execution_count": 0,
      "outputs": []
    },
    {
      "cell_type": "markdown",
      "metadata": {
        "id": "1EIrOdaYa09P",
        "colab_type": "text"
      },
      "source": [
        "## 2点 の傾き\n",
        "始め$(x_1, y_1)$, 後 $(x_2, y_2)$ とすると:  \n",
        "> $x$ の増加分: $x_2 - x_1$  \n",
        "> $y$ の増加分: $y_2 - y_1$\n",
        "\n",
        "この講義で取り上げた一般的な一次関数\n",
        "> $y=p\\cdot x + q$\n",
        "\n",
        "であれば,  傾き $p$ は\n",
        "> $p=\\dfrac{y_2 - y_1}{x_2 - x_1}$"
      ]
    }
  ]
}