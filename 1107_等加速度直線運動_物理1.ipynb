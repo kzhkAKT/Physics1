{
  "nbformat": 4,
  "nbformat_minor": 0,
  "metadata": {
    "colab": {
      "name": "1107_等加速度直線運動_物理1",
      "provenance": [],
      "toc_visible": true,
      "authorship_tag": "ABX9TyP/hJpBi/VmcHYpse6lVbxh",
      "include_colab_link": true
    },
    "kernelspec": {
      "name": "python3",
      "display_name": "Python 3"
    }
  },
  "cells": [
    {
      "cell_type": "markdown",
      "metadata": {
        "id": "view-in-github",
        "colab_type": "text"
      },
      "source": [
        "<a href=\"https://colab.research.google.com/github/kzhkAKT/Physics1/blob/master/1107_%E7%AD%89%E5%8A%A0%E9%80%9F%E5%BA%A6%E7%9B%B4%E7%B7%9A%E9%81%8B%E5%8B%95_%E7%89%A9%E7%90%861.ipynb\" target=\"_parent\"><img src=\"https://colab.research.google.com/assets/colab-badge.svg\" alt=\"Open In Colab\"/></a>"
      ]
    },
    {
      "cell_type": "markdown",
      "metadata": {
        "id": "YlZ1etaUE2m0",
        "colab_type": "text"
      },
      "source": [
        "# 運動の表し方\n"
      ]
    },
    {
      "cell_type": "markdown",
      "metadata": {
        "id": "5Q1I04q6E2jj",
        "colab_type": "text"
      },
      "source": [
        "## 等加速度直線運動\n",
        "\n",
        "> 等加速度直線運動 = 「等」+ 「加速度」+「直線」+ \u0005運動\n",
        "と分解し, それぞれの要素について\n",
        "\n",
        "> 「等」+ 「加速度」: 一定の **加速度**  \n",
        "> 直線: (ある点から出発し)直線上を進む\n",
        "\n",
        "### 復習: 物体の加速度 $a$ の定義\n",
        "$$\n",
        "a = \\dfrac{\\Delta v}{\\Delta t}\n",
        "= \\dfrac{v_2 - v_1 }{t_2 - t_1}\n",
        "$$\n"
      ]
    },
    {
      "cell_type": "markdown",
      "metadata": {
        "id": "Lg6gkzKoNBXl",
        "colab_type": "text"
      },
      "source": [
        "#### 初め静止していた等加速度直線運動の速度\n",
        "\n",
        "いま$a$ を一定, さらに\n",
        "* 測定開始時点を $t_1=0$ でこのときの速度を $v_1=0$\n",
        "* 測定開始時点 $t_1=0$ から経過した時間を $t_2=t$   \n",
        "\n",
        "と置き直すと\n",
        "\n",
        "\n",
        "$$\n",
        "\\require{cancel}\n",
        "\\begin{align*}\n",
        "a &= \\dfrac{\\cancelto{v}{v_2} - \\cancelto{0}{v_1}}\n",
        "{\\cancelto{t}{t_2} - \\cancelto{0}{t_1}}&\\\\\n",
        "&= \\dfrac{v}{t}\\\\\n",
        "v&=a\\cdot t&\n",
        "\\end{align*}\n",
        "$$\n",
        "これより, 初め静止していた物体が, 等加速度で直線上を運動する $t$ 秒後の速度は\n",
        ">> $(1.6) \\qquad v = a \\cdot t$\n",
        "\n",
        "となることがわかる. "
      ]
    }
  ]
}