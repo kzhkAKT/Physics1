{
  "nbformat": 4,
  "nbformat_minor": 0,
  "metadata": {
    "colab": {
      "name": "1107_等加速度直線運動_物理1",
      "provenance": [],
      "collapsed_sections": [],
      "authorship_tag": "ABX9TyNPiy59adhL9GkoWRE8esbH",
      "include_colab_link": true
    },
    "kernelspec": {
      "name": "python3",
      "display_name": "Python 3"
    },
    "widgets": {
      "application/vnd.jupyter.widget-state+json": {
        "ae541801c2ab498ea3f6b6f0fb8fcfa7": {
          "model_module": "@jupyter-widgets/controls",
          "model_name": "VBoxModel",
          "model_module_version": "1.5.0",
          "state": {
            "_dom_classes": [
              "widget-interact"
            ],
            "_model_module": "@jupyter-widgets/controls",
            "_model_module_version": "1.5.0",
            "_model_name": "VBoxModel",
            "_view_count": null,
            "_view_module": "@jupyter-widgets/controls",
            "_view_module_version": "1.5.0",
            "_view_name": "VBoxView",
            "box_style": "",
            "children": [
              "IPY_MODEL_08116b5d91974a76a1e21aa4537dff6b",
              "IPY_MODEL_504923a5eb6d4a94a0d7fb4c245a8ce0"
            ],
            "layout": "IPY_MODEL_2e2d2af15a72405696c7d6f8fd2e028f"
          }
        },
        "08116b5d91974a76a1e21aa4537dff6b": {
          "model_module": "@jupyter-widgets/controls",
          "model_name": "IntSliderModel",
          "model_module_version": "1.5.0",
          "state": {
            "_dom_classes": [],
            "_model_module": "@jupyter-widgets/controls",
            "_model_module_version": "1.5.0",
            "_model_name": "IntSliderModel",
            "_view_count": null,
            "_view_module": "@jupyter-widgets/controls",
            "_view_module_version": "1.5.0",
            "_view_name": "IntSliderView",
            "continuous_update": true,
            "description": "a",
            "description_tooltip": null,
            "disabled": false,
            "layout": "IPY_MODEL_48738da2ead54ba58a2dc3cadfe8bd7a",
            "max": 7,
            "min": -7,
            "orientation": "horizontal",
            "readout": true,
            "readout_format": "d",
            "step": 1,
            "style": "IPY_MODEL_7dd5d1a835e44d24a368c43746201456",
            "value": 5
          }
        },
        "504923a5eb6d4a94a0d7fb4c245a8ce0": {
          "model_module": "@jupyter-widgets/output",
          "model_name": "OutputModel",
          "model_module_version": "1.0.0",
          "state": {
            "_dom_classes": [],
            "_model_module": "@jupyter-widgets/output",
            "_model_module_version": "1.0.0",
            "_model_name": "OutputModel",
            "_view_count": null,
            "_view_module": "@jupyter-widgets/output",
            "_view_module_version": "1.0.0",
            "_view_name": "OutputView",
            "layout": "IPY_MODEL_c1f57c7db6fc4d75a8f2facc9c1ea09b",
            "msg_id": "",
            "outputs": [
              {
                "output_type": "display_data",
                "data": {
                  "text/plain": "<Figure size 576x288 with 2 Axes>",
                  "image/png": "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\n"
                },
                "metadata": {
                  "needs_background": "light"
                }
              }
            ]
          }
        },
        "2e2d2af15a72405696c7d6f8fd2e028f": {
          "model_module": "@jupyter-widgets/base",
          "model_name": "LayoutModel",
          "model_module_version": "1.2.0",
          "state": {
            "_model_module": "@jupyter-widgets/base",
            "_model_module_version": "1.2.0",
            "_model_name": "LayoutModel",
            "_view_count": null,
            "_view_module": "@jupyter-widgets/base",
            "_view_module_version": "1.2.0",
            "_view_name": "LayoutView",
            "align_content": null,
            "align_items": null,
            "align_self": null,
            "border": null,
            "bottom": null,
            "display": null,
            "flex": null,
            "flex_flow": null,
            "grid_area": null,
            "grid_auto_columns": null,
            "grid_auto_flow": null,
            "grid_auto_rows": null,
            "grid_column": null,
            "grid_gap": null,
            "grid_row": null,
            "grid_template_areas": null,
            "grid_template_columns": null,
            "grid_template_rows": null,
            "height": null,
            "justify_content": null,
            "justify_items": null,
            "left": null,
            "margin": null,
            "max_height": null,
            "max_width": null,
            "min_height": null,
            "min_width": null,
            "object_fit": null,
            "object_position": null,
            "order": null,
            "overflow": null,
            "overflow_x": null,
            "overflow_y": null,
            "padding": null,
            "right": null,
            "top": null,
            "visibility": null,
            "width": null
          }
        },
        "48738da2ead54ba58a2dc3cadfe8bd7a": {
          "model_module": "@jupyter-widgets/base",
          "model_name": "LayoutModel",
          "model_module_version": "1.2.0",
          "state": {
            "_model_module": "@jupyter-widgets/base",
            "_model_module_version": "1.2.0",
            "_model_name": "LayoutModel",
            "_view_count": null,
            "_view_module": "@jupyter-widgets/base",
            "_view_module_version": "1.2.0",
            "_view_name": "LayoutView",
            "align_content": null,
            "align_items": null,
            "align_self": null,
            "border": null,
            "bottom": null,
            "display": null,
            "flex": null,
            "flex_flow": null,
            "grid_area": null,
            "grid_auto_columns": null,
            "grid_auto_flow": null,
            "grid_auto_rows": null,
            "grid_column": null,
            "grid_gap": null,
            "grid_row": null,
            "grid_template_areas": null,
            "grid_template_columns": null,
            "grid_template_rows": null,
            "height": null,
            "justify_content": null,
            "justify_items": null,
            "left": null,
            "margin": null,
            "max_height": null,
            "max_width": null,
            "min_height": null,
            "min_width": null,
            "object_fit": null,
            "object_position": null,
            "order": null,
            "overflow": null,
            "overflow_x": null,
            "overflow_y": null,
            "padding": null,
            "right": null,
            "top": null,
            "visibility": null,
            "width": null
          }
        },
        "7dd5d1a835e44d24a368c43746201456": {
          "model_module": "@jupyter-widgets/controls",
          "model_name": "SliderStyleModel",
          "model_module_version": "1.5.0",
          "state": {
            "_model_module": "@jupyter-widgets/controls",
            "_model_module_version": "1.5.0",
            "_model_name": "SliderStyleModel",
            "_view_count": null,
            "_view_module": "@jupyter-widgets/base",
            "_view_module_version": "1.2.0",
            "_view_name": "StyleView",
            "description_width": "",
            "handle_color": null
          }
        },
        "c1f57c7db6fc4d75a8f2facc9c1ea09b": {
          "model_module": "@jupyter-widgets/base",
          "model_name": "LayoutModel",
          "model_module_version": "1.2.0",
          "state": {
            "_model_module": "@jupyter-widgets/base",
            "_model_module_version": "1.2.0",
            "_model_name": "LayoutModel",
            "_view_count": null,
            "_view_module": "@jupyter-widgets/base",
            "_view_module_version": "1.2.0",
            "_view_name": "LayoutView",
            "align_content": null,
            "align_items": null,
            "align_self": null,
            "border": null,
            "bottom": null,
            "display": null,
            "flex": null,
            "flex_flow": null,
            "grid_area": null,
            "grid_auto_columns": null,
            "grid_auto_flow": null,
            "grid_auto_rows": null,
            "grid_column": null,
            "grid_gap": null,
            "grid_row": null,
            "grid_template_areas": null,
            "grid_template_columns": null,
            "grid_template_rows": null,
            "height": null,
            "justify_content": null,
            "justify_items": null,
            "left": null,
            "margin": null,
            "max_height": null,
            "max_width": null,
            "min_height": null,
            "min_width": null,
            "object_fit": null,
            "object_position": null,
            "order": null,
            "overflow": null,
            "overflow_x": null,
            "overflow_y": null,
            "padding": null,
            "right": null,
            "top": null,
            "visibility": null,
            "width": null
          }
        },
        "07e6a229136545939d94a67162b18a5a": {
          "model_module": "@jupyter-widgets/controls",
          "model_name": "VBoxModel",
          "model_module_version": "1.5.0",
          "state": {
            "_dom_classes": [
              "widget-interact"
            ],
            "_model_module": "@jupyter-widgets/controls",
            "_model_module_version": "1.5.0",
            "_model_name": "VBoxModel",
            "_view_count": null,
            "_view_module": "@jupyter-widgets/controls",
            "_view_module_version": "1.5.0",
            "_view_name": "VBoxView",
            "box_style": "",
            "children": [
              "IPY_MODEL_a3960c741dac4a1d90d961ca5cf0796f",
              "IPY_MODEL_0288e2fb9415454e9030d901a6a59464"
            ],
            "layout": "IPY_MODEL_2376fc11ece84485a07679e0c1a4a0c6"
          }
        },
        "a3960c741dac4a1d90d961ca5cf0796f": {
          "model_module": "@jupyter-widgets/controls",
          "model_name": "IntSliderModel",
          "model_module_version": "1.5.0",
          "state": {
            "_dom_classes": [],
            "_model_module": "@jupyter-widgets/controls",
            "_model_module_version": "1.5.0",
            "_model_name": "IntSliderModel",
            "_view_count": null,
            "_view_module": "@jupyter-widgets/controls",
            "_view_module_version": "1.5.0",
            "_view_name": "IntSliderView",
            "continuous_update": true,
            "description": "a",
            "description_tooltip": null,
            "disabled": false,
            "layout": "IPY_MODEL_e59a0f07f29f4d23bd28a5185cf71215",
            "max": 7,
            "min": -7,
            "orientation": "horizontal",
            "readout": true,
            "readout_format": "d",
            "step": 1,
            "style": "IPY_MODEL_df0dbefc10bb42dda6a35f2117d5a053",
            "value": 5
          }
        },
        "0288e2fb9415454e9030d901a6a59464": {
          "model_module": "@jupyter-widgets/output",
          "model_name": "OutputModel",
          "model_module_version": "1.0.0",
          "state": {
            "_dom_classes": [],
            "_model_module": "@jupyter-widgets/output",
            "_model_module_version": "1.0.0",
            "_model_name": "OutputModel",
            "_view_count": null,
            "_view_module": "@jupyter-widgets/output",
            "_view_module_version": "1.0.0",
            "_view_name": "OutputView",
            "layout": "IPY_MODEL_2a09d699e55742b8aea91133dfd3017a",
            "msg_id": "",
            "outputs": [
              {
                "output_type": "display_data",
                "data": {
                  "text/plain": "<Figure size 720x288 with 3 Axes>",
                  "image/png": "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\n"
                },
                "metadata": {}
              }
            ]
          }
        },
        "2376fc11ece84485a07679e0c1a4a0c6": {
          "model_module": "@jupyter-widgets/base",
          "model_name": "LayoutModel",
          "model_module_version": "1.2.0",
          "state": {
            "_model_module": "@jupyter-widgets/base",
            "_model_module_version": "1.2.0",
            "_model_name": "LayoutModel",
            "_view_count": null,
            "_view_module": "@jupyter-widgets/base",
            "_view_module_version": "1.2.0",
            "_view_name": "LayoutView",
            "align_content": null,
            "align_items": null,
            "align_self": null,
            "border": null,
            "bottom": null,
            "display": null,
            "flex": null,
            "flex_flow": null,
            "grid_area": null,
            "grid_auto_columns": null,
            "grid_auto_flow": null,
            "grid_auto_rows": null,
            "grid_column": null,
            "grid_gap": null,
            "grid_row": null,
            "grid_template_areas": null,
            "grid_template_columns": null,
            "grid_template_rows": null,
            "height": null,
            "justify_content": null,
            "justify_items": null,
            "left": null,
            "margin": null,
            "max_height": null,
            "max_width": null,
            "min_height": null,
            "min_width": null,
            "object_fit": null,
            "object_position": null,
            "order": null,
            "overflow": null,
            "overflow_x": null,
            "overflow_y": null,
            "padding": null,
            "right": null,
            "top": null,
            "visibility": null,
            "width": null
          }
        },
        "e59a0f07f29f4d23bd28a5185cf71215": {
          "model_module": "@jupyter-widgets/base",
          "model_name": "LayoutModel",
          "model_module_version": "1.2.0",
          "state": {
            "_model_module": "@jupyter-widgets/base",
            "_model_module_version": "1.2.0",
            "_model_name": "LayoutModel",
            "_view_count": null,
            "_view_module": "@jupyter-widgets/base",
            "_view_module_version": "1.2.0",
            "_view_name": "LayoutView",
            "align_content": null,
            "align_items": null,
            "align_self": null,
            "border": null,
            "bottom": null,
            "display": null,
            "flex": null,
            "flex_flow": null,
            "grid_area": null,
            "grid_auto_columns": null,
            "grid_auto_flow": null,
            "grid_auto_rows": null,
            "grid_column": null,
            "grid_gap": null,
            "grid_row": null,
            "grid_template_areas": null,
            "grid_template_columns": null,
            "grid_template_rows": null,
            "height": null,
            "justify_content": null,
            "justify_items": null,
            "left": null,
            "margin": null,
            "max_height": null,
            "max_width": null,
            "min_height": null,
            "min_width": null,
            "object_fit": null,
            "object_position": null,
            "order": null,
            "overflow": null,
            "overflow_x": null,
            "overflow_y": null,
            "padding": null,
            "right": null,
            "top": null,
            "visibility": null,
            "width": null
          }
        },
        "df0dbefc10bb42dda6a35f2117d5a053": {
          "model_module": "@jupyter-widgets/controls",
          "model_name": "SliderStyleModel",
          "model_module_version": "1.5.0",
          "state": {
            "_model_module": "@jupyter-widgets/controls",
            "_model_module_version": "1.5.0",
            "_model_name": "SliderStyleModel",
            "_view_count": null,
            "_view_module": "@jupyter-widgets/base",
            "_view_module_version": "1.2.0",
            "_view_name": "StyleView",
            "description_width": "",
            "handle_color": null
          }
        },
        "2a09d699e55742b8aea91133dfd3017a": {
          "model_module": "@jupyter-widgets/base",
          "model_name": "LayoutModel",
          "model_module_version": "1.2.0",
          "state": {
            "_model_module": "@jupyter-widgets/base",
            "_model_module_version": "1.2.0",
            "_model_name": "LayoutModel",
            "_view_count": null,
            "_view_module": "@jupyter-widgets/base",
            "_view_module_version": "1.2.0",
            "_view_name": "LayoutView",
            "align_content": null,
            "align_items": null,
            "align_self": null,
            "border": null,
            "bottom": null,
            "display": null,
            "flex": null,
            "flex_flow": null,
            "grid_area": null,
            "grid_auto_columns": null,
            "grid_auto_flow": null,
            "grid_auto_rows": null,
            "grid_column": null,
            "grid_gap": null,
            "grid_row": null,
            "grid_template_areas": null,
            "grid_template_columns": null,
            "grid_template_rows": null,
            "height": null,
            "justify_content": null,
            "justify_items": null,
            "left": null,
            "margin": null,
            "max_height": null,
            "max_width": null,
            "min_height": null,
            "min_width": null,
            "object_fit": null,
            "object_position": null,
            "order": null,
            "overflow": null,
            "overflow_x": null,
            "overflow_y": null,
            "padding": null,
            "right": null,
            "top": null,
            "visibility": null,
            "width": null
          }
        }
      }
    }
  },
  "cells": [
    {
      "cell_type": "markdown",
      "metadata": {
        "id": "view-in-github",
        "colab_type": "text"
      },
      "source": [
        "<a href=\"https://colab.research.google.com/github/kzhkAKT/Physics1/blob/draft/1107_%E7%AD%89%E5%8A%A0%E9%80%9F%E5%BA%A6%E7%9B%B4%E7%B7%9A%E9%81%8B%E5%8B%95_%E7%89%A9%E7%90%861.ipynb\" target=\"_parent\"><img src=\"https://colab.research.google.com/assets/colab-badge.svg\" alt=\"Open In Colab\"/></a>"
      ]
    },
    {
      "cell_type": "markdown",
      "metadata": {
        "id": "YlZ1etaUE2m0"
      },
      "source": [
        "# 運動の表し方\n"
      ]
    },
    {
      "cell_type": "markdown",
      "metadata": {
        "id": "fYDHo38R8zF2"
      },
      "source": [
        "## 復習\n",
        "$\\require{cancel}$"
      ]
    },
    {
      "cell_type": "markdown",
      "metadata": {
        "id": "Qo4UsQD95vUV"
      },
      "source": [
        "### 速度 $v$ の定義\n",
        "\n",
        "\\begin{align*}\n",
        "v &= \\dfrac{\\Delta x}{\\Delta t} = \\dfrac{x_2 - x_1 }{t_2 - t_1}&\n",
        "\\end{align*}\n",
        "\n",
        "この式から\n",
        "> $x-t$グラフ, つまり変位($\\Delta x$)と時間変化($\\Delta t$)比が **速度** になる  \n",
        "\n",
        "といえました. では初めの形を両辺に $\\Delta t$ を掛けて,\n",
        "次のように変形してみましょう.\n",
        "\\begin{align*}\n",
        "v \\cdot \\Delta t &= \\dfrac{\\Delta x}{\\cancel{\\Delta t}} \\cancel{\\Delta  t}&\\\\\n",
        "\\Delta x &=v \\cdot \\Delta t\n",
        "\\end{align*}\n",
        "となりました. この式から\n",
        "\n",
        "> $v-t$ グラフ, つまり 速度($v$) と 時間変化の積が, 変位($\\Delta x$) になる\n",
        "\n",
        "ということができます. これは前回教科書に線を引いた(1.1.6)ことを表しています.\n",
        "\n",
        "\n",
        "\n"
      ]
    },
    {
      "cell_type": "markdown",
      "metadata": {
        "id": "oTNYUmPs84XG"
      },
      "source": [
        "### 加速度 $a$ の定義\n",
        "\n",
        "\\begin{align*}\n",
        "a &= \\dfrac{\\Delta v}{\\Delta t} = \\dfrac{v_2 - v_1 }{t_2 - t_1}&\n",
        "\\end{align*}\n",
        "\n",
        "この式から\n",
        "> $v-t$グラフ, つまり速度変化($\\Delta v$)と時間変化($\\Delta t$)比が **加速度** になる  \n",
        "\n",
        "といえました. では初めの形を両辺に $\\Delta t$ を掛けて,\n",
        "次のように変形してみましょう.\n",
        "\\begin{align*}\n",
        "a \\cdot \\Delta t &= \\dfrac{\\Delta v}{\\cancel{\\Delta t}} \\cancel{\\Delta  t}&\\\\\n",
        "\\Delta v &=a \\cdot \\Delta t\n",
        "\\end{align*}\n",
        "となりました. この式から\n",
        "\n",
        "> $a-t$ グラフ, つまり 加速度($a$) と 時間変化の積が, 速度の変化($\\Delta v$) になる\n",
        "\n",
        "と言えそうです.\n",
        "\n",
        "\n",
        "---\n"
      ]
    },
    {
      "cell_type": "markdown",
      "metadata": {
        "id": "5Q1I04q6E2jj"
      },
      "source": [
        "## 等加速度直線運動\n",
        "\n",
        "> 等加速度直線運動 = 「等」+ 「加速度」+「直線」+ \u0005運動\n",
        "と分解し, それぞれの要素について\n",
        "\n",
        "> 「等」+ 「加速度」: 一定の **加速度**  \n",
        "> 直線: (ある点から出発し)直線上を進む\n",
        "\n",
        "### 復習: 物体の加速度 $a$ の定義\n",
        "$$\n",
        "a = \\dfrac{\\Delta v}{\\Delta t}\n",
        "= \\dfrac{v_2 - v_1 }{t_2 - t_1}\n",
        "$$\n"
      ]
    },
    {
      "cell_type": "markdown",
      "metadata": {
        "id": "Lg6gkzKoNBXl"
      },
      "source": [
        "#### 初め静止していた等加速度直線運動の速度 $v$\n",
        "\n",
        "いま$a$ を一定, さらに\n",
        "* 測定開始時点を $t_1=0$ でこのときの速度を $v_1=0$\n",
        "* 測定開始時点 $t_1=0$ から経過した時間を $t_2=t$   \n",
        "* 時刻 $t$ での速度を $v$ \n",
        "\n",
        "と置き直すと\n",
        "\n",
        "\n",
        "$$\n",
        "\\require{cancel}\n",
        "\\begin{align*}\n",
        "a &= \\dfrac{\\cancelto{v}{v_2} - \\cancelto{0}{v_1}}\n",
        "{\\cancelto{t}{t_2} - \\cancelto{0}{t_1}}&\\\\\n",
        "&= \\dfrac{v}{t}\\\\\n",
        "v&=a\\cdot t&\n",
        "\\end{align*}\n",
        "$$\n",
        "これより, 初め静止していた物体が, 等加速度で直線上を運動する $t$ 秒後の速度は\n",
        ">> $(1.6) \\qquad v = a \\cdot t$\n",
        "\n",
        "となります."
      ]
    },
    {
      "cell_type": "markdown",
      "metadata": {
        "id": "Vjiwp7_PuryV"
      },
      "source": [
        "#### 初め静止していた等加速度直線運動の変位 $s$\n",
        "\n",
        "等加速度直線運動では, 速度は時間によって変化します.\n",
        "> $\\quad v = a \\cdot t$\n",
        "\n"
      ]
    },
    {
      "cell_type": "code",
      "metadata": {
        "id": "B8CzBpp0sRuy",
        "cellView": "form",
        "outputId": "900675ab-d572-42d4-eb82-4b9125e70b47",
        "colab": {
          "base_uri": "https://localhost:8080/",
          "height": 349,
          "referenced_widgets": [
            "ae541801c2ab498ea3f6b6f0fb8fcfa7",
            "08116b5d91974a76a1e21aa4537dff6b",
            "504923a5eb6d4a94a0d7fb4c245a8ce0",
            "2e2d2af15a72405696c7d6f8fd2e028f",
            "48738da2ead54ba58a2dc3cadfe8bd7a",
            "7dd5d1a835e44d24a368c43746201456",
            "c1f57c7db6fc4d75a8f2facc9c1ea09b"
          ]
        }
      },
      "source": [
        "#@title 等加速度直線運動における a-t と v-t の関係(ここをクリック+再生)\n",
        "%matplotlib inline\n",
        "import matplotlib.pyplot as plt\n",
        "from ipywidgets import interact\n",
        "import numpy as np\n",
        "plt.style.use('ggplot')\n",
        "\n",
        "(a,T)=(5.0,10)\n",
        "\n",
        "plt.figure()\n",
        "t = np.linspace(0, T)\n",
        "a, v = [], []\n",
        "\n",
        "@interact(a=(-7,+7))\n",
        "def f(a):\n",
        "    fig = plt.figure(figsize=(8,4))\n",
        "\n",
        "    # グラフ間の幅を調整\n",
        "    plt.subplots_adjust(wspace=0.5, hspace=0.5)\n",
        "\n",
        "    at = fig.add_subplot(1, 2, 1)\n",
        "    at.plot(t , a + 0*t )\n",
        "    at.plot(t , 0*t )  \n",
        "    at.set_xlabel('t [s]') \n",
        "    at.set_ylabel('a [m/s$^2$]')\n",
        "    at.set_title('a-t')\n",
        "    at.set_xlim([0, 8])\n",
        "    at.set_ylim([-10, 10])   \n",
        "\n",
        "    vt = fig.add_subplot(1, 2, 2)\n",
        "    vt.plot(t , a*t )\n",
        "    vt.plot(t , 0*t )\n",
        "    vt.set_xlabel('t [s]')\n",
        "    vt.set_ylabel('v [m/s]')\n",
        "    vt.set_title('v-t')\n",
        "    vt.set_xlim([0, 8])\n",
        "    vt.set_ylim([-25, 25])\n",
        "\n",
        "    plt.show()"
      ],
      "execution_count": 1,
      "outputs": [
        {
          "output_type": "display_data",
          "data": {
            "text/plain": [
              "<Figure size 432x288 with 0 Axes>"
            ]
          },
          "metadata": {}
        },
        {
          "output_type": "display_data",
          "data": {
            "text/plain": [
              "interactive(children=(IntSlider(value=0, description='a', max=7, min=-7), Output()), _dom_classes=('widget-int…"
            ],
            "application/vnd.jupyter.widget-view+json": {
              "version_major": 2,
              "version_minor": 0,
              "model_id": "ae541801c2ab498ea3f6b6f0fb8fcfa7"
            }
          },
          "metadata": {}
        }
      ]
    },
    {
      "cell_type": "code",
      "metadata": {
        "id": "Wg1flRLTsksA",
        "cellView": "form",
        "colab": {
          "base_uri": "https://localhost:8080/",
          "height": 414
        },
        "outputId": "a06ac1b3-1e4f-4ade-fe08-bb00a542afc0"
      },
      "source": [
        "#@title v-t グラフの分割による考察\n",
        "%%svg\n",
        "<svg xmlns=\"http://www.w3.org/2000/svg\" xmlns:xlink=\"http://www.w3.org/1999/xlink\" version=\"1.1\" width=\"770px\" viewBox=\"-0.5 -0.5 770 393\" content=\"&lt;mxfile host=&quot;www.draw.io&quot; modified=&quot;2020-05-25T13:00:18.574Z&quot; agent=&quot;5.0 (Macintosh; Intel Mac OS X 10_15_4) AppleWebKit/537.36 (KHTML, like Gecko) Chrome/83.0.4103.61 Safari/537.36&quot; etag=&quot;XBtK7j16J_kHAdrVxd7F&quot; version=&quot;13.1.3&quot; type=&quot;google&quot;&gt;&lt;diagram id=&quot;IQ7CvnFe63TmqmIrzkI5&quot; name=&quot;Page-1&quot;&gt;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&lt;/diagram&gt;&lt;/mxfile&gt;\" onclick=\"(function(svg){var src=window.event.target||window.event.srcElement;while (src!=null&amp;&amp;src.nodeName.toLowerCase()!='a'){src=src.parentNode;}if(src==null){if(svg.wnd!=null&amp;&amp;!svg.wnd.closed){svg.wnd.focus();}else{var r=function(evt){if(evt.data=='ready'&amp;&amp;evt.source==svg.wnd){svg.wnd.postMessage(decodeURIComponent(svg.getAttribute('content')),'*');window.removeEventListener('message',r);}};window.addEventListener('message',r);svg.wnd=window.open('https://www.draw.io/?client=1&amp;lightbox=1&amp;edit=_blank');}}})(this);\" style=\"cursor:pointer;max-width:100%;max-height:393px;\"><defs/><g><path d=\"M 501.34 38.68 L 672.66 210 L 501.34 381.32 Z\" fill=\"#f8cecc\" stroke=\"#b85450\" stroke-miterlimit=\"10\" transform=\"translate(587,0)scale(-1,1)translate(-587,0)rotate(-225,587,210)\" pointer-events=\"all\"/><rect x=\"127\" y=\"150\" width=\"80\" height=\"120\" fill=\"#f8cecc\" stroke=\"#b85450\" pointer-events=\"all\"/><g transform=\"translate(-0.5 -0.5)\"><switch><foreignObject style=\"overflow: visible; text-align: left;\" pointer-events=\"none\" width=\"100%\" height=\"100%\" requiredFeatures=\"http://www.w3.org/TR/SVG11/feature#Extensibility\"><div xmlns=\"http://www.w3.org/1999/xhtml\" style=\"display: flex; align-items: unsafe center; justify-content: unsafe center; width: 78px; height: 1px; padding-top: 210px; margin-left: 128px;\"><div style=\"box-sizing: border-box; font-size: 0; text-align: center; \"><div style=\"display: inline-block; font-size: 18px; font-family: Courier New; color: #000000; line-height: 1.2; pointer-events: all; white-space: normal; word-wrap: normal; \"><font face=\"Georgia\"><i>v</i><sub>2</sub><span style=\"font-style: italic ; font-size: 15px\">Δt</span></font></div></div></div></foreignObject><text x=\"167\" y=\"215\" fill=\"#000000\" font-family=\"Courier New\" font-size=\"18px\" text-anchor=\"middle\">v2Δt</text></switch></g><rect x=\"207\" y=\"70\" width=\"80\" height=\"200\" fill=\"#f8cecc\" stroke=\"#b85450\" pointer-events=\"all\"/><g transform=\"translate(-0.5 -0.5)\"><switch><foreignObject style=\"overflow: visible; text-align: left;\" pointer-events=\"none\" width=\"100%\" height=\"100%\" requiredFeatures=\"http://www.w3.org/TR/SVG11/feature#Extensibility\"><div xmlns=\"http://www.w3.org/1999/xhtml\" style=\"display: flex; align-items: unsafe center; justify-content: unsafe center; width: 78px; height: 1px; padding-top: 170px; margin-left: 208px;\"><div style=\"box-sizing: border-box; font-size: 0; text-align: center; \"><div style=\"display: inline-block; font-size: 18px; font-family: Courier New; color: #000000; line-height: 1.2; pointer-events: all; white-space: normal; word-wrap: normal; \"><font face=\"Georgia\"><i>v</i><sub>3</sub><i>Δt</i></font></div></div></div></foreignObject><text x=\"247\" y=\"175\" fill=\"#000000\" font-family=\"Courier New\" font-size=\"18px\" text-anchor=\"middle\">v3Δt</text></switch></g><rect x=\"47\" y=\"230\" width=\"80\" height=\"40\" fill=\"#f8cecc\" stroke=\"#b85450\" pointer-events=\"all\"/><g transform=\"translate(-0.5 -0.5)\"><switch><foreignObject style=\"overflow: visible; text-align: left;\" pointer-events=\"none\" width=\"100%\" height=\"100%\" requiredFeatures=\"http://www.w3.org/TR/SVG11/feature#Extensibility\"><div xmlns=\"http://www.w3.org/1999/xhtml\" style=\"display: flex; align-items: unsafe center; justify-content: unsafe center; width: 78px; height: 1px; padding-top: 250px; margin-left: 48px;\"><div style=\"box-sizing: border-box; font-size: 0; text-align: center; \"><div style=\"display: inline-block; font-size: 18px; font-family: Courier New; color: #000000; line-height: 1.2; pointer-events: all; white-space: normal; word-wrap: normal; \"><font face=\"Georgia\"><i>v</i><sub>1</sub><i>Δt</i></font></div></div></div></foreignObject><text x=\"87\" y=\"255\" fill=\"#000000\" font-family=\"Courier New\" font-size=\"18px\" text-anchor=\"middle\">v1Δt</text></switch></g><path d=\"M 7 270 L 320.63 270\" fill=\"none\" stroke=\"#000000\" stroke-miterlimit=\"10\" pointer-events=\"stroke\"/><path d=\"M 325.88 270 L 318.88 273.5 L 320.63 270 L 318.88 266.5 Z\" fill=\"#000000\" stroke=\"#000000\" stroke-miterlimit=\"10\" pointer-events=\"all\"/><path d=\"M 47 310 L 47 26.37\" fill=\"none\" stroke=\"#000000\" stroke-miterlimit=\"10\" pointer-events=\"stroke\"/><path d=\"M 47 21.12 L 50.5 28.12 L 47 26.37 L 43.5 28.12 Z\" fill=\"#000000\" stroke=\"#000000\" stroke-miterlimit=\"10\" pointer-events=\"all\"/><g transform=\"translate(-0.5 -0.5)\"><switch><foreignObject style=\"overflow: visible; text-align: left;\" pointer-events=\"none\" width=\"100%\" height=\"100%\" requiredFeatures=\"http://www.w3.org/TR/SVG11/feature#Extensibility\"><div xmlns=\"http://www.w3.org/1999/xhtml\" style=\"display: flex; align-items: unsafe center; justify-content: unsafe center; width: 1px; height: 1px; padding-top: 11px; margin-left: 48px;\"><div style=\"box-sizing: border-box; font-size: 0; text-align: center; \"><div style=\"display: inline-block; font-size: 18px; font-family: Georgia; color: #000000; line-height: 1.2; pointer-events: all; background-color: #ffffff; white-space: nowrap; \"><i>v</i></div></div></div></foreignObject><text x=\"48\" y=\"16\" fill=\"#000000\" font-family=\"Georgia\" font-size=\"18px\" text-anchor=\"middle\">v</text></switch></g><path d=\"M 47 270 L 287 30\" fill=\"none\" stroke=\"#000000\" stroke-width=\"2\" stroke-miterlimit=\"10\" pointer-events=\"stroke\"/><path d=\"M 127 270 L 127 190\" fill=\"none\" stroke=\"#000000\" stroke-miterlimit=\"10\" stroke-dasharray=\"3 3\" pointer-events=\"stroke\"/><path d=\"M 207 270 L 207 110\" fill=\"none\" stroke=\"#000000\" stroke-miterlimit=\"10\" stroke-dasharray=\"3 3\" pointer-events=\"stroke\"/><path d=\"M 53.37 270 L 120.63 270\" fill=\"none\" stroke=\"#000000\" stroke-miterlimit=\"10\" pointer-events=\"stroke\"/><path d=\"M 48.12 270 L 55.12 266.5 L 53.37 270 L 55.12 273.5 Z\" fill=\"#000000\" stroke=\"#000000\" stroke-miterlimit=\"10\" pointer-events=\"all\"/><path d=\"M 125.88 270 L 118.88 273.5 L 120.63 270 L 118.88 266.5 Z\" fill=\"#000000\" stroke=\"#000000\" stroke-miterlimit=\"10\" pointer-events=\"all\"/><g transform=\"translate(-0.5 -0.5)\"><switch><foreignObject style=\"overflow: visible; text-align: left;\" pointer-events=\"none\" width=\"100%\" height=\"100%\" requiredFeatures=\"http://www.w3.org/TR/SVG11/feature#Extensibility\"><div xmlns=\"http://www.w3.org/1999/xhtml\" style=\"display: flex; align-items: unsafe center; justify-content: unsafe center; width: 1px; height: 1px; padding-top: 290px; margin-left: 87px;\"><div style=\"box-sizing: border-box; font-size: 0; text-align: center; \"><div style=\"display: inline-block; font-size: 18px; font-family: Courier New; color: #000000; line-height: 1.2; pointer-events: all; background-color: #ffffff; white-space: nowrap; \"><font face=\"Georgia\">Δ<i>t</i></font></div></div></div></foreignObject><text x=\"87\" y=\"295\" fill=\"#000000\" font-family=\"Courier New\" font-size=\"18px\" text-anchor=\"middle\">Δt</text></switch></g><path d=\"M 133.37 270 L 200.63 270\" fill=\"none\" stroke=\"#000000\" stroke-miterlimit=\"10\" pointer-events=\"stroke\"/><path d=\"M 128.12 270 L 135.12 266.5 L 133.37 270 L 135.12 273.5 Z\" fill=\"#000000\" stroke=\"#000000\" stroke-miterlimit=\"10\" pointer-events=\"all\"/><path d=\"M 205.88 270 L 198.88 273.5 L 200.63 270 L 198.88 266.5 Z\" fill=\"#000000\" stroke=\"#000000\" stroke-miterlimit=\"10\" pointer-events=\"all\"/><g transform=\"translate(-0.5 -0.5)\"><switch><foreignObject style=\"overflow: visible; text-align: left;\" pointer-events=\"none\" width=\"100%\" height=\"100%\" requiredFeatures=\"http://www.w3.org/TR/SVG11/feature#Extensibility\"><div xmlns=\"http://www.w3.org/1999/xhtml\" style=\"display: flex; align-items: unsafe center; justify-content: unsafe center; width: 1px; height: 1px; padding-top: 290px; margin-left: 167px;\"><div style=\"box-sizing: border-box; font-size: 0; text-align: center; \"><div style=\"display: inline-block; font-size: 18px; font-family: Courier New; color: #000000; line-height: 1.2; pointer-events: all; background-color: #ffffff; white-space: nowrap; \"><font face=\"Georgia\">Δ<i>t</i></font></div></div></div></foreignObject><text x=\"167\" y=\"295\" fill=\"#000000\" font-family=\"Courier New\" font-size=\"18px\" text-anchor=\"middle\">Δt</text></switch></g><path d=\"M 213.37 270 L 280.63 270\" fill=\"none\" stroke=\"#000000\" stroke-miterlimit=\"10\" pointer-events=\"stroke\"/><path d=\"M 208.12 270 L 215.12 266.5 L 213.37 270 L 215.12 273.5 Z\" fill=\"#000000\" stroke=\"#000000\" stroke-miterlimit=\"10\" pointer-events=\"all\"/><path d=\"M 285.88 270 L 278.88 273.5 L 280.63 270 L 278.88 266.5 Z\" fill=\"#000000\" stroke=\"#000000\" stroke-miterlimit=\"10\" pointer-events=\"all\"/><g transform=\"translate(-0.5 -0.5)\"><switch><foreignObject style=\"overflow: visible; text-align: left;\" pointer-events=\"none\" width=\"100%\" height=\"100%\" requiredFeatures=\"http://www.w3.org/TR/SVG11/feature#Extensibility\"><div xmlns=\"http://www.w3.org/1999/xhtml\" style=\"display: flex; align-items: unsafe center; justify-content: unsafe center; width: 1px; height: 1px; padding-top: 290px; margin-left: 247px;\"><div style=\"box-sizing: border-box; font-size: 0; text-align: center; \"><div style=\"display: inline-block; font-size: 18px; font-family: Courier New; color: #000000; line-height: 1.2; pointer-events: all; background-color: #ffffff; white-space: nowrap; \"><font face=\"Georgia\">Δ<i>t</i></font></div></div></div></foreignObject><text x=\"247\" y=\"295\" fill=\"#000000\" font-family=\"Courier New\" font-size=\"18px\" text-anchor=\"middle\">Δt</text></switch></g><path d=\"M 227 160 L 247 160\" fill=\"none\" stroke=\"#000000\" stroke-width=\"2\" stroke-miterlimit=\"10\" pointer-events=\"stroke\"/><path d=\"M 147 203 L 167 203\" fill=\"none\" stroke=\"#000000\" stroke-width=\"2\" stroke-miterlimit=\"10\" pointer-events=\"stroke\"/><path d=\"M 68 243 L 88 243\" fill=\"none\" stroke=\"#000000\" stroke-width=\"2\" stroke-miterlimit=\"10\" pointer-events=\"stroke\"/><ellipse cx=\"128\" cy=\"190\" rx=\"5\" ry=\"5\" fill=\"none\" stroke=\"#000000\" pointer-events=\"all\"/><ellipse cx=\"207\" cy=\"110\" rx=\"5\" ry=\"5\" fill=\"none\" stroke=\"#000000\" pointer-events=\"all\"/><ellipse cx=\"287\" cy=\"30\" rx=\"5\" ry=\"5\" fill=\"none\" stroke=\"#000000\" pointer-events=\"all\"/><path d=\"M 287 263.63 L 287 36.37\" fill=\"none\" stroke=\"#000000\" stroke-miterlimit=\"10\" pointer-events=\"stroke\"/><path d=\"M 287 268.88 L 283.5 261.88 L 287 263.63 L 290.5 261.88 Z\" fill=\"#000000\" stroke=\"#000000\" stroke-miterlimit=\"10\" pointer-events=\"all\"/><path d=\"M 287 31.12 L 290.5 38.12 L 287 36.37 L 283.5 38.12 Z\" fill=\"#000000\" stroke=\"#000000\" stroke-miterlimit=\"10\" pointer-events=\"all\"/><g transform=\"translate(-0.5 -0.5)\"><switch><foreignObject style=\"overflow: visible; text-align: left;\" pointer-events=\"none\" width=\"100%\" height=\"100%\" requiredFeatures=\"http://www.w3.org/TR/SVG11/feature#Extensibility\"><div xmlns=\"http://www.w3.org/1999/xhtml\" style=\"display: flex; align-items: unsafe center; justify-content: unsafe center; width: 1px; height: 1px; padding-top: 159px; margin-left: 298px;\"><div style=\"box-sizing: border-box; font-size: 0; text-align: center; \"><div style=\"display: inline-block; font-size: 18px; font-family: Courier New; color: #000000; line-height: 1.2; pointer-events: all; background-color: #ffffff; white-space: nowrap; \"><font face=\"Georgia\"><i>at</i></font></div></div></div></foreignObject><text x=\"298\" y=\"164\" fill=\"#000000\" font-family=\"Courier New\" font-size=\"18px\" text-anchor=\"middle\">at</text></switch></g><ellipse cx=\"47\" cy=\"270\" rx=\"5\" ry=\"5\" fill=\"none\" stroke=\"#000000\" pointer-events=\"all\"/><path d=\"M 287 310 L 287 270\" fill=\"none\" stroke=\"#000000\" stroke-miterlimit=\"10\" stroke-dasharray=\"3 3\" pointer-events=\"stroke\"/><g transform=\"translate(-0.5 -0.5)\"><switch><foreignObject style=\"overflow: visible; text-align: left;\" pointer-events=\"none\" width=\"100%\" height=\"100%\" requiredFeatures=\"http://www.w3.org/TR/SVG11/feature#Extensibility\"><div xmlns=\"http://www.w3.org/1999/xhtml\" style=\"display: flex; align-items: unsafe center; justify-content: unsafe center; width: 1px; height: 1px; padding-top: 290px; margin-left: 287px;\"><div style=\"box-sizing: border-box; font-size: 0; text-align: center; \"><div style=\"display: inline-block; font-size: 18px; font-family: Courier New; color: #000000; line-height: 1.2; pointer-events: all; background-color: #ffffff; white-space: nowrap; \"><span style=\"color: rgba(0 , 0 , 0 , 0) ; font-family: monospace ; font-size: 0px ; background-color: rgb(248 , 249 , 250)\">%3CmxGraphModel%3E%3Croot%3E%3CmxCell%20id%3D%220%22%2F%3E%3CmxCell%20id%3D%221%22%20parent%3D%220%22%2F%3E%3CmxCell%20id%3D%222%22%20value%3D%22%26lt%3Bfont%20face%3D%26quot%3BGeorgia%26quot%3B%26gt%3Bt%26lt%3B%2Ffont%26gt%3B%22%20style%3D%22edgeLabel%3Bhtml%3D1%3Balign%3Dcenter%3BverticalAlign%3Dmiddle%3Bresizable%3D0%3Bpoints%3D%5B%5D%3BfontSize%3D18%3BfontFamily%3DCourier%20New%3BfontStyle%3D2%22%20vertex%3D%221%22%20connectable%3D%220%22%20parent%3D%221%22%3E%3CmxGeometry%20x%3D%22440%22%20y%3D%22340%22%20as%3D%22geometry%22%3E%3CmxPoint%20x%3D%22-40%22%20y%3D%2217%22%20as%3D%22offset%22%2F%3E%3C%2FmxGeometry%3E%3C%2FmxCell%3E%3C%2Froot%3E%3C%2FmxGraphModel%3Et</span></div></div></div></foreignObject><text x=\"287\" y=\"295\" fill=\"#000000\" font-family=\"Courier New\" font-size=\"18px\" text-anchor=\"middle\">%3CmxG...</text></switch></g><g transform=\"translate(-0.5 -0.5)\"><switch><foreignObject style=\"overflow: visible; text-align: left;\" pointer-events=\"none\" width=\"100%\" height=\"100%\" requiredFeatures=\"http://www.w3.org/TR/SVG11/feature#Extensibility\"><div xmlns=\"http://www.w3.org/1999/xhtml\" style=\"display: flex; align-items: unsafe center; justify-content: unsafe center; width: 1px; height: 1px; padding-top: 287px; margin-left: 289px;\"><div style=\"box-sizing: border-box; font-size: 0; text-align: center; \"><div style=\"display: inline-block; font-size: 18px; font-family: Courier New; color: #000000; line-height: 1.2; pointer-events: all; background-color: #ffffff; white-space: nowrap; \"><span style=\"color: rgba(0 , 0 , 0 , 0) ; font-family: monospace ; font-size: 0px ; background-color: rgb(248 , 249 , 250)\">%3CmxGraphModel%3E%3Croot%3E%3CmxCell%20id%3D%220%22%2F%3E%3CmxCell%20id%3D%221%22%20parent%3D%220%22%2F%3E%3CmxCell%20id%3D%222%22%20value%3D%22%26lt%3Bfont%20face%3D%26quot%3BGeorgia%26quot%3B%26gt%3Bt%26lt%3B%2Ffont%26gt%3B%22%20style%3D%22edgeLabel%3Bhtml%3D1%3Balign%3Dcenter%3BverticalAlign%3Dmiddle%3Bresizable%3D0%3Bpoints%3D%5B%5D%3BfontSize%3D18%3BfontFamily%3DCourier%20New%3BfontStyle%3D2%22%20vertex%3D%221%22%20connectable%3D%220%22%20parent%3D%221%22%3E%3CmxGeometry%20x%3D%22440%22%20y%3D%22340%22%20as%3D%22geometry%22%3E%3CmxPoint%20x%3D%22-40%22%20y%3D%2217%22%20as%3D%22offset%22%2F%3E%3C%2FmxGeometry%3E%3C%2FmxCell%3E%3C%2Froot%3E%3C%2FmxGraphModel%3</span></div></div></div></foreignObject><text x=\"289\" y=\"292\" fill=\"#000000\" font-family=\"Courier New\" font-size=\"18px\" text-anchor=\"middle\">%3CmxGraphModel%3E%3Croot%3E%3CmxCell%20id%3D%220%22%2F%3E%3CmxCell%20id%3D%221%22%20parent%3D%220%22%2F%3E%3CmxCell%20id%3D%222%22%20value%3D%22%26lt%3Bfont%20face%3D%26quot%3BGeorgia%26quot%3B%26gt%3Bt%26lt%3B%2Ffont%26gt%3B%22%20style%3D%22edgeLabel%3Bhtml%3D1%3Balign%3Dcenter%3BverticalAlign%3Dmiddle%3Bresizable%3D0%3Bpoints%3D%5B%5D%3BfontSize%3D18%3BfontFamily%3DCourier%20New%3BfontStyle%3D2%22%20vertex%3D%221%22%20connectable%3D%220%22%20parent%3D%221%22%3E%3CmxGeometry%20x%3D%22440%22%20y%3D%22340%22%20as%3D%22geometry%22%3E%3CmxPoint%20x%3D%22-40%22%20y%3D%2217%22%20as%3D%22offset%22%2F%3E%3C%2FmxGeometry%3E%3C%2FmxCell%3E%3C%2Froot%3E%3C%2FmxGraphModel%3</text></switch></g><path d=\"M 47 300 L 280.63 300\" fill=\"none\" stroke=\"#000000\" stroke-miterlimit=\"10\" pointer-events=\"stroke\"/><path d=\"M 285.88 300 L 278.88 303.5 L 280.63 300 L 278.88 296.5 Z\" fill=\"#000000\" stroke=\"#000000\" stroke-miterlimit=\"10\" pointer-events=\"all\"/><g transform=\"translate(-0.5 -0.5)\"><switch><foreignObject style=\"overflow: visible; text-align: left;\" pointer-events=\"none\" width=\"100%\" height=\"100%\" requiredFeatures=\"http://www.w3.org/TR/SVG11/feature#Extensibility\"><div xmlns=\"http://www.w3.org/1999/xhtml\" style=\"display: flex; align-items: unsafe center; justify-content: unsafe center; width: 1px; height: 1px; padding-top: 311px; margin-left: 168px;\"><div style=\"box-sizing: border-box; font-size: 0; text-align: center; \"><div style=\"display: inline-block; font-size: 18px; font-family: Georgia; color: #000000; line-height: 1.2; pointer-events: all; background-color: #ffffff; white-space: nowrap; \"><i>t</i></div></div></div></foreignObject><text x=\"168\" y=\"316\" fill=\"#000000\" font-family=\"Georgia\" font-size=\"18px\" text-anchor=\"middle\">t</text></switch></g><path d=\"M 367 270 L 680.63 270\" fill=\"none\" stroke=\"#000000\" stroke-miterlimit=\"10\" pointer-events=\"stroke\"/><path d=\"M 685.88 270 L 678.88 273.5 L 680.63 270 L 678.88 266.5 Z\" fill=\"#000000\" stroke=\"#000000\" stroke-miterlimit=\"10\" pointer-events=\"all\"/><path d=\"M 407 310 L 407 26.37\" fill=\"none\" stroke=\"#000000\" stroke-miterlimit=\"10\" pointer-events=\"stroke\"/><path d=\"M 407 21.12 L 410.5 28.12 L 407 26.37 L 403.5 28.12 Z\" fill=\"#000000\" stroke=\"#000000\" stroke-miterlimit=\"10\" pointer-events=\"all\"/><g transform=\"translate(-0.5 -0.5)\"><switch><foreignObject style=\"overflow: visible; text-align: left;\" pointer-events=\"none\" width=\"100%\" height=\"100%\" requiredFeatures=\"http://www.w3.org/TR/SVG11/feature#Extensibility\"><div xmlns=\"http://www.w3.org/1999/xhtml\" style=\"display: flex; align-items: unsafe center; justify-content: unsafe center; width: 1px; height: 1px; padding-top: 11px; margin-left: 409px;\"><div style=\"box-sizing: border-box; font-size: 0; text-align: center; \"><div style=\"display: inline-block; font-size: 18px; font-family: Georgia; color: #000000; line-height: 1.2; pointer-events: all; background-color: #ffffff; white-space: nowrap; \"><i>v</i></div></div></div></foreignObject><text x=\"409\" y=\"16\" fill=\"#000000\" font-family=\"Georgia\" font-size=\"18px\" text-anchor=\"middle\">v</text></switch></g><path d=\"M 407 270 L 647 30\" fill=\"none\" stroke=\"#000000\" stroke-width=\"2\" stroke-miterlimit=\"10\" pointer-events=\"stroke\"/><path d=\"M 647 270 L 647 36.37\" fill=\"none\" stroke=\"#000000\" stroke-miterlimit=\"10\" pointer-events=\"stroke\"/><path d=\"M 647 31.12 L 650.5 38.12 L 647 36.37 L 643.5 38.12 Z\" fill=\"#000000\" stroke=\"#000000\" stroke-miterlimit=\"10\" pointer-events=\"all\"/><g transform=\"translate(-0.5 -0.5)\"><switch><foreignObject style=\"overflow: visible; text-align: left;\" pointer-events=\"none\" width=\"100%\" height=\"100%\" requiredFeatures=\"http://www.w3.org/TR/SVG11/feature#Extensibility\"><div xmlns=\"http://www.w3.org/1999/xhtml\" style=\"display: flex; align-items: unsafe center; justify-content: unsafe center; width: 1px; height: 1px; padding-top: 159px; margin-left: 658px;\"><div style=\"box-sizing: border-box; font-size: 0; text-align: center; \"><div style=\"display: inline-block; font-size: 18px; font-family: Courier New; color: #000000; line-height: 1.2; pointer-events: all; background-color: #ffffff; white-space: nowrap; \"><font face=\"Georgia\"><i>at</i></font></div></div></div></foreignObject><text x=\"658\" y=\"164\" fill=\"#000000\" font-family=\"Courier New\" font-size=\"18px\" text-anchor=\"middle\">at</text></switch></g><path d=\"M 647 310 L 647 270\" fill=\"none\" stroke=\"#000000\" stroke-miterlimit=\"10\" stroke-dasharray=\"3 3\" pointer-events=\"stroke\"/><g transform=\"translate(-0.5 -0.5)\"><switch><foreignObject style=\"overflow: visible; text-align: left;\" pointer-events=\"none\" width=\"100%\" height=\"100%\" requiredFeatures=\"http://www.w3.org/TR/SVG11/feature#Extensibility\"><div xmlns=\"http://www.w3.org/1999/xhtml\" style=\"display: flex; align-items: unsafe center; justify-content: unsafe center; width: 1px; height: 1px; padding-top: 290px; margin-left: 647px;\"><div style=\"box-sizing: border-box; font-size: 0; text-align: center; \"><div style=\"display: inline-block; font-size: 18px; font-family: Courier New; color: #000000; line-height: 1.2; pointer-events: all; background-color: #ffffff; white-space: nowrap; \"><span style=\"color: rgba(0 , 0 , 0 , 0) ; font-family: monospace ; font-size: 0px ; background-color: rgb(248 , 249 , 250)\">%3CmxGraphModel%3E%3Croot%3E%3CmxCell%20id%3D%220%22%2F%3E%3CmxCell%20id%3D%221%22%20parent%3D%220%22%2F%3E%3CmxCell%20id%3D%222%22%20value%3D%22%26lt%3Bfont%20face%3D%26quot%3BGeorgia%26quot%3B%26gt%3Bt%26lt%3B%2Ffont%26gt%3B%22%20style%3D%22edgeLabel%3Bhtml%3D1%3Balign%3Dcenter%3BverticalAlign%3Dmiddle%3Bresizable%3D0%3Bpoints%3D%5B%5D%3BfontSize%3D18%3BfontFamily%3DCourier%20New%3BfontStyle%3D2%22%20vertex%3D%221%22%20connectable%3D%220%22%20parent%3D%221%22%3E%3CmxGeometry%20x%3D%22440%22%20y%3D%22340%22%20as%3D%22geometry%22%3E%3CmxPoint%20x%3D%22-40%22%20y%3D%2217%22%20as%3D%22offset%22%2F%3E%3C%2FmxGeometry%3E%3C%2FmxCell%3E%3C%2Froot%3E%3C%2FmxGraphModel%3Et</span></div></div></div></foreignObject><text x=\"647\" y=\"295\" fill=\"#000000\" font-family=\"Courier New\" font-size=\"18px\" text-anchor=\"middle\">%3CmxG...</text></switch></g><g transform=\"translate(-0.5 -0.5)\"><switch><foreignObject style=\"overflow: visible; text-align: left;\" pointer-events=\"none\" width=\"100%\" height=\"100%\" requiredFeatures=\"http://www.w3.org/TR/SVG11/feature#Extensibility\"><div xmlns=\"http://www.w3.org/1999/xhtml\" style=\"display: flex; align-items: unsafe center; justify-content: unsafe center; width: 1px; height: 1px; padding-top: 287px; margin-left: 649px;\"><div style=\"box-sizing: border-box; font-size: 0; text-align: center; \"><div style=\"display: inline-block; font-size: 18px; font-family: Courier New; color: #000000; line-height: 1.2; pointer-events: all; background-color: #ffffff; white-space: nowrap; \"><span style=\"color: rgba(0 , 0 , 0 , 0) ; font-family: monospace ; font-size: 0px ; background-color: rgb(248 , 249 , 250)\">%3CmxGraphModel%3E%3Croot%3E%3CmxCell%20id%3D%220%22%2F%3E%3CmxCell%20id%3D%221%22%20parent%3D%220%22%2F%3E%3CmxCell%20id%3D%222%22%20value%3D%22%26lt%3Bfont%20face%3D%26quot%3BGeorgia%26quot%3B%26gt%3Bt%26lt%3B%2Ffont%26gt%3B%22%20style%3D%22edgeLabel%3Bhtml%3D1%3Balign%3Dcenter%3BverticalAlign%3Dmiddle%3Bresizable%3D0%3Bpoints%3D%5B%5D%3BfontSize%3D18%3BfontFamily%3DCourier%20New%3BfontStyle%3D2%22%20vertex%3D%221%22%20connectable%3D%220%22%20parent%3D%221%22%3E%3CmxGeometry%20x%3D%22440%22%20y%3D%22340%22%20as%3D%22geometry%22%3E%3CmxPoint%20x%3D%22-40%22%20y%3D%2217%22%20as%3D%22offset%22%2F%3E%3C%2FmxGeometry%3E%3C%2FmxCell%3E%3C%2Froot%3E%3C%2FmxGraphModel%3</span></div></div></div></foreignObject><text x=\"649\" y=\"292\" fill=\"#000000\" font-family=\"Courier New\" font-size=\"18px\" text-anchor=\"middle\">%3CmxGraphModel%3E%3Croot%3E%3CmxCell%20id%3D%220%22%2F%3E%3CmxCell%20id%3D%221%22%20parent%3D%220%22%2F%3E%3CmxCell%20id%3D%222%22%20value%3D%22%26lt%3Bfont%20face%3D%26quot%3BGeorgia%26quot%3B%26gt%3Bt%26lt%3B%2Ffont%26gt%3B%22%20style%3D%22edgeLabel%3Bhtml%3D1%3Balign%3Dcenter%3BverticalAlign%3Dmiddle%3Bresizable%3D0%3Bpoints%3D%5B%5D%3BfontSize%3D18%3BfontFamily%3DCourier%20New%3BfontStyle%3D2%22%20vertex%3D%221%22%20connectable%3D%220%22%20parent%3D%221%22%3E%3CmxGeometry%20x%3D%22440%22%20y%3D%22340%22%20as%3D%22geometry%22%3E%3CmxPoint%20x%3D%22-40%22%20y%3D%2217%22%20as%3D%22offset%22%2F%3E%3C%2FmxGeometry%3E%3C%2FmxCell%3E%3C%2Froot%3E%3C%2FmxGraphModel%3</text></switch></g><path d=\"M 407 270 L 640.63 270\" fill=\"none\" stroke=\"#000000\" stroke-miterlimit=\"10\" pointer-events=\"stroke\"/><path d=\"M 645.88 270 L 638.88 273.5 L 640.63 270 L 638.88 266.5 Z\" fill=\"#000000\" stroke=\"#000000\" stroke-miterlimit=\"10\" pointer-events=\"all\"/><g transform=\"translate(-0.5 -0.5)\"><switch><foreignObject style=\"overflow: visible; text-align: left;\" pointer-events=\"none\" width=\"100%\" height=\"100%\" requiredFeatures=\"http://www.w3.org/TR/SVG11/feature#Extensibility\"><div xmlns=\"http://www.w3.org/1999/xhtml\" style=\"display: flex; align-items: unsafe center; justify-content: unsafe center; width: 1px; height: 1px; padding-top: 281px; margin-left: 528px;\"><div style=\"box-sizing: border-box; font-size: 0; text-align: center; \"><div style=\"display: inline-block; font-size: 18px; font-family: Georgia; color: #000000; line-height: 1.2; pointer-events: all; background-color: #ffffff; white-space: nowrap; \"><i>t</i></div></div></div></foreignObject><text x=\"528\" y=\"286\" fill=\"#000000\" font-family=\"Georgia\" font-size=\"18px\" text-anchor=\"middle\">t</text></switch></g></g><switch><g requiredFeatures=\"http://www.w3.org/TR/SVG11/feature#Extensibility\"/><a transform=\"translate(0,-5)\" xlink:href=\"https://desk.draw.io/support/solutions/articles/16000042487\" target=\"_blank\"><text text-anchor=\"middle\" font-size=\"10px\" x=\"50%\" y=\"100%\">Viewer does not support full SVG 1.1</text></a></switch></svg>"
      ],
      "execution_count": null,
      "outputs": [
        {
          "output_type": "display_data",
          "data": {
            "text/plain": [
              "<IPython.core.display.SVG object>"
            ],
            "image/svg+xml": "<svg content=\"&lt;mxfile host=&quot;www.draw.io&quot; modified=&quot;2020-05-25T13:00:18.574Z&quot; agent=&quot;5.0 (Macintosh; Intel Mac OS X 10_15_4) AppleWebKit/537.36 (KHTML, like Gecko) Chrome/83.0.4103.61 Safari/537.36&quot; etag=&quot;XBtK7j16J_kHAdrVxd7F&quot; version=&quot;13.1.3&quot; type=&quot;google&quot;&gt;&lt;diagram id=&quot;IQ7CvnFe63TmqmIrzkI5&quot; name=&quot;Page-1&quot;&gt;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&lt;/diagram&gt;&lt;/mxfile&gt;\" onclick=\"(function(svg){var src=window.event.target||window.event.srcElement;while (src!=null&amp;&amp;src.nodeName.toLowerCase()!='a'){src=src.parentNode;}if(src==null){if(svg.wnd!=null&amp;&amp;!svg.wnd.closed){svg.wnd.focus();}else{var r=function(evt){if(evt.data=='ready'&amp;&amp;evt.source==svg.wnd){svg.wnd.postMessage(decodeURIComponent(svg.getAttribute('content')),'*');window.removeEventListener('message',r);}};window.addEventListener('message',r);svg.wnd=window.open('https://www.draw.io/?client=1&amp;lightbox=1&amp;edit=_blank');}}})(this);\" style=\"cursor:pointer;max-width:100%;max-height:393px;\" version=\"1.1\" viewBox=\"-0.5 -0.5 770 393\" width=\"770px\" xmlns=\"http://www.w3.org/2000/svg\" xmlns:xlink=\"http://www.w3.org/1999/xlink\"><defs/><g><path d=\"M 501.34 38.68 L 672.66 210 L 501.34 381.32 Z\" fill=\"#f8cecc\" pointer-events=\"all\" stroke=\"#b85450\" stroke-miterlimit=\"10\" transform=\"translate(587,0)scale(-1,1)translate(-587,0)rotate(-225,587,210)\"/><rect fill=\"#f8cecc\" height=\"120\" pointer-events=\"all\" stroke=\"#b85450\" width=\"80\" x=\"127\" y=\"150\"/><g transform=\"translate(-0.5 -0.5)\"><switch><foreignObject height=\"100%\" pointer-events=\"none\" requiredFeatures=\"http://www.w3.org/TR/SVG11/feature#Extensibility\" style=\"overflow: visible; text-align: left;\" width=\"100%\"><div style=\"display: flex; align-items: unsafe center; justify-content: unsafe center; width: 78px; height: 1px; padding-top: 210px; margin-left: 128px;\" xmlns=\"http://www.w3.org/1999/xhtml\"><div style=\"box-sizing: border-box; font-size: 0; text-align: center; \"><div style=\"display: inline-block; font-size: 18px; font-family: Courier New; color: #000000; line-height: 1.2; pointer-events: all; white-space: normal; word-wrap: normal; \"><font face=\"Georgia\"><i>v</i><sub>2</sub><span style=\"font-style: italic ; font-size: 15px\">Δt</span></font></div></div></div></foreignObject><text fill=\"#000000\" font-family=\"Courier New\" font-size=\"18px\" text-anchor=\"middle\" x=\"167\" y=\"215\">v2Δt</text></switch></g><rect fill=\"#f8cecc\" height=\"200\" pointer-events=\"all\" stroke=\"#b85450\" width=\"80\" x=\"207\" y=\"70\"/><g transform=\"translate(-0.5 -0.5)\"><switch><foreignObject height=\"100%\" pointer-events=\"none\" requiredFeatures=\"http://www.w3.org/TR/SVG11/feature#Extensibility\" style=\"overflow: visible; text-align: left;\" width=\"100%\"><div style=\"display: flex; align-items: unsafe center; justify-content: unsafe center; width: 78px; height: 1px; padding-top: 170px; margin-left: 208px;\" xmlns=\"http://www.w3.org/1999/xhtml\"><div style=\"box-sizing: border-box; font-size: 0; text-align: center; \"><div style=\"display: inline-block; font-size: 18px; font-family: Courier New; color: #000000; line-height: 1.2; pointer-events: all; white-space: normal; word-wrap: normal; \"><font face=\"Georgia\"><i>v</i><sub>3</sub><i>Δt</i></font></div></div></div></foreignObject><text fill=\"#000000\" font-family=\"Courier New\" font-size=\"18px\" text-anchor=\"middle\" x=\"247\" y=\"175\">v3Δt</text></switch></g><rect fill=\"#f8cecc\" height=\"40\" pointer-events=\"all\" stroke=\"#b85450\" width=\"80\" x=\"47\" y=\"230\"/><g transform=\"translate(-0.5 -0.5)\"><switch><foreignObject height=\"100%\" pointer-events=\"none\" requiredFeatures=\"http://www.w3.org/TR/SVG11/feature#Extensibility\" style=\"overflow: visible; text-align: left;\" width=\"100%\"><div style=\"display: flex; align-items: unsafe center; justify-content: unsafe center; width: 78px; height: 1px; padding-top: 250px; margin-left: 48px;\" xmlns=\"http://www.w3.org/1999/xhtml\"><div style=\"box-sizing: border-box; font-size: 0; text-align: center; \"><div style=\"display: inline-block; font-size: 18px; font-family: Courier New; color: #000000; line-height: 1.2; pointer-events: all; white-space: normal; word-wrap: normal; \"><font face=\"Georgia\"><i>v</i><sub>1</sub><i>Δt</i></font></div></div></div></foreignObject><text fill=\"#000000\" font-family=\"Courier New\" font-size=\"18px\" text-anchor=\"middle\" x=\"87\" y=\"255\">v1Δt</text></switch></g><path d=\"M 7 270 L 320.63 270\" fill=\"none\" pointer-events=\"stroke\" stroke=\"#000000\" stroke-miterlimit=\"10\"/><path d=\"M 325.88 270 L 318.88 273.5 L 320.63 270 L 318.88 266.5 Z\" fill=\"#000000\" pointer-events=\"all\" stroke=\"#000000\" stroke-miterlimit=\"10\"/><path d=\"M 47 310 L 47 26.37\" fill=\"none\" pointer-events=\"stroke\" stroke=\"#000000\" stroke-miterlimit=\"10\"/><path d=\"M 47 21.12 L 50.5 28.12 L 47 26.37 L 43.5 28.12 Z\" fill=\"#000000\" pointer-events=\"all\" stroke=\"#000000\" stroke-miterlimit=\"10\"/><g transform=\"translate(-0.5 -0.5)\"><switch><foreignObject height=\"100%\" pointer-events=\"none\" requiredFeatures=\"http://www.w3.org/TR/SVG11/feature#Extensibility\" style=\"overflow: visible; text-align: left;\" width=\"100%\"><div style=\"display: flex; align-items: unsafe center; justify-content: unsafe center; width: 1px; height: 1px; padding-top: 11px; margin-left: 48px;\" xmlns=\"http://www.w3.org/1999/xhtml\"><div style=\"box-sizing: border-box; font-size: 0; text-align: center; \"><div style=\"display: inline-block; font-size: 18px; font-family: Georgia; color: #000000; line-height: 1.2; pointer-events: all; background-color: #ffffff; white-space: nowrap; \"><i>v</i></div></div></div></foreignObject><text fill=\"#000000\" font-family=\"Georgia\" font-size=\"18px\" text-anchor=\"middle\" x=\"48\" y=\"16\">v</text></switch></g><path d=\"M 47 270 L 287 30\" fill=\"none\" pointer-events=\"stroke\" stroke=\"#000000\" stroke-miterlimit=\"10\" stroke-width=\"2\"/><path d=\"M 127 270 L 127 190\" fill=\"none\" pointer-events=\"stroke\" stroke=\"#000000\" stroke-dasharray=\"3 3\" stroke-miterlimit=\"10\"/><path d=\"M 207 270 L 207 110\" fill=\"none\" pointer-events=\"stroke\" stroke=\"#000000\" stroke-dasharray=\"3 3\" stroke-miterlimit=\"10\"/><path d=\"M 53.37 270 L 120.63 270\" fill=\"none\" pointer-events=\"stroke\" stroke=\"#000000\" stroke-miterlimit=\"10\"/><path d=\"M 48.12 270 L 55.12 266.5 L 53.37 270 L 55.12 273.5 Z\" fill=\"#000000\" pointer-events=\"all\" stroke=\"#000000\" stroke-miterlimit=\"10\"/><path d=\"M 125.88 270 L 118.88 273.5 L 120.63 270 L 118.88 266.5 Z\" fill=\"#000000\" pointer-events=\"all\" stroke=\"#000000\" stroke-miterlimit=\"10\"/><g transform=\"translate(-0.5 -0.5)\"><switch><foreignObject height=\"100%\" pointer-events=\"none\" requiredFeatures=\"http://www.w3.org/TR/SVG11/feature#Extensibility\" style=\"overflow: visible; text-align: left;\" width=\"100%\"><div style=\"display: flex; align-items: unsafe center; justify-content: unsafe center; width: 1px; height: 1px; padding-top: 290px; margin-left: 87px;\" xmlns=\"http://www.w3.org/1999/xhtml\"><div style=\"box-sizing: border-box; font-size: 0; text-align: center; \"><div style=\"display: inline-block; font-size: 18px; font-family: Courier New; color: #000000; line-height: 1.2; pointer-events: all; background-color: #ffffff; white-space: nowrap; \"><font face=\"Georgia\">Δ<i>t</i></font></div></div></div></foreignObject><text fill=\"#000000\" font-family=\"Courier New\" font-size=\"18px\" text-anchor=\"middle\" x=\"87\" y=\"295\">Δt</text></switch></g><path d=\"M 133.37 270 L 200.63 270\" fill=\"none\" pointer-events=\"stroke\" stroke=\"#000000\" stroke-miterlimit=\"10\"/><path d=\"M 128.12 270 L 135.12 266.5 L 133.37 270 L 135.12 273.5 Z\" fill=\"#000000\" pointer-events=\"all\" stroke=\"#000000\" stroke-miterlimit=\"10\"/><path d=\"M 205.88 270 L 198.88 273.5 L 200.63 270 L 198.88 266.5 Z\" fill=\"#000000\" pointer-events=\"all\" stroke=\"#000000\" stroke-miterlimit=\"10\"/><g transform=\"translate(-0.5 -0.5)\"><switch><foreignObject height=\"100%\" pointer-events=\"none\" requiredFeatures=\"http://www.w3.org/TR/SVG11/feature#Extensibility\" style=\"overflow: visible; text-align: left;\" width=\"100%\"><div style=\"display: flex; align-items: unsafe center; justify-content: unsafe center; width: 1px; height: 1px; padding-top: 290px; margin-left: 167px;\" xmlns=\"http://www.w3.org/1999/xhtml\"><div style=\"box-sizing: border-box; font-size: 0; text-align: center; \"><div style=\"display: inline-block; font-size: 18px; font-family: Courier New; color: #000000; line-height: 1.2; pointer-events: all; background-color: #ffffff; white-space: nowrap; \"><font face=\"Georgia\">Δ<i>t</i></font></div></div></div></foreignObject><text fill=\"#000000\" font-family=\"Courier New\" font-size=\"18px\" text-anchor=\"middle\" x=\"167\" y=\"295\">Δt</text></switch></g><path d=\"M 213.37 270 L 280.63 270\" fill=\"none\" pointer-events=\"stroke\" stroke=\"#000000\" stroke-miterlimit=\"10\"/><path d=\"M 208.12 270 L 215.12 266.5 L 213.37 270 L 215.12 273.5 Z\" fill=\"#000000\" pointer-events=\"all\" stroke=\"#000000\" stroke-miterlimit=\"10\"/><path d=\"M 285.88 270 L 278.88 273.5 L 280.63 270 L 278.88 266.5 Z\" fill=\"#000000\" pointer-events=\"all\" stroke=\"#000000\" stroke-miterlimit=\"10\"/><g transform=\"translate(-0.5 -0.5)\"><switch><foreignObject height=\"100%\" pointer-events=\"none\" requiredFeatures=\"http://www.w3.org/TR/SVG11/feature#Extensibility\" style=\"overflow: visible; text-align: left;\" width=\"100%\"><div style=\"display: flex; align-items: unsafe center; justify-content: unsafe center; width: 1px; height: 1px; padding-top: 290px; margin-left: 247px;\" xmlns=\"http://www.w3.org/1999/xhtml\"><div style=\"box-sizing: border-box; font-size: 0; text-align: center; \"><div style=\"display: inline-block; font-size: 18px; font-family: Courier New; color: #000000; line-height: 1.2; pointer-events: all; background-color: #ffffff; white-space: nowrap; \"><font face=\"Georgia\">Δ<i>t</i></font></div></div></div></foreignObject><text fill=\"#000000\" font-family=\"Courier New\" font-size=\"18px\" text-anchor=\"middle\" x=\"247\" y=\"295\">Δt</text></switch></g><path d=\"M 227 160 L 247 160\" fill=\"none\" pointer-events=\"stroke\" stroke=\"#000000\" stroke-miterlimit=\"10\" stroke-width=\"2\"/><path d=\"M 147 203 L 167 203\" fill=\"none\" pointer-events=\"stroke\" stroke=\"#000000\" stroke-miterlimit=\"10\" stroke-width=\"2\"/><path d=\"M 68 243 L 88 243\" fill=\"none\" pointer-events=\"stroke\" stroke=\"#000000\" stroke-miterlimit=\"10\" stroke-width=\"2\"/><ellipse cx=\"128\" cy=\"190\" fill=\"none\" pointer-events=\"all\" rx=\"5\" ry=\"5\" stroke=\"#000000\"/><ellipse cx=\"207\" cy=\"110\" fill=\"none\" pointer-events=\"all\" rx=\"5\" ry=\"5\" stroke=\"#000000\"/><ellipse cx=\"287\" cy=\"30\" fill=\"none\" pointer-events=\"all\" rx=\"5\" ry=\"5\" stroke=\"#000000\"/><path d=\"M 287 263.63 L 287 36.37\" fill=\"none\" pointer-events=\"stroke\" stroke=\"#000000\" stroke-miterlimit=\"10\"/><path d=\"M 287 268.88 L 283.5 261.88 L 287 263.63 L 290.5 261.88 Z\" fill=\"#000000\" pointer-events=\"all\" stroke=\"#000000\" stroke-miterlimit=\"10\"/><path d=\"M 287 31.12 L 290.5 38.12 L 287 36.37 L 283.5 38.12 Z\" fill=\"#000000\" pointer-events=\"all\" stroke=\"#000000\" stroke-miterlimit=\"10\"/><g transform=\"translate(-0.5 -0.5)\"><switch><foreignObject height=\"100%\" pointer-events=\"none\" requiredFeatures=\"http://www.w3.org/TR/SVG11/feature#Extensibility\" style=\"overflow: visible; text-align: left;\" width=\"100%\"><div style=\"display: flex; align-items: unsafe center; justify-content: unsafe center; width: 1px; height: 1px; padding-top: 159px; margin-left: 298px;\" xmlns=\"http://www.w3.org/1999/xhtml\"><div style=\"box-sizing: border-box; font-size: 0; text-align: center; \"><div style=\"display: inline-block; font-size: 18px; font-family: Courier New; color: #000000; line-height: 1.2; pointer-events: all; background-color: #ffffff; white-space: nowrap; \"><font face=\"Georgia\"><i>at</i></font></div></div></div></foreignObject><text fill=\"#000000\" font-family=\"Courier New\" font-size=\"18px\" text-anchor=\"middle\" x=\"298\" y=\"164\">at</text></switch></g><ellipse cx=\"47\" cy=\"270\" fill=\"none\" pointer-events=\"all\" rx=\"5\" ry=\"5\" stroke=\"#000000\"/><path d=\"M 287 310 L 287 270\" fill=\"none\" pointer-events=\"stroke\" stroke=\"#000000\" stroke-dasharray=\"3 3\" stroke-miterlimit=\"10\"/><g transform=\"translate(-0.5 -0.5)\"><switch><foreignObject height=\"100%\" pointer-events=\"none\" requiredFeatures=\"http://www.w3.org/TR/SVG11/feature#Extensibility\" style=\"overflow: visible; text-align: left;\" width=\"100%\"><div style=\"display: flex; align-items: unsafe center; justify-content: unsafe center; width: 1px; height: 1px; padding-top: 290px; margin-left: 287px;\" xmlns=\"http://www.w3.org/1999/xhtml\"><div style=\"box-sizing: border-box; font-size: 0; text-align: center; \"><div style=\"display: inline-block; font-size: 18px; font-family: Courier New; color: #000000; line-height: 1.2; pointer-events: all; background-color: #ffffff; white-space: nowrap; \"><span style=\"color: rgba(0 , 0 , 0 , 0) ; font-family: monospace ; font-size: 0px ; background-color: rgb(248 , 249 , 250)\">%3CmxGraphModel%3E%3Croot%3E%3CmxCell%20id%3D%220%22%2F%3E%3CmxCell%20id%3D%221%22%20parent%3D%220%22%2F%3E%3CmxCell%20id%3D%222%22%20value%3D%22%26lt%3Bfont%20face%3D%26quot%3BGeorgia%26quot%3B%26gt%3Bt%26lt%3B%2Ffont%26gt%3B%22%20style%3D%22edgeLabel%3Bhtml%3D1%3Balign%3Dcenter%3BverticalAlign%3Dmiddle%3Bresizable%3D0%3Bpoints%3D%5B%5D%3BfontSize%3D18%3BfontFamily%3DCourier%20New%3BfontStyle%3D2%22%20vertex%3D%221%22%20connectable%3D%220%22%20parent%3D%221%22%3E%3CmxGeometry%20x%3D%22440%22%20y%3D%22340%22%20as%3D%22geometry%22%3E%3CmxPoint%20x%3D%22-40%22%20y%3D%2217%22%20as%3D%22offset%22%2F%3E%3C%2FmxGeometry%3E%3C%2FmxCell%3E%3C%2Froot%3E%3C%2FmxGraphModel%3Et</span></div></div></div></foreignObject><text fill=\"#000000\" font-family=\"Courier New\" font-size=\"18px\" text-anchor=\"middle\" x=\"287\" y=\"295\">%3CmxG...</text></switch></g><g transform=\"translate(-0.5 -0.5)\"><switch><foreignObject height=\"100%\" pointer-events=\"none\" requiredFeatures=\"http://www.w3.org/TR/SVG11/feature#Extensibility\" style=\"overflow: visible; text-align: left;\" width=\"100%\"><div style=\"display: flex; align-items: unsafe center; justify-content: unsafe center; width: 1px; height: 1px; padding-top: 287px; margin-left: 289px;\" xmlns=\"http://www.w3.org/1999/xhtml\"><div style=\"box-sizing: border-box; font-size: 0; text-align: center; \"><div style=\"display: inline-block; font-size: 18px; font-family: Courier New; color: #000000; line-height: 1.2; pointer-events: all; background-color: #ffffff; white-space: nowrap; \"><span style=\"color: rgba(0 , 0 , 0 , 0) ; font-family: monospace ; font-size: 0px ; background-color: rgb(248 , 249 , 250)\">%3CmxGraphModel%3E%3Croot%3E%3CmxCell%20id%3D%220%22%2F%3E%3CmxCell%20id%3D%221%22%20parent%3D%220%22%2F%3E%3CmxCell%20id%3D%222%22%20value%3D%22%26lt%3Bfont%20face%3D%26quot%3BGeorgia%26quot%3B%26gt%3Bt%26lt%3B%2Ffont%26gt%3B%22%20style%3D%22edgeLabel%3Bhtml%3D1%3Balign%3Dcenter%3BverticalAlign%3Dmiddle%3Bresizable%3D0%3Bpoints%3D%5B%5D%3BfontSize%3D18%3BfontFamily%3DCourier%20New%3BfontStyle%3D2%22%20vertex%3D%221%22%20connectable%3D%220%22%20parent%3D%221%22%3E%3CmxGeometry%20x%3D%22440%22%20y%3D%22340%22%20as%3D%22geometry%22%3E%3CmxPoint%20x%3D%22-40%22%20y%3D%2217%22%20as%3D%22offset%22%2F%3E%3C%2FmxGeometry%3E%3C%2FmxCell%3E%3C%2Froot%3E%3C%2FmxGraphModel%3</span></div></div></div></foreignObject><text fill=\"#000000\" font-family=\"Courier New\" font-size=\"18px\" text-anchor=\"middle\" x=\"289\" y=\"292\">%3CmxGraphModel%3E%3Croot%3E%3CmxCell%20id%3D%220%22%2F%3E%3CmxCell%20id%3D%221%22%20parent%3D%220%22%2F%3E%3CmxCell%20id%3D%222%22%20value%3D%22%26lt%3Bfont%20face%3D%26quot%3BGeorgia%26quot%3B%26gt%3Bt%26lt%3B%2Ffont%26gt%3B%22%20style%3D%22edgeLabel%3Bhtml%3D1%3Balign%3Dcenter%3BverticalAlign%3Dmiddle%3Bresizable%3D0%3Bpoints%3D%5B%5D%3BfontSize%3D18%3BfontFamily%3DCourier%20New%3BfontStyle%3D2%22%20vertex%3D%221%22%20connectable%3D%220%22%20parent%3D%221%22%3E%3CmxGeometry%20x%3D%22440%22%20y%3D%22340%22%20as%3D%22geometry%22%3E%3CmxPoint%20x%3D%22-40%22%20y%3D%2217%22%20as%3D%22offset%22%2F%3E%3C%2FmxGeometry%3E%3C%2FmxCell%3E%3C%2Froot%3E%3C%2FmxGraphModel%3</text></switch></g><path d=\"M 47 300 L 280.63 300\" fill=\"none\" pointer-events=\"stroke\" stroke=\"#000000\" stroke-miterlimit=\"10\"/><path d=\"M 285.88 300 L 278.88 303.5 L 280.63 300 L 278.88 296.5 Z\" fill=\"#000000\" pointer-events=\"all\" stroke=\"#000000\" stroke-miterlimit=\"10\"/><g transform=\"translate(-0.5 -0.5)\"><switch><foreignObject height=\"100%\" pointer-events=\"none\" requiredFeatures=\"http://www.w3.org/TR/SVG11/feature#Extensibility\" style=\"overflow: visible; text-align: left;\" width=\"100%\"><div style=\"display: flex; align-items: unsafe center; justify-content: unsafe center; width: 1px; height: 1px; padding-top: 311px; margin-left: 168px;\" xmlns=\"http://www.w3.org/1999/xhtml\"><div style=\"box-sizing: border-box; font-size: 0; text-align: center; \"><div style=\"display: inline-block; font-size: 18px; font-family: Georgia; color: #000000; line-height: 1.2; pointer-events: all; background-color: #ffffff; white-space: nowrap; \"><i>t</i></div></div></div></foreignObject><text fill=\"#000000\" font-family=\"Georgia\" font-size=\"18px\" text-anchor=\"middle\" x=\"168\" y=\"316\">t</text></switch></g><path d=\"M 367 270 L 680.63 270\" fill=\"none\" pointer-events=\"stroke\" stroke=\"#000000\" stroke-miterlimit=\"10\"/><path d=\"M 685.88 270 L 678.88 273.5 L 680.63 270 L 678.88 266.5 Z\" fill=\"#000000\" pointer-events=\"all\" stroke=\"#000000\" stroke-miterlimit=\"10\"/><path d=\"M 407 310 L 407 26.37\" fill=\"none\" pointer-events=\"stroke\" stroke=\"#000000\" stroke-miterlimit=\"10\"/><path d=\"M 407 21.12 L 410.5 28.12 L 407 26.37 L 403.5 28.12 Z\" fill=\"#000000\" pointer-events=\"all\" stroke=\"#000000\" stroke-miterlimit=\"10\"/><g transform=\"translate(-0.5 -0.5)\"><switch><foreignObject height=\"100%\" pointer-events=\"none\" requiredFeatures=\"http://www.w3.org/TR/SVG11/feature#Extensibility\" style=\"overflow: visible; text-align: left;\" width=\"100%\"><div style=\"display: flex; align-items: unsafe center; justify-content: unsafe center; width: 1px; height: 1px; padding-top: 11px; margin-left: 409px;\" xmlns=\"http://www.w3.org/1999/xhtml\"><div style=\"box-sizing: border-box; font-size: 0; text-align: center; \"><div style=\"display: inline-block; font-size: 18px; font-family: Georgia; color: #000000; line-height: 1.2; pointer-events: all; background-color: #ffffff; white-space: nowrap; \"><i>v</i></div></div></div></foreignObject><text fill=\"#000000\" font-family=\"Georgia\" font-size=\"18px\" text-anchor=\"middle\" x=\"409\" y=\"16\">v</text></switch></g><path d=\"M 407 270 L 647 30\" fill=\"none\" pointer-events=\"stroke\" stroke=\"#000000\" stroke-miterlimit=\"10\" stroke-width=\"2\"/><path d=\"M 647 270 L 647 36.37\" fill=\"none\" pointer-events=\"stroke\" stroke=\"#000000\" stroke-miterlimit=\"10\"/><path d=\"M 647 31.12 L 650.5 38.12 L 647 36.37 L 643.5 38.12 Z\" fill=\"#000000\" pointer-events=\"all\" stroke=\"#000000\" stroke-miterlimit=\"10\"/><g transform=\"translate(-0.5 -0.5)\"><switch><foreignObject height=\"100%\" pointer-events=\"none\" requiredFeatures=\"http://www.w3.org/TR/SVG11/feature#Extensibility\" style=\"overflow: visible; text-align: left;\" width=\"100%\"><div style=\"display: flex; align-items: unsafe center; justify-content: unsafe center; width: 1px; height: 1px; padding-top: 159px; margin-left: 658px;\" xmlns=\"http://www.w3.org/1999/xhtml\"><div style=\"box-sizing: border-box; font-size: 0; text-align: center; \"><div style=\"display: inline-block; font-size: 18px; font-family: Courier New; color: #000000; line-height: 1.2; pointer-events: all; background-color: #ffffff; white-space: nowrap; \"><font face=\"Georgia\"><i>at</i></font></div></div></div></foreignObject><text fill=\"#000000\" font-family=\"Courier New\" font-size=\"18px\" text-anchor=\"middle\" x=\"658\" y=\"164\">at</text></switch></g><path d=\"M 647 310 L 647 270\" fill=\"none\" pointer-events=\"stroke\" stroke=\"#000000\" stroke-dasharray=\"3 3\" stroke-miterlimit=\"10\"/><g transform=\"translate(-0.5 -0.5)\"><switch><foreignObject height=\"100%\" pointer-events=\"none\" requiredFeatures=\"http://www.w3.org/TR/SVG11/feature#Extensibility\" style=\"overflow: visible; text-align: left;\" width=\"100%\"><div style=\"display: flex; align-items: unsafe center; justify-content: unsafe center; width: 1px; height: 1px; padding-top: 290px; margin-left: 647px;\" xmlns=\"http://www.w3.org/1999/xhtml\"><div style=\"box-sizing: border-box; font-size: 0; text-align: center; \"><div style=\"display: inline-block; font-size: 18px; font-family: Courier New; color: #000000; line-height: 1.2; pointer-events: all; background-color: #ffffff; white-space: nowrap; \"><span style=\"color: rgba(0 , 0 , 0 , 0) ; font-family: monospace ; font-size: 0px ; background-color: rgb(248 , 249 , 250)\">%3CmxGraphModel%3E%3Croot%3E%3CmxCell%20id%3D%220%22%2F%3E%3CmxCell%20id%3D%221%22%20parent%3D%220%22%2F%3E%3CmxCell%20id%3D%222%22%20value%3D%22%26lt%3Bfont%20face%3D%26quot%3BGeorgia%26quot%3B%26gt%3Bt%26lt%3B%2Ffont%26gt%3B%22%20style%3D%22edgeLabel%3Bhtml%3D1%3Balign%3Dcenter%3BverticalAlign%3Dmiddle%3Bresizable%3D0%3Bpoints%3D%5B%5D%3BfontSize%3D18%3BfontFamily%3DCourier%20New%3BfontStyle%3D2%22%20vertex%3D%221%22%20connectable%3D%220%22%20parent%3D%221%22%3E%3CmxGeometry%20x%3D%22440%22%20y%3D%22340%22%20as%3D%22geometry%22%3E%3CmxPoint%20x%3D%22-40%22%20y%3D%2217%22%20as%3D%22offset%22%2F%3E%3C%2FmxGeometry%3E%3C%2FmxCell%3E%3C%2Froot%3E%3C%2FmxGraphModel%3Et</span></div></div></div></foreignObject><text fill=\"#000000\" font-family=\"Courier New\" font-size=\"18px\" text-anchor=\"middle\" x=\"647\" y=\"295\">%3CmxG...</text></switch></g><g transform=\"translate(-0.5 -0.5)\"><switch><foreignObject height=\"100%\" pointer-events=\"none\" requiredFeatures=\"http://www.w3.org/TR/SVG11/feature#Extensibility\" style=\"overflow: visible; text-align: left;\" width=\"100%\"><div style=\"display: flex; align-items: unsafe center; justify-content: unsafe center; width: 1px; height: 1px; padding-top: 287px; margin-left: 649px;\" xmlns=\"http://www.w3.org/1999/xhtml\"><div style=\"box-sizing: border-box; font-size: 0; text-align: center; \"><div style=\"display: inline-block; font-size: 18px; font-family: Courier New; color: #000000; line-height: 1.2; pointer-events: all; background-color: #ffffff; white-space: nowrap; \"><span style=\"color: rgba(0 , 0 , 0 , 0) ; font-family: monospace ; font-size: 0px ; background-color: rgb(248 , 249 , 250)\">%3CmxGraphModel%3E%3Croot%3E%3CmxCell%20id%3D%220%22%2F%3E%3CmxCell%20id%3D%221%22%20parent%3D%220%22%2F%3E%3CmxCell%20id%3D%222%22%20value%3D%22%26lt%3Bfont%20face%3D%26quot%3BGeorgia%26quot%3B%26gt%3Bt%26lt%3B%2Ffont%26gt%3B%22%20style%3D%22edgeLabel%3Bhtml%3D1%3Balign%3Dcenter%3BverticalAlign%3Dmiddle%3Bresizable%3D0%3Bpoints%3D%5B%5D%3BfontSize%3D18%3BfontFamily%3DCourier%20New%3BfontStyle%3D2%22%20vertex%3D%221%22%20connectable%3D%220%22%20parent%3D%221%22%3E%3CmxGeometry%20x%3D%22440%22%20y%3D%22340%22%20as%3D%22geometry%22%3E%3CmxPoint%20x%3D%22-40%22%20y%3D%2217%22%20as%3D%22offset%22%2F%3E%3C%2FmxGeometry%3E%3C%2FmxCell%3E%3C%2Froot%3E%3C%2FmxGraphModel%3</span></div></div></div></foreignObject><text fill=\"#000000\" font-family=\"Courier New\" font-size=\"18px\" text-anchor=\"middle\" x=\"649\" y=\"292\">%3CmxGraphModel%3E%3Croot%3E%3CmxCell%20id%3D%220%22%2F%3E%3CmxCell%20id%3D%221%22%20parent%3D%220%22%2F%3E%3CmxCell%20id%3D%222%22%20value%3D%22%26lt%3Bfont%20face%3D%26quot%3BGeorgia%26quot%3B%26gt%3Bt%26lt%3B%2Ffont%26gt%3B%22%20style%3D%22edgeLabel%3Bhtml%3D1%3Balign%3Dcenter%3BverticalAlign%3Dmiddle%3Bresizable%3D0%3Bpoints%3D%5B%5D%3BfontSize%3D18%3BfontFamily%3DCourier%20New%3BfontStyle%3D2%22%20vertex%3D%221%22%20connectable%3D%220%22%20parent%3D%221%22%3E%3CmxGeometry%20x%3D%22440%22%20y%3D%22340%22%20as%3D%22geometry%22%3E%3CmxPoint%20x%3D%22-40%22%20y%3D%2217%22%20as%3D%22offset%22%2F%3E%3C%2FmxGeometry%3E%3C%2FmxCell%3E%3C%2Froot%3E%3C%2FmxGraphModel%3</text></switch></g><path d=\"M 407 270 L 640.63 270\" fill=\"none\" pointer-events=\"stroke\" stroke=\"#000000\" stroke-miterlimit=\"10\"/><path d=\"M 645.88 270 L 638.88 273.5 L 640.63 270 L 638.88 266.5 Z\" fill=\"#000000\" pointer-events=\"all\" stroke=\"#000000\" stroke-miterlimit=\"10\"/><g transform=\"translate(-0.5 -0.5)\"><switch><foreignObject height=\"100%\" pointer-events=\"none\" requiredFeatures=\"http://www.w3.org/TR/SVG11/feature#Extensibility\" style=\"overflow: visible; text-align: left;\" width=\"100%\"><div style=\"display: flex; align-items: unsafe center; justify-content: unsafe center; width: 1px; height: 1px; padding-top: 281px; margin-left: 528px;\" xmlns=\"http://www.w3.org/1999/xhtml\"><div style=\"box-sizing: border-box; font-size: 0; text-align: center; \"><div style=\"display: inline-block; font-size: 18px; font-family: Georgia; color: #000000; line-height: 1.2; pointer-events: all; background-color: #ffffff; white-space: nowrap; \"><i>t</i></div></div></div></foreignObject><text fill=\"#000000\" font-family=\"Georgia\" font-size=\"18px\" text-anchor=\"middle\" x=\"528\" y=\"286\">t</text></switch></g></g><switch><g requiredFeatures=\"http://www.w3.org/TR/SVG11/feature#Extensibility\"/><a target=\"_blank\" transform=\"translate(0,-5)\" xlink:href=\"https://desk.draw.io/support/solutions/articles/16000042487\"><text font-size=\"10px\" text-anchor=\"middle\" x=\"50%\" y=\"100%\">Viewer does not support full SVG 1.1</text></a></switch></svg>"
          },
          "metadata": {
            "tags": []
          }
        }
      ]
    },
    {
      "cell_type": "markdown",
      "metadata": {
        "id": "jP1h25SB35od"
      },
      "source": [
        "上の図の左側をみながら次のように考えて下さい.\n",
        "1. 時間を等間隔で分割する\n",
        "2. 時間分割の両端の平均速度 $\\bar{v}$ を使って  \n",
        "変位 $\\Delta x = \\bar{v} \\Delta t$ を求める.\n",
        "3. 求めた $\\Delta x$ を全て加える.\n",
        "\n",
        "この考え方で 分割を増やし $\\Delta t$ を小さくすれば 右の図のようになります.  \n",
        "つまり「時間軸と $v-t$ グラフで囲まれた(三角形の)面積が 変位 $s$」ということができます.\n",
        "\n",
        "---\n",
        "初速度 $v_0$ がゼロ(初め静止していた)の物体の等加速度直線運動は\n",
        "\n",
        "\\begin{align*}\n",
        "a &: \b\\text{一定}&\\\\\n",
        "v &= at&\\\\\n",
        "s &= \\dfrac{1}{2} v \\cdot t = \\dfrac{1}{2} a t^2\n",
        "\\end{align*}\n"
      ]
    },
    {
      "cell_type": "code",
      "metadata": {
        "cellView": "form",
        "id": "Ns93yOEgwnom",
        "outputId": "7e0b053f-f07e-4c22-dc9c-5c52513b4e1b",
        "colab": {
          "base_uri": "https://localhost:8080/",
          "height": 349,
          "referenced_widgets": [
            "07e6a229136545939d94a67162b18a5a",
            "a3960c741dac4a1d90d961ca5cf0796f",
            "0288e2fb9415454e9030d901a6a59464",
            "2376fc11ece84485a07679e0c1a4a0c6",
            "e59a0f07f29f4d23bd28a5185cf71215",
            "df0dbefc10bb42dda6a35f2117d5a053",
            "2a09d699e55742b8aea91133dfd3017a"
          ]
        }
      },
      "source": [
        "#@title 等加速度直線運動における a-t, v-t, s-t の関係(ここをクリック+再生)\n",
        "%matplotlib inline\n",
        "import matplotlib.pyplot as plt\n",
        "from ipywidgets import interact\n",
        "import numpy as np\n",
        "plt.style.use('ggplot')\n",
        "\n",
        "(a,T)=(5.0,10)\n",
        "\n",
        "plt.figure()\n",
        "t = np.linspace(0, T)\n",
        "a, v = [], []\n",
        "\n",
        "@interact(a=(-7,+7))\n",
        "def f(a):\n",
        "    fig = plt.figure(figsize=(10,4))\n",
        "\n",
        "    # グラフ間の幅を調整\n",
        "    plt.subplots_adjust(wspace=0.5, hspace=0.5)\n",
        "\n",
        "    at = fig.add_subplot(1, 3, 1)\n",
        "    at.plot(t , a + 0*t )\n",
        "    at.plot(t , 0*t )  \n",
        "    at.set_xlabel('t [s]') \n",
        "    at.set_ylabel('a [m/s$^2$]')\n",
        "    at.set_title('a-t')\n",
        "    at.set_xlim([0, 8])\n",
        "    at.set_ylim([-10, 10])   \n",
        "\n",
        "    vt = fig.add_subplot(1, 3, 2)\n",
        "    vt.plot(t , a*t )\n",
        "    vt.plot(t , 0*t )  \n",
        "    vt.set_xlabel('t [s]')\n",
        "    vt.set_ylabel('v [m/s]')\n",
        "    vt.set_title('v-t')\n",
        "    vt.set_xlim([0, 8])\n",
        "    vt.set_ylim([-25, 25])\n",
        "\n",
        "    st = fig.add_subplot(1, 3, 3)\n",
        "    st.plot(t , 1/2*a*t**2 )\n",
        "    st.plot(t , 0*t )  \n",
        "    st.set_xlabel('t [s]')\n",
        "    st.set_ylabel('s [m]')\n",
        "    st.set_title('s-t')\n",
        "    st.set_xlim([0, 8])\n",
        "    st.set_ylim([-40, 40])     \n",
        "    \n",
        "    plt.show()"
      ],
      "execution_count": 2,
      "outputs": [
        {
          "output_type": "display_data",
          "data": {
            "text/plain": [
              "<Figure size 432x288 with 0 Axes>"
            ]
          },
          "metadata": {}
        },
        {
          "output_type": "display_data",
          "data": {
            "text/plain": [
              "interactive(children=(IntSlider(value=0, description='a', max=7, min=-7), Output()), _dom_classes=('widget-int…"
            ],
            "application/vnd.jupyter.widget-view+json": {
              "version_major": 2,
              "version_minor": 0,
              "model_id": "07e6a229136545939d94a67162b18a5a"
            }
          },
          "metadata": {}
        }
      ]
    },
    {
      "cell_type": "markdown",
      "metadata": {
        "id": "muhn2dRN9sYA"
      },
      "source": [
        "## 初速度がゼロでないときの等加速度直線運動"
      ]
    },
    {
      "cell_type": "markdown",
      "metadata": {
        "id": "pGNFIfUX9_Xl"
      },
      "source": [
        "加速度の定義から入ると簡単ですので以下ではその方法を紹介します.\n",
        "\n",
        "+ 等加速度直線運動なので, 加速度はどこで測定しても同じ\n",
        "+ $t=0\\ {\\rm s}$ での速度を初速度$v_0$, $t>0$ での速度を $v$ とする\n",
        "\n",
        "\\begin{align*}\n",
        " a &= \\dfrac{\\Delta v}{\\Delta t} \n",
        "   = \\dfrac{v_2 - v_1 }{t_2 - t_1} &\\\\\n",
        "  a&= \\dfrac{v - v_0 }{t - 0} &\\\\\n",
        "  at & = v - v_0&\\\\\n",
        "\\end{align*}\n",
        "\n",
        "> $(1.8) \\qquad v = v_0 + a\\cdot t$\n",
        "\n",
        "---\n",
        "\n",
        "初速度がゼロでないときの等加速度直線運動は(教科書 図1.10 を利用)\n",
        "\n",
        "\\begin{align*}\n",
        "a &: \b\\text{一定}&\\\\\n",
        "v &= v_0 + at&\\\\\n",
        "s &= \\dfrac{1}{2} \\left(v_0+ v_0+ at \\right)\\cdot t \n",
        "= v_0t + \\dfrac{1}{2} a t^2\n",
        "\\end{align*}\n",
        "\n",
        "最後の変位 $s$ の式の第一項は **等速直線運動** の変位,  \n",
        "第二項は $v_0=0$ とした等加速度直線運動の変位を表しています.\n"
      ]
    },
    {
      "cell_type": "markdown",
      "metadata": {
        "id": "pYK3MJoMRIXQ"
      },
      "source": [
        "> ここまで整理した知識を利用して, 教科書の例題1.3, 1.4, 1.5に 取り組みましょう."
      ]
    }
  ]
}