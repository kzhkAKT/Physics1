{
  "nbformat": 4,
  "nbformat_minor": 0,
  "metadata": {
    "colab": {
      "name": "1107_等加速度直線運動_物理1",
      "provenance": [],
      "collapsed_sections": [],
      "authorship_tag": "ABX9TyOSBt3W/f3rr638ka3KmSwY",
      "include_colab_link": true
    },
    "kernelspec": {
      "name": "python3",
      "display_name": "Python 3"
    },
    "widgets": {
      "application/vnd.jupyter.widget-state+json": {
        "b6fd4b74fbb44048b7ca67dac337945f": {
          "model_module": "@jupyter-widgets/controls",
          "model_name": "VBoxModel",
          "state": {
            "_view_name": "VBoxView",
            "_dom_classes": [
              "widget-interact"
            ],
            "_model_name": "VBoxModel",
            "_view_module": "@jupyter-widgets/controls",
            "_model_module_version": "1.5.0",
            "_view_count": null,
            "_view_module_version": "1.5.0",
            "box_style": "",
            "layout": "IPY_MODEL_c3c517ea01d34d91bce6775b7ab27465",
            "_model_module": "@jupyter-widgets/controls",
            "children": [
              "IPY_MODEL_f693c65cff8d4b15953a48f1e0bcc068",
              "IPY_MODEL_64d2f868be6a45b1ac8037c4a86ef87c"
            ]
          }
        },
        "c3c517ea01d34d91bce6775b7ab27465": {
          "model_module": "@jupyter-widgets/base",
          "model_name": "LayoutModel",
          "state": {
            "_view_name": "LayoutView",
            "grid_template_rows": null,
            "right": null,
            "justify_content": null,
            "_view_module": "@jupyter-widgets/base",
            "overflow": null,
            "_model_module_version": "1.2.0",
            "_view_count": null,
            "flex_flow": null,
            "width": null,
            "min_width": null,
            "border": null,
            "align_items": null,
            "bottom": null,
            "_model_module": "@jupyter-widgets/base",
            "top": null,
            "grid_column": null,
            "overflow_y": null,
            "overflow_x": null,
            "grid_auto_flow": null,
            "grid_area": null,
            "grid_template_columns": null,
            "flex": null,
            "_model_name": "LayoutModel",
            "justify_items": null,
            "grid_row": null,
            "max_height": null,
            "align_content": null,
            "visibility": null,
            "align_self": null,
            "height": null,
            "min_height": null,
            "padding": null,
            "grid_auto_rows": null,
            "grid_gap": null,
            "max_width": null,
            "order": null,
            "_view_module_version": "1.2.0",
            "grid_template_areas": null,
            "object_position": null,
            "object_fit": null,
            "grid_auto_columns": null,
            "margin": null,
            "display": null,
            "left": null
          }
        },
        "f693c65cff8d4b15953a48f1e0bcc068": {
          "model_module": "@jupyter-widgets/controls",
          "model_name": "IntSliderModel",
          "state": {
            "_view_name": "IntSliderView",
            "style": "IPY_MODEL_bfae22a007934fc6b589e924359d6048",
            "_dom_classes": [],
            "description": "a",
            "step": 1,
            "_model_name": "IntSliderModel",
            "orientation": "horizontal",
            "max": 7,
            "_view_module": "@jupyter-widgets/controls",
            "_model_module_version": "1.5.0",
            "value": 5,
            "_view_count": null,
            "disabled": false,
            "_view_module_version": "1.5.0",
            "min": -7,
            "continuous_update": true,
            "readout_format": "d",
            "description_tooltip": null,
            "readout": true,
            "_model_module": "@jupyter-widgets/controls",
            "layout": "IPY_MODEL_3963e2ca6e9f41769ac763577163098e"
          }
        },
        "64d2f868be6a45b1ac8037c4a86ef87c": {
          "model_module": "@jupyter-widgets/output",
          "model_name": "OutputModel",
          "state": {
            "_view_name": "OutputView",
            "msg_id": "",
            "_dom_classes": [],
            "_model_name": "OutputModel",
            "outputs": [
              {
                "output_type": "display_data",
                "metadata": {
                  "tags": []
                },
                "image/png": "iVBORw0KGgoAAAANSUhEUgAAAgsAAAEaCAYAAACfPRRtAAAABHNCSVQICAgIfAhkiAAAAAlwSFlzAAALEgAACxIB0t1+/AAAADh0RVh0U29mdHdhcmUAbWF0cGxvdGxpYiB2ZXJzaW9uMy4yLjEsIGh0dHA6Ly9tYXRwbG90bGliLm9yZy+j8jraAAAgAElEQVR4nO3de1hVZcL38e/aGxFQQTaghuJTaGZaaA6mmaYpOT5l5ThW6qSpM2OmHbTDm5aHGtQoU8zT5BTqqNPBmrSZnnrGyNRJbCQPZWUpjqWGDcIW1BQF1nr/4I03AregsNde8PtcV9fFXvvem59cePfzXmvfy7Asy0JERETkHFx2BxAREZHAprIgIiIiPqksiIiIiE8qCyIiIuKTyoKIiIj4pLIgIiIiPqksiIiIiE8qC2K7pKQkRo0aZXcMEQlgq1evxjAMu2PUWyoLIiIi4pPKgtSo999/nz59+uDxeIiIiKB3795s27btnONHjRrFBx98wJ///GcMw8AwDDZu3Oi/wCLidy+99BIREREUFhaWO/7ss8/SunVrTNMsd3zjxo2MGDECoGye0Gqkfxna7llq0tq1aykqKqJTp04UFxeTmprKW2+9xb59+4iKiqowvqCggFtvvZVLLrmEF154AQCPx0NwcLC/o4uInxQUFNCiRQtWrFjBXXfdVXa8Y8eO3H777cyePbvc+LNnz/LSSy9x//33c+TIEQBCQ0OJiIjwa+76TGVBapVpmkRFRbFo0SJ+85vfVDomKSmJVq1asWLFCv+GExHbDB06lBMnTvA///M/AHzyySd07dqVr776iiuuuKLC+NWrVzNixAj0vyx76DSE1KgDBw4wYsQI2rZtS3h4OOHh4RQUFPDtt98ye/ZsGjduXPbfP//5T7vjiohN7rnnHtavX09OTg4AK1eu5NprryU0NLTcPDFu3DibkwpAkN0BpG4ZOHAg0dHRLF68mLi4OIKDg+nZsydnz57lwQcf5M477ywb27JlSxuTioid+vfvT3R0NK+88goTJkzgtdde46mnniI2NpZdu3aVjQsPD7cxpfxIZUFqTF5eHl9++SXvvvsuv/zlLwE4fPhw2b8cPB4PHo+nwuuCg4MpKSnxa1YRsZfb7eY3v/kNq1atIj4+noKCAoYOHUpQUBBt27atMP7H65hKSkpwu93+jlvv6TSE1JjIyEhiYmJ46aWX2Lt3L1u3bmXYsGGEhob6fN1ll13G9u3b2b9/P7m5uRQVFfkpsYjYaeTIkezYsYMZM2YwcODASv8x8aPLLrsMgL/97W8cPXqUkydP+iumoLIgNcjlcvHGG2+wf/9+EhISGDVqFBMnTuSSSy7x+bpHHnmE6OhoOnXqRExMDFu2bPFTYhGxU0JCAp07d2bXrl2MHDnS59iuXbvy0EMPce+999KsWTPuv/9+P6UU0KchRERE5Dy0siAiIiI+BewFjkuWLGHHjh1EREQwd+5cAE6ePElqaipHjx4lJiaGSZMm0bhx4wqv3bhxI2+99RYAgwcPpk+fPv6MLiIiUqcE7MpCnz59eOKJJ8odW7duHVdffTULFizg6quvZt26dRVed/LkSd58801mz57N7NmzefPNN3UhjIiIyEUI2LLQoUOHCqsGmZmZ9O7dG4DevXuTmZlZ4XW7du0iISGhbEOPhISEcp/ZFRERkeoJ2NMQlSkoKCAyMhKApk2bUlBQUGGM1+stdw8Cj8eD1+ut9P3S09NJT08HICUlpRYSi4iIOJ+jysJP/XjnsYuRlJREUlJS2ePs7OyLjeVX0dHR5Obm2h2jWpyW2Wl5AWJjY+2OUC9ovqhdNZnXsiysv72C9c7rGN1vxBj9IIar5jd2ctrPGKo+XwTsaYjKREREcOzYMQCOHTtW6TagHo+HvLy8ssder9fnRh8iIlJ3WZaF9dbK0qLQ86ZaKwp1naPKQmJiIps2bQJg06ZNdO3atcKYzp078+mnn3Ly5ElOnjzJp59+SufOnf0dVUREbGZZFtaaNKz//StG7wEYIyaoKFyggD0NMX/+fL788ktOnDjBuHHjuPPOOxk0aBCpqals2LCh7KOTAPv37+f9999n3LhxNG7cmF//+tdMmTIFgCFDhlT68UoREam7LNPEevVPWBvfxeh3K8Zdv7voU9f1mXZw/Amdg6x9TsvstLygaxb8RfNF7bqYvJZpYq1egvXP9Ri/HIzx63v8UhSc9jOGqs8XAbuyICIiUl2WWYK1YgHW1g8xbrkT4/bfaEWhBqgsiIhInWAVF2MtS8XK/CfG7cNxDRxqd6Q6Q2VBREQczyouwnxpLuzIwPj1PbgG/NruSHWKyoKIiDiaVVSEufRZ+HQbxl2/xZV0u92R6hyVBRERcSzr7BnMPz4Dn+/A+M04XH1utjtSnaSyICIijmSdKcRcPAu++gxj5P24evW3O1KdpbIgIiKOYxWewlyYDPv2YIyeiOu6G+2OVKepLIiIiKNYp37AXPA0HNiL8buHcV17g92R6jyVBRERcQzrh5OY82fAoX/jGvt/MH7Rw+5I9YLKgoiIOIJ14jjm/OmQfRDXfVMwOl1rd6R6Q2VBREQCnnU8H3PeNPhPNq4JT2Jc9Qu7I9UrKgsiIhLQrHxvaVHI+w+uB6djXNnJ7kj1jsqCiIgELMubizl3KhR4cT34FMYVV9kdqV5SWRCReiE3N5fFixeTn5+PYRgkJSVx8803c/LkSVJTUzl69CgxMTFMmjRJt7UPEFZeTmlROHkc18SnMdpeaXekektlQUTqBbfbzYgRI4iPj+f06dNMnjyZhIQENm7cyNVXX82gQYNYt24d69at4+6777Y7br1XfOQw5nNToPAUrkl/wLisnd2R6jWX3QFERPwhMjKS+Ph4AEJDQ2nZsiVer5fMzEx69+4NQO/evcnMzLQzpgDW999xbNoEOFOI6+GZKgoBQCsLIlLv5OTkcODAAdq2bUtBQQGRkZEANG3alIKCgkpfk56eTnp6OgApKSlER0f7LW9NCAoKckTm4kMHODZvKpgmnllLaPBfbeyOVGVO+RlfCJUFEalXCgsLmTt3LqNGjSIsLKzcc4ZhYBhGpa9LSkoiKSmp7HFubm6t5qxp0dHRAZ/ZOnwAc950cLmISl5EfmgTCPDMP+WEn/HPxcbGVmmc48pCdnY2qampZY9zcnK48847ueWWW8qOffHFFzz33HM0a9YMgG7dujFkyBC/ZxWRwFJcXMzcuXPp1asX3bp1AyAiIoJjx44RGRnJsWPHCA8Ptzll/WR9ux8zdTo0CMb1yEyC4i5zVFGo6xxXFmJjY5kzZw4Apmly7733cu21FXfxuvLKK5k8ebK/44lIgLIsixdffJGWLVsycODAsuOJiYls2rSJQYMGsWnTJrp27WpjyvrJOrC3dAvnkDBcj8zEaHaJ3ZHkZxxXFn5q9+7dtGjRgpiYGLujiEiA+/rrr9m8eTOtW7fmscceA2DYsGEMGjSI1NRUNmzYUPbRSfEfK2sP5gtPQZOI0qIQ1czuSFIJR5eFLVu2cP3111f63N69e3nssceIjIxkxIgRxMXF+TmdiASS9u3bs2bNmkqfmz59up/TCID19eeYC/8ATaNwPZyM4ambFwfWBY4tC8XFxWzfvp3hw4dXeO6yyy5jyZIlhISEsGPHDubMmcOCBQsqjNPVzf7ntMxOyyviFNaeTzEXJUNU89Ki0NRjdyTxwbFlYefOnVx22WU0bdq0wnM/vcK5S5cupKWlcfz48QoXLunqZv9zWman5YWqX90sYhdr93bMJbOheWxpUQivOI9LYHHspky+TkHk5+djWRYAWVlZmKZJkyZN/BlPREQqYe36F+aSWRAbh+vRWSoKDuHIlYXCwkI+++wzxo4dW3Zs/fr1APTv35+PP/6Y9evX43a7CQ4OZuLEief87LSIiPiHtT0D86U50LoNroeewmike3A4hSPLQkhICMuWLSt3rH///mVfDxgwgAEDBvg7loiInIP5r01Yy1LhsnalRSE07PwvkoDhyLIgIiLOYWZswFqxAC6/EtcD0zFCQu2OJNWksiAiIrXG/Od6rFWLoX0CrglPYjQMsTuSXACVBRERqRXmh+9ivfIiXNUF131TMIIb2h1JLpDKgoiI1Dgz/W2s19Og07W47n0co0EDuyPJRVBZEBGRGmX+71+x/vpn6NID1+8fwQhSUXA6lQUREakx5juvYb39CkbXXhi/fRjD7bY7ktQAlQUREblolmVhrfsL1rtrMK67EWPUgxguFYW6QmVBREQuimVZWG+uwFq/FqNXf4y7x2O4HLtBsFRCZUFERC6YZVlYr7+M9cHfMfrcjDFsrIpCHaSyICIiF8QyTaxXXsTa9L8YSbdj3DlGW+vXUSoLIiJSbZZZgrVyMdaWdIwBv8YYPFJFoQ5TWRARkWqxSkqwVryA9fFGjFuHYtw6TEWhjlNZEBGRKrOKi7HS5mF98hHGoLtx3XKn3ZHED1QWRESkSqziIsw/zYGdH2MMGY3rl7+yO5L4icqCiIicl1V0FvPFZ+GzTIyhv8fV71a7I4kfqSyIiIhP1tkzmItnw5c7Me4ej6v3ALsjiZ+pLIiIyDlZZwoxFybD3s8x7nkAV8+b7I4kNlBZEBGRSlmFpzAX/AGyvsIYMxFX9xvtjiQ2UVkQEZEKrFM/YC54Gg7sxfj9I7i69rI7ktjIkWVhwoQJhISE4HK5cLvdpKSklHvesiyWL1/Ozp07adiwIePHjyc+Pt6mtCIizmL9cAIzdQYc/gbXvY9jdLnO7khiM0eWBYAZM2YQHh5e6XM7d+7k+++/Z8GCBezbt4+XX36Z2bNn+zmhiIjzWCeOY6ZOgyOHcN03BaNTV7sjSQBwbFnw5ZNPPuGGG27AMAzatWvHDz/8wLFjx4iMjPT5upI5T/gpYc3wNmhASVGR3TGqxWmZnZYXgNQVdicQh7KOH8OcOw2Ofo9rwlSMq7rYHUkChGPLwqxZswC46aabSEpKKvec1+slOjq67HFUVBRer7dCWUhPTyc9PR2AlJQUGjRoUMupa5ZhGMpcy5yWV+RCWfl5pUXBexTXA9MwruxkdyQJII4sC8nJyXg8HgoKCpg5cyaxsbF06NCh2u+TlJRUrmiYE5+uyZi1Ljo6mtzcXLtjVIvTMjstr8iFsLxHMedOhYJ8XA/NwGh3ld2RJMA48qbjHo8HgIiICLp27UpWVlaF5386wefl5ZW9RkRE/j8r9z+Yc56AEwW4Jj2toiCVclxZKCws5PTp02Vff/bZZ7Ru3brcmMTERDZv3oxlWezdu5ewsLDzXq8gIlLfWDnZmHOmwKmTuB5OxmjT3u5IEqAcdxqioKCA559/HoCSkhJ69uxJ586dWb9+PQD9+/fnmmuuYceOHTz44IMEBwczfvx4OyOLiAQc6/vDpaceiotwPTILo7U+Xi7n5riy0Lx5c+bMmVPheP/+/cu+NgyD3/3ud/6MJSLiGNZ3BzHnTQXLwvXobIyW/2V3JAlwjjsNISIiF846dADz+SfAcOF67BkVBakSx60siIhcqCVLlrBjxw4iIiKYO3cuACdPniQ1NZWjR48SExPDpEmTaNy4sc1Ja4f1bRbmvOnQMATXIzMxmsfaHUkcQisLIlJv9OnThyeeKL/52rp167j66qtZsGABV199NevWrbMpXe0q2vtF6T4KoWG4HputoiDVorIgIvVGhw4dKqwaZGZm0rt3bwB69+5NZmamHdFqlbXvS4499RA0blJ66iGmhd2RxGF0GkJE6rWCgoKyj1Y3bdqUgoICmxPVLOvr3ZgLk3FHNcOa+DRGZJTdkcSBVBZERP4fwzAwDKPS536+PfxPt5QPVGd2bSN/wR9wN48lZtZirCZN7Y5UZUFBQY74Gf+UEzNXlcqCiNRrERERZTeaO3bs2DnvZvvz7eEDfRtwa/cnmEuegRYtsSb9AatJ04DP/FNO3GrdiZljY6t27YquWRCRei0xMZFNmzYBsGnTJrp2df4tma1dH2Mung2xrUs/9dAkwu5I4nBaWRCRemP+/Pl8+eWXnDhxgnHjxnHnnXcyaNAgUlNT2bBhQ9lHJ53M+uQjzJfnQus2uCY+hRFWNz8GKv6lsiAi9cbEiRMrPT59+nQ/J6kd5r82YaWlQpsrcD04AyM0zO5IUkeoLIiI1AFmxgdYKxZAu6tw3T8VIyTU7khSh6gsiIg4nLn5H1irl8CVnXCNfxKjYUO7I0kdo7IgIuJg5of/g/XKUrg6Edd9kzEaBNsdSeoglQUREYcy16/DemMZdO6Ga+z/wWjQwO5IUkepLIiIOJD53ptYb62EX/TA9btHMYI0nUvt0W+XiIiDWJaF9c7rWH97BePa3hhjJmK43XbHkjpOZUFExCEsy8Jatxrr3TcwevTDuOd+DJeKgtQ+lQUREQewLAvrzeVY69dh9OqPcfd4DJc24RX/cFxZyM3NZfHixeTn52MYBklJSdx8883lxnzxxRc899xzNGvWDIBu3boxZMgQO+KKiFw0y7KwXnsJa8M7GDfegjFs7DlveCVSGxxXFtxuNyNGjCA+Pp7Tp08zefJkEhISaNWqVblxV155JZMnT7YppYhIzbBME+svf8Ta/A+M/oMwhoxWURC/c9waVmRkJPHx8QCEhobSsmVLvF6vzalERGqeZZZg/XlhaVG4+Q4VBbGN41YWfionJ4cDBw7Qtm3bCs/t3buXxx57jMjISEaMGEFcXFyFMU68P/1POfHe6U7L7LS8UndYJSVYy+ZjbduEceswjFuHqiiIbQzLsiy7Q1yIwsJCZsyYweDBg+nWrVu5506dOoXL5SIkJIQdO3awYsUKFixYcN73zM7Orq24tcKJ9053Wman5YWq359eLk5tzhdWcTHWy3Oxtm/B+NUIXDffcdHv6bTfZaflBWdmrup84bjTEADFxcXMnTuXXr16VSgKAGFhYYSEhADQpUsXSkpKOH78uL9jiohUm1VUhLn02dKicMeYGikKIhfLcWXBsixefPFFWrZsycCBAysdk5+fz48LJllZWZimSZMmTfwZU0Sk2qyis5h/fAZ2/Qtj2Fhc/QfZHUkEcOA1C19//TWbN2+mdevWPPbYYwAMGzasbOmnf//+fPzxx6xfvx63201wcDATJ07UuT4RCWjWmTOYS2bDnl0YI8bjumGA3ZFEyjiuLLRv3541a9b4HDNgwAAGDNBfNBFxBqvwNOaimbD3c4x7HsB1fZLdkUTKqVJZmDFjRpXerEGDBkydOvWiAomI1CfW6VOYC56G/V9jjJmEq3sfuyOJVFClspCVlcXvf//7845bvnz5RQcSEakvrFMnMec/BQf34xr7KEZiT7sjiVSqSmXhiiuuoE+fPucd99FHH11sHhGpZxYtWlSlcUFBQYwbN66W0/iP9cMJzNQZcPgbXOMex+jc3e5IIudUpbIwffr0Kr2ZTkGISHVlZGTwq1/96rzj3nnnnTpTFqwTBZjzpsH33+Ga8ATG1Yl2RxLxyXEXOIpI3RIVFcUdd5x/L4EtW7b4IU3tswqOYc6dCrn/wXX/VIyO19gdSeS8fO6zYJom//rXv9i2bRumaZYd37p1a60HE5H6YeHChVUaN3/+/FpOUvusY3mYzz8BeTm4HpyuoiCO4bMsLFq0iP379/PNN98wY8YMvv/+ewDWr1/vl3AiUr/95z//IScnx+4YNcLKO4o5Zwrke3FNfBqjfYLdkUSqzOdpCK/Xy4MPPgjAjTfeyKJFi6q0XCgiciHmz5/Pf//3f3PFFVfw4Ycf8vLLL+NyuRg9ejR9+/a1O94Fs45+X3rq4dQPpUWhTXu7I4lUi8+VheLiYoqKigCIiYlh8uTJ/P3vf+fgwYN+CSci9cvnn39OmzZtgNILGqdNm8bs2bNZt26dzckunJWTjTnnCTh9CtfDf1BREEfyubIwatQofvjhB5o2bQpAaGgojz/+uD4iKSK1ori4mKCgILxeLydPnqR9+9L/sRYUFNic7MJYRw6XriiUFON6dBZG3GV2RxK5ID7LQtu2bSsc+/LLL8v+Ah87doy//OUvuFwuhg8fXlYqREQuxKWXXsratWs5evQoXbp0AUpPh4aGhtqcrPqs774tLQqGgevR2RgtW9sdSeSCVfuuk2lpabhcpS9buXIlJSUlGIbB0qVLazyciNQv48aN4+DBg5w9e5ahQ4cCsHfvXnr2dNbOhtbBf5d+6sHtxvWYioI4X7X3WfB6vURHR1NSUsKnn37KkiVLCAoK4t57762NfCJSD3zwwQdcc801tGjRgoceeqjcc927d6d7d+fsbmh9s690Z8aQEFyPzMRoFmt3JJGLVu2yEBoaSn5+PocOHaJVq1aEhIRQXFxMcXFxbeQTkXpg//79/PWvf6VRo0Z06dKFa665hiuuuMJxt5a39n+F+cJTENa49BqF6OZ2RxKpEdUuCwMGDGDKlCkUFxczatQoAL766itatmxZ09lEpJ4YO3YsAAcPHmTHjh28+uqrZGdn07FjR7p06ULnzp0JDw+3OaVv1t4vMBf8ASKalq4oeGLsjiRSYwzLsqzqvig7OxuXy0WLFi3KHhcXF9O6tbPPy2VnZ9sdoVqio6PJzc21O0a1OC2z0/ICxMbWjWXvU6dOsWvXLnbu3Mmnn35KTEwMd9xxB507d7Y7GlB+vrD2fIq5aCZ4YnA9kozRNMrGZJVz2u+y0/KCMzNXdb6o8srCfffdR+fOnbnmmmtISEggJCSk2t9MRKSqwsLC6NGjBz169AAgKyvL5kSVsz7fgblkNsS0KC0K4ZF2RxKpcVUuC7Nnz2bnzp1s3ryZpUuXcumll3LNNdfQpUsXlQURqTF79uzhwIEDFBYWljs+ePBgmxKdm/VpJuaLz0CLuNINl5pE2B1JpFZUuSxERkbSt29f+vbtS0lJCXv27GHHjh3MmTOH4uLisuLQsWNHGjRoUJuZ2bVrF8uXL8c0Tfr168egQYPKPV9UVMSiRYv497//TZMmTZg4cSLNmjWr1UwicvGWLVvG1q1bad++PcHBwWXH/XGh4/nmlZ+zdmzF/NMcaHUprklPYzRqUusZRexyQbeodrvdXHXVVVx11VWMHDmSnJwcduzYwXvvvcfBgwe57bbbajpnGdM0SUtLY+rUqURFRTFlyhQSExNp1apV2ZgNGzbQqFEjFi5cyJYtW/jLX/7CpEmTai2TiNSMf/7zn8ydOxePx+PX71uVeaXCa5Y+C5dejuuhpzDCGvkxrYj/XVBZ+LlmzZoxYMAABgwYUBNv51NWVhYtWrSgefPSjyT16NGDzMzMcn+pP/nkk7IbXnXv3p1ly5ZhWdZ5/3Xy5Pvf1l7wWtCgQXbZvTucwmmZnZYXYPk9zj0tGB0dXesrk5Wpyrzyc9O6TYSW/4WxJRcI/IvanPa77LS84MzMVZ0vql0WTp06xbvvvss333xT4Zzi1KlTq/t21eb1eomK+v9XGkdFRbFv375zjnG73YSFhXHixIkKH71KT08nPT0dgJSUFFsmqYthGIYy1zKn5XW6cePGsXTpUq6//noiIsqf/+/QoUOtfd+qzCsV5otL22K4qr0Jrm2c9rvstLzgzMxVVe2yMG/ePEzT5Nprry13TtGJkpKSSEpKKnv8VB9n/YvMiR/TcVpmp+V1un//+9/s3LmTPXv2VJhf/vjHP9qUqtTP54un+5571SEQOe132Wl5wZmZq6raZWHfvn2kpaURFFQjZzCqzePxkJeXV/Y4Ly+vwvnNH8dERUVRUlLCqVOnaNJEFx+JBLpXX32Vxx9/nISEBL9+36rMKyL1WbXX0Nq3b893331XG1mqpE2bNhw5coScnByKi4vJyMggMTGx3Jhf/OIXbNy4EYCPP/6Yjh07Om7bWJH6qGHDhrV6uuFcqjKviNRn1V4eGD9+PM888wxt27atcEvqIUOG1Fiwc3G73YwZM4ZZs2ZhmiY33ngjcXFxvP7667Rp04bExET69u3LokWLeOCBB2jcuDETJ06s9VwicvHuuusuVqxYwZAhQypcY+SqxesDzjWviEipapeFV199lby8PGJiYjh9+nTZcX/+y71Lly5l97r/0V133VX2dXBwMA8//LDf8ohIzfjxuoT333+/wnOvv/56rX7vyuYVESlV7bKQkZHBCy+8QGSktjQVkZq1aNEiuyOISCWqXRaaN2+O2+2ujSwiUs/FxOhOjSKBqNonAXv16sVzzz3HRx99xOeff17uPxGR6nrttdeqNG7NmjW1nEREzqXaKwv/+Mc/gNJrF37KMAwtIYpItb377rv07dsXy7J8jnvvvfe48847/ZRKRH6q2mVh8eLFtZFDROqpM2fO8MADD5x3XF3dGU/ECapUFl577TWGDh163nFr1qxR8xeRaqntTzmIyMWrUlnQMqGIiEj9VaWyoGVCERGR+qtKZUHLhCIiIvWXc+6vKiIiIrZQWRCRgLFixQqysrLsjiEiP2PPfaZFRCphWRZz5syhYcOG9OzZk549exIbG2t3LJF6T2VBRALG6NGjueeee/j888/56KOPePLJJ2nWrBm9evVi4MCBdscTqbcuqCzk5+eTlZXFiRMnyn2csm/fvjUWTETqJ5fLRUJCAgkJCXi9XpYsWcKqVatUFkRsVO2ysG3bNhYuXMgll1zCoUOHiIuL49ChQ7Rv315lQUQuWmFhIdu2bWPLli18+eWXdOjQgQkTJtgdS6Req3ZZeP311xk/fjzXXXcdo0eP5rnnnuPDDz/k0KFDtZFPROqRefPmsXPnTuLj47n++uuZMGEC4eHhdscSqfeqXRZyc3O57rrryh3r3bs3Y8eOZeTIkTUWTETqnzZt2jBy5Eiio6PtjiIiP1HtshAeHk5+fj5NmzYlJiaGvXv30qRJE0zTrI18IlKP3H777XZHEJFKVLss9OvXj6+++oru3btzyy238PTTT2MYhl8uPlq1ahXbt28nKCiI5s2bM378eBo1alRh3IQJEwgJCcHlcuF2u0lJSan1bCIiInVVtcvCoEGDyr7u3bs3HTt2pLCwkFatWtVosMokJCQwfPhw3G43q1evZu3atdx9992Vjp0xY4bOdYqIiNSAi97BMTo62i9FAaBTp0643W4A2rVrh9fr9cv3FTUtuVgAABBXSURBVBERqc8cuynThg0b6NGjxzmfnzVrFgA33XQTSUlJlY5JT08nPT0dgJSUFMddVBUUFKTMtcxpeUVEakPAlYXk5GTy8/MrHB86dChdu3YF4K233sLtdtOrV69zvofH46GgoICZM2cSGxtLhw4dKoxLSkoqVyRyc3Nr6E/hH9HR0cpcy5yWF9D2yCJS4wKuLEybNs3n8xs3bmT79u1Mnz4dwzAqHePxeACIiIiga9euZGVlVVoWRERE5PwcddfJXbt28fbbb/P444/TsGHDSscUFhZy+vTpsq8/++wzWrdu7c+YIiIidUrArSz4kpaWRnFxMcnJyQBcfvnljB07Fq/Xy9KlS5kyZQoFBQU8//zzAJSUlNCzZ086d+5sZ2wRERFHM6yf3gmqnsvOzrY7QrU48Xy60zI7LS/omgV/0XxRu5yWF5yZuarzhaNOQ4iIiIj/qSyIiIiITyoLIiIi4pPKgoiIiPiksiAiIiI+qSyIiIiITyoLIiIi4pOjNmUSEbkQW7du5Y033uC7775j9uzZtGnTpuy5tWvXsmHDBlwuF6NHj9YmbiKV0MqCiNR5cXFxPProo1x55ZXljh8+fJiMjAzmzZvHk08+SVpaGqZp2pRSJHCpLIhIndeqVatKd6rLzMykR48eNGjQgGbNmtGiRQuysrJsSCgS2FQWRKTe8nq9REVFlT32eDx4vV4bE4kEJl2zICJ1QnJyMvn5+RWODx06lK5du170+6enp5Oeng5ASkoK0dHRF/2e/hQUFOSozE7LC87MXFUqCyJSJ0ybNq3ar/F4POTl5ZU99nq9eDyeSscmJSWRlJRU9thpNwxy2k2OnJYXnJlZN5ISETmPxMREMjIyKCoqIicnhyNHjtC2bVu7Y4kEHK0siEidt23bNpYtW8bx48dJSUnh0ksv5cknnyQuLo7rrruOhx9+GJfLxW9/+1tcLv0bSuTnVBZEpM679tprufbaayt9bvDgwQwePNjPiUScRRVaREREfFJZEBEREZ8cdRpizZo1fPDBB4SHhwMwbNgwunTpUmHcrl27WL58OaZp0q9fPwYNGuTvqCIiInWGo8oCwC233MJtt912zudN0yQtLY2pU6cSFRXFlClTSExMpFWrVn5MKSIiUnfUudMQWVlZtGjRgubNmxMUFESPHj3IzMy0O5aIiIhjOW5l4R//+AebN28mPj6ekSNH0rhx43LP/3z71qioKPbt21fpe2lHNv9zWman5RURqQ0BVxZ8bdnav39/hgwZAsDrr7/OypUrGT9+/AV/L+3I5n9Oy+y0vFD1HdlERKoq4MpCVbds7devH88++2yF4z/fvjUvL++c27eKiIjI+TnqmoVjx46Vfb1t2zbi4uIqjGnTpg1HjhwhJyeH4uJiMjIySExM9GdMERGROiXgVhZ8Wb16Nd988w2GYRATE8PYsWOB0usUli5dypQpU3C73YwZM4ZZs2ZhmiY33nhjpaVCREREqsawLMuyO0SgyM7OtjtCtTjxfLrTMjstL+iaBX/RfFG7nJYXnJlZd50UERGRGqGyICIiIj6pLIiIiIhPKgsiIiLik8qCiIiI+KSyICIiIj6pLIiIiIhPKgsiIiLik8qCiIiI+KSyICIiIj6pLIiIiIhPKgsiIiLik8qCiIiI+KSyICIiIj6pLIiIiIhPKgsiIiLik8qCiIiI+KSyICIiIj4F2R2gOlJTU8nOzgbg1KlThIWFMWfOnArjJkyYQEhICC6XC7fbTUpKir+jioiI1BmOKguTJk0q+3rlypWEhYWdc+yMGTMIDw/3RywREZE6zZGnISzLYuvWrVx//fV2RxEREanzHLWy8KM9e/YQERHBJZdccs4xs2bNAuCmm24iKSnJX9FERETqnIArC8nJyeTn51c4PnToULp27QrAli1bfK4qJCcn4/F4KCgoYObMmcTGxtKhQ4cK49LT00lPTwcgJSWF6OjoGvpT+EdQUJAy1zKn5RURqQ2GZVmW3SGqo6SkhHHjxpGSkkJUVNR5x69Zs4aQkBBuu+2284798eJJp4iOjiY3N9fuGNXitMxOywsQGxtrd4R6QfNF7XJaXnBm5qrOFwG3snA+u3fvJjY29pxFobCwEMuyCA0NpbCwkM8++4whQ4b4OaWIBJJVq1axfft2goKCaN68OePHj6dRo0YArF27lg0bNuByuRg9ejSdO3e2Oa1I4HFcWajsFITX62Xp0qVMmTKFgoICnn/+eaB0FaJnz576yy9SzyUkJDB8+HDcbjerV69m7dq13H333Rw+fJiMjAzmzZvHsWPHSE5O5oUXXsDlcuS13yK1xnFlYcKECRWOeTwepkyZAkDz5s0r3XtBROqvTp06lX3drl07Pv74YwAyMzPp0aMHDRo0oFmzZrRo0YKsrCzatWtnV1SRgOS4siAicjE2bNhAjx49gNJVycsvv7zsOY/Hg9frrfR1uiDav5yWF5yZuapUFkSkTqjKJ6neeust3G43vXr1qvb7JyUllfsYttMuZHPaxXdOywvOzFxnL3AUEanMtGnTfD6/ceNGtm/fzvTp0zEMAyhdScjLyysb4/V68Xg8tZpTxIl0FY+I1Hm7du3i7bff5vHHH6dhw4ZlxxMTE8nIyKCoqIicnByOHDlC27ZtbUwqEpi0siAidV5aWhrFxcUkJycDcPnllzN27Fji4uK47rrrePjhh3G5XPz2t7/VJyFEKqGyICJ13sKFC8/53ODBgxk8eLAf04g4jyq0iIiI+KSyICIiIj6pLIiIiIhPKgsiIiLik8qCiIiI+KSyICIiIj6pLIiIiIhPKgsiIiLik8qCiIiI+KSyICIiIj6pLIiIiIhPKgsiIiLik8qCiIiI+BSQd53cunUrb7zxBt999x2zZ8+mTZs2Zc+tXbuWDRs24HK5GD16NJ07d67w+pycHObPn8+JEyeIj4/ngQceICgoIP+oIiIiAS8gVxbi4uJ49NFHufLKK8sdP3z4MBkZGcybN48nn3yStLQ0TNOs8PrVq1dzyy23sHDhQho1asSGDRv8FV1ERKTOCciy0KpVK2JjYyscz8zMpEePHjRo0IBmzZrRokULsrKyyo2xLIsvvviC7t27A9CnTx8yMzP9kltERKQuctTavNfr5fLLLy977PF48Hq95cacOHGCsLAw3G73Ocf8KD09nfT0dABSUlIqLSiBTplrn9Pyin848ffCaZmdlhecmbkqbFtZSE5O5pFHHqnwnz9XAZKSkkhJSSElJYXJkyf77fvWFGWufU7LC87M7DRO/Bk7LbPT8kLdzmzbysK0adOq/RqPx0NeXl7ZY6/Xi8fjKTemSZMmnDp1ipKSEtxud6VjREREpOoC8pqFc0lMTCQjI4OioiJycnI4cuQIbdu2LTfGMAw6duzIxx9/DMDGjRtJTEy0I66IiEid4H7qqaeesjvEz23bto3k5GSys7PZtm0bu3fv5oYbbiAiIoKTJ0+ydOlSPvroI8aMGVN2fuiZZ56hY8eOhIaGEh8fz8qVK3n77bdp1KgRQ4cOLbuGwZf4+Pja/qPVOGWufU7LC87M7DRO/Bk7LbPT8kLdzWxYlmX5IYuIiIg4lKNOQ4iIiIj/qSyIiIiIT47aZ6G27Nq1i+XLl2OaJv369WPQoEF2R/IpNzeXxYsXk5+fj2EYJCUlcfPNN9sd67xM02Ty5Ml4PB5HfMTohx9+4MUXX+TQoUMYhsF9991Hu3bt7I51Tu+88w4bNmzAMAzi4uIYP348wcHBdseqc5w0Xzh1rgDNF7WtuvNFvS8LpmmSlpbG1KlTiYqKYsqUKSQmJtKqVSu7o52T2+1mxIgRxMfHc/r0aSZPnkxCQkJAZwZ49913admyJadPn7Y7SpUsX76czp0788gjj1BcXMyZM2fsjnROXq+X9957j9TUVIKDg5k3bx4ZGRn06dPH7mh1itPmC6fOFaD5ojZdyHxR709DZGVl0aJFC5o3b05QUBA9evQI+O2hIyMjy65eDQ0NpWXLlufcpTJQ5OXlsWPHDvr162d3lCo5deoUe/bsoW/fvgAEBQXRqFEjm1P5ZpomZ8+epaSkhLNnzxIZGWl3pDrHafOFE+cK0HzhD9WdL+r9yoLX6yUqKqrscVRUFPv27bMxUfXk5ORw4MCBCvtNBJoVK1Zw9913O+ZfCTk5OYSHh7NkyRK+/fZb4uPjGTVqFCEhIXZHq5TH4+HWW2/lvvvuIzg4mE6dOtGpUye7Y9U5Tp4vnDJXgOaL2nYh80W9X1lwssLCQubOncuoUaMICwuzO845bd++nYiICEd9/rikpIQDBw7Qv39/nnvuORo2bMi6devsjnVOJ0+eJDMzk8WLF7N06VIKCwvZvHmz3bEkQDhlrgDNF/5wIfNFvS8LP99COi8vzxHbQxcXFzN37lx69epFt27d7I7j09dff80nn3zChAkTmD9/Pp9//jkLFiywO5ZPUVFRREVFld24rHv37hw4cMDmVOe2e/dumjVrRnh4OEFBQXTr1o29e/faHavOceJ84aS5AjRf+MOFzBf1/jREmzZtOHLkCDk5OXg8HjIyMnjwwQftjuWTZVm8+OKLtGzZkoEDB9od57yGDx/O8OHDAfjiiy/4+9//HvA/46ZNmxIVFUV2djaxsbHs3r07oC8Ki46OZt++fZw5c4bg4GB2795NmzZt7I5V5zhtvnDaXAGaL/zhQuaLel8W3G43Y8aMYdasWZimyY033khcXJzdsXz6+uuv2bx5M61bt+axxx4DYNiwYXTp0sXmZHXLmDFjWLBgAcXFxTRr1ozx48fbHemcLr/8crp3787jjz+O2+3m0ksvJSkpye5YdY7T5gvNFf5T1+cLbfcsIiIiPtX7axZERETEN5UFERER8UllQURERHxSWRARERGfVBZERETEJ5UFERER8UllQWrVxo0bueuuuxgxYgSHDx/2ObaoqIgRI0YwbNgwXnvtNT8lFJFAofkicKksyEWZMGECn332mc8x7dq1Y9WqVefd0axBgwasWrWKnj171mREEQkQmi+cS2VBREREfKr32z3LhVu4cCG5ubk8++yzuFwuhgwZwu23337e12VlZfHyyy9z5MgRgoOD6dmzJ/fcc48fEouIXTRfOJvKglywBx54gK+++op7772XhISEKr9u+fLl3Hzzzdxwww0UFhZy8ODBWkwpIoFA84Wz6TSE+F1QUBDff/89x48fJyQkhHbt2tkdSUQClOaLwKCyIH43btw4srOzmTRpElOmTGH79u12RxKRAKX5IjDoNIT43SWXXMLEiRMxTZNt27Yxb9480tLSCAkJsTuaiAQYzReBQSsLclGaNm1KTk5OtV6zefNmjh8/jsvlIiwsDACXS7+KInWd5gvn0sqCXJRBgwaxbNkyVq9ezeDBg7ntttvO+5pdu3axcuVKzpw5Q0xMDA899BDBwcF+SCsidtJ84VyGZVmW3SGk7tq8eTN/+tOfCAoKYubMmT43WikqKuL3v/89JSUl3Hbbbdxxxx1+TCoidtN8EbhUFkRERMQnnfgRERERn1QWRERExCeVBREREfFJZUFERER8UlkQERERn1QWRERExKf/C0i5xOVDGOUhAAAAAElFTkSuQmCC\n",
                "text/plain": "<Figure size 576x288 with 2 Axes>"
              }
            ],
            "_view_module": "@jupyter-widgets/output",
            "_model_module_version": "1.0.0",
            "_view_count": null,
            "_view_module_version": "1.0.0",
            "layout": "IPY_MODEL_66a65be1700641c5911f0f3cf0ccf820",
            "_model_module": "@jupyter-widgets/output"
          }
        },
        "bfae22a007934fc6b589e924359d6048": {
          "model_module": "@jupyter-widgets/controls",
          "model_name": "SliderStyleModel",
          "state": {
            "_view_name": "StyleView",
            "handle_color": null,
            "_model_name": "SliderStyleModel",
            "description_width": "",
            "_view_module": "@jupyter-widgets/base",
            "_model_module_version": "1.5.0",
            "_view_count": null,
            "_view_module_version": "1.2.0",
            "_model_module": "@jupyter-widgets/controls"
          }
        },
        "3963e2ca6e9f41769ac763577163098e": {
          "model_module": "@jupyter-widgets/base",
          "model_name": "LayoutModel",
          "state": {
            "_view_name": "LayoutView",
            "grid_template_rows": null,
            "right": null,
            "justify_content": null,
            "_view_module": "@jupyter-widgets/base",
            "overflow": null,
            "_model_module_version": "1.2.0",
            "_view_count": null,
            "flex_flow": null,
            "width": null,
            "min_width": null,
            "border": null,
            "align_items": null,
            "bottom": null,
            "_model_module": "@jupyter-widgets/base",
            "top": null,
            "grid_column": null,
            "overflow_y": null,
            "overflow_x": null,
            "grid_auto_flow": null,
            "grid_area": null,
            "grid_template_columns": null,
            "flex": null,
            "_model_name": "LayoutModel",
            "justify_items": null,
            "grid_row": null,
            "max_height": null,
            "align_content": null,
            "visibility": null,
            "align_self": null,
            "height": null,
            "min_height": null,
            "padding": null,
            "grid_auto_rows": null,
            "grid_gap": null,
            "max_width": null,
            "order": null,
            "_view_module_version": "1.2.0",
            "grid_template_areas": null,
            "object_position": null,
            "object_fit": null,
            "grid_auto_columns": null,
            "margin": null,
            "display": null,
            "left": null
          }
        },
        "66a65be1700641c5911f0f3cf0ccf820": {
          "model_module": "@jupyter-widgets/base",
          "model_name": "LayoutModel",
          "state": {
            "_view_name": "LayoutView",
            "grid_template_rows": null,
            "right": null,
            "justify_content": null,
            "_view_module": "@jupyter-widgets/base",
            "overflow": null,
            "_model_module_version": "1.2.0",
            "_view_count": null,
            "flex_flow": null,
            "width": null,
            "min_width": null,
            "border": null,
            "align_items": null,
            "bottom": null,
            "_model_module": "@jupyter-widgets/base",
            "top": null,
            "grid_column": null,
            "overflow_y": null,
            "overflow_x": null,
            "grid_auto_flow": null,
            "grid_area": null,
            "grid_template_columns": null,
            "flex": null,
            "_model_name": "LayoutModel",
            "justify_items": null,
            "grid_row": null,
            "max_height": null,
            "align_content": null,
            "visibility": null,
            "align_self": null,
            "height": null,
            "min_height": null,
            "padding": null,
            "grid_auto_rows": null,
            "grid_gap": null,
            "max_width": null,
            "order": null,
            "_view_module_version": "1.2.0",
            "grid_template_areas": null,
            "object_position": null,
            "object_fit": null,
            "grid_auto_columns": null,
            "margin": null,
            "display": null,
            "left": null
          }
        },
        "20dc2047579c4bb99ba526c2bf0cdc89": {
          "model_module": "@jupyter-widgets/controls",
          "model_name": "VBoxModel",
          "state": {
            "_view_name": "VBoxView",
            "_dom_classes": [
              "widget-interact"
            ],
            "_model_name": "VBoxModel",
            "_view_module": "@jupyter-widgets/controls",
            "_model_module_version": "1.5.0",
            "_view_count": null,
            "_view_module_version": "1.5.0",
            "box_style": "",
            "layout": "IPY_MODEL_97aa7724acb84766abaf516ab972325c",
            "_model_module": "@jupyter-widgets/controls",
            "children": [
              "IPY_MODEL_40244e570fea4ff6902b96fedec63a0d",
              "IPY_MODEL_735471674c8044b2ad773c142dd2a3e6"
            ]
          }
        },
        "97aa7724acb84766abaf516ab972325c": {
          "model_module": "@jupyter-widgets/base",
          "model_name": "LayoutModel",
          "state": {
            "_view_name": "LayoutView",
            "grid_template_rows": null,
            "right": null,
            "justify_content": null,
            "_view_module": "@jupyter-widgets/base",
            "overflow": null,
            "_model_module_version": "1.2.0",
            "_view_count": null,
            "flex_flow": null,
            "width": null,
            "min_width": null,
            "border": null,
            "align_items": null,
            "bottom": null,
            "_model_module": "@jupyter-widgets/base",
            "top": null,
            "grid_column": null,
            "overflow_y": null,
            "overflow_x": null,
            "grid_auto_flow": null,
            "grid_area": null,
            "grid_template_columns": null,
            "flex": null,
            "_model_name": "LayoutModel",
            "justify_items": null,
            "grid_row": null,
            "max_height": null,
            "align_content": null,
            "visibility": null,
            "align_self": null,
            "height": null,
            "min_height": null,
            "padding": null,
            "grid_auto_rows": null,
            "grid_gap": null,
            "max_width": null,
            "order": null,
            "_view_module_version": "1.2.0",
            "grid_template_areas": null,
            "object_position": null,
            "object_fit": null,
            "grid_auto_columns": null,
            "margin": null,
            "display": null,
            "left": null
          }
        },
        "40244e570fea4ff6902b96fedec63a0d": {
          "model_module": "@jupyter-widgets/controls",
          "model_name": "IntSliderModel",
          "state": {
            "_view_name": "IntSliderView",
            "style": "IPY_MODEL_03049e6561ec4d698ae42ec94eb3bbec",
            "_dom_classes": [],
            "description": "a",
            "step": 1,
            "_model_name": "IntSliderModel",
            "orientation": "horizontal",
            "max": 7,
            "_view_module": "@jupyter-widgets/controls",
            "_model_module_version": "1.5.0",
            "value": -3,
            "_view_count": null,
            "disabled": false,
            "_view_module_version": "1.5.0",
            "min": -7,
            "continuous_update": true,
            "readout_format": "d",
            "description_tooltip": null,
            "readout": true,
            "_model_module": "@jupyter-widgets/controls",
            "layout": "IPY_MODEL_817f763371814d0fb5365d79e8e97ae4"
          }
        },
        "735471674c8044b2ad773c142dd2a3e6": {
          "model_module": "@jupyter-widgets/output",
          "model_name": "OutputModel",
          "state": {
            "_view_name": "OutputView",
            "msg_id": "",
            "_dom_classes": [],
            "_model_name": "OutputModel",
            "outputs": [
              {
                "output_type": "display_data",
                "metadata": {
                  "tags": []
                },
                "image/png": "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\n",
                "text/plain": "<Figure size 720x288 with 3 Axes>"
              }
            ],
            "_view_module": "@jupyter-widgets/output",
            "_model_module_version": "1.0.0",
            "_view_count": null,
            "_view_module_version": "1.0.0",
            "layout": "IPY_MODEL_421b6ad273a44a32b92dbd7bf84225de",
            "_model_module": "@jupyter-widgets/output"
          }
        },
        "03049e6561ec4d698ae42ec94eb3bbec": {
          "model_module": "@jupyter-widgets/controls",
          "model_name": "SliderStyleModel",
          "state": {
            "_view_name": "StyleView",
            "handle_color": null,
            "_model_name": "SliderStyleModel",
            "description_width": "",
            "_view_module": "@jupyter-widgets/base",
            "_model_module_version": "1.5.0",
            "_view_count": null,
            "_view_module_version": "1.2.0",
            "_model_module": "@jupyter-widgets/controls"
          }
        },
        "817f763371814d0fb5365d79e8e97ae4": {
          "model_module": "@jupyter-widgets/base",
          "model_name": "LayoutModel",
          "state": {
            "_view_name": "LayoutView",
            "grid_template_rows": null,
            "right": null,
            "justify_content": null,
            "_view_module": "@jupyter-widgets/base",
            "overflow": null,
            "_model_module_version": "1.2.0",
            "_view_count": null,
            "flex_flow": null,
            "width": null,
            "min_width": null,
            "border": null,
            "align_items": null,
            "bottom": null,
            "_model_module": "@jupyter-widgets/base",
            "top": null,
            "grid_column": null,
            "overflow_y": null,
            "overflow_x": null,
            "grid_auto_flow": null,
            "grid_area": null,
            "grid_template_columns": null,
            "flex": null,
            "_model_name": "LayoutModel",
            "justify_items": null,
            "grid_row": null,
            "max_height": null,
            "align_content": null,
            "visibility": null,
            "align_self": null,
            "height": null,
            "min_height": null,
            "padding": null,
            "grid_auto_rows": null,
            "grid_gap": null,
            "max_width": null,
            "order": null,
            "_view_module_version": "1.2.0",
            "grid_template_areas": null,
            "object_position": null,
            "object_fit": null,
            "grid_auto_columns": null,
            "margin": null,
            "display": null,
            "left": null
          }
        },
        "421b6ad273a44a32b92dbd7bf84225de": {
          "model_module": "@jupyter-widgets/base",
          "model_name": "LayoutModel",
          "state": {
            "_view_name": "LayoutView",
            "grid_template_rows": null,
            "right": null,
            "justify_content": null,
            "_view_module": "@jupyter-widgets/base",
            "overflow": null,
            "_model_module_version": "1.2.0",
            "_view_count": null,
            "flex_flow": null,
            "width": null,
            "min_width": null,
            "border": null,
            "align_items": null,
            "bottom": null,
            "_model_module": "@jupyter-widgets/base",
            "top": null,
            "grid_column": null,
            "overflow_y": null,
            "overflow_x": null,
            "grid_auto_flow": null,
            "grid_area": null,
            "grid_template_columns": null,
            "flex": null,
            "_model_name": "LayoutModel",
            "justify_items": null,
            "grid_row": null,
            "max_height": null,
            "align_content": null,
            "visibility": null,
            "align_self": null,
            "height": null,
            "min_height": null,
            "padding": null,
            "grid_auto_rows": null,
            "grid_gap": null,
            "max_width": null,
            "order": null,
            "_view_module_version": "1.2.0",
            "grid_template_areas": null,
            "object_position": null,
            "object_fit": null,
            "grid_auto_columns": null,
            "margin": null,
            "display": null,
            "left": null
          }
        }
      }
    }
  },
  "cells": [
    {
      "cell_type": "markdown",
      "metadata": {
        "id": "view-in-github",
        "colab_type": "text"
      },
      "source": [
        "<a href=\"https://colab.research.google.com/github/kzhkAKT/Physics1/blob/draft/1107_%E7%AD%89%E5%8A%A0%E9%80%9F%E5%BA%A6%E7%9B%B4%E7%B7%9A%E9%81%8B%E5%8B%95_%E7%89%A9%E7%90%861.ipynb\" target=\"_parent\"><img src=\"https://colab.research.google.com/assets/colab-badge.svg\" alt=\"Open In Colab\"/></a>"
      ]
    },
    {
      "cell_type": "markdown",
      "metadata": {
        "id": "YlZ1etaUE2m0",
        "colab_type": "text"
      },
      "source": [
        "# 運動の表し方\n"
      ]
    },
    {
      "cell_type": "markdown",
      "metadata": {
        "id": "fYDHo38R8zF2",
        "colab_type": "text"
      },
      "source": [
        "## 復習\n",
        "$\\require{cancel}$"
      ]
    },
    {
      "cell_type": "markdown",
      "metadata": {
        "id": "Qo4UsQD95vUV",
        "colab_type": "text"
      },
      "source": [
        "### 速度 $v$ の定義\n",
        "\n",
        "\\begin{align*}\n",
        "v &= \\dfrac{\\Delta x}{\\Delta t} = \\dfrac{x_2 - x_1 }{t_2 - t_1}&\n",
        "\\end{align*}\n",
        "\n",
        "この式から\n",
        "> $x-t$グラフ, つまり変位($\\Delta x$)と時間変化($\\Delta t$)比が **速度** になる  \n",
        "\n",
        "といえました. では初めの形を両辺に $\\Delta t$ を掛けて,\n",
        "次のように変形してみましょう.\n",
        "\\begin{align*}\n",
        "v \\cdot \\Delta t &= \\dfrac{\\Delta x}{\\cancel{\\Delta t}} \\cancel{\\Delta  t}&\\\\\n",
        "\\Delta x &=v \\cdot \\Delta t\n",
        "\\end{align*}\n",
        "となりました. この式から\n",
        "\n",
        "> $v-t$ グラフ, つまり 速度($v$) と 時間変化の積が, 変位($\\Delta x$) になる\n",
        "\n",
        "ということができます. これは前回教科書に線を引いた(1.1.6)ことを表しています.\n",
        "\n",
        "\n",
        "\n"
      ]
    },
    {
      "cell_type": "markdown",
      "metadata": {
        "id": "oTNYUmPs84XG",
        "colab_type": "text"
      },
      "source": [
        "### 加速度 $a$ の定義\n",
        "\n",
        "\\begin{align*}\n",
        "a &= \\dfrac{\\Delta v}{\\Delta t} = \\dfrac{v_2 - v_1 }{t_2 - t_1}&\n",
        "\\end{align*}\n",
        "\n",
        "この式から\n",
        "> $v-t$グラフ, つまり速度変化($\\Delta v$)と時間変化($\\Delta t$)比が **加速度** になる  \n",
        "\n",
        "といえました. では初めの形を両辺に $\\Delta t$ を掛けて,\n",
        "次のように変形してみましょう.\n",
        "\\begin{align*}\n",
        "a \\cdot \\Delta t &= \\dfrac{\\Delta v}{\\cancel{\\Delta t}} \\cancel{\\Delta  t}&\\\\\n",
        "\\Delta v &=a \\cdot \\Delta t\n",
        "\\end{align*}\n",
        "となりました. この式から\n",
        "\n",
        "> $a-t$ グラフ, つまり 加速度($a$) と 時間変化の積が, 速度の変化($\\Delta v$) になる\n",
        "\n",
        "と言えそうです.\n",
        "\n",
        "\n",
        "---\n"
      ]
    },
    {
      "cell_type": "markdown",
      "metadata": {
        "id": "5Q1I04q6E2jj",
        "colab_type": "text"
      },
      "source": [
        "## 等加速度直線運動\n",
        "\n",
        "> 等加速度直線運動 = 「等」+ 「加速度」+「直線」+ \u0005運動\n",
        "と分解し, それぞれの要素について\n",
        "\n",
        "> 「等」+ 「加速度」: 一定の **加速度**  \n",
        "> 直線: (ある点から出発し)直線上を進む\n",
        "\n",
        "### 復習: 物体の加速度 $a$ の定義\n",
        "$$\n",
        "a = \\dfrac{\\Delta v}{\\Delta t}\n",
        "= \\dfrac{v_2 - v_1 }{t_2 - t_1}\n",
        "$$\n"
      ]
    },
    {
      "cell_type": "markdown",
      "metadata": {
        "id": "Lg6gkzKoNBXl",
        "colab_type": "text"
      },
      "source": [
        "#### 初め静止していた等加速度直線運動の速度 $v$\n",
        "\n",
        "いま$a$ を一定, さらに\n",
        "* 測定開始時点を $t_1=0$ でこのときの速度を $v_1=0$\n",
        "* 測定開始時点 $t_1=0$ から経過した時間を $t_2=t$   \n",
        "* 時刻 $t$ での速度を $v$ \n",
        "\n",
        "と置き直すと\n",
        "\n",
        "\n",
        "$$\n",
        "\\require{cancel}\n",
        "\\begin{align*}\n",
        "a &= \\dfrac{\\cancelto{v}{v_2} - \\cancelto{0}{v_1}}\n",
        "{\\cancelto{t}{t_2} - \\cancelto{0}{t_1}}&\\\\\n",
        "&= \\dfrac{v}{t}\\\\\n",
        "v&=a\\cdot t&\n",
        "\\end{align*}\n",
        "$$\n",
        "これより, 初め静止していた物体が, 等加速度で直線上を運動する $t$ 秒後の速度は\n",
        ">> $(1.6) \\qquad v = a \\cdot t$\n",
        "\n",
        "となります."
      ]
    },
    {
      "cell_type": "markdown",
      "metadata": {
        "id": "Vjiwp7_PuryV",
        "colab_type": "text"
      },
      "source": [
        "#### 初め静止していた等加速度直線運動の変位 $s$\n",
        "\n",
        "等加速度直線運動では, 速度は時間によって変化します.\n",
        "> $\\quad v = a \\cdot t$\n",
        "\n"
      ]
    },
    {
      "cell_type": "code",
      "metadata": {
        "id": "B8CzBpp0sRuy",
        "colab_type": "code",
        "cellView": "form",
        "colab": {
          "base_uri": "https://localhost:8080/",
          "height": 348,
          "referenced_widgets": [
            "b6fd4b74fbb44048b7ca67dac337945f",
            "c3c517ea01d34d91bce6775b7ab27465",
            "f693c65cff8d4b15953a48f1e0bcc068",
            "64d2f868be6a45b1ac8037c4a86ef87c",
            "bfae22a007934fc6b589e924359d6048",
            "3963e2ca6e9f41769ac763577163098e",
            "66a65be1700641c5911f0f3cf0ccf820"
          ]
        },
        "outputId": "24e38d4f-2a1c-42a2-b976-3c0f7ba7c22d"
      },
      "source": [
        "#@title 等加速度直線運動における a-t と v-t の関係(ここをクリック+再生)\n",
        "%matplotlib inline\n",
        "import matplotlib.pyplot as plt\n",
        "from ipywidgets import interact\n",
        "import numpy as np\n",
        "plt.style.use('ggplot')\n",
        "\n",
        "(a,T)=(5.0,10)\n",
        "\n",
        "plt.figure()\n",
        "t = np.linspace(0, T)\n",
        "a, v = [], []\n",
        "\n",
        "@interact(a=(-7,+7))\n",
        "def f(a):\n",
        "    fig = plt.figure(figsize=(8,4))\n",
        "\n",
        "    # グラフ間の幅を調整\n",
        "    plt.subplots_adjust(wspace=0.5, hspace=0.5)\n",
        "\n",
        "    at = fig.add_subplot(1, 2, 1)\n",
        "    at.plot(t , a + 0*t )\n",
        "    at.plot(t , 0*t )  \n",
        "    at.set_xlabel('t [s]') \n",
        "    at.set_ylabel('a [m/s$^2$]')\n",
        "    at.set_title('a-t')\n",
        "    at.set_xlim([0, 8])\n",
        "    at.set_ylim([-10, 10])   \n",
        "\n",
        "    vt = fig.add_subplot(1, 2, 2)\n",
        "    vt.plot(t , a*t )\n",
        "    vt.plot(t , 0*t )\n",
        "    vt.set_xlabel('t [s]')\n",
        "    vt.set_ylabel('v [m/s]')\n",
        "    vt.set_title('v-t')\n",
        "    vt.set_xlim([0, 8])\n",
        "    vt.set_ylim([-25, 25])\n",
        "\n",
        "    plt.show()"
      ],
      "execution_count": 6,
      "outputs": [
        {
          "output_type": "display_data",
          "data": {
            "text/plain": [
              "<Figure size 432x288 with 0 Axes>"
            ]
          },
          "metadata": {
            "tags": []
          }
        },
        {
          "output_type": "display_data",
          "data": {
            "application/vnd.jupyter.widget-view+json": {
              "model_id": "b6fd4b74fbb44048b7ca67dac337945f",
              "version_minor": 0,
              "version_major": 2
            },
            "text/plain": [
              "interactive(children=(IntSlider(value=0, description='a', max=7, min=-7), Output()), _dom_classes=('widget-int…"
            ]
          },
          "metadata": {
            "tags": []
          }
        }
      ]
    },
    {
      "cell_type": "code",
      "metadata": {
        "id": "Wg1flRLTsksA",
        "colab_type": "code",
        "cellView": "form",
        "outputId": "a06ac1b3-1e4f-4ade-fe08-bb00a542afc0",
        "colab": {
          "base_uri": "https://localhost:8080/",
          "height": 414
        }
      },
      "source": [
        "#@title v-t グラフの分割による考察\n",
        "%%svg\n",
        "<svg xmlns=\"http://www.w3.org/2000/svg\" xmlns:xlink=\"http://www.w3.org/1999/xlink\" version=\"1.1\" width=\"770px\" viewBox=\"-0.5 -0.5 770 393\" content=\"&lt;mxfile host=&quot;www.draw.io&quot; modified=&quot;2020-05-25T13:00:18.574Z&quot; agent=&quot;5.0 (Macintosh; Intel Mac OS X 10_15_4) AppleWebKit/537.36 (KHTML, like Gecko) Chrome/83.0.4103.61 Safari/537.36&quot; etag=&quot;XBtK7j16J_kHAdrVxd7F&quot; version=&quot;13.1.3&quot; type=&quot;google&quot;&gt;&lt;diagram id=&quot;IQ7CvnFe63TmqmIrzkI5&quot; name=&quot;Page-1&quot;&gt;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&lt;/diagram&gt;&lt;/mxfile&gt;\" onclick=\"(function(svg){var src=window.event.target||window.event.srcElement;while (src!=null&amp;&amp;src.nodeName.toLowerCase()!='a'){src=src.parentNode;}if(src==null){if(svg.wnd!=null&amp;&amp;!svg.wnd.closed){svg.wnd.focus();}else{var r=function(evt){if(evt.data=='ready'&amp;&amp;evt.source==svg.wnd){svg.wnd.postMessage(decodeURIComponent(svg.getAttribute('content')),'*');window.removeEventListener('message',r);}};window.addEventListener('message',r);svg.wnd=window.open('https://www.draw.io/?client=1&amp;lightbox=1&amp;edit=_blank');}}})(this);\" style=\"cursor:pointer;max-width:100%;max-height:393px;\"><defs/><g><path d=\"M 501.34 38.68 L 672.66 210 L 501.34 381.32 Z\" fill=\"#f8cecc\" stroke=\"#b85450\" stroke-miterlimit=\"10\" transform=\"translate(587,0)scale(-1,1)translate(-587,0)rotate(-225,587,210)\" pointer-events=\"all\"/><rect x=\"127\" y=\"150\" width=\"80\" height=\"120\" fill=\"#f8cecc\" stroke=\"#b85450\" pointer-events=\"all\"/><g transform=\"translate(-0.5 -0.5)\"><switch><foreignObject style=\"overflow: visible; text-align: left;\" pointer-events=\"none\" width=\"100%\" height=\"100%\" requiredFeatures=\"http://www.w3.org/TR/SVG11/feature#Extensibility\"><div xmlns=\"http://www.w3.org/1999/xhtml\" style=\"display: flex; align-items: unsafe center; justify-content: unsafe center; width: 78px; height: 1px; padding-top: 210px; margin-left: 128px;\"><div style=\"box-sizing: border-box; font-size: 0; text-align: center; \"><div style=\"display: inline-block; font-size: 18px; font-family: Courier New; color: #000000; line-height: 1.2; pointer-events: all; white-space: normal; word-wrap: normal; \"><font face=\"Georgia\"><i>v</i><sub>2</sub><span style=\"font-style: italic ; font-size: 15px\">Δt</span></font></div></div></div></foreignObject><text x=\"167\" y=\"215\" fill=\"#000000\" font-family=\"Courier New\" font-size=\"18px\" text-anchor=\"middle\">v2Δt</text></switch></g><rect x=\"207\" y=\"70\" width=\"80\" height=\"200\" fill=\"#f8cecc\" stroke=\"#b85450\" pointer-events=\"all\"/><g transform=\"translate(-0.5 -0.5)\"><switch><foreignObject style=\"overflow: visible; text-align: left;\" pointer-events=\"none\" width=\"100%\" height=\"100%\" requiredFeatures=\"http://www.w3.org/TR/SVG11/feature#Extensibility\"><div xmlns=\"http://www.w3.org/1999/xhtml\" style=\"display: flex; align-items: unsafe center; justify-content: unsafe center; width: 78px; height: 1px; padding-top: 170px; margin-left: 208px;\"><div style=\"box-sizing: border-box; font-size: 0; text-align: center; \"><div style=\"display: inline-block; font-size: 18px; font-family: Courier New; color: #000000; line-height: 1.2; pointer-events: all; white-space: normal; word-wrap: normal; \"><font face=\"Georgia\"><i>v</i><sub>3</sub><i>Δt</i></font></div></div></div></foreignObject><text x=\"247\" y=\"175\" fill=\"#000000\" font-family=\"Courier New\" font-size=\"18px\" text-anchor=\"middle\">v3Δt</text></switch></g><rect x=\"47\" y=\"230\" width=\"80\" height=\"40\" fill=\"#f8cecc\" stroke=\"#b85450\" pointer-events=\"all\"/><g transform=\"translate(-0.5 -0.5)\"><switch><foreignObject style=\"overflow: visible; text-align: left;\" pointer-events=\"none\" width=\"100%\" height=\"100%\" requiredFeatures=\"http://www.w3.org/TR/SVG11/feature#Extensibility\"><div xmlns=\"http://www.w3.org/1999/xhtml\" style=\"display: flex; align-items: unsafe center; justify-content: unsafe center; width: 78px; height: 1px; padding-top: 250px; margin-left: 48px;\"><div style=\"box-sizing: border-box; font-size: 0; text-align: center; \"><div style=\"display: inline-block; font-size: 18px; font-family: Courier New; color: #000000; line-height: 1.2; pointer-events: all; white-space: normal; word-wrap: normal; \"><font face=\"Georgia\"><i>v</i><sub>1</sub><i>Δt</i></font></div></div></div></foreignObject><text x=\"87\" y=\"255\" fill=\"#000000\" font-family=\"Courier New\" font-size=\"18px\" text-anchor=\"middle\">v1Δt</text></switch></g><path d=\"M 7 270 L 320.63 270\" fill=\"none\" stroke=\"#000000\" stroke-miterlimit=\"10\" pointer-events=\"stroke\"/><path d=\"M 325.88 270 L 318.88 273.5 L 320.63 270 L 318.88 266.5 Z\" fill=\"#000000\" stroke=\"#000000\" stroke-miterlimit=\"10\" pointer-events=\"all\"/><path d=\"M 47 310 L 47 26.37\" fill=\"none\" stroke=\"#000000\" stroke-miterlimit=\"10\" pointer-events=\"stroke\"/><path d=\"M 47 21.12 L 50.5 28.12 L 47 26.37 L 43.5 28.12 Z\" fill=\"#000000\" stroke=\"#000000\" stroke-miterlimit=\"10\" pointer-events=\"all\"/><g transform=\"translate(-0.5 -0.5)\"><switch><foreignObject style=\"overflow: visible; text-align: left;\" pointer-events=\"none\" width=\"100%\" height=\"100%\" requiredFeatures=\"http://www.w3.org/TR/SVG11/feature#Extensibility\"><div xmlns=\"http://www.w3.org/1999/xhtml\" style=\"display: flex; align-items: unsafe center; justify-content: unsafe center; width: 1px; height: 1px; padding-top: 11px; margin-left: 48px;\"><div style=\"box-sizing: border-box; font-size: 0; text-align: center; \"><div style=\"display: inline-block; font-size: 18px; font-family: Georgia; color: #000000; line-height: 1.2; pointer-events: all; background-color: #ffffff; white-space: nowrap; \"><i>v</i></div></div></div></foreignObject><text x=\"48\" y=\"16\" fill=\"#000000\" font-family=\"Georgia\" font-size=\"18px\" text-anchor=\"middle\">v</text></switch></g><path d=\"M 47 270 L 287 30\" fill=\"none\" stroke=\"#000000\" stroke-width=\"2\" stroke-miterlimit=\"10\" pointer-events=\"stroke\"/><path d=\"M 127 270 L 127 190\" fill=\"none\" stroke=\"#000000\" stroke-miterlimit=\"10\" stroke-dasharray=\"3 3\" pointer-events=\"stroke\"/><path d=\"M 207 270 L 207 110\" fill=\"none\" stroke=\"#000000\" stroke-miterlimit=\"10\" stroke-dasharray=\"3 3\" pointer-events=\"stroke\"/><path d=\"M 53.37 270 L 120.63 270\" fill=\"none\" stroke=\"#000000\" stroke-miterlimit=\"10\" pointer-events=\"stroke\"/><path d=\"M 48.12 270 L 55.12 266.5 L 53.37 270 L 55.12 273.5 Z\" fill=\"#000000\" stroke=\"#000000\" stroke-miterlimit=\"10\" pointer-events=\"all\"/><path d=\"M 125.88 270 L 118.88 273.5 L 120.63 270 L 118.88 266.5 Z\" fill=\"#000000\" stroke=\"#000000\" stroke-miterlimit=\"10\" pointer-events=\"all\"/><g transform=\"translate(-0.5 -0.5)\"><switch><foreignObject style=\"overflow: visible; text-align: left;\" pointer-events=\"none\" width=\"100%\" height=\"100%\" requiredFeatures=\"http://www.w3.org/TR/SVG11/feature#Extensibility\"><div xmlns=\"http://www.w3.org/1999/xhtml\" style=\"display: flex; align-items: unsafe center; justify-content: unsafe center; width: 1px; height: 1px; padding-top: 290px; margin-left: 87px;\"><div style=\"box-sizing: border-box; font-size: 0; text-align: center; \"><div style=\"display: inline-block; font-size: 18px; font-family: Courier New; color: #000000; line-height: 1.2; pointer-events: all; background-color: #ffffff; white-space: nowrap; \"><font face=\"Georgia\">Δ<i>t</i></font></div></div></div></foreignObject><text x=\"87\" y=\"295\" fill=\"#000000\" font-family=\"Courier New\" font-size=\"18px\" text-anchor=\"middle\">Δt</text></switch></g><path d=\"M 133.37 270 L 200.63 270\" fill=\"none\" stroke=\"#000000\" stroke-miterlimit=\"10\" pointer-events=\"stroke\"/><path d=\"M 128.12 270 L 135.12 266.5 L 133.37 270 L 135.12 273.5 Z\" fill=\"#000000\" stroke=\"#000000\" stroke-miterlimit=\"10\" pointer-events=\"all\"/><path d=\"M 205.88 270 L 198.88 273.5 L 200.63 270 L 198.88 266.5 Z\" fill=\"#000000\" stroke=\"#000000\" stroke-miterlimit=\"10\" pointer-events=\"all\"/><g transform=\"translate(-0.5 -0.5)\"><switch><foreignObject style=\"overflow: visible; text-align: left;\" pointer-events=\"none\" width=\"100%\" height=\"100%\" requiredFeatures=\"http://www.w3.org/TR/SVG11/feature#Extensibility\"><div xmlns=\"http://www.w3.org/1999/xhtml\" style=\"display: flex; align-items: unsafe center; justify-content: unsafe center; width: 1px; height: 1px; padding-top: 290px; margin-left: 167px;\"><div style=\"box-sizing: border-box; font-size: 0; text-align: center; \"><div style=\"display: inline-block; font-size: 18px; font-family: Courier New; color: #000000; line-height: 1.2; pointer-events: all; background-color: #ffffff; white-space: nowrap; \"><font face=\"Georgia\">Δ<i>t</i></font></div></div></div></foreignObject><text x=\"167\" y=\"295\" fill=\"#000000\" font-family=\"Courier New\" font-size=\"18px\" text-anchor=\"middle\">Δt</text></switch></g><path d=\"M 213.37 270 L 280.63 270\" fill=\"none\" stroke=\"#000000\" stroke-miterlimit=\"10\" pointer-events=\"stroke\"/><path d=\"M 208.12 270 L 215.12 266.5 L 213.37 270 L 215.12 273.5 Z\" fill=\"#000000\" stroke=\"#000000\" stroke-miterlimit=\"10\" pointer-events=\"all\"/><path d=\"M 285.88 270 L 278.88 273.5 L 280.63 270 L 278.88 266.5 Z\" fill=\"#000000\" stroke=\"#000000\" stroke-miterlimit=\"10\" pointer-events=\"all\"/><g transform=\"translate(-0.5 -0.5)\"><switch><foreignObject style=\"overflow: visible; text-align: left;\" pointer-events=\"none\" width=\"100%\" height=\"100%\" requiredFeatures=\"http://www.w3.org/TR/SVG11/feature#Extensibility\"><div xmlns=\"http://www.w3.org/1999/xhtml\" style=\"display: flex; align-items: unsafe center; justify-content: unsafe center; width: 1px; height: 1px; padding-top: 290px; margin-left: 247px;\"><div style=\"box-sizing: border-box; font-size: 0; text-align: center; \"><div style=\"display: inline-block; font-size: 18px; font-family: Courier New; color: #000000; line-height: 1.2; pointer-events: all; background-color: #ffffff; white-space: nowrap; \"><font face=\"Georgia\">Δ<i>t</i></font></div></div></div></foreignObject><text x=\"247\" y=\"295\" fill=\"#000000\" font-family=\"Courier New\" font-size=\"18px\" text-anchor=\"middle\">Δt</text></switch></g><path d=\"M 227 160 L 247 160\" fill=\"none\" stroke=\"#000000\" stroke-width=\"2\" stroke-miterlimit=\"10\" pointer-events=\"stroke\"/><path d=\"M 147 203 L 167 203\" fill=\"none\" stroke=\"#000000\" stroke-width=\"2\" stroke-miterlimit=\"10\" pointer-events=\"stroke\"/><path d=\"M 68 243 L 88 243\" fill=\"none\" stroke=\"#000000\" stroke-width=\"2\" stroke-miterlimit=\"10\" pointer-events=\"stroke\"/><ellipse cx=\"128\" cy=\"190\" rx=\"5\" ry=\"5\" fill=\"none\" stroke=\"#000000\" pointer-events=\"all\"/><ellipse cx=\"207\" cy=\"110\" rx=\"5\" ry=\"5\" fill=\"none\" stroke=\"#000000\" pointer-events=\"all\"/><ellipse cx=\"287\" cy=\"30\" rx=\"5\" ry=\"5\" fill=\"none\" stroke=\"#000000\" pointer-events=\"all\"/><path d=\"M 287 263.63 L 287 36.37\" fill=\"none\" stroke=\"#000000\" stroke-miterlimit=\"10\" pointer-events=\"stroke\"/><path d=\"M 287 268.88 L 283.5 261.88 L 287 263.63 L 290.5 261.88 Z\" fill=\"#000000\" stroke=\"#000000\" stroke-miterlimit=\"10\" pointer-events=\"all\"/><path d=\"M 287 31.12 L 290.5 38.12 L 287 36.37 L 283.5 38.12 Z\" fill=\"#000000\" stroke=\"#000000\" stroke-miterlimit=\"10\" pointer-events=\"all\"/><g transform=\"translate(-0.5 -0.5)\"><switch><foreignObject style=\"overflow: visible; text-align: left;\" pointer-events=\"none\" width=\"100%\" height=\"100%\" requiredFeatures=\"http://www.w3.org/TR/SVG11/feature#Extensibility\"><div xmlns=\"http://www.w3.org/1999/xhtml\" style=\"display: flex; align-items: unsafe center; justify-content: unsafe center; width: 1px; height: 1px; padding-top: 159px; margin-left: 298px;\"><div style=\"box-sizing: border-box; font-size: 0; text-align: center; \"><div style=\"display: inline-block; font-size: 18px; font-family: Courier New; color: #000000; line-height: 1.2; pointer-events: all; background-color: #ffffff; white-space: nowrap; \"><font face=\"Georgia\"><i>at</i></font></div></div></div></foreignObject><text x=\"298\" y=\"164\" fill=\"#000000\" font-family=\"Courier New\" font-size=\"18px\" text-anchor=\"middle\">at</text></switch></g><ellipse cx=\"47\" cy=\"270\" rx=\"5\" ry=\"5\" fill=\"none\" stroke=\"#000000\" pointer-events=\"all\"/><path d=\"M 287 310 L 287 270\" fill=\"none\" stroke=\"#000000\" stroke-miterlimit=\"10\" stroke-dasharray=\"3 3\" pointer-events=\"stroke\"/><g transform=\"translate(-0.5 -0.5)\"><switch><foreignObject style=\"overflow: visible; text-align: left;\" pointer-events=\"none\" width=\"100%\" height=\"100%\" requiredFeatures=\"http://www.w3.org/TR/SVG11/feature#Extensibility\"><div xmlns=\"http://www.w3.org/1999/xhtml\" style=\"display: flex; align-items: unsafe center; justify-content: unsafe center; width: 1px; height: 1px; padding-top: 290px; margin-left: 287px;\"><div style=\"box-sizing: border-box; font-size: 0; text-align: center; \"><div style=\"display: inline-block; font-size: 18px; font-family: Courier New; color: #000000; line-height: 1.2; pointer-events: all; background-color: #ffffff; white-space: nowrap; \"><span style=\"color: rgba(0 , 0 , 0 , 0) ; font-family: monospace ; font-size: 0px ; background-color: rgb(248 , 249 , 250)\">%3CmxGraphModel%3E%3Croot%3E%3CmxCell%20id%3D%220%22%2F%3E%3CmxCell%20id%3D%221%22%20parent%3D%220%22%2F%3E%3CmxCell%20id%3D%222%22%20value%3D%22%26lt%3Bfont%20face%3D%26quot%3BGeorgia%26quot%3B%26gt%3Bt%26lt%3B%2Ffont%26gt%3B%22%20style%3D%22edgeLabel%3Bhtml%3D1%3Balign%3Dcenter%3BverticalAlign%3Dmiddle%3Bresizable%3D0%3Bpoints%3D%5B%5D%3BfontSize%3D18%3BfontFamily%3DCourier%20New%3BfontStyle%3D2%22%20vertex%3D%221%22%20connectable%3D%220%22%20parent%3D%221%22%3E%3CmxGeometry%20x%3D%22440%22%20y%3D%22340%22%20as%3D%22geometry%22%3E%3CmxPoint%20x%3D%22-40%22%20y%3D%2217%22%20as%3D%22offset%22%2F%3E%3C%2FmxGeometry%3E%3C%2FmxCell%3E%3C%2Froot%3E%3C%2FmxGraphModel%3Et</span></div></div></div></foreignObject><text x=\"287\" y=\"295\" fill=\"#000000\" font-family=\"Courier New\" font-size=\"18px\" text-anchor=\"middle\">%3CmxG...</text></switch></g><g transform=\"translate(-0.5 -0.5)\"><switch><foreignObject style=\"overflow: visible; text-align: left;\" pointer-events=\"none\" width=\"100%\" height=\"100%\" requiredFeatures=\"http://www.w3.org/TR/SVG11/feature#Extensibility\"><div xmlns=\"http://www.w3.org/1999/xhtml\" style=\"display: flex; align-items: unsafe center; justify-content: unsafe center; width: 1px; height: 1px; padding-top: 287px; margin-left: 289px;\"><div style=\"box-sizing: border-box; font-size: 0; text-align: center; \"><div style=\"display: inline-block; font-size: 18px; font-family: Courier New; color: #000000; line-height: 1.2; pointer-events: all; background-color: #ffffff; white-space: nowrap; \"><span style=\"color: rgba(0 , 0 , 0 , 0) ; font-family: monospace ; font-size: 0px ; background-color: rgb(248 , 249 , 250)\">%3CmxGraphModel%3E%3Croot%3E%3CmxCell%20id%3D%220%22%2F%3E%3CmxCell%20id%3D%221%22%20parent%3D%220%22%2F%3E%3CmxCell%20id%3D%222%22%20value%3D%22%26lt%3Bfont%20face%3D%26quot%3BGeorgia%26quot%3B%26gt%3Bt%26lt%3B%2Ffont%26gt%3B%22%20style%3D%22edgeLabel%3Bhtml%3D1%3Balign%3Dcenter%3BverticalAlign%3Dmiddle%3Bresizable%3D0%3Bpoints%3D%5B%5D%3BfontSize%3D18%3BfontFamily%3DCourier%20New%3BfontStyle%3D2%22%20vertex%3D%221%22%20connectable%3D%220%22%20parent%3D%221%22%3E%3CmxGeometry%20x%3D%22440%22%20y%3D%22340%22%20as%3D%22geometry%22%3E%3CmxPoint%20x%3D%22-40%22%20y%3D%2217%22%20as%3D%22offset%22%2F%3E%3C%2FmxGeometry%3E%3C%2FmxCell%3E%3C%2Froot%3E%3C%2FmxGraphModel%3</span></div></div></div></foreignObject><text x=\"289\" y=\"292\" fill=\"#000000\" font-family=\"Courier New\" font-size=\"18px\" text-anchor=\"middle\">%3CmxGraphModel%3E%3Croot%3E%3CmxCell%20id%3D%220%22%2F%3E%3CmxCell%20id%3D%221%22%20parent%3D%220%22%2F%3E%3CmxCell%20id%3D%222%22%20value%3D%22%26lt%3Bfont%20face%3D%26quot%3BGeorgia%26quot%3B%26gt%3Bt%26lt%3B%2Ffont%26gt%3B%22%20style%3D%22edgeLabel%3Bhtml%3D1%3Balign%3Dcenter%3BverticalAlign%3Dmiddle%3Bresizable%3D0%3Bpoints%3D%5B%5D%3BfontSize%3D18%3BfontFamily%3DCourier%20New%3BfontStyle%3D2%22%20vertex%3D%221%22%20connectable%3D%220%22%20parent%3D%221%22%3E%3CmxGeometry%20x%3D%22440%22%20y%3D%22340%22%20as%3D%22geometry%22%3E%3CmxPoint%20x%3D%22-40%22%20y%3D%2217%22%20as%3D%22offset%22%2F%3E%3C%2FmxGeometry%3E%3C%2FmxCell%3E%3C%2Froot%3E%3C%2FmxGraphModel%3</text></switch></g><path d=\"M 47 300 L 280.63 300\" fill=\"none\" stroke=\"#000000\" stroke-miterlimit=\"10\" pointer-events=\"stroke\"/><path d=\"M 285.88 300 L 278.88 303.5 L 280.63 300 L 278.88 296.5 Z\" fill=\"#000000\" stroke=\"#000000\" stroke-miterlimit=\"10\" pointer-events=\"all\"/><g transform=\"translate(-0.5 -0.5)\"><switch><foreignObject style=\"overflow: visible; text-align: left;\" pointer-events=\"none\" width=\"100%\" height=\"100%\" requiredFeatures=\"http://www.w3.org/TR/SVG11/feature#Extensibility\"><div xmlns=\"http://www.w3.org/1999/xhtml\" style=\"display: flex; align-items: unsafe center; justify-content: unsafe center; width: 1px; height: 1px; padding-top: 311px; margin-left: 168px;\"><div style=\"box-sizing: border-box; font-size: 0; text-align: center; \"><div style=\"display: inline-block; font-size: 18px; font-family: Georgia; color: #000000; line-height: 1.2; pointer-events: all; background-color: #ffffff; white-space: nowrap; \"><i>t</i></div></div></div></foreignObject><text x=\"168\" y=\"316\" fill=\"#000000\" font-family=\"Georgia\" font-size=\"18px\" text-anchor=\"middle\">t</text></switch></g><path d=\"M 367 270 L 680.63 270\" fill=\"none\" stroke=\"#000000\" stroke-miterlimit=\"10\" pointer-events=\"stroke\"/><path d=\"M 685.88 270 L 678.88 273.5 L 680.63 270 L 678.88 266.5 Z\" fill=\"#000000\" stroke=\"#000000\" stroke-miterlimit=\"10\" pointer-events=\"all\"/><path d=\"M 407 310 L 407 26.37\" fill=\"none\" stroke=\"#000000\" stroke-miterlimit=\"10\" pointer-events=\"stroke\"/><path d=\"M 407 21.12 L 410.5 28.12 L 407 26.37 L 403.5 28.12 Z\" fill=\"#000000\" stroke=\"#000000\" stroke-miterlimit=\"10\" pointer-events=\"all\"/><g transform=\"translate(-0.5 -0.5)\"><switch><foreignObject style=\"overflow: visible; text-align: left;\" pointer-events=\"none\" width=\"100%\" height=\"100%\" requiredFeatures=\"http://www.w3.org/TR/SVG11/feature#Extensibility\"><div xmlns=\"http://www.w3.org/1999/xhtml\" style=\"display: flex; align-items: unsafe center; justify-content: unsafe center; width: 1px; height: 1px; padding-top: 11px; margin-left: 409px;\"><div style=\"box-sizing: border-box; font-size: 0; text-align: center; \"><div style=\"display: inline-block; font-size: 18px; font-family: Georgia; color: #000000; line-height: 1.2; pointer-events: all; background-color: #ffffff; white-space: nowrap; \"><i>v</i></div></div></div></foreignObject><text x=\"409\" y=\"16\" fill=\"#000000\" font-family=\"Georgia\" font-size=\"18px\" text-anchor=\"middle\">v</text></switch></g><path d=\"M 407 270 L 647 30\" fill=\"none\" stroke=\"#000000\" stroke-width=\"2\" stroke-miterlimit=\"10\" pointer-events=\"stroke\"/><path d=\"M 647 270 L 647 36.37\" fill=\"none\" stroke=\"#000000\" stroke-miterlimit=\"10\" pointer-events=\"stroke\"/><path d=\"M 647 31.12 L 650.5 38.12 L 647 36.37 L 643.5 38.12 Z\" fill=\"#000000\" stroke=\"#000000\" stroke-miterlimit=\"10\" pointer-events=\"all\"/><g transform=\"translate(-0.5 -0.5)\"><switch><foreignObject style=\"overflow: visible; text-align: left;\" pointer-events=\"none\" width=\"100%\" height=\"100%\" requiredFeatures=\"http://www.w3.org/TR/SVG11/feature#Extensibility\"><div xmlns=\"http://www.w3.org/1999/xhtml\" style=\"display: flex; align-items: unsafe center; justify-content: unsafe center; width: 1px; height: 1px; padding-top: 159px; margin-left: 658px;\"><div style=\"box-sizing: border-box; font-size: 0; text-align: center; \"><div style=\"display: inline-block; font-size: 18px; font-family: Courier New; color: #000000; line-height: 1.2; pointer-events: all; background-color: #ffffff; white-space: nowrap; \"><font face=\"Georgia\"><i>at</i></font></div></div></div></foreignObject><text x=\"658\" y=\"164\" fill=\"#000000\" font-family=\"Courier New\" font-size=\"18px\" text-anchor=\"middle\">at</text></switch></g><path d=\"M 647 310 L 647 270\" fill=\"none\" stroke=\"#000000\" stroke-miterlimit=\"10\" stroke-dasharray=\"3 3\" pointer-events=\"stroke\"/><g transform=\"translate(-0.5 -0.5)\"><switch><foreignObject style=\"overflow: visible; text-align: left;\" pointer-events=\"none\" width=\"100%\" height=\"100%\" requiredFeatures=\"http://www.w3.org/TR/SVG11/feature#Extensibility\"><div xmlns=\"http://www.w3.org/1999/xhtml\" style=\"display: flex; align-items: unsafe center; justify-content: unsafe center; width: 1px; height: 1px; padding-top: 290px; margin-left: 647px;\"><div style=\"box-sizing: border-box; font-size: 0; text-align: center; \"><div style=\"display: inline-block; font-size: 18px; font-family: Courier New; color: #000000; line-height: 1.2; pointer-events: all; background-color: #ffffff; white-space: nowrap; \"><span style=\"color: rgba(0 , 0 , 0 , 0) ; font-family: monospace ; font-size: 0px ; background-color: rgb(248 , 249 , 250)\">%3CmxGraphModel%3E%3Croot%3E%3CmxCell%20id%3D%220%22%2F%3E%3CmxCell%20id%3D%221%22%20parent%3D%220%22%2F%3E%3CmxCell%20id%3D%222%22%20value%3D%22%26lt%3Bfont%20face%3D%26quot%3BGeorgia%26quot%3B%26gt%3Bt%26lt%3B%2Ffont%26gt%3B%22%20style%3D%22edgeLabel%3Bhtml%3D1%3Balign%3Dcenter%3BverticalAlign%3Dmiddle%3Bresizable%3D0%3Bpoints%3D%5B%5D%3BfontSize%3D18%3BfontFamily%3DCourier%20New%3BfontStyle%3D2%22%20vertex%3D%221%22%20connectable%3D%220%22%20parent%3D%221%22%3E%3CmxGeometry%20x%3D%22440%22%20y%3D%22340%22%20as%3D%22geometry%22%3E%3CmxPoint%20x%3D%22-40%22%20y%3D%2217%22%20as%3D%22offset%22%2F%3E%3C%2FmxGeometry%3E%3C%2FmxCell%3E%3C%2Froot%3E%3C%2FmxGraphModel%3Et</span></div></div></div></foreignObject><text x=\"647\" y=\"295\" fill=\"#000000\" font-family=\"Courier New\" font-size=\"18px\" text-anchor=\"middle\">%3CmxG...</text></switch></g><g transform=\"translate(-0.5 -0.5)\"><switch><foreignObject style=\"overflow: visible; text-align: left;\" pointer-events=\"none\" width=\"100%\" height=\"100%\" requiredFeatures=\"http://www.w3.org/TR/SVG11/feature#Extensibility\"><div xmlns=\"http://www.w3.org/1999/xhtml\" style=\"display: flex; align-items: unsafe center; justify-content: unsafe center; width: 1px; height: 1px; padding-top: 287px; margin-left: 649px;\"><div style=\"box-sizing: border-box; font-size: 0; text-align: center; \"><div style=\"display: inline-block; font-size: 18px; font-family: Courier New; color: #000000; line-height: 1.2; pointer-events: all; background-color: #ffffff; white-space: nowrap; \"><span style=\"color: rgba(0 , 0 , 0 , 0) ; font-family: monospace ; font-size: 0px ; background-color: rgb(248 , 249 , 250)\">%3CmxGraphModel%3E%3Croot%3E%3CmxCell%20id%3D%220%22%2F%3E%3CmxCell%20id%3D%221%22%20parent%3D%220%22%2F%3E%3CmxCell%20id%3D%222%22%20value%3D%22%26lt%3Bfont%20face%3D%26quot%3BGeorgia%26quot%3B%26gt%3Bt%26lt%3B%2Ffont%26gt%3B%22%20style%3D%22edgeLabel%3Bhtml%3D1%3Balign%3Dcenter%3BverticalAlign%3Dmiddle%3Bresizable%3D0%3Bpoints%3D%5B%5D%3BfontSize%3D18%3BfontFamily%3DCourier%20New%3BfontStyle%3D2%22%20vertex%3D%221%22%20connectable%3D%220%22%20parent%3D%221%22%3E%3CmxGeometry%20x%3D%22440%22%20y%3D%22340%22%20as%3D%22geometry%22%3E%3CmxPoint%20x%3D%22-40%22%20y%3D%2217%22%20as%3D%22offset%22%2F%3E%3C%2FmxGeometry%3E%3C%2FmxCell%3E%3C%2Froot%3E%3C%2FmxGraphModel%3</span></div></div></div></foreignObject><text x=\"649\" y=\"292\" fill=\"#000000\" font-family=\"Courier New\" font-size=\"18px\" text-anchor=\"middle\">%3CmxGraphModel%3E%3Croot%3E%3CmxCell%20id%3D%220%22%2F%3E%3CmxCell%20id%3D%221%22%20parent%3D%220%22%2F%3E%3CmxCell%20id%3D%222%22%20value%3D%22%26lt%3Bfont%20face%3D%26quot%3BGeorgia%26quot%3B%26gt%3Bt%26lt%3B%2Ffont%26gt%3B%22%20style%3D%22edgeLabel%3Bhtml%3D1%3Balign%3Dcenter%3BverticalAlign%3Dmiddle%3Bresizable%3D0%3Bpoints%3D%5B%5D%3BfontSize%3D18%3BfontFamily%3DCourier%20New%3BfontStyle%3D2%22%20vertex%3D%221%22%20connectable%3D%220%22%20parent%3D%221%22%3E%3CmxGeometry%20x%3D%22440%22%20y%3D%22340%22%20as%3D%22geometry%22%3E%3CmxPoint%20x%3D%22-40%22%20y%3D%2217%22%20as%3D%22offset%22%2F%3E%3C%2FmxGeometry%3E%3C%2FmxCell%3E%3C%2Froot%3E%3C%2FmxGraphModel%3</text></switch></g><path d=\"M 407 270 L 640.63 270\" fill=\"none\" stroke=\"#000000\" stroke-miterlimit=\"10\" pointer-events=\"stroke\"/><path d=\"M 645.88 270 L 638.88 273.5 L 640.63 270 L 638.88 266.5 Z\" fill=\"#000000\" stroke=\"#000000\" stroke-miterlimit=\"10\" pointer-events=\"all\"/><g transform=\"translate(-0.5 -0.5)\"><switch><foreignObject style=\"overflow: visible; text-align: left;\" pointer-events=\"none\" width=\"100%\" height=\"100%\" requiredFeatures=\"http://www.w3.org/TR/SVG11/feature#Extensibility\"><div xmlns=\"http://www.w3.org/1999/xhtml\" style=\"display: flex; align-items: unsafe center; justify-content: unsafe center; width: 1px; height: 1px; padding-top: 281px; margin-left: 528px;\"><div style=\"box-sizing: border-box; font-size: 0; text-align: center; \"><div style=\"display: inline-block; font-size: 18px; font-family: Georgia; color: #000000; line-height: 1.2; pointer-events: all; background-color: #ffffff; white-space: nowrap; \"><i>t</i></div></div></div></foreignObject><text x=\"528\" y=\"286\" fill=\"#000000\" font-family=\"Georgia\" font-size=\"18px\" text-anchor=\"middle\">t</text></switch></g></g><switch><g requiredFeatures=\"http://www.w3.org/TR/SVG11/feature#Extensibility\"/><a transform=\"translate(0,-5)\" xlink:href=\"https://desk.draw.io/support/solutions/articles/16000042487\" target=\"_blank\"><text text-anchor=\"middle\" font-size=\"10px\" x=\"50%\" y=\"100%\">Viewer does not support full SVG 1.1</text></a></switch></svg>"
      ],
      "execution_count": 0,
      "outputs": [
        {
          "output_type": "display_data",
          "data": {
            "text/plain": [
              "<IPython.core.display.SVG object>"
            ],
            "image/svg+xml": "<svg content=\"&lt;mxfile host=&quot;www.draw.io&quot; modified=&quot;2020-05-25T13:00:18.574Z&quot; agent=&quot;5.0 (Macintosh; Intel Mac OS X 10_15_4) AppleWebKit/537.36 (KHTML, like Gecko) Chrome/83.0.4103.61 Safari/537.36&quot; etag=&quot;XBtK7j16J_kHAdrVxd7F&quot; version=&quot;13.1.3&quot; type=&quot;google&quot;&gt;&lt;diagram id=&quot;IQ7CvnFe63TmqmIrzkI5&quot; name=&quot;Page-1&quot;&gt;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&lt;/diagram&gt;&lt;/mxfile&gt;\" onclick=\"(function(svg){var src=window.event.target||window.event.srcElement;while (src!=null&amp;&amp;src.nodeName.toLowerCase()!='a'){src=src.parentNode;}if(src==null){if(svg.wnd!=null&amp;&amp;!svg.wnd.closed){svg.wnd.focus();}else{var r=function(evt){if(evt.data=='ready'&amp;&amp;evt.source==svg.wnd){svg.wnd.postMessage(decodeURIComponent(svg.getAttribute('content')),'*');window.removeEventListener('message',r);}};window.addEventListener('message',r);svg.wnd=window.open('https://www.draw.io/?client=1&amp;lightbox=1&amp;edit=_blank');}}})(this);\" style=\"cursor:pointer;max-width:100%;max-height:393px;\" version=\"1.1\" viewBox=\"-0.5 -0.5 770 393\" width=\"770px\" xmlns=\"http://www.w3.org/2000/svg\" xmlns:xlink=\"http://www.w3.org/1999/xlink\"><defs/><g><path d=\"M 501.34 38.68 L 672.66 210 L 501.34 381.32 Z\" fill=\"#f8cecc\" pointer-events=\"all\" stroke=\"#b85450\" stroke-miterlimit=\"10\" transform=\"translate(587,0)scale(-1,1)translate(-587,0)rotate(-225,587,210)\"/><rect fill=\"#f8cecc\" height=\"120\" pointer-events=\"all\" stroke=\"#b85450\" width=\"80\" x=\"127\" y=\"150\"/><g transform=\"translate(-0.5 -0.5)\"><switch><foreignObject height=\"100%\" pointer-events=\"none\" requiredFeatures=\"http://www.w3.org/TR/SVG11/feature#Extensibility\" style=\"overflow: visible; text-align: left;\" width=\"100%\"><div style=\"display: flex; align-items: unsafe center; justify-content: unsafe center; width: 78px; height: 1px; padding-top: 210px; margin-left: 128px;\" xmlns=\"http://www.w3.org/1999/xhtml\"><div style=\"box-sizing: border-box; font-size: 0; text-align: center; \"><div style=\"display: inline-block; font-size: 18px; font-family: Courier New; color: #000000; line-height: 1.2; pointer-events: all; white-space: normal; word-wrap: normal; \"><font face=\"Georgia\"><i>v</i><sub>2</sub><span style=\"font-style: italic ; font-size: 15px\">Δt</span></font></div></div></div></foreignObject><text fill=\"#000000\" font-family=\"Courier New\" font-size=\"18px\" text-anchor=\"middle\" x=\"167\" y=\"215\">v2Δt</text></switch></g><rect fill=\"#f8cecc\" height=\"200\" pointer-events=\"all\" stroke=\"#b85450\" width=\"80\" x=\"207\" y=\"70\"/><g transform=\"translate(-0.5 -0.5)\"><switch><foreignObject height=\"100%\" pointer-events=\"none\" requiredFeatures=\"http://www.w3.org/TR/SVG11/feature#Extensibility\" style=\"overflow: visible; text-align: left;\" width=\"100%\"><div style=\"display: flex; align-items: unsafe center; justify-content: unsafe center; width: 78px; height: 1px; padding-top: 170px; margin-left: 208px;\" xmlns=\"http://www.w3.org/1999/xhtml\"><div style=\"box-sizing: border-box; font-size: 0; text-align: center; \"><div style=\"display: inline-block; font-size: 18px; font-family: Courier New; color: #000000; line-height: 1.2; pointer-events: all; white-space: normal; word-wrap: normal; \"><font face=\"Georgia\"><i>v</i><sub>3</sub><i>Δt</i></font></div></div></div></foreignObject><text fill=\"#000000\" font-family=\"Courier New\" font-size=\"18px\" text-anchor=\"middle\" x=\"247\" y=\"175\">v3Δt</text></switch></g><rect fill=\"#f8cecc\" height=\"40\" pointer-events=\"all\" stroke=\"#b85450\" width=\"80\" x=\"47\" y=\"230\"/><g transform=\"translate(-0.5 -0.5)\"><switch><foreignObject height=\"100%\" pointer-events=\"none\" requiredFeatures=\"http://www.w3.org/TR/SVG11/feature#Extensibility\" style=\"overflow: visible; text-align: left;\" width=\"100%\"><div style=\"display: flex; align-items: unsafe center; justify-content: unsafe center; width: 78px; height: 1px; padding-top: 250px; margin-left: 48px;\" xmlns=\"http://www.w3.org/1999/xhtml\"><div style=\"box-sizing: border-box; font-size: 0; text-align: center; \"><div style=\"display: inline-block; font-size: 18px; font-family: Courier New; color: #000000; line-height: 1.2; pointer-events: all; white-space: normal; word-wrap: normal; \"><font face=\"Georgia\"><i>v</i><sub>1</sub><i>Δt</i></font></div></div></div></foreignObject><text fill=\"#000000\" font-family=\"Courier New\" font-size=\"18px\" text-anchor=\"middle\" x=\"87\" y=\"255\">v1Δt</text></switch></g><path d=\"M 7 270 L 320.63 270\" fill=\"none\" pointer-events=\"stroke\" stroke=\"#000000\" stroke-miterlimit=\"10\"/><path d=\"M 325.88 270 L 318.88 273.5 L 320.63 270 L 318.88 266.5 Z\" fill=\"#000000\" pointer-events=\"all\" stroke=\"#000000\" stroke-miterlimit=\"10\"/><path d=\"M 47 310 L 47 26.37\" fill=\"none\" pointer-events=\"stroke\" stroke=\"#000000\" stroke-miterlimit=\"10\"/><path d=\"M 47 21.12 L 50.5 28.12 L 47 26.37 L 43.5 28.12 Z\" fill=\"#000000\" pointer-events=\"all\" stroke=\"#000000\" stroke-miterlimit=\"10\"/><g transform=\"translate(-0.5 -0.5)\"><switch><foreignObject height=\"100%\" pointer-events=\"none\" requiredFeatures=\"http://www.w3.org/TR/SVG11/feature#Extensibility\" style=\"overflow: visible; text-align: left;\" width=\"100%\"><div style=\"display: flex; align-items: unsafe center; justify-content: unsafe center; width: 1px; height: 1px; padding-top: 11px; margin-left: 48px;\" xmlns=\"http://www.w3.org/1999/xhtml\"><div style=\"box-sizing: border-box; font-size: 0; text-align: center; \"><div style=\"display: inline-block; font-size: 18px; font-family: Georgia; color: #000000; line-height: 1.2; pointer-events: all; background-color: #ffffff; white-space: nowrap; \"><i>v</i></div></div></div></foreignObject><text fill=\"#000000\" font-family=\"Georgia\" font-size=\"18px\" text-anchor=\"middle\" x=\"48\" y=\"16\">v</text></switch></g><path d=\"M 47 270 L 287 30\" fill=\"none\" pointer-events=\"stroke\" stroke=\"#000000\" stroke-miterlimit=\"10\" stroke-width=\"2\"/><path d=\"M 127 270 L 127 190\" fill=\"none\" pointer-events=\"stroke\" stroke=\"#000000\" stroke-dasharray=\"3 3\" stroke-miterlimit=\"10\"/><path d=\"M 207 270 L 207 110\" fill=\"none\" pointer-events=\"stroke\" stroke=\"#000000\" stroke-dasharray=\"3 3\" stroke-miterlimit=\"10\"/><path d=\"M 53.37 270 L 120.63 270\" fill=\"none\" pointer-events=\"stroke\" stroke=\"#000000\" stroke-miterlimit=\"10\"/><path d=\"M 48.12 270 L 55.12 266.5 L 53.37 270 L 55.12 273.5 Z\" fill=\"#000000\" pointer-events=\"all\" stroke=\"#000000\" stroke-miterlimit=\"10\"/><path d=\"M 125.88 270 L 118.88 273.5 L 120.63 270 L 118.88 266.5 Z\" fill=\"#000000\" pointer-events=\"all\" stroke=\"#000000\" stroke-miterlimit=\"10\"/><g transform=\"translate(-0.5 -0.5)\"><switch><foreignObject height=\"100%\" pointer-events=\"none\" requiredFeatures=\"http://www.w3.org/TR/SVG11/feature#Extensibility\" style=\"overflow: visible; text-align: left;\" width=\"100%\"><div style=\"display: flex; align-items: unsafe center; justify-content: unsafe center; width: 1px; height: 1px; padding-top: 290px; margin-left: 87px;\" xmlns=\"http://www.w3.org/1999/xhtml\"><div style=\"box-sizing: border-box; font-size: 0; text-align: center; \"><div style=\"display: inline-block; font-size: 18px; font-family: Courier New; color: #000000; line-height: 1.2; pointer-events: all; background-color: #ffffff; white-space: nowrap; \"><font face=\"Georgia\">Δ<i>t</i></font></div></div></div></foreignObject><text fill=\"#000000\" font-family=\"Courier New\" font-size=\"18px\" text-anchor=\"middle\" x=\"87\" y=\"295\">Δt</text></switch></g><path d=\"M 133.37 270 L 200.63 270\" fill=\"none\" pointer-events=\"stroke\" stroke=\"#000000\" stroke-miterlimit=\"10\"/><path d=\"M 128.12 270 L 135.12 266.5 L 133.37 270 L 135.12 273.5 Z\" fill=\"#000000\" pointer-events=\"all\" stroke=\"#000000\" stroke-miterlimit=\"10\"/><path d=\"M 205.88 270 L 198.88 273.5 L 200.63 270 L 198.88 266.5 Z\" fill=\"#000000\" pointer-events=\"all\" stroke=\"#000000\" stroke-miterlimit=\"10\"/><g transform=\"translate(-0.5 -0.5)\"><switch><foreignObject height=\"100%\" pointer-events=\"none\" requiredFeatures=\"http://www.w3.org/TR/SVG11/feature#Extensibility\" style=\"overflow: visible; text-align: left;\" width=\"100%\"><div style=\"display: flex; align-items: unsafe center; justify-content: unsafe center; width: 1px; height: 1px; padding-top: 290px; margin-left: 167px;\" xmlns=\"http://www.w3.org/1999/xhtml\"><div style=\"box-sizing: border-box; font-size: 0; text-align: center; \"><div style=\"display: inline-block; font-size: 18px; font-family: Courier New; color: #000000; line-height: 1.2; pointer-events: all; background-color: #ffffff; white-space: nowrap; \"><font face=\"Georgia\">Δ<i>t</i></font></div></div></div></foreignObject><text fill=\"#000000\" font-family=\"Courier New\" font-size=\"18px\" text-anchor=\"middle\" x=\"167\" y=\"295\">Δt</text></switch></g><path d=\"M 213.37 270 L 280.63 270\" fill=\"none\" pointer-events=\"stroke\" stroke=\"#000000\" stroke-miterlimit=\"10\"/><path d=\"M 208.12 270 L 215.12 266.5 L 213.37 270 L 215.12 273.5 Z\" fill=\"#000000\" pointer-events=\"all\" stroke=\"#000000\" stroke-miterlimit=\"10\"/><path d=\"M 285.88 270 L 278.88 273.5 L 280.63 270 L 278.88 266.5 Z\" fill=\"#000000\" pointer-events=\"all\" stroke=\"#000000\" stroke-miterlimit=\"10\"/><g transform=\"translate(-0.5 -0.5)\"><switch><foreignObject height=\"100%\" pointer-events=\"none\" requiredFeatures=\"http://www.w3.org/TR/SVG11/feature#Extensibility\" style=\"overflow: visible; text-align: left;\" width=\"100%\"><div style=\"display: flex; align-items: unsafe center; justify-content: unsafe center; width: 1px; height: 1px; padding-top: 290px; margin-left: 247px;\" xmlns=\"http://www.w3.org/1999/xhtml\"><div style=\"box-sizing: border-box; font-size: 0; text-align: center; \"><div style=\"display: inline-block; font-size: 18px; font-family: Courier New; color: #000000; line-height: 1.2; pointer-events: all; background-color: #ffffff; white-space: nowrap; \"><font face=\"Georgia\">Δ<i>t</i></font></div></div></div></foreignObject><text fill=\"#000000\" font-family=\"Courier New\" font-size=\"18px\" text-anchor=\"middle\" x=\"247\" y=\"295\">Δt</text></switch></g><path d=\"M 227 160 L 247 160\" fill=\"none\" pointer-events=\"stroke\" stroke=\"#000000\" stroke-miterlimit=\"10\" stroke-width=\"2\"/><path d=\"M 147 203 L 167 203\" fill=\"none\" pointer-events=\"stroke\" stroke=\"#000000\" stroke-miterlimit=\"10\" stroke-width=\"2\"/><path d=\"M 68 243 L 88 243\" fill=\"none\" pointer-events=\"stroke\" stroke=\"#000000\" stroke-miterlimit=\"10\" stroke-width=\"2\"/><ellipse cx=\"128\" cy=\"190\" fill=\"none\" pointer-events=\"all\" rx=\"5\" ry=\"5\" stroke=\"#000000\"/><ellipse cx=\"207\" cy=\"110\" fill=\"none\" pointer-events=\"all\" rx=\"5\" ry=\"5\" stroke=\"#000000\"/><ellipse cx=\"287\" cy=\"30\" fill=\"none\" pointer-events=\"all\" rx=\"5\" ry=\"5\" stroke=\"#000000\"/><path d=\"M 287 263.63 L 287 36.37\" fill=\"none\" pointer-events=\"stroke\" stroke=\"#000000\" stroke-miterlimit=\"10\"/><path d=\"M 287 268.88 L 283.5 261.88 L 287 263.63 L 290.5 261.88 Z\" fill=\"#000000\" pointer-events=\"all\" stroke=\"#000000\" stroke-miterlimit=\"10\"/><path d=\"M 287 31.12 L 290.5 38.12 L 287 36.37 L 283.5 38.12 Z\" fill=\"#000000\" pointer-events=\"all\" stroke=\"#000000\" stroke-miterlimit=\"10\"/><g transform=\"translate(-0.5 -0.5)\"><switch><foreignObject height=\"100%\" pointer-events=\"none\" requiredFeatures=\"http://www.w3.org/TR/SVG11/feature#Extensibility\" style=\"overflow: visible; text-align: left;\" width=\"100%\"><div style=\"display: flex; align-items: unsafe center; justify-content: unsafe center; width: 1px; height: 1px; padding-top: 159px; margin-left: 298px;\" xmlns=\"http://www.w3.org/1999/xhtml\"><div style=\"box-sizing: border-box; font-size: 0; text-align: center; \"><div style=\"display: inline-block; font-size: 18px; font-family: Courier New; color: #000000; line-height: 1.2; pointer-events: all; background-color: #ffffff; white-space: nowrap; \"><font face=\"Georgia\"><i>at</i></font></div></div></div></foreignObject><text fill=\"#000000\" font-family=\"Courier New\" font-size=\"18px\" text-anchor=\"middle\" x=\"298\" y=\"164\">at</text></switch></g><ellipse cx=\"47\" cy=\"270\" fill=\"none\" pointer-events=\"all\" rx=\"5\" ry=\"5\" stroke=\"#000000\"/><path d=\"M 287 310 L 287 270\" fill=\"none\" pointer-events=\"stroke\" stroke=\"#000000\" stroke-dasharray=\"3 3\" stroke-miterlimit=\"10\"/><g transform=\"translate(-0.5 -0.5)\"><switch><foreignObject height=\"100%\" pointer-events=\"none\" requiredFeatures=\"http://www.w3.org/TR/SVG11/feature#Extensibility\" style=\"overflow: visible; text-align: left;\" width=\"100%\"><div style=\"display: flex; align-items: unsafe center; justify-content: unsafe center; width: 1px; height: 1px; padding-top: 290px; margin-left: 287px;\" xmlns=\"http://www.w3.org/1999/xhtml\"><div style=\"box-sizing: border-box; font-size: 0; text-align: center; \"><div style=\"display: inline-block; font-size: 18px; font-family: Courier New; color: #000000; line-height: 1.2; pointer-events: all; background-color: #ffffff; white-space: nowrap; \"><span style=\"color: rgba(0 , 0 , 0 , 0) ; font-family: monospace ; font-size: 0px ; background-color: rgb(248 , 249 , 250)\">%3CmxGraphModel%3E%3Croot%3E%3CmxCell%20id%3D%220%22%2F%3E%3CmxCell%20id%3D%221%22%20parent%3D%220%22%2F%3E%3CmxCell%20id%3D%222%22%20value%3D%22%26lt%3Bfont%20face%3D%26quot%3BGeorgia%26quot%3B%26gt%3Bt%26lt%3B%2Ffont%26gt%3B%22%20style%3D%22edgeLabel%3Bhtml%3D1%3Balign%3Dcenter%3BverticalAlign%3Dmiddle%3Bresizable%3D0%3Bpoints%3D%5B%5D%3BfontSize%3D18%3BfontFamily%3DCourier%20New%3BfontStyle%3D2%22%20vertex%3D%221%22%20connectable%3D%220%22%20parent%3D%221%22%3E%3CmxGeometry%20x%3D%22440%22%20y%3D%22340%22%20as%3D%22geometry%22%3E%3CmxPoint%20x%3D%22-40%22%20y%3D%2217%22%20as%3D%22offset%22%2F%3E%3C%2FmxGeometry%3E%3C%2FmxCell%3E%3C%2Froot%3E%3C%2FmxGraphModel%3Et</span></div></div></div></foreignObject><text fill=\"#000000\" font-family=\"Courier New\" font-size=\"18px\" text-anchor=\"middle\" x=\"287\" y=\"295\">%3CmxG...</text></switch></g><g transform=\"translate(-0.5 -0.5)\"><switch><foreignObject height=\"100%\" pointer-events=\"none\" requiredFeatures=\"http://www.w3.org/TR/SVG11/feature#Extensibility\" style=\"overflow: visible; text-align: left;\" width=\"100%\"><div style=\"display: flex; align-items: unsafe center; justify-content: unsafe center; width: 1px; height: 1px; padding-top: 287px; margin-left: 289px;\" xmlns=\"http://www.w3.org/1999/xhtml\"><div style=\"box-sizing: border-box; font-size: 0; text-align: center; \"><div style=\"display: inline-block; font-size: 18px; font-family: Courier New; color: #000000; line-height: 1.2; pointer-events: all; background-color: #ffffff; white-space: nowrap; \"><span style=\"color: rgba(0 , 0 , 0 , 0) ; font-family: monospace ; font-size: 0px ; background-color: rgb(248 , 249 , 250)\">%3CmxGraphModel%3E%3Croot%3E%3CmxCell%20id%3D%220%22%2F%3E%3CmxCell%20id%3D%221%22%20parent%3D%220%22%2F%3E%3CmxCell%20id%3D%222%22%20value%3D%22%26lt%3Bfont%20face%3D%26quot%3BGeorgia%26quot%3B%26gt%3Bt%26lt%3B%2Ffont%26gt%3B%22%20style%3D%22edgeLabel%3Bhtml%3D1%3Balign%3Dcenter%3BverticalAlign%3Dmiddle%3Bresizable%3D0%3Bpoints%3D%5B%5D%3BfontSize%3D18%3BfontFamily%3DCourier%20New%3BfontStyle%3D2%22%20vertex%3D%221%22%20connectable%3D%220%22%20parent%3D%221%22%3E%3CmxGeometry%20x%3D%22440%22%20y%3D%22340%22%20as%3D%22geometry%22%3E%3CmxPoint%20x%3D%22-40%22%20y%3D%2217%22%20as%3D%22offset%22%2F%3E%3C%2FmxGeometry%3E%3C%2FmxCell%3E%3C%2Froot%3E%3C%2FmxGraphModel%3</span></div></div></div></foreignObject><text fill=\"#000000\" font-family=\"Courier New\" font-size=\"18px\" text-anchor=\"middle\" x=\"289\" y=\"292\">%3CmxGraphModel%3E%3Croot%3E%3CmxCell%20id%3D%220%22%2F%3E%3CmxCell%20id%3D%221%22%20parent%3D%220%22%2F%3E%3CmxCell%20id%3D%222%22%20value%3D%22%26lt%3Bfont%20face%3D%26quot%3BGeorgia%26quot%3B%26gt%3Bt%26lt%3B%2Ffont%26gt%3B%22%20style%3D%22edgeLabel%3Bhtml%3D1%3Balign%3Dcenter%3BverticalAlign%3Dmiddle%3Bresizable%3D0%3Bpoints%3D%5B%5D%3BfontSize%3D18%3BfontFamily%3DCourier%20New%3BfontStyle%3D2%22%20vertex%3D%221%22%20connectable%3D%220%22%20parent%3D%221%22%3E%3CmxGeometry%20x%3D%22440%22%20y%3D%22340%22%20as%3D%22geometry%22%3E%3CmxPoint%20x%3D%22-40%22%20y%3D%2217%22%20as%3D%22offset%22%2F%3E%3C%2FmxGeometry%3E%3C%2FmxCell%3E%3C%2Froot%3E%3C%2FmxGraphModel%3</text></switch></g><path d=\"M 47 300 L 280.63 300\" fill=\"none\" pointer-events=\"stroke\" stroke=\"#000000\" stroke-miterlimit=\"10\"/><path d=\"M 285.88 300 L 278.88 303.5 L 280.63 300 L 278.88 296.5 Z\" fill=\"#000000\" pointer-events=\"all\" stroke=\"#000000\" stroke-miterlimit=\"10\"/><g transform=\"translate(-0.5 -0.5)\"><switch><foreignObject height=\"100%\" pointer-events=\"none\" requiredFeatures=\"http://www.w3.org/TR/SVG11/feature#Extensibility\" style=\"overflow: visible; text-align: left;\" width=\"100%\"><div style=\"display: flex; align-items: unsafe center; justify-content: unsafe center; width: 1px; height: 1px; padding-top: 311px; margin-left: 168px;\" xmlns=\"http://www.w3.org/1999/xhtml\"><div style=\"box-sizing: border-box; font-size: 0; text-align: center; \"><div style=\"display: inline-block; font-size: 18px; font-family: Georgia; color: #000000; line-height: 1.2; pointer-events: all; background-color: #ffffff; white-space: nowrap; \"><i>t</i></div></div></div></foreignObject><text fill=\"#000000\" font-family=\"Georgia\" font-size=\"18px\" text-anchor=\"middle\" x=\"168\" y=\"316\">t</text></switch></g><path d=\"M 367 270 L 680.63 270\" fill=\"none\" pointer-events=\"stroke\" stroke=\"#000000\" stroke-miterlimit=\"10\"/><path d=\"M 685.88 270 L 678.88 273.5 L 680.63 270 L 678.88 266.5 Z\" fill=\"#000000\" pointer-events=\"all\" stroke=\"#000000\" stroke-miterlimit=\"10\"/><path d=\"M 407 310 L 407 26.37\" fill=\"none\" pointer-events=\"stroke\" stroke=\"#000000\" stroke-miterlimit=\"10\"/><path d=\"M 407 21.12 L 410.5 28.12 L 407 26.37 L 403.5 28.12 Z\" fill=\"#000000\" pointer-events=\"all\" stroke=\"#000000\" stroke-miterlimit=\"10\"/><g transform=\"translate(-0.5 -0.5)\"><switch><foreignObject height=\"100%\" pointer-events=\"none\" requiredFeatures=\"http://www.w3.org/TR/SVG11/feature#Extensibility\" style=\"overflow: visible; text-align: left;\" width=\"100%\"><div style=\"display: flex; align-items: unsafe center; justify-content: unsafe center; width: 1px; height: 1px; padding-top: 11px; margin-left: 409px;\" xmlns=\"http://www.w3.org/1999/xhtml\"><div style=\"box-sizing: border-box; font-size: 0; text-align: center; \"><div style=\"display: inline-block; font-size: 18px; font-family: Georgia; color: #000000; line-height: 1.2; pointer-events: all; background-color: #ffffff; white-space: nowrap; \"><i>v</i></div></div></div></foreignObject><text fill=\"#000000\" font-family=\"Georgia\" font-size=\"18px\" text-anchor=\"middle\" x=\"409\" y=\"16\">v</text></switch></g><path d=\"M 407 270 L 647 30\" fill=\"none\" pointer-events=\"stroke\" stroke=\"#000000\" stroke-miterlimit=\"10\" stroke-width=\"2\"/><path d=\"M 647 270 L 647 36.37\" fill=\"none\" pointer-events=\"stroke\" stroke=\"#000000\" stroke-miterlimit=\"10\"/><path d=\"M 647 31.12 L 650.5 38.12 L 647 36.37 L 643.5 38.12 Z\" fill=\"#000000\" pointer-events=\"all\" stroke=\"#000000\" stroke-miterlimit=\"10\"/><g transform=\"translate(-0.5 -0.5)\"><switch><foreignObject height=\"100%\" pointer-events=\"none\" requiredFeatures=\"http://www.w3.org/TR/SVG11/feature#Extensibility\" style=\"overflow: visible; text-align: left;\" width=\"100%\"><div style=\"display: flex; align-items: unsafe center; justify-content: unsafe center; width: 1px; height: 1px; padding-top: 159px; margin-left: 658px;\" xmlns=\"http://www.w3.org/1999/xhtml\"><div style=\"box-sizing: border-box; font-size: 0; text-align: center; \"><div style=\"display: inline-block; font-size: 18px; font-family: Courier New; color: #000000; line-height: 1.2; pointer-events: all; background-color: #ffffff; white-space: nowrap; \"><font face=\"Georgia\"><i>at</i></font></div></div></div></foreignObject><text fill=\"#000000\" font-family=\"Courier New\" font-size=\"18px\" text-anchor=\"middle\" x=\"658\" y=\"164\">at</text></switch></g><path d=\"M 647 310 L 647 270\" fill=\"none\" pointer-events=\"stroke\" stroke=\"#000000\" stroke-dasharray=\"3 3\" stroke-miterlimit=\"10\"/><g transform=\"translate(-0.5 -0.5)\"><switch><foreignObject height=\"100%\" pointer-events=\"none\" requiredFeatures=\"http://www.w3.org/TR/SVG11/feature#Extensibility\" style=\"overflow: visible; text-align: left;\" width=\"100%\"><div style=\"display: flex; align-items: unsafe center; justify-content: unsafe center; width: 1px; height: 1px; padding-top: 290px; margin-left: 647px;\" xmlns=\"http://www.w3.org/1999/xhtml\"><div style=\"box-sizing: border-box; font-size: 0; text-align: center; \"><div style=\"display: inline-block; font-size: 18px; font-family: Courier New; color: #000000; line-height: 1.2; pointer-events: all; background-color: #ffffff; white-space: nowrap; \"><span style=\"color: rgba(0 , 0 , 0 , 0) ; font-family: monospace ; font-size: 0px ; background-color: rgb(248 , 249 , 250)\">%3CmxGraphModel%3E%3Croot%3E%3CmxCell%20id%3D%220%22%2F%3E%3CmxCell%20id%3D%221%22%20parent%3D%220%22%2F%3E%3CmxCell%20id%3D%222%22%20value%3D%22%26lt%3Bfont%20face%3D%26quot%3BGeorgia%26quot%3B%26gt%3Bt%26lt%3B%2Ffont%26gt%3B%22%20style%3D%22edgeLabel%3Bhtml%3D1%3Balign%3Dcenter%3BverticalAlign%3Dmiddle%3Bresizable%3D0%3Bpoints%3D%5B%5D%3BfontSize%3D18%3BfontFamily%3DCourier%20New%3BfontStyle%3D2%22%20vertex%3D%221%22%20connectable%3D%220%22%20parent%3D%221%22%3E%3CmxGeometry%20x%3D%22440%22%20y%3D%22340%22%20as%3D%22geometry%22%3E%3CmxPoint%20x%3D%22-40%22%20y%3D%2217%22%20as%3D%22offset%22%2F%3E%3C%2FmxGeometry%3E%3C%2FmxCell%3E%3C%2Froot%3E%3C%2FmxGraphModel%3Et</span></div></div></div></foreignObject><text fill=\"#000000\" font-family=\"Courier New\" font-size=\"18px\" text-anchor=\"middle\" x=\"647\" y=\"295\">%3CmxG...</text></switch></g><g transform=\"translate(-0.5 -0.5)\"><switch><foreignObject height=\"100%\" pointer-events=\"none\" requiredFeatures=\"http://www.w3.org/TR/SVG11/feature#Extensibility\" style=\"overflow: visible; text-align: left;\" width=\"100%\"><div style=\"display: flex; align-items: unsafe center; justify-content: unsafe center; width: 1px; height: 1px; padding-top: 287px; margin-left: 649px;\" xmlns=\"http://www.w3.org/1999/xhtml\"><div style=\"box-sizing: border-box; font-size: 0; text-align: center; \"><div style=\"display: inline-block; font-size: 18px; font-family: Courier New; color: #000000; line-height: 1.2; pointer-events: all; background-color: #ffffff; white-space: nowrap; \"><span style=\"color: rgba(0 , 0 , 0 , 0) ; font-family: monospace ; font-size: 0px ; background-color: rgb(248 , 249 , 250)\">%3CmxGraphModel%3E%3Croot%3E%3CmxCell%20id%3D%220%22%2F%3E%3CmxCell%20id%3D%221%22%20parent%3D%220%22%2F%3E%3CmxCell%20id%3D%222%22%20value%3D%22%26lt%3Bfont%20face%3D%26quot%3BGeorgia%26quot%3B%26gt%3Bt%26lt%3B%2Ffont%26gt%3B%22%20style%3D%22edgeLabel%3Bhtml%3D1%3Balign%3Dcenter%3BverticalAlign%3Dmiddle%3Bresizable%3D0%3Bpoints%3D%5B%5D%3BfontSize%3D18%3BfontFamily%3DCourier%20New%3BfontStyle%3D2%22%20vertex%3D%221%22%20connectable%3D%220%22%20parent%3D%221%22%3E%3CmxGeometry%20x%3D%22440%22%20y%3D%22340%22%20as%3D%22geometry%22%3E%3CmxPoint%20x%3D%22-40%22%20y%3D%2217%22%20as%3D%22offset%22%2F%3E%3C%2FmxGeometry%3E%3C%2FmxCell%3E%3C%2Froot%3E%3C%2FmxGraphModel%3</span></div></div></div></foreignObject><text fill=\"#000000\" font-family=\"Courier New\" font-size=\"18px\" text-anchor=\"middle\" x=\"649\" y=\"292\">%3CmxGraphModel%3E%3Croot%3E%3CmxCell%20id%3D%220%22%2F%3E%3CmxCell%20id%3D%221%22%20parent%3D%220%22%2F%3E%3CmxCell%20id%3D%222%22%20value%3D%22%26lt%3Bfont%20face%3D%26quot%3BGeorgia%26quot%3B%26gt%3Bt%26lt%3B%2Ffont%26gt%3B%22%20style%3D%22edgeLabel%3Bhtml%3D1%3Balign%3Dcenter%3BverticalAlign%3Dmiddle%3Bresizable%3D0%3Bpoints%3D%5B%5D%3BfontSize%3D18%3BfontFamily%3DCourier%20New%3BfontStyle%3D2%22%20vertex%3D%221%22%20connectable%3D%220%22%20parent%3D%221%22%3E%3CmxGeometry%20x%3D%22440%22%20y%3D%22340%22%20as%3D%22geometry%22%3E%3CmxPoint%20x%3D%22-40%22%20y%3D%2217%22%20as%3D%22offset%22%2F%3E%3C%2FmxGeometry%3E%3C%2FmxCell%3E%3C%2Froot%3E%3C%2FmxGraphModel%3</text></switch></g><path d=\"M 407 270 L 640.63 270\" fill=\"none\" pointer-events=\"stroke\" stroke=\"#000000\" stroke-miterlimit=\"10\"/><path d=\"M 645.88 270 L 638.88 273.5 L 640.63 270 L 638.88 266.5 Z\" fill=\"#000000\" pointer-events=\"all\" stroke=\"#000000\" stroke-miterlimit=\"10\"/><g transform=\"translate(-0.5 -0.5)\"><switch><foreignObject height=\"100%\" pointer-events=\"none\" requiredFeatures=\"http://www.w3.org/TR/SVG11/feature#Extensibility\" style=\"overflow: visible; text-align: left;\" width=\"100%\"><div style=\"display: flex; align-items: unsafe center; justify-content: unsafe center; width: 1px; height: 1px; padding-top: 281px; margin-left: 528px;\" xmlns=\"http://www.w3.org/1999/xhtml\"><div style=\"box-sizing: border-box; font-size: 0; text-align: center; \"><div style=\"display: inline-block; font-size: 18px; font-family: Georgia; color: #000000; line-height: 1.2; pointer-events: all; background-color: #ffffff; white-space: nowrap; \"><i>t</i></div></div></div></foreignObject><text fill=\"#000000\" font-family=\"Georgia\" font-size=\"18px\" text-anchor=\"middle\" x=\"528\" y=\"286\">t</text></switch></g></g><switch><g requiredFeatures=\"http://www.w3.org/TR/SVG11/feature#Extensibility\"/><a target=\"_blank\" transform=\"translate(0,-5)\" xlink:href=\"https://desk.draw.io/support/solutions/articles/16000042487\"><text font-size=\"10px\" text-anchor=\"middle\" x=\"50%\" y=\"100%\">Viewer does not support full SVG 1.1</text></a></switch></svg>"
          },
          "metadata": {
            "tags": []
          }
        }
      ]
    },
    {
      "cell_type": "markdown",
      "metadata": {
        "id": "jP1h25SB35od",
        "colab_type": "text"
      },
      "source": [
        "上の図の左側をみながら次のように考えて下さい.\n",
        "1. 時間を等間隔で分割する\n",
        "2. 時間分割の両端の平均速度 $\\bar{v}$ を使って  \n",
        "変位 $\\Delta x = \\bar{v} \\Delta t$ を求める.\n",
        "3. 求めた $\\Delta x$ を全て加える.\n",
        "\n",
        "この考え方で 分割を増やし $\\Delta t$ を小さくすれば 右の図のようになります.  \n",
        "つまり「時間軸と $v-t$ グラフで囲まれた(三角形の)面積が 変位 $s$」ということができます.\n",
        "\n",
        "---\n",
        "初速度 $v_0$ がゼロ(初め静止していた)の物体の等加速度直線運動は\n",
        "\n",
        "\\begin{align*}\n",
        "a &: \b\\text{一定}&\\\\\n",
        "v &= at&\\\\\n",
        "s &= \\dfrac{1}{2} v \\cdot t = \\dfrac{1}{2} a t^2\n",
        "\\end{align*}\n"
      ]
    },
    {
      "cell_type": "code",
      "metadata": {
        "colab_type": "code",
        "cellView": "form",
        "id": "Ns93yOEgwnom",
        "colab": {
          "base_uri": "https://localhost:8080/",
          "height": 348,
          "referenced_widgets": [
            "20dc2047579c4bb99ba526c2bf0cdc89",
            "97aa7724acb84766abaf516ab972325c",
            "40244e570fea4ff6902b96fedec63a0d",
            "735471674c8044b2ad773c142dd2a3e6",
            "03049e6561ec4d698ae42ec94eb3bbec",
            "817f763371814d0fb5365d79e8e97ae4",
            "421b6ad273a44a32b92dbd7bf84225de"
          ]
        },
        "outputId": "d6e3e2fd-ddf3-4066-8bc1-dbf06b0fd1ac"
      },
      "source": [
        "#@title 等加速度直線運動における a-t, v-t, s-t の関係(ここをクリック+再生)\n",
        "%matplotlib inline\n",
        "import matplotlib.pyplot as plt\n",
        "from ipywidgets import interact\n",
        "import numpy as np\n",
        "plt.style.use('ggplot')\n",
        "\n",
        "(a,T)=(5.0,10)\n",
        "\n",
        "plt.figure()\n",
        "t = np.linspace(0, T)\n",
        "a, v = [], []\n",
        "\n",
        "@interact(a=(-7,+7))\n",
        "def f(a):\n",
        "    fig = plt.figure(figsize=(10,4))\n",
        "\n",
        "    # グラフ間の幅を調整\n",
        "    plt.subplots_adjust(wspace=0.5, hspace=0.5)\n",
        "\n",
        "    at = fig.add_subplot(1, 3, 1)\n",
        "    at.plot(t , a + 0*t )\n",
        "    at.plot(t , 0*t )  \n",
        "    at.set_xlabel('t [s]') \n",
        "    at.set_ylabel('a [m/s$^2$]')\n",
        "    at.set_title('a-t')\n",
        "    at.set_xlim([0, 8])\n",
        "    at.set_ylim([-10, 10])   \n",
        "\n",
        "    vt = fig.add_subplot(1, 3, 2)\n",
        "    vt.plot(t , a*t )\n",
        "    vt.plot(t , 0*t )  \n",
        "    vt.set_xlabel('t [s]')\n",
        "    vt.set_ylabel('v [m/s]')\n",
        "    vt.set_title('v-t')\n",
        "    vt.set_xlim([0, 8])\n",
        "    vt.set_ylim([-25, 25])\n",
        "\n",
        "    st = fig.add_subplot(1, 3, 3)\n",
        "    st.plot(t , 1/2*a*t**2 )\n",
        "    st.plot(t , 0*t )  \n",
        "    st.set_xlabel('t [s]')\n",
        "    st.set_ylabel('s [m]')\n",
        "    st.set_title('s-t')\n",
        "    st.set_xlim([0, 8])\n",
        "    st.set_ylim([-40, 40])     \n",
        "    \n",
        "    plt.show()"
      ],
      "execution_count": 8,
      "outputs": [
        {
          "output_type": "display_data",
          "data": {
            "text/plain": [
              "<Figure size 432x288 with 0 Axes>"
            ]
          },
          "metadata": {
            "tags": []
          }
        },
        {
          "output_type": "display_data",
          "data": {
            "application/vnd.jupyter.widget-view+json": {
              "model_id": "20dc2047579c4bb99ba526c2bf0cdc89",
              "version_minor": 0,
              "version_major": 2
            },
            "text/plain": [
              "interactive(children=(IntSlider(value=0, description='a', max=7, min=-7), Output()), _dom_classes=('widget-int…"
            ]
          },
          "metadata": {
            "tags": []
          }
        }
      ]
    },
    {
      "cell_type": "markdown",
      "metadata": {
        "id": "muhn2dRN9sYA",
        "colab_type": "text"
      },
      "source": [
        "## 初速度がゼロでないときの等加速度直線運動"
      ]
    },
    {
      "cell_type": "markdown",
      "metadata": {
        "id": "pGNFIfUX9_Xl",
        "colab_type": "text"
      },
      "source": [
        "加速度の定義から入ると簡単ですので以下ではその方法を紹介します.\n",
        "\n",
        "+ 等加速度直線運動なので, 加速度はどこで測定しても同じ\n",
        "+ $t=0\\ {\\rm s}$ での速度を初速度$v_0$, $t>0$ での速度を $v$ とする\n",
        "\n",
        "\\begin{align*}\n",
        " a &= \\dfrac{\\Delta v}{\\Delta t} \n",
        "   = \\dfrac{v_2 - v_1 }{t_2 - t_1} &\\\\\n",
        "  a&= \\dfrac{v - v_0 }{t - 0} &\\\\\n",
        "  at & = v - v_0&\\\\\n",
        "\\end{align*}\n",
        "\n",
        "> $(1.8) \\qquad v = v_0 + a\\cdot t$\n",
        "\n",
        "---\n",
        "\n",
        "初速度がゼロでないときの等加速度直線運動は(教科書 図1.10 を利用)\n",
        "\n",
        "\\begin{align*}\n",
        "a &: \b\\text{一定}&\\\\\n",
        "v &= v_0 + at&\\\\\n",
        "s &= \\dfrac{1}{2} \\left( v_0+ v \\right)\\cdot t \n",
        "= v_0t + \\dfrac{1}{2} a t^2\n",
        "\\end{align*}\n",
        "\n",
        "最後の変位 $s$ の式の第一項は **等速直線運動** の変位,  \n",
        "第二項は $v_0=0$ とした等加速度直線運動の変位を表しています.\n"
      ]
    },
    {
      "cell_type": "markdown",
      "metadata": {
        "id": "pYK3MJoMRIXQ",
        "colab_type": "text"
      },
      "source": [
        "> ここまで整理した知識を利用して, 教科書の例題1.3, 1.4, 1.5に 取り組みましょう."
      ]
    }
  ]
}