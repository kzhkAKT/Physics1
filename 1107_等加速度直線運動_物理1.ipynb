{
  "nbformat": 4,
  "nbformat_minor": 0,
  "metadata": {
    "colab": {
      "name": "1107_等加速度直線運動_物理1",
      "provenance": [],
      "collapsed_sections": [],
      "toc_visible": true,
      "authorship_tag": "ABX9TyN9WlwWm2CDr9Vx6RrrSvl9",
      "include_colab_link": true
    },
    "kernelspec": {
      "name": "python3",
      "display_name": "Python 3"
    },
    "widgets": {
      "application/vnd.jupyter.widget-state+json": {
        "93455b6b76d64077ae98e546fb69df0a": {
          "model_module": "@jupyter-widgets/controls",
          "model_name": "VBoxModel",
          "state": {
            "_view_name": "VBoxView",
            "_dom_classes": [
              "widget-interact"
            ],
            "_model_name": "VBoxModel",
            "_view_module": "@jupyter-widgets/controls",
            "_model_module_version": "1.5.0",
            "_view_count": null,
            "_view_module_version": "1.5.0",
            "box_style": "",
            "layout": "IPY_MODEL_20502a7aa3ea4ed19b37da702089966b",
            "_model_module": "@jupyter-widgets/controls",
            "children": [
              "IPY_MODEL_fc6b164605954e49878365861c6d8744",
              "IPY_MODEL_3fbd429f2e974dc5a1fe4229061ae27f"
            ]
          }
        },
        "20502a7aa3ea4ed19b37da702089966b": {
          "model_module": "@jupyter-widgets/base",
          "model_name": "LayoutModel",
          "state": {
            "_view_name": "LayoutView",
            "grid_template_rows": null,
            "right": null,
            "justify_content": null,
            "_view_module": "@jupyter-widgets/base",
            "overflow": null,
            "_model_module_version": "1.2.0",
            "_view_count": null,
            "flex_flow": null,
            "width": null,
            "min_width": null,
            "border": null,
            "align_items": null,
            "bottom": null,
            "_model_module": "@jupyter-widgets/base",
            "top": null,
            "grid_column": null,
            "overflow_y": null,
            "overflow_x": null,
            "grid_auto_flow": null,
            "grid_area": null,
            "grid_template_columns": null,
            "flex": null,
            "_model_name": "LayoutModel",
            "justify_items": null,
            "grid_row": null,
            "max_height": null,
            "align_content": null,
            "visibility": null,
            "align_self": null,
            "height": null,
            "min_height": null,
            "padding": null,
            "grid_auto_rows": null,
            "grid_gap": null,
            "max_width": null,
            "order": null,
            "_view_module_version": "1.2.0",
            "grid_template_areas": null,
            "object_position": null,
            "object_fit": null,
            "grid_auto_columns": null,
            "margin": null,
            "display": null,
            "left": null
          }
        },
        "fc6b164605954e49878365861c6d8744": {
          "model_module": "@jupyter-widgets/controls",
          "model_name": "IntSliderModel",
          "state": {
            "_view_name": "IntSliderView",
            "style": "IPY_MODEL_882a0b077b8a4064b71840062013a2be",
            "_dom_classes": [],
            "description": "a",
            "step": 1,
            "_model_name": "IntSliderModel",
            "orientation": "horizontal",
            "max": 7,
            "_view_module": "@jupyter-widgets/controls",
            "_model_module_version": "1.5.0",
            "value": 5,
            "_view_count": null,
            "disabled": false,
            "_view_module_version": "1.5.0",
            "min": -7,
            "continuous_update": true,
            "readout_format": "d",
            "description_tooltip": null,
            "readout": true,
            "_model_module": "@jupyter-widgets/controls",
            "layout": "IPY_MODEL_b8340b17101b490896cfbc94aa0d2940"
          }
        },
        "3fbd429f2e974dc5a1fe4229061ae27f": {
          "model_module": "@jupyter-widgets/output",
          "model_name": "OutputModel",
          "state": {
            "_view_name": "OutputView",
            "msg_id": "",
            "_dom_classes": [],
            "_model_name": "OutputModel",
            "outputs": [
              {
                "output_type": "display_data",
                "metadata": {
                  "tags": []
                },
                "image/png": "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\n",
                "text/plain": "<Figure size 576x288 with 2 Axes>"
              }
            ],
            "_view_module": "@jupyter-widgets/output",
            "_model_module_version": "1.0.0",
            "_view_count": null,
            "_view_module_version": "1.0.0",
            "layout": "IPY_MODEL_f63770207bc841a4bd69f70fffcfc7f3",
            "_model_module": "@jupyter-widgets/output"
          }
        },
        "882a0b077b8a4064b71840062013a2be": {
          "model_module": "@jupyter-widgets/controls",
          "model_name": "SliderStyleModel",
          "state": {
            "_view_name": "StyleView",
            "handle_color": null,
            "_model_name": "SliderStyleModel",
            "description_width": "",
            "_view_module": "@jupyter-widgets/base",
            "_model_module_version": "1.5.0",
            "_view_count": null,
            "_view_module_version": "1.2.0",
            "_model_module": "@jupyter-widgets/controls"
          }
        },
        "b8340b17101b490896cfbc94aa0d2940": {
          "model_module": "@jupyter-widgets/base",
          "model_name": "LayoutModel",
          "state": {
            "_view_name": "LayoutView",
            "grid_template_rows": null,
            "right": null,
            "justify_content": null,
            "_view_module": "@jupyter-widgets/base",
            "overflow": null,
            "_model_module_version": "1.2.0",
            "_view_count": null,
            "flex_flow": null,
            "width": null,
            "min_width": null,
            "border": null,
            "align_items": null,
            "bottom": null,
            "_model_module": "@jupyter-widgets/base",
            "top": null,
            "grid_column": null,
            "overflow_y": null,
            "overflow_x": null,
            "grid_auto_flow": null,
            "grid_area": null,
            "grid_template_columns": null,
            "flex": null,
            "_model_name": "LayoutModel",
            "justify_items": null,
            "grid_row": null,
            "max_height": null,
            "align_content": null,
            "visibility": null,
            "align_self": null,
            "height": null,
            "min_height": null,
            "padding": null,
            "grid_auto_rows": null,
            "grid_gap": null,
            "max_width": null,
            "order": null,
            "_view_module_version": "1.2.0",
            "grid_template_areas": null,
            "object_position": null,
            "object_fit": null,
            "grid_auto_columns": null,
            "margin": null,
            "display": null,
            "left": null
          }
        },
        "f63770207bc841a4bd69f70fffcfc7f3": {
          "model_module": "@jupyter-widgets/base",
          "model_name": "LayoutModel",
          "state": {
            "_view_name": "LayoutView",
            "grid_template_rows": null,
            "right": null,
            "justify_content": null,
            "_view_module": "@jupyter-widgets/base",
            "overflow": null,
            "_model_module_version": "1.2.0",
            "_view_count": null,
            "flex_flow": null,
            "width": null,
            "min_width": null,
            "border": null,
            "align_items": null,
            "bottom": null,
            "_model_module": "@jupyter-widgets/base",
            "top": null,
            "grid_column": null,
            "overflow_y": null,
            "overflow_x": null,
            "grid_auto_flow": null,
            "grid_area": null,
            "grid_template_columns": null,
            "flex": null,
            "_model_name": "LayoutModel",
            "justify_items": null,
            "grid_row": null,
            "max_height": null,
            "align_content": null,
            "visibility": null,
            "align_self": null,
            "height": null,
            "min_height": null,
            "padding": null,
            "grid_auto_rows": null,
            "grid_gap": null,
            "max_width": null,
            "order": null,
            "_view_module_version": "1.2.0",
            "grid_template_areas": null,
            "object_position": null,
            "object_fit": null,
            "grid_auto_columns": null,
            "margin": null,
            "display": null,
            "left": null
          }
        },
        "c30b859ca80849968569f6e871d0d31f": {
          "model_module": "@jupyter-widgets/controls",
          "model_name": "VBoxModel",
          "state": {
            "_view_name": "VBoxView",
            "_dom_classes": [
              "widget-interact"
            ],
            "_model_name": "VBoxModel",
            "_view_module": "@jupyter-widgets/controls",
            "_model_module_version": "1.5.0",
            "_view_count": null,
            "_view_module_version": "1.5.0",
            "box_style": "",
            "layout": "IPY_MODEL_fb28a395d226495ca82f57041d754cd7",
            "_model_module": "@jupyter-widgets/controls",
            "children": [
              "IPY_MODEL_cf6862ef7c9a4da6a7f56539c145a8ad",
              "IPY_MODEL_409bfb826a384965af64a03758b98dc8"
            ]
          }
        },
        "fb28a395d226495ca82f57041d754cd7": {
          "model_module": "@jupyter-widgets/base",
          "model_name": "LayoutModel",
          "state": {
            "_view_name": "LayoutView",
            "grid_template_rows": null,
            "right": null,
            "justify_content": null,
            "_view_module": "@jupyter-widgets/base",
            "overflow": null,
            "_model_module_version": "1.2.0",
            "_view_count": null,
            "flex_flow": null,
            "width": null,
            "min_width": null,
            "border": null,
            "align_items": null,
            "bottom": null,
            "_model_module": "@jupyter-widgets/base",
            "top": null,
            "grid_column": null,
            "overflow_y": null,
            "overflow_x": null,
            "grid_auto_flow": null,
            "grid_area": null,
            "grid_template_columns": null,
            "flex": null,
            "_model_name": "LayoutModel",
            "justify_items": null,
            "grid_row": null,
            "max_height": null,
            "align_content": null,
            "visibility": null,
            "align_self": null,
            "height": null,
            "min_height": null,
            "padding": null,
            "grid_auto_rows": null,
            "grid_gap": null,
            "max_width": null,
            "order": null,
            "_view_module_version": "1.2.0",
            "grid_template_areas": null,
            "object_position": null,
            "object_fit": null,
            "grid_auto_columns": null,
            "margin": null,
            "display": null,
            "left": null
          }
        },
        "cf6862ef7c9a4da6a7f56539c145a8ad": {
          "model_module": "@jupyter-widgets/controls",
          "model_name": "IntSliderModel",
          "state": {
            "_view_name": "IntSliderView",
            "style": "IPY_MODEL_4b1d52c26fd048fea318fb30ae9e46db",
            "_dom_classes": [],
            "description": "a",
            "step": 1,
            "_model_name": "IntSliderModel",
            "orientation": "horizontal",
            "max": 7,
            "_view_module": "@jupyter-widgets/controls",
            "_model_module_version": "1.5.0",
            "value": 4,
            "_view_count": null,
            "disabled": false,
            "_view_module_version": "1.5.0",
            "min": -7,
            "continuous_update": true,
            "readout_format": "d",
            "description_tooltip": null,
            "readout": true,
            "_model_module": "@jupyter-widgets/controls",
            "layout": "IPY_MODEL_6d41473dc89346cb842dfb1709115459"
          }
        },
        "409bfb826a384965af64a03758b98dc8": {
          "model_module": "@jupyter-widgets/output",
          "model_name": "OutputModel",
          "state": {
            "_view_name": "OutputView",
            "msg_id": "",
            "_dom_classes": [],
            "_model_name": "OutputModel",
            "outputs": [
              {
                "output_type": "display_data",
                "metadata": {
                  "tags": []
                },
                "image/png": "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\n",
                "text/plain": "<Figure size 720x288 with 3 Axes>"
              }
            ],
            "_view_module": "@jupyter-widgets/output",
            "_model_module_version": "1.0.0",
            "_view_count": null,
            "_view_module_version": "1.0.0",
            "layout": "IPY_MODEL_3888825ba3bb44ada82cbc414f472710",
            "_model_module": "@jupyter-widgets/output"
          }
        },
        "4b1d52c26fd048fea318fb30ae9e46db": {
          "model_module": "@jupyter-widgets/controls",
          "model_name": "SliderStyleModel",
          "state": {
            "_view_name": "StyleView",
            "handle_color": null,
            "_model_name": "SliderStyleModel",
            "description_width": "",
            "_view_module": "@jupyter-widgets/base",
            "_model_module_version": "1.5.0",
            "_view_count": null,
            "_view_module_version": "1.2.0",
            "_model_module": "@jupyter-widgets/controls"
          }
        },
        "6d41473dc89346cb842dfb1709115459": {
          "model_module": "@jupyter-widgets/base",
          "model_name": "LayoutModel",
          "state": {
            "_view_name": "LayoutView",
            "grid_template_rows": null,
            "right": null,
            "justify_content": null,
            "_view_module": "@jupyter-widgets/base",
            "overflow": null,
            "_model_module_version": "1.2.0",
            "_view_count": null,
            "flex_flow": null,
            "width": null,
            "min_width": null,
            "border": null,
            "align_items": null,
            "bottom": null,
            "_model_module": "@jupyter-widgets/base",
            "top": null,
            "grid_column": null,
            "overflow_y": null,
            "overflow_x": null,
            "grid_auto_flow": null,
            "grid_area": null,
            "grid_template_columns": null,
            "flex": null,
            "_model_name": "LayoutModel",
            "justify_items": null,
            "grid_row": null,
            "max_height": null,
            "align_content": null,
            "visibility": null,
            "align_self": null,
            "height": null,
            "min_height": null,
            "padding": null,
            "grid_auto_rows": null,
            "grid_gap": null,
            "max_width": null,
            "order": null,
            "_view_module_version": "1.2.0",
            "grid_template_areas": null,
            "object_position": null,
            "object_fit": null,
            "grid_auto_columns": null,
            "margin": null,
            "display": null,
            "left": null
          }
        },
        "3888825ba3bb44ada82cbc414f472710": {
          "model_module": "@jupyter-widgets/base",
          "model_name": "LayoutModel",
          "state": {
            "_view_name": "LayoutView",
            "grid_template_rows": null,
            "right": null,
            "justify_content": null,
            "_view_module": "@jupyter-widgets/base",
            "overflow": null,
            "_model_module_version": "1.2.0",
            "_view_count": null,
            "flex_flow": null,
            "width": null,
            "min_width": null,
            "border": null,
            "align_items": null,
            "bottom": null,
            "_model_module": "@jupyter-widgets/base",
            "top": null,
            "grid_column": null,
            "overflow_y": null,
            "overflow_x": null,
            "grid_auto_flow": null,
            "grid_area": null,
            "grid_template_columns": null,
            "flex": null,
            "_model_name": "LayoutModel",
            "justify_items": null,
            "grid_row": null,
            "max_height": null,
            "align_content": null,
            "visibility": null,
            "align_self": null,
            "height": null,
            "min_height": null,
            "padding": null,
            "grid_auto_rows": null,
            "grid_gap": null,
            "max_width": null,
            "order": null,
            "_view_module_version": "1.2.0",
            "grid_template_areas": null,
            "object_position": null,
            "object_fit": null,
            "grid_auto_columns": null,
            "margin": null,
            "display": null,
            "left": null
          }
        }
      }
    }
  },
  "cells": [
    {
      "cell_type": "markdown",
      "metadata": {
        "id": "view-in-github",
        "colab_type": "text"
      },
      "source": [
        "<a href=\"https://colab.research.google.com/github/kzhkAKT/Physics1/blob/draft/1107_%E7%AD%89%E5%8A%A0%E9%80%9F%E5%BA%A6%E7%9B%B4%E7%B7%9A%E9%81%8B%E5%8B%95_%E7%89%A9%E7%90%861.ipynb\" target=\"_parent\"><img src=\"https://colab.research.google.com/assets/colab-badge.svg\" alt=\"Open In Colab\"/></a>"
      ]
    },
    {
      "cell_type": "markdown",
      "metadata": {
        "id": "YlZ1etaUE2m0",
        "colab_type": "text"
      },
      "source": [
        "# 運動の表し方\n"
      ]
    },
    {
      "cell_type": "markdown",
      "metadata": {
        "id": "fYDHo38R8zF2",
        "colab_type": "text"
      },
      "source": [
        "## 復習\n",
        "$\\require{cancel}$"
      ]
    },
    {
      "cell_type": "markdown",
      "metadata": {
        "id": "Qo4UsQD95vUV",
        "colab_type": "text"
      },
      "source": [
        "### 速度 $v$ の定義\n",
        "\n",
        "\\begin{align*}\n",
        "v &= \\dfrac{\\Delta x}{\\Delta t} = \\dfrac{x_2 - x_1 }{t_2 - t_1}&\n",
        "\\end{align*}\n",
        "\n",
        "この式から\n",
        "> $x-t$グラフ, つまり変位($\\Delta x$)と時間変化($\\Delta t$)比が **速度** になる  \n",
        "\n",
        "といえました. では初めの形を両辺に $\\Delta t$ を掛けて,\n",
        "次のように変形してみましょう.\n",
        "\\begin{align*}\n",
        "v \\cdot \\Delta t &= \\dfrac{\\Delta x}{\\cancel{\\Delta t}} \\cancel{\\Delta  t}&\\\\\n",
        "\\Delta x &=v \\cdot \\Delta t\n",
        "\\end{align*}\n",
        "となりました. この式から\n",
        "\n",
        "> $v-t$ グラフ, つまり 速度($v$) と 時間変化の積が, 変位($\\Delta x$) になる\n",
        "\n",
        "ということができます. これは前回教科書に線を引いた(1.1.6)ことを表しています.\n",
        "\n",
        "\n",
        "\n"
      ]
    },
    {
      "cell_type": "markdown",
      "metadata": {
        "id": "oTNYUmPs84XG",
        "colab_type": "text"
      },
      "source": [
        "### 加速度 $a$ の定義\n",
        "\n",
        "\\begin{align*}\n",
        "a &= \\dfrac{\\Delta v}{\\Delta t} = \\dfrac{v_2 - v_1 }{t_2 - t_1}&\n",
        "\\end{align*}\n",
        "\n",
        "この式から\n",
        "> $v-t$グラフ, つまり変位($\\Delta v$)と時間変化($\\Delta t$)比が **加速度** になる  \n",
        "\n",
        "といえました. では初めの形を両辺に $\\Delta t$ を掛けて,\n",
        "次のように変形してみましょう.\n",
        "\\begin{align*}\n",
        "a \\cdot \\Delta t &= \\dfrac{\\Delta v}{\\cancel{\\Delta t}} \\cancel{\\Delta  t}&\\\\\n",
        "\\Delta v &=a \\cdot \\Delta t\n",
        "\\end{align*}\n",
        "となりました. この式から\n",
        "\n",
        "> $a-t$ グラフ, つまり 加速度($a$) と 時間変化の積が, 速度の変化($\\Delta v$) になる\n",
        "\n",
        "と言えそうです.\n",
        "\n",
        "\n",
        "---\n"
      ]
    },
    {
      "cell_type": "markdown",
      "metadata": {
        "id": "5Q1I04q6E2jj",
        "colab_type": "text"
      },
      "source": [
        "## 等加速度直線運動\n",
        "\n",
        "> 等加速度直線運動 = 「等」+ 「加速度」+「直線」+ \u0005運動\n",
        "と分解し, それぞれの要素について\n",
        "\n",
        "> 「等」+ 「加速度」: 一定の **加速度**  \n",
        "> 直線: (ある点から出発し)直線上を進む\n",
        "\n",
        "### 復習: 物体の加速度 $a$ の定義\n",
        "$$\n",
        "a = \\dfrac{\\Delta v}{\\Delta t}\n",
        "= \\dfrac{v_2 - v_1 }{t_2 - t_1}\n",
        "$$\n"
      ]
    },
    {
      "cell_type": "markdown",
      "metadata": {
        "id": "Lg6gkzKoNBXl",
        "colab_type": "text"
      },
      "source": [
        "#### 初め静止していた等加速度直線運動の速度 $v$\n",
        "\n",
        "いま$a$ を一定, さらに\n",
        "* 測定開始時点を $t_1=0$ でこのときの速度を $v_1=0$\n",
        "* 測定開始時点 $t_1=0$ から経過した時間を $t_2=t$   \n",
        "\n",
        "と置き直すと\n",
        "\n",
        "\n",
        "$$\n",
        "\\require{cancel}\n",
        "\\begin{align*}\n",
        "a &= \\dfrac{\\cancelto{v}{v_2} - \\cancelto{0}{v_1}}\n",
        "{\\cancelto{t}{t_2} - \\cancelto{0}{t_1}}&\\\\\n",
        "&= \\dfrac{v}{t}\\\\\n",
        "v&=a\\cdot t&\n",
        "\\end{align*}\n",
        "$$\n",
        "これより, 初め静止していた物体が, 等加速度で直線上を運動する $t$ 秒後の速度は\n",
        ">> $(1.6) \\qquad v = a \\cdot t$\n",
        "\n",
        "となります."
      ]
    },
    {
      "cell_type": "markdown",
      "metadata": {
        "id": "Vjiwp7_PuryV",
        "colab_type": "text"
      },
      "source": [
        "#### 初め静止していた等加速度直線運動の変位 $s$\n",
        "\n",
        "等加速度直線運動では, 速度は時間によって変化します.\n",
        "> $\\quad v = a \\cdot t$\n",
        "\n"
      ]
    },
    {
      "cell_type": "code",
      "metadata": {
        "id": "B8CzBpp0sRuy",
        "colab_type": "code",
        "cellView": "form",
        "outputId": "689b447d-b8d9-4ce4-8110-3471d052273c",
        "colab": {
          "base_uri": "https://localhost:8080/",
          "height": 348,
          "referenced_widgets": [
            "93455b6b76d64077ae98e546fb69df0a",
            "20502a7aa3ea4ed19b37da702089966b",
            "fc6b164605954e49878365861c6d8744",
            "3fbd429f2e974dc5a1fe4229061ae27f",
            "882a0b077b8a4064b71840062013a2be",
            "b8340b17101b490896cfbc94aa0d2940",
            "f63770207bc841a4bd69f70fffcfc7f3"
          ]
        }
      },
      "source": [
        "#@title 等加速度直線運動における a-t と v-t の関係\n",
        "%matplotlib inline\n",
        "import matplotlib.pyplot as plt\n",
        "from ipywidgets import interact\n",
        "import numpy as np\n",
        "plt.style.use('ggplot')\n",
        "\n",
        "(a,T)=(5.0,10)\n",
        "\n",
        "plt.figure()\n",
        "t = np.linspace(0, T)\n",
        "a, v = [], []\n",
        "\n",
        "@interact(a=(-7,+7))\n",
        "def f(a):\n",
        "    fig = plt.figure(figsize=(8,4))\n",
        "\n",
        "    # グラフ間の幅を調整\n",
        "    plt.subplots_adjust(wspace=0.5, hspace=0.5)\n",
        "\n",
        "    at = fig.add_subplot(1, 2, 1)\n",
        "    at.plot(t , a + 0*t )\n",
        "    at.plot(t , 0*t )  \n",
        "    at.set_xlabel('t [s]') \n",
        "    at.set_ylabel('a [m/s$^2$]')\n",
        "    at.set_title('a-t')\n",
        "    at.set_xlim([0, 8])\n",
        "    at.set_ylim([-10, 10])   \n",
        "\n",
        "    vt = fig.add_subplot(1, 2, 2)\n",
        "    vt.plot(t , a*t )\n",
        "    vt.plot(t , 0*t )\n",
        "    vt.set_xlabel('t [s]')\n",
        "    vt.set_ylabel('v [m/s]')\n",
        "    vt.set_title('v-t')\n",
        "    vt.set_xlim([0, 8])\n",
        "    vt.set_ylim([-25, 25])\n",
        "\n",
        "    plt.show()"
      ],
      "execution_count": 12,
      "outputs": [
        {
          "output_type": "display_data",
          "data": {
            "text/plain": [
              "<Figure size 432x288 with 0 Axes>"
            ]
          },
          "metadata": {
            "tags": []
          }
        },
        {
          "output_type": "display_data",
          "data": {
            "application/vnd.jupyter.widget-view+json": {
              "model_id": "93455b6b76d64077ae98e546fb69df0a",
              "version_minor": 0,
              "version_major": 2
            },
            "text/plain": [
              "interactive(children=(IntSlider(value=0, description='a', max=7, min=-7), Output()), _dom_classes=('widget-int…"
            ]
          },
          "metadata": {
            "tags": []
          }
        }
      ]
    },
    {
      "cell_type": "code",
      "metadata": {
        "id": "Wg1flRLTsksA",
        "colab_type": "code",
        "colab": {
          "base_uri": "https://localhost:8080/",
          "height": 414
        },
        "cellView": "form",
        "outputId": "a06ac1b3-1e4f-4ade-fe08-bb00a542afc0"
      },
      "source": [
        "#@title v-t グラフの分割による考察\n",
        "%%svg\n",
        "<svg xmlns=\"http://www.w3.org/2000/svg\" xmlns:xlink=\"http://www.w3.org/1999/xlink\" version=\"1.1\" width=\"770px\" viewBox=\"-0.5 -0.5 770 393\" content=\"&lt;mxfile host=&quot;www.draw.io&quot; modified=&quot;2020-05-25T13:00:18.574Z&quot; agent=&quot;5.0 (Macintosh; Intel Mac OS X 10_15_4) AppleWebKit/537.36 (KHTML, like Gecko) Chrome/83.0.4103.61 Safari/537.36&quot; etag=&quot;XBtK7j16J_kHAdrVxd7F&quot; version=&quot;13.1.3&quot; type=&quot;google&quot;&gt;&lt;diagram id=&quot;IQ7CvnFe63TmqmIrzkI5&quot; name=&quot;Page-1&quot;&gt;7Vtfj5s4EP80kXoPG2HAhDx2s/2j011VqVLv2QsOcUtCDthN9j792WAbbGBJSMiGLFK1hbEZ2zM/j2c8k4m1WO+/xGi7+jvycTgxDX8/sR4mpulaM/qXEV5yArTnOSGIiZ+TQEH4Qf7DnGhw6hPxcaJ0TKMoTMlWJXrRZoO9VKGhOI52ardlFKqjblGAK4QfHgqr1H+In674ssxZQf+KSbASIwOHr2+NRGe+kmSF/GhXIlmfJtYijqI0f1rvFzhkshNyyb/73NAqJxbjTXrIB7+/zcDc/7778nXhRr9SAn8+/3k3s3M2zyh84ivms01fhAjSmKBNwN7udyuS4h9b5LGmHVU4pa3SdUjfAH1ckjBcRGEUZx9aS9fDnsfo0Sb9jNYkZCD4gqM4IIiTucaBS999ElMVkmjDmOOEruo+jlLEKTZkn4Rk+5O+GPz5Kx85SePoNy6N/ehCG7JefH04TvG+UXJA6oPiGEdrnMYvtAv/AFr21OKC4jB23anj5pRdAQswA1OLC3BVQoVlm1OHM0AckIEcptAZfeBqO0KFQmOKCp0w5QJmoM/1Ran/PjG03QsVSAJ9Cvj/2YdEEJ4FhU6N6L2Sp0dBMkv9SmTZc4s2CqjEwGyGd5z8ka00RSHx6EP2sZE3ZxBhrQBu9zWTXnyazO20PINsOHUKlJyLQ5A1lMfR08bHPsdWG9DLgF5ETzHBMWX3De9qYN20K3rFLHAMBbCmYVTg6hpVqAJhrs6PU+sKcGq9jlPSjKkK13cGKNNWASWB0gIoCbzzA8q4AkCBEVAdAeVqBso9DE92X3AC7Z4Q3vgfmU9J37wQJQnxVKHnH2C/4lK2yqS0aFizaEGLcUjdoWeVfZ0k+AjfI5JthL0qOy5yS7f1CcWJh/lHZVdS42M5LYxSFAc4rTDK9CJXfcLOv31VabtDSvxYVWl8ZpdVlDNrNNFtllbXJ9XUX+iRBpeKGqm3GLDgwKNaowaOcqMmidDw7SNvWBPfz0KXGFM/Ej1m/JgF27I1Z1KA9xP4UGcV66OWRtPHQ1A+xkQGfmVMNcO50U4a07mhRR/CVp2IMcFGcDW1ECVaLhPcCy7gURt4E23wCadbfoqJ6N0c4ObvbKdNlZF74d3fRcs+SlaZkwNOUPm1K1iPzjpruBLm6e5Rzyqus++jiuvipc4qrgReuivQs4pB8xl+fJiVRUEVF+CksKjW00uoUNJXHUD1VLgg/ORpW413BnCktFquBjQWjPr3LoA7Inb4iD3bGdlqia8BsvMRssOH7PkuWMzrh6x5ahBXjctuywHUXXPQ1X7pN6U6o75v2zo5+e9H0UDXD7Q6KtpoYdS3ouv8plHRhaIN9cLMnHdUNDBbGPWsaOuQXEcYkm2C2zNNKNnmhTdLsmdRfffUEwcUn9tJ2W/oqAK2YMUPADVA0S3r2ZJLoirkZiUuJSxuKeBbS7yu3OCWJG4BVeKzNxY4OKCUbGhhxGXOlVZvfyD3/aAuIjhXQQY6LX594/ShDtHG/d85iZhvv0ZrcWdMDUekY0/2g9Qv+osxrboSn1sy4jPVhkub/manZl3OrqWG08ulwgo04+ARfaBzo//o+Ebt0x8TpbpzyRXAPl9HmyjJ9NdQAGqw+k/e9Ii830FWE3WnzuCDabtyOJPVm4tnyAavWhqol69DKjFGzYqz5ZuQIMxkSCkP7Jkxh0xKkAq+rS+QfQVGOrExCza5omQL+8PURQnc5kJudUWXfPmsXdreMjF7C/LntMwtm5lgKXoU88hhIedR2FvWLduErA1kr7nVZe/c7jKianlZI7e9rLGwvqzByGjcAvMhIZsLfJALz7ZuNqQraXyvM6rc7TDf7/IzuYyyjPMdXqfFsrmuUWVFy/JTqeDCJkBmFWRP2y6xeSnoVpmOkqIhKDFSRuDWW2V/18CeZfvquAsbX8Vo9qqsQ23gCC4T1X0lGKgbsLmeu/VGoim//N7cyK41Y11vn8926jdnnMdDaDyExkNoPIQucwgdfATdfHSZxwWNYYwxNZUT49QC1QtElnUJ90Nuqw73J5p/6HjtnoReLATP5UjojHp2JEQ6/rXy84ZrpSvb4X2Wn+db4ZW9bYAzXRzdqVbicvdIdte76QH9YsQ2Wrz2Q3ft7I3df/u4wpJhKkuvFOoaq+mMLv0Dn+b7wvEHPhqiX7Gwc5GRP5P/pJe/XcDCdvqxx/v5SU9lw3e1zo7mnF04xwePqxFqyPK2lQ51AATl/pmwtTwYA4CDrsXBwuGcdctjyve4YyXfizeW8nXqatPGy9/x8ne8/B0vf8cM5LC8mq5Rbat71HdYa46H0HgIjYfQeAiNGcgrCXac1wsph5eBdA75gcJ7zUD2dl12cU+iLvM0piBr98JAU5ATbslL3Qsbbn36Hw==&lt;/diagram&gt;&lt;/mxfile&gt;\" onclick=\"(function(svg){var src=window.event.target||window.event.srcElement;while (src!=null&amp;&amp;src.nodeName.toLowerCase()!='a'){src=src.parentNode;}if(src==null){if(svg.wnd!=null&amp;&amp;!svg.wnd.closed){svg.wnd.focus();}else{var r=function(evt){if(evt.data=='ready'&amp;&amp;evt.source==svg.wnd){svg.wnd.postMessage(decodeURIComponent(svg.getAttribute('content')),'*');window.removeEventListener('message',r);}};window.addEventListener('message',r);svg.wnd=window.open('https://www.draw.io/?client=1&amp;lightbox=1&amp;edit=_blank');}}})(this);\" style=\"cursor:pointer;max-width:100%;max-height:393px;\"><defs/><g><path d=\"M 501.34 38.68 L 672.66 210 L 501.34 381.32 Z\" fill=\"#f8cecc\" stroke=\"#b85450\" stroke-miterlimit=\"10\" transform=\"translate(587,0)scale(-1,1)translate(-587,0)rotate(-225,587,210)\" pointer-events=\"all\"/><rect x=\"127\" y=\"150\" width=\"80\" height=\"120\" fill=\"#f8cecc\" stroke=\"#b85450\" pointer-events=\"all\"/><g transform=\"translate(-0.5 -0.5)\"><switch><foreignObject style=\"overflow: visible; text-align: left;\" pointer-events=\"none\" width=\"100%\" height=\"100%\" requiredFeatures=\"http://www.w3.org/TR/SVG11/feature#Extensibility\"><div xmlns=\"http://www.w3.org/1999/xhtml\" style=\"display: flex; align-items: unsafe center; justify-content: unsafe center; width: 78px; height: 1px; padding-top: 210px; margin-left: 128px;\"><div style=\"box-sizing: border-box; font-size: 0; text-align: center; \"><div style=\"display: inline-block; font-size: 18px; font-family: Courier New; color: #000000; line-height: 1.2; pointer-events: all; white-space: normal; word-wrap: normal; \"><font face=\"Georgia\"><i>v</i><sub>2</sub><span style=\"font-style: italic ; font-size: 15px\">Δt</span></font></div></div></div></foreignObject><text x=\"167\" y=\"215\" fill=\"#000000\" font-family=\"Courier New\" font-size=\"18px\" text-anchor=\"middle\">v2Δt</text></switch></g><rect x=\"207\" y=\"70\" width=\"80\" height=\"200\" fill=\"#f8cecc\" stroke=\"#b85450\" pointer-events=\"all\"/><g transform=\"translate(-0.5 -0.5)\"><switch><foreignObject style=\"overflow: visible; text-align: left;\" pointer-events=\"none\" width=\"100%\" height=\"100%\" requiredFeatures=\"http://www.w3.org/TR/SVG11/feature#Extensibility\"><div xmlns=\"http://www.w3.org/1999/xhtml\" style=\"display: flex; align-items: unsafe center; justify-content: unsafe center; width: 78px; height: 1px; padding-top: 170px; margin-left: 208px;\"><div style=\"box-sizing: border-box; font-size: 0; text-align: center; \"><div style=\"display: inline-block; font-size: 18px; font-family: Courier New; color: #000000; line-height: 1.2; pointer-events: all; white-space: normal; word-wrap: normal; \"><font face=\"Georgia\"><i>v</i><sub>3</sub><i>Δt</i></font></div></div></div></foreignObject><text x=\"247\" y=\"175\" fill=\"#000000\" font-family=\"Courier New\" font-size=\"18px\" text-anchor=\"middle\">v3Δt</text></switch></g><rect x=\"47\" y=\"230\" width=\"80\" height=\"40\" fill=\"#f8cecc\" stroke=\"#b85450\" pointer-events=\"all\"/><g transform=\"translate(-0.5 -0.5)\"><switch><foreignObject style=\"overflow: visible; text-align: left;\" pointer-events=\"none\" width=\"100%\" height=\"100%\" requiredFeatures=\"http://www.w3.org/TR/SVG11/feature#Extensibility\"><div xmlns=\"http://www.w3.org/1999/xhtml\" style=\"display: flex; align-items: unsafe center; justify-content: unsafe center; width: 78px; height: 1px; padding-top: 250px; margin-left: 48px;\"><div style=\"box-sizing: border-box; font-size: 0; text-align: center; \"><div style=\"display: inline-block; font-size: 18px; font-family: Courier New; color: #000000; line-height: 1.2; pointer-events: all; white-space: normal; word-wrap: normal; \"><font face=\"Georgia\"><i>v</i><sub>1</sub><i>Δt</i></font></div></div></div></foreignObject><text x=\"87\" y=\"255\" fill=\"#000000\" font-family=\"Courier New\" font-size=\"18px\" text-anchor=\"middle\">v1Δt</text></switch></g><path d=\"M 7 270 L 320.63 270\" fill=\"none\" stroke=\"#000000\" stroke-miterlimit=\"10\" pointer-events=\"stroke\"/><path d=\"M 325.88 270 L 318.88 273.5 L 320.63 270 L 318.88 266.5 Z\" fill=\"#000000\" stroke=\"#000000\" stroke-miterlimit=\"10\" pointer-events=\"all\"/><path d=\"M 47 310 L 47 26.37\" fill=\"none\" stroke=\"#000000\" stroke-miterlimit=\"10\" pointer-events=\"stroke\"/><path d=\"M 47 21.12 L 50.5 28.12 L 47 26.37 L 43.5 28.12 Z\" fill=\"#000000\" stroke=\"#000000\" stroke-miterlimit=\"10\" pointer-events=\"all\"/><g transform=\"translate(-0.5 -0.5)\"><switch><foreignObject style=\"overflow: visible; text-align: left;\" pointer-events=\"none\" width=\"100%\" height=\"100%\" requiredFeatures=\"http://www.w3.org/TR/SVG11/feature#Extensibility\"><div xmlns=\"http://www.w3.org/1999/xhtml\" style=\"display: flex; align-items: unsafe center; justify-content: unsafe center; width: 1px; height: 1px; padding-top: 11px; margin-left: 48px;\"><div style=\"box-sizing: border-box; font-size: 0; text-align: center; \"><div style=\"display: inline-block; font-size: 18px; font-family: Georgia; color: #000000; line-height: 1.2; pointer-events: all; background-color: #ffffff; white-space: nowrap; \"><i>v</i></div></div></div></foreignObject><text x=\"48\" y=\"16\" fill=\"#000000\" font-family=\"Georgia\" font-size=\"18px\" text-anchor=\"middle\">v</text></switch></g><path d=\"M 47 270 L 287 30\" fill=\"none\" stroke=\"#000000\" stroke-width=\"2\" stroke-miterlimit=\"10\" pointer-events=\"stroke\"/><path d=\"M 127 270 L 127 190\" fill=\"none\" stroke=\"#000000\" stroke-miterlimit=\"10\" stroke-dasharray=\"3 3\" pointer-events=\"stroke\"/><path d=\"M 207 270 L 207 110\" fill=\"none\" stroke=\"#000000\" stroke-miterlimit=\"10\" stroke-dasharray=\"3 3\" pointer-events=\"stroke\"/><path d=\"M 53.37 270 L 120.63 270\" fill=\"none\" stroke=\"#000000\" stroke-miterlimit=\"10\" pointer-events=\"stroke\"/><path d=\"M 48.12 270 L 55.12 266.5 L 53.37 270 L 55.12 273.5 Z\" fill=\"#000000\" stroke=\"#000000\" stroke-miterlimit=\"10\" pointer-events=\"all\"/><path d=\"M 125.88 270 L 118.88 273.5 L 120.63 270 L 118.88 266.5 Z\" fill=\"#000000\" stroke=\"#000000\" stroke-miterlimit=\"10\" pointer-events=\"all\"/><g transform=\"translate(-0.5 -0.5)\"><switch><foreignObject style=\"overflow: visible; text-align: left;\" pointer-events=\"none\" width=\"100%\" height=\"100%\" requiredFeatures=\"http://www.w3.org/TR/SVG11/feature#Extensibility\"><div xmlns=\"http://www.w3.org/1999/xhtml\" style=\"display: flex; align-items: unsafe center; justify-content: unsafe center; width: 1px; height: 1px; padding-top: 290px; margin-left: 87px;\"><div style=\"box-sizing: border-box; font-size: 0; text-align: center; \"><div style=\"display: inline-block; font-size: 18px; font-family: Courier New; color: #000000; line-height: 1.2; pointer-events: all; background-color: #ffffff; white-space: nowrap; \"><font face=\"Georgia\">Δ<i>t</i></font></div></div></div></foreignObject><text x=\"87\" y=\"295\" fill=\"#000000\" font-family=\"Courier New\" font-size=\"18px\" text-anchor=\"middle\">Δt</text></switch></g><path d=\"M 133.37 270 L 200.63 270\" fill=\"none\" stroke=\"#000000\" stroke-miterlimit=\"10\" pointer-events=\"stroke\"/><path d=\"M 128.12 270 L 135.12 266.5 L 133.37 270 L 135.12 273.5 Z\" fill=\"#000000\" stroke=\"#000000\" stroke-miterlimit=\"10\" pointer-events=\"all\"/><path d=\"M 205.88 270 L 198.88 273.5 L 200.63 270 L 198.88 266.5 Z\" fill=\"#000000\" stroke=\"#000000\" stroke-miterlimit=\"10\" pointer-events=\"all\"/><g transform=\"translate(-0.5 -0.5)\"><switch><foreignObject style=\"overflow: visible; text-align: left;\" pointer-events=\"none\" width=\"100%\" height=\"100%\" requiredFeatures=\"http://www.w3.org/TR/SVG11/feature#Extensibility\"><div xmlns=\"http://www.w3.org/1999/xhtml\" style=\"display: flex; align-items: unsafe center; justify-content: unsafe center; width: 1px; height: 1px; padding-top: 290px; margin-left: 167px;\"><div style=\"box-sizing: border-box; font-size: 0; text-align: center; \"><div style=\"display: inline-block; font-size: 18px; font-family: Courier New; color: #000000; line-height: 1.2; pointer-events: all; background-color: #ffffff; white-space: nowrap; \"><font face=\"Georgia\">Δ<i>t</i></font></div></div></div></foreignObject><text x=\"167\" y=\"295\" fill=\"#000000\" font-family=\"Courier New\" font-size=\"18px\" text-anchor=\"middle\">Δt</text></switch></g><path d=\"M 213.37 270 L 280.63 270\" fill=\"none\" stroke=\"#000000\" stroke-miterlimit=\"10\" pointer-events=\"stroke\"/><path d=\"M 208.12 270 L 215.12 266.5 L 213.37 270 L 215.12 273.5 Z\" fill=\"#000000\" stroke=\"#000000\" stroke-miterlimit=\"10\" pointer-events=\"all\"/><path d=\"M 285.88 270 L 278.88 273.5 L 280.63 270 L 278.88 266.5 Z\" fill=\"#000000\" stroke=\"#000000\" stroke-miterlimit=\"10\" pointer-events=\"all\"/><g transform=\"translate(-0.5 -0.5)\"><switch><foreignObject style=\"overflow: visible; text-align: left;\" pointer-events=\"none\" width=\"100%\" height=\"100%\" requiredFeatures=\"http://www.w3.org/TR/SVG11/feature#Extensibility\"><div xmlns=\"http://www.w3.org/1999/xhtml\" style=\"display: flex; align-items: unsafe center; justify-content: unsafe center; width: 1px; height: 1px; padding-top: 290px; margin-left: 247px;\"><div style=\"box-sizing: border-box; font-size: 0; text-align: center; \"><div style=\"display: inline-block; font-size: 18px; font-family: Courier New; color: #000000; line-height: 1.2; pointer-events: all; background-color: #ffffff; white-space: nowrap; \"><font face=\"Georgia\">Δ<i>t</i></font></div></div></div></foreignObject><text x=\"247\" y=\"295\" fill=\"#000000\" font-family=\"Courier New\" font-size=\"18px\" text-anchor=\"middle\">Δt</text></switch></g><path d=\"M 227 160 L 247 160\" fill=\"none\" stroke=\"#000000\" stroke-width=\"2\" stroke-miterlimit=\"10\" pointer-events=\"stroke\"/><path d=\"M 147 203 L 167 203\" fill=\"none\" stroke=\"#000000\" stroke-width=\"2\" stroke-miterlimit=\"10\" pointer-events=\"stroke\"/><path d=\"M 68 243 L 88 243\" fill=\"none\" stroke=\"#000000\" stroke-width=\"2\" stroke-miterlimit=\"10\" pointer-events=\"stroke\"/><ellipse cx=\"128\" cy=\"190\" rx=\"5\" ry=\"5\" fill=\"none\" stroke=\"#000000\" pointer-events=\"all\"/><ellipse cx=\"207\" cy=\"110\" rx=\"5\" ry=\"5\" fill=\"none\" stroke=\"#000000\" pointer-events=\"all\"/><ellipse cx=\"287\" cy=\"30\" rx=\"5\" ry=\"5\" fill=\"none\" stroke=\"#000000\" pointer-events=\"all\"/><path d=\"M 287 263.63 L 287 36.37\" fill=\"none\" stroke=\"#000000\" stroke-miterlimit=\"10\" pointer-events=\"stroke\"/><path d=\"M 287 268.88 L 283.5 261.88 L 287 263.63 L 290.5 261.88 Z\" fill=\"#000000\" stroke=\"#000000\" stroke-miterlimit=\"10\" pointer-events=\"all\"/><path d=\"M 287 31.12 L 290.5 38.12 L 287 36.37 L 283.5 38.12 Z\" fill=\"#000000\" stroke=\"#000000\" stroke-miterlimit=\"10\" pointer-events=\"all\"/><g transform=\"translate(-0.5 -0.5)\"><switch><foreignObject style=\"overflow: visible; text-align: left;\" pointer-events=\"none\" width=\"100%\" height=\"100%\" requiredFeatures=\"http://www.w3.org/TR/SVG11/feature#Extensibility\"><div xmlns=\"http://www.w3.org/1999/xhtml\" style=\"display: flex; align-items: unsafe center; justify-content: unsafe center; width: 1px; height: 1px; padding-top: 159px; margin-left: 298px;\"><div style=\"box-sizing: border-box; font-size: 0; text-align: center; \"><div style=\"display: inline-block; font-size: 18px; font-family: Courier New; color: #000000; line-height: 1.2; pointer-events: all; background-color: #ffffff; white-space: nowrap; \"><font face=\"Georgia\"><i>at</i></font></div></div></div></foreignObject><text x=\"298\" y=\"164\" fill=\"#000000\" font-family=\"Courier New\" font-size=\"18px\" text-anchor=\"middle\">at</text></switch></g><ellipse cx=\"47\" cy=\"270\" rx=\"5\" ry=\"5\" fill=\"none\" stroke=\"#000000\" pointer-events=\"all\"/><path d=\"M 287 310 L 287 270\" fill=\"none\" stroke=\"#000000\" stroke-miterlimit=\"10\" stroke-dasharray=\"3 3\" pointer-events=\"stroke\"/><g transform=\"translate(-0.5 -0.5)\"><switch><foreignObject style=\"overflow: visible; text-align: left;\" pointer-events=\"none\" width=\"100%\" height=\"100%\" requiredFeatures=\"http://www.w3.org/TR/SVG11/feature#Extensibility\"><div xmlns=\"http://www.w3.org/1999/xhtml\" style=\"display: flex; align-items: unsafe center; justify-content: unsafe center; width: 1px; height: 1px; padding-top: 290px; margin-left: 287px;\"><div style=\"box-sizing: border-box; font-size: 0; text-align: center; \"><div style=\"display: inline-block; font-size: 18px; font-family: Courier New; color: #000000; line-height: 1.2; pointer-events: all; background-color: #ffffff; white-space: nowrap; \"><span style=\"color: rgba(0 , 0 , 0 , 0) ; font-family: monospace ; font-size: 0px ; background-color: rgb(248 , 249 , 250)\">%3CmxGraphModel%3E%3Croot%3E%3CmxCell%20id%3D%220%22%2F%3E%3CmxCell%20id%3D%221%22%20parent%3D%220%22%2F%3E%3CmxCell%20id%3D%222%22%20value%3D%22%26lt%3Bfont%20face%3D%26quot%3BGeorgia%26quot%3B%26gt%3Bt%26lt%3B%2Ffont%26gt%3B%22%20style%3D%22edgeLabel%3Bhtml%3D1%3Balign%3Dcenter%3BverticalAlign%3Dmiddle%3Bresizable%3D0%3Bpoints%3D%5B%5D%3BfontSize%3D18%3BfontFamily%3DCourier%20New%3BfontStyle%3D2%22%20vertex%3D%221%22%20connectable%3D%220%22%20parent%3D%221%22%3E%3CmxGeometry%20x%3D%22440%22%20y%3D%22340%22%20as%3D%22geometry%22%3E%3CmxPoint%20x%3D%22-40%22%20y%3D%2217%22%20as%3D%22offset%22%2F%3E%3C%2FmxGeometry%3E%3C%2FmxCell%3E%3C%2Froot%3E%3C%2FmxGraphModel%3Et</span></div></div></div></foreignObject><text x=\"287\" y=\"295\" fill=\"#000000\" font-family=\"Courier New\" font-size=\"18px\" text-anchor=\"middle\">%3CmxG...</text></switch></g><g transform=\"translate(-0.5 -0.5)\"><switch><foreignObject style=\"overflow: visible; text-align: left;\" pointer-events=\"none\" width=\"100%\" height=\"100%\" requiredFeatures=\"http://www.w3.org/TR/SVG11/feature#Extensibility\"><div xmlns=\"http://www.w3.org/1999/xhtml\" style=\"display: flex; align-items: unsafe center; justify-content: unsafe center; width: 1px; height: 1px; padding-top: 287px; margin-left: 289px;\"><div style=\"box-sizing: border-box; font-size: 0; text-align: center; \"><div style=\"display: inline-block; font-size: 18px; font-family: Courier New; color: #000000; line-height: 1.2; pointer-events: all; background-color: #ffffff; white-space: nowrap; \"><span style=\"color: rgba(0 , 0 , 0 , 0) ; font-family: monospace ; font-size: 0px ; background-color: rgb(248 , 249 , 250)\">%3CmxGraphModel%3E%3Croot%3E%3CmxCell%20id%3D%220%22%2F%3E%3CmxCell%20id%3D%221%22%20parent%3D%220%22%2F%3E%3CmxCell%20id%3D%222%22%20value%3D%22%26lt%3Bfont%20face%3D%26quot%3BGeorgia%26quot%3B%26gt%3Bt%26lt%3B%2Ffont%26gt%3B%22%20style%3D%22edgeLabel%3Bhtml%3D1%3Balign%3Dcenter%3BverticalAlign%3Dmiddle%3Bresizable%3D0%3Bpoints%3D%5B%5D%3BfontSize%3D18%3BfontFamily%3DCourier%20New%3BfontStyle%3D2%22%20vertex%3D%221%22%20connectable%3D%220%22%20parent%3D%221%22%3E%3CmxGeometry%20x%3D%22440%22%20y%3D%22340%22%20as%3D%22geometry%22%3E%3CmxPoint%20x%3D%22-40%22%20y%3D%2217%22%20as%3D%22offset%22%2F%3E%3C%2FmxGeometry%3E%3C%2FmxCell%3E%3C%2Froot%3E%3C%2FmxGraphModel%3</span></div></div></div></foreignObject><text x=\"289\" y=\"292\" fill=\"#000000\" font-family=\"Courier New\" font-size=\"18px\" text-anchor=\"middle\">%3CmxGraphModel%3E%3Croot%3E%3CmxCell%20id%3D%220%22%2F%3E%3CmxCell%20id%3D%221%22%20parent%3D%220%22%2F%3E%3CmxCell%20id%3D%222%22%20value%3D%22%26lt%3Bfont%20face%3D%26quot%3BGeorgia%26quot%3B%26gt%3Bt%26lt%3B%2Ffont%26gt%3B%22%20style%3D%22edgeLabel%3Bhtml%3D1%3Balign%3Dcenter%3BverticalAlign%3Dmiddle%3Bresizable%3D0%3Bpoints%3D%5B%5D%3BfontSize%3D18%3BfontFamily%3DCourier%20New%3BfontStyle%3D2%22%20vertex%3D%221%22%20connectable%3D%220%22%20parent%3D%221%22%3E%3CmxGeometry%20x%3D%22440%22%20y%3D%22340%22%20as%3D%22geometry%22%3E%3CmxPoint%20x%3D%22-40%22%20y%3D%2217%22%20as%3D%22offset%22%2F%3E%3C%2FmxGeometry%3E%3C%2FmxCell%3E%3C%2Froot%3E%3C%2FmxGraphModel%3</text></switch></g><path d=\"M 47 300 L 280.63 300\" fill=\"none\" stroke=\"#000000\" stroke-miterlimit=\"10\" pointer-events=\"stroke\"/><path d=\"M 285.88 300 L 278.88 303.5 L 280.63 300 L 278.88 296.5 Z\" fill=\"#000000\" stroke=\"#000000\" stroke-miterlimit=\"10\" pointer-events=\"all\"/><g transform=\"translate(-0.5 -0.5)\"><switch><foreignObject style=\"overflow: visible; text-align: left;\" pointer-events=\"none\" width=\"100%\" height=\"100%\" requiredFeatures=\"http://www.w3.org/TR/SVG11/feature#Extensibility\"><div xmlns=\"http://www.w3.org/1999/xhtml\" style=\"display: flex; align-items: unsafe center; justify-content: unsafe center; width: 1px; height: 1px; padding-top: 311px; margin-left: 168px;\"><div style=\"box-sizing: border-box; font-size: 0; text-align: center; \"><div style=\"display: inline-block; font-size: 18px; font-family: Georgia; color: #000000; line-height: 1.2; pointer-events: all; background-color: #ffffff; white-space: nowrap; \"><i>t</i></div></div></div></foreignObject><text x=\"168\" y=\"316\" fill=\"#000000\" font-family=\"Georgia\" font-size=\"18px\" text-anchor=\"middle\">t</text></switch></g><path d=\"M 367 270 L 680.63 270\" fill=\"none\" stroke=\"#000000\" stroke-miterlimit=\"10\" pointer-events=\"stroke\"/><path d=\"M 685.88 270 L 678.88 273.5 L 680.63 270 L 678.88 266.5 Z\" fill=\"#000000\" stroke=\"#000000\" stroke-miterlimit=\"10\" pointer-events=\"all\"/><path d=\"M 407 310 L 407 26.37\" fill=\"none\" stroke=\"#000000\" stroke-miterlimit=\"10\" pointer-events=\"stroke\"/><path d=\"M 407 21.12 L 410.5 28.12 L 407 26.37 L 403.5 28.12 Z\" fill=\"#000000\" stroke=\"#000000\" stroke-miterlimit=\"10\" pointer-events=\"all\"/><g transform=\"translate(-0.5 -0.5)\"><switch><foreignObject style=\"overflow: visible; text-align: left;\" pointer-events=\"none\" width=\"100%\" height=\"100%\" requiredFeatures=\"http://www.w3.org/TR/SVG11/feature#Extensibility\"><div xmlns=\"http://www.w3.org/1999/xhtml\" style=\"display: flex; align-items: unsafe center; justify-content: unsafe center; width: 1px; height: 1px; padding-top: 11px; margin-left: 409px;\"><div style=\"box-sizing: border-box; font-size: 0; text-align: center; \"><div style=\"display: inline-block; font-size: 18px; font-family: Georgia; color: #000000; line-height: 1.2; pointer-events: all; background-color: #ffffff; white-space: nowrap; \"><i>v</i></div></div></div></foreignObject><text x=\"409\" y=\"16\" fill=\"#000000\" font-family=\"Georgia\" font-size=\"18px\" text-anchor=\"middle\">v</text></switch></g><path d=\"M 407 270 L 647 30\" fill=\"none\" stroke=\"#000000\" stroke-width=\"2\" stroke-miterlimit=\"10\" pointer-events=\"stroke\"/><path d=\"M 647 270 L 647 36.37\" fill=\"none\" stroke=\"#000000\" stroke-miterlimit=\"10\" pointer-events=\"stroke\"/><path d=\"M 647 31.12 L 650.5 38.12 L 647 36.37 L 643.5 38.12 Z\" fill=\"#000000\" stroke=\"#000000\" stroke-miterlimit=\"10\" pointer-events=\"all\"/><g transform=\"translate(-0.5 -0.5)\"><switch><foreignObject style=\"overflow: visible; text-align: left;\" pointer-events=\"none\" width=\"100%\" height=\"100%\" requiredFeatures=\"http://www.w3.org/TR/SVG11/feature#Extensibility\"><div xmlns=\"http://www.w3.org/1999/xhtml\" style=\"display: flex; align-items: unsafe center; justify-content: unsafe center; width: 1px; height: 1px; padding-top: 159px; margin-left: 658px;\"><div style=\"box-sizing: border-box; font-size: 0; text-align: center; \"><div style=\"display: inline-block; font-size: 18px; font-family: Courier New; color: #000000; line-height: 1.2; pointer-events: all; background-color: #ffffff; white-space: nowrap; \"><font face=\"Georgia\"><i>at</i></font></div></div></div></foreignObject><text x=\"658\" y=\"164\" fill=\"#000000\" font-family=\"Courier New\" font-size=\"18px\" text-anchor=\"middle\">at</text></switch></g><path d=\"M 647 310 L 647 270\" fill=\"none\" stroke=\"#000000\" stroke-miterlimit=\"10\" stroke-dasharray=\"3 3\" pointer-events=\"stroke\"/><g transform=\"translate(-0.5 -0.5)\"><switch><foreignObject style=\"overflow: visible; text-align: left;\" pointer-events=\"none\" width=\"100%\" height=\"100%\" requiredFeatures=\"http://www.w3.org/TR/SVG11/feature#Extensibility\"><div xmlns=\"http://www.w3.org/1999/xhtml\" style=\"display: flex; align-items: unsafe center; justify-content: unsafe center; width: 1px; height: 1px; padding-top: 290px; margin-left: 647px;\"><div style=\"box-sizing: border-box; font-size: 0; text-align: center; \"><div style=\"display: inline-block; font-size: 18px; font-family: Courier New; color: #000000; line-height: 1.2; pointer-events: all; background-color: #ffffff; white-space: nowrap; \"><span style=\"color: rgba(0 , 0 , 0 , 0) ; font-family: monospace ; font-size: 0px ; background-color: rgb(248 , 249 , 250)\">%3CmxGraphModel%3E%3Croot%3E%3CmxCell%20id%3D%220%22%2F%3E%3CmxCell%20id%3D%221%22%20parent%3D%220%22%2F%3E%3CmxCell%20id%3D%222%22%20value%3D%22%26lt%3Bfont%20face%3D%26quot%3BGeorgia%26quot%3B%26gt%3Bt%26lt%3B%2Ffont%26gt%3B%22%20style%3D%22edgeLabel%3Bhtml%3D1%3Balign%3Dcenter%3BverticalAlign%3Dmiddle%3Bresizable%3D0%3Bpoints%3D%5B%5D%3BfontSize%3D18%3BfontFamily%3DCourier%20New%3BfontStyle%3D2%22%20vertex%3D%221%22%20connectable%3D%220%22%20parent%3D%221%22%3E%3CmxGeometry%20x%3D%22440%22%20y%3D%22340%22%20as%3D%22geometry%22%3E%3CmxPoint%20x%3D%22-40%22%20y%3D%2217%22%20as%3D%22offset%22%2F%3E%3C%2FmxGeometry%3E%3C%2FmxCell%3E%3C%2Froot%3E%3C%2FmxGraphModel%3Et</span></div></div></div></foreignObject><text x=\"647\" y=\"295\" fill=\"#000000\" font-family=\"Courier New\" font-size=\"18px\" text-anchor=\"middle\">%3CmxG...</text></switch></g><g transform=\"translate(-0.5 -0.5)\"><switch><foreignObject style=\"overflow: visible; text-align: left;\" pointer-events=\"none\" width=\"100%\" height=\"100%\" requiredFeatures=\"http://www.w3.org/TR/SVG11/feature#Extensibility\"><div xmlns=\"http://www.w3.org/1999/xhtml\" style=\"display: flex; align-items: unsafe center; justify-content: unsafe center; width: 1px; height: 1px; padding-top: 287px; margin-left: 649px;\"><div style=\"box-sizing: border-box; font-size: 0; text-align: center; \"><div style=\"display: inline-block; font-size: 18px; font-family: Courier New; color: #000000; line-height: 1.2; pointer-events: all; background-color: #ffffff; white-space: nowrap; \"><span style=\"color: rgba(0 , 0 , 0 , 0) ; font-family: monospace ; font-size: 0px ; background-color: rgb(248 , 249 , 250)\">%3CmxGraphModel%3E%3Croot%3E%3CmxCell%20id%3D%220%22%2F%3E%3CmxCell%20id%3D%221%22%20parent%3D%220%22%2F%3E%3CmxCell%20id%3D%222%22%20value%3D%22%26lt%3Bfont%20face%3D%26quot%3BGeorgia%26quot%3B%26gt%3Bt%26lt%3B%2Ffont%26gt%3B%22%20style%3D%22edgeLabel%3Bhtml%3D1%3Balign%3Dcenter%3BverticalAlign%3Dmiddle%3Bresizable%3D0%3Bpoints%3D%5B%5D%3BfontSize%3D18%3BfontFamily%3DCourier%20New%3BfontStyle%3D2%22%20vertex%3D%221%22%20connectable%3D%220%22%20parent%3D%221%22%3E%3CmxGeometry%20x%3D%22440%22%20y%3D%22340%22%20as%3D%22geometry%22%3E%3CmxPoint%20x%3D%22-40%22%20y%3D%2217%22%20as%3D%22offset%22%2F%3E%3C%2FmxGeometry%3E%3C%2FmxCell%3E%3C%2Froot%3E%3C%2FmxGraphModel%3</span></div></div></div></foreignObject><text x=\"649\" y=\"292\" fill=\"#000000\" font-family=\"Courier New\" font-size=\"18px\" text-anchor=\"middle\">%3CmxGraphModel%3E%3Croot%3E%3CmxCell%20id%3D%220%22%2F%3E%3CmxCell%20id%3D%221%22%20parent%3D%220%22%2F%3E%3CmxCell%20id%3D%222%22%20value%3D%22%26lt%3Bfont%20face%3D%26quot%3BGeorgia%26quot%3B%26gt%3Bt%26lt%3B%2Ffont%26gt%3B%22%20style%3D%22edgeLabel%3Bhtml%3D1%3Balign%3Dcenter%3BverticalAlign%3Dmiddle%3Bresizable%3D0%3Bpoints%3D%5B%5D%3BfontSize%3D18%3BfontFamily%3DCourier%20New%3BfontStyle%3D2%22%20vertex%3D%221%22%20connectable%3D%220%22%20parent%3D%221%22%3E%3CmxGeometry%20x%3D%22440%22%20y%3D%22340%22%20as%3D%22geometry%22%3E%3CmxPoint%20x%3D%22-40%22%20y%3D%2217%22%20as%3D%22offset%22%2F%3E%3C%2FmxGeometry%3E%3C%2FmxCell%3E%3C%2Froot%3E%3C%2FmxGraphModel%3</text></switch></g><path d=\"M 407 270 L 640.63 270\" fill=\"none\" stroke=\"#000000\" stroke-miterlimit=\"10\" pointer-events=\"stroke\"/><path d=\"M 645.88 270 L 638.88 273.5 L 640.63 270 L 638.88 266.5 Z\" fill=\"#000000\" stroke=\"#000000\" stroke-miterlimit=\"10\" pointer-events=\"all\"/><g transform=\"translate(-0.5 -0.5)\"><switch><foreignObject style=\"overflow: visible; text-align: left;\" pointer-events=\"none\" width=\"100%\" height=\"100%\" requiredFeatures=\"http://www.w3.org/TR/SVG11/feature#Extensibility\"><div xmlns=\"http://www.w3.org/1999/xhtml\" style=\"display: flex; align-items: unsafe center; justify-content: unsafe center; width: 1px; height: 1px; padding-top: 281px; margin-left: 528px;\"><div style=\"box-sizing: border-box; font-size: 0; text-align: center; \"><div style=\"display: inline-block; font-size: 18px; font-family: Georgia; color: #000000; line-height: 1.2; pointer-events: all; background-color: #ffffff; white-space: nowrap; \"><i>t</i></div></div></div></foreignObject><text x=\"528\" y=\"286\" fill=\"#000000\" font-family=\"Georgia\" font-size=\"18px\" text-anchor=\"middle\">t</text></switch></g></g><switch><g requiredFeatures=\"http://www.w3.org/TR/SVG11/feature#Extensibility\"/><a transform=\"translate(0,-5)\" xlink:href=\"https://desk.draw.io/support/solutions/articles/16000042487\" target=\"_blank\"><text text-anchor=\"middle\" font-size=\"10px\" x=\"50%\" y=\"100%\">Viewer does not support full SVG 1.1</text></a></switch></svg>"
      ],
      "execution_count": 16,
      "outputs": [
        {
          "output_type": "display_data",
          "data": {
            "text/plain": [
              "<IPython.core.display.SVG object>"
            ],
            "image/svg+xml": "<svg content=\"&lt;mxfile host=&quot;www.draw.io&quot; modified=&quot;2020-05-25T13:00:18.574Z&quot; agent=&quot;5.0 (Macintosh; Intel Mac OS X 10_15_4) AppleWebKit/537.36 (KHTML, like Gecko) Chrome/83.0.4103.61 Safari/537.36&quot; etag=&quot;XBtK7j16J_kHAdrVxd7F&quot; version=&quot;13.1.3&quot; type=&quot;google&quot;&gt;&lt;diagram id=&quot;IQ7CvnFe63TmqmIrzkI5&quot; name=&quot;Page-1&quot;&gt;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&lt;/diagram&gt;&lt;/mxfile&gt;\" onclick=\"(function(svg){var src=window.event.target||window.event.srcElement;while (src!=null&amp;&amp;src.nodeName.toLowerCase()!='a'){src=src.parentNode;}if(src==null){if(svg.wnd!=null&amp;&amp;!svg.wnd.closed){svg.wnd.focus();}else{var r=function(evt){if(evt.data=='ready'&amp;&amp;evt.source==svg.wnd){svg.wnd.postMessage(decodeURIComponent(svg.getAttribute('content')),'*');window.removeEventListener('message',r);}};window.addEventListener('message',r);svg.wnd=window.open('https://www.draw.io/?client=1&amp;lightbox=1&amp;edit=_blank');}}})(this);\" style=\"cursor:pointer;max-width:100%;max-height:393px;\" version=\"1.1\" viewBox=\"-0.5 -0.5 770 393\" width=\"770px\" xmlns=\"http://www.w3.org/2000/svg\" xmlns:xlink=\"http://www.w3.org/1999/xlink\"><defs/><g><path d=\"M 501.34 38.68 L 672.66 210 L 501.34 381.32 Z\" fill=\"#f8cecc\" pointer-events=\"all\" stroke=\"#b85450\" stroke-miterlimit=\"10\" transform=\"translate(587,0)scale(-1,1)translate(-587,0)rotate(-225,587,210)\"/><rect fill=\"#f8cecc\" height=\"120\" pointer-events=\"all\" stroke=\"#b85450\" width=\"80\" x=\"127\" y=\"150\"/><g transform=\"translate(-0.5 -0.5)\"><switch><foreignObject height=\"100%\" pointer-events=\"none\" requiredFeatures=\"http://www.w3.org/TR/SVG11/feature#Extensibility\" style=\"overflow: visible; text-align: left;\" width=\"100%\"><div style=\"display: flex; align-items: unsafe center; justify-content: unsafe center; width: 78px; height: 1px; padding-top: 210px; margin-left: 128px;\" xmlns=\"http://www.w3.org/1999/xhtml\"><div style=\"box-sizing: border-box; font-size: 0; text-align: center; \"><div style=\"display: inline-block; font-size: 18px; font-family: Courier New; color: #000000; line-height: 1.2; pointer-events: all; white-space: normal; word-wrap: normal; \"><font face=\"Georgia\"><i>v</i><sub>2</sub><span style=\"font-style: italic ; font-size: 15px\">Δt</span></font></div></div></div></foreignObject><text fill=\"#000000\" font-family=\"Courier New\" font-size=\"18px\" text-anchor=\"middle\" x=\"167\" y=\"215\">v2Δt</text></switch></g><rect fill=\"#f8cecc\" height=\"200\" pointer-events=\"all\" stroke=\"#b85450\" width=\"80\" x=\"207\" y=\"70\"/><g transform=\"translate(-0.5 -0.5)\"><switch><foreignObject height=\"100%\" pointer-events=\"none\" requiredFeatures=\"http://www.w3.org/TR/SVG11/feature#Extensibility\" style=\"overflow: visible; text-align: left;\" width=\"100%\"><div style=\"display: flex; align-items: unsafe center; justify-content: unsafe center; width: 78px; height: 1px; padding-top: 170px; margin-left: 208px;\" xmlns=\"http://www.w3.org/1999/xhtml\"><div style=\"box-sizing: border-box; font-size: 0; text-align: center; \"><div style=\"display: inline-block; font-size: 18px; font-family: Courier New; color: #000000; line-height: 1.2; pointer-events: all; white-space: normal; word-wrap: normal; \"><font face=\"Georgia\"><i>v</i><sub>3</sub><i>Δt</i></font></div></div></div></foreignObject><text fill=\"#000000\" font-family=\"Courier New\" font-size=\"18px\" text-anchor=\"middle\" x=\"247\" y=\"175\">v3Δt</text></switch></g><rect fill=\"#f8cecc\" height=\"40\" pointer-events=\"all\" stroke=\"#b85450\" width=\"80\" x=\"47\" y=\"230\"/><g transform=\"translate(-0.5 -0.5)\"><switch><foreignObject height=\"100%\" pointer-events=\"none\" requiredFeatures=\"http://www.w3.org/TR/SVG11/feature#Extensibility\" style=\"overflow: visible; text-align: left;\" width=\"100%\"><div style=\"display: flex; align-items: unsafe center; justify-content: unsafe center; width: 78px; height: 1px; padding-top: 250px; margin-left: 48px;\" xmlns=\"http://www.w3.org/1999/xhtml\"><div style=\"box-sizing: border-box; font-size: 0; text-align: center; \"><div style=\"display: inline-block; font-size: 18px; font-family: Courier New; color: #000000; line-height: 1.2; pointer-events: all; white-space: normal; word-wrap: normal; \"><font face=\"Georgia\"><i>v</i><sub>1</sub><i>Δt</i></font></div></div></div></foreignObject><text fill=\"#000000\" font-family=\"Courier New\" font-size=\"18px\" text-anchor=\"middle\" x=\"87\" y=\"255\">v1Δt</text></switch></g><path d=\"M 7 270 L 320.63 270\" fill=\"none\" pointer-events=\"stroke\" stroke=\"#000000\" stroke-miterlimit=\"10\"/><path d=\"M 325.88 270 L 318.88 273.5 L 320.63 270 L 318.88 266.5 Z\" fill=\"#000000\" pointer-events=\"all\" stroke=\"#000000\" stroke-miterlimit=\"10\"/><path d=\"M 47 310 L 47 26.37\" fill=\"none\" pointer-events=\"stroke\" stroke=\"#000000\" stroke-miterlimit=\"10\"/><path d=\"M 47 21.12 L 50.5 28.12 L 47 26.37 L 43.5 28.12 Z\" fill=\"#000000\" pointer-events=\"all\" stroke=\"#000000\" stroke-miterlimit=\"10\"/><g transform=\"translate(-0.5 -0.5)\"><switch><foreignObject height=\"100%\" pointer-events=\"none\" requiredFeatures=\"http://www.w3.org/TR/SVG11/feature#Extensibility\" style=\"overflow: visible; text-align: left;\" width=\"100%\"><div style=\"display: flex; align-items: unsafe center; justify-content: unsafe center; width: 1px; height: 1px; padding-top: 11px; margin-left: 48px;\" xmlns=\"http://www.w3.org/1999/xhtml\"><div style=\"box-sizing: border-box; font-size: 0; text-align: center; \"><div style=\"display: inline-block; font-size: 18px; font-family: Georgia; color: #000000; line-height: 1.2; pointer-events: all; background-color: #ffffff; white-space: nowrap; \"><i>v</i></div></div></div></foreignObject><text fill=\"#000000\" font-family=\"Georgia\" font-size=\"18px\" text-anchor=\"middle\" x=\"48\" y=\"16\">v</text></switch></g><path d=\"M 47 270 L 287 30\" fill=\"none\" pointer-events=\"stroke\" stroke=\"#000000\" stroke-miterlimit=\"10\" stroke-width=\"2\"/><path d=\"M 127 270 L 127 190\" fill=\"none\" pointer-events=\"stroke\" stroke=\"#000000\" stroke-dasharray=\"3 3\" stroke-miterlimit=\"10\"/><path d=\"M 207 270 L 207 110\" fill=\"none\" pointer-events=\"stroke\" stroke=\"#000000\" stroke-dasharray=\"3 3\" stroke-miterlimit=\"10\"/><path d=\"M 53.37 270 L 120.63 270\" fill=\"none\" pointer-events=\"stroke\" stroke=\"#000000\" stroke-miterlimit=\"10\"/><path d=\"M 48.12 270 L 55.12 266.5 L 53.37 270 L 55.12 273.5 Z\" fill=\"#000000\" pointer-events=\"all\" stroke=\"#000000\" stroke-miterlimit=\"10\"/><path d=\"M 125.88 270 L 118.88 273.5 L 120.63 270 L 118.88 266.5 Z\" fill=\"#000000\" pointer-events=\"all\" stroke=\"#000000\" stroke-miterlimit=\"10\"/><g transform=\"translate(-0.5 -0.5)\"><switch><foreignObject height=\"100%\" pointer-events=\"none\" requiredFeatures=\"http://www.w3.org/TR/SVG11/feature#Extensibility\" style=\"overflow: visible; text-align: left;\" width=\"100%\"><div style=\"display: flex; align-items: unsafe center; justify-content: unsafe center; width: 1px; height: 1px; padding-top: 290px; margin-left: 87px;\" xmlns=\"http://www.w3.org/1999/xhtml\"><div style=\"box-sizing: border-box; font-size: 0; text-align: center; \"><div style=\"display: inline-block; font-size: 18px; font-family: Courier New; color: #000000; line-height: 1.2; pointer-events: all; background-color: #ffffff; white-space: nowrap; \"><font face=\"Georgia\">Δ<i>t</i></font></div></div></div></foreignObject><text fill=\"#000000\" font-family=\"Courier New\" font-size=\"18px\" text-anchor=\"middle\" x=\"87\" y=\"295\">Δt</text></switch></g><path d=\"M 133.37 270 L 200.63 270\" fill=\"none\" pointer-events=\"stroke\" stroke=\"#000000\" stroke-miterlimit=\"10\"/><path d=\"M 128.12 270 L 135.12 266.5 L 133.37 270 L 135.12 273.5 Z\" fill=\"#000000\" pointer-events=\"all\" stroke=\"#000000\" stroke-miterlimit=\"10\"/><path d=\"M 205.88 270 L 198.88 273.5 L 200.63 270 L 198.88 266.5 Z\" fill=\"#000000\" pointer-events=\"all\" stroke=\"#000000\" stroke-miterlimit=\"10\"/><g transform=\"translate(-0.5 -0.5)\"><switch><foreignObject height=\"100%\" pointer-events=\"none\" requiredFeatures=\"http://www.w3.org/TR/SVG11/feature#Extensibility\" style=\"overflow: visible; text-align: left;\" width=\"100%\"><div style=\"display: flex; align-items: unsafe center; justify-content: unsafe center; width: 1px; height: 1px; padding-top: 290px; margin-left: 167px;\" xmlns=\"http://www.w3.org/1999/xhtml\"><div style=\"box-sizing: border-box; font-size: 0; text-align: center; \"><div style=\"display: inline-block; font-size: 18px; font-family: Courier New; color: #000000; line-height: 1.2; pointer-events: all; background-color: #ffffff; white-space: nowrap; \"><font face=\"Georgia\">Δ<i>t</i></font></div></div></div></foreignObject><text fill=\"#000000\" font-family=\"Courier New\" font-size=\"18px\" text-anchor=\"middle\" x=\"167\" y=\"295\">Δt</text></switch></g><path d=\"M 213.37 270 L 280.63 270\" fill=\"none\" pointer-events=\"stroke\" stroke=\"#000000\" stroke-miterlimit=\"10\"/><path d=\"M 208.12 270 L 215.12 266.5 L 213.37 270 L 215.12 273.5 Z\" fill=\"#000000\" pointer-events=\"all\" stroke=\"#000000\" stroke-miterlimit=\"10\"/><path d=\"M 285.88 270 L 278.88 273.5 L 280.63 270 L 278.88 266.5 Z\" fill=\"#000000\" pointer-events=\"all\" stroke=\"#000000\" stroke-miterlimit=\"10\"/><g transform=\"translate(-0.5 -0.5)\"><switch><foreignObject height=\"100%\" pointer-events=\"none\" requiredFeatures=\"http://www.w3.org/TR/SVG11/feature#Extensibility\" style=\"overflow: visible; text-align: left;\" width=\"100%\"><div style=\"display: flex; align-items: unsafe center; justify-content: unsafe center; width: 1px; height: 1px; padding-top: 290px; margin-left: 247px;\" xmlns=\"http://www.w3.org/1999/xhtml\"><div style=\"box-sizing: border-box; font-size: 0; text-align: center; \"><div style=\"display: inline-block; font-size: 18px; font-family: Courier New; color: #000000; line-height: 1.2; pointer-events: all; background-color: #ffffff; white-space: nowrap; \"><font face=\"Georgia\">Δ<i>t</i></font></div></div></div></foreignObject><text fill=\"#000000\" font-family=\"Courier New\" font-size=\"18px\" text-anchor=\"middle\" x=\"247\" y=\"295\">Δt</text></switch></g><path d=\"M 227 160 L 247 160\" fill=\"none\" pointer-events=\"stroke\" stroke=\"#000000\" stroke-miterlimit=\"10\" stroke-width=\"2\"/><path d=\"M 147 203 L 167 203\" fill=\"none\" pointer-events=\"stroke\" stroke=\"#000000\" stroke-miterlimit=\"10\" stroke-width=\"2\"/><path d=\"M 68 243 L 88 243\" fill=\"none\" pointer-events=\"stroke\" stroke=\"#000000\" stroke-miterlimit=\"10\" stroke-width=\"2\"/><ellipse cx=\"128\" cy=\"190\" fill=\"none\" pointer-events=\"all\" rx=\"5\" ry=\"5\" stroke=\"#000000\"/><ellipse cx=\"207\" cy=\"110\" fill=\"none\" pointer-events=\"all\" rx=\"5\" ry=\"5\" stroke=\"#000000\"/><ellipse cx=\"287\" cy=\"30\" fill=\"none\" pointer-events=\"all\" rx=\"5\" ry=\"5\" stroke=\"#000000\"/><path d=\"M 287 263.63 L 287 36.37\" fill=\"none\" pointer-events=\"stroke\" stroke=\"#000000\" stroke-miterlimit=\"10\"/><path d=\"M 287 268.88 L 283.5 261.88 L 287 263.63 L 290.5 261.88 Z\" fill=\"#000000\" pointer-events=\"all\" stroke=\"#000000\" stroke-miterlimit=\"10\"/><path d=\"M 287 31.12 L 290.5 38.12 L 287 36.37 L 283.5 38.12 Z\" fill=\"#000000\" pointer-events=\"all\" stroke=\"#000000\" stroke-miterlimit=\"10\"/><g transform=\"translate(-0.5 -0.5)\"><switch><foreignObject height=\"100%\" pointer-events=\"none\" requiredFeatures=\"http://www.w3.org/TR/SVG11/feature#Extensibility\" style=\"overflow: visible; text-align: left;\" width=\"100%\"><div style=\"display: flex; align-items: unsafe center; justify-content: unsafe center; width: 1px; height: 1px; padding-top: 159px; margin-left: 298px;\" xmlns=\"http://www.w3.org/1999/xhtml\"><div style=\"box-sizing: border-box; font-size: 0; text-align: center; \"><div style=\"display: inline-block; font-size: 18px; font-family: Courier New; color: #000000; line-height: 1.2; pointer-events: all; background-color: #ffffff; white-space: nowrap; \"><font face=\"Georgia\"><i>at</i></font></div></div></div></foreignObject><text fill=\"#000000\" font-family=\"Courier New\" font-size=\"18px\" text-anchor=\"middle\" x=\"298\" y=\"164\">at</text></switch></g><ellipse cx=\"47\" cy=\"270\" fill=\"none\" pointer-events=\"all\" rx=\"5\" ry=\"5\" stroke=\"#000000\"/><path d=\"M 287 310 L 287 270\" fill=\"none\" pointer-events=\"stroke\" stroke=\"#000000\" stroke-dasharray=\"3 3\" stroke-miterlimit=\"10\"/><g transform=\"translate(-0.5 -0.5)\"><switch><foreignObject height=\"100%\" pointer-events=\"none\" requiredFeatures=\"http://www.w3.org/TR/SVG11/feature#Extensibility\" style=\"overflow: visible; text-align: left;\" width=\"100%\"><div style=\"display: flex; align-items: unsafe center; justify-content: unsafe center; width: 1px; height: 1px; padding-top: 290px; margin-left: 287px;\" xmlns=\"http://www.w3.org/1999/xhtml\"><div style=\"box-sizing: border-box; font-size: 0; text-align: center; \"><div style=\"display: inline-block; font-size: 18px; font-family: Courier New; color: #000000; line-height: 1.2; pointer-events: all; background-color: #ffffff; white-space: nowrap; \"><span style=\"color: rgba(0 , 0 , 0 , 0) ; font-family: monospace ; font-size: 0px ; background-color: rgb(248 , 249 , 250)\">%3CmxGraphModel%3E%3Croot%3E%3CmxCell%20id%3D%220%22%2F%3E%3CmxCell%20id%3D%221%22%20parent%3D%220%22%2F%3E%3CmxCell%20id%3D%222%22%20value%3D%22%26lt%3Bfont%20face%3D%26quot%3BGeorgia%26quot%3B%26gt%3Bt%26lt%3B%2Ffont%26gt%3B%22%20style%3D%22edgeLabel%3Bhtml%3D1%3Balign%3Dcenter%3BverticalAlign%3Dmiddle%3Bresizable%3D0%3Bpoints%3D%5B%5D%3BfontSize%3D18%3BfontFamily%3DCourier%20New%3BfontStyle%3D2%22%20vertex%3D%221%22%20connectable%3D%220%22%20parent%3D%221%22%3E%3CmxGeometry%20x%3D%22440%22%20y%3D%22340%22%20as%3D%22geometry%22%3E%3CmxPoint%20x%3D%22-40%22%20y%3D%2217%22%20as%3D%22offset%22%2F%3E%3C%2FmxGeometry%3E%3C%2FmxCell%3E%3C%2Froot%3E%3C%2FmxGraphModel%3Et</span></div></div></div></foreignObject><text fill=\"#000000\" font-family=\"Courier New\" font-size=\"18px\" text-anchor=\"middle\" x=\"287\" y=\"295\">%3CmxG...</text></switch></g><g transform=\"translate(-0.5 -0.5)\"><switch><foreignObject height=\"100%\" pointer-events=\"none\" requiredFeatures=\"http://www.w3.org/TR/SVG11/feature#Extensibility\" style=\"overflow: visible; text-align: left;\" width=\"100%\"><div style=\"display: flex; align-items: unsafe center; justify-content: unsafe center; width: 1px; height: 1px; padding-top: 287px; margin-left: 289px;\" xmlns=\"http://www.w3.org/1999/xhtml\"><div style=\"box-sizing: border-box; font-size: 0; text-align: center; \"><div style=\"display: inline-block; font-size: 18px; font-family: Courier New; color: #000000; line-height: 1.2; pointer-events: all; background-color: #ffffff; white-space: nowrap; \"><span style=\"color: rgba(0 , 0 , 0 , 0) ; font-family: monospace ; font-size: 0px ; background-color: rgb(248 , 249 , 250)\">%3CmxGraphModel%3E%3Croot%3E%3CmxCell%20id%3D%220%22%2F%3E%3CmxCell%20id%3D%221%22%20parent%3D%220%22%2F%3E%3CmxCell%20id%3D%222%22%20value%3D%22%26lt%3Bfont%20face%3D%26quot%3BGeorgia%26quot%3B%26gt%3Bt%26lt%3B%2Ffont%26gt%3B%22%20style%3D%22edgeLabel%3Bhtml%3D1%3Balign%3Dcenter%3BverticalAlign%3Dmiddle%3Bresizable%3D0%3Bpoints%3D%5B%5D%3BfontSize%3D18%3BfontFamily%3DCourier%20New%3BfontStyle%3D2%22%20vertex%3D%221%22%20connectable%3D%220%22%20parent%3D%221%22%3E%3CmxGeometry%20x%3D%22440%22%20y%3D%22340%22%20as%3D%22geometry%22%3E%3CmxPoint%20x%3D%22-40%22%20y%3D%2217%22%20as%3D%22offset%22%2F%3E%3C%2FmxGeometry%3E%3C%2FmxCell%3E%3C%2Froot%3E%3C%2FmxGraphModel%3</span></div></div></div></foreignObject><text fill=\"#000000\" font-family=\"Courier New\" font-size=\"18px\" text-anchor=\"middle\" x=\"289\" y=\"292\">%3CmxGraphModel%3E%3Croot%3E%3CmxCell%20id%3D%220%22%2F%3E%3CmxCell%20id%3D%221%22%20parent%3D%220%22%2F%3E%3CmxCell%20id%3D%222%22%20value%3D%22%26lt%3Bfont%20face%3D%26quot%3BGeorgia%26quot%3B%26gt%3Bt%26lt%3B%2Ffont%26gt%3B%22%20style%3D%22edgeLabel%3Bhtml%3D1%3Balign%3Dcenter%3BverticalAlign%3Dmiddle%3Bresizable%3D0%3Bpoints%3D%5B%5D%3BfontSize%3D18%3BfontFamily%3DCourier%20New%3BfontStyle%3D2%22%20vertex%3D%221%22%20connectable%3D%220%22%20parent%3D%221%22%3E%3CmxGeometry%20x%3D%22440%22%20y%3D%22340%22%20as%3D%22geometry%22%3E%3CmxPoint%20x%3D%22-40%22%20y%3D%2217%22%20as%3D%22offset%22%2F%3E%3C%2FmxGeometry%3E%3C%2FmxCell%3E%3C%2Froot%3E%3C%2FmxGraphModel%3</text></switch></g><path d=\"M 47 300 L 280.63 300\" fill=\"none\" pointer-events=\"stroke\" stroke=\"#000000\" stroke-miterlimit=\"10\"/><path d=\"M 285.88 300 L 278.88 303.5 L 280.63 300 L 278.88 296.5 Z\" fill=\"#000000\" pointer-events=\"all\" stroke=\"#000000\" stroke-miterlimit=\"10\"/><g transform=\"translate(-0.5 -0.5)\"><switch><foreignObject height=\"100%\" pointer-events=\"none\" requiredFeatures=\"http://www.w3.org/TR/SVG11/feature#Extensibility\" style=\"overflow: visible; text-align: left;\" width=\"100%\"><div style=\"display: flex; align-items: unsafe center; justify-content: unsafe center; width: 1px; height: 1px; padding-top: 311px; margin-left: 168px;\" xmlns=\"http://www.w3.org/1999/xhtml\"><div style=\"box-sizing: border-box; font-size: 0; text-align: center; \"><div style=\"display: inline-block; font-size: 18px; font-family: Georgia; color: #000000; line-height: 1.2; pointer-events: all; background-color: #ffffff; white-space: nowrap; \"><i>t</i></div></div></div></foreignObject><text fill=\"#000000\" font-family=\"Georgia\" font-size=\"18px\" text-anchor=\"middle\" x=\"168\" y=\"316\">t</text></switch></g><path d=\"M 367 270 L 680.63 270\" fill=\"none\" pointer-events=\"stroke\" stroke=\"#000000\" stroke-miterlimit=\"10\"/><path d=\"M 685.88 270 L 678.88 273.5 L 680.63 270 L 678.88 266.5 Z\" fill=\"#000000\" pointer-events=\"all\" stroke=\"#000000\" stroke-miterlimit=\"10\"/><path d=\"M 407 310 L 407 26.37\" fill=\"none\" pointer-events=\"stroke\" stroke=\"#000000\" stroke-miterlimit=\"10\"/><path d=\"M 407 21.12 L 410.5 28.12 L 407 26.37 L 403.5 28.12 Z\" fill=\"#000000\" pointer-events=\"all\" stroke=\"#000000\" stroke-miterlimit=\"10\"/><g transform=\"translate(-0.5 -0.5)\"><switch><foreignObject height=\"100%\" pointer-events=\"none\" requiredFeatures=\"http://www.w3.org/TR/SVG11/feature#Extensibility\" style=\"overflow: visible; text-align: left;\" width=\"100%\"><div style=\"display: flex; align-items: unsafe center; justify-content: unsafe center; width: 1px; height: 1px; padding-top: 11px; margin-left: 409px;\" xmlns=\"http://www.w3.org/1999/xhtml\"><div style=\"box-sizing: border-box; font-size: 0; text-align: center; \"><div style=\"display: inline-block; font-size: 18px; font-family: Georgia; color: #000000; line-height: 1.2; pointer-events: all; background-color: #ffffff; white-space: nowrap; \"><i>v</i></div></div></div></foreignObject><text fill=\"#000000\" font-family=\"Georgia\" font-size=\"18px\" text-anchor=\"middle\" x=\"409\" y=\"16\">v</text></switch></g><path d=\"M 407 270 L 647 30\" fill=\"none\" pointer-events=\"stroke\" stroke=\"#000000\" stroke-miterlimit=\"10\" stroke-width=\"2\"/><path d=\"M 647 270 L 647 36.37\" fill=\"none\" pointer-events=\"stroke\" stroke=\"#000000\" stroke-miterlimit=\"10\"/><path d=\"M 647 31.12 L 650.5 38.12 L 647 36.37 L 643.5 38.12 Z\" fill=\"#000000\" pointer-events=\"all\" stroke=\"#000000\" stroke-miterlimit=\"10\"/><g transform=\"translate(-0.5 -0.5)\"><switch><foreignObject height=\"100%\" pointer-events=\"none\" requiredFeatures=\"http://www.w3.org/TR/SVG11/feature#Extensibility\" style=\"overflow: visible; text-align: left;\" width=\"100%\"><div style=\"display: flex; align-items: unsafe center; justify-content: unsafe center; width: 1px; height: 1px; padding-top: 159px; margin-left: 658px;\" xmlns=\"http://www.w3.org/1999/xhtml\"><div style=\"box-sizing: border-box; font-size: 0; text-align: center; \"><div style=\"display: inline-block; font-size: 18px; font-family: Courier New; color: #000000; line-height: 1.2; pointer-events: all; background-color: #ffffff; white-space: nowrap; \"><font face=\"Georgia\"><i>at</i></font></div></div></div></foreignObject><text fill=\"#000000\" font-family=\"Courier New\" font-size=\"18px\" text-anchor=\"middle\" x=\"658\" y=\"164\">at</text></switch></g><path d=\"M 647 310 L 647 270\" fill=\"none\" pointer-events=\"stroke\" stroke=\"#000000\" stroke-dasharray=\"3 3\" stroke-miterlimit=\"10\"/><g transform=\"translate(-0.5 -0.5)\"><switch><foreignObject height=\"100%\" pointer-events=\"none\" requiredFeatures=\"http://www.w3.org/TR/SVG11/feature#Extensibility\" style=\"overflow: visible; text-align: left;\" width=\"100%\"><div style=\"display: flex; align-items: unsafe center; justify-content: unsafe center; width: 1px; height: 1px; padding-top: 290px; margin-left: 647px;\" xmlns=\"http://www.w3.org/1999/xhtml\"><div style=\"box-sizing: border-box; font-size: 0; text-align: center; \"><div style=\"display: inline-block; font-size: 18px; font-family: Courier New; color: #000000; line-height: 1.2; pointer-events: all; background-color: #ffffff; white-space: nowrap; \"><span style=\"color: rgba(0 , 0 , 0 , 0) ; font-family: monospace ; font-size: 0px ; background-color: rgb(248 , 249 , 250)\">%3CmxGraphModel%3E%3Croot%3E%3CmxCell%20id%3D%220%22%2F%3E%3CmxCell%20id%3D%221%22%20parent%3D%220%22%2F%3E%3CmxCell%20id%3D%222%22%20value%3D%22%26lt%3Bfont%20face%3D%26quot%3BGeorgia%26quot%3B%26gt%3Bt%26lt%3B%2Ffont%26gt%3B%22%20style%3D%22edgeLabel%3Bhtml%3D1%3Balign%3Dcenter%3BverticalAlign%3Dmiddle%3Bresizable%3D0%3Bpoints%3D%5B%5D%3BfontSize%3D18%3BfontFamily%3DCourier%20New%3BfontStyle%3D2%22%20vertex%3D%221%22%20connectable%3D%220%22%20parent%3D%221%22%3E%3CmxGeometry%20x%3D%22440%22%20y%3D%22340%22%20as%3D%22geometry%22%3E%3CmxPoint%20x%3D%22-40%22%20y%3D%2217%22%20as%3D%22offset%22%2F%3E%3C%2FmxGeometry%3E%3C%2FmxCell%3E%3C%2Froot%3E%3C%2FmxGraphModel%3Et</span></div></div></div></foreignObject><text fill=\"#000000\" font-family=\"Courier New\" font-size=\"18px\" text-anchor=\"middle\" x=\"647\" y=\"295\">%3CmxG...</text></switch></g><g transform=\"translate(-0.5 -0.5)\"><switch><foreignObject height=\"100%\" pointer-events=\"none\" requiredFeatures=\"http://www.w3.org/TR/SVG11/feature#Extensibility\" style=\"overflow: visible; text-align: left;\" width=\"100%\"><div style=\"display: flex; align-items: unsafe center; justify-content: unsafe center; width: 1px; height: 1px; padding-top: 287px; margin-left: 649px;\" xmlns=\"http://www.w3.org/1999/xhtml\"><div style=\"box-sizing: border-box; font-size: 0; text-align: center; \"><div style=\"display: inline-block; font-size: 18px; font-family: Courier New; color: #000000; line-height: 1.2; pointer-events: all; background-color: #ffffff; white-space: nowrap; \"><span style=\"color: rgba(0 , 0 , 0 , 0) ; font-family: monospace ; font-size: 0px ; background-color: rgb(248 , 249 , 250)\">%3CmxGraphModel%3E%3Croot%3E%3CmxCell%20id%3D%220%22%2F%3E%3CmxCell%20id%3D%221%22%20parent%3D%220%22%2F%3E%3CmxCell%20id%3D%222%22%20value%3D%22%26lt%3Bfont%20face%3D%26quot%3BGeorgia%26quot%3B%26gt%3Bt%26lt%3B%2Ffont%26gt%3B%22%20style%3D%22edgeLabel%3Bhtml%3D1%3Balign%3Dcenter%3BverticalAlign%3Dmiddle%3Bresizable%3D0%3Bpoints%3D%5B%5D%3BfontSize%3D18%3BfontFamily%3DCourier%20New%3BfontStyle%3D2%22%20vertex%3D%221%22%20connectable%3D%220%22%20parent%3D%221%22%3E%3CmxGeometry%20x%3D%22440%22%20y%3D%22340%22%20as%3D%22geometry%22%3E%3CmxPoint%20x%3D%22-40%22%20y%3D%2217%22%20as%3D%22offset%22%2F%3E%3C%2FmxGeometry%3E%3C%2FmxCell%3E%3C%2Froot%3E%3C%2FmxGraphModel%3</span></div></div></div></foreignObject><text fill=\"#000000\" font-family=\"Courier New\" font-size=\"18px\" text-anchor=\"middle\" x=\"649\" y=\"292\">%3CmxGraphModel%3E%3Croot%3E%3CmxCell%20id%3D%220%22%2F%3E%3CmxCell%20id%3D%221%22%20parent%3D%220%22%2F%3E%3CmxCell%20id%3D%222%22%20value%3D%22%26lt%3Bfont%20face%3D%26quot%3BGeorgia%26quot%3B%26gt%3Bt%26lt%3B%2Ffont%26gt%3B%22%20style%3D%22edgeLabel%3Bhtml%3D1%3Balign%3Dcenter%3BverticalAlign%3Dmiddle%3Bresizable%3D0%3Bpoints%3D%5B%5D%3BfontSize%3D18%3BfontFamily%3DCourier%20New%3BfontStyle%3D2%22%20vertex%3D%221%22%20connectable%3D%220%22%20parent%3D%221%22%3E%3CmxGeometry%20x%3D%22440%22%20y%3D%22340%22%20as%3D%22geometry%22%3E%3CmxPoint%20x%3D%22-40%22%20y%3D%2217%22%20as%3D%22offset%22%2F%3E%3C%2FmxGeometry%3E%3C%2FmxCell%3E%3C%2Froot%3E%3C%2FmxGraphModel%3</text></switch></g><path d=\"M 407 270 L 640.63 270\" fill=\"none\" pointer-events=\"stroke\" stroke=\"#000000\" stroke-miterlimit=\"10\"/><path d=\"M 645.88 270 L 638.88 273.5 L 640.63 270 L 638.88 266.5 Z\" fill=\"#000000\" pointer-events=\"all\" stroke=\"#000000\" stroke-miterlimit=\"10\"/><g transform=\"translate(-0.5 -0.5)\"><switch><foreignObject height=\"100%\" pointer-events=\"none\" requiredFeatures=\"http://www.w3.org/TR/SVG11/feature#Extensibility\" style=\"overflow: visible; text-align: left;\" width=\"100%\"><div style=\"display: flex; align-items: unsafe center; justify-content: unsafe center; width: 1px; height: 1px; padding-top: 281px; margin-left: 528px;\" xmlns=\"http://www.w3.org/1999/xhtml\"><div style=\"box-sizing: border-box; font-size: 0; text-align: center; \"><div style=\"display: inline-block; font-size: 18px; font-family: Georgia; color: #000000; line-height: 1.2; pointer-events: all; background-color: #ffffff; white-space: nowrap; \"><i>t</i></div></div></div></foreignObject><text fill=\"#000000\" font-family=\"Georgia\" font-size=\"18px\" text-anchor=\"middle\" x=\"528\" y=\"286\">t</text></switch></g></g><switch><g requiredFeatures=\"http://www.w3.org/TR/SVG11/feature#Extensibility\"/><a target=\"_blank\" transform=\"translate(0,-5)\" xlink:href=\"https://desk.draw.io/support/solutions/articles/16000042487\"><text font-size=\"10px\" text-anchor=\"middle\" x=\"50%\" y=\"100%\">Viewer does not support full SVG 1.1</text></a></switch></svg>"
          },
          "metadata": {
            "tags": []
          }
        }
      ]
    },
    {
      "cell_type": "markdown",
      "metadata": {
        "id": "jP1h25SB35od",
        "colab_type": "text"
      },
      "source": [
        "上の図の左側をみながら次のように考えて下さい.\n",
        "1. 時間を等間隔で分割する\n",
        "2. 時間分割の両端の平均速度 $\\bar{v}$ を使って  \n",
        "変位 $\\Delta x = \\bar{v} \\Delta t$ を求める.\n",
        "3. 求めた $\\Delta x$ を全て加える.\n",
        "\n",
        "この考え方で $\\Delta t$ を小さくすれば 右の図のようになります.  \n",
        "つまり「時間軸と $v-t$ グラフで囲まれた(三角形の)面積が 変位 $s$」ということができます.\n",
        "\n",
        "---\n",
        "初速度 $v_0$ がゼロ(初め静止していた)の物体の等加速度直線運動は\n",
        "\n",
        "\\begin{align*}\n",
        "a &: \b\\text{一定}&\\\\\n",
        "v &= at&\\\\\n",
        "s &= \\dfrac{1}{2} v \\cdot t = \\dfrac{1}{2} a t^2\n",
        "\\end{align*}\n"
      ]
    },
    {
      "cell_type": "code",
      "metadata": {
        "colab_type": "code",
        "cellView": "form",
        "outputId": "a0d7e1fa-eae9-47aa-d449-8b81f11449a5",
        "id": "Ns93yOEgwnom",
        "colab": {
          "base_uri": "https://localhost:8080/",
          "height": 348,
          "referenced_widgets": [
            "c30b859ca80849968569f6e871d0d31f",
            "fb28a395d226495ca82f57041d754cd7",
            "cf6862ef7c9a4da6a7f56539c145a8ad",
            "409bfb826a384965af64a03758b98dc8",
            "4b1d52c26fd048fea318fb30ae9e46db",
            "6d41473dc89346cb842dfb1709115459",
            "3888825ba3bb44ada82cbc414f472710"
          ]
        }
      },
      "source": [
        "#@title 等加速度直線運動における a-t, v-t, s-t の関係\n",
        "%matplotlib inline\n",
        "import matplotlib.pyplot as plt\n",
        "from ipywidgets import interact\n",
        "import numpy as np\n",
        "plt.style.use('ggplot')\n",
        "\n",
        "(a,T)=(5.0,10)\n",
        "\n",
        "plt.figure()\n",
        "t = np.linspace(0, T)\n",
        "a, v = [], []\n",
        "\n",
        "@interact(a=(-7,+7))\n",
        "def f(a):\n",
        "    fig = plt.figure(figsize=(10,4))\n",
        "\n",
        "    # グラフ間の幅を調整\n",
        "    plt.subplots_adjust(wspace=0.5, hspace=0.5)\n",
        "\n",
        "    at = fig.add_subplot(1, 3, 1)\n",
        "    at.plot(t , a + 0*t )\n",
        "    at.plot(t , 0*t )  \n",
        "    at.set_xlabel('t [s]') \n",
        "    at.set_ylabel('a [m/s$^2$]')\n",
        "    at.set_title('a-t')\n",
        "    at.set_xlim([0, 8])\n",
        "    at.set_ylim([-10, 10])   \n",
        "\n",
        "    vt = fig.add_subplot(1, 3, 2)\n",
        "    vt.plot(t , a*t )\n",
        "    vt.plot(t , 0*t )  \n",
        "    vt.set_xlabel('t [s]')\n",
        "    vt.set_ylabel('v [m/s]')\n",
        "    vt.set_title('v-t')\n",
        "    vt.set_xlim([0, 8])\n",
        "    vt.set_ylim([-25, 25])\n",
        "\n",
        "    st = fig.add_subplot(1, 3, 3)\n",
        "    st.plot(t , 1/2*a*t**2 )\n",
        "    st.plot(t , 0*t )  \n",
        "    st.set_xlabel('t [s]')\n",
        "    st.set_ylabel('s [m]')\n",
        "    st.set_title('s-t')\n",
        "    st.set_xlim([0, 8])\n",
        "    st.set_ylim([-40, 40])     \n",
        "    \n",
        "    plt.show()"
      ],
      "execution_count": 0,
      "outputs": [
        {
          "output_type": "display_data",
          "data": {
            "text/plain": [
              "<Figure size 432x288 with 0 Axes>"
            ]
          },
          "metadata": {
            "tags": []
          }
        },
        {
          "output_type": "display_data",
          "data": {
            "application/vnd.jupyter.widget-view+json": {
              "model_id": "c30b859ca80849968569f6e871d0d31f",
              "version_minor": 0,
              "version_major": 2
            },
            "text/plain": [
              "interactive(children=(IntSlider(value=0, description='a', max=7, min=-7), Output()), _dom_classes=('widget-int…"
            ]
          },
          "metadata": {
            "tags": []
          }
        }
      ]
    },
    {
      "cell_type": "markdown",
      "metadata": {
        "id": "muhn2dRN9sYA",
        "colab_type": "text"
      },
      "source": [
        "## 初速度がゼロでないときの等加速度直線運動"
      ]
    },
    {
      "cell_type": "markdown",
      "metadata": {
        "id": "pGNFIfUX9_Xl",
        "colab_type": "text"
      },
      "source": [
        "加速度の定義から入ると簡単ですので以下ではその方法を紹介します.\n",
        "\n",
        "+ 等加速度直線運動なので, 加速度はどこで測定しても同じ\n",
        "+ $t=0\\ {\\rm s}$ での速度を初速度$v_0$, $t>0$ での速度を $v$ とする\n",
        "\n",
        "\\begin{align*}\n",
        " a &= \\dfrac{\\Delta v}{\\Delta t} \n",
        "   = \\dfrac{v_2 - v_1 }{t_2 - t_1} &\\\\\n",
        "  a&= \\dfrac{v - v_0 }{t - 0} &\\\\\n",
        "  at & = v - v_0&\\\\\n",
        "\\end{align*}\n",
        "\n",
        "> $(1.8) \\qquad v = v_0 + a\\cdot t$\n",
        "\n",
        "---\n",
        "\n",
        "初速度がゼロでないときの等加速度直線運動は\n",
        "\n",
        "\\begin{align*}\n",
        "a &: \b\\text{一定}&\\\\\n",
        "v &= v_0 + at&\\\\\n",
        "s &= \\dfrac{1}{2} \\left( v_0+ v \\right)\\cdot t \n",
        "= v_0t + \\dfrac{1}{2} a t^2\n",
        "\\end{align*}\n",
        "\n",
        "最後の変位 $s$ の式の第一項は **等速直線運動** の変位,  \n",
        "第二項は $v_0=0$ とした等加速度直線運動の変位を表しています.\n"
      ]
    }
  ]
}