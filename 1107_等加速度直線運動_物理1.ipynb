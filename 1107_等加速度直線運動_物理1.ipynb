{
  "nbformat": 4,
  "nbformat_minor": 0,
  "metadata": {
    "colab": {
      "name": "1107_等加速度直線運動_物理1",
      "provenance": [],
      "authorship_tag": "ABX9TyMn4l4Uz1iOPjGlyWxOo39f",
      "include_colab_link": true
    },
    "kernelspec": {
      "name": "python3",
      "display_name": "Python 3"
    }
  },
  "cells": [
    {
      "cell_type": "markdown",
      "metadata": {
        "id": "view-in-github",
        "colab_type": "text"
      },
      "source": [
        "<a href=\"https://colab.research.google.com/github/kzhkAKT/Physics1/blob/draft/1107_%E7%AD%89%E5%8A%A0%E9%80%9F%E5%BA%A6%E7%9B%B4%E7%B7%9A%E9%81%8B%E5%8B%95_%E7%89%A9%E7%90%861.ipynb\" target=\"_parent\"><img src=\"https://colab.research.google.com/assets/colab-badge.svg\" alt=\"Open In Colab\"/></a>"
      ]
    },
    {
      "cell_type": "markdown",
      "metadata": {
        "id": "YlZ1etaUE2m0"
      },
      "source": [
        "# 運動の表し方\n"
      ]
    },
    {
      "cell_type": "markdown",
      "metadata": {
        "id": "fYDHo38R8zF2"
      },
      "source": [
        "## 復習\n",
        "$\\require{cancel}$"
      ]
    },
    {
      "cell_type": "markdown",
      "metadata": {
        "id": "Qo4UsQD95vUV"
      },
      "source": [
        "### 速度 $v$ の定義\n",
        "\n",
        "\\begin{align*}\n",
        "v &= \\dfrac{\\Delta x}{\\Delta t} = \\dfrac{x_2 - x_1 }{t_2 - t_1}&\n",
        "\\end{align*}\n",
        "\n",
        "この式から\n",
        "> $x-t$グラフ, つまり変位($\\Delta x$)と時間変化($\\Delta t$)比が **速度** になる  \n",
        "\n",
        "といえました. では初めの形を両辺に $\\Delta t$ を掛けて,\n",
        "次のように変形してみましょう.\n",
        "\\begin{align*}\n",
        "v \\cdot \\Delta t &= \\dfrac{\\Delta x}{\\cancel{\\Delta t}} \\cancel{\\Delta  t}&\\\\\n",
        "\\Delta x &=v \\cdot \\Delta t\n",
        "\\end{align*}\n",
        "となりました. この式から\n",
        "\n",
        "> $v-t$ グラフ, つまり 速度($v$) と 時間変化の積が, 変位($\\Delta x$) になる\n",
        "\n",
        "ということができます. これは前回教科書に線を引いた(1.1.6)ことを表しています.\n",
        "\n",
        "\n",
        "\n"
      ]
    },
    {
      "cell_type": "markdown",
      "metadata": {
        "id": "oTNYUmPs84XG"
      },
      "source": [
        "### 加速度 $a$ の定義\n",
        "\n",
        "\\begin{align*}\n",
        "a &= \\dfrac{\\Delta v}{\\Delta t} = \\dfrac{v_2 - v_1 }{t_2 - t_1}&\n",
        "\\end{align*}\n",
        "\n",
        "この式から\n",
        "> $v-t$グラフ, つまり速度変化($\\Delta v$)と時間変化($\\Delta t$)比が **加速度** になる  \n",
        "\n",
        "といえました. では初めの形を両辺に $\\Delta t$ を掛けて,\n",
        "次のように変形してみましょう.\n",
        "\\begin{align*}\n",
        "a \\cdot \\Delta t &= \\dfrac{\\Delta v}{\\cancel{\\Delta t}} \\cancel{\\Delta  t}&\\\\\n",
        "\\Delta v &=a \\cdot \\Delta t\n",
        "\\end{align*}\n",
        "となりました. この式から\n",
        "\n",
        "> $a-t$ グラフ, つまり 加速度($a$) と 時間変化の積が, 速度の変化($\\Delta v$) になる\n",
        "\n",
        "と言えそうです.\n",
        "\n",
        "\n",
        "---\n"
      ]
    },
    {
      "cell_type": "markdown",
      "metadata": {
        "id": "5Q1I04q6E2jj"
      },
      "source": [
        "## 等加速度直線運動\n",
        "\n",
        "> 等加速度直線運動 = 「等」+ 「加速度」+「直線」+ \u0005運動\n",
        "と分解し, それぞれの要素について\n",
        "\n",
        "> 「等」+ 「加速度」: 一定の **加速度**  \n",
        "> 直線: (ある点から出発し)直線上を進む\n",
        "\n",
        "### 復習: 物体の加速度 $a$ の定義\n",
        "$$\n",
        "a = \\dfrac{\\Delta v}{\\Delta t}\n",
        "= \\dfrac{v_2 - v_1 }{t_2 - t_1}\n",
        "$$\n"
      ]
    },
    {
      "cell_type": "markdown",
      "metadata": {
        "id": "Lg6gkzKoNBXl"
      },
      "source": [
        "#### 初め静止していた等加速度直線運動の速度 $v$\n",
        "\n",
        "いま$a$ を一定, さらに\n",
        "* 測定開始時点を $t_1=0$ でこのときの速度を $v_1=0$\n",
        "* 測定開始時点 $t_1=0$ から経過した時間を $t_2=t$   \n",
        "* 時刻 $t$ での速度を $v$\n",
        "\n",
        "と置き直すと\n",
        "\n",
        "\n",
        "$$\n",
        "\\require{cancel}\n",
        "\\begin{align*}\n",
        "a &= \\dfrac{\\cancelto{v}{v_2} - \\cancelto{0}{v_1}}\n",
        "{\\cancelto{t}{t_2} - \\cancelto{0}{t_1}}&\\\\\n",
        "&= \\dfrac{v}{t}\\\\\n",
        "v&=a\\cdot t&\n",
        "\\end{align*}\n",
        "$$\n",
        "これより, 初め静止していた物体が, 等加速度で直線上を運動する $t$ 秒後の速度は\n",
        ">> $(1.6) \\qquad v = a \\cdot t$\n",
        "\n",
        "となります."
      ]
    },
    {
      "cell_type": "markdown",
      "metadata": {
        "id": "Vjiwp7_PuryV"
      },
      "source": [
        "#### 初め静止していた等加速度直線運動の変位 $s$\n",
        "\n",
        "等加速度直線運動では, 速度は時間によって変化します.\n",
        "> $\\quad v = a \\cdot t$\n",
        "\n"
      ]
    },
    {
      "cell_type": "code",
      "source": [
        "#@title 等加速度直線運動における $a-t$ と $v-t$ の関係(ここをクリック+再生)\n",
        "%matplotlib inline\n",
        "import matplotlib.pyplot as plt\n",
        "from ipywidgets import interact\n",
        "import numpy as np\n",
        "plt.style.use('ggplot')\n",
        "\n",
        "(T)=(10) # a は interact で変化させるため、ここでは T のみ定義\n",
        "\n",
        "@interact(a=(-7,+7))\n",
        "def f(a):\n",
        "    fig = plt.figure(figsize=(6,3))\n",
        "\n",
        "    # グラフ間の幅を調整\n",
        "    plt.subplots_adjust(wspace=0.5, hspace=0.5)\n",
        "\n",
        "    t = np.linspace(0, T) # interact 内で t を定義\n",
        "\n",
        "    at = fig.add_subplot(1, 2, 1)\n",
        "    at.plot(t , a + 0*t )\n",
        "    at.plot(t , 0*t )\n",
        "    at.set_xlabel('$t$ [s]')\n",
        "    at.set_ylabel('$a$ [m/s$^2$]')\n",
        "    at.set_title('$a-t$')\n",
        "    at.set_xlim([0, 8])\n",
        "    at.set_ylim([-10, 10])\n",
        "\n",
        "    vt = fig.add_subplot(1, 2, 2)\n",
        "    vt.plot(t , a*t )\n",
        "    vt.plot(t , 0*t )\n",
        "    vt.set_xlabel('$t$ [s]')\n",
        "    vt.set_ylabel('$v$ [m/s]')\n",
        "    vt.set_title('$v-t$')\n",
        "    vt.set_xlim([0, 8])\n",
        "    vt.set_ylim([-25, 25])\n",
        "\n",
        "    plt.show()"
      ],
      "metadata": {
        "cellView": "form",
        "id": "k--uat9tHqCO"
      },
      "execution_count": null,
      "outputs": []
    },
    {
      "cell_type": "code",
      "metadata": {
        "id": "Wg1flRLTsksA",
        "cellView": "form",
        "colab": {
          "base_uri": "https://localhost:8080/",
          "height": 414
        },
        "outputId": "a06ac1b3-1e4f-4ade-fe08-bb00a542afc0"
      },
      "source": [
        "#@title v-t グラフの分割による考察\n",
        "%%svg\n",
        "<svg xmlns=\"http://www.w3.org/2000/svg\" xmlns:xlink=\"http://www.w3.org/1999/xlink\" version=\"1.1\" width=\"770px\" viewBox=\"-0.5 -0.5 770 393\" content=\"&lt;mxfile host=&quot;www.draw.io&quot; modified=&quot;2020-05-25T13:00:18.574Z&quot; agent=&quot;5.0 (Macintosh; Intel Mac OS X 10_15_4) AppleWebKit/537.36 (KHTML, like Gecko) Chrome/83.0.4103.61 Safari/537.36&quot; etag=&quot;XBtK7j16J_kHAdrVxd7F&quot; version=&quot;13.1.3&quot; type=&quot;google&quot;&gt;&lt;diagram id=&quot;IQ7CvnFe63TmqmIrzkI5&quot; name=&quot;Page-1&quot;&gt;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&lt;/diagram&gt;&lt;/mxfile&gt;\" onclick=\"(function(svg){var src=window.event.target||window.event.srcElement;while (src!=null&amp;&amp;src.nodeName.toLowerCase()!='a'){src=src.parentNode;}if(src==null){if(svg.wnd!=null&amp;&amp;!svg.wnd.closed){svg.wnd.focus();}else{var r=function(evt){if(evt.data=='ready'&amp;&amp;evt.source==svg.wnd){svg.wnd.postMessage(decodeURIComponent(svg.getAttribute('content')),'*');window.removeEventListener('message',r);}};window.addEventListener('message',r);svg.wnd=window.open('https://www.draw.io/?client=1&amp;lightbox=1&amp;edit=_blank');}}})(this);\" style=\"cursor:pointer;max-width:100%;max-height:393px;\"><defs/><g><path d=\"M 501.34 38.68 L 672.66 210 L 501.34 381.32 Z\" fill=\"#f8cecc\" stroke=\"#b85450\" stroke-miterlimit=\"10\" transform=\"translate(587,0)scale(-1,1)translate(-587,0)rotate(-225,587,210)\" pointer-events=\"all\"/><rect x=\"127\" y=\"150\" width=\"80\" height=\"120\" fill=\"#f8cecc\" stroke=\"#b85450\" pointer-events=\"all\"/><g transform=\"translate(-0.5 -0.5)\"><switch><foreignObject style=\"overflow: visible; text-align: left;\" pointer-events=\"none\" width=\"100%\" height=\"100%\" requiredFeatures=\"http://www.w3.org/TR/SVG11/feature#Extensibility\"><div xmlns=\"http://www.w3.org/1999/xhtml\" style=\"display: flex; align-items: unsafe center; justify-content: unsafe center; width: 78px; height: 1px; padding-top: 210px; margin-left: 128px;\"><div style=\"box-sizing: border-box; font-size: 0; text-align: center; \"><div style=\"display: inline-block; font-size: 18px; font-family: Courier New; color: #000000; line-height: 1.2; pointer-events: all; white-space: normal; word-wrap: normal; \"><font face=\"Georgia\"><i>v</i><sub>2</sub><span style=\"font-style: italic ; font-size: 15px\">Δt</span></font></div></div></div></foreignObject><text x=\"167\" y=\"215\" fill=\"#000000\" font-family=\"Courier New\" font-size=\"18px\" text-anchor=\"middle\">v2Δt</text></switch></g><rect x=\"207\" y=\"70\" width=\"80\" height=\"200\" fill=\"#f8cecc\" stroke=\"#b85450\" pointer-events=\"all\"/><g transform=\"translate(-0.5 -0.5)\"><switch><foreignObject style=\"overflow: visible; text-align: left;\" pointer-events=\"none\" width=\"100%\" height=\"100%\" requiredFeatures=\"http://www.w3.org/TR/SVG11/feature#Extensibility\"><div xmlns=\"http://www.w3.org/1999/xhtml\" style=\"display: flex; align-items: unsafe center; justify-content: unsafe center; width: 78px; height: 1px; padding-top: 170px; margin-left: 208px;\"><div style=\"box-sizing: border-box; font-size: 0; text-align: center; \"><div style=\"display: inline-block; font-size: 18px; font-family: Courier New; color: #000000; line-height: 1.2; pointer-events: all; white-space: normal; word-wrap: normal; \"><font face=\"Georgia\"><i>v</i><sub>3</sub><i>Δt</i></font></div></div></div></foreignObject><text x=\"247\" y=\"175\" fill=\"#000000\" font-family=\"Courier New\" font-size=\"18px\" text-anchor=\"middle\">v3Δt</text></switch></g><rect x=\"47\" y=\"230\" width=\"80\" height=\"40\" fill=\"#f8cecc\" stroke=\"#b85450\" pointer-events=\"all\"/><g transform=\"translate(-0.5 -0.5)\"><switch><foreignObject style=\"overflow: visible; text-align: left;\" pointer-events=\"none\" width=\"100%\" height=\"100%\" requiredFeatures=\"http://www.w3.org/TR/SVG11/feature#Extensibility\"><div xmlns=\"http://www.w3.org/1999/xhtml\" style=\"display: flex; align-items: unsafe center; justify-content: unsafe center; width: 78px; height: 1px; padding-top: 250px; margin-left: 48px;\"><div style=\"box-sizing: border-box; font-size: 0; text-align: center; \"><div style=\"display: inline-block; font-size: 18px; font-family: Courier New; color: #000000; line-height: 1.2; pointer-events: all; white-space: normal; word-wrap: normal; \"><font face=\"Georgia\"><i>v</i><sub>1</sub><i>Δt</i></font></div></div></div></foreignObject><text x=\"87\" y=\"255\" fill=\"#000000\" font-family=\"Courier New\" font-size=\"18px\" text-anchor=\"middle\">v1Δt</text></switch></g><path d=\"M 7 270 L 320.63 270\" fill=\"none\" stroke=\"#000000\" stroke-miterlimit=\"10\" pointer-events=\"stroke\"/><path d=\"M 325.88 270 L 318.88 273.5 L 320.63 270 L 318.88 266.5 Z\" fill=\"#000000\" stroke=\"#000000\" stroke-miterlimit=\"10\" pointer-events=\"all\"/><path d=\"M 47 310 L 47 26.37\" fill=\"none\" stroke=\"#000000\" stroke-miterlimit=\"10\" pointer-events=\"stroke\"/><path d=\"M 47 21.12 L 50.5 28.12 L 47 26.37 L 43.5 28.12 Z\" fill=\"#000000\" stroke=\"#000000\" stroke-miterlimit=\"10\" pointer-events=\"all\"/><g transform=\"translate(-0.5 -0.5)\"><switch><foreignObject style=\"overflow: visible; text-align: left;\" pointer-events=\"none\" width=\"100%\" height=\"100%\" requiredFeatures=\"http://www.w3.org/TR/SVG11/feature#Extensibility\"><div xmlns=\"http://www.w3.org/1999/xhtml\" style=\"display: flex; align-items: unsafe center; justify-content: unsafe center; width: 1px; height: 1px; padding-top: 11px; margin-left: 48px;\"><div style=\"box-sizing: border-box; font-size: 0; text-align: center; \"><div style=\"display: inline-block; font-size: 18px; font-family: Georgia; color: #000000; line-height: 1.2; pointer-events: all; background-color: #ffffff; white-space: nowrap; \"><i>v</i></div></div></div></foreignObject><text x=\"48\" y=\"16\" fill=\"#000000\" font-family=\"Georgia\" font-size=\"18px\" text-anchor=\"middle\">v</text></switch></g><path d=\"M 47 270 L 287 30\" fill=\"none\" stroke=\"#000000\" stroke-width=\"2\" stroke-miterlimit=\"10\" pointer-events=\"stroke\"/><path d=\"M 127 270 L 127 190\" fill=\"none\" stroke=\"#000000\" stroke-miterlimit=\"10\" stroke-dasharray=\"3 3\" pointer-events=\"stroke\"/><path d=\"M 207 270 L 207 110\" fill=\"none\" stroke=\"#000000\" stroke-miterlimit=\"10\" stroke-dasharray=\"3 3\" pointer-events=\"stroke\"/><path d=\"M 53.37 270 L 120.63 270\" fill=\"none\" stroke=\"#000000\" stroke-miterlimit=\"10\" pointer-events=\"stroke\"/><path d=\"M 48.12 270 L 55.12 266.5 L 53.37 270 L 55.12 273.5 Z\" fill=\"#000000\" stroke=\"#000000\" stroke-miterlimit=\"10\" pointer-events=\"all\"/><path d=\"M 125.88 270 L 118.88 273.5 L 120.63 270 L 118.88 266.5 Z\" fill=\"#000000\" stroke=\"#000000\" stroke-miterlimit=\"10\" pointer-events=\"all\"/><g transform=\"translate(-0.5 -0.5)\"><switch><foreignObject style=\"overflow: visible; text-align: left;\" pointer-events=\"none\" width=\"100%\" height=\"100%\" requiredFeatures=\"http://www.w3.org/TR/SVG11/feature#Extensibility\"><div xmlns=\"http://www.w3.org/1999/xhtml\" style=\"display: flex; align-items: unsafe center; justify-content: unsafe center; width: 1px; height: 1px; padding-top: 290px; margin-left: 87px;\"><div style=\"box-sizing: border-box; font-size: 0; text-align: center; \"><div style=\"display: inline-block; font-size: 18px; font-family: Courier New; color: #000000; line-height: 1.2; pointer-events: all; background-color: #ffffff; white-space: nowrap; \"><font face=\"Georgia\">Δ<i>t</i></font></div></div></div></foreignObject><text x=\"87\" y=\"295\" fill=\"#000000\" font-family=\"Courier New\" font-size=\"18px\" text-anchor=\"middle\">Δt</text></switch></g><path d=\"M 133.37 270 L 200.63 270\" fill=\"none\" stroke=\"#000000\" stroke-miterlimit=\"10\" pointer-events=\"stroke\"/><path d=\"M 128.12 270 L 135.12 266.5 L 133.37 270 L 135.12 273.5 Z\" fill=\"#000000\" stroke=\"#000000\" stroke-miterlimit=\"10\" pointer-events=\"all\"/><path d=\"M 205.88 270 L 198.88 273.5 L 200.63 270 L 198.88 266.5 Z\" fill=\"#000000\" stroke=\"#000000\" stroke-miterlimit=\"10\" pointer-events=\"all\"/><g transform=\"translate(-0.5 -0.5)\"><switch><foreignObject style=\"overflow: visible; text-align: left;\" pointer-events=\"none\" width=\"100%\" height=\"100%\" requiredFeatures=\"http://www.w3.org/TR/SVG11/feature#Extensibility\"><div xmlns=\"http://www.w3.org/1999/xhtml\" style=\"display: flex; align-items: unsafe center; justify-content: unsafe center; width: 1px; height: 1px; padding-top: 290px; margin-left: 167px;\"><div style=\"box-sizing: border-box; font-size: 0; text-align: center; \"><div style=\"display: inline-block; font-size: 18px; font-family: Courier New; color: #000000; line-height: 1.2; pointer-events: all; background-color: #ffffff; white-space: nowrap; \"><font face=\"Georgia\">Δ<i>t</i></font></div></div></div></foreignObject><text x=\"167\" y=\"295\" fill=\"#000000\" font-family=\"Courier New\" font-size=\"18px\" text-anchor=\"middle\">Δt</text></switch></g><path d=\"M 213.37 270 L 280.63 270\" fill=\"none\" stroke=\"#000000\" stroke-miterlimit=\"10\" pointer-events=\"stroke\"/><path d=\"M 208.12 270 L 215.12 266.5 L 213.37 270 L 215.12 273.5 Z\" fill=\"#000000\" stroke=\"#000000\" stroke-miterlimit=\"10\" pointer-events=\"all\"/><path d=\"M 285.88 270 L 278.88 273.5 L 280.63 270 L 278.88 266.5 Z\" fill=\"#000000\" stroke=\"#000000\" stroke-miterlimit=\"10\" pointer-events=\"all\"/><g transform=\"translate(-0.5 -0.5)\"><switch><foreignObject style=\"overflow: visible; text-align: left;\" pointer-events=\"none\" width=\"100%\" height=\"100%\" requiredFeatures=\"http://www.w3.org/TR/SVG11/feature#Extensibility\"><div xmlns=\"http://www.w3.org/1999/xhtml\" style=\"display: flex; align-items: unsafe center; justify-content: unsafe center; width: 1px; height: 1px; padding-top: 290px; margin-left: 247px;\"><div style=\"box-sizing: border-box; font-size: 0; text-align: center; \"><div style=\"display: inline-block; font-size: 18px; font-family: Courier New; color: #000000; line-height: 1.2; pointer-events: all; background-color: #ffffff; white-space: nowrap; \"><font face=\"Georgia\">Δ<i>t</i></font></div></div></div></foreignObject><text x=\"247\" y=\"295\" fill=\"#000000\" font-family=\"Courier New\" font-size=\"18px\" text-anchor=\"middle\">Δt</text></switch></g><path d=\"M 227 160 L 247 160\" fill=\"none\" stroke=\"#000000\" stroke-width=\"2\" stroke-miterlimit=\"10\" pointer-events=\"stroke\"/><path d=\"M 147 203 L 167 203\" fill=\"none\" stroke=\"#000000\" stroke-width=\"2\" stroke-miterlimit=\"10\" pointer-events=\"stroke\"/><path d=\"M 68 243 L 88 243\" fill=\"none\" stroke=\"#000000\" stroke-width=\"2\" stroke-miterlimit=\"10\" pointer-events=\"stroke\"/><ellipse cx=\"128\" cy=\"190\" rx=\"5\" ry=\"5\" fill=\"none\" stroke=\"#000000\" pointer-events=\"all\"/><ellipse cx=\"207\" cy=\"110\" rx=\"5\" ry=\"5\" fill=\"none\" stroke=\"#000000\" pointer-events=\"all\"/><ellipse cx=\"287\" cy=\"30\" rx=\"5\" ry=\"5\" fill=\"none\" stroke=\"#000000\" pointer-events=\"all\"/><path d=\"M 287 263.63 L 287 36.37\" fill=\"none\" stroke=\"#000000\" stroke-miterlimit=\"10\" pointer-events=\"stroke\"/><path d=\"M 287 268.88 L 283.5 261.88 L 287 263.63 L 290.5 261.88 Z\" fill=\"#000000\" stroke=\"#000000\" stroke-miterlimit=\"10\" pointer-events=\"all\"/><path d=\"M 287 31.12 L 290.5 38.12 L 287 36.37 L 283.5 38.12 Z\" fill=\"#000000\" stroke=\"#000000\" stroke-miterlimit=\"10\" pointer-events=\"all\"/><g transform=\"translate(-0.5 -0.5)\"><switch><foreignObject style=\"overflow: visible; text-align: left;\" pointer-events=\"none\" width=\"100%\" height=\"100%\" requiredFeatures=\"http://www.w3.org/TR/SVG11/feature#Extensibility\"><div xmlns=\"http://www.w3.org/1999/xhtml\" style=\"display: flex; align-items: unsafe center; justify-content: unsafe center; width: 1px; height: 1px; padding-top: 159px; margin-left: 298px;\"><div style=\"box-sizing: border-box; font-size: 0; text-align: center; \"><div style=\"display: inline-block; font-size: 18px; font-family: Courier New; color: #000000; line-height: 1.2; pointer-events: all; background-color: #ffffff; white-space: nowrap; \"><font face=\"Georgia\"><i>at</i></font></div></div></div></foreignObject><text x=\"298\" y=\"164\" fill=\"#000000\" font-family=\"Courier New\" font-size=\"18px\" text-anchor=\"middle\">at</text></switch></g><ellipse cx=\"47\" cy=\"270\" rx=\"5\" ry=\"5\" fill=\"none\" stroke=\"#000000\" pointer-events=\"all\"/><path d=\"M 287 310 L 287 270\" fill=\"none\" stroke=\"#000000\" stroke-miterlimit=\"10\" stroke-dasharray=\"3 3\" pointer-events=\"stroke\"/><g transform=\"translate(-0.5 -0.5)\"><switch><foreignObject style=\"overflow: visible; text-align: left;\" pointer-events=\"none\" width=\"100%\" height=\"100%\" requiredFeatures=\"http://www.w3.org/TR/SVG11/feature#Extensibility\"><div xmlns=\"http://www.w3.org/1999/xhtml\" style=\"display: flex; align-items: unsafe center; justify-content: unsafe center; width: 1px; height: 1px; padding-top: 290px; margin-left: 287px;\"><div style=\"box-sizing: border-box; font-size: 0; text-align: center; \"><div style=\"display: inline-block; font-size: 18px; font-family: Courier New; color: #000000; line-height: 1.2; pointer-events: all; background-color: #ffffff; white-space: nowrap; \"><span style=\"color: rgba(0 , 0 , 0 , 0) ; font-family: monospace ; font-size: 0px ; background-color: rgb(248 , 249 , 250)\">%3CmxGraphModel%3E%3Croot%3E%3CmxCell%20id%3D%220%22%2F%3E%3CmxCell%20id%3D%221%22%20parent%3D%220%22%2F%3E%3CmxCell%20id%3D%222%22%20value%3D%22%26lt%3Bfont%20face%3D%26quot%3BGeorgia%26quot%3B%26gt%3Bt%26lt%3B%2Ffont%26gt%3B%22%20style%3D%22edgeLabel%3Bhtml%3D1%3Balign%3Dcenter%3BverticalAlign%3Dmiddle%3Bresizable%3D0%3Bpoints%3D%5B%5D%3BfontSize%3D18%3BfontFamily%3DCourier%20New%3BfontStyle%3D2%22%20vertex%3D%221%22%20connectable%3D%220%22%20parent%3D%221%22%3E%3CmxGeometry%20x%3D%22440%22%20y%3D%22340%22%20as%3D%22geometry%22%3E%3CmxPoint%20x%3D%22-40%22%20y%3D%2217%22%20as%3D%22offset%22%2F%3E%3C%2FmxGeometry%3E%3C%2FmxCell%3E%3C%2Froot%3E%3C%2FmxGraphModel%3Et</span></div></div></div></foreignObject><text x=\"287\" y=\"295\" fill=\"#000000\" font-family=\"Courier New\" font-size=\"18px\" text-anchor=\"middle\">%3CmxG...</text></switch></g><g transform=\"translate(-0.5 -0.5)\"><switch><foreignObject style=\"overflow: visible; text-align: left;\" pointer-events=\"none\" width=\"100%\" height=\"100%\" requiredFeatures=\"http://www.w3.org/TR/SVG11/feature#Extensibility\"><div xmlns=\"http://www.w3.org/1999/xhtml\" style=\"display: flex; align-items: unsafe center; justify-content: unsafe center; width: 1px; height: 1px; padding-top: 287px; margin-left: 289px;\"><div style=\"box-sizing: border-box; font-size: 0; text-align: center; \"><div style=\"display: inline-block; font-size: 18px; font-family: Courier New; color: #000000; line-height: 1.2; pointer-events: all; background-color: #ffffff; white-space: nowrap; \"><span style=\"color: rgba(0 , 0 , 0 , 0) ; font-family: monospace ; font-size: 0px ; background-color: rgb(248 , 249 , 250)\">%3CmxGraphModel%3E%3Croot%3E%3CmxCell%20id%3D%220%22%2F%3E%3CmxCell%20id%3D%221%22%20parent%3D%220%22%2F%3E%3CmxCell%20id%3D%222%22%20value%3D%22%26lt%3Bfont%20face%3D%26quot%3BGeorgia%26quot%3B%26gt%3Bt%26lt%3B%2Ffont%26gt%3B%22%20style%3D%22edgeLabel%3Bhtml%3D1%3Balign%3Dcenter%3BverticalAlign%3Dmiddle%3Bresizable%3D0%3Bpoints%3D%5B%5D%3BfontSize%3D18%3BfontFamily%3DCourier%20New%3BfontStyle%3D2%22%20vertex%3D%221%22%20connectable%3D%220%22%20parent%3D%221%22%3E%3CmxGeometry%20x%3D%22440%22%20y%3D%22340%22%20as%3D%22geometry%22%3E%3CmxPoint%20x%3D%22-40%22%20y%3D%2217%22%20as%3D%22offset%22%2F%3E%3C%2FmxGeometry%3E%3C%2FmxCell%3E%3C%2Froot%3E%3C%2FmxGraphModel%3</span></div></div></div></foreignObject><text x=\"289\" y=\"292\" fill=\"#000000\" font-family=\"Courier New\" font-size=\"18px\" text-anchor=\"middle\">%3CmxGraphModel%3E%3Croot%3E%3CmxCell%20id%3D%220%22%2F%3E%3CmxCell%20id%3D%221%22%20parent%3D%220%22%2F%3E%3CmxCell%20id%3D%222%22%20value%3D%22%26lt%3Bfont%20face%3D%26quot%3BGeorgia%26quot%3B%26gt%3Bt%26lt%3B%2Ffont%26gt%3B%22%20style%3D%22edgeLabel%3Bhtml%3D1%3Balign%3Dcenter%3BverticalAlign%3Dmiddle%3Bresizable%3D0%3Bpoints%3D%5B%5D%3BfontSize%3D18%3BfontFamily%3DCourier%20New%3BfontStyle%3D2%22%20vertex%3D%221%22%20connectable%3D%220%22%20parent%3D%221%22%3E%3CmxGeometry%20x%3D%22440%22%20y%3D%22340%22%20as%3D%22geometry%22%3E%3CmxPoint%20x%3D%22-40%22%20y%3D%2217%22%20as%3D%22offset%22%2F%3E%3C%2FmxGeometry%3E%3C%2FmxCell%3E%3C%2Froot%3E%3C%2FmxGraphModel%3</text></switch></g><path d=\"M 47 300 L 280.63 300\" fill=\"none\" stroke=\"#000000\" stroke-miterlimit=\"10\" pointer-events=\"stroke\"/><path d=\"M 285.88 300 L 278.88 303.5 L 280.63 300 L 278.88 296.5 Z\" fill=\"#000000\" stroke=\"#000000\" stroke-miterlimit=\"10\" pointer-events=\"all\"/><g transform=\"translate(-0.5 -0.5)\"><switch><foreignObject style=\"overflow: visible; text-align: left;\" pointer-events=\"none\" width=\"100%\" height=\"100%\" requiredFeatures=\"http://www.w3.org/TR/SVG11/feature#Extensibility\"><div xmlns=\"http://www.w3.org/1999/xhtml\" style=\"display: flex; align-items: unsafe center; justify-content: unsafe center; width: 1px; height: 1px; padding-top: 311px; margin-left: 168px;\"><div style=\"box-sizing: border-box; font-size: 0; text-align: center; \"><div style=\"display: inline-block; font-size: 18px; font-family: Georgia; color: #000000; line-height: 1.2; pointer-events: all; background-color: #ffffff; white-space: nowrap; \"><i>t</i></div></div></div></foreignObject><text x=\"168\" y=\"316\" fill=\"#000000\" font-family=\"Georgia\" font-size=\"18px\" text-anchor=\"middle\">t</text></switch></g><path d=\"M 367 270 L 680.63 270\" fill=\"none\" stroke=\"#000000\" stroke-miterlimit=\"10\" pointer-events=\"stroke\"/><path d=\"M 685.88 270 L 678.88 273.5 L 680.63 270 L 678.88 266.5 Z\" fill=\"#000000\" stroke=\"#000000\" stroke-miterlimit=\"10\" pointer-events=\"all\"/><path d=\"M 407 310 L 407 26.37\" fill=\"none\" stroke=\"#000000\" stroke-miterlimit=\"10\" pointer-events=\"stroke\"/><path d=\"M 407 21.12 L 410.5 28.12 L 407 26.37 L 403.5 28.12 Z\" fill=\"#000000\" stroke=\"#000000\" stroke-miterlimit=\"10\" pointer-events=\"all\"/><g transform=\"translate(-0.5 -0.5)\"><switch><foreignObject style=\"overflow: visible; text-align: left;\" pointer-events=\"none\" width=\"100%\" height=\"100%\" requiredFeatures=\"http://www.w3.org/TR/SVG11/feature#Extensibility\"><div xmlns=\"http://www.w3.org/1999/xhtml\" style=\"display: flex; align-items: unsafe center; justify-content: unsafe center; width: 1px; height: 1px; padding-top: 11px; margin-left: 409px;\"><div style=\"box-sizing: border-box; font-size: 0; text-align: center; \"><div style=\"display: inline-block; font-size: 18px; font-family: Georgia; color: #000000; line-height: 1.2; pointer-events: all; background-color: #ffffff; white-space: nowrap; \"><i>v</i></div></div></div></foreignObject><text x=\"409\" y=\"16\" fill=\"#000000\" font-family=\"Georgia\" font-size=\"18px\" text-anchor=\"middle\">v</text></switch></g><path d=\"M 407 270 L 647 30\" fill=\"none\" stroke=\"#000000\" stroke-width=\"2\" stroke-miterlimit=\"10\" pointer-events=\"stroke\"/><path d=\"M 647 270 L 647 36.37\" fill=\"none\" stroke=\"#000000\" stroke-miterlimit=\"10\" pointer-events=\"stroke\"/><path d=\"M 647 31.12 L 650.5 38.12 L 647 36.37 L 643.5 38.12 Z\" fill=\"#000000\" stroke=\"#000000\" stroke-miterlimit=\"10\" pointer-events=\"all\"/><g transform=\"translate(-0.5 -0.5)\"><switch><foreignObject style=\"overflow: visible; text-align: left;\" pointer-events=\"none\" width=\"100%\" height=\"100%\" requiredFeatures=\"http://www.w3.org/TR/SVG11/feature#Extensibility\"><div xmlns=\"http://www.w3.org/1999/xhtml\" style=\"display: flex; align-items: unsafe center; justify-content: unsafe center; width: 1px; height: 1px; padding-top: 159px; margin-left: 658px;\"><div style=\"box-sizing: border-box; font-size: 0; text-align: center; \"><div style=\"display: inline-block; font-size: 18px; font-family: Courier New; color: #000000; line-height: 1.2; pointer-events: all; background-color: #ffffff; white-space: nowrap; \"><font face=\"Georgia\"><i>at</i></font></div></div></div></foreignObject><text x=\"658\" y=\"164\" fill=\"#000000\" font-family=\"Courier New\" font-size=\"18px\" text-anchor=\"middle\">at</text></switch></g><path d=\"M 647 310 L 647 270\" fill=\"none\" stroke=\"#000000\" stroke-miterlimit=\"10\" stroke-dasharray=\"3 3\" pointer-events=\"stroke\"/><g transform=\"translate(-0.5 -0.5)\"><switch><foreignObject style=\"overflow: visible; text-align: left;\" pointer-events=\"none\" width=\"100%\" height=\"100%\" requiredFeatures=\"http://www.w3.org/TR/SVG11/feature#Extensibility\"><div xmlns=\"http://www.w3.org/1999/xhtml\" style=\"display: flex; align-items: unsafe center; justify-content: unsafe center; width: 1px; height: 1px; padding-top: 290px; margin-left: 647px;\"><div style=\"box-sizing: border-box; font-size: 0; text-align: center; \"><div style=\"display: inline-block; font-size: 18px; font-family: Courier New; color: #000000; line-height: 1.2; pointer-events: all; background-color: #ffffff; white-space: nowrap; \"><span style=\"color: rgba(0 , 0 , 0 , 0) ; font-family: monospace ; font-size: 0px ; background-color: rgb(248 , 249 , 250)\">%3CmxGraphModel%3E%3Croot%3E%3CmxCell%20id%3D%220%22%2F%3E%3CmxCell%20id%3D%221%22%20parent%3D%220%22%2F%3E%3CmxCell%20id%3D%222%22%20value%3D%22%26lt%3Bfont%20face%3D%26quot%3BGeorgia%26quot%3B%26gt%3Bt%26lt%3B%2Ffont%26gt%3B%22%20style%3D%22edgeLabel%3Bhtml%3D1%3Balign%3Dcenter%3BverticalAlign%3Dmiddle%3Bresizable%3D0%3Bpoints%3D%5B%5D%3BfontSize%3D18%3BfontFamily%3DCourier%20New%3BfontStyle%3D2%22%20vertex%3D%221%22%20connectable%3D%220%22%20parent%3D%221%22%3E%3CmxGeometry%20x%3D%22440%22%20y%3D%22340%22%20as%3D%22geometry%22%3E%3CmxPoint%20x%3D%22-40%22%20y%3D%2217%22%20as%3D%22offset%22%2F%3E%3C%2FmxGeometry%3E%3C%2FmxCell%3E%3C%2Froot%3E%3C%2FmxGraphModel%3Et</span></div></div></div></foreignObject><text x=\"647\" y=\"295\" fill=\"#000000\" font-family=\"Courier New\" font-size=\"18px\" text-anchor=\"middle\">%3CmxG...</text></switch></g><g transform=\"translate(-0.5 -0.5)\"><switch><foreignObject style=\"overflow: visible; text-align: left;\" pointer-events=\"none\" width=\"100%\" height=\"100%\" requiredFeatures=\"http://www.w3.org/TR/SVG11/feature#Extensibility\"><div xmlns=\"http://www.w3.org/1999/xhtml\" style=\"display: flex; align-items: unsafe center; justify-content: unsafe center; width: 1px; height: 1px; padding-top: 287px; margin-left: 649px;\"><div style=\"box-sizing: border-box; font-size: 0; text-align: center; \"><div style=\"display: inline-block; font-size: 18px; font-family: Courier New; color: #000000; line-height: 1.2; pointer-events: all; background-color: #ffffff; white-space: nowrap; \"><span style=\"color: rgba(0 , 0 , 0 , 0) ; font-family: monospace ; font-size: 0px ; background-color: rgb(248 , 249 , 250)\">%3CmxGraphModel%3E%3Croot%3E%3CmxCell%20id%3D%220%22%2F%3E%3CmxCell%20id%3D%221%22%20parent%3D%220%22%2F%3E%3CmxCell%20id%3D%222%22%20value%3D%22%26lt%3Bfont%20face%3D%26quot%3BGeorgia%26quot%3B%26gt%3Bt%26lt%3B%2Ffont%26gt%3B%22%20style%3D%22edgeLabel%3Bhtml%3D1%3Balign%3Dcenter%3BverticalAlign%3Dmiddle%3Bresizable%3D0%3Bpoints%3D%5B%5D%3BfontSize%3D18%3BfontFamily%3DCourier%20New%3BfontStyle%3D2%22%20vertex%3D%221%22%20connectable%3D%220%22%20parent%3D%221%22%3E%3CmxGeometry%20x%3D%22440%22%20y%3D%22340%22%20as%3D%22geometry%22%3E%3CmxPoint%20x%3D%22-40%22%20y%3D%2217%22%20as%3D%22offset%22%2F%3E%3C%2FmxGeometry%3E%3C%2FmxCell%3E%3C%2Froot%3E%3C%2FmxGraphModel%3</span></div></div></div></foreignObject><text x=\"649\" y=\"292\" fill=\"#000000\" font-family=\"Courier New\" font-size=\"18px\" text-anchor=\"middle\">%3CmxGraphModel%3E%3Croot%3E%3CmxCell%20id%3D%220%22%2F%3E%3CmxCell%20id%3D%221%22%20parent%3D%220%22%2F%3E%3CmxCell%20id%3D%222%22%20value%3D%22%26lt%3Bfont%20face%3D%26quot%3BGeorgia%26quot%3B%26gt%3Bt%26lt%3B%2Ffont%26gt%3B%22%20style%3D%22edgeLabel%3Bhtml%3D1%3Balign%3Dcenter%3BverticalAlign%3Dmiddle%3Bresizable%3D0%3Bpoints%3D%5B%5D%3BfontSize%3D18%3BfontFamily%3DCourier%20New%3BfontStyle%3D2%22%20vertex%3D%221%22%20connectable%3D%220%22%20parent%3D%221%22%3E%3CmxGeometry%20x%3D%22440%22%20y%3D%22340%22%20as%3D%22geometry%22%3E%3CmxPoint%20x%3D%22-40%22%20y%3D%2217%22%20as%3D%22offset%22%2F%3E%3C%2FmxGeometry%3E%3C%2FmxCell%3E%3C%2Froot%3E%3C%2FmxGraphModel%3</text></switch></g><path d=\"M 407 270 L 640.63 270\" fill=\"none\" stroke=\"#000000\" stroke-miterlimit=\"10\" pointer-events=\"stroke\"/><path d=\"M 645.88 270 L 638.88 273.5 L 640.63 270 L 638.88 266.5 Z\" fill=\"#000000\" stroke=\"#000000\" stroke-miterlimit=\"10\" pointer-events=\"all\"/><g transform=\"translate(-0.5 -0.5)\"><switch><foreignObject style=\"overflow: visible; text-align: left;\" pointer-events=\"none\" width=\"100%\" height=\"100%\" requiredFeatures=\"http://www.w3.org/TR/SVG11/feature#Extensibility\"><div xmlns=\"http://www.w3.org/1999/xhtml\" style=\"display: flex; align-items: unsafe center; justify-content: unsafe center; width: 1px; height: 1px; padding-top: 281px; margin-left: 528px;\"><div style=\"box-sizing: border-box; font-size: 0; text-align: center; \"><div style=\"display: inline-block; font-size: 18px; font-family: Georgia; color: #000000; line-height: 1.2; pointer-events: all; background-color: #ffffff; white-space: nowrap; \"><i>t</i></div></div></div></foreignObject><text x=\"528\" y=\"286\" fill=\"#000000\" font-family=\"Georgia\" font-size=\"18px\" text-anchor=\"middle\">t</text></switch></g></g><switch><g requiredFeatures=\"http://www.w3.org/TR/SVG11/feature#Extensibility\"/><a transform=\"translate(0,-5)\" xlink:href=\"https://desk.draw.io/support/solutions/articles/16000042487\" target=\"_blank\"><text text-anchor=\"middle\" font-size=\"10px\" x=\"50%\" y=\"100%\">Viewer does not support full SVG 1.1</text></a></switch></svg>"
      ],
      "execution_count": null,
      "outputs": [
        {
          "output_type": "display_data",
          "data": {
            "text/plain": [
              "<IPython.core.display.SVG object>"
            ],
            "image/svg+xml": "<svg content=\"&lt;mxfile host=&quot;www.draw.io&quot; modified=&quot;2020-05-25T13:00:18.574Z&quot; agent=&quot;5.0 (Macintosh; Intel Mac OS X 10_15_4) AppleWebKit/537.36 (KHTML, like Gecko) Chrome/83.0.4103.61 Safari/537.36&quot; etag=&quot;XBtK7j16J_kHAdrVxd7F&quot; version=&quot;13.1.3&quot; type=&quot;google&quot;&gt;&lt;diagram id=&quot;IQ7CvnFe63TmqmIrzkI5&quot; name=&quot;Page-1&quot;&gt;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&lt;/diagram&gt;&lt;/mxfile&gt;\" onclick=\"(function(svg){var src=window.event.target||window.event.srcElement;while (src!=null&amp;&amp;src.nodeName.toLowerCase()!='a'){src=src.parentNode;}if(src==null){if(svg.wnd!=null&amp;&amp;!svg.wnd.closed){svg.wnd.focus();}else{var r=function(evt){if(evt.data=='ready'&amp;&amp;evt.source==svg.wnd){svg.wnd.postMessage(decodeURIComponent(svg.getAttribute('content')),'*');window.removeEventListener('message',r);}};window.addEventListener('message',r);svg.wnd=window.open('https://www.draw.io/?client=1&amp;lightbox=1&amp;edit=_blank');}}})(this);\" style=\"cursor:pointer;max-width:100%;max-height:393px;\" version=\"1.1\" viewBox=\"-0.5 -0.5 770 393\" width=\"770px\" xmlns=\"http://www.w3.org/2000/svg\" xmlns:xlink=\"http://www.w3.org/1999/xlink\"><defs/><g><path d=\"M 501.34 38.68 L 672.66 210 L 501.34 381.32 Z\" fill=\"#f8cecc\" pointer-events=\"all\" stroke=\"#b85450\" stroke-miterlimit=\"10\" transform=\"translate(587,0)scale(-1,1)translate(-587,0)rotate(-225,587,210)\"/><rect fill=\"#f8cecc\" height=\"120\" pointer-events=\"all\" stroke=\"#b85450\" width=\"80\" x=\"127\" y=\"150\"/><g transform=\"translate(-0.5 -0.5)\"><switch><foreignObject height=\"100%\" pointer-events=\"none\" requiredFeatures=\"http://www.w3.org/TR/SVG11/feature#Extensibility\" style=\"overflow: visible; text-align: left;\" width=\"100%\"><div style=\"display: flex; align-items: unsafe center; justify-content: unsafe center; width: 78px; height: 1px; padding-top: 210px; margin-left: 128px;\" xmlns=\"http://www.w3.org/1999/xhtml\"><div style=\"box-sizing: border-box; font-size: 0; text-align: center; \"><div style=\"display: inline-block; font-size: 18px; font-family: Courier New; color: #000000; line-height: 1.2; pointer-events: all; white-space: normal; word-wrap: normal; \"><font face=\"Georgia\"><i>v</i><sub>2</sub><span style=\"font-style: italic ; font-size: 15px\">Δt</span></font></div></div></div></foreignObject><text fill=\"#000000\" font-family=\"Courier New\" font-size=\"18px\" text-anchor=\"middle\" x=\"167\" y=\"215\">v2Δt</text></switch></g><rect fill=\"#f8cecc\" height=\"200\" pointer-events=\"all\" stroke=\"#b85450\" width=\"80\" x=\"207\" y=\"70\"/><g transform=\"translate(-0.5 -0.5)\"><switch><foreignObject height=\"100%\" pointer-events=\"none\" requiredFeatures=\"http://www.w3.org/TR/SVG11/feature#Extensibility\" style=\"overflow: visible; text-align: left;\" width=\"100%\"><div style=\"display: flex; align-items: unsafe center; justify-content: unsafe center; width: 78px; height: 1px; padding-top: 170px; margin-left: 208px;\" xmlns=\"http://www.w3.org/1999/xhtml\"><div style=\"box-sizing: border-box; font-size: 0; text-align: center; \"><div style=\"display: inline-block; font-size: 18px; font-family: Courier New; color: #000000; line-height: 1.2; pointer-events: all; white-space: normal; word-wrap: normal; \"><font face=\"Georgia\"><i>v</i><sub>3</sub><i>Δt</i></font></div></div></div></foreignObject><text fill=\"#000000\" font-family=\"Courier New\" font-size=\"18px\" text-anchor=\"middle\" x=\"247\" y=\"175\">v3Δt</text></switch></g><rect fill=\"#f8cecc\" height=\"40\" pointer-events=\"all\" stroke=\"#b85450\" width=\"80\" x=\"47\" y=\"230\"/><g transform=\"translate(-0.5 -0.5)\"><switch><foreignObject height=\"100%\" pointer-events=\"none\" requiredFeatures=\"http://www.w3.org/TR/SVG11/feature#Extensibility\" style=\"overflow: visible; text-align: left;\" width=\"100%\"><div style=\"display: flex; align-items: unsafe center; justify-content: unsafe center; width: 78px; height: 1px; padding-top: 250px; margin-left: 48px;\" xmlns=\"http://www.w3.org/1999/xhtml\"><div style=\"box-sizing: border-box; font-size: 0; text-align: center; \"><div style=\"display: inline-block; font-size: 18px; font-family: Courier New; color: #000000; line-height: 1.2; pointer-events: all; white-space: normal; word-wrap: normal; \"><font face=\"Georgia\"><i>v</i><sub>1</sub><i>Δt</i></font></div></div></div></foreignObject><text fill=\"#000000\" font-family=\"Courier New\" font-size=\"18px\" text-anchor=\"middle\" x=\"87\" y=\"255\">v1Δt</text></switch></g><path d=\"M 7 270 L 320.63 270\" fill=\"none\" pointer-events=\"stroke\" stroke=\"#000000\" stroke-miterlimit=\"10\"/><path d=\"M 325.88 270 L 318.88 273.5 L 320.63 270 L 318.88 266.5 Z\" fill=\"#000000\" pointer-events=\"all\" stroke=\"#000000\" stroke-miterlimit=\"10\"/><path d=\"M 47 310 L 47 26.37\" fill=\"none\" pointer-events=\"stroke\" stroke=\"#000000\" stroke-miterlimit=\"10\"/><path d=\"M 47 21.12 L 50.5 28.12 L 47 26.37 L 43.5 28.12 Z\" fill=\"#000000\" pointer-events=\"all\" stroke=\"#000000\" stroke-miterlimit=\"10\"/><g transform=\"translate(-0.5 -0.5)\"><switch><foreignObject height=\"100%\" pointer-events=\"none\" requiredFeatures=\"http://www.w3.org/TR/SVG11/feature#Extensibility\" style=\"overflow: visible; text-align: left;\" width=\"100%\"><div style=\"display: flex; align-items: unsafe center; justify-content: unsafe center; width: 1px; height: 1px; padding-top: 11px; margin-left: 48px;\" xmlns=\"http://www.w3.org/1999/xhtml\"><div style=\"box-sizing: border-box; font-size: 0; text-align: center; \"><div style=\"display: inline-block; font-size: 18px; font-family: Georgia; color: #000000; line-height: 1.2; pointer-events: all; background-color: #ffffff; white-space: nowrap; \"><i>v</i></div></div></div></foreignObject><text fill=\"#000000\" font-family=\"Georgia\" font-size=\"18px\" text-anchor=\"middle\" x=\"48\" y=\"16\">v</text></switch></g><path d=\"M 47 270 L 287 30\" fill=\"none\" pointer-events=\"stroke\" stroke=\"#000000\" stroke-miterlimit=\"10\" stroke-width=\"2\"/><path d=\"M 127 270 L 127 190\" fill=\"none\" pointer-events=\"stroke\" stroke=\"#000000\" stroke-dasharray=\"3 3\" stroke-miterlimit=\"10\"/><path d=\"M 207 270 L 207 110\" fill=\"none\" pointer-events=\"stroke\" stroke=\"#000000\" stroke-dasharray=\"3 3\" stroke-miterlimit=\"10\"/><path d=\"M 53.37 270 L 120.63 270\" fill=\"none\" pointer-events=\"stroke\" stroke=\"#000000\" stroke-miterlimit=\"10\"/><path d=\"M 48.12 270 L 55.12 266.5 L 53.37 270 L 55.12 273.5 Z\" fill=\"#000000\" pointer-events=\"all\" stroke=\"#000000\" stroke-miterlimit=\"10\"/><path d=\"M 125.88 270 L 118.88 273.5 L 120.63 270 L 118.88 266.5 Z\" fill=\"#000000\" pointer-events=\"all\" stroke=\"#000000\" stroke-miterlimit=\"10\"/><g transform=\"translate(-0.5 -0.5)\"><switch><foreignObject height=\"100%\" pointer-events=\"none\" requiredFeatures=\"http://www.w3.org/TR/SVG11/feature#Extensibility\" style=\"overflow: visible; text-align: left;\" width=\"100%\"><div style=\"display: flex; align-items: unsafe center; justify-content: unsafe center; width: 1px; height: 1px; padding-top: 290px; margin-left: 87px;\" xmlns=\"http://www.w3.org/1999/xhtml\"><div style=\"box-sizing: border-box; font-size: 0; text-align: center; \"><div style=\"display: inline-block; font-size: 18px; font-family: Courier New; color: #000000; line-height: 1.2; pointer-events: all; background-color: #ffffff; white-space: nowrap; \"><font face=\"Georgia\">Δ<i>t</i></font></div></div></div></foreignObject><text fill=\"#000000\" font-family=\"Courier New\" font-size=\"18px\" text-anchor=\"middle\" x=\"87\" y=\"295\">Δt</text></switch></g><path d=\"M 133.37 270 L 200.63 270\" fill=\"none\" pointer-events=\"stroke\" stroke=\"#000000\" stroke-miterlimit=\"10\"/><path d=\"M 128.12 270 L 135.12 266.5 L 133.37 270 L 135.12 273.5 Z\" fill=\"#000000\" pointer-events=\"all\" stroke=\"#000000\" stroke-miterlimit=\"10\"/><path d=\"M 205.88 270 L 198.88 273.5 L 200.63 270 L 198.88 266.5 Z\" fill=\"#000000\" pointer-events=\"all\" stroke=\"#000000\" stroke-miterlimit=\"10\"/><g transform=\"translate(-0.5 -0.5)\"><switch><foreignObject height=\"100%\" pointer-events=\"none\" requiredFeatures=\"http://www.w3.org/TR/SVG11/feature#Extensibility\" style=\"overflow: visible; text-align: left;\" width=\"100%\"><div style=\"display: flex; align-items: unsafe center; justify-content: unsafe center; width: 1px; height: 1px; padding-top: 290px; margin-left: 167px;\" xmlns=\"http://www.w3.org/1999/xhtml\"><div style=\"box-sizing: border-box; font-size: 0; text-align: center; \"><div style=\"display: inline-block; font-size: 18px; font-family: Courier New; color: #000000; line-height: 1.2; pointer-events: all; background-color: #ffffff; white-space: nowrap; \"><font face=\"Georgia\">Δ<i>t</i></font></div></div></div></foreignObject><text fill=\"#000000\" font-family=\"Courier New\" font-size=\"18px\" text-anchor=\"middle\" x=\"167\" y=\"295\">Δt</text></switch></g><path d=\"M 213.37 270 L 280.63 270\" fill=\"none\" pointer-events=\"stroke\" stroke=\"#000000\" stroke-miterlimit=\"10\"/><path d=\"M 208.12 270 L 215.12 266.5 L 213.37 270 L 215.12 273.5 Z\" fill=\"#000000\" pointer-events=\"all\" stroke=\"#000000\" stroke-miterlimit=\"10\"/><path d=\"M 285.88 270 L 278.88 273.5 L 280.63 270 L 278.88 266.5 Z\" fill=\"#000000\" pointer-events=\"all\" stroke=\"#000000\" stroke-miterlimit=\"10\"/><g transform=\"translate(-0.5 -0.5)\"><switch><foreignObject height=\"100%\" pointer-events=\"none\" requiredFeatures=\"http://www.w3.org/TR/SVG11/feature#Extensibility\" style=\"overflow: visible; text-align: left;\" width=\"100%\"><div style=\"display: flex; align-items: unsafe center; justify-content: unsafe center; width: 1px; height: 1px; padding-top: 290px; margin-left: 247px;\" xmlns=\"http://www.w3.org/1999/xhtml\"><div style=\"box-sizing: border-box; font-size: 0; text-align: center; \"><div style=\"display: inline-block; font-size: 18px; font-family: Courier New; color: #000000; line-height: 1.2; pointer-events: all; background-color: #ffffff; white-space: nowrap; \"><font face=\"Georgia\">Δ<i>t</i></font></div></div></div></foreignObject><text fill=\"#000000\" font-family=\"Courier New\" font-size=\"18px\" text-anchor=\"middle\" x=\"247\" y=\"295\">Δt</text></switch></g><path d=\"M 227 160 L 247 160\" fill=\"none\" pointer-events=\"stroke\" stroke=\"#000000\" stroke-miterlimit=\"10\" stroke-width=\"2\"/><path d=\"M 147 203 L 167 203\" fill=\"none\" pointer-events=\"stroke\" stroke=\"#000000\" stroke-miterlimit=\"10\" stroke-width=\"2\"/><path d=\"M 68 243 L 88 243\" fill=\"none\" pointer-events=\"stroke\" stroke=\"#000000\" stroke-miterlimit=\"10\" stroke-width=\"2\"/><ellipse cx=\"128\" cy=\"190\" fill=\"none\" pointer-events=\"all\" rx=\"5\" ry=\"5\" stroke=\"#000000\"/><ellipse cx=\"207\" cy=\"110\" fill=\"none\" pointer-events=\"all\" rx=\"5\" ry=\"5\" stroke=\"#000000\"/><ellipse cx=\"287\" cy=\"30\" fill=\"none\" pointer-events=\"all\" rx=\"5\" ry=\"5\" stroke=\"#000000\"/><path d=\"M 287 263.63 L 287 36.37\" fill=\"none\" pointer-events=\"stroke\" stroke=\"#000000\" stroke-miterlimit=\"10\"/><path d=\"M 287 268.88 L 283.5 261.88 L 287 263.63 L 290.5 261.88 Z\" fill=\"#000000\" pointer-events=\"all\" stroke=\"#000000\" stroke-miterlimit=\"10\"/><path d=\"M 287 31.12 L 290.5 38.12 L 287 36.37 L 283.5 38.12 Z\" fill=\"#000000\" pointer-events=\"all\" stroke=\"#000000\" stroke-miterlimit=\"10\"/><g transform=\"translate(-0.5 -0.5)\"><switch><foreignObject height=\"100%\" pointer-events=\"none\" requiredFeatures=\"http://www.w3.org/TR/SVG11/feature#Extensibility\" style=\"overflow: visible; text-align: left;\" width=\"100%\"><div style=\"display: flex; align-items: unsafe center; justify-content: unsafe center; width: 1px; height: 1px; padding-top: 159px; margin-left: 298px;\" xmlns=\"http://www.w3.org/1999/xhtml\"><div style=\"box-sizing: border-box; font-size: 0; text-align: center; \"><div style=\"display: inline-block; font-size: 18px; font-family: Courier New; color: #000000; line-height: 1.2; pointer-events: all; background-color: #ffffff; white-space: nowrap; \"><font face=\"Georgia\"><i>at</i></font></div></div></div></foreignObject><text fill=\"#000000\" font-family=\"Courier New\" font-size=\"18px\" text-anchor=\"middle\" x=\"298\" y=\"164\">at</text></switch></g><ellipse cx=\"47\" cy=\"270\" fill=\"none\" pointer-events=\"all\" rx=\"5\" ry=\"5\" stroke=\"#000000\"/><path d=\"M 287 310 L 287 270\" fill=\"none\" pointer-events=\"stroke\" stroke=\"#000000\" stroke-dasharray=\"3 3\" stroke-miterlimit=\"10\"/><g transform=\"translate(-0.5 -0.5)\"><switch><foreignObject height=\"100%\" pointer-events=\"none\" requiredFeatures=\"http://www.w3.org/TR/SVG11/feature#Extensibility\" style=\"overflow: visible; text-align: left;\" width=\"100%\"><div style=\"display: flex; align-items: unsafe center; justify-content: unsafe center; width: 1px; height: 1px; padding-top: 290px; margin-left: 287px;\" xmlns=\"http://www.w3.org/1999/xhtml\"><div style=\"box-sizing: border-box; font-size: 0; text-align: center; \"><div style=\"display: inline-block; font-size: 18px; font-family: Courier New; color: #000000; line-height: 1.2; pointer-events: all; background-color: #ffffff; white-space: nowrap; \"><span style=\"color: rgba(0 , 0 , 0 , 0) ; font-family: monospace ; font-size: 0px ; background-color: rgb(248 , 249 , 250)\">%3CmxGraphModel%3E%3Croot%3E%3CmxCell%20id%3D%220%22%2F%3E%3CmxCell%20id%3D%221%22%20parent%3D%220%22%2F%3E%3CmxCell%20id%3D%222%22%20value%3D%22%26lt%3Bfont%20face%3D%26quot%3BGeorgia%26quot%3B%26gt%3Bt%26lt%3B%2Ffont%26gt%3B%22%20style%3D%22edgeLabel%3Bhtml%3D1%3Balign%3Dcenter%3BverticalAlign%3Dmiddle%3Bresizable%3D0%3Bpoints%3D%5B%5D%3BfontSize%3D18%3BfontFamily%3DCourier%20New%3BfontStyle%3D2%22%20vertex%3D%221%22%20connectable%3D%220%22%20parent%3D%221%22%3E%3CmxGeometry%20x%3D%22440%22%20y%3D%22340%22%20as%3D%22geometry%22%3E%3CmxPoint%20x%3D%22-40%22%20y%3D%2217%22%20as%3D%22offset%22%2F%3E%3C%2FmxGeometry%3E%3C%2FmxCell%3E%3C%2Froot%3E%3C%2FmxGraphModel%3Et</span></div></div></div></foreignObject><text fill=\"#000000\" font-family=\"Courier New\" font-size=\"18px\" text-anchor=\"middle\" x=\"287\" y=\"295\">%3CmxG...</text></switch></g><g transform=\"translate(-0.5 -0.5)\"><switch><foreignObject height=\"100%\" pointer-events=\"none\" requiredFeatures=\"http://www.w3.org/TR/SVG11/feature#Extensibility\" style=\"overflow: visible; text-align: left;\" width=\"100%\"><div style=\"display: flex; align-items: unsafe center; justify-content: unsafe center; width: 1px; height: 1px; padding-top: 287px; margin-left: 289px;\" xmlns=\"http://www.w3.org/1999/xhtml\"><div style=\"box-sizing: border-box; font-size: 0; text-align: center; \"><div style=\"display: inline-block; font-size: 18px; font-family: Courier New; color: #000000; line-height: 1.2; pointer-events: all; background-color: #ffffff; white-space: nowrap; \"><span style=\"color: rgba(0 , 0 , 0 , 0) ; font-family: monospace ; font-size: 0px ; background-color: rgb(248 , 249 , 250)\">%3CmxGraphModel%3E%3Croot%3E%3CmxCell%20id%3D%220%22%2F%3E%3CmxCell%20id%3D%221%22%20parent%3D%220%22%2F%3E%3CmxCell%20id%3D%222%22%20value%3D%22%26lt%3Bfont%20face%3D%26quot%3BGeorgia%26quot%3B%26gt%3Bt%26lt%3B%2Ffont%26gt%3B%22%20style%3D%22edgeLabel%3Bhtml%3D1%3Balign%3Dcenter%3BverticalAlign%3Dmiddle%3Bresizable%3D0%3Bpoints%3D%5B%5D%3BfontSize%3D18%3BfontFamily%3DCourier%20New%3BfontStyle%3D2%22%20vertex%3D%221%22%20connectable%3D%220%22%20parent%3D%221%22%3E%3CmxGeometry%20x%3D%22440%22%20y%3D%22340%22%20as%3D%22geometry%22%3E%3CmxPoint%20x%3D%22-40%22%20y%3D%2217%22%20as%3D%22offset%22%2F%3E%3C%2FmxGeometry%3E%3C%2FmxCell%3E%3C%2Froot%3E%3C%2FmxGraphModel%3</span></div></div></div></foreignObject><text fill=\"#000000\" font-family=\"Courier New\" font-size=\"18px\" text-anchor=\"middle\" x=\"289\" y=\"292\">%3CmxGraphModel%3E%3Croot%3E%3CmxCell%20id%3D%220%22%2F%3E%3CmxCell%20id%3D%221%22%20parent%3D%220%22%2F%3E%3CmxCell%20id%3D%222%22%20value%3D%22%26lt%3Bfont%20face%3D%26quot%3BGeorgia%26quot%3B%26gt%3Bt%26lt%3B%2Ffont%26gt%3B%22%20style%3D%22edgeLabel%3Bhtml%3D1%3Balign%3Dcenter%3BverticalAlign%3Dmiddle%3Bresizable%3D0%3Bpoints%3D%5B%5D%3BfontSize%3D18%3BfontFamily%3DCourier%20New%3BfontStyle%3D2%22%20vertex%3D%221%22%20connectable%3D%220%22%20parent%3D%221%22%3E%3CmxGeometry%20x%3D%22440%22%20y%3D%22340%22%20as%3D%22geometry%22%3E%3CmxPoint%20x%3D%22-40%22%20y%3D%2217%22%20as%3D%22offset%22%2F%3E%3C%2FmxGeometry%3E%3C%2FmxCell%3E%3C%2Froot%3E%3C%2FmxGraphModel%3</text></switch></g><path d=\"M 47 300 L 280.63 300\" fill=\"none\" pointer-events=\"stroke\" stroke=\"#000000\" stroke-miterlimit=\"10\"/><path d=\"M 285.88 300 L 278.88 303.5 L 280.63 300 L 278.88 296.5 Z\" fill=\"#000000\" pointer-events=\"all\" stroke=\"#000000\" stroke-miterlimit=\"10\"/><g transform=\"translate(-0.5 -0.5)\"><switch><foreignObject height=\"100%\" pointer-events=\"none\" requiredFeatures=\"http://www.w3.org/TR/SVG11/feature#Extensibility\" style=\"overflow: visible; text-align: left;\" width=\"100%\"><div style=\"display: flex; align-items: unsafe center; justify-content: unsafe center; width: 1px; height: 1px; padding-top: 311px; margin-left: 168px;\" xmlns=\"http://www.w3.org/1999/xhtml\"><div style=\"box-sizing: border-box; font-size: 0; text-align: center; \"><div style=\"display: inline-block; font-size: 18px; font-family: Georgia; color: #000000; line-height: 1.2; pointer-events: all; background-color: #ffffff; white-space: nowrap; \"><i>t</i></div></div></div></foreignObject><text fill=\"#000000\" font-family=\"Georgia\" font-size=\"18px\" text-anchor=\"middle\" x=\"168\" y=\"316\">t</text></switch></g><path d=\"M 367 270 L 680.63 270\" fill=\"none\" pointer-events=\"stroke\" stroke=\"#000000\" stroke-miterlimit=\"10\"/><path d=\"M 685.88 270 L 678.88 273.5 L 680.63 270 L 678.88 266.5 Z\" fill=\"#000000\" pointer-events=\"all\" stroke=\"#000000\" stroke-miterlimit=\"10\"/><path d=\"M 407 310 L 407 26.37\" fill=\"none\" pointer-events=\"stroke\" stroke=\"#000000\" stroke-miterlimit=\"10\"/><path d=\"M 407 21.12 L 410.5 28.12 L 407 26.37 L 403.5 28.12 Z\" fill=\"#000000\" pointer-events=\"all\" stroke=\"#000000\" stroke-miterlimit=\"10\"/><g transform=\"translate(-0.5 -0.5)\"><switch><foreignObject height=\"100%\" pointer-events=\"none\" requiredFeatures=\"http://www.w3.org/TR/SVG11/feature#Extensibility\" style=\"overflow: visible; text-align: left;\" width=\"100%\"><div style=\"display: flex; align-items: unsafe center; justify-content: unsafe center; width: 1px; height: 1px; padding-top: 11px; margin-left: 409px;\" xmlns=\"http://www.w3.org/1999/xhtml\"><div style=\"box-sizing: border-box; font-size: 0; text-align: center; \"><div style=\"display: inline-block; font-size: 18px; font-family: Georgia; color: #000000; line-height: 1.2; pointer-events: all; background-color: #ffffff; white-space: nowrap; \"><i>v</i></div></div></div></foreignObject><text fill=\"#000000\" font-family=\"Georgia\" font-size=\"18px\" text-anchor=\"middle\" x=\"409\" y=\"16\">v</text></switch></g><path d=\"M 407 270 L 647 30\" fill=\"none\" pointer-events=\"stroke\" stroke=\"#000000\" stroke-miterlimit=\"10\" stroke-width=\"2\"/><path d=\"M 647 270 L 647 36.37\" fill=\"none\" pointer-events=\"stroke\" stroke=\"#000000\" stroke-miterlimit=\"10\"/><path d=\"M 647 31.12 L 650.5 38.12 L 647 36.37 L 643.5 38.12 Z\" fill=\"#000000\" pointer-events=\"all\" stroke=\"#000000\" stroke-miterlimit=\"10\"/><g transform=\"translate(-0.5 -0.5)\"><switch><foreignObject height=\"100%\" pointer-events=\"none\" requiredFeatures=\"http://www.w3.org/TR/SVG11/feature#Extensibility\" style=\"overflow: visible; text-align: left;\" width=\"100%\"><div style=\"display: flex; align-items: unsafe center; justify-content: unsafe center; width: 1px; height: 1px; padding-top: 159px; margin-left: 658px;\" xmlns=\"http://www.w3.org/1999/xhtml\"><div style=\"box-sizing: border-box; font-size: 0; text-align: center; \"><div style=\"display: inline-block; font-size: 18px; font-family: Courier New; color: #000000; line-height: 1.2; pointer-events: all; background-color: #ffffff; white-space: nowrap; \"><font face=\"Georgia\"><i>at</i></font></div></div></div></foreignObject><text fill=\"#000000\" font-family=\"Courier New\" font-size=\"18px\" text-anchor=\"middle\" x=\"658\" y=\"164\">at</text></switch></g><path d=\"M 647 310 L 647 270\" fill=\"none\" pointer-events=\"stroke\" stroke=\"#000000\" stroke-dasharray=\"3 3\" stroke-miterlimit=\"10\"/><g transform=\"translate(-0.5 -0.5)\"><switch><foreignObject height=\"100%\" pointer-events=\"none\" requiredFeatures=\"http://www.w3.org/TR/SVG11/feature#Extensibility\" style=\"overflow: visible; text-align: left;\" width=\"100%\"><div style=\"display: flex; align-items: unsafe center; justify-content: unsafe center; width: 1px; height: 1px; padding-top: 290px; margin-left: 647px;\" xmlns=\"http://www.w3.org/1999/xhtml\"><div style=\"box-sizing: border-box; font-size: 0; text-align: center; \"><div style=\"display: inline-block; font-size: 18px; font-family: Courier New; color: #000000; line-height: 1.2; pointer-events: all; background-color: #ffffff; white-space: nowrap; \"><span style=\"color: rgba(0 , 0 , 0 , 0) ; font-family: monospace ; font-size: 0px ; background-color: rgb(248 , 249 , 250)\">%3CmxGraphModel%3E%3Croot%3E%3CmxCell%20id%3D%220%22%2F%3E%3CmxCell%20id%3D%221%22%20parent%3D%220%22%2F%3E%3CmxCell%20id%3D%222%22%20value%3D%22%26lt%3Bfont%20face%3D%26quot%3BGeorgia%26quot%3B%26gt%3Bt%26lt%3B%2Ffont%26gt%3B%22%20style%3D%22edgeLabel%3Bhtml%3D1%3Balign%3Dcenter%3BverticalAlign%3Dmiddle%3Bresizable%3D0%3Bpoints%3D%5B%5D%3BfontSize%3D18%3BfontFamily%3DCourier%20New%3BfontStyle%3D2%22%20vertex%3D%221%22%20connectable%3D%220%22%20parent%3D%221%22%3E%3CmxGeometry%20x%3D%22440%22%20y%3D%22340%22%20as%3D%22geometry%22%3E%3CmxPoint%20x%3D%22-40%22%20y%3D%2217%22%20as%3D%22offset%22%2F%3E%3C%2FmxGeometry%3E%3C%2FmxCell%3E%3C%2Froot%3E%3C%2FmxGraphModel%3Et</span></div></div></div></foreignObject><text fill=\"#000000\" font-family=\"Courier New\" font-size=\"18px\" text-anchor=\"middle\" x=\"647\" y=\"295\">%3CmxG...</text></switch></g><g transform=\"translate(-0.5 -0.5)\"><switch><foreignObject height=\"100%\" pointer-events=\"none\" requiredFeatures=\"http://www.w3.org/TR/SVG11/feature#Extensibility\" style=\"overflow: visible; text-align: left;\" width=\"100%\"><div style=\"display: flex; align-items: unsafe center; justify-content: unsafe center; width: 1px; height: 1px; padding-top: 287px; margin-left: 649px;\" xmlns=\"http://www.w3.org/1999/xhtml\"><div style=\"box-sizing: border-box; font-size: 0; text-align: center; \"><div style=\"display: inline-block; font-size: 18px; font-family: Courier New; color: #000000; line-height: 1.2; pointer-events: all; background-color: #ffffff; white-space: nowrap; \"><span style=\"color: rgba(0 , 0 , 0 , 0) ; font-family: monospace ; font-size: 0px ; background-color: rgb(248 , 249 , 250)\">%3CmxGraphModel%3E%3Croot%3E%3CmxCell%20id%3D%220%22%2F%3E%3CmxCell%20id%3D%221%22%20parent%3D%220%22%2F%3E%3CmxCell%20id%3D%222%22%20value%3D%22%26lt%3Bfont%20face%3D%26quot%3BGeorgia%26quot%3B%26gt%3Bt%26lt%3B%2Ffont%26gt%3B%22%20style%3D%22edgeLabel%3Bhtml%3D1%3Balign%3Dcenter%3BverticalAlign%3Dmiddle%3Bresizable%3D0%3Bpoints%3D%5B%5D%3BfontSize%3D18%3BfontFamily%3DCourier%20New%3BfontStyle%3D2%22%20vertex%3D%221%22%20connectable%3D%220%22%20parent%3D%221%22%3E%3CmxGeometry%20x%3D%22440%22%20y%3D%22340%22%20as%3D%22geometry%22%3E%3CmxPoint%20x%3D%22-40%22%20y%3D%2217%22%20as%3D%22offset%22%2F%3E%3C%2FmxGeometry%3E%3C%2FmxCell%3E%3C%2Froot%3E%3C%2FmxGraphModel%3</span></div></div></div></foreignObject><text fill=\"#000000\" font-family=\"Courier New\" font-size=\"18px\" text-anchor=\"middle\" x=\"649\" y=\"292\">%3CmxGraphModel%3E%3Croot%3E%3CmxCell%20id%3D%220%22%2F%3E%3CmxCell%20id%3D%221%22%20parent%3D%220%22%2F%3E%3CmxCell%20id%3D%222%22%20value%3D%22%26lt%3Bfont%20face%3D%26quot%3BGeorgia%26quot%3B%26gt%3Bt%26lt%3B%2Ffont%26gt%3B%22%20style%3D%22edgeLabel%3Bhtml%3D1%3Balign%3Dcenter%3BverticalAlign%3Dmiddle%3Bresizable%3D0%3Bpoints%3D%5B%5D%3BfontSize%3D18%3BfontFamily%3DCourier%20New%3BfontStyle%3D2%22%20vertex%3D%221%22%20connectable%3D%220%22%20parent%3D%221%22%3E%3CmxGeometry%20x%3D%22440%22%20y%3D%22340%22%20as%3D%22geometry%22%3E%3CmxPoint%20x%3D%22-40%22%20y%3D%2217%22%20as%3D%22offset%22%2F%3E%3C%2FmxGeometry%3E%3C%2FmxCell%3E%3C%2Froot%3E%3C%2FmxGraphModel%3</text></switch></g><path d=\"M 407 270 L 640.63 270\" fill=\"none\" pointer-events=\"stroke\" stroke=\"#000000\" stroke-miterlimit=\"10\"/><path d=\"M 645.88 270 L 638.88 273.5 L 640.63 270 L 638.88 266.5 Z\" fill=\"#000000\" pointer-events=\"all\" stroke=\"#000000\" stroke-miterlimit=\"10\"/><g transform=\"translate(-0.5 -0.5)\"><switch><foreignObject height=\"100%\" pointer-events=\"none\" requiredFeatures=\"http://www.w3.org/TR/SVG11/feature#Extensibility\" style=\"overflow: visible; text-align: left;\" width=\"100%\"><div style=\"display: flex; align-items: unsafe center; justify-content: unsafe center; width: 1px; height: 1px; padding-top: 281px; margin-left: 528px;\" xmlns=\"http://www.w3.org/1999/xhtml\"><div style=\"box-sizing: border-box; font-size: 0; text-align: center; \"><div style=\"display: inline-block; font-size: 18px; font-family: Georgia; color: #000000; line-height: 1.2; pointer-events: all; background-color: #ffffff; white-space: nowrap; \"><i>t</i></div></div></div></foreignObject><text fill=\"#000000\" font-family=\"Georgia\" font-size=\"18px\" text-anchor=\"middle\" x=\"528\" y=\"286\">t</text></switch></g></g><switch><g requiredFeatures=\"http://www.w3.org/TR/SVG11/feature#Extensibility\"/><a target=\"_blank\" transform=\"translate(0,-5)\" xlink:href=\"https://desk.draw.io/support/solutions/articles/16000042487\"><text font-size=\"10px\" text-anchor=\"middle\" x=\"50%\" y=\"100%\">Viewer does not support full SVG 1.1</text></a></switch></svg>"
          },
          "metadata": {
            "tags": []
          }
        }
      ]
    },
    {
      "cell_type": "markdown",
      "metadata": {
        "id": "jP1h25SB35od"
      },
      "source": [
        "上の図の左側をみながら次のように考えて下さい.\n",
        "1. 時間を等間隔で分割する\n",
        "2. 時間分割の両端の平均速度 $\\bar{v}$ を使って  \n",
        "変位 $\\Delta x = \\bar{v} \\Delta t$ を求める.\n",
        "3. 求めた $\\Delta x$ を全て加える.\n",
        "\n",
        "この考え方で 分割を増やし $\\Delta t$ を小さくすれば 右の図のようになります.  \n",
        "つまり「時間軸と $v-t$ グラフで囲まれた(三角形の)面積が 変位 $s$」ということができます.\n",
        "\n",
        "---\n",
        "初速度 $v_0$ がゼロ(初め静止していた)の物体の等加速度直線運動は\n",
        "\n",
        "\\begin{align*}\n",
        "a &: \b\\text{一定}&\\\\\n",
        "v &= at&\\\\\n",
        "s &= \\dfrac{1}{2} v \\cdot t = \\dfrac{1}{2} a t^2\n",
        "\\end{align*}\n"
      ]
    },
    {
      "cell_type": "code",
      "metadata": {
        "cellView": "form",
        "id": "Ns93yOEgwnom"
      },
      "source": [
        "#@title 等加速度直線運動における $a-t, v-t, s-t$ の関係(ここをクリック+再生)\n",
        "%matplotlib inline\n",
        "import matplotlib.pyplot as plt\n",
        "from ipywidgets import interact\n",
        "import numpy as np\n",
        "plt.style.use('ggplot')\n",
        "\n",
        "(a_init, T) = (5.0, 10)\n",
        "\n",
        "# 初期描画のための空の Figure を作成しない\n",
        "# plt.figure()  <- この行を削除\n",
        "\n",
        "t = np.linspace(0, T)\n",
        "# a, v = [], [] <- この行は interact デコレータ内で a が定義されるため不要\n",
        "\n",
        "@interact(a=(-7,+7))\n",
        "def f(a):\n",
        "    fig = plt.figure(figsize=(9,3))\n",
        "\n",
        "    # グラフ間の幅を調整\n",
        "    plt.subplots_adjust(wspace=0.5, hspace=0.5)\n",
        "\n",
        "    at = fig.add_subplot(1, 3, 1)\n",
        "    at.plot(t , a + 0*t )\n",
        "    at.plot(t , 0*t )\n",
        "    at.set_xlabel('$t$ [s]')\n",
        "    at.set_ylabel('$a$ [m/s$^2$]')\n",
        "    at.set_title('$a-t$')\n",
        "    at.set_xlim([0, 8])\n",
        "    at.set_ylim([-10, 10])\n",
        "\n",
        "    vt = fig.add_subplot(1, 3, 2)\n",
        "    vt.plot(t , a*t )\n",
        "    vt.plot(t , 0*t )\n",
        "    vt.set_xlabel('$t$ [s]')\n",
        "    vt.set_ylabel('$v$ [m/s]')\n",
        "    vt.set_title('$v-t$')\n",
        "    vt.set_xlim([0, 8])\n",
        "    vt.set_ylim([-25, 25])\n",
        "\n",
        "    st = fig.add_subplot(1, 3, 3)\n",
        "    st.plot(t , 0.5*a*t**2 )\n",
        "    st.plot(t , 0*t )\n",
        "    st.set_xlabel('$t$ [s]')\n",
        "    st.set_ylabel('$s$ [m]')\n",
        "    st.set_title('$s-t$')\n",
        "    st.set_xlim([0, 8])\n",
        "    st.set_ylim([-40, 40])\n",
        "\n",
        "    plt.show()"
      ],
      "execution_count": null,
      "outputs": []
    },
    {
      "cell_type": "markdown",
      "metadata": {
        "id": "muhn2dRN9sYA"
      },
      "source": [
        "## 初速度がゼロでないときの等加速度直線運動"
      ]
    },
    {
      "cell_type": "markdown",
      "metadata": {
        "id": "pGNFIfUX9_Xl"
      },
      "source": [
        "加速度の定義から入ると簡単ですので以下ではその方法を紹介します.\n",
        "\n",
        "+ 等加速度直線運動なので, 加速度はどこで測定しても同じ\n",
        "+ $t=0\\ {\\rm s}$ での速度を初速度$v_0$, $t>0$ での速度を $v$ とする\n",
        "\n",
        "\\begin{align*}\n",
        " a &= \\dfrac{\\Delta v}{\\Delta t}\n",
        "   = \\dfrac{v_2 - v_1 }{t_2 - t_1} &\\\\\n",
        "  a&= \\dfrac{v - v_0 }{t - 0} &\\\\\n",
        "  at & = v - v_0&\\\\\n",
        "\\end{align*}\n",
        "\n",
        "> $(1.8) \\qquad v = v_0 + a\\cdot t$\n",
        "\n",
        "---\n",
        "\n",
        "初速度がゼロでないときの等加速度直線運動は(教科書 図1.10 を利用)\n",
        "\n",
        "\\begin{align*}\n",
        "a &: \b\\text{一定}&\\\\\n",
        "v &= v_0 + at&\\\\\n",
        "s &= \\dfrac{1}{2} \\left(v_0+ v_0+ at \\right)\\cdot t\n",
        "= v_0t + \\dfrac{1}{2} a t^2\n",
        "\\end{align*}\n",
        "\n",
        "最後の変位 $s$ の式の第一項は **等速直線運動** の変位,  \n",
        "第二項は $v_0=0$ とした等加速度直線運動の変位を表しています.\n"
      ]
    },
    {
      "cell_type": "markdown",
      "metadata": {
        "id": "pYK3MJoMRIXQ"
      },
      "source": [
        "> ここまで整理した知識を利用して, 教科書の例題1.3, 1.4, 1.5に 取り組みましょう."
      ]
    }
  ]
}