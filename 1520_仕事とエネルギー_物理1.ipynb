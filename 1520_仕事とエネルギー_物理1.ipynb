{
  "nbformat": 4,
  "nbformat_minor": 0,
  "metadata": {
    "colab": {
      "name": "1520_仕事とエネルギー_物理1",
      "provenance": [],
      "authorship_tag": "ABX9TyPgS2/ba/IZSeheQ3/dl3af",
      "include_colab_link": true
    },
    "kernelspec": {
      "name": "python3",
      "display_name": "Python 3"
    }
  },
  "cells": [
    {
      "cell_type": "markdown",
      "metadata": {
        "id": "view-in-github",
        "colab_type": "text"
      },
      "source": [
        "<a href=\"https://colab.research.google.com/github/kzhkAKT/Physics1/blob/draft/1520_%E4%BB%95%E4%BA%8B%E3%81%A8%E3%82%A8%E3%83%8D%E3%83%AB%E3%82%AE%E3%83%BC_%E7%89%A9%E7%90%861.ipynb\" target=\"_parent\"><img src=\"https://colab.research.google.com/assets/colab-badge.svg\" alt=\"Open In Colab\"/></a>"
      ]
    },
    {
      "cell_type": "code",
      "metadata": {
        "id": "uSYbtjeSMo2b",
        "colab_type": "code",
        "cellView": "form",
        "colab": {
          "base_uri": "https://localhost:8080/",
          "height": 475
        },
        "outputId": "10cd4008-5ca5-48c2-c8a6-ce016e212d23"
      },
      "source": [
        "#@title 斜面の高さは同じであれば... [Slow Motion+Playground+Friction:None]\n",
        "%%html\n",
        "<iframe src=\"https://phet.colorado.edu/sims/html/energy-skate-park-basics/latest/energy-skate-park-basics_en.html\" width=\"600\" height=\"450\" scrolling=\"no\" allowfullscreen></iframe>"
      ],
      "execution_count": 1,
      "outputs": [
        {
          "output_type": "display_data",
          "data": {
            "text/html": [
              "<iframe src=\"https://phet.colorado.edu/sims/html/energy-skate-park-basics/latest/energy-skate-park-basics_en.html\" width=\"600\" height=\"450\" scrolling=\"no\" allowfullscreen></iframe>"
            ],
            "text/plain": [
              "<IPython.core.display.HTML object>"
            ]
          },
          "metadata": {
            "tags": []
          }
        }
      ]
    },
    {
      "cell_type": "code",
      "metadata": {
        "colab_type": "code",
        "cellView": "form",
        "id": "DOfi0PJxvrYp",
        "colab": {
          "base_uri": "https://localhost:8080/",
          "height": 475
        },
        "outputId": "10cd4008-5ca5-48c2-c8a6-ce016e212d23"
      },
      "source": [
        "#@title 両端の速さに注目... [Slow Motion+Intro]\n",
        "%%html\n",
        "<iframe src=\"https://phet.colorado.edu/sims/html/energy-skate-park-basics/latest/energy-skate-park-basics_en.html\" width=\"600\" height=\"450\" scrolling=\"no\" allowfullscreen></iframe>"
      ],
      "execution_count": null,
      "outputs": [
        {
          "output_type": "display_data",
          "data": {
            "text/html": [
              "<iframe src=\"https://phet.colorado.edu/sims/html/energy-skate-park-basics/latest/energy-skate-park-basics_en.html\" width=\"600\" height=\"450\" scrolling=\"no\" allowfullscreen></iframe>"
            ],
            "text/plain": [
              "<IPython.core.display.HTML object>"
            ]
          },
          "metadata": {
            "tags": []
          }
        }
      ]
    },
    {
      "cell_type": "code",
      "metadata": {
        "id": "soL6qlsyu76w",
        "colab_type": "code",
        "colab": {
          "base_uri": "https://localhost:8080/",
          "height": 336
        },
        "cellView": "form",
        "outputId": "e2e7d03b-b0a8-485c-e961-9072f3eff4f5"
      },
      "source": [
        "#@title 危険な実験 @ MIT\n",
        "%%html\n",
        "<iframe width=\"560\" height=\"315\" src=\"https://www.youtube-nocookie.com/embed/PWNs7i4rEWA\" frameborder=\"0\" allow=\"accelerometer; autoplay; encrypted-media; gyroscope; picture-in-picture\" allowfullscreen></iframe>"
      ],
      "execution_count": 3,
      "outputs": [
        {
          "output_type": "display_data",
          "data": {
            "text/html": [
              "<iframe width=\"560\" height=\"315\" src=\"https://www.youtube-nocookie.com/embed/PWNs7i4rEWA\" frameborder=\"0\" allow=\"accelerometer; autoplay; encrypted-media; gyroscope; picture-in-picture\" allowfullscreen></iframe>"
            ],
            "text/plain": [
              "<IPython.core.display.HTML object>"
            ]
          },
          "metadata": {
            "tags": []
          }
        }
      ]
    },
    {
      "cell_type": "markdown",
      "metadata": {
        "id": "cLqmcGExwqRu",
        "colab_type": "text"
      },
      "source": [
        "### エネルギー\n",
        "\n",
        "- (物理的な)仕事をする能力. \n",
        "- 仕事という物理量は, 単位 J で表される.\n",
        "  - 同じ単位の物理量は, 加法減法が容易2できる.\n",
        "  - エネルギーの単位も,  単位 J となることが, 後でわかります\n",
        "- 物体に蓄えられるエネルギーは, 仕事と同様に\n",
        "  > 力 × 動かした距離\n",
        "\n",
        "  で与えられる.\n",
        "\n",
        "- 物体が持つエネルギーは,\n",
        "  - 物体が外部から仕事を加えられれば増加し,\n",
        "  - 物体が外部に対して仕事をすれば減少する"
      ]
    }
  ]
}