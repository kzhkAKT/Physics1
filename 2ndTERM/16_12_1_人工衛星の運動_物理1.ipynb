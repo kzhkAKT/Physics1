{
  "nbformat": 4,
  "nbformat_minor": 0,
  "metadata": {
    "colab": {
      "name": "16_12_1_人工衛星の運動_物理1",
      "provenance": [],
      "authorship_tag": "ABX9TyP+MCLHxtNsHh1CbN0ftFFM",
      "include_colab_link": true
    },
    "kernelspec": {
      "name": "python3",
      "display_name": "Python 3"
    }
  },
  "cells": [
    {
      "cell_type": "markdown",
      "metadata": {
        "id": "view-in-github",
        "colab_type": "text"
      },
      "source": [
        "<a href=\"https://colab.research.google.com/github/kzhkAKT/Physics1/blob/draft/2ndTERM/16_12_1_%E4%BA%BA%E5%B7%A5%E8%A1%9B%E6%98%9F%E3%81%AE%E9%81%8B%E5%8B%95_%E7%89%A9%E7%90%861.ipynb\" target=\"_parent\"><img src=\"https://colab.research.google.com/assets/colab-badge.svg\" alt=\"Open In Colab\"/></a>"
      ]
    },
    {
      "cell_type": "markdown",
      "metadata": {
        "id": "PZo0KOeN0Jk3"
      },
      "source": [
        "# 平面空間での運動"
      ]
    },
    {
      "cell_type": "code",
      "metadata": {
        "colab": {
          "base_uri": "https://localhost:8080/",
          "height": 475
        },
        "id": "7EN2ypOi_eZp",
        "cellView": "form",
        "outputId": "1f0239ff-1b4f-43e4-f961-a9309b5a61b9"
      },
      "source": [
        "#@title 人工衛星の運動: To Scale\n",
        "%%html\n",
        "<iframe src=\"https://phet.colorado.edu/sims/html/gravity-and-orbits/latest/gravity-and-orbits_en.html\" width=\"600\" height=\"450\" scrolling=\"no\" allowfullscreen></iframe>"
      ],
      "execution_count": null,
      "outputs": [
        {
          "output_type": "display_data",
          "data": {
            "text/html": [
              "<iframe src=\"https://phet.colorado.edu/sims/html/gravity-and-orbits/latest/gravity-and-orbits_en.html\" width=\"600\" height=\"450\" scrolling=\"no\" allowfullscreen></iframe>"
            ],
            "text/plain": [
              "<IPython.core.display.HTML object>"
            ]
          },
          "metadata": {
            "tags": []
          }
        }
      ]
    },
    {
      "cell_type": "markdown",
      "metadata": {
        "id": "m_hqfEbrA1bZ"
      },
      "source": [
        "[軌道運動の基本,JAXA](https://spaceinfo.jaxa.jp/ja/orbital_motion.html)\n",
        "\n",
        "![](https://spaceinfo.jaxa.jp/files/20289.jpg)\n",
        "\n",
        ">> 地球表面の空気による摩擦(まさつ)を無視して、物体と地球の重力だけを考えたとき、人工衛星になるための速度を「第1宇宙速度」といい、約7.9km/秒です。"
      ]
    },
    {
      "cell_type": "markdown",
      "metadata": {
        "id": "uL8UR6CmBUvH"
      },
      "source": [
        "[探査機の「方向」により軌道にのるために必要な「速度」がちがう,JAXA](https://spaceinfo.jaxa.jp/ja/astronautical_velocity.html)\n",
        "\n",
        "![](https://spaceinfo.jaxa.jp/files/2313.jpg)"
      ]
    },
    {
      "cell_type": "markdown",
      "metadata": {
        "id": "Kb8YumsHBico"
      },
      "source": [
        "1. 教科書 上巻 p19 (1.13) で **万有引力の法則** を復習してください.\n",
        "  - 教科書 上巻 p69 図1.94 を用いて, 地球(質量 $M$)と人工衛星(質量 $m$)に働く万有引力の大きさ $F_{G}$ 示してください.\n",
        "\n",
        "2. 人工衛星(質量 $m$)が, 図1.94 の円軌道半径で 速さ $v$ の等速円運動を行うことを踏まえ\n",
        "  - 人工衛星に働く向心力の大きさ $F$ を求めてください.\n",
        "\n",
        "3. 地球と人工衛星に働く万有引力が, 人工衛星が等速円運動する源なることを踏まえ,  \n",
        "  人工衛星の速さ $v$ を求めてください.\n",
        "\n",
        "4. $h=0$ とすると **第一宇宙速度** $v_{\\rm I}$ が求まります.\n",
        "  - 教科書 上巻 p19 例題1.8を用いて, 万有引力定数 $G$ を $g,M,R$ で示してください。\n",
        "  - 重力加速度の大きさ $g={\\rm 9.8 \\ m/s^2}$, 地球の半径の大きさ $R={\\rm 6\\ 371 \\ km}$ として, $v_{\\rm I}$ の数値を計算してください.\n",
        "\n",
        "5. $h\\neq 0$ のとき, 人工衛星の周期 $T$ を求めてください.\n",
        "  - 地球を回る人工衛星の周期 $T$ は $R,M,G$ が一定とすると, 何に依存するか考えてください.\n",
        "  - [静止軌道,Geostationary orbit](https://en.wikipedia.org/wiki/Geostationary_orbit) について検索してください.\n"
      ]
    },
    {
      "cell_type": "markdown",
      "metadata": {
        "id": "jOGrJMmt33-W"
      },
      "source": [
        "上記リストを式で表現すると"
      ]
    },
    {
      "cell_type": "markdown",
      "metadata": {
        "id": "y0EntWcw1lok"
      },
      "source": [
        "$\\require{cancel}$\n",
        "1. \\begin{align}\n",
        "F_{G} = G\\dfrac{mM}{\\left(R+h\\right)^2}\n",
        "\\end{align}\n",
        "\n",
        "2. \\begin{align}\n",
        "F = m \\dfrac{v^2}{\\left(R+h\\right)}\n",
        "\\end{align}\n",
        "\n",
        "3. $F = F_{G}$\n",
        "\\begin{align}\n",
        "\\cancel{m} \\dfrac{v^2}{\\bcancel{\\left(R+h\\right)}}\n",
        "&=\n",
        "G\\dfrac{\\cancel{m}M}{\\left(R+h\\right)^{\\bcancel{2}}}\\\\\n",
        "\\left| v \\right|\n",
        "&=\n",
        "\\sqrt{\\dfrac{GM}{R+h}}\n",
        "\\end{align}\n",
        "\n",
        "4. $h=0, \\cancel{m}g = G\\dfrac{\\cancel{m}M}{R^2} $ \n",
        "\\begin{align}\n",
        "\\left| v \\right|\n",
        "&=\n",
        "\\sqrt{\\dfrac{GM}{R+h}}\\\\[2mm]\n",
        "v_{\\rm I}\n",
        "&=\n",
        "\\sqrt{\\dfrac{GM}{R}}\n",
        "= \\sqrt{\\dfrac{gR^2}{R}} = \\sqrt{gR}\n",
        "\\end{align}\n",
        "\n",
        "5. $h \\neq 0; v = \\dfrac{2\\pi r}{T}$\n",
        "\\begin{align}\n",
        "\\left| v \\right|\n",
        "&=\n",
        "\\sqrt{\\dfrac{GM}{R+h}}\n",
        "= \\dfrac{2\\pi \\left(R+h\\right)}{T}\n",
        "\\\\[2mm]\n",
        "T &= 2 \\pi \\left(R+h\\right) \\sqrt{\\dfrac{R+h}{GM}}= T\\left(h\\right)\n",
        "\\end{align}"
      ]
    }
  ]
}