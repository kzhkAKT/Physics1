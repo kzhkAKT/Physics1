{
  "nbformat": 4,
  "nbformat_minor": 0,
  "metadata": {
    "colab": {
      "name": "1_6_15_0_単振り子_物理1",
      "provenance": [],
      "collapsed_sections": [],
      "toc_visible": true,
      "authorship_tag": "ABX9TyM0BAV0uEpzKf5KaSMfwKs6",
      "include_colab_link": true
    },
    "kernelspec": {
      "name": "python3",
      "display_name": "Python 3"
    }
  },
  "cells": [
    {
      "cell_type": "markdown",
      "metadata": {
        "id": "view-in-github",
        "colab_type": "text"
      },
      "source": [
        "<a href=\"https://colab.research.google.com/github/kzhkAKT/Physics1/blob/draft/2ndTERM/1_6_15_0_%E5%8D%98%E6%8C%AF%E3%82%8A%E5%AD%90_%E7%89%A9%E7%90%861.ipynb\" target=\"_parent\"><img src=\"https://colab.research.google.com/assets/colab-badge.svg\" alt=\"Open In Colab\"/></a>"
      ]
    },
    {
      "cell_type": "markdown",
      "metadata": {
        "id": "PZo0KOeN0Jk3"
      },
      "source": [
        "# 平面空間での運動"
      ]
    },
    {
      "cell_type": "markdown",
      "metadata": {
        "id": "EUzAlzJ0AOTu"
      },
      "source": [
        "## 単振り子"
      ]
    },
    {
      "cell_type": "markdown",
      "metadata": {
        "id": "aKx6BgE0AD85"
      },
      "source": [
        "![https://ja.wikipedia.org/wiki/%E6%8C%AF%E3%82%8A%E5%AD%90](https://upload.wikimedia.org/wikipedia/commons/thumb/9/94/Ingamozgas.jpg/640px-Ingamozgas.jpg)"
      ]
    },
    {
      "cell_type": "markdown",
      "metadata": {
        "id": "iOKP5A6TBkrg"
      },
      "source": [
        "![https://ru.wikipedia.org/wiki/%D0%9C%D0%B0%D1%8F%D1%82%D0%BD%D0%B8%D0%BA](https://upload.wikimedia.org/wikipedia/commons/f/f2/Mayatnik.gif)"
      ]
    },
    {
      "cell_type": "markdown",
      "metadata": {
        "id": "rmNhlPD7Cn2c"
      },
      "source": [
        "以下では、話を簡単にするために\n",
        "- 振れ角 $\\theta$ は十分小さい: $\\quad \\theta<<1$\n",
        "- いとのながさ $L$ (または $l,\\ell$)は充分長い: $\\quad L\\ (l,\\ell)>>1$\n",
        "\n",
        "ものとする"
      ]
    },
    {
      "cell_type": "code",
      "metadata": {
        "colab": {
          "base_uri": "https://localhost:8080/",
          "height": 542
        },
        "id": "M28qvgVQBvY0",
        "outputId": "6f9b785a-d046-4bd1-d6f8-9d257edf12df"
      },
      "source": [
        "%%svg\n",
        "<svg xmlns=\"http://www.w3.org/2000/svg\" xmlns:xlink=\"http://www.w3.org/1999/xlink\" version=\"1.1\" width=\"298px\" viewBox=\"-0.5 -0.5 298 521\" content=\"&lt;mxfile host=&quot;app.diagrams.net&quot; modified=&quot;2021-01-12T00:49:10.584Z&quot; agent=&quot;5.0 (Macintosh; Intel Mac OS X 10_10_5) AppleWebKit/537.36 (KHTML, like Gecko) Chrome/87.0.4280.88 Safari/537.36&quot; etag=&quot;TiLjR9oNaVeug3NQ3npe&quot; version=&quot;14.1.8&quot; type=&quot;google&quot;&gt;&lt;diagram id=&quot;Jmedb6hSDyblQt1twdQz&quot; name=&quot;Page-1&quot;&gt;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&lt;/diagram&gt;&lt;/mxfile&gt;\" onclick=\"(function(svg){var src=window.event.target||window.event.srcElement;while (src!=null&amp;&amp;src.nodeName.toLowerCase()!='a'){src=src.parentNode;}if(src==null){if(svg.wnd!=null&amp;&amp;!svg.wnd.closed){svg.wnd.focus();}else{var r=function(evt){if(evt.data=='ready'&amp;&amp;evt.source==svg.wnd){svg.wnd.postMessage(decodeURIComponent(svg.getAttribute('content')),'*');window.removeEventListener('message',r);}};window.addEventListener('message',r);svg.wnd=window.open('https://viewer.diagrams.net/?client=1&amp;page=0&amp;edit=_blank');}}})(this);\" style=\"cursor:pointer;max-width:100%;max-height:521px;\"><defs/><g><image x=\"-0.5\" y=\"-0.5\" width=\"297\" height=\"520\" xlink:href=\"data:image/svg+xml;base64,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\" preserveAspectRatio=\"none\"/><path d=\"M 142 290 L 203.76 290\" fill=\"none\" stroke=\"#000000\" stroke-width=\"2\" stroke-miterlimit=\"10\" pointer-events=\"stroke\"/><path d=\"M 209.76 290 L 201.76 294 L 203.76 290 L 201.76 286 Z\" fill=\"#000000\" stroke=\"#000000\" stroke-width=\"2\" stroke-miterlimit=\"10\" pointer-events=\"all\"/><g transform=\"translate(-0.5 -0.5)\"><switch><foreignObject style=\"overflow: visible; text-align: left;\" pointer-events=\"none\" width=\"100%\" height=\"100%\" requiredFeatures=\"http://www.w3.org/TR/SVG11/feature#Extensibility\"><div xmlns=\"http://www.w3.org/1999/xhtml\" style=\"display: flex; align-items: unsafe center; justify-content: unsafe center; width: 1px; height: 1px; padding-top: 271px; margin-left: 176px;\"><div style=\"box-sizing: border-box; font-size: 0; text-align: center; \"><div style=\"display: inline-block; font-size: 11px; font-family: Helvetica; color: #000000; line-height: 1.2; pointer-events: all; white-space: nowrap; \"><font style=\"font-size: 24px\" face=\"Georgia\"><i>x</i></font></div></div></div></foreignObject><text x=\"176\" y=\"274\" fill=\"#000000\" font-family=\"Helvetica\" font-size=\"11px\" text-anchor=\"middle\">x</text></switch></g><path d=\"M 142 290 L 142 20\" fill=\"none\" stroke=\"#000000\" stroke-miterlimit=\"10\" stroke-dasharray=\"3 3\" pointer-events=\"stroke\"/></g><switch><g requiredFeatures=\"http://www.w3.org/TR/SVG11/feature#Extensibility\"/><a transform=\"translate(0,-5)\" xlink:href=\"https://www.diagrams.net/doc/faq/svg-export-text-problems\" target=\"_blank\"><text text-anchor=\"middle\" font-size=\"10px\" x=\"50%\" y=\"100%\">Viewer does not support full SVG 1.1</text></a></switch></svg>"
      ],
      "execution_count": 2,
      "outputs": [
        {
          "output_type": "display_data",
          "data": {
            "text/plain": [
              "<IPython.core.display.SVG object>"
            ],
            "image/svg+xml": "<svg content=\"&lt;mxfile host=&quot;app.diagrams.net&quot; modified=&quot;2021-01-12T00:49:10.584Z&quot; agent=&quot;5.0 (Macintosh; Intel Mac OS X 10_10_5) AppleWebKit/537.36 (KHTML, like Gecko) Chrome/87.0.4280.88 Safari/537.36&quot; etag=&quot;TiLjR9oNaVeug3NQ3npe&quot; version=&quot;14.1.8&quot; type=&quot;google&quot;&gt;&lt;diagram id=&quot;Jmedb6hSDyblQt1twdQz&quot; name=&quot;Page-1&quot;&gt;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&lt;/diagram&gt;&lt;/mxfile&gt;\" onclick=\"(function(svg){var src=window.event.target||window.event.srcElement;while (src!=null&amp;&amp;src.nodeName.toLowerCase()!='a'){src=src.parentNode;}if(src==null){if(svg.wnd!=null&amp;&amp;!svg.wnd.closed){svg.wnd.focus();}else{var r=function(evt){if(evt.data=='ready'&amp;&amp;evt.source==svg.wnd){svg.wnd.postMessage(decodeURIComponent(svg.getAttribute('content')),'*');window.removeEventListener('message',r);}};window.addEventListener('message',r);svg.wnd=window.open('https://viewer.diagrams.net/?client=1&amp;page=0&amp;edit=_blank');}}})(this);\" style=\"cursor:pointer;max-width:100%;max-height:521px;\" version=\"1.1\" viewBox=\"-0.5 -0.5 298 521\" width=\"298px\" xmlns=\"http://www.w3.org/2000/svg\" xmlns:xlink=\"http://www.w3.org/1999/xlink\"><defs/><g><image height=\"520\" preserveAspectRatio=\"none\" width=\"297\" x=\"-0.5\" xlink:href=\"data:image/svg+xml;base64,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\" y=\"-0.5\"/><path d=\"M 142 290 L 203.76 290\" fill=\"none\" pointer-events=\"stroke\" stroke=\"#000000\" stroke-miterlimit=\"10\" stroke-width=\"2\"/><path d=\"M 209.76 290 L 201.76 294 L 203.76 290 L 201.76 286 Z\" fill=\"#000000\" pointer-events=\"all\" stroke=\"#000000\" stroke-miterlimit=\"10\" stroke-width=\"2\"/><g transform=\"translate(-0.5 -0.5)\"><switch><foreignObject height=\"100%\" pointer-events=\"none\" requiredFeatures=\"http://www.w3.org/TR/SVG11/feature#Extensibility\" style=\"overflow: visible; text-align: left;\" width=\"100%\"><div style=\"display: flex; align-items: unsafe center; justify-content: unsafe center; width: 1px; height: 1px; padding-top: 271px; margin-left: 176px;\" xmlns=\"http://www.w3.org/1999/xhtml\"><div style=\"box-sizing: border-box; font-size: 0; text-align: center; \"><div style=\"display: inline-block; font-size: 11px; font-family: Helvetica; color: #000000; line-height: 1.2; pointer-events: all; white-space: nowrap; \"><font face=\"Georgia\" style=\"font-size: 24px\"><i>x</i></font></div></div></div></foreignObject><text fill=\"#000000\" font-family=\"Helvetica\" font-size=\"11px\" text-anchor=\"middle\" x=\"176\" y=\"274\">x</text></switch></g><path d=\"M 142 290 L 142 20\" fill=\"none\" pointer-events=\"stroke\" stroke=\"#000000\" stroke-dasharray=\"3 3\" stroke-miterlimit=\"10\"/></g><switch><g requiredFeatures=\"http://www.w3.org/TR/SVG11/feature#Extensibility\"/><a target=\"_blank\" transform=\"translate(0,-5)\" xlink:href=\"https://www.diagrams.net/doc/faq/svg-export-text-problems\"><text font-size=\"10px\" text-anchor=\"middle\" x=\"50%\" y=\"100%\">Viewer does not support full SVG 1.1</text></a></switch></svg>"
          },
          "metadata": {
            "tags": []
          }
        }
      ]
    },
    {
      "cell_type": "markdown",
      "metadata": {
        "id": "E262lA-0Ea0P"
      },
      "source": [
        "### 復元力の観察\n",
        "\n",
        "1. 復元力の大きさ: $\\quad |F| = mg\\sin\\theta$\n",
        "2. $\\quad \\theta<<1, (l,\\ell)>>1$ なら、力の方向は **ほぼ水平**\n",
        "\n",
        "復元力は、右向きを正とすると\n",
        "\\begin{align}\n",
        "F = - mg \\sin \\theta\n",
        "\\end{align}\n"
      ]
    },
    {
      "cell_type": "markdown",
      "metadata": {
        "id": "Q4qrWvwiFTK0"
      },
      "source": [
        "### 変位と位相の幾何学的(図形的)関係\n",
        "\n",
        "- $\\quad \\theta<<1,\\quad  (l,\\ell)>>1$ なら、力の方向は **ほぼ水平**\n",
        "\n",
        "より、正弦三角比は\n",
        "\\begin{align}\n",
        "\\sin \\theta = \\dfrac{x}{l}\n",
        "\\end{align}"
      ]
    },
    {
      "cell_type": "markdown",
      "metadata": {
        "id": "qHRZzXR1Fz80"
      },
      "source": [
        "### 運動方程式と単振動\n",
        "\n",
        "これらを融合させると\n",
        "\n",
        "\\begin{align}\n",
        "F = - m\\dfrac{g}{l} x\n",
        "\\end{align}\n",
        "\n",
        "と\n",
        "> 復元力が変位の逆向きに比例している\n",
        "\n",
        "ことがわかる\n"
      ]
    },
    {
      "cell_type": "markdown",
      "metadata": {
        "id": "xx-04Ae4GV_p"
      },
      "source": [
        "これを単振動の基本式と比較すると\n",
        "\\begin{align}\n",
        "F &= m a = -m  \\omega^2  x\\\\[1mm]\n",
        "\\omega^2 &= \\dfrac{g}{l}\\\\[1mm]\n",
        "\\omega &= \\sqrt{\\dfrac{g}{l}}\n",
        "\\end{align}\n",
        "\n",
        "角振動数の定義$(\\omega = \\frac{\\theta}{t}=\\frac{2\\pi}{T})$を利用すると  \n",
        "単振り子の周期 $T$ は\n",
        "\\begin{align}\n",
        "T = \\dfrac{2\\pi}{\\omega} = 2\\pi \\sqrt{\\dfrac{l}{g}}\n",
        "\\end{align}\n",
        "\n",
        "となり,\n",
        "- 振り子の振幅$A$, おもりの質量 $m$ には依存しない\n",
        "- (重力加速度 $g$ を一定とすれば)、振り子の長さ $l$ **のみ**に依存する\n",
        "\n",
        "このように、単振り子の長さだけで周期が決まることを\n",
        "> **等時性**\n",
        "\n",
        "といいます."
      ]
    }
  ]
}