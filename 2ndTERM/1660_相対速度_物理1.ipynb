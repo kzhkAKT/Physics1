{
  "nbformat": 4,
  "nbformat_minor": 0,
  "metadata": {
    "colab": {
      "name": "1660_相対速度_物理1",
      "provenance": [],
      "collapsed_sections": [],
      "toc_visible": true,
      "authorship_tag": "ABX9TyOiO/muTdltGTs12S3ickqX",
      "include_colab_link": true
    },
    "kernelspec": {
      "name": "python3",
      "display_name": "Python 3"
    }
  },
  "cells": [
    {
      "cell_type": "markdown",
      "metadata": {
        "id": "view-in-github",
        "colab_type": "text"
      },
      "source": [
        "<a href=\"https://colab.research.google.com/github/kzhkAKT/Physics1/blob/draft/2ndTERM/1660_%E7%9B%B8%E5%AF%BE%E9%80%9F%E5%BA%A6_%E7%89%A9%E7%90%861.ipynb\" target=\"_parent\"><img src=\"https://colab.research.google.com/assets/colab-badge.svg\" alt=\"Open In Colab\"/></a>"
      ]
    },
    {
      "cell_type": "markdown",
      "metadata": {
        "id": "PZo0KOeN0Jk3"
      },
      "source": [
        "# 平面空間での運動"
      ]
    },
    {
      "cell_type": "markdown",
      "metadata": {
        "id": "AdfsWhXgF1NM"
      },
      "source": [
        "## 相対速度"
      ]
    },
    {
      "cell_type": "code",
      "metadata": {
        "id": "Xf4VawYjmDAT",
        "cellView": "form",
        "outputId": "f770543a-77fd-4355-aedf-471277004888",
        "colab": {
          "base_uri": "https://localhost:8080/",
          "height": 336
        }
      },
      "source": [
        "#@title 観測者と物体の速度ベクトルが同じなら...\n",
        "%%html\n",
        "<iframe width=\"560\" height=\"315\" src=\"https://www.youtube-nocookie.com/embed/D7RqxROfBYQ\" frameborder=\"0\" allow=\"accelerometer; autoplay; clipboard-write; encrypted-media; gyroscope; picture-in-picture\" allowfullscreen></iframe>"
      ],
      "execution_count": null,
      "outputs": [
        {
          "output_type": "display_data",
          "data": {
            "text/html": [
              "<iframe width=\"560\" height=\"315\" src=\"https://www.youtube-nocookie.com/embed/D7RqxROfBYQ\" frameborder=\"0\" allow=\"accelerometer; autoplay; clipboard-write; encrypted-media; gyroscope; picture-in-picture\" allowfullscreen></iframe>"
            ],
            "text/plain": [
              "<IPython.core.display.HTML object>"
            ]
          },
          "metadata": {
            "tags": []
          }
        }
      ]
    },
    {
      "cell_type": "code",
      "metadata": {
        "id": "f0k4z_wFluVp",
        "cellView": "form",
        "outputId": "b2c6a65a-0769-464f-ce93-798e076f33a0",
        "colab": {
          "base_uri": "https://localhost:8080/",
          "height": 336
        }
      },
      "source": [
        "#@title 観測者の速度(ベクトル)よりも、物体の速度(ベクトルが)変化すると\n",
        "%%html\n",
        "<iframe width=\"560\" height=\"315\" src=\"https://www.youtube-nocookie.com/embed/2U3I-hwdq5Y\" frameborder=\"0\" allow=\"accelerometer; autoplay; clipboard-write; encrypted-media; gyroscope; picture-in-picture\" allowfullscreen></iframe>"
      ],
      "execution_count": null,
      "outputs": [
        {
          "output_type": "display_data",
          "data": {
            "text/html": [
              "<iframe width=\"560\" height=\"315\" src=\"https://www.youtube-nocookie.com/embed/2U3I-hwdq5Y\" frameborder=\"0\" allow=\"accelerometer; autoplay; clipboard-write; encrypted-media; gyroscope; picture-in-picture\" allowfullscreen></iframe>"
            ],
            "text/plain": [
              "<IPython.core.display.HTML object>"
            ]
          },
          "metadata": {
            "tags": []
          }
        }
      ]
    },
    {
      "cell_type": "markdown",
      "metadata": {
        "id": "foAgknODp60C"
      },
      "source": [
        "- 物体A(観測者)の速度(ベクトル)$:\\quad \\vec{v}_{\\rm A}$\n",
        "- 物体B(観測される側)の速度(ベクトル)$:\\quad \\vec{v}_{\\rm B}$\n",
        "\n",
        "観測者の物体Aから見た, 物体Bの見かけ上の速度を\n",
        "> _Aから見た_ **Bの相対速度** $\\vec{v'}_{\\rm B}$と言います.\n",
        "\n",
        "この相対速度をベクトルを利用して表現すると\n",
        "\\begin{align*}\n",
        "\\vec{v'}_{\\rm B} = \\vec{v}_{\\rm B} - \\vec{v}_{\\rm A} \n",
        "\\end{align*}\n",
        "\n",
        "これまでの考察から, \n",
        ">> 相対速度とは観測者の速度(ベクトル)をゼロにするように,  \n",
        ">> 観測される物体の速度を引いたもの\n",
        "\n",
        "と考えることができます."
      ]
    },
    {
      "cell_type": "code",
      "metadata": {
        "id": "Adbky2T0nqO1",
        "cellView": "form",
        "outputId": "4a34b225-7634-49fa-d0a9-7235dbc8290c",
        "colab": {
          "base_uri": "https://localhost:8080/",
          "height": 336
        }
      },
      "source": [
        "#@title 速度ベクトルを考慮した, 相対速度\n",
        "%%html\n",
        "<iframe width=\"560\" height=\"315\" src=\"https://www.youtube-nocookie.com/embed/s1KX_BSIGL0\" frameborder=\"0\" allow=\"accelerometer; autoplay; clipboard-write; encrypted-media; gyroscope; picture-in-picture\" allowfullscreen></iframe>"
      ],
      "execution_count": null,
      "outputs": [
        {
          "output_type": "display_data",
          "data": {
            "text/html": [
              "<iframe width=\"560\" height=\"315\" src=\"https://www.youtube-nocookie.com/embed/s1KX_BSIGL0\" frameborder=\"0\" allow=\"accelerometer; autoplay; clipboard-write; encrypted-media; gyroscope; picture-in-picture\" allowfullscreen></iframe>"
            ],
            "text/plain": [
              "<IPython.core.display.HTML object>"
            ]
          },
          "metadata": {
            "tags": []
          }
        }
      ]
    },
    {
      "cell_type": "code",
      "metadata": {
        "id": "gJKEbgRDp5bg",
        "cellView": "form",
        "outputId": "7392f42b-3902-409a-9a84-71f1c2c0d69c",
        "colab": {
          "base_uri": "https://localhost:8080/",
          "height": 336
        }
      },
      "source": [
        "#@title 平行移動する観測者から見た雨粒\n",
        "%%html\n",
        "<iframe width=\"560\" height=\"315\" src=\"https://www.youtube-nocookie.com/embed/5oadrINTgPs\" frameborder=\"0\" allow=\"accelerometer; autoplay; clipboard-write; encrypted-media; gyroscope; picture-in-picture\" allowfullscreen></iframe>"
      ],
      "execution_count": null,
      "outputs": [
        {
          "output_type": "display_data",
          "data": {
            "text/html": [
              "<iframe width=\"560\" height=\"315\" src=\"https://www.youtube-nocookie.com/embed/5oadrINTgPs\" frameborder=\"0\" allow=\"accelerometer; autoplay; clipboard-write; encrypted-media; gyroscope; picture-in-picture\" allowfullscreen></iframe>"
            ],
            "text/plain": [
              "<IPython.core.display.HTML object>"
            ]
          },
          "metadata": {
            "tags": []
          }
        }
      ]
    },
    {
      "cell_type": "markdown",
      "metadata": {
        "id": "B_PC-ckvDqni"
      },
      "source": [
        "> Q. 教科書 p56 例題1.25 に取り組んでください."
      ]
    }
  ]
}