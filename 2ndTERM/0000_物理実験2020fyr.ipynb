{
  "nbformat": 4,
  "nbformat_minor": 0,
  "metadata": {
    "colab": {
      "name": "0000_物理実験2020fyr",
      "provenance": [],
      "toc_visible": true,
      "authorship_tag": "ABX9TyNCFKSZUZx8DVX/PIOQ1yHm",
      "include_colab_link": true
    },
    "kernelspec": {
      "name": "python3",
      "display_name": "Python 3"
    }
  },
  "cells": [
    {
      "cell_type": "markdown",
      "metadata": {
        "id": "view-in-github",
        "colab_type": "text"
      },
      "source": [
        "<a href=\"https://colab.research.google.com/github/kzhkAKT/Physics1/blob/draft/2ndTERM/0000_%E7%89%A9%E7%90%86%E5%AE%9F%E9%A8%932020fyr.ipynb\" target=\"_parent\"><img src=\"https://colab.research.google.com/assets/colab-badge.svg\" alt=\"Open In Colab\"/></a>"
      ]
    },
    {
      "cell_type": "markdown",
      "source": [
        "# 有効数字"
      ],
      "metadata": {
        "id": "6JNrsmrOL7TI"
      }
    },
    {
      "cell_type": "code",
      "source": [
        "#@title 有効数字を考慮した測定\n",
        "%%html\n",
        "<iframe width=\"560\" height=\"315\" src=\"https://www.youtube-nocookie.com/embed/kuSrRmKQznU\" title=\"YouTube video player\" frameborder=\"0\" allow=\"accelerometer; autoplay; clipboard-write; encrypted-media; gyroscope; picture-in-picture\" allowfullscreen></iframe>"
      ],
      "metadata": {
        "cellView": "form",
        "id": "adY-SqD9MF9I",
        "outputId": "7e930b97-70fe-4fed-c1d5-6ef7c7e4cb18",
        "colab": {
          "base_uri": "https://localhost:8080/",
          "height": 336
        }
      },
      "execution_count": 54,
      "outputs": [
        {
          "output_type": "display_data",
          "data": {
            "text/plain": [
              "<IPython.core.display.HTML object>"
            ],
            "text/html": [
              "<iframe width=\"560\" height=\"315\" src=\"https://www.youtube-nocookie.com/embed/kuSrRmKQznU\" title=\"YouTube video player\" frameborder=\"0\" allow=\"accelerometer; autoplay; clipboard-write; encrypted-media; gyroscope; picture-in-picture\" allowfullscreen></iframe>\n"
            ]
          },
          "metadata": {}
        }
      ]
    },
    {
      "cell_type": "code",
      "source": [
        "#@title 有効数字を考慮した掛け算\n",
        "%%html\n",
        "<iframe width=\"560\" height=\"315\" src=\"https://www.youtube.com/embed/JPqzn7xgc5c?si=Z8R9xG3FiYNgf4Xf\" title=\"YouTube video player\" frameborder=\"0\" allow=\"accelerometer; autoplay; clipboard-write; encrypted-media; gyroscope; picture-in-picture; web-share\" referrerpolicy=\"strict-origin-when-cross-origin\" allowfullscreen></iframe>"
      ],
      "metadata": {
        "cellView": "form",
        "id": "bWUd9BUWL_1u",
        "outputId": "cf5c1520-3537-4be1-81c5-c65ee50b01f6",
        "colab": {
          "base_uri": "https://localhost:8080/",
          "height": 336
        }
      },
      "execution_count": 55,
      "outputs": [
        {
          "output_type": "display_data",
          "data": {
            "text/plain": [
              "<IPython.core.display.HTML object>"
            ],
            "text/html": [
              "<iframe width=\"560\" height=\"315\" src=\"https://www.youtube.com/embed/JPqzn7xgc5c?si=Z8R9xG3FiYNgf4Xf\" title=\"YouTube video player\" frameborder=\"0\" allow=\"accelerometer; autoplay; clipboard-write; encrypted-media; gyroscope; picture-in-picture; web-share\" referrerpolicy=\"strict-origin-when-cross-origin\" allowfullscreen></iframe>\n"
            ]
          },
          "metadata": {}
        }
      ]
    },
    {
      "cell_type": "markdown",
      "source": [
        "# ノギスの紹介"
      ],
      "metadata": {
        "id": "6u5aSs7bDU9I"
      }
    },
    {
      "cell_type": "code",
      "source": [
        "#@title ノギスの名称と計り方\n",
        "%%html\n",
        "<iframe width=\"560\" height=\"315\" src=\"https://www.youtube-nocookie.com/embed/f42W00tbOrU?si=vJr3mTh0ISsUto2y\" title=\"YouTube video player\" frameborder=\"0\" allow=\"accelerometer; autoplay; clipboard-write; encrypted-media; gyroscope; picture-in-picture; web-share\" referrerpolicy=\"strict-origin-when-cross-origin\" allowfullscreen></iframe>"
      ],
      "metadata": {
        "cellView": "form",
        "outputId": "7bfac082-8413-4a6a-c5be-e7571a0ddc1d",
        "colab": {
          "base_uri": "https://localhost:8080/",
          "height": 336
        },
        "id": "J3Zbeew5DU9Q"
      },
      "execution_count": 56,
      "outputs": [
        {
          "output_type": "display_data",
          "data": {
            "text/plain": [
              "<IPython.core.display.HTML object>"
            ],
            "text/html": [
              "<iframe width=\"560\" height=\"315\" src=\"https://www.youtube-nocookie.com/embed/f42W00tbOrU?si=vJr3mTh0ISsUto2y\" title=\"YouTube video player\" frameborder=\"0\" allow=\"accelerometer; autoplay; clipboard-write; encrypted-media; gyroscope; picture-in-picture; web-share\" referrerpolicy=\"strict-origin-when-cross-origin\" allowfullscreen></iframe>\n"
            ]
          },
          "metadata": {}
        }
      ]
    },
    {
      "cell_type": "code",
      "source": [
        "#@title ノギスの作り方\n",
        "%%html\n",
        "<iframe width=\"560\" height=\"315\" src=\"https://www.youtube-nocookie.com/embed/pCT0TGRrorY?si=K-tcShVXNPPW06By\" title=\"YouTube video player\" frameborder=\"0\" allow=\"accelerometer; autoplay; clipboard-write; encrypted-media; gyroscope; picture-in-picture; web-share\" referrerpolicy=\"strict-origin-when-cross-origin\" allowfullscreen></iframe>"
      ],
      "metadata": {
        "cellView": "form",
        "outputId": "916de79d-ce98-4395-fda9-4d8b4c14b72f",
        "colab": {
          "base_uri": "https://localhost:8080/",
          "height": 336
        },
        "id": "QyXGbJpoDU9R"
      },
      "execution_count": 57,
      "outputs": [
        {
          "output_type": "display_data",
          "data": {
            "text/plain": [
              "<IPython.core.display.HTML object>"
            ],
            "text/html": [
              "<iframe width=\"560\" height=\"315\" src=\"https://www.youtube-nocookie.com/embed/pCT0TGRrorY?si=K-tcShVXNPPW06By\" title=\"YouTube video player\" frameborder=\"0\" allow=\"accelerometer; autoplay; clipboard-write; encrypted-media; gyroscope; picture-in-picture; web-share\" referrerpolicy=\"strict-origin-when-cross-origin\" allowfullscreen></iframe>\n"
            ]
          },
          "metadata": {}
        }
      ]
    },
    {
      "cell_type": "markdown",
      "source": [],
      "metadata": {
        "id": "EJpXHk5xMp71"
      }
    },
    {
      "cell_type": "markdown",
      "source": [
        "### 天秤ばかり\n"
      ],
      "metadata": {
        "id": "Bp9P10GXDU9R"
      }
    },
    {
      "cell_type": "markdown",
      "source": [
        "天秤ばかりの中央のダイヤル部分にはノギスと同様の原理が使われています\n",
        "<img src=\"https://drive.google.com/uc?id=15xArcX30IshFF5847My-jm4n3OmcI5Oi\" alt=\"drawing\" width=\"500\"/>\n",
        "<img src=\"https://drive.google.com/uc?id=1RGAScfEFoULOffonhURL0tOGV_XJM4iw\" alt=\"drawing\" width=\"500\"/>\n"
      ],
      "metadata": {
        "id": "o-AQHBf-MRLb"
      }
    },
    {
      "cell_type": "markdown",
      "metadata": {
        "id": "-NCRT8nLM-Xj"
      },
      "source": [
        "# 実験1: ばね定数と表面張力"
      ]
    },
    {
      "cell_type": "markdown",
      "metadata": {
        "id": "iwhyUUhkNBV4"
      },
      "source": [
        "## フックの法則\n"
      ]
    },
    {
      "cell_type": "code",
      "metadata": {
        "id": "OpdE3BNaN6Tg",
        "cellView": "form",
        "colab": {
          "base_uri": "https://localhost:8080/",
          "height": 336
        },
        "outputId": "5b58c4a7-d76a-4846-f874-26a0c7442a24"
      },
      "source": [
        "#@title Hooke;s Law\n",
        "%%html\n",
        "<iframe width=\"560\" height=\"315\" src=\"https://www.youtube.com/embed/eKbIbTG1op4?si=wNqpOmvS1q-l1jN3\" title=\"YouTube video player\" frameborder=\"0\" allow=\"accelerometer; autoplay; clipboard-write; encrypted-media; gyroscope; picture-in-picture; web-share\" referrerpolicy=\"strict-origin-when-cross-origin\" allowfullscreen></iframe>"
      ],
      "execution_count": 58,
      "outputs": [
        {
          "output_type": "display_data",
          "data": {
            "text/plain": [
              "<IPython.core.display.HTML object>"
            ],
            "text/html": [
              "<iframe width=\"560\" height=\"315\" src=\"https://www.youtube.com/embed/eKbIbTG1op4?si=wNqpOmvS1q-l1jN3\" title=\"YouTube video player\" frameborder=\"0\" allow=\"accelerometer; autoplay; clipboard-write; encrypted-media; gyroscope; picture-in-picture; web-share\" referrerpolicy=\"strict-origin-when-cross-origin\" allowfullscreen></iframe>\n"
            ]
          },
          "metadata": {}
        }
      ]
    },
    {
      "cell_type": "code",
      "metadata": {
        "cellView": "form",
        "id": "0_Dl2BTDkk4-",
        "colab": {
          "base_uri": "https://localhost:8080/",
          "height": 625
        },
        "outputId": "552e9af6-3288-45bf-df59-1fc2539d7e5b"
      },
      "source": [
        "#@title バネ秤のシミュレーション\n",
        "%%html\n",
        "<iframe src=\"https://phet.colorado.edu/sims/html/masses-and-springs-basics/latest/masses-and-springs-basics_ja.html\"\n",
        "        width=\"800\"\n",
        "        height=\"600\"\n",
        "        allowfullscreen>\n",
        "</iframe>"
      ],
      "execution_count": 59,
      "outputs": [
        {
          "output_type": "display_data",
          "data": {
            "text/plain": [
              "<IPython.core.display.HTML object>"
            ],
            "text/html": [
              "<iframe src=\"https://phet.colorado.edu/sims/html/masses-and-springs-basics/latest/masses-and-springs-basics_ja.html\"\n",
              "        width=\"800\"\n",
              "        height=\"600\"\n",
              "        allowfullscreen>\n",
              "</iframe>\n"
            ]
          },
          "metadata": {}
        }
      ]
    },
    {
      "cell_type": "markdown",
      "source": [
        "## 数式での確認"
      ],
      "metadata": {
        "id": "m4yhXQkwiaDH"
      }
    },
    {
      "cell_type": "markdown",
      "source": [
        "フックの法則\n",
        "*   $F = - k x, \\qquad x$ は自然長からの伸び/縮み, $F$ は(ベクトル量の)力\n",
        "  * 上のシミュレーションで、上むきを正として、  \n",
        "  下向きの伸び $x=-\\ell$ を代入すると  $(k>0, \\ell>0)$\n",
        "  $$\n",
        "  F = - k x = -k (-\\ell) = + k \\ell > 0\n",
        "  $$\n",
        "  と上むきの力が生じる事がわかる\n",
        "\n",
        "\n"
      ],
      "metadata": {
        "id": "1LwqRRrcieXJ"
      }
    },
    {
      "cell_type": "markdown",
      "source": [
        "## 表面張力"
      ],
      "metadata": {
        "id": "YOC1wQpIc4z2"
      }
    },
    {
      "cell_type": "markdown",
      "metadata": {
        "id": "HpaaRSIwNDT6"
      },
      "source": [
        "\n",
        "\n",
        "![https://ja.wikipedia.org/wiki/%E8%A1%A8%E9%9D%A2%E5%BC%B5%E5%8A%9B](https://upload.wikimedia.org/wikipedia/commons/thumb/c/c4/Waterdruppel_op_blad.JPG/800px-Waterdruppel_op_blad.JPG)\n"
      ]
    },
    {
      "cell_type": "code",
      "source": [
        "#@markdown Cutting Water\n",
        "%%html\n",
        "<iframe width=\"560\" height=\"315\" src=\"https://www.youtube.com/embed/Ls_ISb7lG-I?si=dBFpyTfMathzLwdt&amp;start=28\" title=\"YouTube video player\" frameborder=\"0\" allow=\"accelerometer; autoplay; clipboard-write; encrypted-media; gyroscope; picture-in-picture; web-share\" referrerpolicy=\"strict-origin-when-cross-origin\" allowfullscreen></iframe>"
      ],
      "metadata": {
        "cellView": "form",
        "colab": {
          "base_uri": "https://localhost:8080/",
          "height": 336
        },
        "id": "-VKZbzucaj6t",
        "outputId": "30cc5a75-9ec7-4212-f256-08172bdb0496"
      },
      "execution_count": 60,
      "outputs": [
        {
          "output_type": "display_data",
          "data": {
            "text/plain": [
              "<IPython.core.display.HTML object>"
            ],
            "text/html": [
              "<iframe width=\"560\" height=\"315\" src=\"https://www.youtube.com/embed/Ls_ISb7lG-I?si=dBFpyTfMathzLwdt&amp;start=28\" title=\"YouTube video player\" frameborder=\"0\" allow=\"accelerometer; autoplay; clipboard-write; encrypted-media; gyroscope; picture-in-picture; web-share\" referrerpolicy=\"strict-origin-when-cross-origin\" allowfullscreen></iframe>\n"
            ]
          },
          "metadata": {}
        }
      ]
    },
    {
      "cell_type": "code",
      "metadata": {
        "cellView": "form",
        "id": "OaSzQ2x6j_Ad",
        "colab": {
          "base_uri": "https://localhost:8080/",
          "height": 336
        },
        "outputId": "65798197-c154-4725-db74-a3baced2dc2b"
      },
      "source": [
        "#@markdown 超撥水材料\n",
        "%%html\n",
        "<iframe width=\"560\" height=\"315\" src=\"https://www.youtube-nocookie.com/embed/s_lvDK88cDY?si=YeXJoIPji6nvQdzt\" title=\"YouTube video player\" frameborder=\"0\" allow=\"accelerometer; autoplay; clipboard-write; encrypted-media; gyroscope; picture-in-picture; web-share\" referrerpolicy=\"strict-origin-when-cross-origin\" allowfullscreen></iframe>\n",
        "<iframe width=\"560\" height=\"315\" src=\"https://www.youtube-nocookie.com/embed/uM5TAxKHPQc?si=R8K88oyhRG9dalQk\" title=\"YouTube video player\" frameborder=\"0\" allow=\"accelerometer; autoplay; clipboard-write; encrypted-media; gyroscope; picture-in-picture; web-share\" referrerpolicy=\"strict-origin-when-cross-origin\" allowfullscreen></iframe>"
      ],
      "execution_count": 61,
      "outputs": [
        {
          "output_type": "display_data",
          "data": {
            "text/plain": [
              "<IPython.core.display.HTML object>"
            ],
            "text/html": [
              "<iframe width=\"560\" height=\"315\" src=\"https://www.youtube-nocookie.com/embed/s_lvDK88cDY?si=YeXJoIPji6nvQdzt\" title=\"YouTube video player\" frameborder=\"0\" allow=\"accelerometer; autoplay; clipboard-write; encrypted-media; gyroscope; picture-in-picture; web-share\" referrerpolicy=\"strict-origin-when-cross-origin\" allowfullscreen></iframe>\n",
              "<iframe width=\"560\" height=\"315\" src=\"https://www.youtube-nocookie.com/embed/uM5TAxKHPQc?si=R8K88oyhRG9dalQk\" title=\"YouTube video player\" frameborder=\"0\" allow=\"accelerometer; autoplay; clipboard-write; encrypted-media; gyroscope; picture-in-picture; web-share\" referrerpolicy=\"strict-origin-when-cross-origin\" allowfullscreen></iframe>\n"
            ]
          },
          "metadata": {}
        }
      ]
    },
    {
      "cell_type": "code",
      "source": [
        "#@title 表面張力による牽引\n",
        "%%html\n",
        "<video controls=\"\" poster=\"https://upload.wikimedia.org/wikipedia/commons/thumb/5/50/Surface_tension_experimental_demonstration.ogv/800px--Surface_tension_experimental_demonstration.ogv.jpg?20140624070505\" controlslist=\"nodownload\" oncontextmenu=\"return false;\" width=\"640\" height=\"480\">\n",
        "              <source src=\"https://upload.wikimedia.org/wikipedia/commons/transcoded/5/50/Surface_tension_experimental_demonstration.ogv/Surface_tension_experimental_demonstration.ogv.1080p.vp9.webm\" type=\"video/webm\" >\n",
        "            </video>"
      ],
      "metadata": {
        "cellView": "form",
        "colab": {
          "base_uri": "https://localhost:8080/",
          "height": 501
        },
        "id": "gzIZGNwoeQtY",
        "outputId": "832a4ff8-cec2-4c9e-b890-7c080e745f7a"
      },
      "execution_count": 62,
      "outputs": [
        {
          "output_type": "display_data",
          "data": {
            "text/plain": [
              "<IPython.core.display.HTML object>"
            ],
            "text/html": [
              "<video controls=\"\" poster=\"https://upload.wikimedia.org/wikipedia/commons/thumb/5/50/Surface_tension_experimental_demonstration.ogv/800px--Surface_tension_experimental_demonstration.ogv.jpg?20140624070505\" controlslist=\"nodownload\" oncontextmenu=\"return false;\" width=\"640\" height=\"480\">\n",
              "              <source src=\"https://upload.wikimedia.org/wikipedia/commons/transcoded/5/50/Surface_tension_experimental_demonstration.ogv/Surface_tension_experimental_demonstration.ogv.1080p.vp9.webm\" type=\"video/webm\" >\n",
              "            </video>\n"
            ]
          },
          "metadata": {}
        }
      ]
    },
    {
      "cell_type": "code",
      "source": [
        "#@title コインと表面張力\n",
        "%%html\n",
        "<iframe width=\"560\" height=\"315\" src=\"https://www.youtube-nocookie.com/embed/bD493eA4pqE?si=7-YbCj02XIaKLG7K\" title=\"YouTube video player\" frameborder=\"0\" allow=\"accelerometer; autoplay; clipboard-write; encrypted-media; gyroscope; picture-in-picture; web-share\" referrerpolicy=\"strict-origin-when-cross-origin\" allowfullscreen></iframe>"
      ],
      "metadata": {
        "cellView": "form",
        "colab": {
          "base_uri": "https://localhost:8080/",
          "height": 336
        },
        "id": "P8_GarjsfqCk",
        "outputId": "ff683c23-80bf-4829-80e5-6022d249ff25"
      },
      "execution_count": 63,
      "outputs": [
        {
          "output_type": "display_data",
          "data": {
            "text/plain": [
              "<IPython.core.display.HTML object>"
            ],
            "text/html": [
              "<iframe width=\"560\" height=\"315\" src=\"https://www.youtube-nocookie.com/embed/bD493eA4pqE?si=7-YbCj02XIaKLG7K\" title=\"YouTube video player\" frameborder=\"0\" allow=\"accelerometer; autoplay; clipboard-write; encrypted-media; gyroscope; picture-in-picture; web-share\" referrerpolicy=\"strict-origin-when-cross-origin\" allowfullscreen></iframe>\n"
            ]
          },
          "metadata": {}
        }
      ]
    },
    {
      "cell_type": "markdown",
      "source": [
        "## 実験の原理"
      ],
      "metadata": {
        "id": "nruyH1GjkouG"
      }
    },
    {
      "cell_type": "markdown",
      "source": [
        "![](https://upload.wikimedia.org/wikipedia/commons/thumb/c/c0/Wilhelmy_plate.svg/552px-Wilhelmy_plate.svg.png)\n",
        "---\n",
        "今回の実験では環(リング)状になっている"
      ],
      "metadata": {
        "id": "dR97awRtku6d"
      }
    },
    {
      "cell_type": "markdown",
      "source": [
        "## 数式での確認"
      ],
      "metadata": {
        "id": "xrq6Ug6qlxnu"
      }
    },
    {
      "cell_type": "markdown",
      "source": [
        "- 直径 $D$ の円の円周$L=\\pi D$\n",
        "  - 半径 $r$ の円の円周は、$L=2 \\pi r$\n",
        "  - 直径と半径の関係は $D=2r$\n",
        "\n",
        "- 長さ $L$ の直線に働く力は $F=T \\cdot L$\n",
        "  - 表面張力は、単位長さあたりに働く力 $T \\quad{\\rm(N/m)}$"
      ],
      "metadata": {
        "id": "zVrCDDfWl07c"
      }
    },
    {
      "cell_type": "markdown",
      "metadata": {
        "id": "MZL3-2BtN_CI"
      },
      "source": [
        "# 実験2: 線膨張率"
      ]
    },
    {
      "cell_type": "code",
      "metadata": {
        "id": "i4BjdQJ5OrhG",
        "cellView": "form",
        "colab": {
          "base_uri": "https://localhost:8080/",
          "height": 336
        },
        "outputId": "127ff0ec-078d-481b-a0e6-aa04f5f43234"
      },
      "source": [
        "#@title 金属の熱膨張\n",
        "%%html\n",
        "<iframe width=\"560\" height=\"315\" src=\"https://www.youtube.com/embed/EkQ2886Sxpg?si=A3UjCuKSOmvSwXKg\" title=\"YouTube video player\" frameborder=\"0\" allow=\"accelerometer; autoplay; clipboard-write; encrypted-media; gyroscope; picture-in-picture; web-share\" referrerpolicy=\"strict-origin-when-cross-origin\" allowfullscreen></iframe>"
      ],
      "execution_count": 64,
      "outputs": [
        {
          "output_type": "display_data",
          "data": {
            "text/plain": [
              "<IPython.core.display.HTML object>"
            ],
            "text/html": [
              "<iframe width=\"560\" height=\"315\" src=\"https://www.youtube.com/embed/EkQ2886Sxpg?si=A3UjCuKSOmvSwXKg\" title=\"YouTube video player\" frameborder=\"0\" allow=\"accelerometer; autoplay; clipboard-write; encrypted-media; gyroscope; picture-in-picture; web-share\" referrerpolicy=\"strict-origin-when-cross-origin\" allowfullscreen></iframe>\n"
            ]
          },
          "metadata": {}
        }
      ]
    },
    {
      "cell_type": "code",
      "metadata": {
        "id": "_609swvqOV_a",
        "cellView": "form",
        "colab": {
          "base_uri": "https://localhost:8080/",
          "height": 336
        },
        "outputId": "bd2cb247-00f8-4781-ec4a-66c7b2daa3d3"
      },
      "source": [
        "#@title 線膨張率の典型例:軌条の線膨張\n",
        "%%html\n",
        "<iframe width=\"560\" height=\"315\" src=\"https://www.youtube-nocookie.com/embed/_TWsHQ45Yd0\" title=\"YouTube video player\" frameborder=\"0\" allow=\"accelerometer; autoplay; clipboard-write; encrypted-media; gyroscope; picture-in-picture\" allowfullscreen></iframe>"
      ],
      "execution_count": 65,
      "outputs": [
        {
          "output_type": "display_data",
          "data": {
            "text/plain": [
              "<IPython.core.display.HTML object>"
            ],
            "text/html": [
              "<iframe width=\"560\" height=\"315\" src=\"https://www.youtube-nocookie.com/embed/_TWsHQ45Yd0\" title=\"YouTube video player\" frameborder=\"0\" allow=\"accelerometer; autoplay; clipboard-write; encrypted-media; gyroscope; picture-in-picture\" allowfullscreen></iframe>\n"
            ]
          },
          "metadata": {}
        }
      ]
    },
    {
      "cell_type": "code",
      "metadata": {
        "colab": {
          "base_uri": "https://localhost:8080/",
          "height": 336
        },
        "id": "xlWcXdPwi365",
        "cellView": "form",
        "outputId": "c60e6659-6372-4d2a-da2c-85342b838c73"
      },
      "source": [
        "#@title 熱膨張の利用\n",
        "%%html\n",
        "<iframe width=\"560\" height=\"315\" src=\"https://www.youtube-nocookie.com/embed/2L8dWMX8u3o?si=BtscDNMo8fQp6JcV\" title=\"YouTube video player\" frameborder=\"0\" allow=\"accelerometer; autoplay; clipboard-write; encrypted-media; gyroscope; picture-in-picture; web-share\" referrerpolicy=\"strict-origin-when-cross-origin\" allowfullscreen></iframe>"
      ],
      "execution_count": 66,
      "outputs": [
        {
          "output_type": "display_data",
          "data": {
            "text/plain": [
              "<IPython.core.display.HTML object>"
            ],
            "text/html": [
              "<iframe width=\"560\" height=\"315\" src=\"https://www.youtube-nocookie.com/embed/2L8dWMX8u3o?si=BtscDNMo8fQp6JcV\" title=\"YouTube video player\" frameborder=\"0\" allow=\"accelerometer; autoplay; clipboard-write; encrypted-media; gyroscope; picture-in-picture; web-share\" referrerpolicy=\"strict-origin-when-cross-origin\" allowfullscreen></iframe>\n"
            ]
          },
          "metadata": {}
        }
      ]
    },
    {
      "cell_type": "markdown",
      "metadata": {
        "id": "MCLLxc1qOXfG"
      },
      "source": [
        "### 線膨張率 $\\alpha$ の導出"
      ]
    },
    {
      "cell_type": "code",
      "metadata": {
        "id": "zUQ8KzXqOdTA",
        "cellView": "form",
        "colab": {
          "base_uri": "https://localhost:8080/",
          "height": 223
        },
        "outputId": "829eb76e-34b6-4e48-a7f3-509f6c9bd30f"
      },
      "source": [
        "#@title 線膨張率を導出する概念図\n",
        "%%svg\n",
        "<svg xmlns=\"http://www.w3.org/2000/svg\" xmlns:xlink=\"http://www.w3.org/1999/xlink\" version=\"1.1\" width=\"338px\" viewBox=\"-0.5 -0.5 338 202\" content=\"&lt;mxfile host=&quot;www.draw.io&quot; modified=&quot;2020-05-21T07:53:32.624Z&quot; agent=&quot;5.0 (Macintosh; Intel Mac OS X 10_10_5) AppleWebKit/537.36 (KHTML, like Gecko) Chrome/81.0.4044.138 Safari/537.36&quot; etag=&quot;hQj2vb1lmOSLw5F-xGeE&quot; version=&quot;13.1.3&quot; type=&quot;google&quot;&gt;&lt;diagram id=&quot;veNhKWrdR9zbm09gi63X&quot; name=&quot;Page-1&quot;&gt;7VlNc5swEP01HJ0BYWx8jB2nzTRtM01n2h5lEEZTGblCjnF/fQVIGAFOHILJR3NJrCexSPverqTFsGer5AOD6/Az9RExgOknhn1hAOA6lvibArscsExzkiNLhn2J7YFb/BepgRLdYB/F2kBOKeF4rYMejSLkcQ2DjNGtPiygRH/rGi5RDbj1IKmjP7DPQ7kuMN7jHxFehurN1kiubwXVYLmSOIQ+3ZYge27YM0Ypz3+tkhkiqfOUX/LnLg/0FhNjKOLHPHD19ebbVUAWnwZuMp6baJrEeCCt3EGykQuWk+U75QFGN5GPUiOmYU+3Iebodg29tHcrOBdYyFdEtCzxM8CEzCihLHvW9iFyA0/gMWf0Nyr1jDwXLQLRIyeAGEfJwZVZhb+E0BBdIc52YohSmfSw1FjR3u4JA0OJhSWyFAalRpaF5b0bxQ/pyUd4FTzsVRT556k8RSuikQCnPozDzM2W7lLhBLb7mbr/zFHNX5KNrHGRaK2dbOWvRH5N3xW3ioCCbIn4Qyqpu7/kX6fBvQpjiECO7/RpNPlcvuGGYjHBgl1g6vTaoEJbTDfMQ/KpcgBUDTkVnYwrhnI/1AxlEiiW3V4V9mljLXA95DXG2sJ1ho55klizR/VYKwjqJdaGrynWni2G7IlYUJm4odk2imqmCg30FEfOS2A8tXcDOUcsyiwBc/gKdGBNOtNB3VTfOhi966CtDgRVXemgbqpvHYzb6KBEfb5fqtO99RroA/ouPKzurkeTVzFU26ZPTJ3bOXVFHFvlKLY62r+POCvbzymModmRMGqGrH6FMfnvYtrtiLnqZbjniFY6OZI5j8A4xvmtBTJeh98Sp6C6MbZO0z3vsFZTmWhEeHoJpdlE9+yO/myo6hjEWT3vXAyw3HWy7xS/lvJ/ZgUr4FohYp64OireLBRklsaV4BKaT0zBVQUKyVzDBSK6wiDBy/QY5wn5IHF5nqZXZexBci47Vtj3UxtThsTS4CKzl24g69T1GRnO1HAu5Pov4QqTlLOZIBoLi8D8grb3XcRlGVNaNoriYVnS98TdwWv7wDwz9VOaKlK1lbgaQoMgRqdRHegxlRxB18vNM7XzYNsSWW3brxo6daJpqpHJ4F/D6AmJZjY3JsNy0sjM1bJQW/sH8tbbTzugWfcqyVgvPsk01Q9PsrV9N4DZrJJp2qMJtPzQ4f3woV1OsMx1pVX1Azec5gt5pBAbhFeqRsvzuF6IlqBe4m4n1+PL1Vb144Gq+ZcSs9uQmKt5r7NytdVUvTyV3t6l8xTpAP3ABCYNnzq6kY5o7r8D55lt/zXdnv8D&lt;/diagram&gt;&lt;/mxfile&gt;\" onclick=\"(function(svg){var src=window.event.target||window.event.srcElement;while (src!=null&amp;&amp;src.nodeName.toLowerCase()!='a'){src=src.parentNode;}if(src==null){if(svg.wnd!=null&amp;&amp;!svg.wnd.closed){svg.wnd.focus();}else{var r=function(evt){if(evt.data=='ready'&amp;&amp;evt.source==svg.wnd){svg.wnd.postMessage(decodeURIComponent(svg.getAttribute('content')),'*');window.removeEventListener('message',r);}};window.addEventListener('message',r);svg.wnd=window.open('https://www.draw.io/?client=1&amp;lightbox=1&amp;edit=_blank');}}})(this);\" style=\"cursor:pointer;max-width:100%;max-height:202px;\"><defs/><g><rect x=\"8\" y=\"40\" width=\"240\" height=\"40\" fill=\"#dae8fc\" stroke=\"#6c8ebf\" pointer-events=\"all\"/><path d=\"M 128 80 L 128 40\" fill=\"none\" stroke=\"#000000\" stroke-miterlimit=\"10\" stroke-dasharray=\"3 3\" pointer-events=\"stroke\"/><rect x=\"8\" y=\"120\" width=\"320\" height=\"40\" fill=\"#f8cecc\" stroke=\"#b85450\" pointer-events=\"all\"/><path d=\"M 167.5 160 L 167.5 120\" fill=\"none\" stroke=\"#000000\" stroke-miterlimit=\"10\" stroke-dasharray=\"3 3\" pointer-events=\"stroke\"/><path d=\"M 127.5 160 L 127.5 120\" fill=\"none\" stroke=\"#000000\" stroke-miterlimit=\"10\" stroke-dasharray=\"1 4\" pointer-events=\"stroke\"/><path d=\"M 288.5 160 L 288.5 120\" fill=\"none\" stroke=\"#000000\" stroke-miterlimit=\"10\" stroke-dasharray=\"1 4\" pointer-events=\"stroke\"/><path d=\"M 248 200 L 248 0\" fill=\"none\" stroke=\"#000000\" stroke-miterlimit=\"10\" pointer-events=\"stroke\"/><path d=\"M 328 200 L 328 160\" fill=\"none\" stroke=\"#000000\" stroke-miterlimit=\"10\" pointer-events=\"stroke\"/><path d=\"M 8 200 L 8 0\" fill=\"none\" stroke=\"#000000\" stroke-miterlimit=\"10\" pointer-events=\"stroke\"/><path d=\"M 14.37 20 L 241.63 20\" fill=\"none\" stroke=\"#000000\" stroke-miterlimit=\"10\" pointer-events=\"stroke\"/><path d=\"M 9.12 20 L 16.12 16.5 L 14.37 20 L 16.12 23.5 Z\" fill=\"#000000\" stroke=\"#000000\" stroke-miterlimit=\"10\" pointer-events=\"all\"/><path d=\"M 246.88 20 L 239.88 23.5 L 241.63 20 L 239.88 16.5 Z\" fill=\"#000000\" stroke=\"#000000\" stroke-miterlimit=\"10\" pointer-events=\"all\"/><g transform=\"translate(-0.5 -0.5)\"><switch><foreignObject style=\"overflow: visible; text-align: left;\" pointer-events=\"none\" width=\"100%\" height=\"100%\" requiredFeatures=\"http://www.w3.org/TR/SVG11/feature#Extensibility\"><div xmlns=\"http://www.w3.org/1999/xhtml\" style=\"display: flex; align-items: unsafe center; justify-content: unsafe center; width: 1px; height: 1px; padding-top: 23px; margin-left: 123px;\"><div style=\"box-sizing: border-box; font-size: 0; text-align: center; \"><div style=\"display: inline-block; font-size: 11px; font-family: Courier New; color: #000000; line-height: 1.2; pointer-events: all; background-color: #ffffff; white-space: nowrap; \"><font style=\"font-size: 18px\"><i>L</i><sub>0</sub></font></div></div></div></foreignObject><text x=\"123\" y=\"26\" fill=\"#000000\" font-family=\"Courier New\" font-size=\"11px\" text-anchor=\"middle\">L0</text></switch></g><path d=\"M 254.37 180 L 321.63 180\" fill=\"none\" stroke=\"#000000\" stroke-miterlimit=\"10\" pointer-events=\"stroke\"/><path d=\"M 249.12 180 L 256.12 176.5 L 254.37 180 L 256.12 183.5 Z\" fill=\"#000000\" stroke=\"#000000\" stroke-miterlimit=\"10\" pointer-events=\"all\"/><path d=\"M 326.88 180 L 319.88 183.5 L 321.63 180 L 319.88 176.5 Z\" fill=\"#000000\" stroke=\"#000000\" stroke-miterlimit=\"10\" pointer-events=\"all\"/><g transform=\"translate(-0.5 -0.5)\"><switch><foreignObject style=\"overflow: visible; text-align: left;\" pointer-events=\"none\" width=\"100%\" height=\"100%\" requiredFeatures=\"http://www.w3.org/TR/SVG11/feature#Extensibility\"><div xmlns=\"http://www.w3.org/1999/xhtml\" style=\"display: flex; align-items: unsafe center; justify-content: unsafe center; width: 1px; height: 1px; padding-top: 182px; margin-left: 289px;\"><div style=\"box-sizing: border-box; font-size: 0; text-align: center; \"><div style=\"display: inline-block; font-size: 11px; font-family: Courier New; color: #000000; line-height: 1.2; pointer-events: all; background-color: #ffffff; white-space: nowrap; \"><span style=\"font-size: 18px\">Δ</span><i style=\"font-size: 18px\">L</i></div></div></div></foreignObject><text x=\"289\" y=\"185\" fill=\"#000000\" font-family=\"Courier New\" font-size=\"11px\" text-anchor=\"middle\">ΔL</text></switch></g><rect x=\"28\" y=\"130\" width=\"80\" height=\"20\" fill=\"none\" stroke=\"none\" pointer-events=\"all\"/><g transform=\"translate(-0.5 -0.5)\"><switch><foreignObject style=\"overflow: visible; text-align: left;\" pointer-events=\"none\" width=\"100%\" height=\"100%\" requiredFeatures=\"http://www.w3.org/TR/SVG11/feature#Extensibility\"><div xmlns=\"http://www.w3.org/1999/xhtml\" style=\"display: flex; align-items: unsafe center; justify-content: unsafe center; width: 1px; height: 1px; padding-top: 140px; margin-left: 68px;\"><div style=\"box-sizing: border-box; font-size: 0; text-align: center; \"><div style=\"display: inline-block; font-size: 12px; font-family: Courier New; color: #000000; line-height: 1.2; pointer-events: all; white-space: nowrap; \"><font style=\"font-size: 18px\"><i>T </i>+ Δ<i>T</i></font></div></div></div></foreignObject><text x=\"68\" y=\"144\" fill=\"#000000\" font-family=\"Courier New\" font-size=\"12px\" text-anchor=\"middle\">T + ΔT</text></switch></g><rect x=\"53\" y=\"50\" width=\"30\" height=\"20\" fill=\"none\" stroke=\"none\" pointer-events=\"all\"/><g transform=\"translate(-0.5 -0.5)\"><switch><foreignObject style=\"overflow: visible; text-align: left;\" pointer-events=\"none\" width=\"100%\" height=\"100%\" requiredFeatures=\"http://www.w3.org/TR/SVG11/feature#Extensibility\"><div xmlns=\"http://www.w3.org/1999/xhtml\" style=\"display: flex; align-items: unsafe center; justify-content: unsafe center; width: 1px; height: 1px; padding-top: 60px; margin-left: 68px;\"><div style=\"box-sizing: border-box; font-size: 0; text-align: center; \"><div style=\"display: inline-block; font-size: 12px; font-family: Courier New; color: #000000; line-height: 1.2; pointer-events: all; white-space: nowrap; \"><font style=\"font-size: 18px\"><i>T</i></font></div></div></div></foreignObject><text x=\"68\" y=\"64\" fill=\"#000000\" font-family=\"Courier New\" font-size=\"12px\" text-anchor=\"middle\">T</text></switch></g></g><switch><g requiredFeatures=\"http://www.w3.org/TR/SVG11/feature#Extensibility\"/><a transform=\"translate(0,-5)\" xlink:href=\"https://desk.draw.io/support/solutions/articles/16000042487\" target=\"_blank\"><text text-anchor=\"middle\" font-size=\"10px\" x=\"50%\" y=\"100%\">Viewer does not support full SVG 1.1</text></a></switch></svg>"
      ],
      "execution_count": 67,
      "outputs": [
        {
          "output_type": "display_data",
          "data": {
            "text/plain": [
              "<IPython.core.display.SVG object>"
            ],
            "image/svg+xml": "<svg xmlns=\"http://www.w3.org/2000/svg\" xmlns:xlink=\"http://www.w3.org/1999/xlink\" version=\"1.1\" width=\"338px\" viewBox=\"-0.5 -0.5 338 202\" content=\"&lt;mxfile host=&quot;www.draw.io&quot; modified=&quot;2020-05-21T07:53:32.624Z&quot; agent=&quot;5.0 (Macintosh; Intel Mac OS X 10_10_5) AppleWebKit/537.36 (KHTML, like Gecko) Chrome/81.0.4044.138 Safari/537.36&quot; etag=&quot;hQj2vb1lmOSLw5F-xGeE&quot; version=&quot;13.1.3&quot; type=&quot;google&quot;&gt;&lt;diagram id=&quot;veNhKWrdR9zbm09gi63X&quot; name=&quot;Page-1&quot;&gt;7VlNc5swEP01HJ0BYWx8jB2nzTRtM01n2h5lEEZTGblCjnF/fQVIGAFOHILJR3NJrCexSPverqTFsGer5AOD6/Az9RExgOknhn1hAOA6lvibArscsExzkiNLhn2J7YFb/BepgRLdYB/F2kBOKeF4rYMejSLkcQ2DjNGtPiygRH/rGi5RDbj1IKmjP7DPQ7kuMN7jHxFehurN1kiubwXVYLmSOIQ+3ZYge27YM0Ypz3+tkhkiqfOUX/LnLg/0FhNjKOLHPHD19ebbVUAWnwZuMp6baJrEeCCt3EGykQuWk+U75QFGN5GPUiOmYU+3Iebodg29tHcrOBdYyFdEtCzxM8CEzCihLHvW9iFyA0/gMWf0Nyr1jDwXLQLRIyeAGEfJwZVZhb+E0BBdIc52YohSmfSw1FjR3u4JA0OJhSWyFAalRpaF5b0bxQ/pyUd4FTzsVRT556k8RSuikQCnPozDzM2W7lLhBLb7mbr/zFHNX5KNrHGRaK2dbOWvRH5N3xW3ioCCbIn4Qyqpu7/kX6fBvQpjiECO7/RpNPlcvuGGYjHBgl1g6vTaoEJbTDfMQ/KpcgBUDTkVnYwrhnI/1AxlEiiW3V4V9mljLXA95DXG2sJ1ho55klizR/VYKwjqJdaGrynWni2G7IlYUJm4odk2imqmCg30FEfOS2A8tXcDOUcsyiwBc/gKdGBNOtNB3VTfOhi966CtDgRVXemgbqpvHYzb6KBEfb5fqtO99RroA/ouPKzurkeTVzFU26ZPTJ3bOXVFHFvlKLY62r+POCvbzymModmRMGqGrH6FMfnvYtrtiLnqZbjniFY6OZI5j8A4xvmtBTJeh98Sp6C6MbZO0z3vsFZTmWhEeHoJpdlE9+yO/myo6hjEWT3vXAyw3HWy7xS/lvJ/ZgUr4FohYp64OireLBRklsaV4BKaT0zBVQUKyVzDBSK6wiDBy/QY5wn5IHF5nqZXZexBci47Vtj3UxtThsTS4CKzl24g69T1GRnO1HAu5Pov4QqTlLOZIBoLi8D8grb3XcRlGVNaNoriYVnS98TdwWv7wDwz9VOaKlK1lbgaQoMgRqdRHegxlRxB18vNM7XzYNsSWW3brxo6daJpqpHJ4F/D6AmJZjY3JsNy0sjM1bJQW/sH8tbbTzugWfcqyVgvPsk01Q9PsrV9N4DZrJJp2qMJtPzQ4f3woV1OsMx1pVX1Azec5gt5pBAbhFeqRsvzuF6IlqBe4m4n1+PL1Vb144Gq+ZcSs9uQmKt5r7NytdVUvTyV3t6l8xTpAP3ABCYNnzq6kY5o7r8D55lt/zXdnv8D&lt;/diagram&gt;&lt;/mxfile&gt;\" onclick=\"(function(svg){var src=window.event.target||window.event.srcElement;while (src!=null&amp;&amp;src.nodeName.toLowerCase()!='a'){src=src.parentNode;}if(src==null){if(svg.wnd!=null&amp;&amp;!svg.wnd.closed){svg.wnd.focus();}else{var r=function(evt){if(evt.data=='ready'&amp;&amp;evt.source==svg.wnd){svg.wnd.postMessage(decodeURIComponent(svg.getAttribute('content')),'*');window.removeEventListener('message',r);}};window.addEventListener('message',r);svg.wnd=window.open('https://www.draw.io/?client=1&amp;lightbox=1&amp;edit=_blank');}}})(this);\" style=\"cursor:pointer;max-width:100%;max-height:202px;\"><defs/><g><rect x=\"8\" y=\"40\" width=\"240\" height=\"40\" fill=\"#dae8fc\" stroke=\"#6c8ebf\" pointer-events=\"all\"/><path d=\"M 128 80 L 128 40\" fill=\"none\" stroke=\"#000000\" stroke-miterlimit=\"10\" stroke-dasharray=\"3 3\" pointer-events=\"stroke\"/><rect x=\"8\" y=\"120\" width=\"320\" height=\"40\" fill=\"#f8cecc\" stroke=\"#b85450\" pointer-events=\"all\"/><path d=\"M 167.5 160 L 167.5 120\" fill=\"none\" stroke=\"#000000\" stroke-miterlimit=\"10\" stroke-dasharray=\"3 3\" pointer-events=\"stroke\"/><path d=\"M 127.5 160 L 127.5 120\" fill=\"none\" stroke=\"#000000\" stroke-miterlimit=\"10\" stroke-dasharray=\"1 4\" pointer-events=\"stroke\"/><path d=\"M 288.5 160 L 288.5 120\" fill=\"none\" stroke=\"#000000\" stroke-miterlimit=\"10\" stroke-dasharray=\"1 4\" pointer-events=\"stroke\"/><path d=\"M 248 200 L 248 0\" fill=\"none\" stroke=\"#000000\" stroke-miterlimit=\"10\" pointer-events=\"stroke\"/><path d=\"M 328 200 L 328 160\" fill=\"none\" stroke=\"#000000\" stroke-miterlimit=\"10\" pointer-events=\"stroke\"/><path d=\"M 8 200 L 8 0\" fill=\"none\" stroke=\"#000000\" stroke-miterlimit=\"10\" pointer-events=\"stroke\"/><path d=\"M 14.37 20 L 241.63 20\" fill=\"none\" stroke=\"#000000\" stroke-miterlimit=\"10\" pointer-events=\"stroke\"/><path d=\"M 9.12 20 L 16.12 16.5 L 14.37 20 L 16.12 23.5 Z\" fill=\"#000000\" stroke=\"#000000\" stroke-miterlimit=\"10\" pointer-events=\"all\"/><path d=\"M 246.88 20 L 239.88 23.5 L 241.63 20 L 239.88 16.5 Z\" fill=\"#000000\" stroke=\"#000000\" stroke-miterlimit=\"10\" pointer-events=\"all\"/><g transform=\"translate(-0.5 -0.5)\"><switch><foreignObject style=\"overflow: visible; text-align: left;\" pointer-events=\"none\" width=\"100%\" height=\"100%\" requiredFeatures=\"http://www.w3.org/TR/SVG11/feature#Extensibility\"><div xmlns=\"http://www.w3.org/1999/xhtml\" style=\"display: flex; align-items: unsafe center; justify-content: unsafe center; width: 1px; height: 1px; padding-top: 23px; margin-left: 123px;\"><div style=\"box-sizing: border-box; font-size: 0; text-align: center; \"><div style=\"display: inline-block; font-size: 11px; font-family: Courier New; color: #000000; line-height: 1.2; pointer-events: all; background-color: #ffffff; white-space: nowrap; \"><font style=\"font-size: 18px\"><i>L</i><sub>0</sub></font></div></div></div></foreignObject><text x=\"123\" y=\"26\" fill=\"#000000\" font-family=\"Courier New\" font-size=\"11px\" text-anchor=\"middle\">L0</text></switch></g><path d=\"M 254.37 180 L 321.63 180\" fill=\"none\" stroke=\"#000000\" stroke-miterlimit=\"10\" pointer-events=\"stroke\"/><path d=\"M 249.12 180 L 256.12 176.5 L 254.37 180 L 256.12 183.5 Z\" fill=\"#000000\" stroke=\"#000000\" stroke-miterlimit=\"10\" pointer-events=\"all\"/><path d=\"M 326.88 180 L 319.88 183.5 L 321.63 180 L 319.88 176.5 Z\" fill=\"#000000\" stroke=\"#000000\" stroke-miterlimit=\"10\" pointer-events=\"all\"/><g transform=\"translate(-0.5 -0.5)\"><switch><foreignObject style=\"overflow: visible; text-align: left;\" pointer-events=\"none\" width=\"100%\" height=\"100%\" requiredFeatures=\"http://www.w3.org/TR/SVG11/feature#Extensibility\"><div xmlns=\"http://www.w3.org/1999/xhtml\" style=\"display: flex; align-items: unsafe center; justify-content: unsafe center; width: 1px; height: 1px; padding-top: 182px; margin-left: 289px;\"><div style=\"box-sizing: border-box; font-size: 0; text-align: center; \"><div style=\"display: inline-block; font-size: 11px; font-family: Courier New; color: #000000; line-height: 1.2; pointer-events: all; background-color: #ffffff; white-space: nowrap; \"><span style=\"font-size: 18px\">Δ</span><i style=\"font-size: 18px\">L</i></div></div></div></foreignObject><text x=\"289\" y=\"185\" fill=\"#000000\" font-family=\"Courier New\" font-size=\"11px\" text-anchor=\"middle\">ΔL</text></switch></g><rect x=\"28\" y=\"130\" width=\"80\" height=\"20\" fill=\"none\" stroke=\"none\" pointer-events=\"all\"/><g transform=\"translate(-0.5 -0.5)\"><switch><foreignObject style=\"overflow: visible; text-align: left;\" pointer-events=\"none\" width=\"100%\" height=\"100%\" requiredFeatures=\"http://www.w3.org/TR/SVG11/feature#Extensibility\"><div xmlns=\"http://www.w3.org/1999/xhtml\" style=\"display: flex; align-items: unsafe center; justify-content: unsafe center; width: 1px; height: 1px; padding-top: 140px; margin-left: 68px;\"><div style=\"box-sizing: border-box; font-size: 0; text-align: center; \"><div style=\"display: inline-block; font-size: 12px; font-family: Courier New; color: #000000; line-height: 1.2; pointer-events: all; white-space: nowrap; \"><font style=\"font-size: 18px\"><i>T </i>+ Δ<i>T</i></font></div></div></div></foreignObject><text x=\"68\" y=\"144\" fill=\"#000000\" font-family=\"Courier New\" font-size=\"12px\" text-anchor=\"middle\">T + ΔT</text></switch></g><rect x=\"53\" y=\"50\" width=\"30\" height=\"20\" fill=\"none\" stroke=\"none\" pointer-events=\"all\"/><g transform=\"translate(-0.5 -0.5)\"><switch><foreignObject style=\"overflow: visible; text-align: left;\" pointer-events=\"none\" width=\"100%\" height=\"100%\" requiredFeatures=\"http://www.w3.org/TR/SVG11/feature#Extensibility\"><div xmlns=\"http://www.w3.org/1999/xhtml\" style=\"display: flex; align-items: unsafe center; justify-content: unsafe center; width: 1px; height: 1px; padding-top: 60px; margin-left: 68px;\"><div style=\"box-sizing: border-box; font-size: 0; text-align: center; \"><div style=\"display: inline-block; font-size: 12px; font-family: Courier New; color: #000000; line-height: 1.2; pointer-events: all; white-space: nowrap; \"><font style=\"font-size: 18px\"><i>T</i></font></div></div></div></foreignObject><text x=\"68\" y=\"64\" fill=\"#000000\" font-family=\"Courier New\" font-size=\"12px\" text-anchor=\"middle\">T</text></switch></g></g><switch><g requiredFeatures=\"http://www.w3.org/TR/SVG11/feature#Extensibility\"/><a transform=\"translate(0,-5)\" xlink:href=\"https://desk.draw.io/support/solutions/articles/16000042487\" target=\"_blank\"><text text-anchor=\"middle\" font-size=\"10px\" x=\"50%\" y=\"100%\">Viewer does not support full SVG 1.1</text></a></switch></svg>"
          },
          "metadata": {}
        }
      ]
    },
    {
      "cell_type": "markdown",
      "metadata": {
        "id": "f8l9B4ZgOmlv"
      },
      "source": [
        "この図を見ながら式を立てると($\\propto$は比例を表します)\n",
        "\\begin{align*}\n",
        "&\\begin{cases}\n",
        "\\Delta L &\\propto L_0\\\\\n",
        "\\Delta L &\\propto \\Delta T\\\\\n",
        "\\end{cases}\\\\[2mm]\n",
        "\\Delta L &\\propto L_0\\cdot\\Delta T\\\\[3mm]\n",
        "\\Delta L &= \\alpha \\cdot L_0\\cdot\\Delta T\n",
        "\\end{align*}\n",
        "\n",
        "$\\alpha$ を **線膨張率** という. 単位は $\\alpha = \\frac{\\Delta L}{L_0 \\Delta T}$ より ${\\rm K^{-1}}$ です.   \n",
        "温度差 $\\Delta T$ に依存するので ${\\rm {}^\\circ C^{-1}}$ とも表記できます."
      ]
    },
    {
      "cell_type": "markdown",
      "source": [
        "## 測定で用いられる数学"
      ],
      "metadata": {
        "id": "ZbZOOhJ4pX3p"
      }
    },
    {
      "cell_type": "markdown",
      "source": [
        "reference: https://math.stackexchange.com/a/2586841\n",
        "\n",
        "![](https://i.stack.imgur.com/d3191.png)"
      ],
      "metadata": {
        "id": "jnUBwq44qAjP"
      }
    },
    {
      "cell_type": "markdown",
      "source": [
        "$$\n",
        "S_{\\triangle O K A}<S_{\\text {sect } K O A}<S_{\\triangle O A L} %\\tag1\n",
        "\\require{cancel}\n",
        "$$\n",
        "where $S_{\\text {sect}K O A}-$ area of sector $K O A$, and $\\angle {\\text KOA} = \\theta$.\n",
        "$$\n",
        "\\begin{gathered}\n",
        "S_{\\triangle K O A}\n",
        "=\\frac{1}{2} \\cdot|O A| \\cdot|K H|\n",
        "=\\frac{1}{2} \\cdot|O A| \\cdot|O K| \\cdot \\sin \\theta\n",
        "=\\frac{1}{2} \\cdot 1 \\cdot 1 \\cdot \\sin \\theta=\\frac{\\sin \\theta}{2} \\\\\n",
        "%\n",
        "S_{\\text {sect } K O A}\n",
        "=\\frac{1}{2} {R}^2 \\theta\n",
        "= \\dfrac{1}{2}1^2 \\theta = \\frac{\\theta}{2} \\\\\n",
        "%\n",
        "S_{\\triangle O A L}\n",
        "=\\frac{1}{2} \\cdot|O A| \\cdot|L A|\n",
        "=\\frac{\\tan \\theta}{2}\n",
        "\\end{gathered}\n",
        "$$\n",
        "from $\\triangle O A L:|L A|=\\tan \\theta$\n",
        "substitute in (1):\n",
        "$\\require{enclose}$\n",
        "\\begin{gathered}\n",
        "\\frac{\\sin \\theta}{2}<\\frac{\\theta}{2}<\\frac{\\tan \\theta}{2}\\\\[3mm]\n",
        "%\n",
        "\\enclose{roundedbox}[mathcolor=\"black\"]{\\sin \\theta < \\theta <  \\tan \\theta,}\n",
        "\\end{gathered}"
      ],
      "metadata": {
        "id": "egFgqN2SqRS2"
      }
    },
    {
      "cell_type": "markdown",
      "source": [
        "If $\\theta << 1$,\n",
        "$$\n",
        "\\enclose{roundedbox}[mathcolor=\"red\"]{\\\n",
        "\\sin \\theta \\approx \\theta \\approx  \\tan \\theta \\quad}\n",
        "$$"
      ],
      "metadata": {
        "id": "dK18CLgftkwK"
      }
    },
    {
      "cell_type": "markdown",
      "source": [
        "---\n",
        "- 別の可視化 [単位円の 孤長 と (孤の前後)高さ を比較](https://mixedmoss.com/math_reading/limit/lecture2010.pdf)"
      ],
      "metadata": {
        "id": "QqPD8N3hjdR7"
      }
    },
    {
      "cell_type": "markdown",
      "metadata": {
        "id": "PitJjyOUOucr"
      },
      "source": [
        "# 実験3: 比熱"
      ]
    },
    {
      "cell_type": "code",
      "metadata": {
        "id": "d4dVhJz1OXJ9",
        "cellView": "form",
        "colab": {
          "base_uri": "https://localhost:8080/",
          "height": 336
        },
        "outputId": "03d70f40-9bb0-4336-9b27-d87f1c2741b0"
      },
      "source": [
        "#@title 熱の運び屋としての金属\n",
        "%%html\n",
        "<iframe width=\"560\" height=\"315\" src=\"https://www.youtube-nocookie.com/embed/QsYnFVZ3Uxk?si=f4Vjm0WiashVaFbV\" title=\"YouTube video player\" frameborder=\"0\" allow=\"accelerometer; autoplay; clipboard-write; encrypted-media; gyroscope; picture-in-picture; web-share\" referrerpolicy=\"strict-origin-when-cross-origin\" allowfullscreen></iframe>"
      ],
      "execution_count": 68,
      "outputs": [
        {
          "output_type": "display_data",
          "data": {
            "text/plain": [
              "<IPython.core.display.HTML object>"
            ],
            "text/html": [
              "<iframe width=\"560\" height=\"315\" src=\"https://www.youtube-nocookie.com/embed/QsYnFVZ3Uxk?si=f4Vjm0WiashVaFbV\" title=\"YouTube video player\" frameborder=\"0\" allow=\"accelerometer; autoplay; clipboard-write; encrypted-media; gyroscope; picture-in-picture; web-share\" referrerpolicy=\"strict-origin-when-cross-origin\" allowfullscreen></iframe>\n"
            ]
          },
          "metadata": {}
        }
      ]
    },
    {
      "cell_type": "code",
      "metadata": {
        "colab": {
          "base_uri": "https://localhost:8080/",
          "height": 625
        },
        "cellView": "form",
        "id": "U7hCdE3Pjgz8",
        "outputId": "283aae0f-269e-4963-8213-9330f6d740ec"
      },
      "source": [
        "#@title 熱の移動実験\n",
        "%%html\n",
        "<iframe src=\"https://phet.colorado.edu/sims/html/energy-forms-and-changes/latest/energy-forms-and-changes_ja.html\"\n",
        "        width=\"800\"\n",
        "        height=\"600\"\n",
        "        allowfullscreen>\n",
        "</iframe>"
      ],
      "execution_count": 69,
      "outputs": [
        {
          "output_type": "display_data",
          "data": {
            "text/plain": [
              "<IPython.core.display.HTML object>"
            ],
            "text/html": [
              "<iframe src=\"https://phet.colorado.edu/sims/html/energy-forms-and-changes/latest/energy-forms-and-changes_ja.html\"\n",
              "        width=\"800\"\n",
              "        height=\"600\"\n",
              "        allowfullscreen>\n",
              "</iframe>\n"
            ]
          },
          "metadata": {}
        }
      ]
    },
    {
      "cell_type": "markdown",
      "source": [
        "## 熱量とは"
      ],
      "metadata": {
        "id": "9n-C20u3Et3L"
      }
    },
    {
      "cell_type": "markdown",
      "source": [
        "熱としてのエネルギーの移動形態"
      ],
      "metadata": {
        "id": "TF6vjI6uQ0XI"
      }
    },
    {
      "cell_type": "markdown",
      "source": [
        "### 熱量の単位, 1 cal\n",
        "- 生活単位\n",
        "- 標準状態で 14.5 ℃ の純水を 15.5 ℃ まで、1 ℃ 上げるために必要なエネルギー\n",
        "\n",
        "---\n",
        "参考資料:https://www.dainippon-tosho.co.jp/unit/list/cal.html"
      ],
      "metadata": {
        "id": "VWgUvgddEwWS"
      }
    },
    {
      "cell_type": "markdown",
      "source": [
        "### 比熱の定義"
      ],
      "metadata": {
        "id": "agRaeWq1Q6nI"
      }
    },
    {
      "cell_type": "markdown",
      "source": [
        "- 金属などの物体 1 g を 1 ℃ 上昇させるために必要な、熱量\n",
        "  - この実験では、生活単位の cal で扱います\n",
        "\n",
        "---\n",
        "国際的な単位系では、エネルギーの単位 J が、熱量の単位として用いられています。"
      ],
      "metadata": {
        "id": "7o0NwLcZRKE_"
      }
    },
    {
      "cell_type": "markdown",
      "metadata": {
        "id": "jVBS2UuAPoLc"
      },
      "source": [
        "# 実験4: 仕事等量"
      ]
    },
    {
      "cell_type": "markdown",
      "source": [
        "熱量(cal)と仕事(J)の関係を整理"
      ],
      "metadata": {
        "id": "To5P2H_SSTWq"
      }
    },
    {
      "cell_type": "code",
      "metadata": {
        "id": "LWGRBVn_SPyD",
        "cellView": "form",
        "colab": {
          "base_uri": "https://localhost:8080/",
          "height": 336
        },
        "outputId": "218fa488-0176-49b5-b985-4b71699ad9fe"
      },
      "source": [
        "#@title 仕事と火\n",
        "%%html\n",
        "<iframe width=\"560\" height=\"315\" src=\"https://www.youtube-nocookie.com/embed/mB4kbsbaL7Q?si=5Cld_5nD-4WWMvhW\" title=\"YouTube video player\" frameborder=\"0\" allow=\"accelerometer; autoplay; clipboard-write; encrypted-media; gyroscope; picture-in-picture; web-share\" referrerpolicy=\"strict-origin-when-cross-origin\" allowfullscreen></iframe>"
      ],
      "execution_count": 70,
      "outputs": [
        {
          "output_type": "display_data",
          "data": {
            "text/plain": [
              "<IPython.core.display.HTML object>"
            ],
            "text/html": [
              "<iframe width=\"560\" height=\"315\" src=\"https://www.youtube-nocookie.com/embed/mB4kbsbaL7Q?si=5Cld_5nD-4WWMvhW\" title=\"YouTube video player\" frameborder=\"0\" allow=\"accelerometer; autoplay; clipboard-write; encrypted-media; gyroscope; picture-in-picture; web-share\" referrerpolicy=\"strict-origin-when-cross-origin\" allowfullscreen></iframe>\n"
            ]
          },
          "metadata": {}
        }
      ]
    },
    {
      "cell_type": "code",
      "metadata": {
        "id": "XKzG3W61QC1l",
        "cellView": "form",
        "colab": {
          "base_uri": "https://localhost:8080/",
          "height": 336
        },
        "outputId": "b6bbf65b-7fb3-4477-b568-84f676cd0965"
      },
      "source": [
        "#@title 仕事と熱の関係\n",
        "%%html\n",
        "<iframe width=\"560\" height=\"315\" src=\"https://www.youtube-nocookie.com/embed/ZbZjo7zhWFk\" frameborder=\"0\" allow=\"accelerometer; autoplay; clipboard-write; encrypted-media; gyroscope; picture-in-picture\" allowfullscreen></iframe>"
      ],
      "execution_count": 71,
      "outputs": [
        {
          "output_type": "display_data",
          "data": {
            "text/plain": [
              "<IPython.core.display.HTML object>"
            ],
            "text/html": [
              "<iframe width=\"560\" height=\"315\" src=\"https://www.youtube-nocookie.com/embed/ZbZjo7zhWFk\" frameborder=\"0\" allow=\"accelerometer; autoplay; clipboard-write; encrypted-media; gyroscope; picture-in-picture\" allowfullscreen></iframe>\n"
            ]
          },
          "metadata": {}
        }
      ]
    },
    {
      "cell_type": "code",
      "metadata": {
        "id": "G--uoKyzQD3P",
        "cellView": "form",
        "colab": {
          "base_uri": "https://localhost:8080/",
          "height": 336
        },
        "outputId": "46edb3b5-ef8a-4c78-8b6d-b253c3033932"
      },
      "source": [
        "#@title 仕事等量の測定: 英国人ジュールが用いた手法\n",
        "%%html\n",
        "<iframe width=\"560\" height=\"315\" src=\"https://www.youtube-nocookie.com/embed/pOpY-zHlQzA?si=jseJ4KZP7ppsOpR9\" title=\"YouTube video player\" frameborder=\"0\" allow=\"accelerometer; autoplay; clipboard-write; encrypted-media; gyroscope; picture-in-picture; web-share\" referrerpolicy=\"strict-origin-when-cross-origin\" allowfullscreen></iframe>\n",
        "<iframe width=\"560\" height=\"315\" src=\"https://www.youtube-nocookie.com/embed/oP5ET5uxPow?si=F8I8lhJTbg2NtODD\" title=\"YouTube video player\" frameborder=\"0\" allow=\"accelerometer; autoplay; clipboard-write; encrypted-media; gyroscope; picture-in-picture; web-share\" referrerpolicy=\"strict-origin-when-cross-origin\" allowfullscreen></iframe>"
      ],
      "execution_count": 72,
      "outputs": [
        {
          "output_type": "display_data",
          "data": {
            "text/plain": [
              "<IPython.core.display.HTML object>"
            ],
            "text/html": [
              "<iframe width=\"560\" height=\"315\" src=\"https://www.youtube-nocookie.com/embed/pOpY-zHlQzA?si=jseJ4KZP7ppsOpR9\" title=\"YouTube video player\" frameborder=\"0\" allow=\"accelerometer; autoplay; clipboard-write; encrypted-media; gyroscope; picture-in-picture; web-share\" referrerpolicy=\"strict-origin-when-cross-origin\" allowfullscreen></iframe>\n",
              "<iframe width=\"560\" height=\"315\" src=\"https://www.youtube-nocookie.com/embed/oP5ET5uxPow?si=F8I8lhJTbg2NtODD\" title=\"YouTube video player\" frameborder=\"0\" allow=\"accelerometer; autoplay; clipboard-write; encrypted-media; gyroscope; picture-in-picture; web-share\" referrerpolicy=\"strict-origin-when-cross-origin\" allowfullscreen></iframe>\n"
            ]
          },
          "metadata": {}
        }
      ]
    },
    {
      "cell_type": "code",
      "metadata": {
        "id": "mY_Zg-9hQKwf",
        "cellView": "form",
        "colab": {
          "base_uri": "https://localhost:8080/",
          "height": 336
        },
        "outputId": "1d4647f9-1ca2-4fa7-ed78-d4f6f943f5ba"
      },
      "source": [
        "#@title ジュール熱\n",
        "%%html\n",
        "<iframe width=\"560\" height=\"315\" src=\"https://www.youtube-nocookie.com/embed/0z_bCUf-xMM?si=mNlsrY309AyIFCva\" title=\"YouTube video player\" frameborder=\"0\" allow=\"accelerometer; autoplay; clipboard-write; encrypted-media; gyroscope; picture-in-picture; web-share\" referrerpolicy=\"strict-origin-when-cross-origin\" allowfullscreen></iframe>"
      ],
      "execution_count": 73,
      "outputs": [
        {
          "output_type": "display_data",
          "data": {
            "text/plain": [
              "<IPython.core.display.HTML object>"
            ],
            "text/html": [
              "<iframe width=\"560\" height=\"315\" src=\"https://www.youtube-nocookie.com/embed/0z_bCUf-xMM?si=mNlsrY309AyIFCva\" title=\"YouTube video player\" frameborder=\"0\" allow=\"accelerometer; autoplay; clipboard-write; encrypted-media; gyroscope; picture-in-picture; web-share\" referrerpolicy=\"strict-origin-when-cross-origin\" allowfullscreen></iframe>\n"
            ]
          },
          "metadata": {}
        }
      ]
    }
  ]
}