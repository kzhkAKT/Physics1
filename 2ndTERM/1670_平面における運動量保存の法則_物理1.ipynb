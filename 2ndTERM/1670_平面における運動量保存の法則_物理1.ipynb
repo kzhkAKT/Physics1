{
  "nbformat": 4,
  "nbformat_minor": 0,
  "metadata": {
    "colab": {
      "name": "1670_平面における運動量保存の法則_物理1",
      "provenance": [],
      "authorship_tag": "ABX9TyOiRU2ktMQarhLGDmkug8Dt",
      "include_colab_link": true
    },
    "kernelspec": {
      "name": "python3",
      "display_name": "Python 3"
    }
  },
  "cells": [
    {
      "cell_type": "markdown",
      "metadata": {
        "id": "view-in-github",
        "colab_type": "text"
      },
      "source": [
        "<a href=\"https://colab.research.google.com/github/kzhkAKT/Physics1/blob/draft/2ndTERM/1670_%E5%B9%B3%E9%9D%A2%E3%81%AB%E3%81%8A%E3%81%91%E3%82%8B%E9%81%8B%E5%8B%95%E9%87%8F%E4%BF%9D%E5%AD%98%E3%81%AE%E6%B3%95%E5%89%87_%E7%89%A9%E7%90%861.ipynb\" target=\"_parent\"><img src=\"https://colab.research.google.com/assets/colab-badge.svg\" alt=\"Open In Colab\"/></a>"
      ]
    },
    {
      "cell_type": "markdown",
      "metadata": {
        "id": "PZo0KOeN0Jk3"
      },
      "source": [
        "# 平面空間での運動"
      ]
    },
    {
      "cell_type": "markdown",
      "metadata": {
        "id": "yFCMnQkmcA1g"
      },
      "source": [
        "## 復習\n"
      ]
    },
    {
      "cell_type": "markdown",
      "metadata": {
        "id": "TKkfFgeRlshY"
      },
      "source": [
        "### 速度 $\\vec{v}$"
      ]
    },
    {
      "cell_type": "markdown",
      "metadata": {
        "id": "y3_lKW7AlyJI"
      },
      "source": [
        "#### $\\vec{v}$ のベクトル表示と成分表示\n",
        "\n",
        "- ベクトル表示: $\\vec{v}$ (高専の範囲では) まっすぐな**矢印** で表現と考えて良い\n",
        "  - 視覚的に理解しやすくなる\n",
        "    - 合成速度\n",
        "      \\begin{align}    \n",
        "      \\vec{w}&= \\vec{u}+\\vec{v}\n",
        "      \\end{align}\n",
        "    - 相対速度(Aから見た)\n",
        "      \\begin{align}\n",
        "      \\vec{v'}_B&= \\vec{v}_B -\\vec{v}_A \\\\\n",
        "      &=  \\vec{v}_B + \\left( -\\vec{v}_A \\right)\n",
        "      \\end{align}\n",
        "\n",
        "- 成分表示: [ベクトル表示] + 座標\n",
        "  - $x$の軸だけで表現できる **一次元** では\n",
        "    \\begin{align}\n",
        "    \\vec{v} = \\left(\n",
        "    \\begin{array}{c}\n",
        "    v_x\\\\\n",
        "    \\end{array}\n",
        "    \\right) = v\n",
        "    \\end{align}\n",
        "    - その大きさ: $\\left|\\vec{v}\\right| = \\left|v_x \\right| = \\left| v \\right| $\n",
        "\n",
        "  - $x-y$の直交座標で表現できる **二次元** では\n",
        "  \\begin{align}\n",
        "  \\vec{v} = \\left(\n",
        "\\begin{array}{c}\n",
        "v_x\\\\\n",
        "v_y\\\\\n",
        "\\end{array}\n",
        "\\right)\n",
        "  \\end{align}\n",
        "    - その大きさ: $\\left|\\vec{v}\\right| = \\sqrt{v_x^2 + v_y^2}$\n",
        "\n",
        "  - $x-y-z$の直交座標で表現できる **三次元** では\n",
        "  \\begin{align}\n",
        "  \\vec{v} = \\left(\n",
        "  \\begin{array}{c}\n",
        "  v_x\\\\\n",
        "  v_y\\\\\n",
        "  v_z\\\\\n",
        "  \\end{array}\n",
        "  \\right)\n",
        "  \\end{align}\n",
        "    - その大きさ: $\\left|\\vec{v}\\right| = \\sqrt{v_x^2 + v_y^2 + v_z^2}$\n",
        "\n",
        "  - 成分表示を行うと, 計算が容易になることがある\n"
      ]
    },
    {
      "cell_type": "markdown",
      "metadata": {
        "id": "HCLOpu74bBSP"
      },
      "source": [
        "$\\require{color}$\n",
        "### 加速度 $\\vec{a}$\n",
        "\n",
        "\\begin{align*}\n",
        "\\vec{a}\n",
        "&= \\dfrac{{\\rm d} \\vec{v}}{{\\rm d} t}\\\\[2mm]\n",
        "&\\sim \\dfrac{\\Delta \\vec{v}}{\\Delta t}\n",
        "= \\dfrac{\\textcolor{red}{\\vec{v}} - \\textcolor{blue}{\\vec{v}_0}}{\\Delta t}\n",
        "= \\dfrac{\\textcolor{red}{\\vec{v}} + \\left( -\\textcolor{blue}{\\vec{v}_0} \\right)}{\\Delta t}\n",
        "\\end{align*}"
      ]
    },
    {
      "cell_type": "markdown",
      "metadata": {
        "id": "XB3GFM4jd2pA"
      },
      "source": [
        "#### $\\vec{a}$ のベクトル表示と成分表示\n",
        "\n",
        "- ベクトル表示: $\\vec{a}$ (高専の範囲では) まっすぐな**矢印** で表現と考えて良い\n",
        "  - 視覚的に理解しやすくなる\n",
        "\n",
        "- 成分表示: [ベクトル表示] + 座標\n",
        "  - $x$の軸だけで表現できる **一次元** では\n",
        "    \\begin{align}\n",
        "    \\vec{a} = \\left(\n",
        "    \\begin{array}{c}\n",
        "    a_x\\\\\n",
        "    \\end{array}\n",
        "    \\right) = a\n",
        "    \\end{align}\n",
        "    - その大きさ: $\\left|\\vec{a}\\right| = \\left|a_x \\right| = \\left| a \\right| $\n",
        "\n",
        "  - $x-y$の直交座標で表現できる **二次元** では, 三平方の定理より\n",
        "  \\begin{align}\n",
        "  \\vec{a} = \\left(\n",
        "\\begin{array}{c}\n",
        "a_x\\\\\n",
        "a_y\\\\\n",
        "\\end{array}\n",
        "\\right)\n",
        "  \\end{align}\n",
        "    - その大きさ: $\\left|\\vec{a}\\right| = \\sqrt{a_x^2 + a_y^2}$\n",
        "\n",
        "  - $x-y-z$の直交座標で表現できる **三次元** では, 三平方の定理より\n",
        "  \\begin{align}\n",
        "  \\vec{a} = \\left(\n",
        "  \\begin{array}{c}\n",
        "  a_x\\\\\n",
        "  a_y\\\\\n",
        "  a_z\\\\\n",
        "  \\end{array}\n",
        "  \\right)\n",
        "  \\end{align}\n",
        "    - その大きさ: $\\left|\\vec{a}\\right| = \\sqrt{a_x^2 + a_y^2 + a_z^2}$\n",
        "\n",
        "  - 成分表示を行うと, 計算が容易になることがある\n"
      ]
    },
    {
      "cell_type": "markdown",
      "metadata": {
        "id": "fjKrbkdrcuW-"
      },
      "source": [
        "### 運動方程式から運動量変化へ\n",
        "\n",
        "$m\\vec{a}=\\vec{F} \\to m\\vec{v} - m\\vec{v}_0=\\vec{F} \\Delta t$"
      ]
    },
    {
      "cell_type": "code",
      "metadata": {
        "colab": {
          "base_uri": "https://localhost:8080/",
          "height": 336
        },
        "cellView": "form",
        "id": "5zPiPVEg0hXF",
        "outputId": "eb735a3e-2f75-4ec7-9380-bfcceb626555"
      },
      "source": [
        "#@title 擬似テニスでの運動量の変化と力積の関係\n",
        "%%html\n",
        "<iframe width=\"560\" height=\"315\" src=\"https://www.youtube-nocookie.com/embed/3u0lKJB55p4\" frameborder=\"0\" allow=\"accelerometer; autoplay; clipboard-write; encrypted-media; gyroscope; picture-in-picture\" allowfullscreen></iframe>"
      ],
      "execution_count": null,
      "outputs": [
        {
          "output_type": "display_data",
          "data": {
            "text/html": [
              "<iframe width=\"560\" height=\"315\" src=\"https://www.youtube-nocookie.com/embed/3u0lKJB55p4\" frameborder=\"0\" allow=\"accelerometer; autoplay; clipboard-write; encrypted-media; gyroscope; picture-in-picture\" allowfullscreen></iframe>"
            ],
            "text/plain": [
              "<IPython.core.display.HTML object>"
            ]
          },
          "metadata": {
            "tags": []
          }
        }
      ]
    },
    {
      "cell_type": "markdown",
      "metadata": {
        "id": "XIJ_i_j0qDbc"
      },
      "source": [
        "#### 運動量 $m \\ \\vec{v}$\n",
        "\n",
        "運動量の定義:: 質量$m$ 掛ける 速度$\\vec{v}$"
      ]
    },
    {
      "cell_type": "markdown",
      "metadata": {
        "id": "tYSHwApNtPeU"
      },
      "source": [
        "#### 力積 $\\ \\vec{F}\\Delta t$\n",
        "\n",
        "力積の定義:: 力 $\\vec{F}$ 掛ける (接触)時間 $\\Delta t$"
      ]
    },
    {
      "cell_type": "markdown",
      "metadata": {
        "id": "0W4FCwdVgAQa"
      },
      "source": [
        "### 運動量変化と力積\n",
        "$\\require{cancel}$\n",
        "質量 $m$ の物体に力 $\\vec{F}$ が加わった状態を整理すると,\n",
        "ある瞬間ではベクトル表示運動方程式で\n",
        "\\begin{align}\n",
        "m \\vec{a} &= \\vec{F},\n",
        "\\end{align}\n",
        "と記述できます.\n",
        "\n",
        "これに加速度の定義を代入し, 整理すると\n",
        "\\begin{align}\n",
        "m \\left( \\dfrac{\\textcolor{red}{\\vec{v}} - \\textcolor{blue}{\\vec{v}_0}}{\\Delta t}\\right) &= \\vec{F}.\\\\[2mm]\n",
        "m \\left( \\dfrac{\\textcolor{red}{\\vec{v}} - \\textcolor{blue}{\\vec{v}_0}}{\\bcancel{\\Delta t}}\\right) \\bcancel{\\Delta t}\n",
        "&= \\vec{F} \\Delta t\\\\[2mm]\n",
        "%\n",
        "m \\left(\\textcolor{red}{\\vec{v}} - \\textcolor{blue}{\\vec{v}_0}\\right)\n",
        "&= \\vec{F} \\Delta t\\\\[3mm]\n",
        "\\textcolor{red}{m \\vec{v}} - \\textcolor{blue}{m \\vec{v}_0}\n",
        "&= \\textcolor{green}{\\vec{F} \\Delta t}\n",
        "\\end{align}\n",
        "\n",
        "最後の式は $\\Delta t$ が $\\vec{F}$ に掛け合わさっているため,\n",
        "> 運動量の変化\n",
        "(=後の運動量$\\ \\textcolor{red}{m \\vec{v}}$ $-$ 初めの運動量$\\ \\textcolor{blue}{m \\vec{v}_0}$) が,  \n",
        "> 物体に加わった力積( $\\ \\textcolor{green}{\\vec{F} \\Delta t}$ )に等しい.\n",
        "\n",
        "という関係が示されます.\n",
        "\n",
        ">> 後の状態 $-$ 初めの状態 $=$ 途中の原因\n",
        "\n",
        "になっていることにも注意してください.\n"
      ]
    },
    {
      "cell_type": "markdown",
      "metadata": {
        "id": "ACgGAnfHj4uP"
      },
      "source": [
        "### ベクトル表示と成分表示: $m\\vec{v} - m\\vec{v}_0=\\vec{F} \\Delta t$"
      ]
    },
    {
      "cell_type": "markdown",
      "metadata": {
        "id": "sWcRXnnJkIr5"
      },
      "source": [
        "- ベクトル表示: $m\\vec{v}, \\vec{F}\\Delta t$ (高専の範囲では) **矢印** で表現と考えて良い\n",
        "  - 視覚的に理解しやすくなる\n",
        "    - 作図では$\\quad m\\vec{v} + \\left(- m\\vec{v}_0\\right)=\\vec{F} \\Delta t$\n",
        "  - その大きさ: $\\left|m\\vec{v} - m\\vec{v}_0\\right| = \\left|\\vec{F} \\Delta t\\right| $\n",
        "\n",
        "- 成分表示: [ベクトル表示] + 座標\n",
        "\n",
        "  - $x$の軸だけで表現できる **一次元** では\n",
        "    \\begin{align}\n",
        "    mv_x - mv_{x0} &= F_{x} \\Delta t\n",
        "    \\end{align}\n",
        "    または, これまでに学んだ表現では\n",
        "    \\begin{align}\n",
        "    mv - mv_0 &= F \\Delta t\n",
        "    \\end{align}\n",
        "    \n",
        "  - $x-y$の直交座標で表現できる, **二次元** では\n",
        "  \\begin{cases}\n",
        "  mv_x - mv_{x0} &= F_{x} \\Delta t\\\\\n",
        "  mv_y - mv_{y0} &= F_{y} \\Delta t  \n",
        "  \\end{cases}\n",
        "\n",
        "  - $x-y-z$の直交座標で表現できる, **三次元** では\n",
        "  \\begin{cases}\n",
        "  mv_x - mv_{x0} &= F_{x} \\Delta t\\\\\n",
        "  mv_y - mv_{y0} &= F_{y} \\Delta t\\\\\n",
        "  mv_z - mv_{z0} &= F_{z} \\Delta t\n",
        "  \\end{cases}\n",
        "\n",
        "  - 成分表示を行うと, 計算が容易になることがある"
      ]
    },
    {
      "cell_type": "markdown",
      "metadata": {
        "id": "AGkByfFolV5a"
      },
      "source": [
        "> Q. LG p9 no.60 に取り組んでください.\n",
        "\n",
        "> Q. LG p9 no.61(a)に取り組んでください."
      ]
    },
    {
      "cell_type": "code",
      "source": [
        "#@title スプリンクラーと力積の関係\n",
        "#@markdown 作用反作用も考慮する\n",
        "#@markdown https://sciencedemonstrations.fas.harvard.edu/presentations/reverse-sprinkler\n",
        "%%html\n",
        "<iframe width=\"560\" height=\"315\" src=\"https://www.youtube-nocookie.com/embed/sDDbX23Xeyc\" title=\"YouTube video player\" frameborder=\"0\" allow=\"accelerometer; autoplay; clipboard-write; encrypted-media; gyroscope; picture-in-picture\" allowfullscreen></iframe>"
      ],
      "metadata": {
        "cellView": "form",
        "id": "ogFwY7-RPpwY",
        "outputId": "d14764f4-b924-400f-91a9-492464bb7755",
        "colab": {
          "base_uri": "https://localhost:8080/",
          "height": 336
        }
      },
      "execution_count": null,
      "outputs": [
        {
          "output_type": "display_data",
          "data": {
            "text/plain": [
              "<IPython.core.display.HTML object>"
            ],
            "text/html": [
              "<iframe width=\"560\" height=\"315\" src=\"https://www.youtube-nocookie.com/embed/sDDbX23Xeyc\" title=\"YouTube video player\" frameborder=\"0\" allow=\"accelerometer; autoplay; clipboard-write; encrypted-media; gyroscope; picture-in-picture\" allowfullscreen></iframe>\n"
            ]
          },
          "metadata": {}
        }
      ]
    },
    {
      "cell_type": "markdown",
      "metadata": {
        "id": "Y08pYT2toBCj"
      },
      "source": [
        "## 運動量保存則\n",
        " $m_A \\vec{v}_A + m_B \\vec{v}_B = m_A \\vec{v'}_A + m_B \\vec{v'}_B$"
      ]
    },
    {
      "cell_type": "code",
      "metadata": {
        "id": "mru3Wl7qbw26",
        "colab": {
          "base_uri": "https://localhost:8080/",
          "height": 336
        },
        "cellView": "form",
        "outputId": "2d8c7017-9075-48ed-d662-5c2f9fcb2bc0"
      },
      "source": [
        "#@title ビリヤードでの運動量保存則\n",
        "%%html\n",
        "<iframe width=\"560\" height=\"315\" src=\"https://www.youtube-nocookie.com/embed/gVM7wGmhmV8\" frameborder=\"0\" allow=\"accelerometer; autoplay; clipboard-write; encrypted-media; gyroscope; picture-in-picture\" allowfullscreen></iframe>"
      ],
      "execution_count": null,
      "outputs": [
        {
          "output_type": "display_data",
          "data": {
            "text/html": [
              "<iframe width=\"560\" height=\"315\" src=\"https://www.youtube-nocookie.com/embed/gVM7wGmhmV8\" frameborder=\"0\" allow=\"accelerometer; autoplay; clipboard-write; encrypted-media; gyroscope; picture-in-picture\" allowfullscreen></iframe>"
            ],
            "text/plain": [
              "<IPython.core.display.HTML object>"
            ]
          },
          "metadata": {
            "tags": []
          }
        }
      ]
    },
    {
      "cell_type": "markdown",
      "metadata": {
        "id": "C46CMomooTLj"
      },
      "source": [
        "教科書 p57 図 1.82 のような二つの物体の平面上での衝突を考えます.\n",
        "\n",
        "物体 A, B それぞれについて, ベクトル表示の運動量変化と力積を計算します\n",
        "\n",
        "\\begin{cases}\n",
        "m\\vec{v'}_A - m\\vec{v}_A &= \\left( + \\vec{F} \\right) \\Delta t\\\\\n",
        "m\\vec{v'}_B - m\\vec{v}_B &=\\left( - \\vec{F} \\right) \\Delta t\n",
        "\\end{cases}\n",
        "\n",
        "衝突の際には, 物体 A, B には **作用反作用のみ** が働いているので, この二つの式を加えると\n",
        "\n",
        "$\\require{cancel}$\n",
        "\\begin{align}\n",
        "\\left( m_A\\vec{v'}_A + m_B\\vec{v'}_B\\right)\n",
        "-\n",
        "\\left( m_A\\vec{v}_A +  m_B\\vec{v}_B \\right)\n",
        "&= \\cancelto{0}{\\left\\{\n",
        "  \\bcancel{\\left( + \\vec{F} \\right)}\n",
        "  + \\bcancel{\\left( - \\vec{F} \\right)} \\right\\}\\Delta t}\\\\\n",
        "\\left( m_A\\vec{v'}_A + m_B\\vec{v'}_B\\right)\n",
        "&=   \\left( m_A\\vec{v}_A +  m_B\\vec{v}_B \\right) \\\\[3mm]\n",
        "%\n",
        "m_A\\vec{v}_A +  m_B\\vec{v}_B\n",
        "&\\textcolor{red}{=} m_A\\vec{v'}_A +  m_B\\vec{v'}_B.\n",
        "\\end{align}\n",
        "\n",
        "これは, 作用反作用のみが働く場合の衝突では\n",
        "> 「初めの運動量の総和」と「後の運動量の総和が」が保たれる\n",
        ">> (ベクトル表示の)**運動量保存則**  \n",
        "\n",
        "が成立していることを示しています.\n",
        "\n",
        "- それぞれの状態における運動量の総和を**運動量ベクトルの合成** とよびます\n",
        "- 教科書 p57 図1.82 の(b) 運動量ベクトルの合成 で,  \n",
        "  <font color='red'>赤い矢印</font> が**衝突前後で同じ大きさ, 同じ方向で保たれている**ことが運動量保存則に相当します.\n"
      ]
    },
    {
      "cell_type": "markdown",
      "metadata": {
        "id": "-6i4tKy_xCMS"
      },
      "source": [
        "### ベクトル表示と成分表示"
      ]
    },
    {
      "cell_type": "markdown",
      "metadata": {
        "id": "Axs2EGVtxGsN"
      },
      "source": [
        "- ベクトル表示: $m\\vec{v}_A, m\\vec{v}_B;\\ m\\vec{v'}_A, m\\vec{v'}_B$ (高専の範囲では) **矢印** で表現と考えて良い\n",
        "  - 視覚的に理解しやすくなる\n",
        "  - その大きさ: $\\left|m\\vec{v}_A +  m\\vec{v}_B\\right|\n",
        "\\textcolor{red}{=} \\left| m\\vec{v'}_A +  m\\vec{v'}_B\\right|$\n",
        "\n",
        "- 成分表示: [ベクトル表示] + 座標\n",
        "\n",
        "  - $x$の軸だけで表現できる **一次元** では\n",
        "    \\begin{align}\n",
        "    mv_{Ax} +  m{v}_{Bx}\n",
        "    &\\textcolor{red}{=} mv'_{Ax} +  mv'_{Bx}\n",
        "    \\end{align}\n",
        "    または, これまでに学んだ表現では\n",
        "    \\begin{align}\n",
        "    mv_{A} +  m{v}_{B}\n",
        "    &\\textcolor{red}{=} mv'_{A} +  mv'_{B}\n",
        "    \\end{align}\n",
        "\n",
        "  - $x-y$の直交座標で表現できる, **二次元** では\n",
        "  \\begin{cases}\n",
        "  mv_{Ax} +  m{v}_{Bx}\n",
        "  &\\textcolor{red}{=} mv'_{Ax} +  mv'_{Bx},\\\\\n",
        "  mv_{Ay} +  m{v}_{By}\n",
        "  &\\textcolor{red}{=} mv'_{Ay} +  mv'_{By}.\n",
        "  \\end{cases}\n",
        "\n",
        "  - $x-y-z$の直交座標で表現できる, **三次元** では\n",
        "  \\begin{cases}\n",
        "  mv_{Ax} +  m{v}_{Bx}\n",
        "  &\\textcolor{red}{=} mv'_{Ax} +  mv'_{Bx},\\\\\n",
        "  mv_{Ay} +  m{v}_{By}\n",
        "  &\\textcolor{red}{=} mv'_{Ay} +  mv'_{By},\\\\\n",
        "  mv_{Az} +  m{v}_{Bz}\n",
        "  &\\textcolor{red}{=} mv'_{Az} +  mv'_{Bz}.  \n",
        "  \\end{cases}\n",
        "  - 成分表示を行うと, 計算が容易になることがある"
      ]
    },
    {
      "cell_type": "markdown",
      "metadata": {
        "id": "gHwTQDcd1iPn"
      },
      "source": [
        "> Q. 教科書 p58 例題1.26 に取り組んでください."
      ]
    }
  ]
}