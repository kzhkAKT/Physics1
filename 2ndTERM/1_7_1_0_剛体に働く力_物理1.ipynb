{
  "nbformat": 4,
  "nbformat_minor": 0,
  "metadata": {
    "colab": {
      "name": "1_7_1_0_剛体に働く力_物理1",
      "provenance": [],
      "toc_visible": true,
      "authorship_tag": "ABX9TyPV9lRzMUGBvnSDpMMmUTGT",
      "include_colab_link": true
    },
    "kernelspec": {
      "name": "python3",
      "display_name": "Python 3"
    }
  },
  "cells": [
    {
      "cell_type": "markdown",
      "metadata": {
        "id": "view-in-github",
        "colab_type": "text"
      },
      "source": [
        "<a href=\"https://colab.research.google.com/github/kzhkAKT/Physics1/blob/draft/2ndTERM/1_7_1_0_%E5%89%9B%E4%BD%93%E3%81%AB%E5%83%8D%E3%81%8F%E5%8A%9B_%E7%89%A9%E7%90%861.ipynb\" target=\"_parent\"><img src=\"https://colab.research.google.com/assets/colab-badge.svg\" alt=\"Open In Colab\"/></a>"
      ]
    },
    {
      "cell_type": "markdown",
      "metadata": {
        "id": "KpznYqtC3_dW"
      },
      "source": [
        "# 剛体に働く力"
      ]
    },
    {
      "cell_type": "markdown",
      "metadata": {
        "id": "PctvusP64Bo5"
      },
      "source": [
        "## 質点(しつてん)"
      ]
    },
    {
      "cell_type": "markdown",
      "metadata": {
        "id": "AagSuV7V4Inm"
      },
      "source": [
        "物体の大きさや形状の情報を捨て去った、**質** 量を持つ一つの **点**"
      ]
    },
    {
      "cell_type": "markdown",
      "metadata": {
        "id": "AJV--pQs4E9D"
      },
      "source": [
        "## 剛体(ごうたい)"
      ]
    },
    {
      "cell_type": "markdown",
      "metadata": {
        "id": "BF7FrAY64il8"
      },
      "source": [
        "物体の形状や大きさを考慮するが、形は変形しないとした、**剛** 強な物 **体**"
      ]
    },
    {
      "cell_type": "markdown",
      "metadata": {
        "id": "Oj-ALtsx5BLT"
      },
      "source": [
        "## 回転: 質点と剛体の大きな違い\n",
        "\n",
        "1. 質点は点なので、回転がの様子がわからない。\n",
        "(等速円運動で半径 $r=0$では、変位、速度、加速度がゼロ)\n",
        "\n",
        "2. 剛体は、質点と異なり、大きさ(長さ)を持つため **回転** が生じる"
      ]
    },
    {
      "cell_type": "markdown",
      "metadata": {
        "id": "d68nA0pQ5wad"
      },
      "source": [
        "### 偶力: 剛体に見られる典型的な回転"
      ]
    },
    {
      "cell_type": "markdown",
      "metadata": {
        "id": "r5I6pM7s6bo-"
      },
      "source": [
        "ハンドル\n",
        "- 加わる力の方向と大きさは、逆向きで打ち消しあう(偶力,ぐうりょく)も\n",
        "- ハンドルは回転する\n",
        "\n",
        "![](https://upload.wikimedia.org/wikipedia/commons/4/48/Par_de_fuerzas.jpg)"
      ]
    }
  ]
}