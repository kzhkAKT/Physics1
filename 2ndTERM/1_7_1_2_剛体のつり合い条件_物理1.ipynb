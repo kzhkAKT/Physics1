{
  "nbformat": 4,
  "nbformat_minor": 0,
  "metadata": {
    "colab": {
      "name": "1_7_1_2_剛体のつり合い条件_物理1",
      "provenance": [],
      "collapsed_sections": [],
      "authorship_tag": "ABX9TyOkrmXP0B3g2Umzar+mV2Ws",
      "include_colab_link": true
    },
    "kernelspec": {
      "name": "python3",
      "display_name": "Python 3"
    }
  },
  "cells": [
    {
      "cell_type": "markdown",
      "metadata": {
        "id": "view-in-github",
        "colab_type": "text"
      },
      "source": [
        "<a href=\"https://colab.research.google.com/github/kzhkAKT/Physics1/blob/draft/2ndTERM/1_7_1_2_%E5%89%9B%E4%BD%93%E3%81%AE%E3%81%A4%E3%82%8A%E5%90%88%E3%81%84%E6%9D%A1%E4%BB%B6_%E7%89%A9%E7%90%861.ipynb\" target=\"_parent\"><img src=\"https://colab.research.google.com/assets/colab-badge.svg\" alt=\"Open In Colab\"/></a>"
      ]
    },
    {
      "cell_type": "markdown",
      "metadata": {
        "id": "KpznYqtC3_dW"
      },
      "source": [
        "# 剛体に働く力"
      ]
    },
    {
      "cell_type": "markdown",
      "metadata": {
        "id": "bADRXfa5Ayxj"
      },
      "source": [
        "## 力のモーメント"
      ]
    },
    {
      "cell_type": "markdown",
      "metadata": {
        "id": "L78WAD54A7Nt"
      },
      "source": [
        "### 剛体のつり合いの条件\n",
        "\n",
        "(平面上の)剛体の運動は、基本的に次の二つの運動に分解することができる"
      ]
    },
    {
      "cell_type": "markdown",
      "metadata": {
        "id": "FcZwFj0cKJgE"
      },
      "source": [
        "#### 並進運動\n",
        "\n",
        "![](https://wakariyasui.sakura.ne.jp/p/mech/gou/goutai-img/3231-30-1a.gif)\n",
        "\n"
      ]
    },
    {
      "cell_type": "markdown",
      "metadata": {
        "id": "ZubA0fICbvqP"
      },
      "source": [
        "#### 回転運動\n",
        "\n",
        "![](https://wakariyasui.sakura.ne.jp/p/mech/gou/goutai-img/3231-30-2a.gif)\n",
        "\n",
        "図の出典 [https://wakariyasui.sakura.ne.jp](https://wakariyasui.sakura.ne.jp/p/mech/gou/goutai.html)"
      ]
    },
    {
      "cell_type": "markdown",
      "metadata": {
        "id": "bGbJh-xbbNgr"
      },
      "source": [
        "これらの並進運動と回転運動を抑制できれば、  \n",
        "剛体を静止させることができます。  \n",
        "\n",
        "以下では、剛体を静止させるための条件を、  \n",
        "剛体のつり合いとして整理していきます。"
      ]
    },
    {
      "cell_type": "markdown",
      "metadata": {
        "id": "dgP7eciabg26"
      },
      "source": [
        "### 並進運動 **しない** 条件"
      ]
    },
    {
      "cell_type": "markdown",
      "metadata": {
        "id": "Ir7s5hVZb75e"
      },
      "source": [
        "ある剛体に\n",
        "- $n$ 個の力: $\\vec{F_1}, \\vec{F_2}, \\cdots, \\vec{F_n}$\n",
        "\n",
        "が働いている状況を考えます。\n",
        "\n",
        "この剛体が、その場所で静止する条件、つまり並進運動しない条件は\n",
        "\\begin{align}\n",
        "  \\vec{F_1} + \\vec{F_2} + \\cdots + \\vec{F_n} &= \\vec{0}\\\\[1mm]\n",
        "  \\sum_{i=1}^{n} \\vec{F_i} &= \\vec{0}\n",
        "\\end{align}\n",
        "\n",
        "---\n",
        "平面では，$x,y$ と行った二成分が必要になるため $\\vec{0}$ となっています"
      ]
    },
    {
      "cell_type": "markdown",
      "metadata": {
        "id": "UW82f1wvg_tl"
      },
      "source": [
        "### 回転運動 **させない** 条件"
      ]
    },
    {
      "cell_type": "markdown",
      "metadata": {
        "id": "AOZrtLIshHvO"
      },
      "source": [
        "(平面上では、)剛体のある軸を中心として、\n",
        "- <font color='red'>反時計回りに回る 正の力のモーメント</font>と、\n",
        "- <font color='blue'>時計回りに回る 負の力のモーメント</font>\n",
        "\n",
        "があります。\n",
        "\n",
        "このような力のモーメントは、注目する軸から  \n",
        "離れた点に作用する力の方向によって生じます。\n",
        "\n",
        "このような正負の力のモーメントの総和がゼロであれば、  \n",
        "その物体は回転していないことを示しています。\n",
        "\n"
      ]
    },
    {
      "cell_type": "markdown",
      "metadata": {
        "id": "SNL2pJSW7sD4"
      },
      "source": [
        "この(平面上の)剛体が、ある軸を中心として回転しない条件は、  \n",
        "力 $\\vec{F_i}$による軸への力のモーメントを $\\mathcal{N}_i$ とすると\n",
        "\\begin{align}\n",
        "  {\\mathcal{N}_1} + {\\mathcal{N}_2} + \\cdots + {\\mathcal{N}_n} &= {0} \\\\[1mm]\n",
        "  \\sum_{i=1}^{n} {\\mathcal{N}_i} &= {0}\n",
        "\\end{align}"
      ]
    },
    {
      "cell_type": "markdown",
      "metadata": {
        "id": "9xzTPYJ0jtK7"
      },
      "source": [
        "> Q. 教科書 上巻 例題 1.34 に取り組んでください。"
      ]
    }
  ]
}