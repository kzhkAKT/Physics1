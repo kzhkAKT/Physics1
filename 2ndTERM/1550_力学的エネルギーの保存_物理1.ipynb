{
  "nbformat": 4,
  "nbformat_minor": 0,
  "metadata": {
    "colab": {
      "name": "1550_力学的エネルギーの保存_物理1",
      "provenance": [],
      "toc_visible": true,
      "authorship_tag": "ABX9TyMwOs89c4jbsSCN5C8qRLzw",
      "include_colab_link": true
    },
    "kernelspec": {
      "name": "python3",
      "display_name": "Python 3"
    }
  },
  "cells": [
    {
      "cell_type": "markdown",
      "metadata": {
        "id": "view-in-github",
        "colab_type": "text"
      },
      "source": [
        "<a href=\"https://colab.research.google.com/github/kzhkAKT/Physics1/blob/draft/2ndTERM/1550_%E5%8A%9B%E5%AD%A6%E7%9A%84%E3%82%A8%E3%83%8D%E3%83%AB%E3%82%AE%E3%83%BC%E3%81%AE%E4%BF%9D%E5%AD%98_%E7%89%A9%E7%90%861.ipynb\" target=\"_parent\"><img src=\"https://colab.research.google.com/assets/colab-badge.svg\" alt=\"Open In Colab\"/></a>"
      ]
    },
    {
      "cell_type": "markdown",
      "metadata": {
        "id": "G-hLU83tdNaA"
      },
      "source": [
        "# 力学的エネルギー"
      ]
    },
    {
      "cell_type": "markdown",
      "metadata": {
        "id": "KDh1CVG-tLAQ"
      },
      "source": [
        ">Q. 仕事, 運動エネルギー, 位置エネルギー に共通な単位を答えてください."
      ]
    },
    {
      "cell_type": "code",
      "metadata": {
        "id": "8N-cvz4mPmoU",
        "cellView": "form",
        "outputId": "07f5b49d-38ed-4573-a353-170314ccc280",
        "colab": {
          "base_uri": "https://localhost:8080/",
          "height": 475
        }
      },
      "source": [
        "#@title 運動エネルギーと位置エネルギーの受け渡し: Intro without friction\n",
        "%%html\n",
        "<iframe src=\"https://phet.colorado.edu/sims/html/energy-skate-park-basics/latest/energy-skate-park-basics_en.html\" width=\"600\" height=\"450\" scrolling=\"no\" allowfullscreen></iframe>"
      ],
      "execution_count": 1,
      "outputs": [
        {
          "output_type": "display_data",
          "data": {
            "text/html": [
              "<iframe src=\"https://phet.colorado.edu/sims/html/energy-skate-park-basics/latest/energy-skate-park-basics_en.html\" width=\"600\" height=\"450\" scrolling=\"no\" allowfullscreen></iframe>"
            ],
            "text/plain": [
              "<IPython.core.display.HTML object>"
            ]
          },
          "metadata": {
            "tags": []
          }
        }
      ]
    },
    {
      "cell_type": "markdown",
      "metadata": {
        "id": "WyZ7IBSvs51z"
      },
      "source": [
        "このシミュレーションのように\n",
        "- 同じ単位で表されている, 運動エネルギー $E_{\\rm K}$ と 位置エネルギー $U$ は**受け渡しができる**\n",
        "- $E_{\\rm K}$ と $U$ の総和は, _どの時間で見ても_ **保たれている**\n",
        "\n",
        "ことがわかります.\n",
        "\n",
        "> シミュレーションで考えているような全体を **系** と呼びます\n",
        "\n",
        "---\n",
        "摩擦があると、保たれている状態が壊れます"
      ]
    },
    {
      "cell_type": "markdown",
      "metadata": {
        "id": "jKpz745juB3s"
      },
      "source": [
        "## 力学的エネルギーの保存"
      ]
    },
    {
      "cell_type": "markdown",
      "metadata": {
        "id": "a4OtGrYRuVBF"
      },
      "source": [
        "### 力学的エネルギー $E$\n",
        "\n"
      ]
    },
    {
      "cell_type": "markdown",
      "metadata": {
        "id": "-gQ88uaXuboK"
      },
      "source": [
        "運動エネルギー $E_{\\rm K}$ と 位置エネルギー $U$ の総和を  \n",
        "**力学的エネルギー**$E$ と呼びます\n",
        "\\begin{align*}\n",
        "E &= E_{\\rm K} + U\n",
        "\\end{align*}"
      ]
    },
    {
      "cell_type": "markdown",
      "metadata": {
        "id": "sQSJaATtuq_u"
      },
      "source": [
        "### 力学的エネルギー保存則: $E=$一定\n",
        "\n"
      ]
    },
    {
      "cell_type": "markdown",
      "metadata": {
        "id": "AdFWnK_KuxvP"
      },
      "source": [
        "(摩擦のようなエネルギーの損失がない限り)任意の時間において,  \n",
        "注目する系の力学的エネルギーが一定に保たれることを\n",
        "> 系での**力学的エネルギー保存則が成り立つ**\n",
        "\n",
        "と表現します.\n",
        "\n",
        "\\begin{align}\n",
        "E &= E_{\\rm K} + U = \\text{一定}\n",
        "\\end{align}"
      ]
    },
    {
      "cell_type": "markdown",
      "metadata": {
        "id": "ByNJbvTTvlsF"
      },
      "source": [
        "系で力学的エネルギー保存則が成り立てば、\n",
        "> 時間が経過しようとも力学的エネルギーが保存される\n",
        "\n",
        "ことを表しています.\n",
        "\\begin{align}\n",
        "E \n",
        "&= E_{\\rm K} + U \\quad \\text{始めの状態}\\\\[2mm]\n",
        "&= E'_{\\rm K} + U' \\quad \\text{後の状態}\n",
        "\\end{align}"
      ]
    },
    {
      "cell_type": "markdown",
      "metadata": {
        "id": "vKcDO1OcwKFd"
      },
      "source": [
        "また, 運動エネルギー $E_{\\rm K}$や位置エネルギー $U$ は注目する系によって\n",
        "\\begin{align}\n",
        "E_{\\rm K} &=E_{\\rm K1} + E_{\\rm K2} \\\\[2mm]\n",
        "U &= U_{1} + U_{2} \n",
        "\\end{align}\n",
        "と複数になる場合もあります."
      ]
    },
    {
      "cell_type": "markdown",
      "metadata": {
        "id": "JXR0i6ySxIJe"
      },
      "source": [
        "### 重力がはたらくときの力学的エネルギー保存則"
      ]
    },
    {
      "cell_type": "markdown",
      "metadata": {
        "id": "sBLg6ISRxXB4"
      },
      "source": [
        "教科書 p44 図1.60 をみてください.\n",
        "- 始めの状態を \"1\" の添え字\n",
        "- 後の状態を \"2\" の添え字\n",
        "\n",
        "で表しています.\n"
      ]
    },
    {
      "cell_type": "markdown",
      "metadata": {
        "id": "x1FGamXXxsTn"
      },
      "source": [
        "図の運動エネルギー$E_{\\rm K}$と 位置エネルギー  $U$をそれぞれの状態で整理すると\n",
        "\n",
        "|    |  運動エネルギー$E_{\\rm K}$  |  位置エネルギー  $U$|\n",
        "| :-: | :-: | :-: |\n",
        "| 状態 1 | $E_{K1}= \\frac{1}{2}m 0^2$ |  $U_1 = mgh$  |\n",
        "| 状態 2 | $E_{K2}= \\frac{1}{2}m v^2$ |  $U_2 = mg\\cdot 0$   |\n",
        "\n",
        "---\n",
        "慣れるまでは, どんな物理量がゼロなのか明示できに書き込むことをお勧めします"
      ]
    },
    {
      "cell_type": "markdown",
      "metadata": {
        "id": "fXrrQVdpz_JV"
      },
      "source": [
        "この系について、状態1の力学的エネルギー $E_1$ を整理すると\n",
        "\\begin{align}\n",
        "E_1= E_{\\rm K1} + U_1 = 0 + mgh = mgh\n",
        "\\end{align}\n"
      ]
    },
    {
      "cell_type": "markdown",
      "metadata": {
        "id": "-yLT6UEU1Dna"
      },
      "source": [
        "また、状態2の力学的エネルギー  $E_2$  を整理すると\n",
        "\\begin{align}\n",
        "E_2= E_{\\rm K2} + U_2 = \\frac{1}{2}m v^2 + 0 = \\frac{1}{2}m v^2\n",
        "\\end{align}"
      ]
    },
    {
      "cell_type": "markdown",
      "metadata": {
        "id": "YHH9I20-1oRp"
      },
      "source": [
        "一方, 教科書 p31 例題1.14 を利用すると,   \n",
        "重力下で高さ $h$ から自由落下した物体の速さは\n",
        "\\begin{align}\n",
        "v = \\sqrt{2gh}.\n",
        "\\end{align}\n",
        "\n",
        "これを利用すると, 状態2の $E_2$ を整理すると\n",
        "\\begin{align}\n",
        "E_2&=\\frac{1}{2}m v^2\n",
        "= \\frac{1}{2}m \\left( \\sqrt{2gh}\\right)^2\n",
        "= \\frac{1}{2}m \\cdot {2gh}\\\\\n",
        "&= mgh = E_1\n",
        "\\end{align}"
      ]
    },
    {
      "cell_type": "markdown",
      "metadata": {
        "id": "okVKSKN-21XE"
      },
      "source": [
        "このことから, 空気抵抗が内容な自由落下を考えた系では,\n",
        "\\begin{align*}\n",
        "E_1& = E_2\\\\\n",
        "E_{K1} + U_1 & = E_{\\rm K2} + U_2\\\\\n",
        "\\end{align*}\n",
        "となり,\n",
        "> 始めの状態と後の状態で, **力学的エネルギー保存則**が成立する\n",
        "\n",
        "ことを確かめることができました."
      ]
    }
  ]
}