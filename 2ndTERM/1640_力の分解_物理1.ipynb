{
  "nbformat": 4,
  "nbformat_minor": 0,
  "metadata": {
    "colab": {
      "name": "1640_力の分解_物理1",
      "provenance": [],
      "toc_visible": true,
      "authorship_tag": "ABX9TyP+gYn6rwV13jcZtbVDU9gE",
      "include_colab_link": true
    },
    "kernelspec": {
      "name": "python3",
      "display_name": "Python 3"
    }
  },
  "cells": [
    {
      "cell_type": "markdown",
      "metadata": {
        "id": "view-in-github",
        "colab_type": "text"
      },
      "source": [
        "<a href=\"https://colab.research.google.com/github/kzhkAKT/Physics1/blob/draft/2ndTERM/1640_%E5%8A%9B%E3%81%AE%E5%88%86%E8%A7%A3_%E7%89%A9%E7%90%861.ipynb\" target=\"_parent\"><img src=\"https://colab.research.google.com/assets/colab-badge.svg\" alt=\"Open In Colab\"/></a>"
      ]
    },
    {
      "cell_type": "markdown",
      "metadata": {
        "id": "PZo0KOeN0Jk3"
      },
      "source": [
        "# 平面空間での運動"
      ]
    },
    {
      "cell_type": "markdown",
      "metadata": {
        "id": "AdfsWhXgF1NM"
      },
      "source": [
        "## 力の分解\n"
      ]
    },
    {
      "cell_type": "markdown",
      "metadata": {
        "id": "J4strXmAiKk6"
      },
      "source": [
        "基本的には, 力の合成の逆だが,\n",
        "> **平行四辺形の法則**\n",
        "\n",
        "を利用して考えると勘違いを避けることができます."
      ]
    },
    {
      "cell_type": "code",
      "metadata": {
        "id": "zwsPoXFXZS1G",
        "cellView": "form",
        "outputId": "e0445686-afbb-44e0-f125-c5c632904223",
        "colab": {
          "base_uri": "https://localhost:8080/",
          "height": 475
        }
      },
      "source": [
        "#@title Explore 2D\n",
        "%%html\n",
        "<iframe src=\"https://phet.colorado.edu/sims/html/vector-addition/latest/vector-addition_en.html\" width=\"600\" height=\"450\" scrolling=\"no\" allowfullscreen></iframe>"
      ],
      "execution_count": null,
      "outputs": [
        {
          "output_type": "display_data",
          "data": {
            "text/html": [
              "<iframe src=\"https://phet.colorado.edu/sims/html/vector-addition/latest/vector-addition_en.html\" width=\"600\" height=\"450\" scrolling=\"no\" allowfullscreen></iframe>"
            ],
            "text/plain": [
              "<IPython.core.display.HTML object>"
            ]
          },
          "metadata": {
            "tags": []
          }
        }
      ]
    },
    {
      "cell_type": "markdown",
      "metadata": {
        "id": "ZV-ud5vHjWB0"
      },
      "source": [
        "### 三角比 ~ 三角関数"
      ]
    },
    {
      "cell_type": "code",
      "metadata": {
        "id": "UuKYzvJIjtlj",
        "cellView": "form",
        "outputId": "f9b3f039-b365-4490-8b94-1d4e087cd295",
        "colab": {
          "base_uri": "https://localhost:8080/",
          "height": 475
        }
      },
      "source": [
        "#@title 単位円(半径1の円)と三角比\n",
        "%%html\n",
        "<iframe src=\"https://phet.colorado.edu/sims/html/trig-tour/latest/trig-tour_en.html\" width=\"600\" height=\"450\" scrolling=\"no\" allowfullscreen></iframe>"
      ],
      "execution_count": null,
      "outputs": [
        {
          "output_type": "display_data",
          "data": {
            "text/html": [
              "<iframe src=\"https://phet.colorado.edu/sims/html/trig-tour/latest/trig-tour_en.html\" width=\"600\" height=\"450\" scrolling=\"no\" allowfullscreen></iframe>"
            ],
            "text/plain": [
              "<IPython.core.display.HTML object>"
            ]
          },
          "metadata": {
            "tags": []
          }
        }
      ]
    },
    {
      "cell_type": "markdown",
      "metadata": {
        "id": "vIxK7wnCpQBx"
      },
      "source": [
        "#### 単位円における三角比"
      ]
    },
    {
      "cell_type": "markdown",
      "metadata": {
        "id": "xXPBhdTsowR3"
      },
      "source": [
        "$\\require{color}$\n",
        "\\begin{align}\n",
        "\\cos\\theta &= \\dfrac{\\textcolor{blue}{\\cos\\theta}}{1}\\\\[1mm]\n",
        "\\sin \\theta &= \\dfrac{\\textcolor{green}{\\sin \\theta}}{1}\\\\[1mm]\n",
        "\\tan \\theta &= \\dfrac{\\textcolor{green}{\\sin \\theta}}{\\textcolor{blue}{\\cos\\theta}}\n",
        "\\end{align}"
      ]
    },
    {
      "cell_type": "markdown",
      "metadata": {
        "id": "pcujLyeBjshq"
      },
      "source": [
        "> Q. 教科書 p58 表1.3 との対応を確認してください."
      ]
    },
    {
      "cell_type": "markdown",
      "metadata": {
        "id": "plE4_5UtnsWm"
      },
      "source": [
        "> Q. 単位円の円周を計算してください.\n",
        "\n",
        "---\n",
        "\n",
        "弧度法 は  **単位円の円弧の長さが $\\theta$ になるよう** に定義したものです. \n",
        "\n",
        "正式には下記の文章ですが, 単位円で考えた方が単純です\n",
        ">> [円の半径に等しい長さの弧の中心に対する角度](https://elaws.e-gov.go.jp/search/elawsSearch/elaws_search/lsg0500/detail?lawId=404CO0000000357#77)\n",
        "\n"
      ]
    },
    {
      "cell_type": "markdown",
      "metadata": {
        "id": "EZik4y_SjMW6"
      },
      "source": [
        "### $\\vec{F}$ と $x-y$ 座標"
      ]
    },
    {
      "cell_type": "markdown",
      "metadata": {
        "id": "J15HAk2MkMiF"
      },
      "source": [
        "\\begin{align}\n",
        "\\vec{F} = F \\cdot  \\vec{e}_{F}\n",
        "\\end{align}\n",
        "\n",
        "> $\\vec{F}$ は **単位ベクトル $\\vec{e}_{F}$** を $F$ 倍 したもの\n",
        "\n",
        "といえます.\n",
        "\n",
        "---\n",
        "\n",
        "大きさ $\\left| \\vec{F} \\right|=F$"
      ]
    },
    {
      "cell_type": "markdown",
      "metadata": {
        "id": "7eWNnf7VkyxY"
      },
      "source": [
        "$\\require{color}  \\require{cancel}$\n",
        "\n",
        "これを利用すれば, $\\vec{e}_F$ と $x$ 軸がなす角度を $\\theta$ とすると\n",
        "\\begin{align}\n",
        "\\vec{e}_F = \\left( \\textcolor{blue}{\\cos\\theta}, \n",
        "\\textcolor{green}{\\sin \\theta}\\right),\n",
        "\\end{align}\n",
        "よって $\\vec{F}$ の成分表示は\n",
        "\\begin{cases}\n",
        "F_x &= F \\textcolor{blue}{\\cos\\theta}\\\\\n",
        "F_y &= F \\textcolor{green}{\\sin \\theta}\\\\\n",
        "\\end{cases}\n",
        "\n",
        "その傾きは\n",
        "\\begin{align}\n",
        "\\dfrac{F_y}{F_x} &= \\dfrac{\\cancel{F} \\textcolor{green}{\\sin \\theta}}{\\cancel{F}\\textcolor{blue}{\\cos\\theta}} \\\\\n",
        "&= \\tan \\theta\n",
        "\\end{align}"
      ]
    },
    {
      "cell_type": "markdown",
      "metadata": {
        "id": "povfAYM_rA1H"
      },
      "source": [
        "> 教科書 p53 例題1.23 に取り組んでください."
      ]
    }
  ]
}