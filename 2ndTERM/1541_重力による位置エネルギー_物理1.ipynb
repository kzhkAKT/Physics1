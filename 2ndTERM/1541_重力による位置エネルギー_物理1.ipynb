{
  "nbformat": 4,
  "nbformat_minor": 0,
  "metadata": {
    "colab": {
      "name": "1541_重力による位置エネルギー_物理1",
      "provenance": [],
      "collapsed_sections": [],
      "toc_visible": true,
      "authorship_tag": "ABX9TyPl4l0Ig5wNHZTEOx2a6b8T",
      "include_colab_link": true
    },
    "kernelspec": {
      "name": "python3",
      "display_name": "Python 3"
    }
  },
  "cells": [
    {
      "cell_type": "markdown",
      "metadata": {
        "id": "view-in-github",
        "colab_type": "text"
      },
      "source": [
        "<a href=\"https://colab.research.google.com/github/kzhkAKT/Physics1/blob/draft/2ndTERM/1541_%E9%87%8D%E5%8A%9B%E3%81%AB%E3%82%88%E3%82%8B%E4%BD%8D%E7%BD%AE%E3%82%A8%E3%83%8D%E3%83%AB%E3%82%AE%E3%83%BC_%E7%89%A9%E7%90%861.ipynb\" target=\"_parent\"><img src=\"https://colab.research.google.com/assets/colab-badge.svg\" alt=\"Open In Colab\"/></a>"
      ]
    },
    {
      "cell_type": "markdown",
      "metadata": {
        "id": "G-hLU83tdNaA"
      },
      "source": [
        "# 力学的エネルギー"
      ]
    },
    {
      "cell_type": "markdown",
      "metadata": {
        "id": "RzZur4C5ddTz"
      },
      "source": [
        "## 位置エネルギー, potential energy\n",
        "\n",
        "- **基準**からの位置によって決まる仕事をする能力\n",
        "- (ゆっくりと)外力によってなされた仕事が, **基準からの位置に蓄えられている** と考えます.\n"
      ]
    },
    {
      "cell_type": "markdown",
      "metadata": {
        "id": "cIITstGWPiSP"
      },
      "source": [
        "### 重力による位置エネルギー"
      ]
    },
    {
      "cell_type": "code",
      "source": [
        "#@title 重力かで外力 $F$ がした仕事\n",
        "%%html\n",
        "<img src=\"https://docs.google.com/drawings/d/e/2PACX-1vTUjkEApSs1r46wggrakHAinpujR7FcwSbZtHHfE9pl1LRsVGBgsSrSCqARuwrZbXIojwtz56KCU5kA/pub?w=355&amp;h=465\">"
      ],
      "metadata": {
        "cellView": "form",
        "id": "fIkktGjx3grF",
        "outputId": "c2705a75-0b16-43b4-a68a-ec3a795c09b6",
        "colab": {
          "base_uri": "https://localhost:8080/",
          "height": 485
        }
      },
      "execution_count": 5,
      "outputs": [
        {
          "output_type": "display_data",
          "data": {
            "text/plain": [
              "<IPython.core.display.HTML object>"
            ],
            "text/html": [
              "<img src=\"https://docs.google.com/drawings/d/e/2PACX-1vTUjkEApSs1r46wggrakHAinpujR7FcwSbZtHHfE9pl1LRsVGBgsSrSCqARuwrZbXIojwtz56KCU5kA/pub?w=355&amp;h=465\">\n"
            ]
          },
          "metadata": {}
        }
      ]
    },
    {
      "cell_type": "markdown",
      "metadata": {
        "id": "K4xNf5WBQMmL"
      },
      "source": [
        "1. 高さの **基準** である地表を確認\n",
        "2. 途中の状態では, 質量 $m$ の物体を重力下で,  \n",
        " 重力よりも _ほんの少しだけ_ 大きい外力で引き上げる\n",
        "  - 力のつり合いが成り立つと考え\n",
        "  $$\\quad F + (-W) =0\\\\ \\to F = W = mg$$\n",
        "\n",
        "---\n",
        "「重力よりもほんの少しだけ大きい外力」という表現で、  \n",
        "外力がした仕事による物体の _運動エネルギー変化_ をゼロにしています。"
      ]
    },
    {
      "cell_type": "markdown",
      "source": [
        "### $F$ が $m$ にした仕事の計算"
      ],
      "metadata": {
        "id": "0JTkyBZK48j6"
      }
    },
    {
      "cell_type": "markdown",
      "metadata": {
        "id": "m1t-rZvzQpkt"
      },
      "source": [
        "この状況で外力 $F$ がした仕事 $W$ を計算すると\n",
        "\\begin{align*}\n",
        "W = F \\cdot s = F \\cdot h = mg \\cdot h = mgh\n",
        "\\end{align*}"
      ]
    },
    {
      "cell_type": "markdown",
      "metadata": {
        "id": "8iZlcxbIQ8Bj"
      },
      "source": [
        "この仕事が, _重力下で基準の地表から_ 高さ $h$ の位置にいる  \n",
        "質量 $m$ の物体に蓄えられていると考え, **重力による位置エネルギー $U$** を\n",
        "\\begin{align} \n",
        "U = mgh\n",
        "\\end{align}\n",
        "と定義します.\n"
      ]
    },
    {
      "cell_type": "code",
      "metadata": {
        "id": "8N-cvz4mPmoU",
        "cellView": "form",
        "outputId": "852f37b8-79f2-4c69-a567-4ef2920a1825",
        "colab": {
          "base_uri": "https://localhost:8080/",
          "height": 475
        }
      },
      "source": [
        "#@title 基準による位置エネルギー違い: Playground\n",
        "%%html\n",
        "<iframe src=\"https://phet.colorado.edu/sims/html/energy-skate-park-basics/latest/energy-skate-park-basics_en.html\" width=\"600\" height=\"450\" scrolling=\"no\" allowfullscreen></iframe>"
      ],
      "execution_count": null,
      "outputs": [
        {
          "output_type": "display_data",
          "data": {
            "text/html": [
              "<iframe src=\"https://phet.colorado.edu/sims/html/energy-skate-park-basics/latest/energy-skate-park-basics_en.html\" width=\"600\" height=\"450\" scrolling=\"no\" allowfullscreen></iframe>"
            ],
            "text/plain": [
              "<IPython.core.display.HTML object>"
            ]
          },
          "metadata": {
            "tags": []
          }
        }
      ]
    },
    {
      "cell_type": "code",
      "metadata": {
        "id": "T8rBSFa2VzqT",
        "cellView": "form",
        "outputId": "f970aad3-90d1-40c6-9008-0fa72c44d857",
        "colab": {
          "base_uri": "https://localhost:8080/",
          "height": 259
        }
      },
      "source": [
        "#@title 位置エネルギーのグラフ表示\n",
        "%%svg\n",
        "<svg xmlns=\"http://www.w3.org/2000/svg\" xmlns:xlink=\"http://www.w3.org/1999/xlink\" version=\"1.1\" width=\"320px\" viewBox=\"-0.5 -0.5 320 238\" content=\"&lt;mxfile host=&quot;app.diagrams.net&quot; modified=&quot;2020-11-04T12:59:15.022Z&quot; agent=&quot;5.0 (Macintosh; Intel Mac OS X 10_15_7) AppleWebKit/537.36 (KHTML, like Gecko) Chrome/86.0.4240.111 Safari/537.36&quot; etag=&quot;SU7jqFwCp4gDlbC6exDD&quot; version=&quot;13.8.9-1&quot; type=&quot;google&quot;&gt;&lt;diagram id=&quot;yH6dnhzfLOWfL0e_viCE&quot; name=&quot;Page-1&quot;&gt;7Vhdb9owFP01fqQizgfJI6Gh09ZJ1app0t7cxAS3JmZOKNBfPzuxCQ4Eyme3aS+QHF9f2/eee+wY2IPJ4o6j6fgrSzAFsJssgH0LILSsHhR/ElkqpNvtVUjKSaKwGngkb1gbKnRGEpwbhgVjtCBTE4xZluG4MDDEOZubZiNGzVGnKMUbwGOM6Cb6gyTFuEIdy67xT5ikYzUyDFSHCdK2aiH5GCVsvgbZEbAHnLGieposBpjK4OmwVP2GLa2reXGcFe/pEL2xh+X95yRy2LeQPDyj5y8/O17l5RXRmVovgB4V/sIRE27FrIulioT3a8Z0Qycv89QXBtCZLupGGWEUmx3uMOMpQetGXqr+y6GIBr5rRKxiBVa+TMNJOt5qWmPV9DUMjZVAzmZZgmVcuqJ5PiYFfpxW054LGgtsXEyoeLPEI0VPmIYofknLbgNGGRdNGcuwioYireXLd0KpNgHQHvkxjmOB5wVnL3it5cl3Hbe7mt0r5gVetKbWWhFGVBpmE1zwpTDRHTTHVJH56nVeExZ2FTZeI+uqH1JFkq5c10QSD4pLB/DK2sKrRhJwlvRlfYq3mKI8J7EZ96oDTjbKc29U1pbtblm1xjimqCCvpvttkVAjPDBSlsTCDPKyEWDtIWczHmPVab0uG35sb4+jAvEUFxuOyrysVn18qpyTJcCCx0tA5IJgCMI+iDz5G3ggsoFvAT8sHyDwA4X0IxAFoB+CwFdI4L634CWL7mUdmxRDlKSZ5J9gFBZ1GcoqJEL7+6phQpJE+gg5FstFT6U/WbRTmY0yP24I3NtdZaw2JtW53g/WidxeQ601373puT3LZM5ZeA0d0yk0HbDRKMcXIaK7ScRIUGMgufABCT1M96+f/gD63iXSb6qRda3sw39/x2hu09A5cstoOmr6ufCOYX/0jtF3yo3CBb7YMcLSZeOAODzlePjh4nJ+MYF7xMT3vN5pHFdU7NjetRSjd5BioHyZNfSiqeHCekiobq1O7PqbD/6N+nLskbTte+JK+uK36gtpF5cRmhC6rOQlVeJRlnzLR+e7pcozpUrrS3U0CW5/yMJPW6VlmwpdX26aTN8tP5wVgoZMjtEJdn6iHq1HvZ161OneWO62Y8iJBdKxAsOr3skur1XBf626kFbZ+xxdWKz0PWX7aWjjbJPuuxDLpyg7Xps2DkMyEPvuy6oh/7hz0mHCdX6dCj5Ep5pOz/ARJl7rq+bKvL6wt6Pf&lt;/diagram&gt;&lt;/mxfile&gt;\" onclick=\"(function(svg){var src=window.event.target||window.event.srcElement;while (src!=null&amp;&amp;src.nodeName.toLowerCase()!='a'){src=src.parentNode;}if(src==null){if(svg.wnd!=null&amp;&amp;!svg.wnd.closed){svg.wnd.focus();}else{var r=function(evt){if(evt.data=='ready'&amp;&amp;evt.source==svg.wnd){svg.wnd.postMessage(decodeURIComponent(svg.getAttribute('content')),'*');window.removeEventListener('message',r);}};window.addEventListener('message',r);svg.wnd=window.open('https://viewer.diagrams.net/?client=1&amp;page=0&amp;edit=_blank');}}})(this);\" style=\"cursor:pointer;max-width:100%;max-height:238px;\"><defs/><g><rect x=\"47\" y=\"69\" width=\"200\" height=\"120\" fill=\"#f8cecc\" stroke=\"#b85450\" pointer-events=\"all\"/><g transform=\"translate(-0.5 -0.5)\"><switch><foreignObject style=\"overflow: visible; text-align: left;\" pointer-events=\"none\" width=\"100%\" height=\"100%\" requiredFeatures=\"http://www.w3.org/TR/SVG11/feature#Extensibility\"><div xmlns=\"http://www.w3.org/1999/xhtml\" style=\"display: flex; align-items: unsafe center; justify-content: unsafe center; width: 198px; height: 1px; padding-top: 129px; margin-left: 48px;\"><div style=\"box-sizing: border-box; font-size: 0; text-align: center; \"><div style=\"display: inline-block; font-size: 18px; font-family: Helvetica; color: #000000; line-height: 1.2; pointer-events: all; white-space: normal; word-wrap: normal; \"><font style=\"font-size: 24px\" face=\"Georgia\"><i>U</i>=<i>mgh</i></font></div></div></div></foreignObject><text x=\"147\" y=\"134\" fill=\"#000000\" font-family=\"Helvetica\" font-size=\"18px\" text-anchor=\"middle\">U=mgh</text></switch></g><path d=\"M 7 189 L 280.63 189\" fill=\"none\" stroke=\"#000000\" stroke-miterlimit=\"10\" pointer-events=\"stroke\"/><path d=\"M 285.88 189 L 278.88 192.5 L 280.63 189 L 278.88 185.5 Z\" fill=\"#000000\" stroke=\"#000000\" stroke-miterlimit=\"10\" pointer-events=\"all\"/><g transform=\"translate(-0.5 -0.5)\"><switch><foreignObject style=\"overflow: visible; text-align: left;\" pointer-events=\"none\" width=\"100%\" height=\"100%\" requiredFeatures=\"http://www.w3.org/TR/SVG11/feature#Extensibility\"><div xmlns=\"http://www.w3.org/1999/xhtml\" style=\"display: flex; align-items: unsafe center; justify-content: unsafe center; width: 1px; height: 1px; padding-top: 210px; margin-left: 278px;\"><div style=\"box-sizing: border-box; font-size: 0; text-align: center; \"><div style=\"display: inline-block; font-size: 11px; font-family: Helvetica; color: #000000; line-height: 1.2; pointer-events: all; background-color: #ffffff; white-space: nowrap; \"><font style=\"font-size: 12px\" face=\"Georgia\">基準からの高さ</font></div></div></div></foreignObject><text x=\"278\" y=\"213\" fill=\"#000000\" font-family=\"Helvetica\" font-size=\"11px\" text-anchor=\"middle\">基準からの高さ</text></switch></g><g transform=\"translate(-0.5 -0.5)\"><switch><foreignObject style=\"overflow: visible; text-align: left;\" pointer-events=\"none\" width=\"100%\" height=\"100%\" requiredFeatures=\"http://www.w3.org/TR/SVG11/feature#Extensibility\"><div xmlns=\"http://www.w3.org/1999/xhtml\" style=\"display: flex; align-items: unsafe center; justify-content: unsafe center; width: 1px; height: 1px; padding-top: 189px; margin-left: 298px;\"><div style=\"box-sizing: border-box; font-size: 0; text-align: center; \"><div style=\"display: inline-block; font-size: 18px; font-family: Helvetica; color: #000000; line-height: 1.2; pointer-events: all; white-space: nowrap; \">＋</div></div></div></foreignObject><text x=\"298\" y=\"194\" fill=\"#000000\" font-family=\"Helvetica\" font-size=\"18px\" text-anchor=\"middle\">＋</text></switch></g><path d=\"M 47 229 L 47 35.37\" fill=\"none\" stroke=\"#000000\" stroke-miterlimit=\"10\" pointer-events=\"stroke\"/><path d=\"M 47 30.12 L 50.5 37.12 L 47 35.37 L 43.5 37.12 Z\" fill=\"#000000\" stroke=\"#000000\" stroke-miterlimit=\"10\" pointer-events=\"all\"/><g transform=\"translate(-0.5 -0.5)\"><switch><foreignObject style=\"overflow: visible; text-align: left;\" pointer-events=\"none\" width=\"100%\" height=\"100%\" requiredFeatures=\"http://www.w3.org/TR/SVG11/feature#Extensibility\"><div xmlns=\"http://www.w3.org/1999/xhtml\" style=\"display: flex; align-items: unsafe center; justify-content: unsafe center; width: 1px; height: 1px; padding-top: 7px; margin-left: 48px;\"><div style=\"box-sizing: border-box; font-size: 0; text-align: center; \"><div style=\"display: inline-block; font-size: 11px; font-family: Helvetica; color: #000000; line-height: 1.2; pointer-events: all; white-space: nowrap; \"><font style=\"font-size: 12px\" face=\"Georgia\">外力:<i>F</i></font></div></div></div></foreignObject><text x=\"48\" y=\"10\" fill=\"#000000\" font-family=\"Helvetica\" font-size=\"11px\" text-anchor=\"middle\">外力:F</text></switch></g><path d=\"M 47 189 L 47 79.24\" fill=\"none\" stroke=\"#000000\" stroke-width=\"2\" stroke-miterlimit=\"10\" pointer-events=\"stroke\"/><path d=\"M 47 71.24 L 43 79.24 L 47 79.24 Z\" fill=\"#000000\" stroke=\"#000000\" stroke-width=\"2\" stroke-miterlimit=\"10\" pointer-events=\"all\"/><g transform=\"translate(-0.5 -0.5)rotate(-90 27.5 134.5)\"><switch><foreignObject style=\"overflow: visible; text-align: left;\" pointer-events=\"none\" width=\"100%\" height=\"100%\" requiredFeatures=\"http://www.w3.org/TR/SVG11/feature#Extensibility\"><div xmlns=\"http://www.w3.org/1999/xhtml\" style=\"display: flex; align-items: unsafe center; justify-content: unsafe center; width: 1px; height: 1px; padding-top: 135px; margin-left: 28px;\"><div style=\"box-sizing: border-box; font-size: 0; text-align: center; \"><div style=\"display: inline-block; font-size: 18px; font-family: Helvetica; color: #000000; line-height: 1.2; pointer-events: all; white-space: nowrap; \"><i style=\"font-family: &quot;georgia&quot;\"><font style=\"font-size: 16px\">F＝W=mg</font></i></div></div></div></foreignObject><text x=\"28\" y=\"140\" fill=\"#000000\" font-family=\"Helvetica\" font-size=\"18px\" text-anchor=\"middle\">F＝W=mg</text></switch></g><path d=\"M 47 189 L 236.76 189\" fill=\"none\" stroke=\"#000000\" stroke-width=\"2\" stroke-miterlimit=\"10\" pointer-events=\"stroke\"/><path d=\"M 244.76 189 L 236.76 185 L 236.76 189 Z\" fill=\"#000000\" stroke=\"#000000\" stroke-width=\"2\" stroke-miterlimit=\"10\" pointer-events=\"all\"/><g transform=\"translate(-0.5 -0.5)\"><switch><foreignObject style=\"overflow: visible; text-align: left;\" pointer-events=\"none\" width=\"100%\" height=\"100%\" requiredFeatures=\"http://www.w3.org/TR/SVG11/feature#Extensibility\"><div xmlns=\"http://www.w3.org/1999/xhtml\" style=\"display: flex; align-items: unsafe center; justify-content: unsafe center; width: 1px; height: 1px; padding-top: 200px; margin-left: 148px;\"><div style=\"box-sizing: border-box; font-size: 0; text-align: center; \"><div style=\"display: inline-block; font-size: 18px; font-family: Helvetica; color: #000000; line-height: 1.2; pointer-events: all; white-space: nowrap; \"><font face=\"georgia\"><span style=\"font-size: 16px\"><i>s=h</i></span></font></div></div></div></foreignObject><text x=\"148\" y=\"205\" fill=\"#000000\" font-family=\"Helvetica\" font-size=\"18px\" text-anchor=\"middle\">s=h</text></switch></g></g><switch><g requiredFeatures=\"http://www.w3.org/TR/SVG11/feature#Extensibility\"/><a transform=\"translate(0,-5)\" xlink:href=\"https://desk.draw.io/support/solutions/articles/16000042487\" target=\"_blank\"><text text-anchor=\"middle\" font-size=\"10px\" x=\"50%\" y=\"100%\">Viewer does not support full SVG 1.1</text></a></switch></svg>"
      ],
      "execution_count": null,
      "outputs": [
        {
          "output_type": "display_data",
          "data": {
            "text/plain": [
              "<IPython.core.display.SVG object>"
            ],
            "image/svg+xml": "<svg content=\"&lt;mxfile host=&quot;app.diagrams.net&quot; modified=&quot;2020-11-04T12:59:15.022Z&quot; agent=&quot;5.0 (Macintosh; Intel Mac OS X 10_15_7) AppleWebKit/537.36 (KHTML, like Gecko) Chrome/86.0.4240.111 Safari/537.36&quot; etag=&quot;SU7jqFwCp4gDlbC6exDD&quot; version=&quot;13.8.9-1&quot; type=&quot;google&quot;&gt;&lt;diagram id=&quot;yH6dnhzfLOWfL0e_viCE&quot; name=&quot;Page-1&quot;&gt;7Vhdb9owFP01fqQizgfJI6Gh09ZJ1app0t7cxAS3JmZOKNBfPzuxCQ4Eyme3aS+QHF9f2/eee+wY2IPJ4o6j6fgrSzAFsJssgH0LILSsHhR/ElkqpNvtVUjKSaKwGngkb1gbKnRGEpwbhgVjtCBTE4xZluG4MDDEOZubZiNGzVGnKMUbwGOM6Cb6gyTFuEIdy67xT5ikYzUyDFSHCdK2aiH5GCVsvgbZEbAHnLGieposBpjK4OmwVP2GLa2reXGcFe/pEL2xh+X95yRy2LeQPDyj5y8/O17l5RXRmVovgB4V/sIRE27FrIulioT3a8Z0Qycv89QXBtCZLupGGWEUmx3uMOMpQetGXqr+y6GIBr5rRKxiBVa+TMNJOt5qWmPV9DUMjZVAzmZZgmVcuqJ5PiYFfpxW054LGgtsXEyoeLPEI0VPmIYofknLbgNGGRdNGcuwioYireXLd0KpNgHQHvkxjmOB5wVnL3it5cl3Hbe7mt0r5gVetKbWWhFGVBpmE1zwpTDRHTTHVJH56nVeExZ2FTZeI+uqH1JFkq5c10QSD4pLB/DK2sKrRhJwlvRlfYq3mKI8J7EZ96oDTjbKc29U1pbtblm1xjimqCCvpvttkVAjPDBSlsTCDPKyEWDtIWczHmPVab0uG35sb4+jAvEUFxuOyrysVn18qpyTJcCCx0tA5IJgCMI+iDz5G3ggsoFvAT8sHyDwA4X0IxAFoB+CwFdI4L634CWL7mUdmxRDlKSZ5J9gFBZ1GcoqJEL7+6phQpJE+gg5FstFT6U/WbRTmY0yP24I3NtdZaw2JtW53g/WidxeQ601373puT3LZM5ZeA0d0yk0HbDRKMcXIaK7ScRIUGMgufABCT1M96+f/gD63iXSb6qRda3sw39/x2hu09A5cstoOmr6ufCOYX/0jtF3yo3CBb7YMcLSZeOAODzlePjh4nJ+MYF7xMT3vN5pHFdU7NjetRSjd5BioHyZNfSiqeHCekiobq1O7PqbD/6N+nLskbTte+JK+uK36gtpF5cRmhC6rOQlVeJRlnzLR+e7pcozpUrrS3U0CW5/yMJPW6VlmwpdX26aTN8tP5wVgoZMjtEJdn6iHq1HvZ161OneWO62Y8iJBdKxAsOr3skur1XBf626kFbZ+xxdWKz0PWX7aWjjbJPuuxDLpyg7Xps2DkMyEPvuy6oh/7hz0mHCdX6dCj5Ep5pOz/ARJl7rq+bKvL6wt6Pf&lt;/diagram&gt;&lt;/mxfile&gt;\" onclick=\"(function(svg){var src=window.event.target||window.event.srcElement;while (src!=null&amp;&amp;src.nodeName.toLowerCase()!='a'){src=src.parentNode;}if(src==null){if(svg.wnd!=null&amp;&amp;!svg.wnd.closed){svg.wnd.focus();}else{var r=function(evt){if(evt.data=='ready'&amp;&amp;evt.source==svg.wnd){svg.wnd.postMessage(decodeURIComponent(svg.getAttribute('content')),'*');window.removeEventListener('message',r);}};window.addEventListener('message',r);svg.wnd=window.open('https://viewer.diagrams.net/?client=1&amp;page=0&amp;edit=_blank');}}})(this);\" style=\"cursor:pointer;max-width:100%;max-height:238px;\" version=\"1.1\" viewBox=\"-0.5 -0.5 320 238\" width=\"320px\" xmlns=\"http://www.w3.org/2000/svg\" xmlns:xlink=\"http://www.w3.org/1999/xlink\"><defs/><g><rect fill=\"#f8cecc\" height=\"120\" pointer-events=\"all\" stroke=\"#b85450\" width=\"200\" x=\"47\" y=\"69\"/><g transform=\"translate(-0.5 -0.5)\"><switch><foreignObject height=\"100%\" pointer-events=\"none\" requiredFeatures=\"http://www.w3.org/TR/SVG11/feature#Extensibility\" style=\"overflow: visible; text-align: left;\" width=\"100%\"><div style=\"display: flex; align-items: unsafe center; justify-content: unsafe center; width: 198px; height: 1px; padding-top: 129px; margin-left: 48px;\" xmlns=\"http://www.w3.org/1999/xhtml\"><div style=\"box-sizing: border-box; font-size: 0; text-align: center; \"><div style=\"display: inline-block; font-size: 18px; font-family: Helvetica; color: #000000; line-height: 1.2; pointer-events: all; white-space: normal; word-wrap: normal; \"><font face=\"Georgia\" style=\"font-size: 24px\"><i>U</i>=<i>mgh</i></font></div></div></div></foreignObject><text fill=\"#000000\" font-family=\"Helvetica\" font-size=\"18px\" text-anchor=\"middle\" x=\"147\" y=\"134\">U=mgh</text></switch></g><path d=\"M 7 189 L 280.63 189\" fill=\"none\" pointer-events=\"stroke\" stroke=\"#000000\" stroke-miterlimit=\"10\"/><path d=\"M 285.88 189 L 278.88 192.5 L 280.63 189 L 278.88 185.5 Z\" fill=\"#000000\" pointer-events=\"all\" stroke=\"#000000\" stroke-miterlimit=\"10\"/><g transform=\"translate(-0.5 -0.5)\"><switch><foreignObject height=\"100%\" pointer-events=\"none\" requiredFeatures=\"http://www.w3.org/TR/SVG11/feature#Extensibility\" style=\"overflow: visible; text-align: left;\" width=\"100%\"><div style=\"display: flex; align-items: unsafe center; justify-content: unsafe center; width: 1px; height: 1px; padding-top: 210px; margin-left: 278px;\" xmlns=\"http://www.w3.org/1999/xhtml\"><div style=\"box-sizing: border-box; font-size: 0; text-align: center; \"><div style=\"display: inline-block; font-size: 11px; font-family: Helvetica; color: #000000; line-height: 1.2; pointer-events: all; background-color: #ffffff; white-space: nowrap; \"><font face=\"Georgia\" style=\"font-size: 12px\">基準からの高さ</font></div></div></div></foreignObject><text fill=\"#000000\" font-family=\"Helvetica\" font-size=\"11px\" text-anchor=\"middle\" x=\"278\" y=\"213\">基準からの高さ</text></switch></g><g transform=\"translate(-0.5 -0.5)\"><switch><foreignObject height=\"100%\" pointer-events=\"none\" requiredFeatures=\"http://www.w3.org/TR/SVG11/feature#Extensibility\" style=\"overflow: visible; text-align: left;\" width=\"100%\"><div style=\"display: flex; align-items: unsafe center; justify-content: unsafe center; width: 1px; height: 1px; padding-top: 189px; margin-left: 298px;\" xmlns=\"http://www.w3.org/1999/xhtml\"><div style=\"box-sizing: border-box; font-size: 0; text-align: center; \"><div style=\"display: inline-block; font-size: 18px; font-family: Helvetica; color: #000000; line-height: 1.2; pointer-events: all; white-space: nowrap; \">＋</div></div></div></foreignObject><text fill=\"#000000\" font-family=\"Helvetica\" font-size=\"18px\" text-anchor=\"middle\" x=\"298\" y=\"194\">＋</text></switch></g><path d=\"M 47 229 L 47 35.37\" fill=\"none\" pointer-events=\"stroke\" stroke=\"#000000\" stroke-miterlimit=\"10\"/><path d=\"M 47 30.12 L 50.5 37.12 L 47 35.37 L 43.5 37.12 Z\" fill=\"#000000\" pointer-events=\"all\" stroke=\"#000000\" stroke-miterlimit=\"10\"/><g transform=\"translate(-0.5 -0.5)\"><switch><foreignObject height=\"100%\" pointer-events=\"none\" requiredFeatures=\"http://www.w3.org/TR/SVG11/feature#Extensibility\" style=\"overflow: visible; text-align: left;\" width=\"100%\"><div style=\"display: flex; align-items: unsafe center; justify-content: unsafe center; width: 1px; height: 1px; padding-top: 7px; margin-left: 48px;\" xmlns=\"http://www.w3.org/1999/xhtml\"><div style=\"box-sizing: border-box; font-size: 0; text-align: center; \"><div style=\"display: inline-block; font-size: 11px; font-family: Helvetica; color: #000000; line-height: 1.2; pointer-events: all; white-space: nowrap; \"><font face=\"Georgia\" style=\"font-size: 12px\">外力:<i>F</i></font></div></div></div></foreignObject><text fill=\"#000000\" font-family=\"Helvetica\" font-size=\"11px\" text-anchor=\"middle\" x=\"48\" y=\"10\">外力:F</text></switch></g><path d=\"M 47 189 L 47 79.24\" fill=\"none\" pointer-events=\"stroke\" stroke=\"#000000\" stroke-miterlimit=\"10\" stroke-width=\"2\"/><path d=\"M 47 71.24 L 43 79.24 L 47 79.24 Z\" fill=\"#000000\" pointer-events=\"all\" stroke=\"#000000\" stroke-miterlimit=\"10\" stroke-width=\"2\"/><g transform=\"translate(-0.5 -0.5)rotate(-90 27.5 134.5)\"><switch><foreignObject height=\"100%\" pointer-events=\"none\" requiredFeatures=\"http://www.w3.org/TR/SVG11/feature#Extensibility\" style=\"overflow: visible; text-align: left;\" width=\"100%\"><div style=\"display: flex; align-items: unsafe center; justify-content: unsafe center; width: 1px; height: 1px; padding-top: 135px; margin-left: 28px;\" xmlns=\"http://www.w3.org/1999/xhtml\"><div style=\"box-sizing: border-box; font-size: 0; text-align: center; \"><div style=\"display: inline-block; font-size: 18px; font-family: Helvetica; color: #000000; line-height: 1.2; pointer-events: all; white-space: nowrap; \"><i style=\"font-family: &quot;georgia&quot;\"><font style=\"font-size: 16px\">F＝W=mg</font></i></div></div></div></foreignObject><text fill=\"#000000\" font-family=\"Helvetica\" font-size=\"18px\" text-anchor=\"middle\" x=\"28\" y=\"140\">F＝W=mg</text></switch></g><path d=\"M 47 189 L 236.76 189\" fill=\"none\" pointer-events=\"stroke\" stroke=\"#000000\" stroke-miterlimit=\"10\" stroke-width=\"2\"/><path d=\"M 244.76 189 L 236.76 185 L 236.76 189 Z\" fill=\"#000000\" pointer-events=\"all\" stroke=\"#000000\" stroke-miterlimit=\"10\" stroke-width=\"2\"/><g transform=\"translate(-0.5 -0.5)\"><switch><foreignObject height=\"100%\" pointer-events=\"none\" requiredFeatures=\"http://www.w3.org/TR/SVG11/feature#Extensibility\" style=\"overflow: visible; text-align: left;\" width=\"100%\"><div style=\"display: flex; align-items: unsafe center; justify-content: unsafe center; width: 1px; height: 1px; padding-top: 200px; margin-left: 148px;\" xmlns=\"http://www.w3.org/1999/xhtml\"><div style=\"box-sizing: border-box; font-size: 0; text-align: center; \"><div style=\"display: inline-block; font-size: 18px; font-family: Helvetica; color: #000000; line-height: 1.2; pointer-events: all; white-space: nowrap; \"><font face=\"georgia\"><span style=\"font-size: 16px\"><i>s=h</i></span></font></div></div></div></foreignObject><text fill=\"#000000\" font-family=\"Helvetica\" font-size=\"18px\" text-anchor=\"middle\" x=\"148\" y=\"205\">s=h</text></switch></g></g><switch><g requiredFeatures=\"http://www.w3.org/TR/SVG11/feature#Extensibility\"/><a target=\"_blank\" transform=\"translate(0,-5)\" xlink:href=\"https://desk.draw.io/support/solutions/articles/16000042487\"><text font-size=\"10px\" text-anchor=\"middle\" x=\"50%\" y=\"100%\">Viewer does not support full SVG 1.1</text></a></switch></svg>"
          },
          "metadata": {
            "tags": []
          }
        }
      ]
    }
  ]
}