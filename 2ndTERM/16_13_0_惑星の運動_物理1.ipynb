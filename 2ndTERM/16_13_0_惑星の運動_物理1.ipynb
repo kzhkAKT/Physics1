{
  "nbformat": 4,
  "nbformat_minor": 0,
  "metadata": {
    "colab": {
      "name": "16_13_0_惑星の運動_物理1",
      "provenance": [],
      "toc_visible": true,
      "authorship_tag": "ABX9TyNt113y31oZl3onawHJ2auL",
      "include_colab_link": true
    },
    "kernelspec": {
      "name": "python3",
      "display_name": "Python 3"
    }
  },
  "cells": [
    {
      "cell_type": "markdown",
      "metadata": {
        "id": "view-in-github",
        "colab_type": "text"
      },
      "source": [
        "<a href=\"https://colab.research.google.com/github/kzhkAKT/Physics1/blob/draft/2ndTERM/16_13_0_%E6%83%91%E6%98%9F%E3%81%AE%E9%81%8B%E5%8B%95_%E7%89%A9%E7%90%861.ipynb\" target=\"_parent\"><img src=\"https://colab.research.google.com/assets/colab-badge.svg\" alt=\"Open In Colab\"/></a>"
      ]
    },
    {
      "cell_type": "markdown",
      "metadata": {
        "id": "PZo0KOeN0Jk3"
      },
      "source": [
        "# 平面空間での運動"
      ]
    },
    {
      "cell_type": "code",
      "metadata": {
        "colab": {
          "base_uri": "https://localhost:8080/",
          "height": 336
        },
        "cellView": "form",
        "id": "GYsA3GBWHlYX",
        "outputId": "483af239-d0a4-4091-e41e-1111fe40b9c4"
      },
      "source": [
        "#@title 太陽系外から見た太陽系惑星の運動\n",
        "%%html\n",
        "<iframe width=\"560\" height=\"315\" src=\"https://www.youtube-nocookie.com/embed/fWUbmdaDf-k\" frameborder=\"0\" allow=\"accelerometer; autoplay; clipboard-write; encrypted-media; gyroscope; picture-in-picture\" allowfullscreen></iframe>"
      ],
      "execution_count": null,
      "outputs": [
        {
          "output_type": "display_data",
          "data": {
            "text/html": [
              "<iframe width=\"560\" height=\"315\" src=\"https://www.youtube-nocookie.com/embed/fWUbmdaDf-k\" frameborder=\"0\" allow=\"accelerometer; autoplay; clipboard-write; encrypted-media; gyroscope; picture-in-picture\" allowfullscreen></iframe>"
            ],
            "text/plain": [
              "<IPython.core.display.HTML object>"
            ]
          },
          "metadata": {
            "tags": []
          }
        }
      ]
    },
    {
      "cell_type": "markdown",
      "metadata": {
        "id": "2UjtZbu8HEoK"
      },
      "source": [
        "## 惑星の運動\n",
        "\n",
        "Kepler の法則 // Tycho Brahe の膨大な観測資料から法則を見出した"
      ]
    },
    {
      "cell_type": "markdown",
      "metadata": {
        "id": "KjAvEk3KHr_2"
      },
      "source": [
        "![https://en.wikipedia.org/wiki/Johannes_Kepler](https://upload.wikimedia.org/wikipedia/commons/thumb/d/d4/Johannes_Kepler_1610.jpg/436px-Johannes_Kepler_1610.jpg)\n",
        "->-\n",
        "![https://en.wikipedia.org/wiki/Tycho_Brahe](https://upload.wikimedia.org/wikipedia/commons/thumb/2/2b/Tycho_Brahe.JPG/405px-Tycho_Brahe.JPG)"
      ]
    },
    {
      "cell_type": "markdown",
      "metadata": {
        "id": "wv_lTnclLc1X"
      },
      "source": [
        "<iframe width=\"560\" height=\"315\" src=\"https://www.youtube-nocookie.com/embed/fWUbmdaDf-k\" frameborder=\"0\" allow=\"accelerometer; autoplay; clipboard-write; encrypted-media; gyroscope; picture-in-picture\" allowfullscreen></iframe>"
      ]
    },
    {
      "cell_type": "code",
      "metadata": {
        "colab": {
          "base_uri": "https://localhost:8080/",
          "height": 271
        },
        "cellView": "form",
        "id": "_beIcqL6Hj0u",
        "outputId": "19c8d318-0bd7-4c22-afd8-92afa1c61c92"
      },
      "source": [
        "#@title 第一法則\n",
        "%%svg\n",
        "https://upload.wikimedia.org/wikipedia/commons/1/1a/Kepler-first-law.svg"
      ],
      "execution_count": null,
      "outputs": [
        {
          "output_type": "display_data",
          "data": {
            "text/plain": [
              "<IPython.core.display.SVG object>"
            ],
            "image/svg+xml": "<svg height=\"250\" viewBox=\"-175 -125 350 250\" width=\"350\" xmlns=\"http://www.w3.org/2000/svg\">\n<title>Kepler's first law</title>\n<ellipse fill=\"none\" rx=\"170\" ry=\"120\" stroke=\"blue\" stroke-width=\"3\"/>\n<circle cx=\"120\" r=\"3\"/><circle cx=\"-120\" r=\"7\"/><circle cx=\"-100\" cy=\"-97\" r=\"5\"/>\n<text font-size=\"20\"><tspan x=\"-105\" y=\"7\">Sun</tspan><tspan x=\"-95\" y=\"-85\">planet</tspan></text>\n</svg>"
          },
          "metadata": {
            "tags": []
          }
        }
      ]
    },
    {
      "cell_type": "markdown",
      "metadata": {
        "id": "gAKVDNK-MsZD"
      },
      "source": [
        "### 第二法則"
      ]
    },
    {
      "cell_type": "markdown",
      "metadata": {
        "id": "WcJjDg75MoGf"
      },
      "source": [
        "![](https://upload.wikimedia.org/wikipedia/commons/6/69/Kepler-second-law.gif)"
      ]
    },
    {
      "cell_type": "markdown",
      "metadata": {
        "id": "1ZnN1UjlMyns"
      },
      "source": [
        "### 第三法則"
      ]
    },
    {
      "cell_type": "markdown",
      "metadata": {
        "id": "R2HCRqDQ8Z74"
      },
      "source": [
        "板書を利用した演習として紹介します。"
      ]
    },
    {
      "cell_type": "markdown",
      "metadata": {
        "id": "m_hqfEbrA1bZ"
      },
      "source": [
        "## 人工衛星でも確認可能\n",
        "[軌道運動の基本,JAXA](https://spaceinfo.jaxa.jp/ja/orbital_motion.html)"
      ]
    },
    {
      "cell_type": "markdown",
      "metadata": {
        "id": "79l1ulrD8h8q"
      },
      "source": [
        "> Q. 下記の二つの図が、ケプラーの第何法則に相当するか考えてください。"
      ]
    },
    {
      "cell_type": "markdown",
      "metadata": {
        "id": "o_-9oP18NOGo"
      },
      "source": [
        "![](https://spaceinfo.jaxa.jp/files/20294.jpg)"
      ]
    },
    {
      "cell_type": "markdown",
      "metadata": {
        "id": "tGHtdK7mNgy6"
      },
      "source": [
        "![](https://spaceinfo.jaxa.jp/files/20297.jpg)"
      ]
    }
  ]
}