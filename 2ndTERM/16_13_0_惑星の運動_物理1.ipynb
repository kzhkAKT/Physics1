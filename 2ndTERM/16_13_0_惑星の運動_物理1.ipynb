{
  "nbformat": 4,
  "nbformat_minor": 0,
  "metadata": {
    "colab": {
      "name": "16_13_0_惑星の運動_物理1",
      "provenance": [],
      "toc_visible": true,
      "authorship_tag": "ABX9TyOWZzu6UcyHcVh8plXi8+8w",
      "include_colab_link": true
    },
    "kernelspec": {
      "name": "python3",
      "display_name": "Python 3"
    }
  },
  "cells": [
    {
      "cell_type": "markdown",
      "metadata": {
        "id": "view-in-github",
        "colab_type": "text"
      },
      "source": [
        "<a href=\"https://colab.research.google.com/github/kzhkAKT/Physics1/blob/draft/2ndTERM/16_13_0_%E6%83%91%E6%98%9F%E3%81%AE%E9%81%8B%E5%8B%95_%E7%89%A9%E7%90%861.ipynb\" target=\"_parent\"><img src=\"https://colab.research.google.com/assets/colab-badge.svg\" alt=\"Open In Colab\"/></a>"
      ]
    },
    {
      "cell_type": "markdown",
      "metadata": {
        "id": "PZo0KOeN0Jk3"
      },
      "source": [
        "# 平面空間での運動"
      ]
    },
    {
      "cell_type": "code",
      "metadata": {
        "colab": {
          "base_uri": "https://localhost:8080/",
          "height": 336
        },
        "cellView": "form",
        "id": "GYsA3GBWHlYX",
        "outputId": "483af239-d0a4-4091-e41e-1111fe40b9c4"
      },
      "source": [
        "#@title 太陽系外から見た太陽系惑星の運動\n",
        "%%html\n",
        "<iframe width=\"560\" height=\"315\" src=\"https://www.youtube-nocookie.com/embed/fWUbmdaDf-k\" frameborder=\"0\" allow=\"accelerometer; autoplay; clipboard-write; encrypted-media; gyroscope; picture-in-picture\" allowfullscreen></iframe>"
      ],
      "execution_count": null,
      "outputs": [
        {
          "output_type": "display_data",
          "data": {
            "text/html": [
              "<iframe width=\"560\" height=\"315\" src=\"https://www.youtube-nocookie.com/embed/fWUbmdaDf-k\" frameborder=\"0\" allow=\"accelerometer; autoplay; clipboard-write; encrypted-media; gyroscope; picture-in-picture\" allowfullscreen></iframe>"
            ],
            "text/plain": [
              "<IPython.core.display.HTML object>"
            ]
          },
          "metadata": {
            "tags": []
          }
        }
      ]
    },
    {
      "cell_type": "markdown",
      "metadata": {
        "id": "2UjtZbu8HEoK"
      },
      "source": [
        "## 惑星の運動\n",
        "\n",
        "Kepler の法則 // Tycho Brahe の膨大な観測資料から法則を見出した"
      ]
    },
    {
      "cell_type": "markdown",
      "metadata": {
        "id": "KjAvEk3KHr_2"
      },
      "source": [
        "![https://en.wikipedia.org/wiki/Johannes_Kepler](https://upload.wikimedia.org/wikipedia/commons/thumb/d/d4/Johannes_Kepler_1610.jpg/436px-Johannes_Kepler_1610.jpg)\n",
        "->-\n",
        "![https://en.wikipedia.org/wiki/Tycho_Brahe](https://upload.wikimedia.org/wikipedia/commons/thumb/2/2b/Tycho_Brahe.JPG/405px-Tycho_Brahe.JPG)"
      ]
    },
    {
      "cell_type": "markdown",
      "metadata": {
        "id": "wv_lTnclLc1X"
      },
      "source": [
        "<iframe width=\"560\" height=\"315\" src=\"https://www.youtube-nocookie.com/embed/fWUbmdaDf-k\" frameborder=\"0\" allow=\"accelerometer; autoplay; clipboard-write; encrypted-media; gyroscope; picture-in-picture\" allowfullscreen></iframe>"
      ]
    },
    {
      "cell_type": "code",
      "metadata": {
        "colab": {
          "base_uri": "https://localhost:8080/",
          "height": 271
        },
        "cellView": "form",
        "id": "_beIcqL6Hj0u",
        "outputId": "19c8d318-0bd7-4c22-afd8-92afa1c61c92"
      },
      "source": [
        "#@title 第一法則\n",
        "%%svg\n",
        "https://upload.wikimedia.org/wikipedia/commons/1/1a/Kepler-first-law.svg"
      ],
      "execution_count": null,
      "outputs": [
        {
          "output_type": "display_data",
          "data": {
            "text/plain": [
              "<IPython.core.display.SVG object>"
            ],
            "image/svg+xml": "<svg height=\"250\" viewBox=\"-175 -125 350 250\" width=\"350\" xmlns=\"http://www.w3.org/2000/svg\">\n<title>Kepler's first law</title>\n<ellipse fill=\"none\" rx=\"170\" ry=\"120\" stroke=\"blue\" stroke-width=\"3\"/>\n<circle cx=\"120\" r=\"3\"/><circle cx=\"-120\" r=\"7\"/><circle cx=\"-100\" cy=\"-97\" r=\"5\"/>\n<text font-size=\"20\"><tspan x=\"-105\" y=\"7\">Sun</tspan><tspan x=\"-95\" y=\"-85\">planet</tspan></text>\n</svg>"
          },
          "metadata": {
            "tags": []
          }
        }
      ]
    },
    {
      "cell_type": "markdown",
      "metadata": {
        "id": "gAKVDNK-MsZD"
      },
      "source": [
        "### 第二法則"
      ]
    },
    {
      "cell_type": "markdown",
      "metadata": {
        "id": "WcJjDg75MoGf"
      },
      "source": [
        "![](https://upload.wikimedia.org/wikipedia/commons/6/69/Kepler-second-law.gif)"
      ]
    },
    {
      "cell_type": "markdown",
      "metadata": {
        "id": "1ZnN1UjlMyns"
      },
      "source": [
        "### 第三法則"
      ]
    },
    {
      "cell_type": "markdown",
      "metadata": {
        "id": "fPSZgtBnyK_k"
      },
      "source": [
        "\\begin{align}\n",
        "\\dfrac{R^3}{T^2} = \\dfrac{GM}{4\\pi^2}\n",
        "\\end{align}"
      ]
    },
    {
      "cell_type": "markdown",
      "metadata": {
        "id": "R2HCRqDQ8Z74"
      },
      "source": [
        "---\n",
        "演習として紹介します。教科書では $R\\to r$ になっています\n"
      ]
    },
    {
      "cell_type": "markdown",
      "metadata": {
        "id": "DuCsmRNVxUHN"
      },
      "source": [
        "#### Data used by Kepler (1618)\n",
        "| Planet  | Mean distance <br />to sun \\(AU\\) | Period <br />\\(days\\) | $\\dfrac{R^3}{T^2}$ |\n",
        "|---------|-----------------------------------|-----------------------|----------------------|\n",
        "| Mercury | 0\\.389                            | 87\\.77                | 7\\.64                |\n",
        "| Venus   | 0\\.724                            | 224\\.70               | 7\\.52                |\n",
        "| Earth   | 1                                 | 365\\.25               | 7\\.50                |\n",
        "| Mars    | 1\\.524                            | 686\\.95               | 7\\.50                |\n",
        "| Jupiter | 5\\.2                              | 4332\\.62              | 7\\.49                |\n",
        "| Saturn  | 9\\.510                            | 10759\\.2              | 7\\.43                |\n"
      ]
    },
    {
      "cell_type": "markdown",
      "metadata": {
        "id": "t_37Qj_nx2F1"
      },
      "source": [
        "#### Modern data (Wolfram Alpha Knowledgebase 2018)\n",
        "| Planet  | Mean distance <br />to sun \\(AU\\) | Period <br />\\(days\\) | $\\dfrac{R^3}{T^2}$ |\n",
        "|---------|-----------------------------------|-----------------------|----------------------|\n",
        "| Mercury | 0\\.38710                | 87\\.9693        | 7\\.496               |\n",
        "| Venus   | 0\\.72333                | 224\\.7008       | 7\\.496               |\n",
        "| Earth   | 1                       | 365\\.2564       | 7\\.496               |\n",
        "| Mars    | 1\\.52366                | 686\\.9796       | 7\\.495               |\n",
        "| Jupiter | 5\\.20336                | 4332\\.8201      | 7\\.504               |\n",
        "| Saturn  | 9\\.53707                | 10775\\.599      | 7\\.498               |\n",
        "| Uranus  | 19\\.1913                | 30687\\.153      | 7\\.506               |\n",
        "| Neptune | 30\\.0690                | 60190\\.03       | 7\\.504               |\n"
      ]
    },
    {
      "cell_type": "markdown",
      "metadata": {
        "id": "CN59Xa9v2QUt"
      },
      "source": [
        "## 楕円"
      ]
    },
    {
      "cell_type": "code",
      "source": [
        "%%html\n",
        "#@title 動画:楕円の書き方\n",
        "<iframe width=\"560\" height=\"315\" src=\"https://www.youtube-nocookie.com/embed/V4xn7tmvPvc?start=58\" title=\"YouTube video player\" frameborder=\"0\" allow=\"accelerometer; autoplay; clipboard-write; encrypted-media; gyroscope; picture-in-picture\" allowfullscreen></iframe>"
      ],
      "metadata": {
        "cellView": "form",
        "colab": {
          "base_uri": "https://localhost:8080/",
          "height": 336
        },
        "id": "dIzfXDvpZf_r",
        "outputId": "53dd7df3-711c-4667-d3d2-fe9346b7da12"
      },
      "execution_count": 2,
      "outputs": [
        {
          "output_type": "display_data",
          "data": {
            "text/html": [
              "#@title 動画:楕円の書き方\n",
              "<iframe width=\"560\" height=\"315\" src=\"https://www.youtube-nocookie.com/embed/V4xn7tmvPvc?start=58\" title=\"YouTube video player\" frameborder=\"0\" allow=\"accelerometer; autoplay; clipboard-write; encrypted-media; gyroscope; picture-in-picture\" allowfullscreen></iframe>"
            ],
            "text/plain": [
              "<IPython.core.display.HTML object>"
            ]
          },
          "metadata": {}
        }
      ]
    },
    {
      "cell_type": "code",
      "metadata": {
        "cellView": "form",
        "id": "xDJpyiddvk2n",
        "outputId": "5f7ac78e-d1bb-4343-9c37-5ee70f9ae568",
        "colab": {
          "base_uri": "https://localhost:8080/",
          "height": 277
        }
      },
      "source": [
        "#@title 楕円の書き方\n",
        "%%svg\n",
        "https://upload.wikimedia.org/wikipedia/commons/a/ae/Ellipse-def-e.svg"
      ],
      "execution_count": null,
      "outputs": [
        {
          "output_type": "display_data",
          "data": {
            "text/plain": [
              "<IPython.core.display.SVG object>"
            ],
            "image/svg+xml": "<svg height=\"255.53355\" id=\"svg3321\" inkscape:version=\"0.48.5 r10040\" sodipodi:docname=\"kegs.svg\" version=\"1.1\" viewBox=\"0 0 265.12607 204.42685\" width=\"331.40759\" xmlns=\"http://www.w3.org/2000/svg\" xmlns:cc=\"http://creativecommons.org/ns#\" xmlns:dc=\"http://purl.org/dc/elements/1.1/\" xmlns:inkscape=\"http://www.inkscape.org/namespaces/inkscape\" xmlns:rdf=\"http://www.w3.org/1999/02/22-rdf-syntax-ns#\" xmlns:sodipodi=\"http://sodipodi.sourceforge.net/DTD/sodipodi-0.dtd\" xmlns:svg=\"http://www.w3.org/2000/svg\" xmlns:xlink=\"http://www.w3.org/1999/xlink\">\n  <metadata id=\"metadata3649\">\n    <rdf:RDF>\n      <cc:Work rdf:about=\"\">\n        <dc:format>image/svg+xml</dc:format>\n        <dc:type rdf:resource=\"http://purl.org/dc/dcmitype/StillImage\"/>\n        <dc:title/>\n      </cc:Work>\n    </rdf:RDF>\n  </metadata>\n  <sodipodi:namedview bordercolor=\"#666666\" borderopacity=\"1\" fit-margin-bottom=\"2\" fit-margin-left=\"2\" fit-margin-right=\"2\" fit-margin-top=\"2\" gridtolerance=\"10\" guidetolerance=\"10\" id=\"namedview3647\" inkscape:current-layer=\"svg3321\" inkscape:cx=\"165.7038\" inkscape:cy=\"127.76678\" inkscape:pageopacity=\"0\" inkscape:pageshadow=\"2\" inkscape:window-height=\"610\" inkscape:window-maximized=\"0\" inkscape:window-width=\"1279\" inkscape:window-x=\"0\" inkscape:window-y=\"0\" inkscape:zoom=\"1.5849191\" objecttolerance=\"10\" pagecolor=\"#ffffff\" showgrid=\"false\" units=\"mm\"/>\n  <defs id=\"defs3323\">\n    <g id=\"g3325\">\n      <symbol id=\"glyph0-0\" overflow=\"visible\" style=\"overflow:visible\">\n        <path d=\"\" id=\"path3328\" inkscape:connector-curvature=\"0\" style=\"stroke:none\"/>\n      </symbol>\n      <symbol id=\"glyph0-1\" overflow=\"visible\" style=\"overflow:visible\">\n        <path d=\"m 3.53125,-3.796875 2.015625,0 C 7.203125,-3.796875 9,-5.15625 9,-6.53125 9,-7.453125 8.0625,-8.46875 6.546875,-8.46875 l -3.6875,0 c -0.234375,0 -0.5,0.15625 -0.5,0.390625 0,0.125 0.265625,0.265625 0.453125,0.265625 0.71875,0 0.5625,-0.046875 0.5625,0.078125 0,0.03125 0,0.078125 -0.046875,0.265625 l -1.625,6.421875 C 1.609375,-0.625 1.75,-0.640625 0.90625,-0.640625 c -0.21875,0 -0.515625,0.15625 -0.515625,0.359375 C 0.390625,-0.140625 0.671875,0 0.734375,0 0.96875,0 1.203125,-0.03125 1.4375,-0.03125 l 1.390625,0 C 3.0625,-0.03125 3.3125,0 3.53125,0 c 0.109375,0 0.390625,-0.140625 0.390625,-0.375 0,-0.109375 -0.265625,-0.265625 -0.4375,-0.265625 -0.71875,0 -0.578125,0.0625 -0.578125,-0.046875 0,-0.0625 0.015625,-0.15625 0.015625,-0.203125 L 3.65625,-3.796875 z M 4.546875,-7.5 c 0.109375,-0.4375 0,-0.3125 0.46875,-0.3125 l 1.1875,0 c 0.890625,0 1.46875,0.140625 1.46875,1.03125 0,0.3125 -0.109375,1.21875 -0.65625,1.765625 -0.203125,0.21875 -0.65625,0.625 -1.75,0.625 l -1.484375,0 z m 0,0\" id=\"path3331\" inkscape:connector-curvature=\"0\" style=\"stroke:none\"/>\n      </symbol>\n      <symbol id=\"glyph0-2\" overflow=\"visible\" style=\"overflow:visible\">\n        <path d=\"m 9.078125,-8.453125 c 0,-0.109375 -0.234375,-0.265625 -0.25,-0.265625 -0.03125,0 -0.203125,0.046875 -0.296875,0.171875 l -0.6875,0.84375 C 7.515625,-8.265625 6.75,-8.71875 5.859375,-8.71875 3.28125,-8.71875 0.4375,-5.9375 0.4375,-3.125 0.4375,-1.140625 2,0.25 3.734375,0.25 c 0.96875,0 1.90625,-0.4375 2.59375,-1.03125 1.046875,-0.875 1.40625,-2.140625 1.40625,-2.234375 0,-0.109375 -0.25,-0.265625 -0.28125,-0.265625 -0.109375,0 -0.25,0.125 -0.328125,0.296875 -0.53125,1.84375 -1.984375,2.59375 -3.1875,2.59375 -1.265625,0 -2.203125,-0.65625 -2.203125,-2.359375 0,-0.375 0.078125,-2.359375 1.421875,-3.921875 C 3.8125,-7.4375 4.828125,-8.0625 5.96875,-8.0625 c 1.3125,0 1.734375,0.9375 1.734375,2.15625 0,0.3125 -0.046875,0.578125 -0.046875,0.625 0,0.109375 0.296875,0.25 0.328125,0.25 0.125,0 0.296875,-0.15625 0.34375,-0.375 z m 0,0\" id=\"path3334\" inkscape:connector-curvature=\"0\" style=\"stroke:none\"/>\n      </symbol>\n      <symbol id=\"glyph0-3\" overflow=\"visible\" style=\"overflow:visible\">\n        <path d=\"m 4.671875,-4.796875 c -0.21875,0 -0.453125,0.046875 -0.625,0.1875 -0.0625,0.0625 -0.25,0.359375 -0.25,0.546875 0,0.234375 0.34375,0.53125 0.578125,0.53125 0.28125,0 0.765625,-0.390625 0.765625,-0.875 0,-0.5625 -0.703125,-1.15625 -1.53125,-1.15625 -1.5625,0 -3.296875,1.859375 -3.296875,3.546875 0,1.046875 0.8125,2.140625 2.03125,2.140625 1.625,0 2.8125,-1.421875 2.8125,-1.578125 0,-0.0625 -0.234375,-0.28125 -0.28125,-0.28125 -0.03125,0 -0.171875,0.0625 -0.265625,0.171875 -0.765625,1.015625 -1.78125,1.140625 -2.25,1.140625 -0.8125,0 -0.921875,-0.5625 -0.921875,-1.15625 0,-0.421875 0.15625,-1.46875 0.578125,-2.28125 0.3125,-0.5625 0.859375,-1.171875 1.609375,-1.171875 0.15625,0 0.640625,-0.125 0.8125,0.234375 z m 0,0\" id=\"path3337\" inkscape:connector-curvature=\"0\" style=\"stroke:none\"/>\n      </symbol>\n      <symbol id=\"glyph0-4\" overflow=\"visible\" style=\"overflow:visible\">\n        <path d=\"m 3.546875,-3.890625 1.15625,0 c 0.90625,0 0.8125,0.046875 0.8125,0.40625 0,0.15625 -0.03125,0.3125 -0.09375,0.578125 0.03125,-0.0625 -0.03125,0.109375 -0.03125,0.140625 C 5.390625,-2.6875 5.609375,-2.5 5.6875,-2.5 5.78125,-2.5 5.953125,-2.6875 6,-2.875 L 6.6875,-5.671875 C 6.6875,-5.71875 6.5,-5.9375 6.421875,-5.9375 6.3125,-5.9375 6.125,-5.75 6.078125,-5.546875 c -0.25,0.890625 -0.3125,1 -1.359375,1 l -0.890625,0 0.734375,-2.9375 c 0.109375,-0.421875 -0.015625,-0.3125 0.46875,-0.3125 l 1.609375,0 c 1.484375,0 1.53125,0.296875 1.53125,1.15625 0,0.0625 0,0.3125 -0.03125,0.625 C 8.125,-5.96875 8.109375,-5.796875 8.109375,-5.75 c 0,0.09375 0.21875,0.28125 0.296875,0.28125 0.078125,0 0.28125,-0.203125 0.3125,-0.40625 l 0.25,-2.09375 c 0,-0.046875 0.015625,-0.15625 0.015625,-0.1875 0,-0.125 -0.265625,-0.28125 -0.46875,-0.28125 l -5.671875,0 c -0.21875,0 -0.515625,0.15625 -0.515625,0.375 0,0.125 0.25,0.265625 0.453125,0.265625 0.75,0 0.578125,-0.0625 0.578125,0.078125 0,0.0625 -0.015625,0.09375 -0.046875,0.21875 l -1.609375,6.453125 c -0.109375,0.421875 0.03125,0.40625 -0.8125,0.40625 -0.21875,0 -0.515625,0.15625 -0.515625,0.359375 C 0.375,-0.140625 0.65625,0 0.734375,0 0.953125,0 1.1875,-0.03125 1.421875,-0.03125 l 1.546875,0 C 3.234375,-0.03125 3.53125,0 3.796875,0 c 0.09375,0 0.40625,-0.140625 0.40625,-0.359375 0,-0.125 -0.234375,-0.28125 -0.5,-0.28125 -0.9375,0 -0.8125,0.0625 -0.8125,-0.109375 0,-0.0625 0.03125,-0.15625 0.046875,-0.234375 l 0.734375,-2.90625 z m 0,0\" id=\"path3340\" inkscape:connector-curvature=\"0\" style=\"stroke:none\"/>\n      </symbol>\n      <symbol id=\"glyph0-5\" overflow=\"visible\" style=\"overflow:visible\">\n        <path d=\"m 7.5,-6.875 c 0.40625,-0.640625 0.671875,-0.890625 1.28125,-0.9375 0.125,-0.015625 0.375,-0.15625 0.375,-0.375 0,-0.046875 -0.171875,-0.28125 -0.28125,-0.28125 -0.21875,0 -0.734375,0.03125 -0.953125,0.03125 -0.34375,0 -0.703125,-0.03125 -1.03125,-0.03125 -0.09375,0 -0.390625,0.15625 -0.390625,0.390625 0,0.109375 0.28125,0.265625 0.328125,0.265625 0.4375,0.03125 0.3125,0.109375 0.3125,0.25 0,0.171875 -0.109375,0.34375 -0.125,0.359375 L 3.265625,-1.25 3.53125,-1.140625 2.703125,-7.59375 c 0,-0.34375 0.46875,-0.21875 0.59375,-0.21875 0.1875,0 0.4375,-0.140625 0.4375,-0.375 0,-0.125 -0.28125,-0.28125 -0.3125,-0.28125 -0.203125,0 -0.453125,0.03125 -0.65625,0.03125 l -0.65625,0 c -0.875,0 -1.234375,-0.03125 -1.25,-0.03125 -0.078125,0 -0.375,0.15625 -0.375,0.375 0,0.140625 0.25,0.28125 0.4375,0.28125 0.609375,0 0.484375,-0.046875 0.515625,0.265625 l 0.953125,7.375 c 0.03125,0.25 0.203125,0.421875 0.375,0.421875 0.140625,0 0.3125,-0.078125 0.421875,-0.265625 z m 0,0\" id=\"path3343\" inkscape:connector-curvature=\"0\" style=\"stroke:none\"/>\n      </symbol>\n      <symbol id=\"glyph0-6\" overflow=\"visible\" style=\"overflow:visible\">\n        <path d=\"M 3.4375,-1.578125 C 3.375,-1.375 3.421875,-1.453125 3.25,-1.21875 c -0.265625,0.328125 -0.671875,0.796875 -1.234375,0.796875 -0.484375,0 -0.609375,-0.28125 -0.609375,-0.984375 0,-0.65625 0.375,-2 0.609375,-2.5 0.40625,-0.84375 0.8125,-1.125 1.265625,-1.125 0.796875,0 0.78125,0.828125 0.78125,0.9375 0,0 0.015625,0.046875 -0.0625,0.1875 z M 4.515625,-4.625 c -0.125,-0.3125 -0.609375,-0.9375 -1.234375,-0.9375 -1.34375,0 -2.96875,1.890625 -2.96875,3.65625 0,1.1875 0.859375,2.03125 1.671875,2.03125 0.65625,0 1.328125,-0.5625 1.453125,-0.703125 0.046875,0.34375 0.78125,0.703125 1.140625,0.703125 0.359375,0 0.75,-0.25 0.96875,-0.703125 0.234375,-0.5 0.40625,-1.234375 0.40625,-1.28125 0,-0.046875 -0.203125,-0.25 -0.28125,-0.25 -0.109375,0 -0.28125,0.203125 -0.328125,0.375 -0.1875,0.703125 -0.234375,1.3125 -0.734375,1.3125 -0.34375,0 -0.203125,-0.15625 -0.203125,-0.390625 0,-0.28125 0.03125,-0.40625 0.140625,-0.875 C 4.625,-1.984375 4.6875,-2.25 4.78125,-2.59375 c 0.4375,-1.796875 0.546875,-2.21875 0.546875,-2.296875 0,-0.171875 -0.28125,-0.453125 -0.46875,-0.453125 -0.375,0 -0.640625,0.5625 -0.65625,0.703125 z m 0,0\" id=\"path3346\" inkscape:connector-curvature=\"0\" style=\"stroke:none\"/>\n      </symbol>\n      <symbol id=\"glyph1-0\" overflow=\"visible\" style=\"overflow:visible\">\n        <path d=\"\" id=\"path3349\" inkscape:connector-curvature=\"0\" style=\"stroke:none\"/>\n      </symbol>\n      <symbol id=\"glyph1-1\" overflow=\"visible\" style=\"overflow:visible\">\n        <path d=\"m 2.6875,-5.265625 c 0,-0.203125 -0.203125,-0.40625 -0.5,-0.40625 -0.375,0.375 -0.671875,0.515625 -1.609375,0.515625 l 0,0.625 c 0.40625,0 0.828125,0 1.109375,-0.125 l 0,3.8125 c 0,0.296875 0.15625,0.21875 -0.59375,0.21875 l -0.46875,0 0,0.640625 C 1.140625,-0.03125 1.828125,-0.03125 2.1875,-0.03125 c 0.359375,0 1.046875,0 1.5625,0.046875 l 0,-0.640625 -0.46875,0 c -0.75,0 -0.59375,0.078125 -0.59375,-0.21875 z m 0,0\" id=\"path3352\" inkscape:connector-curvature=\"0\" style=\"stroke:none\"/>\n      </symbol>\n      <symbol id=\"glyph1-2\" overflow=\"visible\" style=\"overflow:visible\">\n        <path d=\"m 2.375,-1.6875 c 0.125,-0.109375 0.46875,-0.375 0.59375,-0.484375 0.484375,-0.453125 1.015625,-1.03125 1.015625,-1.75 0,-0.953125 -0.984375,-1.75 -1.96875,-1.75 -0.96875,0 -1.78125,0.921875 -1.78125,1.625 0,0.390625 0.5,0.625 0.609375,0.625 0.171875,0 0.59375,-0.296875 0.59375,-0.609375 0,-0.40625 -0.578125,-0.59375 -0.421875,-0.59375 0.15625,-0.390625 0.515625,-0.40625 0.90625,-0.40625 0.734375,0 0.9375,0.4375 0.9375,1.109375 0,0.828125 -0.53125,1.3125 -1.46875,2.265625 L 0.375,-0.609375 C 0.28125,-0.53125 0.234375,-0.375 0.234375,0 l 3.484375,0 0.296875,-1.796875 -0.625,0 c -0.046875,0.34375 -0.0625,0.625 -0.15625,0.765625 C 3.1875,-0.96875 2.71875,-1.015625 2.59375,-1.015625 l -1.421875,0 0.125,0.3125 z m 0,0\" id=\"path3355\" inkscape:connector-curvature=\"0\" style=\"stroke:none\"/>\n      </symbol>\n      <symbol id=\"glyph1-3\" overflow=\"visible\" style=\"overflow:visible\">\n        <path d=\"m 2.015625,-2.65625 c 0.625,0 0.84375,0.28125 0.84375,1.109375 0,1 -0.375,1.109375 -0.796875,1.109375 -0.4375,0 -0.921875,-0.109375 -0.984375,-0.21875 -0.046875,0 0.328125,-0.359375 0.328125,-0.625 0,-0.25 -0.359375,-0.625 -0.625,-0.625 -0.203125,0 -0.625,0.328125 -0.625,0.640625 0,0.75 1,1.4375 1.921875,1.4375 C 3.125,0.171875 4.0625,-0.75 4.0625,-1.546875 4.0625,-2.203125 3.34375,-3 2.53125,-3.171875 l 0,0.359375 c 0.625,-0.21875 1.28125,-0.9375 1.28125,-1.578125 0,-0.640625 -0.890625,-1.28125 -1.71875,-1.28125 -0.859375,0 -1.703125,0.65625 -1.703125,1.25 C 0.390625,-4.125 0.78125,-3.8125 1,-3.8125 c 0.25,0 0.578125,-0.359375 0.578125,-0.59375 0,-0.28125 -0.4375,-0.578125 -0.25,-0.578125 C 1.4375,-5.125 1.921875,-5.09375 2.0625,-5.09375 c 0.203125,0 0.625,-0.125 0.625,0.703125 0,0.5625 -0.171875,0.765625 -0.28125,0.890625 -0.25,0.25 -0.296875,0.203125 -0.78125,0.234375 -0.15625,0.015625 -0.40625,0.203125 -0.40625,0.3125 0,0.109375 0.265625,0.296875 0.40625,0.296875 z m 0,0\" id=\"path3358\" inkscape:connector-curvature=\"0\" style=\"stroke:none\"/>\n      </symbol>\n      <symbol id=\"glyph1-4\" overflow=\"visible\" style=\"overflow:visible\">\n        <path d=\"M 3.328125,-5.34375 C 3.328125,-5.5 3.140625,-5.75 2.96875,-5.75 c -0.09375,0 -0.25,0.0625 -0.328125,0.1875 l -2.59375,3.765625 0,0.484375 2.25,0 0,0.484375 c 0,0.296875 0.171875,0.203125 -0.453125,0.203125 l -0.375,0 0,0.640625 c 0.875,-0.046875 0.890625,-0.046875 1.34375,-0.046875 0.453125,0 0.46875,0 1.328125,0.046875 l 0,-0.640625 -0.359375,0 c -0.625,0 -0.453125,0.09375 -0.453125,-0.203125 l 0,-0.484375 0.84375,0 0,-0.625 -0.84375,0 z m -0.984375,0.65625 0,2.75 -1.484375,0 1.8125,-2.625 z m 0,0\" id=\"path3361\" inkscape:connector-curvature=\"0\" style=\"stroke:none\"/>\n      </symbol>\n      <symbol id=\"glyph2-0\" overflow=\"visible\" style=\"overflow:visible\">\n        <path d=\"\" id=\"path3364\" inkscape:connector-curvature=\"0\" style=\"stroke:none\"/>\n      </symbol>\n      <symbol id=\"glyph2-1\" overflow=\"visible\" style=\"overflow:visible\">\n        <path d=\"m 2.09375,-8.671875 c 0,-0.203125 -0.1875,-0.5625 -0.4375,-0.5625 -0.234375,0 -0.4375,0.359375 -0.4375,0.5625 l 0,11.09375 c 0,0.21875 0.203125,0.5625 0.4375,0.5625 0.25,0 0.4375,-0.34375 0.4375,-0.5625 z m 0,0\" id=\"path3367\" inkscape:connector-curvature=\"0\" style=\"stroke:none\"/>\n      </symbol>\n      <symbol id=\"glyph3-0\" overflow=\"visible\" style=\"overflow:visible\">\n        <path d=\"\" id=\"path3370\" inkscape:connector-curvature=\"0\" style=\"stroke:none\"/>\n      </symbol>\n      <symbol id=\"glyph3-1\" overflow=\"visible\" style=\"overflow:visible\">\n        <path d=\"m -0.375,-8.90625 c -0.0625,-0.203125 -0.34375,-0.5 -0.578125,-0.421875 -0.234375,0.0625 -0.328125,0.46875 -0.265625,0.671875 L 1.84375,2 C 1.90625,2.203125 2.1875,2.484375 2.421875,2.421875 2.65625,2.34375 2.75,1.953125 2.6875,1.75 z m 0,0\" id=\"path3373\" inkscape:connector-curvature=\"0\" style=\"stroke:none\"/>\n      </symbol>\n      <symbol id=\"glyph4-0\" overflow=\"visible\" style=\"overflow:visible\">\n        <path d=\"\" id=\"path3376\" inkscape:connector-curvature=\"0\" style=\"stroke:none\"/>\n      </symbol>\n      <symbol id=\"glyph4-1\" overflow=\"visible\" style=\"overflow:visible\">\n        <path d=\"m 2.34375,-4.625 1.9375,-0.5625 c 1.59375,-0.453125 2.953125,-2.25 2.578125,-3.578125 -0.25,-0.890625 -1.4375,-1.59375 -2.890625,-1.171875 l -3.546875,1.015625 c -0.234375,0.0625 -0.453125,0.28125 -0.390625,0.5 0.046875,0.125 0.328125,0.1875 0.515625,0.125 C 1.234375,-8.484375 1.078125,-8.5 1.125,-8.375 c 0,0.03125 0.015625,0.078125 0.015625,0.28125 l 0.21875,6.625 c 0.015625,0.4375 0.15625,0.375 -0.65625,0.609375 -0.21875,0.0625 -0.46875,0.28125 -0.40625,0.484375 0.046875,0.125 0.34375,0.1875 0.40625,0.171875 0.234375,-0.0625 0.4375,-0.15625 0.65625,-0.21875 L 2.703125,-0.8125 C 2.921875,-0.875 3.1875,-0.90625 3.390625,-0.96875 3.5,-1 3.734375,-1.21875 3.65625,-1.4375 3.625,-1.546875 3.34375,-1.609375 3.171875,-1.5625 2.484375,-1.375 2.640625,-1.359375 2.609375,-1.453125 2.59375,-1.515625 2.578125,-1.625 2.5625,-1.671875 L 2.46875,-4.65625 z M 2.3125,-8.453125 c -0.03125,-0.453125 -0.09375,-0.3125 0.359375,-0.4375 L 3.8125,-9.21875 c 0.84375,-0.25 1.453125,-0.265625 1.6875,0.59375 0.09375,0.296875 0.234375,1.203125 -0.125,1.859375 -0.15625,0.28125 -0.46875,0.796875 -1.515625,1.09375 L 2.4375,-5.265625 z m 0,0\" id=\"path3379\" inkscape:connector-curvature=\"0\" style=\"stroke:none\"/>\n      </symbol>\n      <symbol id=\"glyph4-2\" overflow=\"visible\" style=\"overflow:visible\">\n        <path d=\"M 2.328125,-4.71875 3.4375,-5.03125 c 0.875,-0.25 0.796875,-0.171875 0.90625,0.171875 0.03125,0.140625 0.046875,0.296875 0.078125,0.5625 0,-0.0625 0,0.125 0,0.15625 0.03125,0.078125 0.28125,0.1875 0.359375,0.171875 C 4.875,-4 4.984375,-4.21875 4.96875,-4.421875 l -0.109375,-2.875 C 4.84375,-7.34375 4.609375,-7.5 4.53125,-7.46875 4.421875,-7.4375 4.3125,-7.21875 4.3125,-7 4.328125,-6.078125 4.296875,-5.96875 3.28125,-5.671875 L 2.4375,-5.4375 l -0.109375,-3 C 2.3125,-8.875 2.21875,-8.75 2.6875,-8.890625 l 1.546875,-0.4375 c 1.421875,-0.40625 1.5625,-0.125 1.796875,0.6875 0.015625,0.0625 0.078125,0.3125 0.140625,0.609375 0,0.0625 0.03125,0.21875 0.046875,0.265625 C 6.234375,-7.671875 6.5,-7.546875 6.578125,-7.5625 6.65625,-7.59375 6.78125,-7.84375 6.75,-8.046875 L 6.421875,-10.125 c 0,-0.04687 -0.015625,-0.15625 -0.03125,-0.1875 -0.03125,-0.109375 -0.34375,-0.203125 -0.53125,-0.140625 l -5.453125,1.5625 c -0.21875,0.0625 -0.453125,0.296875 -0.390625,0.5 0.03125,0.125 0.3125,0.1875 0.5,0.125 0.71875,-0.203125 0.546875,-0.21875 0.59375,-0.078125 0.015625,0.0625 0,0.09375 0.015625,0.234375 l 0.234375,6.640625 c 0,0.4375 0.140625,0.375 -0.671875,0.609375 -0.21875,0.0625 -0.46875,0.28125 -0.40625,0.484375 0.046875,0.125 0.34375,0.1875 0.421875,0.171875 0.21875,-0.0625 0.421875,-0.15625 0.640625,-0.21875 l 1.5,-0.421875 c 0.25,-0.078125 0.546875,-0.125 0.8125,-0.203125 0.078125,-0.03125 0.359375,-0.25 0.296875,-0.453125 -0.046875,-0.125 -0.3125,-0.203125 -0.5625,-0.125 -0.90625,0.25 -0.765625,0.265625 -0.8125,0.109375 C 2.5625,-1.578125 2.5625,-1.6875 2.5625,-1.765625 L 2.453125,-4.75 z m 0,0\" id=\"path3382\" inkscape:connector-curvature=\"0\" style=\"stroke:none\"/>\n      </symbol>\n      <symbol id=\"glyph5-0\" overflow=\"visible\" style=\"overflow:visible\">\n        <path d=\"\" id=\"path3385\" inkscape:connector-curvature=\"0\" style=\"stroke:none\"/>\n      </symbol>\n      <symbol id=\"glyph5-1\" overflow=\"visible\" style=\"overflow:visible\">\n        <path d=\"M 1.8125,-2.28125 C 1.90625,-2.421875 2.171875,-2.765625 2.265625,-2.90625 2.59375,-3.46875 2.9375,-4.171875 2.75,-4.859375 2.484375,-5.78125 1.328125,-6.28125 0.375,-6.015625 -0.5625,-5.734375 -1.09375,-4.625 -0.890625,-3.953125 -0.78125,-3.578125 -0.234375,-3.5 -0.125,-3.53125 0.03125,-3.578125 0.34375,-3.96875 0.265625,-4.265625 0.15625,-4.65625 -0.453125,-4.6875 -0.3125,-4.734375 -0.25,-5.15625 0.078125,-5.265625 0.453125,-5.375 c 0.703125,-0.203125 1.03125,0.171875 1.21875,0.828125 0.21875,0.796875 -0.15625,1.390625 -0.78125,2.5625 L 0.1875,-0.6875 c -0.0625,0.09375 -0.078125,0.265625 0.03125,0.625 l 3.359375,-0.96875 -0.21875,-1.8125 -0.59375,0.171875 c 0.046875,0.359375 0.109375,0.625 0.0625,0.796875 -0.03125,0.0625 -0.5,0.15625 -0.609375,0.1875 l -1.375,0.390625 0.21875,0.265625 z m 0,0\" id=\"path3388\" inkscape:connector-curvature=\"0\" style=\"stroke:none\"/>\n      </symbol>\n      <symbol id=\"glyph6-0\" overflow=\"visible\" style=\"overflow:visible\">\n        <path d=\"\" id=\"path3391\" inkscape:connector-curvature=\"0\" style=\"stroke:none\"/>\n      </symbol>\n      <symbol id=\"glyph6-1\" overflow=\"visible\" style=\"overflow:visible\">\n        <path d=\"m 4.765625,-2.765625 3.296875,0 c 0.171875,0 0.546875,-0.140625 0.546875,-0.359375 C 8.609375,-3.34375 8.25,-3.5 8.0625,-3.5 l -3.140625,0 0,-3.140625 c 0,-0.171875 -0.15625,-0.546875 -0.375,-0.546875 -0.21875,0 -0.390625,0.359375 -0.390625,0.546875 l 0,3.140625 -3.125,0 c -0.171875,0 -0.546875,0.15625 -0.546875,0.375 0,0.21875 0.359375,0.359375 0.546875,0.359375 l 3.125,0 0,3.15625 c 0,0.171875 0.171875,0.53125 0.390625,0.53125 0.21875,0 0.375,-0.34375 0.375,-0.53125 l 0,-3.15625 z m 0,0\" id=\"path3394\" inkscape:connector-curvature=\"0\" style=\"stroke:none\"/>\n      </symbol>\n      <symbol id=\"glyph6-2\" overflow=\"visible\" style=\"overflow:visible\">\n        <path d=\"m 8.0625,-3.875 c 0.171875,0 0.546875,-0.140625 0.546875,-0.359375 0,-0.21875 -0.359375,-0.375 -0.546875,-0.375 l -7.03125,0 c -0.171875,0 -0.546875,0.15625 -0.546875,0.359375 0,0.234375 0.359375,0.375 0.546875,0.375 z m 0,2.21875 c 0.171875,0 0.546875,-0.140625 0.546875,-0.359375 0,-0.21875 -0.359375,-0.375 -0.546875,-0.375 l -7.03125,0 c -0.171875,0 -0.546875,0.15625 -0.546875,0.375 0,0.21875 0.359375,0.359375 0.546875,0.359375 z m 0,0\" id=\"path3397\" inkscape:connector-curvature=\"0\" style=\"stroke:none\"/>\n      </symbol>\n      <symbol id=\"glyph6-3\" overflow=\"visible\" style=\"overflow:visible\">\n        <path d=\"m 5.265625,-2.3125 -0.40625,0 C 4.796875,-1.953125 4.75,-1.40625 4.625,-1.203125 c -0.078125,0.109375 -0.640625,0.0625 -1,0.0625 l -2.21875,0 0.109375,0.25 C 1.84375,-1.15625 2.5625,-1.921875 2.875,-2.21875 c 1.828125,-1.671875 2.546875,-2.390625 2.546875,-3.578125 0,-1.375 -1.25,-2.453125 -2.640625,-2.453125 -1.375,0 -2.359375,1.34375 -2.359375,2.375 0,0.609375 0.6875,0.75 0.71875,0.75 0.265625,0 0.71875,-0.328125 0.71875,-0.703125 0,-0.34375 -0.375,-0.71875 -0.71875,-0.71875 -0.09375,0 -0.125,0 0.0625,-0.0625 0.15625,-0.59375 0.65625,-1 1.421875,-1 1.015625,0 1.46875,0.71875 1.46875,1.8125 0,1.015625 -0.53125,1.796875 -1.21875,2.5625 l -2.453125,2.75 0,0.484375 4.65625,0 0.359375,-2.3125 z m 0,0\" id=\"path3400\" inkscape:connector-curvature=\"0\" style=\"stroke:none\"/>\n      </symbol>\n    </g>\n    <clipPath id=\"clip1\">\n      <path d=\"m 165.12109,91.117188 255.09766,0 0,176.882812 -255.09766,0 z m 0,0\" id=\"path3403\" inkscape:connector-curvature=\"0\"/>\n    </clipPath>\n    <clipPath id=\"clip2\">\n      <path d=\"m 292,171 107,0 0,1 -107,0 z m 0,0\" id=\"path3406\" inkscape:connector-curvature=\"0\"/>\n    </clipPath>\n    <clipPath id=\"clip3\">\n      <path d=\"m 165.12109,91.117188 0,194.582032 255.09766,0 0,-194.582032 z m 224.91407,82.160152 8.91406,0 0,-3.51953 -8.91406,0 7.03906,1.76172 z m -89.49219,-3.51953 -8.91406,0 0,3.51953 8.91406,0 -7.03516,-1.75781 z m 0,0\" id=\"path3409\" inkscape:connector-curvature=\"0\"/>\n    </clipPath>\n    <clipPath id=\"clip4\">\n      <path d=\"M 165.12109,92 420,92 l 0,193.69922 -254.87891,0 z m 0,0\" id=\"path3412\" inkscape:connector-curvature=\"0\"/>\n    </clipPath>\n    <clipPath id=\"clip5\">\n      <path d=\"m 292,181 83,0 0,2 -83,0 z m 0,0\" id=\"path3415\" inkscape:connector-curvature=\"0\"/>\n    </clipPath>\n    <clipPath id=\"clip6\">\n      <path d=\"m 165.12109,91.117188 0,194.582032 255.09766,0 0,-194.582032 z m 201.16407,92.718752 8.91406,0 0,-3.51953 -8.91406,0 7.03515,1.75781 z m -65.74219,-3.51953 -8.91406,0 0,3.51953 8.91406,0 -7.03516,-1.76172 z m 0,0\" id=\"path3418\" inkscape:connector-curvature=\"0\"/>\n    </clipPath>\n  </defs>\n  <g id=\"surface1\" transform=\"translate(-159.94673,-86.45845)\">\n    <g clip-path=\"url(#clip1)\" clip-rule=\"nonzero\" id=\"g3421\">\n      <path d=\"m 3980.7031,6652.0312 c 0,-364.375 -472.6172,-659.7656 -1055.625,-659.7656 -582.9687,0 -1055.5859,295.3906 -1055.5859,659.7656 0,364.375 472.6172,659.7657 1055.5859,659.7657 583.0078,0 1055.625,-295.3907 1055.625,-659.7657 z m 0,0\" id=\"path3423\" inkscape:connector-curvature=\"0\" style=\"fill:none;stroke:#ff0000;stroke-width:17.59350014;stroke-linecap:butt;stroke-linejoin:miter;stroke-miterlimit:10;stroke-opacity:1\" transform=\"matrix(0.1,0,0,-0.1,0,842)\"/>\n    </g>\n    <path d=\"m 294.85547,110.82031 c 0,1.29688 -1.05078,2.34375 -2.34766,2.34375 -1.29297,0 -2.34375,-1.04687 -2.34375,-2.34375 0,-1.29687 1.05078,-2.34375 2.34375,-2.34375 1.29688,0 2.34766,1.04688 2.34766,2.34375\" id=\"path3425\" inkscape:connector-curvature=\"0\" style=\"fill:#000000;fill-opacity:1;fill-rule:evenodd;stroke:none\"/>\n    <path d=\"m 2948.5547,7311.7969 c 0,-12.9688 -10.5078,-23.4375 -23.4766,-23.4375 -12.9297,0 -23.4375,10.4687 -23.4375,23.4375 0,12.9687 10.5078,23.4375 23.4375,23.4375 12.9688,0 23.4766,-10.4688 23.4766,-23.4375 z m 0,0\" id=\"path3427\" inkscape:connector-curvature=\"0\" style=\"fill:none;stroke:#000000;stroke-width:8.79675961;stroke-linecap:butt;stroke-linejoin:miter;stroke-miterlimit:10;stroke-opacity:1\" transform=\"matrix(0.1,0,0,-0.1,0,842)\"/>\n    <path d=\"m 189.46875,176.79687 c 0,1.39063 -1.12891,2.51954 -2.51953,2.51954 -1.39453,0 -2.52344,-1.12891 -2.52344,-2.51954 0,-1.39453 1.12891,-2.52343 2.52344,-2.52343 1.39062,0 2.51953,1.1289 2.51953,2.52343\" id=\"path3429\" inkscape:connector-curvature=\"0\" style=\"fill:#000000;fill-opacity:1;fill-rule:evenodd;stroke:none\"/>\n    <path d=\"m 1894.6875,6652.0312 c 0,-13.9062 -11.2891,-25.1953 -25.1953,-25.1953 -13.9453,0 -25.2344,11.2891 -25.2344,25.1953 0,13.9454 11.2891,25.2344 25.2344,25.2344 13.9062,0 25.1953,-11.289 25.1953,-25.2344 z m 0,0\" id=\"path3431\" inkscape:connector-curvature=\"0\" style=\"fill:none;stroke:#000000;stroke-width:8.79675961;stroke-linecap:butt;stroke-linejoin:miter;stroke-miterlimit:10;stroke-opacity:1\" transform=\"matrix(0.1,0,0,-0.1,0,842)\"/>\n    <path d=\"m 294.85547,242.77344 c 0,1.29297 -1.05078,2.34375 -2.34766,2.34375 -1.29297,0 -2.34375,-1.05078 -2.34375,-2.34375 0,-1.29688 1.05078,-2.34766 2.34375,-2.34766 1.29688,0 2.34766,1.05078 2.34766,2.34766\" id=\"path3433\" inkscape:connector-curvature=\"0\" style=\"fill:#000000;fill-opacity:1;fill-rule:evenodd;stroke:none\"/>\n    <path d=\"m 2948.5547,5992.2656 c 0,-12.9297 -10.5078,-23.4375 -23.4766,-23.4375 -12.9297,0 -23.4375,10.5078 -23.4375,23.4375 0,12.9688 10.5078,23.4766 23.4375,23.4766 12.9688,0 23.4766,-10.5078 23.4766,-23.4766 z m 0,0\" id=\"path3435\" inkscape:connector-curvature=\"0\" style=\"fill:none;stroke:#000000;stroke-width:8.79675961;stroke-linecap:butt;stroke-linejoin:miter;stroke-miterlimit:10;stroke-opacity:1\" transform=\"matrix(0.1,0,0,-0.1,0,842)\"/>\n    <path d=\"m 400.59375,176.79687 c 0,1.39063 -1.12891,2.51954 -2.52344,2.51954 -1.39062,0 -2.51953,-1.12891 -2.51953,-2.51954 0,-1.39453 1.12891,-2.52343 2.51953,-2.52343 1.39453,0 2.52344,1.1289 2.52344,2.52343\" id=\"path3437\" inkscape:connector-curvature=\"0\" style=\"fill:#000000;fill-opacity:1;fill-rule:evenodd;stroke:none\"/>\n    <path d=\"m 4005.9375,6652.0312 c 0,-13.9062 -11.2891,-25.1953 -25.2344,-25.1953 -13.9062,0 -25.1953,11.2891 -25.1953,25.1953 0,13.9454 11.2891,25.2344 25.1953,25.2344 13.9453,0 25.2344,-11.289 25.2344,-25.2344 z m 0,0\" id=\"path3439\" inkscape:connector-curvature=\"0\" style=\"fill:none;stroke:#000000;stroke-width:8.79675961;stroke-linecap:butt;stroke-linejoin:miter;stroke-miterlimit:10;stroke-opacity:1\" transform=\"matrix(0.1,0,0,-0.1,0,842)\"/>\n    <path d=\"m 2101.1328,6652.0312 1457.3438,527.8125 190.5859,-527.8125\" id=\"path3441\" inkscape:connector-curvature=\"0\" style=\"fill:none;stroke:#0000ff;stroke-width:8.79675961;stroke-linecap:butt;stroke-linejoin:miter;stroke-miterlimit:10;stroke-opacity:1\" transform=\"matrix(0.1,0,0,-0.1,0,842)\"/>\n    <g clip-path=\"url(#clip2)\" clip-rule=\"nonzero\" id=\"g3443\">\n      <g clip-path=\"url(#clip3)\" clip-rule=\"evenodd\" id=\"g3445\">\n        <path d=\"m 2925.0781,6704.8047 1055.625,0\" id=\"path3447\" inkscape:connector-curvature=\"0\" style=\"fill:none;stroke:#000000;stroke-width:4.3983798;stroke-linecap:butt;stroke-linejoin:miter;stroke-miterlimit:10;stroke-opacity:1\" transform=\"matrix(0.1,0,0,-0.1,0,842)\"/>\n      </g>\n    </g>\n    <path d=\"m 3005.4297,6722.4219 -70.3516,-17.6172 70.3516,-17.5781\" id=\"path3449\" inkscape:connector-curvature=\"0\" style=\"fill:none;stroke:#000000;stroke-width:4.3983798;stroke-linecap:butt;stroke-linejoin:miter;stroke-miterlimit:10;stroke-opacity:1\" transform=\"matrix(0.1,0,0,-0.1,0,842)\"/>\n    <path d=\"m 3900.3516,6687.2266 70.3906,17.5781 -70.3906,17.6172\" id=\"path3451\" inkscape:connector-curvature=\"0\" style=\"fill:none;stroke:#000000;stroke-width:4.3983798;stroke-linecap:butt;stroke-linejoin:miter;stroke-miterlimit:10;stroke-opacity:1\" transform=\"matrix(0.1,0,0,-0.1,0,842)\"/>\n    <path d=\"m 1737.5391,6652.0312 2375.1171,0\" id=\"path3453\" inkscape:connector-curvature=\"0\" style=\"fill:none;stroke:#000000;stroke-width:4.3983798;stroke-linecap:butt;stroke-linejoin:miter;stroke-miterlimit:10;stroke-opacity:1;stroke-dasharray:43.9838, 21.6987, 8.79676, 21.6987\" transform=\"matrix(0.1,0,0,-0.1,0,842)\"/>\n    <path d=\"m 2925.0781,7443.75 0,-1583.4375\" id=\"path3455\" inkscape:connector-curvature=\"0\" style=\"fill:none;stroke:#000000;stroke-width:4.3983798;stroke-linecap:butt;stroke-linejoin:miter;stroke-miterlimit:10;stroke-opacity:1;stroke-dasharray:43.9838, 21.6987, 8.79676, 21.6987\" transform=\"matrix(0.1,0,0,-0.1,0,842)\"/>\n    <g clip-path=\"url(#clip4)\" clip-rule=\"nonzero\" id=\"g3457\">\n      <path d=\"m 1658.3594,5570.0391 2533.4765,0 0,1926.4843 -2533.4765,0 z m 0,0\" id=\"path3459\" inkscape:connector-curvature=\"0\" style=\"fill:none;stroke:#ffffff;stroke-width:4.3983798;stroke-linecap:butt;stroke-linejoin:miter;stroke-miterlimit:10;stroke-opacity:1\" transform=\"matrix(0.1,0,0,-0.1,0,842)\"/>\n    </g>\n    <g clip-path=\"url(#clip5)\" clip-rule=\"nonzero\" id=\"g3461\">\n      <g clip-path=\"url(#clip6)\" clip-rule=\"evenodd\" id=\"g3463\">\n        <path d=\"m 2925.0781,6599.2578 818.125,0\" id=\"path3465\" inkscape:connector-curvature=\"0\" style=\"fill:none;stroke:#000000;stroke-width:4.3983798;stroke-linecap:butt;stroke-linejoin:miter;stroke-miterlimit:10;stroke-opacity:1\" transform=\"matrix(0.1,0,0,-0.1,0,842)\"/>\n      </g>\n    </g>\n    <path d=\"m 3005.4297,6616.8359 -70.3516,-17.5781 70.3516,-17.6172\" id=\"path3467\" inkscape:connector-curvature=\"0\" style=\"fill:none;stroke:#000000;stroke-width:4.3983798;stroke-linecap:butt;stroke-linejoin:miter;stroke-miterlimit:10;stroke-opacity:1\" transform=\"matrix(0.1,0,0,-0.1,0,842)\"/>\n    <path d=\"m 3662.8516,6581.6406 70.3515,17.6172 -70.3515,17.5781\" id=\"path3469\" inkscape:connector-curvature=\"0\" style=\"fill:none;stroke:#000000;stroke-width:4.3983798;stroke-linecap:butt;stroke-linejoin:miter;stroke-miterlimit:10;stroke-opacity:1\" transform=\"matrix(0.1,0,0,-0.1,0,842)\"/>\n    <path d=\"m 377.54687,176.79687 c 0,1.45704 -1.18359,2.63672 -2.64062,2.63672 -1.45703,0 -2.64063,-1.17968 -2.64063,-2.63672 0,-1.45703 1.1836,-2.64062 2.64063,-2.64062 1.45703,0 2.64062,1.18359 2.64062,2.64062\" id=\"path3471\" inkscape:connector-curvature=\"0\" style=\"fill:#000000;fill-opacity:1;fill-rule:evenodd;stroke:none\"/>\n    <path d=\"m 3775.4688,6652.0312 c 0,-14.5703 -11.836,-26.3671 -26.4063,-26.3671 -14.5703,0 -26.4062,11.7968 -26.4062,26.3671 0,14.5704 11.8359,26.4063 26.4062,26.4063 14.5703,0 26.4063,-11.8359 26.4063,-26.4063 z m 0,0\" id=\"path3473\" inkscape:connector-curvature=\"0\" style=\"fill:none;stroke:#000000;stroke-width:4.3983798;stroke-linecap:butt;stroke-linejoin:miter;stroke-miterlimit:10;stroke-opacity:1\" transform=\"matrix(0.1,0,0,-0.1,0,842)\"/>\n    <path d=\"m 212.75391,176.79687 c 0,1.45704 -1.1836,2.63672 -2.64063,2.63672 -1.45703,0 -2.64062,-1.17968 -2.64062,-2.63672 0,-1.45703 1.18359,-2.64062 2.64062,-2.64062 1.45703,0 2.64063,1.18359 2.64063,2.64062\" id=\"path3475\" inkscape:connector-curvature=\"0\" style=\"fill:#000000;fill-opacity:1;fill-rule:evenodd;stroke:none\"/>\n    <path d=\"m 2127.5391,6652.0312 c 0,-14.5703 -11.836,-26.3671 -26.4063,-26.3671 -14.5703,0 -26.4062,11.7968 -26.4062,26.3671 0,14.5704 11.8359,26.4063 26.4062,26.4063 14.5703,0 26.4063,-11.8359 26.4063,-26.4063 z m 0,0\" id=\"path3477\" inkscape:connector-curvature=\"0\" style=\"fill:none;stroke:#000000;stroke-width:4.3983798;stroke-linecap:butt;stroke-linejoin:miter;stroke-miterlimit:10;stroke-opacity:1\" transform=\"matrix(0.1,0,0,-0.1,0,842)\"/>\n    <path d=\"m 294.85547,176.79687 c 0,1.29297 -1.05078,2.34375 -2.34766,2.34375 -1.29297,0 -2.34375,-1.05078 -2.34375,-2.34375 0,-1.29687 1.05078,-2.34765 2.34375,-2.34765 1.29688,0 2.34766,1.05078 2.34766,2.34765\" id=\"path3479\" inkscape:connector-curvature=\"0\" style=\"fill:#000000;fill-opacity:1;fill-rule:evenodd;stroke:none\"/>\n    <path d=\"m 2948.5547,6652.0312 c 0,-12.9296 -10.5078,-23.4375 -23.4766,-23.4375 -12.9297,0 -23.4375,10.5079 -23.4375,23.4375 0,12.9688 10.5078,23.4766 23.4375,23.4766 12.9688,0 23.4766,-10.5078 23.4766,-23.4766 z m 0,0\" id=\"path3481\" inkscape:connector-curvature=\"0\" style=\"fill:none;stroke:#000000;stroke-width:8.79675961;stroke-linecap:butt;stroke-linejoin:miter;stroke-miterlimit:10;stroke-opacity:1\" transform=\"matrix(0.1,0,0,-0.1,0,842)\"/>\n    <path d=\"m 358.48437,124.01563 c 0,1.45703 -1.17968,2.64062 -2.63671,2.64062 -1.45704,0 -2.64063,-1.18359 -2.64063,-2.64062 0,-1.45704 1.18359,-2.63672 2.64063,-2.63672 1.45703,0 2.63671,1.17968 2.63671,2.63672\" id=\"path3483\" inkscape:connector-curvature=\"0\" style=\"fill:#000000;fill-opacity:1;fill-rule:evenodd;stroke:none\"/>\n    <path d=\"m 3584.8438,7179.8437 c 0,-14.5703 -11.7969,-26.4062 -26.3672,-26.4062 -14.5703,0 -26.4063,11.8359 -26.4063,26.4062 0,14.5704 11.836,26.3672 26.4063,26.3672 14.5703,0 26.3672,-11.7968 26.3672,-26.3672 z m 0,0\" id=\"path3485\" inkscape:connector-curvature=\"0\" style=\"fill:none;stroke:#000000;stroke-width:4.3983798;stroke-linecap:butt;stroke-linejoin:miter;stroke-miterlimit:10;stroke-opacity:1\" transform=\"matrix(0.1,0,0,-0.1,0,842)\"/>\n    <g id=\"g3487\" style=\"fill:#211e1e;fill-opacity:1\">\n      <use height=\"842\" id=\"use3489\" width=\"595\" x=\"358.664\" xlink:href=\"#glyph0-1\" y=\"118.737\"/>\n    </g>\n    <g id=\"g3491\" style=\"fill:#211e1e;fill-opacity:1\">\n      <use height=\"842\" id=\"use3493\" width=\"595\" x=\"279.44879\" xlink:href=\"#glyph0-2\" y=\"189.99049\"/>\n    </g>\n    <g id=\"g3495\" style=\"fill:#211e1e;fill-opacity:1\">\n      <use height=\"842\" id=\"use3497\" width=\"595\" x=\"335.01361\" xlink:href=\"#glyph0-3\" y=\"195.26863\"/>\n    </g>\n    <g id=\"g3499\" style=\"fill:#211e1e;fill-opacity:1\">\n      <use height=\"842\" id=\"use3501\" width=\"595\" x=\"374.4538\" xlink:href=\"#glyph0-4\" y=\"189.99049\"/>\n    </g>\n    <g id=\"g3503\" style=\"fill:#211e1e;fill-opacity:1\">\n      <use height=\"842\" id=\"use3505\" width=\"595\" x=\"382.01358\" xlink:href=\"#glyph1-1\" y=\"191.7905\"/>\n    </g>\n    <g id=\"g3507\" style=\"fill:#211e1e;fill-opacity:1\">\n      <use height=\"842\" id=\"use3509\" width=\"595\" x=\"205.55557\" xlink:href=\"#glyph0-4\" y=\"192.62956\"/>\n    </g>\n    <g id=\"g3511\" style=\"fill:#211e1e;fill-opacity:1\">\n      <use height=\"842\" id=\"use3513\" width=\"595\" x=\"213.11572\" xlink:href=\"#glyph1-2\" y=\"194.42957\"/>\n    </g>\n    <g id=\"g3515\" style=\"fill:#211e1e;fill-opacity:1\">\n      <use height=\"842\" id=\"use3517\" width=\"595\" x=\"401.17874\" xlink:href=\"#glyph0-5\" y=\"171.51746\"/>\n    </g>\n    <g id=\"g3519\" style=\"fill:#211e1e;fill-opacity:1\">\n      <use height=\"842\" id=\"use3521\" width=\"595\" x=\"408.01859\" xlink:href=\"#glyph1-1\" y=\"173.31746\"/>\n    </g>\n    <g id=\"g3523\" style=\"fill:#211e1e;fill-opacity:1\">\n      <use height=\"842\" id=\"use3525\" width=\"595\" x=\"171.58357\" xlink:href=\"#glyph0-5\" y=\"171.51746\"/>\n    </g>\n    <g id=\"g3527\" style=\"fill:#211e1e;fill-opacity:1\">\n      <use height=\"842\" id=\"use3529\" width=\"595\" x=\"178.42342\" xlink:href=\"#glyph1-2\" y=\"173.31746\"/>\n    </g>\n    <g id=\"g3531\" style=\"fill:#211e1e;fill-opacity:1\">\n      <use height=\"842\" id=\"use3533\" width=\"595\" x=\"295.6174\" xlink:href=\"#glyph0-5\" y=\"105.54166\"/>\n    </g>\n    <g id=\"g3535\" style=\"fill:#211e1e;fill-opacity:1\">\n      <use height=\"842\" id=\"use3537\" width=\"595\" x=\"302.45764\" xlink:href=\"#glyph1-3\" y=\"107.34166\"/>\n    </g>\n    <g id=\"g3539\" style=\"fill:#211e1e;fill-opacity:1\">\n      <use height=\"842\" id=\"use3541\" width=\"595\" x=\"295.6174\" xlink:href=\"#glyph0-5\" y=\"255.96666\"/>\n    </g>\n    <g id=\"g3543\" style=\"fill:#211e1e;fill-opacity:1\">\n      <use height=\"842\" id=\"use3545\" width=\"595\" x=\"302.45764\" xlink:href=\"#glyph1-4\" y=\"257.76666\"/>\n    </g>\n    <g id=\"g3547\" style=\"fill:#211e1e;fill-opacity:1\">\n      <use height=\"842\" id=\"use3549\" width=\"595\" x=\"335.90924\" xlink:href=\"#glyph0-6\" y=\"168.87877\"/>\n    </g>\n    <g id=\"g3551\" style=\"fill:#0000ff;fill-opacity:1\">\n      <use height=\"842\" id=\"use3553\" width=\"595\" x=\"334.91299\" xlink:href=\"#glyph2-1\" y=\"153.045\"/>\n    </g>\n    <g id=\"g3555\" style=\"fill:#0000ff;fill-opacity:1\">\n      <use height=\"842\" id=\"use3557\" width=\"595\" x=\"338.27316\" xlink:href=\"#glyph0-1\" y=\"153.045\"/>\n    </g>\n    <g id=\"g3559\" style=\"fill:#0000ff;fill-opacity:1\">\n      <use height=\"842\" id=\"use3561\" width=\"595\" x=\"347.51303\" xlink:href=\"#glyph0-4\" y=\"153.045\"/>\n    </g>\n    <g id=\"g3563\" style=\"fill:#0000ff;fill-opacity:1\">\n      <use height=\"842\" id=\"use3565\" width=\"595\" x=\"355.07315\" xlink:href=\"#glyph1-1\" y=\"154.845\"/>\n    </g>\n    <g id=\"g3567\" style=\"fill:#0000ff;fill-opacity:1\">\n      <use height=\"842\" id=\"use3569\" width=\"595\" x=\"359.63293\" xlink:href=\"#glyph2-1\" y=\"153.045\"/>\n    </g>\n    <g id=\"g3571\" style=\"fill:#0000ff;fill-opacity:1\">\n      <use height=\"842\" id=\"use3573\" width=\"595\" x=\"261.54099\" xlink:href=\"#glyph3-1\" y=\"151.588\"/>\n    </g>\n    <g id=\"g3575\" style=\"fill:#0000ff;fill-opacity:1\">\n      <use height=\"842\" id=\"use3577\" width=\"595\" x=\"264.77069\" xlink:href=\"#glyph4-1\" y=\"150.6619\"/>\n    </g>\n    <g id=\"g3579\" style=\"fill:#0000ff;fill-opacity:1\">\n      <use height=\"842\" id=\"use3581\" width=\"595\" x=\"273.65274\" xlink:href=\"#glyph4-2\" y=\"148.11502\"/>\n    </g>\n    <g id=\"g3583\" style=\"fill:#0000ff;fill-opacity:1\">\n      <use height=\"842\" id=\"use3585\" width=\"595\" x=\"281.41599\" xlink:href=\"#glyph5-1\" y=\"147.761\"/>\n    </g>\n    <g id=\"g3587\" style=\"fill:#0000ff;fill-opacity:1\">\n      <use height=\"842\" id=\"use3589\" width=\"595\" x=\"285.30301\" xlink:href=\"#glyph3-1\" y=\"144.774\"/>\n    </g>\n    <g id=\"g3591\" style=\"fill:#0000ff;fill-opacity:1\">\n      <use height=\"842\" id=\"use3593\" width=\"595\" x=\"239.907\" xlink:href=\"#glyph2-1\" y=\"277.07901\"/>\n    </g>\n    <g id=\"g3595\" style=\"fill:#0000ff;fill-opacity:1\">\n      <use height=\"842\" id=\"use3597\" width=\"595\" x=\"243.26717\" xlink:href=\"#glyph0-1\" y=\"277.07901\"/>\n    </g>\n    <g id=\"g3599\" style=\"fill:#0000ff;fill-opacity:1\">\n      <use height=\"842\" id=\"use3601\" width=\"595\" x=\"252.50703\" xlink:href=\"#glyph0-4\" y=\"277.07901\"/>\n    </g>\n    <g id=\"g3603\" style=\"fill:#0000ff;fill-opacity:1\">\n      <use height=\"842\" id=\"use3605\" width=\"595\" x=\"260.06717\" xlink:href=\"#glyph1-1\" y=\"278.879\"/>\n    </g>\n    <g id=\"g3607\" style=\"fill:#0000ff;fill-opacity:1\">\n      <use height=\"842\" id=\"use3609\" width=\"595\" x=\"264.74725\" xlink:href=\"#glyph2-1\" y=\"277.07901\"/>\n    </g>\n    <g id=\"g3611\" style=\"fill:#0000ff;fill-opacity:1\">\n      <use height=\"842\" id=\"use3613\" width=\"595\" x=\"270.62732\" xlink:href=\"#glyph6-1\" y=\"277.07901\"/>\n    </g>\n    <g id=\"g3615\" style=\"fill:#0000ff;fill-opacity:1\">\n      <use height=\"842\" id=\"use3617\" width=\"595\" x=\"282.38751\" xlink:href=\"#glyph2-1\" y=\"277.07901\"/>\n    </g>\n    <g id=\"g3619\" style=\"fill:#0000ff;fill-opacity:1\">\n      <use height=\"842\" id=\"use3621\" width=\"595\" x=\"285.74768\" xlink:href=\"#glyph0-1\" y=\"277.07901\"/>\n    </g>\n    <g id=\"g3623\" style=\"fill:#0000ff;fill-opacity:1\">\n      <use height=\"842\" id=\"use3625\" width=\"595\" x=\"294.98755\" xlink:href=\"#glyph0-4\" y=\"277.07901\"/>\n    </g>\n    <g id=\"g3627\" style=\"fill:#0000ff;fill-opacity:1\">\n      <use height=\"842\" id=\"use3629\" width=\"595\" x=\"302.54727\" xlink:href=\"#glyph1-2\" y=\"278.879\"/>\n    </g>\n    <g id=\"g3631\" style=\"fill:#0000ff;fill-opacity:1\">\n      <use height=\"842\" id=\"use3633\" width=\"595\" x=\"307.22736\" xlink:href=\"#glyph2-1\" y=\"277.07901\"/>\n    </g>\n    <g id=\"g3635\" style=\"fill:#0000ff;fill-opacity:1\">\n      <use height=\"842\" id=\"use3637\" width=\"595\" x=\"313.82736\" xlink:href=\"#glyph6-2\" y=\"277.07901\"/>\n    </g>\n    <g id=\"g3639\" style=\"fill:#0000ff;fill-opacity:1\">\n      <use height=\"842\" id=\"use3641\" width=\"595\" x=\"326.30746\" xlink:href=\"#glyph6-3\" y=\"277.07901\"/>\n    </g>\n    <g id=\"g3643\" style=\"fill:#0000ff;fill-opacity:1\">\n      <use height=\"842\" id=\"use3645\" width=\"595\" x=\"332.18756\" xlink:href=\"#glyph0-6\" y=\"277.07901\"/>\n    </g>\n  </g>\n</svg>"
          },
          "metadata": {
            "tags": []
          }
        }
      ]
    },
    {
      "cell_type": "markdown",
      "metadata": {
        "id": "dB1K0O4ju-EO"
      },
      "source": [
        "![](https://upload.wikimedia.org/wikipedia/commons/7/70/Ellipse_axis.png)"
      ]
    },
    {
      "cell_type": "code",
      "metadata": {
        "cellView": "form",
        "id": "L-eku4j5vHf5",
        "outputId": "4565ecb7-a93f-4456-e124-dea28e0e0151",
        "colab": {
          "base_uri": "https://localhost:8080/",
          "height": 437
        }
      },
      "source": [
        "#@title 楕円と円錐の関係\n",
        "%%svg\n",
        "https://upload.wikimedia.org/wikipedia/commons/5/5f/Ellipse-conic.svg"
      ],
      "execution_count": null,
      "outputs": [
        {
          "output_type": "display_data",
          "data": {
            "text/plain": [
              "<IPython.core.display.SVG object>"
            ],
            "image/svg+xml": "<svg height=\"416\" width=\"432\" xmlns=\"http://www.w3.org/2000/svg\">\n<g fill=\"none\" stroke=\"#000\" stroke-width=\".6\">\n<path d=\"M354.6 217.2 417.8 333a175.9 60.6 0 1 1-345.6 0l63.2-115.8Z\" fill=\"#87CFFF\" stroke-width=\"2\"/>\n<path d=\"M250.6 53.5 419 155.8 177.8 381.1 9.4 278.8Z\" fill=\"#C5EEE0\"/>\n<path d=\"M72.2 333 245 14 417.8 333\"/>\n<ellipse cx=\"214.5\" cy=\"217.5\" fill=\"#FFE0E0\" rx=\"126\" ry=\"55\" stroke=\"red\" stroke-width=\"2\" transform=\"rotate(-38.5,214.5,217.5)\"/>\n<path d=\"M72.2 333a175.9 60.6 0 0 1 345.6 0\" stroke-dasharray=\"6\"/>\n</g>\n<circle cx=\"245\" cy=\"14\" r=\"3.3\"/>\n<circle cx=\"214.5\" cy=\"217.5\" r=\"3.3\"/>\n<circle cx=\"245\" cy=\"343.7\" r=\"3.3\"/>\n</svg>"
          },
          "metadata": {
            "tags": []
          }
        }
      ]
    },
    {
      "cell_type": "code",
      "metadata": {
        "cellView": "form",
        "id": "sumdlNuVvPwz",
        "outputId": "ce82ceb3-b645-4f54-a458-83a655448b25",
        "colab": {
          "base_uri": "https://localhost:8080/",
          "height": 493
        }
      },
      "source": [
        "#@title 円と楕円の関係\n",
        "https://upload.wikimedia.org/wikipedia/commons/7/78/Ellipse-var.svg"
      ],
      "execution_count": null,
      "outputs": [
        {
          "output_type": "display_data",
          "data": {
            "text/plain": [
              "<IPython.core.display.SVG object>"
            ],
            "image/svg+xml": "<svg height=\"471.59509\" id=\"svg3603\" inkscape:version=\"0.48.5 r10040\" sodipodi:docname=\"kegs.svg\" version=\"1.1\" viewBox=\"0 0 180.40107 377.27608\" width=\"225.50134\" xmlns=\"http://www.w3.org/2000/svg\" xmlns:cc=\"http://creativecommons.org/ns#\" xmlns:dc=\"http://purl.org/dc/elements/1.1/\" xmlns:inkscape=\"http://www.inkscape.org/namespaces/inkscape\" xmlns:rdf=\"http://www.w3.org/1999/02/22-rdf-syntax-ns#\" xmlns:sodipodi=\"http://sodipodi.sourceforge.net/DTD/sodipodi-0.dtd\" xmlns:svg=\"http://www.w3.org/2000/svg\" xmlns:xlink=\"http://www.w3.org/1999/xlink\">\n  <metadata id=\"metadata3762\">\n    <rdf:RDF>\n      <cc:Work rdf:about=\"\">\n        <dc:format>image/svg+xml</dc:format>\n        <dc:type rdf:resource=\"http://purl.org/dc/dcmitype/StillImage\"/>\n        <dc:title/>\n      </cc:Work>\n    </rdf:RDF>\n  </metadata>\n  <sodipodi:namedview bordercolor=\"#666666\" borderopacity=\"1\" fit-margin-bottom=\"2\" fit-margin-left=\"2\" fit-margin-right=\"2\" fit-margin-top=\"2\" gridtolerance=\"10\" guidetolerance=\"10\" id=\"namedview3760\" inkscape:current-layer=\"svg3603\" inkscape:cx=\"112.75067\" inkscape:cy=\"235.79755\" inkscape:pageopacity=\"0\" inkscape:pageshadow=\"2\" inkscape:window-height=\"573\" inkscape:window-maximized=\"0\" inkscape:window-width=\"1190\" inkscape:window-x=\"0\" inkscape:window-y=\"0\" inkscape:zoom=\"0.78033043\" objecttolerance=\"10\" pagecolor=\"#ffffff\" showgrid=\"false\" units=\"mm\"/>\n  <defs id=\"defs3605\">\n    <g id=\"g3607\">\n      <symbol id=\"glyph0-0\" overflow=\"visible\" style=\"overflow:visible\">\n        <path d=\"\" id=\"path3610\" inkscape:connector-curvature=\"0\" style=\"stroke:none\"/>\n      </symbol>\n      <symbol id=\"glyph0-1\" overflow=\"visible\" style=\"overflow:visible\">\n        <path d=\"m 3.546875,-3.890625 1.15625,0 c 0.90625,0 0.8125,0.046875 0.8125,0.40625 0,0.15625 -0.03125,0.3125 -0.09375,0.578125 0.03125,-0.0625 -0.03125,0.109375 -0.03125,0.140625 C 5.390625,-2.6875 5.609375,-2.5 5.6875,-2.5 5.78125,-2.5 5.953125,-2.6875 6,-2.875 L 6.6875,-5.671875 C 6.6875,-5.71875 6.5,-5.9375 6.421875,-5.9375 6.3125,-5.9375 6.125,-5.75 6.078125,-5.546875 c -0.25,0.890625 -0.3125,1 -1.359375,1 l -0.890625,0 0.734375,-2.9375 c 0.109375,-0.421875 -0.015625,-0.3125 0.46875,-0.3125 l 1.609375,0 c 1.484375,0 1.53125,0.296875 1.53125,1.15625 0,0.0625 0,0.3125 -0.03125,0.625 C 8.125,-5.96875 8.109375,-5.796875 8.109375,-5.75 c 0,0.09375 0.21875,0.28125 0.296875,0.28125 0.078125,0 0.28125,-0.203125 0.3125,-0.40625 l 0.25,-2.09375 c 0,-0.046875 0.015625,-0.15625 0.015625,-0.1875 0,-0.125 -0.265625,-0.28125 -0.46875,-0.28125 l -5.671875,0 c -0.21875,0 -0.515625,0.15625 -0.515625,0.375 0,0.125 0.25,0.265625 0.453125,0.265625 0.75,0 0.578125,-0.0625 0.578125,0.078125 0,0.0625 -0.015625,0.09375 -0.046875,0.21875 l -1.609375,6.453125 c -0.109375,0.421875 0.03125,0.40625 -0.8125,0.40625 -0.21875,0 -0.515625,0.15625 -0.515625,0.359375 C 0.375,-0.140625 0.65625,0 0.734375,0 0.953125,0 1.1875,-0.03125 1.421875,-0.03125 l 1.546875,0 C 3.234375,-0.03125 3.53125,0 3.796875,0 c 0.09375,0 0.40625,-0.140625 0.40625,-0.359375 0,-0.125 -0.234375,-0.28125 -0.5,-0.28125 -0.9375,0 -0.8125,0.0625 -0.8125,-0.109375 0,-0.0625 0.03125,-0.15625 0.046875,-0.234375 l 0.734375,-2.90625 z m 0,0\" id=\"path3613\" inkscape:connector-curvature=\"0\" style=\"stroke:none\"/>\n      </symbol>\n      <symbol id=\"glyph1-0\" overflow=\"visible\" style=\"overflow:visible\">\n        <path d=\"\" id=\"path3616\" inkscape:connector-curvature=\"0\" style=\"stroke:none\"/>\n      </symbol>\n      <symbol id=\"glyph1-1\" overflow=\"visible\" style=\"overflow:visible\">\n        <path d=\"m 2.375,-1.6875 c 0.125,-0.109375 0.46875,-0.375 0.59375,-0.484375 0.484375,-0.453125 1.015625,-1.03125 1.015625,-1.75 0,-0.953125 -0.984375,-1.75 -1.96875,-1.75 -0.96875,0 -1.78125,0.921875 -1.78125,1.625 0,0.390625 0.5,0.625 0.609375,0.625 0.171875,0 0.59375,-0.296875 0.59375,-0.609375 0,-0.40625 -0.578125,-0.59375 -0.421875,-0.59375 0.15625,-0.390625 0.515625,-0.40625 0.90625,-0.40625 0.734375,0 0.9375,0.4375 0.9375,1.109375 0,0.828125 -0.53125,1.3125 -1.46875,2.265625 L 0.375,-0.609375 C 0.28125,-0.53125 0.234375,-0.375 0.234375,0 l 3.484375,0 0.296875,-1.796875 -0.625,0 c -0.046875,0.34375 -0.0625,0.625 -0.15625,0.765625 C 3.1875,-0.96875 2.71875,-1.015625 2.59375,-1.015625 l -1.421875,0 0.125,0.3125 z m 0,0\" id=\"path3619\" inkscape:connector-curvature=\"0\" style=\"stroke:none\"/>\n      </symbol>\n      <symbol id=\"glyph1-2\" overflow=\"visible\" style=\"overflow:visible\">\n        <path d=\"m 2.6875,-5.265625 c 0,-0.203125 -0.203125,-0.40625 -0.5,-0.40625 -0.375,0.375 -0.671875,0.515625 -1.609375,0.515625 l 0,0.625 c 0.40625,0 0.828125,0 1.109375,-0.125 l 0,3.8125 c 0,0.296875 0.15625,0.21875 -0.59375,0.21875 l -0.46875,0 0,0.640625 C 1.140625,-0.03125 1.828125,-0.03125 2.1875,-0.03125 c 0.359375,0 1.046875,0 1.5625,0.046875 l 0,-0.640625 -0.46875,0 c -0.75,0 -0.59375,0.078125 -0.59375,-0.21875 z m 0,0\" id=\"path3622\" inkscape:connector-curvature=\"0\" style=\"stroke:none\"/>\n      </symbol>\n      <symbol id=\"glyph2-0\" overflow=\"visible\" style=\"overflow:visible\">\n        <path d=\"\" id=\"path3625\" inkscape:connector-curvature=\"0\" style=\"stroke:none\"/>\n      </symbol>\n      <symbol id=\"glyph2-1\" overflow=\"visible\" style=\"overflow:visible\">\n        <path d=\"m 8.0625,-3.875 c 0.171875,0 0.546875,-0.140625 0.546875,-0.359375 0,-0.21875 -0.359375,-0.375 -0.546875,-0.375 l -7.03125,0 c -0.171875,0 -0.546875,0.15625 -0.546875,0.359375 0,0.234375 0.359375,0.375 0.546875,0.375 z m 0,2.21875 c 0.171875,0 0.546875,-0.140625 0.546875,-0.359375 0,-0.21875 -0.359375,-0.375 -0.546875,-0.375 l -7.03125,0 c -0.171875,0 -0.546875,0.15625 -0.546875,0.375 0,0.21875 0.359375,0.359375 0.546875,0.359375 z m 0,0\" id=\"path3628\" inkscape:connector-curvature=\"0\" style=\"stroke:none\"/>\n      </symbol>\n    </g>\n    <clipPath id=\"clip1\">\n      <path d=\"m 207.60156,320 170,0 0,2 -170,0 z m 0,0\" id=\"path3631\" inkscape:connector-curvature=\"0\"/>\n    </clipPath>\n    <clipPath id=\"clip2\">\n      <path d=\"m 207.60156,176 170,0 0,1 -170,0 z m 0,0\" id=\"path3634\" inkscape:connector-curvature=\"0\"/>\n    </clipPath>\n    <clipPath id=\"clip3\">\n      <path d=\"m 292,92 1,0 0,366.37891 -1,0 z m 0,0\" id=\"path3637\" inkscape:connector-curvature=\"0\"/>\n    </clipPath>\n    <clipPath id=\"clip4\">\n      <path d=\"m 207.60156,418 170,0 0,1 -170,0 z m 0,0\" id=\"path3640\" inkscape:connector-curvature=\"0\"/>\n    </clipPath>\n    <clipPath id=\"clip5\">\n      <path d=\"m 207.60156,243 170,0 0,156 -170,0 z m 0,0\" id=\"path3643\" inkscape:connector-curvature=\"0\"/>\n    </clipPath>\n    <clipPath id=\"clip6\">\n      <path d=\"m 207.60156,91.257812 170,0 0,178.742188 -170,0 z m 0,0\" id=\"path3646\" inkscape:connector-curvature=\"0\"/>\n    </clipPath>\n    <clipPath id=\"clip7\">\n      <path d=\"m 207.60156,372 170,0 0,86.37891 -170,0 z m 0,0\" id=\"path3649\" inkscape:connector-curvature=\"0\"/>\n    </clipPath>\n  </defs>\n  <g id=\"surface1\" transform=\"translate(-202.28384,-86.443989)\">\n    <g clip-path=\"url(#clip1)\" clip-rule=\"nonzero\" id=\"g3652\">\n      <path d=\"m 2081.0938,5209.8047 1687.5,0\" id=\"path3654\" inkscape:connector-curvature=\"0\" style=\"fill:none;stroke:#000000;stroke-width:3.12498999;stroke-linecap:butt;stroke-linejoin:miter;stroke-miterlimit:10;stroke-opacity:1;stroke-dasharray:49.9998, 24.9999, 6.24998, 24.9999\" transform=\"matrix(0.1,0,0,-0.1,0,842)\"/>\n    </g>\n    <g clip-path=\"url(#clip2)\" clip-rule=\"nonzero\" id=\"g3656\">\n      <path d=\"m 2081.0938,6653.5547 1687.5,0\" id=\"path3658\" inkscape:connector-curvature=\"0\" style=\"fill:none;stroke:#000000;stroke-width:3.12498999;stroke-linecap:butt;stroke-linejoin:miter;stroke-miterlimit:10;stroke-opacity:1;stroke-dasharray:49.9998, 24.9999, 6.24998, 24.9999\" transform=\"matrix(0.1,0,0,-0.1,0,842)\"/>\n    </g>\n    <g clip-path=\"url(#clip3)\" clip-rule=\"nonzero\" id=\"g3660\">\n      <path d=\"m 2924.8438,7497.3047 0,-3656.25\" id=\"path3662\" inkscape:connector-curvature=\"0\" style=\"fill:none;stroke:#000000;stroke-width:3.12498999;stroke-linecap:butt;stroke-linejoin:miter;stroke-miterlimit:10;stroke-opacity:1;stroke-dasharray:49.9998, 24.9999, 6.24998, 24.9999\" transform=\"matrix(0.1,0,0,-0.1,0,842)\"/>\n    </g>\n    <g clip-path=\"url(#clip4)\" clip-rule=\"nonzero\" id=\"g3664\">\n      <path d=\"m 2081.0938,4234.8047 1687.5,0\" id=\"path3666\" inkscape:connector-curvature=\"0\" style=\"fill:none;stroke:#000000;stroke-width:3.12498999;stroke-linecap:butt;stroke-linejoin:miter;stroke-miterlimit:10;stroke-opacity:1;stroke-dasharray:49.9998, 24.9999, 6.24998, 24.9999\" transform=\"matrix(0.1,0,0,-0.1,0,842)\"/>\n    </g>\n    <path d=\"m 294.32031,176.72656 c 0,1.03516 -0.83984,1.875 -1.875,1.875 -1.03515,0 -1.875,-0.83984 -1.875,-1.875 0,-1.03515 0.83985,-1.875 1.875,-1.875 1.03516,0 1.875,0.83985 1.875,1.875\" id=\"path3668\" inkscape:connector-curvature=\"0\" style=\"fill:#0000ff;fill-opacity:1;fill-rule:evenodd;stroke:none\"/>\n    <path d=\"m 2943.2031,6652.7344 c 0,-10.3516 -8.3984,-18.75 -18.75,-18.75 -10.3515,0 -18.75,8.3984 -18.75,18.75 0,10.3515 8.3985,18.75 18.75,18.75 10.3516,0 18.75,-8.3985 18.75,-18.75 z m 0,0\" id=\"path3670\" inkscape:connector-curvature=\"0\" style=\"fill:none;stroke:#0000ff;stroke-width:3.12498999;stroke-linecap:butt;stroke-linejoin:miter;stroke-miterlimit:10;stroke-opacity:1\" transform=\"matrix(0.1,0,0,-0.1,0,842)\"/>\n    <path d=\"m 364.32031,418.51953 c 0,1.03516 -0.83984,1.875 -1.875,1.875 -1.03515,0 -1.875,-0.83984 -1.875,-1.875 0,-1.03516 0.83985,-1.875 1.875,-1.875 1.03516,0 1.875,0.83984 1.875,1.875\" id=\"path3672\" inkscape:connector-curvature=\"0\" style=\"fill:#0000ff;fill-opacity:1;fill-rule:evenodd;stroke:none\"/>\n    <path d=\"m 3643.2031,4234.8047 c 0,-10.3516 -8.3984,-18.75 -18.75,-18.75 -10.3515,0 -18.75,8.3984 -18.75,18.75 0,10.3515 8.3985,18.75 18.75,18.75 10.3516,0 18.75,-8.3985 18.75,-18.75 z m 0,0\" id=\"path3674\" inkscape:connector-curvature=\"0\" style=\"fill:none;stroke:#0000ff;stroke-width:3.12498999;stroke-linecap:butt;stroke-linejoin:miter;stroke-miterlimit:10;stroke-opacity:1\" transform=\"matrix(0.1,0,0,-0.1,0,842)\"/>\n    <path d=\"m 294.35937,321.01953 c 0,1.03516 -0.83984,1.875 -1.875,1.875 -1.03515,0 -1.875,-0.83984 -1.875,-1.875 0,-1.03516 0.83985,-1.875 1.875,-1.875 1.03516,0 1.875,0.83984 1.875,1.875\" id=\"path3676\" inkscape:connector-curvature=\"0\" style=\"fill:#000000;fill-opacity:1;fill-rule:evenodd;stroke:none\"/>\n    <path d=\"m 2943.5938,5209.8047 c 0,-10.3516 -8.3985,-18.75 -18.75,-18.75 -10.3516,0 -18.75,8.3984 -18.75,18.75 0,10.3515 8.3984,18.75 18.75,18.75 10.3515,0 18.75,-8.3985 18.75,-18.75 z m 0,0\" id=\"path3678\" inkscape:connector-curvature=\"0\" style=\"fill:none;stroke:#000000;stroke-width:3.12498999;stroke-linecap:butt;stroke-linejoin:miter;stroke-miterlimit:10;stroke-opacity:1\" transform=\"matrix(0.1,0,0,-0.1,0,842)\"/>\n    <path d=\"m 250.82031,321.10156 c 0,1.03516 -0.83984,1.875 -1.875,1.875 -1.03515,0 -1.875,-0.83984 -1.875,-1.875 0,-1.03515 0.83985,-1.875 1.875,-1.875 1.03516,0 1.875,0.83985 1.875,1.875\" id=\"path3680\" inkscape:connector-curvature=\"0\" style=\"fill:#0000ff;fill-opacity:1;fill-rule:evenodd;stroke:none\"/>\n    <path d=\"m 2508.2031,5208.9844 c 0,-10.3516 -8.3984,-18.75 -18.75,-18.75 -10.3515,0 -18.75,8.3984 -18.75,18.75 0,10.3515 8.3985,18.75 18.75,18.75 10.3516,0 18.75,-8.3985 18.75,-18.75 z m 0,0\" id=\"path3682\" inkscape:connector-curvature=\"0\" style=\"fill:none;stroke:#0000ff;stroke-width:3.12498999;stroke-linecap:butt;stroke-linejoin:miter;stroke-miterlimit:10;stroke-opacity:1\" transform=\"matrix(0.1,0,0,-0.1,0,842)\"/>\n    <path d=\"m 337.40234,321.10156 c 0,1.03516 -0.83984,1.875 -1.875,1.875 -1.03515,0 -1.875,-0.83984 -1.875,-1.875 0,-1.03515 0.83985,-1.875 1.875,-1.875 1.03516,0 1.875,0.83985 1.875,1.875\" id=\"path3684\" inkscape:connector-curvature=\"0\" style=\"fill:#0000ff;fill-opacity:1;fill-rule:evenodd;stroke:none\"/>\n    <path d=\"m 3374.0234,5208.9844 c 0,-10.3516 -8.3984,-18.75 -18.75,-18.75 -10.3515,0 -18.75,8.3984 -18.75,18.75 0,10.3515 8.3985,18.75 18.75,18.75 10.3516,0 18.75,-8.3985 18.75,-18.75 z m 0,0\" id=\"path3686\" inkscape:connector-curvature=\"0\" style=\"fill:none;stroke:#0000ff;stroke-width:3.12498999;stroke-linecap:butt;stroke-linejoin:miter;stroke-miterlimit:10;stroke-opacity:1\" transform=\"matrix(0.1,0,0,-0.1,0,842)\"/>\n    <g clip-path=\"url(#clip5)\" clip-rule=\"nonzero\" id=\"g3688\">\n      <path d=\"m 3674.8438,5209.8047 c 0,-331.3672 -335.7813,-600 -750,-600 -414.1797,0 -750,268.6328 -750,600 0,331.3672 335.8203,600 750,600 414.2187,0 750,-268.6328 750,-600 z m 0,0\" id=\"path3690\" inkscape:connector-curvature=\"0\" style=\"fill:none;stroke:#ff0000;stroke-width:12.5;stroke-linecap:butt;stroke-linejoin:miter;stroke-miterlimit:10;stroke-opacity:1\" transform=\"matrix(0.1,0,0,-0.1,0,842)\"/>\n    </g>\n    <g clip-path=\"url(#clip6)\" clip-rule=\"nonzero\" id=\"g3692\">\n      <path d=\"m 3674.8438,6653.5547 c 0,-414.2188 -335.7813,-750 -750,-750 -414.1797,0 -750,335.7812 -750,750 0,414.2187 335.8203,750 750,750 414.2187,0 750,-335.7813 750,-750 z m 0,0\" id=\"path3694\" inkscape:connector-curvature=\"0\" style=\"fill:none;stroke:#ff0000;stroke-width:12.5;stroke-linecap:butt;stroke-linejoin:miter;stroke-miterlimit:10;stroke-opacity:1\" transform=\"matrix(0.1,0,0,-0.1,0,842)\"/>\n    </g>\n    <g clip-path=\"url(#clip7)\" clip-rule=\"nonzero\" id=\"g3696\">\n      <path d=\"m 3674.8438,4234.8047 c 0,-155.3125 -335.7813,-281.25 -750,-281.25 -414.1797,0 -750,125.9375 -750,281.25 0,155.3515 335.8203,281.25 750,281.25 414.2187,0 750,-125.8985 750,-281.25 z m 0,0\" id=\"path3698\" inkscape:connector-curvature=\"0\" style=\"fill:none;stroke:#ff0000;stroke-width:12.5;stroke-linecap:butt;stroke-linejoin:miter;stroke-miterlimit:10;stroke-opacity:1\" transform=\"matrix(0.1,0,0,-0.1,0,842)\"/>\n    </g>\n    <path d=\"m 224.32031,418.51953 c 0,1.03516 -0.83984,1.875 -1.875,1.875 -1.03515,0 -1.875,-0.83984 -1.875,-1.875 0,-1.03516 0.83985,-1.875 1.875,-1.875 1.03516,0 1.875,0.83984 1.875,1.875\" id=\"path3700\" inkscape:connector-curvature=\"0\" style=\"fill:#0000ff;fill-opacity:1;fill-rule:evenodd;stroke:none\"/>\n    <path d=\"m 2243.2031,4234.8047 c 0,-10.3516 -8.3984,-18.75 -18.75,-18.75 -10.3515,0 -18.75,8.3984 -18.75,18.75 0,10.3515 8.3985,18.75 18.75,18.75 10.3516,0 18.75,-8.3985 18.75,-18.75 z m 0,0\" id=\"path3702\" inkscape:connector-curvature=\"0\" style=\"fill:none;stroke:#0000ff;stroke-width:3.12498999;stroke-linecap:butt;stroke-linejoin:miter;stroke-miterlimit:10;stroke-opacity:1\" transform=\"matrix(0.1,0,0,-0.1,0,842)\"/>\n    <path d=\"m 294.35937,418.51953 c 0,1.03516 -0.83984,1.875 -1.875,1.875 -1.03515,0 -1.875,-0.83984 -1.875,-1.875 0,-1.03516 0.83985,-1.875 1.875,-1.875 1.03516,0 1.875,0.83984 1.875,1.875\" id=\"path3704\" inkscape:connector-curvature=\"0\" style=\"fill:#000000;fill-opacity:1;fill-rule:evenodd;stroke:none\"/>\n    <path d=\"m 2943.5938,4234.8047 c 0,-10.3516 -8.3985,-18.75 -18.75,-18.75 -10.3516,0 -18.75,8.3984 -18.75,18.75 0,10.3515 8.3984,18.75 18.75,18.75 10.3515,0 18.75,-8.3985 18.75,-18.75 z m 0,0\" id=\"path3706\" inkscape:connector-curvature=\"0\" style=\"fill:none;stroke:#000000;stroke-width:3.12498999;stroke-linecap:butt;stroke-linejoin:miter;stroke-miterlimit:10;stroke-opacity:1\" transform=\"matrix(0.1,0,0,-0.1,0,842)\"/>\n    <g id=\"g3708\" style=\"fill:#0000ff;fill-opacity:1\">\n      <use height=\"842\" id=\"use3710\" width=\"595\" x=\"271.98801\" xlink:href=\"#glyph0-1\" y=\"191.644\"/>\n    </g>\n    <g id=\"g3712\" style=\"fill:#0000ff;fill-opacity:1\">\n      <use height=\"842\" id=\"use3714\" width=\"595\" x=\"279.54816\" xlink:href=\"#glyph1-1\" y=\"193.444\"/>\n    </g>\n    <g id=\"g3716\" style=\"fill:#0000ff;fill-opacity:1\">\n      <use height=\"842\" id=\"use3718\" width=\"595\" x=\"287.58801\" xlink:href=\"#glyph2-1\" y=\"191.644\"/>\n    </g>\n    <g id=\"g3720\" style=\"fill:#0000ff;fill-opacity:1\">\n      <use height=\"842\" id=\"use3722\" width=\"595\" x=\"300.06812\" xlink:href=\"#glyph0-1\" y=\"191.644\"/>\n    </g>\n    <g id=\"g3724\" style=\"fill:#0000ff;fill-opacity:1\">\n      <use height=\"842\" id=\"use3726\" width=\"595\" x=\"307.62827\" xlink:href=\"#glyph1-2\" y=\"193.444\"/>\n    </g>\n    <g id=\"g3728\" style=\"fill:#0000ff;fill-opacity:1\">\n      <use height=\"842\" id=\"use3730\" width=\"595\" x=\"350.73807\" xlink:href=\"#glyph0-1\" y=\"427.89401\"/>\n    </g>\n    <g id=\"g3732\" style=\"fill:#0000ff;fill-opacity:1\">\n      <use height=\"842\" id=\"use3734\" width=\"595\" x=\"358.29782\" xlink:href=\"#glyph1-2\" y=\"429.694\"/>\n    </g>\n    <g id=\"g3736\" style=\"fill:#0000ff;fill-opacity:1\">\n      <use height=\"842\" id=\"use3738\" width=\"595\" x=\"331.98804\" xlink:href=\"#glyph0-1\" y=\"336.01901\"/>\n    </g>\n    <g id=\"g3740\" style=\"fill:#0000ff;fill-opacity:1\">\n      <use height=\"842\" id=\"use3742\" width=\"595\" x=\"339.54779\" xlink:href=\"#glyph1-2\" y=\"337.819\"/>\n    </g>\n    <g id=\"g3744\" style=\"fill:#0000ff;fill-opacity:1\">\n      <use height=\"842\" id=\"use3746\" width=\"595\" x=\"225.1138\" xlink:href=\"#glyph0-1\" y=\"427.89359\"/>\n    </g>\n    <g id=\"g3748\" style=\"fill:#0000ff;fill-opacity:1\">\n      <use height=\"842\" id=\"use3750\" width=\"595\" x=\"232.67357\" xlink:href=\"#glyph1-1\" y=\"429.6936\"/>\n    </g>\n    <g id=\"g3752\" style=\"fill:#0000ff;fill-opacity:1\">\n      <use height=\"842\" id=\"use3754\" width=\"595\" x=\"245.73837\" xlink:href=\"#glyph0-1\" y=\"336.01901\"/>\n    </g>\n    <g id=\"g3756\" style=\"fill:#0000ff;fill-opacity:1\">\n      <use height=\"842\" id=\"use3758\" width=\"595\" x=\"253.29852\" xlink:href=\"#glyph1-1\" y=\"337.819\"/>\n    </g>\n  </g>\n</svg>"
          },
          "metadata": {
            "tags": []
          }
        }
      ]
    },
    {
      "cell_type": "markdown",
      "metadata": {
        "id": "kHwq-nzP1iva"
      },
      "source": [
        "## 天体観測"
      ]
    },
    {
      "cell_type": "code",
      "metadata": {
        "cellView": "form",
        "id": "6AullxPQ0-uc",
        "outputId": "d072d2fb-40c5-4cab-e806-933c1727a7d1",
        "colab": {
          "base_uri": "https://localhost:8080/",
          "height": 336
        }
      },
      "source": [
        "#@title 木星と土星の超大接近\n",
        "%%html\n",
        "<iframe width=\"560\" height=\"315\" src=\"https://www.youtube-nocookie.com/embed/yvQgisEBql0?start=152\" frameborder=\"0\" allow=\"accelerometer; autoplay; clipboard-write; encrypted-media; gyroscope; picture-in-picture\" allowfullscreen></iframe>"
      ],
      "execution_count": null,
      "outputs": [
        {
          "output_type": "display_data",
          "data": {
            "text/html": [
              "<iframe width=\"560\" height=\"315\" src=\"https://www.youtube-nocookie.com/embed/yvQgisEBql0?start=152\" frameborder=\"0\" allow=\"accelerometer; autoplay; clipboard-write; encrypted-media; gyroscope; picture-in-picture\" allowfullscreen></iframe>"
            ],
            "text/plain": [
              "<IPython.core.display.HTML object>"
            ]
          },
          "metadata": {
            "tags": []
          }
        }
      ]
    },
    {
      "cell_type": "markdown",
      "metadata": {
        "id": "_iQ1Q3yy1VxQ"
      },
      "source": [
        "[2020年12月 木星と土星の超大接近 - アストロアーツ](http://www.astroarts.co.jp/special/2020jupiter_saturn/index-j.shtml)"
      ]
    },
    {
      "cell_type": "markdown",
      "metadata": {
        "id": "tGHtdK7mNgy6"
      },
      "source": [
        "![](https://spaceinfo.jaxa.jp/files/20297.jpg)"
      ]
    }
  ]
}