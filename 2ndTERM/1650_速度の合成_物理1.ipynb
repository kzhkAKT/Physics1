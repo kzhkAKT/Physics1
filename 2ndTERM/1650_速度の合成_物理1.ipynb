{
  "nbformat": 4,
  "nbformat_minor": 0,
  "metadata": {
    "colab": {
      "name": "1650_速度の合成_物理1",
      "provenance": [],
      "collapsed_sections": [],
      "toc_visible": true,
      "authorship_tag": "ABX9TyPAHncm8ZxjHMwNjH8gNd81",
      "include_colab_link": true
    },
    "kernelspec": {
      "name": "python3",
      "display_name": "Python 3"
    }
  },
  "cells": [
    {
      "cell_type": "markdown",
      "metadata": {
        "id": "view-in-github",
        "colab_type": "text"
      },
      "source": [
        "<a href=\"https://colab.research.google.com/github/kzhkAKT/Physics1/blob/draft/2ndTERM/1650_%E9%80%9F%E5%BA%A6%E3%81%AE%E5%90%88%E6%88%90_%E7%89%A9%E7%90%861.ipynb\" target=\"_parent\"><img src=\"https://colab.research.google.com/assets/colab-badge.svg\" alt=\"Open In Colab\"/></a>"
      ]
    },
    {
      "cell_type": "markdown",
      "metadata": {
        "id": "PZo0KOeN0Jk3"
      },
      "source": [
        "# 平面空間での運動"
      ]
    },
    {
      "cell_type": "markdown",
      "metadata": {
        "id": "w-T6118aT_vg"
      },
      "source": [
        "## 位置, 変位, 速度, 加速度"
      ]
    },
    {
      "cell_type": "markdown",
      "metadata": {
        "id": "kqQ9PM89aZlm"
      },
      "source": [
        "**ベクトル** とは明示していなくても,\n",
        "ベクトルとして扱っていることもあります."
      ]
    },
    {
      "cell_type": "markdown",
      "metadata": {
        "id": "JVy80q-bUI27"
      },
      "source": [
        "### 位置 $: \\quad x \\to \\vec{r}\\quad:$ 位置ベクトル\n",
        "\n"
      ]
    },
    {
      "cell_type": "markdown",
      "metadata": {
        "id": "4JW2d80RUS7K"
      },
      "source": [
        "物体の位置について, 次のを満たすもの **位置ベクトル** といいます\n",
        "1. 座標の原点(測定開始点/出発点)を始点\n",
        "2. ある時刻における物体の位置を終点\n",
        "\n",
        "二次元平面なら\n",
        "\\begin{align*}\n",
        "\\vec{r} = (x,y)\n",
        "\\end{align*}"
      ]
    },
    {
      "cell_type": "markdown",
      "metadata": {
        "id": "H9n8f9qkWPpR"
      },
      "source": [
        "### 変位 $:\\quad \\Delta x \\to \\Delta \\vec{r}\\quad:$ 変位ベクトル"
      ]
    },
    {
      "cell_type": "markdown",
      "metadata": {
        "id": "YuLNIUctUqDn"
      },
      "source": [
        "\n",
        "\n",
        "ある物体について時間的に\n",
        "1. 初めの位置を **1**\n",
        "2. 後の位置を **2**\n",
        "\n",
        "とします.\n",
        "\n",
        "一次元の変位 $\\Delta x$ \n",
        "\\begin{align*}\n",
        "\\Delta x &= x_2 - x_1\n",
        "\\end{align*}\n",
        "\n",
        "二次元(三次元)の変位 $\\Delta \\vec{r}$ \n",
        "\\begin{align*}\n",
        "\\Delta \\vec{r}\n",
        "&= \\vec{r}_2 - \\vec{r}_1\\\\[3mm]\n",
        "&= \\left( x_2 - x_1, y_2 - y_1 \\right)\n",
        "\\end{align*}"
      ]
    },
    {
      "cell_type": "markdown",
      "metadata": {
        "id": "O8vbabgzZ27Q"
      },
      "source": [
        "### (瞬間の)速度 $:\\quad v \\to \\vec{v}\\quad:$ (瞬間の)速度ベクトル"
      ]
    },
    {
      "cell_type": "markdown",
      "metadata": {
        "id": "iSagQ-WhaFqp"
      },
      "source": [
        "### (瞬間の)加速度 $:\\quad a \\to \\vec{a}\\quad:$ (瞬間の)加速度ベクトル"
      ]
    },
    {
      "cell_type": "markdown",
      "metadata": {
        "id": "AdfsWhXgF1NM"
      },
      "source": [
        "## 速度の合成\n"
      ]
    },
    {
      "cell_type": "markdown",
      "metadata": {
        "id": "PSyv8Tc_SMrG"
      },
      "source": [
        "速度**ベクトル**の加法"
      ]
    },
    {
      "cell_type": "code",
      "metadata": {
        "id": "0M-eI5mUTn7e",
        "cellView": "form",
        "outputId": "fdeb82d9-dfd3-4e35-e59c-95bfed6a0510",
        "colab": {
          "base_uri": "https://localhost:8080/",
          "height": 336
        }
      },
      "source": [
        "#@title 合成速度/教子の部屋\n",
        "%%html\n",
        "<iframe width=\"560\" height=\"315\" src=\"https://www.youtube-nocookie.com/embed/rmiwIsUcyfA\" frameborder=\"0\" allow=\"accelerometer; autoplay; clipboard-write; encrypted-media; gyroscope; picture-in-picture\" allowfullscreen></iframe>"
      ],
      "execution_count": 3,
      "outputs": [
        {
          "output_type": "display_data",
          "data": {
            "text/html": [
              "<iframe width=\"560\" height=\"315\" src=\"https://www.youtube-nocookie.com/embed/rmiwIsUcyfA\" frameborder=\"0\" allow=\"accelerometer; autoplay; clipboard-write; encrypted-media; gyroscope; picture-in-picture\" allowfullscreen></iframe>"
            ],
            "text/plain": [
              "<IPython.core.display.HTML object>"
            ]
          },
          "metadata": {
            "tags": []
          }
        }
      ]
    },
    {
      "cell_type": "markdown",
      "metadata": {
        "id": "fSqAUTmyTNA-"
      },
      "source": [
        "http://physics7.starfree.jp/phy/mecha/index.html"
      ]
    },
    {
      "cell_type": "markdown",
      "metadata": {
        "id": "JbZxdCDLa9Tr"
      },
      "source": [
        "> Q. 教科書 p55 例題1.24に取り組んでください."
      ]
    }
  ]
}