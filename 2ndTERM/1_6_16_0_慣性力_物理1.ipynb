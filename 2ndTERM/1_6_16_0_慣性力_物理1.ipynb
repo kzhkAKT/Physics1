{
  "nbformat": 4,
  "nbformat_minor": 0,
  "metadata": {
    "colab": {
      "name": "1_6_16_0_慣性力_物理1",
      "provenance": [],
      "collapsed_sections": [],
      "toc_visible": true,
      "authorship_tag": "ABX9TyMVBi5lBZWbebPw4OPc3f/z",
      "include_colab_link": true
    },
    "kernelspec": {
      "name": "python3",
      "display_name": "Python 3"
    }
  },
  "cells": [
    {
      "cell_type": "markdown",
      "metadata": {
        "id": "view-in-github",
        "colab_type": "text"
      },
      "source": [
        "<a href=\"https://colab.research.google.com/github/kzhkAKT/Physics1/blob/draft/2ndTERM/1_6_16_0_%E6%85%A3%E6%80%A7%E5%8A%9B_%E7%89%A9%E7%90%861.ipynb\" target=\"_parent\"><img src=\"https://colab.research.google.com/assets/colab-badge.svg\" alt=\"Open In Colab\"/></a>"
      ]
    },
    {
      "cell_type": "markdown",
      "metadata": {
        "id": "PZo0KOeN0Jk3"
      },
      "source": [
        "# 平面空間での運動"
      ]
    },
    {
      "cell_type": "markdown",
      "metadata": {
        "id": "5BC0Y2oBwHX7"
      },
      "source": [
        "## 慣性力"
      ]
    },
    {
      "cell_type": "code",
      "metadata": {
        "colab": {
          "base_uri": "https://localhost:8080/",
          "height": 336
        },
        "cellView": "form",
        "id": "AohqZNjJvXDl",
        "outputId": "17b05d44-a693-41a0-d900-fb4e9146e91f"
      },
      "source": [
        "#@title もっとも簡単な慣性力の実演(やってはいけません)\n",
        "%%html\n",
        "<iframe width=\"560\" height=\"315\" src=\"https://www.youtube-nocookie.com/embed/uSKxSfZHSkE\" frameborder=\"0\" allow=\"accelerometer; autoplay; clipboard-write; encrypted-media; gyroscope; picture-in-picture\" allowfullscreen></iframe>"
      ],
      "execution_count": null,
      "outputs": [
        {
          "output_type": "display_data",
          "data": {
            "text/html": [
              "<iframe width=\"560\" height=\"315\" src=\"https://www.youtube-nocookie.com/embed/uSKxSfZHSkE\" frameborder=\"0\" allow=\"accelerometer; autoplay; clipboard-write; encrypted-media; gyroscope; picture-in-picture\" allowfullscreen></iframe>"
            ],
            "text/plain": [
              "<IPython.core.display.HTML object>"
            ]
          },
          "metadata": {
            "tags": []
          }
        }
      ]
    },
    {
      "cell_type": "markdown",
      "metadata": {
        "id": "V9DkfPfvwvRL"
      },
      "source": [
        "この実演から次のことが分かります．  \n",
        "(椅子に乗った人には摩擦力が働かないことに注意して)\n",
        "\n",
        "1. 電車の __外側__ のホームから椅子の人を観察すれば，  \n",
        "椅子の人は __静止__ して見えます．  \n",
        "(これはホームと椅子の位置が変わっていないことでわかります）\n",
        "\n",
        "1. 電車の **内側** の _加速する_ 電車と共に動くカメラマンから椅子の人を観察すれば，  \n",
        "椅子の人は _電車の加速度とは_ **逆**の方向に力を受け加速して見えます．\n"
      ]
    },
    {
      "cell_type": "markdown",
      "metadata": {
        "id": "kXk8r7M7zzWU"
      },
      "source": [
        "- 慣性系:: 電車のホームからの観測のように，静止(または等速直線運動)してい人から，物体を観測すること\n",
        "\n",
        "- 非慣性系:: 電車の中のカメラマンのように，加速度運動する人から，物体を観測すること\n",
        "\n",
        "特に，\n",
        "> **非慣性系から** 物体を観測すると，  \n",
        "> 物体は観測者の加速度とはちょうど \n",
        "> **逆向きの加速度** を持つ\n",
        "\n",
        "ことが分かります．いま物体の質量を $m$ とし，運動方程式を利用すると\n",
        "\n",
        ">> **非慣性系から** 物体を観測すると， \n",
        ">> 物体は観測者の加速度とは   \n",
        ">> 1. **逆向きの方向に**\n",
        ">> 2. 大きさ $\\quad \\left| \\vec{F} \\right| = m a $  \n",
        ">>\n",
        ">> _見かけの力_ を受けているように見えます．\n",
        "\n",
        "> 非慣性系から物体を観察したときに，働くこのような力を **慣性力** $f_{\\rm fictious}$といいます．"
      ]
    },
    {
      "cell_type": "markdown",
      "metadata": {
        "id": "jWoiJBAz9glk"
      },
      "source": [
        "これまでの考察から，列車の加速度を方向も含めて $\\vec{a}$ で表すと，非慣性系での観測物体の質量を $m$ とすると\n",
        "慣性力 $\\vec{f}_{\\rm fictious}$ は\n",
        "\n",
        "> \\begin{align}\n",
        "\\vec{f}_{\\rm fictious} = - m \\vec{a} \n",
        "\\end{align}\n",
        "\n",
        "となります"
      ]
    },
    {
      "cell_type": "code",
      "metadata": {
        "colab": {
          "base_uri": "https://localhost:8080/",
          "height": 336
        },
        "cellView": "form",
        "id": "WMbnep7IwAT8",
        "outputId": "b77da4af-7979-4425-92a0-eb9eac6013ba"
      },
      "source": [
        "#@title 慣性力の例1\n",
        "%%html\n",
        "<iframe width=\"560\" height=\"315\" src=\"https://www.youtube-nocookie.com/embed/8gBBGb_isAs\" frameborder=\"0\" allow=\"accelerometer; autoplay; clipboard-write; encrypted-media; gyroscope; picture-in-picture\" allowfullscreen></iframe>"
      ],
      "execution_count": null,
      "outputs": [
        {
          "output_type": "display_data",
          "data": {
            "text/html": [
              "<iframe width=\"560\" height=\"315\" src=\"https://www.youtube-nocookie.com/embed/8gBBGb_isAs\" frameborder=\"0\" allow=\"accelerometer; autoplay; clipboard-write; encrypted-media; gyroscope; picture-in-picture\" allowfullscreen></iframe>"
            ],
            "text/plain": [
              "<IPython.core.display.HTML object>"
            ]
          },
          "metadata": {
            "tags": []
          }
        }
      ]
    },
    {
      "cell_type": "code",
      "metadata": {
        "colab": {
          "base_uri": "https://localhost:8080/",
          "height": 336
        },
        "cellView": "form",
        "id": "WL1_D20h361s",
        "outputId": "594140a7-ee0d-44d9-8360-1b1d2686def8"
      },
      "source": [
        "#@title 慣性力の例2\n",
        "%%html\n",
        "<iframe width=\"560\" height=\"315\" src=\"https://www.youtube-nocookie.com/embed/FMi_m9-e9MU?start=50\" frameborder=\"0\" allow=\"accelerometer; autoplay; clipboard-write; encrypted-media; gyroscope; picture-in-picture\" allowfullscreen></iframe>"
      ],
      "execution_count": null,
      "outputs": [
        {
          "output_type": "display_data",
          "data": {
            "text/html": [
              "<iframe width=\"560\" height=\"315\" src=\"https://www.youtube-nocookie.com/embed/FMi_m9-e9MU?start=50\" frameborder=\"0\" allow=\"accelerometer; autoplay; clipboard-write; encrypted-media; gyroscope; picture-in-picture\" allowfullscreen></iframe>"
            ],
            "text/plain": [
              "<IPython.core.display.HTML object>"
            ]
          },
          "metadata": {
            "tags": []
          }
        }
      ]
    },
    {
      "cell_type": "markdown",
      "metadata": {
        "id": "odrtU2v042V5"
      },
      "source": [
        "#### 慣性系/非慣性系からの振り子の観察"
      ]
    },
    {
      "cell_type": "markdown",
      "metadata": {
        "id": "FfGL5jif5eQS"
      },
      "source": [
        "電車は加速度 $a$ で等加速度直線運動を行っているものとします"
      ]
    },
    {
      "cell_type": "markdown",
      "metadata": {
        "id": "T_QbzQid5Tva"
      },
      "source": [
        "##### 慣性系からの振り子の観察"
      ]
    },
    {
      "cell_type": "markdown",
      "metadata": {
        "id": "ZTCwAbH15BAo"
      },
      "source": [
        "![](https://www.miniphysics.com/wp-content/uploads/2015/09/Inertial-frame-for-linear-motion.png)\n",
        "\n",
        "---\n",
        "\n",
        "出典: [Mini Physics](https://www.miniphysics.com/uy1-uniform-circular-motion-non-uniform-circular-motion.html)"
      ]
    },
    {
      "cell_type": "markdown",
      "metadata": {
        "id": "WDF6Tglq5p5p"
      },
      "source": [
        "慣性系の観測者(Inertial observer)から見ると\n",
        "\n",
        "- 振り子は加速度 $a$ の方向に加速しています\n",
        "  - この加速は物体に働いている二つ力の合成で生じます\n",
        "    1. 重力 $\\quad mg$\n",
        "    2. 振り子の系から働く張力 $\\quad T$"
      ]
    },
    {
      "cell_type": "markdown",
      "metadata": {
        "id": "q_uHaJOG6cK7"
      },
      "source": [
        "###### 慣性系での運動方程式\n",
        "これらの力の合成は，水平($x$,水平右向き+)と垂直($y$,鉛直上向+)に\n",
        "分解することで，  \n",
        "$x,y$ の運動方程式を組み立てることができます．\n",
        "\\begin{cases}\n",
        "m a_x &= T \\cos \\theta\\\\\n",
        "m a_y &= T \\cos \\theta + \\left( -mg \\right)\n",
        "\\end{cases}\n",
        "列車の加速度 $a$ と $y$ 方向への変位がないことを踏まえると\n",
        "$\\require{cancel}$\n",
        "\\begin{cases}\n",
        "m \\cancelto{a}{a_x} &= T \\cos \\theta\\\\\n",
        "m \\cancelto{0}{a_y} &= T \\cos \\theta + \\left( -mg \\right)\n",
        "\\end{cases}\n",
        "\n",
        "整理すると\n",
        "\\begin{cases}\n",
        "m a &= T \\cos \\theta\\\\\n",
        "m g &= T \\cos \\theta\n",
        "\\end{cases}"
      ]
    },
    {
      "cell_type": "markdown",
      "metadata": {
        "id": "taz0kt9n72R0"
      },
      "source": [
        "となり，$\\theta$ と $m$ が分かれば $a$ や $T$ を求めることができます"
      ]
    },
    {
      "cell_type": "markdown",
      "metadata": {
        "id": "4i6-b6bQ8Khp"
      },
      "source": [
        "##### 非慣性系からの振り子の観察"
      ]
    },
    {
      "cell_type": "markdown",
      "metadata": {
        "id": "JbOnCYzB8PFf"
      },
      "source": [
        "![](https://www.miniphysics.com/wp-content/uploads/2015/09/non-inertial-frame-for-linear-motion.png)\n",
        "\n",
        "---\n",
        "\n",
        "出典: [Mini Physics](https://www.miniphysics.com/uy1-uniform-circular-motion-non-uniform-circular-motion.html)"
      ]
    },
    {
      "cell_type": "markdown",
      "metadata": {
        "id": "4YvW6pFo8fM5"
      },
      "source": [
        "**非**慣性系の観測者(Non-inertial observer)から見ると\n",
        "\n",
        "- 振り子は(傾き$\\theta$を持って)静止しています\n",
        "  - 観測だけでは次の二つの力が働いていることが分かります\n",
        "    1. 重力 $\\quad mg$\n",
        "    2. 振り子の系から働く張力 $\\quad T$\n",
        "  - $T,mg$ だけでは，振り子の傾き$\\theta$を再現できないため\n",
        "    - **慣性力**(見かけ上の力, $F_{\\rm fictious}$) が必要になります\n",
        "  "
      ]
    },
    {
      "cell_type": "markdown",
      "metadata": {
        "id": "PKaK65zASfs1"
      },
      "source": [
        "##### 非慣性系での運動方程式"
      ]
    },
    {
      "cell_type": "markdown",
      "metadata": {
        "id": "wxx5lS2uSpC3"
      },
      "source": [
        "この非慣性系の観測者から見た物体は、鉛直方向から $\\theta$ 傾いて、静止しています。  \n",
        "このじょうきょうを水平($x$,水平右向き+)と垂直($y$,鉛直上向+)に分解します\n",
        "\\begin{cases}\n",
        "m \\cancelto{0}{a'_x} &= T \\sin \\theta + \\left( - F_{\\rm fictious}\\right)\\\\\n",
        "m \\cancelto{0}{a'_y} &= T \\cos \\theta + \\left( - mg\\right)\\\\\n",
        "\\end{cases}\n",
        "この運動方程式では、鉛直方向から $\\theta$ を実現するため、**慣性力** を加えています。"
      ]
    },
    {
      "cell_type": "markdown",
      "metadata": {
        "id": "3feQ--OJT5lP"
      },
      "source": [
        "整理すると\n",
        "\\begin{cases}\n",
        "F_{\\rm fictious}&= T \\sin \\theta \\\\\n",
        "mg &= T \\cos \\theta \n",
        "\\end{cases}"
      ]
    },
    {
      "cell_type": "markdown",
      "metadata": {
        "id": "WwolwLrkUUCD"
      },
      "source": [
        "慣性系での張力 $T$ の水平方向成分を考慮すると、\n",
        "\\begin{cases}\n",
        "F_{\\rm fictious}&= T \\sin \\theta = ma\\\\\n",
        "mg &= T \\cos \\theta \n",
        "\\end{cases}\n",
        "となり、慣性力の大きさが\n",
        "\\begin{align}\n",
        "F_{\\rm fictious}&= ma\n",
        "\\end{align}\n",
        "このことからも\n",
        "> **非慣性系から** 物体を観測すると， 次のような慣性力が働くことがわかります\n",
        "> 物体は観測者の加速度とは   \n",
        "> 1. **逆向きの方向**\n",
        "> 2. 大きさ $\\quad \\left| \\vec{F} \\right| = m a $  "
      ]
    },
    {
      "cell_type": "markdown",
      "metadata": {
        "id": "2LZgOpDc-lOl"
      },
      "source": [
        "> Q. [このリンク](http://physics7.starfree.jp/phy/mecha/kanseiryoku-3dv/index.html)を利用し，等速直線運動の慣性系/非慣性系での動きを確認して下さい．\n",
        "\n",
        "---\n",
        "出典: [高校物理教材，中村加津雄氏](http://physics7.starfree.jp/phy/)"
      ]
    }
  ]
}