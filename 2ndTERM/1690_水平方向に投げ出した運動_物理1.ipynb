{
  "nbformat": 4,
  "nbformat_minor": 0,
  "metadata": {
    "colab": {
      "name": "1690_水平方向に投げ出した運動_物理1",
      "provenance": [],
      "collapsed_sections": [],
      "toc_visible": true,
      "authorship_tag": "ABX9TyP+LbgyndOvO8NLimnLAjDr",
      "include_colab_link": true
    },
    "kernelspec": {
      "name": "python3",
      "display_name": "Python 3"
    }
  },
  "cells": [
    {
      "cell_type": "markdown",
      "metadata": {
        "id": "view-in-github",
        "colab_type": "text"
      },
      "source": [
        "<a href=\"https://colab.research.google.com/github/kzhkAKT/Physics1/blob/draft/2ndTERM/1690_%E6%B0%B4%E5%B9%B3%E6%96%B9%E5%90%91%E3%81%AB%E6%8A%95%E3%81%92%E5%87%BA%E3%81%97%E3%81%9F%E9%81%8B%E5%8B%95_%E7%89%A9%E7%90%861.ipynb\" target=\"_parent\"><img src=\"https://colab.research.google.com/assets/colab-badge.svg\" alt=\"Open In Colab\"/></a>"
      ]
    },
    {
      "cell_type": "markdown",
      "metadata": {
        "id": "PZo0KOeN0Jk3"
      },
      "source": [
        "# 平面空間での運動"
      ]
    },
    {
      "cell_type": "code",
      "metadata": {
        "colab": {
          "base_uri": "https://localhost:8080/",
          "height": 475
        },
        "cellView": "form",
        "id": "xdkIuwHSmrAO",
        "outputId": "d02a27fe-41c1-4a51-ff6e-a252e4625b9e"
      },
      "source": [
        "#@title (抵抗のない)水平投射: Intro\n",
        "%%html\n",
        "<iframe src=\"https://phet.colorado.edu/sims/html/projectile-motion/latest/projectile-motion_en.html\" width=\"600\" height=\"450\" scrolling=\"no\" allowfullscreen></iframe>"
      ],
      "execution_count": null,
      "outputs": [
        {
          "output_type": "display_data",
          "data": {
            "text/html": [
              "<iframe src=\"https://phet.colorado.edu/sims/html/projectile-motion/latest/projectile-motion_en.html\" width=\"600\" height=\"450\" scrolling=\"no\" allowfullscreen></iframe>"
            ],
            "text/plain": [
              "<IPython.core.display.HTML object>"
            ]
          },
          "metadata": {
            "tags": []
          }
        }
      ]
    },
    {
      "cell_type": "markdown",
      "metadata": {
        "id": "GFx_RlkxpXjJ"
      },
      "source": [
        "水平方向に初速度 $v_0$ で投げ出す, 摩擦のない **水平投射**運動を考えます."
      ]
    },
    {
      "cell_type": "markdown",
      "metadata": {
        "id": "ztZ2LZXHm-uX"
      },
      "source": [
        "出発点は, 瞬間を捉えることができる, 運動方程式\n",
        "\\begin{align}\n",
        "m \\vec{a} = \\vec{F}\n",
        "\\end{align}"
      ]
    },
    {
      "cell_type": "markdown",
      "metadata": {
        "id": "e27Qmr7dnM3n"
      },
      "source": [
        "力ベクトル $\\vec{F}$ や 加速度ベクトル $\\vec{a}$ を\n",
        "- 水平方向 _右向き_ を $x$軸の _正_\n",
        "- 鉛直**下向き** を $y$軸の _正_\n",
        "\n",
        "として, 成分表示をすると\n",
        "\n",
        "\\begin{align}\n",
        "\\vec{F}\n",
        "  =\n",
        "   \\left(\\begin{array}{c}\n",
        "    F_x \\\\\n",
        "    F_y\n",
        "  \\end{array}\n",
        "  \\right)\n",
        "  =\n",
        "   \\left(\\begin{array}{c}\n",
        "    0 \\\\\n",
        "    W\n",
        "  \\end{array}\n",
        "  \\right),\n",
        "\\qquad\n",
        "\\vec{a} =   \\left(\\begin{array}{c}\n",
        "    a_x \\\\\n",
        "    a_y\n",
        "  \\end{array}\n",
        "\\right),\n",
        "\\end{align}\n",
        "\n",
        "ここで\n",
        "- $x$ 方向には力が働いていない(空気抵抗がない)\n",
        "- $y$ 方向には, **鉛直下向き** に重力 $W=mg$ のみが働く\n",
        "\n",
        "ことを利用しています."
      ]
    },
    {
      "cell_type": "markdown",
      "metadata": {
        "id": "u3oh-Gpqpk_g"
      },
      "source": [
        "また, 初速度も座標に組み込んで整理しておきます\n",
        "\\begin{align}\n",
        "\\vec{v}_0=\n",
        "\\left(\\begin{array}{c}\n",
        "v_{0x}\\\\\n",
        "v_{0y}\n",
        "\\end{array}\\right)\n",
        "=\n",
        "\\left(\\begin{array}{c}\n",
        "v_{0}\\\\\n",
        "0\n",
        "\\end{array}\\right)\n",
        "\\end{align}\n"
      ]
    },
    {
      "cell_type": "markdown",
      "metadata": {
        "id": "4QlYOVguolY-"
      },
      "source": [
        "座標に組み込んだこれらの成分表示を利用しすると, $x,y$ 成分の運動方程式はそれぞれ\n",
        "\\begin{align}\n",
        "\\begin{cases}\n",
        "m a_x &= F_x\\\\\n",
        "m a_y &= F_y\n",
        "\\end{cases}\n",
        "\\quad\n",
        "\\to\n",
        "\\quad\n",
        "\\begin{cases}\n",
        "m a_x &= 0\\\\\n",
        "m a_y &= + mg\n",
        "\\end{cases}\n",
        "\\end{align}"
      ]
    },
    {
      "cell_type": "markdown",
      "metadata": {
        "id": "qjB-rUuIs0Ch"
      },
      "source": [
        "この導出には, それぞれの成分に対して等加速度直線運動の関係式\n",
        "\\begin{cases}\n",
        "a&\\\\[2mm]\n",
        "v&=v_0 + a t\\\\\n",
        "s&=v_0 + \\dfrac{1}{2}at^2\n",
        "\\end{cases}\n",
        "を利用しています."
      ]
    },
    {
      "cell_type": "markdown",
      "metadata": {
        "id": "Uu4_gzkzsrmw"
      },
      "source": [
        "- $y$ 方向の運動は $x$ 方向の初速度 $v_0$ に依存しません\n",
        "- 位置座標 $\\vec{r}=(x, y)$ が時間 $t$ の 一次関数と二次関数で表されてる\n",
        "\n",
        "ことがわかります."
      ]
    },
    {
      "cell_type": "markdown",
      "metadata": {
        "id": "0Nrku3v9qNLy"
      },
      "source": [
        "これより各成分の加速度が整理され, これを展開すると,  \n",
        "出発点から $t$ 秒後の各成分の速度$\\vec{v}=(v_x, v_y)$,   \n",
        "位置座標 $\\vec{r}=(x, y)$ は\n",
        "\n",
        "$\\require{cancel}$\n",
        "\\begin{align}\n",
        "\\begin{cases}\n",
        "\\bcancel{m} a_x &= 0\\\\[2mm]\n",
        "\\bcancel{m} a_y &= +\\bcancel{m}g\n",
        "\\end{cases}\n",
        "\\quad\n",
        "\\to\n",
        "\\quad\n",
        "\\begin{cases}\n",
        "a_x &= 0\\\\[2mm]\n",
        "a_y &= g\n",
        "\\end{cases}\n",
        "\\quad\n",
        "\\sim\n",
        "\\quad\n",
        "\\begin{cases}\n",
        "v_x &= v_0\\\\[2mm]\n",
        "v_y &= gt\n",
        "\\end{cases}\n",
        "\\sim\n",
        "\\quad\n",
        "\\begin{cases}\n",
        "x &= v_0 t\\\\[2mm]\n",
        "y &= \\dfrac{1}{2}gt^2\n",
        "\\end{cases}\n",
        "\\end{align}\n",
        "\n",
        "\n"
      ]
    },
    {
      "cell_type": "markdown",
      "metadata": {
        "id": "iclWWoUBrqxu"
      },
      "source": [
        "### 放物運動"
      ]
    },
    {
      "cell_type": "markdown",
      "metadata": {
        "id": "gFgB8QmjtNPW"
      },
      "source": [
        "> Q. 水平投射で得られた, 位置座標 $\\vec{r}=(x, y)$ から時間 $t$ を消去してください"
      ]
    },
    {
      "cell_type": "markdown",
      "metadata": {
        "id": "pWRnBG2BvlgC"
      },
      "source": [
        "#### 放物運動する軌跡の接線"
      ]
    },
    {
      "cell_type": "markdown",
      "metadata": {
        "id": "zhRVylhSvxEJ"
      },
      "source": [
        "> Q. 得られた放物線運動の軌跡を $x$ で微分してください\n",
        "\n",
        "\\begin{align}\n",
        " y & = \\dfrac{g}{2v_0^2}x^2\n",
        "\\end{align}"
      ]
    },
    {
      "cell_type": "markdown",
      "metadata": {
        "id": "JbQAxIoXwOYN"
      },
      "source": [
        "\\begin{align}\n",
        " \\dfrac{{\\rm d}y}{{\\rm d}x } & = \\dfrac{g}{2v_0^2} 2 x \n",
        " = \\dfrac{gx}{v_0^2}\\\\[2mm]\n",
        " &= \\dfrac{g\\left(v_0t\\right)}{v_0^2} = \\dfrac{gt}{v_0} \\\\[3mm]\n",
        " \\dfrac{{\\rm d}y}{{\\rm d}x } \n",
        " &= \\dfrac{v_y}{v_x}\n",
        "\\end{align}\n",
        "\n",
        "このことから,\n",
        "> ある時刻における速度ベクトルはちょうどその時刻の軌跡の接線になる\n",
        "\n",
        "ということがいえます."
      ]
    },
    {
      "cell_type": "code",
      "metadata": {
        "colab": {
          "base_uri": "https://localhost:8080/",
          "height": 475
        },
        "cellView": "form",
        "id": "bmIBPneNta1t",
        "outputId": "9f163bc6-a74e-4ccd-eb71-f10553f66edb"
      },
      "source": [
        "#@title (抵抗のない)水平投射[速度の方向確認]: Intro\n",
        "%%html\n",
        "<iframe src=\"https://phet.colorado.edu/sims/html/projectile-motion/latest/projectile-motion_en.html\" width=\"600\" height=\"450\" scrolling=\"no\" allowfullscreen></iframe>"
      ],
      "execution_count": null,
      "outputs": [
        {
          "output_type": "display_data",
          "data": {
            "text/html": [
              "<iframe src=\"https://phet.colorado.edu/sims/html/projectile-motion/latest/projectile-motion_en.html\" width=\"600\" height=\"450\" scrolling=\"no\" allowfullscreen></iframe>"
            ],
            "text/plain": [
              "<IPython.core.display.HTML object>"
            ]
          },
          "metadata": {
            "tags": []
          }
        }
      ]
    }
  ]
}