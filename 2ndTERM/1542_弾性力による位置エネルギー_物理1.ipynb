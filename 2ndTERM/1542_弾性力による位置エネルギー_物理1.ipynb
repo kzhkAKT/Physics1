{
  "nbformat": 4,
  "nbformat_minor": 0,
  "metadata": {
    "colab": {
      "name": "1542_弾性力による位置エネルギー_物理1",
      "provenance": [],
      "authorship_tag": "ABX9TyOdqykUTpcpoqd2xgF7lGdQ",
      "include_colab_link": true
    },
    "kernelspec": {
      "name": "python3",
      "display_name": "Python 3"
    }
  },
  "cells": [
    {
      "cell_type": "markdown",
      "metadata": {
        "id": "view-in-github",
        "colab_type": "text"
      },
      "source": [
        "<a href=\"https://colab.research.google.com/github/kzhkAKT/Physics1/blob/draft/2ndTERM/1542_%E5%BC%BE%E6%80%A7%E5%8A%9B%E3%81%AB%E3%82%88%E3%82%8B%E4%BD%8D%E7%BD%AE%E3%82%A8%E3%83%8D%E3%83%AB%E3%82%AE%E3%83%BC_%E7%89%A9%E7%90%861.ipynb\" target=\"_parent\"><img src=\"https://colab.research.google.com/assets/colab-badge.svg\" alt=\"Open In Colab\"/></a>"
      ]
    },
    {
      "cell_type": "markdown",
      "metadata": {
        "id": "G-hLU83tdNaA"
      },
      "source": [
        "# 力学的エネルギー"
      ]
    },
    {
      "cell_type": "markdown",
      "metadata": {
        "id": "RzZur4C5ddTz"
      },
      "source": [
        "## 位置エネルギー, potential energy\n",
        "\n",
        "- **基準**からの位置によって決まる仕事をする能力\n",
        "- (ゆっくりと)外力によってなされた仕事が, **基準からの位置に蓄えられている** と考えます.\n"
      ]
    },
    {
      "cell_type": "markdown",
      "metadata": {
        "id": "cIITstGWPiSP"
      },
      "source": [
        "### 弾性力による位置エネルギー"
      ]
    },
    {
      "cell_type": "code",
      "metadata": {
        "id": "M18yRZlBSW_l",
        "colab": {
          "base_uri": "https://localhost:8080/",
          "height": 625
        },
        "cellView": "form",
        "outputId": "9cf14316-090f-45c2-aace-722472249966"
      },
      "source": [
        "#@title 弾性力の典型例: フックの法則\n",
        "%%html\n",
        "<iframe src=\"https://phet.colorado.edu/sims/html/hookes-law/latest/hookes-law_en.html\" width=\"800\" height=\"600\" scrolling=\"no\" allowfullscreen></iframe>"
      ],
      "execution_count": 1,
      "outputs": [
        {
          "output_type": "display_data",
          "data": {
            "text/html": [
              "<iframe src=\"https://phet.colorado.edu/sims/html/hookes-law/latest/hookes-law_en.html\" width=\"800\" height=\"600\" scrolling=\"no\" allowfullscreen></iframe>"
            ],
            "text/plain": [
              "<IPython.core.display.HTML object>"
            ]
          },
          "metadata": {}
        }
      ]
    },
    {
      "cell_type": "markdown",
      "metadata": {
        "id": "tR51Jc4CS4G5"
      },
      "source": [
        "ばねを伸ばすときの外力(Applied Force) $F$は, バネの伸び $x$ と同じ方向なので,  \n",
        "ばね定数を $k$ とすると\n",
        "\\begin{align}\n",
        "F = k x\n",
        "\\end{align}"
      ]
    },
    {
      "cell_type": "code",
      "metadata": {
        "id": "uftn85UmSz5S",
        "cellView": "form",
        "colab": {
          "base_uri": "https://localhost:8080/",
          "height": 259
        },
        "outputId": "953daad6-13a3-459a-b0f2-906693312541"
      },
      "source": [
        "#@title 伸び x と外力 F のグラフ\n",
        "%%svg\n",
        "<svg xmlns=\"http://www.w3.org/2000/svg\" xmlns:xlink=\"http://www.w3.org/1999/xlink\" version=\"1.1\" width=\"336px\" viewBox=\"-0.5 -0.5 336 238\" content=\"&lt;mxfile host=&quot;app.diagrams.net&quot; modified=&quot;2020-11-04T13:15:44.434Z&quot; agent=&quot;5.0 (Macintosh; Intel Mac OS X 10_15_7) AppleWebKit/537.36 (KHTML, like Gecko) Chrome/86.0.4240.111 Safari/537.36&quot; etag=&quot;Ashlqn0SLJuiXelPAflr&quot; version=&quot;13.8.9-1&quot; type=&quot;google&quot;&gt;&lt;diagram id=&quot;yH6dnhzfLOWfL0e_viCE&quot; name=&quot;Page-1&quot;&gt;7VrbkqM2EP0aPXrKXA2PxoM3lWyqpjIPqcqbBmSsHRk5gNf2fn0kkABx8WXG4J3MlqsMtFot6NM63RIAY7E5fEngdv0nDREB+jQ8AOMR6LqmzXR24JKjkEyns0ISJTgUskrwjH8gqSikOxyiVFHMKCUZ3qrCgMYxCjJFBpOE7lW1FSXqqFsYoZbgOYCkLf0bh9m6kJqaUcl/Qzhai5F1V3TYQKkrHiRdw5DuayLDB8YioTQrzjaHBSLcedItRb9lT2t5XwmKs0s6+D/o0/Hr76Fv0r88/PQNfvvjn4nmFGa+Q7ITDyzuNjtKDyR0F4eIW5kCw9uvcYaetzDgrXsGOpOtsw1hVxo7JfAFEQ8Gr1HebUEJTVhTTGOm761onAmI2cjsGhMiVYBurJwABQGTp1lCX1Gt5cWxTIsPL24XJRk69DpCK93L4hLRDcqSI1MRHfSpQKQKyeJ6X8NXiNY1aF1XRJWIqKi0XHmdnQjHXwPC7POBoNkNEMzLQLAGA8H6hCDoDRCcy0DQhgLB/nwYlA4WGNgXQmAMNhHOY4DicM5TK7sKCExTHKhuLzqgsJVZzzql9tRW1+wXsgQRmOHvqvkuT4gRnihmA5c+d1SXlwlBWkjpLgmQ6FRPqQ07hn3GUAaTCGUtQzku5VO/HSqzAyqbZCK0Fczsf3dUNkzSPOjnTEHTt4eqkddHxVSqZOw2kwjDupId5UffAu4SeHPg2/zftYFvAEcDjpef6MBxhWTuA98E3gJ4DvBn/J9JxJ2+JKVBIWGuKG5fipvRx+LqK5/YatBBgqOYRySLMcQmqsenJWaF3Fw0bHAYchtegpgD4Etuj8/iLccnR8zygPV4al6LKlN0roq7emj3z6peEpg+zKyZpsbSTSJdN1WjumqArlYpGiQ0O7Kpv+Qh4NwF0OsSwfjwu7pjDwF/I7+Phb7+/88hzdqpzNLXJpGmoaadgXOIce8cMjfz1GEBh+UQLzdZjI+l1rKWGfBPmC1Ok8vtyUQ/QyaObc/eF+MiFCeGPRZjXLAErjEGTI9xgy+aHM60l5jI1qKElxs4+gfgl5sVqU1DI/NL1wZTOb/7yGUFN5gcC3phTXCzzREzDJMdo5JNVHkHvVzLZLbKZJJ+isrFfXw99LJOF0GNz0TNSXCamRKasQilfIyJe3I5+2aqmp2kqsn0QW67qBXKe3OzWkrLHDc8i7m/WOxMlXQrFht7qS1fR/TXSa2qJ+qtekTHdAvjt9NSq0w6nCmTiuF+uurpOs66PUW596GohtHRlmZa16ZRP0cJt9ewb5NQ9/L5E5LSyKWVfPL3LLNVNLtSUGv328t/HwDnBjrl2433rtBbhobGuWs7ZdQ1uucChjjf8H0Ezqy2qytX7R81nXDtWmg7U/4bZtF+eguQ5RlDTQm32QGcyA8VZC0s3/iPsAnYtbX0i54qWjHchwbk+lsZqmVqdI6607soNiEl8pVQzuPruKx8Q5VLmM5HJbUByMu4C3lpenOC3GAlzy6rj64K9erTNcP/Dw==&lt;/diagram&gt;&lt;/mxfile&gt;\" onclick=\"(function(svg){var src=window.event.target||window.event.srcElement;while (src!=null&amp;&amp;src.nodeName.toLowerCase()!='a'){src=src.parentNode;}if(src==null){if(svg.wnd!=null&amp;&amp;!svg.wnd.closed){svg.wnd.focus();}else{var r=function(evt){if(evt.data=='ready'&amp;&amp;evt.source==svg.wnd){svg.wnd.postMessage(decodeURIComponent(svg.getAttribute('content')),'*');window.removeEventListener('message',r);}};window.addEventListener('message',r);svg.wnd=window.open('https://viewer.diagrams.net/?client=1&amp;page=0&amp;edit=_blank');}}})(this);\" style=\"cursor:pointer;max-width:100%;max-height:238px;\"><defs/><g><rect x=\"143\" y=\"89\" width=\"40\" height=\"99\" fill=\"#f8cecc\" stroke=\"#b85450\" pointer-events=\"all\"/><rect x=\"103\" y=\"129\" width=\"40\" height=\"59\" fill=\"#f8cecc\" stroke=\"#b85450\" pointer-events=\"all\"/><rect x=\"63\" y=\"169\" width=\"40\" height=\"19\" fill=\"#f8cecc\" stroke=\"#b85450\" pointer-events=\"all\"/><rect x=\"183\" y=\"49\" width=\"40\" height=\"139\" fill=\"#f8cecc\" stroke=\"#b85450\" pointer-events=\"all\"/><path d=\"M 23 189 L 296.63 189\" fill=\"none\" stroke=\"#000000\" stroke-miterlimit=\"10\" pointer-events=\"stroke\"/><path d=\"M 301.88 189 L 294.88 192.5 L 296.63 189 L 294.88 185.5 Z\" fill=\"#000000\" stroke=\"#000000\" stroke-miterlimit=\"10\" pointer-events=\"all\"/><g transform=\"translate(-0.5 -0.5)\"><switch><foreignObject style=\"overflow: visible; text-align: left;\" pointer-events=\"none\" width=\"100%\" height=\"100%\" requiredFeatures=\"http://www.w3.org/TR/SVG11/feature#Extensibility\"><div xmlns=\"http://www.w3.org/1999/xhtml\" style=\"display: flex; align-items: unsafe center; justify-content: unsafe center; width: 1px; height: 1px; padding-top: 210px; margin-left: 294px;\"><div style=\"box-sizing: border-box; font-size: 0; text-align: center; \"><div style=\"display: inline-block; font-size: 11px; font-family: Helvetica; color: #000000; line-height: 1.2; pointer-events: all; background-color: #ffffff; white-space: nowrap; \"><font style=\"font-size: 12px\" face=\"Georgia\">基準からの伸縮<br /></font></div></div></div></foreignObject><text x=\"294\" y=\"213\" fill=\"#000000\" font-family=\"Helvetica\" font-size=\"11px\" text-anchor=\"middle\">基準からの伸縮&#xa;</text></switch></g><g transform=\"translate(-0.5 -0.5)\"><switch><foreignObject style=\"overflow: visible; text-align: left;\" pointer-events=\"none\" width=\"100%\" height=\"100%\" requiredFeatures=\"http://www.w3.org/TR/SVG11/feature#Extensibility\"><div xmlns=\"http://www.w3.org/1999/xhtml\" style=\"display: flex; align-items: unsafe center; justify-content: unsafe center; width: 1px; height: 1px; padding-top: 189px; margin-left: 314px;\"><div style=\"box-sizing: border-box; font-size: 0; text-align: center; \"><div style=\"display: inline-block; font-size: 18px; font-family: Helvetica; color: #000000; line-height: 1.2; pointer-events: all; white-space: nowrap; \">＋</div></div></div></foreignObject><text x=\"314\" y=\"194\" fill=\"#000000\" font-family=\"Helvetica\" font-size=\"18px\" text-anchor=\"middle\">＋</text></switch></g><path d=\"M 63 229 L 63 35.37\" fill=\"none\" stroke=\"#000000\" stroke-miterlimit=\"10\" pointer-events=\"stroke\"/><path d=\"M 63 30.12 L 66.5 37.12 L 63 35.37 L 59.5 37.12 Z\" fill=\"#000000\" stroke=\"#000000\" stroke-miterlimit=\"10\" pointer-events=\"all\"/><g transform=\"translate(-0.5 -0.5)\"><switch><foreignObject style=\"overflow: visible; text-align: left;\" pointer-events=\"none\" width=\"100%\" height=\"100%\" requiredFeatures=\"http://www.w3.org/TR/SVG11/feature#Extensibility\"><div xmlns=\"http://www.w3.org/1999/xhtml\" style=\"display: flex; align-items: unsafe center; justify-content: unsafe center; width: 1px; height: 1px; padding-top: 7px; margin-left: 64px;\"><div style=\"box-sizing: border-box; font-size: 0; text-align: center; \"><div style=\"display: inline-block; font-size: 11px; font-family: Helvetica; color: #000000; line-height: 1.2; pointer-events: all; white-space: nowrap; \"><font style=\"font-size: 12px\" face=\"Georgia\">外力:<i>F</i></font></div></div></div></foreignObject><text x=\"64\" y=\"10\" fill=\"#000000\" font-family=\"Helvetica\" font-size=\"11px\" text-anchor=\"middle\">外力:F</text></switch></g><path d=\"M 223 189 L 223 39.24\" fill=\"none\" stroke=\"#000000\" stroke-width=\"2\" stroke-miterlimit=\"10\" pointer-events=\"stroke\"/><path d=\"M 223 31.24 L 219 39.24 L 223 39.24 Z\" fill=\"#000000\" stroke=\"#000000\" stroke-width=\"2\" stroke-miterlimit=\"10\" pointer-events=\"all\"/><g transform=\"translate(-0.5 -0.5)rotate(-90 233.5 117.5)\"><switch><foreignObject style=\"overflow: visible; text-align: left;\" pointer-events=\"none\" width=\"100%\" height=\"100%\" requiredFeatures=\"http://www.w3.org/TR/SVG11/feature#Extensibility\"><div xmlns=\"http://www.w3.org/1999/xhtml\" style=\"display: flex; align-items: unsafe center; justify-content: unsafe center; width: 1px; height: 1px; padding-top: 118px; margin-left: 234px;\"><div style=\"box-sizing: border-box; font-size: 0; text-align: center; \"><div style=\"display: inline-block; font-size: 18px; font-family: Helvetica; color: #000000; line-height: 1.2; pointer-events: all; white-space: nowrap; \"><i style=\"font-family: &quot;georgia&quot;\"><font style=\"font-size: 16px\">F＝kx</font></i></div></div></div></foreignObject><text x=\"234\" y=\"123\" fill=\"#000000\" font-family=\"Helvetica\" font-size=\"18px\" text-anchor=\"middle\">F＝kx</text></switch></g><path d=\"M 63 189 L 212.76 189\" fill=\"none\" stroke=\"#000000\" stroke-width=\"2\" stroke-miterlimit=\"10\" pointer-events=\"stroke\"/><path d=\"M 220.76 189 L 212.76 185 L 212.76 189 Z\" fill=\"#000000\" stroke=\"#000000\" stroke-width=\"2\" stroke-miterlimit=\"10\" pointer-events=\"all\"/><g transform=\"translate(-0.5 -0.5)\"><switch><foreignObject style=\"overflow: visible; text-align: left;\" pointer-events=\"none\" width=\"100%\" height=\"100%\" requiredFeatures=\"http://www.w3.org/TR/SVG11/feature#Extensibility\"><div xmlns=\"http://www.w3.org/1999/xhtml\" style=\"display: flex; align-items: unsafe center; justify-content: unsafe center; width: 1px; height: 1px; padding-top: 200px; margin-left: 147px;\"><div style=\"box-sizing: border-box; font-size: 0; text-align: center; \"><div style=\"display: inline-block; font-size: 18px; font-family: Helvetica; color: #000000; line-height: 1.2; pointer-events: all; white-space: nowrap; \"><font face=\"georgia\"><span style=\"font-size: 16px\"><i>x</i></span></font></div></div></div></foreignObject><text x=\"147\" y=\"205\" fill=\"#000000\" font-family=\"Helvetica\" font-size=\"18px\" text-anchor=\"middle\">x</text></switch></g><path d=\"M 63 189 L 223 29\" fill=\"none\" stroke=\"#000000\" stroke-width=\"2\" stroke-miterlimit=\"10\" pointer-events=\"stroke\"/><path d=\"M 23 169 L 56.63 169\" fill=\"none\" stroke=\"#b3b3b3\" stroke-miterlimit=\"10\" pointer-events=\"stroke\"/><path d=\"M 61.88 169 L 54.88 172.5 L 56.63 169 L 54.88 165.5 Z\" fill=\"#b3b3b3\" stroke=\"#b3b3b3\" stroke-miterlimit=\"10\" pointer-events=\"all\"/><g transform=\"translate(-0.5 -0.5)\"><switch><foreignObject style=\"overflow: visible; text-align: left;\" pointer-events=\"none\" width=\"100%\" height=\"100%\" requiredFeatures=\"http://www.w3.org/TR/SVG11/feature#Extensibility\"><div xmlns=\"http://www.w3.org/1999/xhtml\" style=\"display: flex; align-items: unsafe center; justify-content: unsafe center; width: 1px; height: 1px; padding-top: 150px; margin-left: 24px;\"><div style=\"box-sizing: border-box; font-size: 0; text-align: center; \"><div style=\"display: inline-block; font-size: 18px; font-family: Helvetica; color: #808080; line-height: 1.2; pointer-events: all; white-space: nowrap; \"><font style=\"font-size: 12px\" face=\"Georgia\">平均の力</font></div></div></div></foreignObject><text x=\"24\" y=\"155\" fill=\"#808080\" font-family=\"Helvetica\" font-size=\"18px\" text-anchor=\"middle\">平均の力</text></switch></g><path d=\"M 82.5 209 L 82.5 175.37\" fill=\"none\" stroke=\"#b3b3b3\" stroke-miterlimit=\"10\" pointer-events=\"stroke\"/><path d=\"M 82.5 170.12 L 86 177.12 L 82.5 175.37 L 79 177.12 Z\" fill=\"#b3b3b3\" stroke=\"#b3b3b3\" stroke-miterlimit=\"10\" pointer-events=\"all\"/><g transform=\"translate(-0.5 -0.5)\"><switch><foreignObject style=\"overflow: visible; text-align: left;\" pointer-events=\"none\" width=\"100%\" height=\"100%\" requiredFeatures=\"http://www.w3.org/TR/SVG11/feature#Extensibility\"><div xmlns=\"http://www.w3.org/1999/xhtml\" style=\"display: flex; align-items: unsafe center; justify-content: unsafe center; width: 1px; height: 1px; padding-top: 220px; margin-left: 94px;\"><div style=\"box-sizing: border-box; font-size: 0; text-align: center; \"><div style=\"display: inline-block; font-size: 18px; font-family: Helvetica; color: #000000; line-height: 1.2; pointer-events: all; white-space: nowrap; \"><font style=\"font-size: 12px\" face=\"Georgia\" color=\"#808080\">平均の伸び</font></div></div></div></foreignObject><text x=\"94\" y=\"225\" fill=\"#000000\" font-family=\"Helvetica\" font-size=\"18px\" text-anchor=\"middle\">平均の伸び</text></switch></g></g><switch><g requiredFeatures=\"http://www.w3.org/TR/SVG11/feature#Extensibility\"/><a transform=\"translate(0,-5)\" xlink:href=\"https://desk.draw.io/support/solutions/articles/16000042487\" target=\"_blank\"><text text-anchor=\"middle\" font-size=\"10px\" x=\"50%\" y=\"100%\">Viewer does not support full SVG 1.1</text></a></switch></svg>"
      ],
      "execution_count": null,
      "outputs": [
        {
          "output_type": "display_data",
          "data": {
            "text/plain": [
              "<IPython.core.display.SVG object>"
            ],
            "image/svg+xml": "<svg content=\"&lt;mxfile host=&quot;app.diagrams.net&quot; modified=&quot;2020-11-04T13:15:44.434Z&quot; agent=&quot;5.0 (Macintosh; Intel Mac OS X 10_15_7) AppleWebKit/537.36 (KHTML, like Gecko) Chrome/86.0.4240.111 Safari/537.36&quot; etag=&quot;Ashlqn0SLJuiXelPAflr&quot; version=&quot;13.8.9-1&quot; type=&quot;google&quot;&gt;&lt;diagram id=&quot;yH6dnhzfLOWfL0e_viCE&quot; name=&quot;Page-1&quot;&gt;7VrbkqM2EP0aPXrKXA2PxoM3lWyqpjIPqcqbBmSsHRk5gNf2fn0kkABx8WXG4J3MlqsMtFot6NM63RIAY7E5fEngdv0nDREB+jQ8AOMR6LqmzXR24JKjkEyns0ISJTgUskrwjH8gqSikOxyiVFHMKCUZ3qrCgMYxCjJFBpOE7lW1FSXqqFsYoZbgOYCkLf0bh9m6kJqaUcl/Qzhai5F1V3TYQKkrHiRdw5DuayLDB8YioTQrzjaHBSLcedItRb9lT2t5XwmKs0s6+D/o0/Hr76Fv0r88/PQNfvvjn4nmFGa+Q7ITDyzuNjtKDyR0F4eIW5kCw9uvcYaetzDgrXsGOpOtsw1hVxo7JfAFEQ8Gr1HebUEJTVhTTGOm761onAmI2cjsGhMiVYBurJwABQGTp1lCX1Gt5cWxTIsPL24XJRk69DpCK93L4hLRDcqSI1MRHfSpQKQKyeJ6X8NXiNY1aF1XRJWIqKi0XHmdnQjHXwPC7POBoNkNEMzLQLAGA8H6hCDoDRCcy0DQhgLB/nwYlA4WGNgXQmAMNhHOY4DicM5TK7sKCExTHKhuLzqgsJVZzzql9tRW1+wXsgQRmOHvqvkuT4gRnihmA5c+d1SXlwlBWkjpLgmQ6FRPqQ07hn3GUAaTCGUtQzku5VO/HSqzAyqbZCK0Fczsf3dUNkzSPOjnTEHTt4eqkddHxVSqZOw2kwjDupId5UffAu4SeHPg2/zftYFvAEcDjpef6MBxhWTuA98E3gJ4DvBn/J9JxJ2+JKVBIWGuKG5fipvRx+LqK5/YatBBgqOYRySLMcQmqsenJWaF3Fw0bHAYchtegpgD4Etuj8/iLccnR8zygPV4al6LKlN0roq7emj3z6peEpg+zKyZpsbSTSJdN1WjumqArlYpGiQ0O7Kpv+Qh4NwF0OsSwfjwu7pjDwF/I7+Phb7+/88hzdqpzNLXJpGmoaadgXOIce8cMjfz1GEBh+UQLzdZjI+l1rKWGfBPmC1Ok8vtyUQ/QyaObc/eF+MiFCeGPRZjXLAErjEGTI9xgy+aHM60l5jI1qKElxs4+gfgl5sVqU1DI/NL1wZTOb/7yGUFN5gcC3phTXCzzREzDJMdo5JNVHkHvVzLZLbKZJJ+isrFfXw99LJOF0GNz0TNSXCamRKasQilfIyJe3I5+2aqmp2kqsn0QW67qBXKe3OzWkrLHDc8i7m/WOxMlXQrFht7qS1fR/TXSa2qJ+qtekTHdAvjt9NSq0w6nCmTiuF+uurpOs66PUW596GohtHRlmZa16ZRP0cJt9ewb5NQ9/L5E5LSyKWVfPL3LLNVNLtSUGv328t/HwDnBjrl2433rtBbhobGuWs7ZdQ1uucChjjf8H0Ezqy2qytX7R81nXDtWmg7U/4bZtF+eguQ5RlDTQm32QGcyA8VZC0s3/iPsAnYtbX0i54qWjHchwbk+lsZqmVqdI6607soNiEl8pVQzuPruKx8Q5VLmM5HJbUByMu4C3lpenOC3GAlzy6rj64K9erTNcP/Dw==&lt;/diagram&gt;&lt;/mxfile&gt;\" onclick=\"(function(svg){var src=window.event.target||window.event.srcElement;while (src!=null&amp;&amp;src.nodeName.toLowerCase()!='a'){src=src.parentNode;}if(src==null){if(svg.wnd!=null&amp;&amp;!svg.wnd.closed){svg.wnd.focus();}else{var r=function(evt){if(evt.data=='ready'&amp;&amp;evt.source==svg.wnd){svg.wnd.postMessage(decodeURIComponent(svg.getAttribute('content')),'*');window.removeEventListener('message',r);}};window.addEventListener('message',r);svg.wnd=window.open('https://viewer.diagrams.net/?client=1&amp;page=0&amp;edit=_blank');}}})(this);\" style=\"cursor:pointer;max-width:100%;max-height:238px;\" version=\"1.1\" viewBox=\"-0.5 -0.5 336 238\" width=\"336px\" xmlns=\"http://www.w3.org/2000/svg\" xmlns:xlink=\"http://www.w3.org/1999/xlink\"><defs/><g><rect fill=\"#f8cecc\" height=\"99\" pointer-events=\"all\" stroke=\"#b85450\" width=\"40\" x=\"143\" y=\"89\"/><rect fill=\"#f8cecc\" height=\"59\" pointer-events=\"all\" stroke=\"#b85450\" width=\"40\" x=\"103\" y=\"129\"/><rect fill=\"#f8cecc\" height=\"19\" pointer-events=\"all\" stroke=\"#b85450\" width=\"40\" x=\"63\" y=\"169\"/><rect fill=\"#f8cecc\" height=\"139\" pointer-events=\"all\" stroke=\"#b85450\" width=\"40\" x=\"183\" y=\"49\"/><path d=\"M 23 189 L 296.63 189\" fill=\"none\" pointer-events=\"stroke\" stroke=\"#000000\" stroke-miterlimit=\"10\"/><path d=\"M 301.88 189 L 294.88 192.5 L 296.63 189 L 294.88 185.5 Z\" fill=\"#000000\" pointer-events=\"all\" stroke=\"#000000\" stroke-miterlimit=\"10\"/><g transform=\"translate(-0.5 -0.5)\"><switch><foreignObject height=\"100%\" pointer-events=\"none\" requiredFeatures=\"http://www.w3.org/TR/SVG11/feature#Extensibility\" style=\"overflow: visible; text-align: left;\" width=\"100%\"><div style=\"display: flex; align-items: unsafe center; justify-content: unsafe center; width: 1px; height: 1px; padding-top: 210px; margin-left: 294px;\" xmlns=\"http://www.w3.org/1999/xhtml\"><div style=\"box-sizing: border-box; font-size: 0; text-align: center; \"><div style=\"display: inline-block; font-size: 11px; font-family: Helvetica; color: #000000; line-height: 1.2; pointer-events: all; background-color: #ffffff; white-space: nowrap; \"><font face=\"Georgia\" style=\"font-size: 12px\">基準からの伸縮<br/></font></div></div></div></foreignObject><text fill=\"#000000\" font-family=\"Helvetica\" font-size=\"11px\" text-anchor=\"middle\" x=\"294\" y=\"213\">基準からの伸縮\n</text></switch></g><g transform=\"translate(-0.5 -0.5)\"><switch><foreignObject height=\"100%\" pointer-events=\"none\" requiredFeatures=\"http://www.w3.org/TR/SVG11/feature#Extensibility\" style=\"overflow: visible; text-align: left;\" width=\"100%\"><div style=\"display: flex; align-items: unsafe center; justify-content: unsafe center; width: 1px; height: 1px; padding-top: 189px; margin-left: 314px;\" xmlns=\"http://www.w3.org/1999/xhtml\"><div style=\"box-sizing: border-box; font-size: 0; text-align: center; \"><div style=\"display: inline-block; font-size: 18px; font-family: Helvetica; color: #000000; line-height: 1.2; pointer-events: all; white-space: nowrap; \">＋</div></div></div></foreignObject><text fill=\"#000000\" font-family=\"Helvetica\" font-size=\"18px\" text-anchor=\"middle\" x=\"314\" y=\"194\">＋</text></switch></g><path d=\"M 63 229 L 63 35.37\" fill=\"none\" pointer-events=\"stroke\" stroke=\"#000000\" stroke-miterlimit=\"10\"/><path d=\"M 63 30.12 L 66.5 37.12 L 63 35.37 L 59.5 37.12 Z\" fill=\"#000000\" pointer-events=\"all\" stroke=\"#000000\" stroke-miterlimit=\"10\"/><g transform=\"translate(-0.5 -0.5)\"><switch><foreignObject height=\"100%\" pointer-events=\"none\" requiredFeatures=\"http://www.w3.org/TR/SVG11/feature#Extensibility\" style=\"overflow: visible; text-align: left;\" width=\"100%\"><div style=\"display: flex; align-items: unsafe center; justify-content: unsafe center; width: 1px; height: 1px; padding-top: 7px; margin-left: 64px;\" xmlns=\"http://www.w3.org/1999/xhtml\"><div style=\"box-sizing: border-box; font-size: 0; text-align: center; \"><div style=\"display: inline-block; font-size: 11px; font-family: Helvetica; color: #000000; line-height: 1.2; pointer-events: all; white-space: nowrap; \"><font face=\"Georgia\" style=\"font-size: 12px\">外力:<i>F</i></font></div></div></div></foreignObject><text fill=\"#000000\" font-family=\"Helvetica\" font-size=\"11px\" text-anchor=\"middle\" x=\"64\" y=\"10\">外力:F</text></switch></g><path d=\"M 223 189 L 223 39.24\" fill=\"none\" pointer-events=\"stroke\" stroke=\"#000000\" stroke-miterlimit=\"10\" stroke-width=\"2\"/><path d=\"M 223 31.24 L 219 39.24 L 223 39.24 Z\" fill=\"#000000\" pointer-events=\"all\" stroke=\"#000000\" stroke-miterlimit=\"10\" stroke-width=\"2\"/><g transform=\"translate(-0.5 -0.5)rotate(-90 233.5 117.5)\"><switch><foreignObject height=\"100%\" pointer-events=\"none\" requiredFeatures=\"http://www.w3.org/TR/SVG11/feature#Extensibility\" style=\"overflow: visible; text-align: left;\" width=\"100%\"><div style=\"display: flex; align-items: unsafe center; justify-content: unsafe center; width: 1px; height: 1px; padding-top: 118px; margin-left: 234px;\" xmlns=\"http://www.w3.org/1999/xhtml\"><div style=\"box-sizing: border-box; font-size: 0; text-align: center; \"><div style=\"display: inline-block; font-size: 18px; font-family: Helvetica; color: #000000; line-height: 1.2; pointer-events: all; white-space: nowrap; \"><i style=\"font-family: &quot;georgia&quot;\"><font style=\"font-size: 16px\">F＝kx</font></i></div></div></div></foreignObject><text fill=\"#000000\" font-family=\"Helvetica\" font-size=\"18px\" text-anchor=\"middle\" x=\"234\" y=\"123\">F＝kx</text></switch></g><path d=\"M 63 189 L 212.76 189\" fill=\"none\" pointer-events=\"stroke\" stroke=\"#000000\" stroke-miterlimit=\"10\" stroke-width=\"2\"/><path d=\"M 220.76 189 L 212.76 185 L 212.76 189 Z\" fill=\"#000000\" pointer-events=\"all\" stroke=\"#000000\" stroke-miterlimit=\"10\" stroke-width=\"2\"/><g transform=\"translate(-0.5 -0.5)\"><switch><foreignObject height=\"100%\" pointer-events=\"none\" requiredFeatures=\"http://www.w3.org/TR/SVG11/feature#Extensibility\" style=\"overflow: visible; text-align: left;\" width=\"100%\"><div style=\"display: flex; align-items: unsafe center; justify-content: unsafe center; width: 1px; height: 1px; padding-top: 200px; margin-left: 147px;\" xmlns=\"http://www.w3.org/1999/xhtml\"><div style=\"box-sizing: border-box; font-size: 0; text-align: center; \"><div style=\"display: inline-block; font-size: 18px; font-family: Helvetica; color: #000000; line-height: 1.2; pointer-events: all; white-space: nowrap; \"><font face=\"georgia\"><span style=\"font-size: 16px\"><i>x</i></span></font></div></div></div></foreignObject><text fill=\"#000000\" font-family=\"Helvetica\" font-size=\"18px\" text-anchor=\"middle\" x=\"147\" y=\"205\">x</text></switch></g><path d=\"M 63 189 L 223 29\" fill=\"none\" pointer-events=\"stroke\" stroke=\"#000000\" stroke-miterlimit=\"10\" stroke-width=\"2\"/><path d=\"M 23 169 L 56.63 169\" fill=\"none\" pointer-events=\"stroke\" stroke=\"#b3b3b3\" stroke-miterlimit=\"10\"/><path d=\"M 61.88 169 L 54.88 172.5 L 56.63 169 L 54.88 165.5 Z\" fill=\"#b3b3b3\" pointer-events=\"all\" stroke=\"#b3b3b3\" stroke-miterlimit=\"10\"/><g transform=\"translate(-0.5 -0.5)\"><switch><foreignObject height=\"100%\" pointer-events=\"none\" requiredFeatures=\"http://www.w3.org/TR/SVG11/feature#Extensibility\" style=\"overflow: visible; text-align: left;\" width=\"100%\"><div style=\"display: flex; align-items: unsafe center; justify-content: unsafe center; width: 1px; height: 1px; padding-top: 150px; margin-left: 24px;\" xmlns=\"http://www.w3.org/1999/xhtml\"><div style=\"box-sizing: border-box; font-size: 0; text-align: center; \"><div style=\"display: inline-block; font-size: 18px; font-family: Helvetica; color: #808080; line-height: 1.2; pointer-events: all; white-space: nowrap; \"><font face=\"Georgia\" style=\"font-size: 12px\">平均の力</font></div></div></div></foreignObject><text fill=\"#808080\" font-family=\"Helvetica\" font-size=\"18px\" text-anchor=\"middle\" x=\"24\" y=\"155\">平均の力</text></switch></g><path d=\"M 82.5 209 L 82.5 175.37\" fill=\"none\" pointer-events=\"stroke\" stroke=\"#b3b3b3\" stroke-miterlimit=\"10\"/><path d=\"M 82.5 170.12 L 86 177.12 L 82.5 175.37 L 79 177.12 Z\" fill=\"#b3b3b3\" pointer-events=\"all\" stroke=\"#b3b3b3\" stroke-miterlimit=\"10\"/><g transform=\"translate(-0.5 -0.5)\"><switch><foreignObject height=\"100%\" pointer-events=\"none\" requiredFeatures=\"http://www.w3.org/TR/SVG11/feature#Extensibility\" style=\"overflow: visible; text-align: left;\" width=\"100%\"><div style=\"display: flex; align-items: unsafe center; justify-content: unsafe center; width: 1px; height: 1px; padding-top: 220px; margin-left: 94px;\" xmlns=\"http://www.w3.org/1999/xhtml\"><div style=\"box-sizing: border-box; font-size: 0; text-align: center; \"><div style=\"display: inline-block; font-size: 18px; font-family: Helvetica; color: #000000; line-height: 1.2; pointer-events: all; white-space: nowrap; \"><font color=\"#808080\" face=\"Georgia\" style=\"font-size: 12px\">平均の伸び</font></div></div></div></foreignObject><text fill=\"#000000\" font-family=\"Helvetica\" font-size=\"18px\" text-anchor=\"middle\" x=\"94\" y=\"225\">平均の伸び</text></switch></g></g><switch><g requiredFeatures=\"http://www.w3.org/TR/SVG11/feature#Extensibility\"/><a target=\"_blank\" transform=\"translate(0,-5)\" xlink:href=\"https://desk.draw.io/support/solutions/articles/16000042487\"><text font-size=\"10px\" text-anchor=\"middle\" x=\"50%\" y=\"100%\">Viewer does not support full SVG 1.1</text></a></switch></svg>"
          },
          "metadata": {
            "tags": []
          }
        }
      ]
    },
    {
      "cell_type": "markdown",
      "metadata": {
        "id": "K4xNf5WBQMmL"
      },
      "source": [
        "- 伸縮の基準である _自然長_ を確認\n",
        "- 途中の状態では, ばねをゆっくり引き伸ばす\n",
        "  - 力のつり合いより$:\\quad F + (-kx) =0; \\to F = kx$\n",
        "\n",
        "- $F$ は $x$の一次関数で増える\n",
        "  - 外力と基準からの変位のグラフを利用"
      ]
    },
    {
      "cell_type": "markdown",
      "metadata": {
        "id": "ur9_6QOKac5H"
      },
      "source": [
        "ばね定数 $k$ のバネを, $x$ 伸ばすために外力がした仕事 $W$ は, $F-x$ グラフ を利用すると\n",
        "\\begin{align*}\n",
        "W = \\dfrac{1}{2} F \\cdot x = \\dfrac{1}{2} kx \\cdot x  = \\dfrac{1}{2} kx^2 \n",
        "\\end{align*}"
      ]
    },
    {
      "cell_type": "markdown",
      "metadata": {
        "id": "8iZlcxbIQ8Bj"
      },
      "source": [
        "この仕事が, _はねの基準から(自然長)_ から伸び $x$ の位置にいる,  \n",
        "ばね定数 $k$ のばね(弾性体)に蓄えられていると考え,   \n",
        "**弾性力による位置エネルギー $U$** を\n",
        "\\begin{align} \n",
        "U = \\dfrac{1}{2} kx^2 \n",
        "\\end{align}\n",
        "と定義します.\n"
      ]
    },
    {
      "cell_type": "markdown",
      "metadata": {
        "id": "8OhUN5UOo4pj"
      },
      "source": [
        "---\n",
        "\n",
        "定積分で表現するなら\n",
        "\\begin{align}\n",
        "U &= \\int_{0}^{x} F_{\\rm ex} {\\rm d}x \n",
        "&= \\int_{0}^{x} \\left( + kx \\right) {\\rm d}x\n",
        "\\end{align}"
      ]
    }
  ]
}