{
  "nbformat": 4,
  "nbformat_minor": 0,
  "metadata": {
    "colab": {
      "name": "1680_仕事の原理_物理1",
      "provenance": [],
      "collapsed_sections": [],
      "toc_visible": true,
      "authorship_tag": "ABX9TyOX03u8WdiaoAxVEydkvAsq",
      "include_colab_link": true
    },
    "kernelspec": {
      "name": "python3",
      "display_name": "Python 3"
    }
  },
  "cells": [
    {
      "cell_type": "markdown",
      "metadata": {
        "id": "view-in-github",
        "colab_type": "text"
      },
      "source": [
        "<a href=\"https://colab.research.google.com/github/kzhkAKT/Physics1/blob/draft/2ndTERM/1680_%E4%BB%95%E4%BA%8B%E3%81%AE%E5%8E%9F%E7%90%86_%E7%89%A9%E7%90%861.ipynb\" target=\"_parent\"><img src=\"https://colab.research.google.com/assets/colab-badge.svg\" alt=\"Open In Colab\"/></a>"
      ]
    },
    {
      "cell_type": "markdown",
      "metadata": {
        "id": "PZo0KOeN0Jk3"
      },
      "source": [
        "# 平面空間での運動"
      ]
    },
    {
      "cell_type": "markdown",
      "metadata": {
        "id": "3HMa4BuE41x_"
      },
      "source": [
        "## 数学の復習: ベクトルの内積"
      ]
    },
    {
      "cell_type": "markdown",
      "metadata": {
        "id": "jeHhyqj-5CiR"
      },
      "source": [
        "$\\require{color}$\n",
        "\\begin{align}\n",
        "\\vec{a} \\cdot \\vec{b} &= \\left|\\vec{a}  \\right| \\left|\\vec{b}  \\right| \\cos\\theta\\\\\n",
        "& = \\textcolor{blue}{\\left|\\vec{a}  \\right|}\n",
        "\\textcolor{orange}{\\left( \\left|\\vec{b}  \\right| \\cos\\theta \\right)}\n",
        "\\end{align}\n",
        "\n",
        "![https://qiita.com/kenmatsu4/items/a144047c1b49aa8c7eb0](https://qiita-user-contents.imgix.net/https%3A%2F%2Fqiita-image-store.s3.amazonaws.com%2F0%2F50670%2F1217f6a1-141b-94e7-b098-45a8dea95171.png?ixlib=rb-1.2.2&auto=format&gif-q=60&q=75&s=79586c8e5149e73784bbbfb0a32b778e)\n",
        "\n",
        "---\n",
        "Thanks\n",
        "\n",
        "https://qiita.com/kenmatsu4/items/a144047c1b49aa8c7eb0\n",
        "\n",
        "[KIT,\n",
        "（ベクトルの) 内積](http://w3e.kanazawa-it.ac.jp/math/category/vector/henkan-tex.cgi?target=/math/category/vector/naiseki.html)"
      ]
    },
    {
      "cell_type": "markdown",
      "metadata": {
        "id": "9uk-whJMBaUk"
      },
      "source": [
        "$\\require{cancel}$\n",
        "### 内積の成分表示\n",
        "\n",
        "成分による内積計算\n",
        "\\begin{align*}\n",
        "&\\vec{a}= \\left( \\begin{array}{c}\n",
        "    a_1 \\\\\n",
        "    a_2\n",
        "  \\end{array}\\right),\n",
        "  \\quad \\vec{b}=   \\left(\\begin{array}{c}\n",
        "    b_1 \\\\\n",
        "    b_2\n",
        "  \\end{array}\n",
        "  \\right)\\\\[3mm]\n",
        "\\vec{a} \\cdot \\vec{b} &= \n",
        "  \\left(\\begin{array}{c}\n",
        "    a_1 \\\\\n",
        "    a_2\n",
        "  \\end{array}\n",
        "  \\right)\n",
        "  \\cdot\n",
        "  \\left(\\begin{array}{c}\n",
        "    b_1 \\\\\n",
        "    b_2\n",
        "  \\end{array}\n",
        "  \\right) = a_1 b_1 + a_2 b_2\\\\[2mm]  \n",
        "\\end{align*}\n"
      ]
    },
    {
      "cell_type": "markdown",
      "metadata": {
        "id": "sB_XeQhZTkqS"
      },
      "source": [
        "### 幾何学的表現と成分表示のつながり\n",
        "\n",
        "いま\n",
        "\\begin{align*}\n",
        "  \\vec{c}\n",
        "  &= \\vec{b} - \\vec{a}\n",
        "  =   \\left(\\begin{array}{c}\n",
        "    b_1 - a_1\\\\\n",
        "    b_2 - a_1\n",
        "  \\end{array}\n",
        "  \\right) &\\\\[3mm]\n",
        "\\end{align*}\n",
        "おくと, その大きさは\n",
        "\\begin{align*}\n",
        "  c& =\\left| \\vec{c} \\right| \n",
        "  = \\sqrt{ \\left(b_1 - a_1\\right)^2 + \n",
        "  \\left(b_2 - a_2\\right)^2 }\n",
        "\\end{align*}\n",
        "となる.\n",
        "\n",
        "よって\n",
        "\\begin{align*}\n",
        "\\vec{a} \\cdot \\vec{b}\n",
        "  &= \\left|\\vec{a}  \\right| \\left|\\vec{b}  \\right| \\cos\\theta\n",
        "  = \\bcancel{a b} \\left( \\dfrac{a^2 + b^2 -c^2}{2\\bcancel{ab}}\\right)\\\\\n",
        "  &=\\dfrac{\n",
        "  \\left\\{ \\left( a_1^2 + a_2^2\\right)\n",
        "  + \n",
        "  \\left( b_1^2 + b_2^2\\right) \\right\\}\n",
        "  -\n",
        "  \\left(b_1 - a_1\\right)^2 - \n",
        "  \\left(b_2 - a_2\\right)^2}{2}\\\\\n",
        "  &=\\dfrac{2\\left(a_1 b_1 + a_2 b_2\\right)}{2}\\\\\n",
        "  &=\\left(a_1 b_1 + a_2 b_2\\right)\n",
        "\\end{align*}\n",
        "\n",
        "ここで, $\\vec{a}, \\vec{b}, \\vec{c}$ で作られる三角形について余弦定理を用いた.\n",
        "\n",
        "---\n",
        "\n",
        "[KIT,余弦定理](http://w3e.kanazawa-it.ac.jp/math/category/sankakukansuu/henkan-tex.cgi?target=/math/category/sankakukansuu/yogenteiri.html)"
      ]
    },
    {
      "cell_type": "markdown",
      "metadata": {
        "id": "o1W4qfEw-5JY"
      },
      "source": [
        "## 一次元での仕事の定義"
      ]
    },
    {
      "cell_type": "markdown",
      "metadata": {
        "id": "eHlsa3xH_A3_"
      },
      "source": [
        "一次元(=一直線上)での仕事定義は, 物体が移動するを正とすると, 外力 $F$ が行う仕事は\n",
        "\n",
        "\\begin{align*}\n",
        "W &= F  \\ s\\\\[1mm]\n",
        "{\\rm [J]} &= {\\rm [N]} \\ {\\rm [m]}\n",
        "\\end{align*}\n",
        "\n",
        "$\\require{color}$\n",
        "- 移動方向と同じ方向に, 物体に 外力 が加われば, $W$ は **正**\n",
        "- 移動方向と同じ方向に, 物体に 外力 が加われば, $W$ は _負_"
      ]
    },
    {
      "cell_type": "markdown",
      "metadata": {
        "id": "Db_WNSN_WjFo"
      },
      "source": [
        "## 外力 $\\vec{F}$ による仕事 $W$ の定義"
      ]
    },
    {
      "cell_type": "markdown",
      "metadata": {
        "id": "VeZFQT75XEZL"
      },
      "source": [
        "教科書 p59 図1.84 のように,\n",
        "- 変位 $s$ は水平方向\n",
        "- **大きさ**も _方向も_ 一定の外力 $\\vec{F}$ が, 水平を基準に **仰角** (ぎょうかく)$\\theta$ で, 物体に作用\n",
        "\n",
        "するときの外力 $\\vec{F}$ がした仕事を考えます."
      ]
    },
    {
      "cell_type": "markdown",
      "metadata": {
        "id": "TakcI_jlYAdh"
      },
      "source": [
        "- 外力(ベクトル) $\\vec{F}$ を 座標に入れて分解します:\n",
        "  1. 水平な方向 $\\parallel\\quad$, $x$方向 [単位ベクトル $\\vec{e}_x$]\n",
        "  1. 垂直な方向 $\\bot\\quad$, $y$方向 [単位ベクトル $\\vec{e}_y$]\n",
        "- 力ベクトルを成分表示すると\n",
        "  \b\\begin{align}\n",
        "  \\vec{F} &= F_{\\parallel}\\ \\vec{e}_x +  F_{\\bot}\\ \\vec{e}_y \n",
        "  =\\left(\\begin{array}{c}\n",
        "    F_{\\parallel} \\\\\n",
        "    F_{\\bot}\\\n",
        "  \\end{array}\n",
        "  \\right)\n",
        "  \\end{align}"
      ]
    },
    {
      "cell_type": "markdown",
      "metadata": {
        "id": "cAjhQUbwZnJl"
      },
      "source": [
        "> Q. $F_{\\parallel},  F_{\\bot}$ のそれぞれの大きさを,   \n",
        "外力の大きさ $F=\\left| \\vec{F}\\right|$ と 仰角 $\\theta$ を使って表現してください."
      ]
    },
    {
      "cell_type": "markdown",
      "metadata": {
        "id": "f3D9P4q_aVMr"
      },
      "source": [
        "外力 $\\vec{F}$ が, 物体にした仕事 $W$ を整理していきます:\n",
        "- 物体は水平方向に移動しただけです.\n",
        "  - 鉛直($y$軸)方向に働く外力は $F_{\\bot}$\n",
        "    - 鉛直方向への移動はありません.\n",
        "    - 鉛直方向に働く力の仕事 $W_{\\bot} = F_{\\bot}\\ 0 =0$\n",
        "  \n",
        "  - 水平方向に働く外力は $F_{\\parallel}$\n",
        "    - 水平($x$軸)方向へは変位 $s$ 移動しています\n",
        "    - 水平方向に働く力の仕事 $W_{\\parallel} = F_{\\parallel} s$\n",
        "\n",
        "- よって 外力 $\\vec{F}$ による仕事 $W$ は\n",
        "  \\begin{align}\n",
        "  W &= W_{\\parallel} + W_{\\bot} = F_{\\parallel} s + 0\\\\[2mm]\n",
        "  &= F_{\\parallel} s \\\\[2mm]\n",
        "  &= \\left( F \\cos\\theta \\right) s \\\\[4mm]\n",
        "  W &= F s \\cos \\theta \n",
        "  \\end{align}\n",
        "\n",
        "    - このことから次のことが言えます\n",
        "      >> **変位に対して垂直な力は仕事をしない**\n",
        "\n",
        "    - 変位 $s$ を, 変位ベクトル $\\vec{s}$ と表すと,   \n",
        "      ここで考えた仕事 $W$ は, ベクトルの内積を用いて\n",
        "      > \\begin{align*}\n",
        "        W &= F s \\cos \\theta\\\\[2mm]\n",
        "        &= \\vec{F} \\cdot \\vec{s}\n",
        "      \\end{align*}\n",
        "\n"
      ]
    },
    {
      "cell_type": "markdown",
      "metadata": {
        "id": "GF4EyK5Sd6D4"
      },
      "source": [
        "## 仕事の原理"
      ]
    },
    {
      "cell_type": "markdown",
      "metadata": {
        "id": "nILyUWCGeRAI"
      },
      "source": [
        "教科書 p60 図1.85 を利用します\n",
        "  - 斜面は, _まっすぐで_ かつ _なめらか_ とします\n",
        "    1. ケース1 斜面に沿って物体を引き上げる\n",
        "    2. ケース2 単に鉛直方向にまっすく引き上げる\n",
        "  - ケース1,2 も一定の **速度で引き上げる** こととします\n",
        "  - ケース1,2 で引き上げた場合, それぞれの<font color=\"Orange\">外力がした仕事</font>を比べます"
      ]
    },
    {
      "cell_type": "markdown",
      "metadata": {
        "id": "ZhUHWDXsgLDM"
      },
      "source": [
        "> Q. 教科書 p60 図1.85 のケース1で斜面を引き上げる<font color=\"Orange\">外力</font> の大きさ $F_1 $を $m,g,\\theta$ で示してください.\n",
        "\n",
        "> Q. 教科書 p60 図1.85 のケース2で鉛直方向に引き上げる<font color=\"Orange\">外力</font> の大きさ $F_2$ を $m,g$ で示してください.\n",
        "\n",
        "> Q. 教科書 p60 図1.85 のケース1の斜面の長さ $L$ を $h, \\theta$ で示してください.\n",
        "\n"
      ]
    },
    {
      "cell_type": "markdown",
      "metadata": {
        "id": "lLyLm_mEg-yC"
      },
      "source": [
        "$\\require{cancel}$\n",
        "1. ケース1での仕事 $W_1$\n",
        "  \\begin{align*}\n",
        "    W_1\n",
        "    &= F_1 L\n",
        "    = \\left( mg \\bcancel{\\sin \\theta} \\right) \\left( \\dfrac{h}{\\bcancel{\\sin \\theta}} \\right) \\\\[1mm]\n",
        "    &= mg\\ h\n",
        "  \\end{align*}\n",
        "2. ケース2での仕事 $W_2$\n",
        "  \\begin{align*}\n",
        "    W_2\n",
        "    &= F_2 h\n",
        "    = \\left( mg \\right) h \\\\[2mm]\n",
        "    &= mg\\ h\n",
        "  \\end{align*}"
      ]
    },
    {
      "cell_type": "markdown",
      "metadata": {
        "id": "FacML-vUjJ9S"
      },
      "source": [
        "どちらのケースも　**経路** 依存せず, \n",
        "\\begin{align*}\n",
        "W_1 &= mgh = W_2\n",
        "\\end{align*}\n",
        "外力がした仕事は **等しく** なります.\n",
        "\n",
        "これを一般化し,\n",
        "> (摩擦力などの抵抗力を無視すれば) **外力が行う仕事は経路に依存しない**\n",
        "\n",
        "ということができます."
      ]
    },
    {
      "cell_type": "code",
      "metadata": {
        "colab": {
          "base_uri": "https://localhost:8080/",
          "height": 336
        },
        "cellView": "form",
        "id": "TK3TduwKlVmT",
        "outputId": "f3920e96-dd5a-4f51-be06-b54f503e6cdc"
      },
      "source": [
        "#@title 滑車と動滑車\n",
        "%%html\n",
        "<iframe width=\"560\" height=\"315\" src=\"https://www.youtube-nocookie.com/embed/ko7-Hb6PHzA\" frameborder=\"0\" allow=\"accelerometer; autoplay; clipboard-write; encrypted-media; gyroscope; picture-in-picture\" allowfullscreen></iframe>"
      ],
      "execution_count": null,
      "outputs": [
        {
          "output_type": "display_data",
          "data": {
            "text/html": [
              "<iframe width=\"560\" height=\"315\" src=\"https://www.youtube-nocookie.com/embed/ko7-Hb6PHzA\" frameborder=\"0\" allow=\"accelerometer; autoplay; clipboard-write; encrypted-media; gyroscope; picture-in-picture\" allowfullscreen></iframe>"
            ],
            "text/plain": [
              "<IPython.core.display.HTML object>"
            ]
          },
          "metadata": {
            "tags": []
          }
        }
      ]
    },
    {
      "cell_type": "code",
      "metadata": {
        "colab": {
          "base_uri": "https://localhost:8080/",
          "height": 336
        },
        "cellView": "form",
        "id": "qjD_8FhvdpLI",
        "outputId": "7c4efa28-08d7-4daa-a394-3ad45a7b9b8a"
      },
      "source": [
        "#@title 滑車と動滑車:長尺\n",
        "%%html\n",
        "<iframe width=\"560\" height=\"315\" src=\"https://www.youtube-nocookie.com/embed/M2w3NZzPwOM\" frameborder=\"0\" allow=\"accelerometer; autoplay; clipboard-write; encrypted-media; gyroscope; picture-in-picture\" allowfullscreen></iframe>"
      ],
      "execution_count": null,
      "outputs": [
        {
          "output_type": "display_data",
          "data": {
            "text/html": [
              "<iframe width=\"560\" height=\"315\" src=\"https://www.youtube-nocookie.com/embed/M2w3NZzPwOM\" frameborder=\"0\" allow=\"accelerometer; autoplay; clipboard-write; encrypted-media; gyroscope; picture-in-picture\" allowfullscreen></iframe>"
            ],
            "text/plain": [
              "<IPython.core.display.HTML object>"
            ]
          },
          "metadata": {
            "tags": []
          }
        }
      ]
    }
  ]
}