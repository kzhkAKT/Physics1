{
  "nbformat": 4,
  "nbformat_minor": 0,
  "metadata": {
    "colab": {
      "name": "1610_運動方程式の表し方_物理1",
      "provenance": [],
      "collapsed_sections": [],
      "toc_visible": true,
      "authorship_tag": "ABX9TyN2w420tx+f91Dgt7sKNMxo",
      "include_colab_link": true
    },
    "kernelspec": {
      "name": "python3",
      "display_name": "Python 3"
    }
  },
  "cells": [
    {
      "cell_type": "markdown",
      "metadata": {
        "id": "view-in-github",
        "colab_type": "text"
      },
      "source": [
        "<a href=\"https://colab.research.google.com/github/kzhkAKT/Physics1/blob/draft/2ndTERM/1610_%E9%81%8B%E5%8B%95%E6%96%B9%E7%A8%8B%E5%BC%8F%E3%81%AE%E8%A1%A8%E3%81%97%E6%96%B9_%E7%89%A9%E7%90%861.ipynb\" target=\"_parent\"><img src=\"https://colab.research.google.com/assets/colab-badge.svg\" alt=\"Open In Colab\"/></a>"
      ]
    },
    {
      "cell_type": "markdown",
      "metadata": {
        "id": "PZo0KOeN0Jk3"
      },
      "source": [
        "# 平面空間での運動"
      ]
    },
    {
      "cell_type": "markdown",
      "metadata": {
        "id": "vAgjHkyV0NMs"
      },
      "source": [
        "## 運動方程式の表し方"
      ]
    },
    {
      "cell_type": "code",
      "metadata": {
        "id": "OorYKH_M0Ea5",
        "cellView": "form",
        "outputId": "ee9780e7-dfee-4346-be48-f061875c4006",
        "colab": {
          "base_uri": "https://localhost:8080/",
          "height": 336
        }
      },
      "source": [
        "#@title 例: 平面上の運動\n",
        "%%html\n",
        "<iframe width=\"560\" height=\"315\" src=\"https://www.youtube-nocookie.com/embed/Q0Wz5P0JdeU?start=162\" frameborder=\"0\" allow=\"accelerometer; autoplay; clipboard-write; encrypted-media; gyroscope; picture-in-picture\" allowfullscreen></iframe>"
      ],
      "execution_count": null,
      "outputs": [
        {
          "output_type": "display_data",
          "data": {
            "text/html": [
              "<iframe width=\"560\" height=\"315\" src=\"https://www.youtube-nocookie.com/embed/Q0Wz5P0JdeU?start=162\" frameborder=\"0\" allow=\"accelerometer; autoplay; clipboard-write; encrypted-media; gyroscope; picture-in-picture\" allowfullscreen></iframe>"
            ],
            "text/plain": [
              "<IPython.core.display.HTML object>"
            ]
          },
          "metadata": {
            "tags": []
          }
        }
      ]
    },
    {
      "cell_type": "markdown",
      "metadata": {
        "id": "UCCfo16k4SNI"
      },
      "source": [
        "無重力状態の動画でも確認できるように, 物体の運動は\n",
        "1. 力の方向に依存する\n",
        "2. 力の大きさに依存する\n",
        "\n",
        "また加速度についても, **力の方向に比例** しています.\n",
        "\n",
        "> *大きさ* と *方向* 持つため, 力は **ベクトル**\n",
        "\n",
        "と考えましょう."
      ]
    },
    {
      "cell_type": "markdown",
      "metadata": {
        "id": "-LAxIbra5TV_"
      },
      "source": [
        "運動方程式 $ma = F$ を踏まえると, 左辺の量にもベクトル量が潜んでいます.\n",
        "\n",
        "> Q. 生活レベルで, 運動方程式に現れるもう一つのベクトル量を示してください."
      ]
    },
    {
      "cell_type": "markdown",
      "metadata": {
        "id": "SvMLMNcG54ns"
      },
      "source": [
        "### ベクトル表示の運動方程式"
      ]
    },
    {
      "cell_type": "markdown",
      "metadata": {
        "id": "WqEHSSeI5wLV"
      },
      "source": [
        "\\begin{align}\n",
        "\\huge m \\vec{a} & \\huge = \\vec{F}\n",
        "\\end{align}\n",
        "\n",
        "ベクトルで表現することで、\n",
        "1. 視覚的に捉えることが容易になります.  \n",
        "2. ベクトルの加法や減法を利用することができます\n",
        "\n",
        "ベクトル表現の運動方程式であっても、  \n",
        "加速度は **瞬間の**加速度であること忘れないください.\n",
        "\n",
        "---\n",
        "ベクトルを  **太字** で書くこともあります\n",
        "\\begin{align}\n",
        "\\large m \\boldsymbol{\\bf{a}} & \\large = \\bf{F}\n",
        "\\end{align}"
      ]
    },
    {
      "cell_type": "markdown",
      "metadata": {
        "id": "Hamy423ebpU3"
      },
      "source": [
        "> Q. ベクトル表示の運動方程式で, スカラー量 と ベクトル量で表現されている物理量をそれぞれ答えてください."
      ]
    },
    {
      "cell_type": "markdown",
      "metadata": {
        "id": "6PIeplK-b218"
      },
      "source": [
        "## 成分表示の運動方程式"
      ]
    },
    {
      "cell_type": "markdown",
      "metadata": {
        "id": "5ZNgRUHdb9Dk"
      },
      "source": [
        "ベクトル表示は視覚的に便利ですが, 実際の大きさを求めるためには, ベクトルを測る物差しが必要です.\n",
        "\n",
        "- 物差しに相当するものが, **座標** です.\n",
        "- 現時点では最も簡単な **$x-y$ 座標** 座標を考えます\n",
        "  - 一般的な $x-y$ 座標では $x$ 軸と $y$ 軸が直交しています.   \n",
        "  (90$^{\\circ}つまり$$\\pi/2$で交わっています)\n"
      ]
    },
    {
      "cell_type": "code",
      "metadata": {
        "id": "dYh3LZ12d1Xt",
        "cellView": "form",
        "outputId": "53c3bc42-5c74-4689-dbcb-3a684227cb3a",
        "colab": {
          "base_uri": "https://localhost:8080/",
          "height": 255
        }
      },
      "source": [
        "#@title ベクトル表示の運動方程式の座標への組み込み\n",
        "%%svg\n",
        "<svg xmlns=\"http://www.w3.org/2000/svg\" xmlns:xlink=\"http://www.w3.org/1999/xlink\" version=\"1.1\" width=\"732px\" viewBox=\"-0.5 -0.5 732 234\" content=\"&lt;mxfile host=&quot;app.diagrams.net&quot; modified=&quot;2020-11-05T12:52:11.738Z&quot; agent=&quot;5.0 (Macintosh; Intel Mac OS X 10_15_7) AppleWebKit/537.36 (KHTML, like Gecko) Chrome/86.0.4240.111 Safari/537.36&quot; etag=&quot;LZfUkwVgkzEdSQJX8Ukj&quot; version=&quot;13.8.9-1&quot; type=&quot;google&quot;&gt;&lt;diagram id=&quot;GOQYwMidhV6avH3nMk7K&quot; name=&quot;Page-1&quot;&gt;7Ztdk6o4EIZ/jZdakADi5TgfZy92q6ZqqnZ2L6NETA0QDuAR99dvgERIBPELz6jMjaYJDXTePOmOzAA+++mPCIXLv6iDvQHQnHQAXwYA6PoYsI/MsuEWTRsXFjciDreVhg/yHxYduXVFHBxLHRNKvYSEsnFOgwDPE8mGooiu5W4L6slXDZGLdwwfc+TtWj+JkywLq2nD0v4HJu6SX9nQ+QEfib78QeIlcui6YoKvA/gcUZoU3/z0GXtZ8ERYivPeGo5u7yvCQXLICX/7P96+fvqvnx+fqWdv1k5oJkPu5RfyVvx5+c0mGxEA5oXFmjWm6yVJ8EeI5tmRNRtvZlsmvsdaOvuK4rAYgAVJMbvolPvGUYLTxpvWt6FgGsLUx0m0YV3ECZBHj8sH2Ly9LsdCmJaVYRA2xEff3XouI8S+8CAdETBwQMAC5ykTHmvNPRTHZC7HCack+Yd910YTaPP2v3kb8NZL9vSaaGwqjXccEfYgOOK2OIno11aY5jbo2NlRdWvIKyE1a0IqbBH2UEJ+ye7r4syv8E4Ju3A5otZkNKn+jaUBhsCSPcZ0Fc0xd1KVt+IXTIzRxNLKP0MWDlQUkaDIxcmO31wU26CcrhNYoxPLY6GcLmh+26VgrJ8rKg4M4xyAT6wDMMK0PJihq5h4pY3dZuQSVO1kufwzv9RMNRBheBMW9nBE7cVsO2cyW3HjwqyKngnuTzRj9JeZ4BE3yCYCE18m2mlGA8Lo+sQP+MRxMh/TCLNHR7PcX6bsMBuZfKzM6cB8YRYvcz9F8y83oqvAeaYezaZBQAO8DzZ8YeCuSx5XZ0TzVG8k01AbabqY/Vxk5kVmiK2P9Inkd2gYIxNUtK34pItFjDuRsdmOO7auhdnXhYdTzr1pGwJlbOm3gK2xvBBBMdhHc8pUVjRLcdQxmKxGMM2aqbRAPvE2BZfYIeSH+ZBBaLBPd4sh2Z71LcC1H2wNiEKHI+r+WWS2sUgH8noHL6J6a2QpILJG4FrssRuVSn6rUv16YSoiZEOfyPpTVYVWCS2udaQ8d+W4IJ6naLBArGLMxZrl5vkNnCjiM7L3yW72btQwG3SVvYui8pz0XV67wA2sXYay5EBDie+ha5fqSLeum1TrdenId0DC5iAk3OG6pGv1wubutZENxBQ7VcRi6YFKYdjdwqMfsityf5SAaoZ7IiUsvcVR15QwzqWEgEIjAPKZrzAgfVgG7E8CGANMU04j9YsIVuS4m9rzO8RDvwd46YRE7HccixpznG36Sb62srgWbfqdvtsnWL/Vx4JQtzN091nPWM16Tq2NVEc7RWzXHBqfm/X0tdGFqWK15UW3WBvV7crdPyXaSppDKWEbv7k2mpxLib42OooBdhsD7qs2EjTofzDcSSxOrXFshT3AVBx1jAzQXOD0vxh+X/KA1prmDn8yBHVbf83ZCQ++g+Jl/qOYLg9/Zn9HCRv6ILcADd5k9mKOdZkgp767YJgtjrpG0XetcbabLPFqVlf3VMyPmgkVU3NPJjS2LPlVQPGu5ZnqH0JFpB3i54DXpR4RPxcqnlRH136nEzS/OxWHKOiwfmre1a2QJT0GOGXP/M4fiEOtr1KZun5mEcb1aVwv7zluV+ZBwNNaOZ28t3vtEuzsXZuO8h7U5z2tvGnbAbqDvEdMjx4/En40+zJ5j+oIXPm1O1j3PtSxec/VN4H6zOhIUsH97/JdMjO6BJpYs/znyaJ7+S+o8PV/&lt;/diagram&gt;&lt;/mxfile&gt;\" onclick=\"(function(svg){var src=window.event.target||window.event.srcElement;while (src!=null&amp;&amp;src.nodeName.toLowerCase()!='a'){src=src.parentNode;}if(src==null){if(svg.wnd!=null&amp;&amp;!svg.wnd.closed){svg.wnd.focus();}else{var r=function(evt){if(evt.data=='ready'&amp;&amp;evt.source==svg.wnd){svg.wnd.postMessage(decodeURIComponent(svg.getAttribute('content')),'*');window.removeEventListener('message',r);}};window.addEventListener('message',r);svg.wnd=window.open('https://viewer.diagrams.net/?client=1&amp;page=0&amp;edit=_blank');}}})(this);\" style=\"cursor:pointer;max-width:100%;max-height:234px;\"><defs/><g><ellipse cx=\"40\" cy=\"193\" rx=\"40\" ry=\"40\" fill=\"#ffffff\" stroke=\"#000000\" pointer-events=\"all\"/><path d=\"M 40 199 L 153.98 111.43\" fill=\"none\" stroke=\"#000000\" stroke-width=\"5\" stroke-miterlimit=\"10\" pointer-events=\"stroke\"/><path d=\"M 160.53 106.41 L 155.15 117.47 L 153.98 111.43 L 148.45 108.75 Z\" fill=\"#000000\" stroke=\"#000000\" stroke-width=\"5\" stroke-miterlimit=\"10\" pointer-events=\"all\"/><g transform=\"translate(-0.5 -0.5)\"><switch><foreignObject style=\"overflow: visible; text-align: left;\" pointer-events=\"none\" width=\"100%\" height=\"100%\" requiredFeatures=\"http://www.w3.org/TR/SVG11/feature#Extensibility\"><div xmlns=\"http://www.w3.org/1999/xhtml\" style=\"display: flex; align-items: unsafe center; justify-content: unsafe center; width: 1px; height: 1px; padding-top: 103px; margin-left: 180px;\"><div style=\"box-sizing: border-box; font-size: 0; text-align: center; \"><div style=\"display: inline-block; font-size: 11px; font-family: Helvetica; color: #000000; line-height: 1.2; pointer-events: all; white-space: nowrap; \"><font style=\"font-size: 24px\" face=\"Georgia\"><b><i>F</i></b></font></div></div></div></foreignObject><text x=\"180\" y=\"107\" fill=\"#000000\" font-family=\"Helvetica\" font-size=\"11px\" text-anchor=\"middle\">F</text></switch></g><path d=\"M 43.4 201.7 L 37.4 193.7 L 101.4 145.7 L 95.1 137.3 L 119.6 138.3 L 113.7 162.1 L 107.4 153.7 Z\" fill=\"none\" stroke=\"#000000\" stroke-linejoin=\"round\" stroke-miterlimit=\"10\" pointer-events=\"all\"/><g transform=\"translate(-0.5 -0.5)\"><switch><foreignObject style=\"overflow: visible; text-align: left;\" pointer-events=\"none\" width=\"100%\" height=\"100%\" requiredFeatures=\"http://www.w3.org/TR/SVG11/feature#Extensibility\"><div xmlns=\"http://www.w3.org/1999/xhtml\" style=\"display: flex; align-items: unsafe center; justify-content: unsafe center; width: 1px; height: 1px; padding-top: 124px; margin-left: 81px;\"><div style=\"box-sizing: border-box; font-size: 0; text-align: center; \"><div style=\"display: inline-block; font-size: 11px; font-family: Helvetica; color: #000000; line-height: 1.2; pointer-events: all; white-space: nowrap; \"><b style=\"font-family: &quot;georgia&quot; ; font-size: 24px\"><i>a</i></b></div></div></div></foreignObject><text x=\"81\" y=\"127\" fill=\"#000000\" font-family=\"Helvetica\" font-size=\"11px\" text-anchor=\"middle\">a</text></switch></g><rect x=\"0\" y=\"163\" width=\"40\" height=\"20\" fill=\"none\" stroke=\"none\" pointer-events=\"all\"/><g transform=\"translate(-0.5 -0.5)\"><switch><foreignObject style=\"overflow: visible; text-align: left;\" pointer-events=\"none\" width=\"100%\" height=\"100%\" requiredFeatures=\"http://www.w3.org/TR/SVG11/feature#Extensibility\"><div xmlns=\"http://www.w3.org/1999/xhtml\" style=\"display: flex; align-items: unsafe center; justify-content: unsafe center; width: 1px; height: 1px; padding-top: 173px; margin-left: 20px;\"><div style=\"box-sizing: border-box; font-size: 0; text-align: center; \"><div style=\"display: inline-block; font-size: 12px; font-family: Helvetica; color: #000000; line-height: 1.2; pointer-events: all; white-space: nowrap; \"><i style=\"font-family: &quot;georgia&quot; ; font-size: 24px\">m</i></div></div></div></foreignObject><text x=\"20\" y=\"177\" fill=\"#000000\" font-family=\"Helvetica\" font-size=\"12px\" text-anchor=\"middle\">m</text></switch></g><path d=\"M 320 213 L 320 41.24\" fill=\"none\" stroke=\"#000000\" stroke-width=\"2\" stroke-miterlimit=\"10\" pointer-events=\"stroke\"/><path d=\"M 320 35.24 L 324 43.24 L 320 41.24 L 316 43.24 Z\" fill=\"#000000\" stroke=\"#000000\" stroke-width=\"2\" stroke-miterlimit=\"10\" pointer-events=\"all\"/><g transform=\"translate(-0.5 -0.5)\"><switch><foreignObject style=\"overflow: visible; text-align: left;\" pointer-events=\"none\" width=\"100%\" height=\"100%\" requiredFeatures=\"http://www.w3.org/TR/SVG11/feature#Extensibility\"><div xmlns=\"http://www.w3.org/1999/xhtml\" style=\"display: flex; align-items: unsafe center; justify-content: unsafe center; width: 1px; height: 1px; padding-top: 14px; margin-left: 321px;\"><div style=\"box-sizing: border-box; font-size: 0; text-align: center; \"><div style=\"display: inline-block; font-size: 11px; font-family: Helvetica; color: #000000; line-height: 1.2; pointer-events: all; white-space: nowrap; \"><i style=\"font-family: &quot;georgia&quot; ; font-size: 24px\">y</i></div></div></div></foreignObject><text x=\"321\" y=\"17\" fill=\"#000000\" font-family=\"Helvetica\" font-size=\"11px\" text-anchor=\"middle\">y</text></switch></g><path d=\"M 300 193 L 471.76 193\" fill=\"none\" stroke=\"#000000\" stroke-width=\"2\" stroke-miterlimit=\"10\" pointer-events=\"stroke\"/><path d=\"M 477.76 193 L 469.76 197 L 471.76 193 L 469.76 189 Z\" fill=\"#000000\" stroke=\"#000000\" stroke-width=\"2\" stroke-miterlimit=\"10\" pointer-events=\"all\"/><g transform=\"translate(-0.5 -0.5)\"><switch><foreignObject style=\"overflow: visible; text-align: left;\" pointer-events=\"none\" width=\"100%\" height=\"100%\" requiredFeatures=\"http://www.w3.org/TR/SVG11/feature#Extensibility\"><div xmlns=\"http://www.w3.org/1999/xhtml\" style=\"display: flex; align-items: unsafe center; justify-content: unsafe center; width: 1px; height: 1px; padding-top: 194px; margin-left: 491px;\"><div style=\"box-sizing: border-box; font-size: 0; text-align: center; \"><div style=\"display: inline-block; font-size: 11px; font-family: Helvetica; color: #000000; line-height: 1.2; pointer-events: all; white-space: nowrap; \"><i style=\"font-family: &quot;georgia&quot; ; font-size: 24px\">x</i></div></div></div></foreignObject><text x=\"491\" y=\"197\" fill=\"#000000\" font-family=\"Helvetica\" font-size=\"11px\" text-anchor=\"middle\">x</text></switch></g><path d=\"M 320 192 L 433.98 104.43\" fill=\"none\" stroke=\"#000000\" stroke-width=\"5\" stroke-miterlimit=\"10\" pointer-events=\"stroke\"/><path d=\"M 440.53 99.41 L 435.15 110.47 L 433.98 104.43 L 428.45 101.75 Z\" fill=\"#000000\" stroke=\"#000000\" stroke-width=\"5\" stroke-miterlimit=\"10\" pointer-events=\"all\"/><g transform=\"translate(-0.5 -0.5)\"><switch><foreignObject style=\"overflow: visible; text-align: left;\" pointer-events=\"none\" width=\"100%\" height=\"100%\" requiredFeatures=\"http://www.w3.org/TR/SVG11/feature#Extensibility\"><div xmlns=\"http://www.w3.org/1999/xhtml\" style=\"display: flex; align-items: unsafe center; justify-content: unsafe center; width: 1px; height: 1px; padding-top: 96px; margin-left: 460px;\"><div style=\"box-sizing: border-box; font-size: 0; text-align: center; \"><div style=\"display: inline-block; font-size: 11px; font-family: Helvetica; color: #000000; line-height: 1.2; pointer-events: all; white-space: nowrap; \"><font style=\"font-size: 24px\" face=\"Georgia\"><b><i>F</i></b></font></div></div></div></foreignObject><text x=\"460\" y=\"100\" fill=\"#000000\" font-family=\"Helvetica\" font-size=\"11px\" text-anchor=\"middle\">F</text></switch></g><path d=\"M 600 213 L 600 101.24\" fill=\"none\" stroke=\"#000000\" stroke-width=\"2\" stroke-miterlimit=\"10\" pointer-events=\"stroke\"/><path d=\"M 600 95.24 L 604 103.24 L 600 101.24 L 596 103.24 Z\" fill=\"#000000\" stroke=\"#000000\" stroke-width=\"2\" stroke-miterlimit=\"10\" pointer-events=\"all\"/><g transform=\"translate(-0.5 -0.5)\"><switch><foreignObject style=\"overflow: visible; text-align: left;\" pointer-events=\"none\" width=\"100%\" height=\"100%\" requiredFeatures=\"http://www.w3.org/TR/SVG11/feature#Extensibility\"><div xmlns=\"http://www.w3.org/1999/xhtml\" style=\"display: flex; align-items: unsafe center; justify-content: unsafe center; width: 1px; height: 1px; padding-top: 69px; margin-left: 601px;\"><div style=\"box-sizing: border-box; font-size: 0; text-align: center; \"><div style=\"display: inline-block; font-size: 11px; font-family: Helvetica; color: #000000; line-height: 1.2; pointer-events: all; white-space: nowrap; \"><i style=\"font-family: &quot;georgia&quot; ; font-size: 24px\">y</i></div></div></div></foreignObject><text x=\"601\" y=\"72\" fill=\"#000000\" font-family=\"Helvetica\" font-size=\"11px\" text-anchor=\"middle\">y</text></switch></g><path d=\"M 580 193 L 701.76 193\" fill=\"none\" stroke=\"#000000\" stroke-width=\"2\" stroke-miterlimit=\"10\" pointer-events=\"stroke\"/><path d=\"M 707.76 193 L 699.76 197 L 701.76 193 L 699.76 189 Z\" fill=\"#000000\" stroke=\"#000000\" stroke-width=\"2\" stroke-miterlimit=\"10\" pointer-events=\"all\"/><g transform=\"translate(-0.5 -0.5)\"><switch><foreignObject style=\"overflow: visible; text-align: left;\" pointer-events=\"none\" width=\"100%\" height=\"100%\" requiredFeatures=\"http://www.w3.org/TR/SVG11/feature#Extensibility\"><div xmlns=\"http://www.w3.org/1999/xhtml\" style=\"display: flex; align-items: unsafe center; justify-content: unsafe center; width: 1px; height: 1px; padding-top: 194px; margin-left: 725px;\"><div style=\"box-sizing: border-box; font-size: 0; text-align: center; \"><div style=\"display: inline-block; font-size: 11px; font-family: Helvetica; color: #000000; line-height: 1.2; pointer-events: all; white-space: nowrap; \"><i style=\"font-family: &quot;georgia&quot; ; font-size: 24px\">x</i></div></div></div></foreignObject><text x=\"725\" y=\"197\" fill=\"#000000\" font-family=\"Helvetica\" font-size=\"11px\" text-anchor=\"middle\">x</text></switch></g><path d=\"M 603.4 195.7 L 597.4 187.7 L 661.4 139.7 L 655.1 131.3 L 679.6 132.3 L 673.7 156.1 L 667.4 147.7 Z\" fill=\"none\" stroke=\"#000000\" stroke-linejoin=\"round\" stroke-miterlimit=\"10\" pointer-events=\"all\"/><g transform=\"translate(-0.5 -0.5)\"><switch><foreignObject style=\"overflow: visible; text-align: left;\" pointer-events=\"none\" width=\"100%\" height=\"100%\" requiredFeatures=\"http://www.w3.org/TR/SVG11/feature#Extensibility\"><div xmlns=\"http://www.w3.org/1999/xhtml\" style=\"display: flex; align-items: unsafe center; justify-content: unsafe center; width: 1px; height: 1px; padding-top: 118px; margin-left: 641px;\"><div style=\"box-sizing: border-box; font-size: 0; text-align: center; \"><div style=\"display: inline-block; font-size: 11px; font-family: Helvetica; color: #000000; line-height: 1.2; pointer-events: all; white-space: nowrap; \"><b style=\"font-family: &quot;georgia&quot; ; font-size: 24px\"><i>a</i></b></div></div></div></foreignObject><text x=\"641\" y=\"121\" fill=\"#000000\" font-family=\"Helvetica\" font-size=\"11px\" text-anchor=\"middle\">a</text></switch></g><path d=\"M 441 98 L 321 98\" fill=\"none\" stroke=\"#000000\" stroke-width=\"2\" stroke-miterlimit=\"10\" stroke-dasharray=\"2 6\" pointer-events=\"stroke\"/><g transform=\"translate(-0.5 -0.5)\"><switch><foreignObject style=\"overflow: visible; text-align: left;\" pointer-events=\"none\" width=\"100%\" height=\"100%\" requiredFeatures=\"http://www.w3.org/TR/SVG11/feature#Extensibility\"><div xmlns=\"http://www.w3.org/1999/xhtml\" style=\"display: flex; align-items: unsafe center; justify-content: unsafe center; width: 1px; height: 1px; padding-top: 97px; margin-left: 301px;\"><div style=\"box-sizing: border-box; font-size: 0; text-align: center; \"><div style=\"display: inline-block; font-size: 11px; font-family: Helvetica; color: #000000; line-height: 1.2; pointer-events: all; white-space: nowrap; \"><i style=\"font-family: &quot;georgia&quot; ; font-size: 24px\">F<sub>y</sub></i></div></div></div></foreignObject><text x=\"301\" y=\"100\" fill=\"#000000\" font-family=\"Helvetica\" font-size=\"11px\" text-anchor=\"middle\">Fy</text></switch></g><path d=\"M 440 193 L 440 103\" fill=\"none\" stroke=\"#000000\" stroke-width=\"2\" stroke-miterlimit=\"10\" stroke-dasharray=\"2 6\" pointer-events=\"stroke\"/><g transform=\"translate(-0.5 -0.5)\"><switch><foreignObject style=\"overflow: visible; text-align: left;\" pointer-events=\"none\" width=\"100%\" height=\"100%\" requiredFeatures=\"http://www.w3.org/TR/SVG11/feature#Extensibility\"><div xmlns=\"http://www.w3.org/1999/xhtml\" style=\"display: flex; align-items: unsafe center; justify-content: unsafe center; width: 1px; height: 1px; padding-top: 214px; margin-left: 441px;\"><div style=\"box-sizing: border-box; font-size: 0; text-align: center; \"><div style=\"display: inline-block; font-size: 11px; font-family: Helvetica; color: #000000; line-height: 1.2; pointer-events: all; white-space: nowrap; \"><span style=\"font-family: &quot;georgia&quot; ; font-size: 24px\"><i>F<sub>x</sub></i></span></div></div></div></foreignObject><text x=\"441\" y=\"217\" fill=\"#000000\" font-family=\"Helvetica\" font-size=\"11px\" text-anchor=\"middle\">Fx</text></switch></g><path d=\"M 680 132 L 600 132\" fill=\"none\" stroke=\"#000000\" stroke-width=\"2\" stroke-miterlimit=\"10\" stroke-dasharray=\"2 6\" pointer-events=\"stroke\"/><g transform=\"translate(-0.5 -0.5)\"><switch><foreignObject style=\"overflow: visible; text-align: left;\" pointer-events=\"none\" width=\"100%\" height=\"100%\" requiredFeatures=\"http://www.w3.org/TR/SVG11/feature#Extensibility\"><div xmlns=\"http://www.w3.org/1999/xhtml\" style=\"display: flex; align-items: unsafe center; justify-content: unsafe center; width: 1px; height: 1px; padding-top: 131px; margin-left: 575px;\"><div style=\"box-sizing: border-box; font-size: 0; text-align: center; \"><div style=\"display: inline-block; font-size: 11px; font-family: Helvetica; color: #000000; line-height: 1.2; pointer-events: all; white-space: nowrap; \"><i style=\"font-family: &quot;georgia&quot; ; font-size: 24px\">a<sub>y</sub></i></div></div></div></foreignObject><text x=\"575\" y=\"134\" fill=\"#000000\" font-family=\"Helvetica\" font-size=\"11px\" text-anchor=\"middle\">ay</text></switch></g><path d=\"M 678 193 L 678 133\" fill=\"none\" stroke=\"#000000\" stroke-width=\"2\" stroke-miterlimit=\"10\" stroke-dasharray=\"2 6\" pointer-events=\"stroke\"/><g transform=\"translate(-0.5 -0.5)\"><switch><foreignObject style=\"overflow: visible; text-align: left;\" pointer-events=\"none\" width=\"100%\" height=\"100%\" requiredFeatures=\"http://www.w3.org/TR/SVG11/feature#Extensibility\"><div xmlns=\"http://www.w3.org/1999/xhtml\" style=\"display: flex; align-items: unsafe center; justify-content: unsafe center; width: 1px; height: 1px; padding-top: 214px; margin-left: 679px;\"><div style=\"box-sizing: border-box; font-size: 0; text-align: center; \"><div style=\"display: inline-block; font-size: 11px; font-family: Helvetica; color: #000000; line-height: 1.2; pointer-events: all; white-space: nowrap; \"><span style=\"font-family: &quot;georgia&quot; ; font-size: 24px\"><i>a<sub>x</sub></i></span></div></div></div></foreignObject><text x=\"679\" y=\"217\" fill=\"#000000\" font-family=\"Helvetica\" font-size=\"11px\" text-anchor=\"middle\">ax</text></switch></g></g><switch><g requiredFeatures=\"http://www.w3.org/TR/SVG11/feature#Extensibility\"/><a transform=\"translate(0,-5)\" xlink:href=\"https://desk.draw.io/support/solutions/articles/16000042487\" target=\"_blank\"><text text-anchor=\"middle\" font-size=\"10px\" x=\"50%\" y=\"100%\">Viewer does not support full SVG 1.1</text></a></switch></svg>"
      ],
      "execution_count": null,
      "outputs": [
        {
          "output_type": "display_data",
          "data": {
            "text/plain": [
              "<IPython.core.display.SVG object>"
            ],
            "image/svg+xml": "<svg content=\"&lt;mxfile host=&quot;app.diagrams.net&quot; modified=&quot;2020-11-05T12:52:11.738Z&quot; agent=&quot;5.0 (Macintosh; Intel Mac OS X 10_15_7) AppleWebKit/537.36 (KHTML, like Gecko) Chrome/86.0.4240.111 Safari/537.36&quot; etag=&quot;LZfUkwVgkzEdSQJX8Ukj&quot; version=&quot;13.8.9-1&quot; type=&quot;google&quot;&gt;&lt;diagram id=&quot;GOQYwMidhV6avH3nMk7K&quot; name=&quot;Page-1&quot;&gt;7Ztdk6o4EIZ/jZdakADi5TgfZy92q6ZqqnZ2L6NETA0QDuAR99dvgERIBPELz6jMjaYJDXTePOmOzAA+++mPCIXLv6iDvQHQnHQAXwYA6PoYsI/MsuEWTRsXFjciDreVhg/yHxYduXVFHBxLHRNKvYSEsnFOgwDPE8mGooiu5W4L6slXDZGLdwwfc+TtWj+JkywLq2nD0v4HJu6SX9nQ+QEfib78QeIlcui6YoKvA/gcUZoU3/z0GXtZ8ERYivPeGo5u7yvCQXLICX/7P96+fvqvnx+fqWdv1k5oJkPu5RfyVvx5+c0mGxEA5oXFmjWm6yVJ8EeI5tmRNRtvZlsmvsdaOvuK4rAYgAVJMbvolPvGUYLTxpvWt6FgGsLUx0m0YV3ECZBHj8sH2Ly9LsdCmJaVYRA2xEff3XouI8S+8CAdETBwQMAC5ykTHmvNPRTHZC7HCack+Yd910YTaPP2v3kb8NZL9vSaaGwqjXccEfYgOOK2OIno11aY5jbo2NlRdWvIKyE1a0IqbBH2UEJ+ye7r4syv8E4Ju3A5otZkNKn+jaUBhsCSPcZ0Fc0xd1KVt+IXTIzRxNLKP0MWDlQUkaDIxcmO31wU26CcrhNYoxPLY6GcLmh+26VgrJ8rKg4M4xyAT6wDMMK0PJihq5h4pY3dZuQSVO1kufwzv9RMNRBheBMW9nBE7cVsO2cyW3HjwqyKngnuTzRj9JeZ4BE3yCYCE18m2mlGA8Lo+sQP+MRxMh/TCLNHR7PcX6bsMBuZfKzM6cB8YRYvcz9F8y83oqvAeaYezaZBQAO8DzZ8YeCuSx5XZ0TzVG8k01AbabqY/Vxk5kVmiK2P9Inkd2gYIxNUtK34pItFjDuRsdmOO7auhdnXhYdTzr1pGwJlbOm3gK2xvBBBMdhHc8pUVjRLcdQxmKxGMM2aqbRAPvE2BZfYIeSH+ZBBaLBPd4sh2Z71LcC1H2wNiEKHI+r+WWS2sUgH8noHL6J6a2QpILJG4FrssRuVSn6rUv16YSoiZEOfyPpTVYVWCS2udaQ8d+W4IJ6naLBArGLMxZrl5vkNnCjiM7L3yW72btQwG3SVvYui8pz0XV67wA2sXYay5EBDie+ha5fqSLeum1TrdenId0DC5iAk3OG6pGv1wubutZENxBQ7VcRi6YFKYdjdwqMfsityf5SAaoZ7IiUsvcVR15QwzqWEgEIjAPKZrzAgfVgG7E8CGANMU04j9YsIVuS4m9rzO8RDvwd46YRE7HccixpznG36Sb62srgWbfqdvtsnWL/Vx4JQtzN091nPWM16Tq2NVEc7RWzXHBqfm/X0tdGFqWK15UW3WBvV7crdPyXaSppDKWEbv7k2mpxLib42OooBdhsD7qs2EjTofzDcSSxOrXFshT3AVBx1jAzQXOD0vxh+X/KA1prmDn8yBHVbf83ZCQ++g+Jl/qOYLg9/Zn9HCRv6ILcADd5k9mKOdZkgp767YJgtjrpG0XetcbabLPFqVlf3VMyPmgkVU3NPJjS2LPlVQPGu5ZnqH0JFpB3i54DXpR4RPxcqnlRH136nEzS/OxWHKOiwfmre1a2QJT0GOGXP/M4fiEOtr1KZun5mEcb1aVwv7zluV+ZBwNNaOZ28t3vtEuzsXZuO8h7U5z2tvGnbAbqDvEdMjx4/En40+zJ5j+oIXPm1O1j3PtSxec/VN4H6zOhIUsH97/JdMjO6BJpYs/znyaJ7+S+o8PV/&lt;/diagram&gt;&lt;/mxfile&gt;\" onclick=\"(function(svg){var src=window.event.target||window.event.srcElement;while (src!=null&amp;&amp;src.nodeName.toLowerCase()!='a'){src=src.parentNode;}if(src==null){if(svg.wnd!=null&amp;&amp;!svg.wnd.closed){svg.wnd.focus();}else{var r=function(evt){if(evt.data=='ready'&amp;&amp;evt.source==svg.wnd){svg.wnd.postMessage(decodeURIComponent(svg.getAttribute('content')),'*');window.removeEventListener('message',r);}};window.addEventListener('message',r);svg.wnd=window.open('https://viewer.diagrams.net/?client=1&amp;page=0&amp;edit=_blank');}}})(this);\" style=\"cursor:pointer;max-width:100%;max-height:234px;\" version=\"1.1\" viewBox=\"-0.5 -0.5 732 234\" width=\"732px\" xmlns=\"http://www.w3.org/2000/svg\" xmlns:xlink=\"http://www.w3.org/1999/xlink\"><defs/><g><ellipse cx=\"40\" cy=\"193\" fill=\"#ffffff\" pointer-events=\"all\" rx=\"40\" ry=\"40\" stroke=\"#000000\"/><path d=\"M 40 199 L 153.98 111.43\" fill=\"none\" pointer-events=\"stroke\" stroke=\"#000000\" stroke-miterlimit=\"10\" stroke-width=\"5\"/><path d=\"M 160.53 106.41 L 155.15 117.47 L 153.98 111.43 L 148.45 108.75 Z\" fill=\"#000000\" pointer-events=\"all\" stroke=\"#000000\" stroke-miterlimit=\"10\" stroke-width=\"5\"/><g transform=\"translate(-0.5 -0.5)\"><switch><foreignObject height=\"100%\" pointer-events=\"none\" requiredFeatures=\"http://www.w3.org/TR/SVG11/feature#Extensibility\" style=\"overflow: visible; text-align: left;\" width=\"100%\"><div style=\"display: flex; align-items: unsafe center; justify-content: unsafe center; width: 1px; height: 1px; padding-top: 103px; margin-left: 180px;\" xmlns=\"http://www.w3.org/1999/xhtml\"><div style=\"box-sizing: border-box; font-size: 0; text-align: center; \"><div style=\"display: inline-block; font-size: 11px; font-family: Helvetica; color: #000000; line-height: 1.2; pointer-events: all; white-space: nowrap; \"><font face=\"Georgia\" style=\"font-size: 24px\"><b><i>F</i></b></font></div></div></div></foreignObject><text fill=\"#000000\" font-family=\"Helvetica\" font-size=\"11px\" text-anchor=\"middle\" x=\"180\" y=\"107\">F</text></switch></g><path d=\"M 43.4 201.7 L 37.4 193.7 L 101.4 145.7 L 95.1 137.3 L 119.6 138.3 L 113.7 162.1 L 107.4 153.7 Z\" fill=\"none\" pointer-events=\"all\" stroke=\"#000000\" stroke-linejoin=\"round\" stroke-miterlimit=\"10\"/><g transform=\"translate(-0.5 -0.5)\"><switch><foreignObject height=\"100%\" pointer-events=\"none\" requiredFeatures=\"http://www.w3.org/TR/SVG11/feature#Extensibility\" style=\"overflow: visible; text-align: left;\" width=\"100%\"><div style=\"display: flex; align-items: unsafe center; justify-content: unsafe center; width: 1px; height: 1px; padding-top: 124px; margin-left: 81px;\" xmlns=\"http://www.w3.org/1999/xhtml\"><div style=\"box-sizing: border-box; font-size: 0; text-align: center; \"><div style=\"display: inline-block; font-size: 11px; font-family: Helvetica; color: #000000; line-height: 1.2; pointer-events: all; white-space: nowrap; \"><b style=\"font-family: &quot;georgia&quot; ; font-size: 24px\"><i>a</i></b></div></div></div></foreignObject><text fill=\"#000000\" font-family=\"Helvetica\" font-size=\"11px\" text-anchor=\"middle\" x=\"81\" y=\"127\">a</text></switch></g><rect fill=\"none\" height=\"20\" pointer-events=\"all\" stroke=\"none\" width=\"40\" x=\"0\" y=\"163\"/><g transform=\"translate(-0.5 -0.5)\"><switch><foreignObject height=\"100%\" pointer-events=\"none\" requiredFeatures=\"http://www.w3.org/TR/SVG11/feature#Extensibility\" style=\"overflow: visible; text-align: left;\" width=\"100%\"><div style=\"display: flex; align-items: unsafe center; justify-content: unsafe center; width: 1px; height: 1px; padding-top: 173px; margin-left: 20px;\" xmlns=\"http://www.w3.org/1999/xhtml\"><div style=\"box-sizing: border-box; font-size: 0; text-align: center; \"><div style=\"display: inline-block; font-size: 12px; font-family: Helvetica; color: #000000; line-height: 1.2; pointer-events: all; white-space: nowrap; \"><i style=\"font-family: &quot;georgia&quot; ; font-size: 24px\">m</i></div></div></div></foreignObject><text fill=\"#000000\" font-family=\"Helvetica\" font-size=\"12px\" text-anchor=\"middle\" x=\"20\" y=\"177\">m</text></switch></g><path d=\"M 320 213 L 320 41.24\" fill=\"none\" pointer-events=\"stroke\" stroke=\"#000000\" stroke-miterlimit=\"10\" stroke-width=\"2\"/><path d=\"M 320 35.24 L 324 43.24 L 320 41.24 L 316 43.24 Z\" fill=\"#000000\" pointer-events=\"all\" stroke=\"#000000\" stroke-miterlimit=\"10\" stroke-width=\"2\"/><g transform=\"translate(-0.5 -0.5)\"><switch><foreignObject height=\"100%\" pointer-events=\"none\" requiredFeatures=\"http://www.w3.org/TR/SVG11/feature#Extensibility\" style=\"overflow: visible; text-align: left;\" width=\"100%\"><div style=\"display: flex; align-items: unsafe center; justify-content: unsafe center; width: 1px; height: 1px; padding-top: 14px; margin-left: 321px;\" xmlns=\"http://www.w3.org/1999/xhtml\"><div style=\"box-sizing: border-box; font-size: 0; text-align: center; \"><div style=\"display: inline-block; font-size: 11px; font-family: Helvetica; color: #000000; line-height: 1.2; pointer-events: all; white-space: nowrap; \"><i style=\"font-family: &quot;georgia&quot; ; font-size: 24px\">y</i></div></div></div></foreignObject><text fill=\"#000000\" font-family=\"Helvetica\" font-size=\"11px\" text-anchor=\"middle\" x=\"321\" y=\"17\">y</text></switch></g><path d=\"M 300 193 L 471.76 193\" fill=\"none\" pointer-events=\"stroke\" stroke=\"#000000\" stroke-miterlimit=\"10\" stroke-width=\"2\"/><path d=\"M 477.76 193 L 469.76 197 L 471.76 193 L 469.76 189 Z\" fill=\"#000000\" pointer-events=\"all\" stroke=\"#000000\" stroke-miterlimit=\"10\" stroke-width=\"2\"/><g transform=\"translate(-0.5 -0.5)\"><switch><foreignObject height=\"100%\" pointer-events=\"none\" requiredFeatures=\"http://www.w3.org/TR/SVG11/feature#Extensibility\" style=\"overflow: visible; text-align: left;\" width=\"100%\"><div style=\"display: flex; align-items: unsafe center; justify-content: unsafe center; width: 1px; height: 1px; padding-top: 194px; margin-left: 491px;\" xmlns=\"http://www.w3.org/1999/xhtml\"><div style=\"box-sizing: border-box; font-size: 0; text-align: center; \"><div style=\"display: inline-block; font-size: 11px; font-family: Helvetica; color: #000000; line-height: 1.2; pointer-events: all; white-space: nowrap; \"><i style=\"font-family: &quot;georgia&quot; ; font-size: 24px\">x</i></div></div></div></foreignObject><text fill=\"#000000\" font-family=\"Helvetica\" font-size=\"11px\" text-anchor=\"middle\" x=\"491\" y=\"197\">x</text></switch></g><path d=\"M 320 192 L 433.98 104.43\" fill=\"none\" pointer-events=\"stroke\" stroke=\"#000000\" stroke-miterlimit=\"10\" stroke-width=\"5\"/><path d=\"M 440.53 99.41 L 435.15 110.47 L 433.98 104.43 L 428.45 101.75 Z\" fill=\"#000000\" pointer-events=\"all\" stroke=\"#000000\" stroke-miterlimit=\"10\" stroke-width=\"5\"/><g transform=\"translate(-0.5 -0.5)\"><switch><foreignObject height=\"100%\" pointer-events=\"none\" requiredFeatures=\"http://www.w3.org/TR/SVG11/feature#Extensibility\" style=\"overflow: visible; text-align: left;\" width=\"100%\"><div style=\"display: flex; align-items: unsafe center; justify-content: unsafe center; width: 1px; height: 1px; padding-top: 96px; margin-left: 460px;\" xmlns=\"http://www.w3.org/1999/xhtml\"><div style=\"box-sizing: border-box; font-size: 0; text-align: center; \"><div style=\"display: inline-block; font-size: 11px; font-family: Helvetica; color: #000000; line-height: 1.2; pointer-events: all; white-space: nowrap; \"><font face=\"Georgia\" style=\"font-size: 24px\"><b><i>F</i></b></font></div></div></div></foreignObject><text fill=\"#000000\" font-family=\"Helvetica\" font-size=\"11px\" text-anchor=\"middle\" x=\"460\" y=\"100\">F</text></switch></g><path d=\"M 600 213 L 600 101.24\" fill=\"none\" pointer-events=\"stroke\" stroke=\"#000000\" stroke-miterlimit=\"10\" stroke-width=\"2\"/><path d=\"M 600 95.24 L 604 103.24 L 600 101.24 L 596 103.24 Z\" fill=\"#000000\" pointer-events=\"all\" stroke=\"#000000\" stroke-miterlimit=\"10\" stroke-width=\"2\"/><g transform=\"translate(-0.5 -0.5)\"><switch><foreignObject height=\"100%\" pointer-events=\"none\" requiredFeatures=\"http://www.w3.org/TR/SVG11/feature#Extensibility\" style=\"overflow: visible; text-align: left;\" width=\"100%\"><div style=\"display: flex; align-items: unsafe center; justify-content: unsafe center; width: 1px; height: 1px; padding-top: 69px; margin-left: 601px;\" xmlns=\"http://www.w3.org/1999/xhtml\"><div style=\"box-sizing: border-box; font-size: 0; text-align: center; \"><div style=\"display: inline-block; font-size: 11px; font-family: Helvetica; color: #000000; line-height: 1.2; pointer-events: all; white-space: nowrap; \"><i style=\"font-family: &quot;georgia&quot; ; font-size: 24px\">y</i></div></div></div></foreignObject><text fill=\"#000000\" font-family=\"Helvetica\" font-size=\"11px\" text-anchor=\"middle\" x=\"601\" y=\"72\">y</text></switch></g><path d=\"M 580 193 L 701.76 193\" fill=\"none\" pointer-events=\"stroke\" stroke=\"#000000\" stroke-miterlimit=\"10\" stroke-width=\"2\"/><path d=\"M 707.76 193 L 699.76 197 L 701.76 193 L 699.76 189 Z\" fill=\"#000000\" pointer-events=\"all\" stroke=\"#000000\" stroke-miterlimit=\"10\" stroke-width=\"2\"/><g transform=\"translate(-0.5 -0.5)\"><switch><foreignObject height=\"100%\" pointer-events=\"none\" requiredFeatures=\"http://www.w3.org/TR/SVG11/feature#Extensibility\" style=\"overflow: visible; text-align: left;\" width=\"100%\"><div style=\"display: flex; align-items: unsafe center; justify-content: unsafe center; width: 1px; height: 1px; padding-top: 194px; margin-left: 725px;\" xmlns=\"http://www.w3.org/1999/xhtml\"><div style=\"box-sizing: border-box; font-size: 0; text-align: center; \"><div style=\"display: inline-block; font-size: 11px; font-family: Helvetica; color: #000000; line-height: 1.2; pointer-events: all; white-space: nowrap; \"><i style=\"font-family: &quot;georgia&quot; ; font-size: 24px\">x</i></div></div></div></foreignObject><text fill=\"#000000\" font-family=\"Helvetica\" font-size=\"11px\" text-anchor=\"middle\" x=\"725\" y=\"197\">x</text></switch></g><path d=\"M 603.4 195.7 L 597.4 187.7 L 661.4 139.7 L 655.1 131.3 L 679.6 132.3 L 673.7 156.1 L 667.4 147.7 Z\" fill=\"none\" pointer-events=\"all\" stroke=\"#000000\" stroke-linejoin=\"round\" stroke-miterlimit=\"10\"/><g transform=\"translate(-0.5 -0.5)\"><switch><foreignObject height=\"100%\" pointer-events=\"none\" requiredFeatures=\"http://www.w3.org/TR/SVG11/feature#Extensibility\" style=\"overflow: visible; text-align: left;\" width=\"100%\"><div style=\"display: flex; align-items: unsafe center; justify-content: unsafe center; width: 1px; height: 1px; padding-top: 118px; margin-left: 641px;\" xmlns=\"http://www.w3.org/1999/xhtml\"><div style=\"box-sizing: border-box; font-size: 0; text-align: center; \"><div style=\"display: inline-block; font-size: 11px; font-family: Helvetica; color: #000000; line-height: 1.2; pointer-events: all; white-space: nowrap; \"><b style=\"font-family: &quot;georgia&quot; ; font-size: 24px\"><i>a</i></b></div></div></div></foreignObject><text fill=\"#000000\" font-family=\"Helvetica\" font-size=\"11px\" text-anchor=\"middle\" x=\"641\" y=\"121\">a</text></switch></g><path d=\"M 441 98 L 321 98\" fill=\"none\" pointer-events=\"stroke\" stroke=\"#000000\" stroke-dasharray=\"2 6\" stroke-miterlimit=\"10\" stroke-width=\"2\"/><g transform=\"translate(-0.5 -0.5)\"><switch><foreignObject height=\"100%\" pointer-events=\"none\" requiredFeatures=\"http://www.w3.org/TR/SVG11/feature#Extensibility\" style=\"overflow: visible; text-align: left;\" width=\"100%\"><div style=\"display: flex; align-items: unsafe center; justify-content: unsafe center; width: 1px; height: 1px; padding-top: 97px; margin-left: 301px;\" xmlns=\"http://www.w3.org/1999/xhtml\"><div style=\"box-sizing: border-box; font-size: 0; text-align: center; \"><div style=\"display: inline-block; font-size: 11px; font-family: Helvetica; color: #000000; line-height: 1.2; pointer-events: all; white-space: nowrap; \"><i style=\"font-family: &quot;georgia&quot; ; font-size: 24px\">F<sub>y</sub></i></div></div></div></foreignObject><text fill=\"#000000\" font-family=\"Helvetica\" font-size=\"11px\" text-anchor=\"middle\" x=\"301\" y=\"100\">Fy</text></switch></g><path d=\"M 440 193 L 440 103\" fill=\"none\" pointer-events=\"stroke\" stroke=\"#000000\" stroke-dasharray=\"2 6\" stroke-miterlimit=\"10\" stroke-width=\"2\"/><g transform=\"translate(-0.5 -0.5)\"><switch><foreignObject height=\"100%\" pointer-events=\"none\" requiredFeatures=\"http://www.w3.org/TR/SVG11/feature#Extensibility\" style=\"overflow: visible; text-align: left;\" width=\"100%\"><div style=\"display: flex; align-items: unsafe center; justify-content: unsafe center; width: 1px; height: 1px; padding-top: 214px; margin-left: 441px;\" xmlns=\"http://www.w3.org/1999/xhtml\"><div style=\"box-sizing: border-box; font-size: 0; text-align: center; \"><div style=\"display: inline-block; font-size: 11px; font-family: Helvetica; color: #000000; line-height: 1.2; pointer-events: all; white-space: nowrap; \"><span style=\"font-family: &quot;georgia&quot; ; font-size: 24px\"><i>F<sub>x</sub></i></span></div></div></div></foreignObject><text fill=\"#000000\" font-family=\"Helvetica\" font-size=\"11px\" text-anchor=\"middle\" x=\"441\" y=\"217\">Fx</text></switch></g><path d=\"M 680 132 L 600 132\" fill=\"none\" pointer-events=\"stroke\" stroke=\"#000000\" stroke-dasharray=\"2 6\" stroke-miterlimit=\"10\" stroke-width=\"2\"/><g transform=\"translate(-0.5 -0.5)\"><switch><foreignObject height=\"100%\" pointer-events=\"none\" requiredFeatures=\"http://www.w3.org/TR/SVG11/feature#Extensibility\" style=\"overflow: visible; text-align: left;\" width=\"100%\"><div style=\"display: flex; align-items: unsafe center; justify-content: unsafe center; width: 1px; height: 1px; padding-top: 131px; margin-left: 575px;\" xmlns=\"http://www.w3.org/1999/xhtml\"><div style=\"box-sizing: border-box; font-size: 0; text-align: center; \"><div style=\"display: inline-block; font-size: 11px; font-family: Helvetica; color: #000000; line-height: 1.2; pointer-events: all; white-space: nowrap; \"><i style=\"font-family: &quot;georgia&quot; ; font-size: 24px\">a<sub>y</sub></i></div></div></div></foreignObject><text fill=\"#000000\" font-family=\"Helvetica\" font-size=\"11px\" text-anchor=\"middle\" x=\"575\" y=\"134\">ay</text></switch></g><path d=\"M 678 193 L 678 133\" fill=\"none\" pointer-events=\"stroke\" stroke=\"#000000\" stroke-dasharray=\"2 6\" stroke-miterlimit=\"10\" stroke-width=\"2\"/><g transform=\"translate(-0.5 -0.5)\"><switch><foreignObject height=\"100%\" pointer-events=\"none\" requiredFeatures=\"http://www.w3.org/TR/SVG11/feature#Extensibility\" style=\"overflow: visible; text-align: left;\" width=\"100%\"><div style=\"display: flex; align-items: unsafe center; justify-content: unsafe center; width: 1px; height: 1px; padding-top: 214px; margin-left: 679px;\" xmlns=\"http://www.w3.org/1999/xhtml\"><div style=\"box-sizing: border-box; font-size: 0; text-align: center; \"><div style=\"display: inline-block; font-size: 11px; font-family: Helvetica; color: #000000; line-height: 1.2; pointer-events: all; white-space: nowrap; \"><span style=\"font-family: &quot;georgia&quot; ; font-size: 24px\"><i>a<sub>x</sub></i></span></div></div></div></foreignObject><text fill=\"#000000\" font-family=\"Helvetica\" font-size=\"11px\" text-anchor=\"middle\" x=\"679\" y=\"217\">ax</text></switch></g></g><switch><g requiredFeatures=\"http://www.w3.org/TR/SVG11/feature#Extensibility\"/><a target=\"_blank\" transform=\"translate(0,-5)\" xlink:href=\"https://desk.draw.io/support/solutions/articles/16000042487\"><text font-size=\"10px\" text-anchor=\"middle\" x=\"50%\" y=\"100%\">Viewer does not support full SVG 1.1</text></a></switch></svg>"
          },
          "metadata": {
            "tags": []
          }
        }
      ]
    },
    {
      "cell_type": "markdown",
      "metadata": {
        "id": "UiW8xiJReuU-"
      },
      "source": [
        "この図のように, ベクトルを座標に組み込み, 原点からの $x$ 軸, $y$ 軸  \n",
        "それぞれの位置関係の成分で表示する方法を, **ベクトルの成分表示** といいます."
      ]
    },
    {
      "cell_type": "markdown",
      "metadata": {
        "id": "g2fmn26UfRoH"
      },
      "source": [
        "\\begin{align}\n",
        "\\vec{F} &= \\left( F_x, F_y \\right)\\\\[2mm]\n",
        "\\vec{a} &= \\left( a_x, a_y \\right)\\\\[2mm]\n",
        "\\end{align}"
      ]
    },
    {
      "cell_type": "markdown",
      "metadata": {
        "id": "YJPmjEJ-p-mZ"
      },
      "source": [
        "$x-y$ 座標が直交しているので, 三平方の定理が利用でき,  \n",
        "それぞれのベクトルの大きさは\n",
        "\\begin{align}\n",
        "\\left| \\vec{F} \\right| &= \\sqrt{F_x^2 + F_y^2}\\\\[2mm]\n",
        "\\left| \\vec{a} \\right| &= \\sqrt{a_x^2 + a_y^2}\\\\[2mm]\n",
        "\\end{align}\n",
        "となります"
      ]
    },
    {
      "cell_type": "markdown",
      "metadata": {
        "id": "bkAN99_sqDva"
      },
      "source": [
        "> Q. 地上ではこのように成分表示を行って運動を調べることができるかを, 次の動画を見て考えてください."
      ]
    },
    {
      "cell_type": "code",
      "metadata": {
        "id": "77m4imbpe_-T",
        "outputId": "ac590f39-4929-4d52-a33b-08e12b301178",
        "colab": {
          "base_uri": "https://localhost:8080/",
          "height": 336
        }
      },
      "source": [
        "%%html\n",
        "<iframe width=\"560\" height=\"315\" src=\"https://www.youtube-nocookie.com/embed/0jGZnMf3rPo\" frameborder=\"0\" allow=\"accelerometer; autoplay; clipboard-write; encrypted-media; gyroscope; picture-in-picture\" allowfullscreen></iframe>"
      ],
      "execution_count": 1,
      "outputs": [
        {
          "output_type": "display_data",
          "data": {
            "text/html": [
              "<iframe width=\"560\" height=\"315\" src=\"https://www.youtube-nocookie.com/embed/0jGZnMf3rPo\" frameborder=\"0\" allow=\"accelerometer; autoplay; clipboard-write; encrypted-media; gyroscope; picture-in-picture\" allowfullscreen></iframe>"
            ],
            "text/plain": [
              "<IPython.core.display.HTML object>"
            ]
          },
          "metadata": {
            "tags": []
          }
        }
      ]
    },
    {
      "cell_type": "markdown",
      "metadata": {
        "id": "86IdGZV9qn3R"
      },
      "source": [
        "上記の動画から, ベクトル表示の運動方程式を,  \n",
        "次のように成分で表示してもかまわないことがわかります\n",
        "\n",
        "\\begin{cases}\n",
        "ma_x &= F_x\\\\\n",
        "ma_y &= F_y\n",
        "\\end{cases}"
      ]
    },
    {
      "cell_type": "markdown",
      "metadata": {
        "id": "HikN8wrRrHy0"
      },
      "source": [
        "> Q. 一つのベクトル表示で示された運動方程式は, 3次元では何本の成分表示に分けられるか考えてください."
      ]
    }
  ]
}