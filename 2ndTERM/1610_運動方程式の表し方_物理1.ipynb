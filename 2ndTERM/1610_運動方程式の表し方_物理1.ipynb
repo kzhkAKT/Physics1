{
  "nbformat": 4,
  "nbformat_minor": 0,
  "metadata": {
    "colab": {
      "name": "1610_運動方程式の表し方_物理1",
      "provenance": [],
      "collapsed_sections": [],
      "authorship_tag": "ABX9TyNHABJdOenkxB8oQwVooaoQ",
      "include_colab_link": true
    },
    "kernelspec": {
      "name": "python3",
      "display_name": "Python 3"
    }
  },
  "cells": [
    {
      "cell_type": "markdown",
      "metadata": {
        "id": "view-in-github",
        "colab_type": "text"
      },
      "source": [
        "<a href=\"https://colab.research.google.com/github/kzhkAKT/Physics1/blob/draft/2ndTERM/1610_%E9%81%8B%E5%8B%95%E6%96%B9%E7%A8%8B%E5%BC%8F%E3%81%AE%E8%A1%A8%E3%81%97%E6%96%B9_%E7%89%A9%E7%90%861.ipynb\" target=\"_parent\"><img src=\"https://colab.research.google.com/assets/colab-badge.svg\" alt=\"Open In Colab\"/></a>"
      ]
    },
    {
      "cell_type": "markdown",
      "metadata": {
        "id": "PZo0KOeN0Jk3"
      },
      "source": [
        "# 平面空間での運動"
      ]
    },
    {
      "cell_type": "markdown",
      "metadata": {
        "id": "vAgjHkyV0NMs"
      },
      "source": [
        "## 運動方程式の表し方"
      ]
    },
    {
      "cell_type": "code",
      "metadata": {
        "id": "OorYKH_M0Ea5",
        "outputId": "ee9780e7-dfee-4346-be48-f061875c4006",
        "colab": {
          "base_uri": "https://localhost:8080/",
          "height": 336
        }
      },
      "source": [
        "%%html\n",
        "<iframe width=\"560\" height=\"315\" src=\"https://www.youtube-nocookie.com/embed/Q0Wz5P0JdeU?start=162\" frameborder=\"0\" allow=\"accelerometer; autoplay; clipboard-write; encrypted-media; gyroscope; picture-in-picture\" allowfullscreen></iframe>"
      ],
      "execution_count": 1,
      "outputs": [
        {
          "output_type": "display_data",
          "data": {
            "text/html": [
              "<iframe width=\"560\" height=\"315\" src=\"https://www.youtube-nocookie.com/embed/Q0Wz5P0JdeU?start=162\" frameborder=\"0\" allow=\"accelerometer; autoplay; clipboard-write; encrypted-media; gyroscope; picture-in-picture\" allowfullscreen></iframe>"
            ],
            "text/plain": [
              "<IPython.core.display.HTML object>"
            ]
          },
          "metadata": {
            "tags": []
          }
        }
      ]
    },
    {
      "cell_type": "markdown",
      "metadata": {
        "id": "UCCfo16k4SNI"
      },
      "source": [
        "無重力状態の動画でも確認できるように, 物体の運動は\n",
        "1. 力の方向に依存する\n",
        "2. 力の大きさに依存する\n",
        "\n",
        "また加速度についても, **力の方向に比例** しています.\n",
        "\n",
        "> *大きさ* と *方向* 持つため, 力は **ベクトル**\n",
        "\n",
        "と考えましょう."
      ]
    },
    {
      "cell_type": "markdown",
      "metadata": {
        "id": "-LAxIbra5TV_"
      },
      "source": [
        "運動方程式 $ma = F$ を踏まえると, 左辺の量にもベクトル量が潜んでいます.\n",
        "\n",
        "> Q. 生活レベルで, 運動方程式に現れるもう一つのベクトル量を示してください."
      ]
    },
    {
      "cell_type": "markdown",
      "metadata": {
        "id": "SvMLMNcG54ns"
      },
      "source": [
        "### ベクトル表示の運動方程式"
      ]
    },
    {
      "cell_type": "markdown",
      "metadata": {
        "id": "WqEHSSeI5wLV"
      },
      "source": [
        "\\begin{align}\n",
        "m \\vec{a} &= \\vec{F}\n",
        "\\end{align}"
      ]
    },
    {
      "cell_type": "code",
      "metadata": {
        "id": "jrV_o5hS0-Ri",
        "outputId": "142a06d6-de1d-4cec-baf6-f194d078daa9",
        "colab": {
          "base_uri": "https://localhost:8080/",
          "height": 475
        }
      },
      "source": [
        "%%html\n",
        "<iframe src=\"https://phet.colorado.edu/sims/html/vector-addition/latest/vector-addition_en.html\" width=\"600\" height=\"450\" scrolling=\"no\" allowfullscreen></iframe>"
      ],
      "execution_count": 6,
      "outputs": [
        {
          "output_type": "display_data",
          "data": {
            "text/html": [
              "<iframe src=\"https://phet.colorado.edu/sims/html/vector-addition/latest/vector-addition_en.html\" width=\"600\" height=\"450\" scrolling=\"no\" allowfullscreen></iframe>"
            ],
            "text/plain": [
              "<IPython.core.display.HTML object>"
            ]
          },
          "metadata": {
            "tags": []
          }
        }
      ]
    },
    {
      "cell_type": "markdown",
      "metadata": {
        "id": "-XUt5t3z72A4"
      },
      "source": [
        "https://www.walter-fendt.de/html5/phen/resultant_en.htm"
      ]
    },
    {
      "cell_type": "code",
      "metadata": {
        "id": "1QEcHgzu8KJB",
        "outputId": "05fa9c76-6a87-4c55-e598-14d3d330dc9f",
        "colab": {
          "base_uri": "https://localhost:8080/",
          "height": 475
        }
      },
      "source": [
        "%%html\n",
        "<iframe src=\"https://phet.colorado.edu/sims/html/vector-addition/latest/vector-addition_ja.html\" width=\"600\" height=\"450\" scrolling=\"no\" allowfullscreen></iframe>"
      ],
      "execution_count": 7,
      "outputs": [
        {
          "output_type": "display_data",
          "data": {
            "text/html": [
              "<iframe src=\"https://phet.colorado.edu/sims/html/vector-addition/latest/vector-addition_ja.html\" width=\"600\" height=\"450\" scrolling=\"no\" allowfullscreen></iframe>"
            ],
            "text/plain": [
              "<IPython.core.display.HTML object>"
            ]
          },
          "metadata": {
            "tags": []
          }
        }
      ]
    },
    {
      "cell_type": "code",
      "metadata": {
        "id": "7yL16-ow8eFT"
      },
      "source": [
        ""
      ],
      "execution_count": null,
      "outputs": []
    }
  ]
}