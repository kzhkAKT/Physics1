{
  "nbformat": 4,
  "nbformat_minor": 0,
  "metadata": {
    "colab": {
      "name": "1610_運動方程式の表し方_物理1",
      "provenance": [],
      "collapsed_sections": [],
      "toc_visible": true,
      "authorship_tag": "ABX9TyMz2PPQJm9IkCbDtcxCxe6N",
      "include_colab_link": true
    },
    "kernelspec": {
      "name": "python3",
      "display_name": "Python 3"
    }
  },
  "cells": [
    {
      "cell_type": "markdown",
      "metadata": {
        "id": "view-in-github",
        "colab_type": "text"
      },
      "source": [
        "<a href=\"https://colab.research.google.com/github/kzhkAKT/Physics1/blob/draft/2ndTERM/1610_%E9%81%8B%E5%8B%95%E6%96%B9%E7%A8%8B%E5%BC%8F%E3%81%AE%E8%A1%A8%E3%81%97%E6%96%B9_%E7%89%A9%E7%90%861.ipynb\" target=\"_parent\"><img src=\"https://colab.research.google.com/assets/colab-badge.svg\" alt=\"Open In Colab\"/></a>"
      ]
    },
    {
      "cell_type": "markdown",
      "metadata": {
        "id": "PZo0KOeN0Jk3"
      },
      "source": [
        "# 平面空間での運動"
      ]
    },
    {
      "cell_type": "markdown",
      "metadata": {
        "id": "vAgjHkyV0NMs"
      },
      "source": [
        "## 運動方程式の表し方"
      ]
    },
    {
      "cell_type": "code",
      "metadata": {
        "id": "OorYKH_M0Ea5",
        "cellView": "form",
        "outputId": "ee9780e7-dfee-4346-be48-f061875c4006",
        "colab": {
          "base_uri": "https://localhost:8080/",
          "height": 336
        }
      },
      "source": [
        "#@title 例: 平面上の運動\n",
        "%%html\n",
        "<iframe width=\"560\" height=\"315\" src=\"https://www.youtube-nocookie.com/embed/Q0Wz5P0JdeU?start=162\" frameborder=\"0\" allow=\"accelerometer; autoplay; clipboard-write; encrypted-media; gyroscope; picture-in-picture\" allowfullscreen></iframe>"
      ],
      "execution_count": null,
      "outputs": [
        {
          "output_type": "display_data",
          "data": {
            "text/html": [
              "<iframe width=\"560\" height=\"315\" src=\"https://www.youtube-nocookie.com/embed/Q0Wz5P0JdeU?start=162\" frameborder=\"0\" allow=\"accelerometer; autoplay; clipboard-write; encrypted-media; gyroscope; picture-in-picture\" allowfullscreen></iframe>"
            ],
            "text/plain": [
              "<IPython.core.display.HTML object>"
            ]
          },
          "metadata": {
            "tags": []
          }
        }
      ]
    },
    {
      "cell_type": "markdown",
      "metadata": {
        "id": "UCCfo16k4SNI"
      },
      "source": [
        "無重力状態の動画でも確認できるように, 物体の運動は\n",
        "1. 力の方向に依存する\n",
        "2. 力の大きさに依存する\n",
        "\n",
        "また加速度についても, **力の方向に比例** しています.\n",
        "\n",
        "> *大きさ* と *方向* 持つため, 力は **ベクトル**\n",
        "\n",
        "と考えましょう."
      ]
    },
    {
      "cell_type": "markdown",
      "metadata": {
        "id": "-LAxIbra5TV_"
      },
      "source": [
        "運動方程式 $ma = F$ を踏まえると, 左辺の量にもベクトル量が潜んでいます.\n",
        "\n",
        "> Q. 生活レベルで, 運動方程式に現れるもう一つのベクトル量を示してください."
      ]
    },
    {
      "cell_type": "markdown",
      "metadata": {
        "id": "SvMLMNcG54ns"
      },
      "source": [
        "### ベクトル表示の運動方程式"
      ]
    },
    {
      "cell_type": "markdown",
      "metadata": {
        "id": "WqEHSSeI5wLV"
      },
      "source": [
        "\\begin{align}\n",
        "\\huge m \\vec{a} & \\huge = \\vec{F}\n",
        "\\end{align}\n",
        "\n",
        "ベクトルで表現することで、\n",
        "1. 視覚的に捉えることが容易になります.  \n",
        "2. ベクトルの加法や減法を利用することができます\n",
        "\n",
        "ベクトル表現の運動方程式であっても、  \n",
        "加速度は **瞬間の**加速度であること忘れないください.\n",
        "\n",
        "---\n",
        "ベクトルを  **太字** で書くこともあります\n",
        "\\begin{align}\n",
        "\\large m \\boldsymbol{\\bf{a}} & \\large = \\bf{F}\n",
        "\\end{align}"
      ]
    },
    {
      "cell_type": "markdown",
      "metadata": {
        "id": "Hamy423ebpU3"
      },
      "source": [
        "> Q. ベクトル表示の運動方程式で, スカラー量 と ベクトル量で表現されている物理量をそれぞれ答えてください."
      ]
    },
    {
      "cell_type": "markdown",
      "metadata": {
        "id": "6PIeplK-b218"
      },
      "source": [
        "## 成分表示の運動方程式"
      ]
    },
    {
      "cell_type": "markdown",
      "metadata": {
        "id": "5ZNgRUHdb9Dk"
      },
      "source": [
        "ベクトル表示は視覚的に便利ですが, 実際の大きさを求めるためには, ベクトルを測る物差しが必要です.\n",
        "\n",
        "- 物差しに相当するものが, **座標** です.\n",
        "- 現時点では最も簡単な **$x-y$ 座標** 座標を考えます\n",
        "  - 一般的な $x-y$ 座標では $x$ 軸と $y$ 軸が直交しています.   \n",
        "  (90$^{\\circ}つまり$$\\pi/2$で交わっています)\n"
      ]
    },
    {
      "cell_type": "code",
      "metadata": {
        "id": "dYh3LZ12d1Xt",
        "cellView": "form",
        "outputId": "d3b43f68-d962-4d2b-a672-b56179987e6a",
        "colab": {
          "base_uri": "https://localhost:8080/",
          "height": 255
        }
      },
      "source": [
        "#@title ベクトル表示の運動方程式の座標への組み込み\n",
        "%%svg\n",
        "<svg xmlns=\"http://www.w3.org/2000/svg\" xmlns:xlink=\"http://www.w3.org/1999/xlink\" version=\"1.1\" width=\"787px\" viewBox=\"-0.5 -0.5 787 234\" content=\"&lt;mxfile host=&quot;app.diagrams.net&quot; modified=&quot;2020-11-09T08:16:12.493Z&quot; agent=&quot;5.0 (Macintosh; Intel Mac OS X 10_10_5) AppleWebKit/537.36 (KHTML, like Gecko) Chrome/86.0.4240.183 Safari/537.36&quot; etag=&quot;OzfmgjAsawtOfraAgvBb&quot; version=&quot;13.9.1&quot; type=&quot;google&quot;&gt;&lt;diagram id=&quot;GOQYwMidhV6avH3nMk7K&quot; name=&quot;Page-1&quot;&gt;7VzLcqM4FP0aL+MCCYi9bOfVi5mpVKVqMrOUjWyrAogG3Mbz9SNAAiTAT3DwI4sEXcRFujo690hWPIBPbvwWIH/5J7WxMwCaHQ/g8wCAkWmw34lhkxnGmp4ZFgGxM1PJ8EH+w9yoceuK2DiUKkaUOhHxZeOMeh6eRZINBQFdy9Xm1JHf6qMFrhg+ZsipWj+JHS0zqzmChf0nJoslf7Oh8xsuEnV5R8Ilsum6ZIIvA/gUUBplV278hJ0kdCIs2XOvDXfzdgXYi/Z54G/37fXrl/vy+fEZO6PN2vbN6IF7+Y2cFe8vb2y0EQFgXlisWWGyXpIIf/holtxZs9FmtmXkOqyks0sU+tkAzEmM2Usn1RaK1+EgwnHJxFv8hqmLo2DDqgj48OBx8OTldTEUwrQsjYKwIT74i9xxESB2wWN0QLzAHvHy7B8J7lhp5qAwJDM5TDgm0T/sWhuO4YiX/03LgJeek85rorApFd5xQFhHcMBtYRTQrxyX5raYY1vCeTXipZCaNSEVtgA7KCK/5dlRF2f+hndKWEvyAdX18XBc/nmUBhgCS/YY0lUww9xJGd2KX2AYw7GlFT+GDByoICJCwQJHFb8pKPKgHI8TWIMTy2GhnMxp2uwCMNavFRU3HsKU/36wCsDw4+JmwlzZvCtsrJnBgqByJWvB/6avmqoGIgyvwsI6R9RazFZ5ktmyhguzCnqGrj/QlFG/TAkOWXjJRGBoTEA7SWY+YeT6g99wiW0nPiYBZl1H09Rfgmw/GZl0rMzJwHxmFidxP0Gzr0VAV579RB2aTAOPergW91vnr0pAef7gTZA4uo6YHrShpovZz0FmtjJDRvpQH0t+Hxi2TVDCtuKTzuch7gTG5m66Y2nNTy7nDo457012UaBMW/ol0BaQExEUg30wT2lKRrMURx0Tk9VITNNmVpojlzibjJfYLeT66ZBBaLC/i5yGZHtSNyOu7cTWQFFof4q6UC4Sk6sNLtKBnO9gK6i3hpZCRNYQnIt7Ro1IJd+KVLcemAoI2ZBGMv5UVKFVRLN3HQjPKhznxHEUDGYUqxhTsCbSPG3AoSA+WbyPq+LdqKFs0JV4F0vKU9S7nLrABaQuQ8k40FDiu2/qUh3p1nk1tV6nRvrACJv8eW8a+nKaqqSu0Ede661tyqb7Ljb0UW1ONid/JQTTtAbIzVmfLjwd5+xwcj7WhiMgqOXYySsyLlTWw93lW32fvaCrY0c4UoX9kexoWjscdc2ORk/ZMb6z4zWwY5P6O4YdTVNeV+jtCB1Y5/QMxHnfFG5boooNsINJGCS7wJKvfC18Lh6+b/32lMHue7+HAbluq/Dq9aCl6sFjV8uqo8q2Rtc89NhTPbjZRkDf27TrVapuokPzpq98cQuUulgy35CuFSx3q6v+um3262f5XYv1fVn+cfzNq/5xT1k+vrP8neX7w/KC5Xq8ezGuc9p9AhB8fz/jUZH+x+5CPCrZBZiKo46TAmjegph+N/Pe2iGPfHrdT3nUx6fuY4tm/cmDb6NwmZ5j0OXhT+zvKGJD76UWoMGL1KemeCTfPDjyuJmh7XDUNRX1dRfCRYVOyllmI+mkgnzg8zae+t6OvB7Qj30OLl0MsQriaEHSPVqWfAxdnBM+cRo/qIc7O+TRPY7q3iKPtvXpvuLo3P9PAJrP7XayRD1J1dVya9zIrXUM1lR7u1y8irUqaPNcsKnrJy5POeCN8ynCw3Ykb4TJdq4pj/5c6tyL077uWB4iCK9KSLW4N9aZkIJnE1Iisd/pR6Ifc9SOkFIdgTMfIod1p1z7KqQO0VE3oIzyqdkrZdQGNbFi8UUAWfXiyxTgy/8=&lt;/diagram&gt;&lt;/mxfile&gt;\" onclick=\"(function(svg){var src=window.event.target||window.event.srcElement;while (src!=null&amp;&amp;src.nodeName.toLowerCase()!='a'){src=src.parentNode;}if(src==null){if(svg.wnd!=null&amp;&amp;!svg.wnd.closed){svg.wnd.focus();}else{var r=function(evt){if(evt.data=='ready'&amp;&amp;evt.source==svg.wnd){svg.wnd.postMessage(decodeURIComponent(svg.getAttribute('content')),'*');window.removeEventListener('message',r);}};window.addEventListener('message',r);svg.wnd=window.open('https://viewer.diagrams.net/?client=1&amp;page=0&amp;edit=_blank');}}})(this);\" style=\"cursor:pointer;max-width:100%;max-height:234px;\"><defs/><g><ellipse cx=\"40\" cy=\"193\" rx=\"40\" ry=\"40\" fill=\"#ffffff\" stroke=\"#000000\" pointer-events=\"all\"/><path d=\"M 40 199 L 153.98 111.43\" fill=\"none\" stroke=\"#000000\" stroke-width=\"5\" stroke-miterlimit=\"10\" pointer-events=\"stroke\"/><path d=\"M 160.53 106.41 L 155.15 117.47 L 153.98 111.43 L 148.45 108.75 Z\" fill=\"#000000\" stroke=\"#000000\" stroke-width=\"5\" stroke-miterlimit=\"10\" pointer-events=\"all\"/><g transform=\"translate(-0.5 -0.5)\"><switch><foreignObject style=\"overflow: visible; text-align: left;\" pointer-events=\"none\" width=\"100%\" height=\"100%\" requiredFeatures=\"http://www.w3.org/TR/SVG11/feature#Extensibility\"><div xmlns=\"http://www.w3.org/1999/xhtml\" style=\"display: flex; align-items: unsafe center; justify-content: unsafe center; width: 1px; height: 1px; padding-top: 103px; margin-left: 180px;\"><div style=\"box-sizing: border-box; font-size: 0; text-align: center; \"><div style=\"display: inline-block; font-size: 11px; font-family: Helvetica; color: #000000; line-height: 1.2; pointer-events: all; white-space: nowrap; \"><font style=\"font-size: 24px\" face=\"Georgia\"><b><i>F</i></b></font></div></div></div></foreignObject><text x=\"180\" y=\"107\" fill=\"#000000\" font-family=\"Helvetica\" font-size=\"11px\" text-anchor=\"middle\">F</text></switch></g><path d=\"M 43.4 201.7 L 37.4 193.7 L 101.4 145.7 L 95.1 137.3 L 119.6 138.3 L 113.7 162.1 L 107.4 153.7 Z\" fill=\"none\" stroke=\"#000000\" stroke-linejoin=\"round\" stroke-miterlimit=\"10\" pointer-events=\"all\"/><g transform=\"translate(-0.5 -0.5)\"><switch><foreignObject style=\"overflow: visible; text-align: left;\" pointer-events=\"none\" width=\"100%\" height=\"100%\" requiredFeatures=\"http://www.w3.org/TR/SVG11/feature#Extensibility\"><div xmlns=\"http://www.w3.org/1999/xhtml\" style=\"display: flex; align-items: unsafe center; justify-content: unsafe center; width: 1px; height: 1px; padding-top: 124px; margin-left: 81px;\"><div style=\"box-sizing: border-box; font-size: 0; text-align: center; \"><div style=\"display: inline-block; font-size: 11px; font-family: Helvetica; color: #000000; line-height: 1.2; pointer-events: all; white-space: nowrap; \"><b style=\"font-family: &quot;georgia&quot; ; font-size: 24px\"><i>a</i></b></div></div></div></foreignObject><text x=\"81\" y=\"127\" fill=\"#000000\" font-family=\"Helvetica\" font-size=\"11px\" text-anchor=\"middle\">a</text></switch></g><rect x=\"0\" y=\"163\" width=\"40\" height=\"20\" fill=\"none\" stroke=\"none\" pointer-events=\"all\"/><g transform=\"translate(-0.5 -0.5)\"><switch><foreignObject style=\"overflow: visible; text-align: left;\" pointer-events=\"none\" width=\"100%\" height=\"100%\" requiredFeatures=\"http://www.w3.org/TR/SVG11/feature#Extensibility\"><div xmlns=\"http://www.w3.org/1999/xhtml\" style=\"display: flex; align-items: unsafe center; justify-content: unsafe center; width: 1px; height: 1px; padding-top: 173px; margin-left: 20px;\"><div style=\"box-sizing: border-box; font-size: 0; text-align: center; \"><div style=\"display: inline-block; font-size: 12px; font-family: Helvetica; color: #000000; line-height: 1.2; pointer-events: all; white-space: nowrap; \"><i style=\"font-family: &quot;georgia&quot; ; font-size: 24px\">m</i></div></div></div></foreignObject><text x=\"20\" y=\"177\" fill=\"#000000\" font-family=\"Helvetica\" font-size=\"12px\" text-anchor=\"middle\">m</text></switch></g><path d=\"M 320 213 L 320 41.24\" fill=\"none\" stroke=\"#000000\" stroke-width=\"2\" stroke-miterlimit=\"10\" pointer-events=\"stroke\"/><path d=\"M 320 35.24 L 324 43.24 L 320 41.24 L 316 43.24 Z\" fill=\"#000000\" stroke=\"#000000\" stroke-width=\"2\" stroke-miterlimit=\"10\" pointer-events=\"all\"/><g transform=\"translate(-0.5 -0.5)\"><switch><foreignObject style=\"overflow: visible; text-align: left;\" pointer-events=\"none\" width=\"100%\" height=\"100%\" requiredFeatures=\"http://www.w3.org/TR/SVG11/feature#Extensibility\"><div xmlns=\"http://www.w3.org/1999/xhtml\" style=\"display: flex; align-items: unsafe center; justify-content: unsafe center; width: 1px; height: 1px; padding-top: 14px; margin-left: 321px;\"><div style=\"box-sizing: border-box; font-size: 0; text-align: center; \"><div style=\"display: inline-block; font-size: 11px; font-family: Helvetica; color: #000000; line-height: 1.2; pointer-events: all; white-space: nowrap; \"><i style=\"font-family: &quot;georgia&quot; ; font-size: 24px\">y </i><span style=\"font-family: &quot;georgia&quot;\"><font style=\"font-size: 18px\">[N]</font></span></div></div></div></foreignObject><text x=\"321\" y=\"17\" fill=\"#000000\" font-family=\"Helvetica\" font-size=\"11px\" text-anchor=\"middle\">y [N]</text></switch></g><path d=\"M 300 193 L 471.76 193\" fill=\"none\" stroke=\"#000000\" stroke-width=\"2\" stroke-miterlimit=\"10\" pointer-events=\"stroke\"/><path d=\"M 477.76 193 L 469.76 197 L 471.76 193 L 469.76 189 Z\" fill=\"#000000\" stroke=\"#000000\" stroke-width=\"2\" stroke-miterlimit=\"10\" pointer-events=\"all\"/><g transform=\"translate(-0.5 -0.5)\"><switch><foreignObject style=\"overflow: visible; text-align: left;\" pointer-events=\"none\" width=\"100%\" height=\"100%\" requiredFeatures=\"http://www.w3.org/TR/SVG11/feature#Extensibility\"><div xmlns=\"http://www.w3.org/1999/xhtml\" style=\"display: flex; align-items: unsafe center; justify-content: unsafe center; width: 1px; height: 1px; padding-top: 194px; margin-left: 511px;\"><div style=\"box-sizing: border-box; font-size: 0; text-align: center; \"><div style=\"display: inline-block; font-size: 11px; font-family: Helvetica; color: #000000; line-height: 1.2; pointer-events: all; white-space: nowrap; \"><i style=\"font-family: &quot;georgia&quot; ; font-size: 24px\">x </i><span style=\"font-family: &quot;georgia&quot;\"><font style=\"font-size: 18px\">[N]</font></span></div></div></div></foreignObject><text x=\"511\" y=\"197\" fill=\"#000000\" font-family=\"Helvetica\" font-size=\"11px\" text-anchor=\"middle\">x [N]</text></switch></g><path d=\"M 320 192 L 433.98 104.43\" fill=\"none\" stroke=\"#000000\" stroke-width=\"5\" stroke-miterlimit=\"10\" pointer-events=\"stroke\"/><path d=\"M 440.53 99.41 L 435.15 110.47 L 433.98 104.43 L 428.45 101.75 Z\" fill=\"#000000\" stroke=\"#000000\" stroke-width=\"5\" stroke-miterlimit=\"10\" pointer-events=\"all\"/><g transform=\"translate(-0.5 -0.5)\"><switch><foreignObject style=\"overflow: visible; text-align: left;\" pointer-events=\"none\" width=\"100%\" height=\"100%\" requiredFeatures=\"http://www.w3.org/TR/SVG11/feature#Extensibility\"><div xmlns=\"http://www.w3.org/1999/xhtml\" style=\"display: flex; align-items: unsafe center; justify-content: unsafe center; width: 1px; height: 1px; padding-top: 96px; margin-left: 460px;\"><div style=\"box-sizing: border-box; font-size: 0; text-align: center; \"><div style=\"display: inline-block; font-size: 11px; font-family: Helvetica; color: #000000; line-height: 1.2; pointer-events: all; white-space: nowrap; \"><font style=\"font-size: 24px\" face=\"Georgia\"><b><i>F</i></b></font></div></div></div></foreignObject><text x=\"460\" y=\"100\" fill=\"#000000\" font-family=\"Helvetica\" font-size=\"11px\" text-anchor=\"middle\">F</text></switch></g><path d=\"M 600 213 L 600 101.24\" fill=\"none\" stroke=\"#000000\" stroke-width=\"2\" stroke-miterlimit=\"10\" pointer-events=\"stroke\"/><path d=\"M 600 95.24 L 604 103.24 L 600 101.24 L 596 103.24 Z\" fill=\"#000000\" stroke=\"#000000\" stroke-width=\"2\" stroke-miterlimit=\"10\" pointer-events=\"all\"/><g transform=\"translate(-0.5 -0.5)\"><switch><foreignObject style=\"overflow: visible; text-align: left;\" pointer-events=\"none\" width=\"100%\" height=\"100%\" requiredFeatures=\"http://www.w3.org/TR/SVG11/feature#Extensibility\"><div xmlns=\"http://www.w3.org/1999/xhtml\" style=\"display: flex; align-items: unsafe center; justify-content: unsafe center; width: 1px; height: 1px; padding-top: 69px; margin-left: 601px;\"><div style=\"box-sizing: border-box; font-size: 0; text-align: center; \"><div style=\"display: inline-block; font-size: 11px; font-family: Helvetica; color: #000000; line-height: 1.2; pointer-events: all; white-space: nowrap; \"><i style=\"font-family: &quot;georgia&quot; ; font-size: 24px\">y</i><i style=\"font-family: &quot;georgia&quot; ; font-size: 24px\"> </i><span style=\"font-family: &quot;georgia&quot;\"><font style=\"font-size: 18px\">[m/s<sup>2</sup>]</font></span></div></div></div></foreignObject><text x=\"601\" y=\"72\" fill=\"#000000\" font-family=\"Helvetica\" font-size=\"11px\" text-anchor=\"middle\">y [m/s2]</text></switch></g><path d=\"M 580 193 L 701.76 193\" fill=\"none\" stroke=\"#000000\" stroke-width=\"2\" stroke-miterlimit=\"10\" pointer-events=\"stroke\"/><path d=\"M 707.76 193 L 699.76 197 L 701.76 193 L 699.76 189 Z\" fill=\"#000000\" stroke=\"#000000\" stroke-width=\"2\" stroke-miterlimit=\"10\" pointer-events=\"all\"/><g transform=\"translate(-0.5 -0.5)\"><switch><foreignObject style=\"overflow: visible; text-align: left;\" pointer-events=\"none\" width=\"100%\" height=\"100%\" requiredFeatures=\"http://www.w3.org/TR/SVG11/feature#Extensibility\"><div xmlns=\"http://www.w3.org/1999/xhtml\" style=\"display: flex; align-items: unsafe center; justify-content: unsafe center; width: 1px; height: 1px; padding-top: 194px; margin-left: 751px;\"><div style=\"box-sizing: border-box; font-size: 0; text-align: center; \"><div style=\"display: inline-block; font-size: 11px; font-family: Helvetica; color: #000000; line-height: 1.2; pointer-events: all; white-space: nowrap; \"><i style=\"font-family: &quot;georgia&quot; ; font-size: 24px\">x</i><i style=\"font-family: &quot;georgia&quot; ; font-size: 24px\"> </i><span style=\"font-family: &quot;georgia&quot;\"><font style=\"font-size: 18px\">[m/s<sup>2</sup>]</font></span></div></div></div></foreignObject><text x=\"751\" y=\"197\" fill=\"#000000\" font-family=\"Helvetica\" font-size=\"11px\" text-anchor=\"middle\">x [m/s2]</text></switch></g><path d=\"M 603.4 195.7 L 597.4 187.7 L 661.4 139.7 L 655.1 131.3 L 679.6 132.3 L 673.7 156.1 L 667.4 147.7 Z\" fill=\"none\" stroke=\"#000000\" stroke-linejoin=\"round\" stroke-miterlimit=\"10\" pointer-events=\"all\"/><g transform=\"translate(-0.5 -0.5)\"><switch><foreignObject style=\"overflow: visible; text-align: left;\" pointer-events=\"none\" width=\"100%\" height=\"100%\" requiredFeatures=\"http://www.w3.org/TR/SVG11/feature#Extensibility\"><div xmlns=\"http://www.w3.org/1999/xhtml\" style=\"display: flex; align-items: unsafe center; justify-content: unsafe center; width: 1px; height: 1px; padding-top: 118px; margin-left: 641px;\"><div style=\"box-sizing: border-box; font-size: 0; text-align: center; \"><div style=\"display: inline-block; font-size: 11px; font-family: Helvetica; color: #000000; line-height: 1.2; pointer-events: all; white-space: nowrap; \"><b style=\"font-family: &quot;georgia&quot; ; font-size: 24px\"><i>a</i></b></div></div></div></foreignObject><text x=\"641\" y=\"121\" fill=\"#000000\" font-family=\"Helvetica\" font-size=\"11px\" text-anchor=\"middle\">a</text></switch></g><path d=\"M 441 98 L 321 98\" fill=\"none\" stroke=\"#000000\" stroke-width=\"2\" stroke-miterlimit=\"10\" stroke-dasharray=\"2 6\" pointer-events=\"stroke\"/><g transform=\"translate(-0.5 -0.5)\"><switch><foreignObject style=\"overflow: visible; text-align: left;\" pointer-events=\"none\" width=\"100%\" height=\"100%\" requiredFeatures=\"http://www.w3.org/TR/SVG11/feature#Extensibility\"><div xmlns=\"http://www.w3.org/1999/xhtml\" style=\"display: flex; align-items: unsafe center; justify-content: unsafe center; width: 1px; height: 1px; padding-top: 97px; margin-left: 271px;\"><div style=\"box-sizing: border-box; font-size: 0; text-align: center; \"><div style=\"display: inline-block; font-size: 11px; font-family: Helvetica; color: #000000; line-height: 1.2; pointer-events: all; white-space: nowrap; \"><i style=\"font-family: &quot;georgia&quot; ; font-size: 24px\">ma<sub>y</sub>=</i><i style=\"font-family: &quot;georgia&quot; ; font-size: 24px\">F<sub>y</sub></i></div></div></div></foreignObject><text x=\"271\" y=\"100\" fill=\"#000000\" font-family=\"Helvetica\" font-size=\"11px\" text-anchor=\"middle\">may=Fy</text></switch></g><path d=\"M 440 193 L 440 103\" fill=\"none\" stroke=\"#000000\" stroke-width=\"2\" stroke-miterlimit=\"10\" stroke-dasharray=\"2 6\" pointer-events=\"stroke\"/><g transform=\"translate(-0.5 -0.5)\"><switch><foreignObject style=\"overflow: visible; text-align: left;\" pointer-events=\"none\" width=\"100%\" height=\"100%\" requiredFeatures=\"http://www.w3.org/TR/SVG11/feature#Extensibility\"><div xmlns=\"http://www.w3.org/1999/xhtml\" style=\"display: flex; align-items: unsafe center; justify-content: unsafe center; width: 1px; height: 1px; padding-top: 214px; margin-left: 441px;\"><div style=\"box-sizing: border-box; font-size: 0; text-align: center; \"><div style=\"display: inline-block; font-size: 11px; font-family: Helvetica; color: #000000; line-height: 1.2; pointer-events: all; white-space: nowrap; \"><span style=\"font-family: &quot;georgia&quot; ; font-size: 24px\"><i>ma<sub>x</sub>=F<sub>x</sub></i></span></div></div></div></foreignObject><text x=\"441\" y=\"217\" fill=\"#000000\" font-family=\"Helvetica\" font-size=\"11px\" text-anchor=\"middle\">max=Fx</text></switch></g><path d=\"M 680 132 L 600 132\" fill=\"none\" stroke=\"#000000\" stroke-width=\"2\" stroke-miterlimit=\"10\" stroke-dasharray=\"2 6\" pointer-events=\"stroke\"/><g transform=\"translate(-0.5 -0.5)\"><switch><foreignObject style=\"overflow: visible; text-align: left;\" pointer-events=\"none\" width=\"100%\" height=\"100%\" requiredFeatures=\"http://www.w3.org/TR/SVG11/feature#Extensibility\"><div xmlns=\"http://www.w3.org/1999/xhtml\" style=\"display: flex; align-items: unsafe center; justify-content: unsafe center; width: 1px; height: 1px; padding-top: 131px; margin-left: 575px;\"><div style=\"box-sizing: border-box; font-size: 0; text-align: center; \"><div style=\"display: inline-block; font-size: 11px; font-family: Helvetica; color: #000000; line-height: 1.2; pointer-events: all; white-space: nowrap; \"><i style=\"font-family: &quot;georgia&quot; ; font-size: 24px\">a<sub>y</sub></i></div></div></div></foreignObject><text x=\"575\" y=\"134\" fill=\"#000000\" font-family=\"Helvetica\" font-size=\"11px\" text-anchor=\"middle\">ay</text></switch></g><path d=\"M 678 193 L 678 133\" fill=\"none\" stroke=\"#000000\" stroke-width=\"2\" stroke-miterlimit=\"10\" stroke-dasharray=\"2 6\" pointer-events=\"stroke\"/><g transform=\"translate(-0.5 -0.5)\"><switch><foreignObject style=\"overflow: visible; text-align: left;\" pointer-events=\"none\" width=\"100%\" height=\"100%\" requiredFeatures=\"http://www.w3.org/TR/SVG11/feature#Extensibility\"><div xmlns=\"http://www.w3.org/1999/xhtml\" style=\"display: flex; align-items: unsafe center; justify-content: unsafe center; width: 1px; height: 1px; padding-top: 214px; margin-left: 679px;\"><div style=\"box-sizing: border-box; font-size: 0; text-align: center; \"><div style=\"display: inline-block; font-size: 11px; font-family: Helvetica; color: #000000; line-height: 1.2; pointer-events: all; white-space: nowrap; \"><span style=\"font-family: &quot;georgia&quot; ; font-size: 24px\"><i>a<sub>x</sub></i></span></div></div></div></foreignObject><text x=\"679\" y=\"217\" fill=\"#000000\" font-family=\"Helvetica\" font-size=\"11px\" text-anchor=\"middle\">ax</text></switch></g></g><switch><g requiredFeatures=\"http://www.w3.org/TR/SVG11/feature#Extensibility\"/><a transform=\"translate(0,-5)\" xlink:href=\"https://desk.draw.io/support/solutions/articles/16000042487\" target=\"_blank\"><text text-anchor=\"middle\" font-size=\"10px\" x=\"50%\" y=\"100%\">Viewer does not support full SVG 1.1</text></a></switch></svg>"
      ],
      "execution_count": 1,
      "outputs": [
        {
          "output_type": "display_data",
          "data": {
            "text/plain": [
              "<IPython.core.display.SVG object>"
            ],
            "image/svg+xml": "<svg content=\"&lt;mxfile host=&quot;app.diagrams.net&quot; modified=&quot;2020-11-09T08:16:12.493Z&quot; agent=&quot;5.0 (Macintosh; Intel Mac OS X 10_10_5) AppleWebKit/537.36 (KHTML, like Gecko) Chrome/86.0.4240.183 Safari/537.36&quot; etag=&quot;OzfmgjAsawtOfraAgvBb&quot; version=&quot;13.9.1&quot; type=&quot;google&quot;&gt;&lt;diagram id=&quot;GOQYwMidhV6avH3nMk7K&quot; name=&quot;Page-1&quot;&gt;7VzLcqM4FP0aL+MCCYi9bOfVi5mpVKVqMrOUjWyrAogG3Mbz9SNAAiTAT3DwI4sEXcRFujo690hWPIBPbvwWIH/5J7WxMwCaHQ/g8wCAkWmw34lhkxnGmp4ZFgGxM1PJ8EH+w9yoceuK2DiUKkaUOhHxZeOMeh6eRZINBQFdy9Xm1JHf6qMFrhg+ZsipWj+JHS0zqzmChf0nJoslf7Oh8xsuEnV5R8Ilsum6ZIIvA/gUUBplV278hJ0kdCIs2XOvDXfzdgXYi/Z54G/37fXrl/vy+fEZO6PN2vbN6IF7+Y2cFe8vb2y0EQFgXlisWWGyXpIIf/holtxZs9FmtmXkOqyks0sU+tkAzEmM2Usn1RaK1+EgwnHJxFv8hqmLo2DDqgj48OBx8OTldTEUwrQsjYKwIT74i9xxESB2wWN0QLzAHvHy7B8J7lhp5qAwJDM5TDgm0T/sWhuO4YiX/03LgJeek85rorApFd5xQFhHcMBtYRTQrxyX5raYY1vCeTXipZCaNSEVtgA7KCK/5dlRF2f+hndKWEvyAdX18XBc/nmUBhgCS/YY0lUww9xJGd2KX2AYw7GlFT+GDByoICJCwQJHFb8pKPKgHI8TWIMTy2GhnMxp2uwCMNavFRU3HsKU/36wCsDw4+JmwlzZvCtsrJnBgqByJWvB/6avmqoGIgyvwsI6R9RazFZ5ktmyhguzCnqGrj/QlFG/TAkOWXjJRGBoTEA7SWY+YeT6g99wiW0nPiYBZl1H09Rfgmw/GZl0rMzJwHxmFidxP0Gzr0VAV579RB2aTAOPergW91vnr0pAef7gTZA4uo6YHrShpovZz0FmtjJDRvpQH0t+Hxi2TVDCtuKTzuch7gTG5m66Y2nNTy7nDo457012UaBMW/ol0BaQExEUg30wT2lKRrMURx0Tk9VITNNmVpojlzibjJfYLeT66ZBBaLC/i5yGZHtSNyOu7cTWQFFof4q6UC4Sk6sNLtKBnO9gK6i3hpZCRNYQnIt7Ro1IJd+KVLcemAoI2ZBGMv5UVKFVRLN3HQjPKhznxHEUDGYUqxhTsCbSPG3AoSA+WbyPq+LdqKFs0JV4F0vKU9S7nLrABaQuQ8k40FDiu2/qUh3p1nk1tV6nRvrACJv8eW8a+nKaqqSu0Ede661tyqb7Ljb0UW1ONid/JQTTtAbIzVmfLjwd5+xwcj7WhiMgqOXYySsyLlTWw93lW32fvaCrY0c4UoX9kexoWjscdc2ORk/ZMb6z4zWwY5P6O4YdTVNeV+jtCB1Y5/QMxHnfFG5boooNsINJGCS7wJKvfC18Lh6+b/32lMHue7+HAbluq/Dq9aCl6sFjV8uqo8q2Rtc89NhTPbjZRkDf27TrVapuokPzpq98cQuUulgy35CuFSx3q6v+um3262f5XYv1fVn+cfzNq/5xT1k+vrP8neX7w/KC5Xq8ezGuc9p9AhB8fz/jUZH+x+5CPCrZBZiKo46TAmjegph+N/Pe2iGPfHrdT3nUx6fuY4tm/cmDb6NwmZ5j0OXhT+zvKGJD76UWoMGL1KemeCTfPDjyuJmh7XDUNRX1dRfCRYVOyllmI+mkgnzg8zae+t6OvB7Qj30OLl0MsQriaEHSPVqWfAxdnBM+cRo/qIc7O+TRPY7q3iKPtvXpvuLo3P9PAJrP7XayRD1J1dVya9zIrXUM1lR7u1y8irUqaPNcsKnrJy5POeCN8ynCw3Ykb4TJdq4pj/5c6tyL077uWB4iCK9KSLW4N9aZkIJnE1Iisd/pR6Ifc9SOkFIdgTMfIod1p1z7KqQO0VE3oIzyqdkrZdQGNbFi8UUAWfXiyxTgy/8=&lt;/diagram&gt;&lt;/mxfile&gt;\" onclick=\"(function(svg){var src=window.event.target||window.event.srcElement;while (src!=null&amp;&amp;src.nodeName.toLowerCase()!='a'){src=src.parentNode;}if(src==null){if(svg.wnd!=null&amp;&amp;!svg.wnd.closed){svg.wnd.focus();}else{var r=function(evt){if(evt.data=='ready'&amp;&amp;evt.source==svg.wnd){svg.wnd.postMessage(decodeURIComponent(svg.getAttribute('content')),'*');window.removeEventListener('message',r);}};window.addEventListener('message',r);svg.wnd=window.open('https://viewer.diagrams.net/?client=1&amp;page=0&amp;edit=_blank');}}})(this);\" style=\"cursor:pointer;max-width:100%;max-height:234px;\" version=\"1.1\" viewBox=\"-0.5 -0.5 787 234\" width=\"787px\" xmlns=\"http://www.w3.org/2000/svg\" xmlns:xlink=\"http://www.w3.org/1999/xlink\"><defs/><g><ellipse cx=\"40\" cy=\"193\" fill=\"#ffffff\" pointer-events=\"all\" rx=\"40\" ry=\"40\" stroke=\"#000000\"/><path d=\"M 40 199 L 153.98 111.43\" fill=\"none\" pointer-events=\"stroke\" stroke=\"#000000\" stroke-miterlimit=\"10\" stroke-width=\"5\"/><path d=\"M 160.53 106.41 L 155.15 117.47 L 153.98 111.43 L 148.45 108.75 Z\" fill=\"#000000\" pointer-events=\"all\" stroke=\"#000000\" stroke-miterlimit=\"10\" stroke-width=\"5\"/><g transform=\"translate(-0.5 -0.5)\"><switch><foreignObject height=\"100%\" pointer-events=\"none\" requiredFeatures=\"http://www.w3.org/TR/SVG11/feature#Extensibility\" style=\"overflow: visible; text-align: left;\" width=\"100%\"><div style=\"display: flex; align-items: unsafe center; justify-content: unsafe center; width: 1px; height: 1px; padding-top: 103px; margin-left: 180px;\" xmlns=\"http://www.w3.org/1999/xhtml\"><div style=\"box-sizing: border-box; font-size: 0; text-align: center; \"><div style=\"display: inline-block; font-size: 11px; font-family: Helvetica; color: #000000; line-height: 1.2; pointer-events: all; white-space: nowrap; \"><font face=\"Georgia\" style=\"font-size: 24px\"><b><i>F</i></b></font></div></div></div></foreignObject><text fill=\"#000000\" font-family=\"Helvetica\" font-size=\"11px\" text-anchor=\"middle\" x=\"180\" y=\"107\">F</text></switch></g><path d=\"M 43.4 201.7 L 37.4 193.7 L 101.4 145.7 L 95.1 137.3 L 119.6 138.3 L 113.7 162.1 L 107.4 153.7 Z\" fill=\"none\" pointer-events=\"all\" stroke=\"#000000\" stroke-linejoin=\"round\" stroke-miterlimit=\"10\"/><g transform=\"translate(-0.5 -0.5)\"><switch><foreignObject height=\"100%\" pointer-events=\"none\" requiredFeatures=\"http://www.w3.org/TR/SVG11/feature#Extensibility\" style=\"overflow: visible; text-align: left;\" width=\"100%\"><div style=\"display: flex; align-items: unsafe center; justify-content: unsafe center; width: 1px; height: 1px; padding-top: 124px; margin-left: 81px;\" xmlns=\"http://www.w3.org/1999/xhtml\"><div style=\"box-sizing: border-box; font-size: 0; text-align: center; \"><div style=\"display: inline-block; font-size: 11px; font-family: Helvetica; color: #000000; line-height: 1.2; pointer-events: all; white-space: nowrap; \"><b style=\"font-family: &quot;georgia&quot; ; font-size: 24px\"><i>a</i></b></div></div></div></foreignObject><text fill=\"#000000\" font-family=\"Helvetica\" font-size=\"11px\" text-anchor=\"middle\" x=\"81\" y=\"127\">a</text></switch></g><rect fill=\"none\" height=\"20\" pointer-events=\"all\" stroke=\"none\" width=\"40\" x=\"0\" y=\"163\"/><g transform=\"translate(-0.5 -0.5)\"><switch><foreignObject height=\"100%\" pointer-events=\"none\" requiredFeatures=\"http://www.w3.org/TR/SVG11/feature#Extensibility\" style=\"overflow: visible; text-align: left;\" width=\"100%\"><div style=\"display: flex; align-items: unsafe center; justify-content: unsafe center; width: 1px; height: 1px; padding-top: 173px; margin-left: 20px;\" xmlns=\"http://www.w3.org/1999/xhtml\"><div style=\"box-sizing: border-box; font-size: 0; text-align: center; \"><div style=\"display: inline-block; font-size: 12px; font-family: Helvetica; color: #000000; line-height: 1.2; pointer-events: all; white-space: nowrap; \"><i style=\"font-family: &quot;georgia&quot; ; font-size: 24px\">m</i></div></div></div></foreignObject><text fill=\"#000000\" font-family=\"Helvetica\" font-size=\"12px\" text-anchor=\"middle\" x=\"20\" y=\"177\">m</text></switch></g><path d=\"M 320 213 L 320 41.24\" fill=\"none\" pointer-events=\"stroke\" stroke=\"#000000\" stroke-miterlimit=\"10\" stroke-width=\"2\"/><path d=\"M 320 35.24 L 324 43.24 L 320 41.24 L 316 43.24 Z\" fill=\"#000000\" pointer-events=\"all\" stroke=\"#000000\" stroke-miterlimit=\"10\" stroke-width=\"2\"/><g transform=\"translate(-0.5 -0.5)\"><switch><foreignObject height=\"100%\" pointer-events=\"none\" requiredFeatures=\"http://www.w3.org/TR/SVG11/feature#Extensibility\" style=\"overflow: visible; text-align: left;\" width=\"100%\"><div style=\"display: flex; align-items: unsafe center; justify-content: unsafe center; width: 1px; height: 1px; padding-top: 14px; margin-left: 321px;\" xmlns=\"http://www.w3.org/1999/xhtml\"><div style=\"box-sizing: border-box; font-size: 0; text-align: center; \"><div style=\"display: inline-block; font-size: 11px; font-family: Helvetica; color: #000000; line-height: 1.2; pointer-events: all; white-space: nowrap; \"><i style=\"font-family: &quot;georgia&quot; ; font-size: 24px\">y </i><span style=\"font-family: &quot;georgia&quot;\"><font style=\"font-size: 18px\">[N]</font></span></div></div></div></foreignObject><text fill=\"#000000\" font-family=\"Helvetica\" font-size=\"11px\" text-anchor=\"middle\" x=\"321\" y=\"17\">y [N]</text></switch></g><path d=\"M 300 193 L 471.76 193\" fill=\"none\" pointer-events=\"stroke\" stroke=\"#000000\" stroke-miterlimit=\"10\" stroke-width=\"2\"/><path d=\"M 477.76 193 L 469.76 197 L 471.76 193 L 469.76 189 Z\" fill=\"#000000\" pointer-events=\"all\" stroke=\"#000000\" stroke-miterlimit=\"10\" stroke-width=\"2\"/><g transform=\"translate(-0.5 -0.5)\"><switch><foreignObject height=\"100%\" pointer-events=\"none\" requiredFeatures=\"http://www.w3.org/TR/SVG11/feature#Extensibility\" style=\"overflow: visible; text-align: left;\" width=\"100%\"><div style=\"display: flex; align-items: unsafe center; justify-content: unsafe center; width: 1px; height: 1px; padding-top: 194px; margin-left: 511px;\" xmlns=\"http://www.w3.org/1999/xhtml\"><div style=\"box-sizing: border-box; font-size: 0; text-align: center; \"><div style=\"display: inline-block; font-size: 11px; font-family: Helvetica; color: #000000; line-height: 1.2; pointer-events: all; white-space: nowrap; \"><i style=\"font-family: &quot;georgia&quot; ; font-size: 24px\">x </i><span style=\"font-family: &quot;georgia&quot;\"><font style=\"font-size: 18px\">[N]</font></span></div></div></div></foreignObject><text fill=\"#000000\" font-family=\"Helvetica\" font-size=\"11px\" text-anchor=\"middle\" x=\"511\" y=\"197\">x [N]</text></switch></g><path d=\"M 320 192 L 433.98 104.43\" fill=\"none\" pointer-events=\"stroke\" stroke=\"#000000\" stroke-miterlimit=\"10\" stroke-width=\"5\"/><path d=\"M 440.53 99.41 L 435.15 110.47 L 433.98 104.43 L 428.45 101.75 Z\" fill=\"#000000\" pointer-events=\"all\" stroke=\"#000000\" stroke-miterlimit=\"10\" stroke-width=\"5\"/><g transform=\"translate(-0.5 -0.5)\"><switch><foreignObject height=\"100%\" pointer-events=\"none\" requiredFeatures=\"http://www.w3.org/TR/SVG11/feature#Extensibility\" style=\"overflow: visible; text-align: left;\" width=\"100%\"><div style=\"display: flex; align-items: unsafe center; justify-content: unsafe center; width: 1px; height: 1px; padding-top: 96px; margin-left: 460px;\" xmlns=\"http://www.w3.org/1999/xhtml\"><div style=\"box-sizing: border-box; font-size: 0; text-align: center; \"><div style=\"display: inline-block; font-size: 11px; font-family: Helvetica; color: #000000; line-height: 1.2; pointer-events: all; white-space: nowrap; \"><font face=\"Georgia\" style=\"font-size: 24px\"><b><i>F</i></b></font></div></div></div></foreignObject><text fill=\"#000000\" font-family=\"Helvetica\" font-size=\"11px\" text-anchor=\"middle\" x=\"460\" y=\"100\">F</text></switch></g><path d=\"M 600 213 L 600 101.24\" fill=\"none\" pointer-events=\"stroke\" stroke=\"#000000\" stroke-miterlimit=\"10\" stroke-width=\"2\"/><path d=\"M 600 95.24 L 604 103.24 L 600 101.24 L 596 103.24 Z\" fill=\"#000000\" pointer-events=\"all\" stroke=\"#000000\" stroke-miterlimit=\"10\" stroke-width=\"2\"/><g transform=\"translate(-0.5 -0.5)\"><switch><foreignObject height=\"100%\" pointer-events=\"none\" requiredFeatures=\"http://www.w3.org/TR/SVG11/feature#Extensibility\" style=\"overflow: visible; text-align: left;\" width=\"100%\"><div style=\"display: flex; align-items: unsafe center; justify-content: unsafe center; width: 1px; height: 1px; padding-top: 69px; margin-left: 601px;\" xmlns=\"http://www.w3.org/1999/xhtml\"><div style=\"box-sizing: border-box; font-size: 0; text-align: center; \"><div style=\"display: inline-block; font-size: 11px; font-family: Helvetica; color: #000000; line-height: 1.2; pointer-events: all; white-space: nowrap; \"><i style=\"font-family: &quot;georgia&quot; ; font-size: 24px\">y</i><i style=\"font-family: &quot;georgia&quot; ; font-size: 24px\"> </i><span style=\"font-family: &quot;georgia&quot;\"><font style=\"font-size: 18px\">[m/s<sup>2</sup>]</font></span></div></div></div></foreignObject><text fill=\"#000000\" font-family=\"Helvetica\" font-size=\"11px\" text-anchor=\"middle\" x=\"601\" y=\"72\">y [m/s2]</text></switch></g><path d=\"M 580 193 L 701.76 193\" fill=\"none\" pointer-events=\"stroke\" stroke=\"#000000\" stroke-miterlimit=\"10\" stroke-width=\"2\"/><path d=\"M 707.76 193 L 699.76 197 L 701.76 193 L 699.76 189 Z\" fill=\"#000000\" pointer-events=\"all\" stroke=\"#000000\" stroke-miterlimit=\"10\" stroke-width=\"2\"/><g transform=\"translate(-0.5 -0.5)\"><switch><foreignObject height=\"100%\" pointer-events=\"none\" requiredFeatures=\"http://www.w3.org/TR/SVG11/feature#Extensibility\" style=\"overflow: visible; text-align: left;\" width=\"100%\"><div style=\"display: flex; align-items: unsafe center; justify-content: unsafe center; width: 1px; height: 1px; padding-top: 194px; margin-left: 751px;\" xmlns=\"http://www.w3.org/1999/xhtml\"><div style=\"box-sizing: border-box; font-size: 0; text-align: center; \"><div style=\"display: inline-block; font-size: 11px; font-family: Helvetica; color: #000000; line-height: 1.2; pointer-events: all; white-space: nowrap; \"><i style=\"font-family: &quot;georgia&quot; ; font-size: 24px\">x</i><i style=\"font-family: &quot;georgia&quot; ; font-size: 24px\"> </i><span style=\"font-family: &quot;georgia&quot;\"><font style=\"font-size: 18px\">[m/s<sup>2</sup>]</font></span></div></div></div></foreignObject><text fill=\"#000000\" font-family=\"Helvetica\" font-size=\"11px\" text-anchor=\"middle\" x=\"751\" y=\"197\">x [m/s2]</text></switch></g><path d=\"M 603.4 195.7 L 597.4 187.7 L 661.4 139.7 L 655.1 131.3 L 679.6 132.3 L 673.7 156.1 L 667.4 147.7 Z\" fill=\"none\" pointer-events=\"all\" stroke=\"#000000\" stroke-linejoin=\"round\" stroke-miterlimit=\"10\"/><g transform=\"translate(-0.5 -0.5)\"><switch><foreignObject height=\"100%\" pointer-events=\"none\" requiredFeatures=\"http://www.w3.org/TR/SVG11/feature#Extensibility\" style=\"overflow: visible; text-align: left;\" width=\"100%\"><div style=\"display: flex; align-items: unsafe center; justify-content: unsafe center; width: 1px; height: 1px; padding-top: 118px; margin-left: 641px;\" xmlns=\"http://www.w3.org/1999/xhtml\"><div style=\"box-sizing: border-box; font-size: 0; text-align: center; \"><div style=\"display: inline-block; font-size: 11px; font-family: Helvetica; color: #000000; line-height: 1.2; pointer-events: all; white-space: nowrap; \"><b style=\"font-family: &quot;georgia&quot; ; font-size: 24px\"><i>a</i></b></div></div></div></foreignObject><text fill=\"#000000\" font-family=\"Helvetica\" font-size=\"11px\" text-anchor=\"middle\" x=\"641\" y=\"121\">a</text></switch></g><path d=\"M 441 98 L 321 98\" fill=\"none\" pointer-events=\"stroke\" stroke=\"#000000\" stroke-dasharray=\"2 6\" stroke-miterlimit=\"10\" stroke-width=\"2\"/><g transform=\"translate(-0.5 -0.5)\"><switch><foreignObject height=\"100%\" pointer-events=\"none\" requiredFeatures=\"http://www.w3.org/TR/SVG11/feature#Extensibility\" style=\"overflow: visible; text-align: left;\" width=\"100%\"><div style=\"display: flex; align-items: unsafe center; justify-content: unsafe center; width: 1px; height: 1px; padding-top: 97px; margin-left: 271px;\" xmlns=\"http://www.w3.org/1999/xhtml\"><div style=\"box-sizing: border-box; font-size: 0; text-align: center; \"><div style=\"display: inline-block; font-size: 11px; font-family: Helvetica; color: #000000; line-height: 1.2; pointer-events: all; white-space: nowrap; \"><i style=\"font-family: &quot;georgia&quot; ; font-size: 24px\">ma<sub>y</sub>=</i><i style=\"font-family: &quot;georgia&quot; ; font-size: 24px\">F<sub>y</sub></i></div></div></div></foreignObject><text fill=\"#000000\" font-family=\"Helvetica\" font-size=\"11px\" text-anchor=\"middle\" x=\"271\" y=\"100\">may=Fy</text></switch></g><path d=\"M 440 193 L 440 103\" fill=\"none\" pointer-events=\"stroke\" stroke=\"#000000\" stroke-dasharray=\"2 6\" stroke-miterlimit=\"10\" stroke-width=\"2\"/><g transform=\"translate(-0.5 -0.5)\"><switch><foreignObject height=\"100%\" pointer-events=\"none\" requiredFeatures=\"http://www.w3.org/TR/SVG11/feature#Extensibility\" style=\"overflow: visible; text-align: left;\" width=\"100%\"><div style=\"display: flex; align-items: unsafe center; justify-content: unsafe center; width: 1px; height: 1px; padding-top: 214px; margin-left: 441px;\" xmlns=\"http://www.w3.org/1999/xhtml\"><div style=\"box-sizing: border-box; font-size: 0; text-align: center; \"><div style=\"display: inline-block; font-size: 11px; font-family: Helvetica; color: #000000; line-height: 1.2; pointer-events: all; white-space: nowrap; \"><span style=\"font-family: &quot;georgia&quot; ; font-size: 24px\"><i>ma<sub>x</sub>=F<sub>x</sub></i></span></div></div></div></foreignObject><text fill=\"#000000\" font-family=\"Helvetica\" font-size=\"11px\" text-anchor=\"middle\" x=\"441\" y=\"217\">max=Fx</text></switch></g><path d=\"M 680 132 L 600 132\" fill=\"none\" pointer-events=\"stroke\" stroke=\"#000000\" stroke-dasharray=\"2 6\" stroke-miterlimit=\"10\" stroke-width=\"2\"/><g transform=\"translate(-0.5 -0.5)\"><switch><foreignObject height=\"100%\" pointer-events=\"none\" requiredFeatures=\"http://www.w3.org/TR/SVG11/feature#Extensibility\" style=\"overflow: visible; text-align: left;\" width=\"100%\"><div style=\"display: flex; align-items: unsafe center; justify-content: unsafe center; width: 1px; height: 1px; padding-top: 131px; margin-left: 575px;\" xmlns=\"http://www.w3.org/1999/xhtml\"><div style=\"box-sizing: border-box; font-size: 0; text-align: center; \"><div style=\"display: inline-block; font-size: 11px; font-family: Helvetica; color: #000000; line-height: 1.2; pointer-events: all; white-space: nowrap; \"><i style=\"font-family: &quot;georgia&quot; ; font-size: 24px\">a<sub>y</sub></i></div></div></div></foreignObject><text fill=\"#000000\" font-family=\"Helvetica\" font-size=\"11px\" text-anchor=\"middle\" x=\"575\" y=\"134\">ay</text></switch></g><path d=\"M 678 193 L 678 133\" fill=\"none\" pointer-events=\"stroke\" stroke=\"#000000\" stroke-dasharray=\"2 6\" stroke-miterlimit=\"10\" stroke-width=\"2\"/><g transform=\"translate(-0.5 -0.5)\"><switch><foreignObject height=\"100%\" pointer-events=\"none\" requiredFeatures=\"http://www.w3.org/TR/SVG11/feature#Extensibility\" style=\"overflow: visible; text-align: left;\" width=\"100%\"><div style=\"display: flex; align-items: unsafe center; justify-content: unsafe center; width: 1px; height: 1px; padding-top: 214px; margin-left: 679px;\" xmlns=\"http://www.w3.org/1999/xhtml\"><div style=\"box-sizing: border-box; font-size: 0; text-align: center; \"><div style=\"display: inline-block; font-size: 11px; font-family: Helvetica; color: #000000; line-height: 1.2; pointer-events: all; white-space: nowrap; \"><span style=\"font-family: &quot;georgia&quot; ; font-size: 24px\"><i>a<sub>x</sub></i></span></div></div></div></foreignObject><text fill=\"#000000\" font-family=\"Helvetica\" font-size=\"11px\" text-anchor=\"middle\" x=\"679\" y=\"217\">ax</text></switch></g></g><switch><g requiredFeatures=\"http://www.w3.org/TR/SVG11/feature#Extensibility\"/><a target=\"_blank\" transform=\"translate(0,-5)\" xlink:href=\"https://desk.draw.io/support/solutions/articles/16000042487\"><text font-size=\"10px\" text-anchor=\"middle\" x=\"50%\" y=\"100%\">Viewer does not support full SVG 1.1</text></a></switch></svg>"
          },
          "metadata": {
            "tags": []
          }
        }
      ]
    },
    {
      "cell_type": "markdown",
      "metadata": {
        "id": "UiW8xiJReuU-"
      },
      "source": [
        "この図のように, ベクトルを座標に組み込み, 原点からの $x$ 軸, $y$ 軸  \n",
        "それぞれの位置関係の成分で表示する方法を, **ベクトルの成分表示** といいます."
      ]
    },
    {
      "cell_type": "markdown",
      "metadata": {
        "id": "g2fmn26UfRoH"
      },
      "source": [
        "\\begin{align}\n",
        "\\vec{F} &= \\left( F_x, F_y \\right)\\\\[2mm]\n",
        "\\vec{a} &= \\left( a_x, a_y \\right)\\\\[2mm]\n",
        "\\end{align}"
      ]
    },
    {
      "cell_type": "markdown",
      "metadata": {
        "id": "YJPmjEJ-p-mZ"
      },
      "source": [
        "$x-y$ 座標が直交しているので, 三平方の定理が利用でき,  \n",
        "それぞれのベクトルの大きさは\n",
        "\\begin{align}\n",
        "\\left| \\vec{F} \\right| &= \\sqrt{F_x^2 + F_y^2}\\\\[2mm]\n",
        "\\left| \\vec{a} \\right| &= \\sqrt{a_x^2 + a_y^2}\\\\[2mm]\n",
        "\\end{align}\n",
        "となります"
      ]
    },
    {
      "cell_type": "markdown",
      "metadata": {
        "id": "86IdGZV9qn3R"
      },
      "source": [
        "上記の動画から, ベクトル表示の運動方程式を,  \n",
        "次のように成分で表示してもかまわないことがわかります\n",
        "\n",
        "\\begin{cases}\n",
        "ma_x &= F_x\\\\\n",
        "ma_y &= F_y\n",
        "\\end{cases}"
      ]
    },
    {
      "cell_type": "markdown",
      "metadata": {
        "id": "HikN8wrRrHy0"
      },
      "source": [
        "> Q. 一つのベクトル表示で示された運動方程式は, 3次元では何本の成分表示に分けられるか考えてください."
      ]
    },
    {
      "cell_type": "markdown",
      "metadata": {
        "id": "bkAN99_sqDva"
      },
      "source": [
        "> Q. 地上ではこのように成分表示を行って運動を調べることができるかを, 次の動画を見て考えてください."
      ]
    },
    {
      "cell_type": "code",
      "metadata": {
        "id": "77m4imbpe_-T",
        "cellView": "form",
        "outputId": "e30ed308-440e-4683-c92c-ea46b533c87c",
        "colab": {
          "base_uri": "https://localhost:8080/",
          "height": 336
        }
      },
      "source": [
        "#@title モンキーハンティング\n",
        "%%html\n",
        "<iframe width=\"560\" height=\"315\" src=\"https://www.youtube-nocookie.com/embed/0jGZnMf3rPo\" frameborder=\"0\" allow=\"accelerometer; autoplay; clipboard-write; encrypted-media; gyroscope; picture-in-picture\" allowfullscreen></iframe>"
      ],
      "execution_count": 2,
      "outputs": [
        {
          "output_type": "display_data",
          "data": {
            "text/html": [
              "<iframe width=\"560\" height=\"315\" src=\"https://www.youtube-nocookie.com/embed/0jGZnMf3rPo\" frameborder=\"0\" allow=\"accelerometer; autoplay; clipboard-write; encrypted-media; gyroscope; picture-in-picture\" allowfullscreen></iframe>"
            ],
            "text/plain": [
              "<IPython.core.display.HTML object>"
            ]
          },
          "metadata": {
            "tags": []
          }
        }
      ]
    }
  ]
}