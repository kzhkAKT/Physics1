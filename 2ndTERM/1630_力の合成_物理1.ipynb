{
  "nbformat": 4,
  "nbformat_minor": 0,
  "metadata": {
    "colab": {
      "name": "1630_力の合成_物理1",
      "provenance": [],
      "toc_visible": true,
      "authorship_tag": "ABX9TyOKaCriR7bCkU+D/jpCZmY2",
      "include_colab_link": true
    },
    "kernelspec": {
      "name": "python3",
      "display_name": "Python 3"
    }
  },
  "cells": [
    {
      "cell_type": "markdown",
      "metadata": {
        "id": "view-in-github",
        "colab_type": "text"
      },
      "source": [
        "<a href=\"https://colab.research.google.com/github/kzhkAKT/Physics1/blob/draft/2ndTERM/1630_%E5%8A%9B%E3%81%AE%E5%90%88%E6%88%90_%E7%89%A9%E7%90%861.ipynb\" target=\"_parent\"><img src=\"https://colab.research.google.com/assets/colab-badge.svg\" alt=\"Open In Colab\"/></a>"
      ]
    },
    {
      "cell_type": "markdown",
      "metadata": {
        "id": "PZo0KOeN0Jk3"
      },
      "source": [
        "# 平面空間での運動"
      ]
    },
    {
      "cell_type": "markdown",
      "metadata": {
        "id": "AdfsWhXgF1NM"
      },
      "source": [
        "## 力の合成\n"
      ]
    },
    {
      "cell_type": "markdown",
      "metadata": {
        "id": "2UCAROpVYNqP"
      },
      "source": [
        "### ベクトルの加法\n"
      ]
    },
    {
      "cell_type": "markdown",
      "metadata": {
        "id": "aTgMlOvfak2M"
      },
      "source": [
        "\\begin{align}\n",
        "\\vec{a} + \\vec{b}  = \\vec{c}\n",
        "\\end{align}"
      ]
    },
    {
      "cell_type": "markdown",
      "metadata": {
        "id": "9IvLiJVOZzD6"
      },
      "source": [
        "#### 平行四辺形方"
      ]
    },
    {
      "cell_type": "markdown",
      "metadata": {
        "id": "SEkDDXkeZ5uT"
      },
      "source": [
        "#### 平行移動による合成\n"
      ]
    },
    {
      "cell_type": "code",
      "metadata": {
        "id": "MdrGUMuuFr6A",
        "cellView": "form",
        "outputId": "a6eae46f-f76b-4be4-b9d4-3b891125e54e",
        "colab": {
          "base_uri": "https://localhost:8080/",
          "height": 625
        }
      },
      "source": [
        "#@title 方程式:加算\n",
        "%%html\n",
        "<iframe src=\"https://phet.colorado.edu/sims/html/vector-addition/latest/vector-addition_ja.html\"\n",
        "        width=\"800\"\n",
        "        height=\"600\"\n",
        "        allowfullscreen>\n",
        "</iframe>"
      ],
      "execution_count": null,
      "outputs": [
        {
          "output_type": "display_data",
          "data": {
            "text/plain": [
              "<IPython.core.display.HTML object>"
            ],
            "text/html": [
              "<iframe src=\"https://phet.colorado.edu/sims/html/vector-addition/latest/vector-addition_ja.html\"\n",
              "        width=\"800\"\n",
              "        height=\"600\"\n",
              "        allowfullscreen>\n",
              "</iframe>\n"
            ]
          },
          "metadata": {}
        }
      ]
    },
    {
      "cell_type": "markdown",
      "metadata": {
        "id": "JtM3oOIaaFsU"
      },
      "source": [
        "## (ベクトル表示の)力の合成"
      ]
    },
    {
      "cell_type": "markdown",
      "metadata": {
        "id": "kgVaJop0aMrE"
      },
      "source": [
        "\\begin{align}\n",
        "\\vec{F} = \\vec{F}_1 + \\vec{F}_2\n",
        "\\end{align}"
      ]
    },
    {
      "cell_type": "markdown",
      "metadata": {
        "id": "P5d1uCiRemPy"
      },
      "source": [
        "ここで現れた $\\vec{F}$ を **合力**(ごうりょく)といいます."
      ]
    },
    {
      "cell_type": "markdown",
      "metadata": {
        "id": "m7QleFq5adWc"
      },
      "source": [
        "### ベクトルの減法"
      ]
    },
    {
      "cell_type": "markdown",
      "metadata": {
        "id": "AKSLJrJZanZy"
      },
      "source": [
        "\\begin{align}\n",
        "\\vec{a} - \\vec{b}  &= \\vec{c}\\\\\n",
        "\\vec{a} + \\left(- \\vec{b}\\right)  &= \\vec{c}\n",
        "\\end{align}"
      ]
    },
    {
      "cell_type": "code",
      "metadata": {
        "cellView": "form",
        "outputId": "a6eae46f-f76b-4be4-b9d4-3b891125e54e",
        "colab": {
          "base_uri": "https://localhost:8080/",
          "height": 625
        },
        "id": "fMbSVTODDuKt"
      },
      "source": [
        "#@title 方程式:引算\n",
        "%%html\n",
        "<iframe src=\"https://phet.colorado.edu/sims/html/vector-addition/latest/vector-addition_ja.html\"\n",
        "        width=\"800\"\n",
        "        height=\"600\"\n",
        "        allowfullscreen>\n",
        "</iframe>"
      ],
      "execution_count": null,
      "outputs": [
        {
          "output_type": "display_data",
          "data": {
            "text/plain": [
              "<IPython.core.display.HTML object>"
            ],
            "text/html": [
              "<iframe src=\"https://phet.colorado.edu/sims/html/vector-addition/latest/vector-addition_ja.html\"\n",
              "        width=\"800\"\n",
              "        height=\"600\"\n",
              "        allowfullscreen>\n",
              "</iframe>\n"
            ]
          },
          "metadata": {}
        }
      ]
    },
    {
      "cell_type": "markdown",
      "metadata": {
        "id": "4I5Z7yWfa0ij"
      },
      "source": [
        "## (ベクトル表示の)力の釣り合い条件"
      ]
    },
    {
      "cell_type": "code",
      "metadata": {
        "cellView": "form",
        "outputId": "a6eae46f-f76b-4be4-b9d4-3b891125e54e",
        "colab": {
          "base_uri": "https://localhost:8080/",
          "height": 625
        },
        "id": "buMOKz39D2wj"
      },
      "source": [
        "#@title 方程式:合計がゼロ\n",
        "%%html\n",
        "<iframe src=\"https://phet.colorado.edu/sims/html/vector-addition/latest/vector-addition_ja.html\"\n",
        "        width=\"800\"\n",
        "        height=\"600\"\n",
        "        allowfullscreen>\n",
        "</iframe>"
      ],
      "execution_count": null,
      "outputs": [
        {
          "output_type": "display_data",
          "data": {
            "text/plain": [
              "<IPython.core.display.HTML object>"
            ],
            "text/html": [
              "<iframe src=\"https://phet.colorado.edu/sims/html/vector-addition/latest/vector-addition_ja.html\"\n",
              "        width=\"800\"\n",
              "        height=\"600\"\n",
              "        allowfullscreen>\n",
              "</iframe>\n"
            ]
          },
          "metadata": {}
        }
      ]
    },
    {
      "cell_type": "code",
      "metadata": {
        "id": "urMz6ESpbyda",
        "cellView": "form",
        "outputId": "74f23ef0-389b-42c0-a4d8-79063f7fd1d5",
        "colab": {
          "base_uri": "https://localhost:8080/",
          "height": 336
        }
      },
      "source": [
        "#@title 3力の合成\n",
        "%%html\n",
        "<iframe width=\"560\" height=\"315\" src=\"https://www.youtube-nocookie.com/embed/SDZQT88qWpw\" frameborder=\"0\" allow=\"accelerometer; autoplay; clipboard-write; encrypted-media; gyroscope; picture-in-picture\" allowfullscreen></iframe>"
      ],
      "execution_count": null,
      "outputs": [
        {
          "output_type": "display_data",
          "data": {
            "text/html": [
              "<iframe width=\"560\" height=\"315\" src=\"https://www.youtube-nocookie.com/embed/SDZQT88qWpw\" frameborder=\"0\" allow=\"accelerometer; autoplay; clipboard-write; encrypted-media; gyroscope; picture-in-picture\" allowfullscreen></iframe>"
            ],
            "text/plain": [
              "<IPython.core.display.HTML object>"
            ]
          },
          "metadata": {
            "tags": []
          }
        }
      ]
    },
    {
      "cell_type": "markdown",
      "metadata": {
        "id": "8oKAWvvNdbjZ"
      },
      "source": [
        "#### 教科書 p50 図1.68"
      ]
    },
    {
      "cell_type": "markdown",
      "metadata": {
        "id": "ZVsTVdt0dkwl"
      },
      "source": [
        "点 $Ｏ$ を, **3力が働いていても**, 静止させる条件を考えます."
      ]
    },
    {
      "cell_type": "markdown",
      "metadata": {
        "id": "1sLKJWuzezJp"
      },
      "source": [
        "$\\require{color}$\n",
        "まずは\b, $\\vec{F}_{\\rm A}$ と $\\vec{F}_{\\rm B}$ のみに注目し、合力$\\textcolor{red}{\\vec{F}_{\\rm A+B}}$ を作図します.\n",
        "\\begin{align}\n",
        "\\vec{F}_{\\rm A} + \\vec{F}_{\\rm B}  = \\textcolor{red}{\\vec{F}_{\\rm A+B}}\n",
        "\\end{align}"
      ]
    },
    {
      "cell_type": "markdown",
      "metadata": {
        "id": "sU6RUh4ee0fN"
      },
      "source": [
        "$\\vec{F}_{\\rm C}$ が $\\textcolor{red}{\\vec{F}_{\\rm A+B}}$ を相殺し, 点 $Ｏ$ を静止させていることを踏まえると\n",
        "\n",
        "\\begin{align}\n",
        "\\vec{F}_{\\rm C} &= -\\textcolor{red}{\\vec{F}_{\\rm A+B}}\\\\[2mm]\n",
        "\\textcolor{red}{\\vec{F}_{\\rm A+B}} + \\vec{F}_{\\rm C} = 0\n",
        "\\end{align}\n",
        "\n",
        "---\n",
        "$\\vec{F}_{\\rm C}$ は, 方向と大きさを持つことに注意してください."
      ]
    },
    {
      "cell_type": "markdown",
      "metadata": {
        "id": "L6NppARTfm7T"
      },
      "source": [
        "この式をもとの3力で表現すると\n",
        "\n",
        "\\begin{align}\n",
        "\\vec{F}_{\\rm A} + \\vec{F}_{\\rm B}  + \\vec{F}_{\\rm C} = 0\n",
        "\\end{align}\n",
        "\n",
        "これを\n",
        ">  _3つの_ **力のつり合い条件**\n",
        "\n",
        " といいます"
      ]
    },
    {
      "cell_type": "markdown",
      "metadata": {
        "id": "CyxJqK7hf9gl"
      },
      "source": [
        ">  Q. 3つの力のつり合い条件が成り立てば, 力ベクトルの合力を考えると, ベクトル図でどのような図形を描くか考えてください."
      ]
    },
    {
      "cell_type": "markdown",
      "metadata": {
        "id": "-xnu1CdVgo29"
      },
      "source": [
        "一般に, 一点に $n$ 個の力がはたらいているとき, それらの**力のつり合い条件**は\n",
        "\\begin{align}\n",
        "\\vec{F}_1 + \\vec{F}_2  + \\vec{F}_3 + \\cdots + \\vec{F}_n  &= 0\\\\[3mm]\n",
        "%\n",
        "\\sum_{i=1}^{n}  \\vec{F}_i  &=0\n",
        "\\end{align}"
      ]
    },
    {
      "cell_type": "markdown",
      "metadata": {
        "id": "PFoa0nj0hY99"
      },
      "source": [
        "> Q. 例題1.22 に取り組んでください. "
      ]
    }
  ]
}