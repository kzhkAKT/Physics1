{
  "nbformat": 4,
  "nbformat_minor": 0,
  "metadata": {
    "colab": {
      "name": "1530_運動エネルギー_物理1",
      "provenance": [],
      "authorship_tag": "ABX9TyND6Vi8CQvSYtGJ0pt88Kdn",
      "include_colab_link": true
    },
    "kernelspec": {
      "name": "python3",
      "display_name": "Python 3"
    }
  },
  "cells": [
    {
      "cell_type": "markdown",
      "metadata": {
        "id": "view-in-github",
        "colab_type": "text"
      },
      "source": [
        "<a href=\"https://colab.research.google.com/github/kzhkAKT/Physics1/blob/draft/2ndTERM/1530_%E9%81%8B%E5%8B%95%E3%82%A8%E3%83%8D%E3%83%AB%E3%82%AE%E3%83%BC_%E7%89%A9%E7%90%861.ipynb\" target=\"_parent\"><img src=\"https://colab.research.google.com/assets/colab-badge.svg\" alt=\"Open In Colab\"/></a>"
      ]
    },
    {
      "cell_type": "markdown",
      "metadata": {
        "id": "G-hLU83tdNaA"
      },
      "source": [
        "# 力学的エネルギー"
      ]
    },
    {
      "cell_type": "markdown",
      "metadata": {
        "id": "RzZur4C5ddTz"
      },
      "source": [
        "## 運動エネルギー, Kinetic energy\n",
        "\n",
        "運動をする物体が持つ仕事をするエネルギー\n"
      ]
    },
    {
      "cell_type": "code",
      "metadata": {
        "id": "pzzUSTTyf99y",
        "cellView": "form",
        "outputId": "09822fc4-e3bf-4634-a6cc-d6fab2adeca8",
        "colab": {
          "base_uri": "https://localhost:8080/",
          "height": 336
        }
      },
      "source": [
        "#@title 運動エネルギーの検証(穏やか版)\n",
        "%%html\n",
        "<iframe width=\"560\" height=\"315\" src=\"https://www.youtube-nocookie.com/embed/69T9qnIIrJA\" frameborder=\"0\" allow=\"accelerometer; autoplay; clipboard-write; encrypted-media; gyroscope; picture-in-picture\" allowfullscreen></iframe>"
      ],
      "execution_count": null,
      "outputs": [
        {
          "output_type": "display_data",
          "data": {
            "text/html": [
              "<iframe width=\"560\" height=\"315\" src=\"https://www.youtube-nocookie.com/embed/69T9qnIIrJA\" frameborder=\"0\" allow=\"accelerometer; autoplay; clipboard-write; encrypted-media; gyroscope; picture-in-picture\" allowfullscreen></iframe>"
            ],
            "text/plain": [
              "<IPython.core.display.HTML object>"
            ]
          },
          "metadata": {
            "tags": []
          }
        }
      ]
    },
    {
      "cell_type": "code",
      "metadata": {
        "id": "7NkXuXq8gtby",
        "cellView": "form",
        "outputId": "57ea3f4a-1bc3-40c7-9546-34478e6abc80",
        "colab": {
          "base_uri": "https://localhost:8080/",
          "height": 336
        }
      },
      "source": [
        "#@title 運動エネルギーの検証(穏やかでない版)\n",
        "%%html\n",
        "<iframe width=\"560\" height=\"315\" src=\"https://www.youtube-nocookie.com/embed/qhPJh69qnas\" frameborder=\"0\" allow=\"accelerometer; autoplay; clipboard-write; encrypted-media; gyroscope; picture-in-picture\" allowfullscreen></iframe>"
      ],
      "execution_count": null,
      "outputs": [
        {
          "output_type": "display_data",
          "data": {
            "text/html": [
              "<iframe width=\"560\" height=\"315\" src=\"https://www.youtube-nocookie.com/embed/qhPJh69qnas\" frameborder=\"0\" allow=\"accelerometer; autoplay; clipboard-write; encrypted-media; gyroscope; picture-in-picture\" allowfullscreen></iframe>"
            ],
            "text/plain": [
              "<IPython.core.display.HTML object>"
            ]
          },
          "metadata": {
            "tags": []
          }
        }
      ]
    },
    {
      "cell_type": "code",
      "metadata": {
        "id": "gUN-BjrCHvDH",
        "cellView": "form",
        "outputId": "b98554bd-2151-4043-e2f7-a7c1cbdc060f",
        "colab": {
          "base_uri": "https://localhost:8080/",
          "height": 245
        }
      },
      "source": [
        "#@title 時間を消去した等加速度直線運動\n",
        "%%svg\n",
        "<svg xmlns=\"http://www.w3.org/2000/svg\" xmlns:xlink=\"http://www.w3.org/1999/xlink\" version=\"1.1\" width=\"342px\" viewBox=\"-0.5 -0.5 342 224\" content=\"&lt;mxfile host=&quot;app.diagrams.net&quot; modified=&quot;2020-11-04T07:18:04.704Z&quot; agent=&quot;5.0 (Macintosh; Intel Mac OS X 10_10_5) AppleWebKit/537.36 (KHTML, like Gecko) Chrome/86.0.4240.111 Safari/537.36&quot; etag=&quot;WnKgAo7Etnd3GxwS-AnA&quot; version=&quot;13.6.5&quot; type=&quot;google&quot;&gt;&lt;diagram id=&quot;D8dpcNwscbI9uLwne1sH&quot; name=&quot;Page-1&quot;&gt;7VnbcqM4EP0aqmYfMsXFOPZjcJKZ1GYuu9mq2VcZBKgGECvk2Nmv3xaIiwT4FjvJ1CapMqLVaqQ+3aclMJxFuvnEUB5/oQFODNsMNoZzbdi2ZU3mcBGSp0oyN61KEDESSKVW8ED+xVJoSumKBLhQFDmlCSe5KvRplmGfKzLEGF2raiFN1KfmKMI9wYOPkr70Bwl4XEknltPKP2MSxfLJ9lwOSFGtKxdSxCig647IuTGcBaOUV610s8CJ8F3tlmrc7UhvMy+GM77PgN/vvv19N/0W/ggXd/e395P5H154Ia08omQl12vY0wTseSEFszBr/iQ9Mf1nReuOi6LE6QoU7Em+aTuhFZXXG9e4ujRmXm0O5lVZlP2VSxrjNswVEIUbbx0Tjh9y5IueNQQVyGKeJnBnQRMVeQVzSDYYluYFqIhFo+wVN98R55hlpcQ2reZpj5hxvBn1ntVgArGMaYo5ewIVOWAqUZRRbF1KC+tOTEiVuBMOtQzJKIwawy1S0JBgHQCcPQCc7tIsuBIJAHc0x5nqxoIz+rOJaFi4B+q3REzi2mxchoNecux0WMcj7oBHahnDCeLkUTU/5Cb5hO+UlAG5UR0r8QCiUS0UdMV8LAd1s0Kz4+wyxBGLMO8ZKkFrVn08js5oAhY5yp6XgN6NMVt0ErCyePIEPEF2NST5VtJrsosXw8o9reP/IimUKdv8itfw+ydNS1/rqJwGW2mFtIIuzxJdrwf9fpQMcHIVeoZhamhZKgiSQCtOq8lWkZGQSNCuD6hjBgIREwRK6ZXsSEkQiMFeLtKpxMz1DPdaLByoZ0ETCsOuM5rhhqI0IaOrLCjp3tS5/wRx6EwclQ3Mfhw6A3FonysO3YNoXvqoR/O1Dw2YfPknI+0WpSQRSx0K3kqlM9Qr/4e9/nYLxWyEWQ4tFLodS4P8zHVielAg+AkqCuLvKvljAI9Hza+Gtmseh7alFyTd0JnhvtxVf/wGnLY61DB1RMeWmMc9K1UlFnYyylKUbCl5q2UtMruFqRX/z8rV8FFFoWUIJBYRtCVThfxB+qA+EjynAM5sjeXcvfZhzrnq3+y9/j2TEfWT0tEFsGfohSvg/L0CHoX3sSXQeeUSWIfX69fA98rzApXHnrpquNXh91pHL2vo1cyhhBOjXKiGCd5IxTdPIJb2qnN+JH/Y5nY756aPna9wzkwf6J0+XpA+LFelD7e/cX1Z9hg6wY2zByqesq2bFWuLL8c3K+07/V9hq6odPnpvd4/dqfYMnZt6hk4t+xynQ5k/glSgC6V5RUrOBK6RzCldLnTL30FWUvra0zrhQCJ+071E/s+oTPkLyYpCiUXLD/ZkVk5mUVqct23X/K3PecXeXxsgCO/REidqzO/PbDpF9plulFTkl2I52Gg4oJsHW3J6lILMj6ZrTtVNzEnyQmU2fTwNwwIfGMdw2354rtTbr/fOzX8=&lt;/diagram&gt;&lt;/mxfile&gt;\" onclick=\"(function(svg){var src=window.event.target||window.event.srcElement;while (src!=null&amp;&amp;src.nodeName.toLowerCase()!='a'){src=src.parentNode;}if(src==null){if(svg.wnd!=null&amp;&amp;!svg.wnd.closed){svg.wnd.focus();}else{var r=function(evt){if(evt.data=='ready'&amp;&amp;evt.source==svg.wnd){svg.wnd.postMessage(decodeURIComponent(svg.getAttribute('content')),'*');window.removeEventListener('message',r);}};window.addEventListener('message',r);svg.wnd=window.open('https://viewer.diagrams.net/?client=1&amp;edit=_blank');}}})(this);\" style=\"cursor:pointer;max-width:100%;max-height:224px;\"><defs/><g><ellipse cx=\"48\" cy=\"140\" rx=\"20\" ry=\"20\" fill=\"#ffffff\" stroke=\"#000000\" stroke-dasharray=\"1 1\" pointer-events=\"all\"/><g transform=\"translate(-0.5 -0.5)\"><switch><foreignObject style=\"overflow: visible; text-align: left;\" pointer-events=\"none\" width=\"100%\" height=\"100%\" requiredFeatures=\"http://www.w3.org/TR/SVG11/feature#Extensibility\"><div xmlns=\"http://www.w3.org/1999/xhtml\" style=\"display: flex; align-items: unsafe center; justify-content: unsafe center; width: 38px; height: 1px; padding-top: 140px; margin-left: 29px;\"><div style=\"box-sizing: border-box; font-size: 0; text-align: center; \"><div style=\"display: inline-block; font-size: 12px; font-family: Helvetica; color: #000000; line-height: 1.2; pointer-events: all; white-space: normal; word-wrap: normal; \"><font style=\"font-size: 24px\">始</font></div></div></div></foreignObject><text x=\"48\" y=\"144\" fill=\"#000000\" font-family=\"Helvetica\" font-size=\"12px\" text-anchor=\"middle\">始</text></switch></g><path d=\"M 8 160 L 303.53 160\" fill=\"none\" stroke=\"#000000\" stroke-width=\"2\" stroke-miterlimit=\"10\" pointer-events=\"stroke\"/><path d=\"M 297.76 164 L 305.76 160 L 297.76 156\" fill=\"none\" stroke=\"#000000\" stroke-width=\"2\" stroke-miterlimit=\"10\" pointer-events=\"all\"/><ellipse cx=\"208\" cy=\"140\" rx=\"20\" ry=\"20\" fill=\"#ffffff\" stroke=\"#000000\" pointer-events=\"all\"/><g transform=\"translate(-0.5 -0.5)\"><switch><foreignObject style=\"overflow: visible; text-align: left;\" pointer-events=\"none\" width=\"100%\" height=\"100%\" requiredFeatures=\"http://www.w3.org/TR/SVG11/feature#Extensibility\"><div xmlns=\"http://www.w3.org/1999/xhtml\" style=\"display: flex; align-items: unsafe center; justify-content: unsafe center; width: 38px; height: 1px; padding-top: 140px; margin-left: 189px;\"><div style=\"box-sizing: border-box; font-size: 0; text-align: center; \"><div style=\"display: inline-block; font-size: 12px; font-family: Helvetica; color: #000000; line-height: 1.2; pointer-events: all; white-space: normal; word-wrap: normal; \"><span style=\"font-size: 24px\">後</span></div></div></div></foreignObject><text x=\"208\" y=\"144\" fill=\"#000000\" font-family=\"Helvetica\" font-size=\"12px\" text-anchor=\"middle\">後</text></switch></g><rect x=\"311\" y=\"150\" width=\"30\" height=\"20\" fill=\"none\" stroke=\"none\" pointer-events=\"all\"/><g transform=\"translate(-0.5 -0.5)\"><switch><foreignObject style=\"overflow: visible; text-align: left;\" pointer-events=\"none\" width=\"100%\" height=\"100%\" requiredFeatures=\"http://www.w3.org/TR/SVG11/feature#Extensibility\"><div xmlns=\"http://www.w3.org/1999/xhtml\" style=\"display: flex; align-items: unsafe center; justify-content: unsafe center; width: 1px; height: 1px; padding-top: 160px; margin-left: 326px;\"><div style=\"box-sizing: border-box; font-size: 0; text-align: center; \"><div style=\"display: inline-block; font-size: 12px; font-family: Helvetica; color: #000000; line-height: 1.2; pointer-events: all; white-space: nowrap; \"><font face=\"Times New Roman\"><span style=\"font-size: 24px\"><i>+</i></span></font></div></div></div></foreignObject><text x=\"326\" y=\"164\" fill=\"#000000\" font-family=\"Helvetica\" font-size=\"12px\" text-anchor=\"middle\">+</text></switch></g><path d=\"M 48 120 L 48 59\" fill=\"none\" stroke=\"#000000\" stroke-miterlimit=\"10\" stroke-dasharray=\"3 3\" pointer-events=\"stroke\"/><path d=\"M 48 99 L 79.76 99\" fill=\"none\" stroke=\"#000000\" stroke-width=\"2\" stroke-miterlimit=\"10\" pointer-events=\"stroke\"/><path d=\"M 85.76 99 L 77.76 103 L 79.76 99 L 77.76 95 Z\" fill=\"#000000\" stroke=\"#000000\" stroke-width=\"2\" stroke-miterlimit=\"10\" pointer-events=\"all\"/><rect x=\"50\" y=\"64\" width=\"40\" height=\"30\" fill=\"none\" stroke=\"none\" pointer-events=\"all\"/><g transform=\"translate(-0.5 -0.5)\"><switch><foreignObject style=\"overflow: visible; text-align: left;\" pointer-events=\"none\" width=\"100%\" height=\"100%\" requiredFeatures=\"http://www.w3.org/TR/SVG11/feature#Extensibility\"><div xmlns=\"http://www.w3.org/1999/xhtml\" style=\"display: flex; align-items: unsafe center; justify-content: unsafe center; width: 1px; height: 1px; padding-top: 79px; margin-left: 70px;\"><div style=\"box-sizing: border-box; font-size: 0; text-align: center; \"><div style=\"display: inline-block; font-size: 12px; font-family: Georgia; color: #B3B3B3; line-height: 1.2; pointer-events: all; font-style: italic; white-space: nowrap; \"><font color=\"#000000\" style=\"font-size: 24px\">v<span style=\"font-style: normal\"><sub>0</sub></span></font></div></div></div></foreignObject><text x=\"70\" y=\"83\" fill=\"#B3B3B3\" font-family=\"Georgia\" font-size=\"12px\" text-anchor=\"middle\" font-style=\"italic\">v0</text></switch></g><path d=\"M 208 120 L 208 59\" fill=\"none\" stroke=\"#000000\" stroke-miterlimit=\"10\" stroke-dasharray=\"3 3\" pointer-events=\"stroke\"/><path d=\"M 208 99 L 279.76 99\" fill=\"none\" stroke=\"#000000\" stroke-width=\"2\" stroke-miterlimit=\"10\" pointer-events=\"stroke\"/><path d=\"M 285.76 99 L 277.76 103 L 279.76 99 L 277.76 95 Z\" fill=\"#000000\" stroke=\"#000000\" stroke-width=\"2\" stroke-miterlimit=\"10\" pointer-events=\"all\"/><rect x=\"233\" y=\"69\" width=\"30\" height=\"20\" fill=\"none\" stroke=\"none\" pointer-events=\"all\"/><g transform=\"translate(-0.5 -0.5)\"><switch><foreignObject style=\"overflow: visible; text-align: left;\" pointer-events=\"none\" width=\"100%\" height=\"100%\" requiredFeatures=\"http://www.w3.org/TR/SVG11/feature#Extensibility\"><div xmlns=\"http://www.w3.org/1999/xhtml\" style=\"display: flex; align-items: unsafe center; justify-content: unsafe center; width: 1px; height: 1px; padding-top: 79px; margin-left: 248px;\"><div style=\"box-sizing: border-box; font-size: 0; text-align: center; \"><div style=\"display: inline-block; font-size: 12px; font-family: Georgia; color: #B3B3B3; line-height: 1.2; pointer-events: all; font-style: italic; white-space: nowrap; \"><font color=\"#000000\" style=\"font-size: 24px\">v</font></div></div></div></foreignObject><text x=\"248\" y=\"83\" fill=\"#B3B3B3\" font-family=\"Georgia\" font-size=\"12px\" text-anchor=\"middle\" font-style=\"italic\">v</text></switch></g><path d=\"M 128.5 44 L 128.5 34 L 148.5 34 L 148.5 23.5 L 167.5 39 L 148.5 54.5 L 148.5 44 Z\" fill=\"none\" stroke=\"#000000\" stroke-linejoin=\"round\" stroke-miterlimit=\"10\" pointer-events=\"all\"/><rect x=\"123\" y=\"4\" width=\"30\" height=\"20\" fill=\"none\" stroke=\"none\" pointer-events=\"all\"/><g transform=\"translate(-0.5 -0.5)\"><switch><foreignObject style=\"overflow: visible; text-align: left;\" pointer-events=\"none\" width=\"100%\" height=\"100%\" requiredFeatures=\"http://www.w3.org/TR/SVG11/feature#Extensibility\"><div xmlns=\"http://www.w3.org/1999/xhtml\" style=\"display: flex; align-items: unsafe center; justify-content: unsafe center; width: 1px; height: 1px; padding-top: 14px; margin-left: 138px;\"><div style=\"box-sizing: border-box; font-size: 0; text-align: center; \"><div style=\"display: inline-block; font-size: 12px; font-family: Georgia; color: #B3B3B3; line-height: 1.2; pointer-events: all; font-style: italic; white-space: nowrap; \"><font color=\"#000000\" style=\"font-size: 24px\">a</font></div></div></div></foreignObject><text x=\"138\" y=\"18\" fill=\"#B3B3B3\" font-family=\"Georgia\" font-size=\"12px\" text-anchor=\"middle\" font-style=\"italic\">a</text></switch></g><path d=\"M 50 189 L 199.88 189\" fill=\"none\" stroke=\"#000000\" stroke-miterlimit=\"10\" pointer-events=\"stroke\"/><path d=\"M 206.88 189 L 199.88 185.5 L 199.88 189 Z\" fill=\"#000000\" stroke=\"#000000\" stroke-miterlimit=\"10\" pointer-events=\"all\"/><g transform=\"translate(-0.5 -0.5)\"><switch><foreignObject style=\"overflow: visible; text-align: left;\" pointer-events=\"none\" width=\"100%\" height=\"100%\" requiredFeatures=\"http://www.w3.org/TR/SVG11/feature#Extensibility\"><div xmlns=\"http://www.w3.org/1999/xhtml\" style=\"display: flex; align-items: unsafe center; justify-content: unsafe center; width: 1px; height: 1px; padding-top: 210px; margin-left: 139px;\"><div style=\"box-sizing: border-box; font-size: 0; text-align: center; \"><div style=\"display: inline-block; font-size: 11px; font-family: Helvetica; color: #000000; line-height: 1.2; pointer-events: all; background-color: #ffffff; white-space: nowrap; \"><span style=\"font-family: &quot;georgia&quot; ; font-size: 24px ; font-style: italic ; background-color: rgb(248 , 249 , 250)\">s</span></div></div></div></foreignObject><text x=\"139\" y=\"213\" fill=\"#000000\" font-family=\"Helvetica\" font-size=\"11px\" text-anchor=\"middle\">s</text></switch></g></g><switch><g requiredFeatures=\"http://www.w3.org/TR/SVG11/feature#Extensibility\"/><a transform=\"translate(0,-5)\" xlink:href=\"https://desk.draw.io/support/solutions/articles/16000042487\" target=\"_blank\"><text text-anchor=\"middle\" font-size=\"10px\" x=\"50%\" y=\"100%\">Viewer does not support full SVG 1.1</text></a></switch></svg>"
      ],
      "execution_count": null,
      "outputs": [
        {
          "output_type": "display_data",
          "data": {
            "text/plain": [
              "<IPython.core.display.SVG object>"
            ],
            "image/svg+xml": "<svg content=\"&lt;mxfile host=&quot;app.diagrams.net&quot; modified=&quot;2020-11-04T07:18:04.704Z&quot; agent=&quot;5.0 (Macintosh; Intel Mac OS X 10_10_5) AppleWebKit/537.36 (KHTML, like Gecko) Chrome/86.0.4240.111 Safari/537.36&quot; etag=&quot;WnKgAo7Etnd3GxwS-AnA&quot; version=&quot;13.6.5&quot; type=&quot;google&quot;&gt;&lt;diagram id=&quot;D8dpcNwscbI9uLwne1sH&quot; name=&quot;Page-1&quot;&gt;7VnbcqM4EP0aqmYfMsXFOPZjcJKZ1GYuu9mq2VcZBKgGECvk2Nmv3xaIiwT4FjvJ1CapMqLVaqQ+3aclMJxFuvnEUB5/oQFODNsMNoZzbdi2ZU3mcBGSp0oyN61KEDESSKVW8ED+xVJoSumKBLhQFDmlCSe5KvRplmGfKzLEGF2raiFN1KfmKMI9wYOPkr70Bwl4XEknltPKP2MSxfLJ9lwOSFGtKxdSxCig647IuTGcBaOUV610s8CJ8F3tlmrc7UhvMy+GM77PgN/vvv19N/0W/ggXd/e395P5H154Ia08omQl12vY0wTseSEFszBr/iQ9Mf1nReuOi6LE6QoU7Em+aTuhFZXXG9e4ujRmXm0O5lVZlP2VSxrjNswVEIUbbx0Tjh9y5IueNQQVyGKeJnBnQRMVeQVzSDYYluYFqIhFo+wVN98R55hlpcQ2reZpj5hxvBn1ntVgArGMaYo5ewIVOWAqUZRRbF1KC+tOTEiVuBMOtQzJKIwawy1S0JBgHQCcPQCc7tIsuBIJAHc0x5nqxoIz+rOJaFi4B+q3REzi2mxchoNecux0WMcj7oBHahnDCeLkUTU/5Cb5hO+UlAG5UR0r8QCiUS0UdMV8LAd1s0Kz4+wyxBGLMO8ZKkFrVn08js5oAhY5yp6XgN6NMVt0ErCyePIEPEF2NST5VtJrsosXw8o9reP/IimUKdv8itfw+ydNS1/rqJwGW2mFtIIuzxJdrwf9fpQMcHIVeoZhamhZKgiSQCtOq8lWkZGQSNCuD6hjBgIREwRK6ZXsSEkQiMFeLtKpxMz1DPdaLByoZ0ETCsOuM5rhhqI0IaOrLCjp3tS5/wRx6EwclQ3Mfhw6A3FonysO3YNoXvqoR/O1Dw2YfPknI+0WpSQRSx0K3kqlM9Qr/4e9/nYLxWyEWQ4tFLodS4P8zHVielAg+AkqCuLvKvljAI9Hza+Gtmseh7alFyTd0JnhvtxVf/wGnLY61DB1RMeWmMc9K1UlFnYyylKUbCl5q2UtMruFqRX/z8rV8FFFoWUIJBYRtCVThfxB+qA+EjynAM5sjeXcvfZhzrnq3+y9/j2TEfWT0tEFsGfohSvg/L0CHoX3sSXQeeUSWIfX69fA98rzApXHnrpquNXh91pHL2vo1cyhhBOjXKiGCd5IxTdPIJb2qnN+JH/Y5nY756aPna9wzkwf6J0+XpA+LFelD7e/cX1Z9hg6wY2zByqesq2bFWuLL8c3K+07/V9hq6odPnpvd4/dqfYMnZt6hk4t+xynQ5k/glSgC6V5RUrOBK6RzCldLnTL30FWUvra0zrhQCJ+071E/s+oTPkLyYpCiUXLD/ZkVk5mUVqct23X/K3PecXeXxsgCO/REidqzO/PbDpF9plulFTkl2I52Gg4oJsHW3J6lILMj6ZrTtVNzEnyQmU2fTwNwwIfGMdw2354rtTbr/fOzX8=&lt;/diagram&gt;&lt;/mxfile&gt;\" onclick=\"(function(svg){var src=window.event.target||window.event.srcElement;while (src!=null&amp;&amp;src.nodeName.toLowerCase()!='a'){src=src.parentNode;}if(src==null){if(svg.wnd!=null&amp;&amp;!svg.wnd.closed){svg.wnd.focus();}else{var r=function(evt){if(evt.data=='ready'&amp;&amp;evt.source==svg.wnd){svg.wnd.postMessage(decodeURIComponent(svg.getAttribute('content')),'*');window.removeEventListener('message',r);}};window.addEventListener('message',r);svg.wnd=window.open('https://viewer.diagrams.net/?client=1&amp;edit=_blank');}}})(this);\" style=\"cursor:pointer;max-width:100%;max-height:224px;\" version=\"1.1\" viewBox=\"-0.5 -0.5 342 224\" width=\"342px\" xmlns=\"http://www.w3.org/2000/svg\" xmlns:xlink=\"http://www.w3.org/1999/xlink\"><defs/><g><ellipse cx=\"48\" cy=\"140\" fill=\"#ffffff\" pointer-events=\"all\" rx=\"20\" ry=\"20\" stroke=\"#000000\" stroke-dasharray=\"1 1\"/><g transform=\"translate(-0.5 -0.5)\"><switch><foreignObject height=\"100%\" pointer-events=\"none\" requiredFeatures=\"http://www.w3.org/TR/SVG11/feature#Extensibility\" style=\"overflow: visible; text-align: left;\" width=\"100%\"><div style=\"display: flex; align-items: unsafe center; justify-content: unsafe center; width: 38px; height: 1px; padding-top: 140px; margin-left: 29px;\" xmlns=\"http://www.w3.org/1999/xhtml\"><div style=\"box-sizing: border-box; font-size: 0; text-align: center; \"><div style=\"display: inline-block; font-size: 12px; font-family: Helvetica; color: #000000; line-height: 1.2; pointer-events: all; white-space: normal; word-wrap: normal; \"><font style=\"font-size: 24px\">始</font></div></div></div></foreignObject><text fill=\"#000000\" font-family=\"Helvetica\" font-size=\"12px\" text-anchor=\"middle\" x=\"48\" y=\"144\">始</text></switch></g><path d=\"M 8 160 L 303.53 160\" fill=\"none\" pointer-events=\"stroke\" stroke=\"#000000\" stroke-miterlimit=\"10\" stroke-width=\"2\"/><path d=\"M 297.76 164 L 305.76 160 L 297.76 156\" fill=\"none\" pointer-events=\"all\" stroke=\"#000000\" stroke-miterlimit=\"10\" stroke-width=\"2\"/><ellipse cx=\"208\" cy=\"140\" fill=\"#ffffff\" pointer-events=\"all\" rx=\"20\" ry=\"20\" stroke=\"#000000\"/><g transform=\"translate(-0.5 -0.5)\"><switch><foreignObject height=\"100%\" pointer-events=\"none\" requiredFeatures=\"http://www.w3.org/TR/SVG11/feature#Extensibility\" style=\"overflow: visible; text-align: left;\" width=\"100%\"><div style=\"display: flex; align-items: unsafe center; justify-content: unsafe center; width: 38px; height: 1px; padding-top: 140px; margin-left: 189px;\" xmlns=\"http://www.w3.org/1999/xhtml\"><div style=\"box-sizing: border-box; font-size: 0; text-align: center; \"><div style=\"display: inline-block; font-size: 12px; font-family: Helvetica; color: #000000; line-height: 1.2; pointer-events: all; white-space: normal; word-wrap: normal; \"><span style=\"font-size: 24px\">後</span></div></div></div></foreignObject><text fill=\"#000000\" font-family=\"Helvetica\" font-size=\"12px\" text-anchor=\"middle\" x=\"208\" y=\"144\">後</text></switch></g><rect fill=\"none\" height=\"20\" pointer-events=\"all\" stroke=\"none\" width=\"30\" x=\"311\" y=\"150\"/><g transform=\"translate(-0.5 -0.5)\"><switch><foreignObject height=\"100%\" pointer-events=\"none\" requiredFeatures=\"http://www.w3.org/TR/SVG11/feature#Extensibility\" style=\"overflow: visible; text-align: left;\" width=\"100%\"><div style=\"display: flex; align-items: unsafe center; justify-content: unsafe center; width: 1px; height: 1px; padding-top: 160px; margin-left: 326px;\" xmlns=\"http://www.w3.org/1999/xhtml\"><div style=\"box-sizing: border-box; font-size: 0; text-align: center; \"><div style=\"display: inline-block; font-size: 12px; font-family: Helvetica; color: #000000; line-height: 1.2; pointer-events: all; white-space: nowrap; \"><font face=\"Times New Roman\"><span style=\"font-size: 24px\"><i>+</i></span></font></div></div></div></foreignObject><text fill=\"#000000\" font-family=\"Helvetica\" font-size=\"12px\" text-anchor=\"middle\" x=\"326\" y=\"164\">+</text></switch></g><path d=\"M 48 120 L 48 59\" fill=\"none\" pointer-events=\"stroke\" stroke=\"#000000\" stroke-dasharray=\"3 3\" stroke-miterlimit=\"10\"/><path d=\"M 48 99 L 79.76 99\" fill=\"none\" pointer-events=\"stroke\" stroke=\"#000000\" stroke-miterlimit=\"10\" stroke-width=\"2\"/><path d=\"M 85.76 99 L 77.76 103 L 79.76 99 L 77.76 95 Z\" fill=\"#000000\" pointer-events=\"all\" stroke=\"#000000\" stroke-miterlimit=\"10\" stroke-width=\"2\"/><rect fill=\"none\" height=\"30\" pointer-events=\"all\" stroke=\"none\" width=\"40\" x=\"50\" y=\"64\"/><g transform=\"translate(-0.5 -0.5)\"><switch><foreignObject height=\"100%\" pointer-events=\"none\" requiredFeatures=\"http://www.w3.org/TR/SVG11/feature#Extensibility\" style=\"overflow: visible; text-align: left;\" width=\"100%\"><div style=\"display: flex; align-items: unsafe center; justify-content: unsafe center; width: 1px; height: 1px; padding-top: 79px; margin-left: 70px;\" xmlns=\"http://www.w3.org/1999/xhtml\"><div style=\"box-sizing: border-box; font-size: 0; text-align: center; \"><div style=\"display: inline-block; font-size: 12px; font-family: Georgia; color: #B3B3B3; line-height: 1.2; pointer-events: all; font-style: italic; white-space: nowrap; \"><font color=\"#000000\" style=\"font-size: 24px\">v<span style=\"font-style: normal\"><sub>0</sub></span></font></div></div></div></foreignObject><text fill=\"#B3B3B3\" font-family=\"Georgia\" font-size=\"12px\" font-style=\"italic\" text-anchor=\"middle\" x=\"70\" y=\"83\">v0</text></switch></g><path d=\"M 208 120 L 208 59\" fill=\"none\" pointer-events=\"stroke\" stroke=\"#000000\" stroke-dasharray=\"3 3\" stroke-miterlimit=\"10\"/><path d=\"M 208 99 L 279.76 99\" fill=\"none\" pointer-events=\"stroke\" stroke=\"#000000\" stroke-miterlimit=\"10\" stroke-width=\"2\"/><path d=\"M 285.76 99 L 277.76 103 L 279.76 99 L 277.76 95 Z\" fill=\"#000000\" pointer-events=\"all\" stroke=\"#000000\" stroke-miterlimit=\"10\" stroke-width=\"2\"/><rect fill=\"none\" height=\"20\" pointer-events=\"all\" stroke=\"none\" width=\"30\" x=\"233\" y=\"69\"/><g transform=\"translate(-0.5 -0.5)\"><switch><foreignObject height=\"100%\" pointer-events=\"none\" requiredFeatures=\"http://www.w3.org/TR/SVG11/feature#Extensibility\" style=\"overflow: visible; text-align: left;\" width=\"100%\"><div style=\"display: flex; align-items: unsafe center; justify-content: unsafe center; width: 1px; height: 1px; padding-top: 79px; margin-left: 248px;\" xmlns=\"http://www.w3.org/1999/xhtml\"><div style=\"box-sizing: border-box; font-size: 0; text-align: center; \"><div style=\"display: inline-block; font-size: 12px; font-family: Georgia; color: #B3B3B3; line-height: 1.2; pointer-events: all; font-style: italic; white-space: nowrap; \"><font color=\"#000000\" style=\"font-size: 24px\">v</font></div></div></div></foreignObject><text fill=\"#B3B3B3\" font-family=\"Georgia\" font-size=\"12px\" font-style=\"italic\" text-anchor=\"middle\" x=\"248\" y=\"83\">v</text></switch></g><path d=\"M 128.5 44 L 128.5 34 L 148.5 34 L 148.5 23.5 L 167.5 39 L 148.5 54.5 L 148.5 44 Z\" fill=\"none\" pointer-events=\"all\" stroke=\"#000000\" stroke-linejoin=\"round\" stroke-miterlimit=\"10\"/><rect fill=\"none\" height=\"20\" pointer-events=\"all\" stroke=\"none\" width=\"30\" x=\"123\" y=\"4\"/><g transform=\"translate(-0.5 -0.5)\"><switch><foreignObject height=\"100%\" pointer-events=\"none\" requiredFeatures=\"http://www.w3.org/TR/SVG11/feature#Extensibility\" style=\"overflow: visible; text-align: left;\" width=\"100%\"><div style=\"display: flex; align-items: unsafe center; justify-content: unsafe center; width: 1px; height: 1px; padding-top: 14px; margin-left: 138px;\" xmlns=\"http://www.w3.org/1999/xhtml\"><div style=\"box-sizing: border-box; font-size: 0; text-align: center; \"><div style=\"display: inline-block; font-size: 12px; font-family: Georgia; color: #B3B3B3; line-height: 1.2; pointer-events: all; font-style: italic; white-space: nowrap; \"><font color=\"#000000\" style=\"font-size: 24px\">a</font></div></div></div></foreignObject><text fill=\"#B3B3B3\" font-family=\"Georgia\" font-size=\"12px\" font-style=\"italic\" text-anchor=\"middle\" x=\"138\" y=\"18\">a</text></switch></g><path d=\"M 50 189 L 199.88 189\" fill=\"none\" pointer-events=\"stroke\" stroke=\"#000000\" stroke-miterlimit=\"10\"/><path d=\"M 206.88 189 L 199.88 185.5 L 199.88 189 Z\" fill=\"#000000\" pointer-events=\"all\" stroke=\"#000000\" stroke-miterlimit=\"10\"/><g transform=\"translate(-0.5 -0.5)\"><switch><foreignObject height=\"100%\" pointer-events=\"none\" requiredFeatures=\"http://www.w3.org/TR/SVG11/feature#Extensibility\" style=\"overflow: visible; text-align: left;\" width=\"100%\"><div style=\"display: flex; align-items: unsafe center; justify-content: unsafe center; width: 1px; height: 1px; padding-top: 210px; margin-left: 139px;\" xmlns=\"http://www.w3.org/1999/xhtml\"><div style=\"box-sizing: border-box; font-size: 0; text-align: center; \"><div style=\"display: inline-block; font-size: 11px; font-family: Helvetica; color: #000000; line-height: 1.2; pointer-events: all; background-color: #ffffff; white-space: nowrap; \"><span style=\"font-family: &quot;georgia&quot; ; font-size: 24px ; font-style: italic ; background-color: rgb(248 , 249 , 250)\">s</span></div></div></div></foreignObject><text fill=\"#000000\" font-family=\"Helvetica\" font-size=\"11px\" text-anchor=\"middle\" x=\"139\" y=\"213\">s</text></switch></g></g><switch><g requiredFeatures=\"http://www.w3.org/TR/SVG11/feature#Extensibility\"/><a target=\"_blank\" transform=\"translate(0,-5)\" xlink:href=\"https://desk.draw.io/support/solutions/articles/16000042487\"><text font-size=\"10px\" text-anchor=\"middle\" x=\"50%\" y=\"100%\">Viewer does not support full SVG 1.1</text></a></switch></svg>"
          },
          "metadata": {
            "tags": []
          }
        }
      ]
    },
    {
      "cell_type": "markdown",
      "metadata": {
        "id": "7_4B0m6ig8kB"
      },
      "source": [
        "\\begin{align*}\n",
        "ma &=F\n",
        "\\end{align*}"
      ]
    },
    {
      "cell_type": "markdown",
      "metadata": {
        "id": "YRz-f_G_Pp1y"
      },
      "source": [
        "\\begin{align*}\n",
        "&\\begin{cases}\n",
        "v &= a t\\\\\n",
        "s &= \\dfrac{1}{2} a t^2\n",
        "\\end{cases}\\qquad\n",
        "\\begin{cases}\n",
        "v &= \\dfrac{F}{m} t\\\\\n",
        "s &= \\dfrac{1}{2} \\dfrac{F}{m} t^2\n",
        "\\end{cases}\n",
        "\\end{align*}"
      ]
    },
    {
      "cell_type": "markdown",
      "metadata": {
        "id": "TltBp-MmPqmQ"
      },
      "source": [
        "\\begin{align*}\n",
        "W &= F \\cdot s \n",
        "=F \\left( \\dfrac{1}{2} \\dfrac{F}{m} t^2 \\right) \n",
        "= \\dfrac{1}{2} \\dfrac{F^2}{m} t^2&\\\\\n",
        "\\end{align*}"
      ]
    },
    {
      "cell_type": "markdown",
      "metadata": {
        "id": "3rJqu5REQBG3"
      },
      "source": [
        "\\begin{align*}\n",
        "E_{\\rm k} &= W = \\dfrac{1}{2} \\dfrac{F^2}{m} \\left(  \\dfrac{mv}{F}\\right)^2 = \\dfrac{1}{2} m v^2\\\\\n",
        "\\\\\n",
        "E_{\\rm k} &=\\dfrac{1}{2} m v^2\n",
        "\\end{align*}"
      ]
    },
    {
      "cell_type": "markdown",
      "metadata": {
        "id": "O00XfEqopK2r"
      },
      "source": [
        "教科書の方法は周りくどいし、仕事と運動エネルギーの繋がりが弱く見える"
      ]
    },
    {
      "cell_type": "markdown",
      "metadata": {
        "id": "ThaMxy5_vr68"
      },
      "source": [
        "\\begin{align*}\n",
        "E_{\\rm k} = \\dfrac{1}{2} m v^2\n",
        "\\end{align*}"
      ]
    }
  ]
}