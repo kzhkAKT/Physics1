{
  "nbformat": 4,
  "nbformat_minor": 0,
  "metadata": {
    "colab": {
      "name": "1530_運動エネルギー_物理1",
      "provenance": [],
      "authorship_tag": "ABX9TyPD/Qm69MU6M4GqpZOKnITi",
      "include_colab_link": true
    },
    "kernelspec": {
      "name": "python3",
      "display_name": "Python 3"
    }
  },
  "cells": [
    {
      "cell_type": "markdown",
      "metadata": {
        "id": "view-in-github",
        "colab_type": "text"
      },
      "source": [
        "<a href=\"https://colab.research.google.com/github/kzhkAKT/Physics1/blob/draft/2ndTERM/1530_%E9%81%8B%E5%8B%95%E3%82%A8%E3%83%8D%E3%83%AB%E3%82%AE%E3%83%BC_%E7%89%A9%E7%90%861.ipynb\" target=\"_parent\"><img src=\"https://colab.research.google.com/assets/colab-badge.svg\" alt=\"Open In Colab\"/></a>"
      ]
    },
    {
      "cell_type": "markdown",
      "metadata": {
        "id": "G-hLU83tdNaA"
      },
      "source": [
        "# 力学的エネルギー"
      ]
    },
    {
      "cell_type": "markdown",
      "metadata": {
        "id": "RzZur4C5ddTz"
      },
      "source": [
        "## 運動エネルギー, Kinetic energy\n",
        "\n",
        "運動をする物体が持つ仕事をするエネルギー\n"
      ]
    },
    {
      "cell_type": "code",
      "metadata": {
        "id": "pzzUSTTyf99y",
        "cellView": "form",
        "outputId": "09822fc4-e3bf-4634-a6cc-d6fab2adeca8",
        "colab": {
          "base_uri": "https://localhost:8080/",
          "height": 336
        }
      },
      "source": [
        "#@title 運動エネルギーの検証(穏やか版)\n",
        "%%html\n",
        "<iframe width=\"560\" height=\"315\" src=\"https://www.youtube-nocookie.com/embed/69T9qnIIrJA\" frameborder=\"0\" allow=\"accelerometer; autoplay; clipboard-write; encrypted-media; gyroscope; picture-in-picture\" allowfullscreen></iframe>"
      ],
      "execution_count": 2,
      "outputs": [
        {
          "output_type": "display_data",
          "data": {
            "text/html": [
              "<iframe width=\"560\" height=\"315\" src=\"https://www.youtube-nocookie.com/embed/69T9qnIIrJA\" frameborder=\"0\" allow=\"accelerometer; autoplay; clipboard-write; encrypted-media; gyroscope; picture-in-picture\" allowfullscreen></iframe>"
            ],
            "text/plain": [
              "<IPython.core.display.HTML object>"
            ]
          },
          "metadata": {
            "tags": []
          }
        }
      ]
    },
    {
      "cell_type": "code",
      "metadata": {
        "id": "7NkXuXq8gtby",
        "cellView": "form",
        "outputId": "57ea3f4a-1bc3-40c7-9546-34478e6abc80",
        "colab": {
          "base_uri": "https://localhost:8080/",
          "height": 336
        }
      },
      "source": [
        "#@title 運動エネルギーの検証(穏やかでない版)\n",
        "%%html\n",
        "<iframe width=\"560\" height=\"315\" src=\"https://www.youtube-nocookie.com/embed/qhPJh69qnas\" frameborder=\"0\" allow=\"accelerometer; autoplay; clipboard-write; encrypted-media; gyroscope; picture-in-picture\" allowfullscreen></iframe>"
      ],
      "execution_count": 4,
      "outputs": [
        {
          "output_type": "display_data",
          "data": {
            "text/html": [
              "<iframe width=\"560\" height=\"315\" src=\"https://www.youtube-nocookie.com/embed/qhPJh69qnas\" frameborder=\"0\" allow=\"accelerometer; autoplay; clipboard-write; encrypted-media; gyroscope; picture-in-picture\" allowfullscreen></iframe>"
            ],
            "text/plain": [
              "<IPython.core.display.HTML object>"
            ]
          },
          "metadata": {
            "tags": []
          }
        }
      ]
    },
    {
      "cell_type": "markdown",
      "metadata": {
        "id": "7_4B0m6ig8kB"
      },
      "source": [
        "\\begin{align*}\n",
        "ma &=F \\\\\n",
        "&\\begin{cases}\n",
        "v &= a t\\\\\n",
        "s &= \\dfrac{1}{2} a t^2\n",
        "\\end{cases}\\qquad\n",
        "\\begin{cases}\n",
        "v &= \\dfrac{F}{m} t\\\\\n",
        "s &= \\dfrac{1}{2} \\dfrac{F}{m} t^2\n",
        "\\end{cases}\\\\\n",
        "W &= F \\cdot s =F \\left( \\dfrac{1}{2} \\dfrac{F}{m} t^2 \\right) = \\dfrac{1}{2} \\dfrac{F^2}{m} t^2&\\\\\n",
        "\\\\\n",
        "E_{\\rm k} &= W = \\dfrac{1}{2} \\dfrac{F^2}{m} \\left(  \\dfrac{mv}{F}\\right)^2 = \\dfrac{1}{2} m v^2\\\\\n",
        "\\\\\n",
        "E_{\\rm k} &=\\dfrac{1}{2} m v^2\n",
        "\\end{align*}"
      ]
    },
    {
      "cell_type": "markdown",
      "metadata": {
        "id": "O00XfEqopK2r"
      },
      "source": [
        "教科書の方法は周りくどいし、仕事と運動エネルギーの繋がりが弱く見える"
      ]
    },
    {
      "cell_type": "markdown",
      "metadata": {
        "id": "ThaMxy5_vr68"
      },
      "source": [
        "\\begin{align*}\n",
        "E_{\\rm k} = \\dfrac{1}{2} m v^2\n",
        "\\end{align*}"
      ]
    }
  ]
}