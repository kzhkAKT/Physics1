{
  "nbformat": 4,
  "nbformat_minor": 0,
  "metadata": {
    "colab": {
      "name": "1530_運動エネルギー_物理1",
      "provenance": [],
      "authorship_tag": "ABX9TyPMQy0gB5aZtKRTWDEvDXox",
      "include_colab_link": true
    },
    "kernelspec": {
      "name": "python3",
      "display_name": "Python 3"
    }
  },
  "cells": [
    {
      "cell_type": "markdown",
      "metadata": {
        "id": "view-in-github",
        "colab_type": "text"
      },
      "source": [
        "<a href=\"https://colab.research.google.com/github/kzhkAKT/Physics1/blob/draft/2ndTERM/1530_%E9%81%8B%E5%8B%95%E3%82%A8%E3%83%8D%E3%83%AB%E3%82%AE%E3%83%BC_%E7%89%A9%E7%90%861.ipynb\" target=\"_parent\"><img src=\"https://colab.research.google.com/assets/colab-badge.svg\" alt=\"Open In Colab\"/></a>"
      ]
    },
    {
      "cell_type": "markdown",
      "metadata": {
        "id": "G-hLU83tdNaA"
      },
      "source": [
        "# 力学的エネルギー"
      ]
    },
    {
      "cell_type": "markdown",
      "metadata": {
        "id": "RzZur4C5ddTz"
      },
      "source": [
        "## 運動エネルギー, Kinetic energy\n",
        "\n",
        "運動をする物体が持つ仕事をするエネルギー\n"
      ]
    },
    {
      "cell_type": "code",
      "metadata": {
        "id": "pzzUSTTyf99y",
        "cellView": "form",
        "outputId": "09822fc4-e3bf-4634-a6cc-d6fab2adeca8",
        "colab": {
          "base_uri": "https://localhost:8080/",
          "height": 336
        }
      },
      "source": [
        "#@title 運動エネルギーの検証(穏やか版)\n",
        "%%html\n",
        "<iframe width=\"560\" height=\"315\" src=\"https://www.youtube-nocookie.com/embed/69T9qnIIrJA\" frameborder=\"0\" allow=\"accelerometer; autoplay; clipboard-write; encrypted-media; gyroscope; picture-in-picture\" allowfullscreen></iframe>"
      ],
      "execution_count": null,
      "outputs": [
        {
          "output_type": "display_data",
          "data": {
            "text/html": [
              "<iframe width=\"560\" height=\"315\" src=\"https://www.youtube-nocookie.com/embed/69T9qnIIrJA\" frameborder=\"0\" allow=\"accelerometer; autoplay; clipboard-write; encrypted-media; gyroscope; picture-in-picture\" allowfullscreen></iframe>"
            ],
            "text/plain": [
              "<IPython.core.display.HTML object>"
            ]
          },
          "metadata": {
            "tags": []
          }
        }
      ]
    },
    {
      "cell_type": "code",
      "metadata": {
        "id": "7NkXuXq8gtby",
        "cellView": "form",
        "outputId": "57ea3f4a-1bc3-40c7-9546-34478e6abc80",
        "colab": {
          "base_uri": "https://localhost:8080/",
          "height": 336
        }
      },
      "source": [
        "#@title 運動エネルギーの検証(穏やかでない版)\n",
        "%%html\n",
        "<iframe width=\"560\" height=\"315\" src=\"https://www.youtube-nocookie.com/embed/qhPJh69qnas\" frameborder=\"0\" allow=\"accelerometer; autoplay; clipboard-write; encrypted-media; gyroscope; picture-in-picture\" allowfullscreen></iframe>"
      ],
      "execution_count": null,
      "outputs": [
        {
          "output_type": "display_data",
          "data": {
            "text/html": [
              "<iframe width=\"560\" height=\"315\" src=\"https://www.youtube-nocookie.com/embed/qhPJh69qnas\" frameborder=\"0\" allow=\"accelerometer; autoplay; clipboard-write; encrypted-media; gyroscope; picture-in-picture\" allowfullscreen></iframe>"
            ],
            "text/plain": [
              "<IPython.core.display.HTML object>"
            ]
          },
          "metadata": {
            "tags": []
          }
        }
      ]
    },
    {
      "cell_type": "code",
      "metadata": {
        "id": "gUN-BjrCHvDH",
        "cellView": "form",
        "outputId": "bcb7d1d1-1119-4644-ea42-e429b9fb9d48",
        "colab": {
          "base_uri": "https://localhost:8080/",
          "height": 200
        }
      },
      "source": [
        "#@title 滑らかな水平面で、始め静止していた物体を一定の力 F で引っ張る\n",
        "%%svg\n",
        "<svg xmlns=\"http://www.w3.org/2000/svg\" xmlns:xlink=\"http://www.w3.org/1999/xlink\" version=\"1.1\" width=\"442px\" viewBox=\"-0.5 -0.5 442 179\" content=\"&lt;mxfile host=&quot;app.diagrams.net&quot; modified=&quot;2020-11-04T23:47:07.344Z&quot; agent=&quot;5.0 (Macintosh; Intel Mac OS X 10_10_5) AppleWebKit/537.36 (KHTML, like Gecko) Chrome/86.0.4240.111 Safari/537.36&quot; etag=&quot;4j6GXQmS7O_CY5cynfFO&quot; version=&quot;13.8.9-1&quot; type=&quot;google&quot;&gt;&lt;diagram id=&quot;wzHTsLxfAuD2Vy8Emhh2&quot; name=&quot;Page-1&quot;&gt;7VrbkuI2EP0aVyUPpHwHHjE7TB6Src1OqpLKm7CFrYxsObYYIF8fyZZv8gXwmGVmM1AFdktu2X26T7caFGMdHh8TEAe/Eg9iRVe9o2J8UnRds7Ql++KSUy5Zqlou8BPkiUmV4An9C4VQFdI98mDamEgJwRTFTaFLogi6tCEDSUIOzWk7gpurxsCHLcGTC3Bb+gfyaJBLrYVRyX+GyA/EyqYmBkJQzBUPkgbAI4eayHhQjHVCCM2PwuMaYm67wiz5dZue0fK+EhjRSy6I07//9D7/tnlZBsE+/uurT6PtTGh5AXgvnlfRbcz0OTvC1LK7pidhCfufPSkGZmmG04pN0M34WA1mQGCSNK5QdGOh8nddZPvZ94OlrObKwimWZfefryzGc9OVN6GzZ2LIsxPnECAKn2Lg8pEDcz4mC2iI2ZnGDkEa5+6wQ0fITOB4IA34QTbKT74ASmESZRJd1crV6iYt7AMTCo81kTDxIyQhpMmJTRGjpkBbeHt5fqh8pxAFdbcRMiC81S8VV4iyAwHqFQAbvQCnMYjGAFwB5zwoi3UNuFzj5MBNgIphvzFYzHNxt8vNUxn+dxQyGtTVz/DAPr+SMLO1jMo02AotqBLU4xPJ81rQXxbKDDvahD6B7NbANpugclfYU5LfbO4ZGPk8XF3mCJBRjMMdADGqXomBEHkev9iJCYpohpnlKNYn/uAI47VgpohEfFJKE/IMJWFC9pGX0YQqc8YU7GAaTT+ct/3Q6PBD/VZ+aHX4oRy4kbfiebSyUQ2xpg0Z0avZS3jaBoQI80ftct58Su1SJ3tfbHXoNRJ32+Y1m1odNi1kCcSAopdmuu8ytFjhC/etCtI+Zik0pGSfuFBcVE/Pw3q0+bKph4LEh7SlJ0O9fOjxjrD4cIRXOoKxmMgTZEXf2hWWV7mCi0GaIrfLG4p6WR+AuN9v3h3e2nIc3qZMIbKiG+Nd7LT6i5HOkl4AVS/9R9YbL99rxdC9y2gQIsMv8REYiBAufxI20KeoQVSrSS+L5X1rEK1rE3ot4QQg5lN3GB7FRNmgqzl/MzkGW4gd4D77GXSDGNeve+uEpKsSj6j2OEJqbWJlRbcmJP0cIY0kGvBBNC1C6Y+TCbhGW0qljH1vrunqh/RzDUhP0WBpow0Qd39pw1bYIFxofOu8IpUnhjqyzpELppaiW9NKf9NluF+yEzHEiYUNgTDOKyDDZN++iCtZzudmn53M1BjLV+WDiDIiccvhbZmkZqIE45MSf/uDbi6ym1lnGpfVsaX+2Oa99OImHfO4X3h6lFpyF7ObTJNttmt7+3CgylxTdvrFKkq9m97FQepPqlUksFND0SvjollGydeT3S6Ft/HjrqbNlH2/vhbkY+nqZ7r9dva6oLEYnmkrNpP0rRvNLcIWzzFJKmxVZ/duQWv2Valwi4n7PJQKjXeX2HRTa0Jij+zY6HIrQFZ068w2nyCz+WWB2JO0hjJWFp5StG/eUNYZ3vNdmpOKiHl1TpqxpKRb9uu8WDjbTC6Wb5d5uvZl/YxBYhidawtWhPEeWn7yvngxki/Mc4puzRfXdftHUH8rla6z1zvAeDFRTtD0O+eErjb+R064OCf07eovzRVFiP1vc0XXrwofHCPyyEQk00ok35hkym3QB8ncg2TKGPv+SIadVn+NzKdX/y81Hv4D&lt;/diagram&gt;&lt;/mxfile&gt;\" onclick=\"(function(svg){var src=window.event.target||window.event.srcElement;while (src!=null&amp;&amp;src.nodeName.toLowerCase()!='a'){src=src.parentNode;}if(src==null){if(svg.wnd!=null&amp;&amp;!svg.wnd.closed){svg.wnd.focus();}else{var r=function(evt){if(evt.data=='ready'&amp;&amp;evt.source==svg.wnd){svg.wnd.postMessage(decodeURIComponent(svg.getAttribute('content')),'*');window.removeEventListener('message',r);}};window.addEventListener('message',r);svg.wnd=window.open('https://viewer.diagrams.net/?client=1&amp;page=0&amp;edit=_blank');}}})(this);\" style=\"cursor:pointer;max-width:100%;max-height:179px;\"><defs/><g><ellipse cx=\"28\" cy=\"95\" rx=\"20\" ry=\"20\" fill=\"#ffffff\" stroke=\"#000000\" stroke-dasharray=\"1 1\" pointer-events=\"all\"/><g transform=\"translate(-0.5 -0.5)\"><switch><foreignObject style=\"overflow: visible; text-align: left;\" pointer-events=\"none\" width=\"100%\" height=\"100%\" requiredFeatures=\"http://www.w3.org/TR/SVG11/feature#Extensibility\"><div xmlns=\"http://www.w3.org/1999/xhtml\" style=\"display: flex; align-items: unsafe center; justify-content: unsafe center; width: 38px; height: 1px; padding-top: 95px; margin-left: 9px;\"><div style=\"box-sizing: border-box; font-size: 0; text-align: center; \"><div style=\"display: inline-block; font-size: 12px; font-family: Helvetica; color: #000000; line-height: 1.2; pointer-events: all; white-space: normal; word-wrap: normal; \"><font style=\"font-size: 24px\" color=\"#808080\">始</font></div></div></div></foreignObject><text x=\"28\" y=\"99\" fill=\"#000000\" font-family=\"Helvetica\" font-size=\"12px\" text-anchor=\"middle\">始</text></switch></g><ellipse cx=\"348\" cy=\"95\" rx=\"20\" ry=\"20\" fill=\"#ffffff\" stroke=\"#000000\" pointer-events=\"all\"/><g transform=\"translate(-0.5 -0.5)\"><switch><foreignObject style=\"overflow: visible; text-align: left;\" pointer-events=\"none\" width=\"100%\" height=\"100%\" requiredFeatures=\"http://www.w3.org/TR/SVG11/feature#Extensibility\"><div xmlns=\"http://www.w3.org/1999/xhtml\" style=\"display: flex; align-items: unsafe center; justify-content: unsafe center; width: 38px; height: 1px; padding-top: 95px; margin-left: 329px;\"><div style=\"box-sizing: border-box; font-size: 0; text-align: center; \"><div style=\"display: inline-block; font-size: 12px; font-family: Helvetica; color: #000000; line-height: 1.2; pointer-events: all; white-space: normal; word-wrap: normal; \"><span style=\"font-size: 24px\">後</span></div></div></div></foreignObject><text x=\"348\" y=\"99\" fill=\"#000000\" font-family=\"Helvetica\" font-size=\"12px\" text-anchor=\"middle\">後</text></switch></g><rect x=\"411\" y=\"105\" width=\"30\" height=\"20\" fill=\"none\" stroke=\"none\" pointer-events=\"all\"/><g transform=\"translate(-0.5 -0.5)\"><switch><foreignObject style=\"overflow: visible; text-align: left;\" pointer-events=\"none\" width=\"100%\" height=\"100%\" requiredFeatures=\"http://www.w3.org/TR/SVG11/feature#Extensibility\"><div xmlns=\"http://www.w3.org/1999/xhtml\" style=\"display: flex; align-items: unsafe center; justify-content: unsafe center; width: 1px; height: 1px; padding-top: 115px; margin-left: 426px;\"><div style=\"box-sizing: border-box; font-size: 0; text-align: center; \"><div style=\"display: inline-block; font-size: 12px; font-family: Helvetica; color: #000000; line-height: 1.2; pointer-events: all; white-space: nowrap; \"><font face=\"Times New Roman\"><span style=\"font-size: 24px\"><i>+</i></span></font></div></div></div></foreignObject><text x=\"426\" y=\"119\" fill=\"#000000\" font-family=\"Helvetica\" font-size=\"12px\" text-anchor=\"middle\">+</text></switch></g><path d=\"M 28 75 L 28 14\" fill=\"none\" stroke=\"#000000\" stroke-miterlimit=\"10\" stroke-dasharray=\"3 3\" pointer-events=\"stroke\"/><path d=\"M 348 75 L 348 14\" fill=\"none\" stroke=\"#000000\" stroke-miterlimit=\"10\" stroke-dasharray=\"3 3\" pointer-events=\"stroke\"/><path d=\"M 348 54 L 419.76 54\" fill=\"none\" stroke=\"#000000\" stroke-width=\"2\" stroke-miterlimit=\"10\" pointer-events=\"stroke\"/><path d=\"M 425.76 54 L 417.76 58 L 419.76 54 L 417.76 50 Z\" fill=\"#000000\" stroke=\"#000000\" stroke-width=\"2\" stroke-miterlimit=\"10\" pointer-events=\"all\"/><rect x=\"373\" y=\"24\" width=\"30\" height=\"20\" fill=\"none\" stroke=\"none\" pointer-events=\"all\"/><g transform=\"translate(-0.5 -0.5)\"><switch><foreignObject style=\"overflow: visible; text-align: left;\" pointer-events=\"none\" width=\"100%\" height=\"100%\" requiredFeatures=\"http://www.w3.org/TR/SVG11/feature#Extensibility\"><div xmlns=\"http://www.w3.org/1999/xhtml\" style=\"display: flex; align-items: unsafe center; justify-content: unsafe center; width: 1px; height: 1px; padding-top: 34px; margin-left: 388px;\"><div style=\"box-sizing: border-box; font-size: 0; text-align: center; \"><div style=\"display: inline-block; font-size: 12px; font-family: Georgia; color: #B3B3B3; line-height: 1.2; pointer-events: all; font-style: italic; white-space: nowrap; \"><font color=\"#000000\" style=\"font-size: 24px\">v</font></div></div></div></foreignObject><text x=\"388\" y=\"38\" fill=\"#B3B3B3\" font-family=\"Georgia\" font-size=\"12px\" text-anchor=\"middle\" font-style=\"italic\">v</text></switch></g><path d=\"M 168.5 46 L 168.5 36 L 188.5 36 L 188.5 25.5 L 207.5 41 L 188.5 56.5 L 188.5 46 Z\" fill=\"none\" stroke=\"#a7a7a7\" stroke-linejoin=\"round\" stroke-miterlimit=\"10\" pointer-events=\"all\"/><rect x=\"158\" y=\"4\" width=\"30\" height=\"20\" fill=\"none\" stroke=\"none\" pointer-events=\"all\"/><g transform=\"translate(-0.5 -0.5)\"><switch><foreignObject style=\"overflow: visible; text-align: left;\" pointer-events=\"none\" width=\"100%\" height=\"100%\" requiredFeatures=\"http://www.w3.org/TR/SVG11/feature#Extensibility\"><div xmlns=\"http://www.w3.org/1999/xhtml\" style=\"display: flex; align-items: unsafe center; justify-content: unsafe center; width: 1px; height: 1px; padding-top: 14px; margin-left: 173px;\"><div style=\"box-sizing: border-box; font-size: 0; text-align: center; \"><div style=\"display: inline-block; font-size: 12px; font-family: Georgia; color: #A7A7A7; line-height: 1.2; pointer-events: all; font-style: italic; white-space: nowrap; \"><font style=\"font-size: 24px\">a</font></div></div></div></foreignObject><text x=\"173\" y=\"18\" fill=\"#A7A7A7\" font-family=\"Georgia\" font-size=\"12px\" text-anchor=\"middle\" font-style=\"italic\">a</text></switch></g><path d=\"M 28 144 L 339.88 144\" fill=\"none\" stroke=\"#000000\" stroke-miterlimit=\"10\" pointer-events=\"stroke\"/><path d=\"M 346.88 144 L 339.88 140.5 L 339.88 144 Z\" fill=\"#000000\" stroke=\"#000000\" stroke-miterlimit=\"10\" pointer-events=\"all\"/><g transform=\"translate(-0.5 -0.5)\"><switch><foreignObject style=\"overflow: visible; text-align: left;\" pointer-events=\"none\" width=\"100%\" height=\"100%\" requiredFeatures=\"http://www.w3.org/TR/SVG11/feature#Extensibility\"><div xmlns=\"http://www.w3.org/1999/xhtml\" style=\"display: flex; align-items: unsafe center; justify-content: unsafe center; width: 1px; height: 1px; padding-top: 165px; margin-left: 202px;\"><div style=\"box-sizing: border-box; font-size: 0; text-align: center; \"><div style=\"display: inline-block; font-size: 11px; font-family: Helvetica; color: #000000; line-height: 1.2; pointer-events: all; background-color: #ffffff; white-space: nowrap; \"><span style=\"font-family: &quot;georgia&quot; ; font-size: 24px ; font-style: italic ; background-color: rgb(248 , 249 , 250)\">s</span></div></div></div></foreignObject><text x=\"202\" y=\"168\" fill=\"#000000\" font-family=\"Helvetica\" font-size=\"11px\" text-anchor=\"middle\">s</text></switch></g><ellipse cx=\"188\" cy=\"95\" rx=\"20\" ry=\"20\" fill=\"#ffffff\" stroke=\"#666666\" pointer-events=\"all\"/><g transform=\"translate(-0.5 -0.5)\"><switch><foreignObject style=\"overflow: visible; text-align: left;\" pointer-events=\"none\" width=\"100%\" height=\"100%\" requiredFeatures=\"http://www.w3.org/TR/SVG11/feature#Extensibility\"><div xmlns=\"http://www.w3.org/1999/xhtml\" style=\"display: flex; align-items: unsafe center; justify-content: unsafe center; width: 38px; height: 1px; padding-top: 95px; margin-left: 169px;\"><div style=\"box-sizing: border-box; font-size: 0; text-align: center; \"><div style=\"display: inline-block; font-size: 12px; font-family: Helvetica; color: #000000; line-height: 1.2; pointer-events: all; white-space: normal; word-wrap: normal; \"><span style=\"font-size: 24px\"><font face=\"Georgia\" color=\"#666666\"><i>m</i></font></span></div></div></div></foreignObject><text x=\"188\" y=\"99\" fill=\"#000000\" font-family=\"Helvetica\" font-size=\"12px\" text-anchor=\"middle\">m</text></switch></g><path d=\"M 209 95 L 235.65 95\" fill=\"none\" stroke=\"#000000\" stroke-width=\"3\" stroke-miterlimit=\"10\" pointer-events=\"stroke\"/><path d=\"M 244.65 95 L 235.65 99.5 L 235.65 90.5 Z\" fill=\"#000000\" stroke=\"#000000\" stroke-width=\"3\" stroke-miterlimit=\"10\" pointer-events=\"all\"/><g transform=\"translate(-0.5 -0.5)\"><switch><foreignObject style=\"overflow: visible; text-align: left;\" pointer-events=\"none\" width=\"100%\" height=\"100%\" requiredFeatures=\"http://www.w3.org/TR/SVG11/feature#Extensibility\"><div xmlns=\"http://www.w3.org/1999/xhtml\" style=\"display: flex; align-items: unsafe center; justify-content: unsafe center; width: 1px; height: 1px; padding-top: 76px; margin-left: 229px;\"><div style=\"box-sizing: border-box; font-size: 0; text-align: center; \"><div style=\"display: inline-block; font-size: 11px; font-family: Helvetica; color: #000000; line-height: 1.2; pointer-events: all; white-space: nowrap; \"><span style=\"font-family: &quot;georgia&quot; ; font-size: 24px ; font-style: italic\">F</span></div></div></div></foreignObject><text x=\"229\" y=\"79\" fill=\"#000000\" font-family=\"Helvetica\" font-size=\"11px\" text-anchor=\"middle\">F</text></switch></g><path d=\"M 8 115 L 403.53 115\" fill=\"none\" stroke=\"#000000\" stroke-width=\"2\" stroke-miterlimit=\"10\" pointer-events=\"stroke\"/><path d=\"M 397.76 119 L 405.76 115 L 397.76 111\" fill=\"none\" stroke=\"#000000\" stroke-width=\"2\" stroke-miterlimit=\"10\" pointer-events=\"all\"/><path d=\"M 49 95 L 75.65 95\" fill=\"none\" stroke=\"#cccccc\" stroke-width=\"3\" stroke-miterlimit=\"10\" pointer-events=\"stroke\"/><path d=\"M 84.65 95 L 75.65 99.5 L 75.65 90.5 Z\" fill=\"#cccccc\" stroke=\"#cccccc\" stroke-width=\"3\" stroke-miterlimit=\"10\" pointer-events=\"all\"/><g transform=\"translate(-0.5 -0.5)\"><switch><foreignObject style=\"overflow: visible; text-align: left;\" pointer-events=\"none\" width=\"100%\" height=\"100%\" requiredFeatures=\"http://www.w3.org/TR/SVG11/feature#Extensibility\"><div xmlns=\"http://www.w3.org/1999/xhtml\" style=\"display: flex; align-items: unsafe center; justify-content: unsafe center; width: 1px; height: 1px; padding-top: 76px; margin-left: 69px;\"><div style=\"box-sizing: border-box; font-size: 0; text-align: center; \"><div style=\"display: inline-block; font-size: 11px; font-family: Helvetica; color: #B3B3B3; line-height: 1.2; pointer-events: all; white-space: nowrap; \"><span style=\"font-family: &quot;georgia&quot; ; font-size: 24px ; font-style: italic\">F</span></div></div></div></foreignObject><text x=\"69\" y=\"79\" fill=\"#B3B3B3\" font-family=\"Helvetica\" font-size=\"11px\" text-anchor=\"middle\">F</text></switch></g><path d=\"M 369 95 L 395.65 95\" fill=\"none\" stroke=\"#cccccc\" stroke-width=\"3\" stroke-miterlimit=\"10\" pointer-events=\"stroke\"/><path d=\"M 404.65 95 L 395.65 99.5 L 395.65 90.5 Z\" fill=\"#cccccc\" stroke=\"#cccccc\" stroke-width=\"3\" stroke-miterlimit=\"10\" pointer-events=\"all\"/><g transform=\"translate(-0.5 -0.5)\"><switch><foreignObject style=\"overflow: visible; text-align: left;\" pointer-events=\"none\" width=\"100%\" height=\"100%\" requiredFeatures=\"http://www.w3.org/TR/SVG11/feature#Extensibility\"><div xmlns=\"http://www.w3.org/1999/xhtml\" style=\"display: flex; align-items: unsafe center; justify-content: unsafe center; width: 1px; height: 1px; padding-top: 76px; margin-left: 389px;\"><div style=\"box-sizing: border-box; font-size: 0; text-align: center; \"><div style=\"display: inline-block; font-size: 11px; font-family: Helvetica; color: #B3B3B3; line-height: 1.2; pointer-events: all; white-space: nowrap; \"><span style=\"font-family: &quot;georgia&quot; ; font-size: 24px ; font-style: italic\">F</span></div></div></div></foreignObject><text x=\"389\" y=\"79\" fill=\"#B3B3B3\" font-family=\"Helvetica\" font-size=\"11px\" text-anchor=\"middle\">F</text></switch></g></g><switch><g requiredFeatures=\"http://www.w3.org/TR/SVG11/feature#Extensibility\"/><a transform=\"translate(0,-5)\" xlink:href=\"https://desk.draw.io/support/solutions/articles/16000042487\" target=\"_blank\"><text text-anchor=\"middle\" font-size=\"10px\" x=\"50%\" y=\"100%\">Viewer does not support full SVG 1.1</text></a></switch></svg>"
      ],
      "execution_count": null,
      "outputs": [
        {
          "output_type": "display_data",
          "data": {
            "text/plain": [
              "<IPython.core.display.SVG object>"
            ],
            "image/svg+xml": "<svg content=\"&lt;mxfile host=&quot;app.diagrams.net&quot; modified=&quot;2020-11-04T23:47:07.344Z&quot; agent=&quot;5.0 (Macintosh; Intel Mac OS X 10_10_5) AppleWebKit/537.36 (KHTML, like Gecko) Chrome/86.0.4240.111 Safari/537.36&quot; etag=&quot;4j6GXQmS7O_CY5cynfFO&quot; version=&quot;13.8.9-1&quot; type=&quot;google&quot;&gt;&lt;diagram id=&quot;wzHTsLxfAuD2Vy8Emhh2&quot; name=&quot;Page-1&quot;&gt;7VrbkuI2EP0aVyUPpHwHHjE7TB6Src1OqpLKm7CFrYxsObYYIF8fyZZv8gXwmGVmM1AFdktu2X26T7caFGMdHh8TEAe/Eg9iRVe9o2J8UnRds7Ql++KSUy5Zqlou8BPkiUmV4An9C4VQFdI98mDamEgJwRTFTaFLogi6tCEDSUIOzWk7gpurxsCHLcGTC3Bb+gfyaJBLrYVRyX+GyA/EyqYmBkJQzBUPkgbAI4eayHhQjHVCCM2PwuMaYm67wiz5dZue0fK+EhjRSy6I07//9D7/tnlZBsE+/uurT6PtTGh5AXgvnlfRbcz0OTvC1LK7pidhCfufPSkGZmmG04pN0M34WA1mQGCSNK5QdGOh8nddZPvZ94OlrObKwimWZfefryzGc9OVN6GzZ2LIsxPnECAKn2Lg8pEDcz4mC2iI2ZnGDkEa5+6wQ0fITOB4IA34QTbKT74ASmESZRJd1crV6iYt7AMTCo81kTDxIyQhpMmJTRGjpkBbeHt5fqh8pxAFdbcRMiC81S8VV4iyAwHqFQAbvQCnMYjGAFwB5zwoi3UNuFzj5MBNgIphvzFYzHNxt8vNUxn+dxQyGtTVz/DAPr+SMLO1jMo02AotqBLU4xPJ81rQXxbKDDvahD6B7NbANpugclfYU5LfbO4ZGPk8XF3mCJBRjMMdADGqXomBEHkev9iJCYpohpnlKNYn/uAI47VgpohEfFJKE/IMJWFC9pGX0YQqc8YU7GAaTT+ct/3Q6PBD/VZ+aHX4oRy4kbfiebSyUQ2xpg0Z0avZS3jaBoQI80ftct58Su1SJ3tfbHXoNRJ32+Y1m1odNi1kCcSAopdmuu8ytFjhC/etCtI+Zik0pGSfuFBcVE/Pw3q0+bKph4LEh7SlJ0O9fOjxjrD4cIRXOoKxmMgTZEXf2hWWV7mCi0GaIrfLG4p6WR+AuN9v3h3e2nIc3qZMIbKiG+Nd7LT6i5HOkl4AVS/9R9YbL99rxdC9y2gQIsMv8REYiBAufxI20KeoQVSrSS+L5X1rEK1rE3ot4QQg5lN3GB7FRNmgqzl/MzkGW4gd4D77GXSDGNeve+uEpKsSj6j2OEJqbWJlRbcmJP0cIY0kGvBBNC1C6Y+TCbhGW0qljH1vrunqh/RzDUhP0WBpow0Qd39pw1bYIFxofOu8IpUnhjqyzpELppaiW9NKf9NluF+yEzHEiYUNgTDOKyDDZN++iCtZzudmn53M1BjLV+WDiDIiccvhbZmkZqIE45MSf/uDbi6ym1lnGpfVsaX+2Oa99OImHfO4X3h6lFpyF7ObTJNttmt7+3CgylxTdvrFKkq9m97FQepPqlUksFND0SvjollGydeT3S6Ft/HjrqbNlH2/vhbkY+nqZ7r9dva6oLEYnmkrNpP0rRvNLcIWzzFJKmxVZ/duQWv2Valwi4n7PJQKjXeX2HRTa0Jij+zY6HIrQFZ068w2nyCz+WWB2JO0hjJWFp5StG/eUNYZ3vNdmpOKiHl1TpqxpKRb9uu8WDjbTC6Wb5d5uvZl/YxBYhidawtWhPEeWn7yvngxki/Mc4puzRfXdftHUH8rla6z1zvAeDFRTtD0O+eErjb+R064OCf07eovzRVFiP1vc0XXrwofHCPyyEQk00ok35hkym3QB8ncg2TKGPv+SIadVn+NzKdX/y81Hv4D&lt;/diagram&gt;&lt;/mxfile&gt;\" onclick=\"(function(svg){var src=window.event.target||window.event.srcElement;while (src!=null&amp;&amp;src.nodeName.toLowerCase()!='a'){src=src.parentNode;}if(src==null){if(svg.wnd!=null&amp;&amp;!svg.wnd.closed){svg.wnd.focus();}else{var r=function(evt){if(evt.data=='ready'&amp;&amp;evt.source==svg.wnd){svg.wnd.postMessage(decodeURIComponent(svg.getAttribute('content')),'*');window.removeEventListener('message',r);}};window.addEventListener('message',r);svg.wnd=window.open('https://viewer.diagrams.net/?client=1&amp;page=0&amp;edit=_blank');}}})(this);\" style=\"cursor:pointer;max-width:100%;max-height:179px;\" version=\"1.1\" viewBox=\"-0.5 -0.5 442 179\" width=\"442px\" xmlns=\"http://www.w3.org/2000/svg\" xmlns:xlink=\"http://www.w3.org/1999/xlink\"><defs/><g><ellipse cx=\"28\" cy=\"95\" fill=\"#ffffff\" pointer-events=\"all\" rx=\"20\" ry=\"20\" stroke=\"#000000\" stroke-dasharray=\"1 1\"/><g transform=\"translate(-0.5 -0.5)\"><switch><foreignObject height=\"100%\" pointer-events=\"none\" requiredFeatures=\"http://www.w3.org/TR/SVG11/feature#Extensibility\" style=\"overflow: visible; text-align: left;\" width=\"100%\"><div style=\"display: flex; align-items: unsafe center; justify-content: unsafe center; width: 38px; height: 1px; padding-top: 95px; margin-left: 9px;\" xmlns=\"http://www.w3.org/1999/xhtml\"><div style=\"box-sizing: border-box; font-size: 0; text-align: center; \"><div style=\"display: inline-block; font-size: 12px; font-family: Helvetica; color: #000000; line-height: 1.2; pointer-events: all; white-space: normal; word-wrap: normal; \"><font color=\"#808080\" style=\"font-size: 24px\">始</font></div></div></div></foreignObject><text fill=\"#000000\" font-family=\"Helvetica\" font-size=\"12px\" text-anchor=\"middle\" x=\"28\" y=\"99\">始</text></switch></g><ellipse cx=\"348\" cy=\"95\" fill=\"#ffffff\" pointer-events=\"all\" rx=\"20\" ry=\"20\" stroke=\"#000000\"/><g transform=\"translate(-0.5 -0.5)\"><switch><foreignObject height=\"100%\" pointer-events=\"none\" requiredFeatures=\"http://www.w3.org/TR/SVG11/feature#Extensibility\" style=\"overflow: visible; text-align: left;\" width=\"100%\"><div style=\"display: flex; align-items: unsafe center; justify-content: unsafe center; width: 38px; height: 1px; padding-top: 95px; margin-left: 329px;\" xmlns=\"http://www.w3.org/1999/xhtml\"><div style=\"box-sizing: border-box; font-size: 0; text-align: center; \"><div style=\"display: inline-block; font-size: 12px; font-family: Helvetica; color: #000000; line-height: 1.2; pointer-events: all; white-space: normal; word-wrap: normal; \"><span style=\"font-size: 24px\">後</span></div></div></div></foreignObject><text fill=\"#000000\" font-family=\"Helvetica\" font-size=\"12px\" text-anchor=\"middle\" x=\"348\" y=\"99\">後</text></switch></g><rect fill=\"none\" height=\"20\" pointer-events=\"all\" stroke=\"none\" width=\"30\" x=\"411\" y=\"105\"/><g transform=\"translate(-0.5 -0.5)\"><switch><foreignObject height=\"100%\" pointer-events=\"none\" requiredFeatures=\"http://www.w3.org/TR/SVG11/feature#Extensibility\" style=\"overflow: visible; text-align: left;\" width=\"100%\"><div style=\"display: flex; align-items: unsafe center; justify-content: unsafe center; width: 1px; height: 1px; padding-top: 115px; margin-left: 426px;\" xmlns=\"http://www.w3.org/1999/xhtml\"><div style=\"box-sizing: border-box; font-size: 0; text-align: center; \"><div style=\"display: inline-block; font-size: 12px; font-family: Helvetica; color: #000000; line-height: 1.2; pointer-events: all; white-space: nowrap; \"><font face=\"Times New Roman\"><span style=\"font-size: 24px\"><i>+</i></span></font></div></div></div></foreignObject><text fill=\"#000000\" font-family=\"Helvetica\" font-size=\"12px\" text-anchor=\"middle\" x=\"426\" y=\"119\">+</text></switch></g><path d=\"M 28 75 L 28 14\" fill=\"none\" pointer-events=\"stroke\" stroke=\"#000000\" stroke-dasharray=\"3 3\" stroke-miterlimit=\"10\"/><path d=\"M 348 75 L 348 14\" fill=\"none\" pointer-events=\"stroke\" stroke=\"#000000\" stroke-dasharray=\"3 3\" stroke-miterlimit=\"10\"/><path d=\"M 348 54 L 419.76 54\" fill=\"none\" pointer-events=\"stroke\" stroke=\"#000000\" stroke-miterlimit=\"10\" stroke-width=\"2\"/><path d=\"M 425.76 54 L 417.76 58 L 419.76 54 L 417.76 50 Z\" fill=\"#000000\" pointer-events=\"all\" stroke=\"#000000\" stroke-miterlimit=\"10\" stroke-width=\"2\"/><rect fill=\"none\" height=\"20\" pointer-events=\"all\" stroke=\"none\" width=\"30\" x=\"373\" y=\"24\"/><g transform=\"translate(-0.5 -0.5)\"><switch><foreignObject height=\"100%\" pointer-events=\"none\" requiredFeatures=\"http://www.w3.org/TR/SVG11/feature#Extensibility\" style=\"overflow: visible; text-align: left;\" width=\"100%\"><div style=\"display: flex; align-items: unsafe center; justify-content: unsafe center; width: 1px; height: 1px; padding-top: 34px; margin-left: 388px;\" xmlns=\"http://www.w3.org/1999/xhtml\"><div style=\"box-sizing: border-box; font-size: 0; text-align: center; \"><div style=\"display: inline-block; font-size: 12px; font-family: Georgia; color: #B3B3B3; line-height: 1.2; pointer-events: all; font-style: italic; white-space: nowrap; \"><font color=\"#000000\" style=\"font-size: 24px\">v</font></div></div></div></foreignObject><text fill=\"#B3B3B3\" font-family=\"Georgia\" font-size=\"12px\" font-style=\"italic\" text-anchor=\"middle\" x=\"388\" y=\"38\">v</text></switch></g><path d=\"M 168.5 46 L 168.5 36 L 188.5 36 L 188.5 25.5 L 207.5 41 L 188.5 56.5 L 188.5 46 Z\" fill=\"none\" pointer-events=\"all\" stroke=\"#a7a7a7\" stroke-linejoin=\"round\" stroke-miterlimit=\"10\"/><rect fill=\"none\" height=\"20\" pointer-events=\"all\" stroke=\"none\" width=\"30\" x=\"158\" y=\"4\"/><g transform=\"translate(-0.5 -0.5)\"><switch><foreignObject height=\"100%\" pointer-events=\"none\" requiredFeatures=\"http://www.w3.org/TR/SVG11/feature#Extensibility\" style=\"overflow: visible; text-align: left;\" width=\"100%\"><div style=\"display: flex; align-items: unsafe center; justify-content: unsafe center; width: 1px; height: 1px; padding-top: 14px; margin-left: 173px;\" xmlns=\"http://www.w3.org/1999/xhtml\"><div style=\"box-sizing: border-box; font-size: 0; text-align: center; \"><div style=\"display: inline-block; font-size: 12px; font-family: Georgia; color: #A7A7A7; line-height: 1.2; pointer-events: all; font-style: italic; white-space: nowrap; \"><font style=\"font-size: 24px\">a</font></div></div></div></foreignObject><text fill=\"#A7A7A7\" font-family=\"Georgia\" font-size=\"12px\" font-style=\"italic\" text-anchor=\"middle\" x=\"173\" y=\"18\">a</text></switch></g><path d=\"M 28 144 L 339.88 144\" fill=\"none\" pointer-events=\"stroke\" stroke=\"#000000\" stroke-miterlimit=\"10\"/><path d=\"M 346.88 144 L 339.88 140.5 L 339.88 144 Z\" fill=\"#000000\" pointer-events=\"all\" stroke=\"#000000\" stroke-miterlimit=\"10\"/><g transform=\"translate(-0.5 -0.5)\"><switch><foreignObject height=\"100%\" pointer-events=\"none\" requiredFeatures=\"http://www.w3.org/TR/SVG11/feature#Extensibility\" style=\"overflow: visible; text-align: left;\" width=\"100%\"><div style=\"display: flex; align-items: unsafe center; justify-content: unsafe center; width: 1px; height: 1px; padding-top: 165px; margin-left: 202px;\" xmlns=\"http://www.w3.org/1999/xhtml\"><div style=\"box-sizing: border-box; font-size: 0; text-align: center; \"><div style=\"display: inline-block; font-size: 11px; font-family: Helvetica; color: #000000; line-height: 1.2; pointer-events: all; background-color: #ffffff; white-space: nowrap; \"><span style=\"font-family: &quot;georgia&quot; ; font-size: 24px ; font-style: italic ; background-color: rgb(248 , 249 , 250)\">s</span></div></div></div></foreignObject><text fill=\"#000000\" font-family=\"Helvetica\" font-size=\"11px\" text-anchor=\"middle\" x=\"202\" y=\"168\">s</text></switch></g><ellipse cx=\"188\" cy=\"95\" fill=\"#ffffff\" pointer-events=\"all\" rx=\"20\" ry=\"20\" stroke=\"#666666\"/><g transform=\"translate(-0.5 -0.5)\"><switch><foreignObject height=\"100%\" pointer-events=\"none\" requiredFeatures=\"http://www.w3.org/TR/SVG11/feature#Extensibility\" style=\"overflow: visible; text-align: left;\" width=\"100%\"><div style=\"display: flex; align-items: unsafe center; justify-content: unsafe center; width: 38px; height: 1px; padding-top: 95px; margin-left: 169px;\" xmlns=\"http://www.w3.org/1999/xhtml\"><div style=\"box-sizing: border-box; font-size: 0; text-align: center; \"><div style=\"display: inline-block; font-size: 12px; font-family: Helvetica; color: #000000; line-height: 1.2; pointer-events: all; white-space: normal; word-wrap: normal; \"><span style=\"font-size: 24px\"><font color=\"#666666\" face=\"Georgia\"><i>m</i></font></span></div></div></div></foreignObject><text fill=\"#000000\" font-family=\"Helvetica\" font-size=\"12px\" text-anchor=\"middle\" x=\"188\" y=\"99\">m</text></switch></g><path d=\"M 209 95 L 235.65 95\" fill=\"none\" pointer-events=\"stroke\" stroke=\"#000000\" stroke-miterlimit=\"10\" stroke-width=\"3\"/><path d=\"M 244.65 95 L 235.65 99.5 L 235.65 90.5 Z\" fill=\"#000000\" pointer-events=\"all\" stroke=\"#000000\" stroke-miterlimit=\"10\" stroke-width=\"3\"/><g transform=\"translate(-0.5 -0.5)\"><switch><foreignObject height=\"100%\" pointer-events=\"none\" requiredFeatures=\"http://www.w3.org/TR/SVG11/feature#Extensibility\" style=\"overflow: visible; text-align: left;\" width=\"100%\"><div style=\"display: flex; align-items: unsafe center; justify-content: unsafe center; width: 1px; height: 1px; padding-top: 76px; margin-left: 229px;\" xmlns=\"http://www.w3.org/1999/xhtml\"><div style=\"box-sizing: border-box; font-size: 0; text-align: center; \"><div style=\"display: inline-block; font-size: 11px; font-family: Helvetica; color: #000000; line-height: 1.2; pointer-events: all; white-space: nowrap; \"><span style=\"font-family: &quot;georgia&quot; ; font-size: 24px ; font-style: italic\">F</span></div></div></div></foreignObject><text fill=\"#000000\" font-family=\"Helvetica\" font-size=\"11px\" text-anchor=\"middle\" x=\"229\" y=\"79\">F</text></switch></g><path d=\"M 8 115 L 403.53 115\" fill=\"none\" pointer-events=\"stroke\" stroke=\"#000000\" stroke-miterlimit=\"10\" stroke-width=\"2\"/><path d=\"M 397.76 119 L 405.76 115 L 397.76 111\" fill=\"none\" pointer-events=\"all\" stroke=\"#000000\" stroke-miterlimit=\"10\" stroke-width=\"2\"/><path d=\"M 49 95 L 75.65 95\" fill=\"none\" pointer-events=\"stroke\" stroke=\"#cccccc\" stroke-miterlimit=\"10\" stroke-width=\"3\"/><path d=\"M 84.65 95 L 75.65 99.5 L 75.65 90.5 Z\" fill=\"#cccccc\" pointer-events=\"all\" stroke=\"#cccccc\" stroke-miterlimit=\"10\" stroke-width=\"3\"/><g transform=\"translate(-0.5 -0.5)\"><switch><foreignObject height=\"100%\" pointer-events=\"none\" requiredFeatures=\"http://www.w3.org/TR/SVG11/feature#Extensibility\" style=\"overflow: visible; text-align: left;\" width=\"100%\"><div style=\"display: flex; align-items: unsafe center; justify-content: unsafe center; width: 1px; height: 1px; padding-top: 76px; margin-left: 69px;\" xmlns=\"http://www.w3.org/1999/xhtml\"><div style=\"box-sizing: border-box; font-size: 0; text-align: center; \"><div style=\"display: inline-block; font-size: 11px; font-family: Helvetica; color: #B3B3B3; line-height: 1.2; pointer-events: all; white-space: nowrap; \"><span style=\"font-family: &quot;georgia&quot; ; font-size: 24px ; font-style: italic\">F</span></div></div></div></foreignObject><text fill=\"#B3B3B3\" font-family=\"Helvetica\" font-size=\"11px\" text-anchor=\"middle\" x=\"69\" y=\"79\">F</text></switch></g><path d=\"M 369 95 L 395.65 95\" fill=\"none\" pointer-events=\"stroke\" stroke=\"#cccccc\" stroke-miterlimit=\"10\" stroke-width=\"3\"/><path d=\"M 404.65 95 L 395.65 99.5 L 395.65 90.5 Z\" fill=\"#cccccc\" pointer-events=\"all\" stroke=\"#cccccc\" stroke-miterlimit=\"10\" stroke-width=\"3\"/><g transform=\"translate(-0.5 -0.5)\"><switch><foreignObject height=\"100%\" pointer-events=\"none\" requiredFeatures=\"http://www.w3.org/TR/SVG11/feature#Extensibility\" style=\"overflow: visible; text-align: left;\" width=\"100%\"><div style=\"display: flex; align-items: unsafe center; justify-content: unsafe center; width: 1px; height: 1px; padding-top: 76px; margin-left: 389px;\" xmlns=\"http://www.w3.org/1999/xhtml\"><div style=\"box-sizing: border-box; font-size: 0; text-align: center; \"><div style=\"display: inline-block; font-size: 11px; font-family: Helvetica; color: #B3B3B3; line-height: 1.2; pointer-events: all; white-space: nowrap; \"><span style=\"font-family: &quot;georgia&quot; ; font-size: 24px ; font-style: italic\">F</span></div></div></div></foreignObject><text fill=\"#B3B3B3\" font-family=\"Helvetica\" font-size=\"11px\" text-anchor=\"middle\" x=\"389\" y=\"79\">F</text></switch></g></g><switch><g requiredFeatures=\"http://www.w3.org/TR/SVG11/feature#Extensibility\"/><a target=\"_blank\" transform=\"translate(0,-5)\" xlink:href=\"https://desk.draw.io/support/solutions/articles/16000042487\"><text font-size=\"10px\" text-anchor=\"middle\" x=\"50%\" y=\"100%\">Viewer does not support full SVG 1.1</text></a></switch></svg>"
          },
          "metadata": {
            "tags": []
          }
        }
      ]
    },
    {
      "cell_type": "markdown",
      "metadata": {
        "id": "7_4B0m6ig8kB"
      },
      "source": [
        "途中の状態を観察し, 運動方程式を立てると\n",
        "\\begin{align*}\n",
        "ma &=F \b\b\\to a = \\dfrac{F}{m}\n",
        "\\end{align*}\n",
        "$\bF$ が一定なので, \b等加速度直線運動になります."
      ]
    },
    {
      "cell_type": "markdown",
      "metadata": {
        "id": "YRz-f_G_Pp1y"
      },
      "source": [
        "$\\require{cancel}$\n",
        "等加速度直線運動\bの関係を利用すると\n",
        "\\begin{align*}\n",
        "&\\begin{cases}\n",
        "v &= \\cancelto{0}{v_0} + a t\\\\\n",
        "s &= \\cancelto{0}{v_0} t  + \\dfrac{1}{2} a t^2\n",
        "\\end{cases}\\to\n",
        "\\begin{cases}\n",
        "v &= \\dfrac{F}{m} t\\\\\n",
        "s &= \\dfrac{1}{2} \\dfrac{F}{m} t^2\n",
        "\\end{cases}\n",
        "\\end{align*}"
      ]
    },
    {
      "cell_type": "markdown",
      "metadata": {
        "id": "TltBp-MmPqmQ"
      },
      "source": [
        "ここで仕事の定義を思い出すと\n",
        "\\begin{align*}\n",
        "W &= F \\cdot s \b\\\\\n",
        "&=F \\left( \\dfrac{1}{2} \\dfrac{F}{m} t^2 \\right) \n",
        "= \\dfrac{1}{2} \\dfrac{F^2}{m} t^2&\\\\\n",
        "\\end{align*}"
      ]
    },
    {
      "cell_type": "markdown",
      "metadata": {
        "id": "3rJqu5REQBG3"
      },
      "source": [
        "仕事の定義では, 時間 $t$ \bが直接現れないので,  \n",
        "$t$ の\b一次の関係を利用して\b整理すると\n",
        "\\begin{align*}\n",
        "W = \\dfrac{1}{2} \\dfrac{F^2}{m} \\left(  \\dfrac{mv}{F}\\right)^2 = \\dfrac{1}{2} m v^2\n",
        "\\end{align*}\n",
        "この関係式は,\n",
        "- 質量 $m$ の物体に, 外力 $F$ が 変位 $s$ だけ仕事をしたとき,\n",
        "- 質量 $m$ の物体は 速度が $v$ \bになり, その分だけ仕事をする能力を備えた\n",
        "\n",
        "と考えることができます. この式の特徴は\n",
        "\n",
        "> (瞬間の)速度 $v$ と質量 $m$ のみで表現される\n"
      ]
    },
    {
      "cell_type": "markdown",
      "metadata": {
        "id": "O00XfEqopK2r"
      },
      "source": [
        "この仕事をする能力のおかげで, 質量と速度を持つ車は仕事をすることができます."
      ]
    },
    {
      "cell_type": "markdown",
      "metadata": {
        "id": "ThaMxy5_vr68"
      },
      "source": [
        "そこで, \b質量 $m$ で (\b瞬間の)速度が $v$ の物体が持つ後の状態のみに注目し,   \n",
        "仕事をする能力を **運動エネルギー**/ kinetic energy と\b定義します.\n",
        "\\begin{align*}\n",
        "E_{\\rm k} = \\dfrac{1}{2} m v^2\n",
        "\\end{align*}"
      ]
    },
    {
      "cell_type": "code",
      "metadata": {
        "id": "gxBZiaVGkHo8",
        "cellView": "form",
        "outputId": "57a659db-7dd1-4ebb-b48d-fa29a4899d3f",
        "colab": {
          "base_uri": "https://localhost:8080/",
          "height": 130
        }
      },
      "source": [
        "#@title 運動エネルギーの概念図\n",
        "%%svg\n",
        "<svg xmlns=\"http://www.w3.org/2000/svg\" xmlns:xlink=\"http://www.w3.org/1999/xlink\" version=\"1.1\" width=\"199px\" viewBox=\"-0.5 -0.5 199 109\" content=\"&lt;mxfile host=&quot;app.diagrams.net&quot; modified=&quot;2020-11-04T12:08:40.644Z&quot; agent=&quot;5.0 (Macintosh; Intel Mac OS X 10_15_7) AppleWebKit/537.36 (KHTML, like Gecko) Chrome/86.0.4240.111 Safari/537.36&quot; etag=&quot;6tvbJ_3-ccRIG0NUtmtd&quot; version=&quot;13.8.9-1&quot; type=&quot;google&quot;&gt;&lt;diagram id=&quot;ZWYuBLPn_OubiH1HvQ1D&quot; name=&quot;Page-1&quot;&gt;3VfbUtswEP0aPzLjSy7kMU4I0CmFAtPSR2ErtopsGVm50K/vypJ8T0I6YaZtMhNbR6vVas/xrmN5s2R7yVEW37AQU8u1w63lzS3XdZyxCxeJvGnEtscKiTgJNVYBD+QXNoYaXZEQ5w1DwRgVJGuCAUtTHIgGhjhnm6bZktHmrhmKcAd4CBDtot9JKGKFDhyvwq8wiWK9szvRCxJkbPVB8hiFbFODvAvLm3HGhLpLtjNMZfJMWtS6xY7ZMi6OU/GeBWkS5OHs/lr8vHoJF7dP/Pb68exceVkjutLn1cGKN5MAnIZTmUcYsQynlufHIqEwcuA2F5y9lImBM/lgviBUztsw6gZpOEQ8wmJPZM5EGeKwwY8+2yVmCRb8DQw2FStDneq4RojBOKZIkHWTVaTFEZXuyh3uGIGQXdso2dBY6rjlImcrHmC9qk5Dy5E7OuBIZabjCG5qx66gguUjGHcGPZSPKGTLJw3iR68rKU1/yVJxtkQJobDt1JJ5GKEkK8j1vAFcBUngCXXtFG9kolmC0o6NXFf8Fu7y4jGXztxBtq32grtIXhMTEhyRGLCrTEqhCsDA38RE4IcMBXJmA5WoqVKUZ6o0LMkWh/tkucZc4O1evZnZ8yaPI+2hJsdBjxwN1qe8BtVH8zrZyatMucy8Sk+V7UfN25eCt3vNW4sK4yTP5OwufRwitCYxA/j9HJeY2rADq8PsUARwJ5rUcwyhoefCQCoQrQRTwSplUBJBSZsHIATMAZACIFD9p3oiIWEoF/uZfCAL0oa+NZzLg0OZmzHKYNk8ZSkuy2EL5GyVhlJ2RQAhyuNi4JxGh25Lh5OuDr0eHbon0GH0/Hr/Y+rZT+Rm/O3T8mny9XN6Njyqo+gUdTqKSSGUD7v4aKEtdB2a92lXmdSW+sX33Un/S1qNa/dXlqM7TcuP16L8dI2mVwijo4QQUJTnJDj0drGL4N2q+dfYbjeId7M93O/ng9keH+o+QclN1RsMSzXoTxvM+n9tEXJwhwRsnRaIazvtWgj08YigPY+HxB90DtxTNB3zFlm+xH5U04Fh9RdJibX6o+ld/AY=&lt;/diagram&gt;&lt;/mxfile&gt;\" onclick=\"(function(svg){var src=window.event.target||window.event.srcElement;while (src!=null&amp;&amp;src.nodeName.toLowerCase()!='a'){src=src.parentNode;}if(src==null){if(svg.wnd!=null&amp;&amp;!svg.wnd.closed){svg.wnd.focus();}else{var r=function(evt){if(evt.data=='ready'&amp;&amp;evt.source==svg.wnd){svg.wnd.postMessage(decodeURIComponent(svg.getAttribute('content')),'*');window.removeEventListener('message',r);}};window.addEventListener('message',r);svg.wnd=window.open('https://viewer.diagrams.net/?client=1&amp;page=0&amp;edit=_blank');}}})(this);\" style=\"cursor:pointer;max-width:100%;max-height:109px;\"><defs/><g><path d=\"M 8 95 L 163.53 95\" fill=\"none\" stroke=\"#000000\" stroke-width=\"2\" stroke-miterlimit=\"10\" pointer-events=\"stroke\"/><path d=\"M 157.76 99 L 165.76 95 L 157.76 91\" fill=\"none\" stroke=\"#000000\" stroke-width=\"2\" stroke-miterlimit=\"10\" pointer-events=\"all\"/><ellipse cx=\"88\" cy=\"75\" rx=\"20\" ry=\"20\" fill=\"#ffffff\" stroke=\"#000000\" pointer-events=\"all\"/><g transform=\"translate(-0.5 -0.5)\"><switch><foreignObject style=\"overflow: visible; text-align: left;\" pointer-events=\"none\" width=\"100%\" height=\"100%\" requiredFeatures=\"http://www.w3.org/TR/SVG11/feature#Extensibility\"><div xmlns=\"http://www.w3.org/1999/xhtml\" style=\"display: flex; align-items: unsafe center; justify-content: unsafe center; width: 38px; height: 1px; padding-top: 75px; margin-left: 69px;\"><div style=\"box-sizing: border-box; font-size: 0; text-align: center; \"><div style=\"display: inline-block; font-size: 12px; font-family: Helvetica; color: #000000; line-height: 1.2; pointer-events: all; white-space: normal; word-wrap: normal; \"><i style=\"font-family: &quot;times new roman&quot; ; font-size: 24px\">m</i></div></div></div></foreignObject><text x=\"88\" y=\"79\" fill=\"#000000\" font-family=\"Helvetica\" font-size=\"12px\" text-anchor=\"middle\">m</text></switch></g><rect x=\"168\" y=\"85\" width=\"30\" height=\"20\" fill=\"none\" stroke=\"none\" pointer-events=\"all\"/><g transform=\"translate(-0.5 -0.5)\"><switch><foreignObject style=\"overflow: visible; text-align: left;\" pointer-events=\"none\" width=\"100%\" height=\"100%\" requiredFeatures=\"http://www.w3.org/TR/SVG11/feature#Extensibility\"><div xmlns=\"http://www.w3.org/1999/xhtml\" style=\"display: flex; align-items: unsafe center; justify-content: unsafe center; width: 1px; height: 1px; padding-top: 95px; margin-left: 183px;\"><div style=\"box-sizing: border-box; font-size: 0; text-align: center; \"><div style=\"display: inline-block; font-size: 12px; font-family: Helvetica; color: #000000; line-height: 1.2; pointer-events: all; white-space: nowrap; \"><font face=\"Times New Roman\"><span style=\"font-size: 24px\"><i>+</i></span></font></div></div></div></foreignObject><text x=\"183\" y=\"99\" fill=\"#000000\" font-family=\"Helvetica\" font-size=\"12px\" text-anchor=\"middle\">+</text></switch></g><path d=\"M 88 55 L 88 24\" fill=\"none\" stroke=\"#000000\" stroke-miterlimit=\"10\" stroke-dasharray=\"3 3\" pointer-events=\"stroke\"/><path d=\"M 88 34 L 129.76 34\" fill=\"none\" stroke=\"#000000\" stroke-width=\"2\" stroke-miterlimit=\"10\" pointer-events=\"stroke\"/><path d=\"M 135.76 34 L 127.76 38 L 129.76 34 L 127.76 30 Z\" fill=\"#000000\" stroke=\"#000000\" stroke-width=\"2\" stroke-miterlimit=\"10\" pointer-events=\"all\"/><rect x=\"102\" y=\"4\" width=\"30\" height=\"20\" fill=\"none\" stroke=\"none\" pointer-events=\"all\"/><g transform=\"translate(-0.5 -0.5)\"><switch><foreignObject style=\"overflow: visible; text-align: left;\" pointer-events=\"none\" width=\"100%\" height=\"100%\" requiredFeatures=\"http://www.w3.org/TR/SVG11/feature#Extensibility\"><div xmlns=\"http://www.w3.org/1999/xhtml\" style=\"display: flex; align-items: unsafe center; justify-content: unsafe center; width: 1px; height: 1px; padding-top: 14px; margin-left: 117px;\"><div style=\"box-sizing: border-box; font-size: 0; text-align: center; \"><div style=\"display: inline-block; font-size: 12px; font-family: Georgia; color: #B3B3B3; line-height: 1.2; pointer-events: all; font-style: italic; white-space: nowrap; \"><font color=\"#000000\" style=\"font-size: 24px\">v</font></div></div></div></foreignObject><text x=\"117\" y=\"18\" fill=\"#B3B3B3\" font-family=\"Georgia\" font-size=\"12px\" text-anchor=\"middle\" font-style=\"italic\">v</text></switch></g></g><switch><g requiredFeatures=\"http://www.w3.org/TR/SVG11/feature#Extensibility\"/><a transform=\"translate(0,-5)\" xlink:href=\"https://desk.draw.io/support/solutions/articles/16000042487\" target=\"_blank\"><text text-anchor=\"middle\" font-size=\"10px\" x=\"50%\" y=\"100%\">Viewer does not support full SVG 1.1</text></a></switch></svg>"
      ],
      "execution_count": null,
      "outputs": [
        {
          "output_type": "display_data",
          "data": {
            "text/plain": [
              "<IPython.core.display.SVG object>"
            ],
            "image/svg+xml": "<svg content=\"&lt;mxfile host=&quot;app.diagrams.net&quot; modified=&quot;2020-11-04T12:08:40.644Z&quot; agent=&quot;5.0 (Macintosh; Intel Mac OS X 10_15_7) AppleWebKit/537.36 (KHTML, like Gecko) Chrome/86.0.4240.111 Safari/537.36&quot; etag=&quot;6tvbJ_3-ccRIG0NUtmtd&quot; version=&quot;13.8.9-1&quot; type=&quot;google&quot;&gt;&lt;diagram id=&quot;ZWYuBLPn_OubiH1HvQ1D&quot; name=&quot;Page-1&quot;&gt;3VfbUtswEP0aPzLjSy7kMU4I0CmFAtPSR2ErtopsGVm50K/vypJ8T0I6YaZtMhNbR6vVas/xrmN5s2R7yVEW37AQU8u1w63lzS3XdZyxCxeJvGnEtscKiTgJNVYBD+QXNoYaXZEQ5w1DwRgVJGuCAUtTHIgGhjhnm6bZktHmrhmKcAd4CBDtot9JKGKFDhyvwq8wiWK9szvRCxJkbPVB8hiFbFODvAvLm3HGhLpLtjNMZfJMWtS6xY7ZMi6OU/GeBWkS5OHs/lr8vHoJF7dP/Pb68exceVkjutLn1cGKN5MAnIZTmUcYsQynlufHIqEwcuA2F5y9lImBM/lgviBUztsw6gZpOEQ8wmJPZM5EGeKwwY8+2yVmCRb8DQw2FStDneq4RojBOKZIkHWTVaTFEZXuyh3uGIGQXdso2dBY6rjlImcrHmC9qk5Dy5E7OuBIZabjCG5qx66gguUjGHcGPZSPKGTLJw3iR68rKU1/yVJxtkQJobDt1JJ5GKEkK8j1vAFcBUngCXXtFG9kolmC0o6NXFf8Fu7y4jGXztxBtq32grtIXhMTEhyRGLCrTEqhCsDA38RE4IcMBXJmA5WoqVKUZ6o0LMkWh/tkucZc4O1evZnZ8yaPI+2hJsdBjxwN1qe8BtVH8zrZyatMucy8Sk+V7UfN25eCt3vNW4sK4yTP5OwufRwitCYxA/j9HJeY2rADq8PsUARwJ5rUcwyhoefCQCoQrQRTwSplUBJBSZsHIATMAZACIFD9p3oiIWEoF/uZfCAL0oa+NZzLg0OZmzHKYNk8ZSkuy2EL5GyVhlJ2RQAhyuNi4JxGh25Lh5OuDr0eHbon0GH0/Hr/Y+rZT+Rm/O3T8mny9XN6Njyqo+gUdTqKSSGUD7v4aKEtdB2a92lXmdSW+sX33Un/S1qNa/dXlqM7TcuP16L8dI2mVwijo4QQUJTnJDj0drGL4N2q+dfYbjeId7M93O/ng9keH+o+QclN1RsMSzXoTxvM+n9tEXJwhwRsnRaIazvtWgj08YigPY+HxB90DtxTNB3zFlm+xH5U04Fh9RdJibX6o+ld/AY=&lt;/diagram&gt;&lt;/mxfile&gt;\" onclick=\"(function(svg){var src=window.event.target||window.event.srcElement;while (src!=null&amp;&amp;src.nodeName.toLowerCase()!='a'){src=src.parentNode;}if(src==null){if(svg.wnd!=null&amp;&amp;!svg.wnd.closed){svg.wnd.focus();}else{var r=function(evt){if(evt.data=='ready'&amp;&amp;evt.source==svg.wnd){svg.wnd.postMessage(decodeURIComponent(svg.getAttribute('content')),'*');window.removeEventListener('message',r);}};window.addEventListener('message',r);svg.wnd=window.open('https://viewer.diagrams.net/?client=1&amp;page=0&amp;edit=_blank');}}})(this);\" style=\"cursor:pointer;max-width:100%;max-height:109px;\" version=\"1.1\" viewBox=\"-0.5 -0.5 199 109\" width=\"199px\" xmlns=\"http://www.w3.org/2000/svg\" xmlns:xlink=\"http://www.w3.org/1999/xlink\"><defs/><g><path d=\"M 8 95 L 163.53 95\" fill=\"none\" pointer-events=\"stroke\" stroke=\"#000000\" stroke-miterlimit=\"10\" stroke-width=\"2\"/><path d=\"M 157.76 99 L 165.76 95 L 157.76 91\" fill=\"none\" pointer-events=\"all\" stroke=\"#000000\" stroke-miterlimit=\"10\" stroke-width=\"2\"/><ellipse cx=\"88\" cy=\"75\" fill=\"#ffffff\" pointer-events=\"all\" rx=\"20\" ry=\"20\" stroke=\"#000000\"/><g transform=\"translate(-0.5 -0.5)\"><switch><foreignObject height=\"100%\" pointer-events=\"none\" requiredFeatures=\"http://www.w3.org/TR/SVG11/feature#Extensibility\" style=\"overflow: visible; text-align: left;\" width=\"100%\"><div style=\"display: flex; align-items: unsafe center; justify-content: unsafe center; width: 38px; height: 1px; padding-top: 75px; margin-left: 69px;\" xmlns=\"http://www.w3.org/1999/xhtml\"><div style=\"box-sizing: border-box; font-size: 0; text-align: center; \"><div style=\"display: inline-block; font-size: 12px; font-family: Helvetica; color: #000000; line-height: 1.2; pointer-events: all; white-space: normal; word-wrap: normal; \"><i style=\"font-family: &quot;times new roman&quot; ; font-size: 24px\">m</i></div></div></div></foreignObject><text fill=\"#000000\" font-family=\"Helvetica\" font-size=\"12px\" text-anchor=\"middle\" x=\"88\" y=\"79\">m</text></switch></g><rect fill=\"none\" height=\"20\" pointer-events=\"all\" stroke=\"none\" width=\"30\" x=\"168\" y=\"85\"/><g transform=\"translate(-0.5 -0.5)\"><switch><foreignObject height=\"100%\" pointer-events=\"none\" requiredFeatures=\"http://www.w3.org/TR/SVG11/feature#Extensibility\" style=\"overflow: visible; text-align: left;\" width=\"100%\"><div style=\"display: flex; align-items: unsafe center; justify-content: unsafe center; width: 1px; height: 1px; padding-top: 95px; margin-left: 183px;\" xmlns=\"http://www.w3.org/1999/xhtml\"><div style=\"box-sizing: border-box; font-size: 0; text-align: center; \"><div style=\"display: inline-block; font-size: 12px; font-family: Helvetica; color: #000000; line-height: 1.2; pointer-events: all; white-space: nowrap; \"><font face=\"Times New Roman\"><span style=\"font-size: 24px\"><i>+</i></span></font></div></div></div></foreignObject><text fill=\"#000000\" font-family=\"Helvetica\" font-size=\"12px\" text-anchor=\"middle\" x=\"183\" y=\"99\">+</text></switch></g><path d=\"M 88 55 L 88 24\" fill=\"none\" pointer-events=\"stroke\" stroke=\"#000000\" stroke-dasharray=\"3 3\" stroke-miterlimit=\"10\"/><path d=\"M 88 34 L 129.76 34\" fill=\"none\" pointer-events=\"stroke\" stroke=\"#000000\" stroke-miterlimit=\"10\" stroke-width=\"2\"/><path d=\"M 135.76 34 L 127.76 38 L 129.76 34 L 127.76 30 Z\" fill=\"#000000\" pointer-events=\"all\" stroke=\"#000000\" stroke-miterlimit=\"10\" stroke-width=\"2\"/><rect fill=\"none\" height=\"20\" pointer-events=\"all\" stroke=\"none\" width=\"30\" x=\"102\" y=\"4\"/><g transform=\"translate(-0.5 -0.5)\"><switch><foreignObject height=\"100%\" pointer-events=\"none\" requiredFeatures=\"http://www.w3.org/TR/SVG11/feature#Extensibility\" style=\"overflow: visible; text-align: left;\" width=\"100%\"><div style=\"display: flex; align-items: unsafe center; justify-content: unsafe center; width: 1px; height: 1px; padding-top: 14px; margin-left: 117px;\" xmlns=\"http://www.w3.org/1999/xhtml\"><div style=\"box-sizing: border-box; font-size: 0; text-align: center; \"><div style=\"display: inline-block; font-size: 12px; font-family: Georgia; color: #B3B3B3; line-height: 1.2; pointer-events: all; font-style: italic; white-space: nowrap; \"><font color=\"#000000\" style=\"font-size: 24px\">v</font></div></div></div></foreignObject><text fill=\"#B3B3B3\" font-family=\"Georgia\" font-size=\"12px\" font-style=\"italic\" text-anchor=\"middle\" x=\"117\" y=\"18\">v</text></switch></g></g><switch><g requiredFeatures=\"http://www.w3.org/TR/SVG11/feature#Extensibility\"/><a target=\"_blank\" transform=\"translate(0,-5)\" xlink:href=\"https://desk.draw.io/support/solutions/articles/16000042487\"><text font-size=\"10px\" text-anchor=\"middle\" x=\"50%\" y=\"100%\">Viewer does not support full SVG 1.1</text></a></switch></svg>"
          },
          "metadata": {
            "tags": []
          }
        }
      ]
    },
    {
      "cell_type": "markdown",
      "metadata": {
        "id": "4Dvm4MwFKoEF"
      },
      "source": [
        "> Q.　次の図の運動エネルギーを求めて下さい."
      ]
    },
    {
      "cell_type": "code",
      "metadata": {
        "id": "Pc4bUZKEKPHD",
        "cellView": "form",
        "outputId": "61c0ddd0-4621-4c8f-cdf6-cf8fec50153d",
        "colab": {
          "base_uri": "https://localhost:8080/",
          "height": 130
        }
      },
      "source": [
        "#@title 運動エネルギーと向き\n",
        "%%svg\n",
        "<svg xmlns=\"http://www.w3.org/2000/svg\" xmlns:xlink=\"http://www.w3.org/1999/xlink\" version=\"1.1\" width=\"199px\" viewBox=\"-0.5 -0.5 199 109\" content=\"&lt;mxfile host=&quot;app.diagrams.net&quot; modified=&quot;2020-11-04T12:12:08.845Z&quot; agent=&quot;5.0 (Macintosh; Intel Mac OS X 10_15_7) AppleWebKit/537.36 (KHTML, like Gecko) Chrome/86.0.4240.111 Safari/537.36&quot; etag=&quot;YLwbyzs7jVOj2W2eZzrP&quot; version=&quot;13.8.9-1&quot; type=&quot;google&quot;&gt;&lt;diagram id=&quot;ZWYuBLPn_OubiH1HvQ1D&quot; name=&quot;Page-1&quot;&gt;3VfbUtswEP0aPzLjSy7kMU4I0CmFAtPSR2ErtopsGVm50K/vypJ8T0I6YaZtMhNbR6vVas/xrmN5s2R7yVEW37AQU8u1w63lzS3XdZyxCxeJvGnEtscKiTgJNVYBD+QXNoYaXZEQ5w1DwRgVJGuCAUtTHIgGhjhnm6bZktHmrhmKcAd4CBDtot9JKGKFDhyvwq8wiWK9szvRCxJkbPVB8hiFbFODvAvLm3HGhLpLtjNMZfJMWtS6xY7ZMi6OU/GeBWkS5OHs/lr8vHoJF7dP/Pb68exceVkjutLn1cGKN5MAnIZTmUcYsQynlufHIqEwcuA2F5y9lImBM/lgviBUztsw6gZpOEQ8wmJPZM5EGeKwwY8+2yVmCRb8DQw2FStDneq4RojBOKZIkHWTVaTFEZXuyh3uGIGQXdso2dBY6rjlImcrHmC9qk5Dy5E7OuBIZabjCG5qx66gguUjGHcGPZSPKGTLJw3iR68rKU1/yVJxtkQJobDt1JJ5GKEkK8j1vAFcBUngCXXtFG9kolmC0o6NXFf8Fu7y4jGXztxBtq32grtIXhMTEhyRGLCrTEqhCsDA38RE4IcMBXJmA5WoqVKUZ6o0LMkWh/tkucZc4O1evZnZ8yaPI+2hJsdBjxwN1qe8BtVH8zrZyatMucy8Sk+V7UfN25eCt3vNW4sK4yTP5OwufRwitCYxA/j9HJeY2rADq8PsUARwJ5rUcwyhoefCQCoQrQRTwSplUBJBSZsHIATMAZACIFD9p3oiIWEoF/uZfCAL0oa+NZzLg0OZmzHKYNk8ZSkuy2EL5GyVhlJ2RQAhyuNi4JxGh25Lh5OuDr0eHbon0GH0/Hr/Y+rZT+Rm/O3T8mny9XN6Njyqo+gUdTqKSSGUD7v4aKEtdB2a92lXmdSW+sX33Un/S1qNa/dXlqM7TcuP16L8dI2mVwijo4QQUJTnJDj0drGL4N2q+dfYbjeI97LtDPf7+WC2x4e6T1ByU/UGw1IN+tMGs/5fW4Qc3CEBW6cF4tpOuxYCfTwiaM/jIfEHnQP3FC8/nZfYj2o6MKz+IimxVn80vYvf&lt;/diagram&gt;&lt;/mxfile&gt;\" onclick=\"(function(svg){var src=window.event.target||window.event.srcElement;while (src!=null&amp;&amp;src.nodeName.toLowerCase()!='a'){src=src.parentNode;}if(src==null){if(svg.wnd!=null&amp;&amp;!svg.wnd.closed){svg.wnd.focus();}else{var r=function(evt){if(evt.data=='ready'&amp;&amp;evt.source==svg.wnd){svg.wnd.postMessage(decodeURIComponent(svg.getAttribute('content')),'*');window.removeEventListener('message',r);}};window.addEventListener('message',r);svg.wnd=window.open('https://viewer.diagrams.net/?client=1&amp;page=0&amp;edit=_blank');}}})(this);\" style=\"cursor:pointer;max-width:100%;max-height:109px;\"><defs/><g><path d=\"M 8 95 L 163.53 95\" fill=\"none\" stroke=\"#000000\" stroke-width=\"2\" stroke-miterlimit=\"10\" pointer-events=\"stroke\"/><path d=\"M 157.76 99 L 165.76 95 L 157.76 91\" fill=\"none\" stroke=\"#000000\" stroke-width=\"2\" stroke-miterlimit=\"10\" pointer-events=\"all\"/><ellipse cx=\"88\" cy=\"75\" rx=\"20\" ry=\"20\" fill=\"#ffffff\" stroke=\"#000000\" pointer-events=\"all\"/><g transform=\"translate(-0.5 -0.5)\"><switch><foreignObject style=\"overflow: visible; text-align: left;\" pointer-events=\"none\" width=\"100%\" height=\"100%\" requiredFeatures=\"http://www.w3.org/TR/SVG11/feature#Extensibility\"><div xmlns=\"http://www.w3.org/1999/xhtml\" style=\"display: flex; align-items: unsafe center; justify-content: unsafe center; width: 38px; height: 1px; padding-top: 75px; margin-left: 69px;\"><div style=\"box-sizing: border-box; font-size: 0; text-align: center; \"><div style=\"display: inline-block; font-size: 12px; font-family: Helvetica; color: #000000; line-height: 1.2; pointer-events: all; white-space: normal; word-wrap: normal; \"><i style=\"font-family: &quot;times new roman&quot; ; font-size: 24px\">m</i></div></div></div></foreignObject><text x=\"88\" y=\"79\" fill=\"#000000\" font-family=\"Helvetica\" font-size=\"12px\" text-anchor=\"middle\">m</text></switch></g><rect x=\"168\" y=\"85\" width=\"30\" height=\"20\" fill=\"none\" stroke=\"none\" pointer-events=\"all\"/><g transform=\"translate(-0.5 -0.5)\"><switch><foreignObject style=\"overflow: visible; text-align: left;\" pointer-events=\"none\" width=\"100%\" height=\"100%\" requiredFeatures=\"http://www.w3.org/TR/SVG11/feature#Extensibility\"><div xmlns=\"http://www.w3.org/1999/xhtml\" style=\"display: flex; align-items: unsafe center; justify-content: unsafe center; width: 1px; height: 1px; padding-top: 95px; margin-left: 183px;\"><div style=\"box-sizing: border-box; font-size: 0; text-align: center; \"><div style=\"display: inline-block; font-size: 12px; font-family: Helvetica; color: #000000; line-height: 1.2; pointer-events: all; white-space: nowrap; \"><font face=\"Times New Roman\"><span style=\"font-size: 24px\"><i>+</i></span></font></div></div></div></foreignObject><text x=\"183\" y=\"99\" fill=\"#000000\" font-family=\"Helvetica\" font-size=\"12px\" text-anchor=\"middle\">+</text></switch></g><path d=\"M 88 55 L 88 24\" fill=\"none\" stroke=\"#000000\" stroke-miterlimit=\"10\" stroke-dasharray=\"3 3\" pointer-events=\"stroke\"/><path d=\"M 88 34 L 46.24 34\" fill=\"none\" stroke=\"#000000\" stroke-width=\"2\" stroke-miterlimit=\"10\" pointer-events=\"stroke\"/><path d=\"M 40.24 34 L 48.24 30 L 46.24 34 L 48.24 38 Z\" fill=\"#000000\" stroke=\"#000000\" stroke-width=\"2\" stroke-miterlimit=\"10\" pointer-events=\"all\"/><rect x=\"48\" y=\"4\" width=\"30\" height=\"20\" fill=\"none\" stroke=\"none\" pointer-events=\"all\"/><g transform=\"translate(-0.5 -0.5)\"><switch><foreignObject style=\"overflow: visible; text-align: left;\" pointer-events=\"none\" width=\"100%\" height=\"100%\" requiredFeatures=\"http://www.w3.org/TR/SVG11/feature#Extensibility\"><div xmlns=\"http://www.w3.org/1999/xhtml\" style=\"display: flex; align-items: unsafe center; justify-content: unsafe center; width: 1px; height: 1px; padding-top: 14px; margin-left: 63px;\"><div style=\"box-sizing: border-box; font-size: 0; text-align: center; \"><div style=\"display: inline-block; font-size: 12px; font-family: Georgia; color: #B3B3B3; line-height: 1.2; pointer-events: all; font-style: italic; white-space: nowrap; \"><font color=\"#000000\" style=\"font-size: 24px\">v</font></div></div></div></foreignObject><text x=\"63\" y=\"18\" fill=\"#B3B3B3\" font-family=\"Georgia\" font-size=\"12px\" text-anchor=\"middle\" font-style=\"italic\">v</text></switch></g></g><switch><g requiredFeatures=\"http://www.w3.org/TR/SVG11/feature#Extensibility\"/><a transform=\"translate(0,-5)\" xlink:href=\"https://desk.draw.io/support/solutions/articles/16000042487\" target=\"_blank\"><text text-anchor=\"middle\" font-size=\"10px\" x=\"50%\" y=\"100%\">Viewer does not support full SVG 1.1</text></a></switch></svg>"
      ],
      "execution_count": null,
      "outputs": [
        {
          "output_type": "display_data",
          "data": {
            "text/plain": [
              "<IPython.core.display.SVG object>"
            ],
            "image/svg+xml": "<svg content=\"&lt;mxfile host=&quot;app.diagrams.net&quot; modified=&quot;2020-11-04T12:12:08.845Z&quot; agent=&quot;5.0 (Macintosh; Intel Mac OS X 10_15_7) AppleWebKit/537.36 (KHTML, like Gecko) Chrome/86.0.4240.111 Safari/537.36&quot; etag=&quot;YLwbyzs7jVOj2W2eZzrP&quot; version=&quot;13.8.9-1&quot; type=&quot;google&quot;&gt;&lt;diagram id=&quot;ZWYuBLPn_OubiH1HvQ1D&quot; name=&quot;Page-1&quot;&gt;3VfbUtswEP0aPzLjSy7kMU4I0CmFAtPSR2ErtopsGVm50K/vypJ8T0I6YaZtMhNbR6vVas/xrmN5s2R7yVEW37AQU8u1w63lzS3XdZyxCxeJvGnEtscKiTgJNVYBD+QXNoYaXZEQ5w1DwRgVJGuCAUtTHIgGhjhnm6bZktHmrhmKcAd4CBDtot9JKGKFDhyvwq8wiWK9szvRCxJkbPVB8hiFbFODvAvLm3HGhLpLtjNMZfJMWtS6xY7ZMi6OU/GeBWkS5OHs/lr8vHoJF7dP/Pb68exceVkjutLn1cGKN5MAnIZTmUcYsQynlufHIqEwcuA2F5y9lImBM/lgviBUztsw6gZpOEQ8wmJPZM5EGeKwwY8+2yVmCRb8DQw2FStDneq4RojBOKZIkHWTVaTFEZXuyh3uGIGQXdso2dBY6rjlImcrHmC9qk5Dy5E7OuBIZabjCG5qx66gguUjGHcGPZSPKGTLJw3iR68rKU1/yVJxtkQJobDt1JJ5GKEkK8j1vAFcBUngCXXtFG9kolmC0o6NXFf8Fu7y4jGXztxBtq32grtIXhMTEhyRGLCrTEqhCsDA38RE4IcMBXJmA5WoqVKUZ6o0LMkWh/tkucZc4O1evZnZ8yaPI+2hJsdBjxwN1qe8BtVH8zrZyatMucy8Sk+V7UfN25eCt3vNW4sK4yTP5OwufRwitCYxA/j9HJeY2rADq8PsUARwJ5rUcwyhoefCQCoQrQRTwSplUBJBSZsHIATMAZACIFD9p3oiIWEoF/uZfCAL0oa+NZzLg0OZmzHKYNk8ZSkuy2EL5GyVhlJ2RQAhyuNi4JxGh25Lh5OuDr0eHbon0GH0/Hr/Y+rZT+Rm/O3T8mny9XN6Njyqo+gUdTqKSSGUD7v4aKEtdB2a92lXmdSW+sX33Un/S1qNa/dXlqM7TcuP16L8dI2mVwijo4QQUJTnJDj0drGL4N2q+dfYbjeI97LtDPf7+WC2x4e6T1ByU/UGw1IN+tMGs/5fW4Qc3CEBW6cF4tpOuxYCfTwiaM/jIfEHnQP3FC8/nZfYj2o6MKz+IimxVn80vYvf&lt;/diagram&gt;&lt;/mxfile&gt;\" onclick=\"(function(svg){var src=window.event.target||window.event.srcElement;while (src!=null&amp;&amp;src.nodeName.toLowerCase()!='a'){src=src.parentNode;}if(src==null){if(svg.wnd!=null&amp;&amp;!svg.wnd.closed){svg.wnd.focus();}else{var r=function(evt){if(evt.data=='ready'&amp;&amp;evt.source==svg.wnd){svg.wnd.postMessage(decodeURIComponent(svg.getAttribute('content')),'*');window.removeEventListener('message',r);}};window.addEventListener('message',r);svg.wnd=window.open('https://viewer.diagrams.net/?client=1&amp;page=0&amp;edit=_blank');}}})(this);\" style=\"cursor:pointer;max-width:100%;max-height:109px;\" version=\"1.1\" viewBox=\"-0.5 -0.5 199 109\" width=\"199px\" xmlns=\"http://www.w3.org/2000/svg\" xmlns:xlink=\"http://www.w3.org/1999/xlink\"><defs/><g><path d=\"M 8 95 L 163.53 95\" fill=\"none\" pointer-events=\"stroke\" stroke=\"#000000\" stroke-miterlimit=\"10\" stroke-width=\"2\"/><path d=\"M 157.76 99 L 165.76 95 L 157.76 91\" fill=\"none\" pointer-events=\"all\" stroke=\"#000000\" stroke-miterlimit=\"10\" stroke-width=\"2\"/><ellipse cx=\"88\" cy=\"75\" fill=\"#ffffff\" pointer-events=\"all\" rx=\"20\" ry=\"20\" stroke=\"#000000\"/><g transform=\"translate(-0.5 -0.5)\"><switch><foreignObject height=\"100%\" pointer-events=\"none\" requiredFeatures=\"http://www.w3.org/TR/SVG11/feature#Extensibility\" style=\"overflow: visible; text-align: left;\" width=\"100%\"><div style=\"display: flex; align-items: unsafe center; justify-content: unsafe center; width: 38px; height: 1px; padding-top: 75px; margin-left: 69px;\" xmlns=\"http://www.w3.org/1999/xhtml\"><div style=\"box-sizing: border-box; font-size: 0; text-align: center; \"><div style=\"display: inline-block; font-size: 12px; font-family: Helvetica; color: #000000; line-height: 1.2; pointer-events: all; white-space: normal; word-wrap: normal; \"><i style=\"font-family: &quot;times new roman&quot; ; font-size: 24px\">m</i></div></div></div></foreignObject><text fill=\"#000000\" font-family=\"Helvetica\" font-size=\"12px\" text-anchor=\"middle\" x=\"88\" y=\"79\">m</text></switch></g><rect fill=\"none\" height=\"20\" pointer-events=\"all\" stroke=\"none\" width=\"30\" x=\"168\" y=\"85\"/><g transform=\"translate(-0.5 -0.5)\"><switch><foreignObject height=\"100%\" pointer-events=\"none\" requiredFeatures=\"http://www.w3.org/TR/SVG11/feature#Extensibility\" style=\"overflow: visible; text-align: left;\" width=\"100%\"><div style=\"display: flex; align-items: unsafe center; justify-content: unsafe center; width: 1px; height: 1px; padding-top: 95px; margin-left: 183px;\" xmlns=\"http://www.w3.org/1999/xhtml\"><div style=\"box-sizing: border-box; font-size: 0; text-align: center; \"><div style=\"display: inline-block; font-size: 12px; font-family: Helvetica; color: #000000; line-height: 1.2; pointer-events: all; white-space: nowrap; \"><font face=\"Times New Roman\"><span style=\"font-size: 24px\"><i>+</i></span></font></div></div></div></foreignObject><text fill=\"#000000\" font-family=\"Helvetica\" font-size=\"12px\" text-anchor=\"middle\" x=\"183\" y=\"99\">+</text></switch></g><path d=\"M 88 55 L 88 24\" fill=\"none\" pointer-events=\"stroke\" stroke=\"#000000\" stroke-dasharray=\"3 3\" stroke-miterlimit=\"10\"/><path d=\"M 88 34 L 46.24 34\" fill=\"none\" pointer-events=\"stroke\" stroke=\"#000000\" stroke-miterlimit=\"10\" stroke-width=\"2\"/><path d=\"M 40.24 34 L 48.24 30 L 46.24 34 L 48.24 38 Z\" fill=\"#000000\" pointer-events=\"all\" stroke=\"#000000\" stroke-miterlimit=\"10\" stroke-width=\"2\"/><rect fill=\"none\" height=\"20\" pointer-events=\"all\" stroke=\"none\" width=\"30\" x=\"48\" y=\"4\"/><g transform=\"translate(-0.5 -0.5)\"><switch><foreignObject height=\"100%\" pointer-events=\"none\" requiredFeatures=\"http://www.w3.org/TR/SVG11/feature#Extensibility\" style=\"overflow: visible; text-align: left;\" width=\"100%\"><div style=\"display: flex; align-items: unsafe center; justify-content: unsafe center; width: 1px; height: 1px; padding-top: 14px; margin-left: 63px;\" xmlns=\"http://www.w3.org/1999/xhtml\"><div style=\"box-sizing: border-box; font-size: 0; text-align: center; \"><div style=\"display: inline-block; font-size: 12px; font-family: Georgia; color: #B3B3B3; line-height: 1.2; pointer-events: all; font-style: italic; white-space: nowrap; \"><font color=\"#000000\" style=\"font-size: 24px\">v</font></div></div></div></foreignObject><text fill=\"#B3B3B3\" font-family=\"Georgia\" font-size=\"12px\" font-style=\"italic\" text-anchor=\"middle\" x=\"63\" y=\"18\">v</text></switch></g></g><switch><g requiredFeatures=\"http://www.w3.org/TR/SVG11/feature#Extensibility\"/><a target=\"_blank\" transform=\"translate(0,-5)\" xlink:href=\"https://desk.draw.io/support/solutions/articles/16000042487\"><text font-size=\"10px\" text-anchor=\"middle\" x=\"50%\" y=\"100%\">Viewer does not support full SVG 1.1</text></a></switch></svg>"
          },
          "metadata": {
            "tags": []
          }
        }
      ]
    },
    {
      "cell_type": "markdown",
      "metadata": {
        "id": "hhDS4U9SLH_Q"
      },
      "source": [
        "この\b\b計算のように\n",
        "> 運動エネルギーは\b\b **向きに依存しない**\n",
        "\n",
        "ことが\b分かります."
      ]
    },
    {
      "cell_type": "code",
      "metadata": {
        "id": "tQfGLJouMbQq",
        "cellView": "form",
        "outputId": "c0210da2-ae6e-4366-a334-5379ff9085da",
        "colab": {
          "base_uri": "https://localhost:8080/",
          "height": 475
        }
      },
      "source": [
        "#@title Motion\n",
        "%%html\n",
        "<iframe src=\"https://phet.colorado.edu/sims/html/forces-and-motion-basics/latest/forces-and-motion-basics_en.html\" width=\"600\" height=\"450\" scrolling=\"no\" allowfullscreen></iframe>"
      ],
      "execution_count": null,
      "outputs": [
        {
          "output_type": "display_data",
          "data": {
            "text/html": [
              "<iframe src=\"https://phet.colorado.edu/sims/html/forces-and-motion-basics/latest/forces-and-motion-basics_en.html\" width=\"600\" height=\"450\" scrolling=\"no\" allowfullscreen></iframe>"
            ],
            "text/plain": [
              "<IPython.core.display.HTML object>"
            ]
          },
          "metadata": {
            "tags": []
          }
        }
      ]
    }
  ]
}