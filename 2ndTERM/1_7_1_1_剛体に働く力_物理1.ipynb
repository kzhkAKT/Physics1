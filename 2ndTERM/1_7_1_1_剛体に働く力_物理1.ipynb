{
  "nbformat": 4,
  "nbformat_minor": 0,
  "metadata": {
    "colab": {
      "name": "1_7_1_1_剛体に働く力_物理1",
      "provenance": [],
      "collapsed_sections": [],
      "toc_visible": true,
      "authorship_tag": "ABX9TyMTnta6F/DHZYknQ1l/WEgp",
      "include_colab_link": true
    },
    "kernelspec": {
      "name": "python3",
      "display_name": "Python 3"
    }
  },
  "cells": [
    {
      "cell_type": "markdown",
      "metadata": {
        "id": "view-in-github",
        "colab_type": "text"
      },
      "source": [
        "<a href=\"https://colab.research.google.com/github/kzhkAKT/Physics1/blob/draft/2ndTERM/1_7_1_1_%E5%89%9B%E4%BD%93%E3%81%AB%E5%83%8D%E3%81%8F%E5%8A%9B_%E7%89%A9%E7%90%861.ipynb\" target=\"_parent\"><img src=\"https://colab.research.google.com/assets/colab-badge.svg\" alt=\"Open In Colab\"/></a>"
      ]
    },
    {
      "cell_type": "markdown",
      "metadata": {
        "id": "KpznYqtC3_dW"
      },
      "source": [
        "# 剛体に働く力"
      ]
    },
    {
      "cell_type": "markdown",
      "metadata": {
        "id": "bADRXfa5Ayxj"
      },
      "source": [
        "## 力のモーメント"
      ]
    },
    {
      "cell_type": "markdown",
      "metadata": {
        "id": "Bh-aqr31BA-V"
      },
      "source": [
        "- 力のモーメントと $\\mathcal{N}$は、ある軸の周りに剛体を回転させる作用\n",
        "---\n",
        "torque/トルク とも呼ばれる。$\\tau$ を利用することもある"
      ]
    },
    {
      "cell_type": "markdown",
      "metadata": {
        "id": "L78WAD54A7Nt"
      },
      "source": [
        "### 剛体に働く力"
      ]
    },
    {
      "cell_type": "markdown",
      "metadata": {
        "id": "h4soQgL8Cxzr"
      },
      "source": [
        "ここからは、\n",
        "> 剛体は外力によって変形(伸び縮み)しないことを\n",
        "\n",
        "意識してください。\n",
        "\n",
        "---\n",
        "張力で糸の伸縮を無視できたことと同じです。"
      ]
    },
    {
      "cell_type": "markdown",
      "metadata": {
        "id": "FcZwFj0cKJgE"
      },
      "source": [
        "#### 作用線の定理\n",
        "\n",
        "剛体では、次の三つの図形は全て同じ作用を生じます。\n",
        "\n",
        "\n",
        "![](https://wakariyasui.sakura.ne.jp/p/mech/gou/goutai-img/3231-50-1a.gif)\n",
        "![](https://wakariyasui.sakura.ne.jp/p/mech/gou/goutai-img/3231-50-2.gif)\n",
        "![](https://wakariyasui.sakura.ne.jp/p/mech/gou/goutai-img/3231-50-3.gif)\n",
        "\n",
        "- 上の図で力の働く点を、**作用点**\n",
        "- 作用点を基準に力の方向に延長した線を、**作用線**\n",
        "\n",
        "\n",
        "図の出典 [https://wakariyasui.sakura.ne.jp](https://wakariyasui.sakura.ne.jp/p/mech/gou/goutai.html)\n"
      ]
    },
    {
      "cell_type": "code",
      "metadata": {
        "colab": {
          "base_uri": "https://localhost:8080/",
          "height": 475
        },
        "cellView": "form",
        "id": "w7qXla-cEtT7",
        "outputId": "7cdcddf9-8c0b-4c63-bb23-5d99bf6f6772"
      },
      "source": [
        "#@title 棒に働く力のモーメント: Intro\n",
        "%%html\n",
        "<iframe src=\"https://phet.colorado.edu/sims/html/balancing-act/latest/balancing-act_en.html\" width=\"600\" height=\"450\" scrolling=\"no\" allowfullscreen></iframe>"
      ],
      "execution_count": 3,
      "outputs": [
        {
          "output_type": "display_data",
          "data": {
            "text/html": [
              "<iframe src=\"https://phet.colorado.edu/sims/html/balancing-act/latest/balancing-act_en.html\" width=\"600\" height=\"450\" scrolling=\"no\" allowfullscreen></iframe>"
            ],
            "text/plain": [
              "<IPython.core.display.HTML object>"
            ]
          },
          "metadata": {
            "tags": []
          }
        }
      ]
    },
    {
      "cell_type": "markdown",
      "metadata": {
        "id": "jL4zOV6rNugD"
      },
      "source": [
        "![](https://upload.wikimedia.org/wikipedia/commons/thumb/2/2e/Torque%2C_position%2C_and_force.svg/627px-Torque%2C_position%2C_and_force.svg.png)"
      ]
    },
    {
      "cell_type": "markdown",
      "metadata": {
        "id": "Wc5J3wRiOljz"
      },
      "source": [
        "$\\require{color}$\n",
        "上の平面図で、<font color='red'>赤い点 を支点(固定点)</font>とし、<font color='green'>棒 $r$ </font> を、<font color='purple'> 力 $\\vec{F}$</font> で回転させることを考えます。\n",
        "\n",
        "1. <font color='green'>棒</font> を回転させる要素は、棒に垂直な力 <font color='purple'>$F_{\\perp}$</font> のみ\n",
        "  - <font color='purple'>$F_{\\parallel}$</font> は、<font color='red'>支点</font>が固定されているので、回転には作用しません\n",
        "  - <font color='purple'>$F_{\\perp}$</font> がゼロなら、回転はしません\n",
        "  - <font color='green'>棒 $r$ </font>の長さがゼロなら、回転はわかりません\n",
        "\n",
        "2. これらの考察から、この状況での **力のモーメント** を次のように、  \n",
        "$F_{\\perp}$ と$r$ の積で定義します:\n",
        "> \\begin{align}\n",
        "\\mathcal{N} \n",
        "&= F_{\\perp} \\ r\\\\\n",
        "\\end{align}\n",
        "\n",
        "  - この積が <font color='green'>$r$ </font> と <font color='purple'>$F_{\\perp}$</font> で作られる  \n",
        "  長方形の面積になっていることを確認してください.\n",
        "  - <font color='purple'>$F_{\\perp}$</font> の向きによっては、\n",
        "  回り方が異なるので、次のように定めます\n",
        "    - 反時計回りを、<font color='red'>正の回転</font>\n",
        "    - 時計回りを、<font color='blue'>負の回転</font>\n",
        "\n",
        "  - 力のモーメント $\\mathcal{N}$ の単位は、${\\rm [N\\ m]}$ です\n",
        "\n",
        "> Q. 上の平面図の力のモーメント $\\mathcal{N}$ を、<font color='purple'> 力 $\\vec{F}$</font> の大きさ $F$ と $r, \\theta$ を用いて示してください.\n",
        "\n",
        "> Q. 教科書 上巻 p80 図1.107(b) に働く力のモーメントを次の二つの方法で計算してください\n",
        "  1. 力の作用点を動かさずに求める\n",
        "  2. 力を作用線上に動かし求める\n"
      ]
    },
    {
      "cell_type": "code",
      "metadata": {
        "colab": {
          "base_uri": "https://localhost:8080/",
          "height": 475
        },
        "cellView": "form",
        "id": "cjFsL6jXXTCl",
        "outputId": "619050bd-7355-40af-e9ad-b63aa1a411b6"
      },
      "source": [
        "#@title 棒に働く正負の力のモーメント確認: Intro, 10kg--5kg\n",
        "%%html\n",
        "<iframe src=\"https://phet.colorado.edu/sims/html/balancing-act/latest/balancing-act_en.html\" width=\"600\" height=\"450\" scrolling=\"no\" allowfullscreen></iframe>"
      ],
      "execution_count": 5,
      "outputs": [
        {
          "output_type": "display_data",
          "data": {
            "text/html": [
              "<iframe src=\"https://phet.colorado.edu/sims/html/balancing-act/latest/balancing-act_en.html\" width=\"600\" height=\"450\" scrolling=\"no\" allowfullscreen></iframe>"
            ],
            "text/plain": [
              "<IPython.core.display.HTML object>"
            ]
          },
          "metadata": {
            "tags": []
          }
        }
      ]
    }
  ]
}