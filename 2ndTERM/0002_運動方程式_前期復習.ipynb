{
  "nbformat": 4,
  "nbformat_minor": 0,
  "metadata": {
    "colab": {
      "name": "0002_運動方程式_前期復習.ipynb",
      "provenance": [],
      "toc_visible": true,
      "authorship_tag": "ABX9TyMAzchnVU/TV2ahb6X0hf+1",
      "include_colab_link": true
    },
    "kernelspec": {
      "name": "python3",
      "display_name": "Python 3"
    }
  },
  "cells": [
    {
      "cell_type": "markdown",
      "metadata": {
        "id": "view-in-github",
        "colab_type": "text"
      },
      "source": [
        "<a href=\"https://colab.research.google.com/github/kzhkAKT/Physics1/blob/draft/2ndTERM/0002_%E9%81%8B%E5%8B%95%E6%96%B9%E7%A8%8B%E5%BC%8F_%E5%89%8D%E6%9C%9F%E5%BE%A9%E7%BF%92.ipynb\" target=\"_parent\"><img src=\"https://colab.research.google.com/assets/colab-badge.svg\" alt=\"Open In Colab\"/></a>"
      ]
    },
    {
      "cell_type": "markdown",
      "metadata": {
        "id": "Y9IMHTVgIa3Z"
      },
      "source": [
        "# Newton の法則\n",
        "\n",
        "1. 慣性の法則\n",
        "2. 運動方程式 $m \\cdot a =F$\n",
        "3. 作用反作用の法則\n"
      ]
    },
    {
      "cell_type": "markdown",
      "metadata": {
        "id": "VozFGTIOLaSM"
      },
      "source": [
        "## Inertia"
      ]
    },
    {
      "cell_type": "code",
      "metadata": {
        "id": "tYW2yFrSLdHZ",
        "cellView": "form",
        "outputId": "80983ae4-98b2-43af-9c87-3190da2d3e8e",
        "colab": {
          "base_uri": "https://localhost:8080/",
          "height": 336
        }
      },
      "source": [
        "#@title 実験: 慣性の法則\n",
        "%%html\n",
        "<iframe width=\"560\" height=\"315\" src=\"https://www.youtube-nocookie.com/embed/T1ux9D7-O38\" frameborder=\"0\" allow=\"accelerometer; autoplay; clipboard-write; encrypted-media; gyroscope; picture-in-picture\" allowfullscreen></iframe>\""
      ],
      "execution_count": 2,
      "outputs": [
        {
          "output_type": "display_data",
          "data": {
            "text/html": [
              "<iframe width=\"560\" height=\"315\" src=\"https://www.youtube-nocookie.com/embed/T1ux9D7-O38\" frameborder=\"0\" allow=\"accelerometer; autoplay; clipboard-write; encrypted-media; gyroscope; picture-in-picture\" allowfullscreen></iframe>\""
            ],
            "text/plain": [
              "<IPython.core.display.HTML object>"
            ]
          },
          "metadata": {
            "tags": []
          }
        }
      ]
    },
    {
      "cell_type": "markdown",
      "metadata": {
        "id": "Z5h5t54-Iu8p"
      },
      "source": [
        "## 質量 $m$, 加速度 $a$, 力 $F$"
      ]
    },
    {
      "cell_type": "code",
      "metadata": {
        "id": "Fqwku872IR_8",
        "cellView": "form",
        "outputId": "f689eb47-1175-4095-9e4c-5fc433a87a92",
        "colab": {
          "base_uri": "https://localhost:8080/",
          "height": 176
        }
      },
      "source": [
        "#@title 運動方程式\n",
        "%%svg\n",
        "<svg xmlns=\"http://www.w3.org/2000/svg\" xmlns:xlink=\"http://www.w3.org/1999/xlink\" version=\"1.1\" width=\"251px\" viewBox=\"-0.5 -0.5 251 155\" content=\"&lt;mxfile host=&quot;app.diagrams.net&quot; modified=&quot;2020-11-04T07:25:25.479Z&quot; agent=&quot;5.0 (Macintosh; Intel Mac OS X 10_10_5) AppleWebKit/537.36 (KHTML, like Gecko) Chrome/86.0.4240.111 Safari/537.36&quot; etag=&quot;3-DV9jh1ncpjuPVYEFnM&quot; version=&quot;13.8.9-1&quot; type=&quot;google&quot;&gt;&lt;diagram id=&quot;ACvm0koPy5jdzCeJ2HON&quot; name=&quot;Page-1&quot;&gt;tVbbbqMwEP0aHlOBgaR5TNKbqu5qpajaZxcbsNZg1jgJ2a/fAWzA5NK0aZ+wj8fj8ZkzYxx/lVWPEhfpD0Eod5BLKse/cxDyvGAOnxrZt8jc9VogkYxoox5Ys39Ug65GN4zQ0jJUQnDFChuMRJ7TSFkYllLsbLNYcPvUAif0AFhHmB+ivxlRaYsGnt/jT5QlqT4ZzfWGDBtbfZEyxUTsBpB/7/grKYRqR1m1orzmztDS7ns4sdrFJWmuLtkw28rq9emnJ2JFZth9Dl8n+UR72WK+0fd10JSDv2UswC1ErfaaienfjTALk7LJ0wIMUFBU/WLNMI7sDY9UyIThodE00d/mKGaAzCBwCza2AqyNycDICg/BbUETMFnuUqboumjj2IEsAUtVxmHmwRCXRSuUmFWUdK6GTBpaqFS0GkCaWbhRRpXcg4levdVJ3hvZ6/mul4wxSQdqMRjWIk06x30iYaBz+YG8oiN5HfOVk0VdHzCLOC5LFtk0lUqKP53mg3M8UWLV0CFLAxrCIzQYTFKOFdvalXeMG33CL8EakZoUTUdZCEf0lmIjI6p3DUtl5MhH7zhSWCZUHThqUtVd+/PZ87+8Kk8U3MNVBQdZf8Fv0O/t8uIsyWtRgUqoBKCuIgYNdaEXMkZI7WMpKQSM3xp/LsyLms+G4XDphHdHFXdW7eNy7V4FfYjVeY+VsXszn6LQyr1pkVdqcxLObLdjFyKOS/otagreU9MlHdstzctsMO+svj4rUXyNIuGJLephzGmle9vyY20OXdXmTK7dGy9Acyvf/uGD8J2dcNTAxu/MpY3Quz3v50Qf7P1co26Y9n9HrXn/i+nf/wc=&lt;/diagram&gt;&lt;/mxfile&gt;\" onclick=\"(function(svg){var src=window.event.target||window.event.srcElement;while (src!=null&amp;&amp;src.nodeName.toLowerCase()!='a'){src=src.parentNode;}if(src==null){if(svg.wnd!=null&amp;&amp;!svg.wnd.closed){svg.wnd.focus();}else{var r=function(evt){if(evt.data=='ready'&amp;&amp;evt.source==svg.wnd){svg.wnd.postMessage(decodeURIComponent(svg.getAttribute('content')),'*');window.removeEventListener('message',r);}};window.addEventListener('message',r);svg.wnd=window.open('https://viewer.diagrams.net/?client=1&amp;page=0&amp;edit=_blank');}}})(this);\" style=\"cursor:pointer;max-width:100%;max-height:155px;\"><defs/><g><ellipse cx=\"40\" cy=\"114\" rx=\"40\" ry=\"40\" fill=\"#ffffff\" stroke=\"#000000\" pointer-events=\"all\"/><g transform=\"translate(-0.5 -0.5)\"><switch><foreignObject style=\"overflow: visible; text-align: left;\" pointer-events=\"none\" width=\"100%\" height=\"100%\" requiredFeatures=\"http://www.w3.org/TR/SVG11/feature#Extensibility\"><div xmlns=\"http://www.w3.org/1999/xhtml\" style=\"display: flex; align-items: unsafe center; justify-content: unsafe center; width: 78px; height: 1px; padding-top: 114px; margin-left: 1px;\"><div style=\"box-sizing: border-box; font-size: 0; text-align: center; \"><div style=\"display: inline-block; font-size: 12px; font-family: Helvetica; color: #000000; line-height: 1.2; pointer-events: all; white-space: normal; word-wrap: normal; \"><font style=\"font-size: 24px\" face=\"Georgia\"><i>m</i></font></div></div></div></foreignObject><text x=\"40\" y=\"118\" fill=\"#000000\" font-family=\"Helvetica\" font-size=\"12px\" text-anchor=\"middle\">m</text></switch></g><path d=\"M 80 114 L 228.03 114\" fill=\"none\" stroke=\"#000000\" stroke-width=\"4\" stroke-miterlimit=\"10\" pointer-events=\"stroke\"/><path d=\"M 235.53 114 L 225.53 119 L 228.03 114 L 225.53 109 Z\" fill=\"#000000\" stroke=\"#000000\" stroke-width=\"4\" stroke-miterlimit=\"10\" pointer-events=\"all\"/><g transform=\"translate(-0.5 -0.5)\"><switch><foreignObject style=\"overflow: visible; text-align: left;\" pointer-events=\"none\" width=\"100%\" height=\"100%\" requiredFeatures=\"http://www.w3.org/TR/SVG11/feature#Extensibility\"><div xmlns=\"http://www.w3.org/1999/xhtml\" style=\"display: flex; align-items: unsafe center; justify-content: unsafe center; width: 1px; height: 1px; padding-top: 95px; margin-left: 181px;\"><div style=\"box-sizing: border-box; font-size: 0; text-align: center; \"><div style=\"display: inline-block; font-size: 11px; font-family: Helvetica; color: #000000; line-height: 1.2; pointer-events: all; background-color: #ffffff; white-space: nowrap; \"><font style=\"font-size: 24px\"><i>F</i></font></div></div></div></foreignObject><text x=\"181\" y=\"98\" fill=\"#000000\" font-family=\"Helvetica\" font-size=\"11px\" text-anchor=\"middle\">F</text></switch></g><path d=\"M 41 49.5 L 41 38.5 L 79 38.5 L 79 27.5 L 99 44 L 79 60.5 L 79 49.5 Z\" fill=\"none\" stroke=\"#000000\" stroke-width=\"2\" stroke-linejoin=\"round\" stroke-miterlimit=\"10\" pointer-events=\"all\"/><g transform=\"translate(-0.5 -0.5)\"><switch><foreignObject style=\"overflow: visible; text-align: left;\" pointer-events=\"none\" width=\"100%\" height=\"100%\" requiredFeatures=\"http://www.w3.org/TR/SVG11/feature#Extensibility\"><div xmlns=\"http://www.w3.org/1999/xhtml\" style=\"display: flex; align-items: unsafe center; justify-content: unsafe center; width: 1px; height: 1px; padding-top: 14px; margin-left: 66px;\"><div style=\"box-sizing: border-box; font-size: 0; text-align: center; \"><div style=\"display: inline-block; font-size: 11px; font-family: Helvetica; color: #000000; line-height: 1.2; pointer-events: all; background-color: #ffffff; white-space: nowrap; \"><font face=\"Georgia\" size=\"1\"><i style=\"font-size: 24px\">a</i></font></div></div></div></foreignObject><text x=\"66\" y=\"17\" fill=\"#000000\" font-family=\"Helvetica\" font-size=\"11px\" text-anchor=\"middle\">a</text></switch></g></g><switch><g requiredFeatures=\"http://www.w3.org/TR/SVG11/feature#Extensibility\"/><a transform=\"translate(0,-5)\" xlink:href=\"https://desk.draw.io/support/solutions/articles/16000042487\" target=\"_blank\"><text text-anchor=\"middle\" font-size=\"10px\" x=\"50%\" y=\"100%\">Viewer does not support full SVG 1.1</text></a></switch></svg>"
      ],
      "execution_count": null,
      "outputs": [
        {
          "output_type": "display_data",
          "data": {
            "text/plain": [
              "<IPython.core.display.SVG object>"
            ],
            "image/svg+xml": "<svg content=\"&lt;mxfile host=&quot;app.diagrams.net&quot; modified=&quot;2020-11-04T07:25:25.479Z&quot; agent=&quot;5.0 (Macintosh; Intel Mac OS X 10_10_5) AppleWebKit/537.36 (KHTML, like Gecko) Chrome/86.0.4240.111 Safari/537.36&quot; etag=&quot;3-DV9jh1ncpjuPVYEFnM&quot; version=&quot;13.8.9-1&quot; type=&quot;google&quot;&gt;&lt;diagram id=&quot;ACvm0koPy5jdzCeJ2HON&quot; name=&quot;Page-1&quot;&gt;tVbbbqMwEP0aHlOBgaR5TNKbqu5qpajaZxcbsNZg1jgJ2a/fAWzA5NK0aZ+wj8fj8ZkzYxx/lVWPEhfpD0Eod5BLKse/cxDyvGAOnxrZt8jc9VogkYxoox5Ys39Ug65GN4zQ0jJUQnDFChuMRJ7TSFkYllLsbLNYcPvUAif0AFhHmB+ivxlRaYsGnt/jT5QlqT4ZzfWGDBtbfZEyxUTsBpB/7/grKYRqR1m1orzmztDS7ns4sdrFJWmuLtkw28rq9emnJ2JFZth9Dl8n+UR72WK+0fd10JSDv2UswC1ErfaaienfjTALk7LJ0wIMUFBU/WLNMI7sDY9UyIThodE00d/mKGaAzCBwCza2AqyNycDICg/BbUETMFnuUqboumjj2IEsAUtVxmHmwRCXRSuUmFWUdK6GTBpaqFS0GkCaWbhRRpXcg4levdVJ3hvZ6/mul4wxSQdqMRjWIk06x30iYaBz+YG8oiN5HfOVk0VdHzCLOC5LFtk0lUqKP53mg3M8UWLV0CFLAxrCIzQYTFKOFdvalXeMG33CL8EakZoUTUdZCEf0lmIjI6p3DUtl5MhH7zhSWCZUHThqUtVd+/PZ87+8Kk8U3MNVBQdZf8Fv0O/t8uIsyWtRgUqoBKCuIgYNdaEXMkZI7WMpKQSM3xp/LsyLms+G4XDphHdHFXdW7eNy7V4FfYjVeY+VsXszn6LQyr1pkVdqcxLObLdjFyKOS/otagreU9MlHdstzctsMO+svj4rUXyNIuGJLephzGmle9vyY20OXdXmTK7dGy9Acyvf/uGD8J2dcNTAxu/MpY3Quz3v50Qf7P1co26Y9n9HrXn/i+nf/wc=&lt;/diagram&gt;&lt;/mxfile&gt;\" onclick=\"(function(svg){var src=window.event.target||window.event.srcElement;while (src!=null&amp;&amp;src.nodeName.toLowerCase()!='a'){src=src.parentNode;}if(src==null){if(svg.wnd!=null&amp;&amp;!svg.wnd.closed){svg.wnd.focus();}else{var r=function(evt){if(evt.data=='ready'&amp;&amp;evt.source==svg.wnd){svg.wnd.postMessage(decodeURIComponent(svg.getAttribute('content')),'*');window.removeEventListener('message',r);}};window.addEventListener('message',r);svg.wnd=window.open('https://viewer.diagrams.net/?client=1&amp;page=0&amp;edit=_blank');}}})(this);\" style=\"cursor:pointer;max-width:100%;max-height:155px;\" version=\"1.1\" viewBox=\"-0.5 -0.5 251 155\" width=\"251px\" xmlns=\"http://www.w3.org/2000/svg\" xmlns:xlink=\"http://www.w3.org/1999/xlink\"><defs/><g><ellipse cx=\"40\" cy=\"114\" fill=\"#ffffff\" pointer-events=\"all\" rx=\"40\" ry=\"40\" stroke=\"#000000\"/><g transform=\"translate(-0.5 -0.5)\"><switch><foreignObject height=\"100%\" pointer-events=\"none\" requiredFeatures=\"http://www.w3.org/TR/SVG11/feature#Extensibility\" style=\"overflow: visible; text-align: left;\" width=\"100%\"><div style=\"display: flex; align-items: unsafe center; justify-content: unsafe center; width: 78px; height: 1px; padding-top: 114px; margin-left: 1px;\" xmlns=\"http://www.w3.org/1999/xhtml\"><div style=\"box-sizing: border-box; font-size: 0; text-align: center; \"><div style=\"display: inline-block; font-size: 12px; font-family: Helvetica; color: #000000; line-height: 1.2; pointer-events: all; white-space: normal; word-wrap: normal; \"><font face=\"Georgia\" style=\"font-size: 24px\"><i>m</i></font></div></div></div></foreignObject><text fill=\"#000000\" font-family=\"Helvetica\" font-size=\"12px\" text-anchor=\"middle\" x=\"40\" y=\"118\">m</text></switch></g><path d=\"M 80 114 L 228.03 114\" fill=\"none\" pointer-events=\"stroke\" stroke=\"#000000\" stroke-miterlimit=\"10\" stroke-width=\"4\"/><path d=\"M 235.53 114 L 225.53 119 L 228.03 114 L 225.53 109 Z\" fill=\"#000000\" pointer-events=\"all\" stroke=\"#000000\" stroke-miterlimit=\"10\" stroke-width=\"4\"/><g transform=\"translate(-0.5 -0.5)\"><switch><foreignObject height=\"100%\" pointer-events=\"none\" requiredFeatures=\"http://www.w3.org/TR/SVG11/feature#Extensibility\" style=\"overflow: visible; text-align: left;\" width=\"100%\"><div style=\"display: flex; align-items: unsafe center; justify-content: unsafe center; width: 1px; height: 1px; padding-top: 95px; margin-left: 181px;\" xmlns=\"http://www.w3.org/1999/xhtml\"><div style=\"box-sizing: border-box; font-size: 0; text-align: center; \"><div style=\"display: inline-block; font-size: 11px; font-family: Helvetica; color: #000000; line-height: 1.2; pointer-events: all; background-color: #ffffff; white-space: nowrap; \"><font style=\"font-size: 24px\"><i>F</i></font></div></div></div></foreignObject><text fill=\"#000000\" font-family=\"Helvetica\" font-size=\"11px\" text-anchor=\"middle\" x=\"181\" y=\"98\">F</text></switch></g><path d=\"M 41 49.5 L 41 38.5 L 79 38.5 L 79 27.5 L 99 44 L 79 60.5 L 79 49.5 Z\" fill=\"none\" pointer-events=\"all\" stroke=\"#000000\" stroke-linejoin=\"round\" stroke-miterlimit=\"10\" stroke-width=\"2\"/><g transform=\"translate(-0.5 -0.5)\"><switch><foreignObject height=\"100%\" pointer-events=\"none\" requiredFeatures=\"http://www.w3.org/TR/SVG11/feature#Extensibility\" style=\"overflow: visible; text-align: left;\" width=\"100%\"><div style=\"display: flex; align-items: unsafe center; justify-content: unsafe center; width: 1px; height: 1px; padding-top: 14px; margin-left: 66px;\" xmlns=\"http://www.w3.org/1999/xhtml\"><div style=\"box-sizing: border-box; font-size: 0; text-align: center; \"><div style=\"display: inline-block; font-size: 11px; font-family: Helvetica; color: #000000; line-height: 1.2; pointer-events: all; background-color: #ffffff; white-space: nowrap; \"><font face=\"Georgia\" size=\"1\"><i style=\"font-size: 24px\">a</i></font></div></div></div></foreignObject><text fill=\"#000000\" font-family=\"Helvetica\" font-size=\"11px\" text-anchor=\"middle\" x=\"66\" y=\"17\">a</text></switch></g></g><switch><g requiredFeatures=\"http://www.w3.org/TR/SVG11/feature#Extensibility\"/><a target=\"_blank\" transform=\"translate(0,-5)\" xlink:href=\"https://desk.draw.io/support/solutions/articles/16000042487\"><text font-size=\"10px\" text-anchor=\"middle\" x=\"50%\" y=\"100%\">Viewer does not support full SVG 1.1</text></a></switch></svg>"
          },
          "metadata": {
            "tags": []
          }
        }
      ]
    },
    {
      "cell_type": "markdown",
      "metadata": {
        "id": "z7sSjuBtJjS4"
      },
      "source": [
        "## action & reactio"
      ]
    },
    {
      "cell_type": "markdown",
      "metadata": {
        "id": "aMASBdIGJ121"
      },
      "source": [
        "![](https://upload.wikimedia.org/wikipedia/commons/5/5d/Animacionfinal.gif)\n",
        "![](https://upload.wikimedia.org/wikipedia/commons/b/b9/Tierra-luna.jpg)\n",
        "\n",
        "![](https://upload.wikimedia.org/wikipedia/commons/3/36/Bolas.gif)"
      ]
    },
    {
      "cell_type": "markdown",
      "metadata": {
        "id": "RXidpR0qJ4W8"
      },
      "source": [
        "# 重力"
      ]
    },
    {
      "cell_type": "markdown",
      "metadata": {
        "id": "NcVhVwUyKJof"
      },
      "source": [
        "\\begin{cases}\n",
        "W &= m \\cdot g\\\\\n",
        "g &\\approx 9.8 {\\rm \\ m/s^2}\n",
        "\\end{cases}"
      ]
    },
    {
      "cell_type": "code",
      "metadata": {
        "id": "JShEFPJsJ6XN",
        "cellView": "form",
        "outputId": "077611bf-55e0-40ba-c477-65e116427ba1",
        "colab": {
          "base_uri": "https://localhost:8080/",
          "height": 303
        }
      },
      "source": [
        "#@title 重力と重力加速度\n",
        "%%svg\n",
        "<svg xmlns=\"http://www.w3.org/2000/svg\" xmlns:xlink=\"http://www.w3.org/1999/xlink\" version=\"1.1\" width=\"361px\" viewBox=\"-0.5 -0.5 361 282\" content=\"&lt;mxfile host=&quot;app.diagrams.net&quot; modified=&quot;2020-11-04T07:28:24.961Z&quot; agent=&quot;5.0 (Macintosh; Intel Mac OS X 10_10_5) AppleWebKit/537.36 (KHTML, like Gecko) Chrome/86.0.4240.111 Safari/537.36&quot; etag=&quot;IWNezwGzlkheW4URTmgc&quot; version=&quot;13.8.9-1&quot; type=&quot;google&quot;&gt;&lt;diagram id=&quot;sruAzQXe5IwjWPm5Hnxh&quot; name=&quot;Page-1&quot;&gt;1Vjfk5sgEP5reMwNiib6eCa560M7vZnrTB87VIkyh5Ii+dW/vhghiia9JOZmLk+RZVmW3W+/hQA0zbfPAi+zbzwhDLgw2QI0A67rOF6ofirJrpaE0KkFqaCJVmoEr/Qv0UKopSuakNJSlJwzSZe2MOZFQWJpybAQfGOrLTizd13ilPQErzFmfelPmsislgbupJF/ITTNzM7OWB84x0ZZn6TMcMI3LRGaAzQVnMv6K99OCauCZ+JSr3s6MXtwTJBCnrPgib25O//lGc/8H0ke54/er+8jt7ayxmylD6ydlTsTAVIkj1Ug1ajghRJGmcyZGjnqkyQqWlqXC5nxlBeYzRtpFK/EmiRave+zPkZlpyXQJ3gmPCdS7JTCpgm+rwOateJuZIIwLOnaTh7WGEgP5g47vHCqPHGhwetY29Fo9SC0TZR8JWKiV7WD3THku+8YklikRPYMqUjjXUttWSmU5zuMAniRXx199VF7YEatHDSiPbAuAJl3BGRjpjIXLfjeuQZt4z8rbiZG5Z4NHpWCEyy3zWRVxzi2Fyg3RUpxW2mc7n/nPginIIJgPgEhBAFSZyBYYdU4oca1H3pBrwAUNr/i34rYLOhjRtNCfccKy0QowZoISRVzPOqJnCbJvgQEUSfBv/f2oBrrpCrjfgT82dG6+G+1qo3I1oK4pj+9icUwVhnptI/QbcqlgyZnYlvgi0VJZAdgN4EUGgwp17seUnoragR5C0q0q/UuvBhTzazCySajkrwuaz82qp92AFcu6w63oNuKUU+zaQ8gfSDoWdTNoOGTFt96R/jWg6exYuX60sSOP1Vi0yGJVQ1/WX0uGNnqDhq1mmnMcFnS2M7x9Q1SJ3TkWPl0++n8wPZ5uLWZ7oKubJ89Q5Pz2mdj6OMpaHLR1elotksp+NvhXonu4IKEPDsx7rUXpK4h5JyX4VtlLxh+Jwlv2EAGEc3nuaCYmrj+gqJXwQcYwtBCiGG2oQjurPg4gggvIgj9tkpwmR2eSyep4h7eUt0K97p3hnuhCrPdEK5wB7xfQhCEIIz275cIRB6YeyAKQFA/bSAIHTBHIHBAMLs/xjBFMpgxRvDBR4FvIWUgYwyhCDVs/tqp1Zs/yND8Hw==&lt;/diagram&gt;&lt;/mxfile&gt;\" onclick=\"(function(svg){var src=window.event.target||window.event.srcElement;while (src!=null&amp;&amp;src.nodeName.toLowerCase()!='a'){src=src.parentNode;}if(src==null){if(svg.wnd!=null&amp;&amp;!svg.wnd.closed){svg.wnd.focus();}else{var r=function(evt){if(evt.data=='ready'&amp;&amp;evt.source==svg.wnd){svg.wnd.postMessage(decodeURIComponent(svg.getAttribute('content')),'*');window.removeEventListener('message',r);}};window.addEventListener('message',r);svg.wnd=window.open('https://viewer.diagrams.net/?client=1&amp;page=0&amp;edit=_blank');}}})(this);\" style=\"cursor:pointer;max-width:100%;max-height:282px;\"><defs/><g><path d=\"M 0 240 Q 0 220 180 220 Q 360 220 360 240\" fill=\"none\" stroke=\"#000000\" stroke-miterlimit=\"10\" pointer-events=\"stroke\"/><g transform=\"translate(-0.5 -0.5)\"><switch><foreignObject style=\"overflow: visible; text-align: left;\" pointer-events=\"none\" width=\"100%\" height=\"100%\" requiredFeatures=\"http://www.w3.org/TR/SVG11/feature#Extensibility\"><div xmlns=\"http://www.w3.org/1999/xhtml\" style=\"display: flex; align-items: unsafe center; justify-content: unsafe center; width: 1px; height: 1px; padding-top: 241px; margin-left: 301px;\"><div style=\"box-sizing: border-box; font-size: 0; text-align: center; \"><div style=\"display: inline-block; font-size: 11px; font-family: Helvetica; color: #000000; line-height: 1.2; pointer-events: all; background-color: #ffffff; white-space: nowrap; \"><font style=\"font-size: 18px\" face=\"Georgia\">地球/earth</font></div></div></div></foreignObject><text x=\"301\" y=\"244\" fill=\"#000000\" font-family=\"Helvetica\" font-size=\"11px\" text-anchor=\"middle\">地球/earth</text></switch></g><ellipse cx=\"180\" cy=\"20\" rx=\"20\" ry=\"20\" fill=\"#ffffff\" stroke=\"#000000\" pointer-events=\"all\"/><g transform=\"translate(-0.5 -0.5)\"><switch><foreignObject style=\"overflow: visible; text-align: left;\" pointer-events=\"none\" width=\"100%\" height=\"100%\" requiredFeatures=\"http://www.w3.org/TR/SVG11/feature#Extensibility\"><div xmlns=\"http://www.w3.org/1999/xhtml\" style=\"display: flex; align-items: unsafe center; justify-content: unsafe center; width: 38px; height: 1px; padding-top: 20px; margin-left: 161px;\"><div style=\"box-sizing: border-box; font-size: 0; text-align: center; \"><div style=\"display: inline-block; font-size: 12px; font-family: Helvetica; color: #000000; line-height: 1.2; pointer-events: all; white-space: normal; word-wrap: normal; \"><font style=\"font-size: 24px\" face=\"Georgia\"><i>m</i></font></div></div></div></foreignObject><text x=\"180\" y=\"24\" fill=\"#000000\" font-family=\"Helvetica\" font-size=\"12px\" text-anchor=\"middle\">m</text></switch></g><path d=\"M 45 170.5 L 55 170.5 L 55 190.5 L 65.5 190.5 L 50 209.5 L 34.5 190.5 L 45 190.5 Z\" fill=\"none\" stroke=\"#000000\" stroke-linejoin=\"round\" stroke-miterlimit=\"10\" pointer-events=\"all\"/><g transform=\"translate(-0.5 -0.5)\"><switch><foreignObject style=\"overflow: visible; text-align: left;\" pointer-events=\"none\" width=\"100%\" height=\"100%\" requiredFeatures=\"http://www.w3.org/TR/SVG11/feature#Extensibility\"><div xmlns=\"http://www.w3.org/1999/xhtml\" style=\"display: flex; align-items: unsafe center; justify-content: unsafe center; width: 1px; height: 1px; padding-top: 170px; margin-left: 70px;\"><div style=\"box-sizing: border-box; font-size: 0; text-align: center; \"><div style=\"display: inline-block; font-size: 11px; font-family: Helvetica; color: #000000; line-height: 1.2; pointer-events: all; background-color: #ffffff; white-space: nowrap; \"><font style=\"font-size: 24px\" face=\"Georgia\"><i>g</i></font></div></div></div></foreignObject><text x=\"70\" y=\"173\" fill=\"#000000\" font-family=\"Helvetica\" font-size=\"11px\" text-anchor=\"middle\">g</text></switch></g><path d=\"M 180 40 L 180 139.9\" fill=\"none\" stroke=\"#000000\" stroke-width=\"3\" stroke-miterlimit=\"10\" pointer-events=\"stroke\"/><path d=\"M 180 146.65 L 175.5 137.65 L 180 139.9 L 184.5 137.65 Z\" fill=\"#000000\" stroke=\"#000000\" stroke-width=\"3\" stroke-miterlimit=\"10\" pointer-events=\"all\"/><g transform=\"translate(-0.5 -0.5)\"><switch><foreignObject style=\"overflow: visible; text-align: left;\" pointer-events=\"none\" width=\"100%\" height=\"100%\" requiredFeatures=\"http://www.w3.org/TR/SVG11/feature#Extensibility\"><div xmlns=\"http://www.w3.org/1999/xhtml\" style=\"display: flex; align-items: unsafe center; justify-content: unsafe center; width: 1px; height: 1px; padding-top: 101px; margin-left: 211px;\"><div style=\"box-sizing: border-box; font-size: 0; text-align: center; \"><div style=\"display: inline-block; font-size: 11px; font-family: Helvetica; color: #000000; line-height: 1.2; pointer-events: all; background-color: #ffffff; white-space: nowrap; \"><font style=\"font-size: 19px\" face=\"Georgia\"><i>mg</i></font></div></div></div></foreignObject><text x=\"211\" y=\"104\" fill=\"#000000\" font-family=\"Helvetica\" font-size=\"11px\" text-anchor=\"middle\">mg</text></switch></g><path d=\"M 180 280 L 180 150\" fill=\"none\" stroke=\"#000000\" stroke-miterlimit=\"10\" stroke-dasharray=\"3 3\" pointer-events=\"stroke\"/><g transform=\"translate(-0.5 -0.5)\"><switch><foreignObject style=\"overflow: visible; text-align: left;\" pointer-events=\"none\" width=\"100%\" height=\"100%\" requiredFeatures=\"http://www.w3.org/TR/SVG11/feature#Extensibility\"><div xmlns=\"http://www.w3.org/1999/xhtml\" style=\"display: flex; align-items: unsafe center; justify-content: unsafe center; width: 1px; height: 1px; padding-top: 251px; margin-left: 180px;\"><div style=\"box-sizing: border-box; font-size: 0; text-align: center; \"><div style=\"display: inline-block; font-size: 11px; font-family: Helvetica; color: #000000; line-height: 1.2; pointer-events: all; background-color: #ffffff; white-space: nowrap; \"><font style=\"font-size: 12px\" face=\"Georgia\">鉛直下向き</font></div></div></div></foreignObject><text x=\"180\" y=\"254\" fill=\"#000000\" font-family=\"Helvetica\" font-size=\"11px\" text-anchor=\"middle\">鉛直下向き</text></switch></g></g><switch><g requiredFeatures=\"http://www.w3.org/TR/SVG11/feature#Extensibility\"/><a transform=\"translate(0,-5)\" xlink:href=\"https://desk.draw.io/support/solutions/articles/16000042487\" target=\"_blank\"><text text-anchor=\"middle\" font-size=\"10px\" x=\"50%\" y=\"100%\">Viewer does not support full SVG 1.1</text></a></switch></svg>"
      ],
      "execution_count": null,
      "outputs": [
        {
          "output_type": "display_data",
          "data": {
            "text/plain": [
              "<IPython.core.display.SVG object>"
            ],
            "image/svg+xml": "<svg content=\"&lt;mxfile host=&quot;app.diagrams.net&quot; modified=&quot;2020-11-04T07:28:24.961Z&quot; agent=&quot;5.0 (Macintosh; Intel Mac OS X 10_10_5) AppleWebKit/537.36 (KHTML, like Gecko) Chrome/86.0.4240.111 Safari/537.36&quot; etag=&quot;IWNezwGzlkheW4URTmgc&quot; version=&quot;13.8.9-1&quot; type=&quot;google&quot;&gt;&lt;diagram id=&quot;sruAzQXe5IwjWPm5Hnxh&quot; name=&quot;Page-1&quot;&gt;1Vjfk5sgEP5reMwNiib6eCa560M7vZnrTB87VIkyh5Ii+dW/vhghiia9JOZmLk+RZVmW3W+/hQA0zbfPAi+zbzwhDLgw2QI0A67rOF6ofirJrpaE0KkFqaCJVmoEr/Qv0UKopSuakNJSlJwzSZe2MOZFQWJpybAQfGOrLTizd13ilPQErzFmfelPmsislgbupJF/ITTNzM7OWB84x0ZZn6TMcMI3LRGaAzQVnMv6K99OCauCZ+JSr3s6MXtwTJBCnrPgib25O//lGc/8H0ke54/er+8jt7ayxmylD6ydlTsTAVIkj1Ug1ajghRJGmcyZGjnqkyQqWlqXC5nxlBeYzRtpFK/EmiRave+zPkZlpyXQJ3gmPCdS7JTCpgm+rwOateJuZIIwLOnaTh7WGEgP5g47vHCqPHGhwetY29Fo9SC0TZR8JWKiV7WD3THku+8YklikRPYMqUjjXUttWSmU5zuMAniRXx199VF7YEatHDSiPbAuAJl3BGRjpjIXLfjeuQZt4z8rbiZG5Z4NHpWCEyy3zWRVxzi2Fyg3RUpxW2mc7n/nPginIIJgPgEhBAFSZyBYYdU4oca1H3pBrwAUNr/i34rYLOhjRtNCfccKy0QowZoISRVzPOqJnCbJvgQEUSfBv/f2oBrrpCrjfgT82dG6+G+1qo3I1oK4pj+9icUwVhnptI/QbcqlgyZnYlvgi0VJZAdgN4EUGgwp17seUnoragR5C0q0q/UuvBhTzazCySajkrwuaz82qp92AFcu6w63oNuKUU+zaQ8gfSDoWdTNoOGTFt96R/jWg6exYuX60sSOP1Vi0yGJVQ1/WX0uGNnqDhq1mmnMcFnS2M7x9Q1SJ3TkWPl0++n8wPZ5uLWZ7oKubJ89Q5Pz2mdj6OMpaHLR1elotksp+NvhXonu4IKEPDsx7rUXpK4h5JyX4VtlLxh+Jwlv2EAGEc3nuaCYmrj+gqJXwQcYwtBCiGG2oQjurPg4gggvIgj9tkpwmR2eSyep4h7eUt0K97p3hnuhCrPdEK5wB7xfQhCEIIz275cIRB6YeyAKQFA/bSAIHTBHIHBAMLs/xjBFMpgxRvDBR4FvIWUgYwyhCDVs/tqp1Zs/yND8Hw==&lt;/diagram&gt;&lt;/mxfile&gt;\" onclick=\"(function(svg){var src=window.event.target||window.event.srcElement;while (src!=null&amp;&amp;src.nodeName.toLowerCase()!='a'){src=src.parentNode;}if(src==null){if(svg.wnd!=null&amp;&amp;!svg.wnd.closed){svg.wnd.focus();}else{var r=function(evt){if(evt.data=='ready'&amp;&amp;evt.source==svg.wnd){svg.wnd.postMessage(decodeURIComponent(svg.getAttribute('content')),'*');window.removeEventListener('message',r);}};window.addEventListener('message',r);svg.wnd=window.open('https://viewer.diagrams.net/?client=1&amp;page=0&amp;edit=_blank');}}})(this);\" style=\"cursor:pointer;max-width:100%;max-height:282px;\" version=\"1.1\" viewBox=\"-0.5 -0.5 361 282\" width=\"361px\" xmlns=\"http://www.w3.org/2000/svg\" xmlns:xlink=\"http://www.w3.org/1999/xlink\"><defs/><g><path d=\"M 0 240 Q 0 220 180 220 Q 360 220 360 240\" fill=\"none\" pointer-events=\"stroke\" stroke=\"#000000\" stroke-miterlimit=\"10\"/><g transform=\"translate(-0.5 -0.5)\"><switch><foreignObject height=\"100%\" pointer-events=\"none\" requiredFeatures=\"http://www.w3.org/TR/SVG11/feature#Extensibility\" style=\"overflow: visible; text-align: left;\" width=\"100%\"><div style=\"display: flex; align-items: unsafe center; justify-content: unsafe center; width: 1px; height: 1px; padding-top: 241px; margin-left: 301px;\" xmlns=\"http://www.w3.org/1999/xhtml\"><div style=\"box-sizing: border-box; font-size: 0; text-align: center; \"><div style=\"display: inline-block; font-size: 11px; font-family: Helvetica; color: #000000; line-height: 1.2; pointer-events: all; background-color: #ffffff; white-space: nowrap; \"><font face=\"Georgia\" style=\"font-size: 18px\">地球/earth</font></div></div></div></foreignObject><text fill=\"#000000\" font-family=\"Helvetica\" font-size=\"11px\" text-anchor=\"middle\" x=\"301\" y=\"244\">地球/earth</text></switch></g><ellipse cx=\"180\" cy=\"20\" fill=\"#ffffff\" pointer-events=\"all\" rx=\"20\" ry=\"20\" stroke=\"#000000\"/><g transform=\"translate(-0.5 -0.5)\"><switch><foreignObject height=\"100%\" pointer-events=\"none\" requiredFeatures=\"http://www.w3.org/TR/SVG11/feature#Extensibility\" style=\"overflow: visible; text-align: left;\" width=\"100%\"><div style=\"display: flex; align-items: unsafe center; justify-content: unsafe center; width: 38px; height: 1px; padding-top: 20px; margin-left: 161px;\" xmlns=\"http://www.w3.org/1999/xhtml\"><div style=\"box-sizing: border-box; font-size: 0; text-align: center; \"><div style=\"display: inline-block; font-size: 12px; font-family: Helvetica; color: #000000; line-height: 1.2; pointer-events: all; white-space: normal; word-wrap: normal; \"><font face=\"Georgia\" style=\"font-size: 24px\"><i>m</i></font></div></div></div></foreignObject><text fill=\"#000000\" font-family=\"Helvetica\" font-size=\"12px\" text-anchor=\"middle\" x=\"180\" y=\"24\">m</text></switch></g><path d=\"M 45 170.5 L 55 170.5 L 55 190.5 L 65.5 190.5 L 50 209.5 L 34.5 190.5 L 45 190.5 Z\" fill=\"none\" pointer-events=\"all\" stroke=\"#000000\" stroke-linejoin=\"round\" stroke-miterlimit=\"10\"/><g transform=\"translate(-0.5 -0.5)\"><switch><foreignObject height=\"100%\" pointer-events=\"none\" requiredFeatures=\"http://www.w3.org/TR/SVG11/feature#Extensibility\" style=\"overflow: visible; text-align: left;\" width=\"100%\"><div style=\"display: flex; align-items: unsafe center; justify-content: unsafe center; width: 1px; height: 1px; padding-top: 170px; margin-left: 70px;\" xmlns=\"http://www.w3.org/1999/xhtml\"><div style=\"box-sizing: border-box; font-size: 0; text-align: center; \"><div style=\"display: inline-block; font-size: 11px; font-family: Helvetica; color: #000000; line-height: 1.2; pointer-events: all; background-color: #ffffff; white-space: nowrap; \"><font face=\"Georgia\" style=\"font-size: 24px\"><i>g</i></font></div></div></div></foreignObject><text fill=\"#000000\" font-family=\"Helvetica\" font-size=\"11px\" text-anchor=\"middle\" x=\"70\" y=\"173\">g</text></switch></g><path d=\"M 180 40 L 180 139.9\" fill=\"none\" pointer-events=\"stroke\" stroke=\"#000000\" stroke-miterlimit=\"10\" stroke-width=\"3\"/><path d=\"M 180 146.65 L 175.5 137.65 L 180 139.9 L 184.5 137.65 Z\" fill=\"#000000\" pointer-events=\"all\" stroke=\"#000000\" stroke-miterlimit=\"10\" stroke-width=\"3\"/><g transform=\"translate(-0.5 -0.5)\"><switch><foreignObject height=\"100%\" pointer-events=\"none\" requiredFeatures=\"http://www.w3.org/TR/SVG11/feature#Extensibility\" style=\"overflow: visible; text-align: left;\" width=\"100%\"><div style=\"display: flex; align-items: unsafe center; justify-content: unsafe center; width: 1px; height: 1px; padding-top: 101px; margin-left: 211px;\" xmlns=\"http://www.w3.org/1999/xhtml\"><div style=\"box-sizing: border-box; font-size: 0; text-align: center; \"><div style=\"display: inline-block; font-size: 11px; font-family: Helvetica; color: #000000; line-height: 1.2; pointer-events: all; background-color: #ffffff; white-space: nowrap; \"><font face=\"Georgia\" style=\"font-size: 19px\"><i>mg</i></font></div></div></div></foreignObject><text fill=\"#000000\" font-family=\"Helvetica\" font-size=\"11px\" text-anchor=\"middle\" x=\"211\" y=\"104\">mg</text></switch></g><path d=\"M 180 280 L 180 150\" fill=\"none\" pointer-events=\"stroke\" stroke=\"#000000\" stroke-dasharray=\"3 3\" stroke-miterlimit=\"10\"/><g transform=\"translate(-0.5 -0.5)\"><switch><foreignObject height=\"100%\" pointer-events=\"none\" requiredFeatures=\"http://www.w3.org/TR/SVG11/feature#Extensibility\" style=\"overflow: visible; text-align: left;\" width=\"100%\"><div style=\"display: flex; align-items: unsafe center; justify-content: unsafe center; width: 1px; height: 1px; padding-top: 251px; margin-left: 180px;\" xmlns=\"http://www.w3.org/1999/xhtml\"><div style=\"box-sizing: border-box; font-size: 0; text-align: center; \"><div style=\"display: inline-block; font-size: 11px; font-family: Helvetica; color: #000000; line-height: 1.2; pointer-events: all; background-color: #ffffff; white-space: nowrap; \"><font face=\"Georgia\" style=\"font-size: 12px\">鉛直下向き</font></div></div></div></foreignObject><text fill=\"#000000\" font-family=\"Helvetica\" font-size=\"11px\" text-anchor=\"middle\" x=\"180\" y=\"254\">鉛直下向き</text></switch></g></g><switch><g requiredFeatures=\"http://www.w3.org/TR/SVG11/feature#Extensibility\"/><a target=\"_blank\" transform=\"translate(0,-5)\" xlink:href=\"https://desk.draw.io/support/solutions/articles/16000042487\"><text font-size=\"10px\" text-anchor=\"middle\" x=\"50%\" y=\"100%\">Viewer does not support full SVG 1.1</text></a></switch></svg>"
          },
          "metadata": {
            "tags": []
          }
        }
      ]
    }
  ]
}