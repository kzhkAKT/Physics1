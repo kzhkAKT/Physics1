{
  "nbformat": 4,
  "nbformat_minor": 0,
  "metadata": {
    "colab": {
      "name": "1620_力の表し方とベクトルの性質_物理1",
      "provenance": [],
      "authorship_tag": "ABX9TyO3gyxENsY3ldsrQxSDGJaK",
      "include_colab_link": true
    },
    "kernelspec": {
      "name": "python3",
      "display_name": "Python 3"
    }
  },
  "cells": [
    {
      "cell_type": "markdown",
      "metadata": {
        "id": "view-in-github",
        "colab_type": "text"
      },
      "source": [
        "<a href=\"https://colab.research.google.com/github/kzhkAKT/Physics1/blob/draft/2ndTERM/1620_%E5%8A%9B%E3%81%AE%E8%A1%A8%E3%81%97%E6%96%B9%E3%81%A8%E3%83%99%E3%82%AF%E3%83%88%E3%83%AB%E3%81%AE%E6%80%A7%E8%B3%AA_%E7%89%A9%E7%90%861.ipynb\" target=\"_parent\"><img src=\"https://colab.research.google.com/assets/colab-badge.svg\" alt=\"Open In Colab\"/></a>"
      ]
    },
    {
      "cell_type": "markdown",
      "metadata": {
        "id": "PZo0KOeN0Jk3"
      },
      "source": [
        "# 平面空間での運動"
      ]
    },
    {
      "cell_type": "markdown",
      "metadata": {
        "id": "AdfsWhXgF1NM"
      },
      "source": [
        "## 力の表し方とベクトルの性質"
      ]
    },
    {
      "cell_type": "markdown",
      "metadata": {
        "id": "kkjJym8tF4VF"
      },
      "source": [
        "### 力の表し方"
      ]
    },
    {
      "cell_type": "markdown",
      "metadata": {
        "id": "WqEHSSeI5wLV"
      },
      "source": [
        "\\begin{align}\n",
        "\\huge m \\vec{a} & \\huge = \\vec{F}\n",
        "\\end{align}\n",
        "\n",
        "ベクトルで表現することで、\n",
        "1. 視覚的に捉えることが容易になります.  \n",
        "2. ベクトルの加法や減法を利用することができます\n",
        "\n",
        "ベクトル表現の運動方程式であっても、  \n",
        "加速度は **瞬間の**加速度であること忘れないください.\n",
        "\n",
        "---\n",
        "ベクトルを  **太字** で書くこともあります\n",
        "\\begin{align}\n",
        "\\large m \\boldsymbol{\\bf{a}} & \\large = \\bf{F}\n",
        "\\end{align}"
      ]
    },
    {
      "cell_type": "markdown",
      "metadata": {
        "id": "Hamy423ebpU3"
      },
      "source": [
        "> Q. ベクトル表示の運動方程式で, スカラー量 と ベクトル量で表現されている物理量をそれぞれ答えてください."
      ]
    },
    {
      "cell_type": "markdown",
      "metadata": {
        "id": "aYqxCY-UF6my"
      },
      "source": [
        "### ベクトルの性質"
      ]
    },
    {
      "cell_type": "markdown",
      "metadata": {
        "id": "hS7Y7dvGHv4B"
      },
      "source": [
        "\\begin{align}\n",
        "\\vec{F} &=\\quad  \\left| \\vec{F} \\right|\\quad  \\cdot \\quad \\dfrac{\\vec{F}}{\\left| \\vec{F} \\right|}\\\\\n",
        "&= \\quad  \\left| \\vec{F} \\right|\\quad  \\cdot \\vec{e}_{F}\n",
        "\\end{align}"
      ]
    },
    {
      "cell_type": "markdown",
      "metadata": {
        "id": "USUZYPa0HfZ1"
      },
      "source": [
        "- 大きさ = $\\quad \\left| \\vec{F} \\right|$\n",
        "- 向き  $\\sim\\quad \\vec{e}_{F}$\n",
        "  - 始点\n",
        "  - 終点\n"
      ]
    },
    {
      "cell_type": "code",
      "metadata": {
        "id": "MdrGUMuuFr6A",
        "outputId": "2b42e4d2-e8e0-46b9-eac8-9bdd07820b20",
        "colab": {
          "base_uri": "https://localhost:8080/",
          "height": 625
        }
      },
      "source": [
        "%%html\n",
        "<iframe src=\"https://phet.colorado.edu/sims/html/vector-addition/latest/vector-addition_en.html\" width=\"800\" height=\"600\" scrolling=\"no\" allowfullscreen></iframe>"
      ],
      "execution_count": 1,
      "outputs": [
        {
          "output_type": "display_data",
          "data": {
            "text/html": [
              "<iframe src=\"https://phet.colorado.edu/sims/html/vector-addition/latest/vector-addition_en.html\" width=\"800\" height=\"600\" scrolling=\"no\" allowfullscreen></iframe>"
            ],
            "text/plain": [
              "<IPython.core.display.HTML object>"
            ]
          },
          "metadata": {
            "tags": []
          }
        }
      ]
    }
  ]
}