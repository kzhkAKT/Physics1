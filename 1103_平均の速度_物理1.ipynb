{
  "nbformat": 4,
  "nbformat_minor": 0,
  "metadata": {
    "colab": {
      "name": "1103_平均の速度_物理1",
      "provenance": [],
      "collapsed_sections": [],
      "toc_visible": true,
      "mount_file_id": "1ko3fj7Et3uUihh--l0FmQ631VQEkUGDP",
      "authorship_tag": "ABX9TyPaPYq151VBVAUJ8eFphiuU",
      "include_colab_link": true
    },
    "kernelspec": {
      "name": "python3",
      "display_name": "Python 3"
    }
  },
  "cells": [
    {
      "cell_type": "markdown",
      "metadata": {
        "id": "view-in-github",
        "colab_type": "text"
      },
      "source": [
        "<a href=\"https://colab.research.google.com/github/kzhkAKT/Physics1/blob/master/1103_%E5%B9%B3%E5%9D%87%E3%81%AE%E9%80%9F%E5%BA%A6_%E7%89%A9%E7%90%861.ipynb\" target=\"_parent\"><img src=\"https://colab.research.google.com/assets/colab-badge.svg\" alt=\"Open In Colab\"/></a>"
      ]
    },
    {
      "cell_type": "markdown",
      "metadata": {
        "id": "f8l6xcPqG_Ej",
        "colab_type": "text"
      },
      "source": [
        "# 運動の表し方\n"
      ]
    },
    {
      "cell_type": "markdown",
      "metadata": {
        "id": "OwabukYzp83g",
        "colab_type": "text"
      },
      "source": [
        "## 平均の速度\n",
        "\n",
        "### 実際の運動\n",
        "1. 下の枠をクリックした後、再生ボタンを押してください.\n",
        "1. これまでと異なり赤い線のように動く物体を考えます.\n",
        "  * 赤い線が **曲線** になっていることに注意してください.\n"
      ]
    },
    {
      "cell_type": "code",
      "metadata": {
        "id": "HctXKapL532t",
        "colab_type": "code",
        "cellView": "form",
        "colab": {}
      },
      "source": [
        "#@title 実際の運動 TEXT p3 図1.3 { vertical-output: true }\n",
        "%matplotlib inline\n",
        "import matplotlib.pyplot as plt\n",
        "plt.style.use('ggplot')\n",
        "import numpy as np\n",
        "\n",
        "(L,T)=(6000,300)\n",
        "plt.figure()\n",
        "t = np.linspace(0, T)\n",
        "plt.xlabel(\"$t$ [s]\")\n",
        "plt.ylabel(\"$x$ [m]\")\n",
        "plt.xlim(0, 450)\n",
        "plt.ylim(0, 7000)\n",
        "a = L/(T**3 +T**2*(-3/2*T)); b = -3/2*T*a\n",
        "plt.plot(t, a*t**3 +b*t**2)\n",
        "\t\n",
        "plt.text(-50/2, 0, 'P', fontsize=24)\n",
        "plt.text(300, 6000, 'Q', fontsize=24)\n",
        "\n",
        "plt.show()"
      ],
      "execution_count": 0,
      "outputs": []
    },
    {
      "cell_type": "markdown",
      "metadata": {
        "id": "qcdO7j4KJVza",
        "colab_type": "text"
      },
      "source": [
        "### 2点を直線で結ぶ~平均の速度\n",
        "\n",
        "1. 上と同じように下の枠をクリックした後、再生ボタンを押してください.\n",
        "2. 破線かつ青色で直線が表示されていることを確認してください.\n",
        "3. 2点 P,Q を利用し, 破線の傾きを計算してください.\n",
        "4. 求めた計算を、速度の定義式(下記参照)と比較してください.\n",
        "$$\n",
        "v = \\frac{\\varDelta x}{\\varDelta t}\n",
        "= \\frac{x_2 - x_1}{t_2 - t_1}\n",
        "$$\n",
        "5. これまでの考察から, 平均の速度を求めるにはどのようなグラフの傾きを読めば良いか簡潔に述べてください."
      ]
    },
    {
      "cell_type": "code",
      "metadata": {
        "colab_type": "code",
        "cellView": "form",
        "id": "0jaPEV9DJPEL",
        "colab": {}
      },
      "source": [
        "#@title 実際の運動と平均の速度 { vertical-output: true }\n",
        "%matplotlib inline\n",
        "import matplotlib.pyplot as plt\n",
        "plt.style.use('ggplot')\n",
        "import numpy as np\n",
        "\n",
        "(L,T)=(6000,300)\n",
        "plt.figure()\n",
        "t = np.linspace(0, T)\n",
        "plt.xlabel(\"$t$ [s]\")\n",
        "plt.ylabel(\"$x$ [m]\")\n",
        "plt.xlim(0, 450)\n",
        "plt.ylim(0, 7000)\n",
        "a = L/(T**3 +T**2*(-3/2*T)); b = -3/2*T*a\n",
        "plt.plot(t, a*t**3 +b*t**2)\n",
        "plt.plot(t, L/T*t, linestyle = \"dashed\", color='blue')\n",
        "\t\n",
        "plt.text(-50/2, 0, 'P', fontsize=24)\n",
        "plt.text(300, 6000, 'Q', fontsize=24)\n",
        "\n",
        "plt.show()"
      ],
      "execution_count": 0,
      "outputs": []
    },
    {
      "cell_type": "markdown",
      "metadata": {
        "id": "ndaEKunJLQCV",
        "colab_type": "text"
      },
      "source": [
        "### 一般化された平均の速度\n",
        "\n",
        "<img src=\"data:image/png;base64,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\" style=\"cursor:pointer;max-width:100%;\" onclick=\"(function(img){if(img.wnd!=null&&!img.wnd.closed){img.wnd.focus();}else{var r=function(evt){if(evt.data=='ready'&&evt.source==img.wnd){img.wnd.postMessage(decodeURIComponent(img.getAttribute('src')),'*');window.removeEventListener('message',r);}};window.addEventListener('message',r);img.wnd=window.open('https://app.diagrams.net/?client=1&lightbox=1&edit=_blank');}})(this);\"/>\n",
        "\n"
      ]
    },
    {
      "cell_type": "markdown",
      "metadata": {
        "id": "ETOovVTOcWLM",
        "colab_type": "text"
      },
      "source": [
        "#### 平均の速度の定義\n",
        "1. 始め時間 $t_1$ に置ける位置を $x_1$, 後の時間 $t_2$ に置ける位置を $x_2$ とすると, 一般的な平均速度 $\\bar{v}$ は次のように定義される.\n",
        "\n",
        "$$\n",
        "(1.2)' \\qquad \\bar{v} = \\frac{x_2 - x_1}{t_2 - t_1}\n",
        "$$\n",
        "\n",
        "  * 平均の速度については, 二点間の平均を強調するために, 速度($v$, velocity) の上に $\\bar{}$ (bar, バー) をつけることがある.\n",
        "\n",
        "2. $x-t$グラフの直線/曲線に関わらず, 平均の速度を\n",
        "変位と時間変化で\n",
        "$$\n",
        "(1.2)'' \\qquad \\bar{v}\n",
        "= \\frac{\\varDelta x}{\\varDelta t}\n",
        "$$\n",
        "と表現することができる.\n",
        "\n",
        "> Q. 直上の平均の速度の定義式から, 物体の平均の速度を調べるためにはどのようなグラフの傾きを読み取れば良いか答えてください.\n"
      ]
    }
  ]
}