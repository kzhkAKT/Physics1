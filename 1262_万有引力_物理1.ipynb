{
  "nbformat": 4,
  "nbformat_minor": 0,
  "metadata": {
    "colab": {
      "name": "1262_万有引力_物理1",
      "provenance": [],
      "authorship_tag": "ABX9TyOacsP9GYDxvBs0cIJHt9rA",
      "include_colab_link": true
    },
    "kernelspec": {
      "name": "python3",
      "display_name": "Python 3"
    }
  },
  "cells": [
    {
      "cell_type": "markdown",
      "metadata": {
        "id": "view-in-github",
        "colab_type": "text"
      },
      "source": [
        "<a href=\"https://colab.research.google.com/github/kzhkAKT/Physics1/blob/draft/1262_%E4%B8%87%E6%9C%89%E5%BC%95%E5%8A%9B_%E7%89%A9%E7%90%861.ipynb\" target=\"_parent\"><img src=\"https://colab.research.google.com/assets/colab-badge.svg\" alt=\"Open In Colab\"/></a>"
      ]
    },
    {
      "cell_type": "markdown",
      "metadata": {
        "id": "OWpL5JDWF8kS",
        "colab_type": "text"
      },
      "source": [
        "# 力と運動の法則\n"
      ]
    },
    {
      "cell_type": "markdown",
      "metadata": {
        "id": "5kW_odH5F-Z6",
        "colab_type": "text"
      },
      "source": [
        "## 重力と万有引力"
      ]
    },
    {
      "cell_type": "markdown",
      "metadata": {
        "id": "NaVwYtwxGEpW",
        "colab_type": "text"
      },
      "source": [
        "### 万有引力\n",
        "\n",
        "universal gravitation\n"
      ]
    },
    {
      "cell_type": "code",
      "metadata": {
        "id": "5MatHbBfmhdx",
        "colab_type": "code",
        "colab": {
          "base_uri": "https://localhost:8080/",
          "height": 301
        },
        "cellView": "form",
        "outputId": "7157a011-9318-4c3a-a41c-0e2faaf62357"
      },
      "source": [
        "#@title 万有引力の法則\n",
        "%%svg\n",
        "https://upload.wikimedia.org/wikipedia/commons/0/0e/NewtonsLawOfUniversalGravitation.svg"
      ],
      "execution_count": 4,
      "outputs": [
        {
          "output_type": "display_data",
          "data": {
            "text/plain": [
              "<IPython.core.display.SVG object>"
            ],
            "image/svg+xml": "<svg height=\"280.12\" version=\"1.0\" width=\"400.12\" x=\"0\" xmlns=\"http://www.w3.org/2000/svg\" xmlns:cc=\"http://creativecommons.org/ns#\" xmlns:dc=\"http://purl.org/dc/elements/1.1/\" xmlns:rdf=\"http://www.w3.org/1999/02/22-rdf-syntax-ns#\" xmlns:xlink=\"http://www.w3.org/1999/xlink\" y=\"0\">\n\n <metadata>\n  <rdf:RDF>\n   <cc:Work rdf:about=\"\">\n    <dc:format>image/svg+xml</dc:format>\n    <dc:type rdf:resource=\"http://purl.org/dc/dcmitype/StillImage\"/>\n    <dc:title/>\n   </cc:Work>\n  </rdf:RDF>\n </metadata>\n <defs>\n\n  <radialGradient cx=\"309.52\" cy=\"242.88\" gradientTransform=\"matrix(1 0 0 1 -7.0291 -42)\" gradientUnits=\"userSpaceOnUse\" id=\"radialGradient11198\" r=\"50\">\n\n   <stop offset=\"0\" style=\"stop-color:#cecef5;\"/>\n\n   <stop offset=\".77778\" style=\"stop-color:#1717a3;\"/>\n\n   <stop offset=\"1\" style=\"stop-color:#000074;\"/>\n\n  </radialGradient>\n\n  <radialGradient cx=\"309.52\" cy=\"242.88\" gradientTransform=\"matrix(.7 0 0 0.7 378.36 36.787)\" gradientUnits=\"userSpaceOnUse\" id=\"radialGradient11210\" r=\"50\">\n\n   <stop offset=\"0\" style=\"stop-color:#c4eccf;\"/>\n\n   <stop offset=\".80556\" style=\"stop-color:#2d8b3d;\"/>\n\n   <stop offset=\"1\" style=\"stop-color:#425d10;\"/>\n\n  </radialGradient>\n\n </defs>\n\n <g style=\"font-size:18px; font-family:Arial; stroke-miterlimit:4;\" transform=\"translate(-255.04 -141.98)\">\n\n  <rect height=\"61.165\" style=\"fill-rule:nonzero;stroke:#6b9e9e;stroke-dasharray:none;stroke-width:0.00960747;fill:#afafaf;\" width=\"1.7651\" x=\"605.57\" y=\"253.97\"/>\n\n  <polygon points=\"44.144 211.89 44.144 44.144 70.631 44.144 35.316 0 0 44.144 26.488 44.144 26.488 211.89 26.488 211.89\" style=\"fill:#35772a;\" transform=\"matrix(0 .21939 .28316 0 511.06 211.78)\"/>\n\n  <polygon points=\"44.144 211.89 44.144 44.144 70.631 44.144 35.316 0 0 44.144 26.488 44.144 26.488 211.89 26.488 211.89\" style=\"fill:#15159f;\" transform=\"matrix(0 .21939 -.28316 0 428.34 211.78)\"/>\n\n  <rect height=\"47.561\" style=\"fill-rule:nonzero;stroke:#6b9e9e;stroke-dasharray:none;stroke-width:0.00847452;fill:#afafaf;\" width=\"1.7662\" x=\"317.7\" y=\"267.58\"/>\n\n  <path d=\"m 318.53341,169.18961 c -27.44622,0 -49.73936,22.27691 -49.73936,49.72889 0,27.45198 22.29314,49.72891 49.73936,49.7289 27.44621,0 49.71843,-22.2769 49.71843,-49.7289 0,-27.45198 -22.27222,-49.72889 -49.71843,-49.72889 z\" style=\"stroke-width:0.54221171;display:block;fill:url(#radialGradient11198);\"/>\n\n  <path d=\"m 606.25338,184.61938 c -19.21236,0 -34.81755,15.59383 -34.81755,34.81022 0,19.21639 15.60519,34.81024 34.81755,34.81023 19.21235,0 34.8029,-15.59383 34.8029,-34.81023 0,-19.21639 -15.59055,-34.81022 -34.8029,-34.81022 z\" style=\"stroke-width:0.37954822;display:block;fill:url(#radialGradient11210);\"/>\n\n  <text x=\"386.58078\" y=\"205.23122\"><tspan style=\"font-size:32px;fill:#15159f;font-style:italic;\" x=\"386.58078\" y=\"205.23122\">F</tspan></text>\n\n  <text x=\"544.58093\" y=\"205.23122\"><tspan style=\"font-size:32px;fill:#35772a;font-style:italic;\" x=\"544.58093\" y=\"205.23122\">F</tspan></text>\n\n  <text style=\"fill:#15159f;\" x=\"397.92355\" y=\"211.49362\"><tspan x=\"397.92355\" y=\"211.49362\">1</tspan></text>\n\n  <text x=\"555.92371\" y=\"211.49362\"><tspan style=\"fill:#35772a;\" x=\"555.92371\" y=\"211.49362\">2</tspan></text>\n\n  <text style=\"fill:#ffffff;\" x=\"300.58319\" y=\"226.92386\"><tspan style=\"font-size:32px;font-style:italic;\" x=\"300.58319\" y=\"226.92386\">m</tspan></text>\n\n  <text style=\"fill:#ffffff;\" x=\"327.12335\" y=\"233.60944\"><tspan x=\"327.12335\" y=\"233.60944\">1</tspan></text>\n\n  <text style=\"fill:#ffffff;\" x=\"587.53589\" y=\"226.978\"><tspan style=\"font-size:32px;font-style:italic;\" x=\"587.53589\" y=\"226.978\">m</tspan></text>\n\n  <text style=\"fill:#ffffff;\" x=\"614.07629\" y=\"233.66357\"><tspan x=\"614.07629\" y=\"233.66357\">2</tspan></text>\n\n  <path d=\"m 334.68851,309.50391 -15.28589,3.63091 15.28589,3.6472 0,-2.7354 58.0864,0 0,-0.0326 139.4807,0 0,-1.75847 -139.4807,0 0,-0.0326 -58.0864,0 0,-2.71911 z m 255.67794,0 0,2.71911 -58.08639,0 0,1.8236 58.08639,0 0,2.7354 15.2859,-3.6472 -15.2859,-3.63091 z\" style=\"fill:#afafaf;\"/>\n\n  <text x=\"465.33426\" y=\"307.6944\"><tspan style=\"font-size:32px;font-style:italic;\" x=\"465.33426\" y=\"307.6944\">r</tspan></text>\n\n  <text style=\"fill:#15159f;\" x=\"337.26346\" y=\"390.77545\"><tspan style=\"font-size:32px;fill:#15159f;font-style:italic;\" x=\"337.26346\" y=\"390.77545\">F</tspan></text>\n\n  <text style=\"fill:#35772a;\" x=\"409.26343\" y=\"390.77545\"><tspan style=\"font-size:32px;fill:#35772a;font-style:italic;\" x=\"409.26343\" y=\"390.77545\">F</tspan></text>\n\n  <text style=\"fill:#15159f;\" x=\"348.60623\" y=\"395.03784\"><tspan x=\"348.60623\" y=\"395.03784\">1</tspan></text>\n\n  <text style=\"fill:#35772a;\" x=\"420.6062\" y=\"395.03784\"><tspan style=\"fill:#35772a;\" x=\"420.6062\" y=\"395.03784\">2</tspan></text>\n\n  <text x=\"375.26346\" y=\"390.02667\"><tspan style=\"font-size:32px;font-style:italic;\" x=\"375.26346\" y=\"390.02667\">=</tspan></text>\n\n  <text x=\"447.26346\" y=\"390.02667\"><tspan style=\"font-size:32px;font-style:italic;\" x=\"447.26346\" y=\"390.02667\">=</tspan></text>\n\n  <text style=\"font-size:71.9091568px;\" transform=\"scale(2.2472 0.445)\" x=\"232.54881\" y=\"838.81488\"><tspan style=\"font-size:71.9091568px;font-style:italic;\" x=\"232.54881\" y=\"838.81488\">_</tspan></text>\n\n  <text style=\"font-size:10px;\" x=\"480.81573\" y=\"390.70181\"><tspan style=\"font-size:32px;font-style:italic;\" x=\"480.81573\" y=\"390.70181\">G</tspan></text>\n\n  <text x=\"548.78723\" y=\"369.92953\"><tspan style=\"font-size:32px;font-style:italic;\" x=\"548.78723\" y=\"369.92953\">×</tspan></text>\n\n  <text style=\"font-size:10px;\" x=\"546.6145\" y=\"404.75793\"><tspan style=\"font-size:32px;font-style:italic;\" x=\"546.6145\" y=\"404.75793\">r</tspan></text>\n\n  <text x=\"561.36359\" y=\"395.1543\"><tspan x=\"561.36359\" y=\"395.1543\">2</tspan></text>\n\n  <text x=\"513.99066\" y=\"365.41275\"><tspan style=\"font-size:32px;font-style:italic;\" x=\"513.99066\" y=\"365.41275\">m</tspan></text>\n\n  <text x=\"540.53082\" y=\"372.09833\"><tspan x=\"540.53082\" y=\"372.09833\">1</tspan></text>\n\n  <text x=\"573.99066\" y=\"365.41275\"><tspan style=\"font-size:32px;font-style:italic;\" x=\"573.99066\" y=\"365.41275\">m</tspan></text>\n\n  <text x=\"600.53082\" y=\"372.09833\"><tspan x=\"600.53082\" y=\"372.09833\">2</tspan></text>\n\n </g>\n\n</svg>"
          },
          "metadata": {
            "tags": []
          }
        }
      ]
    },
    {
      "cell_type": "markdown",
      "metadata": {
        "id": "WLh1-TFIni8K",
        "colab_type": "text"
      },
      "source": [
        "- $m_1, m_2$: 異なる物体の質量 \n",
        "- $r$: 物体間の距離(半径)\n",
        "- $G$: 万有引力定数 $G={\\rm 6.673 \\times 10^{-11}\\ N m^2/kg^2} $\n",
        "> $F_1$ と $F_2$ はちょうど **作用反作用の法則** を満たしている\n",
        "\n",
        "ことを覚えておいてください.\n"
      ]
    },
    {
      "cell_type": "code",
      "metadata": {
        "id": "YFCyMlWNmjCi",
        "colab_type": "code",
        "colab": {
          "base_uri": "https://localhost:8080/",
          "height": 336
        },
        "cellView": "form",
        "outputId": "c8c52f5f-733e-4ac2-f102-ba3384ad8d6a"
      },
      "source": [
        "#@title 太陽系で惑星が公転運動することも万有引力を利用して説明できます\n",
        "%%html\n",
        "<iframe width=\"560\" height=\"315\" src=\"https://www.youtube-nocookie.com/embed/z8aBZZnv6y8\" frameborder=\"0\" allow=\"accelerometer; autoplay; encrypted-media; gyroscope; picture-in-picture\" allowfullscreen></iframe>"
      ],
      "execution_count": 3,
      "outputs": [
        {
          "output_type": "display_data",
          "data": {
            "text/html": [
              "<iframe width=\"560\" height=\"315\" src=\"https://www.youtube-nocookie.com/embed/z8aBZZnv6y8\" frameborder=\"0\" allow=\"accelerometer; autoplay; encrypted-media; gyroscope; picture-in-picture\" allowfullscreen></iframe>"
            ],
            "text/plain": [
              "<IPython.core.display.HTML object>"
            ]
          },
          "metadata": {
            "tags": []
          }
        }
      ]
    },
    {
      "cell_type": "markdown",
      "metadata": {
        "id": "zEbGIr7hohxA",
        "colab_type": "text"
      },
      "source": [
        "> Q. 下記の図を参考に, 教科書 p19 の例題1.8 に取り組んでください."
      ]
    }
  ]
}