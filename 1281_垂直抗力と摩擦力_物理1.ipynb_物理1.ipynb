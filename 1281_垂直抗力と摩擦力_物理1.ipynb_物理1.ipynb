{
  "nbformat": 4,
  "nbformat_minor": 0,
  "metadata": {
    "colab": {
      "name": "1281_垂直抗力と摩擦力_物理1",
      "provenance": [],
      "collapsed_sections": [],
      "authorship_tag": "ABX9TyMKBDL1LmvXmA6qHmxTUYZG",
      "include_colab_link": true
    },
    "kernelspec": {
      "name": "python3",
      "display_name": "Python 3"
    }
  },
  "cells": [
    {
      "cell_type": "markdown",
      "metadata": {
        "id": "view-in-github",
        "colab_type": "text"
      },
      "source": [
        "<a href=\"https://colab.research.google.com/github/kzhkAKT/Physics1/blob/master/1281_%E5%9E%82%E7%9B%B4%E6%8A%97%E5%8A%9B%E3%81%A8%E6%91%A9%E6%93%A6%E5%8A%9B_%E7%89%A9%E7%90%861.ipynb\" target=\"_parent\"><img src=\"https://colab.research.google.com/assets/colab-badge.svg\" alt=\"Open In Colab\"/></a>"
      ]
    },
    {
      "cell_type": "markdown",
      "metadata": {
        "id": "0juxvOgvalHs",
        "colab_type": "text"
      },
      "source": [
        "# 力と運動"
      ]
    },
    {
      "cell_type": "markdown",
      "metadata": {
        "id": "yMT7m9Wmamv4",
        "colab_type": "text"
      },
      "source": [
        "## 1.2 力と運動の法則\n"
      ]
    },
    {
      "cell_type": "markdown",
      "metadata": {
        "id": "QQsJpK9-asOC",
        "colab_type": "text"
      },
      "source": [
        "### 垂直抗力と摩擦力"
      ]
    },
    {
      "cell_type": "markdown",
      "metadata": {
        "id": "Hjad8BONavMa",
        "colab_type": "text"
      },
      "source": [
        "#### 垂直抗力"
      ]
    },
    {
      "cell_type": "code",
      "metadata": {
        "id": "KJJJ4WWwcaok",
        "colab_type": "code",
        "cellView": "form",
        "colab": {
          "base_uri": "https://localhost:8080/",
          "height": 266
        },
        "outputId": "6074dd1a-8729-4b47-e549-a7c13ce92003"
      },
      "source": [
        "#@title 垂直抗力の発想(床に置かれている物体を考えれば良い)\n",
        "%%svg\n",
        "<svg xmlns=\"http://www.w3.org/2000/svg\" xmlns:xlink=\"http://www.w3.org/1999/xlink\" version=\"1.1\" width=\"762px\" viewBox=\"-0.5 -0.5 762 245\" content=\"&lt;mxfile host=&quot;app.diagrams.net&quot; modified=&quot;2020-06-16T04:44:37.619Z&quot; agent=&quot;5.0 (Macintosh; Intel Mac OS X 10_10_5) AppleWebKit/537.36 (KHTML, like Gecko) Chrome/83.0.4103.97 Safari/537.36&quot; etag=&quot;rM60wk9l8cHF0T-QUrhY&quot; version=&quot;13.2.4&quot; type=&quot;google&quot;&gt;&lt;diagram id=&quot;Z_2yv03acXtk83aUR2H-&quot; name=&quot;Page-1&quot;&gt;7Vpbb5swFP41PHYCc39M0nR7yKZVlVZpby4YYg0wNSSh+/UzweZiSJM0l6ZZU6mBg/3ZPpfvnIOi6JO4+EphOv9OfBQpQPULRb9VAHCAzf6XgpdKoKmqW0lCin0uawQP+C8SA7l0gX2UdQbmhEQ5TrtCjyQJ8vKODFJKVt1hAYm6q6YwRD3BgwejvvQR+/lcOlcp/4ZwOBcraxY/XwzFYH6SbA59smqJ9KmiTygheXUVFxMUlcoTeqnm3W14Wm+MoiTfZcJs5dHilzGbPf2+X2bYeob3yQ1HWcJowQ/MN5u/CA2gxB+VimR3CUmYcDzP44jdaeyyGo38nhKbXWn1WZmTIBKjnL6wIatGmybX0LylSCGjKII5XnbhITdqWMPVK/wkmC0MVO6AQOU43P90YQ0BkZEF9RCf1daeBGRswckhDVHew2EXrVM3orVt9rCTMWAnK2K6Ggdkvc3GYNbzgogHN9k6oEZsADDSonlYhgL0uhPYNmmIYXuQFfLv9VJYCGIhYWfB8igmq/YkxJI/reY4Rw9ptfqKsUbXo2CWVnEc4AL5NcAS0RwV+zqZoKGu8WpjtnzQGfBBR93sbh0D72tNQW5XG3aGHHaa+7aw68WdDHTiuNOGCPIMgcfyWURoZ5QCdGSVf1cYoL0I1d13jlBwsN0153iEGx5iT1Z4pOVlEKGCU8q4xS5eBLMMe8ciGG5R9YvZsegN6HPuKfO+LfGG/sa83wOyd0v8DZAYSIIgQ6chKX2vdDJo8Cyn5E9d4hofIMfUJZjgDJkMdjWxDFQnr3PlmMOLu2NyzSObFx9EOKXPzOAT6wS7iSPCYVL6H/MfxHLbuEwZmLVaI/4gxr5fYowpYkeDT2s8ld2nperXxjDHinn7Ws7hfSCfrNTdV9ttXwmiV/hM1yxborTj1EqggyrNPyFrmHuxxscrQq2j9X7v3Pxp1sEE8VmEbi9ZjItrE53/Ma+bvbwuQewatjKQoUpAJw5bsfzVEqxzrC7feucuH3x2+ecgWOvSunxwksapkkxq0+oq+9zdcZ8Zkl96oNvb4nPXQJeBNPfMgX5RlVT5CYIdAv3HYKCz7UxNxZ0qDlCmtuKOlbGhTC3FGSmuXT4qL667aQPbmjbDOk3TJmAEqnm2tg0MvS24+qLQ1lzpheKbX/f0oc79wgcMdd6fL3zOzR3GFu64thc+YId2kpJF4pf13toMW2rEgXJGVY9TKtqSknSt34u7fbZxN9tiQ6HIbpufYFSabn7Iok//AQ==&lt;/diagram&gt;&lt;/mxfile&gt;\" onclick=\"(function(svg){var src=window.event.target||window.event.srcElement;while (src!=null&amp;&amp;src.nodeName.toLowerCase()!='a'){src=src.parentNode;}if(src==null){if(svg.wnd!=null&amp;&amp;!svg.wnd.closed){svg.wnd.focus();}else{var r=function(evt){if(evt.data=='ready'&amp;&amp;evt.source==svg.wnd){svg.wnd.postMessage(decodeURIComponent(svg.getAttribute('content')),'*');window.removeEventListener('message',r);}};window.addEventListener('message',r);svg.wnd=window.open('https://app.diagrams.net/?client=1&amp;lightbox=1&amp;edit=_blank');}}})(this);\" style=\"cursor:pointer;max-width:100%;max-height:245px;\"><defs/><g><path d=\"M 160 153 L 0 153\" fill=\"none\" stroke=\"#000000\" stroke-miterlimit=\"10\" pointer-events=\"stroke\"/><rect x=\"40\" y=\"73\" width=\"80\" height=\"80\" fill=\"#ffffff\" stroke=\"#000000\" pointer-events=\"all\"/><g transform=\"translate(-0.5 -0.5)\"><switch><foreignObject style=\"overflow: visible; text-align: left;\" pointer-events=\"none\" width=\"100%\" height=\"100%\" requiredFeatures=\"http://www.w3.org/TR/SVG11/feature#Extensibility\"><div xmlns=\"http://www.w3.org/1999/xhtml\" style=\"display: flex; align-items: unsafe center; justify-content: unsafe center; width: 78px; height: 1px; padding-top: 113px; margin-left: 41px;\"><div style=\"box-sizing: border-box; font-size: 0; text-align: center; \"><div style=\"display: inline-block; font-size: 12px; font-family: Helvetica; color: #000000; line-height: 1.2; pointer-events: all; white-space: normal; word-wrap: normal; \"><font style=\"font-size: 24px\" face=\"Georgia\"><i>m</i></font></div></div></div></foreignObject><text x=\"80\" y=\"117\" fill=\"#000000\" font-family=\"Helvetica\" font-size=\"12px\" text-anchor=\"middle\">m</text></switch></g><path d=\"M 360 152 L 200 152\" fill=\"none\" stroke=\"#000000\" stroke-miterlimit=\"10\" pointer-events=\"stroke\"/><rect x=\"240\" y=\"72\" width=\"80\" height=\"80\" fill=\"#ffffff\" stroke=\"#000000\" pointer-events=\"all\"/><g transform=\"translate(-0.5 -0.5)\"><switch><foreignObject style=\"overflow: visible; text-align: left;\" pointer-events=\"none\" width=\"100%\" height=\"100%\" requiredFeatures=\"http://www.w3.org/TR/SVG11/feature#Extensibility\"><div xmlns=\"http://www.w3.org/1999/xhtml\" style=\"display: flex; align-items: unsafe center; justify-content: unsafe center; width: 78px; height: 1px; padding-top: 112px; margin-left: 241px;\"><div style=\"box-sizing: border-box; font-size: 0; text-align: center; \"><div style=\"display: inline-block; font-size: 12px; font-family: Helvetica; color: #000000; line-height: 1.2; pointer-events: all; white-space: normal; word-wrap: normal; \"><font style=\"font-size: 24px\" face=\"Georgia\" color=\"#e6e6e6\"><i>m</i></font></div></div></div></foreignObject><text x=\"280\" y=\"116\" fill=\"#000000\" font-family=\"Helvetica\" font-size=\"12px\" text-anchor=\"middle\">m</text></switch></g><path d=\"M 225 163.5 L 235 163.5 L 235 183.5 L 245.5 183.5 L 230 202.5 L 214.5 183.5 L 225 183.5 Z\" fill=\"none\" stroke=\"#000000\" stroke-linejoin=\"round\" stroke-miterlimit=\"10\" pointer-events=\"all\"/><g transform=\"translate(-0.5 -0.5)\"><switch><foreignObject style=\"overflow: visible; text-align: left;\" pointer-events=\"none\" width=\"100%\" height=\"100%\" requiredFeatures=\"http://www.w3.org/TR/SVG11/feature#Extensibility\"><div xmlns=\"http://www.w3.org/1999/xhtml\" style=\"display: flex; align-items: unsafe center; justify-content: unsafe center; width: 1px; height: 1px; padding-top: 193px; margin-left: 210px;\"><div style=\"box-sizing: border-box; font-size: 0; text-align: center; \"><div style=\"display: inline-block; font-size: 11px; font-family: Helvetica; color: #000000; line-height: 1.2; pointer-events: all; background-color: #ffffff; white-space: nowrap; \"><font style=\"font-size: 18px\" face=\"Georgia\"><i>g</i></font></div></div></div></foreignObject><text x=\"210\" y=\"196\" fill=\"#000000\" font-family=\"Helvetica\" font-size=\"11px\" text-anchor=\"middle\">g</text></switch></g><path d=\"M 280 113 L 280 221.03\" fill=\"none\" stroke=\"#000000\" stroke-width=\"4\" stroke-miterlimit=\"10\" pointer-events=\"stroke\"/><path d=\"M 280 228.53 L 275 218.53 L 280 221.03 L 285 218.53 Z\" fill=\"#000000\" stroke=\"#000000\" stroke-width=\"4\" stroke-miterlimit=\"10\" pointer-events=\"all\"/><g transform=\"translate(-0.5 -0.5)\"><switch><foreignObject style=\"overflow: visible; text-align: left;\" pointer-events=\"none\" width=\"100%\" height=\"100%\" requiredFeatures=\"http://www.w3.org/TR/SVG11/feature#Extensibility\"><div xmlns=\"http://www.w3.org/1999/xhtml\" style=\"display: flex; align-items: unsafe center; justify-content: unsafe center; width: 1px; height: 1px; padding-top: 194px; margin-left: 321px;\"><div style=\"box-sizing: border-box; font-size: 0; text-align: center; \"><div style=\"display: inline-block; font-size: 11px; font-family: Helvetica; color: #000000; line-height: 1.2; pointer-events: all; background-color: #ffffff; white-space: nowrap; \"><font style=\"font-size: 18px\" face=\"Georgia\"><i>W=mg</i></font></div></div></div></foreignObject><text x=\"321\" y=\"197\" fill=\"#000000\" font-family=\"Helvetica\" font-size=\"11px\" text-anchor=\"middle\">W=mg</text></switch></g><path d=\"M 560 153 L 400 153\" fill=\"none\" stroke=\"#000000\" stroke-miterlimit=\"10\" pointer-events=\"stroke\"/><rect x=\"440\" y=\"73\" width=\"80\" height=\"80\" fill=\"#ffffff\" stroke=\"#000000\" pointer-events=\"all\"/><g transform=\"translate(-0.5 -0.5)\"><switch><foreignObject style=\"overflow: visible; text-align: left;\" pointer-events=\"none\" width=\"100%\" height=\"100%\" requiredFeatures=\"http://www.w3.org/TR/SVG11/feature#Extensibility\"><div xmlns=\"http://www.w3.org/1999/xhtml\" style=\"display: flex; align-items: unsafe center; justify-content: unsafe center; width: 78px; height: 1px; padding-top: 113px; margin-left: 441px;\"><div style=\"box-sizing: border-box; font-size: 0; text-align: center; \"><div style=\"display: inline-block; font-size: 12px; font-family: Helvetica; color: #000000; line-height: 1.2; pointer-events: all; white-space: normal; word-wrap: normal; \"><font style=\"font-size: 24px\" face=\"Georgia\" color=\"#e6e6e6\"><i>m</i></font></div></div></div></foreignObject><text x=\"480\" y=\"117\" fill=\"#000000\" font-family=\"Helvetica\" font-size=\"12px\" text-anchor=\"middle\">m</text></switch></g><path d=\"M 480 114 L 480 222.03\" fill=\"none\" stroke=\"#000000\" stroke-width=\"4\" stroke-miterlimit=\"10\" pointer-events=\"stroke\"/><path d=\"M 480 229.53 L 475 219.53 L 480 222.03 L 485 219.53 Z\" fill=\"#000000\" stroke=\"#000000\" stroke-width=\"4\" stroke-miterlimit=\"10\" pointer-events=\"all\"/><path d=\"M 760 152 L 600 152\" fill=\"none\" stroke=\"#000000\" stroke-miterlimit=\"10\" pointer-events=\"stroke\"/><rect x=\"640\" y=\"72\" width=\"80\" height=\"80\" fill=\"#ffffff\" stroke=\"#000000\" pointer-events=\"all\"/><g transform=\"translate(-0.5 -0.5)\"><switch><foreignObject style=\"overflow: visible; text-align: left;\" pointer-events=\"none\" width=\"100%\" height=\"100%\" requiredFeatures=\"http://www.w3.org/TR/SVG11/feature#Extensibility\"><div xmlns=\"http://www.w3.org/1999/xhtml\" style=\"display: flex; align-items: unsafe center; justify-content: unsafe center; width: 78px; height: 1px; padding-top: 112px; margin-left: 641px;\"><div style=\"box-sizing: border-box; font-size: 0; text-align: center; \"><div style=\"display: inline-block; font-size: 12px; font-family: Helvetica; color: #000000; line-height: 1.2; pointer-events: all; white-space: normal; word-wrap: normal; \"><font style=\"font-size: 24px\" face=\"Georgia\" color=\"#e6e6e6\"><i>m</i></font></div></div></div></foreignObject><text x=\"680\" y=\"116\" fill=\"#000000\" font-family=\"Helvetica\" font-size=\"12px\" text-anchor=\"middle\">m</text></switch></g><path d=\"M 700 152 L 700 43.97\" fill=\"none\" stroke=\"#0000ff\" stroke-width=\"4\" stroke-miterlimit=\"10\" pointer-events=\"stroke\"/><path d=\"M 700 36.47 L 705 46.47 L 700 43.97 L 695 46.47 Z\" fill=\"#0000ff\" stroke=\"#0000ff\" stroke-width=\"4\" stroke-miterlimit=\"10\" pointer-events=\"all\"/><g transform=\"translate(-0.5 -0.5)\"><switch><foreignObject style=\"overflow: visible; text-align: left;\" pointer-events=\"none\" width=\"100%\" height=\"100%\" requiredFeatures=\"http://www.w3.org/TR/SVG11/feature#Extensibility\"><div xmlns=\"http://www.w3.org/1999/xhtml\" style=\"display: flex; align-items: unsafe center; justify-content: unsafe center; width: 1px; height: 1px; padding-top: 14px; margin-left: 701px;\"><div style=\"box-sizing: border-box; font-size: 0; text-align: center; \"><div style=\"display: inline-block; font-size: 11px; font-family: Helvetica; color: #000000; line-height: 1.2; pointer-events: all; background-color: #ffffff; white-space: nowrap; \"><font style=\"font-size: 24px\" face=\"Georgia\" color=\"#3333ff\"><i>N</i>:垂直抗力</font></div></div></div></foreignObject><text x=\"701\" y=\"17\" fill=\"#000000\" font-family=\"Helvetica\" font-size=\"11px\" text-anchor=\"middle\">N:垂直抗力</text></switch></g><path d=\"M 679.5 113 L 679.5 221.03\" fill=\"none\" stroke=\"#000000\" stroke-width=\"4\" stroke-miterlimit=\"10\" pointer-events=\"stroke\"/><path d=\"M 679.5 228.53 L 674.5 218.53 L 679.5 221.03 L 684.5 218.53 Z\" fill=\"#000000\" stroke=\"#000000\" stroke-width=\"4\" stroke-miterlimit=\"10\" pointer-events=\"all\"/><g transform=\"translate(-0.5 -0.5)\"><switch><foreignObject style=\"overflow: visible; text-align: left;\" pointer-events=\"none\" width=\"100%\" height=\"100%\" requiredFeatures=\"http://www.w3.org/TR/SVG11/feature#Extensibility\"><div xmlns=\"http://www.w3.org/1999/xhtml\" style=\"display: flex; align-items: unsafe center; justify-content: unsafe center; width: 1px; height: 1px; padding-top: 194px; margin-left: 720px;\"><div style=\"box-sizing: border-box; font-size: 0; text-align: center; \"><div style=\"display: inline-block; font-size: 11px; font-family: Helvetica; color: #000000; line-height: 1.2; pointer-events: all; background-color: #ffffff; white-space: nowrap; \"><font style=\"font-size: 18px\" face=\"Georgia\"><i>W=mg</i></font></div></div></div></foreignObject><text x=\"720\" y=\"197\" fill=\"#000000\" font-family=\"Helvetica\" font-size=\"11px\" text-anchor=\"middle\">W=mg</text></switch></g><rect x=\"702\" y=\"143\" width=\"9\" height=\"9\" fill=\"#ffffff\" stroke=\"#000000\" pointer-events=\"all\"/></g><switch><g requiredFeatures=\"http://www.w3.org/TR/SVG11/feature#Extensibility\"/><a transform=\"translate(0,-5)\" xlink:href=\"https://desk.draw.io/support/solutions/articles/16000042487\" target=\"_blank\"><text text-anchor=\"middle\" font-size=\"10px\" x=\"50%\" y=\"100%\">Viewer does not support full SVG 1.1</text></a></switch></svg>"
      ],
      "execution_count": null,
      "outputs": [
        {
          "output_type": "display_data",
          "data": {
            "text/plain": [
              "<IPython.core.display.SVG object>"
            ],
            "image/svg+xml": "<svg content=\"&lt;mxfile host=&quot;app.diagrams.net&quot; modified=&quot;2020-06-16T04:44:37.619Z&quot; agent=&quot;5.0 (Macintosh; Intel Mac OS X 10_10_5) AppleWebKit/537.36 (KHTML, like Gecko) Chrome/83.0.4103.97 Safari/537.36&quot; etag=&quot;rM60wk9l8cHF0T-QUrhY&quot; version=&quot;13.2.4&quot; type=&quot;google&quot;&gt;&lt;diagram id=&quot;Z_2yv03acXtk83aUR2H-&quot; name=&quot;Page-1&quot;&gt;7Vpbb5swFP41PHYCc39M0nR7yKZVlVZpby4YYg0wNSSh+/UzweZiSJM0l6ZZU6mBg/3ZPpfvnIOi6JO4+EphOv9OfBQpQPULRb9VAHCAzf6XgpdKoKmqW0lCin0uawQP+C8SA7l0gX2UdQbmhEQ5TrtCjyQJ8vKODFJKVt1hAYm6q6YwRD3BgwejvvQR+/lcOlcp/4ZwOBcraxY/XwzFYH6SbA59smqJ9KmiTygheXUVFxMUlcoTeqnm3W14Wm+MoiTfZcJs5dHilzGbPf2+X2bYeob3yQ1HWcJowQ/MN5u/CA2gxB+VimR3CUmYcDzP44jdaeyyGo38nhKbXWn1WZmTIBKjnL6wIatGmybX0LylSCGjKII5XnbhITdqWMPVK/wkmC0MVO6AQOU43P90YQ0BkZEF9RCf1daeBGRswckhDVHew2EXrVM3orVt9rCTMWAnK2K6Ggdkvc3GYNbzgogHN9k6oEZsADDSonlYhgL0uhPYNmmIYXuQFfLv9VJYCGIhYWfB8igmq/YkxJI/reY4Rw9ptfqKsUbXo2CWVnEc4AL5NcAS0RwV+zqZoKGu8WpjtnzQGfBBR93sbh0D72tNQW5XG3aGHHaa+7aw68WdDHTiuNOGCPIMgcfyWURoZ5QCdGSVf1cYoL0I1d13jlBwsN0153iEGx5iT1Z4pOVlEKGCU8q4xS5eBLMMe8ciGG5R9YvZsegN6HPuKfO+LfGG/sa83wOyd0v8DZAYSIIgQ6chKX2vdDJo8Cyn5E9d4hofIMfUJZjgDJkMdjWxDFQnr3PlmMOLu2NyzSObFx9EOKXPzOAT6wS7iSPCYVL6H/MfxHLbuEwZmLVaI/4gxr5fYowpYkeDT2s8ld2nperXxjDHinn7Ws7hfSCfrNTdV9ttXwmiV/hM1yxborTj1EqggyrNPyFrmHuxxscrQq2j9X7v3Pxp1sEE8VmEbi9ZjItrE53/Ma+bvbwuQewatjKQoUpAJw5bsfzVEqxzrC7feucuH3x2+ecgWOvSunxwksapkkxq0+oq+9zdcZ8Zkl96oNvb4nPXQJeBNPfMgX5RlVT5CYIdAv3HYKCz7UxNxZ0qDlCmtuKOlbGhTC3FGSmuXT4qL667aQPbmjbDOk3TJmAEqnm2tg0MvS24+qLQ1lzpheKbX/f0oc79wgcMdd6fL3zOzR3GFu64thc+YId2kpJF4pf13toMW2rEgXJGVY9TKtqSknSt34u7fbZxN9tiQ6HIbpufYFSabn7Iok//AQ==&lt;/diagram&gt;&lt;/mxfile&gt;\" onclick=\"(function(svg){var src=window.event.target||window.event.srcElement;while (src!=null&amp;&amp;src.nodeName.toLowerCase()!='a'){src=src.parentNode;}if(src==null){if(svg.wnd!=null&amp;&amp;!svg.wnd.closed){svg.wnd.focus();}else{var r=function(evt){if(evt.data=='ready'&amp;&amp;evt.source==svg.wnd){svg.wnd.postMessage(decodeURIComponent(svg.getAttribute('content')),'*');window.removeEventListener('message',r);}};window.addEventListener('message',r);svg.wnd=window.open('https://app.diagrams.net/?client=1&amp;lightbox=1&amp;edit=_blank');}}})(this);\" style=\"cursor:pointer;max-width:100%;max-height:245px;\" version=\"1.1\" viewBox=\"-0.5 -0.5 762 245\" width=\"762px\" xmlns=\"http://www.w3.org/2000/svg\" xmlns:xlink=\"http://www.w3.org/1999/xlink\"><defs/><g><path d=\"M 160 153 L 0 153\" fill=\"none\" pointer-events=\"stroke\" stroke=\"#000000\" stroke-miterlimit=\"10\"/><rect fill=\"#ffffff\" height=\"80\" pointer-events=\"all\" stroke=\"#000000\" width=\"80\" x=\"40\" y=\"73\"/><g transform=\"translate(-0.5 -0.5)\"><switch><foreignObject height=\"100%\" pointer-events=\"none\" requiredFeatures=\"http://www.w3.org/TR/SVG11/feature#Extensibility\" style=\"overflow: visible; text-align: left;\" width=\"100%\"><div style=\"display: flex; align-items: unsafe center; justify-content: unsafe center; width: 78px; height: 1px; padding-top: 113px; margin-left: 41px;\" xmlns=\"http://www.w3.org/1999/xhtml\"><div style=\"box-sizing: border-box; font-size: 0; text-align: center; \"><div style=\"display: inline-block; font-size: 12px; font-family: Helvetica; color: #000000; line-height: 1.2; pointer-events: all; white-space: normal; word-wrap: normal; \"><font face=\"Georgia\" style=\"font-size: 24px\"><i>m</i></font></div></div></div></foreignObject><text fill=\"#000000\" font-family=\"Helvetica\" font-size=\"12px\" text-anchor=\"middle\" x=\"80\" y=\"117\">m</text></switch></g><path d=\"M 360 152 L 200 152\" fill=\"none\" pointer-events=\"stroke\" stroke=\"#000000\" stroke-miterlimit=\"10\"/><rect fill=\"#ffffff\" height=\"80\" pointer-events=\"all\" stroke=\"#000000\" width=\"80\" x=\"240\" y=\"72\"/><g transform=\"translate(-0.5 -0.5)\"><switch><foreignObject height=\"100%\" pointer-events=\"none\" requiredFeatures=\"http://www.w3.org/TR/SVG11/feature#Extensibility\" style=\"overflow: visible; text-align: left;\" width=\"100%\"><div style=\"display: flex; align-items: unsafe center; justify-content: unsafe center; width: 78px; height: 1px; padding-top: 112px; margin-left: 241px;\" xmlns=\"http://www.w3.org/1999/xhtml\"><div style=\"box-sizing: border-box; font-size: 0; text-align: center; \"><div style=\"display: inline-block; font-size: 12px; font-family: Helvetica; color: #000000; line-height: 1.2; pointer-events: all; white-space: normal; word-wrap: normal; \"><font color=\"#e6e6e6\" face=\"Georgia\" style=\"font-size: 24px\"><i>m</i></font></div></div></div></foreignObject><text fill=\"#000000\" font-family=\"Helvetica\" font-size=\"12px\" text-anchor=\"middle\" x=\"280\" y=\"116\">m</text></switch></g><path d=\"M 225 163.5 L 235 163.5 L 235 183.5 L 245.5 183.5 L 230 202.5 L 214.5 183.5 L 225 183.5 Z\" fill=\"none\" pointer-events=\"all\" stroke=\"#000000\" stroke-linejoin=\"round\" stroke-miterlimit=\"10\"/><g transform=\"translate(-0.5 -0.5)\"><switch><foreignObject height=\"100%\" pointer-events=\"none\" requiredFeatures=\"http://www.w3.org/TR/SVG11/feature#Extensibility\" style=\"overflow: visible; text-align: left;\" width=\"100%\"><div style=\"display: flex; align-items: unsafe center; justify-content: unsafe center; width: 1px; height: 1px; padding-top: 193px; margin-left: 210px;\" xmlns=\"http://www.w3.org/1999/xhtml\"><div style=\"box-sizing: border-box; font-size: 0; text-align: center; \"><div style=\"display: inline-block; font-size: 11px; font-family: Helvetica; color: #000000; line-height: 1.2; pointer-events: all; background-color: #ffffff; white-space: nowrap; \"><font face=\"Georgia\" style=\"font-size: 18px\"><i>g</i></font></div></div></div></foreignObject><text fill=\"#000000\" font-family=\"Helvetica\" font-size=\"11px\" text-anchor=\"middle\" x=\"210\" y=\"196\">g</text></switch></g><path d=\"M 280 113 L 280 221.03\" fill=\"none\" pointer-events=\"stroke\" stroke=\"#000000\" stroke-miterlimit=\"10\" stroke-width=\"4\"/><path d=\"M 280 228.53 L 275 218.53 L 280 221.03 L 285 218.53 Z\" fill=\"#000000\" pointer-events=\"all\" stroke=\"#000000\" stroke-miterlimit=\"10\" stroke-width=\"4\"/><g transform=\"translate(-0.5 -0.5)\"><switch><foreignObject height=\"100%\" pointer-events=\"none\" requiredFeatures=\"http://www.w3.org/TR/SVG11/feature#Extensibility\" style=\"overflow: visible; text-align: left;\" width=\"100%\"><div style=\"display: flex; align-items: unsafe center; justify-content: unsafe center; width: 1px; height: 1px; padding-top: 194px; margin-left: 321px;\" xmlns=\"http://www.w3.org/1999/xhtml\"><div style=\"box-sizing: border-box; font-size: 0; text-align: center; \"><div style=\"display: inline-block; font-size: 11px; font-family: Helvetica; color: #000000; line-height: 1.2; pointer-events: all; background-color: #ffffff; white-space: nowrap; \"><font face=\"Georgia\" style=\"font-size: 18px\"><i>W=mg</i></font></div></div></div></foreignObject><text fill=\"#000000\" font-family=\"Helvetica\" font-size=\"11px\" text-anchor=\"middle\" x=\"321\" y=\"197\">W=mg</text></switch></g><path d=\"M 560 153 L 400 153\" fill=\"none\" pointer-events=\"stroke\" stroke=\"#000000\" stroke-miterlimit=\"10\"/><rect fill=\"#ffffff\" height=\"80\" pointer-events=\"all\" stroke=\"#000000\" width=\"80\" x=\"440\" y=\"73\"/><g transform=\"translate(-0.5 -0.5)\"><switch><foreignObject height=\"100%\" pointer-events=\"none\" requiredFeatures=\"http://www.w3.org/TR/SVG11/feature#Extensibility\" style=\"overflow: visible; text-align: left;\" width=\"100%\"><div style=\"display: flex; align-items: unsafe center; justify-content: unsafe center; width: 78px; height: 1px; padding-top: 113px; margin-left: 441px;\" xmlns=\"http://www.w3.org/1999/xhtml\"><div style=\"box-sizing: border-box; font-size: 0; text-align: center; \"><div style=\"display: inline-block; font-size: 12px; font-family: Helvetica; color: #000000; line-height: 1.2; pointer-events: all; white-space: normal; word-wrap: normal; \"><font color=\"#e6e6e6\" face=\"Georgia\" style=\"font-size: 24px\"><i>m</i></font></div></div></div></foreignObject><text fill=\"#000000\" font-family=\"Helvetica\" font-size=\"12px\" text-anchor=\"middle\" x=\"480\" y=\"117\">m</text></switch></g><path d=\"M 480 114 L 480 222.03\" fill=\"none\" pointer-events=\"stroke\" stroke=\"#000000\" stroke-miterlimit=\"10\" stroke-width=\"4\"/><path d=\"M 480 229.53 L 475 219.53 L 480 222.03 L 485 219.53 Z\" fill=\"#000000\" pointer-events=\"all\" stroke=\"#000000\" stroke-miterlimit=\"10\" stroke-width=\"4\"/><path d=\"M 760 152 L 600 152\" fill=\"none\" pointer-events=\"stroke\" stroke=\"#000000\" stroke-miterlimit=\"10\"/><rect fill=\"#ffffff\" height=\"80\" pointer-events=\"all\" stroke=\"#000000\" width=\"80\" x=\"640\" y=\"72\"/><g transform=\"translate(-0.5 -0.5)\"><switch><foreignObject height=\"100%\" pointer-events=\"none\" requiredFeatures=\"http://www.w3.org/TR/SVG11/feature#Extensibility\" style=\"overflow: visible; text-align: left;\" width=\"100%\"><div style=\"display: flex; align-items: unsafe center; justify-content: unsafe center; width: 78px; height: 1px; padding-top: 112px; margin-left: 641px;\" xmlns=\"http://www.w3.org/1999/xhtml\"><div style=\"box-sizing: border-box; font-size: 0; text-align: center; \"><div style=\"display: inline-block; font-size: 12px; font-family: Helvetica; color: #000000; line-height: 1.2; pointer-events: all; white-space: normal; word-wrap: normal; \"><font color=\"#e6e6e6\" face=\"Georgia\" style=\"font-size: 24px\"><i>m</i></font></div></div></div></foreignObject><text fill=\"#000000\" font-family=\"Helvetica\" font-size=\"12px\" text-anchor=\"middle\" x=\"680\" y=\"116\">m</text></switch></g><path d=\"M 700 152 L 700 43.97\" fill=\"none\" pointer-events=\"stroke\" stroke=\"#0000ff\" stroke-miterlimit=\"10\" stroke-width=\"4\"/><path d=\"M 700 36.47 L 705 46.47 L 700 43.97 L 695 46.47 Z\" fill=\"#0000ff\" pointer-events=\"all\" stroke=\"#0000ff\" stroke-miterlimit=\"10\" stroke-width=\"4\"/><g transform=\"translate(-0.5 -0.5)\"><switch><foreignObject height=\"100%\" pointer-events=\"none\" requiredFeatures=\"http://www.w3.org/TR/SVG11/feature#Extensibility\" style=\"overflow: visible; text-align: left;\" width=\"100%\"><div style=\"display: flex; align-items: unsafe center; justify-content: unsafe center; width: 1px; height: 1px; padding-top: 14px; margin-left: 701px;\" xmlns=\"http://www.w3.org/1999/xhtml\"><div style=\"box-sizing: border-box; font-size: 0; text-align: center; \"><div style=\"display: inline-block; font-size: 11px; font-family: Helvetica; color: #000000; line-height: 1.2; pointer-events: all; background-color: #ffffff; white-space: nowrap; \"><font color=\"#3333ff\" face=\"Georgia\" style=\"font-size: 24px\"><i>N</i>:垂直抗力</font></div></div></div></foreignObject><text fill=\"#000000\" font-family=\"Helvetica\" font-size=\"11px\" text-anchor=\"middle\" x=\"701\" y=\"17\">N:垂直抗力</text></switch></g><path d=\"M 679.5 113 L 679.5 221.03\" fill=\"none\" pointer-events=\"stroke\" stroke=\"#000000\" stroke-miterlimit=\"10\" stroke-width=\"4\"/><path d=\"M 679.5 228.53 L 674.5 218.53 L 679.5 221.03 L 684.5 218.53 Z\" fill=\"#000000\" pointer-events=\"all\" stroke=\"#000000\" stroke-miterlimit=\"10\" stroke-width=\"4\"/><g transform=\"translate(-0.5 -0.5)\"><switch><foreignObject height=\"100%\" pointer-events=\"none\" requiredFeatures=\"http://www.w3.org/TR/SVG11/feature#Extensibility\" style=\"overflow: visible; text-align: left;\" width=\"100%\"><div style=\"display: flex; align-items: unsafe center; justify-content: unsafe center; width: 1px; height: 1px; padding-top: 194px; margin-left: 720px;\" xmlns=\"http://www.w3.org/1999/xhtml\"><div style=\"box-sizing: border-box; font-size: 0; text-align: center; \"><div style=\"display: inline-block; font-size: 11px; font-family: Helvetica; color: #000000; line-height: 1.2; pointer-events: all; background-color: #ffffff; white-space: nowrap; \"><font face=\"Georgia\" style=\"font-size: 18px\"><i>W=mg</i></font></div></div></div></foreignObject><text fill=\"#000000\" font-family=\"Helvetica\" font-size=\"11px\" text-anchor=\"middle\" x=\"720\" y=\"197\">W=mg</text></switch></g><rect fill=\"#ffffff\" height=\"9\" pointer-events=\"all\" stroke=\"#000000\" width=\"9\" x=\"702\" y=\"143\"/></g><switch><g requiredFeatures=\"http://www.w3.org/TR/SVG11/feature#Extensibility\"/><a target=\"_blank\" transform=\"translate(0,-5)\" xlink:href=\"https://desk.draw.io/support/solutions/articles/16000042487\"><text font-size=\"10px\" text-anchor=\"middle\" x=\"50%\" y=\"100%\">Viewer does not support full SVG 1.1</text></a></switch></svg>"
          },
          "metadata": {
            "tags": []
          }
        }
      ]
    },
    {
      "cell_type": "markdown",
      "metadata": {
        "id": "b6PEMfA1c1Of",
        "colab_type": "text"
      },
      "source": [
        "#### 重力 $W$ と垂直抗力 $N$ のつりあい\n",
        "\n",
        "鉛直上むきを正として, 水平な床に置かれた箱に働いている\n",
        "重力 $W$ と垂直抗力 $N$ のつりあいをしらべると\n",
        "\\begin{align*}\n",
        "N + \\left( - W \\right) &= 0&\n",
        "\\end{align*}\n",
        "これを利用すれば\n",
        "\\begin{align*}\n",
        "N & = W&\\\\\n",
        "&= mg &\n",
        "\\end{align*}"
      ]
    },
    {
      "cell_type": "markdown",
      "metadata": {
        "id": "LQcA-N1sdknP",
        "colab_type": "text"
      },
      "source": [
        "垂直抗力のポイント\n",
        "- 床に対して垂直に働く\n",
        "- 床との関わりを表す力"
      ]
    },
    {
      "cell_type": "markdown",
      "metadata": {
        "id": "Xjm-hK9tyzBk",
        "colab_type": "text"
      },
      "source": [
        "> Q 上の図の垂直抗力の反作用を考えてください."
      ]
    }
  ]
}
