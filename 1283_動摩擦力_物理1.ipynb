{
  "nbformat": 4,
  "nbformat_minor": 0,
  "metadata": {
    "colab": {
      "name": "1283_動摩擦力_物理1",
      "provenance": [],
      "authorship_tag": "ABX9TyO3HVrAgrMcJkC5aVN28g6+",
      "include_colab_link": true
    },
    "kernelspec": {
      "name": "python3",
      "display_name": "Python 3"
    }
  },
  "cells": [
    {
      "cell_type": "markdown",
      "metadata": {
        "id": "view-in-github",
        "colab_type": "text"
      },
      "source": [
        "<a href=\"https://colab.research.google.com/github/kzhkAKT/Physics1/blob/draft/1283_%E5%8B%95%E6%91%A9%E6%93%A6%E5%8A%9B_%E7%89%A9%E7%90%861.ipynb\" target=\"_parent\"><img src=\"https://colab.research.google.com/assets/colab-badge.svg\" alt=\"Open In Colab\"/></a>"
      ]
    },
    {
      "cell_type": "markdown",
      "metadata": {
        "id": "0juxvOgvalHs",
        "colab_type": "text"
      },
      "source": [
        "# 力と運動"
      ]
    },
    {
      "cell_type": "markdown",
      "metadata": {
        "id": "yMT7m9Wmamv4",
        "colab_type": "text"
      },
      "source": [
        "## 力と運動の法則\n"
      ]
    },
    {
      "cell_type": "markdown",
      "metadata": {
        "id": "QQsJpK9-asOC",
        "colab_type": "text"
      },
      "source": [
        "### 垂直抗力と摩擦力"
      ]
    },
    {
      "cell_type": "code",
      "metadata": {
        "id": "x6ALJz9A2yyv",
        "colab_type": "code",
        "colab": {
          "base_uri": "https://localhost:8080/",
          "height": 288
        },
        "cellView": "form",
        "outputId": "5f70bc7a-c4f8-4ef2-dc24-d6761927b4b0"
      },
      "source": [
        "#@title 静止摩擦力, 最大静止摩擦力と動摩擦力の外力との関係\n",
        "%%svg\n",
        " <svg xmlns=\"http://www.w3.org/2000/svg\" xmlns:xlink=\"http://www.w3.org/1999/xlink\" version=\"1.1\" width=\"369px\" viewBox=\"-0.5 -0.5 369 267\" content=\"&lt;mxfile host=&quot;app.diagrams.net&quot; modified=&quot;2020-06-22T11:47:45.685Z&quot; agent=&quot;5.0 (Macintosh; Intel Mac OS X 10_15_5) AppleWebKit/537.36 (KHTML, like Gecko) Chrome/83.0.4103.106 Safari/537.36&quot; etag=&quot;vgFCdbQKy6IkhaXe6j9r&quot; version=&quot;13.3.0&quot; type=&quot;google&quot;&gt;&lt;diagram id=&quot;gtxVqpwrCzEE8LL-whKf&quot; name=&quot;Page-1&quot;&gt;7Zlfb9o6FMA/jdWnVf4DIXkECp2mbarWhyvdlytDnGAtiVkSWrpPPzuxkzgQWkrDpdsQEsmxfc6xfc7PJwGQaby9Tel69UX4LAIY+ltAbgDGI4yB+kL/qRQMISwFYcr9UoRqwT3/ybTQdNtwn2VWx1yIKOdrW7gUScKWuSWjaSoe7W6BiGyraxqyHcH9kka70n+4n69KqYtHtfwj4+HKWEaOV7bE1HTWM8lW1BePDRGZATJNhcjLq3g7ZZFaO7Mu5bh5R2vlWMqS/CUDHtj3+7t//Vv27dPdzeLxP5RkwQet5YFGGz1h7Wz+ZFaAJf5YLaS8W0Y0y/gSkMkqjyMpQPKyHMD8nXWsHUPVdGWYMBGzPH2SXR7rBR3qRVo11tLIUhbRnD/Y6qne17BSV1m4E1waxlCHIHK0Hh2B2IW2ikxs0iXTo5oL2FI0cJ9RlNM0ZPmOInnRmHYtKvbniL3y9uyVE8nFmnBrx5wfGxVTk0Ak+YeAxjySVscql5hIQ06LPYNFa1bkm2pDeL0tGsxoeRWq37kxIn3mRmhk2WbRo2nYMF1Yahlf06RH62UzmA3BeAA8R124Y+BNmk4VHhiv2nkjM+IzXUgcWulCIx4mKpdkdrBUCh5YmnMJnLFuiLnvKx2TlEkv6aLQB+X9WgVWEWrDCRje6IlqZCJc+aAUsq2VLZqOWlnNpGaSdvNhN3O1dng9Gp6Wo0827c0IEQQZ6yWJ8O8PPAxtThH8SuC1FZ2Zd2jf4fR2wCMdeR+orD/EvLfBTpd5gx0HeAiMveKCgPHF84f0wh/8DH9cjAZWjJoEPzGHjBqjleBzAYocBSgh+9n7KxvnPDJ3WZ6K72wqIpEWYwkhnjefVy2mpiXvkGuvLuRIqyJEbUD2DDank2sqoRQr6NJGy60mSYMWXQBqIMaViNnlS43QlxZ4h6uxwgNbZXBIpZSV0/z/uPX2nCLPcAo6+MRKyYBpMLh2h1b4KgFsfFo6+0PV6NTzWTbReF1sCCED+RtWcW7LVd+9p+jeEA+q8ckiW9uhd8Jx3pO3YIaB66kTvttr+6C/lDW+4DXdxVdMt4cfJzuW+RLmYoeFcgKCNnPBdAYmMo/h146deVls/Qkwdl1EeikaR/gatjWT65HX/IzORefBUYVkIhJm73Emq6C8VWcWMl1ewn3l5XyuTqB3WV62q8Kq3Dz5PWFbUc/lpXu5xzK8uuxjozC6F5Qtzl79Ba1BzAHQDuTjZi+gRU5L7dkez9FxLxA1Vn2arZiv99Ri7MsezxHoetn7fni685T92teQ535cR8e9kjl2yzuOzPe45UN88UeovK3/ci271/9bk9kv&lt;/diagram&gt;&lt;/mxfile&gt;\" onclick=\"(function(svg){var src=window.event.target||window.event.srcElement;while (src!=null&amp;&amp;src.nodeName.toLowerCase()!='a'){src=src.parentNode;}if(src==null){if(svg.wnd!=null&amp;&amp;!svg.wnd.closed){svg.wnd.focus();}else{var r=function(evt){if(evt.data=='ready'&amp;&amp;evt.source==svg.wnd){svg.wnd.postMessage(decodeURIComponent(svg.getAttribute('content')),'*');window.removeEventListener('message',r);}};window.addEventListener('message',r);svg.wnd=window.open('https://app.diagrams.net/?client=1&amp;lightbox=1&amp;edit=_blank');}}})(this);\" style=\"cursor:pointer;max-width:100%;max-height:267px;\"><defs/><g><path d=\"M 7 218 L 320.63 218\" fill=\"none\" stroke=\"#000000\" stroke-miterlimit=\"10\" pointer-events=\"stroke\"/><path d=\"M 325.88 218 L 318.88 221.5 L 320.63 218 L 318.88 214.5 Z\" fill=\"#000000\" stroke=\"#000000\" stroke-miterlimit=\"10\" pointer-events=\"all\"/><g transform=\"translate(-0.5 -0.5)\"><switch><foreignObject style=\"overflow: visible; text-align: left;\" pointer-events=\"none\" width=\"100%\" height=\"100%\" requiredFeatures=\"http://www.w3.org/TR/SVG11/feature#Extensibility\"><div xmlns=\"http://www.w3.org/1999/xhtml\" style=\"display: flex; align-items: unsafe center; justify-content: unsafe center; width: 1px; height: 1px; padding-top: 229px; margin-left: 288px;\"><div style=\"box-sizing: border-box; font-size: 0; text-align: center; \"><div style=\"display: inline-block; font-size: 12px; font-family: Helvetica; color: #000000; line-height: 1.2; pointer-events: all; background-color: #ffffff; white-space: nowrap; \"><i style=\"font-family: &quot;georgia&quot; ; font-size: 12px\">F</i><sub style=\"font-family: &quot;georgia&quot; ; font-size: 12px\">0</sub><span style=\"font-family: &quot;georgia&quot; ; font-size: 12px\">: 外力</span></div></div></div></foreignObject><text x=\"288\" y=\"232\" fill=\"#000000\" font-family=\"Helvetica\" font-size=\"12px\" text-anchor=\"middle\">F0: 外力</text></switch></g><path d=\"M 47 258 L 47 24.37\" fill=\"none\" stroke=\"#000000\" stroke-miterlimit=\"10\" pointer-events=\"stroke\"/><path d=\"M 47 19.12 L 50.5 26.12 L 47 24.37 L 43.5 26.12 Z\" fill=\"#000000\" stroke=\"#000000\" stroke-miterlimit=\"10\" pointer-events=\"all\"/><g transform=\"translate(-0.5 -0.5)\"><switch><foreignObject style=\"overflow: visible; text-align: left;\" pointer-events=\"none\" width=\"100%\" height=\"100%\" requiredFeatures=\"http://www.w3.org/TR/SVG11/feature#Extensibility\"><div xmlns=\"http://www.w3.org/1999/xhtml\" style=\"display: flex; align-items: unsafe center; justify-content: unsafe center; width: 1px; height: 1px; padding-top: 8px; margin-left: 48px;\"><div style=\"box-sizing: border-box; font-size: 0; text-align: center; \"><div style=\"display: inline-block; font-size: 13px; font-family: Helvetica; color: #000000; line-height: 1.2; pointer-events: all; background-color: #ffffff; white-space: nowrap; \"><i style=\"font-family: &quot;georgia&quot; ; font-size: 13px\">f </i><span style=\"font-family: &quot;georgia&quot; ; font-size: 13px\">: 摩擦力</span></div></div></div></foreignObject><text x=\"48\" y=\"11\" fill=\"#000000\" font-family=\"Helvetica\" font-size=\"13px\" text-anchor=\"middle\">f : 摩擦力</text></switch></g><path d=\"M 47 218 L 204.88 60.12\" fill=\"none\" stroke=\"#3399ff\" stroke-width=\"3\" stroke-miterlimit=\"10\" pointer-events=\"stroke\"/><ellipse cx=\"207\" cy=\"58\" rx=\"3\" ry=\"3\" fill=\"#3399ff\" stroke=\"#3399ff\" stroke-width=\"3\" pointer-events=\"all\"/><g transform=\"translate(-0.5 -0.5)\"><switch><foreignObject style=\"overflow: visible; text-align: left;\" pointer-events=\"none\" width=\"100%\" height=\"100%\" requiredFeatures=\"http://www.w3.org/TR/SVG11/feature#Extensibility\"><div xmlns=\"http://www.w3.org/1999/xhtml\" style=\"display: flex; align-items: unsafe center; justify-content: unsafe center; width: 1px; height: 1px; padding-top: 138px; margin-left: 88px;\"><div style=\"box-sizing: border-box; font-size: 0; text-align: center; \"><div style=\"display: inline-block; font-size: 11px; font-family: Helvetica; color: #000000; line-height: 1.2; pointer-events: all; background-color: #ffffff; white-space: nowrap; \"><font face=\"Georgia\" style=\"font-size: 18px\"><i>F</i><sub>0</sub>=<i>f</i></font></div></div></div></foreignObject><text x=\"88\" y=\"142\" fill=\"#000000\" font-family=\"Helvetica\" font-size=\"11px\" text-anchor=\"middle\">F0=f</text></switch></g><g transform=\"translate(-0.5 -0.5)\"><switch><foreignObject style=\"overflow: visible; text-align: left;\" pointer-events=\"none\" width=\"100%\" height=\"100%\" requiredFeatures=\"http://www.w3.org/TR/SVG11/feature#Extensibility\"><div xmlns=\"http://www.w3.org/1999/xhtml\" style=\"display: flex; align-items: unsafe center; justify-content: unsafe center; width: 1px; height: 1px; padding-top: 46px; margin-left: 127px;\"><div style=\"box-sizing: border-box; font-size: 0; text-align: center; \"><div style=\"display: inline-block; font-size: 11px; font-family: Helvetica; color: #000000; line-height: 1.2; pointer-events: all; background-color: #ffffff; white-space: nowrap; \"><i style=\"font-family: &quot;georgia&quot; ; font-size: 18px\">f </i><span style=\"font-family: &quot;georgia&quot; ; font-size: 18px\">≦ </span><i style=\"font-family: &quot;georgia&quot; ; font-size: 18px\">f</i><span style=\"font-family: &quot;georgia&quot; ; font-size: 18px\"><sub>max</sub></span><span style=\"font-family: &quot;georgia&quot; ; font-size: 18px\"> = <i>μ N</i> </span></div></div></div></foreignObject><text x=\"127\" y=\"49\" fill=\"#000000\" font-family=\"Helvetica\" font-size=\"11px\" text-anchor=\"middle\">f ≦ fmax = μ N </text></switch></g><path d=\"M 210 138 L 327 138\" fill=\"none\" stroke=\"#ff0000\" stroke-width=\"3\" stroke-miterlimit=\"10\" pointer-events=\"stroke\"/><ellipse cx=\"207\" cy=\"138\" rx=\"3\" ry=\"3\" fill=\"none\" stroke=\"#ff0000\" stroke-width=\"3\" pointer-events=\"all\"/><g transform=\"translate(-0.5 -0.5)\"><switch><foreignObject style=\"overflow: visible; text-align: left;\" pointer-events=\"none\" width=\"100%\" height=\"100%\" requiredFeatures=\"http://www.w3.org/TR/SVG11/feature#Extensibility\"><div xmlns=\"http://www.w3.org/1999/xhtml\" style=\"display: flex; align-items: unsafe center; justify-content: unsafe center; width: 1px; height: 1px; padding-top: 119px; margin-left: 278px;\"><div style=\"box-sizing: border-box; font-size: 0; text-align: center; \"><div style=\"display: inline-block; font-size: 11px; font-family: Helvetica; color: #000000; line-height: 1.2; pointer-events: all; background-color: #ffffff; white-space: nowrap; \"><i style=\"font-family: &quot;georgia&quot; ; font-size: 18px\">f '</i><span style=\"font-family: &quot;georgia&quot; ; font-size: 18px\">= <i>μ' N</i> </span></div></div></div></foreignObject><text x=\"278\" y=\"122\" fill=\"#000000\" font-family=\"Helvetica\" font-size=\"11px\" text-anchor=\"middle\">f '= μ' N </text></switch></g><path d=\"M 207 58 L 47 58\" fill=\"none\" stroke=\"#3399ff\" stroke-miterlimit=\"10\" stroke-dasharray=\"3 3\" pointer-events=\"stroke\"/><path d=\"M 367 138 L 327 138\" fill=\"none\" stroke=\"#ff0000\" stroke-miterlimit=\"10\" stroke-dasharray=\"3 3\" pointer-events=\"stroke\"/></g><switch><g requiredFeatures=\"http://www.w3.org/TR/SVG11/feature#Extensibility\"/><a transform=\"translate(0,-5)\" xlink:href=\"https://desk.draw.io/support/solutions/articles/16000042487\" target=\"_blank\"><text text-anchor=\"middle\" font-size=\"10px\" x=\"50%\" y=\"100%\">Viewer does not support full SVG 1.1</text></a></switch></svg>"
      ],
      "execution_count": 1,
      "outputs": [
        {
          "output_type": "display_data",
          "data": {
            "text/plain": [
              "<IPython.core.display.SVG object>"
            ],
            "image/svg+xml": "<svg content=\"&lt;mxfile host=&quot;app.diagrams.net&quot; modified=&quot;2020-06-22T11:47:45.685Z&quot; agent=&quot;5.0 (Macintosh; Intel Mac OS X 10_15_5) AppleWebKit/537.36 (KHTML, like Gecko) Chrome/83.0.4103.106 Safari/537.36&quot; etag=&quot;vgFCdbQKy6IkhaXe6j9r&quot; version=&quot;13.3.0&quot; type=&quot;google&quot;&gt;&lt;diagram id=&quot;gtxVqpwrCzEE8LL-whKf&quot; name=&quot;Page-1&quot;&gt;7Zlfb9o6FMA/jdWnVf4DIXkECp2mbarWhyvdlytDnGAtiVkSWrpPPzuxkzgQWkrDpdsQEsmxfc6xfc7PJwGQaby9Tel69UX4LAIY+ltAbgDGI4yB+kL/qRQMISwFYcr9UoRqwT3/ybTQdNtwn2VWx1yIKOdrW7gUScKWuSWjaSoe7W6BiGyraxqyHcH9kka70n+4n69KqYtHtfwj4+HKWEaOV7bE1HTWM8lW1BePDRGZATJNhcjLq3g7ZZFaO7Mu5bh5R2vlWMqS/CUDHtj3+7t//Vv27dPdzeLxP5RkwQet5YFGGz1h7Wz+ZFaAJf5YLaS8W0Y0y/gSkMkqjyMpQPKyHMD8nXWsHUPVdGWYMBGzPH2SXR7rBR3qRVo11tLIUhbRnD/Y6qne17BSV1m4E1waxlCHIHK0Hh2B2IW2ikxs0iXTo5oL2FI0cJ9RlNM0ZPmOInnRmHYtKvbniL3y9uyVE8nFmnBrx5wfGxVTk0Ak+YeAxjySVscql5hIQ06LPYNFa1bkm2pDeL0tGsxoeRWq37kxIn3mRmhk2WbRo2nYMF1Yahlf06RH62UzmA3BeAA8R124Y+BNmk4VHhiv2nkjM+IzXUgcWulCIx4mKpdkdrBUCh5YmnMJnLFuiLnvKx2TlEkv6aLQB+X9WgVWEWrDCRje6IlqZCJc+aAUsq2VLZqOWlnNpGaSdvNhN3O1dng9Gp6Wo0827c0IEQQZ6yWJ8O8PPAxtThH8SuC1FZ2Zd2jf4fR2wCMdeR+orD/EvLfBTpd5gx0HeAiMveKCgPHF84f0wh/8DH9cjAZWjJoEPzGHjBqjleBzAYocBSgh+9n7KxvnPDJ3WZ6K72wqIpEWYwkhnjefVy2mpiXvkGuvLuRIqyJEbUD2DDank2sqoRQr6NJGy60mSYMWXQBqIMaViNnlS43QlxZ4h6uxwgNbZXBIpZSV0/z/uPX2nCLPcAo6+MRKyYBpMLh2h1b4KgFsfFo6+0PV6NTzWTbReF1sCCED+RtWcW7LVd+9p+jeEA+q8ckiW9uhd8Jx3pO3YIaB66kTvttr+6C/lDW+4DXdxVdMt4cfJzuW+RLmYoeFcgKCNnPBdAYmMo/h146deVls/Qkwdl1EeikaR/gatjWT65HX/IzORefBUYVkIhJm73Emq6C8VWcWMl1ewn3l5XyuTqB3WV62q8Kq3Dz5PWFbUc/lpXu5xzK8uuxjozC6F5Qtzl79Ba1BzAHQDuTjZi+gRU5L7dkez9FxLxA1Vn2arZiv99Ri7MsezxHoetn7fni685T92teQ535cR8e9kjl2yzuOzPe45UN88UeovK3/ci271/9bk9kv&lt;/diagram&gt;&lt;/mxfile&gt;\" onclick=\"(function(svg){var src=window.event.target||window.event.srcElement;while (src!=null&amp;&amp;src.nodeName.toLowerCase()!='a'){src=src.parentNode;}if(src==null){if(svg.wnd!=null&amp;&amp;!svg.wnd.closed){svg.wnd.focus();}else{var r=function(evt){if(evt.data=='ready'&amp;&amp;evt.source==svg.wnd){svg.wnd.postMessage(decodeURIComponent(svg.getAttribute('content')),'*');window.removeEventListener('message',r);}};window.addEventListener('message',r);svg.wnd=window.open('https://app.diagrams.net/?client=1&amp;lightbox=1&amp;edit=_blank');}}})(this);\" style=\"cursor:pointer;max-width:100%;max-height:267px;\" version=\"1.1\" viewBox=\"-0.5 -0.5 369 267\" width=\"369px\" xmlns=\"http://www.w3.org/2000/svg\" xmlns:xlink=\"http://www.w3.org/1999/xlink\"><defs/><g><path d=\"M 7 218 L 320.63 218\" fill=\"none\" pointer-events=\"stroke\" stroke=\"#000000\" stroke-miterlimit=\"10\"/><path d=\"M 325.88 218 L 318.88 221.5 L 320.63 218 L 318.88 214.5 Z\" fill=\"#000000\" pointer-events=\"all\" stroke=\"#000000\" stroke-miterlimit=\"10\"/><g transform=\"translate(-0.5 -0.5)\"><switch><foreignObject height=\"100%\" pointer-events=\"none\" requiredFeatures=\"http://www.w3.org/TR/SVG11/feature#Extensibility\" style=\"overflow: visible; text-align: left;\" width=\"100%\"><div style=\"display: flex; align-items: unsafe center; justify-content: unsafe center; width: 1px; height: 1px; padding-top: 229px; margin-left: 288px;\" xmlns=\"http://www.w3.org/1999/xhtml\"><div style=\"box-sizing: border-box; font-size: 0; text-align: center; \"><div style=\"display: inline-block; font-size: 12px; font-family: Helvetica; color: #000000; line-height: 1.2; pointer-events: all; background-color: #ffffff; white-space: nowrap; \"><i style=\"font-family: &quot;georgia&quot; ; font-size: 12px\">F</i><sub style=\"font-family: &quot;georgia&quot; ; font-size: 12px\">0</sub><span style=\"font-family: &quot;georgia&quot; ; font-size: 12px\">: 外力</span></div></div></div></foreignObject><text fill=\"#000000\" font-family=\"Helvetica\" font-size=\"12px\" text-anchor=\"middle\" x=\"288\" y=\"232\">F0: 外力</text></switch></g><path d=\"M 47 258 L 47 24.37\" fill=\"none\" pointer-events=\"stroke\" stroke=\"#000000\" stroke-miterlimit=\"10\"/><path d=\"M 47 19.12 L 50.5 26.12 L 47 24.37 L 43.5 26.12 Z\" fill=\"#000000\" pointer-events=\"all\" stroke=\"#000000\" stroke-miterlimit=\"10\"/><g transform=\"translate(-0.5 -0.5)\"><switch><foreignObject height=\"100%\" pointer-events=\"none\" requiredFeatures=\"http://www.w3.org/TR/SVG11/feature#Extensibility\" style=\"overflow: visible; text-align: left;\" width=\"100%\"><div style=\"display: flex; align-items: unsafe center; justify-content: unsafe center; width: 1px; height: 1px; padding-top: 8px; margin-left: 48px;\" xmlns=\"http://www.w3.org/1999/xhtml\"><div style=\"box-sizing: border-box; font-size: 0; text-align: center; \"><div style=\"display: inline-block; font-size: 13px; font-family: Helvetica; color: #000000; line-height: 1.2; pointer-events: all; background-color: #ffffff; white-space: nowrap; \"><i style=\"font-family: &quot;georgia&quot; ; font-size: 13px\">f </i><span style=\"font-family: &quot;georgia&quot; ; font-size: 13px\">: 摩擦力</span></div></div></div></foreignObject><text fill=\"#000000\" font-family=\"Helvetica\" font-size=\"13px\" text-anchor=\"middle\" x=\"48\" y=\"11\">f : 摩擦力</text></switch></g><path d=\"M 47 218 L 204.88 60.12\" fill=\"none\" pointer-events=\"stroke\" stroke=\"#3399ff\" stroke-miterlimit=\"10\" stroke-width=\"3\"/><ellipse cx=\"207\" cy=\"58\" fill=\"#3399ff\" pointer-events=\"all\" rx=\"3\" ry=\"3\" stroke=\"#3399ff\" stroke-width=\"3\"/><g transform=\"translate(-0.5 -0.5)\"><switch><foreignObject height=\"100%\" pointer-events=\"none\" requiredFeatures=\"http://www.w3.org/TR/SVG11/feature#Extensibility\" style=\"overflow: visible; text-align: left;\" width=\"100%\"><div style=\"display: flex; align-items: unsafe center; justify-content: unsafe center; width: 1px; height: 1px; padding-top: 138px; margin-left: 88px;\" xmlns=\"http://www.w3.org/1999/xhtml\"><div style=\"box-sizing: border-box; font-size: 0; text-align: center; \"><div style=\"display: inline-block; font-size: 11px; font-family: Helvetica; color: #000000; line-height: 1.2; pointer-events: all; background-color: #ffffff; white-space: nowrap; \"><font face=\"Georgia\" style=\"font-size: 18px\"><i>F</i><sub>0</sub>=<i>f</i></font></div></div></div></foreignObject><text fill=\"#000000\" font-family=\"Helvetica\" font-size=\"11px\" text-anchor=\"middle\" x=\"88\" y=\"142\">F0=f</text></switch></g><g transform=\"translate(-0.5 -0.5)\"><switch><foreignObject height=\"100%\" pointer-events=\"none\" requiredFeatures=\"http://www.w3.org/TR/SVG11/feature#Extensibility\" style=\"overflow: visible; text-align: left;\" width=\"100%\"><div style=\"display: flex; align-items: unsafe center; justify-content: unsafe center; width: 1px; height: 1px; padding-top: 46px; margin-left: 127px;\" xmlns=\"http://www.w3.org/1999/xhtml\"><div style=\"box-sizing: border-box; font-size: 0; text-align: center; \"><div style=\"display: inline-block; font-size: 11px; font-family: Helvetica; color: #000000; line-height: 1.2; pointer-events: all; background-color: #ffffff; white-space: nowrap; \"><i style=\"font-family: &quot;georgia&quot; ; font-size: 18px\">f </i><span style=\"font-family: &quot;georgia&quot; ; font-size: 18px\">≦ </span><i style=\"font-family: &quot;georgia&quot; ; font-size: 18px\">f</i><span style=\"font-family: &quot;georgia&quot; ; font-size: 18px\"><sub>max</sub></span><span style=\"font-family: &quot;georgia&quot; ; font-size: 18px\"> = <i>μ N</i> </span></div></div></div></foreignObject><text fill=\"#000000\" font-family=\"Helvetica\" font-size=\"11px\" text-anchor=\"middle\" x=\"127\" y=\"49\">f ≦ fmax = μ N </text></switch></g><path d=\"M 210 138 L 327 138\" fill=\"none\" pointer-events=\"stroke\" stroke=\"#ff0000\" stroke-miterlimit=\"10\" stroke-width=\"3\"/><ellipse cx=\"207\" cy=\"138\" fill=\"none\" pointer-events=\"all\" rx=\"3\" ry=\"3\" stroke=\"#ff0000\" stroke-width=\"3\"/><g transform=\"translate(-0.5 -0.5)\"><switch><foreignObject height=\"100%\" pointer-events=\"none\" requiredFeatures=\"http://www.w3.org/TR/SVG11/feature#Extensibility\" style=\"overflow: visible; text-align: left;\" width=\"100%\"><div style=\"display: flex; align-items: unsafe center; justify-content: unsafe center; width: 1px; height: 1px; padding-top: 119px; margin-left: 278px;\" xmlns=\"http://www.w3.org/1999/xhtml\"><div style=\"box-sizing: border-box; font-size: 0; text-align: center; \"><div style=\"display: inline-block; font-size: 11px; font-family: Helvetica; color: #000000; line-height: 1.2; pointer-events: all; background-color: #ffffff; white-space: nowrap; \"><i style=\"font-family: &quot;georgia&quot; ; font-size: 18px\">f '</i><span style=\"font-family: &quot;georgia&quot; ; font-size: 18px\">= <i>μ' N</i> </span></div></div></div></foreignObject><text fill=\"#000000\" font-family=\"Helvetica\" font-size=\"11px\" text-anchor=\"middle\" x=\"278\" y=\"122\">f '= μ' N </text></switch></g><path d=\"M 207 58 L 47 58\" fill=\"none\" pointer-events=\"stroke\" stroke=\"#3399ff\" stroke-dasharray=\"3 3\" stroke-miterlimit=\"10\"/><path d=\"M 367 138 L 327 138\" fill=\"none\" pointer-events=\"stroke\" stroke=\"#ff0000\" stroke-dasharray=\"3 3\" stroke-miterlimit=\"10\"/></g><switch><g requiredFeatures=\"http://www.w3.org/TR/SVG11/feature#Extensibility\"/><a target=\"_blank\" transform=\"translate(0,-5)\" xlink:href=\"https://desk.draw.io/support/solutions/articles/16000042487\"><text font-size=\"10px\" text-anchor=\"middle\" x=\"50%\" y=\"100%\">Viewer does not support full SVG 1.1</text></a></switch></svg>"
          },
          "metadata": {
            "tags": []
          }
        }
      ]
    },
    {
      "cell_type": "markdown",
      "metadata": {
        "id": "Hjad8BONavMa",
        "colab_type": "text"
      },
      "source": [
        "#### 動摩擦力"
      ]
    },
    {
      "cell_type": "code",
      "metadata": {
        "id": "yNSDEvACEWoy",
        "colab_type": "code",
        "colab": {
          "base_uri": "https://localhost:8080/",
          "height": 336
        },
        "cellView": "form",
        "outputId": "10f0916a-0379-4685-9f43-0e98426c1b10"
      },
      "source": [
        "#@title 動摩擦力(Kinetic friction)と静止摩擦力(Static friction)の典型例\n",
        "%%html\n",
        "<iframe width=\"560\" height=\"315\" src=\"https://www.youtube-nocookie.com/embed/CTLXubXOTUQ\" frameborder=\"0\" allow=\"accelerometer; autoplay; encrypted-media; gyroscope; picture-in-picture\" allowfullscreen></iframe>"
      ],
      "execution_count": 3,
      "outputs": [
        {
          "output_type": "display_data",
          "data": {
            "text/html": [
              "<iframe width=\"560\" height=\"315\" src=\"https://www.youtube-nocookie.com/embed/CTLXubXOTUQ\" frameborder=\"0\" allow=\"accelerometer; autoplay; encrypted-media; gyroscope; picture-in-picture\" allowfullscreen></iframe>"
            ],
            "text/plain": [
              "<IPython.core.display.HTML object>"
            ]
          },
          "metadata": {
            "tags": []
          }
        }
      ]
    },
    {
      "cell_type": "markdown",
      "metadata": {
        "id": "P5C0-GJ23kUA",
        "colab_type": "text"
      },
      "source": [
        "動摩擦力 $f'$ の特徴\n",
        "- 動いているときだけに働く\n",
        "- 速度の方向と逆向き\n",
        "- 動摩擦係数 $\\mu'$ で, 垂直抗力 $N$ と結びつく"
      ]
    }
  ]
}