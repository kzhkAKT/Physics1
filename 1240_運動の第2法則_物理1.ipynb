{
  "nbformat": 4,
  "nbformat_minor": 0,
  "metadata": {
    "colab": {
      "name": "1240_運動の第2法則_物理1",
      "provenance": [],
      "collapsed_sections": [],
      "authorship_tag": "ABX9TyMh9wq6Yr4ZMREOn72DLvyF",
      "include_colab_link": true
    },
    "kernelspec": {
      "name": "python3",
      "display_name": "Python 3"
    }
  },
  "cells": [
    {
      "cell_type": "markdown",
      "metadata": {
        "id": "view-in-github",
        "colab_type": "text"
      },
      "source": [
        "<a href=\"https://colab.research.google.com/github/kzhkAKT/Physics1/blob/master/1240_%E9%81%8B%E5%8B%95%E3%81%AE%E7%AC%AC2%E6%B3%95%E5%89%87_%E7%89%A9%E7%90%861.ipynb\" target=\"_parent\"><img src=\"https://colab.research.google.com/assets/colab-badge.svg\" alt=\"Open In Colab\"/></a>"
      ]
    },
    {
      "cell_type": "markdown",
      "metadata": {
        "id": "iJrnyhMfl0ST",
        "colab_type": "text"
      },
      "source": [
        "# 力と運動の法則"
      ]
    },
    {
      "cell_type": "markdown",
      "metadata": {
        "id": "vfaTWtrhH3Ml",
        "colab_type": "text"
      },
      "source": [
        "## 運動の第二法則/ 運動方程式\n",
        "\n",
        "加速度: $a$, 力:$F$, 質量: $m$ とすると, この三つは次の式[運動方程式]で取りまとめることができる.\n",
        "\n",
        ">> $\\qquad m \\cdot a = F$\n",
        "\n",
        "この運動方程式を加速度を中心にまとめると $a$ を\n",
        "\\begin{align*}\n",
        "a &= \\dfrac{F}{M},&\\\\\n",
        "\\end{align*}\n",
        "これを比例記号 $\\propto$ を用いて分けると\n",
        "\\begin{align*}\n",
        "a &\\propto F&\\\\\n",
        "a &\\propto \\dfrac{1}{M}&\\\\\n",
        "\\end{align*}\n",
        "これを言葉で表すと\n",
        "- 加速度は力に比例する\n",
        "- 加速度は質量に反比例する\n",
        "ということができます. 以下ではこれを順番に確認していきます.\n",
        " "
      ]
    },
    {
      "cell_type": "code",
      "metadata": {
        "id": "Za-5tgrONfrC",
        "colab_type": "code",
        "cellView": "form",
        "outputId": "55d441db-7b65-4a58-af67-46d2e10e0fe0",
        "colab": {
          "base_uri": "https://localhost:8080/",
          "height": 336
        }
      },
      "source": [
        "#@title 台車による運動方程式の確認\n",
        "%%html \n",
        "<iframe width=\"560\" height=\"315\" src=\"https://www.youtube-nocookie.com/embed/ugfVfB9kj4Q\" frameborder=\"0\" allow=\"accelerometer; autoplay; encrypted-media; gyroscope; picture-in-picture\" allowfullscreen></iframe>"
      ],
      "execution_count": 0,
      "outputs": [
        {
          "output_type": "display_data",
          "data": {
            "text/html": [
              "<iframe width=\"560\" height=\"315\" src=\"https://www.youtube-nocookie.com/embed/ugfVfB9kj4Q\" frameborder=\"0\" allow=\"accelerometer; autoplay; encrypted-media; gyroscope; picture-in-picture\" allowfullscreen></iframe>"
            ],
            "text/plain": [
              "<IPython.core.display.HTML object>"
            ]
          },
          "metadata": {
            "tags": []
          }
        }
      ]
    },
    {
      "cell_type": "markdown",
      "metadata": {
        "id": "z-pP4JyPl1pc",
        "colab_type": "text"
      },
      "source": [
        "## 加速度と力の関係\n",
        "\n",
        "加速度: $a$, 力: $F$\n",
        "\n",
        "ここで示したいことは\n",
        "\\begin{align*}\n",
        "a \\propto F\n",
        "\\end{align*}\n",
        "です. これは\n",
        "> 加速度 $a$ は力 $F$ に比例している\n",
        "\n",
        "ことを示しています.\n"
      ]
    },
    {
      "cell_type": "code",
      "metadata": {
        "id": "_rrCUgi1mXYO",
        "colab_type": "code",
        "cellView": "form",
        "outputId": "d53edef9-c2d0-4508-f311-18ac3470f8af",
        "colab": {
          "base_uri": "https://localhost:8080/",
          "height": 475
        }
      },
      "source": [
        "#@title シミュレーション: 加速度と力の関係(Motion)\n",
        "%%html\n",
        "<iframe src=\"https://phet.colorado.edu/sims/html/forces-and-motion-basics/latest/forces-and-motion-basics_en.html\" width=\"600\" height=\"450\" scrolling=\"no\" allowfullscreen></iframe>"
      ],
      "execution_count": 1,
      "outputs": [
        {
          "output_type": "display_data",
          "data": {
            "text/html": [
              "<iframe src=\"https://phet.colorado.edu/sims/html/forces-and-motion-basics/latest/forces-and-motion-basics_en.html\" width=\"600\" height=\"450\" scrolling=\"no\" allowfullscreen></iframe>"
            ],
            "text/plain": [
              "<IPython.core.display.HTML object>"
            ]
          },
          "metadata": {
            "tags": []
          }
        }
      ]
    },
    {
      "cell_type": "markdown",
      "metadata": {
        "colab_type": "text",
        "id": "V96rbfxjKmUO"
      },
      "source": [
        "## 加速度と質量の関係\n",
        "\n",
        "加速度: $a$, 質量: $m$\n",
        "\n",
        "ここで示したいことは\n",
        "\\begin{align*}\n",
        "a \\propto \\dfrac{1}{M}\n",
        "\\end{align*}\n",
        "です. これは\n",
        "> 加速度 $a$ は質量 $m$ に反比例している\n",
        "\n",
        "ことを示しています.\n"
      ]
    },
    {
      "cell_type": "code",
      "metadata": {
        "colab_type": "code",
        "cellView": "form",
        "outputId": "6af5932e-6fbc-4e76-9983-724c9baf38e3",
        "id": "hgs5UWo5KK5x",
        "colab": {
          "base_uri": "https://localhost:8080/",
          "height": 336
        }
      },
      "source": [
        "#@title ISS での運動の第二法則の実験: 加速度と質量の関係(短縮版)\n",
        "%%html \n",
        "<iframe width=\"560\" height=\"315\" src=\"https://www.youtube-nocookie.com/embed/sPZ2bjW53c8\" frameborder=\"0\" allow=\"accelerometer; autoplay; encrypted-media; gyroscope; picture-in-picture\" allowfullscreen></iframe>"
      ],
      "execution_count": 0,
      "outputs": [
        {
          "output_type": "display_data",
          "data": {
            "text/html": [
              "<iframe width=\"560\" height=\"315\" src=\"https://www.youtube-nocookie.com/embed/sPZ2bjW53c8\" frameborder=\"0\" allow=\"accelerometer; autoplay; encrypted-media; gyroscope; picture-in-picture\" allowfullscreen></iframe>"
            ],
            "text/plain": [
              "<IPython.core.display.HTML object>"
            ]
          },
          "metadata": {
            "tags": []
          }
        }
      ]
    },
    {
      "cell_type": "code",
      "metadata": {
        "colab_type": "code",
        "cellView": "both",
        "outputId": "1abdb1db-bc26-4ad4-d933-a39fa7b442f0",
        "id": "xK6jJgKiLHm0",
        "colab": {
          "base_uri": "https://localhost:8080/",
          "height": 475
        }
      },
      "source": [
        "#@title シミュレーション: 加速度と力の関係(Motion)\n",
        "%%html\n",
        "<iframe src=\"https://phet.colorado.edu/sims/html/forces-and-motion-basics/latest/forces-and-motion-basics_en.html\" width=\"600\" height=\"450\" scrolling=\"no\" allowfullscreen></iframe>"
      ],
      "execution_count": 2,
      "outputs": [
        {
          "output_type": "display_data",
          "data": {
            "text/html": [
              "<iframe src=\"https://phet.colorado.edu/sims/html/forces-and-motion-basics/latest/forces-and-motion-basics_en.html\" width=\"600\" height=\"450\" scrolling=\"no\" allowfullscreen></iframe>"
            ],
            "text/plain": [
              "<IPython.core.display.HTML object>"
            ]
          },
          "metadata": {
            "tags": []
          }
        }
      ]
    },
    {
      "cell_type": "markdown",
      "metadata": {
        "id": "rX_Abx84ONdt",
        "colab_type": "text"
      },
      "source": [
        "## 運動方程式 $ma = F$\n",
        "\n",
        "実験でわかることは\n",
        "\\begin{align*}\n",
        " a &\\propto F&\\\\\n",
        " a &\\propto \\dfrac{1}{m}&\n",
        "\\end{align*}\n",
        "つまり\n",
        "\\begin{align*}\n",
        " a &\\propto \\dfrac{F}{m}&\n",
        "\\end{align*}\n",
        "です. この比例関係を等式に変換するには\n",
        "比例定数 $c$ が必要です.\n",
        "\\begin{align*}\n",
        " a &= \bc\\  \\dfrac{F}{m}&\n",
        "\\end{align*}\n",
        "この比例定数 $c$ を他の実験とつじつまが合うように  \n",
        "$m={\\rm 1\\ kg}, a={\\rm 1 \\ m/s^2}$ のときに, $c=1$ とし\n",
        "\\begin{align*}\n",
        " a &= 1\\  \\dfrac{F}{m}&\\\\\n",
        " m \\cdot a & = F&\\\\\n",
        "\\end{align*}\n",
        "がえられます. これを\n",
        "\n",
        ">> **運動方程式** $\\qquad m \\cdot a = F$\n",
        "\n",
        "と呼ばれます. 言葉でまとめると\n",
        "\n",
        "> 質量 $m$ の物体に力 $F$ が働くと, $F$ と同じ向きに 加速度が生じる. また, その加速度 $a$ の大きさは, 力 $F$ の大きさに比例し, 質量 $m$ に反比例する.\n"
      ]
    },
    {
      "cell_type": "markdown",
      "metadata": {
        "id": "tmuTXiHKQc2Q",
        "colab_type": "text"
      },
      "source": [
        "### 力の単位の定義\n",
        "\n",
        "運動方程式から $m={\\rm 1\\ kg}, a={\\rm 1 \\ m/s^2}$\n",
        "\\begin{align*}\n",
        " F &= m \\cdot a &\\\\\n",
        " &= {\\rm 1\\ kg} \\cdot {\\rm 1 \\ m/s^2} = {\\rm 1 \\ kg\\ m/s^2}&\\\\\n",
        " &= {\\rm 1 \\ N}\n",
        "\\end{align*}\n",
        "\n",
        ">> 力の単位は ${\\rm 1 \\ N}$ で,  ${\\rm 1 \\ kg\\ m/s^2}$ である.  \n",
        "\n",
        "ということができます."
      ]
    },
    {
      "cell_type": "markdown",
      "metadata": {
        "id": "CYAHpKwqSWrn",
        "colab_type": "text"
      },
      "source": [
        "### 図で見る運動方程式\n",
        "\n",
        "式の形も大切ですが, 原因と結果を一瞥して理解するには,   \n",
        "式と次の図を連携させて覚えてください.\n",
        "\n",
        "> **運動方程式** $\\qquad m \\cdot a = F$"
      ]
    },
    {
      "cell_type": "code",
      "metadata": {
        "id": "cSybz2rSSWR0",
        "colab_type": "code",
        "cellView": "form",
        "outputId": "cec393a7-cf4d-48ad-bc22-7d161ab2278c",
        "colab": {
          "base_uri": "https://localhost:8080/",
          "height": 176
        }
      },
      "source": [
        "#@title 運動方程式の概念図\n",
        "%%svg\n",
        "<svg xmlns=\"http://www.w3.org/2000/svg\" xmlns:xlink=\"http://www.w3.org/1999/xlink\" version=\"1.1\" width=\"251px\" viewBox=\"-0.5 -0.5 251 155\" content=\"&lt;mxfile host=&quot;www.draw.io&quot; modified=&quot;2020-06-02T04:32:10.371Z&quot; agent=&quot;5.0 (Macintosh; Intel Mac OS X 10_10_5) AppleWebKit/537.36 (KHTML, like Gecko) Chrome/83.0.4103.61 Safari/537.36&quot; etag=&quot;2JhSVKYEHYIP6WUv5S5y&quot; version=&quot;13.1.12&quot; type=&quot;google&quot;&gt;&lt;diagram id=&quot;ACvm0koPy5jdzCeJ2HON&quot; name=&quot;Page-1&quot;&gt;tVbbcpswEP0aHp0BcXH8GDu36bSdzngyfVaQAE0FokK2cb++i5EAYRMndvIEOqyOpLNnVzj+Kq+fJC6zH4JQ7iCX1I5/7yDkIT+AR4PsNeK6ixZJJSMa64E1+0dNoEY3jNDKClRCcMVKG4xFUdBYWRiWUuzssERwe9USp/QIWMeYH6O/GVFZi96ieY8/U5ZmZmUv0ufLsQnWJ6kyTMRuAPkPjr+SQqj2La9XlDfqGV3aeY8TX7uNSVqo90yYb2X98vzTE4kic+x+C19mxUyzbDHf6AM7KOLAt0wE0MKu1V5LEf3dCPNhVh0SdQcBKCjr/mMjMY7tCU9UyJThYVCU6udhKWaA3CBwCjaOAqzdk4GRtT0EpwVTwGC5y5ii67Ldxw6MCVimcg4jD15xVbZOSVhNSUe1pVLRelJcr0sZmJ2KnCq5hxA9Abk6y9rnfqTHu4FpNJQN/GIwrG2adsx9JuFFJ/MDiUUnEjsWrCB3TYXAKOa4qlhs61QpKf50rg86oSg5KpmzMg1kCE/IYDBJOVZsa9Of0kav8Euwg0tNFm7tLATuSN5KbGRM9axhrYyIguAMkcIypeqI6JCq7tiXZ8//9LKcqLjHqyoOjPAdv0LLt+uLs7RoTAWmoBKAprIYtNQ7/SFnhDQcS0lhw/j1wOfCuGz0PCgcLp3w/q3S1P1eT+677NCL04UxWcfuzSJCoZV70yOv9OYsnNu0YwqRJBX9EjcF59z0npbtVuZuNpj3pr8utSi+xpFwx5bNa8JprXvb8mNtDl3V5kyu3RsvQAv7Rji+EL6yE44amO9f2An98cU2JprohD3RNf6GYf+D1Ib3/5n+w38=&lt;/diagram&gt;&lt;/mxfile&gt;\" onclick=\"(function(svg){var src=window.event.target||window.event.srcElement;while (src!=null&amp;&amp;src.nodeName.toLowerCase()!='a'){src=src.parentNode;}if(src==null){if(svg.wnd!=null&amp;&amp;!svg.wnd.closed){svg.wnd.focus();}else{var r=function(evt){if(evt.data=='ready'&amp;&amp;evt.source==svg.wnd){svg.wnd.postMessage(decodeURIComponent(svg.getAttribute('content')),'*');window.removeEventListener('message',r);}};window.addEventListener('message',r);svg.wnd=window.open('https://www.draw.io/?client=1&amp;lightbox=1&amp;edit=_blank');}}})(this);\" style=\"cursor:pointer;max-width:100%;max-height:155px;\"><defs/><g><ellipse cx=\"40\" cy=\"114\" rx=\"40\" ry=\"40\" fill=\"#ffffff\" stroke=\"#000000\" pointer-events=\"all\"/><g transform=\"translate(-0.5 -0.5)\"><switch><foreignObject style=\"overflow: visible; text-align: left;\" pointer-events=\"none\" width=\"100%\" height=\"100%\" requiredFeatures=\"http://www.w3.org/TR/SVG11/feature#Extensibility\"><div xmlns=\"http://www.w3.org/1999/xhtml\" style=\"display: flex; align-items: unsafe center; justify-content: unsafe center; width: 78px; height: 1px; padding-top: 114px; margin-left: 1px;\"><div style=\"box-sizing: border-box; font-size: 0; text-align: center; \"><div style=\"display: inline-block; font-size: 12px; font-family: Helvetica; color: #000000; line-height: 1.2; pointer-events: all; white-space: normal; word-wrap: normal; \"><font style=\"font-size: 24px\" face=\"Georgia\"><i>m</i></font></div></div></div></foreignObject><text x=\"40\" y=\"118\" fill=\"#000000\" font-family=\"Helvetica\" font-size=\"12px\" text-anchor=\"middle\">m</text></switch></g><path d=\"M 80 114 L 228.03 114\" fill=\"none\" stroke=\"#000000\" stroke-width=\"4\" stroke-miterlimit=\"10\" pointer-events=\"stroke\"/><path d=\"M 235.53 114 L 225.53 119 L 228.03 114 L 225.53 109 Z\" fill=\"#000000\" stroke=\"#000000\" stroke-width=\"4\" stroke-miterlimit=\"10\" pointer-events=\"all\"/><g transform=\"translate(-0.5 -0.5)\"><switch><foreignObject style=\"overflow: visible; text-align: left;\" pointer-events=\"none\" width=\"100%\" height=\"100%\" requiredFeatures=\"http://www.w3.org/TR/SVG11/feature#Extensibility\"><div xmlns=\"http://www.w3.org/1999/xhtml\" style=\"display: flex; align-items: unsafe center; justify-content: unsafe center; width: 1px; height: 1px; padding-top: 95px; margin-left: 181px;\"><div style=\"box-sizing: border-box; font-size: 0; text-align: center; \"><div style=\"display: inline-block; font-size: 11px; font-family: Helvetica; color: #000000; line-height: 1.2; pointer-events: all; background-color: #ffffff; white-space: nowrap; \"><font style=\"font-size: 24px\"><i>F</i></font></div></div></div></foreignObject><text x=\"181\" y=\"98\" fill=\"#000000\" font-family=\"Helvetica\" font-size=\"11px\" text-anchor=\"middle\">F</text></switch></g><path d=\"M 41 49.5 L 41 38.5 L 79 38.5 L 79 27.5 L 99 44 L 79 60.5 L 79 49.5 Z\" fill=\"none\" stroke=\"#000000\" stroke-width=\"2\" stroke-linejoin=\"round\" stroke-miterlimit=\"10\" pointer-events=\"all\"/><g transform=\"translate(-0.5 -0.5)\"><switch><foreignObject style=\"overflow: visible; text-align: left;\" pointer-events=\"none\" width=\"100%\" height=\"100%\" requiredFeatures=\"http://www.w3.org/TR/SVG11/feature#Extensibility\"><div xmlns=\"http://www.w3.org/1999/xhtml\" style=\"display: flex; align-items: unsafe center; justify-content: unsafe center; width: 1px; height: 1px; padding-top: 14px; margin-left: 66px;\"><div style=\"box-sizing: border-box; font-size: 0; text-align: center; \"><div style=\"display: inline-block; font-size: 11px; font-family: Helvetica; color: #000000; line-height: 1.2; pointer-events: all; background-color: #ffffff; white-space: nowrap; \"><font face=\"Georgia\" size=\"1\"><i style=\"font-size: 24px\">a</i></font></div></div></div></foreignObject><text x=\"66\" y=\"17\" fill=\"#000000\" font-family=\"Helvetica\" font-size=\"11px\" text-anchor=\"middle\">a</text></switch></g></g><switch><g requiredFeatures=\"http://www.w3.org/TR/SVG11/feature#Extensibility\"/><a transform=\"translate(0,-5)\" xlink:href=\"https://desk.draw.io/support/solutions/articles/16000042487\" target=\"_blank\"><text text-anchor=\"middle\" font-size=\"10px\" x=\"50%\" y=\"100%\">Viewer does not support full SVG 1.1</text></a></switch></svg>"
      ],
      "execution_count": 0,
      "outputs": [
        {
          "output_type": "display_data",
          "data": {
            "text/plain": [
              "<IPython.core.display.SVG object>"
            ],
            "image/svg+xml": "<svg content=\"&lt;mxfile host=&quot;www.draw.io&quot; modified=&quot;2020-06-02T04:32:10.371Z&quot; agent=&quot;5.0 (Macintosh; Intel Mac OS X 10_10_5) AppleWebKit/537.36 (KHTML, like Gecko) Chrome/83.0.4103.61 Safari/537.36&quot; etag=&quot;2JhSVKYEHYIP6WUv5S5y&quot; version=&quot;13.1.12&quot; type=&quot;google&quot;&gt;&lt;diagram id=&quot;ACvm0koPy5jdzCeJ2HON&quot; name=&quot;Page-1&quot;&gt;tVbbcpswEP0aHp0BcXH8GDu36bSdzngyfVaQAE0FokK2cb++i5EAYRMndvIEOqyOpLNnVzj+Kq+fJC6zH4JQ7iCX1I5/7yDkIT+AR4PsNeK6ixZJJSMa64E1+0dNoEY3jNDKClRCcMVKG4xFUdBYWRiWUuzssERwe9USp/QIWMeYH6O/GVFZi96ieY8/U5ZmZmUv0ufLsQnWJ6kyTMRuAPkPjr+SQqj2La9XlDfqGV3aeY8TX7uNSVqo90yYb2X98vzTE4kic+x+C19mxUyzbDHf6AM7KOLAt0wE0MKu1V5LEf3dCPNhVh0SdQcBKCjr/mMjMY7tCU9UyJThYVCU6udhKWaA3CBwCjaOAqzdk4GRtT0EpwVTwGC5y5ii67Ldxw6MCVimcg4jD15xVbZOSVhNSUe1pVLRelJcr0sZmJ2KnCq5hxA9Abk6y9rnfqTHu4FpNJQN/GIwrG2adsx9JuFFJ/MDiUUnEjsWrCB3TYXAKOa4qlhs61QpKf50rg86oSg5KpmzMg1kCE/IYDBJOVZsa9Of0kav8Euwg0tNFm7tLATuSN5KbGRM9axhrYyIguAMkcIypeqI6JCq7tiXZ8//9LKcqLjHqyoOjPAdv0LLt+uLs7RoTAWmoBKAprIYtNQ7/SFnhDQcS0lhw/j1wOfCuGz0PCgcLp3w/q3S1P1eT+677NCL04UxWcfuzSJCoZV70yOv9OYsnNu0YwqRJBX9EjcF59z0npbtVuZuNpj3pr8utSi+xpFwx5bNa8JprXvb8mNtDl3V5kyu3RsvQAv7Rji+EL6yE44amO9f2An98cU2JprohD3RNf6GYf+D1Ib3/5n+w38=&lt;/diagram&gt;&lt;/mxfile&gt;\" onclick=\"(function(svg){var src=window.event.target||window.event.srcElement;while (src!=null&amp;&amp;src.nodeName.toLowerCase()!='a'){src=src.parentNode;}if(src==null){if(svg.wnd!=null&amp;&amp;!svg.wnd.closed){svg.wnd.focus();}else{var r=function(evt){if(evt.data=='ready'&amp;&amp;evt.source==svg.wnd){svg.wnd.postMessage(decodeURIComponent(svg.getAttribute('content')),'*');window.removeEventListener('message',r);}};window.addEventListener('message',r);svg.wnd=window.open('https://www.draw.io/?client=1&amp;lightbox=1&amp;edit=_blank');}}})(this);\" style=\"cursor:pointer;max-width:100%;max-height:155px;\" version=\"1.1\" viewBox=\"-0.5 -0.5 251 155\" width=\"251px\" xmlns=\"http://www.w3.org/2000/svg\" xmlns:xlink=\"http://www.w3.org/1999/xlink\"><defs/><g><ellipse cx=\"40\" cy=\"114\" fill=\"#ffffff\" pointer-events=\"all\" rx=\"40\" ry=\"40\" stroke=\"#000000\"/><g transform=\"translate(-0.5 -0.5)\"><switch><foreignObject height=\"100%\" pointer-events=\"none\" requiredFeatures=\"http://www.w3.org/TR/SVG11/feature#Extensibility\" style=\"overflow: visible; text-align: left;\" width=\"100%\"><div style=\"display: flex; align-items: unsafe center; justify-content: unsafe center; width: 78px; height: 1px; padding-top: 114px; margin-left: 1px;\" xmlns=\"http://www.w3.org/1999/xhtml\"><div style=\"box-sizing: border-box; font-size: 0; text-align: center; \"><div style=\"display: inline-block; font-size: 12px; font-family: Helvetica; color: #000000; line-height: 1.2; pointer-events: all; white-space: normal; word-wrap: normal; \"><font face=\"Georgia\" style=\"font-size: 24px\"><i>m</i></font></div></div></div></foreignObject><text fill=\"#000000\" font-family=\"Helvetica\" font-size=\"12px\" text-anchor=\"middle\" x=\"40\" y=\"118\">m</text></switch></g><path d=\"M 80 114 L 228.03 114\" fill=\"none\" pointer-events=\"stroke\" stroke=\"#000000\" stroke-miterlimit=\"10\" stroke-width=\"4\"/><path d=\"M 235.53 114 L 225.53 119 L 228.03 114 L 225.53 109 Z\" fill=\"#000000\" pointer-events=\"all\" stroke=\"#000000\" stroke-miterlimit=\"10\" stroke-width=\"4\"/><g transform=\"translate(-0.5 -0.5)\"><switch><foreignObject height=\"100%\" pointer-events=\"none\" requiredFeatures=\"http://www.w3.org/TR/SVG11/feature#Extensibility\" style=\"overflow: visible; text-align: left;\" width=\"100%\"><div style=\"display: flex; align-items: unsafe center; justify-content: unsafe center; width: 1px; height: 1px; padding-top: 95px; margin-left: 181px;\" xmlns=\"http://www.w3.org/1999/xhtml\"><div style=\"box-sizing: border-box; font-size: 0; text-align: center; \"><div style=\"display: inline-block; font-size: 11px; font-family: Helvetica; color: #000000; line-height: 1.2; pointer-events: all; background-color: #ffffff; white-space: nowrap; \"><font style=\"font-size: 24px\"><i>F</i></font></div></div></div></foreignObject><text fill=\"#000000\" font-family=\"Helvetica\" font-size=\"11px\" text-anchor=\"middle\" x=\"181\" y=\"98\">F</text></switch></g><path d=\"M 41 49.5 L 41 38.5 L 79 38.5 L 79 27.5 L 99 44 L 79 60.5 L 79 49.5 Z\" fill=\"none\" pointer-events=\"all\" stroke=\"#000000\" stroke-linejoin=\"round\" stroke-miterlimit=\"10\" stroke-width=\"2\"/><g transform=\"translate(-0.5 -0.5)\"><switch><foreignObject height=\"100%\" pointer-events=\"none\" requiredFeatures=\"http://www.w3.org/TR/SVG11/feature#Extensibility\" style=\"overflow: visible; text-align: left;\" width=\"100%\"><div style=\"display: flex; align-items: unsafe center; justify-content: unsafe center; width: 1px; height: 1px; padding-top: 14px; margin-left: 66px;\" xmlns=\"http://www.w3.org/1999/xhtml\"><div style=\"box-sizing: border-box; font-size: 0; text-align: center; \"><div style=\"display: inline-block; font-size: 11px; font-family: Helvetica; color: #000000; line-height: 1.2; pointer-events: all; background-color: #ffffff; white-space: nowrap; \"><font face=\"Georgia\" size=\"1\"><i style=\"font-size: 24px\">a</i></font></div></div></div></foreignObject><text fill=\"#000000\" font-family=\"Helvetica\" font-size=\"11px\" text-anchor=\"middle\" x=\"66\" y=\"17\">a</text></switch></g></g><switch><g requiredFeatures=\"http://www.w3.org/TR/SVG11/feature#Extensibility\"/><a target=\"_blank\" transform=\"translate(0,-5)\" xlink:href=\"https://desk.draw.io/support/solutions/articles/16000042487\"><text font-size=\"10px\" text-anchor=\"middle\" x=\"50%\" y=\"100%\">Viewer does not support full SVG 1.1</text></a></switch></svg>"
          },
          "metadata": {
            "tags": []
          }
        }
      ]
    },
    {
      "cell_type": "markdown",
      "metadata": {
        "id": "cZnWJfg6VT6r",
        "colab_type": "text"
      },
      "source": [
        "> Q. 例題1.6 に取り組んでください."
      ]
    }
  ]
}