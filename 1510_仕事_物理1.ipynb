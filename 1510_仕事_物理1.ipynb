{
  "nbformat": 4,
  "nbformat_minor": 0,
  "metadata": {
    "colab": {
      "name": "1510_仕事_物理1",
      "provenance": [],
      "collapsed_sections": [],
      "authorship_tag": "ABX9TyOMD3wLVXNmR/9q2osIdOEU",
      "include_colab_link": true
    },
    "kernelspec": {
      "name": "python3",
      "display_name": "Python 3"
    }
  },
  "cells": [
    {
      "cell_type": "markdown",
      "metadata": {
        "id": "view-in-github",
        "colab_type": "text"
      },
      "source": [
        "<a href=\"https://colab.research.google.com/github/kzhkAKT/Physics1/blob/draft/1510_%E4%BB%95%E4%BA%8B_%E7%89%A9%E7%90%861.ipynb\" target=\"_parent\"><img src=\"https://colab.research.google.com/assets/colab-badge.svg\" alt=\"Open In Colab\"/></a>"
      ]
    },
    {
      "cell_type": "markdown",
      "metadata": {
        "id": "T62SN1GYMZ90",
        "colab_type": "text"
      },
      "source": [
        "# 力学的エネルギー"
      ]
    },
    {
      "cell_type": "code",
      "metadata": {
        "id": "uSYbtjeSMo2b",
        "colab_type": "code",
        "colab": {
          "base_uri": "https://localhost:8080/",
          "height": 475
        },
        "cellView": "form",
        "outputId": "e5c5f00d-2054-463b-98da-0eea704c6a32"
      },
      "source": [
        "#@title 理解したい最終目標の一つ\n",
        "%%html\n",
        "<iframe src=\"https://phet.colorado.edu/sims/html/energy-skate-park-basics/latest/energy-skate-park-basics_en.html\" width=\"600\" height=\"450\" scrolling=\"no\" allowfullscreen></iframe>"
      ],
      "execution_count": 2,
      "outputs": [
        {
          "output_type": "display_data",
          "data": {
            "text/html": [
              "<iframe src=\"https://phet.colorado.edu/sims/html/energy-skate-park-basics/latest/energy-skate-park-basics_en.html\" width=\"600\" height=\"450\" scrolling=\"no\" allowfullscreen></iframe>"
            ],
            "text/plain": [
              "<IPython.core.display.HTML object>"
            ]
          },
          "metadata": {
            "tags": []
          }
        }
      ]
    },
    {
      "cell_type": "markdown",
      "metadata": {
        "id": "aeeQZjKQMdC6",
        "colab_type": "text"
      },
      "source": [
        "## 仕事\n",
        "Work\n",
        "\n",
        "### グラフ $F-S$"
      ]
    },
    {
      "cell_type": "markdown",
      "metadata": {
        "id": "rNEqDizANJlO",
        "colab_type": "text"
      },
      "source": [
        "### 仕事率\n",
        "\n",
        "Power"
      ]
    }
  ]
}