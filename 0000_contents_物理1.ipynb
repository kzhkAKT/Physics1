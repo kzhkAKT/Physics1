{
  "nbformat": 4,
  "nbformat_minor": 0,
  "metadata": {
    "colab": {
      "name": "0000_contents_物理1",
      "provenance": [],
      "collapsed_sections": [],
      "toc_visible": true,
      "authorship_tag": "ABX9TyPHtLNVV0q9dZv8D4J692U7",
      "include_colab_link": true
    },
    "kernelspec": {
      "name": "python3",
      "display_name": "Python 3"
    }
  },
  "cells": [
    {
      "cell_type": "markdown",
      "metadata": {
        "id": "view-in-github",
        "colab_type": "text"
      },
      "source": [
        "<a href=\"https://colab.research.google.com/github/kzhkAKT/Physics1/blob/draft/0000_contents_%E7%89%A9%E7%90%861.ipynb\" target=\"_parent\"><img src=\"https://colab.research.google.com/assets/colab-badge.svg\" alt=\"Open In Colab\"/></a>"
      ]
    },
    {
      "cell_type": "markdown",
      "metadata": {
        "id": "I2TWv9v9Xlmx"
      },
      "source": [
        "# 物理I\n",
        "\n",
        "## 教科書\n",
        "\n",
        "[教科書(上)と正誤表](http://www.morikita.co.jp/books/mid/015511)\n",
        "\n"
      ]
    },
    {
      "cell_type": "markdown",
      "metadata": {
        "id": "HcNqbCkZ0T2T"
      },
      "source": [
        "## シラバス\n",
        "\n",
        "- [2M 物理I](https://syllabus.kosen-k.go.jp/Pages/PublicSyllabus?school_id=08&department_id=11&subject_id=0031&year=2020&lang=ja)\n",
        "\n",
        "- [2C 物理I](https://syllabus.kosen-k.go.jp/Pages/PublicSyllabus?school_id=08&department_id=11&subject_id=0034&year=2020&lang=ja)\n",
        "\n",
        "* 通年3単位 \b= 前期 1 単位 + 後期 2 単位\n",
        "* 後期は4回の実験が含まれる(10月,11月中)"
      ]
    },
    {
      "cell_type": "markdown",
      "metadata": {
        "id": "Ccrdr0wE0QqG"
      },
      "source": [
        "## 評価方法\n",
        "\n",
        "総合評価 50 で合格.\n",
        "\n",
        "|総合評価|到達度試験|準到達度試験|物理実験報告書|課題|姿勢|\n",
        "|:--:|:--:|:--:|:--:|:--:|:--:|\n",
        "|100|52=13*4|13|12=3*4|18|5|"
      ]
    },
    {
      "cell_type": "markdown",
      "metadata": {
        "id": "JAjtrh2EftI-"
      },
      "source": [
        "### 到達度試験/準到達度試験\n",
        "\n",
        "- 前期後期の中間と期末テスト\n",
        "- 準到達度試験(冬休みの前後)"
      ]
    },
    {
      "cell_type": "markdown",
      "metadata": {
        "id": "i78bgTBp1LZK"
      },
      "source": [
        "### 物理実験\n",
        "1. 表面張力\n",
        "2. 線膨張率\n",
        "3. 固体の比熱\n",
        "4. 熱の仕事当量"
      ]
    },
    {
      "cell_type": "markdown",
      "metadata": {
        "id": "u9Pbldipfkj6"
      },
      "source": [
        "### 課題"
      ]
    },
    {
      "cell_type": "markdown",
      "metadata": {
        "id": "zvW2yNYdB760"
      },
      "source": [
        "#### 講義演習\n",
        "\n",
        "毎回の講義終了後に, 問題を Google Classroom を通じて通知.\n",
        "  \n",
        "1. 各自, 出題した問題(4-7題)を講義都度, 取り組むこと.\n",
        "2. 状況が許す限り, 出題した問題で最も解説希望が多い問題を  \n",
        " **一題** だけ, 次の講義で担当教員が解説\n",
        "  - 解説希望については, Google classroom で集計\n",
        "\n",
        "出題問題略解は出題後一週間を目処に, Google Classroom で紹介  \n",
        "\n",
        "###### 提出と評価方法\n",
        "- 各自作成した講義毎の課題は,\n",
        "  - **<font color=\"blue\">A4レポート</font>** に、紙面上に自筆で作成\n",
        "  - 各定期試験終了直後に **指定の表紙** をつけて提出\n",
        "\n",
        "###### 評価チエック項目\n",
        "1. 期日は守れたか? 遅れた場合は受理しません.\n",
        "2. 第三者 {が読める,へ伝わる} 解答であるか?\n",
        "3. 略解を参考に自身の解答へ改善を試みた形跡はあるか？ **<font color=\"red\"> 赤ペン利用 </font>**\n",
        "4. 答え合わせをしているか？"
      ]
    },
    {
      "cell_type": "markdown",
      "metadata": {
        "id": "s7K2N1H-fn2A"
      },
      "source": [
        "\n",
        "#### 確認問題\n",
        "\n",
        "* 不定期ですが、Google form を利用した簡易CBT風の問題を出題\n",
        "\n"
      ]
    },
    {
      "cell_type": "markdown",
      "metadata": {
        "id": "aK44rxtygIsJ"
      },
      "source": [
        "### 姿勢\n",
        "\n",
        "講義への取り組み度合い\n",
        "\n",
        "- 授業態度\n",
        "- Classroom/Form への貢献度(回答度)"
      ]
    },
    {
      "cell_type": "markdown",
      "metadata": {
        "id": "9NBdAftrwafk"
      },
      "source": [
        "## この授業で理解できるようになること\n",
        "\n",
        "- 日常の現象(=物理現象が)が、数学の力を使って表現でき、単純な運動であれば、予測ができるようになる。"
      ]
    },
    {
      "cell_type": "code",
      "metadata": {
        "cellView": "form",
        "id": "v4nfQAA9wwob",
        "outputId": "dc22de0f-d6a4-409d-b5a0-04a5ac2a465e",
        "colab": {
          "base_uri": "https://localhost:8080/",
          "height": 475
        }
      },
      "source": [
        "#@title 運動と力の関係\n",
        "%%html\n",
        "<iframe src=\"https://phet.colorado.edu/sims/html/forces-and-motion-basics/latest/forces-and-motion-basics_en.html\" width=\"600\" height=\"450\" scrolling=\"no\" allowfullscreen></iframe>"
      ],
      "execution_count": 1,
      "outputs": [
        {
          "output_type": "display_data",
          "data": {
            "text/html": [
              "<iframe src=\"https://phet.colorado.edu/sims/html/forces-and-motion-basics/latest/forces-and-motion-basics_en.html\" width=\"600\" height=\"450\" scrolling=\"no\" allowfullscreen></iframe>"
            ],
            "text/plain": [
              "<IPython.core.display.HTML object>"
            ]
          },
          "metadata": {
            "tags": []
          }
        }
      ]
    },
    {
      "cell_type": "code",
      "metadata": {
        "cellView": "form",
        "id": "LqfN2ZBFxBBf",
        "outputId": "fe061ae2-7cb2-4c6c-f726-f3bade23f445",
        "colab": {
          "base_uri": "https://localhost:8080/",
          "height": 475
        }
      },
      "source": [
        "#@title バネによる力と運動\n",
        "%%html\n",
        "<iframe src=\"https://phet.colorado.edu/sims/html/masses-and-springs-basics/latest/masses-and-springs-basics_en.html\" width=\"600\" height=\"450\" scrolling=\"no\" allowfullscreen></iframe>"
      ],
      "execution_count": 2,
      "outputs": [
        {
          "output_type": "display_data",
          "data": {
            "text/html": [
              "<iframe src=\"https://phet.colorado.edu/sims/html/masses-and-springs-basics/latest/masses-and-springs-basics_en.html\" width=\"600\" height=\"450\" scrolling=\"no\" allowfullscreen></iframe>"
            ],
            "text/plain": [
              "<IPython.core.display.HTML object>"
            ]
          },
          "metadata": {
            "tags": []
          }
        }
      ]
    },
    {
      "cell_type": "code",
      "metadata": {
        "cellView": "form",
        "id": "fhpLGREExNBi",
        "outputId": "3212cb8a-f45f-48c2-ad87-ec03f0168a3f",
        "colab": {
          "base_uri": "https://localhost:8080/",
          "height": 475
        }
      },
      "source": [
        "#@title 仕事とエネルギー\n",
        "%%html\n",
        "<iframe src=\"https://phet.colorado.edu/sims/html/energy-skate-park-basics/latest/energy-skate-park-basics_en.html\" width=\"600\" height=\"450\" scrolling=\"no\" allowfullscreen></iframe>"
      ],
      "execution_count": 6,
      "outputs": [
        {
          "output_type": "display_data",
          "data": {
            "text/html": [
              "<iframe src=\"https://phet.colorado.edu/sims/html/energy-skate-park-basics/latest/energy-skate-park-basics_en.html\" width=\"600\" height=\"450\" scrolling=\"no\" allowfullscreen></iframe>"
            ],
            "text/plain": [
              "<IPython.core.display.HTML object>"
            ]
          },
          "metadata": {
            "tags": []
          }
        }
      ]
    },
    {
      "cell_type": "code",
      "metadata": {
        "cellView": "form",
        "id": "ztIIIhhAxIuQ",
        "outputId": "3b2e352f-0cad-44ae-d9d4-939809954233",
        "colab": {
          "base_uri": "https://localhost:8080/",
          "height": 475
        }
      },
      "source": [
        "#@title 放物運動\n",
        "%%html\n",
        "<iframe src=\"https://phet.colorado.edu/sims/html/projectile-motion/latest/projectile-motion_en.html\" width=\"600\" height=\"450\" scrolling=\"no\" allowfullscreen></iframe>"
      ],
      "execution_count": 7,
      "outputs": [
        {
          "output_type": "display_data",
          "data": {
            "text/html": [
              "<iframe src=\"https://phet.colorado.edu/sims/html/projectile-motion/latest/projectile-motion_en.html\" width=\"600\" height=\"450\" scrolling=\"no\" allowfullscreen></iframe>"
            ],
            "text/plain": [
              "<IPython.core.display.HTML object>"
            ]
          },
          "metadata": {
            "tags": []
          }
        }
      ]
    },
    {
      "cell_type": "code",
      "metadata": {
        "cellView": "form",
        "id": "y3n9qDdMx0cF",
        "outputId": "d31f311f-35e7-4063-ca93-d512837ce877",
        "colab": {
          "base_uri": "https://localhost:8080/",
          "height": 475
        }
      },
      "source": [
        "#@title 惑星や人工衛星の運動\n",
        "%%html\n",
        "<iframe src=\"https://phet.colorado.edu/sims/html/gravity-and-orbits/latest/gravity-and-orbits_en.html\" width=\"600\" height=\"450\" scrolling=\"no\" allowfullscreen></iframe>"
      ],
      "execution_count": 8,
      "outputs": [
        {
          "output_type": "display_data",
          "data": {
            "text/html": [
              "<iframe src=\"https://phet.colorado.edu/sims/html/gravity-and-orbits/latest/gravity-and-orbits_en.html\" width=\"600\" height=\"450\" scrolling=\"no\" allowfullscreen></iframe>"
            ],
            "text/plain": [
              "<IPython.core.display.HTML object>"
            ]
          },
          "metadata": {
            "tags": []
          }
        }
      ]
    }
  ]
}