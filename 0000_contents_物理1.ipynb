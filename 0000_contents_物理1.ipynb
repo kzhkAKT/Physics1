{
  "nbformat": 4,
  "nbformat_minor": 0,
  "metadata": {
    "colab": {
      "name": "0000_contents_物理1",
      "provenance": [],
      "collapsed_sections": [],
      "toc_visible": true,
      "authorship_tag": "ABX9TyPhRla8oWNVqg6FyR7Wy7IK",
      "include_colab_link": true
    },
    "kernelspec": {
      "name": "python3",
      "display_name": "Python 3"
    }
  },
  "cells": [
    {
      "cell_type": "markdown",
      "metadata": {
        "id": "view-in-github",
        "colab_type": "text"
      },
      "source": [
        "<a href=\"https://colab.research.google.com/github/kzhkAKT/Physics1/blob/master/0000_contents_%E7%89%A9%E7%90%861.ipynb\" target=\"_parent\"><img src=\"https://colab.research.google.com/assets/colab-badge.svg\" alt=\"Open In Colab\"/></a>"
      ]
    },
    {
      "cell_type": "markdown",
      "metadata": {
        "id": "I2TWv9v9Xlmx",
        "colab_type": "text"
      },
      "source": [
        "# 物理I\n",
        "\n",
        "## 教科書\n",
        "\n",
        "[教科書(上)と正誤表](http://www.morikita.co.jp/books/mid/015511)\n",
        "\n"
      ]
    },
    {
      "cell_type": "markdown",
      "metadata": {
        "id": "HcNqbCkZ0T2T",
        "colab_type": "text"
      },
      "source": [
        "## シラバス\n",
        "\n",
        "[2M 物理I](https://syllabus.kosen-k.go.jp/Pages/PublicSyllabus?school_id=08&department_id=11&subject_id=0031&year=2019&lang=ja), \n",
        "[2B 物理I](https://syllabus.kosen-k.go.jp/Pages/PublicSyllabus?school_id=08&department_id=11&subject_id=0036&year=2019&lang=ja)\n",
        "\n",
        "* 通年3単位 \b= 前期 1 単位 + 後期 2 単位\n",
        "* 後期は4回の実験が含まれる"
      ]
    },
    {
      "cell_type": "markdown",
      "metadata": {
        "id": "Ccrdr0wE0QqG",
        "colab_type": "text"
      },
      "source": [
        "## 評価方法\n",
        "\n",
        "総合評価 50 で合格.\n",
        "\n",
        "|総合評価|到達度試験|準到達度試験|物理実験報告書|課題|姿勢|\n",
        "|--|--|--|--|--|--|\n",
        "|100|52|13|12|18|5|"
      ]
    },
    {
      "cell_type": "markdown",
      "metadata": {
        "id": "qQ-8R-BdD5y5",
        "colab_type": "text"
      },
      "source": [
        "### 課題の基本方針\n",
        "\n",
        "#### 基本的な出題方法\n",
        "毎回の講義終了後に, 問題を Google Classroom を通じて通知.\n",
        "1. 各自出題した問題を講義の度に取り組むこと.\n",
        "2. 状況が許す限り, 出題した問題で最も解説希望が多い問題を  \n",
        " **一題** だけ, 次の講義で担当教員が解説\n",
        "  - 解説希望については, Google classroom で集計 ~~を取る予定です~~.\n",
        "3. 出題問題略解は出題一週間を目処に, Google Classroom で紹介します.\n",
        "\n",
        "#### 基本的な評価方法\n",
        "各自作成した講義毎の課題は, 各定期試験終了直後に **指定の表紙** をつけて提出する.\n",
        "\n",
        "##### チエック項目\n",
        "1. 期日は守れたか? 遅れた場合は受理しません.\n",
        "2. 第三者 {が読める,へ伝わる} 解答であるか?\n",
        "3. 略解を参考に自身の解答へ改善を試みた形跡はあるか？ **赤ペン利用**\n",
        "4. 答え合わせをしているか？"
      ]
    },
    {
      "cell_type": "markdown",
      "metadata": {
        "id": "FTipZTfFTfTL",
        "colab_type": "text"
      },
      "source": [
        "## 前期: 力と運動: 運動方程式入門\n",
        "\n",
        "1. 運動の表し方\n",
        "  1. [速さ](https://colab.research.google.com/drive/1ko3fj7Et3uUihh--l0FmQ631VQEkUGDP)\n",
        "  2. 速度と変位 \n",
        "  3. 平均の速度 \n",
        "  4. 瞬間の速度 \n",
        "  5. 加速度 \n",
        "  6. 等速直線運動\n",
        "  7. 等加速度直線運動\n",
        "\n",
        "2. 力と運動の法則\n",
        "  1. 力\n",
        "  2. 質量\n",
        "  3. 運動の第1法則(慣性の法則)\n",
        "  4. 運動の第2法則(運動方程式)\n",
        "  5. 運動の第3法則(作用・反作用の法則)\n",
        "  6. 重力と万有引力\n",
        "  7. ばねの力\n",
        "  8. 垂直抗力と摩擦力\n",
        "\n",
        "3. いろいろな運動\n",
        "  1. 2物体の運動\n",
        "  2. 自由落下\n",
        "  3. 鉛直投げ上げ\n",
        "  4. 摩擦力がはたらく運動\n",
        "\n",
        "4. 力績と運動量\n",
        "  1. 力積\n",
        "  2. 運動量\n",
        "  3. 力積と運動量の変化\n",
        "  4. 運動量保存の法則\n",
        "  5. 反発係数\n",
        "\n",
        "<!--\n",
        "### 力学的エネルギー\n",
        "1. 仕事\n",
        "2. 仕事とエネルギー\n",
        "3. 運動エネルギー\n",
        "4. 位置エネルギー\n",
        "5. 力学的エネルギーの保存\n",
        "\n",
        "### 平面・空間での運動\n",
        "1. 運動方程式の表し方\n",
        "2. 力の表し方とベクトルの性質\n",
        "3. 力の合成\n",
        "4. 力の分解\n",
        "5. 速度の合成\n",
        "6. 相対速度\n",
        "7. 平面における運動量保存の法則\n",
        "8. 仕事の原理\n",
        "9. 水平方向に投げ出した運動\n",
        "10. 斜めに投げ上げた運動\n",
        "11. 斜面上にある物体の運動\n",
        "12. 等速円運動\n",
        "13. 惑星の運動(ケプラーの法則)\n",
        "14. 単振動\n",
        "15. 単振り子\n",
        "16. 慣性力\n",
        "\n",
        "### 剛体や流体にはたらく力\n",
        "1. 力のモーメント\n",
        "2. 流体の性質\n",
        "\n",
        "### 波動(光の進み方\n",
        "#### 直線上を伝わる波\n",
        "#### 平面・空間を伝わる波\n",
        "#### 音波\n",
        "#### 光波\n",
        "-->"
      ]
    },
    {
      "cell_type": "markdown",
      "metadata": {
        "colab_type": "text",
        "id": "lYm_1ZFzXTh6"
      },
      "source": [
        "## 後期: 力と運動: エネルギーと平面運動\n",
        "\n",
        "1. 力学的エネルギー\n",
        "  1. 仕事\n",
        "  2. 仕事とエネルギー\n",
        "  3. 運動エネルギー\n",
        "  4. 位置エネルギー\n",
        "  5. 力学的エネルギーの保存\n",
        "\n",
        "2. 平面・空間での運動\n",
        "  1. 運動方程式の表し方\n",
        "  2. 力の表し方とベクトルの性質\n",
        "  3. 力の合成\n",
        "  4. 力の分解\n",
        "  5. 速度の合成\n",
        "  6. 相対速度\n",
        "  7. 平面における運動量保存の法則\n",
        "  8. 仕事の原理\n",
        "  9. 水平方向に投げ出した運動\n",
        "  10. 斜めに投げ上げた運動\n",
        "  11. 斜面上にある物体の運動\n",
        "  12. 等速円運動\n",
        "  13. 惑星の運動(ケプラーの法則)\n",
        "  14. 単振動\n",
        "  15. 単振り子\n",
        "  16. 慣性力\n",
        "\n",
        "<!--\n",
        "### 剛体や流体にはたらく力\n",
        "1. 力のモーメント\n",
        "2. 流体の性質\n",
        "\n",
        "### 波動(光の進み方\n",
        "#### 直線上を伝わる波\n",
        "#### 平面・空間を伝わる波\n",
        "#### 音波\n",
        "#### 光波\n",
        "-->\n",
        "\n"
      ]
    },
    {
      "cell_type": "markdown",
      "metadata": {
        "id": "i78bgTBp1LZK",
        "colab_type": "text"
      },
      "source": [
        "### 物理実験\n",
        "1. 表面張力\n",
        "2. 線膨張率\n",
        "3. 固体の比熱\n",
        "4. 熱の仕事当量"
      ]
    }
  ]
}