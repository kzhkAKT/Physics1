{
  "nbformat": 4,
  "nbformat_minor": 0,
  "metadata": {
    "colab": {
      "name": "0000_contents_物理1",
      "provenance": [],
      "collapsed_sections": [],
      "toc_visible": true,
      "authorship_tag": "ABX9TyMZ7EJIQq0/g3yYHx2x5Vb9",
      "include_colab_link": true
    },
    "kernelspec": {
      "name": "python3",
      "display_name": "Python 3"
    }
  },
  "cells": [
    {
      "cell_type": "markdown",
      "metadata": {
        "id": "view-in-github",
        "colab_type": "text"
      },
      "source": [
        "<a href=\"https://colab.research.google.com/github/kzhkAKT/Physics1/blob/master/0000_contents_%E7%89%A9%E7%90%861.ipynb\" target=\"_parent\"><img src=\"https://colab.research.google.com/assets/colab-badge.svg\" alt=\"Open In Colab\"/></a>"
      ]
    },
    {
      "cell_type": "markdown",
      "metadata": {
        "id": "I2TWv9v9Xlmx",
        "colab_type": "text"
      },
      "source": [
        "# 物理I\n",
        "\n",
        "## 教科書\n",
        "\n",
        "[教科書(上)と正誤表](http://www.morikita.co.jp/books/mid/015511)\n",
        "\n"
      ]
    },
    {
      "cell_type": "markdown",
      "metadata": {
        "id": "HcNqbCkZ0T2T",
        "colab_type": "text"
      },
      "source": [
        "## シラバス\n",
        "\n",
        "[2M 物理I](https://syllabus.kosen-k.go.jp/Pages/PublicSyllabus?school_id=08&department_id=11&subject_id=0031&year=2019&lang=ja), \n",
        "[2B 物理I](https://syllabus.kosen-k.go.jp/Pages/PublicSyllabus?school_id=08&department_id=11&subject_id=0036&year=2019&lang=ja)\n",
        "\n",
        "* 通年3単位 \b= 前期 1 単位 + 後期 2 単位\n",
        "* 後期は4回の実験が含まれる"
      ]
    },
    {
      "cell_type": "markdown",
      "metadata": {
        "id": "i78bgTBp1LZK",
        "colab_type": "text"
      },
      "source": [
        "### 物理実験\n",
        "1. 表面張力\n",
        "2. 線膨張率\n",
        "3. 固体の比熱\n",
        "4. 熱の仕事当量"
      ]
    },
    {
      "cell_type": "markdown",
      "metadata": {
        "id": "Ccrdr0wE0QqG",
        "colab_type": "text"
      },
      "source": [
        "## 評価方法\n",
        "\n",
        "総合評価 50 で合格.\n",
        "\n",
        "|総合評価|到達度試験|準到達度試験|物理実験報告書|課題|姿勢|\n",
        "|--|--|--|--|--|--|\n",
        "|100|52|13|12|18|5|"
      ]
    },
    {
      "cell_type": "markdown",
      "metadata": {
        "id": "qQ-8R-BdD5y5",
        "colab_type": "text"
      },
      "source": [
        "### 課題の基本方針\n",
        "\n",
        "#### 基本的な出題方法\n",
        "毎回の講義終了後に, 問題を Google Classroom を通じて通知.\n",
        "1. 各自出題した問題を講義の度に取り組むこと.\n",
        "2. 状況が許す限り, 出題した問題で最も解説希望が多い問題を  \n",
        " **一題** だけ, 次の講義で担当教員が解説\n",
        "  - 解説希望については, Google classroom で集計 ~~を取る予定です~~.\n",
        "3. 略解は出題後, 一週間を目処に, Google Classroom で紹介します.\n",
        "\n",
        "#### 基本的な評価方法\n",
        "各自作成した講義毎の課題は, 各定期試験終了直後に **指定の表紙** をつけて提出する.\n",
        "\n",
        "##### チエック項目\n",
        "1. 期日は守れたか? 遅れた場合は受理しません.\n",
        "2. 第三者 {が読める,へ伝わる} 解答であるか?\n",
        "3. 略解を参考に自身の解答へ改善を試みた形跡はあるか？ **赤ペン利用**\n",
        "4. 答え合わせをしているか？"
      ]
    }
  ]
}