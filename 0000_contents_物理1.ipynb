{
  "nbformat": 4,
  "nbformat_minor": 0,
  "metadata": {
    "colab": {
      "name": "0000_contents_物理1",
      "provenance": [],
      "toc_visible": true,
      "authorship_tag": "ABX9TyPOkvwf17MQYqjTLvky8gak",
      "include_colab_link": true
    },
    "kernelspec": {
      "name": "python3",
      "display_name": "Python 3"
    }
  },
  "cells": [
    {
      "cell_type": "markdown",
      "metadata": {
        "id": "view-in-github",
        "colab_type": "text"
      },
      "source": [
        "<a href=\"https://colab.research.google.com/github/kzhkAKT/Physics1/blob/draft/0000_contents_%E7%89%A9%E7%90%861.ipynb\" target=\"_parent\"><img src=\"https://colab.research.google.com/assets/colab-badge.svg\" alt=\"Open In Colab\"/></a>"
      ]
    },
    {
      "cell_type": "markdown",
      "metadata": {
        "id": "I2TWv9v9Xlmx"
      },
      "source": [
        "# 物理I\n",
        "\n",
        "## 教科書\n",
        "\n",
        "[教科書(上)と正誤表](http://www.morikita.co.jp/books/mid/015511)\n",
        "\n"
      ]
    },
    {
      "cell_type": "markdown",
      "metadata": {
        "id": "HcNqbCkZ0T2T"
      },
      "source": [
        "## シラバス\n",
        "\n",
        "- [R07 2M 物理I](https://syllabus.kosen-k.go.jp/Pages/PublicSyllabus?school_id=08&department_id=11&subject_id=0033&year=2024&lang=ja&authuser=0),\n",
        "[PDF](https://drive.google.com/file/d/1JhlYlHBYSIT-n5IIqDlCyxv0GIr0yKsl/view?usp=classroom_web&authuser=0)\n",
        "\n",
        "- [R07 2E 物理I](https://syllabus.kosen-k.go.jp/Pages/PublicSyllabus?school_id=08&department_id=11&subject_id=0035&year=2024&lang=ja&authuser=0),\n",
        "[PDF](https://drive.google.com/file/d/1BhyK_bFatm60rhrbqRYegZxRZi3d7eUV/view?usp=classroom_web&authuser=0)\n",
        "\n",
        "* 通年3単位 = 前期 1 単位 + 後期 2 単位\n",
        "* 後期は4回の実験が含まれる(10月,11月中)"
      ]
    },
    {
      "cell_type": "markdown",
      "metadata": {
        "id": "Ccrdr0wE0QqG"
      },
      "source": [
        "## 評価方法\n",
        "\n",
        "総合評価 50 で合格.\n",
        "\n",
        "|総合評価|到達度試験|準到達度試験|物理実験報告書|課題|姿勢|\n",
        "|:--:|:--:|:--:|:--:|:--:|:--:|\n",
        "|100|52=12*4|12|12=3*4|23|5|"
      ]
    },
    {
      "cell_type": "markdown",
      "metadata": {
        "id": "JAjtrh2EftI-"
      },
      "source": [
        "### 到達度試験/準到達度試験\n",
        "\n",
        "- 前期後期の中間と期末テスト\n",
        "- 準到達度試験(冬休みの前後)"
      ]
    },
    {
      "cell_type": "markdown",
      "metadata": {
        "id": "i78bgTBp1LZK"
      },
      "source": [
        "### 物理実験\n",
        "1. 表面張力\n",
        "2. 線膨張率\n",
        "3. 固体の比熱\n",
        "4. 熱の仕事当量"
      ]
    },
    {
      "cell_type": "markdown",
      "metadata": {
        "id": "u9Pbldipfkj6"
      },
      "source": [
        "### 課題"
      ]
    },
    {
      "cell_type": "markdown",
      "metadata": {
        "id": "zvW2yNYdB760"
      },
      "source": [
        "#### 講義演習\n",
        "\n",
        "毎回の講義終了後に, 問題を Google Classroom を通じて通知.\n",
        "  \n",
        "1. 各自, 出題した問題(4-7題)を講義都度, 取り組むこと.\n",
        "2. 状況が許す限り, 出題した問題で最も解説希望が多い問題を  \n",
        " **2,3題** だけ, 次の講義で担当教員が解説\n",
        "  - 解説希望については, Google classroom で集計\n",
        "  - 集計に対する回答は、姿勢として評価\n",
        "\n",
        "- 出題問題略解は次回の講義で、Google Classroom にて紹介。\n",
        "- 解説できなかった問題についても、略解を参照し自作の解説を提出してください。\n",
        "\n",
        "\n",
        "###### 提出と評価方法\n",
        "- 各自作成した講義毎の課題は,\n",
        "  1. 紙面上に自筆で作成\n",
        "    - 略解から得られた知見を、**<font color=\"red\"> 赤ペン </font>** で書き加え、改善する。\n",
        "    - 略解を参照し、解けなかった問題についても作成\n",
        "  1. 画像を撮影しPDF化する。\n",
        "    - [課題を提出する - パソコン - Classroom ヘルプ](https://support.google.com/edu/classroom/answer/6020285?hl=ja)\n",
        "      - Microsoft Lens: [Android 版](https://play.google.com/store/apps/details?id=com.microsoft.office.officelens&hl=ja&gl=US) [iOS 版](https://apps.apple.com/jp/app/microsoft-lens-pdf-scanner/id975925059)\n",
        "      - https://app-liv.jp/4444824/\n",
        "  1. Google classroom 経由で、変換したPDFを期日までに提出\n",
        "\n",
        "###### 評価チエック項目\n",
        "1. 期日は守れたか? 遅れた場合は受理しません.\n",
        "2. 第三者 {が読める,へ伝わる} 解答であるか?\n",
        "3. 略解を参考に自身の解答へ改善を試みた形跡はあるか？ **<font color=\"red\"> 赤ペン利用 </font>**\n",
        "4. 答え合わせをしているか？"
      ]
    },
    {
      "cell_type": "markdown",
      "metadata": {
        "id": "s7K2N1H-fn2A"
      },
      "source": [
        "\n",
        "#### 確認問題/課題\n",
        "\n",
        "不定期ですが、\n",
        "* Google form を利用した簡易 Computer Based Test を出題\n",
        "* R07年度も スタサプ https://learn.studysapuri.jp/ja/login 利用予定\n",
        "\n"
      ]
    },
    {
      "cell_type": "markdown",
      "metadata": {
        "id": "aK44rxtygIsJ"
      },
      "source": [
        "### 姿勢\n",
        "\n",
        "講義への取り組み度合い\n",
        "\n",
        "- 授業態度\n",
        "- Classroom/Form への貢献度(回答度)"
      ]
    },
    {
      "cell_type": "markdown",
      "source": [],
      "metadata": {
        "id": "vkNnHdNLj1Sr"
      }
    },
    {
      "cell_type": "markdown",
      "metadata": {
        "id": "9NBdAftrwafk"
      },
      "source": [
        "## この授業で理解できるようになること\n",
        "\n",
        "- 日常の現象(=物理現象が)が、数学の力を使って表現でき、単純な運動であれば、予測ができるようになる。"
      ]
    },
    {
      "cell_type": "code",
      "metadata": {
        "cellView": "form",
        "id": "v4nfQAA9wwob",
        "outputId": "ef64d174-c6e6-424d-fbf3-de9ba68d5cdf",
        "colab": {
          "base_uri": "https://localhost:8080/",
          "height": 475
        }
      },
      "source": [
        "#@title 運動と力の関係\n",
        "%%html\n",
        "<iframe src=\"https://phet.colorado.edu/sims/html/forces-and-motion-basics/latest/forces-and-motion-basics_ja.html\" width=\"600\" height=\"450\" scrolling=\"no\" allowfullscreen></iframe>"
      ],
      "execution_count": 6,
      "outputs": [
        {
          "output_type": "display_data",
          "data": {
            "text/plain": [
              "<IPython.core.display.HTML object>"
            ],
            "text/html": [
              "<iframe src=\"https://phet.colorado.edu/sims/html/forces-and-motion-basics/latest/forces-and-motion-basics_ja.html\" width=\"600\" height=\"450\" scrolling=\"no\" allowfullscreen></iframe>\n"
            ]
          },
          "metadata": {}
        }
      ]
    },
    {
      "cell_type": "code",
      "metadata": {
        "cellView": "form",
        "id": "LqfN2ZBFxBBf",
        "outputId": "dcf05e49-f25e-42a4-c393-c4efc8bfeaa4",
        "colab": {
          "base_uri": "https://localhost:8080/",
          "height": 475
        }
      },
      "source": [
        "#@title バネによる力と運動\n",
        "%%html\n",
        "<iframe src=\"https://phet.colorado.edu/sims/html/masses-and-springs-basics/latest/masses-and-springs-basics_ja.html\" width=\"600\" height=\"450\" scrolling=\"no\" allowfullscreen></iframe>"
      ],
      "execution_count": 7,
      "outputs": [
        {
          "output_type": "display_data",
          "data": {
            "text/plain": [
              "<IPython.core.display.HTML object>"
            ],
            "text/html": [
              "<iframe src=\"https://phet.colorado.edu/sims/html/masses-and-springs-basics/latest/masses-and-springs-basics_ja.html\" width=\"600\" height=\"450\" scrolling=\"no\" allowfullscreen></iframe>\n"
            ]
          },
          "metadata": {}
        }
      ]
    },
    {
      "cell_type": "code",
      "metadata": {
        "cellView": "form",
        "id": "fhpLGREExNBi",
        "outputId": "f71791ae-eaae-40b4-c634-2a22069cd574",
        "colab": {
          "base_uri": "https://localhost:8080/",
          "height": 475
        }
      },
      "source": [
        "#@title 仕事とエネルギー\n",
        "%%html\n",
        "<iframe src=\"https://phet.colorado.edu/sims/html/energy-skate-park-basics/latest/energy-skate-park-basics_ja.html\" width=\"600\" height=\"450\" scrolling=\"no\" allowfullscreen></iframe>"
      ],
      "execution_count": 8,
      "outputs": [
        {
          "output_type": "display_data",
          "data": {
            "text/plain": [
              "<IPython.core.display.HTML object>"
            ],
            "text/html": [
              "<iframe src=\"https://phet.colorado.edu/sims/html/energy-skate-park-basics/latest/energy-skate-park-basics_ja.html\" width=\"600\" height=\"450\" scrolling=\"no\" allowfullscreen></iframe>\n"
            ]
          },
          "metadata": {}
        }
      ]
    },
    {
      "cell_type": "code",
      "metadata": {
        "cellView": "form",
        "id": "ztIIIhhAxIuQ",
        "outputId": "902dbcb3-1ee2-4707-c742-f884987b4cb8",
        "colab": {
          "base_uri": "https://localhost:8080/",
          "height": 475
        }
      },
      "source": [
        "#@title 放物運動\n",
        "%%html\n",
        "<iframe src=\"https://phet.colorado.edu/sims/html/projectile-motion/latest/projectile-motion_ja.html\" width=\"600\" height=\"450\" scrolling=\"no\" allowfullscreen></iframe>"
      ],
      "execution_count": 9,
      "outputs": [
        {
          "output_type": "display_data",
          "data": {
            "text/plain": [
              "<IPython.core.display.HTML object>"
            ],
            "text/html": [
              "<iframe src=\"https://phet.colorado.edu/sims/html/projectile-motion/latest/projectile-motion_ja.html\" width=\"600\" height=\"450\" scrolling=\"no\" allowfullscreen></iframe>\n"
            ]
          },
          "metadata": {}
        }
      ]
    },
    {
      "cell_type": "code",
      "metadata": {
        "cellView": "form",
        "id": "y3n9qDdMx0cF",
        "outputId": "b81e8df4-f815-477b-bb20-f4c441cb4f98",
        "colab": {
          "base_uri": "https://localhost:8080/",
          "height": 475
        }
      },
      "source": [
        "#@title 惑星や人工衛星の運動\n",
        "%%html\n",
        "<iframe src=\"https://phet.colorado.edu/sims/html/gravity-and-orbits/latest/gravity-and-orbits_ja.html\" width=\"600\" height=\"450\" scrolling=\"no\" allowfullscreen></iframe>"
      ],
      "execution_count": 10,
      "outputs": [
        {
          "output_type": "display_data",
          "data": {
            "text/plain": [
              "<IPython.core.display.HTML object>"
            ],
            "text/html": [
              "<iframe src=\"https://phet.colorado.edu/sims/html/gravity-and-orbits/latest/gravity-and-orbits_ja.html\" width=\"600\" height=\"450\" scrolling=\"no\" allowfullscreen></iframe>\n"
            ]
          },
          "metadata": {}
        }
      ]
    },
    {
      "cell_type": "markdown",
      "source": [],
      "metadata": {
        "id": "eYfFl3VbkomU"
      }
    },
    {
      "cell_type": "markdown",
      "source": [
        "# 物理学習上のイメージ"
      ],
      "metadata": {
        "id": "zx9QE_SekowW"
      }
    },
    {
      "cell_type": "code",
      "source": [
        "# @title 和食作成３倍速\n",
        "%%html\n",
        "<iframe width=\"560\" height=\"315\" src=\"https://www.youtube-nocookie.com/embed/STxpxgpBOYg?si=hvce5YrrJjgS3w-c\" title=\"YouTube video player\" frameborder=\"0\" allow=\"accelerometer; autoplay; clipboard-write; encrypted-media; gyroscope; picture-in-picture; web-share\" referrerpolicy=\"strict-origin-when-cross-origin\" allowfullscreen></iframe>"
      ],
      "metadata": {
        "cellView": "form",
        "outputId": "689f3208-dbcf-4797-c2f0-1529331e1bf2",
        "colab": {
          "base_uri": "https://localhost:8080/",
          "height": 336
        },
        "id": "wXRBR3gDkowW"
      },
      "execution_count": null,
      "outputs": [
        {
          "output_type": "display_data",
          "data": {
            "text/plain": [
              "<IPython.core.display.HTML object>"
            ],
            "text/html": [
              "<iframe width=\"560\" height=\"315\" src=\"https://www.youtube-nocookie.com/embed/STxpxgpBOYg?si=hvce5YrrJjgS3w-c\" title=\"YouTube video player\" frameborder=\"0\" allow=\"accelerometer; autoplay; clipboard-write; encrypted-media; gyroscope; picture-in-picture; web-share\" referrerpolicy=\"strict-origin-when-cross-origin\" allowfullscreen></iframe>\n"
            ]
          },
          "metadata": {}
        }
      ]
    },
    {
      "cell_type": "markdown",
      "source": [
        "和食作成で身につけた、包丁使いや調理方法は、他の料理(イタリアン、中華)などで利用できます。\n",
        "- 料理動画を全て閲覧する必要はありません\n",
        "  1. 準備\n",
        "  1. 調理\n",
        "  1. 盛付け\n",
        "  1. 食事\n",
        "\n",
        "と順序立て料理が作られていることと、物理の学習にanalogyを持たています。\n"
      ],
      "metadata": {
        "id": "7hwKmZBQkowW"
      }
    },
    {
      "cell_type": "code",
      "source": [
        "#@title プラモデル作成(タイムプラス)\n",
        "%%html\n",
        "<iframe width=\"560\" height=\"315\" src=\"https://www.youtube-nocookie.com/embed/Ey24Lv2Aq6E?si=ZAxVRNuyZyORZw4S\" title=\"YouTube video player\" frameborder=\"0\" allow=\"accelerometer; autoplay; clipboard-write; encrypted-media; gyroscope; picture-in-picture; web-share\" referrerpolicy=\"strict-origin-when-cross-origin\" allowfullscreen></iframe>"
      ],
      "metadata": {
        "cellView": "form",
        "id": "QENtttYNjYMr",
        "outputId": "0a0194f4-a6a2-4af6-bc6d-0e7f8a510e3c",
        "colab": {
          "base_uri": "https://localhost:8080/",
          "height": 336
        }
      },
      "execution_count": null,
      "outputs": [
        {
          "output_type": "display_data",
          "data": {
            "text/plain": [
              "<IPython.core.display.HTML object>"
            ],
            "text/html": [
              "<iframe width=\"560\" height=\"315\" src=\"https://www.youtube-nocookie.com/embed/Ey24Lv2Aq6E?si=ZAxVRNuyZyORZw4S\" title=\"YouTube video player\" frameborder=\"0\" allow=\"accelerometer; autoplay; clipboard-write; encrypted-media; gyroscope; picture-in-picture; web-share\" referrerpolicy=\"strict-origin-when-cross-origin\" allowfullscreen></iframe>\n"
            ]
          },
          "metadata": {}
        }
      ]
    },
    {
      "cell_type": "markdown",
      "source": [
        "物理との analogy:  \n",
        "一つ一つの考え(パーツ)を組み立てて、全体像(ガンプラ)を構築する。  "
      ],
      "metadata": {
        "id": "7rLKJzZdjsAp"
      }
    },
    {
      "cell_type": "code",
      "source": [
        "# @markdown 和食作成３倍速\n",
        "%%html\n",
        "<iframe width=\"560\" height=\"315\" src=\"https://www.youtube-nocookie.com/embed/STxpxgpBOYg?si=hvce5YrrJjgS3w-c\" title=\"YouTube video player\" frameborder=\"0\" allow=\"accelerometer; autoplay; clipboard-write; encrypted-media; gyroscope; picture-in-picture; web-share\" referrerpolicy=\"strict-origin-when-cross-origin\" allowfullscreen></iframe>"
      ],
      "metadata": {
        "cellView": "form",
        "id": "Rq7TdPFvWPxt",
        "outputId": "1ed902e5-75d0-48a4-cd40-1570b97d2af1",
        "colab": {
          "base_uri": "https://localhost:8080/",
          "height": 336
        }
      },
      "execution_count": null,
      "outputs": [
        {
          "output_type": "display_data",
          "data": {
            "text/plain": [
              "<IPython.core.display.HTML object>"
            ],
            "text/html": [
              "<iframe width=\"560\" height=\"315\" src=\"https://www.youtube-nocookie.com/embed/STxpxgpBOYg?si=hvce5YrrJjgS3w-c\" title=\"YouTube video player\" frameborder=\"0\" allow=\"accelerometer; autoplay; clipboard-write; encrypted-media; gyroscope; picture-in-picture; web-share\" referrerpolicy=\"strict-origin-when-cross-origin\" allowfullscreen></iframe>\n"
            ]
          },
          "metadata": {}
        }
      ]
    },
    {
      "cell_type": "markdown",
      "source": [
        "\n",
        "\n",
        "和食作成で身につけた、包丁使いや調理方法は、他の料理(イタリアン、中華)などで利用できます。\n",
        "\n",
        "\n"
      ],
      "metadata": {
        "id": "NIrUPxewX5RL"
      }
    }
  ]
}