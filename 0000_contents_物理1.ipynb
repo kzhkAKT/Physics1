{
  "nbformat": 4,
  "nbformat_minor": 0,
  "metadata": {
    "colab": {
      "name": "0000_contents_物理1",
      "provenance": [],
      "collapsed_sections": [],
      "toc_visible": true,
      "authorship_tag": "ABX9TyN/X7mqF/QYYoFakG+RGqPD",
      "include_colab_link": true
    },
    "kernelspec": {
      "name": "python3",
      "display_name": "Python 3"
    }
  },
  "cells": [
    {
      "cell_type": "markdown",
      "metadata": {
        "id": "view-in-github",
        "colab_type": "text"
      },
      "source": [
        "<a href=\"https://colab.research.google.com/github/kzhkAKT/Physics1/blob/draft/0000_contents_%E7%89%A9%E7%90%861.ipynb\" target=\"_parent\"><img src=\"https://colab.research.google.com/assets/colab-badge.svg\" alt=\"Open In Colab\"/></a>"
      ]
    },
    {
      "cell_type": "markdown",
      "metadata": {
        "id": "I2TWv9v9Xlmx"
      },
      "source": [
        "# 物理I\n",
        "\n",
        "## 教科書\n",
        "\n",
        "[教科書(上)と正誤表](http://www.morikita.co.jp/books/mid/015511)\n",
        "\n"
      ]
    },
    {
      "cell_type": "markdown",
      "metadata": {
        "id": "HcNqbCkZ0T2T"
      },
      "source": [
        "## シラバス\n",
        "\n",
        "[2M 物理I](https://syllabus.kosen-k.go.jp/Pages/PublicSyllabus?school_id=08&department_id=11&subject_id=0031&year=2019&lang=ja), \n",
        "[2B 物理I](https://syllabus.kosen-k.go.jp/Pages/PublicSyllabus?school_id=08&department_id=11&subject_id=0036&year=2019&lang=ja)\n",
        "\n",
        "* 通年3単位 \b= 前期 1 単位 + 後期 2 単位\n",
        "* 後期は4回の実験が含まれる"
      ]
    },
    {
      "cell_type": "markdown",
      "metadata": {
        "id": "i78bgTBp1LZK"
      },
      "source": [
        "### 物理実験\n",
        "1. 表面張力\n",
        "2. 線膨張率\n",
        "3. 固体の比熱\n",
        "4. 熱の仕事当量"
      ]
    },
    {
      "cell_type": "markdown",
      "metadata": {
        "id": "Ccrdr0wE0QqG"
      },
      "source": [
        "## 評価方法\n",
        "\n",
        "総合評価 50 で合格.\n",
        "\n",
        "|総合評価|到達度試験|準到達度試験|物理実験報告書|課題|姿勢|\n",
        "|:--:|:--:|:--:|:--:|:--:|:--:|\n",
        "|100|52=13*4|13|12|18|5|"
      ]
    },
    {
      "cell_type": "markdown",
      "metadata": {
        "id": "u9Pbldipfkj6"
      },
      "source": [
        "### 課題"
      ]
    },
    {
      "cell_type": "markdown",
      "metadata": {
        "id": "zvW2yNYdB760"
      },
      "source": [
        "#### 講義演習\n",
        "\n",
        "毎回の講義終了後に, 問題を Google Classroom を通じて通知.\n",
        "  \n",
        "1. 各自, 出題した問題(4-7題)を講義都度, 取り組むこと.\n",
        "2. 状況が許す限り, 出題した問題で最も解説希望が多い問題を  \n",
        " **一題** だけ, 次の講義で担当教員が解説\n",
        "  - 解説希望については, Google classroom で集計\n",
        "\n",
        "出題問題略解は出題後一週間を目処に, Google Classroom で紹介  \n",
        "\n",
        "###### 提出と評価方法\n",
        "- 各自作成した講義毎の課題は,\n",
        "  - **<font color=\"blue\">A4レポート</font>** に、紙面上に自筆で作成\n",
        "  - 各定期試験終了直後に **指定の表紙** をつけて提出\n",
        "\n",
        "###### 評価チエック項目\n",
        "1. 期日は守れたか? 遅れた場合は受理しません.\n",
        "2. 第三者 {が読める,へ伝わる} 解答であるか?\n",
        "3. 略解を参考に自身の解答へ改善を試みた形跡はあるか？ **<font color=\"red\"> 赤ペン利用 </font>**\n",
        "4. 答え合わせをしているか？"
      ]
    },
    {
      "cell_type": "markdown",
      "metadata": {
        "id": "s7K2N1H-fn2A"
      },
      "source": [
        "\n",
        "#### 確認問題\n",
        "\n",
        "* 不定期ですが、Google form を利用した簡易CBT風の問題を出題\n",
        "\n"
      ]
    }
  ]
}