{
  "nbformat": 4,
  "nbformat_minor": 0,
  "metadata": {
    "colab": {
      "name": "1261_重力と重力加速度_物理1",
      "provenance": [],
      "collapsed_sections": [],
      "authorship_tag": "ABX9TyPYUSvG+4u2sPc4RJ9Q/Rhb",
      "include_colab_link": true
    },
    "kernelspec": {
      "name": "python3",
      "display_name": "Python 3"
    }
  },
  "cells": [
    {
      "cell_type": "markdown",
      "metadata": {
        "id": "view-in-github",
        "colab_type": "text"
      },
      "source": [
        "<a href=\"https://colab.research.google.com/github/kzhkAKT/Physics1/blob/master/1261_%E9%87%8D%E5%8A%9B%E3%81%A8%E9%87%8D%E5%8A%9B%E5%8A%A0%E9%80%9F%E5%BA%A6_%E7%89%A9%E7%90%861.ipynb\" target=\"_parent\"><img src=\"https://colab.research.google.com/assets/colab-badge.svg\" alt=\"Open In Colab\"/></a>"
      ]
    },
    {
      "cell_type": "markdown",
      "metadata": {
        "id": "OWpL5JDWF8kS",
        "colab_type": "text"
      },
      "source": [
        "# 力と運動の法則\n"
      ]
    },
    {
      "cell_type": "markdown",
      "metadata": {
        "id": "5kW_odH5F-Z6",
        "colab_type": "text"
      },
      "source": [
        "## 重力と万有引力"
      ]
    },
    {
      "cell_type": "markdown",
      "metadata": {
        "id": "NaVwYtwxGEpW",
        "colab_type": "text"
      },
      "source": [
        "### 重力と重力加速度"
      ]
    },
    {
      "cell_type": "code",
      "metadata": {
        "id": "v5oL1g6-FqFw",
        "colab_type": "code",
        "cellView": "form",
        "outputId": "13e0f525-ae49-4bea-e2f9-7405542686ce",
        "colab": {
          "base_uri": "https://localhost:8080/",
          "height": 336
        }
      },
      "source": [
        "#@title 真空における重力加速度の実験\n",
        "%%html\n",
        "<iframe width=\"560\" height=\"315\" src=\"https://www.youtube-nocookie.com/embed/E43-CfukEgs\" frameborder=\"0\" allow=\"accelerometer; autoplay; encrypted-media; gyroscope; picture-in-picture\" allowfullscreen></iframe>"
      ],
      "execution_count": 0,
      "outputs": [
        {
          "output_type": "display_data",
          "data": {
            "text/html": [
              "<iframe width=\"560\" height=\"315\" src=\"https://www.youtube-nocookie.com/embed/E43-CfukEgs\" frameborder=\"0\" allow=\"accelerometer; autoplay; encrypted-media; gyroscope; picture-in-picture\" allowfullscreen></iframe>"
            ],
            "text/plain": [
              "<IPython.core.display.HTML object>"
            ]
          },
          "metadata": {
            "tags": []
          }
        }
      ]
    },
    {
      "cell_type": "code",
      "metadata": {
        "id": "ryhQ1x2-iK4G",
        "colab_type": "code",
        "cellView": "form",
        "outputId": "5128168c-19a4-480b-9e7a-330a4644f3ef",
        "colab": {
          "base_uri": "https://localhost:8080/",
          "height": 303
        }
      },
      "source": [
        "#@title 重力(=重さ)と重力加速度の関係\n",
        "%%svg\n",
        "<svg xmlns=\"http://www.w3.org/2000/svg\" xmlns:xlink=\"http://www.w3.org/1999/xlink\" version=\"1.1\" width=\"361px\" viewBox=\"-0.5 -0.5 361 282\" content=\"&lt;mxfile host=&quot;app.diagrams.net&quot; modified=&quot;2020-06-09T00:45:19.111Z&quot; agent=&quot;5.0 (Macintosh; Intel Mac OS X 10_10_5) AppleWebKit/537.36 (KHTML, like Gecko) Chrome/83.0.4103.61 Safari/537.36&quot; etag=&quot;Ba40vKWKu5hRwiSzB_a3&quot; version=&quot;13.1.14&quot; type=&quot;google&quot;&gt;&lt;diagram id=&quot;sruAzQXe5IwjWPm5Hnxh&quot; name=&quot;Page-1&quot;&gt;3VhLc5swEP41OjojENhwNLaTHtppZtKZHjsKyKCJQFTIr/76CiMewnZiG2em7iWRltVqtfvp25UBmqXbJ4Hz5BuPCAM2jLYAzYFte/ZE/S0Fu0pgQehXkljQSMtawQv9Q2pFLV3RiBSGouScSZqbwpBnGQmlIcNC8I2ptuTM3DXHMTkQvISYHUp/0kgmvXOV8i+Exkm9szXW50txraxPUiQ44puOCC0AmgnOZTVKtzPCyuDVcanWPZ742jgmSCbPWfDI3uyd+/yE5+6PKA3TqfPr+8iurKwxW+kDa2flro4AyaJpGUg1y3imhEEiU6ZmlhqSSEVL63IhEx7zDLNFKw3ClViTSKtXxstFJw9hNaFRmCI8JVLslMqmDb6rA5p04l7LBGFY0rVpHmsMxI25ZodnTtXGNtR4tcbajoarA6FpouArERK9qhvsniHX/sCQxCIm8sCQijTeddTyUqE432HkwYv86umrQeVBPevkoBXtgXUByJwjIBszlblgyffOtWgb/17x+sOo2LPBVClYXr5tP5b3GIfmAuWmiCnuKo3j/f+FC/wZCCBYTIAPgYfUGQhWWK2dUPPKD73g4AIouH7Fr4rYDOhjRuNMjUMFXSKUYE2EpIo5pvpDSqNofwUEUSfBr3t7UM11UpVxNwDuvNmzNEC2BnQ1renFLZl0b8zpi314jXTaR+g216WHJmtiWuDLZUFkD2A3gRQaDCnbuR5SeitaC9IOlGhf60N4MaaKWYmTTUIleckrPzaqnvYAV+RVhVvSbcmop1FzBp/qBaifwZpPOnzrHOFbB57GipHrSxM7/qcSGw9JrCr4eTlcMrLVFTToFNOQ4aKgoZnj6wukTujIMvJpH6bzE8tn07XV1QVdWT4PDE3OK5+toc+noMlFrdPRbBdS8Lemr0R30CAhx0yMfW2D1DeErPMyfKvsecN7Ev+GBWQQ0dxlgzJ5l8bgA/Trl2Lds1i3QXBvxecRhH8RQei3VYSLpHkunaSKe3hL9W+40+8Z7oUq6u2GcIU94P3iA88HfrB/vwQgcMDCAYEHvOppA4FvgQUCngW8+X/NGP77jQ98cJHnGkgZyBhDKEJN2592KvX2BzK0+As=&lt;/diagram&gt;&lt;/mxfile&gt;\" onclick=\"(function(svg){var src=window.event.target||window.event.srcElement;while (src!=null&amp;&amp;src.nodeName.toLowerCase()!='a'){src=src.parentNode;}if(src==null){if(svg.wnd!=null&amp;&amp;!svg.wnd.closed){svg.wnd.focus();}else{var r=function(evt){if(evt.data=='ready'&amp;&amp;evt.source==svg.wnd){svg.wnd.postMessage(decodeURIComponent(svg.getAttribute('content')),'*');window.removeEventListener('message',r);}};window.addEventListener('message',r);svg.wnd=window.open('https://app.diagrams.net/?client=1&amp;lightbox=1&amp;edit=_blank');}}})(this);\" style=\"cursor:pointer;max-width:100%;max-height:282px;\"><defs/><g><path d=\"M 0 240 Q 0 220 180 220 Q 360 220 360 240\" fill=\"none\" stroke=\"#000000\" stroke-miterlimit=\"10\" pointer-events=\"stroke\"/><g transform=\"translate(-0.5 -0.5)\"><switch><foreignObject style=\"overflow: visible; text-align: left;\" pointer-events=\"none\" width=\"100%\" height=\"100%\" requiredFeatures=\"http://www.w3.org/TR/SVG11/feature#Extensibility\"><div xmlns=\"http://www.w3.org/1999/xhtml\" style=\"display: flex; align-items: unsafe center; justify-content: unsafe center; width: 1px; height: 1px; padding-top: 241px; margin-left: 301px;\"><div style=\"box-sizing: border-box; font-size: 0; text-align: center; \"><div style=\"display: inline-block; font-size: 11px; font-family: Helvetica; color: #000000; line-height: 1.2; pointer-events: all; background-color: #ffffff; white-space: nowrap; \"><font style=\"font-size: 18px\" face=\"Georgia\">地球/earth</font></div></div></div></foreignObject><text x=\"301\" y=\"244\" fill=\"#000000\" font-family=\"Helvetica\" font-size=\"11px\" text-anchor=\"middle\">地球/earth</text></switch></g><ellipse cx=\"180\" cy=\"20\" rx=\"20\" ry=\"20\" fill=\"#ffffff\" stroke=\"#000000\" pointer-events=\"all\"/><g transform=\"translate(-0.5 -0.5)\"><switch><foreignObject style=\"overflow: visible; text-align: left;\" pointer-events=\"none\" width=\"100%\" height=\"100%\" requiredFeatures=\"http://www.w3.org/TR/SVG11/feature#Extensibility\"><div xmlns=\"http://www.w3.org/1999/xhtml\" style=\"display: flex; align-items: unsafe center; justify-content: unsafe center; width: 38px; height: 1px; padding-top: 20px; margin-left: 161px;\"><div style=\"box-sizing: border-box; font-size: 0; text-align: center; \"><div style=\"display: inline-block; font-size: 12px; font-family: Helvetica; color: #000000; line-height: 1.2; pointer-events: all; white-space: normal; word-wrap: normal; \"><font style=\"font-size: 24px\" face=\"Georgia\"><i>m</i></font></div></div></div></foreignObject><text x=\"180\" y=\"24\" fill=\"#000000\" font-family=\"Helvetica\" font-size=\"12px\" text-anchor=\"middle\">m</text></switch></g><path d=\"M 45 170.5 L 55 170.5 L 55 190.5 L 65.5 190.5 L 50 209.5 L 34.5 190.5 L 45 190.5 Z\" fill=\"none\" stroke=\"#000000\" stroke-linejoin=\"round\" stroke-miterlimit=\"10\" pointer-events=\"all\"/><g transform=\"translate(-0.5 -0.5)\"><switch><foreignObject style=\"overflow: visible; text-align: left;\" pointer-events=\"none\" width=\"100%\" height=\"100%\" requiredFeatures=\"http://www.w3.org/TR/SVG11/feature#Extensibility\"><div xmlns=\"http://www.w3.org/1999/xhtml\" style=\"display: flex; align-items: unsafe center; justify-content: unsafe center; width: 1px; height: 1px; padding-top: 170px; margin-left: 70px;\"><div style=\"box-sizing: border-box; font-size: 0; text-align: center; \"><div style=\"display: inline-block; font-size: 11px; font-family: Helvetica; color: #000000; line-height: 1.2; pointer-events: all; background-color: #ffffff; white-space: nowrap; \"><font style=\"font-size: 24px\" face=\"Georgia\"><i>g</i></font></div></div></div></foreignObject><text x=\"70\" y=\"173\" fill=\"#000000\" font-family=\"Helvetica\" font-size=\"11px\" text-anchor=\"middle\">g</text></switch></g><path d=\"M 180 40 L 180 139.9\" fill=\"none\" stroke=\"#000000\" stroke-width=\"3\" stroke-miterlimit=\"10\" pointer-events=\"stroke\"/><path d=\"M 180 146.65 L 175.5 137.65 L 180 139.9 L 184.5 137.65 Z\" fill=\"#000000\" stroke=\"#000000\" stroke-width=\"3\" stroke-miterlimit=\"10\" pointer-events=\"all\"/><g transform=\"translate(-0.5 -0.5)\"><switch><foreignObject style=\"overflow: visible; text-align: left;\" pointer-events=\"none\" width=\"100%\" height=\"100%\" requiredFeatures=\"http://www.w3.org/TR/SVG11/feature#Extensibility\"><div xmlns=\"http://www.w3.org/1999/xhtml\" style=\"display: flex; align-items: unsafe center; justify-content: unsafe center; width: 1px; height: 1px; padding-top: 101px; margin-left: 211px;\"><div style=\"box-sizing: border-box; font-size: 0; text-align: center; \"><div style=\"display: inline-block; font-size: 11px; font-family: Helvetica; color: #000000; line-height: 1.2; pointer-events: all; background-color: #ffffff; white-space: nowrap; \"><font style=\"font-size: 19px\" face=\"Georgia\"><i>mg</i></font></div></div></div></foreignObject><text x=\"211\" y=\"104\" fill=\"#000000\" font-family=\"Helvetica\" font-size=\"11px\" text-anchor=\"middle\">mg</text></switch></g><path d=\"M 180 280 L 180 150\" fill=\"none\" stroke=\"#000000\" stroke-miterlimit=\"10\" stroke-dasharray=\"3 3\" pointer-events=\"stroke\"/><g transform=\"translate(-0.5 -0.5)\"><switch><foreignObject style=\"overflow: visible; text-align: left;\" pointer-events=\"none\" width=\"100%\" height=\"100%\" requiredFeatures=\"http://www.w3.org/TR/SVG11/feature#Extensibility\"><div xmlns=\"http://www.w3.org/1999/xhtml\" style=\"display: flex; align-items: unsafe center; justify-content: unsafe center; width: 1px; height: 1px; padding-top: 251px; margin-left: 180px;\"><div style=\"box-sizing: border-box; font-size: 0; text-align: center; \"><div style=\"display: inline-block; font-size: 11px; font-family: Helvetica; color: #000000; line-height: 1.2; pointer-events: all; background-color: #ffffff; white-space: nowrap; \"><font style=\"font-size: 12px\" face=\"Georgia\">鉛直下向き</font></div></div></div></foreignObject><text x=\"180\" y=\"254\" fill=\"#000000\" font-family=\"Helvetica\" font-size=\"11px\" text-anchor=\"middle\">鉛直下向き</text></switch></g></g><switch><g requiredFeatures=\"http://www.w3.org/TR/SVG11/feature#Extensibility\"/><a transform=\"translate(0,-5)\" xlink:href=\"https://desk.draw.io/support/solutions/articles/16000042487\" target=\"_blank\"><text text-anchor=\"middle\" font-size=\"10px\" x=\"50%\" y=\"100%\">Viewer does not support full SVG 1.1</text></a></switch></svg>"
      ],
      "execution_count": 0,
      "outputs": [
        {
          "output_type": "display_data",
          "data": {
            "text/plain": [
              "<IPython.core.display.SVG object>"
            ],
            "image/svg+xml": "<svg content=\"&lt;mxfile host=&quot;app.diagrams.net&quot; modified=&quot;2020-06-09T00:45:19.111Z&quot; agent=&quot;5.0 (Macintosh; Intel Mac OS X 10_10_5) AppleWebKit/537.36 (KHTML, like Gecko) Chrome/83.0.4103.61 Safari/537.36&quot; etag=&quot;Ba40vKWKu5hRwiSzB_a3&quot; version=&quot;13.1.14&quot; type=&quot;google&quot;&gt;&lt;diagram id=&quot;sruAzQXe5IwjWPm5Hnxh&quot; name=&quot;Page-1&quot;&gt;3VhLc5swEP41OjojENhwNLaTHtppZtKZHjsKyKCJQFTIr/76CiMewnZiG2em7iWRltVqtfvp25UBmqXbJ4Hz5BuPCAM2jLYAzYFte/ZE/S0Fu0pgQehXkljQSMtawQv9Q2pFLV3RiBSGouScSZqbwpBnGQmlIcNC8I2ptuTM3DXHMTkQvISYHUp/0kgmvXOV8i+Exkm9szXW50txraxPUiQ44puOCC0AmgnOZTVKtzPCyuDVcanWPZ742jgmSCbPWfDI3uyd+/yE5+6PKA3TqfPr+8iurKwxW+kDa2flro4AyaJpGUg1y3imhEEiU6ZmlhqSSEVL63IhEx7zDLNFKw3ClViTSKtXxstFJw9hNaFRmCI8JVLslMqmDb6rA5p04l7LBGFY0rVpHmsMxI25ZodnTtXGNtR4tcbajoarA6FpouArERK9qhvsniHX/sCQxCIm8sCQijTeddTyUqE432HkwYv86umrQeVBPevkoBXtgXUByJwjIBszlblgyffOtWgb/17x+sOo2LPBVClYXr5tP5b3GIfmAuWmiCnuKo3j/f+FC/wZCCBYTIAPgYfUGQhWWK2dUPPKD73g4AIouH7Fr4rYDOhjRuNMjUMFXSKUYE2EpIo5pvpDSqNofwUEUSfBr3t7UM11UpVxNwDuvNmzNEC2BnQ1renFLZl0b8zpi314jXTaR+g216WHJmtiWuDLZUFkD2A3gRQaDCnbuR5SeitaC9IOlGhf60N4MaaKWYmTTUIleckrPzaqnvYAV+RVhVvSbcmop1FzBp/qBaifwZpPOnzrHOFbB57GipHrSxM7/qcSGw9JrCr4eTlcMrLVFTToFNOQ4aKgoZnj6wukTujIMvJpH6bzE8tn07XV1QVdWT4PDE3OK5+toc+noMlFrdPRbBdS8Lemr0R30CAhx0yMfW2D1DeErPMyfKvsecN7Ev+GBWQQ0dxlgzJ5l8bgA/Trl2Lds1i3QXBvxecRhH8RQei3VYSLpHkunaSKe3hL9W+40+8Z7oUq6u2GcIU94P3iA88HfrB/vwQgcMDCAYEHvOppA4FvgQUCngW8+X/NGP77jQ98cJHnGkgZyBhDKEJN2592KvX2BzK0+As=&lt;/diagram&gt;&lt;/mxfile&gt;\" onclick=\"(function(svg){var src=window.event.target||window.event.srcElement;while (src!=null&amp;&amp;src.nodeName.toLowerCase()!='a'){src=src.parentNode;}if(src==null){if(svg.wnd!=null&amp;&amp;!svg.wnd.closed){svg.wnd.focus();}else{var r=function(evt){if(evt.data=='ready'&amp;&amp;evt.source==svg.wnd){svg.wnd.postMessage(decodeURIComponent(svg.getAttribute('content')),'*');window.removeEventListener('message',r);}};window.addEventListener('message',r);svg.wnd=window.open('https://app.diagrams.net/?client=1&amp;lightbox=1&amp;edit=_blank');}}})(this);\" style=\"cursor:pointer;max-width:100%;max-height:282px;\" version=\"1.1\" viewBox=\"-0.5 -0.5 361 282\" width=\"361px\" xmlns=\"http://www.w3.org/2000/svg\" xmlns:xlink=\"http://www.w3.org/1999/xlink\"><defs/><g><path d=\"M 0 240 Q 0 220 180 220 Q 360 220 360 240\" fill=\"none\" pointer-events=\"stroke\" stroke=\"#000000\" stroke-miterlimit=\"10\"/><g transform=\"translate(-0.5 -0.5)\"><switch><foreignObject height=\"100%\" pointer-events=\"none\" requiredFeatures=\"http://www.w3.org/TR/SVG11/feature#Extensibility\" style=\"overflow: visible; text-align: left;\" width=\"100%\"><div style=\"display: flex; align-items: unsafe center; justify-content: unsafe center; width: 1px; height: 1px; padding-top: 241px; margin-left: 301px;\" xmlns=\"http://www.w3.org/1999/xhtml\"><div style=\"box-sizing: border-box; font-size: 0; text-align: center; \"><div style=\"display: inline-block; font-size: 11px; font-family: Helvetica; color: #000000; line-height: 1.2; pointer-events: all; background-color: #ffffff; white-space: nowrap; \"><font face=\"Georgia\" style=\"font-size: 18px\">地球/earth</font></div></div></div></foreignObject><text fill=\"#000000\" font-family=\"Helvetica\" font-size=\"11px\" text-anchor=\"middle\" x=\"301\" y=\"244\">地球/earth</text></switch></g><ellipse cx=\"180\" cy=\"20\" fill=\"#ffffff\" pointer-events=\"all\" rx=\"20\" ry=\"20\" stroke=\"#000000\"/><g transform=\"translate(-0.5 -0.5)\"><switch><foreignObject height=\"100%\" pointer-events=\"none\" requiredFeatures=\"http://www.w3.org/TR/SVG11/feature#Extensibility\" style=\"overflow: visible; text-align: left;\" width=\"100%\"><div style=\"display: flex; align-items: unsafe center; justify-content: unsafe center; width: 38px; height: 1px; padding-top: 20px; margin-left: 161px;\" xmlns=\"http://www.w3.org/1999/xhtml\"><div style=\"box-sizing: border-box; font-size: 0; text-align: center; \"><div style=\"display: inline-block; font-size: 12px; font-family: Helvetica; color: #000000; line-height: 1.2; pointer-events: all; white-space: normal; word-wrap: normal; \"><font face=\"Georgia\" style=\"font-size: 24px\"><i>m</i></font></div></div></div></foreignObject><text fill=\"#000000\" font-family=\"Helvetica\" font-size=\"12px\" text-anchor=\"middle\" x=\"180\" y=\"24\">m</text></switch></g><path d=\"M 45 170.5 L 55 170.5 L 55 190.5 L 65.5 190.5 L 50 209.5 L 34.5 190.5 L 45 190.5 Z\" fill=\"none\" pointer-events=\"all\" stroke=\"#000000\" stroke-linejoin=\"round\" stroke-miterlimit=\"10\"/><g transform=\"translate(-0.5 -0.5)\"><switch><foreignObject height=\"100%\" pointer-events=\"none\" requiredFeatures=\"http://www.w3.org/TR/SVG11/feature#Extensibility\" style=\"overflow: visible; text-align: left;\" width=\"100%\"><div style=\"display: flex; align-items: unsafe center; justify-content: unsafe center; width: 1px; height: 1px; padding-top: 170px; margin-left: 70px;\" xmlns=\"http://www.w3.org/1999/xhtml\"><div style=\"box-sizing: border-box; font-size: 0; text-align: center; \"><div style=\"display: inline-block; font-size: 11px; font-family: Helvetica; color: #000000; line-height: 1.2; pointer-events: all; background-color: #ffffff; white-space: nowrap; \"><font face=\"Georgia\" style=\"font-size: 24px\"><i>g</i></font></div></div></div></foreignObject><text fill=\"#000000\" font-family=\"Helvetica\" font-size=\"11px\" text-anchor=\"middle\" x=\"70\" y=\"173\">g</text></switch></g><path d=\"M 180 40 L 180 139.9\" fill=\"none\" pointer-events=\"stroke\" stroke=\"#000000\" stroke-miterlimit=\"10\" stroke-width=\"3\"/><path d=\"M 180 146.65 L 175.5 137.65 L 180 139.9 L 184.5 137.65 Z\" fill=\"#000000\" pointer-events=\"all\" stroke=\"#000000\" stroke-miterlimit=\"10\" stroke-width=\"3\"/><g transform=\"translate(-0.5 -0.5)\"><switch><foreignObject height=\"100%\" pointer-events=\"none\" requiredFeatures=\"http://www.w3.org/TR/SVG11/feature#Extensibility\" style=\"overflow: visible; text-align: left;\" width=\"100%\"><div style=\"display: flex; align-items: unsafe center; justify-content: unsafe center; width: 1px; height: 1px; padding-top: 101px; margin-left: 211px;\" xmlns=\"http://www.w3.org/1999/xhtml\"><div style=\"box-sizing: border-box; font-size: 0; text-align: center; \"><div style=\"display: inline-block; font-size: 11px; font-family: Helvetica; color: #000000; line-height: 1.2; pointer-events: all; background-color: #ffffff; white-space: nowrap; \"><font face=\"Georgia\" style=\"font-size: 19px\"><i>mg</i></font></div></div></div></foreignObject><text fill=\"#000000\" font-family=\"Helvetica\" font-size=\"11px\" text-anchor=\"middle\" x=\"211\" y=\"104\">mg</text></switch></g><path d=\"M 180 280 L 180 150\" fill=\"none\" pointer-events=\"stroke\" stroke=\"#000000\" stroke-dasharray=\"3 3\" stroke-miterlimit=\"10\"/><g transform=\"translate(-0.5 -0.5)\"><switch><foreignObject height=\"100%\" pointer-events=\"none\" requiredFeatures=\"http://www.w3.org/TR/SVG11/feature#Extensibility\" style=\"overflow: visible; text-align: left;\" width=\"100%\"><div style=\"display: flex; align-items: unsafe center; justify-content: unsafe center; width: 1px; height: 1px; padding-top: 251px; margin-left: 180px;\" xmlns=\"http://www.w3.org/1999/xhtml\"><div style=\"box-sizing: border-box; font-size: 0; text-align: center; \"><div style=\"display: inline-block; font-size: 11px; font-family: Helvetica; color: #000000; line-height: 1.2; pointer-events: all; background-color: #ffffff; white-space: nowrap; \"><font face=\"Georgia\" style=\"font-size: 12px\">鉛直下向き</font></div></div></div></foreignObject><text fill=\"#000000\" font-family=\"Helvetica\" font-size=\"11px\" text-anchor=\"middle\" x=\"180\" y=\"254\">鉛直下向き</text></switch></g></g><switch><g requiredFeatures=\"http://www.w3.org/TR/SVG11/feature#Extensibility\"/><a target=\"_blank\" transform=\"translate(0,-5)\" xlink:href=\"https://desk.draw.io/support/solutions/articles/16000042487\"><text font-size=\"10px\" text-anchor=\"middle\" x=\"50%\" y=\"100%\">Viewer does not support full SVG 1.1</text></a></switch></svg>"
          },
          "metadata": {
            "tags": []
          }
        }
      ]
    },
    {
      "cell_type": "markdown",
      "metadata": {
        "id": "VJBVM5SHiKnL",
        "colab_type": "text"
      },
      "source": [
        "\\begin{align*}\n",
        "W&= m \\cdot g\n",
        "\\end{align*}\n",
        "\n",
        "- $m$: 物体の質量\n",
        "- $\bg$: 重力加速度 = 地球に物体が惹きつけられるときに生じる加速度  \n",
        " ~ 万有引力\n",
        "- $W$: 重力 = (地球上での)重さ\n",
        "\n",
        "地球の自転の影響を無視すれば, **重力加速度の大きさ** $g$ は\n",
        "> $\\qquad g = {\\rm 9.8\\ m/s^2 }$\n"
      ]
    },
    {
      "cell_type": "markdown",
      "metadata": {
        "id": "JTPyE4hZjzEO",
        "colab_type": "text"
      },
      "source": [
        "### 解説: 真空における重力加速度の実験"
      ]
    },
    {
      "cell_type": "code",
      "metadata": {
        "id": "XYNcCDSLjRUT",
        "colab_type": "code",
        "cellView": "form",
        "outputId": "6bb4ea02-4dee-456f-978f-475314d6c58a",
        "colab": {
          "base_uri": "https://localhost:8080/",
          "height": 176
        }
      },
      "source": [
        "#@title 運動方程式の概念図\n",
        "%%svg\n",
        "<svg xmlns=\"http://www.w3.org/2000/svg\" xmlns:xlink=\"http://www.w3.org/1999/xlink\" version=\"1.1\" width=\"251px\" viewBox=\"-0.5 -0.5 251 155\" content=\"&lt;mxfile host=&quot;www.draw.io&quot; modified=&quot;2020-06-02T04:32:10.371Z&quot; agent=&quot;5.0 (Macintosh; Intel Mac OS X 10_10_5) AppleWebKit/537.36 (KHTML, like Gecko) Chrome/83.0.4103.61 Safari/537.36&quot; etag=&quot;2JhSVKYEHYIP6WUv5S5y&quot; version=&quot;13.1.12&quot; type=&quot;google&quot;&gt;&lt;diagram id=&quot;ACvm0koPy5jdzCeJ2HON&quot; name=&quot;Page-1&quot;&gt;tVbbcpswEP0aHp0BcXH8GDu36bSdzngyfVaQAE0FokK2cb++i5EAYRMndvIEOqyOpLNnVzj+Kq+fJC6zH4JQ7iCX1I5/7yDkIT+AR4PsNeK6ixZJJSMa64E1+0dNoEY3jNDKClRCcMVKG4xFUdBYWRiWUuzssERwe9USp/QIWMeYH6O/GVFZi96ieY8/U5ZmZmUv0ufLsQnWJ6kyTMRuAPkPjr+SQqj2La9XlDfqGV3aeY8TX7uNSVqo90yYb2X98vzTE4kic+x+C19mxUyzbDHf6AM7KOLAt0wE0MKu1V5LEf3dCPNhVh0SdQcBKCjr/mMjMY7tCU9UyJThYVCU6udhKWaA3CBwCjaOAqzdk4GRtT0EpwVTwGC5y5ii67Ldxw6MCVimcg4jD15xVbZOSVhNSUe1pVLRelJcr0sZmJ2KnCq5hxA9Abk6y9rnfqTHu4FpNJQN/GIwrG2adsx9JuFFJ/MDiUUnEjsWrCB3TYXAKOa4qlhs61QpKf50rg86oSg5KpmzMg1kCE/IYDBJOVZsa9Of0kav8Euwg0tNFm7tLATuSN5KbGRM9axhrYyIguAMkcIypeqI6JCq7tiXZ8//9LKcqLjHqyoOjPAdv0LLt+uLs7RoTAWmoBKAprIYtNQ7/SFnhDQcS0lhw/j1wOfCuGz0PCgcLp3w/q3S1P1eT+677NCL04UxWcfuzSJCoZV70yOv9OYsnNu0YwqRJBX9EjcF59z0npbtVuZuNpj3pr8utSi+xpFwx5bNa8JprXvb8mNtDl3V5kyu3RsvQAv7Rji+EL6yE44amO9f2An98cU2JprohD3RNf6GYf+D1Ib3/5n+w38=&lt;/diagram&gt;&lt;/mxfile&gt;\" onclick=\"(function(svg){var src=window.event.target||window.event.srcElement;while (src!=null&amp;&amp;src.nodeName.toLowerCase()!='a'){src=src.parentNode;}if(src==null){if(svg.wnd!=null&amp;&amp;!svg.wnd.closed){svg.wnd.focus();}else{var r=function(evt){if(evt.data=='ready'&amp;&amp;evt.source==svg.wnd){svg.wnd.postMessage(decodeURIComponent(svg.getAttribute('content')),'*');window.removeEventListener('message',r);}};window.addEventListener('message',r);svg.wnd=window.open('https://www.draw.io/?client=1&amp;lightbox=1&amp;edit=_blank');}}})(this);\" style=\"cursor:pointer;max-width:100%;max-height:155px;\"><defs/><g><ellipse cx=\"40\" cy=\"114\" rx=\"40\" ry=\"40\" fill=\"#ffffff\" stroke=\"#000000\" pointer-events=\"all\"/><g transform=\"translate(-0.5 -0.5)\"><switch><foreignObject style=\"overflow: visible; text-align: left;\" pointer-events=\"none\" width=\"100%\" height=\"100%\" requiredFeatures=\"http://www.w3.org/TR/SVG11/feature#Extensibility\"><div xmlns=\"http://www.w3.org/1999/xhtml\" style=\"display: flex; align-items: unsafe center; justify-content: unsafe center; width: 78px; height: 1px; padding-top: 114px; margin-left: 1px;\"><div style=\"box-sizing: border-box; font-size: 0; text-align: center; \"><div style=\"display: inline-block; font-size: 12px; font-family: Helvetica; color: #000000; line-height: 1.2; pointer-events: all; white-space: normal; word-wrap: normal; \"><font style=\"font-size: 24px\" face=\"Georgia\"><i>m</i></font></div></div></div></foreignObject><text x=\"40\" y=\"118\" fill=\"#000000\" font-family=\"Helvetica\" font-size=\"12px\" text-anchor=\"middle\">m</text></switch></g><path d=\"M 80 114 L 228.03 114\" fill=\"none\" stroke=\"#000000\" stroke-width=\"4\" stroke-miterlimit=\"10\" pointer-events=\"stroke\"/><path d=\"M 235.53 114 L 225.53 119 L 228.03 114 L 225.53 109 Z\" fill=\"#000000\" stroke=\"#000000\" stroke-width=\"4\" stroke-miterlimit=\"10\" pointer-events=\"all\"/><g transform=\"translate(-0.5 -0.5)\"><switch><foreignObject style=\"overflow: visible; text-align: left;\" pointer-events=\"none\" width=\"100%\" height=\"100%\" requiredFeatures=\"http://www.w3.org/TR/SVG11/feature#Extensibility\"><div xmlns=\"http://www.w3.org/1999/xhtml\" style=\"display: flex; align-items: unsafe center; justify-content: unsafe center; width: 1px; height: 1px; padding-top: 95px; margin-left: 181px;\"><div style=\"box-sizing: border-box; font-size: 0; text-align: center; \"><div style=\"display: inline-block; font-size: 11px; font-family: Helvetica; color: #000000; line-height: 1.2; pointer-events: all; background-color: #ffffff; white-space: nowrap; \"><font style=\"font-size: 24px\"><i>F</i></font></div></div></div></foreignObject><text x=\"181\" y=\"98\" fill=\"#000000\" font-family=\"Helvetica\" font-size=\"11px\" text-anchor=\"middle\">F</text></switch></g><path d=\"M 41 49.5 L 41 38.5 L 79 38.5 L 79 27.5 L 99 44 L 79 60.5 L 79 49.5 Z\" fill=\"none\" stroke=\"#000000\" stroke-width=\"2\" stroke-linejoin=\"round\" stroke-miterlimit=\"10\" pointer-events=\"all\"/><g transform=\"translate(-0.5 -0.5)\"><switch><foreignObject style=\"overflow: visible; text-align: left;\" pointer-events=\"none\" width=\"100%\" height=\"100%\" requiredFeatures=\"http://www.w3.org/TR/SVG11/feature#Extensibility\"><div xmlns=\"http://www.w3.org/1999/xhtml\" style=\"display: flex; align-items: unsafe center; justify-content: unsafe center; width: 1px; height: 1px; padding-top: 14px; margin-left: 66px;\"><div style=\"box-sizing: border-box; font-size: 0; text-align: center; \"><div style=\"display: inline-block; font-size: 11px; font-family: Helvetica; color: #000000; line-height: 1.2; pointer-events: all; background-color: #ffffff; white-space: nowrap; \"><font face=\"Georgia\" size=\"1\"><i style=\"font-size: 24px\">a</i></font></div></div></div></foreignObject><text x=\"66\" y=\"17\" fill=\"#000000\" font-family=\"Helvetica\" font-size=\"11px\" text-anchor=\"middle\">a</text></switch></g></g><switch><g requiredFeatures=\"http://www.w3.org/TR/SVG11/feature#Extensibility\"/><a transform=\"translate(0,-5)\" xlink:href=\"https://desk.draw.io/support/solutions/articles/16000042487\" target=\"_blank\"><text text-anchor=\"middle\" font-size=\"10px\" x=\"50%\" y=\"100%\">Viewer does not support full SVG 1.1</text></a></switch></svg>"
      ],
      "execution_count": 0,
      "outputs": [
        {
          "output_type": "display_data",
          "data": {
            "text/plain": [
              "<IPython.core.display.SVG object>"
            ],
            "image/svg+xml": "<svg content=\"&lt;mxfile host=&quot;www.draw.io&quot; modified=&quot;2020-06-02T04:32:10.371Z&quot; agent=&quot;5.0 (Macintosh; Intel Mac OS X 10_10_5) AppleWebKit/537.36 (KHTML, like Gecko) Chrome/83.0.4103.61 Safari/537.36&quot; etag=&quot;2JhSVKYEHYIP6WUv5S5y&quot; version=&quot;13.1.12&quot; type=&quot;google&quot;&gt;&lt;diagram id=&quot;ACvm0koPy5jdzCeJ2HON&quot; name=&quot;Page-1&quot;&gt;tVbbcpswEP0aHp0BcXH8GDu36bSdzngyfVaQAE0FokK2cb++i5EAYRMndvIEOqyOpLNnVzj+Kq+fJC6zH4JQ7iCX1I5/7yDkIT+AR4PsNeK6ixZJJSMa64E1+0dNoEY3jNDKClRCcMVKG4xFUdBYWRiWUuzssERwe9USp/QIWMeYH6O/GVFZi96ieY8/U5ZmZmUv0ufLsQnWJ6kyTMRuAPkPjr+SQqj2La9XlDfqGV3aeY8TX7uNSVqo90yYb2X98vzTE4kic+x+C19mxUyzbDHf6AM7KOLAt0wE0MKu1V5LEf3dCPNhVh0SdQcBKCjr/mMjMY7tCU9UyJThYVCU6udhKWaA3CBwCjaOAqzdk4GRtT0EpwVTwGC5y5ii67Ldxw6MCVimcg4jD15xVbZOSVhNSUe1pVLRelJcr0sZmJ2KnCq5hxA9Abk6y9rnfqTHu4FpNJQN/GIwrG2adsx9JuFFJ/MDiUUnEjsWrCB3TYXAKOa4qlhs61QpKf50rg86oSg5KpmzMg1kCE/IYDBJOVZsa9Of0kav8Euwg0tNFm7tLATuSN5KbGRM9axhrYyIguAMkcIypeqI6JCq7tiXZ8//9LKcqLjHqyoOjPAdv0LLt+uLs7RoTAWmoBKAprIYtNQ7/SFnhDQcS0lhw/j1wOfCuGz0PCgcLp3w/q3S1P1eT+677NCL04UxWcfuzSJCoZV70yOv9OYsnNu0YwqRJBX9EjcF59z0npbtVuZuNpj3pr8utSi+xpFwx5bNa8JprXvb8mNtDl3V5kyu3RsvQAv7Rji+EL6yE44amO9f2An98cU2JprohD3RNf6GYf+D1Ib3/5n+w38=&lt;/diagram&gt;&lt;/mxfile&gt;\" onclick=\"(function(svg){var src=window.event.target||window.event.srcElement;while (src!=null&amp;&amp;src.nodeName.toLowerCase()!='a'){src=src.parentNode;}if(src==null){if(svg.wnd!=null&amp;&amp;!svg.wnd.closed){svg.wnd.focus();}else{var r=function(evt){if(evt.data=='ready'&amp;&amp;evt.source==svg.wnd){svg.wnd.postMessage(decodeURIComponent(svg.getAttribute('content')),'*');window.removeEventListener('message',r);}};window.addEventListener('message',r);svg.wnd=window.open('https://www.draw.io/?client=1&amp;lightbox=1&amp;edit=_blank');}}})(this);\" style=\"cursor:pointer;max-width:100%;max-height:155px;\" version=\"1.1\" viewBox=\"-0.5 -0.5 251 155\" width=\"251px\" xmlns=\"http://www.w3.org/2000/svg\" xmlns:xlink=\"http://www.w3.org/1999/xlink\"><defs/><g><ellipse cx=\"40\" cy=\"114\" fill=\"#ffffff\" pointer-events=\"all\" rx=\"40\" ry=\"40\" stroke=\"#000000\"/><g transform=\"translate(-0.5 -0.5)\"><switch><foreignObject height=\"100%\" pointer-events=\"none\" requiredFeatures=\"http://www.w3.org/TR/SVG11/feature#Extensibility\" style=\"overflow: visible; text-align: left;\" width=\"100%\"><div style=\"display: flex; align-items: unsafe center; justify-content: unsafe center; width: 78px; height: 1px; padding-top: 114px; margin-left: 1px;\" xmlns=\"http://www.w3.org/1999/xhtml\"><div style=\"box-sizing: border-box; font-size: 0; text-align: center; \"><div style=\"display: inline-block; font-size: 12px; font-family: Helvetica; color: #000000; line-height: 1.2; pointer-events: all; white-space: normal; word-wrap: normal; \"><font face=\"Georgia\" style=\"font-size: 24px\"><i>m</i></font></div></div></div></foreignObject><text fill=\"#000000\" font-family=\"Helvetica\" font-size=\"12px\" text-anchor=\"middle\" x=\"40\" y=\"118\">m</text></switch></g><path d=\"M 80 114 L 228.03 114\" fill=\"none\" pointer-events=\"stroke\" stroke=\"#000000\" stroke-miterlimit=\"10\" stroke-width=\"4\"/><path d=\"M 235.53 114 L 225.53 119 L 228.03 114 L 225.53 109 Z\" fill=\"#000000\" pointer-events=\"all\" stroke=\"#000000\" stroke-miterlimit=\"10\" stroke-width=\"4\"/><g transform=\"translate(-0.5 -0.5)\"><switch><foreignObject height=\"100%\" pointer-events=\"none\" requiredFeatures=\"http://www.w3.org/TR/SVG11/feature#Extensibility\" style=\"overflow: visible; text-align: left;\" width=\"100%\"><div style=\"display: flex; align-items: unsafe center; justify-content: unsafe center; width: 1px; height: 1px; padding-top: 95px; margin-left: 181px;\" xmlns=\"http://www.w3.org/1999/xhtml\"><div style=\"box-sizing: border-box; font-size: 0; text-align: center; \"><div style=\"display: inline-block; font-size: 11px; font-family: Helvetica; color: #000000; line-height: 1.2; pointer-events: all; background-color: #ffffff; white-space: nowrap; \"><font style=\"font-size: 24px\"><i>F</i></font></div></div></div></foreignObject><text fill=\"#000000\" font-family=\"Helvetica\" font-size=\"11px\" text-anchor=\"middle\" x=\"181\" y=\"98\">F</text></switch></g><path d=\"M 41 49.5 L 41 38.5 L 79 38.5 L 79 27.5 L 99 44 L 79 60.5 L 79 49.5 Z\" fill=\"none\" pointer-events=\"all\" stroke=\"#000000\" stroke-linejoin=\"round\" stroke-miterlimit=\"10\" stroke-width=\"2\"/><g transform=\"translate(-0.5 -0.5)\"><switch><foreignObject height=\"100%\" pointer-events=\"none\" requiredFeatures=\"http://www.w3.org/TR/SVG11/feature#Extensibility\" style=\"overflow: visible; text-align: left;\" width=\"100%\"><div style=\"display: flex; align-items: unsafe center; justify-content: unsafe center; width: 1px; height: 1px; padding-top: 14px; margin-left: 66px;\" xmlns=\"http://www.w3.org/1999/xhtml\"><div style=\"box-sizing: border-box; font-size: 0; text-align: center; \"><div style=\"display: inline-block; font-size: 11px; font-family: Helvetica; color: #000000; line-height: 1.2; pointer-events: all; background-color: #ffffff; white-space: nowrap; \"><font face=\"Georgia\" size=\"1\"><i style=\"font-size: 24px\">a</i></font></div></div></div></foreignObject><text fill=\"#000000\" font-family=\"Helvetica\" font-size=\"11px\" text-anchor=\"middle\" x=\"66\" y=\"17\">a</text></switch></g></g><switch><g requiredFeatures=\"http://www.w3.org/TR/SVG11/feature#Extensibility\"/><a target=\"_blank\" transform=\"translate(0,-5)\" xlink:href=\"https://desk.draw.io/support/solutions/articles/16000042487\"><text font-size=\"10px\" text-anchor=\"middle\" x=\"50%\" y=\"100%\">Viewer does not support full SVG 1.1</text></a></switch></svg>"
          },
          "metadata": {
            "tags": []
          }
        }
      ]
    },
    {
      "cell_type": "markdown",
      "metadata": {
        "id": "MWGsppNhkKf_",
        "colab_type": "text"
      },
      "source": [
        "$\\require{cancel}$\n",
        "上の運動方程式の概念図を $F$ が鉛直方向を向くように回転させ\n",
        "運動方程式を立てます. \n",
        "\\begin{align*}\n",
        "m a &= F&.\n",
        "\\end{align*}\n",
        "いま物体を動かす力 $F$ が重力 $W$ なので\n",
        "\\begin{align*}\n",
        " F = W = m g.\n",
        "\\end{align*}\n",
        "これを整理すると\n",
        "\\begin{align*}\n",
        " m a &= m g.&\\\\\n",
        " \\bcancel{m} a &= \\bcancel{m} g.&\\\\ \n",
        " a &= g&\n",
        "\\end{align*}\n",
        "\n",
        "このことから, \b真空であれば(空気抵抗が無視できれば)\n",
        ">> 物体の加速度は質量に依存せず, 一定の $g$ \n",
        "\n",
        "であることが示されました.\n"
      ]
    },
    {
      "cell_type": "markdown",
      "metadata": {
        "id": "c9ilGEralK28",
        "colab_type": "text"
      },
      "source": [
        "> Q. 教科書上 p18 例題1.7 に取り組んでください."
      ]
    }
  ]
}