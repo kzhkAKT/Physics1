{
  "nbformat": 4,
  "nbformat_minor": 0,
  "metadata": {
    "colab": {
      "name": "1320_自由落下_物理1",
      "provenance": [],
      "authorship_tag": "ABX9TyPA9KJQTyzBmK9iuKZ1QQf7",
      "include_colab_link": true
    },
    "kernelspec": {
      "name": "python3",
      "display_name": "Python 3"
    }
  },
  "cells": [
    {
      "cell_type": "markdown",
      "metadata": {
        "id": "view-in-github",
        "colab_type": "text"
      },
      "source": [
        "<a href=\"https://colab.research.google.com/github/kzhkAKT/Physics1/blob/draft/1320_%E8%87%AA%E7%94%B1%E8%90%BD%E4%B8%8B_%E7%89%A9%E7%90%861.ipynb\" target=\"_parent\"><img src=\"https://colab.research.google.com/assets/colab-badge.svg\" alt=\"Open In Colab\"/></a>"
      ]
    },
    {
      "cell_type": "markdown",
      "metadata": {
        "id": "H1y_Y79-gq84",
        "colab_type": "text"
      },
      "source": [
        "# いろいろな運動"
      ]
    },
    {
      "cell_type": "markdown",
      "metadata": {
        "id": "RUNRDg2KguYO",
        "colab_type": "text"
      },
      "source": [
        "## 自由落下"
      ]
    },
    {
      "cell_type": "code",
      "metadata": {
        "id": "VuyqbXVLglXD",
        "colab_type": "code",
        "colab": {
          "base_uri": "https://localhost:8080/",
          "height": 336
        },
        "cellView": "form",
        "outputId": "0898477f-c274-4832-a419-ffd68389e2a2"
      },
      "source": [
        "#@title (実写版巨大) 自由落下\n",
        "%%html\n",
        "<iframe width=\"560\" height=\"315\" src=\"https://www.youtube-nocookie.com/embed/-gIJc5I6kLM\" frameborder=\"0\" allow=\"accelerometer; autoplay; encrypted-media; gyroscope; picture-in-picture\" allowfullscreen></iframe>"
      ],
      "execution_count": null,
      "outputs": [
        {
          "output_type": "display_data",
          "data": {
            "text/html": [
              "<iframe width=\"560\" height=\"315\" src=\"https://www.youtube-nocookie.com/embed/-gIJc5I6kLM\" frameborder=\"0\" allow=\"accelerometer; autoplay; encrypted-media; gyroscope; picture-in-picture\" allowfullscreen></iframe>"
            ],
            "text/plain": [
              "<IPython.core.display.HTML object>"
            ]
          },
          "metadata": {
            "tags": []
          }
        }
      ]
    },
    {
      "cell_type": "code",
      "metadata": {
        "id": "PZJgQMeIiTzy",
        "colab_type": "code",
        "colab": {
          "base_uri": "https://localhost:8080/",
          "height": 336
        },
        "cellView": "form",
        "outputId": "227a79d8-2ef1-493c-f33d-338b1c54dd7c"
      },
      "source": [
        "#@title 自由落下のスローモーション\n",
        "%%html\n",
        "<iframe width=\"560\" height=\"315\" src=\"https://www.youtube-nocookie.com/embed/BB_VE_QpGOY\" frameborder=\"0\" allow=\"accelerometer; autoplay; encrypted-media; gyroscope; picture-in-picture\" allowfullscreen></iframe>"
      ],
      "execution_count": null,
      "outputs": [
        {
          "output_type": "display_data",
          "data": {
            "text/html": [
              "<iframe width=\"560\" height=\"315\" src=\"https://www.youtube-nocookie.com/embed/BB_VE_QpGOY\" frameborder=\"0\" allow=\"accelerometer; autoplay; encrypted-media; gyroscope; picture-in-picture\" allowfullscreen></iframe>"
            ],
            "text/plain": [
              "<IPython.core.display.HTML object>"
            ]
          },
          "metadata": {
            "tags": []
          }
        }
      ]
    },
    {
      "cell_type": "markdown",
      "metadata": {
        "id": "jzw8uoS2qy4x",
        "colab_type": "text"
      },
      "source": [
        "$\\require{cancel}$\n",
        "\n",
        "静止しているので初速度 $v_0=0$, \n",
        "座標は **鉛直下向き** を正とする。重力の大きさ$W=mg$(重力以外は無視)\n",
        "\\begin{align*}\n",
        "m a &= W &\\\\\n",
        "\\bcancel{m} a &= \\bcancel{m} g &\\\\\n",
        "a &=  g &\n",
        "\\end{align*}\n",
        "物体の加速度は **質量に依存しない** ことがわかります.\n",
        "\n",
        "$t$ 秒後の速度 $v$ と 変位 $z$ は, 初速度 $v_0=0$ であることを踏まえると,  \n",
        "等加速度直線運動の関係を, 鉛直**下向き** を $z$軸方向を正の方向として\n",
        "\\begin{align*}\n",
        "v&=\\cancelto{0}{v_0} + \\cancelto{g}{a} t&\\\\\n",
        "\\cancelto{z}{s}&=\\cancelto{0}{v_0} t + \\dfrac{1}{2} \\cancelto{g}{a} t^2,&\n",
        "\\end{align*}\n",
        "整理すると\n",
        "\\begin{align*}\n",
        "v_{z}&= g t&\\\\\n",
        "z&=\\dfrac{1}{2} g t^2,&\n",
        "\\end{align*}"
      ]
    },
    {
      "cell_type": "markdown",
      "metadata": {
        "id": "xzKhNdtjsaP3",
        "colab_type": "text"
      },
      "source": [
        "> Q. 例題 1.14 に取り組んでください."
      ]
    },
    {
      "cell_type": "markdown",
      "metadata": {
        "id": "U3gbyV_rqBdO",
        "colab_type": "text"
      },
      "source": [
        "## 鉛直投げ上げ\n"
      ]
    },
    {
      "cell_type": "code",
      "metadata": {
        "id": "7VPk66AqiY4q",
        "colab_type": "code",
        "colab": {
          "base_uri": "https://localhost:8080/",
          "height": 475
        },
        "cellView": "form",
        "outputId": "52f02804-76ae-42c8-c9bc-5255bbe8aa98"
      },
      "source": [
        "#@title 鉛直投げ上げ(斜方投射含む)\n",
        "%%html\n",
        "<iframe src=\"https://phet.colorado.edu/sims/html/projectile-motion/latest/projectile-motion_en.html\" width=\"600\" height=\"450\" scrolling=\"no\" allowfullscreen></iframe>"
      ],
      "execution_count": 3,
      "outputs": [
        {
          "output_type": "display_data",
          "data": {
            "text/html": [
              "<iframe src=\"https://phet.colorado.edu/sims/html/projectile-motion/latest/projectile-motion_en.html\" width=\"600\" height=\"450\" scrolling=\"no\" allowfullscreen></iframe>"
            ],
            "text/plain": [
              "<IPython.core.display.HTML object>"
            ]
          },
          "metadata": {
            "tags": []
          }
        }
      ]
    }
  ]
}