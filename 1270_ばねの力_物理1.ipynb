{
  "nbformat": 4,
  "nbformat_minor": 0,
  "metadata": {
    "colab": {
      "name": "1270_ばねの力_物理1",
      "provenance": [],
      "authorship_tag": "ABX9TyO+i2EezXaH3Rggnry5JDhT",
      "include_colab_link": true
    },
    "kernelspec": {
      "name": "python3",
      "display_name": "Python 3"
    }
  },
  "cells": [
    {
      "cell_type": "markdown",
      "metadata": {
        "id": "view-in-github",
        "colab_type": "text"
      },
      "source": [
        "<a href=\"https://colab.research.google.com/github/kzhkAKT/Physics1/blob/master/1270_%E3%81%B0%E3%81%AD%E3%81%AE%E5%8A%9B_%E7%89%A9%E7%90%861.ipynb\" target=\"_parent\"><img src=\"https://colab.research.google.com/assets/colab-badge.svg\" alt=\"Open In Colab\"/></a>"
      ]
    },
    {
      "cell_type": "markdown",
      "metadata": {
        "id": "PcazWBVxRTv-",
        "colab_type": "text"
      },
      "source": [
        "# 力と運動の法則"
      ]
    },
    {
      "cell_type": "markdown",
      "metadata": {
        "id": "mhgGuWW0RP1y",
        "colab_type": "text"
      },
      "source": [
        "## ばねの力\n",
        "\n",
        "**弾性力**: 変形に対して元の形に戻ろうとする力の総称\n",
        "\n",
        "弾性力の基本として 理想的な**ばね** を扱います."
      ]
    },
    {
      "cell_type": "code",
      "metadata": {
        "id": "XVIGya0XRyHU",
        "colab_type": "code",
        "cellView": "form",
        "outputId": "2b47ddb3-35f0-4018-9f07-87259542aa3a",
        "colab": {
          "base_uri": "https://localhost:8080/",
          "height": 475
        }
      },
      "source": [
        "#@title シミュレーション: フックの法則\n",
        "%%html\n",
        "<iframe src=\"https://phet.colorado.edu/sims/html/hookes-law/latest/hookes-law_en.html\" width=\"600\" height=\"450\" scrolling=\"no\" allowfullscreen></iframe>"
      ],
      "execution_count": 0,
      "outputs": [
        {
          "output_type": "display_data",
          "data": {
            "text/html": [
              "<iframe src=\"https://phet.colorado.edu/sims/html/hookes-law/latest/hookes-law_en.html\" width=\"600\" height=\"450\" scrolling=\"no\" allowfullscreen></iframe>"
            ],
            "text/plain": [
              "<IPython.core.display.HTML object>"
            ]
          },
          "metadata": {
            "tags": []
          }
        }
      ]
    },
    {
      "cell_type": "markdown",
      "metadata": {
        "id": "alyYd1U6TIR-",
        "colab_type": "text"
      },
      "source": [
        "1. *理想的な* ばねでは, **自然長 $L_0$** からの変位 $x$ に比例し, ばねから力 $F$ が加わる  \n",
        "  $\\qquad F \\propto x$\n",
        "2. ばねから加わる力は、変位 $x$ に対して常に逆方向  \n",
        "  $\\qquad F \\propto -1$\n",
        "3. ばねの素材によって加わる力は変化する\n",
        "\n",
        "理想的な ばねのこのような一つの性質をまとめたものが\n",
        "\n",
        "> \\begin{align*}\n",
        "F &= - k x\n",
        "\\end{align*}\n",
        "\n",
        ">> **フックの法則**\n",
        "\n",
        "> ここで $k$ は ばね に固有な量で **ばね定数, $k$**\n",
        "\n",
        "と呼ばれます"
      ]
    },
    {
      "cell_type": "markdown",
      "metadata": {
        "id": "oaWDk4QVUwhw",
        "colab_type": "text"
      },
      "source": [
        "> Q. バネ定数の単位を SI単位系で示してください.(N を使ってもOK)"
      ]
    },
    {
      "cell_type": "markdown",
      "metadata": {
        "id": "Ai5FPrI4U7OA",
        "colab_type": "text"
      },
      "source": [
        "#### ばねの力と重力の関係\n",
        "\n",
        "ここでは話を簡単にするために\n",
        "> 重力下で, バネの力によって静止しているおもり\n",
        "\n",
        "を考えます"
      ]
    },
    {
      "cell_type": "code",
      "metadata": {
        "id": "9CJR2Fu0R7JD",
        "colab_type": "code",
        "cellView": "form",
        "outputId": "c42ffc13-3dbd-4a60-8617-4235935782a1",
        "colab": {
          "base_uri": "https://localhost:8080/",
          "height": 475
        }
      },
      "source": [
        "#@title 重力とバネの力 : choose Vectors\n",
        "%%html\n",
        "<iframe src=\"https://phet.colorado.edu/sims/html/masses-and-springs/latest/masses-and-springs_en.html\" width=\"600\" height=\"450\" scrolling=\"no\" allowfullscreen></iframe>"
      ],
      "execution_count": 0,
      "outputs": [
        {
          "output_type": "display_data",
          "data": {
            "text/html": [
              "<iframe src=\"https://phet.colorado.edu/sims/html/masses-and-springs/latest/masses-and-springs_en.html\" width=\"600\" height=\"450\" scrolling=\"no\" allowfullscreen></iframe>"
            ],
            "text/plain": [
              "<IPython.core.display.HTML object>"
            ]
          },
          "metadata": {
            "tags": []
          }
        }
      ]
    },
    {
      "cell_type": "markdown",
      "metadata": {
        "id": "zcUozjYnViUO",
        "colab_type": "text"
      },
      "source": [
        "> Q. 鉛直 **上向き** を正の方向として, 重力 $W$ と バネによる力 $F$ が静止している条件(力のつり合い)を立ててください.\n"
      ]
    },
    {
      "cell_type": "code",
      "metadata": {
        "id": "ev29XxQQWRfM",
        "colab_type": "code",
        "cellView": "form",
        "colab": {}
      },
      "source": [
        "#@title 上の問いの答え\n",
        "print(\"F + (-W) = 0\")"
      ],
      "execution_count": 0,
      "outputs": []
    },
    {
      "cell_type": "markdown",
      "metadata": {
        "id": "gO6LfB4xWm_l",
        "colab_type": "text"
      },
      "source": [
        "緑色の矢印は下の方に $x=-\\ell$ 変位していると考えれば,\n",
        "フックの法則から青い力は\n",
        "\\begin{align*}\n",
        "F &= -k x = -k (-\\ell) = + k\\ell&\n",
        "\\end{align*}\n",
        "\n",
        "よってちからのつり合いの式は\n",
        "\\begin{align*}\n",
        "F + (-W)&= 0&\\\\\n",
        "k\\ell &= mg &\\\\\n",
        "\\ell &= \\dfrac{m}{k} g&\\\\\n",
        "\\ell &= \\dfrac{W}{k}&\n",
        "\\end{align*}\n",
        "\n",
        "これは教科書上 p21 図1.28 の関係を示しています.\n"
      ]
    },
    {
      "cell_type": "markdown",
      "metadata": {
        "id": "PT6EB9FuX7Qn",
        "colab_type": "text"
      },
      "source": [
        "> Q. この実験で赤い矢印の反作用, 青い矢印の反作用を探してください."
      ]
    },
    {
      "cell_type": "markdown",
      "metadata": {
        "id": "PvoLcS_0aKmV",
        "colab_type": "text"
      },
      "source": [
        "### ばね定数の合成"
      ]
    },
    {
      "cell_type": "markdown",
      "metadata": {
        "id": "E4UyrzUqYIDI",
        "colab_type": "text"
      },
      "source": [
        "> Q. 教科書上 p22 の例題 1.9 に取り組んでください"
      ]
    },
    {
      "cell_type": "code",
      "metadata": {
        "colab_type": "code",
        "cellView": "form",
        "outputId": "3cdeb97f-8127-4d40-dc1b-22f0b94fcf79",
        "id": "N1zKK7z3RMGD",
        "colab": {
          "base_uri": "https://localhost:8080/",
          "height": 475
        }
      },
      "source": [
        "#@title 直列合成ばね定数 (choose Systems)\n",
        "%%html\n",
        "<iframe src=\"https://phet.colorado.edu/sims/html/hookes-law/latest/hookes-law_en.html\" width=\"600\" height=\"450\" scrolling=\"no\" allowfullscreen></iframe>"
      ],
      "execution_count": 2,
      "outputs": [
        {
          "output_type": "display_data",
          "data": {
            "text/html": [
              "<iframe src=\"https://phet.colorado.edu/sims/html/hookes-law/latest/hookes-law_en.html\" width=\"600\" height=\"450\" scrolling=\"no\" allowfullscreen></iframe>"
            ],
            "text/plain": [
              "<IPython.core.display.HTML object>"
            ]
          },
          "metadata": {
            "tags": []
          }
        }
      ]
    },
    {
      "cell_type": "markdown",
      "metadata": {
        "id": "Jbt_UMN_R_FL",
        "colab_type": "text"
      },
      "source": [
        "右側を正の方向として考えます.\n",
        "\n",
        "フックの法則より, はねの伸びが $\\ell>0$ のとき,\n",
        "バネからの力の大きさは,\n",
        "\\begin{align*}\n",
        "\\left| F \\right| = \\left| - k \\ell \\right| =  k \\ell\n",
        "\\end{align*}\n",
        "\n",
        "- マジックハンドの力の大きさを $F_0$\n",
        "- 右のばね A からの力の大きさを $F_{\\rm A}$\n",
        "  - ばね A のバネ定数を $k_{\\rm A}$\n",
        "  - その伸びを $\\ell_{\\rm A}$\n",
        "- 左(中央)のばね B からの力の大きさを $F_{\\rm B}$\n",
        "  - ばね B のバネ定数を $k_{\\rm B}$\n",
        "  - その伸びを $\\ell_{\\rm B}$\n",
        "- 合成バネについて\n",
        "  - 合成ばね定数 $\\quad K_1$\n",
        "  - 全体の伸びは $\\quad \\ell = \\ell_{\\rm A} + \\ell_{\\rm B}$\n",
        "- 作用反作用を利用すれば, バネによる力の大きさは全て同じ\n",
        "  - $F=F_0 = K \\ell$\n",
        "  - $F=F_{\\rm A} = k_{\\rm A}\\ell_{\\rm A}$\n",
        "  - $F=F_{\\rm B} = k_{\\rm B}\\ell_{\\rm A}$\n",
        "\n",
        "**伸び $\\ell$** に注目して整理すると\n",
        "$\\require{cancel}$\n",
        "\\begin{align*}\n",
        "\\ell &= \\ell_{\\rm A} + \\ell_{\\rm B} &\\\\\n",
        "\\dfrac{F}{K} &= \\dfrac{F}{k_{\\rm A}} + \\dfrac{F}{k_{\\rm B}} &\\\\\n",
        "\\dfrac{\\cancel{F}}{K} \n",
        "&= \\dfrac{\\cancel{F}}{k_{\\rm A}}\n",
        " + \\dfrac{\\cancel{F}}{k_{\\rm B}} &\\\\\n",
        "\\dfrac{1}{K}  \n",
        "&= \\dfrac{1}{k_{\\rm A}}\n",
        " + \\dfrac{1}{k_{\\rm B}} &\\\\\n",
        "K & = \\left(\n",
        "  \\dfrac{1}{k_{\\rm A}}\n",
        " + \\dfrac{1}{k_{\\rm B}}\\right)^{-1} \n",
        " = \\dfrac{k_{\\rm A}k_{\\rm B}}{k_{\\rm A} + k_{\\rm B}}\n",
        "\\end{align*}"
      ]
    },
    {
      "cell_type": "code",
      "metadata": {
        "colab_type": "code",
        "cellView": "form",
        "outputId": "4d75a730-34ba-4b0a-bc8c-6d58a969af38",
        "id": "F1CtP_EsYrTU",
        "colab": {
          "base_uri": "https://localhost:8080/",
          "height": 475
        }
      },
      "source": [
        "#@title 並列合成ばね定数 (choose Systems)\n",
        "%%html\n",
        "<iframe src=\"https://phet.colorado.edu/sims/html/hookes-law/latest/hookes-law_en.html\" width=\"600\" height=\"450\" scrolling=\"no\" allowfullscreen></iframe>"
      ],
      "execution_count": 3,
      "outputs": [
        {
          "output_type": "display_data",
          "data": {
            "text/html": [
              "<iframe src=\"https://phet.colorado.edu/sims/html/hookes-law/latest/hookes-law_en.html\" width=\"600\" height=\"450\" scrolling=\"no\" allowfullscreen></iframe>"
            ],
            "text/plain": [
              "<IPython.core.display.HTML object>"
            ]
          },
          "metadata": {
            "tags": []
          }
        }
      ]
    },
    {
      "cell_type": "markdown",
      "metadata": {
        "id": "EUpb1d4dWZPa",
        "colab_type": "text"
      },
      "source": [
        "右側を正の方向として考えます.\n",
        "\n",
        "- マジックハンドの力の大きさを $F_0$\n",
        "- 右のばね A からの力の大きさを $F_{\\rm A}$\n",
        "  - ばね A のバネ定数を $k_{\\rm A}$\n",
        "  - その伸びを $\\ell_{\\rm A}$\n",
        "- 左(中央)のばね B からの力の大きさを $F_{\\rm B}$\n",
        "  - ばね B のバネ定数を $k_{\\rm B}$\n",
        "  - その伸びを $\\ell_{\\rm B}$\n",
        "- 合成バネについて\n",
        "  - 合成ばね定数 $\\quad K_1$\n",
        "  - 合成バネによる力は $F=K \\ell$\n",
        "- ばねの伸びは A,B とも共通 $\\ell = \\ell_{\\rm A} =\\ell_{\\rm B}$\n",
        "\n",
        "**伸び力のつりあい** に注目して整理すると\n",
        "\\begin{align*}\n",
        "F_0 + (-F_{\\rm A})+ (-F_{\\rm B}) &=0& F_0 + (-F)=0&\\\\\n",
        "F &= F_{\\rm A} +F_{\\rm B} &\\\\\n",
        "K \\ell &= k_{\\rm A} \\ell + k \\ell_{\\rm B} &\\\\\n",
        "K \\cancel{\\ell} \n",
        "&= k_{\\rm A} \\cancel{\\ell} \n",
        "+ k \\cancel{\\ell_{\\rm B}} &\\\\\n",
        "K &= k_{\\rm A} + k_{\\rm B}&\n",
        "\\end{align*}"
      ]
    }
  ]
}