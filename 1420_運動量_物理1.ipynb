{
  "nbformat": 4,
  "nbformat_minor": 0,
  "metadata": {
    "colab": {
      "name": "1420_運動量_物理1",
      "provenance": [],
      "collapsed_sections": [],
      "authorship_tag": "ABX9TyNLdFiaVMn6aKUUPUH0iKf7",
      "include_colab_link": true
    },
    "kernelspec": {
      "name": "python3",
      "display_name": "Python 3"
    }
  },
  "cells": [
    {
      "cell_type": "markdown",
      "metadata": {
        "id": "view-in-github",
        "colab_type": "text"
      },
      "source": [
        "<a href=\"https://colab.research.google.com/github/kzhkAKT/Physics1/blob/draft/1420_%E9%81%8B%E5%8B%95%E9%87%8F_%E7%89%A9%E7%90%861.ipynb\" target=\"_parent\"><img src=\"https://colab.research.google.com/assets/colab-badge.svg\" alt=\"Open In Colab\"/></a>"
      ]
    },
    {
      "cell_type": "markdown",
      "metadata": {
        "id": "_jPPkwK_rG1q",
        "colab_type": "text"
      },
      "source": [
        "# 力積と運動量"
      ]
    },
    {
      "cell_type": "markdown",
      "metadata": {
        "id": "2pM67cBfqiea",
        "colab_type": "text"
      },
      "source": [
        "\\begin{align}\n",
        "& m v' - m v = F \\Delta t&\n",
        "\\end{align}"
      ]
    },
    {
      "cell_type": "markdown",
      "metadata": {
        "colab_type": "text",
        "id": "xmkJMdAEqX0K"
      },
      "source": [
        "## 運動量 $p$\n",
        "\n",
        "\\begin{align*}\n",
        " p = m v\n",
        "\\end{align*}\n",
        "\n",
        "> 運動量 [kg m/s]=質量 [kg] × 速度 [m/s]\n",
        "\n",
        "速度も **瞬間の速度** なので, 観測したその瞬間の情報を利用して計算すれば良い.\n",
        "\n"
      ]
    },
    {
      "cell_type": "code",
      "metadata": {
        "id": "L7cCph_frlNI",
        "colab_type": "code",
        "colab": {
          "base_uri": "https://localhost:8080/",
          "height": 336
        },
        "cellView": "form",
        "outputId": "88141098-2f1b-4351-ccfd-79485a6da196"
      },
      "source": [
        "#@title 運動量=質量 × 速度\n",
        "%%html\n",
        "<iframe width=\"560\" height=\"315\" src=\"https://www.youtube-nocookie.com/embed/EzNfvwPCFs0\" frameborder=\"0\" allow=\"accelerometer; autoplay; encrypted-media; gyroscope; picture-in-picture\" allowfullscreen></iframe>"
      ],
      "execution_count": 1,
      "outputs": [
        {
          "output_type": "display_data",
          "data": {
            "text/html": [
              "<iframe width=\"560\" height=\"315\" src=\"https://www.youtube-nocookie.com/embed/EzNfvwPCFs0\" frameborder=\"0\" allow=\"accelerometer; autoplay; encrypted-media; gyroscope; picture-in-picture\" allowfullscreen></iframe>"
            ],
            "text/plain": [
              "<IPython.core.display.HTML object>"
            ]
          },
          "metadata": {
            "tags": []
          }
        }
      ]
    }
  ]
}