{
  "nbformat": 4,
  "nbformat_minor": 0,
  "metadata": {
    "colab": {
      "name": "1106_等速直線運動_物理1",
      "provenance": [],
      "collapsed_sections": [],
      "toc_visible": true,
      "mount_file_id": "1ko3fj7Et3uUihh--l0FmQ631VQEkUGDP",
      "authorship_tag": "ABX9TyO4OAjQvc/G02SmCv//TCTO",
      "include_colab_link": true
    },
    "kernelspec": {
      "name": "python3",
      "display_name": "Python 3"
    },
    "widgets": {
      "application/vnd.jupyter.widget-state+json": {
        "381615e8bb0249319f0fb15af7984618": {
          "model_module": "@jupyter-widgets/controls",
          "model_name": "VBoxModel",
          "state": {
            "_view_name": "VBoxView",
            "_dom_classes": [
              "widget-interact"
            ],
            "_model_name": "VBoxModel",
            "_view_module": "@jupyter-widgets/controls",
            "_model_module_version": "1.5.0",
            "_view_count": null,
            "_view_module_version": "1.5.0",
            "box_style": "",
            "layout": "IPY_MODEL_1545a7d8fb8f4a11b1dd0a70493342e4",
            "_model_module": "@jupyter-widgets/controls",
            "children": [
              "IPY_MODEL_130e18428da041a4ba96fb371814bb53",
              "IPY_MODEL_9348eac4b4134ae68409138a64765f2f"
            ]
          }
        },
        "1545a7d8fb8f4a11b1dd0a70493342e4": {
          "model_module": "@jupyter-widgets/base",
          "model_name": "LayoutModel",
          "state": {
            "_view_name": "LayoutView",
            "grid_template_rows": null,
            "right": null,
            "justify_content": null,
            "_view_module": "@jupyter-widgets/base",
            "overflow": null,
            "_model_module_version": "1.2.0",
            "_view_count": null,
            "flex_flow": null,
            "width": null,
            "min_width": null,
            "border": null,
            "align_items": null,
            "bottom": null,
            "_model_module": "@jupyter-widgets/base",
            "top": null,
            "grid_column": null,
            "overflow_y": null,
            "overflow_x": null,
            "grid_auto_flow": null,
            "grid_area": null,
            "grid_template_columns": null,
            "flex": null,
            "_model_name": "LayoutModel",
            "justify_items": null,
            "grid_row": null,
            "max_height": null,
            "align_content": null,
            "visibility": null,
            "align_self": null,
            "height": null,
            "min_height": null,
            "padding": null,
            "grid_auto_rows": null,
            "grid_gap": null,
            "max_width": null,
            "order": null,
            "_view_module_version": "1.2.0",
            "grid_template_areas": null,
            "object_position": null,
            "object_fit": null,
            "grid_auto_columns": null,
            "margin": null,
            "display": null,
            "left": null
          }
        },
        "130e18428da041a4ba96fb371814bb53": {
          "model_module": "@jupyter-widgets/controls",
          "model_name": "IntSliderModel",
          "state": {
            "_view_name": "IntSliderView",
            "style": "IPY_MODEL_ffc9da0718ad4c498f747ea762f0f5ed",
            "_dom_classes": [],
            "description": "v",
            "step": 1,
            "_model_name": "IntSliderModel",
            "orientation": "horizontal",
            "max": 7,
            "_view_module": "@jupyter-widgets/controls",
            "_model_module_version": "1.5.0",
            "value": 5,
            "_view_count": null,
            "disabled": false,
            "_view_module_version": "1.5.0",
            "min": -7,
            "continuous_update": true,
            "readout_format": "d",
            "description_tooltip": null,
            "readout": true,
            "_model_module": "@jupyter-widgets/controls",
            "layout": "IPY_MODEL_606a7826888f4db08e3774518120c568"
          }
        },
        "9348eac4b4134ae68409138a64765f2f": {
          "model_module": "@jupyter-widgets/output",
          "model_name": "OutputModel",
          "state": {
            "_view_name": "OutputView",
            "msg_id": "",
            "_dom_classes": [],
            "_model_name": "OutputModel",
            "outputs": [
              {
                "output_type": "display_data",
                "metadata": {
                  "tags": []
                },
                "image/png": "iVBORw0KGgoAAAANSUhEUgAAAgYAAAEaCAYAAABqw5/dAAAABHNCSVQICAgIfAhkiAAAAAlwSFlzAAALEgAACxIB0t1+/AAAADh0RVh0U29mdHdhcmUAbWF0cGxvdGxpYiB2ZXJzaW9uMy4yLjEsIGh0dHA6Ly9tYXRwbG90bGliLm9yZy+j8jraAAAgAElEQVR4nO3de1hU5aIG8HetGZCLigzXUNyKSmqGaKCGkJaT28ptbDNFt+alUoI0r1vJe6iRipi3pEI9aBfdpbZ3p05GpKbolkS8loJZbsNEGEBJUWCt8wenOSIXB2FmzZp5f8/j07Dmm/GNBz9f1/rmW4IsyzKIiIiIAIhKByAiIiLrwWJARERERiwGREREZMRiQEREREYsBkRERGTEYkBERERGLAZERERkxGJAFrNt2zYIgqB0DCJSgY4dO2LRokVKx7BLLAZERERkxGJA9+W9996Dm5sbysrKqh1/66230LZtW0iSVO343r17MWbMGACAIAgQBAHjxo2zVFwiUtiBAwfQt29ftGjRAi1atED37t3x1Vdf1Tq2f//+OH/+PBYvXmycL37++WfLBrZjLAZ0X4YPH47bt2/js88+q3Y8NTUVo0ePhihW/9EKCwvDunXrAACXL1/G5cuX8fbbb1ssLxEpp6KiAkOGDEHv3r2RlZWFrKwsLFq0CC4uLrWO37lzJ9q1a4cZM2YY5wt/f38Lp7ZfWqUDkDq5ubnh2WefRWpqKkaMGAEA+P7773HmzBns3LmzxnhHR0e4ubkBAHx9fS2alYiUdf36dRQVFWHIkCHo1KkTABj/WxudTgeNRoPmzZtzvlAAzxjQfRs7diz27NmD/Px8AFVnC3r16gVnZ2c0b97c+Cs6OlrhpESkJHd3d7z00kv485//jKeeegoJCQk4e/YsACA6OrrafHHx4kWF0xKLAd23gQMHwtPTEx9++CHKy8vx8ccfY+zYsfDz80N2drbx1xtvvKF0VCJS2HvvvYejR4/iySefxL59+9CtWzckJyfjjTfeqDZf+Pn5KR3V7vFSAt03jUaDv/3tb9i6dSsCAgJQUlKCqKgoaLVadOzYscZ4R0dHAEBlZSU0Go2l4xKRwrp164Zu3bph+vTpiI6OxrvvvotJkybB29u7xlhHR0dUVlYqkJJ4xoAa5YUXXkBWVhYWLlyIwYMHQ6fT1Tm2ffv2AIB//vOfuHr1KkpLSy0Vk4gUlJubi9mzZ+PAgQP45ZdfcOjQIXz33Xfo2rVrna9p3749Dh48iIsXL6KgoKDGJ53IfFgMqFGCgoIQHByM7OxsvPDCC/WODQ0NxWuvvWb8F8Krr75qoZREpCRXV1fk5OQgKioKgYGBeO6556p9Uqk2ixcvRnFxMR588EF4eXlx7YEFCbIsy0qHICIiIuvAMwZERERkZDWLDzds2ICsrCy4ubkhMTERAFBaWoqkpCRcvXoVXl5emDZtGpo3b17jtXv37jV+dn7o0KHo37+/JaMTERHZDKs5Y9C/f3+8/vrr1Y7t3r0bDz/8MNasWYOHH34Yu3fvrvG60tJSfPLJJ1i2bBmWLVuGTz75hIvaiIiI7pPVFIOuXbvWOBuQmZmJfv36AQD69euHzMzMGq/Lzs5GUFCQcXOMoKAgZGdnWyQzERGRrbGaSwm1KSkpgbu7OwCgVatWKCkpqTHGYDDAw8PD+LVOp4PBYKj1/dLS0pCWlgYASEhIMENiIiIidbPqYnCnP+6w1Rh6vR56vd74dV5eXmNjWYynpycKCgqUjtEgzGx+3CXOcjhfmFdTZpYv/gQpaT6gdYA4YwkE3zZN8r53UuP32NT5wmouJdTGzc0NRUVFAICioiK0bNmyxhidTofCwkLj1waDod5NdoiIyHbJP+dASpwHODaDOGuZWUqBrbPqYhASEoJ9+/YBAPbt24fQ0NAaY4KDg3H8+HGUlpaitLQUx48fR3BwsKWjEhGRwuTzP0JaNR9wdoE4600I3jyjdj+s5lLC6tWrcebMGVy/fh3R0dEYPnw4IiMjkZSUhPT0dOPHFQHg/Pnz+Prrr4135XruuecQFxcHABg2bFitH2kkIiLbJZ87DWnNG4Bbq6rLBzovpSOpll3vfMhrhubFzObHNQaWw/nCvBqTWf7hOKR1SwCdF8QZ8RBaedz7RY2kxu+xqfOF1ZwxICIiaij59DFI65cC3g9AnP4GhJbuSkdSPRYDIiJSJfl4JqSNbwIP+EOcFg+hRc0F6tRwLAZERKQ6ctYhSO+uANq0gzhtMQTXFkpHshksBkREpCpS5neQ308E2nWC+NoiCC6uSkeyKSwGRESkGtLhbyFvehvo2BnilAUQnFyUjmRzWAyIiEgVpANfQ05dBwR2gzh5PoRmTkpHskksBkREZPWkvV9C/uAd4KEeEGNeh+DYTOlINovFgIiIrJr0zb8gf/weEBQKMXo2BAdHpSPZNBYDIiKyWtJXOyF/sgXo+SjEl2dC0DooHcnmsRgQEZFVkv57B+Td2yCERkCYMA2Cln9lWQK/y0REZFVkWYb8zw8hf74dQp/+EMa9BkGjUTqW3WAxICIiqyHLMuSdqZD/51MIffUQXoiFILIUWBKLARERWQVZliHvSIGc9k8I/Z+CMHISBFFUOpbdYTEgIptUUFCA9evXo7i4GIIgQK/X4+mnn0ZpaSmSkpJw9epV4+3ceat25cmSBPnDZMh7v4Aw4C8QRrwEQRCUjmWXWAyIyCZpNBqMGTMGAQEBuHnzJubMmYOgoCDs3bsXDz/8MCIjI7F7927s3r0bo0ePVjquXZMlCdffeauqFPz5rxCeG8dSoCCeoyEim+Tu7o6AgAAAgLOzM1q3bg2DwYDMzEz069cPANCvXz9kZmYqGdPuyVIl5C1v42bavyA8M5ylwArwjAER2bz8/HxcuHABHTt2RElJCdzd3QEArVq1QklJSa2vSUtLQ1paGgAgISEBnp6eFsvbWFqtVhV55coKXHs7HmWHvkWLv02Cy7CxSkcymVq+x/eDxYCIbFpZWRkSExMxbtw4uLhUv+GOIAh1/utUr9dDr9cbvy4oKDBrzqbk6elp9XnlinJI7yUCWRkQnhsLl2FjrT7zndTwPb6bn5+fSeOsvhjk5eUhKSnJ+HV+fj6GDx+OZ555xnjs9OnTWL58Oby9vQEAvXv3xrBhwyyelYisS0VFBRITExEREYHevXsDANzc3FBUVAR3d3cUFRWhZcuWCqe0P3J5OaTkt4DjRyCMeBGi/lmlI9EdrL4Y+Pn5YcWKFQAASZIwadIk9OrVq8a4Ll26YM6cOZaOR0RWSpZlbNy4Ea1bt8bgwYONx0NCQrBv3z5ERkZi3759CA0NVTCl/ZFv34L0zpvAqSwIo6IhPv600pHoLlZfDO508uRJ+Pr6wsvLS+koRGTlzp49i/3796Nt27aYNWsWAGDkyJGIjIxEUlIS0tPTjR9XJMuQb92CtH4J8OMJCC+8CjFioNKRqBaqKgYHDx5E3759a33u3LlzmDVrFtzd3TFmzBj4+/tbOB0RWZPOnTtjx44dtT63YMECC6chuewmpLXxQM4ZCONegxj2hNKRqA6qKQYVFRU4evQoRo0aVeO59u3bY8OGDXByckJWVhZWrFiBNWvW1BjHVcaWxcxEBADyjd8hrVkMXDgH4cVpEHv3UzoS1UM1xeDYsWNo3749WrVqVeO5O1ca9+zZEykpKbh27VqNRUVcZWxZzGx+pq4yJlKK/HsppNULgf/8BHHiLAiP1H7Wl6yHajY4qu8yQnFxMWRZBgDk5uZCkiS0aNHCkvGIiOgucuk1SKvmAZcuQIyew1KgEqo4Y1BWVoYTJ05g4sSJxmN79uwBAAwcOBCHDx/Gnj17oNFo4OjoiKlTp3LnLCIiBcnXiiGtmg9cyYMYOxdCt0eUjkQmUkUxcHJywqZNm6odGzjw/1ezDho0CIMGDbJ0LCIiqoVcbKgqBYVXIE5ZAKFLd6UjUQOoohgQEZE6yIaCqlJQXAhxyiIID3ZTOhI1EIsBERE1CbkwH1LiPOB6CcSpiyB07Kp0JLoPLAZERNRo8tXfIK2cC5TdgDg9HkL7QKUj0X1iMSAiokaRf/u16kxB+W2I05dA+FMHpSNRI7AYEBHRfZPzLlatKZAkiDOXQmjTTulI1Eiq2ceAiIisi3zpQtXlA4ClwIbwjAERETWY/Mt5SEkLAAdHiDOWQPBtrXQkaiI8Y0BERA0iXzhXtaNhMyeIs5axFNgYnjEgIiKTybk/QHp7EdC8ZdXlAw9vpSNRE2MxICIik8jnTkFa8wbgpqu6fKDjnUhtEYsBERHdk/zDcUjr4gEPn6p9ClrplI5EZsJiQERE9ZJPHYW04U3A+4GqUtCyldKRyIxYDIiIqE7y8SOQNiYAfm0hTnsDQvOWSkciM2MxICKiWslZGZDeXQH4B0CcuhiCa3OlI5EFsBgQEVEN0pH9kFNWAe0DIU5ZCMHFVelIZCEsBkREVI2UkQ55yxqgUxeIk+dDcHJROhJZEIsBEREZSd/tgbx1PdA5CGLsXAjNnJSORBbGYkBERAAAae8XkD/YCHTrCfGVOAiOzZSORApgMSAiIkhp/4S8/X2gey+Ik2ZDcHBQOhIpRBXFIDY2Fk5OThBFERqNBgkJCdWel2UZmzdvxrFjx9CsWTPExMQgICBAobREROoi/c+nkD/9L6BnGMSXZ0DQshTYM1UUAwBYuHAhWras/fOzx44dw2+//YY1a9YgJycH77//PpYtW2bhhERE6iN9/jHkzz6EEBoB4cXpEDQapSORwlRTDOrz/fff47HHHoMgCAgMDMTvv/+OoqIiuLu71/u6yhWvWyhh4xkcHFBZXq50jAZhZgtI2qJ0AlIpWZYhf/YB5P/eAeHRxyGMmwJBZCkgFRWDpUuXAgCefPJJ6PX6as8ZDAZ4ev7/zTw8PDxgMBhqFIO0tDSkpaUBABISEuCgomtogiCoKi/AzETWSpZlyJ/+F+SvdkKIGAhhdAwEUVQ6FlkJVRSD+Ph46HQ6lJSUYMmSJfDz80PXrl0b/D56vb5aqZCmLm7KmGbl6emJgoICpWM0CDMTWR9ZliFvfx/yN/+C0P9pCCMnshRQNar4adDpqu7i5ebmhtDQUOTm5tZ4/s7JvLCw0PgaIiKqIksS5A83VpUC/bMQRk1iKaAarP4noqysDDdv3jQ+PnHiBNq2bVttTEhICPbv3w9ZlnHu3Dm4uLjcc30BEZE9kaVKyFvXQ977JYRBz0EYPgGCICgdi6yQ1V9KKCkpwcqVKwEAlZWVCA8PR3BwMPbs2QMAGDhwIHr06IGsrCxMmTIFjo6OiImJUTIyEZFVkSsrIW9ZA/nwtxAGR0EYMpKlgOpk9cXAx8cHK1asqHF84MCBxseCIOCll16yZCwiIlWQKyogb0qCnPkdhMjREJ8ZrnQksnJWXwyIiOj+yBXlVbdNPnYYwrDxEP/8V6UjkQqwGBCRTdqwYQOysrLg5uaGxMREAEBpaSmSkpJw9epVeHl5Ydq0aWjevLnCSc1DLr8NaeNbwIlMCFEvQxzwF6UjkUpY/eJDIqL70b9/f7z+evVNzHbv3o2HH34Ya9aswcMPP4zdu3crlM685Fu3IK1fWlUK/vYKSwE1CIsBEdmkrl271jgbkJmZiX79+gEA+vXrh8zMTCWimZV8qwzFS2cCZ7IhjJ0Msf9TSkcileGlBCKyGyUlJcaPMrdq1QolJSUKJ2pactkNSGvewO3zP0IYPxXio48rHYlUiMWAiOySIAj1fmTv7i3U79x23RpJv5eieOXrkM6fhfvMeDiqrBRotVqr/x7fSW15G4LFgIjshpubm/EGa0VFRXXesRWouYW6NW+VLf9eCilpAXDpZ4iTZsHx0cetOm9t1LYdudryAoCfn59J47jGgIjsRkhICPbt2wcA2LdvH0JDQxVO1Hjy9WuQEucCv/4M8ZU4CD3DlI5EKsczBkRkk1avXo0zZ87g+vXriI6OxvDhwxEZGYmkpCSkp6cbP66oZvK1IkirFgD5lyHGzoXQ7RGlI5ENYDEgIps0derUWo8vWLDAwknMQy4uhJQ4HzBchTh5PoQu3ZWORDaCxYCISGVkw1VIifOAkmKIry2EENhN6UhkQ1gMiIhURC64UlUKfr8OcdpiCB06Kx2JbIzJiw9zcnJqPZ6bm9tkYYiIqG5y/mVIK14HbpRCnBbPUkBmYXIxWLJkSa3Hly5d2mRhiIiodvJvlyCtiANul0GcsQRC+05KRyIbdc9LCZIkAQBkWTb++sOVK1eg0WjMl46IiCDnXay6fCDLEGcshdCmndKRyIbdsxiMHDnS+DgqKqrac6Io4q9/5W08iYjMRb50oeojiaIG4sx4CA/4Kx2JbNw9i8G6desgyzIWLVqExYsXG48LgoCWLVvC0dHRrAGJiOyV/Mv5qh0NHZtVXT7wMW3nOqLGuOcag48++gjnzp3D8uXL4eXlZfzl6enJUkBEjbJ8+fJaj69cudLCSayP/NPZqssHTs4QZy1jKSCLuecZg0ceeQRZWVlITU2Fj48PevTogR49eqB9+/ZmD1dQUID169ejuLgYgiBAr9fj6aefrjbm9OnTWL58Oby9vQEAvXv3xrBhw8yejYga7/Tp0w06bi/knDOQ1iwGWrhVrSnw8FI6EtmRexaDvn37om/fvpBlGbm5ucjKykJycjKKi4sRHByMHj16oHv37nBycmrycBqNBmPGjEFAQABu3ryJOXPmICgoCG3atKk2rkuXLpgzZ06T//5EZB7bt28HAFRUVBgf/+HKlSvw8rLfvwjlsychrY0HWnlUXT5w91A6EtkZkzc4EgQBnTp1QqdOnTBixAgUFxcjOzsbBw8exHvvvYcRI0bgySefbNJw7u7uxnunOzs7o3Xr1jAYDDWKARGpS2FhIYCqTz398fgPnp6eGD58uBKxFCefyYa0fgng4VNVCtzclY5Edui+dz50cXFB37590b9/f0iShNLS0qbMVUN+fj4uXLiAjh071nju3LlzmDVrFtzd3TFmzBj4+9e+aldt91e/kxrv/c3MVJeYmBgAQGBgYLVbG9sz+eT3kDa8Cfi2hjg9HkILN6UjkZ0S5Ds3JqhHamoqwsLC0LFjR2RlZSExMRGCIGDq1KkICQkxa8iysjIsXLgQQ4cORe/evas9d+PGDYiiCCcnJ2RlZWHLli1Ys2aNSe+bl5dnjrhmocZ7fzOz+Zl6f3VqPHPOF3L2YUgblwOt/1S1zXHzlo16P7X9HAPqy6y2vIDp84XJOx8eOHDA+C/xTz75BJMnT8bf//53fPTRR/eX0EQVFRVITExEREREjVIAVJ25+GN9Q8+ePVFZWYlr166ZNRMRUVORjx6EtPEtoG0AxBnxjS4FRI1l8qWEW7duoVmzZrh+/TquXLmCPn36AIBZG5Msy9i4cSNat26NwYMH1zqmuLgYbm5uEAQBubm5kCQJLVq0MFsmIqKmIv17H+RNSUDAgxCnLITg7KJ0JCLTi4Gfnx++++47/PbbbwgKCgIAXLt2zax7GZw9exb79+9H27ZtMWvWLABVOzH+UUYGDhyIw4cPY8+ePdBoNHB0dMTUqVMhCILZMhERNQUp4xvIW9YCgQ9BfHUeBCdnpSMRAWhAMXjxxRexZcsWaLVaREdHAwCOHz9uLAnm0LlzZ+zYsaPeMYMGDcKgQYPMloGIzGfWrFmIiIhAWFiYXS36lPZ/BXnbBqBzEMTYeRCaNVM6EpGRyYsPbREXH5oXM5uf2hcfHjlyBAcOHMCxY8cQEBCA8PBwPProo2jevLnS0WpoqvlC+va/IX+YDHR7BGJMHASHpj/rqrafY0B9mdWWFzB9vrjvjysSETVWr1690KtXL9y8eRP//ve/cfDgQaSmpqJbt26YPXu20vGanPT1Z5B3pADBvSFO/DsEBwelIxHVwGJARIpzdnZGeHg4XF1dUVFRgWPHjikdqclJX34Keed/AY+EQXxpJgQtp1+yTvzJJCLFyLKMU6dO4cCBAzhy5Ai8vLwQHh6O2NhYpaM1GVmWIX++HfI/P4TQ6zEIE6ZB0GiUjkVUJxYDIlLMpEmT4OTkhLCwMMTHx9vcdueyLEPe/QHkL3ZAePQJCOMmQxBZCsi6NagYnD17Fg8++CAA4Mcff0Tnzp3NEoqI7MPf//73Wrc5twWyLEP+ZAvkPbsgRAyEMDoGgmjynnJEimnQT2lCQoLx8ZtvvtnkYYjIvth0Kdj+flUpePxplgJSlfu+lGDHn3IkIqqTLEmQP9wIed//QNA/C2H4BG66Rqpy38WAP+hERNXJUiXk1HWQD34DYdBzEIa+wLmSVIeLD4mImoBcWQl582rI/94H4S9REP4ykqWAVIkXvYhIUYWFhbU+VhO5ogLyeyurSkHkaIhDRrEUkGqxGBCRombOnGl8PH36dAWT3B+5vBxS8nLIRw9CeH48xGeGKx2JqFG4+JCIrIba5hW5/DakdxKAk99DiJoIcUDtt4cnUpMGFYM79y5//fXXmzwMEdk3NZ1+l2/dgrRhKXAmG8KYGIiP8S6vZBsaVAzu3NCImxsRkb2Sb5VBWhsPnDsFYdwUiH31SkciajL8VAIRUQPIN29AWvMGcP5HCBOmQezTX+lIRE2KxYCIyETyjVJIby8Gfs6BOHEmhJBwpSMRNTkWAyKyGta8+FD+/TqkpIXApZ8hRs+B0KOP0pGIzEIVxSA7OxubN2+GJEkYMGAAIiMjqz1fXl6OdevW4aeffkKLFi0wdepUeHt7K5SWiBrixRdfND6eOHGiRX7Pe80ptZFWzgN+uwQxJg5CUKgFUhIpo95isG7dOtPeRKtFdHR0kwS6myRJSElJwbx58+Dh4YG4uDiEhIRUuz1reno6XF1dsXbtWhw8eBAffPABpk2bZpY8RNS0wsPDa31sLqbMKbW68ivEV+dBeKiH2TMSKaneYpCRkYG//vWv93yTzz//3GzFIDc3F76+vvDx8QEAhIWFITMzs9of4u+//x7PP/88AKBPnz7YtGkTZFm+50ef5n79i1kym4ODQx7Ky8uVjtEgzGx+m8f6KR1BdUyZU2ojTp4PoUt3S0QkUlS9xcDDw8P4F259Dh482GSB7mYwGODh4VEtU05OTp1jNBoNXFxccP36dbRs2bLauLS0NKSlpQGouoW0g4OD2XI3NUEQVJUXYGayTqbMKUDN+cIrYoDFMjaWVquFp6en0jEaRG2Z1Za3IeotBmvXrjXpTVavXt0kYcxNr9dDr///zxsv6q+ef215enqioKBA6RgNwsykZnfPF2r6uVDjz7HaMqstLwD4+Zn2d9593yvhypUryM/Pv9+Xm0yn09W4yYpOp6tzTGVlJW7cuIEWLVqYPRsRqY8pcwqRPTP5UwmrV6/GU089hQcffBDffvst3n//fYiiiPHjx+OJJ54wW8AOHTrg8uXLyM/Ph06nQ0ZGBqZMmVJtzCOPPIK9e/ciMDAQhw8fxkMPPaSqrVWJ7Mn27dtNGqfRaDBs2LAm//1NmVOI7JnJxeDUqVN49dVXAVQtNpw/fz5cXV2xYsUKsxYDjUaDCRMmYOnSpZAkCY8//jj8/f2xfft2dOjQASEhIXjiiSewbt06TJ48Gc2bN8fUqVPNloeIGmf37t2IiIi457jDhw+bpRjUNacQURWTi0FFRQW0Wi0MBgNKS0uN90ooKSkxW7g/9OzZEz179qx2bMSIEcbHjo6OqrxdK5E9cnBwQExMzD3HZWZmmi1DbXMKEVUxuRi0a9cOu3btwtWrV41/oAwGA5ydnc0Wjohsz6ZNm0wa995775k5CRHVxuTFh9HR0bh48SJu376NqKgoAMC5c+cssiEJEdkOrda0f4+YOo6ImtY9/+R988036NGjB3x9ffHaa69Ve65Pnz7o04f7hRPR/blx4wa++OIL/PzzzygrK6v23Lx58xRKRWTf7lkMzp8/j08//RSurq7o2bMnevTogQcffJCr/omo0VatWgVJktCrVy84OjoqHYeIYEIx+OOmJhcvXkRWVhY++ugj5OXl4aGHHkLPnj0RHBxcY4dBIiJT5OTkICUlhZcNiKyIyX8a27Zti7Zt2yIyMhI3btxAdnY2jh07hm3btsHLywvPP/88goODzZmViGxM586d8euvv+JPf/qT0lGI6P/cV013cXFBWFgYwsLCAFTdlISIqKFiYmLw5ptvomPHjmjVqlW158yxhwER3VuDisEPP/yACxcu1FgkNHTo0CYNRUT24aOPPkJhYSG8vLxw8+ZN43GuYSJSjsnFYNOmTTh06BA6d+5cbZEQ/wAT0f3KyMjA22+/DXd3d6WjENH/MbkYfPfdd0hMTOTNRoioyfj4+ECj0Sgdg4juYHIx8PT05H3qiahJRUREYPny5Rg0aFCNNQbdunVTKBWRfTO5GERHRyM5ORl9+/aFm5tbtee6du3a5MGIyPZ99dVXAKrWGtxJEASsW7dOiUhEds/kYvDTTz/h2LFj+OGHH2psRPLOO+80eTAisn3r169XOgIR3cXkYvDRRx9h9uzZCAoKMmceIiIiUpDJN1Fq1qwZLxkQUaMtWrTIpHFvvPGGeYMQUa1MPmMwYsQIbNmyBcOGDauxBbIomtwviMjO5eTk4Ntvv4Usy/WOO3/+vIUSEdGdTC4Gf6wj+Prrr2s8t3379qZLREQ2rVOnTti/f/89xwUGBlogDRHdzeRiwBXCRNQUTL2UQETKMLkYeHl5mTNHDVu3bsXRo0eh1Wrh4+ODmJgYuLq61hgXGxsLJycniKIIjUaDhIQEi+YkIiKyJfUWg48//hhRUVH3fJMdO3Zg+PDhTRYKAIKCgjBq1ChoNBps27YNu3btwujRo2sdu3DhQt76mYiIqAnUWwy++OILPPHEE/dcJPTll182eTHo3r278XFgYCAOHz7cpO9PRERENdVbDG7duoXJkyff803MvVVyenq68RbPtVm6dCkA4Mknn4Rer69zXFpaGtLS0gAACQkJ8PT0bNqgZqTValWVF2BmIiI1qrcYmPvTBvHx8SguLq5xPCoqCqGhoQCAnTt3QqPRICIios730Ol0KCkpwZIlS+Dn51fnfgt6vb5acSgoKGiC/wvL8PT0VFVegJktwc/PT+kIjQSPESMAABDUSURBVHLq1Cl4e3vD29sbRUVF+OCDDyCKIkaNGlXj3glEZBkmLz40h/nz59f7/N69e3H06FEsWLCgzts7/3G3Rzc3N4SGhiI3N5cbMRGpREpKCubOnQsASE1NBQBoNBokJydj9uzZSkYjsltWuzNRdnY2PvvsM8yePRvNmjWrdUxZWRlu3rxpfHzixAm0bdvWkjGJqBEMBgM8PT1RWVmJ48ePY9KkSXj55Zdx7tw5paMR2S1FzxjUJyUlBRUVFYiPjwdQtSnKxIkTYTAYkJycjLi4OJSUlGDlypUAgMrKSoSHhyM4OFjJ2ETUAM7OziguLsZ//vMftGnTBk5OTqioqEBFRYXS0YjsltUWg7Vr19Z6XKfTIS4uDgDg4+ODFStWWDIWETWhQYMGIS4uDhUVFRg3bhwA4Mcff0Tr1q2VDUZkx0wuBlu2bEF4eDg6duxozjxEZEciIyPRq1cviKIIX19fAFXlPzo6WuFkRPbL5GIgyzJWrFiBZs2aITw8HOHh4apfEU1Eyrt7HuG8QqQsk4vB+PHjMXbsWJw6dQoHDhzA3Llz4e3tjYiICAwePNicGYmIiMhCGvSpBFEUERQUhJiYGCQmJqJFixbYunWrubIRERGRhTVo8WFZWRmOHDmCgwcP4syZM+jatStiY2PNlY2IiIgszORisGrVKhw7dgwBAQHo27cvYmNjeeMiIiIiG2NyMejQoQNeeOEF7iNPRERkw0wuBs8++6w5cxARNZlDhw7hH//4B3799VcsW7YMHTp0MD63a9cupKenQxRFjB8/npuiEd3FardEJiK6X/7+/pg5cya6dOlS7filS5eQkZGBVatWYe7cuUhJSYEkSQqlJLJOLAZEZHPatGlT634ImZmZCAsLg4ODA7y9veHr64vc3FwFEhJZLxYDIrIbBoMBHh4exq91Oh0MBoOCiYisj9XeK4GIqD7x8fEoLi6ucTwqKgqhoaGNfv+0tDSkpaUBABISElS18Fqr1aoqL6C+zGrL2xAsBkSkSvPnz2/wa3Q6HQoLC41fGwwG6HS6Wsfq9Xro9Xrj1wUFBQ0PqRBPT09V5QXUl1lteQHTtxvnpQQishshISHIyMhAeXk58vPzcfnyZd4YjuguPGNARDbnyJEj2LRpE65du4aEhAS0a9cOc+fOhb+/Px599FFMnz4doijixRdfhCjy30dEd2IxICKb06tXL/Tq1avW54YOHYqhQ4daOBGRerAqExERkRGLARERERlZ9aWEHTt24JtvvjHerGnkyJHo2bNnjXHZ2dnYvHkzJEnCgAEDEBkZaemoRERENsGqiwEAPPPMMxgyZEidz0uShJSUFMybNw8eHh6Ii4tDSEgI2rRpY8GUREREtkH1lxJyc3Ph6+sLHx8faLVahIWFITMzU+lYREREqmT1Zwy++uor7N+/HwEBAXjhhRfQvHnzas/fvcWph4cHcnJyan0v7mRmWcxMRKQ+iheD+rY1HThwIIYNGwYA2L59O1JTUxETE3Pfvxd3MrMsZjY/U3cyIyIyleLFwNRtTQcMGIC33nqrxvG7tzgtLCysc4tTIiIiqp9VrzEoKioyPj5y5Aj8/f1rjOnQoQMuX76M/Px8VFRUICMjAyEhIZaMSUREZDMUP2NQn23btuHnn3+GIAjw8vLCxIkTAVStK0hOTkZcXBw0Gg0mTJiApUuXQpIkPP7447UWCCIiIro3QZZlWekQSsnLy1M6gsnUdu0bYGZL4BoDy+F8YV5qy6y2vADvrkhERET3gcWAiIiIjFgMiIiIyIjFgIiIiIxYDIiIiMiIxYCIiIiMWAyIiIjIiMWAiIiIjFgMiIiIyIjFgIiIiIxYDIiIiMiIxYCIiIiMWAyIiIjIiMWAiIiIjFgMiIiIyIjFgIiIiIxYDIiIiMiIxYCIiIiMtEoHqEtSUhLy8vIAADdu3ICLiwtWrFhRY1xsbCycnJwgiiI0Gg0SEhIsHZWIiMhmWG0xmDZtmvFxamoqXFxc6hy7cOFCtGzZ0hKxiIiIbJrVX0qQZRmHDh1C3759lY5CRERk86z2jMEffvjhB7i5ueGBBx6oc8zSpUsBAE8++ST0er2lohEREdkcRYtBfHw8iouLaxyPiopCaGgoAODgwYP1ni2Ij4+HTqdDSUkJlixZAj8/P3Tt2rXWsWlpaUhLSwMAJCQkwNPTswn+LyxDq9WqKi/AzEREaiTIsiwrHaIulZWViI6ORkJCAjw8PO45fseOHXBycsKQIUNMev8/FjeqgaenJwoKCpSO0SDMbH5+fn5KR7AbnC/MS22Z1ZYXMH2+sOpLCSdPnoSfn1+dpaCsrAyyLMPZ2RllZWU4ceIEhg0bZuGURGRttm7diqNHj0Kr1cLHxwcxMTFwdXUFAOzatQvp6ekQRRHjx49HcHCwwmmJrItVF4PaLiMYDAYkJycjLi4OJSUlWLlyJYCqswvh4eH8Q05ECAoKwqhRo6DRaLBt2zbs2rULo0ePxqVLl5CRkYFVq1ahqKgI8fHxePvttyGKVr8Om8hirLoYxMbG1jim0+kQFxcHAPDx8al1bwMism/du3c3Pg4MDMThw4cBAJmZmQgLC4ODgwO8vb3h6+uL3NxcBAYGKhWVyOpYdTEgImqs9PR0hIWFAag649ipUyfjczqdDgaDodbXcbGyZakts9ryNgSLARGpkimfatq5cyc0Gg0iIiIa/P56vb7ax5/VtNBMjQvj1JZZbXkBG1l8SERUl/nz59f7/N69e3H06FEsWLAAgiAAqDpDUFhYaBxjMBig0+nMmpNIbbjihohsTnZ2Nj777DPMnj0bzZo1Mx4PCQlBRkYGysvLkZ+fj8uXL6Njx44KJiWyPjxjQEQ2JyUlBRUVFYiPjwcAdOrUCRMnToS/vz8effRRTJ8+HaIo4sUXX+QnEojuwmJARDZn7dq1dT43dOhQDB061IJpiNSFVZmIiIiMWAyIiIjIiMWAiIiIjFgMiIiIyIjFgIiIiIxYDIiIiMiIxYCIiIiMWAyIiIjIiMWAiIiIjFgMiIiIyIjFgIiIiIxYDIiIiMiIxYCIiIiMFL+74qFDh/CPf/wDv/76K5YtW4YOHToYn9u1axfS09MhiiLGjx+P4ODgGq/Pz8/H6tWrcf36dQQEBGDy5MnQahX/3yIiIlIlxc8Y+Pv7Y+bMmejSpUu145cuXUJGRgZWrVqFuXPnIiUlBZIk1Xj9tm3b8Mwzz2Dt2rVwdXVFenq6paITERHZHMWLQZs2beDn51fjeGZmJsLCwuDg4ABvb2/4+voiNze32hhZlnH69Gn06dMHANC/f39kZmZaJDcREZEtstpz7gaDAZ06dTJ+rdPpYDAYqo25fv06XFxcoNFo6hxzp7S0NKSlpQEAEhISai0k1kxteQFmJtuhtp8LteUF1JdZbXlNZZEzBvHx8ZgxY0aNX5b+171er0dCQgISEhIwZ84ci/7ejaW2vAAzW4La8qqV2r7PassLqC+z2vICpme2yBmD+fPnN/g1Op0OhYWFxq8NBgN0Ol21MS1atMCNGzdQWVkJjUZT6xgiIiIyneJrDOoSEhKCjIwMlJeXIz8/H5cvX0bHjh2rjREEAQ899BAOHz4MANi7dy9CQkKUiEtERGQTNIsWLVqkZIAjR44gPj4eeXl5OHLkCE6ePInHHnsMbm5uKC0tRXJyMg4cOIAJEyYYr+e8+eabeOihh+Ds7IyAgACkpqbis88+g6urK6KiooxrDu4lICDAnP9rTU5teQFmtgS15VUrtX2f1ZYXUF9mteUFTMssyLIsWyALERERqYDVXkogIiIiy2MxICIiIiOr3cfAXLKzs7F582ZIkoQBAwYgMjJS6Uj1KigowPr161FcXAxBEKDX6/H0008rHeueJEnCnDlzoNPpVPGxnt9//x0bN27Ef/7zHwiCgFdeeQWBgYFKx6rX559/jvT0dAiCAH9/f8TExMDR0VHpWDaF84VlcL4wv4bMF3ZVDCRJQkpKCubNmwcPDw/ExcUhJCQEbdq0UTpanTQaDcaMGYOAgADcvHkTc+bMQVBQkFVnBoAvvvgCrVu3xs2bN5WOYpLNmzcjODgYM2bMQEVFBW7duqV0pHoZDAZ8+eWXSEpKgqOjI1atWoWMjAz0799f6Wg2g/OF5XC+MK+Gzhd2dSkhNzcXvr6+8PHxgVarRVhYmNVvoezu7m5cRers7IzWrVvXu7ujNSgsLERWVhYGDBigdBST3LhxAz/88AOeeOIJAIBWq4Wrq6vCqe5NkiTcvn0blZWVuH37Ntzd3ZWOZFM4X1gG5wvLaMh8YVdnDAwGAzw8PIxfe3h4ICcnR8FEDZOfn48LFy7U2M/B2mzZsgWjR49WTfvPz89Hy5YtsWHDBvzyyy8ICAjAuHHj4OTkpHS0Oul0OvzlL3/BK6+8AkdHR3Tv3h3du3dXOpZN4XxhGZwvzK+h84VdnTFQs7KyMiQmJmLcuHFwcXFROk6djh49Cjc3N1V9vreyshIXLlzAwIEDsXz5cjRr1gy7d+9WOla9SktLkZmZifXr1yM5ORllZWXYv3+/0rHISnC+MB97mC/sqhjcvc1yYWGhKrZQrqioQGJiIiIiItC7d2+l49Tr7Nmz+P777xEbG4vVq1fj1KlTWLNmjdKx6uXh4QEPDw/jTbv69OmDCxcuKJyqfidPnoS3tzdatmwJrVaL3r1749y5c0rHsimcL8yP84VlNHS+sKtLCR06dMDly5eRn58PnU6HjIwMTJkyRelY9ZJlGRs3bkTr1q0xePBgpePc06hRozBq1CgAwOnTp/Gvf/3L6r/HrVq1goeHB/Ly8uDn54eTJ09a/WItT09P5OTk4NatW3B0dMTJkyfRoUMHpWPZFM4X5sf5wjIaOl/YVTHQaDSYMGECli5dCkmS8Pjjj8Pf31/pWPU6e/Ys9u/fj7Zt22LWrFkAgJEjR6Jnz54KJ7MtEyZMwJo1a1BRUQFvb2/ExMQoHalenTp1Qp8+fTB79mxoNBq0a9cOer1e6Vg2hfMF1cXW5wtuiUxERERGdrXGgIiIiOrHYkBERERGLAZERERkxGJARERERiwGREREZMRiQEREREYsBtSk9u7dixEjRmDMmDG4dOlSvWPLy8sxZswYjBw5Eh9//LGFEhKRteB8YZ1YDKhBYmNjceLEiXrHBAYGYuvWrffcDczBwQFbt25FeHh4U0YkIivB+UKdWAyIiIjIyK62RKbGWbt2LQoKCvDWW29BFEUMGzYMzz777D1fl5ubi/fffx+XL1+Go6MjwsPDMXbsWAskJiKlcL5QLxYDMtnkyZPx448/YtKkSQgKCjL5dZs3b8bTTz+Nxx57DGVlZbh48aIZUxKRNeB8oV68lEBmp9Vq8dtvv+HatWtwcnJCYGCg0pGIyEpxvlAeiwGZXXR0NPLy8jBt2jTExcXh6NGjSkciIivF+UJ5vJRAZvfAAw9g6tSpkCQJR44cwapVq5CSkgInJyeloxGRleF8oTyeMaAGadWqFfLz8xv0mv379+PatWsQRREuLi4AAFHkjx6RreN8oU48Y0ANEhkZiU2bNmHbtm0YOnQohgwZcs/XZGdnIzU1Fbdu3YKXlxdee+01ODo6WiAtESmJ84U6CbIsy0qHINuxf/9+vPvuu9BqtViyZEm9m5aUl5fj5ZdfRmVlJYYMGYLnn3/egkmJSGmcL6wTiwEREREZ8cINERERGbEYEBERkRGLARERERmxGBAREZERiwEREREZsRgQERGR0f8CxbnLATs3BboAAAAASUVORK5CYII=\n",
                "text/plain": "<Figure size 576x288 with 2 Axes>"
              }
            ],
            "_view_module": "@jupyter-widgets/output",
            "_model_module_version": "1.0.0",
            "_view_count": null,
            "_view_module_version": "1.0.0",
            "layout": "IPY_MODEL_12f262804a6d4554881e089fc616890a",
            "_model_module": "@jupyter-widgets/output"
          }
        },
        "ffc9da0718ad4c498f747ea762f0f5ed": {
          "model_module": "@jupyter-widgets/controls",
          "model_name": "SliderStyleModel",
          "state": {
            "_view_name": "StyleView",
            "handle_color": null,
            "_model_name": "SliderStyleModel",
            "description_width": "",
            "_view_module": "@jupyter-widgets/base",
            "_model_module_version": "1.5.0",
            "_view_count": null,
            "_view_module_version": "1.2.0",
            "_model_module": "@jupyter-widgets/controls"
          }
        },
        "606a7826888f4db08e3774518120c568": {
          "model_module": "@jupyter-widgets/base",
          "model_name": "LayoutModel",
          "state": {
            "_view_name": "LayoutView",
            "grid_template_rows": null,
            "right": null,
            "justify_content": null,
            "_view_module": "@jupyter-widgets/base",
            "overflow": null,
            "_model_module_version": "1.2.0",
            "_view_count": null,
            "flex_flow": null,
            "width": null,
            "min_width": null,
            "border": null,
            "align_items": null,
            "bottom": null,
            "_model_module": "@jupyter-widgets/base",
            "top": null,
            "grid_column": null,
            "overflow_y": null,
            "overflow_x": null,
            "grid_auto_flow": null,
            "grid_area": null,
            "grid_template_columns": null,
            "flex": null,
            "_model_name": "LayoutModel",
            "justify_items": null,
            "grid_row": null,
            "max_height": null,
            "align_content": null,
            "visibility": null,
            "align_self": null,
            "height": null,
            "min_height": null,
            "padding": null,
            "grid_auto_rows": null,
            "grid_gap": null,
            "max_width": null,
            "order": null,
            "_view_module_version": "1.2.0",
            "grid_template_areas": null,
            "object_position": null,
            "object_fit": null,
            "grid_auto_columns": null,
            "margin": null,
            "display": null,
            "left": null
          }
        },
        "12f262804a6d4554881e089fc616890a": {
          "model_module": "@jupyter-widgets/base",
          "model_name": "LayoutModel",
          "state": {
            "_view_name": "LayoutView",
            "grid_template_rows": null,
            "right": null,
            "justify_content": null,
            "_view_module": "@jupyter-widgets/base",
            "overflow": null,
            "_model_module_version": "1.2.0",
            "_view_count": null,
            "flex_flow": null,
            "width": null,
            "min_width": null,
            "border": null,
            "align_items": null,
            "bottom": null,
            "_model_module": "@jupyter-widgets/base",
            "top": null,
            "grid_column": null,
            "overflow_y": null,
            "overflow_x": null,
            "grid_auto_flow": null,
            "grid_area": null,
            "grid_template_columns": null,
            "flex": null,
            "_model_name": "LayoutModel",
            "justify_items": null,
            "grid_row": null,
            "max_height": null,
            "align_content": null,
            "visibility": null,
            "align_self": null,
            "height": null,
            "min_height": null,
            "padding": null,
            "grid_auto_rows": null,
            "grid_gap": null,
            "max_width": null,
            "order": null,
            "_view_module_version": "1.2.0",
            "grid_template_areas": null,
            "object_position": null,
            "object_fit": null,
            "grid_auto_columns": null,
            "margin": null,
            "display": null,
            "left": null
          }
        }
      }
    }
  },
  "cells": [
    {
      "cell_type": "markdown",
      "metadata": {
        "id": "view-in-github",
        "colab_type": "text"
      },
      "source": [
        "<a href=\"https://colab.research.google.com/github/kzhkAKT/Physics1/blob/master/1106_%E7%AD%89%E9%80%9F%E7%9B%B4%E7%B7%9A%E9%81%8B%E5%8B%95_%E7%89%A9%E7%90%861.ipynb\" target=\"_parent\"><img src=\"https://colab.research.google.com/assets/colab-badge.svg\" alt=\"Open In Colab\"/></a>"
      ]
    },
    {
      "cell_type": "markdown",
      "metadata": {
        "id": "f8l6xcPqG_Ej",
        "colab_type": "text"
      },
      "source": [
        "# 運動の表し方\n"
      ]
    },
    {
      "cell_type": "markdown",
      "metadata": {
        "id": "OwabukYzp83g",
        "colab_type": "text"
      },
      "source": [
        "### 等速直線運動\n",
        "\n",
        "> 等速直線運動 = 「等速」＋「直線」+ \u0005運動\n",
        "と分解し, それぞれの要素について\n",
        "\n",
        "> 等速: 一定の速度  \n",
        "> 直線: (ある点から出発し)直線上を進む\n",
        "\n",
        "と理解し,\n",
        "\n",
        "> (原点から出発し,) 一定の速度で直線上を進む運動\n",
        "\n",
        "を考えていきます.\n",
        "\n"
      ]
    },
    {
      "cell_type": "markdown",
      "metadata": {
        "id": "SETWJ98MA1Bb",
        "colab_type": "text"
      },
      "source": [
        "#### 数直線と直線運動\n",
        "\n",
        "直線運動を表すには\n",
        "\n",
        "1. 数直線を利用\n",
        "1. 数直線の左右いずれかを, 正方向する\n",
        "\n",
        "ことで表現できます."
      ]
    },
    {
      "cell_type": "markdown",
      "metadata": {
        "id": "a9bTDB-bDDNJ",
        "colab_type": "text"
      },
      "source": [
        "<img src=\"data:image/png;base64,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\" style=\"cursor:pointer;max-width:100%;\" onclick=\"(function(img){if(img.wnd!=null&&!img.wnd.closed){img.wnd.focus();}else{var r=function(evt){if(evt.data=='ready'&&evt.source==img.wnd){img.wnd.postMessage(decodeURIComponent(img.getAttribute('src')),'*');window.removeEventListener('message',r);}};window.addEventListener('message',r);img.wnd=window.open('https://app.diagrams.net/?client=1&lightbox=1&edit=_blank');}})(this);\"/>"
      ]
    },
    {
      "cell_type": "markdown",
      "metadata": {
        "colab_type": "text",
        "id": "-pmrx_o3IKpm"
      },
      "source": [
        "上の例では\n",
        "* 右向きを正とし原点($x_0$)から出発\n",
        "* 後には($t$ 秒後)位置$x$にたどり着いた\n",
        "直線運動を表しています.\n",
        "\n",
        "この図では変位 $s$ が\n",
        "\n",
        "> $s = x - x_0$\n",
        "\n",
        "で表すことができます. ここで $s$ は 流線(streamline) の頭文字 s を利用しています."
      ]
    },
    {
      "cell_type": "markdown",
      "metadata": {
        "id": "JxIK2x9wFLLb",
        "colab_type": "text"
      },
      "source": [
        "### 等速直線運動の速度\n",
        "\n",
        "速度$v$の定義は\n",
        "$$\n",
        "速度 = \\frac{変位}{時間変化}\n",
        "$$\n",
        "または\n",
        "$$\n",
        "v = \\frac{\\varDelta x}{\\varDelta t}\n",
        "$$\n",
        "でした. 変位は $\\varDelta x= x -x_0$, 時間変化は $\\varDelta t = t -t_0$ です. \n",
        "\n",
        "等速直線運動の場合は, 原点から出発した時間を計測していると考えれば $t_0=0$ として良いでしょう. \n",
        "\n",
        "このことから等速直線運動の速度は, \n",
        "$$\n",
        "v=\\frac{x-x_0}{t-0}=\\frac{s}{t}=\\text{一定}\n",
        "$$\n",
        "として良いでしょう. この場合, 速度は時間に関係なく一定であることも示されています. \n",
        "\n",
        "この $v=\\dfrac{s}{t}$ に両辺に $t$をかけて変形すると,\n",
        "\n",
        "> (1.5) $\\qquad s = v t$\n",
        "\n",
        "となり, 今度は変位 $s$ が比例定数 $v$ で時間 $t$ に比例していることがわかります."
      ]
    },
    {
      "cell_type": "markdown",
      "metadata": {
        "id": "hTU5q95MIwIz",
        "colab_type": "text"
      },
      "source": [
        "### 等速直線運動の $v-t$ と $s-t$ グラフの関係\n",
        "\n",
        "等速直線運動の速度を正として, $v-t$ と $s-t$ グラフを描画します.\n",
        "\n",
        "* 一直線上で右向きを正\n",
        "* 速度 $v = 5 >0$\n",
        "* グラフの目盛の記号と単位に気をつけてる\n"
      ]
    },
    {
      "cell_type": "code",
      "metadata": {
        "id": "bBq04dfd0sAH",
        "colab_type": "code",
        "outputId": "7c4a0616-a7e4-453a-9bb7-b24f8f124d7f",
        "cellView": "form",
        "colab": {
          "base_uri": "https://localhost:8080/",
          "height": 348,
          "referenced_widgets": [
            "381615e8bb0249319f0fb15af7984618",
            "1545a7d8fb8f4a11b1dd0a70493342e4",
            "130e18428da041a4ba96fb371814bb53",
            "9348eac4b4134ae68409138a64765f2f",
            "ffc9da0718ad4c498f747ea762f0f5ed",
            "606a7826888f4db08e3774518120c568",
            "12f262804a6d4554881e089fc616890a"
          ]
        }
      },
      "source": [
        "#@title 等速直線運動における v-t と s-t の関係\n",
        "%matplotlib inline\n",
        "import matplotlib.pyplot as plt\n",
        "from ipywidgets import interact\n",
        "import numpy as np\n",
        "plt.style.use('ggplot')\n",
        "\n",
        "(v,T)=(5.0,10)\n",
        "\n",
        "plt.figure()\n",
        "t = np.linspace(0, T)\n",
        "x, v = [], []\n",
        "\n",
        "@interact(v=(-7,+7))\n",
        "def f(v):\n",
        "    fig = plt.figure(figsize=(8,4))\n",
        "\n",
        "    # グラフ間の幅を調整\n",
        "    plt.subplots_adjust(wspace=0.5, hspace=0.5)\n",
        "\n",
        "    vt = fig.add_subplot(1, 2, 1)\n",
        "    vt.plot(t , v + 0*t )\n",
        "    vt.plot(t , 0*t )  \n",
        "    vt.set_xlabel('t [s]') \n",
        "    vt.set_ylabel('v [m/s] = s/t')\n",
        "    vt.set_title('v-t')\n",
        "    vt.set_xlim([0, 8])\n",
        "    vt.set_ylim([-10, 10])   \n",
        "\n",
        "    xt = fig.add_subplot(1, 2, 2)\n",
        "    xt.plot(t , v*t )\n",
        "    xt.set_xlabel('t [s]')\n",
        "    xt.set_ylabel('s [m] = v t')\n",
        "    xt.set_title('s-t')\n",
        "    xt.set_xlim([0, 8])\n",
        "    xt.set_ylim([-25, 25])  \n",
        "    \n",
        "    plt.show()"
      ],
      "execution_count": 3,
      "outputs": [
        {
          "output_type": "display_data",
          "data": {
            "text/plain": [
              "<Figure size 432x288 with 0 Axes>"
            ]
          },
          "metadata": {
            "tags": []
          }
        },
        {
          "output_type": "display_data",
          "data": {
            "application/vnd.jupyter.widget-view+json": {
              "model_id": "381615e8bb0249319f0fb15af7984618",
              "version_minor": 0,
              "version_major": 2
            },
            "text/plain": [
              "interactive(children=(IntSlider(value=0, description='v', max=7, min=-7), Output()), _dom_classes=('widget-int…"
            ]
          },
          "metadata": {
            "tags": []
          }
        }
      ]
    },
    {
      "cell_type": "markdown",
      "metadata": {
        "id": "tipemwjzJgDr",
        "colab_type": "text"
      },
      "source": [
        "> Q 上の 等速直線運動の $v-t$ と $x-t$ のグラフを比較しなが以下の問題に答えてください.  \n",
        "> 1. $v-t$ グラフで等速度を $v=+5 {\\rm m/s}$ として  \n",
        "初めから 2秒後の変位 $s$ を求めてください.  \n",
        "> 2. 1の問題の答えを $s-t$ グラフで探してください.  \n",
        "> 3. 初めから 4秒後の変位 $s$ についても  \n",
        "同様の点を$s-t$グラフで探してください.  \n",
        "> 4. この考察から変位 $s$ は$v-t$ のどのような形で隠れているか, 簡潔に答えてください."
      ]
    }
  ]
}