{
  "nbformat": 4,
  "nbformat_minor": 0,
  "metadata": {
    "colab": {
      "name": "1106_等速直線運動_物理1",
      "provenance": [],
      "collapsed_sections": [],
      "mount_file_id": "1ko3fj7Et3uUihh--l0FmQ631VQEkUGDP",
      "authorship_tag": "ABX9TyPVo/p/DC94cQcF5qWzqrUj",
      "include_colab_link": true
    },
    "kernelspec": {
      "name": "python3",
      "display_name": "Python 3"
    }
  },
  "cells": [
    {
      "cell_type": "markdown",
      "metadata": {
        "id": "view-in-github",
        "colab_type": "text"
      },
      "source": [
        "<a href=\"https://colab.research.google.com/github/kzhkAKT/Physics1/blob/draft/1106_%E7%AD%89%E9%80%9F%E7%9B%B4%E7%B7%9A%E9%81%8B%E5%8B%95_%E7%89%A9%E7%90%861.ipynb\" target=\"_parent\"><img src=\"https://colab.research.google.com/assets/colab-badge.svg\" alt=\"Open In Colab\"/></a>"
      ]
    },
    {
      "cell_type": "markdown",
      "metadata": {
        "id": "f8l6xcPqG_Ej"
      },
      "source": [
        "# 運動の表し方\n"
      ]
    },
    {
      "cell_type": "markdown",
      "metadata": {
        "id": "OwabukYzp83g"
      },
      "source": [
        "### 等速直線運動\n",
        "\n",
        "> 等速直線運動 = 「等速」＋「直線」+ \u0005運動\n",
        "と分解し, それぞれの要素について\n",
        "\n",
        "> 等速: 一定の速度  \n",
        "> 直線: (ある点から出発し)直線上を進む\n",
        "\n",
        "と理解し,\n",
        "\n",
        "> (原点から出発し,) 一定の速度で直線上を進む運動\n",
        "\n",
        "を考えていきます.\n",
        "\n"
      ]
    },
    {
      "cell_type": "markdown",
      "metadata": {
        "id": "SETWJ98MA1Bb"
      },
      "source": [
        "#### 数直線と直線運動\n",
        "\n",
        "直線運動を表すには\n",
        "\n",
        "1. 数直線を利用\n",
        "1. 数直線の左右いずれかを, 正方向する\n",
        "\n",
        "ことで表現できます."
      ]
    },
    {
      "cell_type": "markdown",
      "metadata": {
        "id": "a9bTDB-bDDNJ"
      },
      "source": [
        "<img src=\"data:image/png;base64,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\" style=\"cursor:pointer;max-width:100%;\" onclick=\"(function(img){if(img.wnd!=null&&!img.wnd.closed){img.wnd.focus();}else{var r=function(evt){if(evt.data=='ready'&&evt.source==img.wnd){img.wnd.postMessage(decodeURIComponent(img.getAttribute('src')),'*');window.removeEventListener('message',r);}};window.addEventListener('message',r);img.wnd=window.open('https://app.diagrams.net/?client=1&lightbox=1&edit=_blank');}})(this);\"/>"
      ]
    },
    {
      "cell_type": "markdown",
      "metadata": {
        "id": "-pmrx_o3IKpm"
      },
      "source": [
        "上の例では\n",
        "* 右向きを正とし原点($x_0$)から出発\n",
        "* 後には($t$ 秒後)位置$x$にたどり着いた\n",
        "直線運動を表しています.\n",
        "\n",
        "この図では変位 $s$ が\n",
        "\n",
        "> $s = x - x_0$\n",
        "\n",
        "で表すことができます. ここで $s$ は 流線(streamline) の頭文字 s を利用しています."
      ]
    },
    {
      "cell_type": "markdown",
      "metadata": {
        "id": "JxIK2x9wFLLb"
      },
      "source": [
        "### 等速直線運動の速度\n",
        "\n",
        "速度$v$の定義は\n",
        "$$\n",
        "速度 = \\frac{変位}{時間変化}\n",
        "$$\n",
        "または\n",
        "$$\n",
        "v = \\frac{\\varDelta x}{\\varDelta t}\n",
        "$$\n",
        "でした. 変位は $\\varDelta x= x -x_0$, 時間変化は $\\varDelta t = t -t_0$ です. \n",
        "\n",
        "等速直線運動の場合は, 原点から出発した時間を計測していると考えれば $t_0=0$ として良いでしょう. \n",
        "\n",
        "このことから等速直線運動の速度は, \n",
        "$$\n",
        "v=\\frac{x-x_0}{t-0}=\\frac{s}{t}=\\text{一定}\n",
        "$$\n",
        "として良いでしょう. この場合, 速度は時間に関係なく一定であることも示されています. \n",
        "\n",
        "この $v=\\dfrac{s}{t}$ に両辺に $t$をかけて変形すると,\n",
        "\n",
        "> (1.5) $\\qquad s = v\\cdot  t= v \\ t$\n",
        "\n",
        "となり, 今度は変位 $s$ が比例定数 $v$ で時間 $t$ に比例していることがわかります."
      ]
    },
    {
      "cell_type": "markdown",
      "metadata": {
        "id": "hTU5q95MIwIz"
      },
      "source": [
        "### 等速直線運動の $v-t$ と $s-t$ グラフの関係\n",
        "\n",
        "等速直線運動の速度を正として, $v-t$ と $s-t$ グラフを描画します.\n",
        "\n",
        "* 一直線上で右向きを正\n",
        "* 速度 $v = 5 m/s >0$\n",
        "* グラフの目盛の記号と単位を付ける\n",
        "\n",
        "それでは, 下枠をクリックし再生ボタンを押してください."
      ]
    },
    {
      "cell_type": "code",
      "metadata": {
        "id": "bBq04dfd0sAH",
        "cellView": "form"
      },
      "source": [
        "#@title 等速直線運動における v-t と s-t の関係\n",
        "%matplotlib inline\n",
        "import matplotlib.pyplot as plt\n",
        "from ipywidgets import interact\n",
        "import numpy as np\n",
        "plt.style.use('ggplot')\n",
        "\n",
        "(v,T)=(5.0,10)\n",
        "\n",
        "plt.figure()\n",
        "t = np.linspace(0, T)\n",
        "x, v = [], []\n",
        "\n",
        "@interact(v=(-7,+7))\n",
        "def f(v):\n",
        "    fig = plt.figure(figsize=(8,4))\n",
        "\n",
        "    # グラフ間の幅を調整\n",
        "    plt.subplots_adjust(wspace=0.5, hspace=0.5)\n",
        "\n",
        "    vt = fig.add_subplot(1, 2, 1)\n",
        "    vt.plot(t , v + 0*t )\n",
        "    vt.plot(t , 0*t )  \n",
        "    vt.set_xlabel('t [s]') \n",
        "    vt.set_ylabel('v [m/s] = s/t')\n",
        "    vt.set_title('v-t')\n",
        "    vt.set_xlim([0, 8])\n",
        "    vt.set_ylim([-10, 10])   \n",
        "\n",
        "    xt = fig.add_subplot(1, 2, 2)\n",
        "    xt.plot(t , v*t )\n",
        "    xt.set_xlabel('t [s]')\n",
        "    xt.set_ylabel('s [m] = v t')\n",
        "    xt.set_title('s-t')\n",
        "    xt.set_xlim([0, 8])\n",
        "    xt.set_ylim([-25, 25])  \n",
        "    \n",
        "    plt.show()"
      ],
      "execution_count": null,
      "outputs": []
    },
    {
      "cell_type": "markdown",
      "metadata": {
        "id": "tipemwjzJgDr"
      },
      "source": [
        "> Q 上の 等速直線運動の $v-t$ と $x-t$ のグラフを比較しなが以下の問題に答えてください.  \n",
        "> 1. $v-t$ グラフで等速度を $v=+5 {\\rm m/s}$ として  \n",
        "初めから 2秒後の変位 $s$ を求めてください.  \n",
        "> 2. 1の問題の答えを $s-t$ グラフで探してください.  \n",
        "> 3. 初めから ８秒後の変位 $s$ についても  \n",
        "同様の点を$s-t$グラフで探してください.  \n",
        "> 4. この考察から変位 $s$ は$v-t$ のどのような形で隠れているか, 簡潔に答えてください."
      ]
    }
  ]
}