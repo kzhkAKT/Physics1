{
  "nbformat": 4,
  "nbformat_minor": 0,
  "metadata": {
    "colab": {
      "name": "1106_等速直線運動_物理1",
      "provenance": [],
      "collapsed_sections": [],
      "toc_visible": true,
      "mount_file_id": "1ko3fj7Et3uUihh--l0FmQ631VQEkUGDP",
      "authorship_tag": "ABX9TyOxMGePh2WdCIDeGgDbmRyr",
      "include_colab_link": true
    },
    "kernelspec": {
      "name": "python3",
      "display_name": "Python 3"
    },
    "widgets": {
      "application/vnd.jupyter.widget-state+json": {
        "af840bb7a8684bfc90834288d6dbc4c9": {
          "model_module": "@jupyter-widgets/controls",
          "model_name": "VBoxModel",
          "state": {
            "_view_name": "VBoxView",
            "_dom_classes": [
              "widget-interact"
            ],
            "_model_name": "VBoxModel",
            "_view_module": "@jupyter-widgets/controls",
            "_model_module_version": "1.5.0",
            "_view_count": null,
            "_view_module_version": "1.5.0",
            "box_style": "",
            "layout": "IPY_MODEL_69816ca7f717494094bc38e0fa8dc01d",
            "_model_module": "@jupyter-widgets/controls",
            "children": [
              "IPY_MODEL_0ea3e3df34164da4aaf92f7b546be39d",
              "IPY_MODEL_dee64110f4be47b686649c58bc3c46e5"
            ]
          }
        },
        "69816ca7f717494094bc38e0fa8dc01d": {
          "model_module": "@jupyter-widgets/base",
          "model_name": "LayoutModel",
          "state": {
            "_view_name": "LayoutView",
            "grid_template_rows": null,
            "right": null,
            "justify_content": null,
            "_view_module": "@jupyter-widgets/base",
            "overflow": null,
            "_model_module_version": "1.2.0",
            "_view_count": null,
            "flex_flow": null,
            "width": null,
            "min_width": null,
            "border": null,
            "align_items": null,
            "bottom": null,
            "_model_module": "@jupyter-widgets/base",
            "top": null,
            "grid_column": null,
            "overflow_y": null,
            "overflow_x": null,
            "grid_auto_flow": null,
            "grid_area": null,
            "grid_template_columns": null,
            "flex": null,
            "_model_name": "LayoutModel",
            "justify_items": null,
            "grid_row": null,
            "max_height": null,
            "align_content": null,
            "visibility": null,
            "align_self": null,
            "height": null,
            "min_height": null,
            "padding": null,
            "grid_auto_rows": null,
            "grid_gap": null,
            "max_width": null,
            "order": null,
            "_view_module_version": "1.2.0",
            "grid_template_areas": null,
            "object_position": null,
            "object_fit": null,
            "grid_auto_columns": null,
            "margin": null,
            "display": null,
            "left": null
          }
        },
        "0ea3e3df34164da4aaf92f7b546be39d": {
          "model_module": "@jupyter-widgets/controls",
          "model_name": "IntSliderModel",
          "state": {
            "_view_name": "IntSliderView",
            "style": "IPY_MODEL_2c3818f1fca04133955109f5e6680efa",
            "_dom_classes": [],
            "description": "v",
            "step": 1,
            "_model_name": "IntSliderModel",
            "orientation": "horizontal",
            "max": 7,
            "_view_module": "@jupyter-widgets/controls",
            "_model_module_version": "1.5.0",
            "value": 2,
            "_view_count": null,
            "disabled": false,
            "_view_module_version": "1.5.0",
            "min": -7,
            "continuous_update": true,
            "readout_format": "d",
            "description_tooltip": null,
            "readout": true,
            "_model_module": "@jupyter-widgets/controls",
            "layout": "IPY_MODEL_d264ad2d4c544a5d964692f7b2942d9a"
          }
        },
        "dee64110f4be47b686649c58bc3c46e5": {
          "model_module": "@jupyter-widgets/output",
          "model_name": "OutputModel",
          "state": {
            "_view_name": "OutputView",
            "msg_id": "",
            "_dom_classes": [],
            "_model_name": "OutputModel",
            "outputs": [
              {
                "output_type": "display_data",
                "metadata": {
                  "tags": []
                },
                "image/png": "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\n",
                "text/plain": "<Figure size 576x288 with 2 Axes>"
              }
            ],
            "_view_module": "@jupyter-widgets/output",
            "_model_module_version": "1.0.0",
            "_view_count": null,
            "_view_module_version": "1.0.0",
            "layout": "IPY_MODEL_96487573c61644adac6c5d3466ca94dd",
            "_model_module": "@jupyter-widgets/output"
          }
        },
        "2c3818f1fca04133955109f5e6680efa": {
          "model_module": "@jupyter-widgets/controls",
          "model_name": "SliderStyleModel",
          "state": {
            "_view_name": "StyleView",
            "handle_color": null,
            "_model_name": "SliderStyleModel",
            "description_width": "",
            "_view_module": "@jupyter-widgets/base",
            "_model_module_version": "1.5.0",
            "_view_count": null,
            "_view_module_version": "1.2.0",
            "_model_module": "@jupyter-widgets/controls"
          }
        },
        "d264ad2d4c544a5d964692f7b2942d9a": {
          "model_module": "@jupyter-widgets/base",
          "model_name": "LayoutModel",
          "state": {
            "_view_name": "LayoutView",
            "grid_template_rows": null,
            "right": null,
            "justify_content": null,
            "_view_module": "@jupyter-widgets/base",
            "overflow": null,
            "_model_module_version": "1.2.0",
            "_view_count": null,
            "flex_flow": null,
            "width": null,
            "min_width": null,
            "border": null,
            "align_items": null,
            "bottom": null,
            "_model_module": "@jupyter-widgets/base",
            "top": null,
            "grid_column": null,
            "overflow_y": null,
            "overflow_x": null,
            "grid_auto_flow": null,
            "grid_area": null,
            "grid_template_columns": null,
            "flex": null,
            "_model_name": "LayoutModel",
            "justify_items": null,
            "grid_row": null,
            "max_height": null,
            "align_content": null,
            "visibility": null,
            "align_self": null,
            "height": null,
            "min_height": null,
            "padding": null,
            "grid_auto_rows": null,
            "grid_gap": null,
            "max_width": null,
            "order": null,
            "_view_module_version": "1.2.0",
            "grid_template_areas": null,
            "object_position": null,
            "object_fit": null,
            "grid_auto_columns": null,
            "margin": null,
            "display": null,
            "left": null
          }
        },
        "96487573c61644adac6c5d3466ca94dd": {
          "model_module": "@jupyter-widgets/base",
          "model_name": "LayoutModel",
          "state": {
            "_view_name": "LayoutView",
            "grid_template_rows": null,
            "right": null,
            "justify_content": null,
            "_view_module": "@jupyter-widgets/base",
            "overflow": null,
            "_model_module_version": "1.2.0",
            "_view_count": null,
            "flex_flow": null,
            "width": null,
            "min_width": null,
            "border": null,
            "align_items": null,
            "bottom": null,
            "_model_module": "@jupyter-widgets/base",
            "top": null,
            "grid_column": null,
            "overflow_y": null,
            "overflow_x": null,
            "grid_auto_flow": null,
            "grid_area": null,
            "grid_template_columns": null,
            "flex": null,
            "_model_name": "LayoutModel",
            "justify_items": null,
            "grid_row": null,
            "max_height": null,
            "align_content": null,
            "visibility": null,
            "align_self": null,
            "height": null,
            "min_height": null,
            "padding": null,
            "grid_auto_rows": null,
            "grid_gap": null,
            "max_width": null,
            "order": null,
            "_view_module_version": "1.2.0",
            "grid_template_areas": null,
            "object_position": null,
            "object_fit": null,
            "grid_auto_columns": null,
            "margin": null,
            "display": null,
            "left": null
          }
        }
      }
    }
  },
  "cells": [
    {
      "cell_type": "markdown",
      "metadata": {
        "id": "view-in-github",
        "colab_type": "text"
      },
      "source": [
        "<a href=\"https://colab.research.google.com/github/kzhkAKT/Physics1/blob/master/1106_%E7%AD%89%E9%80%9F%E7%9B%B4%E7%B7%9A%E9%81%8B%E5%8B%95_%E7%89%A9%E7%90%861.ipynb\" target=\"_parent\"><img src=\"https://colab.research.google.com/assets/colab-badge.svg\" alt=\"Open In Colab\"/></a>"
      ]
    },
    {
      "cell_type": "markdown",
      "metadata": {
        "id": "f8l6xcPqG_Ej",
        "colab_type": "text"
      },
      "source": [
        "# 運動の表し方\n"
      ]
    },
    {
      "cell_type": "markdown",
      "metadata": {
        "id": "OwabukYzp83g",
        "colab_type": "text"
      },
      "source": [
        "### 等速直線運動\n",
        "\n",
        "> 等速直線運動 = 「等速」＋「直線」+ \u0005運動\n",
        "と分解し, それぞれの要素について\n",
        "\n",
        "> 等速: 一定の速度  \n",
        "> 直線: (ある点から出発し)直線上を進む\n",
        "\n",
        "と理解し,\n",
        "\n",
        "> (原点から出発し,) 一定の速度で直線上を進む運動\n",
        "\n",
        "を考えていきます.\n",
        "\n"
      ]
    },
    {
      "cell_type": "markdown",
      "metadata": {
        "id": "SETWJ98MA1Bb",
        "colab_type": "text"
      },
      "source": [
        "#### 数直線と直線運動\n",
        "\n",
        "直線運動を表すには\n",
        "\n",
        "1. 数直線を利用\n",
        "1. 数直線の左右いずれかを, 正方向する\n",
        "\n",
        "ことで表現できます."
      ]
    },
    {
      "cell_type": "markdown",
      "metadata": {
        "id": "a9bTDB-bDDNJ",
        "colab_type": "text"
      },
      "source": [
        "<img src=\"data:image/png;base64,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\" style=\"cursor:pointer;max-width:100%;\" onclick=\"(function(img){if(img.wnd!=null&&!img.wnd.closed){img.wnd.focus();}else{var r=function(evt){if(evt.data=='ready'&&evt.source==img.wnd){img.wnd.postMessage(decodeURIComponent(img.getAttribute('src')),'*');window.removeEventListener('message',r);}};window.addEventListener('message',r);img.wnd=window.open('https://app.diagrams.net/?client=1&lightbox=1&edit=_blank');}})(this);\"/>"
      ]
    },
    {
      "cell_type": "markdown",
      "metadata": {
        "colab_type": "text",
        "id": "-pmrx_o3IKpm"
      },
      "source": [
        "上の例では\n",
        "* 右向きを正とし原点($x_0$)から出発\n",
        "* 後には($t$ 秒後)位置$x$にたどり着いた\n",
        "直線運動を表しています.\n",
        "\n",
        "この図では変位 $s$ が\n",
        "\n",
        "> $s = x - x_0$\n",
        "\n",
        "で表すことができます. ここで $s$ は 流線(streamline) の頭文字 s を利用しています."
      ]
    },
    {
      "cell_type": "markdown",
      "metadata": {
        "id": "JxIK2x9wFLLb",
        "colab_type": "text"
      },
      "source": [
        "### 等速直線運動の速度\n",
        "\n",
        "速度$v$の定義は\n",
        "$$\n",
        "速度 = \\frac{変位}{時間変化}\n",
        "$$\n",
        "または\n",
        "$$\n",
        "v = \\frac{\\varDelta x}{\\varDelta t}\n",
        "$$\n",
        "でした. 変位は $\\varDelta x= x -x_0$, 時間変化は $\\varDelta t = t -t_0$ です. \n",
        "\n",
        "等速直線運動の場合は, 原点から出発した時間を計測していると考えれば $t_0=0$ として良いでしょう. \n",
        "\n",
        "このことから等速直線運動の速度は, \n",
        "$$\n",
        "v=\\frac{x-x_0}{t-0}=\\frac{s}{t}=\\text{一定}\n",
        "$$\n",
        "として良いでしょう. この場合, 速度は時間に関係なく一定であることも示されています. \n",
        "この $v=\\dfrac{s}{t}$ に両辺に $t$をかけて変形すると,\n",
        "\n",
        "> $s = v t$\n",
        "\n",
        "となり, 今度は変位 $s$ が比例定数 $v$ で時間 $t$ に比例していることがわかります."
      ]
    },
    {
      "cell_type": "markdown",
      "metadata": {
        "id": "hTU5q95MIwIz",
        "colab_type": "text"
      },
      "source": [
        "### 等速直線運動の $v-t$ と $s-t$ グラフの関係\n",
        "\n",
        "等速直線運動の速度を正として, $v-t$ と $s-t$ グラフを描画します.\n",
        "\n",
        "* 一直線上で右向きを正\n",
        "* 速度 $v = 5 >0$\n",
        "* グラフの目盛の記号と単位に気をつけてる\n"
      ]
    },
    {
      "cell_type": "code",
      "metadata": {
        "id": "bBq04dfd0sAH",
        "colab_type": "code",
        "outputId": "4cd75ab1-fefd-4fb7-9f61-8be5a7c5db7b",
        "colab": {
          "base_uri": "https://localhost:8080/",
          "height": 348,
          "referenced_widgets": [
            "af840bb7a8684bfc90834288d6dbc4c9",
            "69816ca7f717494094bc38e0fa8dc01d",
            "0ea3e3df34164da4aaf92f7b546be39d",
            "dee64110f4be47b686649c58bc3c46e5",
            "2c3818f1fca04133955109f5e6680efa",
            "d264ad2d4c544a5d964692f7b2942d9a",
            "96487573c61644adac6c5d3466ca94dd"
          ]
        },
        "cellView": "form"
      },
      "source": [
        "#@title 等速直線運動における v-t と s-t の関係\n",
        "%matplotlib inline\n",
        "import matplotlib.pyplot as plt\n",
        "from ipywidgets import interact\n",
        "import numpy as np\n",
        "plt.style.use('ggplot')\n",
        "\n",
        "(v,T)=(5.0,10)\n",
        "\n",
        "plt.figure()\n",
        "t = np.linspace(0, T)\n",
        "x, v = [], []\n",
        "\n",
        "@interact(v=(-7,+7))\n",
        "def f(v):\n",
        "    fig = plt.figure(figsize=(8,4))\n",
        "\n",
        "    # グラフ間の幅を調整\n",
        "    plt.subplots_adjust(wspace=0.5, hspace=0.5)\n",
        "\n",
        "    vt = fig.add_subplot(1, 2, 1)\n",
        "    vt.plot(t , v + 0*t )\n",
        "    vt.plot(t , 0*t )  \n",
        "    vt.set_xlabel('t [s]') \n",
        "    vt.set_ylabel('v [m/s] = s/t')\n",
        "    vt.set_title('v-t')\n",
        "    vt.set_xlim([0, 8])\n",
        "    vt.set_ylim([-10, 10])   \n",
        "\n",
        "    xt = fig.add_subplot(1, 2, 2)\n",
        "    xt.plot(t , v*t )\n",
        "    xt.set_xlabel('t [s]') # x軸のラベル\n",
        "    xt.set_ylabel('s [m] = v t') # y軸のラベル\n",
        "    xt.set_title('s-t') # タイトル\n",
        "    xt.set_xlim([0, 8])\n",
        "    xt.set_ylim([-20, 20])  \n",
        "    \n",
        "    plt.show()"
      ],
      "execution_count": 46,
      "outputs": [
        {
          "output_type": "display_data",
          "data": {
            "text/plain": [
              "<Figure size 432x288 with 0 Axes>"
            ]
          },
          "metadata": {
            "tags": []
          }
        },
        {
          "output_type": "display_data",
          "data": {
            "application/vnd.jupyter.widget-view+json": {
              "model_id": "af840bb7a8684bfc90834288d6dbc4c9",
              "version_minor": 0,
              "version_major": 2
            },
            "text/plain": [
              "interactive(children=(IntSlider(value=0, description='v', max=7, min=-7), Output()), _dom_classes=('widget-int…"
            ]
          },
          "metadata": {
            "tags": []
          }
        }
      ]
    },
    {
      "cell_type": "code",
      "metadata": {
        "id": "IUItFsV226bd",
        "colab_type": "code",
        "colab": {}
      },
      "source": [
        ""
      ],
      "execution_count": 0,
      "outputs": []
    }
  ]
}