{
  "nbformat": 4,
  "nbformat_minor": 0,
  "metadata": {
    "colab": {
      "name": "1106_等速直線運動_物理1",
      "provenance": [],
      "collapsed_sections": [],
      "mount_file_id": "1ko3fj7Et3uUihh--l0FmQ631VQEkUGDP",
      "authorship_tag": "ABX9TyMPWMtNb4Ayb/m3ulx9Kz7j",
      "include_colab_link": true
    },
    "kernelspec": {
      "name": "python3",
      "display_name": "Python 3"
    },
    "widgets": {
      "application/vnd.jupyter.widget-state+json": {
        "8cc1180d2f164b97ad6ba5e5bc74443a": {
          "model_module": "@jupyter-widgets/controls",
          "model_name": "VBoxModel",
          "state": {
            "_view_name": "VBoxView",
            "_dom_classes": [
              "widget-interact"
            ],
            "_model_name": "VBoxModel",
            "_view_module": "@jupyter-widgets/controls",
            "_model_module_version": "1.5.0",
            "_view_count": null,
            "_view_module_version": "1.5.0",
            "box_style": "",
            "layout": "IPY_MODEL_76fe7c01ad5249a68cf6068703383206",
            "_model_module": "@jupyter-widgets/controls",
            "children": [
              "IPY_MODEL_8392c7519ec94eafbfbb416d37bd406f",
              "IPY_MODEL_484401c532294b4291a835d3728fae7e"
            ]
          }
        },
        "76fe7c01ad5249a68cf6068703383206": {
          "model_module": "@jupyter-widgets/base",
          "model_name": "LayoutModel",
          "state": {
            "_view_name": "LayoutView",
            "grid_template_rows": null,
            "right": null,
            "justify_content": null,
            "_view_module": "@jupyter-widgets/base",
            "overflow": null,
            "_model_module_version": "1.2.0",
            "_view_count": null,
            "flex_flow": null,
            "width": null,
            "min_width": null,
            "border": null,
            "align_items": null,
            "bottom": null,
            "_model_module": "@jupyter-widgets/base",
            "top": null,
            "grid_column": null,
            "overflow_y": null,
            "overflow_x": null,
            "grid_auto_flow": null,
            "grid_area": null,
            "grid_template_columns": null,
            "flex": null,
            "_model_name": "LayoutModel",
            "justify_items": null,
            "grid_row": null,
            "max_height": null,
            "align_content": null,
            "visibility": null,
            "align_self": null,
            "height": null,
            "min_height": null,
            "padding": null,
            "grid_auto_rows": null,
            "grid_gap": null,
            "max_width": null,
            "order": null,
            "_view_module_version": "1.2.0",
            "grid_template_areas": null,
            "object_position": null,
            "object_fit": null,
            "grid_auto_columns": null,
            "margin": null,
            "display": null,
            "left": null
          }
        },
        "8392c7519ec94eafbfbb416d37bd406f": {
          "model_module": "@jupyter-widgets/controls",
          "model_name": "IntSliderModel",
          "state": {
            "_view_name": "IntSliderView",
            "style": "IPY_MODEL_b759d86bf2a1478dadaeef0ff5f60ff5",
            "_dom_classes": [],
            "description": "v",
            "step": 1,
            "_model_name": "IntSliderModel",
            "orientation": "horizontal",
            "max": 7,
            "_view_module": "@jupyter-widgets/controls",
            "_model_module_version": "1.5.0",
            "value": 5,
            "_view_count": null,
            "disabled": false,
            "_view_module_version": "1.5.0",
            "min": -7,
            "continuous_update": true,
            "readout_format": "d",
            "description_tooltip": null,
            "readout": true,
            "_model_module": "@jupyter-widgets/controls",
            "layout": "IPY_MODEL_da563abbd0ad4eb7a17744a799a3e7ac"
          }
        },
        "484401c532294b4291a835d3728fae7e": {
          "model_module": "@jupyter-widgets/output",
          "model_name": "OutputModel",
          "state": {
            "_view_name": "OutputView",
            "msg_id": "",
            "_dom_classes": [],
            "_model_name": "OutputModel",
            "outputs": [
              {
                "output_type": "display_data",
                "metadata": {
                  "tags": [],
                  "needs_background": "light"
                },
                "image/png": "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\n",
                "text/plain": "<Figure size 576x288 with 2 Axes>"
              }
            ],
            "_view_module": "@jupyter-widgets/output",
            "_model_module_version": "1.0.0",
            "_view_count": null,
            "_view_module_version": "1.0.0",
            "layout": "IPY_MODEL_93f771d27c9b42b5a20affb96f257e8e",
            "_model_module": "@jupyter-widgets/output"
          }
        },
        "b759d86bf2a1478dadaeef0ff5f60ff5": {
          "model_module": "@jupyter-widgets/controls",
          "model_name": "SliderStyleModel",
          "state": {
            "_view_name": "StyleView",
            "handle_color": null,
            "_model_name": "SliderStyleModel",
            "description_width": "",
            "_view_module": "@jupyter-widgets/base",
            "_model_module_version": "1.5.0",
            "_view_count": null,
            "_view_module_version": "1.2.0",
            "_model_module": "@jupyter-widgets/controls"
          }
        },
        "da563abbd0ad4eb7a17744a799a3e7ac": {
          "model_module": "@jupyter-widgets/base",
          "model_name": "LayoutModel",
          "state": {
            "_view_name": "LayoutView",
            "grid_template_rows": null,
            "right": null,
            "justify_content": null,
            "_view_module": "@jupyter-widgets/base",
            "overflow": null,
            "_model_module_version": "1.2.0",
            "_view_count": null,
            "flex_flow": null,
            "width": null,
            "min_width": null,
            "border": null,
            "align_items": null,
            "bottom": null,
            "_model_module": "@jupyter-widgets/base",
            "top": null,
            "grid_column": null,
            "overflow_y": null,
            "overflow_x": null,
            "grid_auto_flow": null,
            "grid_area": null,
            "grid_template_columns": null,
            "flex": null,
            "_model_name": "LayoutModel",
            "justify_items": null,
            "grid_row": null,
            "max_height": null,
            "align_content": null,
            "visibility": null,
            "align_self": null,
            "height": null,
            "min_height": null,
            "padding": null,
            "grid_auto_rows": null,
            "grid_gap": null,
            "max_width": null,
            "order": null,
            "_view_module_version": "1.2.0",
            "grid_template_areas": null,
            "object_position": null,
            "object_fit": null,
            "grid_auto_columns": null,
            "margin": null,
            "display": null,
            "left": null
          }
        },
        "93f771d27c9b42b5a20affb96f257e8e": {
          "model_module": "@jupyter-widgets/base",
          "model_name": "LayoutModel",
          "state": {
            "_view_name": "LayoutView",
            "grid_template_rows": null,
            "right": null,
            "justify_content": null,
            "_view_module": "@jupyter-widgets/base",
            "overflow": null,
            "_model_module_version": "1.2.0",
            "_view_count": null,
            "flex_flow": null,
            "width": null,
            "min_width": null,
            "border": null,
            "align_items": null,
            "bottom": null,
            "_model_module": "@jupyter-widgets/base",
            "top": null,
            "grid_column": null,
            "overflow_y": null,
            "overflow_x": null,
            "grid_auto_flow": null,
            "grid_area": null,
            "grid_template_columns": null,
            "flex": null,
            "_model_name": "LayoutModel",
            "justify_items": null,
            "grid_row": null,
            "max_height": null,
            "align_content": null,
            "visibility": null,
            "align_self": null,
            "height": null,
            "min_height": null,
            "padding": null,
            "grid_auto_rows": null,
            "grid_gap": null,
            "max_width": null,
            "order": null,
            "_view_module_version": "1.2.0",
            "grid_template_areas": null,
            "object_position": null,
            "object_fit": null,
            "grid_auto_columns": null,
            "margin": null,
            "display": null,
            "left": null
          }
        }
      }
    }
  },
  "cells": [
    {
      "cell_type": "markdown",
      "metadata": {
        "id": "view-in-github",
        "colab_type": "text"
      },
      "source": [
        "<a href=\"https://colab.research.google.com/github/kzhkAKT/Physics1/blob/master/1106_%E7%AD%89%E9%80%9F%E7%9B%B4%E7%B7%9A%E9%81%8B%E5%8B%95_%E7%89%A9%E7%90%861.ipynb\" target=\"_parent\"><img src=\"https://colab.research.google.com/assets/colab-badge.svg\" alt=\"Open In Colab\"/></a>"
      ]
    },
    {
      "cell_type": "markdown",
      "metadata": {
        "id": "f8l6xcPqG_Ej",
        "colab_type": "text"
      },
      "source": [
        "# 運動の表し方\n"
      ]
    },
    {
      "cell_type": "markdown",
      "metadata": {
        "id": "OwabukYzp83g",
        "colab_type": "text"
      },
      "source": [
        "### 等速直線運動\n",
        "\n",
        "> 等速直線運動 = 「等速」＋「直線」+ \u0005運動\n",
        "と分解し, それぞれの要素について\n",
        "\n",
        "> 等速: 一定の速度  \n",
        "> 直線: (ある点から出発し)直線上を進む\n",
        "\n",
        "と理解し,\n",
        "\n",
        "> (原点から出発し,) 一定の速度で直線上を進む運動\n",
        "\n",
        "を考えていきます.\n",
        "\n"
      ]
    },
    {
      "cell_type": "markdown",
      "metadata": {
        "id": "SETWJ98MA1Bb",
        "colab_type": "text"
      },
      "source": [
        "#### 数直線と直線運動\n",
        "\n",
        "直線運動を表すには\n",
        "\n",
        "1. 数直線を利用\n",
        "1. 数直線の左右いずれかを, 正方向する\n",
        "\n",
        "ことで表現できます."
      ]
    },
    {
      "cell_type": "markdown",
      "metadata": {
        "id": "a9bTDB-bDDNJ",
        "colab_type": "text"
      },
      "source": [
        "<img src=\"data:image/png;base64,iVBORw0KGgoAAAANSUhEUgAAARwAAAB4CAYAAAAg5k0YAAAGqHRFWHRteGZpbGUAJTNDbXhmaWxlJTIwaG9zdCUzRCUyMmFwcC5kaWFncmFtcy5uZXQlMjIlMjBtb2RpZmllZCUzRCUyMjIwMjAtMDQtMzBUMDclM0E0OSUzQTExLjgyN1olMjIlMjBhZ2VudCUzRCUyMjUuMCUyMChNYWNpbnRvc2glM0IlMjBJbnRlbCUyME1hYyUyME9TJTIwWCUyMDEwXzEwXzUpJTIwQXBwbGVXZWJLaXQlMkY1MzcuMzYlMjAoS0hUTUwlMkMlMjBsaWtlJTIwR2Vja28pJTIwQ2hyb21lJTJGODEuMC40MDQ0LjEyMiUyMFNhZmFyaSUyRjUzNy4zNiUyMiUyMGV0YWclM0QlMjJJWFlBcWxEM1FfVV9GSDhKME9ERiUyMiUyMHZlcnNpb24lM0QlMjIxMy4wLjMlMjIlMjB0eXBlJTNEJTIyZ29vZ2xlJTIyJTNFJTNDZGlhZ3JhbSUyMGlkJTNEJTIyWldZdUJMUG5fT3ViaUgxSHZRMUQlMjIlMjBuYW1lJTNEJTIyUGFnZS0xJTIyJTNFN1ZoYlU2TXdGUDQxUE5iaFVpaDlMTmphN3N5dVhidXo3bXVFQ0ZFZ0dJS3QlMkZ2cE5JRnhMdDZpOWpEdnFROG1YNUNUbmZOODVDVWlhSFc2dUNJajk3OWlGZ2FUSzdrYlNMaVZWVldSTlp6OGNlU2tRZVp3akhrR3V3Q3BnaFY1aE1WQ2dLWEpoMGhoSU1RNG9pcHVnZzZNSU9yU0JBVUx3dWpuc0hnZk5WV1Bnd1MxZzVZQmdHNzFGTHZWejFGUkhGVDZIeVBPTGxSVkQlMkJCZUNZckR3SlBHQmk5YzFTSnRLbWswd3B2bFR1TEZod0tOWHhDV2ZOOXZSVzI2TXdJajJtUkNGVHVMYU53djZNSDkwWjlkJTJGeVBYaTEwQVJacDVCa0FxUEpkVUltRUhySGpPN2JOdjBSY1RDZUVweDBURklNcVltYklBNmpEZFZKM3Z5c3QlMkJwTHBsVGFUd3J6TEdONVJaRmZ4NlQwcmpLTnNzNFpRMXI3U01LVnpGd2VNJTJCYTZZcGhQZzBEMWxMWUkwamluT2g3dElITU44c0ZpYzhmc2w3ZVdBSktJWWt5UkpXVmNyVjZyQXElMkZJYUZ3VTRORTdLNGdEaUVsTDJ5STZEVUVqVUxJNmxDMDE1VXFDc2l2Q2FMQWdOQ2hWeHF1cUdJUGdxMDNNR2QyRU5jT2FlUk9lQXF3bGhPQUpFRk9NNUlKSmZpeGxEWHozV0l6WmlnbyUyQm5kR0RicU5wTm1PV1Mwb2VrZFFDb3pBQUZEMDNFeTFya2lKRlpZWVpab1VsSmd0U3RSV3JCT2NFZ2VLU2ZYTWFOa3BTZHBsaUFMaVFicGxLT090OVByOVZDckRuVW1ZeENENldCSmFVOG0wYTBtWVd6eDRFaDRndzhxd255SEZidGE2Wm1pdjZYS3hlQmpZdiUyRkdQeSUyQm56UU50WEd4MGNZTktnUlZJMU9mdnJJT05BbE00a3k1Wk1heWVsJTJGY290NDRRMktTV1FyUTN1c2dFeXB6aWxPTjlOem5pQVBGNVNIVVl3WkU1Ym5GakVEc3FKNkFpUjYlMkZMSlZzenpKT05DdHlUOWtudkdhb290WWhYaENKYTFwd1VTbkVadVZzcmxmbldkdXpnRElRcTRaSmlpaUllQWdPMlNHODNLJTJGZ1clMkJFakdRRDZGWVUyOHFkdFJQc2UzNjhoN0Z6aWYwZHVtc2J4SWR6Z2ZvNXpmJTJGS1RJR2UwJTJGek15aDJzMGVwZmEwcnhvVmhHQ08lMkJoSnhObCUyRk1CJTJCVHclMkJJc0lrQk1FJTJGJTJGRWp2Q2tpdWI2cUN2NUxxWTBtbDdzaWdqanpyZmRFeSUyQiUyQldVZHF5Y1VqOWhUbjBKOVFSQ1pmZllsbEwxTGFWcXA2eiUyQlhmZVYzYThFSXVxTk9OY0UwWG5UN3hXZTAxeiUyQlIlMkJPTFZ2amI5OEMlMkIxJTJGJTJGMmE0Ujh0TnQlMkZKMnRkbCUyRiUyRiUyRmxqVlZPeGh0VzI5dEolMkJaTmZ4TnZPSVpSJTJGN2R2JTJCUk5RcWJmUGFlV2RQSTczR0RveWoxMGZVczU5dmlkZjUlMkZ2NXozZGwyS3hVeXZobzV6dHJWaCUyQkNjMkZYMzlPMTZWOCUzRCUzQyUyRmRpYWdyYW0lM0UlM0MlMkZteGZpbGUlM0XDBfpGAAAbxElEQVR4Xu1dCbxN1RfeUplLSIi/eS5CCpFnyph5qDSoiAZDlFBKRJG5EJkyZSYSmXqRzHMkMqXBlCFTpvy/77iH67n3nnPvO+fec+5d+/dbv/veu/vsc9a311t77TXsk0RJEwQEAUEgTAgkCdN95DaCgCAgCChROCIEgoAgEDYEROGEDWq5kSAgCIjCERkQBASBsCEgCidsUMuNBAFBQBSOyIAgIAiEDQFROGGDWm4kCAgConBEBgQBQSBsCIjCCRvUciNBQBBwqsLhc3UFdZcpCgmB23FVXhA/L4GOgA6GNFJsXiTyZ9O8O1XhJAO/J0HJbeI7moetD+Zm+GBwHv7W1INrNPNvBW8if1ag6GMMpyqcVHjWQ6DUNvEdrcO+DMaGgqhcXgIdBi0CxXkYLo3PVdHKvIV8ifxZCKb3UE5VOFxhXgd9ZBPf0TjsHWBqIygXqCRonYfJ8viM9/ycD5+7opF5i3kS+bMYUH04pyocm9iN6mGpcBZ7lM2z+Bzvxe3d+Pky6FhUIyDMOR4BUTiOnyLTD3gXeu4AZfRcMQuffUFrQRdNjyIdBQEbEXCqwuEemv4I/sNIM49Ae3Ttl6A7/Ti1QavNDxPzPUX+bBIBpyqcez3/IFlt4juah60G5oaA6MvxboXxy/ZoZtxC3kT+LATTeyinKpzseMjvQTls4jsWhs0PJnuAGnmYbY7PUbHAuAU8ivxZAKKvIZyqcOiPeAY02Ca+o23YPGCIUb2VoAlezN2Jn3eC6NdpDfo02hi3iR+RP5uAdarCsYndqB32BS/r5T78vM3DKX0RW0DcXjE8vixqERDGXIGAKBxXTJPhQ3ZGj16eXqPx2QbEXJJXQNxWzQUxA5llDtIEgYgh4FSFw7wR+h6YNSvNGIGU6NIT1M5H107420DQeeNhpIcHAZE/m0TBqQqnCPhl4lpRm/iO1mHTgDH6a/4FsQ6N5SGno5XZIPlqhv6zQSdMXCfyZwKkULo4VeEUAzOMqBQPhSm5RhDwgQAVzgCPtTfIQPGI/NkkQk5VOJnB7+OgETbxLcPGJgL7wDZD3rRyuM30p3hE/mySD6cqHJvYlWFjHAFaOWO8MDBSPDEOl/Xsi8KxHlMZ0dkI6FaO91OK4gnTnDlV4dDsZS0VnZ/SBAErEXgAg9XxM6CueGbi+xKgsVbeWMZSjn3Vb0VMzkhQTpkkQSACCDC6txv0SATuHdW3dKqFUwWoM5GNJ9dJEwSsRCCQhcNjbelM3gRi0uRjVt5YxnKuhZMbk8PjML3rgmS+BAErENiHQbhl9266oqGy4bZK5M8KpH2M4VQLxyZ2ZdgYR6AZ+PeOUiVUNDEOj/3si8KxH2O5g3MQ0K0bUTQRmhOnKpyCwON+0NQI4SK3jT4EaN1wy6RToBIHkT+b5t+pCqcx+G0AamIT3zJs7CFAhWO2lkrkzyb5cKrCeRL8srThKZv4lmEFgUAIiPzZJB9OVTjcTvFVtUzAkiYIhBsBkT+bEHeqwrGJXRlWEBAEIomAKJxIoi/3FgRiDAGnKhyeR5INNCfG5kPYdQYCIn82zYNTFU5L8MtJb2UT3zKsIBAIAZE/m+TDqQrnVfDLXIjXbOJbhhUEAiEg8meTfDhV4TwMfvluoAU28S3DCgKBEBD5s0k+nKpwbGJXhhUEBIFIIiAKJ5Loy70FgRhDwKkKhwcfpQAtjrH5EHadgYDIn03z4FSF0wX88jW1b9vEtwwrCARCQOTPJvlwqsLpCn5vA71rE98yrCAQCAGRP5vkwykKpx74++auu+4aO2fOnImNGzfuB9q8ZMmSLI8//vj4sWPHFvjrr7+Go08m0I+gCzbhIcPGJgI1wHapVKlSlU2aNGnWf//9N3O6dOn+QUt16623Hr58+fKBM2fOUO5I82MTImu4jqTCSZ4lS5Yx27ZtW9uxY8dWQ4cOzbR169Y0DzzAI2dx9mmSJAoTrf777z+1a9cudccdd5weNWrU3vTp0y/95JNPLu/cuXMwuu23BgYZJQYRqAml8vrx48crlCpV6mirVq3S3H333SkyZcqkMmfOrPh58OBBhYVOo6NHj54bNmzYqTVr1mRImzbtkmPHjvEtnqJ8ghScSCicrEWLFh26dOnS//38889FH3kk+IPxf/rpJwrBzoEDBy795ptvhoHnLUHyLd1jF4FyGTJkGF6+fPmMTz/9dHpY0ApWjWk0Ll26pGCFq/Hjxx/78ccfDx4+fLiFx/IxPUYsdwynwkny5JNP9m3RokXNAgUK5OcqktiGVUZNnjx5H8zdwW+++eZAWEVXEjumXB+dCFy5ciXJfffd903y5MnLDh48OHWZMmUSzegPP/yg2rRpc+bixYvfwzqvJfJnDGm4FE7KevXqLenTp0+pPHnyGD9VkD3+/vtvVbt27W1YcWgu8bxaaYKANwJZUqZM+evcuXNTVKzIV55Z2xYvXqwg32dPnz6dCyPznVbS/CBgu8KpW7du7rfeems49smV7J6Fr776avl7773XfPPmzTvtvpeM7w4E7r///tJ//vnn0l9++SU5/H+2PTS2Vip//vzncY9Hdu/evd62G7l8YFsVTvfu3UumSJFizhtvvMHoUljaiBEj9j700ENVixUrtissN5SbOBYBbOGrQdlMj4+PZ05XWFq5cuX+yZEjR8MJEyYsCssNXXYTOxVOgRdeeGEmIkus+g5ra9u27Wbs0+vipvvCemO5mZMQyAJrYzeiS8nD/VCIYp0/efLk/3Dfw+G+t9PvZ5vCGTBgwLR27do1jBQAWN0WwKFcPVL3l/tGFgH4bM7+9ttvKQJto+DoVbB+VMuWLdXtt99+0wMjEqWYpoFtWVDMHDp0SMFXCZfO6TRBXRgDnW1ROA8//HAHTFbvvHnz+ow37tu3T2FPrbASJApiOovvueceVaJEiZvGwZ768ttvv9105MiRUxJ1E7nYdQhAJiZPnDixYaVKlfzGu5HcpyCnasuWLQrWsGrduvUNfO7YsUMVLHjVOEeumCpUqFBQOCxatOhys2bNpmFLxzdASPMgYIfCeaBv377jOnTo4HdZaN68ucJWy5JJ+OCDDxQUi8+xXnvttV+HDBnSHF9+b8nNZBA3IFAOeV5fbdq0iecp+W2dOnVSvXv3Vrly5VLoq9KkuW6MMNcmLi5OrVixQn344YeKfdmmTp2q9atWrZqWmGrUYBmdQM4Ys5hXGvWNle+NUQsSCfzzt3/nnXf6Id/B75XIXVDIFlb9+vVTyI1QFy7cWKlw2223qe+++04TiKxZsypkIfuc4CNHjigkcGlC46sxUxkm85OVK1eeHCQb0t2lCGALtQ2JeYUC5dlwseOiR+Wxfv16BUtcMbQ9bdo0TSY//fRT1blzZ8WkVMoh5dHb4kGpjXruuecMEVq2bJlq2LDhVshpEcPOMdLBaoVTuUuXLhN69ux5TyD8dIXDlQWrkc+ukyZNUk2bNlXYEqkXX3wx5OlAmPwgomU0a+NDHkQudAsCtfAPPh6Kw+deHcl/qn///gpRU42fVatWadsqbq8KFy6s9uzZc41PLnRr167VShz4/aOPPqr9jho/Rdk0m52M/Jzjs2fP5gsd5fRKgGCpwoECqQCLZanRZGACmCilTeCDDz6o6LzDXleheE6bcGRuKmyH1Pbt29X777+vYKGo8+fPa9/RuXf27FmVMWNGv8rK+78D0QLu0Zu+++67k9zyXyPPGRoC8N3Ef/bZZ+WR+3XTAJQfhKw1mdOVTfHixbUtE2WNMlWzZk3Np8P2+eefa1YQlRS/p5WdL18+xbIaWjxm2/Tp0+kfWoq6LNvz0Mw+UyT7Walw0sF5u3LdunX5jBhCxrFCMuA1hdOkSRNtfxxMo/DQ3DVSbhwTe+4N3377bRx+PBXMPaSvuxC45ZZb/sP2PIk/mRg9erS2VaJvhhnv3Bo9//zzmr8GtX3a1p7+GtToaYzPnDlTs3poEXGB4/YL9X+aNYTCY1PgUNGlTp36MvxCt5q6IMo7WalwkmLCtkH75zfC7NVXX9VWDN3C4RZrypQpLIhTOKJCqxD31eioo/Xz7LPPapbRl19+qSBkRrdTyDzegfAmFY6knRui5doONVC2MBVHmgRM8qNDGEdOKEZKc+bMqTEL+VBFilx3s1A2KaN6o6+HkSpaNzVq1NB8hlhYNVk107A4nkLdFVNEFprpH819LFM4mLzBvXr1av3EE08Y4qX7cHSFw8llBS6PoQjkbObAVEbIIlYoADWtcObPn3/l5Zdf7rh///6+hg8nHVyJALJ7hyJi+TL9fkbN2ycDf6OC3/GGS7iNogWNoyt4LMU1i4id4BNU8Ane4FA2ut+4ceOuoLi4P1I1rjqPYrhZpnDgia+FCMFcM+FCXwqHq0qjRo0ChhtpzRw4cEATADrvzFo49OMgPN4GEbRPYniuo5p1nD6wBtGnktWrB871pDJBBry2naLPhv7Ec+fOXbOUaQExUKE7lhlNZbSKPsZTp06pjRs3KroE2OjbYQ6Pkcx//fXXCuftrP7jjz9KRfUkmGDOMoWD0OI6mI0luNc1agkVjv670XXe3/McEwqLmS0VEwQhXPNWr15dK5h7SF/3IIAzbvYtXLgwO61ff43KhoqEkSo2Kp3HHnvMpz+GcsyCTKNGNwDO1QnYjb4f+BH3wFrKbTRetH9vmcJBOndXTFJ3M4BRwXCyuXfmPlr34XCPjFPXAg6Bs28UijO1/B2zFg63Yd26dRvao0eP6xtzMw8qfVyDAByz/2BLnoZhbF+NOVvMncH2+trXzMdp0KCBYrSK2er0ydA/oyf6Va1aVVNQOG1Sy9nBCYFaJBX30koiKlSooP0dW/WA/hyeGIgF+SRkN3Gp9a6ZDf8PapnCKVu27Jbly5cbFp3oYUaGC5lMxUnWFY7+eyBc9ZT0YHw4HA/9UU3xS4EomDNhwQcCOBpiP+SHBZM+G06G1LZQtFxo4dAqYYKft3OYFzIoUadOHU0x0YLmNXpKBr/n9pwKiErno48+0uqs2MeoISq2B8dWiIVjBJTZ7zFB78Bs7GHUX7dQ6IzTFYweteK1uinLqAGjCRs2bPA5JLdUs2bNMhUWZ8YxVrcpqK8x9mgbMSDfOxIBWB4nf/311zv8WThc6GDlark1lAda1gkVDv039O9wmxSoeScFmgFDLJzrKFlm4aC4bREsnMo0OwM1XeHQstHTxrnizJs3TwtN0jlH4eC+lzkQeu0Kx+Q1/I6JgqxnYcTATOOqBAX1JZ6PGZ/SohAByMZuhMRzBfLh6GwzGsokPm+FQ4cwThjQ5JCNSuXjjz/WHMW6UxjH42rfBRsWpyxje7YbvkTrj7t02VxapnBwHEVDlPlPw4FbASHQJzuh05fef0afmGNDk5VbJ+6r6avBMRPamLRokiVLZsqE9X4IHhcAYWmDIyYlSuUyATX7uPD9rYBfsAzzZIyaLoOIXKpXXnlFyy5m5nvC0oaVK1dqioeNdVaMjLLhjSFa/ZXZBrljguH3UDhxZq+J1n6WKRysMG9+8cUXH0CR3HywiBd69N0w/M0iufbt22vfeB8VgBP7qBxUQucwhUGf5ISJWkaTA0vqArKZX4Lj8AujvvK9OxHAlqo3Uitex4JlWHegK5wxY8ZocsbwNht9MVzcuKWiIuL2HsdMKLwaRpNJNhZkMkcnmAZFeBH36It73ZjwE8wgUdLXMoUDPDIg7XsunLMBcw10fw3MX6UfaE3nG1POaeayoJNWki/nsN5PTzPXVx+juYDDcBOEqQH6Xa/OM7pIvncbAtWRLzMBqRmB9/TgSlc4rJeiDObOnVurqUJy3jWfIBdEPReHQHBrT0dyKK81Kl269HEUijbBMDF/7KiVCicNjgRYgm1RSX+SijcZalnCOAlNC4nTwccVhLkQbN7V474UDp16VapU0UKSVDas9r333nsN/zFq1ar1HfbmzME5a9hZOrgWAeRkXUZE6RYGGwK1hD4cFm7ihMBrlzAqBWtdOwlQb1zkFixYoMlvMI1yDGUF0b1kaHkFM65b+1qpcBQqsuvh4K2Z9MH4alwhuMfWI0xw4mq5DGwJj6FgeJL1UgnD30w3RwheqySnEHBM5lH4a3x7Io46bYlarRFunSR5bnMIIPlv8fDhwyvVr18/KIWjd2Y0CW/+UCiDuXY9Tu3TtlG6f6dkyZLagW88rsJMLRWLklEtvhBJhFXNcRHdvSxVOIDq4UGDBi1FXs315cKDn7efhgl7VBrZsmXTvu3atat2DAVOutdC4Tw2lNYQVxieV5Iw/E3B4PUUAkYMmDDoz1mNCNhxKEFO9tVzCaRFMwLVUcs3G/IV0I+oWzjcNtFiRga6lojKoIXemBDIOivk92hV5FRE9PV4Zx+zjIJbsqeeespv9TjGOYuq83oYN+YLN4mt1QqHUaZ+qD9pn9DKYTib+2QoJE1BMKOYnn9aKlQ4DD1y8rhd8m4sBkX+zE0lDMzjYUYo/TpY2Xz+E1HJIZv0dQjK1fMGpEU9AlistiMwUZALkr+mBy4Y9mbEib4cvdGXSKuG/sSEjYqHVjmjW1wE2bi1Z5TLl7VDWUao/SdY2YYJsVE/MR4GLVc4GDcv9r+zoHgKJwSRPhhOsL8DqTlx3AJxO8VGRcLcHKNQu7/JgoP6ACIXLB9eHisTKnyqMjhFcj78gb739QAIb2jV8m2eeeYZzZrmCX5w7GpyaXRagY4vt/ZMSmWpA17y6BN2ZCGfxuLKg7fWuHRekuG5r558Z1GzQ+HQUhmAg9TbBetgs4gnbRhuyWBaN0CV7kwrx5WxnI8ArJPZsELq8KTISDU6mLHgTce2v1GkniGR92WiEd9gS1PPspdK2qJw8IBJcMLeOESfApfRJhKRQJfDcbgeZu+DNt5ChnYwAqh1OoPapZRmTi+wmg1my+NUwDMnTpxIbfXYYRxPVziMOq+z6r52KRw+Xx54+xdgSxP2gjW8NWIjHH6sqPvLKqBkHNchcA/8Kr8dO3YsoAPZDq7gv7yAkgieQfq3HeOHaUzXKRxVu3btPNhPL8MJaZnDBBIdgL8hs7gEtlNHw3VPuY8zEYDsPYR//sUIa4ftDZgIl5/6/fffy+3du3ezM1Ex/VTuUzhkDcmAuWFxjEYI8VHTrIbYEcpmLcKbjeAU3B/iEHJZlCGALOISiGiuwNEkyeggtqtxG4WcsQsIdDwUBcqGMLlT4Xgm+E4Ur81q27ZtBX/voUqMIKBG5Qoc1VtQ81IR4xxLzFhybVQikBHZvntmzJiRink3Vjc4iK+gVu80AhU8lT1c26gcuNcJD1nNkusVjgYIit76wKdTEZNfInv27IkGicdOIBq2CysXkjlbf5voAWWAqEYA1s4MhLGrIE8sDTOFE9uYZ4Mcr1NQNPNw1na43yEej+fnWySZYzbIBsXDozQYnSoB8n0oVQgA2uk09vc4aZG9OQXFm9lghhZkqniwDeYxs0L3IpdiHLI4v8b1lnnRg30W6e86BEojcjUCRZhZkSGclmU2PPLEbGMyKd8wgoryYzi+Yj+OnGiFa8OdZ8OjSmeDynuem5ZOKIqHFQF8182lBPxfwe983dMyEE+lp8LxpStYtPYniP1NtUgoHP3BUuOsm8FYbW5BhW8dHAeQFqfaa7VTbHy7IRMFmd3J/TEL6jDBR5CWvgGfG5DxORbdmCcgTRAIBYGqKB7uCP9OeWQlX8SWPzkPj8PbH7QyBX6yhIayR2KiH7LWz8E/eBuy5OPx3ce4aaTLFeLwDN1AoSgeFpNuAhUKBTyva9LjZ9NuDDMKh0yR7Gp8hpw48zUpTNOiqK86ggnOjSrwE5hU7L7SHEGIMSn6/A6FdBCfPEr/sl0PI+PGJAK506ZNWwgLXCYcuJ8Sme4psPU6B99gCix85/Amz7OoRP8LW/jtQMeJR5zk8PyP6n4KMxYPrRNuL3y9dZKp/vSHUqm+CNoK8vXGSf5fcndxwazUmFE43TCYubM8zd5V+gkCgkA4EGC0Ng60L4SbUYntBT0AsizEb0bh8IFJ0gQBQcCZCFA5cFvFT7aTIPp0SLR2QmmuDouHwrBcIwgIAoERoCHA3YduEFihaPQ7isIR6RMEBAENgYRRKisVjSgcETJBQBC4CYF4/IX+lcRunfxBKxaOCJ0gIAhcQyAHfpJMYxEIQUAQiAoEmBD3M6g0aJVVHJmJUll1LxlHEBAE3IMAj/W4G8TasH+temxROFYhKeMIAoKAIQKRVjjUoHw38O+ghBmPPMOE5wkcAp0y5EQ6CAKCgOMRiJTC4ZvvhoFyeRBiTRSrUk97fucZAnqdCr9jVaxlZp3jZ0UeMFII3IkbM+TMbYQui/qzsBSApQP8OxdBaSEgEAmFw3u+73lWvqQ5zvNzbXzOBbG+w7v6lrVTDNH9EwJ/cokgYAaBgujUE8T3R7HRouYCqB8eznNuFoP0BZKfTPuXFiQCkVA43o/IV3ls9EwkC8V6gFjByhVmGogTTSU0P0i+pLsgEAwCfLNCHCgV6DnPhZTHjiAe38ACRV3Z8GtL64uCeVC39420wiF+3UBMz+aqwvM3uNpwQsVv43bpct/z8/9hNKgZiFt5yuFQUANQLxB9igwVjwLJiQUhzK8TFA6LzuK9np3+mi0h8CKXCAJWIMCXWS3yDEQrm9YPX+rIoymkJRIBJygcb5N1EvjhmzKlCQKRQoCR059AGT0PwC3WuEg9TLTd1wkKh5EBmq+c4D6gt6INZOHHVQjwf4IvDq8DYroG36tm+oApV3EagYd1gsLpBL4/9PDO09S4pUoYkowANHLLGEXAW+HofpxzMYqF5WxHWuHUAEfzQFNBjT3c+Xu1aHF83w6UAcRDn/uC6GSWJghYiUAcBvvOa0Dx31iIbrgVDsPgVBT/A9Fc5Xmpb4MGg3iMIUOPjAC8BPLOPNYdy/Xxd5q7ZUHLQQ1BMyzEQ4aKbQRygH3m11DG9Jyc1/DzkNiGxTruw61wdItG52AFfqgAosWihyP5HSec4UceLNQfFA/iyfB1vRQRlRTfH34fSExe62Qilkai/L8OegLE/K8WIMpkHGgiiFY3t/lMAgz1qM5YwtOQ13ArHL3knQ/GkCMnmEqFrRjI+4Vb/PkdELdNzDweABrpxRGtG648HPO4IafSQRC4GYEc+JN3xjCz2h8EHQA1A43xXMK/c+Hj9qolSBa4EKUp3AqHj8ltFd+J4+uVqCyJTw1iVEB3HCfHz+t9KByGzykEonBCnHy5TMss5mLGdzNRqXDrvsODC9M14kFFPL8zEZXbfyYCStJfiMITCYUT7KNS4awGrQXRItLf8tcZP9OJLAonWESlvzcCfPskFzlu2RO+gZL90nkUjG6JC3qJQMANCofstQV1AXEvTWezvvrwfeKsd5EmCAgCLkDALQqHRwOwwpxKpzfoedB0UAeQHFvhAkGTRxQEiIBbFI4+W9xzMzOZR1VIcqDIsCDgMgTcpnBcBq88riAgCHgjIApH5EEQEATChoAonLBBLTcSBASB/wNPC0QAkSyGIQAAAABJRU5ErkJggg==\" style=\"cursor:pointer;max-width:100%;\" onclick=\"(function(img){if(img.wnd!=null&&!img.wnd.closed){img.wnd.focus();}else{var r=function(evt){if(evt.data=='ready'&&evt.source==img.wnd){img.wnd.postMessage(decodeURIComponent(img.getAttribute('src')),'*');window.removeEventListener('message',r);}};window.addEventListener('message',r);img.wnd=window.open('https://app.diagrams.net/?client=1&lightbox=1&edit=_blank');}})(this);\"/>"
      ]
    },
    {
      "cell_type": "markdown",
      "metadata": {
        "colab_type": "text",
        "id": "-pmrx_o3IKpm"
      },
      "source": [
        "上の例では\n",
        "* 右向きを正とし原点($x_0$)から出発\n",
        "* 後には($t$ 秒後)位置$x$にたどり着いた\n",
        "直線運動を表しています.\n",
        "\n",
        "この図では変位 $s$ が\n",
        "\n",
        "> $s = x - x_0$\n",
        "\n",
        "で表すことができます. ここで $s$ は 流線(streamline) の頭文字 s を利用しています."
      ]
    },
    {
      "cell_type": "markdown",
      "metadata": {
        "id": "JxIK2x9wFLLb",
        "colab_type": "text"
      },
      "source": [
        "### 等速直線運動の速度\n",
        "\n",
        "速度$v$の定義は\n",
        "$$\n",
        "速度 = \\frac{変位}{時間変化}\n",
        "$$\n",
        "または\n",
        "$$\n",
        "v = \\frac{\\varDelta x}{\\varDelta t}\n",
        "$$\n",
        "でした. 変位は $\\varDelta x= x -x_0$, 時間変化は $\\varDelta t = t -t_0$ です. \n",
        "\n",
        "等速直線運動の場合は, 原点から出発した時間を計測していると考えれば $t_0=0$ として良いでしょう. \n",
        "\n",
        "このことから等速直線運動の速度は, \n",
        "$$\n",
        "v=\\frac{x-x_0}{t-0}=\\frac{s}{t}=\\text{一定}\n",
        "$$\n",
        "として良いでしょう. この場合, 速度は時間に関係なく一定であることも示されています. \n",
        "\n",
        "この $v=\\dfrac{s}{t}$ に両辺に $t$をかけて変形すると,\n",
        "\n",
        "> (1.5) $\\qquad s = v t$\n",
        "\n",
        "となり, 今度は変位 $s$ が比例定数 $v$ で時間 $t$ に比例していることがわかります."
      ]
    },
    {
      "cell_type": "markdown",
      "metadata": {
        "id": "hTU5q95MIwIz",
        "colab_type": "text"
      },
      "source": [
        "### 等速直線運動の $v-t$ と $s-t$ グラフの関係\n",
        "\n",
        "等速直線運動の速度を正として, $v-t$ と $s-t$ グラフを描画します.\n",
        "\n",
        "* 一直線上で右向きを正\n",
        "* 速度 $v = 5 >0$\n",
        "* グラフの目盛の記号と単位に気をつけてる\n",
        "\n",
        "それでは, 下枠をクリックし再生ボタンを押してください."
      ]
    },
    {
      "cell_type": "code",
      "metadata": {
        "id": "bBq04dfd0sAH",
        "colab_type": "code",
        "outputId": "a47ca97e-6c42-4a1a-dd9e-2766d5cbcd75",
        "cellView": "form",
        "colab": {
          "base_uri": "https://localhost:8080/",
          "height": 348,
          "referenced_widgets": [
            "8cc1180d2f164b97ad6ba5e5bc74443a",
            "76fe7c01ad5249a68cf6068703383206",
            "8392c7519ec94eafbfbb416d37bd406f",
            "484401c532294b4291a835d3728fae7e",
            "b759d86bf2a1478dadaeef0ff5f60ff5",
            "da563abbd0ad4eb7a17744a799a3e7ac",
            "93f771d27c9b42b5a20affb96f257e8e"
          ]
        }
      },
      "source": [
        "#@title 等速直線運動における v-t と s-t の関係\n",
        "%matplotlib inline\n",
        "import matplotlib.pyplot as plt\n",
        "from ipywidgets import interact\n",
        "import numpy as np\n",
        "plt.style.use('ggplot')\n",
        "\n",
        "(v,T)=(5.0,10)\n",
        "\n",
        "plt.figure()\n",
        "t = np.linspace(0, T)\n",
        "x, v = [], []\n",
        "\n",
        "@interact(v=(-7,+7))\n",
        "def f(v):\n",
        "    fig = plt.figure(figsize=(8,4))\n",
        "\n",
        "    # グラフ間の幅を調整\n",
        "    plt.subplots_adjust(wspace=0.5, hspace=0.5)\n",
        "\n",
        "    vt = fig.add_subplot(1, 2, 1)\n",
        "    vt.plot(t , v + 0*t )\n",
        "    vt.plot(t , 0*t )  \n",
        "    vt.set_xlabel('t [s]') \n",
        "    vt.set_ylabel('v [m/s] = s/t')\n",
        "    vt.set_title('v-t')\n",
        "    vt.set_xlim([0, 8])\n",
        "    vt.set_ylim([-10, 10])   \n",
        "\n",
        "    xt = fig.add_subplot(1, 2, 2)\n",
        "    xt.plot(t , v*t )\n",
        "    xt.set_xlabel('t [s]')\n",
        "    xt.set_ylabel('s [m] = v t')\n",
        "    xt.set_title('s-t')\n",
        "    xt.set_xlim([0, 8])\n",
        "    xt.set_ylim([-25, 25])  \n",
        "    \n",
        "    plt.show()"
      ],
      "execution_count": 1,
      "outputs": [
        {
          "output_type": "display_data",
          "data": {
            "text/plain": [
              "<Figure size 432x288 with 0 Axes>"
            ]
          },
          "metadata": {
            "tags": []
          }
        },
        {
          "output_type": "display_data",
          "data": {
            "application/vnd.jupyter.widget-view+json": {
              "model_id": "8cc1180d2f164b97ad6ba5e5bc74443a",
              "version_minor": 0,
              "version_major": 2
            },
            "text/plain": [
              "interactive(children=(IntSlider(value=0, description='v', max=7, min=-7), Output()), _dom_classes=('widget-int…"
            ]
          },
          "metadata": {
            "tags": []
          }
        }
      ]
    },
    {
      "cell_type": "markdown",
      "metadata": {
        "id": "tipemwjzJgDr",
        "colab_type": "text"
      },
      "source": [
        "> Q 上の 等速直線運動の $v-t$ と $x-t$ のグラフを比較しなが以下の問題に答えてください.  \n",
        "> 1. $v-t$ グラフで等速度を $v=+5 {\\rm m/s}$ として  \n",
        "初めから 2秒後の変位 $s$ を求めてください.  \n",
        "> 2. 1の問題の答えを $s-t$ グラフで探してください.  \n",
        "> 3. 初めから 4秒後の変位 $s$ についても  \n",
        "同様の点を$s-t$グラフで探してください.  \n",
        "> 4. この考察から変位 $s$ は$v-t$ のどのような形で隠れているか, 簡潔に答えてください."
      ]
    }
  ]
}