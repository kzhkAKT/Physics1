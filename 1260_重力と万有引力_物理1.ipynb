{
  "nbformat": 4,
  "nbformat_minor": 0,
  "metadata": {
    "colab": {
      "name": "1260_重力と万有引力_物理1",
      "provenance": [],
      "authorship_tag": "ABX9TyPxs1nrx2IyehA1q1WRLOrt",
      "include_colab_link": true
    },
    "kernelspec": {
      "name": "python3",
      "display_name": "Python 3"
    }
  },
  "cells": [
    {
      "cell_type": "markdown",
      "metadata": {
        "id": "view-in-github",
        "colab_type": "text"
      },
      "source": [
        "<a href=\"https://colab.research.google.com/github/kzhkAKT/Physics1/blob/draft/1260_%E9%87%8D%E5%8A%9B%E3%81%A8%E4%B8%87%E6%9C%89%E5%BC%95%E5%8A%9B_%E7%89%A9%E7%90%861.ipynb\" target=\"_parent\"><img src=\"https://colab.research.google.com/assets/colab-badge.svg\" alt=\"Open In Colab\"/></a>"
      ]
    },
    {
      "cell_type": "markdown",
      "metadata": {
        "id": "OWpL5JDWF8kS",
        "colab_type": "text"
      },
      "source": [
        "# 力と運動の法則\n"
      ]
    },
    {
      "cell_type": "markdown",
      "metadata": {
        "id": "5kW_odH5F-Z6",
        "colab_type": "text"
      },
      "source": [
        "## 重力と万有引力"
      ]
    },
    {
      "cell_type": "markdown",
      "metadata": {
        "id": "NaVwYtwxGEpW",
        "colab_type": "text"
      },
      "source": [
        "### 重力と重力加速度"
      ]
    },
    {
      "cell_type": "code",
      "metadata": {
        "id": "v5oL1g6-FqFw",
        "colab_type": "code",
        "colab": {
          "base_uri": "https://localhost:8080/",
          "height": 336
        },
        "cellView": "form",
        "outputId": "13e0f525-ae49-4bea-e2f9-7405542686ce"
      },
      "source": [
        "#@title 真空における重力加速度の実験\n",
        "%%html\n",
        "<iframe width=\"560\" height=\"315\" src=\"https://www.youtube-nocookie.com/embed/E43-CfukEgs\" frameborder=\"0\" allow=\"accelerometer; autoplay; encrypted-media; gyroscope; picture-in-picture\" allowfullscreen></iframe>"
      ],
      "execution_count": 1,
      "outputs": [
        {
          "output_type": "display_data",
          "data": {
            "text/html": [
              "<iframe width=\"560\" height=\"315\" src=\"https://www.youtube-nocookie.com/embed/E43-CfukEgs\" frameborder=\"0\" allow=\"accelerometer; autoplay; encrypted-media; gyroscope; picture-in-picture\" allowfullscreen></iframe>"
            ],
            "text/plain": [
              "<IPython.core.display.HTML object>"
            ]
          },
          "metadata": {
            "tags": []
          }
        }
      ]
    }
  ]
}