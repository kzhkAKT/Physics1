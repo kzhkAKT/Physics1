{
  "nbformat": 4,
  "nbformat_minor": 0,
  "metadata": {
    "colab": {
      "name": "1400_力積と運動量_物理1",
      "provenance": [],
      "authorship_tag": "ABX9TyPOH6Fur6s27aPzrfARt3w4",
      "include_colab_link": true
    },
    "kernelspec": {
      "name": "python3",
      "display_name": "Python 3"
    }
  },
  "cells": [
    {
      "cell_type": "markdown",
      "metadata": {
        "id": "view-in-github",
        "colab_type": "text"
      },
      "source": [
        "<a href=\"https://colab.research.google.com/github/kzhkAKT/Physics1/blob/draft/1400_%E5%8A%9B%E7%A9%8D%E3%81%A8%E9%81%8B%E5%8B%95%E9%87%8F_%E7%89%A9%E7%90%861.ipynb\" target=\"_parent\"><img src=\"https://colab.research.google.com/assets/colab-badge.svg\" alt=\"Open In Colab\"/></a>"
      ]
    },
    {
      "cell_type": "markdown",
      "metadata": {
        "id": "_jPPkwK_rG1q"
      },
      "source": [
        "# 力積と運動量"
      ]
    },
    {
      "cell_type": "markdown",
      "metadata": {
        "id": "m0uwT-WJrJ-M"
      },
      "source": [
        "## 復習: 平均の速度 $\\overline{v}$\n",
        "\n",
        "$t_0 < t_1$ でそれぞれの時刻での位置を $x_0 , x_1$  とします.  \n",
        "つまり *0:始め* で *1:後* です.\n",
        "\n",
        "\\begin{align*}\n",
        "\\overline{v} &= \\dfrac{\\Delta x}{\\Delta t}\n",
        "= \\dfrac{x_1 - x_0 }{t_1 - t_0}&\\\\\n",
        "\\end{align*}\n",
        "\n",
        "一番目の等式を右から左に読んで\n",
        "> $x-t$ グラフの傾きが平均の速度になる\n",
        "\n",
        "一番目の等式を変形すると\n",
        "\\begin{align*}\n",
        "\\Delta x &= \\overline{v} \\Delta t&\n",
        "\\end{align*}\n",
        "\n",
        "この式を右から左に読んで\n",
        "> $v-t$ グラフの面積が変位になる\n",
        "\n",
        "## 復習: 平均の加速度 $\\overline{a}$\n",
        "\n",
        "$t_0 < t_1$ でそれぞれの時刻での速度を $v_0 , v_1$  とします.  \n",
        "つまり *0:始め* で *1:後* です.\n",
        "\n",
        "\\begin{align*}\n",
        "\\overline{a} &= \\dfrac{\\Delta v}{\\Delta t}\n",
        "= \\dfrac{v_1 - v_0 }{t_1 - t_0}&\n",
        "\\end{align*}\n",
        "\n",
        "一番目の等式を右から左に読んで\n",
        "> $v-t$ グラフの傾きが平均の加速度になる\n",
        "\n",
        "一番目の等式を変形すると\n",
        "\\begin{align*}\n",
        "\\Delta v &= \\overline{a} \\Delta t&\n",
        "\\end{align*}\n",
        "\n",
        "この式を右から左に読んで\n",
        "> $a-t$ グラフの面積が速度変化になる\n",
        "\n",
        "### $\\Delta t \\to 0$ 平均から瞬間へ\n",
        "\n",
        "上で調べた関係は, 瞬間の速度や加速度では\n",
        "- 瞬間の速度は $x-t$ 接線の傾き\n",
        "- 瞬間の加速度 $v-t$ 接線の傾き\n",
        "\n",
        "になりました.\n",
        "\n",
        "このように\n",
        "\n",
        ">> 運動方程式 $ma = F$ では**瞬間を捉える**\n",
        "\n",
        "ことを意識してきました.\n"
      ]
    },
    {
      "cell_type": "markdown",
      "metadata": {
        "id": "QHsAFyBytJ_S"
      },
      "source": [
        "$\\require{cancel}$\n",
        "## 力積と運動量: 運動方程式の変形\n",
        "\n",
        "加速度を平均の考え方を利用し\n",
        "\\begin{align*}\n",
        "a = \\dfrac{\\Delta v}{\\Delta t}\n",
        "\\end{align*}\n",
        "と表記します. (短い時間だけ観測では, この考えは悪いものではありません)\n",
        "\n",
        "一方, 質量 $m$ の物体に働く運動方程式は, 物体に働く力を $F$, 物体の加速度 $a$ とすると\n",
        "\\begin{align*}\n",
        "m a &= F.&\n",
        "\\end{align*}\n",
        "\n",
        "加速度の定義式を運動方程式に代入し整理してみましょう.\n",
        "\\begin{align*}\n",
        "m \\left( \\dfrac{\\Delta v}{\\Delta t}\\right) &= F&\\\\\n",
        "m \\left( \\dfrac{\\Delta v}{\\bcancel{\\Delta t}}\\right) \\bcancel{\\Delta t} &= F \\Delta t&\\\\\n",
        "m \\Delta v &= F \\Delta t&\n",
        "\\end{align*}\n",
        "ここで速度変化 $\\Delta v$ を\n",
        "\\begin{align*}\n",
        "\\Delta v &= v_1 - v_0&\n",
        "\\end{align*}\n",
        "に戻すと\n",
        "\\begin{align*}\n",
        "m \\left( v_1 - v_0 \\right) &= F \\Delta t&\\\\\n",
        "m v_1 - m v_0 &= F \\Delta t&\n",
        "\\end{align*}"
      ]
    },
    {
      "cell_type": "markdown",
      "metadata": {
        "id": "Uo64H0bjvuBX"
      },
      "source": [
        "> この式と 教科書 上巻 p35 (1.21) を比較してください."
      ]
    },
    {
      "cell_type": "markdown",
      "metadata": {
        "id": "RSlHeJCGv02f"
      },
      "source": [
        "### 運動量変化と力積\n",
        "\n",
        "導出した式の意味を考えてみます.\n",
        "- 左辺は, **質量**$\\times$**速度** という量の変化を示しています\n",
        "- 右辺は, **力** と **時間**変化 の **積** になっています.\n",
        "\n",
        "ここで新しい物理量を二つ定義します.\n",
        "\n",
        "- **運動量** = **質量**$\\times$**速度**, 単位 ${\\rm kg\\ m/s}$\n",
        "- **力積** = **力**$\\times$**時間**変化, 単位 ${\\rm N s}$\n",
        "\n",
        "> Q. 力積の単位を変形し, 運動量の単位が得られることを確認してください.\n",
        "\n",
        "<!-- これらの新しい言葉を利用すると上で得られた関係式は\n",
        "\n",
        ">> **運動量の変化は加えられた力積に等しい**\n",
        "\n",
        "ということができます. -->"
      ]
    },
    {
      "cell_type": "markdown",
      "metadata": {
        "id": "i-bgrwndgHVS"
      },
      "source": [
        "### 関係式の理解\n",
        "\\begin{align*}\n",
        "\\bbox[magenta,2pt]{m v_1} - \\bbox[cyan,2pt]{m v_0} &= \\bbox[yellow,2pt]{F \\Delta t}&\n",
        "\\end{align*}\n",
        "\n",
        "- 後の運動量:: $\\bbox[magenta,2pt]{m v_1}$\n",
        "- 始めの運動量:: $\\bbox[cyan,2pt]{m v_0}$\n",
        "- 途中に働く力積:: $\\bbox[yellow,2pt]{F \\Delta t}$\n",
        "  - 物体が力を受ける時間 $\\Delta t$\n",
        "\n",
        "これを踏まえて左辺を読み解けば\n",
        "\n",
        "> 物体の運動量変化 $(mv_1 - mv_0)$ は,  \n",
        "> 物体が受けた力積 $F \\Delta t$ に**等しい**\n",
        "\n"
      ]
    },
    {
      "cell_type": "code",
      "metadata": {
        "id": "9e25Q6IHmV93",
        "colab": {
          "base_uri": "https://localhost:8080/",
          "height": 178
        },
        "cellView": "form",
        "outputId": "fadb2971-5390-4d23-beb6-c25df8d4fca8"
      },
      "source": [
        "#@title 概念図: 運動量変化と力積\n",
        "%%svg\n",
        "<svg xmlns=\"http://www.w3.org/2000/svg\" xmlns:xlink=\"http://www.w3.org/1999/xlink\" version=\"1.1\" width=\"561px\" viewBox=\"-0.5 -0.5 561 157\" content=\"&lt;mxfile host=&quot;www.draw.io&quot; modified=&quot;2020-07-28T04:06:01.563Z&quot; agent=&quot;5.0 (Macintosh; Intel Mac OS X 10_10_5) AppleWebKit/537.36 (KHTML, like Gecko) Chrome/84.0.4147.89 Safari/537.36&quot; etag=&quot;uszoPSZLtJ-op28LENgN&quot; version=&quot;13.4.9&quot; type=&quot;google&quot;&gt;&lt;diagram id=&quot;BAC7zPwmUtZKl-VuagtM&quot; name=&quot;Page-1&quot;&gt;7Vpdb6s2GP41SNtFKjCBkMuGJmebNmlTLyadOwcc4h2DmXGaZL9+Nth8BUJOS5ucto3UkAf7tf1+PH5wYth+fPjCYLr9g4aIGMAMD4b9YADgOZ74L4FjAVim5xRIxHCosAp4xP8h3VChOxyirNGQU0o4TptgQJMEBbyBQcbovtlsQ0lz1BRG6AR4DCA5Rf/GId8WqOPZFf4LwtFWjTy11I0Y6rZqIdkWhnRfg+ylYfuMUl5cxQcfEek77Zai36rnbjkvhhJ+SQfntxX+Ovv16yY4Yk5W/wD3r+NEWXmCZKfWawCXCHuLDRVmxaz5UXnC/XdH9Y1JlsfpXjQAXnqobkoPw6DZ4QuiLMKw3siN1Hs+FNZArBGxCtxuJbBiThoGjemB/RZz9JgWo+9FMopGWx4T8ckSlzBLi/TY4AMK5TowIT4llOXdbd9fib/S8BNiHB16XW2VARSJj2iMODuKJirJwVTFfF9ljKegbS1ZNAZVjkalpSqO4kKF8jvCOr1OWEURan9WoI08+brl8Cc0QS+MvOoATBXSW8kEpyMTWp4TxJTKyw1Bh3vJmMIVKAnV5UNAYJbhoOnOVvHI0hEr1y5E4QmnDjqw5iCnw0EaY4hAjp+a5ru8pkb4k+I84XV8vFZ8ZvM7p2kkozsWINWvzqctU7Y7aIpDFiF+YioPZLn058fWHb3KTwrzUhNF7M01DL5FjO6ScKKoQDZh0fon4DiyFfBll9q1+fPp+KuX8IDMvd/hWqiQZv0THCUym0UeIjGvhSxzLLb5e3UjxmEobSwYEouD69yeXFYqw5cH1FkYzoNAiDS/KJfaqgPfV05SWgZ46vMKxpjIZNHMeYZxlJpR06hERL2Q+uu9l54m5p3wfiNttQR4YWFN5k2rttkuBrrZZOhV6mA2zHFDfJZxRr+VAg/8CExWOljzD2jtIZcSmTMfsvTKPOb18tgZBtqoarrPqcSFcVqoDXsq3qNSmzTxkqjaJGZ28eDTOR7KUphcdXblRHZrDZm1CdfgOprP+nrUOT7hzc4SnnkHZs3ktkepvmmrx+uRG+hScN+zP8vkyXOgJ3+UVuiU7mb+15D4zx+Q927hXVX29rlZ37PN/j1bwrUtf5m/rpDaYi+3TOC+ymYOZq0tYfJ2CW99nklUctL3l+44T6bTW3sytboeX969bDsJw3NV23R2bdlmdenuT932DN1mfUDdVpT/exZug8czF0su/aWIxqyXntl0JqaY0nCVjHPCY/hLYz7lvQl+08c/F57tvJ1OHCgleehjunajmEbSiVZ7D5rY8zerL3NYP4x0tJ0f6RVaoz+it6s5xjvztq5+5g1Gejo490R8+bl3l5Uf9PRafQd2c+RW+67845xoayr75LZBPTceuTnXJzf7k9w+FrmBd0Vu4mP1e6aiefWjMHv5Pw==&lt;/diagram&gt;&lt;/mxfile&gt;\" onclick=\"(function(svg){var src=window.event.target||window.event.srcElement;while (src!=null&amp;&amp;src.nodeName.toLowerCase()!='a'){src=src.parentNode;}if(src==null){if(svg.wnd!=null&amp;&amp;!svg.wnd.closed){svg.wnd.focus();}else{var r=function(evt){if(evt.data=='ready'&amp;&amp;evt.source==svg.wnd){svg.wnd.postMessage(decodeURIComponent(svg.getAttribute('content')),'*');window.removeEventListener('message',r);}};window.addEventListener('message',r);svg.wnd=window.open('https://viewer.diagrams.net/?client=1&amp;edit=_blank');}}})(this);\" style=\"cursor:pointer;max-width:100%;max-height:157px;\"><defs/><g><rect x=\"0\" y=\"76\" width=\"80\" height=\"80\" fill=\"#ccffff\" stroke=\"#000000\" pointer-events=\"all\"/><g transform=\"translate(-0.5 -0.5)\"><switch><foreignObject style=\"overflow: visible; text-align: left;\" pointer-events=\"none\" width=\"100%\" height=\"100%\" requiredFeatures=\"http://www.w3.org/TR/SVG11/feature#Extensibility\"><div xmlns=\"http://www.w3.org/1999/xhtml\" style=\"display: flex; align-items: unsafe center; justify-content: unsafe center; width: 78px; height: 1px; padding-top: 116px; margin-left: 1px;\"><div style=\"box-sizing: border-box; font-size: 0; text-align: center; \"><div style=\"display: inline-block; font-size: 12px; font-family: Helvetica; color: #000000; line-height: 1.2; pointer-events: all; white-space: normal; word-wrap: normal; \"><font style=\"font-size: 28px\" face=\"Georgia\"><i>m</i></font></div></div></div></foreignObject><text x=\"40\" y=\"120\" fill=\"#000000\" font-family=\"Helvetica\" font-size=\"12px\" text-anchor=\"middle\">m</text></switch></g><rect x=\"200\" y=\"76\" width=\"80\" height=\"80\" fill=\"none\" stroke=\"#000000\" pointer-events=\"all\"/><g transform=\"translate(-0.5 -0.5)\"><switch><foreignObject style=\"overflow: visible; text-align: left;\" pointer-events=\"none\" width=\"100%\" height=\"100%\" requiredFeatures=\"http://www.w3.org/TR/SVG11/feature#Extensibility\"><div xmlns=\"http://www.w3.org/1999/xhtml\" style=\"display: flex; align-items: unsafe center; justify-content: unsafe center; width: 78px; height: 1px; padding-top: 116px; margin-left: 201px;\"><div style=\"box-sizing: border-box; font-size: 0; text-align: center; \"><div style=\"display: inline-block; font-size: 12px; font-family: Helvetica; color: #000000; line-height: 1.2; pointer-events: all; white-space: normal; word-wrap: normal; \"><font style=\"font-size: 28px\" face=\"Georgia\" color=\"#e8e8e8\"><i>m</i></font></div></div></div></foreignObject><text x=\"240\" y=\"120\" fill=\"#000000\" font-family=\"Helvetica\" font-size=\"12px\" text-anchor=\"middle\">m</text></switch></g><path d=\"M 280.5 120.5 L 280.5 110.5 L 340.5 110.5 L 340.5 100 L 359.5 115.5 L 340.5 131 L 340.5 120.5 Z\" fill=\"#ffff00\" stroke=\"#000000\" stroke-linejoin=\"round\" stroke-miterlimit=\"10\" pointer-events=\"all\"/><g transform=\"translate(-0.5 -0.5)\"><switch><foreignObject style=\"overflow: visible; text-align: left;\" pointer-events=\"none\" width=\"100%\" height=\"100%\" requiredFeatures=\"http://www.w3.org/TR/SVG11/feature#Extensibility\"><div xmlns=\"http://www.w3.org/1999/xhtml\" style=\"display: flex; align-items: unsafe center; justify-content: unsafe center; width: 1px; height: 1px; padding-top: 87px; margin-left: 311px;\"><div style=\"box-sizing: border-box; font-size: 0; text-align: center; \"><div style=\"display: inline-block; font-size: 28px; font-family: Georgia; color: #000000; line-height: 1.2; pointer-events: all; background-color: #FFFFCC; white-space: nowrap; \"><font style=\"font-size: 28px\"><i style=\"font-size: 28px ; background-color: rgb(255 , 255 , 0)\">F</i></font></div></div></div></foreignObject><text x=\"311\" y=\"95\" fill=\"#000000\" font-family=\"Georgia\" font-size=\"28px\" text-anchor=\"middle\">F</text></switch></g><path d=\"M 20.5 56 L 51.26 56\" fill=\"none\" stroke=\"#000000\" stroke-width=\"2\" stroke-miterlimit=\"10\" pointer-events=\"stroke\"/><path d=\"M 57.26 56 L 49.26 60 L 51.26 56 L 49.26 52 Z\" fill=\"#000000\" stroke=\"#000000\" stroke-width=\"2\" stroke-miterlimit=\"10\" pointer-events=\"all\"/><g transform=\"translate(-0.5 -0.5)\"><switch><foreignObject style=\"overflow: visible; text-align: left;\" pointer-events=\"none\" width=\"100%\" height=\"100%\" requiredFeatures=\"http://www.w3.org/TR/SVG11/feature#Extensibility\"><div xmlns=\"http://www.w3.org/1999/xhtml\" style=\"display: flex; align-items: unsafe center; justify-content: unsafe center; width: 1px; height: 1px; padding-top: 54px; margin-left: 87px;\"><div style=\"box-sizing: border-box; font-size: 0; text-align: center; \"><div style=\"display: inline-block; font-size: 11px; font-family: Helvetica; color: #000000; line-height: 1.2; pointer-events: all; background-color: #ffffff; white-space: nowrap; \"><i style=\"font-family: &quot;georgia&quot; ; font-size: 20px\">v</i><span style=\"font-family: &quot;georgia&quot; ; font-size: 20px\"><sub>0</sub></span></div></div></div></foreignObject><text x=\"87\" y=\"57\" fill=\"#000000\" font-family=\"Helvetica\" font-size=\"11px\" text-anchor=\"middle\">v0</text></switch></g><g transform=\"translate(-0.5 -0.5)\"><switch><foreignObject style=\"overflow: visible; text-align: left;\" pointer-events=\"none\" width=\"100%\" height=\"100%\" requiredFeatures=\"http://www.w3.org/TR/SVG11/feature#Extensibility\"><div xmlns=\"http://www.w3.org/1999/xhtml\" style=\"display: flex; align-items: unsafe center; justify-content: unsafe center; width: 1px; height: 1px; padding-top: 17px; margin-left: 11px;\"><div style=\"box-sizing: border-box; font-size: 0; text-align: center; \"><div style=\"display: inline-block; font-size: 20px; font-family: Georgia; color: #E3E3E3; line-height: 1.2; pointer-events: all; background-color: #ffffff; white-space: nowrap; \"><i style=\"font-size: 20px\"><font color=\"#000000\" style=\"font-size: 20px\">t</font></i></div></div></div></foreignObject><text x=\"11\" y=\"23\" fill=\"#E3E3E3\" font-family=\"Georgia\" font-size=\"20px\" text-anchor=\"middle\">t</text></switch></g><rect x=\"400\" y=\"76\" width=\"80\" height=\"80\" fill=\"#ffcce6\" stroke=\"#000000\" pointer-events=\"all\"/><g transform=\"translate(-0.5 -0.5)\"><switch><foreignObject style=\"overflow: visible; text-align: left;\" pointer-events=\"none\" width=\"100%\" height=\"100%\" requiredFeatures=\"http://www.w3.org/TR/SVG11/feature#Extensibility\"><div xmlns=\"http://www.w3.org/1999/xhtml\" style=\"display: flex; align-items: unsafe center; justify-content: unsafe center; width: 78px; height: 1px; padding-top: 116px; margin-left: 401px;\"><div style=\"box-sizing: border-box; font-size: 0; text-align: center; \"><div style=\"display: inline-block; font-size: 12px; font-family: Helvetica; color: #000000; line-height: 1.2; pointer-events: all; white-space: normal; word-wrap: normal; \"><font style=\"font-size: 28px\" face=\"Georgia\"><i>m</i></font></div></div></div></foreignObject><text x=\"440\" y=\"120\" fill=\"#000000\" font-family=\"Helvetica\" font-size=\"12px\" text-anchor=\"middle\">m</text></switch></g><path d=\"M 400 56 L 471.26 56\" fill=\"none\" stroke=\"#000000\" stroke-width=\"2\" stroke-miterlimit=\"10\" pointer-events=\"stroke\"/><path d=\"M 477.26 56 L 469.26 60 L 471.26 56 L 469.26 52 Z\" fill=\"#000000\" stroke=\"#000000\" stroke-width=\"2\" stroke-miterlimit=\"10\" pointer-events=\"all\"/><g transform=\"translate(-0.5 -0.5)\"><switch><foreignObject style=\"overflow: visible; text-align: left;\" pointer-events=\"none\" width=\"100%\" height=\"100%\" requiredFeatures=\"http://www.w3.org/TR/SVG11/feature#Extensibility\"><div xmlns=\"http://www.w3.org/1999/xhtml\" style=\"display: flex; align-items: unsafe center; justify-content: unsafe center; width: 1px; height: 1px; padding-top: 54px; margin-left: 493px;\"><div style=\"box-sizing: border-box; font-size: 0; text-align: center; \"><div style=\"display: inline-block; font-size: 11px; font-family: Helvetica; color: #000000; line-height: 1.2; pointer-events: all; background-color: #ffffff; white-space: nowrap; \"><i style=\"font-family: &quot;georgia&quot; ; font-size: 20px\">v</i><span style=\"font-family: &quot;georgia&quot; ; font-size: 20px\"><sub>1</sub></span></div></div></div></foreignObject><text x=\"493\" y=\"57\" fill=\"#000000\" font-family=\"Helvetica\" font-size=\"11px\" text-anchor=\"middle\">v1</text></switch></g><g transform=\"translate(-0.5 -0.5)\"><switch><foreignObject style=\"overflow: visible; text-align: left;\" pointer-events=\"none\" width=\"100%\" height=\"100%\" requiredFeatures=\"http://www.w3.org/TR/SVG11/feature#Extensibility\"><div xmlns=\"http://www.w3.org/1999/xhtml\" style=\"display: flex; align-items: unsafe center; justify-content: unsafe center; width: 1px; height: 1px; padding-top: 17px; margin-left: 420px;\"><div style=\"box-sizing: border-box; font-size: 0; text-align: center; \"><div style=\"display: inline-block; font-size: 28px; font-family: Georgia; color: #E3E3E3; line-height: 1.2; pointer-events: all; background-color: #ffffff; white-space: nowrap; \"><font color=\"#000000\" size=\"1\"><i style=\"font-size: 20px\">t+<span style=\"background-color: rgb(255 , 255 , 0)\">Δt</span></i></font></div></div></div></foreignObject><text x=\"420\" y=\"25\" fill=\"#E3E3E3\" font-family=\"Georgia\" font-size=\"28px\" text-anchor=\"middle\">t+Δt</text></switch></g><path d=\"M 80.5 120.5 L 80.5 110.5 L 140.5 110.5 L 140.5 100 L 159.5 115.5 L 140.5 131 L 140.5 120.5 Z\" fill=\"#ffffcc\" stroke=\"#e3e3e3\" stroke-linejoin=\"round\" stroke-miterlimit=\"10\" pointer-events=\"all\"/><g transform=\"translate(-0.5 -0.5)\"><switch><foreignObject style=\"overflow: visible; text-align: left;\" pointer-events=\"none\" width=\"100%\" height=\"100%\" requiredFeatures=\"http://www.w3.org/TR/SVG11/feature#Extensibility\"><div xmlns=\"http://www.w3.org/1999/xhtml\" style=\"display: flex; align-items: unsafe center; justify-content: unsafe center; width: 1px; height: 1px; padding-top: 87px; margin-left: 111px;\"><div style=\"box-sizing: border-box; font-size: 0; text-align: center; \"><div style=\"display: inline-block; font-size: 28px; font-family: Georgia; color: #E3E3E3; line-height: 1.2; pointer-events: all; white-space: nowrap; \"><font style=\"font-size: 28px\"><i style=\"font-size: 28px\">F</i></font></div></div></div></foreignObject><text x=\"111\" y=\"95\" fill=\"#E3E3E3\" font-family=\"Georgia\" font-size=\"28px\" text-anchor=\"middle\">F</text></switch></g><path d=\"M 480.5 120.5 L 480.5 110.5 L 540.5 110.5 L 540.5 100 L 559.5 115.5 L 540.5 131 L 540.5 120.5 Z\" fill=\"#ffffcc\" stroke=\"#e3e3e3\" stroke-linejoin=\"round\" stroke-miterlimit=\"10\" pointer-events=\"all\"/><g transform=\"translate(-0.5 -0.5)\"><switch><foreignObject style=\"overflow: visible; text-align: left;\" pointer-events=\"none\" width=\"100%\" height=\"100%\" requiredFeatures=\"http://www.w3.org/TR/SVG11/feature#Extensibility\"><div xmlns=\"http://www.w3.org/1999/xhtml\" style=\"display: flex; align-items: unsafe center; justify-content: unsafe center; width: 1px; height: 1px; padding-top: 87px; margin-left: 511px;\"><div style=\"box-sizing: border-box; font-size: 0; text-align: center; \"><div style=\"display: inline-block; font-size: 28px; font-family: Georgia; color: #E3E3E3; line-height: 1.2; pointer-events: all; white-space: nowrap; \"><font style=\"font-size: 28px\"><i style=\"font-size: 28px\">F</i></font></div></div></div></foreignObject><text x=\"511\" y=\"95\" fill=\"#E3E3E3\" font-family=\"Georgia\" font-size=\"28px\" text-anchor=\"middle\">F</text></switch></g></g><switch><g requiredFeatures=\"http://www.w3.org/TR/SVG11/feature#Extensibility\"/><a transform=\"translate(0,-5)\" xlink:href=\"https://desk.draw.io/support/solutions/articles/16000042487\" target=\"_blank\"><text text-anchor=\"middle\" font-size=\"10px\" x=\"50%\" y=\"100%\">Viewer does not support full SVG 1.1</text></a></switch></svg>"
      ],
      "execution_count": null,
      "outputs": [
        {
          "output_type": "display_data",
          "data": {
            "text/plain": [
              "<IPython.core.display.SVG object>"
            ],
            "image/svg+xml": "<svg content=\"&lt;mxfile host=&quot;www.draw.io&quot; modified=&quot;2020-07-28T04:06:01.563Z&quot; agent=&quot;5.0 (Macintosh; Intel Mac OS X 10_10_5) AppleWebKit/537.36 (KHTML, like Gecko) Chrome/84.0.4147.89 Safari/537.36&quot; etag=&quot;uszoPSZLtJ-op28LENgN&quot; version=&quot;13.4.9&quot; type=&quot;google&quot;&gt;&lt;diagram id=&quot;BAC7zPwmUtZKl-VuagtM&quot; name=&quot;Page-1&quot;&gt;7Vpdb6s2GP41SNtFKjCBkMuGJmebNmlTLyadOwcc4h2DmXGaZL9+Nth8BUJOS5ucto3UkAf7tf1+PH5wYth+fPjCYLr9g4aIGMAMD4b9YADgOZ74L4FjAVim5xRIxHCosAp4xP8h3VChOxyirNGQU0o4TptgQJMEBbyBQcbovtlsQ0lz1BRG6AR4DCA5Rf/GId8WqOPZFf4LwtFWjTy11I0Y6rZqIdkWhnRfg+ylYfuMUl5cxQcfEek77Zai36rnbjkvhhJ+SQfntxX+Ovv16yY4Yk5W/wD3r+NEWXmCZKfWawCXCHuLDRVmxaz5UXnC/XdH9Y1JlsfpXjQAXnqobkoPw6DZ4QuiLMKw3siN1Hs+FNZArBGxCtxuJbBiThoGjemB/RZz9JgWo+9FMopGWx4T8ckSlzBLi/TY4AMK5TowIT4llOXdbd9fib/S8BNiHB16XW2VARSJj2iMODuKJirJwVTFfF9ljKegbS1ZNAZVjkalpSqO4kKF8jvCOr1OWEURan9WoI08+brl8Cc0QS+MvOoATBXSW8kEpyMTWp4TxJTKyw1Bh3vJmMIVKAnV5UNAYJbhoOnOVvHI0hEr1y5E4QmnDjqw5iCnw0EaY4hAjp+a5ru8pkb4k+I84XV8vFZ8ZvM7p2kkozsWINWvzqctU7Y7aIpDFiF+YioPZLn058fWHb3KTwrzUhNF7M01DL5FjO6ScKKoQDZh0fon4DiyFfBll9q1+fPp+KuX8IDMvd/hWqiQZv0THCUym0UeIjGvhSxzLLb5e3UjxmEobSwYEouD69yeXFYqw5cH1FkYzoNAiDS/KJfaqgPfV05SWgZ46vMKxpjIZNHMeYZxlJpR06hERL2Q+uu9l54m5p3wfiNttQR4YWFN5k2rttkuBrrZZOhV6mA2zHFDfJZxRr+VAg/8CExWOljzD2jtIZcSmTMfsvTKPOb18tgZBtqoarrPqcSFcVqoDXsq3qNSmzTxkqjaJGZ28eDTOR7KUphcdXblRHZrDZm1CdfgOprP+nrUOT7hzc4SnnkHZs3ktkepvmmrx+uRG+hScN+zP8vkyXOgJ3+UVuiU7mb+15D4zx+Q927hXVX29rlZ37PN/j1bwrUtf5m/rpDaYi+3TOC+ymYOZq0tYfJ2CW99nklUctL3l+44T6bTW3sytboeX969bDsJw3NV23R2bdlmdenuT932DN1mfUDdVpT/exZug8czF0su/aWIxqyXntl0JqaY0nCVjHPCY/hLYz7lvQl+08c/F57tvJ1OHCgleehjunajmEbSiVZ7D5rY8zerL3NYP4x0tJ0f6RVaoz+it6s5xjvztq5+5g1Gejo490R8+bl3l5Uf9PRafQd2c+RW+67845xoayr75LZBPTceuTnXJzf7k9w+FrmBd0Vu4mP1e6aiefWjMHv5Pw==&lt;/diagram&gt;&lt;/mxfile&gt;\" onclick=\"(function(svg){var src=window.event.target||window.event.srcElement;while (src!=null&amp;&amp;src.nodeName.toLowerCase()!='a'){src=src.parentNode;}if(src==null){if(svg.wnd!=null&amp;&amp;!svg.wnd.closed){svg.wnd.focus();}else{var r=function(evt){if(evt.data=='ready'&amp;&amp;evt.source==svg.wnd){svg.wnd.postMessage(decodeURIComponent(svg.getAttribute('content')),'*');window.removeEventListener('message',r);}};window.addEventListener('message',r);svg.wnd=window.open('https://viewer.diagrams.net/?client=1&amp;edit=_blank');}}})(this);\" style=\"cursor:pointer;max-width:100%;max-height:157px;\" version=\"1.1\" viewBox=\"-0.5 -0.5 561 157\" width=\"561px\" xmlns=\"http://www.w3.org/2000/svg\" xmlns:xlink=\"http://www.w3.org/1999/xlink\"><defs/><g><rect fill=\"#ccffff\" height=\"80\" pointer-events=\"all\" stroke=\"#000000\" width=\"80\" x=\"0\" y=\"76\"/><g transform=\"translate(-0.5 -0.5)\"><switch><foreignObject height=\"100%\" pointer-events=\"none\" requiredFeatures=\"http://www.w3.org/TR/SVG11/feature#Extensibility\" style=\"overflow: visible; text-align: left;\" width=\"100%\"><div style=\"display: flex; align-items: unsafe center; justify-content: unsafe center; width: 78px; height: 1px; padding-top: 116px; margin-left: 1px;\" xmlns=\"http://www.w3.org/1999/xhtml\"><div style=\"box-sizing: border-box; font-size: 0; text-align: center; \"><div style=\"display: inline-block; font-size: 12px; font-family: Helvetica; color: #000000; line-height: 1.2; pointer-events: all; white-space: normal; word-wrap: normal; \"><font face=\"Georgia\" style=\"font-size: 28px\"><i>m</i></font></div></div></div></foreignObject><text fill=\"#000000\" font-family=\"Helvetica\" font-size=\"12px\" text-anchor=\"middle\" x=\"40\" y=\"120\">m</text></switch></g><rect fill=\"none\" height=\"80\" pointer-events=\"all\" stroke=\"#000000\" width=\"80\" x=\"200\" y=\"76\"/><g transform=\"translate(-0.5 -0.5)\"><switch><foreignObject height=\"100%\" pointer-events=\"none\" requiredFeatures=\"http://www.w3.org/TR/SVG11/feature#Extensibility\" style=\"overflow: visible; text-align: left;\" width=\"100%\"><div style=\"display: flex; align-items: unsafe center; justify-content: unsafe center; width: 78px; height: 1px; padding-top: 116px; margin-left: 201px;\" xmlns=\"http://www.w3.org/1999/xhtml\"><div style=\"box-sizing: border-box; font-size: 0; text-align: center; \"><div style=\"display: inline-block; font-size: 12px; font-family: Helvetica; color: #000000; line-height: 1.2; pointer-events: all; white-space: normal; word-wrap: normal; \"><font color=\"#e8e8e8\" face=\"Georgia\" style=\"font-size: 28px\"><i>m</i></font></div></div></div></foreignObject><text fill=\"#000000\" font-family=\"Helvetica\" font-size=\"12px\" text-anchor=\"middle\" x=\"240\" y=\"120\">m</text></switch></g><path d=\"M 280.5 120.5 L 280.5 110.5 L 340.5 110.5 L 340.5 100 L 359.5 115.5 L 340.5 131 L 340.5 120.5 Z\" fill=\"#ffff00\" pointer-events=\"all\" stroke=\"#000000\" stroke-linejoin=\"round\" stroke-miterlimit=\"10\"/><g transform=\"translate(-0.5 -0.5)\"><switch><foreignObject height=\"100%\" pointer-events=\"none\" requiredFeatures=\"http://www.w3.org/TR/SVG11/feature#Extensibility\" style=\"overflow: visible; text-align: left;\" width=\"100%\"><div style=\"display: flex; align-items: unsafe center; justify-content: unsafe center; width: 1px; height: 1px; padding-top: 87px; margin-left: 311px;\" xmlns=\"http://www.w3.org/1999/xhtml\"><div style=\"box-sizing: border-box; font-size: 0; text-align: center; \"><div style=\"display: inline-block; font-size: 28px; font-family: Georgia; color: #000000; line-height: 1.2; pointer-events: all; background-color: #FFFFCC; white-space: nowrap; \"><font style=\"font-size: 28px\"><i style=\"font-size: 28px ; background-color: rgb(255 , 255 , 0)\">F</i></font></div></div></div></foreignObject><text fill=\"#000000\" font-family=\"Georgia\" font-size=\"28px\" text-anchor=\"middle\" x=\"311\" y=\"95\">F</text></switch></g><path d=\"M 20.5 56 L 51.26 56\" fill=\"none\" pointer-events=\"stroke\" stroke=\"#000000\" stroke-miterlimit=\"10\" stroke-width=\"2\"/><path d=\"M 57.26 56 L 49.26 60 L 51.26 56 L 49.26 52 Z\" fill=\"#000000\" pointer-events=\"all\" stroke=\"#000000\" stroke-miterlimit=\"10\" stroke-width=\"2\"/><g transform=\"translate(-0.5 -0.5)\"><switch><foreignObject height=\"100%\" pointer-events=\"none\" requiredFeatures=\"http://www.w3.org/TR/SVG11/feature#Extensibility\" style=\"overflow: visible; text-align: left;\" width=\"100%\"><div style=\"display: flex; align-items: unsafe center; justify-content: unsafe center; width: 1px; height: 1px; padding-top: 54px; margin-left: 87px;\" xmlns=\"http://www.w3.org/1999/xhtml\"><div style=\"box-sizing: border-box; font-size: 0; text-align: center; \"><div style=\"display: inline-block; font-size: 11px; font-family: Helvetica; color: #000000; line-height: 1.2; pointer-events: all; background-color: #ffffff; white-space: nowrap; \"><i style=\"font-family: &quot;georgia&quot; ; font-size: 20px\">v</i><span style=\"font-family: &quot;georgia&quot; ; font-size: 20px\"><sub>0</sub></span></div></div></div></foreignObject><text fill=\"#000000\" font-family=\"Helvetica\" font-size=\"11px\" text-anchor=\"middle\" x=\"87\" y=\"57\">v0</text></switch></g><g transform=\"translate(-0.5 -0.5)\"><switch><foreignObject height=\"100%\" pointer-events=\"none\" requiredFeatures=\"http://www.w3.org/TR/SVG11/feature#Extensibility\" style=\"overflow: visible; text-align: left;\" width=\"100%\"><div style=\"display: flex; align-items: unsafe center; justify-content: unsafe center; width: 1px; height: 1px; padding-top: 17px; margin-left: 11px;\" xmlns=\"http://www.w3.org/1999/xhtml\"><div style=\"box-sizing: border-box; font-size: 0; text-align: center; \"><div style=\"display: inline-block; font-size: 20px; font-family: Georgia; color: #E3E3E3; line-height: 1.2; pointer-events: all; background-color: #ffffff; white-space: nowrap; \"><i style=\"font-size: 20px\"><font color=\"#000000\" style=\"font-size: 20px\">t</font></i></div></div></div></foreignObject><text fill=\"#E3E3E3\" font-family=\"Georgia\" font-size=\"20px\" text-anchor=\"middle\" x=\"11\" y=\"23\">t</text></switch></g><rect fill=\"#ffcce6\" height=\"80\" pointer-events=\"all\" stroke=\"#000000\" width=\"80\" x=\"400\" y=\"76\"/><g transform=\"translate(-0.5 -0.5)\"><switch><foreignObject height=\"100%\" pointer-events=\"none\" requiredFeatures=\"http://www.w3.org/TR/SVG11/feature#Extensibility\" style=\"overflow: visible; text-align: left;\" width=\"100%\"><div style=\"display: flex; align-items: unsafe center; justify-content: unsafe center; width: 78px; height: 1px; padding-top: 116px; margin-left: 401px;\" xmlns=\"http://www.w3.org/1999/xhtml\"><div style=\"box-sizing: border-box; font-size: 0; text-align: center; \"><div style=\"display: inline-block; font-size: 12px; font-family: Helvetica; color: #000000; line-height: 1.2; pointer-events: all; white-space: normal; word-wrap: normal; \"><font face=\"Georgia\" style=\"font-size: 28px\"><i>m</i></font></div></div></div></foreignObject><text fill=\"#000000\" font-family=\"Helvetica\" font-size=\"12px\" text-anchor=\"middle\" x=\"440\" y=\"120\">m</text></switch></g><path d=\"M 400 56 L 471.26 56\" fill=\"none\" pointer-events=\"stroke\" stroke=\"#000000\" stroke-miterlimit=\"10\" stroke-width=\"2\"/><path d=\"M 477.26 56 L 469.26 60 L 471.26 56 L 469.26 52 Z\" fill=\"#000000\" pointer-events=\"all\" stroke=\"#000000\" stroke-miterlimit=\"10\" stroke-width=\"2\"/><g transform=\"translate(-0.5 -0.5)\"><switch><foreignObject height=\"100%\" pointer-events=\"none\" requiredFeatures=\"http://www.w3.org/TR/SVG11/feature#Extensibility\" style=\"overflow: visible; text-align: left;\" width=\"100%\"><div style=\"display: flex; align-items: unsafe center; justify-content: unsafe center; width: 1px; height: 1px; padding-top: 54px; margin-left: 493px;\" xmlns=\"http://www.w3.org/1999/xhtml\"><div style=\"box-sizing: border-box; font-size: 0; text-align: center; \"><div style=\"display: inline-block; font-size: 11px; font-family: Helvetica; color: #000000; line-height: 1.2; pointer-events: all; background-color: #ffffff; white-space: nowrap; \"><i style=\"font-family: &quot;georgia&quot; ; font-size: 20px\">v</i><span style=\"font-family: &quot;georgia&quot; ; font-size: 20px\"><sub>1</sub></span></div></div></div></foreignObject><text fill=\"#000000\" font-family=\"Helvetica\" font-size=\"11px\" text-anchor=\"middle\" x=\"493\" y=\"57\">v1</text></switch></g><g transform=\"translate(-0.5 -0.5)\"><switch><foreignObject height=\"100%\" pointer-events=\"none\" requiredFeatures=\"http://www.w3.org/TR/SVG11/feature#Extensibility\" style=\"overflow: visible; text-align: left;\" width=\"100%\"><div style=\"display: flex; align-items: unsafe center; justify-content: unsafe center; width: 1px; height: 1px; padding-top: 17px; margin-left: 420px;\" xmlns=\"http://www.w3.org/1999/xhtml\"><div style=\"box-sizing: border-box; font-size: 0; text-align: center; \"><div style=\"display: inline-block; font-size: 28px; font-family: Georgia; color: #E3E3E3; line-height: 1.2; pointer-events: all; background-color: #ffffff; white-space: nowrap; \"><font color=\"#000000\" size=\"1\"><i style=\"font-size: 20px\">t+<span style=\"background-color: rgb(255 , 255 , 0)\">Δt</span></i></font></div></div></div></foreignObject><text fill=\"#E3E3E3\" font-family=\"Georgia\" font-size=\"28px\" text-anchor=\"middle\" x=\"420\" y=\"25\">t+Δt</text></switch></g><path d=\"M 80.5 120.5 L 80.5 110.5 L 140.5 110.5 L 140.5 100 L 159.5 115.5 L 140.5 131 L 140.5 120.5 Z\" fill=\"#ffffcc\" pointer-events=\"all\" stroke=\"#e3e3e3\" stroke-linejoin=\"round\" stroke-miterlimit=\"10\"/><g transform=\"translate(-0.5 -0.5)\"><switch><foreignObject height=\"100%\" pointer-events=\"none\" requiredFeatures=\"http://www.w3.org/TR/SVG11/feature#Extensibility\" style=\"overflow: visible; text-align: left;\" width=\"100%\"><div style=\"display: flex; align-items: unsafe center; justify-content: unsafe center; width: 1px; height: 1px; padding-top: 87px; margin-left: 111px;\" xmlns=\"http://www.w3.org/1999/xhtml\"><div style=\"box-sizing: border-box; font-size: 0; text-align: center; \"><div style=\"display: inline-block; font-size: 28px; font-family: Georgia; color: #E3E3E3; line-height: 1.2; pointer-events: all; white-space: nowrap; \"><font style=\"font-size: 28px\"><i style=\"font-size: 28px\">F</i></font></div></div></div></foreignObject><text fill=\"#E3E3E3\" font-family=\"Georgia\" font-size=\"28px\" text-anchor=\"middle\" x=\"111\" y=\"95\">F</text></switch></g><path d=\"M 480.5 120.5 L 480.5 110.5 L 540.5 110.5 L 540.5 100 L 559.5 115.5 L 540.5 131 L 540.5 120.5 Z\" fill=\"#ffffcc\" pointer-events=\"all\" stroke=\"#e3e3e3\" stroke-linejoin=\"round\" stroke-miterlimit=\"10\"/><g transform=\"translate(-0.5 -0.5)\"><switch><foreignObject height=\"100%\" pointer-events=\"none\" requiredFeatures=\"http://www.w3.org/TR/SVG11/feature#Extensibility\" style=\"overflow: visible; text-align: left;\" width=\"100%\"><div style=\"display: flex; align-items: unsafe center; justify-content: unsafe center; width: 1px; height: 1px; padding-top: 87px; margin-left: 511px;\" xmlns=\"http://www.w3.org/1999/xhtml\"><div style=\"box-sizing: border-box; font-size: 0; text-align: center; \"><div style=\"display: inline-block; font-size: 28px; font-family: Georgia; color: #E3E3E3; line-height: 1.2; pointer-events: all; white-space: nowrap; \"><font style=\"font-size: 28px\"><i style=\"font-size: 28px\">F</i></font></div></div></div></foreignObject><text fill=\"#E3E3E3\" font-family=\"Georgia\" font-size=\"28px\" text-anchor=\"middle\" x=\"511\" y=\"95\">F</text></switch></g></g><switch><g requiredFeatures=\"http://www.w3.org/TR/SVG11/feature#Extensibility\"/><a target=\"_blank\" transform=\"translate(0,-5)\" xlink:href=\"https://desk.draw.io/support/solutions/articles/16000042487\"><text font-size=\"10px\" text-anchor=\"middle\" x=\"50%\" y=\"100%\">Viewer does not support full SVG 1.1</text></a></switch></svg>"
          },
          "metadata": {
            "tags": []
          }
        }
      ]
    }
  ]
}