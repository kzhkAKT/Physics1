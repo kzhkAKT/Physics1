{
  "nbformat": 4,
  "nbformat_minor": 0,
  "metadata": {
    "colab": {
      "name": "1400_力積と運動量_物理1",
      "provenance": [],
      "collapsed_sections": [],
      "authorship_tag": "ABX9TyPqwYSj5cqWeM/HOSv47IoF",
      "include_colab_link": true
    },
    "kernelspec": {
      "name": "python3",
      "display_name": "Python 3"
    }
  },
  "cells": [
    {
      "cell_type": "markdown",
      "metadata": {
        "id": "view-in-github",
        "colab_type": "text"
      },
      "source": [
        "<a href=\"https://colab.research.google.com/github/kzhkAKT/Physics1/blob/draft/1400_%E5%8A%9B%E7%A9%8D%E3%81%A8%E9%81%8B%E5%8B%95%E9%87%8F_%E7%89%A9%E7%90%861.ipynb\" target=\"_parent\"><img src=\"https://colab.research.google.com/assets/colab-badge.svg\" alt=\"Open In Colab\"/></a>"
      ]
    },
    {
      "cell_type": "markdown",
      "metadata": {
        "id": "_jPPkwK_rG1q",
        "colab_type": "text"
      },
      "source": [
        "# 力積と運動量"
      ]
    },
    {
      "cell_type": "markdown",
      "metadata": {
        "id": "m0uwT-WJrJ-M",
        "colab_type": "text"
      },
      "source": [
        "## 復習: 平均の速度 $\\overline{v}$\n",
        "\n",
        "$t_0 < t_1$ でそれぞれの時刻での速度を $v_0 , v_1$  とします.  \n",
        "つまり 0:始め で 1:後 とです.\n",
        "\n",
        "\\begin{align*}\n",
        "\\overline{v} &= \\dfrac{\\Delta x}{\\Delta t} \n",
        "= \\dfrac{x_1 - x_0 }{t_1 - t_0}&\\\\\n",
        "\\end{align*}\n",
        "\n",
        "一番目の等式を左から右に読んで\n",
        "> $x-t$ グラフの傾きが平均の速度になる\n",
        "\n",
        "一番目の等式を変形すると\n",
        "\\begin{align*}\n",
        "\\Delta x &= \\overline{v} \\Delta t&\n",
        "\\end{align*}\n",
        "\n",
        "この式を左から右に読んで\n",
        "> $v-t$ グラフの面積が変位になる\n",
        "\n",
        "\n",
        "## 復習: 平均の加速度 $\\overline{a}$\n",
        "\n",
        "\\begin{align*}\n",
        "\\overline{a} &= \\dfrac{\\Delta v}{\\Delta t}\n",
        "= \\dfrac{v_1 - v_0 }{t_1 - t_0}&\n",
        "\\end{align*}\n",
        "\n",
        "\n",
        "一番目の等式を左から右に読んで\n",
        "> $v-t$ グラフの傾きが平均の加速度になる\n",
        "\n",
        "一番目の等式を変形すると\n",
        "\\begin{align*}\n",
        "\\Delta v &= \\overline{a} \\Delta t&\n",
        "\\end{align*}\n",
        "\n",
        "この式を左から右に読んで\n",
        "> $a-t$ グラフの面積が速度変化になる\n",
        "\n",
        "### $\\Delta t \\to 0$ 平均から瞬間へ\n",
        "\n",
        "上で調べた関係は, 瞬間の速度では\n",
        "- 接線の傾きや\n",
        "- $t$軸と囲まれた面積\n",
        "\n",
        "になりました.\n",
        "\n",
        ">> 運動方程式では**瞬間を捉える**\n",
        "\n",
        "ことを意識してきました.\n"
      ]
    },
    {
      "cell_type": "markdown",
      "metadata": {
        "id": "QHsAFyBytJ_S",
        "colab_type": "text"
      },
      "source": [
        "$\\require{cancel}$\n",
        "## 力積と運動量: 運動方程式の変形\n",
        "\n",
        "加速度を平均の考え方を利用し\n",
        "\\begin{align*}\n",
        "a = \\dfrac{\\Delta v}{\\Delta t}\n",
        "\\end{align*}\n",
        "と表記します. (短い時間だけ観測していると考えればこの考えは悪いものではありません)\n",
        "\n",
        "一方, 質量 $m$ の物体に働く運動方程式は, 物体に働く力を $F$, 物体の加速度 $a$ とすると\n",
        "\\begin{align*}\n",
        "m a &= F.&\n",
        "\\end{align*}\n",
        "\n",
        "加速度の定義式を運動方程式に代入し整理してみましょう.\n",
        "\\begin{align*}\n",
        "m \\left( \\dfrac{\\Delta v}{\\Delta t}\\right) &= F&\\\\\n",
        "m \\left( \\dfrac{\\Delta v}{\\bcancel{\\Delta t}}\\right) \\bcancel{\\Delta t} &= F \\Delta t&\\\\\n",
        "m \\Delta v &= F \\Delta t&\n",
        "\\end{align*}\n",
        "ここで速度変化 $\\Delta v$ を\n",
        "\\begin{align*}\n",
        "\\Delta v &= v_1 - v_0&\n",
        "\\end{align*}\n",
        "に戻すと\n",
        "\\begin{align*}\n",
        "m \\left( v_1 - v_0 \\right) &= F \\Delta t&\\\\\n",
        "m v_1 - m v_0 &= F \\Delta t&\n",
        "\\end{align*}\n",
        "\n",
        "\n"
      ]
    },
    {
      "cell_type": "markdown",
      "metadata": {
        "id": "Uo64H0bjvuBX",
        "colab_type": "text"
      },
      "source": [
        "> この式と 教科書 上巻 p35 (1.21) を比較してください."
      ]
    },
    {
      "cell_type": "markdown",
      "metadata": {
        "id": "RSlHeJCGv02f",
        "colab_type": "text"
      },
      "source": [
        "### 運動量変化と力積\n",
        "\n",
        "導出した式の意味を考えてみます.\n",
        "- 左辺は, **質量**$\\times$**速度** という量の変化を示しています\n",
        "- 右辺は, **力** と **時間**変化 の **積** になっています.\n",
        "\n",
        "ここで新しい物理量を二つ定義します.\n",
        "\n",
        "- **運動量** = **質量**$\\times$**速度**, 単位 ${\\rm kg\\ m/s}$\n",
        "- **力積** = **力**$\\times$**時間**変化, 単位 ${\\rm N s}$\n",
        "\n",
        "> Q. 力積の単位を変形し, 運動量の単位が得られることを確認してください.\n",
        "\n",
        "これらの新しい言葉を利用すると上で得られた関係式は\n",
        "\n",
        ">> **運動量の変化は加えられた力積に等しい**\n",
        "\n",
        "ということができます."
      ]
    }
  ]
}