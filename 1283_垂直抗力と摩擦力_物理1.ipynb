{
  "nbformat": 4,
  "nbformat_minor": 0,
  "metadata": {
    "colab": {
      "name": "1283_垂直抗力と摩擦力_物理1.ipynb",
      "provenance": [],
      "authorship_tag": "ABX9TyP7We7TGzMSj1oLc+mLeVyq",
      "include_colab_link": true
    },
    "kernelspec": {
      "name": "python3",
      "display_name": "Python 3"
    }
  },
  "cells": [
    {
      "cell_type": "markdown",
      "metadata": {
        "id": "view-in-github",
        "colab_type": "text"
      },
      "source": [
        "<a href=\"https://colab.research.google.com/github/kzhkAKT/Physics1/blob/draft/1283_%E5%9E%82%E7%9B%B4%E6%8A%97%E5%8A%9B%E3%81%A8%E6%91%A9%E6%93%A6%E5%8A%9B_%E7%89%A9%E7%90%861.ipynb\" target=\"_parent\"><img src=\"https://colab.research.google.com/assets/colab-badge.svg\" alt=\"Open In Colab\"/></a>"
      ]
    },
    {
      "cell_type": "markdown",
      "metadata": {
        "id": "0juxvOgvalHs",
        "colab_type": "text"
      },
      "source": [
        "# 力と運動"
      ]
    },
    {
      "cell_type": "markdown",
      "metadata": {
        "id": "yMT7m9Wmamv4",
        "colab_type": "text"
      },
      "source": [
        "## 力と運動の法則\n"
      ]
    },
    {
      "cell_type": "markdown",
      "metadata": {
        "id": "QQsJpK9-asOC",
        "colab_type": "text"
      },
      "source": [
        "### 垂直抗力と摩擦力"
      ]
    },
    {
      "cell_type": "markdown",
      "metadata": {
        "id": "Hjad8BONavMa",
        "colab_type": "text"
      },
      "source": [
        "#### 動摩擦力"
      ]
    },
    {
      "cell_type": "code",
      "metadata": {
        "id": "yNSDEvACEWoy",
        "colab_type": "code",
        "colab": {}
      },
      "source": [
        ""
      ],
      "execution_count": null,
      "outputs": []
    }
  ]
}