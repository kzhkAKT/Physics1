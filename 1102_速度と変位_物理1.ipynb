{
  "nbformat": 4,
  "nbformat_minor": 0,
  "metadata": {
    "colab": {
      "name": "1102_速度と変位_物理1",
      "provenance": [],
      "mount_file_id": "1ko3fj7Et3uUihh--l0FmQ631VQEkUGDP",
      "authorship_tag": "ABX9TyNC9w6b1xBLWSWz2QU/I1Hu",
      "include_colab_link": true
    },
    "kernelspec": {
      "name": "python3",
      "display_name": "Python 3"
    },
    "widgets": {
      "application/vnd.jupyter.widget-state+json": {
        "93f33338d0384b0b8ce861f7013718f9": {
          "model_module": "@jupyter-widgets/controls",
          "model_name": "VBoxModel",
          "model_module_version": "1.5.0",
          "state": {
            "_dom_classes": [
              "widget-interact"
            ],
            "_model_module": "@jupyter-widgets/controls",
            "_model_module_version": "1.5.0",
            "_model_name": "VBoxModel",
            "_view_count": null,
            "_view_module": "@jupyter-widgets/controls",
            "_view_module_version": "1.5.0",
            "_view_name": "VBoxView",
            "box_style": "",
            "children": [
              "IPY_MODEL_aa521dfd615b4ac48f003d801dfd5b8c",
              "IPY_MODEL_077963733d1c4ab6b59d176fe39ead68",
              "IPY_MODEL_25cbdbb4dfc94751ab7ace5833a2f0eb",
              "IPY_MODEL_6cd957271fd940ab93fed564d3c3d629"
            ],
            "layout": "IPY_MODEL_8e2190a002894646a742484ef3333cd8"
          }
        },
        "aa521dfd615b4ac48f003d801dfd5b8c": {
          "model_module": "@jupyter-widgets/controls",
          "model_name": "IntSliderModel",
          "model_module_version": "1.5.0",
          "state": {
            "_dom_classes": [],
            "_model_module": "@jupyter-widgets/controls",
            "_model_module_version": "1.5.0",
            "_model_name": "IntSliderModel",
            "_view_count": null,
            "_view_module": "@jupyter-widgets/controls",
            "_view_module_version": "1.5.0",
            "_view_name": "IntSliderView",
            "continuous_update": true,
            "description": "x0",
            "description_tooltip": null,
            "disabled": false,
            "layout": "IPY_MODEL_c293e196957a4e4aaf707272422a1ce0",
            "max": 7000,
            "min": 0,
            "orientation": "horizontal",
            "readout": true,
            "readout_format": "d",
            "step": 500,
            "style": "IPY_MODEL_4c03365970e842038ace89267b77360d",
            "value": 6000
          }
        },
        "077963733d1c4ab6b59d176fe39ead68": {
          "model_module": "@jupyter-widgets/controls",
          "model_name": "IntSliderModel",
          "model_module_version": "1.5.0",
          "state": {
            "_dom_classes": [],
            "_model_module": "@jupyter-widgets/controls",
            "_model_module_version": "1.5.0",
            "_model_name": "IntSliderModel",
            "_view_count": null,
            "_view_module": "@jupyter-widgets/controls",
            "_view_module_version": "1.5.0",
            "_view_name": "IntSliderView",
            "continuous_update": true,
            "description": "x ~ x-x0:",
            "description_tooltip": null,
            "disabled": false,
            "layout": "IPY_MODEL_5f693a726fb54974a0acf2a844a5946f",
            "max": 7000,
            "min": -7000,
            "orientation": "horizontal",
            "readout": true,
            "readout_format": "d",
            "step": 500,
            "style": "IPY_MODEL_f10388368e5942e7b981b52a62317c23",
            "value": -6000
          }
        },
        "25cbdbb4dfc94751ab7ace5833a2f0eb": {
          "model_module": "@jupyter-widgets/controls",
          "model_name": "IntSliderModel",
          "model_module_version": "1.5.0",
          "state": {
            "_dom_classes": [],
            "_model_module": "@jupyter-widgets/controls",
            "_model_module_version": "1.5.0",
            "_model_name": "IntSliderModel",
            "_view_count": null,
            "_view_module": "@jupyter-widgets/controls",
            "_view_module_version": "1.5.0",
            "_view_name": "IntSliderView",
            "continuous_update": true,
            "description": "t ~ t-0:",
            "description_tooltip": null,
            "disabled": false,
            "layout": "IPY_MODEL_38ae48a8a238442384086c957e2f3ec2",
            "max": 450,
            "min": 0,
            "orientation": "horizontal",
            "readout": true,
            "readout_format": "d",
            "step": 50,
            "style": "IPY_MODEL_f2c15dbe02e64ecab7b9b64db2cbdbaf",
            "value": 300
          }
        },
        "6cd957271fd940ab93fed564d3c3d629": {
          "model_module": "@jupyter-widgets/output",
          "model_name": "OutputModel",
          "model_module_version": "1.0.0",
          "state": {
            "_dom_classes": [],
            "_model_module": "@jupyter-widgets/output",
            "_model_module_version": "1.0.0",
            "_model_name": "OutputModel",
            "_view_count": null,
            "_view_module": "@jupyter-widgets/output",
            "_view_module_version": "1.0.0",
            "_view_name": "OutputView",
            "layout": "IPY_MODEL_3521129b9f0f471eb18de847ec5c67a9",
            "msg_id": "",
            "outputs": [
              {
                "output_type": "display_data",
                "data": {
                  "text/plain": "<Figure size 640x480 with 1 Axes>",
                  "image/png": "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\n"
                },
                "metadata": {}
              }
            ]
          }
        },
        "8e2190a002894646a742484ef3333cd8": {
          "model_module": "@jupyter-widgets/base",
          "model_name": "LayoutModel",
          "model_module_version": "1.2.0",
          "state": {
            "_model_module": "@jupyter-widgets/base",
            "_model_module_version": "1.2.0",
            "_model_name": "LayoutModel",
            "_view_count": null,
            "_view_module": "@jupyter-widgets/base",
            "_view_module_version": "1.2.0",
            "_view_name": "LayoutView",
            "align_content": null,
            "align_items": null,
            "align_self": null,
            "border": null,
            "bottom": null,
            "display": null,
            "flex": null,
            "flex_flow": null,
            "grid_area": null,
            "grid_auto_columns": null,
            "grid_auto_flow": null,
            "grid_auto_rows": null,
            "grid_column": null,
            "grid_gap": null,
            "grid_row": null,
            "grid_template_areas": null,
            "grid_template_columns": null,
            "grid_template_rows": null,
            "height": null,
            "justify_content": null,
            "justify_items": null,
            "left": null,
            "margin": null,
            "max_height": null,
            "max_width": null,
            "min_height": null,
            "min_width": null,
            "object_fit": null,
            "object_position": null,
            "order": null,
            "overflow": null,
            "overflow_x": null,
            "overflow_y": null,
            "padding": null,
            "right": null,
            "top": null,
            "visibility": null,
            "width": null
          }
        },
        "c293e196957a4e4aaf707272422a1ce0": {
          "model_module": "@jupyter-widgets/base",
          "model_name": "LayoutModel",
          "model_module_version": "1.2.0",
          "state": {
            "_model_module": "@jupyter-widgets/base",
            "_model_module_version": "1.2.0",
            "_model_name": "LayoutModel",
            "_view_count": null,
            "_view_module": "@jupyter-widgets/base",
            "_view_module_version": "1.2.0",
            "_view_name": "LayoutView",
            "align_content": null,
            "align_items": null,
            "align_self": null,
            "border": null,
            "bottom": null,
            "display": null,
            "flex": null,
            "flex_flow": null,
            "grid_area": null,
            "grid_auto_columns": null,
            "grid_auto_flow": null,
            "grid_auto_rows": null,
            "grid_column": null,
            "grid_gap": null,
            "grid_row": null,
            "grid_template_areas": null,
            "grid_template_columns": null,
            "grid_template_rows": null,
            "height": null,
            "justify_content": null,
            "justify_items": null,
            "left": null,
            "margin": null,
            "max_height": null,
            "max_width": null,
            "min_height": null,
            "min_width": null,
            "object_fit": null,
            "object_position": null,
            "order": null,
            "overflow": null,
            "overflow_x": null,
            "overflow_y": null,
            "padding": null,
            "right": null,
            "top": null,
            "visibility": null,
            "width": null
          }
        },
        "4c03365970e842038ace89267b77360d": {
          "model_module": "@jupyter-widgets/controls",
          "model_name": "SliderStyleModel",
          "model_module_version": "1.5.0",
          "state": {
            "_model_module": "@jupyter-widgets/controls",
            "_model_module_version": "1.5.0",
            "_model_name": "SliderStyleModel",
            "_view_count": null,
            "_view_module": "@jupyter-widgets/base",
            "_view_module_version": "1.2.0",
            "_view_name": "StyleView",
            "description_width": "",
            "handle_color": null
          }
        },
        "5f693a726fb54974a0acf2a844a5946f": {
          "model_module": "@jupyter-widgets/base",
          "model_name": "LayoutModel",
          "model_module_version": "1.2.0",
          "state": {
            "_model_module": "@jupyter-widgets/base",
            "_model_module_version": "1.2.0",
            "_model_name": "LayoutModel",
            "_view_count": null,
            "_view_module": "@jupyter-widgets/base",
            "_view_module_version": "1.2.0",
            "_view_name": "LayoutView",
            "align_content": null,
            "align_items": null,
            "align_self": null,
            "border": null,
            "bottom": null,
            "display": null,
            "flex": null,
            "flex_flow": null,
            "grid_area": null,
            "grid_auto_columns": null,
            "grid_auto_flow": null,
            "grid_auto_rows": null,
            "grid_column": null,
            "grid_gap": null,
            "grid_row": null,
            "grid_template_areas": null,
            "grid_template_columns": null,
            "grid_template_rows": null,
            "height": null,
            "justify_content": null,
            "justify_items": null,
            "left": null,
            "margin": null,
            "max_height": null,
            "max_width": null,
            "min_height": null,
            "min_width": null,
            "object_fit": null,
            "object_position": null,
            "order": null,
            "overflow": null,
            "overflow_x": null,
            "overflow_y": null,
            "padding": null,
            "right": null,
            "top": null,
            "visibility": null,
            "width": null
          }
        },
        "f10388368e5942e7b981b52a62317c23": {
          "model_module": "@jupyter-widgets/controls",
          "model_name": "SliderStyleModel",
          "model_module_version": "1.5.0",
          "state": {
            "_model_module": "@jupyter-widgets/controls",
            "_model_module_version": "1.5.0",
            "_model_name": "SliderStyleModel",
            "_view_count": null,
            "_view_module": "@jupyter-widgets/base",
            "_view_module_version": "1.2.0",
            "_view_name": "StyleView",
            "description_width": "",
            "handle_color": null
          }
        },
        "38ae48a8a238442384086c957e2f3ec2": {
          "model_module": "@jupyter-widgets/base",
          "model_name": "LayoutModel",
          "model_module_version": "1.2.0",
          "state": {
            "_model_module": "@jupyter-widgets/base",
            "_model_module_version": "1.2.0",
            "_model_name": "LayoutModel",
            "_view_count": null,
            "_view_module": "@jupyter-widgets/base",
            "_view_module_version": "1.2.0",
            "_view_name": "LayoutView",
            "align_content": null,
            "align_items": null,
            "align_self": null,
            "border": null,
            "bottom": null,
            "display": null,
            "flex": null,
            "flex_flow": null,
            "grid_area": null,
            "grid_auto_columns": null,
            "grid_auto_flow": null,
            "grid_auto_rows": null,
            "grid_column": null,
            "grid_gap": null,
            "grid_row": null,
            "grid_template_areas": null,
            "grid_template_columns": null,
            "grid_template_rows": null,
            "height": null,
            "justify_content": null,
            "justify_items": null,
            "left": null,
            "margin": null,
            "max_height": null,
            "max_width": null,
            "min_height": null,
            "min_width": null,
            "object_fit": null,
            "object_position": null,
            "order": null,
            "overflow": null,
            "overflow_x": null,
            "overflow_y": null,
            "padding": null,
            "right": null,
            "top": null,
            "visibility": null,
            "width": null
          }
        },
        "f2c15dbe02e64ecab7b9b64db2cbdbaf": {
          "model_module": "@jupyter-widgets/controls",
          "model_name": "SliderStyleModel",
          "model_module_version": "1.5.0",
          "state": {
            "_model_module": "@jupyter-widgets/controls",
            "_model_module_version": "1.5.0",
            "_model_name": "SliderStyleModel",
            "_view_count": null,
            "_view_module": "@jupyter-widgets/base",
            "_view_module_version": "1.2.0",
            "_view_name": "StyleView",
            "description_width": "",
            "handle_color": null
          }
        },
        "3521129b9f0f471eb18de847ec5c67a9": {
          "model_module": "@jupyter-widgets/base",
          "model_name": "LayoutModel",
          "model_module_version": "1.2.0",
          "state": {
            "_model_module": "@jupyter-widgets/base",
            "_model_module_version": "1.2.0",
            "_model_name": "LayoutModel",
            "_view_count": null,
            "_view_module": "@jupyter-widgets/base",
            "_view_module_version": "1.2.0",
            "_view_name": "LayoutView",
            "align_content": null,
            "align_items": null,
            "align_self": null,
            "border": null,
            "bottom": null,
            "display": null,
            "flex": null,
            "flex_flow": null,
            "grid_area": null,
            "grid_auto_columns": null,
            "grid_auto_flow": null,
            "grid_auto_rows": null,
            "grid_column": null,
            "grid_gap": null,
            "grid_row": null,
            "grid_template_areas": null,
            "grid_template_columns": null,
            "grid_template_rows": null,
            "height": "350px",
            "justify_content": null,
            "justify_items": null,
            "left": null,
            "margin": null,
            "max_height": null,
            "max_width": null,
            "min_height": null,
            "min_width": null,
            "object_fit": null,
            "object_position": null,
            "order": null,
            "overflow": null,
            "overflow_x": null,
            "overflow_y": null,
            "padding": null,
            "right": null,
            "top": null,
            "visibility": null,
            "width": null
          }
        }
      }
    }
  },
  "cells": [
    {
      "cell_type": "markdown",
      "metadata": {
        "id": "view-in-github",
        "colab_type": "text"
      },
      "source": [
        "<a href=\"https://colab.research.google.com/github/kzhkAKT/Physics1/blob/draft/1102_%E9%80%9F%E5%BA%A6%E3%81%A8%E5%A4%89%E4%BD%8D_%E7%89%A9%E7%90%861.ipynb\" target=\"_parent\"><img src=\"https://colab.research.google.com/assets/colab-badge.svg\" alt=\"Open In Colab\"/></a>"
      ]
    },
    {
      "cell_type": "markdown",
      "metadata": {
        "id": "f8l6xcPqG_Ej"
      },
      "source": [
        "# 運動の表し方\n"
      ]
    },
    {
      "cell_type": "markdown",
      "metadata": {
        "id": "ppHNXG8M1Xk0"
      },
      "source": [
        "## 速度と変位\n",
        "\n",
        "### 移動距離と方向\n",
        "次の数直前上で A,B 間の距離は 2000 m とします.  \n",
        "\bA を開始点として B へ向かうものが赤い矢印,\n",
        "B を開始点として A へ向かうものが青い矢印で示しています."
      ]
    },
    {
      "cell_type": "markdown",
      "metadata": {
        "id": "8GGmrYWW1YOD"
      },
      "source": [
        "<div align=\"center\">\n",
        "<img src=\"data:image/png;base64,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\" style=\"cursor:pointer;max-width:100%;\" onclick=\"(function(img){if(img.wnd!=null&&!img.wnd.closed){img.wnd.focus();}else{var r=function(evt){if(evt.data=='ready'&&evt.source==img.wnd){img.wnd.postMessage(decodeURIComponent(img.getAttribute('src')),'*');window.removeEventListener('message',r);}};window.addEventListener('message',r);img.wnd=window.open('https://app.diagrams.net/?client=1&lightbox=1&edit=_blank');}})(this);\"/>\n",
        "</div>\n"
      ]
    },
    {
      "cell_type": "markdown",
      "metadata": {
        "id": "G368FHy91oDq"
      },
      "source": [
        "> Q. 右向きを正の方向(+)として,\n",
        "> 1. 赤い矢印の量を正負(+,-)を含めて示しなさい.\n",
        "> 2. 青い矢印の量を正負(+,-)を含めて示しなさい.\n",
        "\n",
        "> Q. 次の数の絶対値を答えよ.\n",
        "> 1. 数値 -5.0\n",
        "> 1. 距離 2.0 m\n",
        "> 1. $x>0$ のきの $x$ の 絶対値\n",
        "> 1. $x<0$ のきの $x$ の 絶対値\n",
        "> 1. 任意の $x$ の 絶対値"
      ]
    },
    {
      "cell_type": "markdown",
      "metadata": {
        "id": "bHfftP2QxuMN"
      },
      "source": [
        "### 変位: $\\varDelta x$"
      ]
    },
    {
      "cell_type": "markdown",
      "metadata": {
        "id": "HKnhnHdPxqy0"
      },
      "source": [
        "<img src=\"data:image/png;base64,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\" style=\"cursor:pointer;max-width:100%;\" onclick=\"(function(img){if(img.wnd!=null&&!img.wnd.closed){img.wnd.focus();}else{var r=function(evt){if(evt.data=='ready'&&evt.source==img.wnd){img.wnd.postMessage(decodeURIComponent(img.getAttribute('src')),'*');window.removeEventListener('message',r);}};window.addEventListener('message',r);img.wnd=window.open('https://app.diagrams.net/?client=1&lightbox=1&edit=_blank');}})(this);\"/>\n"
      ]
    },
    {
      "cell_type": "markdown",
      "metadata": {
        "id": "VzCfP22X2W08"
      },
      "source": [
        "\n",
        "\n",
        "図のように一直線上を運動する物体があり, この物体の始めの位置を $x_1$ とします.   \n",
        "始めの位置から時間が $t$ 秒経過したところ, $x_2$ に移動しました.\n",
        "\n",
        "#### 変位の定義\n",
        "\n",
        " この物体が始めの位置から後の位置まで移動した\b距離の差(difference)を **変位** $\\varDelta x$ と言います.  \n",
        "この例では右向きを正(+)としています.\n",
        "\n",
        "$$\n",
        "\\varDelta x = x_2 - x_1\n",
        "$$\n",
        "\n",
        "> 変位の単位は, 国際単位系で m が用いられます.\n",
        "\n",
        "赤と青の矢印で考えたように, 変位は正負(+,-)を取ることができます. \n",
        "\n",
        "> Q. 移動距離 $L$(距離の絶対値) を 変位 $\\varDelta x$ と数学記号を用いて示してください.\n",
        "\n",
        "### 時間の変化\n",
        "ある物体の時刻 $t_1$ から 時刻 $t_2$ までの変化を調べるとき, 物体の時間変化を次のように表すことができます.\n",
        "\n",
        "$$\n",
        "\\varDelta t = t_2 - t_1\n",
        "$$\n",
        ".\n",
        "\n",
        "> 時間の単位は, 国際単位系で s が用いられます.\n",
        "\n",
        "<!-- s は second を表し, この s の前に単位接頭語($\\mu$,p) などがつくことがあります. -->"
      ]
    },
    {
      "cell_type": "markdown",
      "metadata": {
        "id": "NCcxugL-6uQk"
      },
      "source": [
        "### 速度 $v$\n",
        "\n",
        "#### 速度の定義\n",
        "速度とは, 変位 $\\varDelta x$ の時間の変化$\\varDelta t$ で定義されます.\n",
        "$$\n",
        "\\text{速度} = \\frac{変位}{時間変化}\n",
        "$$\n",
        "この関係式で速度(velocity)の頭文字 $v$ として,\n",
        "これまで学んだ文字を用いて表すと\n",
        "$$\n",
        "v = \\frac{\\varDelta x}{\\varDelta t}\n",
        "$$\n",
        "となります.\n",
        "\n",
        "変位と時間の変化を明示的に示すと\n",
        "$$\n",
        "v = \\frac{\\varDelta x}{\\varDelta t}\n",
        "= \\frac{x_2 - x_1}{t_2 - t_1}\n",
        "$$\n",
        "となります. この定義に基づけば\n",
        "> 速度の単位は, 国際単位系では m/s\n",
        "\n",
        "と組み立てられます. また速度の定義を文章で表現すると\n",
        "\n",
        "> 速度の定義は, 単位時間当たりの変位\n",
        "\n",
        "といえます. また, 変位 $\\Delta x$ が正負(+,-), 時間変化 $\\Delta t$ 物体の運動では正(+) をとるため, \n",
        "\n",
        ">**速度 $v$ は**、[$\\Delta x$の影響から] **正負(+,-) の値 をとる**\n",
        "\n",
        "こともわかります.\n",
        "\n",
        "> Q. 速度と速さの関係\n",
        "> 1. \"速さ\" を速度 $v$ の文字と数学記号を用いて表してください.\n",
        "> 2. 下の枠をクリックし, 左側に表示された再生ボタンをクリックしてください.\n",
        ">   1. グラフ上部のつまみを調整し, 教科書 p2 の図1.2 と同じ図を作成してください.\n",
        ">   2. 作成したグラフを利用し, 電車の速度を計算してください.\n",
        "> 3. $x-t$ グラフの中で速度は, 一次関数のどのような量に当たるか答えてください.\n"
      ]
    },
    {
      "cell_type": "code",
      "metadata": {
        "id": "V4jBSd-qtNAL",
        "cellView": "form",
        "outputId": "82b59a69-a818-4025-8169-0e4943acc940",
        "colab": {
          "base_uri": "https://localhost:8080/",
          "height": 463,
          "referenced_widgets": [
            "93f33338d0384b0b8ce861f7013718f9",
            "aa521dfd615b4ac48f003d801dfd5b8c",
            "077963733d1c4ab6b59d176fe39ead68",
            "25cbdbb4dfc94751ab7ace5833a2f0eb",
            "6cd957271fd940ab93fed564d3c3d629",
            "8e2190a002894646a742484ef3333cd8",
            "c293e196957a4e4aaf707272422a1ce0",
            "4c03365970e842038ace89267b77360d",
            "5f693a726fb54974a0acf2a844a5946f",
            "f10388368e5942e7b981b52a62317c23",
            "38ae48a8a238442384086c957e2f3ec2",
            "f2c15dbe02e64ecab7b9b64db2cbdbaf",
            "3521129b9f0f471eb18de847ec5c67a9"
          ]
        }
      },
      "source": [
        "#@title 𝑥−𝑡グラフの作成(傾きが負) { vertical-output: true }\n",
        "%matplotlib inline\n",
        "from ipywidgets import interactive\n",
        "import matplotlib.pyplot as plt\n",
        "plt.style.use('ggplot')\n",
        "import numpy as np\n",
        "\n",
        "def x(x0, dx, dt):\n",
        "    plt.figure(2)\n",
        "    v=dx/dt    \n",
        "    t = np.linspace(0, dt)\n",
        "    plt.xlabel(\"$t$ [s]\")\n",
        "    plt.ylabel(\"$x$ [m]\")\n",
        "    plt.xlim(0, 450)\n",
        "    plt.ylim(0, 7000)\n",
        "    plt.plot(t, v * t + x0)\n",
        "    plt.show()\n",
        "\n",
        "interactive_plot = interactive(x,x0=(0,7000,500), dx=(-7000, 7000,500), dt=(0, 450,50))\n",
        "interactive_plot.children[1].description = 'x ~ x-x0:'\n",
        "interactive_plot.children[2].description = 't ~ t-0:'\n",
        "output = interactive_plot.children[-1]\n",
        "output.layout.height = '350px'\n",
        "interactive_plot"
      ],
      "execution_count": 1,
      "outputs": [
        {
          "output_type": "display_data",
          "data": {
            "text/plain": [
              "interactive(children=(IntSlider(value=3500, description='x0', max=7000, step=500), IntSlider(value=0, descript…"
            ],
            "application/vnd.jupyter.widget-view+json": {
              "version_major": 2,
              "version_minor": 0,
              "model_id": "93f33338d0384b0b8ce861f7013718f9"
            }
          },
          "metadata": {}
        }
      ]
    }
  ]
}