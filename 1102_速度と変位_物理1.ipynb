{
  "nbformat": 4,
  "nbformat_minor": 0,
  "metadata": {
    "colab": {
      "name": "1102_速度と変位_物理1",
      "provenance": [],
      "mount_file_id": "1ko3fj7Et3uUihh--l0FmQ631VQEkUGDP",
      "authorship_tag": "ABX9TyPgm/6QFlQWtaX2RMe0FjWc",
      "include_colab_link": true
    },
    "kernelspec": {
      "name": "python3",
      "display_name": "Python 3"
    },
    "widgets": {
      "application/vnd.jupyter.widget-state+json": {
        "87db4ab9d6e24267bcce339f295ea958": {
          "model_module": "@jupyter-widgets/controls",
          "model_name": "VBoxModel",
          "model_module_version": "1.5.0",
          "state": {
            "_dom_classes": [
              "widget-interact"
            ],
            "_model_module": "@jupyter-widgets/controls",
            "_model_module_version": "1.5.0",
            "_model_name": "VBoxModel",
            "_view_count": null,
            "_view_module": "@jupyter-widgets/controls",
            "_view_module_version": "1.5.0",
            "_view_name": "VBoxView",
            "box_style": "",
            "children": [
              "IPY_MODEL_c4a099bc544d468795b4821f36e721cd",
              "IPY_MODEL_b5b564345220468a8f20343363d32bb4",
              "IPY_MODEL_9996af3288aa45b19c47c5a1235b7a07",
              "IPY_MODEL_913dda80a4d6494fb28698a56533cbac"
            ],
            "layout": "IPY_MODEL_dfb5345b58ab47bcabec00ded532a93c"
          }
        },
        "c4a099bc544d468795b4821f36e721cd": {
          "model_module": "@jupyter-widgets/controls",
          "model_name": "IntSliderModel",
          "model_module_version": "1.5.0",
          "state": {
            "_dom_classes": [],
            "_model_module": "@jupyter-widgets/controls",
            "_model_module_version": "1.5.0",
            "_model_name": "IntSliderModel",
            "_view_count": null,
            "_view_module": "@jupyter-widgets/controls",
            "_view_module_version": "1.5.0",
            "_view_name": "IntSliderView",
            "continuous_update": true,
            "description": "x0",
            "description_tooltip": null,
            "disabled": false,
            "layout": "IPY_MODEL_db465843221345489a0785d50ba41051",
            "max": 7000,
            "min": 0,
            "orientation": "horizontal",
            "readout": true,
            "readout_format": "d",
            "step": 500,
            "style": "IPY_MODEL_e6c431f35f6e409eb4244e3e04dcf81a",
            "value": 3500
          }
        },
        "b5b564345220468a8f20343363d32bb4": {
          "model_module": "@jupyter-widgets/controls",
          "model_name": "IntSliderModel",
          "model_module_version": "1.5.0",
          "state": {
            "_dom_classes": [],
            "_model_module": "@jupyter-widgets/controls",
            "_model_module_version": "1.5.0",
            "_model_name": "IntSliderModel",
            "_view_count": null,
            "_view_module": "@jupyter-widgets/controls",
            "_view_module_version": "1.5.0",
            "_view_name": "IntSliderView",
            "continuous_update": true,
            "description": "$Δx = x-x0$:",
            "description_tooltip": null,
            "disabled": false,
            "layout": "IPY_MODEL_76ca802f220f4fd2a357add674ea8ba2",
            "max": 7000,
            "min": -7000,
            "orientation": "horizontal",
            "readout": true,
            "readout_format": "d",
            "step": 500,
            "style": "IPY_MODEL_7cb880d4a5ce49e8bcc07a77a5733e68",
            "value": 0
          }
        },
        "9996af3288aa45b19c47c5a1235b7a07": {
          "model_module": "@jupyter-widgets/controls",
          "model_name": "IntSliderModel",
          "model_module_version": "1.5.0",
          "state": {
            "_dom_classes": [],
            "_model_module": "@jupyter-widgets/controls",
            "_model_module_version": "1.5.0",
            "_model_name": "IntSliderModel",
            "_view_count": null,
            "_view_module": "@jupyter-widgets/controls",
            "_view_module_version": "1.5.0",
            "_view_name": "IntSliderView",
            "continuous_update": true,
            "description": "Δt = t-0:",
            "description_tooltip": null,
            "disabled": false,
            "layout": "IPY_MODEL_fcb828c3fd6c450892b39f32b731a282",
            "max": 450,
            "min": 0,
            "orientation": "horizontal",
            "readout": true,
            "readout_format": "d",
            "step": 50,
            "style": "IPY_MODEL_16591c6a62c14f8287f034822e5fbd15",
            "value": 200
          }
        },
        "913dda80a4d6494fb28698a56533cbac": {
          "model_module": "@jupyter-widgets/output",
          "model_name": "OutputModel",
          "model_module_version": "1.0.0",
          "state": {
            "_dom_classes": [],
            "_model_module": "@jupyter-widgets/output",
            "_model_module_version": "1.0.0",
            "_model_name": "OutputModel",
            "_view_count": null,
            "_view_module": "@jupyter-widgets/output",
            "_view_module_version": "1.0.0",
            "_view_name": "OutputView",
            "layout": "IPY_MODEL_32731ac53fbf4a59939cfa2d1339fd56",
            "msg_id": "",
            "outputs": [
              {
                "output_type": "display_data",
                "data": {
                  "text/plain": "<Figure size 500x300 with 1 Axes>",
                  "image/png": "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\n"
                },
                "metadata": {}
              }
            ]
          }
        },
        "dfb5345b58ab47bcabec00ded532a93c": {
          "model_module": "@jupyter-widgets/base",
          "model_name": "LayoutModel",
          "model_module_version": "1.2.0",
          "state": {
            "_model_module": "@jupyter-widgets/base",
            "_model_module_version": "1.2.0",
            "_model_name": "LayoutModel",
            "_view_count": null,
            "_view_module": "@jupyter-widgets/base",
            "_view_module_version": "1.2.0",
            "_view_name": "LayoutView",
            "align_content": null,
            "align_items": null,
            "align_self": null,
            "border": null,
            "bottom": null,
            "display": null,
            "flex": null,
            "flex_flow": null,
            "grid_area": null,
            "grid_auto_columns": null,
            "grid_auto_flow": null,
            "grid_auto_rows": null,
            "grid_column": null,
            "grid_gap": null,
            "grid_row": null,
            "grid_template_areas": null,
            "grid_template_columns": null,
            "grid_template_rows": null,
            "height": null,
            "justify_content": null,
            "justify_items": null,
            "left": null,
            "margin": null,
            "max_height": null,
            "max_width": null,
            "min_height": null,
            "min_width": null,
            "object_fit": null,
            "object_position": null,
            "order": null,
            "overflow": null,
            "overflow_x": null,
            "overflow_y": null,
            "padding": null,
            "right": null,
            "top": null,
            "visibility": null,
            "width": null
          }
        },
        "db465843221345489a0785d50ba41051": {
          "model_module": "@jupyter-widgets/base",
          "model_name": "LayoutModel",
          "model_module_version": "1.2.0",
          "state": {
            "_model_module": "@jupyter-widgets/base",
            "_model_module_version": "1.2.0",
            "_model_name": "LayoutModel",
            "_view_count": null,
            "_view_module": "@jupyter-widgets/base",
            "_view_module_version": "1.2.0",
            "_view_name": "LayoutView",
            "align_content": null,
            "align_items": null,
            "align_self": null,
            "border": null,
            "bottom": null,
            "display": null,
            "flex": null,
            "flex_flow": null,
            "grid_area": null,
            "grid_auto_columns": null,
            "grid_auto_flow": null,
            "grid_auto_rows": null,
            "grid_column": null,
            "grid_gap": null,
            "grid_row": null,
            "grid_template_areas": null,
            "grid_template_columns": null,
            "grid_template_rows": null,
            "height": null,
            "justify_content": null,
            "justify_items": null,
            "left": null,
            "margin": null,
            "max_height": null,
            "max_width": null,
            "min_height": null,
            "min_width": null,
            "object_fit": null,
            "object_position": null,
            "order": null,
            "overflow": null,
            "overflow_x": null,
            "overflow_y": null,
            "padding": null,
            "right": null,
            "top": null,
            "visibility": null,
            "width": null
          }
        },
        "e6c431f35f6e409eb4244e3e04dcf81a": {
          "model_module": "@jupyter-widgets/controls",
          "model_name": "SliderStyleModel",
          "model_module_version": "1.5.0",
          "state": {
            "_model_module": "@jupyter-widgets/controls",
            "_model_module_version": "1.5.0",
            "_model_name": "SliderStyleModel",
            "_view_count": null,
            "_view_module": "@jupyter-widgets/base",
            "_view_module_version": "1.2.0",
            "_view_name": "StyleView",
            "description_width": "",
            "handle_color": null
          }
        },
        "76ca802f220f4fd2a357add674ea8ba2": {
          "model_module": "@jupyter-widgets/base",
          "model_name": "LayoutModel",
          "model_module_version": "1.2.0",
          "state": {
            "_model_module": "@jupyter-widgets/base",
            "_model_module_version": "1.2.0",
            "_model_name": "LayoutModel",
            "_view_count": null,
            "_view_module": "@jupyter-widgets/base",
            "_view_module_version": "1.2.0",
            "_view_name": "LayoutView",
            "align_content": null,
            "align_items": null,
            "align_self": null,
            "border": null,
            "bottom": null,
            "display": null,
            "flex": null,
            "flex_flow": null,
            "grid_area": null,
            "grid_auto_columns": null,
            "grid_auto_flow": null,
            "grid_auto_rows": null,
            "grid_column": null,
            "grid_gap": null,
            "grid_row": null,
            "grid_template_areas": null,
            "grid_template_columns": null,
            "grid_template_rows": null,
            "height": null,
            "justify_content": null,
            "justify_items": null,
            "left": null,
            "margin": null,
            "max_height": null,
            "max_width": null,
            "min_height": null,
            "min_width": null,
            "object_fit": null,
            "object_position": null,
            "order": null,
            "overflow": null,
            "overflow_x": null,
            "overflow_y": null,
            "padding": null,
            "right": null,
            "top": null,
            "visibility": null,
            "width": null
          }
        },
        "7cb880d4a5ce49e8bcc07a77a5733e68": {
          "model_module": "@jupyter-widgets/controls",
          "model_name": "SliderStyleModel",
          "model_module_version": "1.5.0",
          "state": {
            "_model_module": "@jupyter-widgets/controls",
            "_model_module_version": "1.5.0",
            "_model_name": "SliderStyleModel",
            "_view_count": null,
            "_view_module": "@jupyter-widgets/base",
            "_view_module_version": "1.2.0",
            "_view_name": "StyleView",
            "description_width": "",
            "handle_color": null
          }
        },
        "fcb828c3fd6c450892b39f32b731a282": {
          "model_module": "@jupyter-widgets/base",
          "model_name": "LayoutModel",
          "model_module_version": "1.2.0",
          "state": {
            "_model_module": "@jupyter-widgets/base",
            "_model_module_version": "1.2.0",
            "_model_name": "LayoutModel",
            "_view_count": null,
            "_view_module": "@jupyter-widgets/base",
            "_view_module_version": "1.2.0",
            "_view_name": "LayoutView",
            "align_content": null,
            "align_items": null,
            "align_self": null,
            "border": null,
            "bottom": null,
            "display": null,
            "flex": null,
            "flex_flow": null,
            "grid_area": null,
            "grid_auto_columns": null,
            "grid_auto_flow": null,
            "grid_auto_rows": null,
            "grid_column": null,
            "grid_gap": null,
            "grid_row": null,
            "grid_template_areas": null,
            "grid_template_columns": null,
            "grid_template_rows": null,
            "height": null,
            "justify_content": null,
            "justify_items": null,
            "left": null,
            "margin": null,
            "max_height": null,
            "max_width": null,
            "min_height": null,
            "min_width": null,
            "object_fit": null,
            "object_position": null,
            "order": null,
            "overflow": null,
            "overflow_x": null,
            "overflow_y": null,
            "padding": null,
            "right": null,
            "top": null,
            "visibility": null,
            "width": null
          }
        },
        "16591c6a62c14f8287f034822e5fbd15": {
          "model_module": "@jupyter-widgets/controls",
          "model_name": "SliderStyleModel",
          "model_module_version": "1.5.0",
          "state": {
            "_model_module": "@jupyter-widgets/controls",
            "_model_module_version": "1.5.0",
            "_model_name": "SliderStyleModel",
            "_view_count": null,
            "_view_module": "@jupyter-widgets/base",
            "_view_module_version": "1.2.0",
            "_view_name": "StyleView",
            "description_width": "",
            "handle_color": null
          }
        },
        "32731ac53fbf4a59939cfa2d1339fd56": {
          "model_module": "@jupyter-widgets/base",
          "model_name": "LayoutModel",
          "model_module_version": "1.2.0",
          "state": {
            "_model_module": "@jupyter-widgets/base",
            "_model_module_version": "1.2.0",
            "_model_name": "LayoutModel",
            "_view_count": null,
            "_view_module": "@jupyter-widgets/base",
            "_view_module_version": "1.2.0",
            "_view_name": "LayoutView",
            "align_content": null,
            "align_items": null,
            "align_self": null,
            "border": null,
            "bottom": null,
            "display": null,
            "flex": null,
            "flex_flow": null,
            "grid_area": null,
            "grid_auto_columns": null,
            "grid_auto_flow": null,
            "grid_auto_rows": null,
            "grid_column": null,
            "grid_gap": null,
            "grid_row": null,
            "grid_template_areas": null,
            "grid_template_columns": null,
            "grid_template_rows": null,
            "height": "350px",
            "justify_content": null,
            "justify_items": null,
            "left": null,
            "margin": null,
            "max_height": null,
            "max_width": null,
            "min_height": null,
            "min_width": null,
            "object_fit": null,
            "object_position": null,
            "order": null,
            "overflow": null,
            "overflow_x": null,
            "overflow_y": null,
            "padding": null,
            "right": null,
            "top": null,
            "visibility": null,
            "width": null
          }
        }
      }
    }
  },
  "cells": [
    {
      "cell_type": "markdown",
      "metadata": {
        "id": "view-in-github",
        "colab_type": "text"
      },
      "source": [
        "<a href=\"https://colab.research.google.com/github/kzhkAKT/Physics1/blob/draft/1102_%E9%80%9F%E5%BA%A6%E3%81%A8%E5%A4%89%E4%BD%8D_%E7%89%A9%E7%90%861.ipynb\" target=\"_parent\"><img src=\"https://colab.research.google.com/assets/colab-badge.svg\" alt=\"Open In Colab\"/></a>"
      ]
    },
    {
      "cell_type": "markdown",
      "metadata": {
        "id": "f8l6xcPqG_Ej"
      },
      "source": [
        "# 運動の表し方\n"
      ]
    },
    {
      "cell_type": "markdown",
      "metadata": {
        "id": "ppHNXG8M1Xk0"
      },
      "source": [
        "## 速度と変位\n",
        "\n",
        "### 移動距離と方向\n",
        "次の数直線上で A,B 間の距離は 2000 m とします.  \n",
        "\bA を開始点として B へ向かうものが赤い矢印,\n",
        "B を開始点として A へ向かうものが青い矢印で示しています."
      ]
    },
    {
      "cell_type": "markdown",
      "metadata": {
        "id": "8GGmrYWW1YOD"
      },
      "source": [
        "<div align=\"center\">\n",
        "<img src=\"data:image/png;base64,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\" style=\"cursor:pointer;max-width:100%;\" onclick=\"(function(img){if(img.wnd!=null&&!img.wnd.closed){img.wnd.focus();}else{var r=function(evt){if(evt.data=='ready'&&evt.source==img.wnd){img.wnd.postMessage(decodeURIComponent(img.getAttribute('src')),'*');window.removeEventListener('message',r);}};window.addEventListener('message',r);img.wnd=window.open('https://app.diagrams.net/?client=1&lightbox=1&edit=_blank');}})(this);\"/>\n",
        "</div>\n"
      ]
    },
    {
      "cell_type": "markdown",
      "metadata": {
        "id": "G368FHy91oDq"
      },
      "source": [
        "> Q. 右向きを正の方向(+)として,\n",
        "> 1. 赤い矢印の量を正負(+,-)を含めて示しなさい.\n",
        "> 2. 青い矢印の量を正負(+,-)を含めて示しなさい.\n",
        "\n",
        "> Q. 次の数の絶対値を答えよ.\n",
        "> 1. 数値 -5.0\n",
        "> 1. 距離 2.0 m\n",
        "> 1. $x>0$ のきの $x$ の 絶対値\n",
        "> 1. $x<0$ のきの $x$ の 絶対値\n",
        "> 1. 任意の $x$ の 絶対値"
      ]
    },
    {
      "cell_type": "markdown",
      "metadata": {
        "id": "bHfftP2QxuMN"
      },
      "source": [
        "### 変位: $\\varDelta x$"
      ]
    },
    {
      "cell_type": "markdown",
      "metadata": {
        "id": "HKnhnHdPxqy0"
      },
      "source": [
        "<img src=\"data:image/png;base64,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\" style=\"cursor:pointer;max-width:100%;\" onclick=\"(function(img){if(img.wnd!=null&&!img.wnd.closed){img.wnd.focus();}else{var r=function(evt){if(evt.data=='ready'&&evt.source==img.wnd){img.wnd.postMessage(decodeURIComponent(img.getAttribute('src')),'*');window.removeEventListener('message',r);}};window.addEventListener('message',r);img.wnd=window.open('https://app.diagrams.net/?client=1&lightbox=1&edit=_blank');}})(this);\"/>\n"
      ]
    },
    {
      "cell_type": "markdown",
      "metadata": {
        "id": "VzCfP22X2W08"
      },
      "source": [
        "\n",
        "\n",
        "図のように一直線上を運動する物体があり, この物体の始めの位置を $x_1$ とします.   \n",
        "始めの位置から時間が $t$ 秒経過したところ, $x_2$ に移動しました.\n",
        "\n",
        "#### 変位の定義\n",
        "\n",
        " この物体が始めの位置から後の位置まで移動した\b距離の差(difference)を **変位** $\\varDelta x$ と言います.  \n",
        "この例では右向きを正(+)としています.\n",
        "\n",
        "$$\n",
        "\\varDelta x = x_2 - x_1\n",
        "$$\n",
        "\n",
        "> 変位の単位は, 国際単位系で m が用いられます.\n",
        "\n",
        "赤と青の矢印で考えたように, 変位は正負(+,-)を取ることができます.\n",
        "\n",
        "> Q. 移動距離 $L$(距離の絶対値) を 変位 $\\varDelta x$ と数学記号を用いて示してください.\n",
        "\n",
        "### 時間の変化\n",
        "ある物体の時刻 $t_1$ から 時刻 $t_2$ までの変化を調べるとき, 物体の時間変化を次のように表すことができます.\n",
        "\n",
        "$$\n",
        "\\varDelta t = t_2 - t_1\n",
        "$$\n",
        ".\n",
        "\n",
        "> 時間の単位は, 国際単位系で s が用いられます.\n",
        "\n",
        "<!-- s は second を表し, この s の前に単位接頭語($\\mu$,p) などがつくことがあります. -->"
      ]
    },
    {
      "cell_type": "markdown",
      "metadata": {
        "id": "NCcxugL-6uQk"
      },
      "source": [
        "### 速度 $v$\n",
        "\n",
        "#### 速度の定義\n",
        "速度とは, 変位 $\\varDelta x$ と時間の変化$\\varDelta t$ で定義されます.\n",
        "$$\n",
        "\\text{速度} = \\frac{変位}{時間変化}\n",
        "$$\n",
        "この関係式で速度(velocity)の頭文字 $v$ として,\n",
        "これまで学んだ文字を用いて表すと\n",
        "$$\n",
        "v = \\frac{\\varDelta x}{\\varDelta t}\n",
        "$$\n",
        "となります.\n",
        "\n",
        "変位と時間の変化を明示的に示すと\n",
        "$$\n",
        "v = \\frac{\\varDelta x}{\\varDelta t}\n",
        "= \\frac{x_2 - x_1}{t_2 - t_1}\n",
        "$$\n",
        "となります. この定義に基づけば\n",
        "> 速度の単位は, 国際単位系では m/s\n",
        "\n",
        "と組み立てられます. また速度の定義を文章で表現すると\n",
        "\n",
        "> 速度の定義は, 単位時間当たりの変位\n",
        "\n",
        "といえます. また, 変位 $\\Delta x$ が正負(+,-), 時間変化 $\\Delta t$ 物体の運動では正(+) をとるため,\n",
        "\n",
        ">**速度 $v$ は**、[$\\Delta x$の影響から] **正負(+,-) の値 をとる**\n",
        "\n",
        "こともわかります.\n",
        "\n",
        "> Q. 速度と速さの関係\n",
        "> 1. \"速さ\" を速度 $v$ の文字と数学記号を用いて表してください.\n",
        "> 2. 下の枠をクリックし, 左側に表示された再生ボタンをクリックしてください.\n",
        ">   1. グラフ上部のつまみを調整し, 教科書 p2 の図1.2 と同じ図を作成してください.\n",
        ">   2. 作成したグラフを利用し, 電車の速度を計算してください.\n",
        "> 3. $x-t$ グラフの中で速度は, 一次関数のどのような量に当たるか答えてください.\n"
      ]
    },
    {
      "cell_type": "code",
      "metadata": {
        "id": "V4jBSd-qtNAL",
        "cellView": "form",
        "outputId": "f9fdf09d-dc3b-4a5b-bc13-adfdf7f0ffce",
        "colab": {
          "base_uri": "https://localhost:8080/",
          "height": 463,
          "referenced_widgets": [
            "87db4ab9d6e24267bcce339f295ea958",
            "c4a099bc544d468795b4821f36e721cd",
            "b5b564345220468a8f20343363d32bb4",
            "9996af3288aa45b19c47c5a1235b7a07",
            "913dda80a4d6494fb28698a56533cbac",
            "dfb5345b58ab47bcabec00ded532a93c",
            "db465843221345489a0785d50ba41051",
            "e6c431f35f6e409eb4244e3e04dcf81a",
            "76ca802f220f4fd2a357add674ea8ba2",
            "7cb880d4a5ce49e8bcc07a77a5733e68",
            "fcb828c3fd6c450892b39f32b731a282",
            "16591c6a62c14f8287f034822e5fbd15",
            "32731ac53fbf4a59939cfa2d1339fd56"
          ]
        }
      },
      "source": [
        "#@title $x-t$グラフの作成(傾きが負) { vertical-output: true }\n",
        "%matplotlib inline\n",
        "from ipywidgets import interactive\n",
        "import matplotlib.pyplot as plt\n",
        "plt.style.use('ggplot')\n",
        "import numpy as np\n",
        "\n",
        "def x(x0, dx, dt):\n",
        "    plt.figure(figsize=(5, 3))\n",
        "    v=dx/dt\n",
        "    t = np.linspace(0, dt)\n",
        "    plt.xlabel(\"$t$ [s]\")\n",
        "    plt.ylabel(\"$x$ [m]\")\n",
        "    plt.xlim(0, 450)\n",
        "    plt.ylim(0, 7000)\n",
        "    plt.plot(t, v * t + x0)\n",
        "    plt.show()\n",
        "\n",
        "interactive_plot = interactive(x,x0=(0,7000,500), dx=(-7000, 7000,500), dt=(0, 450,50))\n",
        "interactive_plot.children[1].description = '$Δx = x-x0$:'\n",
        "interactive_plot.children[2].description = 'Δt = t-0:'\n",
        "output = interactive_plot.children[-1]\n",
        "output.layout.height = '350px'\n",
        "interactive_plot"
      ],
      "execution_count": 6,
      "outputs": [
        {
          "output_type": "display_data",
          "data": {
            "text/plain": [
              "interactive(children=(IntSlider(value=3500, description='x0', max=7000, step=500), IntSlider(value=0, descript…"
            ],
            "application/vnd.jupyter.widget-view+json": {
              "version_major": 2,
              "version_minor": 0,
              "model_id": "87db4ab9d6e24267bcce339f295ea958"
            }
          },
          "metadata": {}
        }
      ]
    }
  ]
}