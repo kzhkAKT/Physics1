{
  "nbformat": 4,
  "nbformat_minor": 0,
  "metadata": {
    "colab": {
      "name": "1102_速度と変位_物理1",
      "provenance": [],
      "collapsed_sections": [],
      "mount_file_id": "1ko3fj7Et3uUihh--l0FmQ631VQEkUGDP",
      "authorship_tag": "ABX9TyOBX2HG3fkzrvopyB0Mxz08",
      "include_colab_link": true
    },
    "kernelspec": {
      "name": "python3",
      "display_name": "Python 3"
    }
  },
  "cells": [
    {
      "cell_type": "markdown",
      "metadata": {
        "id": "view-in-github",
        "colab_type": "text"
      },
      "source": [
        "<a href=\"https://colab.research.google.com/github/kzhkAKT/Physics1/blob/master/1102_%E9%80%9F%E5%BA%A6%E3%81%A8%E5%A4%89%E4%BD%8D_%E7%89%A9%E7%90%861.ipynb\" target=\"_parent\"><img src=\"https://colab.research.google.com/assets/colab-badge.svg\" alt=\"Open In Colab\"/></a>"
      ]
    },
    {
      "cell_type": "markdown",
      "metadata": {
        "id": "f8l6xcPqG_Ej",
        "colab_type": "text"
      },
      "source": [
        "# 運動の表し方\n"
      ]
    },
    {
      "cell_type": "markdown",
      "metadata": {
        "colab_type": "text",
        "id": "ppHNXG8M1Xk0"
      },
      "source": [
        "## 速度と変位\n",
        "\n",
        "### 移動距離と方向\n",
        "次の数直前上で A,B 間の距離は 2000 m とします.\n",
        "\bA を開始点として B へ向かうものが赤い矢印,\n",
        "B を開始点として A へ向かうものが青い矢印で示しています."
      ]
    },
    {
      "cell_type": "markdown",
      "metadata": {
        "colab_type": "text",
        "id": "8GGmrYWW1YOD"
      },
      "source": [
        "<div align=\"center\">\n",
        "<img src=\"data:image/png;base64,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\" style=\"cursor:pointer;max-width:100%;\" onclick=\"(function(img){if(img.wnd!=null&&!img.wnd.closed){img.wnd.focus();}else{var r=function(evt){if(evt.data=='ready'&&evt.source==img.wnd){img.wnd.postMessage(decodeURIComponent(img.getAttribute('src')),'*');window.removeEventListener('message',r);}};window.addEventListener('message',r);img.wnd=window.open('https://app.diagrams.net/?client=1&lightbox=1&edit=_blank');}})(this);\"/>\n",
        "</div>\n"
      ]
    },
    {
      "cell_type": "markdown",
      "metadata": {
        "id": "G368FHy91oDq",
        "colab_type": "text"
      },
      "source": [
        "> Q. 右向きを正の方向(+)として,\n",
        "> 1. 赤い矢印の量を正負(+,-)を含めて示しなさい.\n",
        "> 2. 青い矢印の量を正負(+,-)を含めて示しなさい.\n",
        "\n",
        "> Q. 次の数の絶対値を答えよ.\n",
        "> 1. 数値 -5.0\n",
        "> 1. 距離 2.0 m\n",
        "> 1. $x>0$ のきの $x$ の 絶対値\n",
        "> 1. $x<0$ のきの $x$ の 絶対値\n",
        "> 1. 任意の $x$ の 絶対値"
      ]
    },
    {
      "cell_type": "markdown",
      "metadata": {
        "id": "bHfftP2QxuMN",
        "colab_type": "text"
      },
      "source": [
        "### 変位: $\\varDelta x$"
      ]
    },
    {
      "cell_type": "markdown",
      "metadata": {
        "id": "HKnhnHdPxqy0",
        "colab_type": "text"
      },
      "source": [
        "<img src=\"data:image/png;base64,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\" style=\"cursor:pointer;max-width:100%;\" onclick=\"(function(img){if(img.wnd!=null&&!img.wnd.closed){img.wnd.focus();}else{var r=function(evt){if(evt.data=='ready'&&evt.source==img.wnd){img.wnd.postMessage(decodeURIComponent(img.getAttribute('src')),'*');window.removeEventListener('message',r);}};window.addEventListener('message',r);img.wnd=window.open('https://app.diagrams.net/?client=1&lightbox=1&edit=_blank');}})(this);\"/>\n"
      ]
    },
    {
      "cell_type": "markdown",
      "metadata": {
        "id": "VzCfP22X2W08",
        "colab_type": "text"
      },
      "source": [
        "\n",
        "\n",
        "図のように一直線上を運動する物体があり, この物体の始めの位置を $x_1$ とします. 始めの位置から時間が $t$ 秒経過したところ, $x_2$ に移動しました.\n",
        "\n",
        "#### 変位の定義\n",
        "\n",
        " この物体が始めの位置から後の位置まで移動した\b距離の差(difference)を **変位** $\\varDelta x$ と言います. この例では右向きを正(+)としています.\n",
        "\n",
        "$$\n",
        "\\varDelta x = x_2 - x_1\n",
        "$$\n",
        "\n",
        "> 変位の単位は, 国際単位系で m が用いられます.\n",
        "\n",
        "赤と青の矢印で考えたように, 変位は正負(+,-)を取ることができます. \n",
        "\n",
        "> Q. 移動距離 $L$ を 変位 $\\varDelta x$ と数学記号を用いて示してください.\n",
        "\n",
        "### 時間の変化\n",
        "ある物体の時刻 $t_1$ から 時刻 $t_2$ までの変化を調べるとき, 物体の時間変化を次のように表すことができます.\n",
        "\n",
        "$$\n",
        "\\varDelta t = t_2 - t_1\n",
        "$$\n",
        ".\n",
        "\n",
        "> 時間の単位は, 国際単位系で s が用いられます.\n",
        "\n",
        "<!-- s は second を表し, この s の前に単位接頭語($\\mu$,p) などがつくことがあります. -->"
      ]
    },
    {
      "cell_type": "markdown",
      "metadata": {
        "id": "NCcxugL-6uQk",
        "colab_type": "text"
      },
      "source": [
        "### 速度 $v$\n",
        "\n",
        "#### 速度の定義\n",
        "速度とは, 変位 $\\varDelta x$ の時間の変化$\\varDelta t$ で定義されます.\n",
        "$$\n",
        "\\text{速度} = \\frac{変位}{時間変化}\n",
        "$$\n",
        "この関係式で速度(velocity)の頭文字 $v$ として,\n",
        "これまで学んだ文字を用いて表すと\n",
        "$$\n",
        "v = \\frac{\\varDelta x}{\\varDelta t}\n",
        "$$\n",
        "となります.\n",
        "\n",
        "変位と時間の変化を明示的に示すと\n",
        "$$\n",
        "v = \\frac{\\varDelta x}{\\varDelta t}\n",
        "= \\frac{x_2 - x_1}{t_2 - t_1}\n",
        "$$\n",
        "となります. この定義に基づけば\n",
        "> 速度の単位は, 国際単位系では m/s\n",
        "\n",
        "と組み立てられます. また速度の定義を文章で表現すると\n",
        "\n",
        "> 速度の定義は, 単位時間当たりの変位\n",
        "\n",
        "といえます. また, 変位 $\\Delta x$ が正負(+,-), 時間変化 $\\Delta t$ 物体の運動では正(+) をとるため, \n",
        "\n",
        ">**速度 $v$ は正負(+,-) の値 をとる**\n",
        "\n",
        "こともわかります.\n",
        "\n",
        "> Q. 速度と速さの関係\n",
        "> 1. \"速さ\" を速度 $v$ の文字と数学記号を用いて表してください.\n",
        "> 2. 下の枠をクリックし, 左側に表示された再生ボタンをクリックしてください.\n",
        ">   1. グラフ上部のつまみを調整し, 教科書 p2 の図1.2 と同じ図を作成してください.\n",
        ">   2. 作成したグラフを利用し, 電車の速度を計算してください.\n",
        "> 3. $x-t$ グラフの中で速度は, 一次関数のどのような量に当たるか答えてください.\n"
      ]
    },
    {
      "cell_type": "code",
      "metadata": {
        "id": "V4jBSd-qtNAL",
        "colab_type": "code",
        "cellView": "form",
        "colab": {}
      },
      "source": [
        "#@title 𝑥−𝑡グラフの作成(傾きが負) { vertical-output: true }\n",
        "%matplotlib inline\n",
        "from ipywidgets import interactive\n",
        "import matplotlib.pyplot as plt\n",
        "plt.style.use('ggplot')\n",
        "import numpy as np\n",
        "\n",
        "def x(x0, dx, dt):\n",
        "    plt.figure(2)\n",
        "    v=dx/dt    \n",
        "    t = np.linspace(0, dt)\n",
        "    plt.xlabel(\"$t$ [s]\")\n",
        "    plt.ylabel(\"$x$ [m]\")\n",
        "    plt.xlim(0, 450)\n",
        "    plt.ylim(0, 7000)\n",
        "    plt.plot(t, v * t + x0)\n",
        "    plt.show()\n",
        "\n",
        "interactive_plot = interactive(x,x0=(0,7000,500), dx=(-7000, 7000,500), dt=(0, 450,50))\n",
        "interactive_plot.children[1].description = 'Δx=x-x0:'\n",
        "interactive_plot.children[2].description = 'Δt=t-0:'\n",
        "output = interactive_plot.children[-1]\n",
        "output.layout.height = '350px'\n",
        "interactive_plot"
      ],
      "execution_count": 0,
      "outputs": []
    }
  ]
}