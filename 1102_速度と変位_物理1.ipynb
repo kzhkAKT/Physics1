{
  "nbformat": 4,
  "nbformat_minor": 0,
  "metadata": {
    "colab": {
      "name": "1102_速度と変位_物理1",
      "provenance": [],
      "collapsed_sections": [],
      "mount_file_id": "1ko3fj7Et3uUihh--l0FmQ631VQEkUGDP",
      "authorship_tag": "ABX9TyNybX0XQ2x/jadAQ+SyCMnl",
      "include_colab_link": true
    },
    "kernelspec": {
      "name": "python3",
      "display_name": "Python 3"
    },
    "widgets": {
      "application/vnd.jupyter.widget-state+json": {
        "b46efd3d9411480a9dd582063578baae": {
          "model_module": "@jupyter-widgets/controls",
          "model_name": "VBoxModel",
          "state": {
            "_view_name": "VBoxView",
            "_dom_classes": [
              "widget-interact"
            ],
            "_model_name": "VBoxModel",
            "_view_module": "@jupyter-widgets/controls",
            "_model_module_version": "1.5.0",
            "_view_count": null,
            "_view_module_version": "1.5.0",
            "box_style": "",
            "layout": "IPY_MODEL_5151b5921ec34743a1bbdc4dcf1e3fe4",
            "_model_module": "@jupyter-widgets/controls",
            "children": [
              "IPY_MODEL_49d220e7399741e798707cc24096ee2e",
              "IPY_MODEL_8bdae37b904a47d380105dbb7c2273b4",
              "IPY_MODEL_71d18354b104495cbb24582af40cba47",
              "IPY_MODEL_98ed3aef4d3a45a5af45572b23ab2864"
            ]
          }
        },
        "5151b5921ec34743a1bbdc4dcf1e3fe4": {
          "model_module": "@jupyter-widgets/base",
          "model_name": "LayoutModel",
          "state": {
            "_view_name": "LayoutView",
            "grid_template_rows": null,
            "right": null,
            "justify_content": null,
            "_view_module": "@jupyter-widgets/base",
            "overflow": null,
            "_model_module_version": "1.2.0",
            "_view_count": null,
            "flex_flow": null,
            "width": null,
            "min_width": null,
            "border": null,
            "align_items": null,
            "bottom": null,
            "_model_module": "@jupyter-widgets/base",
            "top": null,
            "grid_column": null,
            "overflow_y": null,
            "overflow_x": null,
            "grid_auto_flow": null,
            "grid_area": null,
            "grid_template_columns": null,
            "flex": null,
            "_model_name": "LayoutModel",
            "justify_items": null,
            "grid_row": null,
            "max_height": null,
            "align_content": null,
            "visibility": null,
            "align_self": null,
            "height": null,
            "min_height": null,
            "padding": null,
            "grid_auto_rows": null,
            "grid_gap": null,
            "max_width": null,
            "order": null,
            "_view_module_version": "1.2.0",
            "grid_template_areas": null,
            "object_position": null,
            "object_fit": null,
            "grid_auto_columns": null,
            "margin": null,
            "display": null,
            "left": null
          }
        },
        "49d220e7399741e798707cc24096ee2e": {
          "model_module": "@jupyter-widgets/controls",
          "model_name": "IntSliderModel",
          "state": {
            "_view_name": "IntSliderView",
            "style": "IPY_MODEL_96a75066f3704cb8aa61a2f316ba5781",
            "_dom_classes": [],
            "description": "x0",
            "step": 500,
            "_model_name": "IntSliderModel",
            "orientation": "horizontal",
            "max": 7000,
            "_view_module": "@jupyter-widgets/controls",
            "_model_module_version": "1.5.0",
            "value": 3500,
            "_view_count": null,
            "disabled": false,
            "_view_module_version": "1.5.0",
            "min": 0,
            "continuous_update": true,
            "readout_format": "d",
            "description_tooltip": null,
            "readout": true,
            "_model_module": "@jupyter-widgets/controls",
            "layout": "IPY_MODEL_73861b471dbf47eda231568cd50cfc10"
          }
        },
        "8bdae37b904a47d380105dbb7c2273b4": {
          "model_module": "@jupyter-widgets/controls",
          "model_name": "IntSliderModel",
          "state": {
            "_view_name": "IntSliderView",
            "style": "IPY_MODEL_8df32374eeca42c78a535ac8b087703a",
            "_dom_classes": [],
            "description": "x ~ x-x0:",
            "step": 500,
            "_model_name": "IntSliderModel",
            "orientation": "horizontal",
            "max": 7000,
            "_view_module": "@jupyter-widgets/controls",
            "_model_module_version": "1.5.0",
            "value": 0,
            "_view_count": null,
            "disabled": false,
            "_view_module_version": "1.5.0",
            "min": -7000,
            "continuous_update": true,
            "readout_format": "d",
            "description_tooltip": null,
            "readout": true,
            "_model_module": "@jupyter-widgets/controls",
            "layout": "IPY_MODEL_5796ae5c77bf4e1aae3b0202a7e8caff"
          }
        },
        "71d18354b104495cbb24582af40cba47": {
          "model_module": "@jupyter-widgets/controls",
          "model_name": "IntSliderModel",
          "state": {
            "_view_name": "IntSliderView",
            "style": "IPY_MODEL_facb1c7ad0784bde997a2126eb3eabf1",
            "_dom_classes": [],
            "description": "t ~ t-0:",
            "step": 50,
            "_model_name": "IntSliderModel",
            "orientation": "horizontal",
            "max": 450,
            "_view_module": "@jupyter-widgets/controls",
            "_model_module_version": "1.5.0",
            "value": 200,
            "_view_count": null,
            "disabled": false,
            "_view_module_version": "1.5.0",
            "min": 0,
            "continuous_update": true,
            "readout_format": "d",
            "description_tooltip": null,
            "readout": true,
            "_model_module": "@jupyter-widgets/controls",
            "layout": "IPY_MODEL_6ca716409dbd44fb9f25da0a2156dc3d"
          }
        },
        "98ed3aef4d3a45a5af45572b23ab2864": {
          "model_module": "@jupyter-widgets/output",
          "model_name": "OutputModel",
          "state": {
            "_view_name": "OutputView",
            "msg_id": "",
            "_dom_classes": [],
            "_model_name": "OutputModel",
            "outputs": [
              {
                "output_type": "display_data",
                "metadata": {
                  "tags": []
                },
                "image/png": "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\n",
                "text/plain": "<Figure size 432x288 with 1 Axes>"
              }
            ],
            "_view_module": "@jupyter-widgets/output",
            "_model_module_version": "1.0.0",
            "_view_count": null,
            "_view_module_version": "1.0.0",
            "layout": "IPY_MODEL_a4c74f0f49d3440fb8d2345391771fe4",
            "_model_module": "@jupyter-widgets/output"
          }
        },
        "96a75066f3704cb8aa61a2f316ba5781": {
          "model_module": "@jupyter-widgets/controls",
          "model_name": "SliderStyleModel",
          "state": {
            "_view_name": "StyleView",
            "handle_color": null,
            "_model_name": "SliderStyleModel",
            "description_width": "",
            "_view_module": "@jupyter-widgets/base",
            "_model_module_version": "1.5.0",
            "_view_count": null,
            "_view_module_version": "1.2.0",
            "_model_module": "@jupyter-widgets/controls"
          }
        },
        "73861b471dbf47eda231568cd50cfc10": {
          "model_module": "@jupyter-widgets/base",
          "model_name": "LayoutModel",
          "state": {
            "_view_name": "LayoutView",
            "grid_template_rows": null,
            "right": null,
            "justify_content": null,
            "_view_module": "@jupyter-widgets/base",
            "overflow": null,
            "_model_module_version": "1.2.0",
            "_view_count": null,
            "flex_flow": null,
            "width": null,
            "min_width": null,
            "border": null,
            "align_items": null,
            "bottom": null,
            "_model_module": "@jupyter-widgets/base",
            "top": null,
            "grid_column": null,
            "overflow_y": null,
            "overflow_x": null,
            "grid_auto_flow": null,
            "grid_area": null,
            "grid_template_columns": null,
            "flex": null,
            "_model_name": "LayoutModel",
            "justify_items": null,
            "grid_row": null,
            "max_height": null,
            "align_content": null,
            "visibility": null,
            "align_self": null,
            "height": null,
            "min_height": null,
            "padding": null,
            "grid_auto_rows": null,
            "grid_gap": null,
            "max_width": null,
            "order": null,
            "_view_module_version": "1.2.0",
            "grid_template_areas": null,
            "object_position": null,
            "object_fit": null,
            "grid_auto_columns": null,
            "margin": null,
            "display": null,
            "left": null
          }
        },
        "8df32374eeca42c78a535ac8b087703a": {
          "model_module": "@jupyter-widgets/controls",
          "model_name": "SliderStyleModel",
          "state": {
            "_view_name": "StyleView",
            "handle_color": null,
            "_model_name": "SliderStyleModel",
            "description_width": "",
            "_view_module": "@jupyter-widgets/base",
            "_model_module_version": "1.5.0",
            "_view_count": null,
            "_view_module_version": "1.2.0",
            "_model_module": "@jupyter-widgets/controls"
          }
        },
        "5796ae5c77bf4e1aae3b0202a7e8caff": {
          "model_module": "@jupyter-widgets/base",
          "model_name": "LayoutModel",
          "state": {
            "_view_name": "LayoutView",
            "grid_template_rows": null,
            "right": null,
            "justify_content": null,
            "_view_module": "@jupyter-widgets/base",
            "overflow": null,
            "_model_module_version": "1.2.0",
            "_view_count": null,
            "flex_flow": null,
            "width": null,
            "min_width": null,
            "border": null,
            "align_items": null,
            "bottom": null,
            "_model_module": "@jupyter-widgets/base",
            "top": null,
            "grid_column": null,
            "overflow_y": null,
            "overflow_x": null,
            "grid_auto_flow": null,
            "grid_area": null,
            "grid_template_columns": null,
            "flex": null,
            "_model_name": "LayoutModel",
            "justify_items": null,
            "grid_row": null,
            "max_height": null,
            "align_content": null,
            "visibility": null,
            "align_self": null,
            "height": null,
            "min_height": null,
            "padding": null,
            "grid_auto_rows": null,
            "grid_gap": null,
            "max_width": null,
            "order": null,
            "_view_module_version": "1.2.0",
            "grid_template_areas": null,
            "object_position": null,
            "object_fit": null,
            "grid_auto_columns": null,
            "margin": null,
            "display": null,
            "left": null
          }
        },
        "facb1c7ad0784bde997a2126eb3eabf1": {
          "model_module": "@jupyter-widgets/controls",
          "model_name": "SliderStyleModel",
          "state": {
            "_view_name": "StyleView",
            "handle_color": null,
            "_model_name": "SliderStyleModel",
            "description_width": "",
            "_view_module": "@jupyter-widgets/base",
            "_model_module_version": "1.5.0",
            "_view_count": null,
            "_view_module_version": "1.2.0",
            "_model_module": "@jupyter-widgets/controls"
          }
        },
        "6ca716409dbd44fb9f25da0a2156dc3d": {
          "model_module": "@jupyter-widgets/base",
          "model_name": "LayoutModel",
          "state": {
            "_view_name": "LayoutView",
            "grid_template_rows": null,
            "right": null,
            "justify_content": null,
            "_view_module": "@jupyter-widgets/base",
            "overflow": null,
            "_model_module_version": "1.2.0",
            "_view_count": null,
            "flex_flow": null,
            "width": null,
            "min_width": null,
            "border": null,
            "align_items": null,
            "bottom": null,
            "_model_module": "@jupyter-widgets/base",
            "top": null,
            "grid_column": null,
            "overflow_y": null,
            "overflow_x": null,
            "grid_auto_flow": null,
            "grid_area": null,
            "grid_template_columns": null,
            "flex": null,
            "_model_name": "LayoutModel",
            "justify_items": null,
            "grid_row": null,
            "max_height": null,
            "align_content": null,
            "visibility": null,
            "align_self": null,
            "height": null,
            "min_height": null,
            "padding": null,
            "grid_auto_rows": null,
            "grid_gap": null,
            "max_width": null,
            "order": null,
            "_view_module_version": "1.2.0",
            "grid_template_areas": null,
            "object_position": null,
            "object_fit": null,
            "grid_auto_columns": null,
            "margin": null,
            "display": null,
            "left": null
          }
        },
        "a4c74f0f49d3440fb8d2345391771fe4": {
          "model_module": "@jupyter-widgets/base",
          "model_name": "LayoutModel",
          "state": {
            "_view_name": "LayoutView",
            "grid_template_rows": null,
            "right": null,
            "justify_content": null,
            "_view_module": "@jupyter-widgets/base",
            "overflow": null,
            "_model_module_version": "1.2.0",
            "_view_count": null,
            "flex_flow": null,
            "width": null,
            "min_width": null,
            "border": null,
            "align_items": null,
            "bottom": null,
            "_model_module": "@jupyter-widgets/base",
            "top": null,
            "grid_column": null,
            "overflow_y": null,
            "overflow_x": null,
            "grid_auto_flow": null,
            "grid_area": null,
            "grid_template_columns": null,
            "flex": null,
            "_model_name": "LayoutModel",
            "justify_items": null,
            "grid_row": null,
            "max_height": null,
            "align_content": null,
            "visibility": null,
            "align_self": null,
            "height": "350px",
            "min_height": null,
            "padding": null,
            "grid_auto_rows": null,
            "grid_gap": null,
            "max_width": null,
            "order": null,
            "_view_module_version": "1.2.0",
            "grid_template_areas": null,
            "object_position": null,
            "object_fit": null,
            "grid_auto_columns": null,
            "margin": null,
            "display": null,
            "left": null
          }
        }
      }
    }
  },
  "cells": [
    {
      "cell_type": "markdown",
      "metadata": {
        "id": "view-in-github",
        "colab_type": "text"
      },
      "source": [
        "<a href=\"https://colab.research.google.com/github/kzhkAKT/Physics1/blob/master/1102_%E9%80%9F%E5%BA%A6%E3%81%A8%E5%A4%89%E4%BD%8D_%E7%89%A9%E7%90%861.ipynb\" target=\"_parent\"><img src=\"https://colab.research.google.com/assets/colab-badge.svg\" alt=\"Open In Colab\"/></a>"
      ]
    },
    {
      "cell_type": "markdown",
      "metadata": {
        "id": "f8l6xcPqG_Ej",
        "colab_type": "text"
      },
      "source": [
        "# 運動の表し方\n"
      ]
    },
    {
      "cell_type": "markdown",
      "metadata": {
        "colab_type": "text",
        "id": "ppHNXG8M1Xk0"
      },
      "source": [
        "## 速度と変位\n",
        "\n",
        "### 移動距離と方向\n",
        "次の数直前上で A,B 間の距離は 2000 m とします.\n",
        "\bA を開始点として B へ向かうものが赤い矢印,\n",
        "B を開始点として A へ向かうものが青い矢印で示しています."
      ]
    },
    {
      "cell_type": "markdown",
      "metadata": {
        "colab_type": "text",
        "id": "8GGmrYWW1YOD"
      },
      "source": [
        "<div align=\"center\">\n",
        "<img src=\"data:image/png;base64,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\" style=\"cursor:pointer;max-width:100%;\" onclick=\"(function(img){if(img.wnd!=null&&!img.wnd.closed){img.wnd.focus();}else{var r=function(evt){if(evt.data=='ready'&&evt.source==img.wnd){img.wnd.postMessage(decodeURIComponent(img.getAttribute('src')),'*');window.removeEventListener('message',r);}};window.addEventListener('message',r);img.wnd=window.open('https://app.diagrams.net/?client=1&lightbox=1&edit=_blank');}})(this);\"/>\n",
        "</div>\n"
      ]
    },
    {
      "cell_type": "markdown",
      "metadata": {
        "id": "G368FHy91oDq",
        "colab_type": "text"
      },
      "source": [
        "> Q. 右向きを正の方向(+)として,\n",
        "> 1. 赤い矢印の量を正負(+,-)を含めて示しなさい.\n",
        "> 2. 青い矢印の量を正負(+,-)を含めて示しなさい.\n",
        "\n",
        "> Q. 次の数の絶対値を答えよ.\n",
        "> 1. 数値 -5.0\n",
        "> 1. 距離 2.0 m\n",
        "> 1. $x>0$ のきの $x$ の 絶対値\n",
        "> 1. $x<0$ のきの $x$ の 絶対値\n",
        "> 1. 任意の $x$ の 絶対値"
      ]
    },
    {
      "cell_type": "markdown",
      "metadata": {
        "id": "bHfftP2QxuMN",
        "colab_type": "text"
      },
      "source": [
        "### 変位: $\\varDelta x$"
      ]
    },
    {
      "cell_type": "markdown",
      "metadata": {
        "id": "HKnhnHdPxqy0",
        "colab_type": "text"
      },
      "source": [
        "<img src=\"data:image/png;base64,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\" style=\"cursor:pointer;max-width:100%;\" onclick=\"(function(img){if(img.wnd!=null&&!img.wnd.closed){img.wnd.focus();}else{var r=function(evt){if(evt.data=='ready'&&evt.source==img.wnd){img.wnd.postMessage(decodeURIComponent(img.getAttribute('src')),'*');window.removeEventListener('message',r);}};window.addEventListener('message',r);img.wnd=window.open('https://app.diagrams.net/?client=1&lightbox=1&edit=_blank');}})(this);\"/>\n"
      ]
    },
    {
      "cell_type": "markdown",
      "metadata": {
        "id": "VzCfP22X2W08",
        "colab_type": "text"
      },
      "source": [
        "\n",
        "\n",
        "図のように一直線上を運動する物体があり, この物体の始めの位置を $x_1$ とします. 始めの位置から時間が $t$ 秒経過したところ, $x_2$ に移動しました.\n",
        "\n",
        "#### 変位の定義\n",
        "\n",
        " この物体が始めの位置から後の位置まで移動した\b距離の差(difference)を **変位** $\\varDelta x$ と言います. この例では右向きを正(+)としています.\n",
        "\n",
        "$$\n",
        "\\varDelta x = x_2 - x_1\n",
        "$$\n",
        "\n",
        "> 変位の単位は, 国際単位系で m が用いられます.\n",
        "\n",
        "赤と青の矢印で考えたように, 変位は正負(+,-)を取ることができます. \n",
        "\n",
        "> Q. 移動距離 $L$ を 変位 $\\varDelta x$ と数学記号を用いて示してください.\n",
        "\n",
        "### 時間の変化\n",
        "ある物体の時刻 $t_1$ から 時刻 $t_2$ までの変化を調べるとき, 物体の時間変化を次のように表すことができます.\n",
        "\n",
        "$$\n",
        "\\varDelta t = t_2 - t_1\n",
        "$$\n",
        ".\n",
        "\n",
        "> 時間の単位は, 国際単位系で s が用いられます.\n",
        "\n",
        "<!-- s は second を表し, この s の前に単位接頭語($\\mu$,p) などがつくことがあります. -->"
      ]
    },
    {
      "cell_type": "markdown",
      "metadata": {
        "id": "NCcxugL-6uQk",
        "colab_type": "text"
      },
      "source": [
        "### 速度 $v$\n",
        "\n",
        "#### 速度の定義\n",
        "速度とは, 変位 $\\varDelta x$ の時間の変化$\\varDelta t$ で定義されます.\n",
        "$$\n",
        "\\text{速度} = \\frac{変位}{時間変化}\n",
        "$$\n",
        "この関係式で速度(velocity)の頭文字 $v$ として,\n",
        "これまで学んだ文字を用いて表すと\n",
        "$$\n",
        "v = \\frac{\\varDelta x}{\\varDelta t}\n",
        "$$\n",
        "となります.\n",
        "\n",
        "変位と時間の変化を明示的に示すと\n",
        "$$\n",
        "v = \\frac{\\varDelta x}{\\varDelta t}\n",
        "= \\frac{x_2 - x_1}{t_2 - t_1}\n",
        "$$\n",
        "となります. この定義に基づけば\n",
        "> 速度の単位は, 国際単位系では m/s\n",
        "\n",
        "と組み立てられます. また速度の定義を文章で表現すると\n",
        "\n",
        "> 速度の定義は, 単位時間当たりの変位\n",
        "\n",
        "といえます. また, 変位 $\\Delta x$ が正負(+,-), 時間変化 $\\Delta t$ 物体の運動では正(+) をとるため, \n",
        "\n",
        ">**速度 $v$ は正負(+,-) の値 をとる**\n",
        "\n",
        "こともわかります.\n",
        "\n",
        "> Q. 速度と速さの関係\n",
        "> 1. \"速さ\" を速度 $v$ の文字と数学記号を用いて表してください.\n",
        "> 2. 下の枠をクリックし, 左側に表示された再生ボタンをクリックしてください.\n",
        ">   1. グラフ上部のつまみを調整し, 教科書 p2 の図1.2 と同じ図を作成してください.\n",
        ">   2. 作成したグラフを利用し, 電車の速度を計算してください.\n",
        "> 3. $x-t$ グラフの中で速度は, 一次関数のどのような量に当たるか答えてください.\n"
      ]
    },
    {
      "cell_type": "code",
      "metadata": {
        "id": "V4jBSd-qtNAL",
        "colab_type": "code",
        "cellView": "form",
        "colab": {
          "base_uri": "https://localhost:8080/",
          "height": 463,
          "referenced_widgets": [
            "b46efd3d9411480a9dd582063578baae",
            "5151b5921ec34743a1bbdc4dcf1e3fe4",
            "49d220e7399741e798707cc24096ee2e",
            "8bdae37b904a47d380105dbb7c2273b4",
            "71d18354b104495cbb24582af40cba47",
            "98ed3aef4d3a45a5af45572b23ab2864",
            "96a75066f3704cb8aa61a2f316ba5781",
            "73861b471dbf47eda231568cd50cfc10",
            "8df32374eeca42c78a535ac8b087703a",
            "5796ae5c77bf4e1aae3b0202a7e8caff",
            "facb1c7ad0784bde997a2126eb3eabf1",
            "6ca716409dbd44fb9f25da0a2156dc3d",
            "a4c74f0f49d3440fb8d2345391771fe4"
          ]
        },
        "outputId": "b407bb8d-7c74-439b-fbb3-5f12cf64124a"
      },
      "source": [
        "#@title 𝑥−𝑡グラフの作成(傾きが負) { vertical-output: true }\n",
        "%matplotlib inline\n",
        "from ipywidgets import interactive\n",
        "import matplotlib.pyplot as plt\n",
        "plt.style.use('ggplot')\n",
        "import numpy as np\n",
        "\n",
        "def x(x0, dx, dt):\n",
        "    plt.figure(2)\n",
        "    v=dx/dt    \n",
        "    t = np.linspace(0, dt)\n",
        "    plt.xlabel(\"$t$ [s]\")\n",
        "    plt.ylabel(\"$x$ [m]\")\n",
        "    plt.xlim(0, 450)\n",
        "    plt.ylim(0, 7000)\n",
        "    plt.plot(t, v * t + x0)\n",
        "    plt.show()\n",
        "\n",
        "interactive_plot = interactive(x,x0=(0,7000,500), dx=(-7000, 7000,500), dt=(0, 450,50))\n",
        "interactive_plot.children[1].description = 'x ~ x-x0:'\n",
        "interactive_plot.children[2].description = 't ~ t-0:'\n",
        "output = interactive_plot.children[-1]\n",
        "output.layout.height = '350px'\n",
        "interactive_plot"
      ],
      "execution_count": 1,
      "outputs": [
        {
          "output_type": "display_data",
          "data": {
            "application/vnd.jupyter.widget-view+json": {
              "model_id": "b46efd3d9411480a9dd582063578baae",
              "version_minor": 0,
              "version_major": 2
            },
            "text/plain": [
              "interactive(children=(IntSlider(value=3500, description='x0', max=7000, step=500), IntSlider(value=0, descript…"
            ]
          },
          "metadata": {
            "tags": []
          }
        }
      ]
    },
    {
      "cell_type": "code",
      "metadata": {
        "id": "DfNcEzrQMzFX",
        "colab_type": "code",
        "colab": {}
      },
      "source": [
        ""
      ],
      "execution_count": 0,
      "outputs": []
    }
  ]
}