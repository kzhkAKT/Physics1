{
  "nbformat": 4,
  "nbformat_minor": 0,
  "metadata": {
    "colab": {
      "name": "1440_運動量保存の法則_物理1",
      "provenance": [],
      "toc_visible": true,
      "authorship_tag": "ABX9TyPVl0q2bnOuK2O2VHG/TBk/",
      "include_colab_link": true
    },
    "kernelspec": {
      "name": "python3",
      "display_name": "Python 3"
    }
  },
  "cells": [
    {
      "cell_type": "markdown",
      "metadata": {
        "id": "view-in-github",
        "colab_type": "text"
      },
      "source": [
        "<a href=\"https://colab.research.google.com/github/kzhkAKT/Physics1/blob/draft/1440_%E9%81%8B%E5%8B%95%E9%87%8F%E4%BF%9D%E5%AD%98%E3%81%AE%E6%B3%95%E5%89%87_%E7%89%A9%E7%90%861.ipynb\" target=\"_parent\"><img src=\"https://colab.research.google.com/assets/colab-badge.svg\" alt=\"Open In Colab\"/></a>"
      ]
    },
    {
      "cell_type": "markdown",
      "metadata": {
        "id": "_jPPkwK_rG1q",
        "colab_type": "text"
      },
      "source": [
        "# 力積と運動量"
      ]
    },
    {
      "cell_type": "markdown",
      "metadata": {
        "id": "sG_kqOCx0Bc7",
        "colab_type": "text"
      },
      "source": [
        "## 運動量保存の法則: 一次元"
      ]
    },
    {
      "cell_type": "markdown",
      "metadata": {
        "id": "BZNrytEUObeS",
        "colab_type": "text"
      },
      "source": [
        "### 復習と確認: 運動量変化と力積\n",
        "\n",
        "1. \\begin{align*} \\Delta v = v' - v \\end{align*}\n",
        "1. \\begin{align*} a =\\dfrac{\\Delta v}{\\Delta t} \\end{align*}\n",
        "1. \\begin{align*} m \\cdot a =F \\end{align*}\n",
        "\n",
        ">> \\begin{align*} m v' - m v = F \\Delta t \\end{align*}\n",
        "\n",
        "> + 運動量 $m\\cdot v$ \n",
        "    - $v$ は速度なので, *方向* と *大きさ* 持つ\n",
        "    - $m$ の大きさのみの量($m>0$)なので,   \n",
        "      **運動量は方向と大きさを持つ**\n",
        "\n",
        "> + 力積 $F\\cdot \\Delta t$\n",
        "    - $F$ は速度なので, *方向* と *大きさ* 持つ\n",
        "    - $\\Delta t$ は接触時間($\\Delta t>0$)なので,  \n",
        "      **力積も方向と大きさを持つ**\n"
      ]
    },
    {
      "cell_type": "markdown",
      "metadata": {
        "id": "A1G0ITORRL3j",
        "colab_type": "text"
      },
      "source": [
        "### 作用反作用の法則\n",
        "\n",
        "- 作用と反作用は同一直線状\n",
        "- 作用と反作用の向きは逆だが,\n",
        "  二つの力の大きさは同じ"
      ]
    },
    {
      "cell_type": "code",
      "metadata": {
        "id": "Wvev1wXzR8hY",
        "colab_type": "code",
        "colab": {
          "base_uri": "https://localhost:8080/",
          "height": 336
        },
        "cellView": "form",
        "outputId": "eb8750ce-4778-43c1-ca93-a2f58b9682cf"
      },
      "source": [
        "#@title \bAction Force/Reaction Force\n",
        "%%html\n",
        "<iframe width=\"560\" height=\"315\" src=\"https://www.youtube-nocookie.com/embed/uI-eFzkBeHg\" frameborder=\"0\" allow=\"accelerometer; autoplay; encrypted-media; gyroscope; picture-in-picture\" allowfullscreen></iframe>"
      ],
      "execution_count": 19,
      "outputs": [
        {
          "output_type": "display_data",
          "data": {
            "text/html": [
              "<iframe width=\"560\" height=\"315\" src=\"https://www.youtube-nocookie.com/embed/uI-eFzkBeHg\" frameborder=\"0\" allow=\"accelerometer; autoplay; encrypted-media; gyroscope; picture-in-picture\" allowfullscreen></iframe>"
            ],
            "text/plain": [
              "<IPython.core.display.HTML object>"
            ]
          },
          "metadata": {
            "tags": []
          }
        }
      ]
    },
    {
      "cell_type": "markdown",
      "metadata": {
        "id": "nN9s7t14Q7Q7",
        "colab_type": "text"
      },
      "source": [
        "### 一次元における二物体の衝突: 運動量変化と力積 から 運動量保存則へ\n",
        "\n",
        "後方の物体が, 前方にある物体に衝突ことを考えます.\n",
        "\n",
        "この衝突で後方の物体と前方の物体それぞれについて\n",
        "1. 衝突の前\n",
        "2. 衝突の途中\n",
        "3. 衝突の後\n",
        "\n",
        "を意識し, 運動量の変化と力積を調べていきます.\n",
        "\n",
        "特に衝突中は, \n",
        "- 衝突は二つの物体が接触している時間に起こります:$\\quad \\Delta t$\n",
        "- 衝突による力は, 作用反作用として, それぞれの物体に働きます. $F, {\\rm  or } -F$\n",
        "\n",
        "ことを忘れないでください.\n",
        "\n",
        "\n",
        "\n"
      ]
    },
    {
      "cell_type": "code",
      "metadata": {
        "id": "3xrNkcG6Uwuh",
        "colab_type": "code",
        "colab": {
          "base_uri": "https://localhost:8080/",
          "height": 336
        },
        "cellView": "form",
        "outputId": "fddc38f2-7310-4f88-9c19-997f3dd74f89"
      },
      "source": [
        "#@title 衝突の動画\n",
        "%%html\n",
        "<iframe width=\"560\" height=\"315\" src=\"https://www.youtube-nocookie.com/embed/sjTVDZxqhaM?start=594\" frameborder=\"0\" allow=\"accelerometer; autoplay; encrypted-media; gyroscope; picture-in-picture\" allowfullscreen></iframe>"
      ],
      "execution_count": 34,
      "outputs": [
        {
          "output_type": "display_data",
          "data": {
            "text/html": [
              "<iframe width=\"560\" height=\"315\" src=\"https://www.youtube-nocookie.com/embed/sjTVDZxqhaM?start=594\" frameborder=\"0\" allow=\"accelerometer; autoplay; encrypted-media; gyroscope; picture-in-picture\" allowfullscreen></iframe>"
            ],
            "text/plain": [
              "<IPython.core.display.HTML object>"
            ]
          },
          "metadata": {
            "tags": []
          }
        }
      ]
    },
    {
      "cell_type": "code",
      "metadata": {
        "id": "-rcheyU-bw2O",
        "colab_type": "code",
        "colab": {
          "base_uri": "https://localhost:8080/",
          "height": 34
        },
        "outputId": "5c914225-e3aa-40db-f2c4-bd5a89f5a376"
      },
      "source": [
        "%%svg\n"
      ],
      "execution_count": 36,
      "outputs": [
        {
          "output_type": "stream",
          "text": [
            "UsageError: %%svg is a cell magic, but the cell body is empty.\n"
          ],
          "name": "stderr"
        }
      ]
    },
    {
      "cell_type": "markdown",
      "metadata": {
        "id": "yTYED5i5SrNq",
        "colab_type": "text"
      },
      "source": [
        "#### 左側にある物体(1)の衝突前後の運動量と力積の変化\n",
        "\\begin{align*}\n",
        "m_1 v_1' - m_1 v_1 = \\left( -F\\right) \\Delta t\n",
        "\\end{align*}"
      ]
    },
    {
      "cell_type": "markdown",
      "metadata": {
        "id": "uLlRAjd2aFFE",
        "colab_type": "text"
      },
      "source": [
        "#### 右にある物体(2)の衝突前後の運動量と力積の変化\n",
        "\\begin{align*}\n",
        "m_2 v_2' - m_2 v_2 = \\left( +F\\right) \\Delta t\n",
        "\\end{align*}"
      ]
    },
    {
      "cell_type": "markdown",
      "metadata": {
        "id": "ePIc9rJKaHPy",
        "colab_type": "text"
      },
      "source": [
        "$\\require{cancel}$\n",
        "#### 一次元の運動量保存則の導出\n",
        "\n",
        "(作用反作用に基づく)内力を考えながら二つの式を加えます\n",
        "\\begin{align*}\n",
        "m_1 v_1' - m_1 v_1 &= \\left( -F\\right) \\Delta t&\\\\\n",
        "m_2 v_2' - m_2 v_2 &= \\left( +F\\right) \\Delta t&\\\\\n",
        "\\left(\n",
        "m_1 v_1'+ m_2 v_2'\n",
        "\\right)\n",
        "-\n",
        "\\left(\n",
        "m_1 v_1 + m_2 v_2\n",
        "\\right)\n",
        "&=\n",
        "\\cancelto{0}{\\left( -F\\right) \\Delta t\n",
        "+\n",
        "\\left( +F\\right) \\Delta t}&\\\\\n",
        "m_1 v_1'+ m_2 v_2' &= m_1 v_1 + m_2 v_2&\n",
        "\\end{align*}"
      ]
    },
    {
      "cell_type": "markdown",
      "metadata": {
        "id": "tiFfSWqwW70e",
        "colab_type": "text"
      },
      "source": [
        "### 運動量保存則の実例"
      ]
    },
    {
      "cell_type": "code",
      "metadata": {
        "id": "sj6bAYwN0rZY",
        "colab_type": "code",
        "colab": {
          "base_uri": "https://localhost:8080/",
          "height": 336
        },
        "cellView": "form",
        "outputId": "a3a01f9d-991b-4292-b672-1e2ec24cbda5"
      },
      "source": [
        "#@title 宇宙ステーション: 運動量保存則\n",
        "%%html\n",
        "<iframe width=\"560\" height=\"315\" src=\"https://www.youtube-nocookie.com/embed/4IYDb6K5UF8\" frameborder=\"0\" allow=\"accelerometer; autoplay; encrypted-media; gyroscope; picture-in-picture\" allowfullscreen></iframe>"
      ],
      "execution_count": 15,
      "outputs": [
        {
          "output_type": "display_data",
          "data": {
            "text/html": [
              "<iframe width=\"560\" height=\"315\" src=\"https://www.youtube-nocookie.com/embed/4IYDb6K5UF8\" frameborder=\"0\" allow=\"accelerometer; autoplay; encrypted-media; gyroscope; picture-in-picture\" allowfullscreen></iframe>"
            ],
            "text/plain": [
              "<IPython.core.display.HTML object>"
            ]
          },
          "metadata": {
            "tags": []
          }
        }
      ]
    },
    {
      "cell_type": "code",
      "metadata": {
        "id": "Ql4EgR9j0_ET",
        "colab_type": "code",
        "colab": {
          "base_uri": "https://localhost:8080/",
          "height": 336
        },
        "cellView": "form",
        "outputId": "7c6a99df-34f2-4368-ff9d-43d93ecd4ae9"
      },
      "source": [
        "#@title 地上での一次元の運動量保存則(同一質量)\n",
        "%%html\n",
        "<iframe width=\"560\" height=\"315\" src=\"https://www.youtube-nocookie.com/embed/jRliH0jVilM\" frameborder=\"0\" allow=\"accelerometer; autoplay; encrypted-media; gyroscope; picture-in-picture\" allowfullscreen></iframe>"
      ],
      "execution_count": null,
      "outputs": [
        {
          "output_type": "display_data",
          "data": {
            "text/html": [
              "<iframe width=\"560\" height=\"315\" src=\"https://www.youtube-nocookie.com/embed/jRliH0jVilM\" frameborder=\"0\" allow=\"accelerometer; autoplay; encrypted-media; gyroscope; picture-in-picture\" allowfullscreen></iframe>"
            ],
            "text/plain": [
              "<IPython.core.display.HTML object>"
            ]
          },
          "metadata": {
            "tags": []
          }
        }
      ]
    },
    {
      "cell_type": "code",
      "metadata": {
        "id": "xQ01h5ifCXqd",
        "colab_type": "code",
        "colab": {
          "base_uri": "https://localhost:8080/",
          "height": 336
        },
        "cellView": "form",
        "outputId": "86b06ed4-b9ea-4911-e008-fc64d45c68f2"
      },
      "source": [
        "#@title 同じ質量の二つの物体の衝突: 一次元\n",
        "%%html\n",
        "<iframe width=\"560\" height=\"315\" src=\"https://www.youtube-nocookie.com/embed/w2zQJ8JMlBA?start=115\" frameborder=\"0\" allow=\"accelerometer; autoplay; encrypted-media; gyroscope; picture-in-picture\" allowfullscreen></iframe>\n"
      ],
      "execution_count": 35,
      "outputs": [
        {
          "output_type": "display_data",
          "data": {
            "text/html": [
              "<iframe width=\"560\" height=\"315\" src=\"https://www.youtube-nocookie.com/embed/w2zQJ8JMlBA?start=115\" frameborder=\"0\" allow=\"accelerometer; autoplay; encrypted-media; gyroscope; picture-in-picture\" allowfullscreen></iframe>"
            ],
            "text/plain": [
              "<IPython.core.display.HTML object>"
            ]
          },
          "metadata": {
            "tags": []
          }
        }
      ]
    },
    {
      "cell_type": "code",
      "metadata": {
        "id": "f15rKMb4G_AP",
        "colab_type": "code",
        "colab": {
          "base_uri": "https://localhost:8080/",
          "height": 336
        },
        "cellView": "form",
        "outputId": "276dd749-d2fd-428e-b5e8-b483f94ad18a"
      },
      "source": [
        "#@title 静から動: 運動量保存則\n",
        "%%html\n",
        "<iframe width=\"560\" height=\"315\" src=\"https://www.youtube-nocookie.com/embed/Kf0bBxmNeec?start=99\" frameborder=\"0\" allow=\"accelerometer; autoplay; encrypted-media; gyroscope; picture-in-picture\" allowfullscreen></iframe>"
      ],
      "execution_count": 11,
      "outputs": [
        {
          "output_type": "display_data",
          "data": {
            "text/html": [
              "<iframe width=\"560\" height=\"315\" src=\"https://www.youtube-nocookie.com/embed/Kf0bBxmNeec?start=99\" frameborder=\"0\" allow=\"accelerometer; autoplay; encrypted-media; gyroscope; picture-in-picture\" allowfullscreen></iframe>"
            ],
            "text/plain": [
              "<IPython.core.display.HTML object>"
            ]
          },
          "metadata": {
            "tags": []
          }
        }
      ]
    },
    {
      "cell_type": "code",
      "metadata": {
        "id": "F_xyhPmhMCkb",
        "colab_type": "code",
        "colab": {
          "base_uri": "https://localhost:8080/",
          "height": 336
        },
        "cellView": "form",
        "outputId": "195ae2e1-9b08-45d5-85be-f614294ac0dd"
      },
      "source": [
        "#@title 猟銃の反動: 運動量保存則\n",
        "%%html\n",
        "<iframe width=\"560\" height=\"315\" src=\"https://www.youtube-nocookie.com/embed/APA_lsOcA4s?start=99\" frameborder=\"0\" allow=\"accelerometer; autoplay; encrypted-media; gyroscope; picture-in-picture\" allowfullscreen></iframe>"
      ],
      "execution_count": 14,
      "outputs": [
        {
          "output_type": "display_data",
          "data": {
            "text/html": [
              "<iframe width=\"560\" height=\"315\" src=\"https://www.youtube-nocookie.com/embed/APA_lsOcA4s?start=99\" frameborder=\"0\" allow=\"accelerometer; autoplay; encrypted-media; gyroscope; picture-in-picture\" allowfullscreen></iframe>"
            ],
            "text/plain": [
              "<IPython.core.display.HTML object>"
            ]
          },
          "metadata": {
            "tags": []
          }
        }
      ]
    },
    {
      "cell_type": "code",
      "metadata": {
        "id": "5mu-jlMiJFlK",
        "colab_type": "code",
        "colab": {
          "base_uri": "https://localhost:8080/",
          "height": 336
        },
        "cellView": "form",
        "outputId": "c2d19dd1-f1d3-435a-af73-b6189e2b51d1"
      },
      "source": [
        "#@title ロケットへの応用: 運動量保存則\n",
        "%%html\n",
        "<iframe width=\"560\" height=\"315\" src=\"https://www.youtube-nocookie.com/embed/twcVymNjYwU?start=1070\" frameborder=\"0\" allow=\"accelerometer; autoplay; encrypted-media; gyroscope; picture-in-picture\" allowfullscreen></iframe>"
      ],
      "execution_count": 13,
      "outputs": [
        {
          "output_type": "display_data",
          "data": {
            "text/html": [
              "<iframe width=\"560\" height=\"315\" src=\"https://www.youtube-nocookie.com/embed/twcVymNjYwU?start=1070\" frameborder=\"0\" allow=\"accelerometer; autoplay; encrypted-media; gyroscope; picture-in-picture\" allowfullscreen></iframe>"
            ],
            "text/plain": [
              "<IPython.core.display.HTML object>"
            ]
          },
          "metadata": {
            "tags": []
          }
        }
      ]
    }
  ]
}