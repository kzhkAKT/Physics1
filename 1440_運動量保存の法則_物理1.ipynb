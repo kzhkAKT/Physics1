{
  "nbformat": 4,
  "nbformat_minor": 0,
  "metadata": {
    "colab": {
      "name": "1440_運動量保存の法則_物理1",
      "provenance": [],
      "authorship_tag": "ABX9TyPOzPf5hW3BOf2V+/mLqXmn",
      "include_colab_link": true
    },
    "kernelspec": {
      "name": "python3",
      "display_name": "Python 3"
    }
  },
  "cells": [
    {
      "cell_type": "markdown",
      "metadata": {
        "id": "view-in-github",
        "colab_type": "text"
      },
      "source": [
        "<a href=\"https://colab.research.google.com/github/kzhkAKT/Physics1/blob/master/1440_%E9%81%8B%E5%8B%95%E9%87%8F%E4%BF%9D%E5%AD%98%E3%81%AE%E6%B3%95%E5%89%87_%E7%89%A9%E7%90%861.ipynb\" target=\"_parent\"><img src=\"https://colab.research.google.com/assets/colab-badge.svg\" alt=\"Open In Colab\"/></a>"
      ]
    },
    {
      "cell_type": "markdown",
      "metadata": {
        "id": "_jPPkwK_rG1q",
        "colab_type": "text"
      },
      "source": [
        "# 力積と運動量"
      ]
    },
    {
      "cell_type": "markdown",
      "metadata": {
        "id": "sG_kqOCx0Bc7",
        "colab_type": "text"
      },
      "source": [
        "## 運動量保存の法則"
      ]
    },
    {
      "cell_type": "code",
      "metadata": {
        "id": "WsyLi1hxz0xg",
        "colab_type": "code",
        "colab": {
          "base_uri": "https://localhost:8080/",
          "height": 336
        },
        "outputId": "34ec2f93-f78c-48c8-aba5-720a436a387d"
      },
      "source": [
        "%%html\n",
        "<iframe width=\"560\" height=\"315\" src=\"https://www.youtube-nocookie.com/embed/w2zQJ8JMlBA\" frameborder=\"0\" allow=\"accelerometer; autoplay; encrypted-media; gyroscope; picture-in-picture\" allowfullscreen></iframe>"
      ],
      "execution_count": 1,
      "outputs": [
        {
          "output_type": "display_data",
          "data": {
            "text/html": [
              "<iframe width=\"560\" height=\"315\" src=\"https://www.youtube-nocookie.com/embed/w2zQJ8JMlBA\" frameborder=\"0\" allow=\"accelerometer; autoplay; encrypted-media; gyroscope; picture-in-picture\" allowfullscreen></iframe>"
            ],
            "text/plain": [
              "<IPython.core.display.HTML object>"
            ]
          },
          "metadata": {
            "tags": []
          }
        }
      ]
    }
  ]
}