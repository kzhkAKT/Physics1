{
  "nbformat": 4,
  "nbformat_minor": 0,
  "metadata": {
    "colab": {
      "name": "1440_運動量保存の法則_物理1",
      "provenance": [],
      "toc_visible": true,
      "authorship_tag": "ABX9TyN6dLtHKHRofir4BFTqwqWP",
      "include_colab_link": true
    },
    "kernelspec": {
      "name": "python3",
      "display_name": "Python 3"
    }
  },
  "cells": [
    {
      "cell_type": "markdown",
      "metadata": {
        "id": "view-in-github",
        "colab_type": "text"
      },
      "source": [
        "<a href=\"https://colab.research.google.com/github/kzhkAKT/Physics1/blob/draft/1440_%E9%81%8B%E5%8B%95%E9%87%8F%E4%BF%9D%E5%AD%98%E3%81%AE%E6%B3%95%E5%89%87_%E7%89%A9%E7%90%861.ipynb\" target=\"_parent\"><img src=\"https://colab.research.google.com/assets/colab-badge.svg\" alt=\"Open In Colab\"/></a>"
      ]
    },
    {
      "cell_type": "markdown",
      "metadata": {
        "id": "_jPPkwK_rG1q",
        "colab_type": "text"
      },
      "source": [
        "# 力積と運動量"
      ]
    },
    {
      "cell_type": "markdown",
      "metadata": {
        "id": "sG_kqOCx0Bc7",
        "colab_type": "text"
      },
      "source": [
        "## 運動量保存の法則: 一次元"
      ]
    },
    {
      "cell_type": "markdown",
      "metadata": {
        "id": "BZNrytEUObeS",
        "colab_type": "text"
      },
      "source": [
        "### 復習と確認: 運動量変化と力積\n",
        "\n",
        "1. \\begin{align*} \\Delta v = v' - v \\end{align*}\n",
        "1. \\begin{align*} a =\\dfrac{\\Delta v}{\\Delta t} \\end{align*}\n",
        "1. \\begin{align*} m \\cdot a =F \\end{align*}\n",
        "\n",
        ">> \\begin{align*} m v' - m v = F \\Delta t \\end{align*}\n",
        "\n",
        "> + 運動量 $m\\cdot v$ \n",
        "    - $v$ は速度なので, *方向* と *大きさ* 持つ\n",
        "    - $m$ の大きさのみの量($m>0$)なので,   \n",
        "      **運動量は方向と大きさを持つ**\n",
        "\n",
        "> + 力積 $F\\cdot \\Delta t$\n",
        "    - $F$ は速度なので, *方向* と *大きさ* 持つ\n",
        "    - $\\Delta t$ は接触時間($\\Delta t>0$)なので,  \n",
        "      **力積も方向と大きさを持つ**\n"
      ]
    },
    {
      "cell_type": "markdown",
      "metadata": {
        "id": "A1G0ITORRL3j",
        "colab_type": "text"
      },
      "source": [
        "### 作用反作用の法則\n",
        "\n",
        "- 作用と反作用は同一直線状\n",
        "- 作用と反作用の向きは逆だが,\n",
        "  二つの力の大きさは同じ"
      ]
    },
    {
      "cell_type": "code",
      "metadata": {
        "id": "Wvev1wXzR8hY",
        "colab_type": "code",
        "cellView": "form",
        "colab": {
          "base_uri": "https://localhost:8080/",
          "height": 336
        },
        "outputId": "eb8750ce-4778-43c1-ca93-a2f58b9682cf"
      },
      "source": [
        "#@title \bAction Force/Reaction Force\n",
        "%%html\n",
        "<iframe width=\"560\" height=\"315\" src=\"https://www.youtube-nocookie.com/embed/uI-eFzkBeHg\" frameborder=\"0\" allow=\"accelerometer; autoplay; encrypted-media; gyroscope; picture-in-picture\" allowfullscreen></iframe>"
      ],
      "execution_count": null,
      "outputs": [
        {
          "output_type": "display_data",
          "data": {
            "text/html": [
              "<iframe width=\"560\" height=\"315\" src=\"https://www.youtube-nocookie.com/embed/uI-eFzkBeHg\" frameborder=\"0\" allow=\"accelerometer; autoplay; encrypted-media; gyroscope; picture-in-picture\" allowfullscreen></iframe>"
            ],
            "text/plain": [
              "<IPython.core.display.HTML object>"
            ]
          },
          "metadata": {
            "tags": []
          }
        }
      ]
    },
    {
      "cell_type": "markdown",
      "metadata": {
        "id": "nN9s7t14Q7Q7",
        "colab_type": "text"
      },
      "source": [
        "### 一次元における二物体の衝突: 運動量変化と力積 から 運動量保存則へ\n",
        "\n",
        "後方の物体が, 前方にある物体に衝突ことを考えます.\n",
        "\n",
        "この衝突で後方の物体と前方の物体それぞれについて\n",
        "1. 衝突の前\n",
        "2. 衝突の途中\n",
        "3. 衝突の後\n",
        "\n",
        "を意識し, 運動量の変化と力積を調べていきます.\n",
        "\n",
        "特に衝突中は, \n",
        "- 衝突は二つの物体が接触している時間に起こります:$\\quad \\Delta t$\n",
        "- 衝突による力は, 作用反作用として, それぞれの物体に働きます. $F, {\\rm  or } -F$\n",
        "\n",
        "ことを忘れないでください.\n",
        "\n",
        "以下では, 衝突を一度に限定するため\n",
        "- $v_1 > v_2$\n",
        "- $v'_1 \b< v'_2$\n",
        "\n",
        "とします.\n",
        "\n",
        "\n",
        "\n"
      ]
    },
    {
      "cell_type": "code",
      "metadata": {
        "id": "3xrNkcG6Uwuh",
        "colab_type": "code",
        "cellView": "form",
        "colab": {
          "base_uri": "https://localhost:8080/",
          "height": 336
        },
        "outputId": "fddc38f2-7310-4f88-9c19-997f3dd74f89"
      },
      "source": [
        "#@title 衝突の動画\n",
        "%%html\n",
        "<iframe width=\"560\" height=\"315\" src=\"https://www.youtube-nocookie.com/embed/sjTVDZxqhaM?start=594\" frameborder=\"0\" allow=\"accelerometer; autoplay; encrypted-media; gyroscope; picture-in-picture\" allowfullscreen></iframe>"
      ],
      "execution_count": null,
      "outputs": [
        {
          "output_type": "display_data",
          "data": {
            "text/html": [
              "<iframe width=\"560\" height=\"315\" src=\"https://www.youtube-nocookie.com/embed/sjTVDZxqhaM?start=594\" frameborder=\"0\" allow=\"accelerometer; autoplay; encrypted-media; gyroscope; picture-in-picture\" allowfullscreen></iframe>"
            ],
            "text/plain": [
              "<IPython.core.display.HTML object>"
            ]
          },
          "metadata": {
            "tags": []
          }
        }
      ]
    },
    {
      "cell_type": "code",
      "metadata": {
        "id": "-rcheyU-bw2O",
        "colab_type": "code",
        "cellView": "form",
        "colab": {
          "base_uri": "https://localhost:8080/",
          "height": 427
        },
        "outputId": "414f55fb-27d0-4ad6-f723-3065f0e97b9f"
      },
      "source": [
        "#@title 概念図: 水平面上の二物体の衝突\n",
        "%%svg\n",
        "<svg xmlns=\"http://www.w3.org/2000/svg\" xmlns:xlink=\"http://www.w3.org/1999/xlink\" version=\"1.1\" width=\"582px\" viewBox=\"-0.5 -0.5 582 406\" content=\"&lt;mxfile host=&quot;www.draw.io&quot; modified=&quot;2020-08-04T03:30:48.851Z&quot; agent=&quot;5.0 (Macintosh; Intel Mac OS X 10_10_5) AppleWebKit/537.36 (KHTML, like Gecko) Chrome/84.0.4147.105 Safari/537.36&quot; etag=&quot;A1PADwtHBV2LW0z3Ox9W&quot; version=&quot;13.5.7&quot; type=&quot;google&quot;&gt;&lt;diagram id=&quot;UrN48Nac0JyGPnuzKz33&quot; name=&quot;Page-1&quot;&gt;7Ztbk6I4FMc/TWqenJJwfxTb3nmYnd3a3qqpfYwQNNPBsICX3k+/CQQlgNcWL22/KJwkB0h+Of+ToEAfRqvfEhRPf2cBpgD2gxXQnwCEmuYa/EtY3qSl75iFZZKQQNo2hhfyHy4rSuucBDhVKmaM0YzEqtFnsxn2M8WGkoQt1Woho+pVYzTBDcOLj2jT+pME2bSwmo6+sX/DZDKVVzY0WRChsq58kHSKArasmPQR0IcJY1lxFK2GmIrOK7ulaPe8pXR9XwmeZYc0CNJ/flrx4tevJfuB3fm3ZP5Ke9LLAtG5fF4ALcr9eSHjbnl/Ib8osP6dizv1/iYRHw7Y/4GX/PMvFqHZplA8ZvZG1RbCUy/NB3bAK0AjXlVbWBP5nV+WlIaotPAnIvVa6XxcmrRKvYq5Yi2epDRD5R5hwuazAIsu0njxckoy/BIXz7zkRHPbNIuoLA4JpUNGWZK31QOEndAXt5Ml7BVXSizfweNwXVKCA9d3sMBJhldbR1Jb88EnFmYRzpI3XmWlTg05pSx5utzgWZqmFTJLG5ITYrL2u4GGH0hujmAI3j1D8IIMbWelRtfQfbJGTmcM2Xshci4Jkb4PoqOZaGLHeyGZEHQAOIvLBB88CwZCoviZT1GaEl9lpWiAg4ZC7R1lOaqwOapmy6iWtgRTlJGFerW2oZYX/JORfGza45JRYyVl88THsk1VqGpu3N1uMpRMcLbDTVmRhWGKlTo5meteOh1W4y5hfWeU+2iw2uehdR/1N4CrefcCfcUkLwyx5bcmeYHtjvv9rgRa76tc6caV0zzr7im6ZJpXp8jxcTtFY8c0zM4oMqz9FF00z7NvSzq/fCZ6J2hnIzbBE8VzjeM2Rzegns59EvuZ7VVBa8TBU4k19dsn1r17pb5qvhfCLfmeNbZMi5dwOc7+4P5IJiAwOhNvWAuz6/NrpYDlUueOybpmDnhDZFn7ybpoWqi1vYio9X06RbE4DCleSW3yupOpy+hSYyCg+9U8TZkMuNfVFm06l+5o8Ojw0JL4HBASnPaQ4D0fnN1wIL6jMaYqLYiSyUygxOHAici2+CQjPqIDWRCRIBA+vATz20Hj3J+YpbHo07yXTQ+YT/KeX+QVy35pTln51lJ6AuusqArojgmzdYL3v0JN1xUeynd97903c1Wv0FE9dJfWaG3brp8x4pgYodUzisvHiOM3I88YI3qPFCGMx4sQbWv17QtbFuOZOry88JmIa+ZDduuBwVb6WTt5SVuLLw1HXYeEvevVbndYDt8T6T4mdBAGnD1hwIWGpoy/cRY49VqL7mY9bMsLjuNHc07nZ2SCgQ0cfsA/B8CzwMgCjiksD82VyROXDrjq2U5NXqyLgda2/fFx5aX2Yrux+D9cX/TdjjrWF9i2t/CpL2eKA5Xfsn5UfTn+zffe9zlpLPZBjxemUnNc4PSBa4CRATwHDJ6K2rnyjMDABCNHiNIg1yKXV4aiicuPdVFtOBJt61uo2a4tVLFdmt/zka+RukeaCvce8l8n+eZsua06YzN8HeB123bPgrhbW0jZ/Ysh37aT9zBKp5cd/16lazjqWumu/CvaWwoLHUx8+OGVbvvm3G7BClFE6JsUIWihKM5HQNcN/j1ZA6PaRd0CscM0zwaemSvZjnWWqlEPQF2PL7T6ThfYGYaqPtB8P4b8dPOHp6L65m9j+uh/&lt;/diagram&gt;&lt;/mxfile&gt;\" onclick=\"(function(svg){var src=window.event.target||window.event.srcElement;while (src!=null&amp;&amp;src.nodeName.toLowerCase()!='a'){src=src.parentNode;}if(src==null){if(svg.wnd!=null&amp;&amp;!svg.wnd.closed){svg.wnd.focus();}else{var r=function(evt){if(evt.data=='ready'&amp;&amp;evt.source==svg.wnd){svg.wnd.postMessage(decodeURIComponent(svg.getAttribute('content')),'*');window.removeEventListener('message',r);}};window.addEventListener('message',r);svg.wnd=window.open('https://viewer.diagrams.net/?client=1&amp;edit=_blank');}}})(this);\" style=\"cursor:pointer;max-width:100%;max-height:406px;\"><defs/><g><rect x=\"10\" y=\"56\" width=\"60\" height=\"60\" rx=\"9\" ry=\"9\" fill=\"#dae8fc\" stroke=\"#6c8ebf\" stroke-width=\"2\" pointer-events=\"all\"/><g transform=\"translate(-0.5 -0.5)\"><switch><foreignObject style=\"overflow: visible; text-align: left;\" pointer-events=\"none\" width=\"100%\" height=\"100%\" requiredFeatures=\"http://www.w3.org/TR/SVG11/feature#Extensibility\"><div xmlns=\"http://www.w3.org/1999/xhtml\" style=\"display: flex; align-items: unsafe center; justify-content: unsafe center; width: 58px; height: 1px; padding-top: 86px; margin-left: 11px;\"><div style=\"box-sizing: border-box; font-size: 0; text-align: center; \"><div style=\"display: inline-block; font-size: 12px; font-family: Helvetica; color: #000000; line-height: 1.2; pointer-events: all; white-space: normal; word-wrap: normal; \"><font face=\"Times New Roman\" style=\"font-size: 24px\"><i>m</i><sub>1</sub></font></div></div></div></foreignObject><text x=\"40\" y=\"90\" fill=\"#000000\" font-family=\"Helvetica\" font-size=\"12px\" text-anchor=\"middle\">m1</text></switch></g><rect x=\"170\" y=\"56\" width=\"80\" height=\"60\" rx=\"9\" ry=\"9\" fill=\"#c9d6e8\" stroke=\"#6c8ebf\" stroke-width=\"2\" pointer-events=\"all\"/><g transform=\"translate(-0.5 -0.5)\"><switch><foreignObject style=\"overflow: visible; text-align: left;\" pointer-events=\"none\" width=\"100%\" height=\"100%\" requiredFeatures=\"http://www.w3.org/TR/SVG11/feature#Extensibility\"><div xmlns=\"http://www.w3.org/1999/xhtml\" style=\"display: flex; align-items: unsafe center; justify-content: unsafe center; width: 78px; height: 1px; padding-top: 86px; margin-left: 171px;\"><div style=\"box-sizing: border-box; font-size: 0; text-align: center; \"><div style=\"display: inline-block; font-size: 12px; font-family: Helvetica; color: #000000; line-height: 1.2; pointer-events: all; white-space: normal; word-wrap: normal; \"><font face=\"Times New Roman\" style=\"font-size: 24px\"><i>m</i><sub>2</sub></font></div></div></div></foreignObject><text x=\"210\" y=\"90\" fill=\"#000000\" font-family=\"Helvetica\" font-size=\"12px\" text-anchor=\"middle\">m2</text></switch></g><path d=\"M 10 36 L 83.63 36\" fill=\"none\" stroke=\"#000000\" stroke-miterlimit=\"10\" pointer-events=\"stroke\"/><path d=\"M 88.88 36 L 81.88 39.5 L 83.63 36 L 81.88 32.5 Z\" fill=\"#000000\" stroke=\"#000000\" stroke-miterlimit=\"10\" pointer-events=\"all\"/><g transform=\"translate(-0.5 -0.5)\"><switch><foreignObject style=\"overflow: visible; text-align: left;\" pointer-events=\"none\" width=\"100%\" height=\"100%\" requiredFeatures=\"http://www.w3.org/TR/SVG11/feature#Extensibility\"><div xmlns=\"http://www.w3.org/1999/xhtml\" style=\"display: flex; align-items: unsafe center; justify-content: unsafe center; width: 1px; height: 1px; padding-top: 16px; margin-left: 50px;\"><div style=\"box-sizing: border-box; font-size: 0; text-align: center; \"><div style=\"display: inline-block; font-size: 11px; font-family: Helvetica; color: #000000; line-height: 1.2; pointer-events: all; background-color: #ffffff; white-space: nowrap; \"><font style=\"font-size: 24px\" face=\"Georgia\"><i>v</i><sub>1</sub></font></div></div></div></foreignObject><text x=\"50\" y=\"19\" fill=\"#000000\" font-family=\"Helvetica\" font-size=\"11px\" text-anchor=\"middle\">v1</text></switch></g><path d=\"M 170 36 L 203.63 36\" fill=\"none\" stroke=\"#000000\" stroke-miterlimit=\"10\" pointer-events=\"stroke\"/><path d=\"M 208.88 36 L 201.88 39.5 L 203.63 36 L 201.88 32.5 Z\" fill=\"#000000\" stroke=\"#000000\" stroke-miterlimit=\"10\" pointer-events=\"all\"/><g transform=\"translate(-0.5 -0.5)\"><switch><foreignObject style=\"overflow: visible; text-align: left;\" pointer-events=\"none\" width=\"100%\" height=\"100%\" requiredFeatures=\"http://www.w3.org/TR/SVG11/feature#Extensibility\"><div xmlns=\"http://www.w3.org/1999/xhtml\" style=\"display: flex; align-items: unsafe center; justify-content: unsafe center; width: 1px; height: 1px; padding-top: 16px; margin-left: 190px;\"><div style=\"box-sizing: border-box; font-size: 0; text-align: center; \"><div style=\"display: inline-block; font-size: 11px; font-family: Helvetica; color: #000000; line-height: 1.2; pointer-events: all; background-color: #ffffff; white-space: nowrap; \"><font style=\"font-size: 24px\" face=\"Georgia\"><i>v</i><sub>2</sub></font></div></div></div></foreignObject><text x=\"190\" y=\"19\" fill=\"#000000\" font-family=\"Helvetica\" font-size=\"11px\" text-anchor=\"middle\">v2</text></switch></g><rect x=\"300\" y=\"336\" width=\"60\" height=\"60\" rx=\"9\" ry=\"9\" fill=\"#ffe6cc\" stroke=\"#d79b00\" stroke-width=\"2\" pointer-events=\"all\"/><g transform=\"translate(-0.5 -0.5)\"><switch><foreignObject style=\"overflow: visible; text-align: left;\" pointer-events=\"none\" width=\"100%\" height=\"100%\" requiredFeatures=\"http://www.w3.org/TR/SVG11/feature#Extensibility\"><div xmlns=\"http://www.w3.org/1999/xhtml\" style=\"display: flex; align-items: unsafe center; justify-content: unsafe center; width: 58px; height: 1px; padding-top: 366px; margin-left: 301px;\"><div style=\"box-sizing: border-box; font-size: 0; text-align: center; \"><div style=\"display: inline-block; font-size: 12px; font-family: Helvetica; color: #000000; line-height: 1.2; pointer-events: all; white-space: normal; word-wrap: normal; \"><font face=\"Times New Roman\" style=\"font-size: 24px\"><i>m</i><sub>1</sub></font></div></div></div></foreignObject><text x=\"330\" y=\"370\" fill=\"#000000\" font-family=\"Helvetica\" font-size=\"12px\" text-anchor=\"middle\">m1</text></switch></g><rect x=\"460\" y=\"336\" width=\"80\" height=\"60\" rx=\"9\" ry=\"9\" fill=\"#f8cecc\" stroke=\"#b85450\" stroke-width=\"2\" pointer-events=\"all\"/><g transform=\"translate(-0.5 -0.5)\"><switch><foreignObject style=\"overflow: visible; text-align: left;\" pointer-events=\"none\" width=\"100%\" height=\"100%\" requiredFeatures=\"http://www.w3.org/TR/SVG11/feature#Extensibility\"><div xmlns=\"http://www.w3.org/1999/xhtml\" style=\"display: flex; align-items: unsafe center; justify-content: unsafe center; width: 78px; height: 1px; padding-top: 366px; margin-left: 461px;\"><div style=\"box-sizing: border-box; font-size: 0; text-align: center; \"><div style=\"display: inline-block; font-size: 12px; font-family: Helvetica; color: #000000; line-height: 1.2; pointer-events: all; white-space: normal; word-wrap: normal; \"><font face=\"Times New Roman\" style=\"font-size: 24px\"><i>m</i><sub>2</sub></font></div></div></div></foreignObject><text x=\"500\" y=\"370\" fill=\"#000000\" font-family=\"Helvetica\" font-size=\"12px\" text-anchor=\"middle\">m2</text></switch></g><path d=\"M 300 316 L 333.63 316\" fill=\"none\" stroke=\"#000000\" stroke-miterlimit=\"10\" pointer-events=\"stroke\"/><path d=\"M 338.88 316 L 331.88 319.5 L 333.63 316 L 331.88 312.5 Z\" fill=\"#000000\" stroke=\"#000000\" stroke-miterlimit=\"10\" pointer-events=\"all\"/><g transform=\"translate(-0.5 -0.5)\"><switch><foreignObject style=\"overflow: visible; text-align: left;\" pointer-events=\"none\" width=\"100%\" height=\"100%\" requiredFeatures=\"http://www.w3.org/TR/SVG11/feature#Extensibility\"><div xmlns=\"http://www.w3.org/1999/xhtml\" style=\"display: flex; align-items: unsafe center; justify-content: unsafe center; width: 1px; height: 1px; padding-top: 296px; margin-left: 320px;\"><div style=\"box-sizing: border-box; font-size: 0; text-align: center; \"><div style=\"display: inline-block; font-size: 11px; font-family: Helvetica; color: #000000; line-height: 1.2; pointer-events: all; background-color: #ffffff; white-space: nowrap; \"><font style=\"font-size: 24px\" face=\"Georgia\"><i>v'</i><sub>1</sub></font></div></div></div></foreignObject><text x=\"320\" y=\"299\" fill=\"#000000\" font-family=\"Helvetica\" font-size=\"11px\" text-anchor=\"middle\">v'1</text></switch></g><path d=\"M 460 316 L 523.63 316\" fill=\"none\" stroke=\"#000000\" stroke-miterlimit=\"10\" pointer-events=\"stroke\"/><path d=\"M 528.88 316 L 521.88 319.5 L 523.63 316 L 521.88 312.5 Z\" fill=\"#000000\" stroke=\"#000000\" stroke-miterlimit=\"10\" pointer-events=\"all\"/><g transform=\"translate(-0.5 -0.5)\"><switch><foreignObject style=\"overflow: visible; text-align: left;\" pointer-events=\"none\" width=\"100%\" height=\"100%\" requiredFeatures=\"http://www.w3.org/TR/SVG11/feature#Extensibility\"><div xmlns=\"http://www.w3.org/1999/xhtml\" style=\"display: flex; align-items: unsafe center; justify-content: unsafe center; width: 1px; height: 1px; padding-top: 296px; margin-left: 495px;\"><div style=\"box-sizing: border-box; font-size: 0; text-align: center; \"><div style=\"display: inline-block; font-size: 11px; font-family: Helvetica; color: #000000; line-height: 1.2; pointer-events: all; background-color: #ffffff; white-space: nowrap; \"><font style=\"font-size: 24px\" face=\"Georgia\"><i>v'</i><sub>2</sub></font></div></div></div></foreignObject><text x=\"495\" y=\"299\" fill=\"#000000\" font-family=\"Helvetica\" font-size=\"11px\" text-anchor=\"middle\">v'2</text></switch></g><rect x=\"200\" y=\"196\" width=\"60\" height=\"60\" rx=\"9\" ry=\"9\" fill=\"#fff2cc\" stroke=\"#d6b656\" stroke-width=\"2\" pointer-events=\"all\"/><g transform=\"translate(-0.5 -0.5)\" opacity=\"0.4\"><switch><foreignObject style=\"overflow: visible; text-align: left;\" pointer-events=\"none\" width=\"100%\" height=\"100%\" requiredFeatures=\"http://www.w3.org/TR/SVG11/feature#Extensibility\"><div xmlns=\"http://www.w3.org/1999/xhtml\" style=\"display: flex; align-items: unsafe center; justify-content: unsafe center; width: 58px; height: 1px; padding-top: 226px; margin-left: 201px;\"><div style=\"box-sizing: border-box; font-size: 0; text-align: center; \"><div style=\"display: inline-block; font-size: 12px; font-family: Helvetica; color: #000000; line-height: 1.2; pointer-events: all; white-space: normal; word-wrap: normal; \"><font face=\"Times New Roman\" style=\"font-size: 24px\"><i>m</i><sub>1</sub></font></div></div></div></foreignObject><text x=\"230\" y=\"230\" fill=\"#000000\" font-family=\"Helvetica\" font-size=\"12px\" text-anchor=\"middle\">m1</text></switch></g><rect x=\"260\" y=\"196\" width=\"80\" height=\"60\" rx=\"9\" ry=\"9\" fill=\"#fff2cc\" stroke=\"#d6b656\" stroke-width=\"2\" pointer-events=\"all\"/><g transform=\"translate(-0.5 -0.5)\" opacity=\"0.4\"><switch><foreignObject style=\"overflow: visible; text-align: left;\" pointer-events=\"none\" width=\"100%\" height=\"100%\" requiredFeatures=\"http://www.w3.org/TR/SVG11/feature#Extensibility\"><div xmlns=\"http://www.w3.org/1999/xhtml\" style=\"display: flex; align-items: unsafe center; justify-content: unsafe center; width: 78px; height: 1px; padding-top: 226px; margin-left: 261px;\"><div style=\"box-sizing: border-box; font-size: 0; text-align: center; \"><div style=\"display: inline-block; font-size: 12px; font-family: Helvetica; color: #000000; line-height: 1.2; pointer-events: all; white-space: normal; word-wrap: normal; \"><font face=\"Times New Roman\" style=\"font-size: 24px\"><i>m</i><sub>2</sub></font></div></div></div></foreignObject><text x=\"300\" y=\"230\" fill=\"#000000\" font-family=\"Helvetica\" font-size=\"12px\" text-anchor=\"middle\">m2</text></switch></g><path d=\"M 260.5 230.5 L 260.5 220.5 L 400.5 220.5 L 400.5 210 L 419.5 225.5 L 400.5 241 L 400.5 230.5 Z\" fill=\"none\" stroke=\"#000000\" stroke-linejoin=\"round\" stroke-miterlimit=\"10\" pointer-events=\"all\"/><g transform=\"translate(-0.5 -0.5)\"><switch><foreignObject style=\"overflow: visible; text-align: left;\" pointer-events=\"none\" width=\"100%\" height=\"100%\" requiredFeatures=\"http://www.w3.org/TR/SVG11/feature#Extensibility\"><div xmlns=\"http://www.w3.org/1999/xhtml\" style=\"display: flex; align-items: unsafe center; justify-content: unsafe center; width: 1px; height: 1px; padding-top: 199px; margin-left: 377px;\"><div style=\"box-sizing: border-box; font-size: 0; text-align: center; \"><div style=\"display: inline-block; font-size: 11px; font-family: Helvetica; color: #000000; line-height: 1.2; pointer-events: all; font-style: italic; background-color: #ffffff; white-space: nowrap; \"><font face=\"Georgia\" style=\"font-size: 28px\">+F</font></div></div></div></foreignObject><text x=\"377\" y=\"202\" fill=\"#000000\" font-family=\"Helvetica\" font-size=\"11px\" text-anchor=\"middle\" font-style=\"italic\">+F</text></switch></g><path d=\"M 259.5 220.5 L 259.5 230.5 L 119.5 230.5 L 119.5 241 L 100.5 225.5 L 119.5 210 L 119.5 220.5 Z\" fill=\"none\" stroke=\"#000000\" stroke-linejoin=\"round\" stroke-miterlimit=\"10\" pointer-events=\"all\"/><g transform=\"translate(-0.5 -0.5)\"><switch><foreignObject style=\"overflow: visible; text-align: left;\" pointer-events=\"none\" width=\"100%\" height=\"100%\" requiredFeatures=\"http://www.w3.org/TR/SVG11/feature#Extensibility\"><div xmlns=\"http://www.w3.org/1999/xhtml\" style=\"display: flex; align-items: unsafe center; justify-content: unsafe center; width: 1px; height: 1px; padding-top: 197px; margin-left: 183px;\"><div style=\"box-sizing: border-box; font-size: 0; text-align: center; \"><div style=\"display: inline-block; font-size: 11px; font-family: Helvetica; color: #000000; line-height: 1.2; pointer-events: all; font-style: italic; background-color: #ffffff; white-space: nowrap; \"><font face=\"Georgia\" style=\"font-size: 28px\">-F</font></div></div></div></foreignObject><text x=\"183\" y=\"200\" fill=\"#000000\" font-family=\"Helvetica\" font-size=\"11px\" text-anchor=\"middle\" font-style=\"italic\">-F</text></switch></g><path d=\"M 7 116 L 557.76 116\" fill=\"none\" stroke=\"#000000\" stroke-miterlimit=\"10\" pointer-events=\"stroke\"/><path d=\"M 551.88 119.5 L 558.88 116 L 551.88 112.5\" fill=\"none\" stroke=\"#000000\" stroke-miterlimit=\"10\" pointer-events=\"all\"/><g transform=\"translate(-0.5 -0.5)\"><switch><foreignObject style=\"overflow: visible; text-align: left;\" pointer-events=\"none\" width=\"100%\" height=\"100%\" requiredFeatures=\"http://www.w3.org/TR/SVG11/feature#Extensibility\"><div xmlns=\"http://www.w3.org/1999/xhtml\" style=\"display: flex; align-items: unsafe center; justify-content: unsafe center; width: 1px; height: 1px; padding-top: 113px; margin-left: 571px;\"><div style=\"box-sizing: border-box; font-size: 0; text-align: center; \"><div style=\"display: inline-block; font-size: 11px; font-family: Helvetica; color: #000000; line-height: 1.2; pointer-events: all; background-color: #ffffff; white-space: nowrap; \"><font style=\"font-size: 24px\" face=\"Georgia\">+</font></div></div></div></foreignObject><text x=\"571\" y=\"116\" fill=\"#000000\" font-family=\"Helvetica\" font-size=\"11px\" text-anchor=\"middle\">+</text></switch></g><g transform=\"translate(-0.5 -0.5)\"><switch><foreignObject style=\"overflow: visible; text-align: left;\" pointer-events=\"none\" width=\"100%\" height=\"100%\" requiredFeatures=\"http://www.w3.org/TR/SVG11/feature#Extensibility\"><div xmlns=\"http://www.w3.org/1999/xhtml\" style=\"display: flex; align-items: unsafe center; justify-content: unsafe center; width: 1px; height: 1px; padding-top: 87px; margin-left: 351px;\"><div style=\"box-sizing: border-box; font-size: 0; text-align: center; \"><div style=\"display: inline-block; font-size: 11px; font-family: Helvetica; color: #000000; line-height: 1.2; pointer-events: all; background-color: #ffffff; white-space: nowrap; \"><font style=\"font-size: 18px\" face=\"Georgia\">始状態</font></div></div></div></foreignObject><text x=\"351\" y=\"90\" fill=\"#000000\" font-family=\"Helvetica\" font-size=\"11px\" text-anchor=\"middle\">始状態</text></switch></g><path d=\"M 10 256 L 560.76 256\" fill=\"none\" stroke=\"#000000\" stroke-miterlimit=\"10\" pointer-events=\"stroke\"/><path d=\"M 554.88 259.5 L 561.88 256 L 554.88 252.5\" fill=\"none\" stroke=\"#000000\" stroke-miterlimit=\"10\" pointer-events=\"all\"/><g transform=\"translate(-0.5 -0.5)\"><switch><foreignObject style=\"overflow: visible; text-align: left;\" pointer-events=\"none\" width=\"100%\" height=\"100%\" requiredFeatures=\"http://www.w3.org/TR/SVG11/feature#Extensibility\"><div xmlns=\"http://www.w3.org/1999/xhtml\" style=\"display: flex; align-items: unsafe center; justify-content: unsafe center; width: 1px; height: 1px; padding-top: 253px; margin-left: 574px;\"><div style=\"box-sizing: border-box; font-size: 0; text-align: center; \"><div style=\"display: inline-block; font-size: 11px; font-family: Helvetica; color: #000000; line-height: 1.2; pointer-events: all; background-color: #ffffff; white-space: nowrap; \"><font style=\"font-size: 24px\" face=\"Georgia\">+</font></div></div></div></foreignObject><text x=\"574\" y=\"256\" fill=\"#000000\" font-family=\"Helvetica\" font-size=\"11px\" text-anchor=\"middle\">+</text></switch></g><g transform=\"translate(-0.5 -0.5)\"><switch><foreignObject style=\"overflow: visible; text-align: left;\" pointer-events=\"none\" width=\"100%\" height=\"100%\" requiredFeatures=\"http://www.w3.org/TR/SVG11/feature#Extensibility\"><div xmlns=\"http://www.w3.org/1999/xhtml\" style=\"display: flex; align-items: unsafe center; justify-content: unsafe center; width: 1px; height: 1px; padding-top: 187px; margin-left: 491px;\"><div style=\"box-sizing: border-box; font-size: 0; text-align: center; \"><div style=\"display: inline-block; font-size: 11px; font-family: Helvetica; color: #000000; line-height: 1.2; pointer-events: all; white-space: nowrap; \"><font face=\"Georgia\"><span style=\"font-size: 18px\">途中: 接触時間 Δ<i>t</i></span></font></div></div></div></foreignObject><text x=\"491\" y=\"190\" fill=\"#000000\" font-family=\"Helvetica\" font-size=\"11px\" text-anchor=\"middle\">途中: 接触時間 Δt</text></switch></g><path d=\"M 10 395 L 560.76 395\" fill=\"none\" stroke=\"#000000\" stroke-miterlimit=\"10\" pointer-events=\"stroke\"/><path d=\"M 554.88 398.5 L 561.88 395 L 554.88 391.5\" fill=\"none\" stroke=\"#000000\" stroke-miterlimit=\"10\" pointer-events=\"all\"/><g transform=\"translate(-0.5 -0.5)\"><switch><foreignObject style=\"overflow: visible; text-align: left;\" pointer-events=\"none\" width=\"100%\" height=\"100%\" requiredFeatures=\"http://www.w3.org/TR/SVG11/feature#Extensibility\"><div xmlns=\"http://www.w3.org/1999/xhtml\" style=\"display: flex; align-items: unsafe center; justify-content: unsafe center; width: 1px; height: 1px; padding-top: 392px; margin-left: 574px;\"><div style=\"box-sizing: border-box; font-size: 0; text-align: center; \"><div style=\"display: inline-block; font-size: 11px; font-family: Helvetica; color: #000000; line-height: 1.2; pointer-events: all; background-color: #ffffff; white-space: nowrap; \"><font style=\"font-size: 24px\" face=\"Georgia\">+</font></div></div></div></foreignObject><text x=\"574\" y=\"395\" fill=\"#000000\" font-family=\"Helvetica\" font-size=\"11px\" text-anchor=\"middle\">+</text></switch></g><g transform=\"translate(-0.5 -0.5)\"><switch><foreignObject style=\"overflow: visible; text-align: left;\" pointer-events=\"none\" width=\"100%\" height=\"100%\" requiredFeatures=\"http://www.w3.org/TR/SVG11/feature#Extensibility\"><div xmlns=\"http://www.w3.org/1999/xhtml\" style=\"display: flex; align-items: unsafe center; justify-content: unsafe center; width: 1px; height: 1px; padding-top: 367px; margin-left: 191px;\"><div style=\"box-sizing: border-box; font-size: 0; text-align: center; \"><div style=\"display: inline-block; font-size: 11px; font-family: Helvetica; color: #000000; line-height: 1.2; pointer-events: all; background-color: #ffffff; white-space: nowrap; \"><span style=\"font-family: &quot;georgia&quot; ; font-size: 18px\">終状態</span></div></div></div></foreignObject><text x=\"191\" y=\"370\" fill=\"#000000\" font-family=\"Helvetica\" font-size=\"11px\" text-anchor=\"middle\">終状態</text></switch></g></g><switch><g requiredFeatures=\"http://www.w3.org/TR/SVG11/feature#Extensibility\"/><a transform=\"translate(0,-5)\" xlink:href=\"https://desk.draw.io/support/solutions/articles/16000042487\" target=\"_blank\"><text text-anchor=\"middle\" font-size=\"10px\" x=\"50%\" y=\"100%\">Viewer does not support full SVG 1.1</text></a></switch></svg>"
      ],
      "execution_count": null,
      "outputs": [
        {
          "output_type": "display_data",
          "data": {
            "text/plain": [
              "<IPython.core.display.SVG object>"
            ],
            "image/svg+xml": "<svg content=\"&lt;mxfile host=&quot;www.draw.io&quot; modified=&quot;2020-08-04T03:30:48.851Z&quot; agent=&quot;5.0 (Macintosh; Intel Mac OS X 10_10_5) AppleWebKit/537.36 (KHTML, like Gecko) Chrome/84.0.4147.105 Safari/537.36&quot; etag=&quot;A1PADwtHBV2LW0z3Ox9W&quot; version=&quot;13.5.7&quot; type=&quot;google&quot;&gt;&lt;diagram id=&quot;UrN48Nac0JyGPnuzKz33&quot; name=&quot;Page-1&quot;&gt;7Ztbk6I4FMc/TWqenJJwfxTb3nmYnd3a3qqpfYwQNNPBsICX3k+/CQQlgNcWL22/KJwkB0h+Of+ToEAfRqvfEhRPf2cBpgD2gxXQnwCEmuYa/EtY3qSl75iFZZKQQNo2hhfyHy4rSuucBDhVKmaM0YzEqtFnsxn2M8WGkoQt1Woho+pVYzTBDcOLj2jT+pME2bSwmo6+sX/DZDKVVzY0WRChsq58kHSKArasmPQR0IcJY1lxFK2GmIrOK7ulaPe8pXR9XwmeZYc0CNJ/flrx4tevJfuB3fm3ZP5Ke9LLAtG5fF4ALcr9eSHjbnl/Ib8osP6dizv1/iYRHw7Y/4GX/PMvFqHZplA8ZvZG1RbCUy/NB3bAK0AjXlVbWBP5nV+WlIaotPAnIvVa6XxcmrRKvYq5Yi2epDRD5R5hwuazAIsu0njxckoy/BIXz7zkRHPbNIuoLA4JpUNGWZK31QOEndAXt5Ml7BVXSizfweNwXVKCA9d3sMBJhldbR1Jb88EnFmYRzpI3XmWlTg05pSx5utzgWZqmFTJLG5ITYrL2u4GGH0hujmAI3j1D8IIMbWelRtfQfbJGTmcM2Xshci4Jkb4PoqOZaGLHeyGZEHQAOIvLBB88CwZCoviZT1GaEl9lpWiAg4ZC7R1lOaqwOapmy6iWtgRTlJGFerW2oZYX/JORfGza45JRYyVl88THsk1VqGpu3N1uMpRMcLbDTVmRhWGKlTo5meteOh1W4y5hfWeU+2iw2uehdR/1N4CrefcCfcUkLwyx5bcmeYHtjvv9rgRa76tc6caV0zzr7im6ZJpXp8jxcTtFY8c0zM4oMqz9FF00z7NvSzq/fCZ6J2hnIzbBE8VzjeM2Rzegns59EvuZ7VVBa8TBU4k19dsn1r17pb5qvhfCLfmeNbZMi5dwOc7+4P5IJiAwOhNvWAuz6/NrpYDlUueOybpmDnhDZFn7ybpoWqi1vYio9X06RbE4DCleSW3yupOpy+hSYyCg+9U8TZkMuNfVFm06l+5o8Ojw0JL4HBASnPaQ4D0fnN1wIL6jMaYqLYiSyUygxOHAici2+CQjPqIDWRCRIBA+vATz20Hj3J+YpbHo07yXTQ+YT/KeX+QVy35pTln51lJ6AuusqArojgmzdYL3v0JN1xUeynd97903c1Wv0FE9dJfWaG3brp8x4pgYodUzisvHiOM3I88YI3qPFCGMx4sQbWv17QtbFuOZOry88JmIa+ZDduuBwVb6WTt5SVuLLw1HXYeEvevVbndYDt8T6T4mdBAGnD1hwIWGpoy/cRY49VqL7mY9bMsLjuNHc07nZ2SCgQ0cfsA/B8CzwMgCjiksD82VyROXDrjq2U5NXqyLgda2/fFx5aX2Yrux+D9cX/TdjjrWF9i2t/CpL2eKA5Xfsn5UfTn+zffe9zlpLPZBjxemUnNc4PSBa4CRATwHDJ6K2rnyjMDABCNHiNIg1yKXV4aiicuPdVFtOBJt61uo2a4tVLFdmt/zka+RukeaCvce8l8n+eZsua06YzN8HeB123bPgrhbW0jZ/Ysh37aT9zBKp5cd/16lazjqWumu/CvaWwoLHUx8+OGVbvvm3G7BClFE6JsUIWihKM5HQNcN/j1ZA6PaRd0CscM0zwaemSvZjnWWqlEPQF2PL7T6ThfYGYaqPtB8P4b8dPOHp6L65m9j+uh/&lt;/diagram&gt;&lt;/mxfile&gt;\" onclick=\"(function(svg){var src=window.event.target||window.event.srcElement;while (src!=null&amp;&amp;src.nodeName.toLowerCase()!='a'){src=src.parentNode;}if(src==null){if(svg.wnd!=null&amp;&amp;!svg.wnd.closed){svg.wnd.focus();}else{var r=function(evt){if(evt.data=='ready'&amp;&amp;evt.source==svg.wnd){svg.wnd.postMessage(decodeURIComponent(svg.getAttribute('content')),'*');window.removeEventListener('message',r);}};window.addEventListener('message',r);svg.wnd=window.open('https://viewer.diagrams.net/?client=1&amp;edit=_blank');}}})(this);\" style=\"cursor:pointer;max-width:100%;max-height:406px;\" version=\"1.1\" viewBox=\"-0.5 -0.5 582 406\" width=\"582px\" xmlns=\"http://www.w3.org/2000/svg\" xmlns:xlink=\"http://www.w3.org/1999/xlink\"><defs/><g><rect fill=\"#dae8fc\" height=\"60\" pointer-events=\"all\" rx=\"9\" ry=\"9\" stroke=\"#6c8ebf\" stroke-width=\"2\" width=\"60\" x=\"10\" y=\"56\"/><g transform=\"translate(-0.5 -0.5)\"><switch><foreignObject height=\"100%\" pointer-events=\"none\" requiredFeatures=\"http://www.w3.org/TR/SVG11/feature#Extensibility\" style=\"overflow: visible; text-align: left;\" width=\"100%\"><div style=\"display: flex; align-items: unsafe center; justify-content: unsafe center; width: 58px; height: 1px; padding-top: 86px; margin-left: 11px;\" xmlns=\"http://www.w3.org/1999/xhtml\"><div style=\"box-sizing: border-box; font-size: 0; text-align: center; \"><div style=\"display: inline-block; font-size: 12px; font-family: Helvetica; color: #000000; line-height: 1.2; pointer-events: all; white-space: normal; word-wrap: normal; \"><font face=\"Times New Roman\" style=\"font-size: 24px\"><i>m</i><sub>1</sub></font></div></div></div></foreignObject><text fill=\"#000000\" font-family=\"Helvetica\" font-size=\"12px\" text-anchor=\"middle\" x=\"40\" y=\"90\">m1</text></switch></g><rect fill=\"#c9d6e8\" height=\"60\" pointer-events=\"all\" rx=\"9\" ry=\"9\" stroke=\"#6c8ebf\" stroke-width=\"2\" width=\"80\" x=\"170\" y=\"56\"/><g transform=\"translate(-0.5 -0.5)\"><switch><foreignObject height=\"100%\" pointer-events=\"none\" requiredFeatures=\"http://www.w3.org/TR/SVG11/feature#Extensibility\" style=\"overflow: visible; text-align: left;\" width=\"100%\"><div style=\"display: flex; align-items: unsafe center; justify-content: unsafe center; width: 78px; height: 1px; padding-top: 86px; margin-left: 171px;\" xmlns=\"http://www.w3.org/1999/xhtml\"><div style=\"box-sizing: border-box; font-size: 0; text-align: center; \"><div style=\"display: inline-block; font-size: 12px; font-family: Helvetica; color: #000000; line-height: 1.2; pointer-events: all; white-space: normal; word-wrap: normal; \"><font face=\"Times New Roman\" style=\"font-size: 24px\"><i>m</i><sub>2</sub></font></div></div></div></foreignObject><text fill=\"#000000\" font-family=\"Helvetica\" font-size=\"12px\" text-anchor=\"middle\" x=\"210\" y=\"90\">m2</text></switch></g><path d=\"M 10 36 L 83.63 36\" fill=\"none\" pointer-events=\"stroke\" stroke=\"#000000\" stroke-miterlimit=\"10\"/><path d=\"M 88.88 36 L 81.88 39.5 L 83.63 36 L 81.88 32.5 Z\" fill=\"#000000\" pointer-events=\"all\" stroke=\"#000000\" stroke-miterlimit=\"10\"/><g transform=\"translate(-0.5 -0.5)\"><switch><foreignObject height=\"100%\" pointer-events=\"none\" requiredFeatures=\"http://www.w3.org/TR/SVG11/feature#Extensibility\" style=\"overflow: visible; text-align: left;\" width=\"100%\"><div style=\"display: flex; align-items: unsafe center; justify-content: unsafe center; width: 1px; height: 1px; padding-top: 16px; margin-left: 50px;\" xmlns=\"http://www.w3.org/1999/xhtml\"><div style=\"box-sizing: border-box; font-size: 0; text-align: center; \"><div style=\"display: inline-block; font-size: 11px; font-family: Helvetica; color: #000000; line-height: 1.2; pointer-events: all; background-color: #ffffff; white-space: nowrap; \"><font face=\"Georgia\" style=\"font-size: 24px\"><i>v</i><sub>1</sub></font></div></div></div></foreignObject><text fill=\"#000000\" font-family=\"Helvetica\" font-size=\"11px\" text-anchor=\"middle\" x=\"50\" y=\"19\">v1</text></switch></g><path d=\"M 170 36 L 203.63 36\" fill=\"none\" pointer-events=\"stroke\" stroke=\"#000000\" stroke-miterlimit=\"10\"/><path d=\"M 208.88 36 L 201.88 39.5 L 203.63 36 L 201.88 32.5 Z\" fill=\"#000000\" pointer-events=\"all\" stroke=\"#000000\" stroke-miterlimit=\"10\"/><g transform=\"translate(-0.5 -0.5)\"><switch><foreignObject height=\"100%\" pointer-events=\"none\" requiredFeatures=\"http://www.w3.org/TR/SVG11/feature#Extensibility\" style=\"overflow: visible; text-align: left;\" width=\"100%\"><div style=\"display: flex; align-items: unsafe center; justify-content: unsafe center; width: 1px; height: 1px; padding-top: 16px; margin-left: 190px;\" xmlns=\"http://www.w3.org/1999/xhtml\"><div style=\"box-sizing: border-box; font-size: 0; text-align: center; \"><div style=\"display: inline-block; font-size: 11px; font-family: Helvetica; color: #000000; line-height: 1.2; pointer-events: all; background-color: #ffffff; white-space: nowrap; \"><font face=\"Georgia\" style=\"font-size: 24px\"><i>v</i><sub>2</sub></font></div></div></div></foreignObject><text fill=\"#000000\" font-family=\"Helvetica\" font-size=\"11px\" text-anchor=\"middle\" x=\"190\" y=\"19\">v2</text></switch></g><rect fill=\"#ffe6cc\" height=\"60\" pointer-events=\"all\" rx=\"9\" ry=\"9\" stroke=\"#d79b00\" stroke-width=\"2\" width=\"60\" x=\"300\" y=\"336\"/><g transform=\"translate(-0.5 -0.5)\"><switch><foreignObject height=\"100%\" pointer-events=\"none\" requiredFeatures=\"http://www.w3.org/TR/SVG11/feature#Extensibility\" style=\"overflow: visible; text-align: left;\" width=\"100%\"><div style=\"display: flex; align-items: unsafe center; justify-content: unsafe center; width: 58px; height: 1px; padding-top: 366px; margin-left: 301px;\" xmlns=\"http://www.w3.org/1999/xhtml\"><div style=\"box-sizing: border-box; font-size: 0; text-align: center; \"><div style=\"display: inline-block; font-size: 12px; font-family: Helvetica; color: #000000; line-height: 1.2; pointer-events: all; white-space: normal; word-wrap: normal; \"><font face=\"Times New Roman\" style=\"font-size: 24px\"><i>m</i><sub>1</sub></font></div></div></div></foreignObject><text fill=\"#000000\" font-family=\"Helvetica\" font-size=\"12px\" text-anchor=\"middle\" x=\"330\" y=\"370\">m1</text></switch></g><rect fill=\"#f8cecc\" height=\"60\" pointer-events=\"all\" rx=\"9\" ry=\"9\" stroke=\"#b85450\" stroke-width=\"2\" width=\"80\" x=\"460\" y=\"336\"/><g transform=\"translate(-0.5 -0.5)\"><switch><foreignObject height=\"100%\" pointer-events=\"none\" requiredFeatures=\"http://www.w3.org/TR/SVG11/feature#Extensibility\" style=\"overflow: visible; text-align: left;\" width=\"100%\"><div style=\"display: flex; align-items: unsafe center; justify-content: unsafe center; width: 78px; height: 1px; padding-top: 366px; margin-left: 461px;\" xmlns=\"http://www.w3.org/1999/xhtml\"><div style=\"box-sizing: border-box; font-size: 0; text-align: center; \"><div style=\"display: inline-block; font-size: 12px; font-family: Helvetica; color: #000000; line-height: 1.2; pointer-events: all; white-space: normal; word-wrap: normal; \"><font face=\"Times New Roman\" style=\"font-size: 24px\"><i>m</i><sub>2</sub></font></div></div></div></foreignObject><text fill=\"#000000\" font-family=\"Helvetica\" font-size=\"12px\" text-anchor=\"middle\" x=\"500\" y=\"370\">m2</text></switch></g><path d=\"M 300 316 L 333.63 316\" fill=\"none\" pointer-events=\"stroke\" stroke=\"#000000\" stroke-miterlimit=\"10\"/><path d=\"M 338.88 316 L 331.88 319.5 L 333.63 316 L 331.88 312.5 Z\" fill=\"#000000\" pointer-events=\"all\" stroke=\"#000000\" stroke-miterlimit=\"10\"/><g transform=\"translate(-0.5 -0.5)\"><switch><foreignObject height=\"100%\" pointer-events=\"none\" requiredFeatures=\"http://www.w3.org/TR/SVG11/feature#Extensibility\" style=\"overflow: visible; text-align: left;\" width=\"100%\"><div style=\"display: flex; align-items: unsafe center; justify-content: unsafe center; width: 1px; height: 1px; padding-top: 296px; margin-left: 320px;\" xmlns=\"http://www.w3.org/1999/xhtml\"><div style=\"box-sizing: border-box; font-size: 0; text-align: center; \"><div style=\"display: inline-block; font-size: 11px; font-family: Helvetica; color: #000000; line-height: 1.2; pointer-events: all; background-color: #ffffff; white-space: nowrap; \"><font face=\"Georgia\" style=\"font-size: 24px\"><i>v'</i><sub>1</sub></font></div></div></div></foreignObject><text fill=\"#000000\" font-family=\"Helvetica\" font-size=\"11px\" text-anchor=\"middle\" x=\"320\" y=\"299\">v'1</text></switch></g><path d=\"M 460 316 L 523.63 316\" fill=\"none\" pointer-events=\"stroke\" stroke=\"#000000\" stroke-miterlimit=\"10\"/><path d=\"M 528.88 316 L 521.88 319.5 L 523.63 316 L 521.88 312.5 Z\" fill=\"#000000\" pointer-events=\"all\" stroke=\"#000000\" stroke-miterlimit=\"10\"/><g transform=\"translate(-0.5 -0.5)\"><switch><foreignObject height=\"100%\" pointer-events=\"none\" requiredFeatures=\"http://www.w3.org/TR/SVG11/feature#Extensibility\" style=\"overflow: visible; text-align: left;\" width=\"100%\"><div style=\"display: flex; align-items: unsafe center; justify-content: unsafe center; width: 1px; height: 1px; padding-top: 296px; margin-left: 495px;\" xmlns=\"http://www.w3.org/1999/xhtml\"><div style=\"box-sizing: border-box; font-size: 0; text-align: center; \"><div style=\"display: inline-block; font-size: 11px; font-family: Helvetica; color: #000000; line-height: 1.2; pointer-events: all; background-color: #ffffff; white-space: nowrap; \"><font face=\"Georgia\" style=\"font-size: 24px\"><i>v'</i><sub>2</sub></font></div></div></div></foreignObject><text fill=\"#000000\" font-family=\"Helvetica\" font-size=\"11px\" text-anchor=\"middle\" x=\"495\" y=\"299\">v'2</text></switch></g><rect fill=\"#fff2cc\" height=\"60\" pointer-events=\"all\" rx=\"9\" ry=\"9\" stroke=\"#d6b656\" stroke-width=\"2\" width=\"60\" x=\"200\" y=\"196\"/><g opacity=\"0.4\" transform=\"translate(-0.5 -0.5)\"><switch><foreignObject height=\"100%\" pointer-events=\"none\" requiredFeatures=\"http://www.w3.org/TR/SVG11/feature#Extensibility\" style=\"overflow: visible; text-align: left;\" width=\"100%\"><div style=\"display: flex; align-items: unsafe center; justify-content: unsafe center; width: 58px; height: 1px; padding-top: 226px; margin-left: 201px;\" xmlns=\"http://www.w3.org/1999/xhtml\"><div style=\"box-sizing: border-box; font-size: 0; text-align: center; \"><div style=\"display: inline-block; font-size: 12px; font-family: Helvetica; color: #000000; line-height: 1.2; pointer-events: all; white-space: normal; word-wrap: normal; \"><font face=\"Times New Roman\" style=\"font-size: 24px\"><i>m</i><sub>1</sub></font></div></div></div></foreignObject><text fill=\"#000000\" font-family=\"Helvetica\" font-size=\"12px\" text-anchor=\"middle\" x=\"230\" y=\"230\">m1</text></switch></g><rect fill=\"#fff2cc\" height=\"60\" pointer-events=\"all\" rx=\"9\" ry=\"9\" stroke=\"#d6b656\" stroke-width=\"2\" width=\"80\" x=\"260\" y=\"196\"/><g opacity=\"0.4\" transform=\"translate(-0.5 -0.5)\"><switch><foreignObject height=\"100%\" pointer-events=\"none\" requiredFeatures=\"http://www.w3.org/TR/SVG11/feature#Extensibility\" style=\"overflow: visible; text-align: left;\" width=\"100%\"><div style=\"display: flex; align-items: unsafe center; justify-content: unsafe center; width: 78px; height: 1px; padding-top: 226px; margin-left: 261px;\" xmlns=\"http://www.w3.org/1999/xhtml\"><div style=\"box-sizing: border-box; font-size: 0; text-align: center; \"><div style=\"display: inline-block; font-size: 12px; font-family: Helvetica; color: #000000; line-height: 1.2; pointer-events: all; white-space: normal; word-wrap: normal; \"><font face=\"Times New Roman\" style=\"font-size: 24px\"><i>m</i><sub>2</sub></font></div></div></div></foreignObject><text fill=\"#000000\" font-family=\"Helvetica\" font-size=\"12px\" text-anchor=\"middle\" x=\"300\" y=\"230\">m2</text></switch></g><path d=\"M 260.5 230.5 L 260.5 220.5 L 400.5 220.5 L 400.5 210 L 419.5 225.5 L 400.5 241 L 400.5 230.5 Z\" fill=\"none\" pointer-events=\"all\" stroke=\"#000000\" stroke-linejoin=\"round\" stroke-miterlimit=\"10\"/><g transform=\"translate(-0.5 -0.5)\"><switch><foreignObject height=\"100%\" pointer-events=\"none\" requiredFeatures=\"http://www.w3.org/TR/SVG11/feature#Extensibility\" style=\"overflow: visible; text-align: left;\" width=\"100%\"><div style=\"display: flex; align-items: unsafe center; justify-content: unsafe center; width: 1px; height: 1px; padding-top: 199px; margin-left: 377px;\" xmlns=\"http://www.w3.org/1999/xhtml\"><div style=\"box-sizing: border-box; font-size: 0; text-align: center; \"><div style=\"display: inline-block; font-size: 11px; font-family: Helvetica; color: #000000; line-height: 1.2; pointer-events: all; font-style: italic; background-color: #ffffff; white-space: nowrap; \"><font face=\"Georgia\" style=\"font-size: 28px\">+F</font></div></div></div></foreignObject><text fill=\"#000000\" font-family=\"Helvetica\" font-size=\"11px\" font-style=\"italic\" text-anchor=\"middle\" x=\"377\" y=\"202\">+F</text></switch></g><path d=\"M 259.5 220.5 L 259.5 230.5 L 119.5 230.5 L 119.5 241 L 100.5 225.5 L 119.5 210 L 119.5 220.5 Z\" fill=\"none\" pointer-events=\"all\" stroke=\"#000000\" stroke-linejoin=\"round\" stroke-miterlimit=\"10\"/><g transform=\"translate(-0.5 -0.5)\"><switch><foreignObject height=\"100%\" pointer-events=\"none\" requiredFeatures=\"http://www.w3.org/TR/SVG11/feature#Extensibility\" style=\"overflow: visible; text-align: left;\" width=\"100%\"><div style=\"display: flex; align-items: unsafe center; justify-content: unsafe center; width: 1px; height: 1px; padding-top: 197px; margin-left: 183px;\" xmlns=\"http://www.w3.org/1999/xhtml\"><div style=\"box-sizing: border-box; font-size: 0; text-align: center; \"><div style=\"display: inline-block; font-size: 11px; font-family: Helvetica; color: #000000; line-height: 1.2; pointer-events: all; font-style: italic; background-color: #ffffff; white-space: nowrap; \"><font face=\"Georgia\" style=\"font-size: 28px\">-F</font></div></div></div></foreignObject><text fill=\"#000000\" font-family=\"Helvetica\" font-size=\"11px\" font-style=\"italic\" text-anchor=\"middle\" x=\"183\" y=\"200\">-F</text></switch></g><path d=\"M 7 116 L 557.76 116\" fill=\"none\" pointer-events=\"stroke\" stroke=\"#000000\" stroke-miterlimit=\"10\"/><path d=\"M 551.88 119.5 L 558.88 116 L 551.88 112.5\" fill=\"none\" pointer-events=\"all\" stroke=\"#000000\" stroke-miterlimit=\"10\"/><g transform=\"translate(-0.5 -0.5)\"><switch><foreignObject height=\"100%\" pointer-events=\"none\" requiredFeatures=\"http://www.w3.org/TR/SVG11/feature#Extensibility\" style=\"overflow: visible; text-align: left;\" width=\"100%\"><div style=\"display: flex; align-items: unsafe center; justify-content: unsafe center; width: 1px; height: 1px; padding-top: 113px; margin-left: 571px;\" xmlns=\"http://www.w3.org/1999/xhtml\"><div style=\"box-sizing: border-box; font-size: 0; text-align: center; \"><div style=\"display: inline-block; font-size: 11px; font-family: Helvetica; color: #000000; line-height: 1.2; pointer-events: all; background-color: #ffffff; white-space: nowrap; \"><font face=\"Georgia\" style=\"font-size: 24px\">+</font></div></div></div></foreignObject><text fill=\"#000000\" font-family=\"Helvetica\" font-size=\"11px\" text-anchor=\"middle\" x=\"571\" y=\"116\">+</text></switch></g><g transform=\"translate(-0.5 -0.5)\"><switch><foreignObject height=\"100%\" pointer-events=\"none\" requiredFeatures=\"http://www.w3.org/TR/SVG11/feature#Extensibility\" style=\"overflow: visible; text-align: left;\" width=\"100%\"><div style=\"display: flex; align-items: unsafe center; justify-content: unsafe center; width: 1px; height: 1px; padding-top: 87px; margin-left: 351px;\" xmlns=\"http://www.w3.org/1999/xhtml\"><div style=\"box-sizing: border-box; font-size: 0; text-align: center; \"><div style=\"display: inline-block; font-size: 11px; font-family: Helvetica; color: #000000; line-height: 1.2; pointer-events: all; background-color: #ffffff; white-space: nowrap; \"><font face=\"Georgia\" style=\"font-size: 18px\">始状態</font></div></div></div></foreignObject><text fill=\"#000000\" font-family=\"Helvetica\" font-size=\"11px\" text-anchor=\"middle\" x=\"351\" y=\"90\">始状態</text></switch></g><path d=\"M 10 256 L 560.76 256\" fill=\"none\" pointer-events=\"stroke\" stroke=\"#000000\" stroke-miterlimit=\"10\"/><path d=\"M 554.88 259.5 L 561.88 256 L 554.88 252.5\" fill=\"none\" pointer-events=\"all\" stroke=\"#000000\" stroke-miterlimit=\"10\"/><g transform=\"translate(-0.5 -0.5)\"><switch><foreignObject height=\"100%\" pointer-events=\"none\" requiredFeatures=\"http://www.w3.org/TR/SVG11/feature#Extensibility\" style=\"overflow: visible; text-align: left;\" width=\"100%\"><div style=\"display: flex; align-items: unsafe center; justify-content: unsafe center; width: 1px; height: 1px; padding-top: 253px; margin-left: 574px;\" xmlns=\"http://www.w3.org/1999/xhtml\"><div style=\"box-sizing: border-box; font-size: 0; text-align: center; \"><div style=\"display: inline-block; font-size: 11px; font-family: Helvetica; color: #000000; line-height: 1.2; pointer-events: all; background-color: #ffffff; white-space: nowrap; \"><font face=\"Georgia\" style=\"font-size: 24px\">+</font></div></div></div></foreignObject><text fill=\"#000000\" font-family=\"Helvetica\" font-size=\"11px\" text-anchor=\"middle\" x=\"574\" y=\"256\">+</text></switch></g><g transform=\"translate(-0.5 -0.5)\"><switch><foreignObject height=\"100%\" pointer-events=\"none\" requiredFeatures=\"http://www.w3.org/TR/SVG11/feature#Extensibility\" style=\"overflow: visible; text-align: left;\" width=\"100%\"><div style=\"display: flex; align-items: unsafe center; justify-content: unsafe center; width: 1px; height: 1px; padding-top: 187px; margin-left: 491px;\" xmlns=\"http://www.w3.org/1999/xhtml\"><div style=\"box-sizing: border-box; font-size: 0; text-align: center; \"><div style=\"display: inline-block; font-size: 11px; font-family: Helvetica; color: #000000; line-height: 1.2; pointer-events: all; white-space: nowrap; \"><font face=\"Georgia\"><span style=\"font-size: 18px\">途中: 接触時間 Δ<i>t</i></span></font></div></div></div></foreignObject><text fill=\"#000000\" font-family=\"Helvetica\" font-size=\"11px\" text-anchor=\"middle\" x=\"491\" y=\"190\">途中: 接触時間 Δt</text></switch></g><path d=\"M 10 395 L 560.76 395\" fill=\"none\" pointer-events=\"stroke\" stroke=\"#000000\" stroke-miterlimit=\"10\"/><path d=\"M 554.88 398.5 L 561.88 395 L 554.88 391.5\" fill=\"none\" pointer-events=\"all\" stroke=\"#000000\" stroke-miterlimit=\"10\"/><g transform=\"translate(-0.5 -0.5)\"><switch><foreignObject height=\"100%\" pointer-events=\"none\" requiredFeatures=\"http://www.w3.org/TR/SVG11/feature#Extensibility\" style=\"overflow: visible; text-align: left;\" width=\"100%\"><div style=\"display: flex; align-items: unsafe center; justify-content: unsafe center; width: 1px; height: 1px; padding-top: 392px; margin-left: 574px;\" xmlns=\"http://www.w3.org/1999/xhtml\"><div style=\"box-sizing: border-box; font-size: 0; text-align: center; \"><div style=\"display: inline-block; font-size: 11px; font-family: Helvetica; color: #000000; line-height: 1.2; pointer-events: all; background-color: #ffffff; white-space: nowrap; \"><font face=\"Georgia\" style=\"font-size: 24px\">+</font></div></div></div></foreignObject><text fill=\"#000000\" font-family=\"Helvetica\" font-size=\"11px\" text-anchor=\"middle\" x=\"574\" y=\"395\">+</text></switch></g><g transform=\"translate(-0.5 -0.5)\"><switch><foreignObject height=\"100%\" pointer-events=\"none\" requiredFeatures=\"http://www.w3.org/TR/SVG11/feature#Extensibility\" style=\"overflow: visible; text-align: left;\" width=\"100%\"><div style=\"display: flex; align-items: unsafe center; justify-content: unsafe center; width: 1px; height: 1px; padding-top: 367px; margin-left: 191px;\" xmlns=\"http://www.w3.org/1999/xhtml\"><div style=\"box-sizing: border-box; font-size: 0; text-align: center; \"><div style=\"display: inline-block; font-size: 11px; font-family: Helvetica; color: #000000; line-height: 1.2; pointer-events: all; background-color: #ffffff; white-space: nowrap; \"><span style=\"font-family: &quot;georgia&quot; ; font-size: 18px\">終状態</span></div></div></div></foreignObject><text fill=\"#000000\" font-family=\"Helvetica\" font-size=\"11px\" text-anchor=\"middle\" x=\"191\" y=\"370\">終状態</text></switch></g></g><switch><g requiredFeatures=\"http://www.w3.org/TR/SVG11/feature#Extensibility\"/><a target=\"_blank\" transform=\"translate(0,-5)\" xlink:href=\"https://desk.draw.io/support/solutions/articles/16000042487\"><text font-size=\"10px\" text-anchor=\"middle\" x=\"50%\" y=\"100%\">Viewer does not support full SVG 1.1</text></a></switch></svg>"
          },
          "metadata": {
            "tags": []
          }
        }
      ]
    },
    {
      "cell_type": "markdown",
      "metadata": {
        "id": "yTYED5i5SrNq",
        "colab_type": "text"
      },
      "source": [
        "#### 左側にある物体(1)の衝突前後の運動量と力積の変化\n",
        "\\begin{align*}\n",
        "m_1 v_1' - m_1 v_1 = \\left( -F\\right) \\Delta t\n",
        "\\end{align*}"
      ]
    },
    {
      "cell_type": "markdown",
      "metadata": {
        "id": "uLlRAjd2aFFE",
        "colab_type": "text"
      },
      "source": [
        "#### 右にある物体(2)の衝突前後の運動量と力積の変化\n",
        "\\begin{align*}\n",
        "m_2 v_2' - m_2 v_2 = \\left( +F\\right) \\Delta t\n",
        "\\end{align*}"
      ]
    },
    {
      "cell_type": "markdown",
      "metadata": {
        "id": "ePIc9rJKaHPy",
        "colab_type": "text"
      },
      "source": [
        "$\\require{cancel}$\n",
        "#### 一次元の運動量保存則の導出\n",
        "\n",
        "(作用反作用に基づく)内力を考えながら二つの式を加えます\n",
        "\\begin{align*}\n",
        "m_1 v_1' - m_1 v_1 &= \\left( -F\\right) \\Delta t&\\\\\n",
        "m_2 v_2' - m_2 v_2 &= \\left( +F\\right) \\Delta t&\\\\\n",
        "\\left(\n",
        "m_1 v_1'+ m_2 v_2'\n",
        "\\right)\n",
        "-\n",
        "\\left(\n",
        "m_1 v_1 + m_2 v_2\n",
        "\\right)\n",
        "&=\n",
        "\\cancelto{0}{\\left( -F\\right) \\Delta t\n",
        "+\n",
        "\\left( +F\\right) \\Delta t}&\\\\\n",
        "m_1 v_1'+ m_2 v_2' &= m_1 v_1 + m_2 v_2&\n",
        "\\end{align*}\n",
        "最後の式から\n",
        "> 衝突前の運動量の総和と衝突後の運動量の総和は保存する\n",
        "\n",
        "ということができます. この関係式を一般化したものを **運動量保存則** または *運動量保存の法則* と言います.\n",
        "\n",
        ">> **運動量保存則**\n",
        ">>\\begin{align*}\n",
        "m_1 v_1'+ m_2 v_2' &= m_1 v_1 + m_2 v_2&\n",
        "\\end{align*}\n",
        "\n",
        "衝突のにおける力積が, 内力のみで表現できれば, 物体の数が増えても同じ形式で表現でき間ます.\n",
        "\\begin{align*}\n",
        "\\Sigma m_i v_i' &= \\Sigma_j m_j v_j&\n",
        "\\end{align*}"
      ]
    },
    {
      "cell_type": "markdown",
      "metadata": {
        "id": "tiFfSWqwW70e",
        "colab_type": "text"
      },
      "source": [
        "### 運動量保存則の実例"
      ]
    },
    {
      "cell_type": "code",
      "metadata": {
        "id": "sj6bAYwN0rZY",
        "colab_type": "code",
        "cellView": "form",
        "colab": {
          "base_uri": "https://localhost:8080/",
          "height": 336
        },
        "outputId": "a3a01f9d-991b-4292-b672-1e2ec24cbda5"
      },
      "source": [
        "#@title 宇宙ステーション: 運動量保存則\n",
        "%%html\n",
        "<iframe width=\"560\" height=\"315\" src=\"https://www.youtube-nocookie.com/embed/4IYDb6K5UF8\" frameborder=\"0\" allow=\"accelerometer; autoplay; encrypted-media; gyroscope; picture-in-picture\" allowfullscreen></iframe>"
      ],
      "execution_count": null,
      "outputs": [
        {
          "output_type": "display_data",
          "data": {
            "text/html": [
              "<iframe width=\"560\" height=\"315\" src=\"https://www.youtube-nocookie.com/embed/4IYDb6K5UF8\" frameborder=\"0\" allow=\"accelerometer; autoplay; encrypted-media; gyroscope; picture-in-picture\" allowfullscreen></iframe>"
            ],
            "text/plain": [
              "<IPython.core.display.HTML object>"
            ]
          },
          "metadata": {
            "tags": []
          }
        }
      ]
    },
    {
      "cell_type": "code",
      "metadata": {
        "id": "Ql4EgR9j0_ET",
        "colab_type": "code",
        "cellView": "form",
        "colab": {
          "base_uri": "https://localhost:8080/",
          "height": 336
        },
        "outputId": "7c6a99df-34f2-4368-ff9d-43d93ecd4ae9"
      },
      "source": [
        "#@title 地上での一次元の運動量保存則(同一質量)\n",
        "%%html\n",
        "<iframe width=\"560\" height=\"315\" src=\"https://www.youtube-nocookie.com/embed/jRliH0jVilM\" frameborder=\"0\" allow=\"accelerometer; autoplay; encrypted-media; gyroscope; picture-in-picture\" allowfullscreen></iframe>"
      ],
      "execution_count": null,
      "outputs": [
        {
          "output_type": "display_data",
          "data": {
            "text/html": [
              "<iframe width=\"560\" height=\"315\" src=\"https://www.youtube-nocookie.com/embed/jRliH0jVilM\" frameborder=\"0\" allow=\"accelerometer; autoplay; encrypted-media; gyroscope; picture-in-picture\" allowfullscreen></iframe>"
            ],
            "text/plain": [
              "<IPython.core.display.HTML object>"
            ]
          },
          "metadata": {
            "tags": []
          }
        }
      ]
    },
    {
      "cell_type": "code",
      "metadata": {
        "id": "xQ01h5ifCXqd",
        "colab_type": "code",
        "cellView": "form",
        "colab": {
          "base_uri": "https://localhost:8080/",
          "height": 336
        },
        "outputId": "86b06ed4-b9ea-4911-e008-fc64d45c68f2"
      },
      "source": [
        "#@title 同じ質量の二つの物体の衝突: 一次元\n",
        "%%html\n",
        "<iframe width=\"560\" height=\"315\" src=\"https://www.youtube-nocookie.com/embed/w2zQJ8JMlBA?start=115\" frameborder=\"0\" allow=\"accelerometer; autoplay; encrypted-media; gyroscope; picture-in-picture\" allowfullscreen></iframe>\n"
      ],
      "execution_count": null,
      "outputs": [
        {
          "output_type": "display_data",
          "data": {
            "text/html": [
              "<iframe width=\"560\" height=\"315\" src=\"https://www.youtube-nocookie.com/embed/w2zQJ8JMlBA?start=115\" frameborder=\"0\" allow=\"accelerometer; autoplay; encrypted-media; gyroscope; picture-in-picture\" allowfullscreen></iframe>"
            ],
            "text/plain": [
              "<IPython.core.display.HTML object>"
            ]
          },
          "metadata": {
            "tags": []
          }
        }
      ]
    },
    {
      "cell_type": "code",
      "metadata": {
        "id": "f15rKMb4G_AP",
        "colab_type": "code",
        "cellView": "form",
        "colab": {
          "base_uri": "https://localhost:8080/",
          "height": 336
        },
        "outputId": "276dd749-d2fd-428e-b5e8-b483f94ad18a"
      },
      "source": [
        "#@title 静から動: 運動量保存則\n",
        "%%html\n",
        "<iframe width=\"560\" height=\"315\" src=\"https://www.youtube-nocookie.com/embed/Kf0bBxmNeec?start=99\" frameborder=\"0\" allow=\"accelerometer; autoplay; encrypted-media; gyroscope; picture-in-picture\" allowfullscreen></iframe>"
      ],
      "execution_count": null,
      "outputs": [
        {
          "output_type": "display_data",
          "data": {
            "text/html": [
              "<iframe width=\"560\" height=\"315\" src=\"https://www.youtube-nocookie.com/embed/Kf0bBxmNeec?start=99\" frameborder=\"0\" allow=\"accelerometer; autoplay; encrypted-media; gyroscope; picture-in-picture\" allowfullscreen></iframe>"
            ],
            "text/plain": [
              "<IPython.core.display.HTML object>"
            ]
          },
          "metadata": {
            "tags": []
          }
        }
      ]
    },
    {
      "cell_type": "code",
      "metadata": {
        "id": "F_xyhPmhMCkb",
        "colab_type": "code",
        "cellView": "form",
        "colab": {
          "base_uri": "https://localhost:8080/",
          "height": 336
        },
        "outputId": "195ae2e1-9b08-45d5-85be-f614294ac0dd"
      },
      "source": [
        "#@title 猟銃の反動: 運動量保存則\n",
        "%%html\n",
        "<iframe width=\"560\" height=\"315\" src=\"https://www.youtube-nocookie.com/embed/APA_lsOcA4s?start=99\" frameborder=\"0\" allow=\"accelerometer; autoplay; encrypted-media; gyroscope; picture-in-picture\" allowfullscreen></iframe>"
      ],
      "execution_count": null,
      "outputs": [
        {
          "output_type": "display_data",
          "data": {
            "text/html": [
              "<iframe width=\"560\" height=\"315\" src=\"https://www.youtube-nocookie.com/embed/APA_lsOcA4s?start=99\" frameborder=\"0\" allow=\"accelerometer; autoplay; encrypted-media; gyroscope; picture-in-picture\" allowfullscreen></iframe>"
            ],
            "text/plain": [
              "<IPython.core.display.HTML object>"
            ]
          },
          "metadata": {
            "tags": []
          }
        }
      ]
    },
    {
      "cell_type": "code",
      "metadata": {
        "id": "5mu-jlMiJFlK",
        "colab_type": "code",
        "cellView": "form",
        "colab": {
          "base_uri": "https://localhost:8080/",
          "height": 336
        },
        "outputId": "c2d19dd1-f1d3-435a-af73-b6189e2b51d1"
      },
      "source": [
        "#@title ロケットへの応用: 運動量保存則\n",
        "%%html\n",
        "<iframe width=\"560\" height=\"315\" src=\"https://www.youtube-nocookie.com/embed/twcVymNjYwU?start=1070\" frameborder=\"0\" allow=\"accelerometer; autoplay; encrypted-media; gyroscope; picture-in-picture\" allowfullscreen></iframe>"
      ],
      "execution_count": null,
      "outputs": [
        {
          "output_type": "display_data",
          "data": {
            "text/html": [
              "<iframe width=\"560\" height=\"315\" src=\"https://www.youtube-nocookie.com/embed/twcVymNjYwU?start=1070\" frameborder=\"0\" allow=\"accelerometer; autoplay; encrypted-media; gyroscope; picture-in-picture\" allowfullscreen></iframe>"
            ],
            "text/plain": [
              "<IPython.core.display.HTML object>"
            ]
          },
          "metadata": {
            "tags": []
          }
        }
      ]
    },
    {
      "cell_type": "markdown",
      "metadata": {
        "id": "7atCA7zZi7YC",
        "colab_type": "text"
      },
      "source": [
        "> Q. 例題 1.16 に取り組んでください."
      ]
    }
  ]
}